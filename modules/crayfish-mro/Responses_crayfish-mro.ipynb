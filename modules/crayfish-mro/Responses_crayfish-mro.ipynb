{
 "cells": [
  {
   "cell_type": "markdown",
   "id": "2bcea47c-bd58-4eac-b259-f43405e8982d",
   "metadata": {},
   "source": [
    "# Responses\n",
    "\n",
    "<a href=\"https://colab.research.google.com/github/neurologic/Neurophysiology-Lab/blob/main/modules/crayfish-mro/Responses_crayfish-mro.ipynb\" target=\"_blank\"><img alt=\"Open In Colab\" src=\"https://colab.research.google.com/assets/colab-badge.svg\"/></a>   \n",
    "\n",
    "  \n",
    "For all prompts, make sure to include all components that are required. For any of the prompts, you can of course also include anything else that you noticed or wondered that adds to the report of your results. \n",
    "\n",
    "If you split any of the data processing workload, make sure to report who analyzed what part of the data."
   ]
  },
  {
   "cell_type": "markdown",
   "id": "513c0ad9-f856-46a3-9a79-9bb0ca01811c",
   "metadata": {},
   "source": [
    "***Your Name:***"
   ]
  },
  {
   "cell_type": "markdown",
   "id": "21af1be8-9543-45b6-bb5a-7ef95cf59bca",
   "metadata": {},
   "source": [
    "## Prompt 1: Progressive Step Experiment\n",
    "(10 points)\n",
    "\n",
    "**Create Figure 1** with the following panels: \n",
    "- **A**) Example MRO action potential from the raw data (zoomed in and with an appropriate aspect ration of height:width to see the waveform shape). Use the ***Dash Data Explorer*** to visualize a single spike.\n",
    "- **B**) Example stimulus signal and associated MRO raw data with the time of spiking events overlaid on the raw data as a scatter (created using the ***Part I: Figure plotting tool 1***). Include about 1 sec before stretch onset and the first 4 sec of the stretch. Select a condition with a low enough spike rate to discern individual spikes given this time range. \n",
    "- **C**) Example stimulus signal and associated MRO spike rate response from one condition with all three trials overlaid (created using the ***Part II: Figure plotting tool 2***). Include about 2 sec before stretch onset and about 3 sec after stretch offset. On the plot, annotate the average **peak rate** and **steady state rate** for this condition (from the \"fit\" data that you obtained using the ***Part III: Analysis tool 1 (fitting an exponential model)***. \n",
    "\n",
    "**Create Figure 2** with the following panels\n",
    "- **C**) A scatter plot (created using the ***Part IV: Analysis plotting tool 1***) of **(m1 + m2 + c)**, and **c** across conditions.     \n",
    "- **D**) A scatter plot (created using the ***Part IV: Analysis plotting tool 1***) of **tau1** and **tau2** across conditions.  \n",
    "- **E**) The scatter plot created using the ***Part IV: Analysis plotting tool 2*** that shows the relationships among several spiking response parameters. \n",
    "\n",
    "**Write a caption** to the figure that includes:  \n",
    "- A description for each figure including all information needed to assess your reported results in each panel.\n",
    "    > For example, in Figure 1A, you would include that the spike times (red) were determined by detecting peaks that were greater than the lower threshold (green), but lower than the upper threshold (orange). \n",
    "- A conclusion about which spike rate response parameters encode (provide information about) MRO stretch.\n",
    "- Report the mean ***within each condition*** for the parameters that encode MRO stretch (there will not be enough samples in each condition to report variance).\n",
    "- A conclusion about which spike rate response parameters do not encode MRO stretch. \n",
    "- Report the mean and variance ***across all conditions*** for the parameters that do not encode MRO stretch."
   ]
  },
  {
   "cell_type": "markdown",
   "id": "169cbfbd-3db7-4c50-ad26-5303d560b4d9",
   "metadata": {},
   "source": [
    "...\n",
    "\n",
    "Insert your figure to accompany the text by replacing the \"id\" in the link below with your google drive share link id \n",
    "\n",
    "<img src='https://drive.google.com/uc?id=1WoAa-oMOkAj9r9lyls4nLSLyIeuTu4Ae' width=\"300\" >"
   ]
  },
  {
   "cell_type": "markdown",
   "id": "f7fa1637-2fd2-4e56-add1-64108e20fbc7",
   "metadata": {},
   "source": [
    "## Prompt 2: Experimental Exploration\n",
    "(5 points)\n",
    "\n",
    "**Create a Figure** with the following panels:\n",
    "- Sample data for two conditions that you tested.\n",
    "- Scatter plot(s) of some feature(s) that you focused your analysis on (created using either the ***Part IV: Analysis plotting tool 1*** or your own program of choice).\n",
    "\n",
    "**Write a caption** to the figure that includes:  \n",
    "- A description for each figure panel including all information needed to assess your reported results. \n",
    "- Any quantatative summaries (mean, variance, etc) for results that you want to highlight.\n",
    "- A qualitative description of your results."
   ]
  },
  {
   "cell_type": "markdown",
   "id": "0784efc2-7170-4031-bd7b-186c3d8b273b",
   "metadata": {},
   "source": [
    "...\n",
    "\n",
    "Insert your figure to accompany the text by replacing the \"id\" in the link below with your google drive share link id \n",
    "\n",
    "<img src='https://drive.google.com/uc?id=1WoAa-oMOkAj9r9lyls4nLSLyIeuTu4Ae' width=\"300\" >"
   ]
  },
  {
   "cell_type": "code",
   "execution_count": null,
   "id": "c6f6a8c4-3e73-410e-a93c-6747537515b6",
   "metadata": {},
   "outputs": [],
   "source": []
  }
 ],
 "metadata": {
  "kernelspec": {
   "display_name": "Python 3 (ipykernel)",
   "language": "python",
   "name": "python3"
  },
  "language_info": {
   "codemirror_mode": {
    "name": "ipython",
    "version": 3
   },
   "file_extension": ".py",
   "mimetype": "text/x-python",
   "name": "python",
   "nbconvert_exporter": "python",
   "pygments_lexer": "ipython3",
   "version": "3.8.13"
  },
  "widgets": {
   "application/vnd.jupyter.widget-state+json": {
    "state": {},
    "version_major": 2,
    "version_minor": 0
   }
  }
 },
 "nbformat": 4,
 "nbformat_minor": 5
}
