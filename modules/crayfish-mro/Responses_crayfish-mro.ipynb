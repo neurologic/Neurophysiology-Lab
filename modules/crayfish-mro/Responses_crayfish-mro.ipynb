{
 "cells": [
  {
   "cell_type": "markdown",
   "id": "2bcea47c-bd58-4eac-b259-f43405e8982d",
   "metadata": {},
   "source": [
    "# Responses\n",
    "\n",
    "<a href=\"https://colab.research.google.com/github/neurologic/Neurophysiology-Lab/blob/main/modules/crayfish-mro/Responses_crayfish-mro.ipynb\" target=\"_blank\"><img alt=\"Open In Colab\" src=\"https://colab.research.google.com/assets/colab-badge.svg\"/></a>   \n",
    "\n",
    "  \n",
    "For all prompts, make sure to include all components that are required. For any of the prompts, you can of course also include anything else that you noticed or wondered that adds to the report of your results. \n",
    "\n",
    "If you split any of the data processing workload, make sure to report who analyzed what part of the data."
   ]
  },
  {
   "cell_type": "markdown",
   "id": "513c0ad9-f856-46a3-9a79-9bb0ca01811c",
   "metadata": {},
   "source": [
    "***Your Name:***"
   ]
  },
  {
   "cell_type": "markdown",
   "id": "21af1be8-9543-45b6-bb5a-7ef95cf59bca",
   "metadata": {},
   "source": [
    "## Prompt 1: Progressive Step Experiment\n",
    "\n",
    "**Create a Figure** with the following panels:  \n",
    "- **A**) Example data from one condition with all three trials overlaid (created using processed data plotting tool 1)\n",
    "- **B**) A \"point plot\" (created using analysis plotting tool 1) of 'm1','m2', and 'c' across conditions.     \n",
    "- **C**) A \"point plot\" (created using analysis plotting tool 1) of 'tau1' and 'tau2' across conditions.  \n",
    "- **D**) A \"scatter plot\" (created using analysis plotting tool 2) of the relationships among parameters. \n",
    "\n",
    "**Write a caption** to the figure that includes:  \n",
    "- A description (ie. legend) for each figure panel including all information needed to assess your reported results    "
   ]
  },
  {
   "cell_type": "markdown",
   "id": "169cbfbd-3db7-4c50-ad26-5303d560b4d9",
   "metadata": {},
   "source": [
    "...\n",
    "\n",
    "Insert your figure to accompany the text by replacing the \"id\" in the link below with your google drive share link id \n",
    "\n",
    "<img src='https://drive.google.com/uc?id=1WoAa-oMOkAj9r9lyls4nLSLyIeuTu4Ae' width=\"300\" >"
   ]
  },
  {
   "cell_type": "markdown",
   "id": "f7fa1637-2fd2-4e56-add1-64108e20fbc7",
   "metadata": {},
   "source": [
    "## Prompt 2: Experimental Exploration"
   ]
  },
  {
   "cell_type": "markdown",
   "id": "0784efc2-7170-4031-bd7b-186c3d8b273b",
   "metadata": {},
   "source": [
    "...\n",
    "\n",
    "Insert your figure to accompany the text by replacing the \"id\" in the link below with your google drive share link id \n",
    "\n",
    "<img src='https://drive.google.com/uc?id=1WoAa-oMOkAj9r9lyls4nLSLyIeuTu4Ae' width=\"300\" >"
   ]
  },
  {
   "cell_type": "code",
   "execution_count": null,
   "id": "c6f6a8c4-3e73-410e-a93c-6747537515b6",
   "metadata": {},
   "outputs": [],
   "source": []
  }
 ],
 "metadata": {
  "kernelspec": {
   "display_name": "Python 3 (ipykernel)",
   "language": "python",
   "name": "python3"
  },
  "language_info": {
   "codemirror_mode": {
    "name": "ipython",
    "version": 3
   },
   "file_extension": ".py",
   "mimetype": "text/x-python",
   "name": "python",
   "nbconvert_exporter": "python",
   "pygments_lexer": "ipython3",
   "version": "3.8.13"
  },
  "widgets": {
   "application/vnd.jupyter.widget-state+json": {
    "state": {},
    "version_major": 2,
    "version_minor": 0
   }
  }
 },
 "nbformat": 4,
 "nbformat_minor": 5
}
