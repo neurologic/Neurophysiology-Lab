{
 "cells": [
  {
   "cell_type": "markdown",
   "id": "32647951-7dcf-4553-b42a-5d8508d95cf9",
   "metadata": {},
   "source": [
    "<a href=\"https://colab.research.google.com/github/neurologic/Neurophysiology-Lab/blob/main/week-5/Sensory-Coding-MRO.ipynb\" target=\"_blank\" rel=\"noopener noreferrer\"><img alt=\"Open In Colab\" src=\"https://colab.research.google.com/assets/colab-badge.svg\"/></a>   "
   ]
  },
  {
   "cell_type": "markdown",
   "id": "a7cca888-26cc-4193-940f-e815ef545985",
   "metadata": {},
   "source": [
    "<a id=\"toc\"></a>\n",
    "# Table of Contents\n",
    "\n",
    "- [Introduction](#intro)\n",
    "- [Setup](#setup)\n",
    "- [Event Detection](#one)\n",
    "- [Trial-Based Analysis](#two)\n"
   ]
  },
  {
   "cell_type": "markdown",
   "id": "38b445ff-7cf7-442e-bb25-83afe6d5a3fb",
   "metadata": {},
   "source": [
    "<a id=\"intro\"></a>\n",
    "# Sensory Coding - MROs\n",
    "\n",
    "There are two MROs innervating the deep flexor muscles, which can be distinguished based on spike height and shape. \n",
    "\n",
    "What are the dynamic properties of MRO sensory responses? In this notebook, you will process, analyze, and model MRO sensory responses."
   ]
  },
  {
   "cell_type": "markdown",
   "id": "bca77a61-a58c-4180-a753-0a09799ffc43",
   "metadata": {},
   "source": [
    "<a id=\"setup\"></a>\n",
    "# Setup\n",
    "\n",
    "[toc](#toc)"
   ]
  },
  {
   "cell_type": "markdown",
   "id": "f6451be8-14e0-4a4a-beef-05a39fef25cc",
   "metadata": {},
   "source": [
    "Import and define functions"
   ]
  },
  {
   "cell_type": "code",
   "execution_count": 2,
   "id": "c5af8a56-1984-47ad-b052-542d92753dac",
   "metadata": {
    "tags": [
     "hide-input"
    ]
   },
   "outputs": [
    {
     "name": "stdout",
     "output_type": "stream",
     "text": [
      "Task completed at 2022-08-26 19:34:51.407427-05:00\n"
     ]
    }
   ],
   "source": [
    "#@title {display-mode: \"form\" }\n",
    "\n",
    "#@markdown Run this code cell to import packages and define functions \n",
    "import numpy as np\n",
    "import pandas as pd\n",
    "import plotly.express as px\n",
    "import plotly.graph_objects as go\n",
    "from plotly.subplots import make_subplots\n",
    "from scipy import ndimage\n",
    "from scipy.signal import hilbert,medfilt,resample, find_peaks, unit_impulse\n",
    "import seaborn as sns\n",
    "from datetime import datetime,timezone,timedelta\n",
    "pal = sns.color_palette(n_colors=15)\n",
    "pal = pal.as_hex()\n",
    "import matplotlib.pyplot as plt\n",
    "import random\n",
    "\n",
    "from pathlib import Path\n",
    "\n",
    "from matplotlib.ticker import (AutoMinorLocator, MultipleLocator)\n",
    "from ipywidgets import widgets, interact\n",
    "%config InlineBackend.figure_format = 'retina'\n",
    "plt.style.use(\"https://raw.githubusercontent.com/NeuromatchAcademy/course-content/master/nma.mplstyle\")\n",
    "\n",
    "print('Task completed at ' + str(datetime.now(timezone(-timedelta(hours=5)))))"
   ]
  },
  {
   "cell_type": "markdown",
   "id": "6df664ef-8a04-4c3a-97d6-cf590dbdddb4",
   "metadata": {},
   "source": [
    "Mount Google Drive"
   ]
  },
  {
   "cell_type": "code",
   "execution_count": null,
   "id": "f996e271-4681-4589-9f5f-926feecae1f7",
   "metadata": {
    "tags": [
     "hide-input"
    ]
   },
   "outputs": [],
   "source": [
    "#@title {display-mode: \"form\" }\n",
    "\n",
    "#@markdown Run this cell to mount your Google Drive.\n",
    "\n",
    "from google.colab import drive\n",
    "drive.mount('/content/drive')\n",
    "\n",
    "print('Task completed at ' + str(datetime.now(timezone(-timedelta(hours=5)))))"
   ]
  },
  {
   "cell_type": "markdown",
   "id": "bb73c1c0-abe6-43b9-a286-6e7f2d64146d",
   "metadata": {},
   "source": [
    "## Import data \n",
    "\n",
    "Import data digitized with *Nidaq USB6211* and recorded using *Bonsai-rx* as a *.bin* file\n",
    "\n",
    "If you would like sample this Data Explorer, but do not have data, you can download [an example of an increasing step protocol](https://drive.google.com/file/d/1mB2hO60z0HTRsh-IsMOvaCz8YvHGPWoO/view?usp=sharing), [an example of a regular step (variable baseline) protocol](https://drive.google.com/file/d/1B1AdQyUyn-Tu5UAnpxYy9_qodpJzmgPj/view?usp=sharing) and [an example of a continuous bend protocol](https://drive.google.com/file/d/10ZVqZvj8SNA7WEhWmf-yVgn86TqTSJbq/view?usp=sharing). After downloading, you can upload the file directly to Google Colab (or access the file through Drive after uploading it to your Drive). If you are using this example file, the sample rate was 30000 on two channels (channel 0 was the MRO signal and channel 1 was the stimulus monitor). The stimulus is a PWM signal to a servo motor to bend the tail. The recording was taken with the photographed preparation in the lab manual. "
   ]
  },
  {
   "cell_type": "code",
   "execution_count": 3,
   "id": "58932f48-c121-490d-aea5-6c93d04b7026",
   "metadata": {
    "tags": [
     "hide-input"
    ]
   },
   "outputs": [
    {
     "name": "stdout",
     "output_type": "stream",
     "text": [
      "duration of recording was 301.50 seconds\n",
      "Data upload completed at 2022-08-26 19:34:56.448644-05:00\n"
     ]
    }
   ],
   "source": [
    "#@title {display-mode: \"form\" }\n",
    "\n",
    "#@markdown Specify the file path \n",
    "#@markdown to your recorded data on Drive (find the filepath in the colab file manager:\n",
    "\n",
    "filepath = \"full filepath goes here\"  #@param \n",
    "filepath = '/Volumes/Untitled 1/BIOL247/data/crayfish-mro/mro_steps_0.bin'  #@param \n",
    "\n",
    "#@markdown Specify the sampling rate and number of channels recorded.\n",
    "\n",
    "sampling_rate = 30000 #@param\n",
    "number_channels = 2 #@param\n",
    "\n",
    "downsample = False #@param\n",
    "newfs = 10000 #@param\n",
    "\n",
    "#@markdown After you have filled out all form fields, \n",
    "#@markdown run this code cell to load the data. \n",
    "\n",
    "filepath = Path(filepath)\n",
    "\n",
    "# No need to edit below this line\n",
    "#################################\n",
    "data = np.fromfile(Path(filepath), dtype = np.float64)\n",
    "data = data.reshape(-1,number_channels)\n",
    "data_dur = np.shape(data)[0]/sampling_rate\n",
    "print('duration of recording was %0.2f seconds' %data_dur)\n",
    "\n",
    "fs = sampling_rate\n",
    "if downsample:\n",
    "    # newfs = 10000 #downsample emg data\n",
    "    chunksize = int(sampling_rate/newfs)\n",
    "    data = data[0::chunksize,:]\n",
    "    fs = int(np.shape(data)[0]/data_dur)\n",
    "\n",
    "time = np.linspace(0,data_dur,np.shape(data)[0])\n",
    "\n",
    "print('Data upload completed at ' + str(datetime.now(timezone(-timedelta(hours=5)))))"
   ]
  },
  {
   "cell_type": "code",
   "execution_count": 4,
   "id": "3c287f05-5303-4da3-8487-9364b83b50ec",
   "metadata": {
    "tags": [
     "hide-input"
    ]
   },
   "outputs": [
    {
     "data": {
      "application/vnd.jupyter.widget-view+json": {
       "model_id": "60201265a17f415b9ce871bbf608fb74",
       "version_major": 2,
       "version_minor": 0
      },
      "text/plain": [
       "interactive(children=(FloatRangeSlider(value=(0.0, 1.0), continuous_update=False, description='Time Range (s)'…"
      ]
     },
     "metadata": {},
     "output_type": "display_data"
    }
   ],
   "source": [
    "#@title {display-mode: \"form\"}\n",
    "\n",
    "#@markdown Run this code cell to plot imported data. <br> \n",
    "#@markdown Use the range slider to scroll through the data in time.\n",
    "#@markdown Use the channel slider to choose which channel to plot\n",
    "#@markdown Be patient with the range refresh... the more data you are plotting the slower it will be. \n",
    "\n",
    "slider_xrange = widgets.FloatRangeSlider(\n",
    "    min=0,\n",
    "    max=data_dur,\n",
    "    value=(0,1),\n",
    "    step= 1,\n",
    "    readout=True,\n",
    "    continuous_update=False,\n",
    "    description='Time Range (s)')\n",
    "slider_xrange.layout.width = '600px'\n",
    "\n",
    "slider_chan = widgets.IntSlider(\n",
    "    min=0,\n",
    "    max=number_channels-1,\n",
    "    value=0,\n",
    "    step= 1,\n",
    "    continuous_update=False,\n",
    "    description='channel')\n",
    "slider_chan.layout.width = '300px'\n",
    "\n",
    "# a function that will modify the xaxis range\n",
    "def update_plot(x,chan):\n",
    "    fig, ax = plt.subplots(figsize=(10,5),num=1); #specify figure number so that it does not keep creating new ones\n",
    "    starti = int(x[0]*fs)\n",
    "    stopi = int(x[1]*fs)\n",
    "    ax.plot(time[starti:stopi], data[starti:stopi,chan])\n",
    "\n",
    "w = interact(update_plot, x=slider_xrange, chan=slider_chan);"
   ]
  },
  {
   "cell_type": "markdown",
   "id": "cc32dd63-5f51-4939-9d3e-c1ffbaaba9ea",
   "metadata": {},
   "source": [
    "For a more extensive ***RAW*** Data Explorer than the one provided in the above figure, use the [DataExplorer.py](https://raw.githubusercontent.com/neurologic/Neurophysiology-Lab/main/howto/Data-Explorer.py) application found in the [howto section](https://neurologic.github.io/Neurophysiology-Lab/howto/Dash-Data-Explorer.html) of the course website."
   ]
  },
  {
   "cell_type": "markdown",
   "id": "7ed9ac4b-f78f-4ff0-aa4e-8262da1c3a6f",
   "metadata": {},
   "source": [
    "<a id=\"one\"></a>\n",
    "# Part I. Event Detection\n",
    "\n",
    "Python has built-in algorithms for detecting \"peaks\" in a signal. However, it will detect *all* peaks. Therefore, the function takes in arguments that specify parameters for minimum height that can count as a peak and a minimum acceptible interval between independent peaks. \n",
    "\n",
    "First, we will detect all the peaks on the MRO nerve channel. This will give the time of each *peak above threshold* (putative MRO spikes).  "
   ]
  },
  {
   "cell_type": "code",
   "execution_count": 5,
   "id": "3b32de6e-fcae-42bb-96a3-8f1f41c7bd8d",
   "metadata": {
    "tags": [
     "hide-input"
    ]
   },
   "outputs": [
    {
     "data": {
      "application/vnd.jupyter.widget-view+json": {
       "model_id": "5a29d37e2c4e44cb8a17e614f033386f",
       "version_major": 2,
       "version_minor": 0
      },
      "text/plain": [
       "interactive(children=(FloatRangeSlider(value=(0.0, 1.0), continuous_update=False, description='Time Range (s)'…"
      ]
     },
     "metadata": {},
     "output_type": "display_data"
    }
   ],
   "source": [
    "#@title {display-mode: \"form\"}\n",
    "\n",
    "#@markdown Fill in this form. Decide on the peak detection threshold. \n",
    "#@markdown Choose which channel you want to use for event detection.\n",
    "#@markdown Indicate the polarity of the threshold: upward (1) or downward (-1) peaks\n",
    "\n",
    "channel = 0 #@param\n",
    "detection_threshold = 0.3 #@param\n",
    "polarity = 1 #@param\n",
    "\n",
    "#@markdown Then, run the code cell to detect peaks (events) and plot the signal\n",
    "#@markdown overlaid with a scatter of trial times detected using your threshold. \n",
    "\n",
    "d = 0.0003*fs #minimum time allowed between distinct events\n",
    "r = find_peaks(data[:,channel]*polarity,height=detection_threshold*polarity,distance=d)\n",
    "\n",
    "trial_times = r[0]/fs\n",
    "event_amp = r[1]['peak_heights']\n",
    "    \n",
    "slider = widgets.FloatRangeSlider(\n",
    "    min=0,\n",
    "    max=data_dur,\n",
    "    value=(0,1),\n",
    "    step= 0.5,\n",
    "    readout=False,\n",
    "    continuous_update=False,\n",
    "    description='Time Range (s)')\n",
    "slider.layout.width = '800px'\n",
    "\n",
    "# a function that will modify the xaxis range\n",
    "def update_plot(x):\n",
    "    fig, ax = plt.subplots(figsize=(10,5),num=1); #specify figure number so that it does not keep creating new ones\n",
    "    starti = int(x[0]*fs)\n",
    "    stopi = int(x[1]*fs)\n",
    "    ax.plot(time[starti:stopi], data[starti:stopi,channel])\n",
    "    ax.scatter(trial_times[(trial_times>x[0]) & (trial_times<x[1])],\n",
    "               [np.median(data[:,channel])] * len(trial_times[(trial_times>x[0]) & (trial_times<x[1])]),\n",
    "              zorder=3,color='black',s=50)\n",
    "\n",
    "w = interact(update_plot, x=slider);"
   ]
  },
  {
   "cell_type": "markdown",
   "id": "fdce3dd9-e5c4-4979-a133-b9e82b6a234f",
   "metadata": {},
   "source": [
    "Once you know the times of each peak (each event), we can look at the signal triggered off of those events. To do this, we plot the signal at the event time and some duration before and after that peak. \n",
    "\n",
    "> Note: If you do not think you are detecting enough of the events or if you think you are detecting too much noise, modify your detection threshold and go through the detection steps in Part I again."
   ]
  },
  {
   "cell_type": "markdown",
   "id": "b00e4ecd-668f-4abf-a5ca-800b652a2f0c",
   "metadata": {},
   "source": [
    "<a id=\"two\"></a>\n",
    "# Part II. Stimulus Processing\n",
    "\n",
    "A servo motor is controlled by a [*pulse width modulated*](https://learn.sparkfun.com/tutorials/pulse-width-modulation/all) signal. To get a continuous readout of the position command to the servo motor, we need to process the stimulus monitor signal. "
   ]
  },
  {
   "cell_type": "code",
   "execution_count": 45,
   "id": "6b995354-10d9-46e3-a016-f04401fd700d",
   "metadata": {},
   "outputs": [],
   "source": [
    "w = 700\n",
    "pwm = np.convolve(data[:,channel_], np.ones(w)/w, mode='full')"
   ]
  },
  {
   "cell_type": "code",
   "execution_count": 46,
   "id": "82a37f35-c32e-48dc-98d5-509a76de8974",
   "metadata": {},
   "outputs": [
    {
     "data": {
      "text/plain": [
       "[<matplotlib.lines.Line2D at 0x7fd91cf48190>]"
      ]
     },
     "execution_count": 46,
     "metadata": {},
     "output_type": "execute_result"
    },
    {
     "data": {
      "image/png": "[encoded data removed]",
      "text/plain": [
       "<Figure size 576x432 with 1 Axes>"
      ]
     },
     "metadata": {
      "image/png": {
       "height": 413,
       "width": 558
      },
      "needs_background": "light"
     },
     "output_type": "display_data"
    }
   ],
   "source": [
    "plt.plot(pwm)"
   ]
  },
  {
   "cell_type": "markdown",
   "id": "73b04ed4-736f-465a-a45e-91a5f8c32c35",
   "metadata": {},
   "source": [
    "<a id=\"thress\"></a>\n",
    "# Part III. Trial-Based Analysis"
   ]
  },
  {
   "cell_type": "code",
   "execution_count": null,
   "id": "d5399c71-b8dd-4653-ab07-b479c46d7139",
   "metadata": {
    "tags": [
     "hide-input"
    ]
   },
   "outputs": [],
   "source": [
    "#@title {display-mode: \"form\"}\n",
    "\n",
    "#@markdown Run this cell to create an interactive plot with a slider to scroll \n",
    "#@markdown through data on each channel for individual trials.\n",
    "#@markdown The stimulus amplitude will be printed for each trial. \n",
    "\n",
    "slider_xrange = widgets.FloatSlider(\n",
    "    min=2,\n",
    "    max=40,\n",
    "    value=10,\n",
    "    step=0.5,\n",
    "    continuous_update=False,\n",
    "    readout=False,\n",
    "    description='xrange (ms)'\n",
    ")\n",
    "slider_xrange.layout.width = '600px'\n",
    "\n",
    "slider_yrange = widgets.FloatRangeSlider(\n",
    "    min=np.min(np.min(data)),\n",
    "    max=np.max(np.max(data)),\n",
    "    value=[np.min(np.min(data)),np.max(np.max(data))],\n",
    "    step=0.01,\n",
    "    continuous_update=False,\n",
    "    readout=False,\n",
    "    description='yrange'\n",
    ")\n",
    "slider_yrange.layout.width = '600px'\n",
    "\n",
    "slider_trial = widgets.IntSlider(\n",
    "    min=0,\n",
    "    max=len(trial_times)-1,\n",
    "    value=0,\n",
    "    step= 1,\n",
    "    continuous_update=False,\n",
    "    readout=False,\n",
    "    description='trial')\n",
    "slider_trial.layout.width = '600px'\n",
    "\n",
    "slider_chan = widgets.IntSlider(\n",
    "    min=0,\n",
    "    max=number_channels-1,\n",
    "    value=0,\n",
    "    step= 1,\n",
    "    continuous_update=False,\n",
    "    readout=False,\n",
    "    description='channel')\n",
    "slider_chan.layout.width = '300px'\n",
    "\n",
    "label_eventamp = widgets.Label(\n",
    "    value='stimulus amplitude'\n",
    ")\n",
    "label_eventamp.layout.width = '300px'\n",
    "display(label_eventamp)\n",
    "\n",
    "# a function that will modify the xaxis range\n",
    "def update_plot(trial_,chan,xrange,yrange):\n",
    "    fig, ax = plt.subplots(figsize=(10,5),num=1); #specify figure number so that it does not keep creating new ones\n",
    "    \n",
    "    offset_ = 1\n",
    "    win_0 = int(offset_/1000*fs)\n",
    "    win_1 = int(xrange/1000*fs)\n",
    "\n",
    "    events = np.asarray([data[(int(fs*t)-win_0):(int(fs*t)+win_1),chan] for t in trial_times \n",
    "          if (((int(fs*t)-win_0)>0) & ((int(fs*t)+win_1)<np.shape(data)[0]))]).T\n",
    "    xtime = np.linspace(-offset_,xrange,(win_0 + win_1))\n",
    "\n",
    "    ax.plot(xtime,events[:,trial_],color='black',linewidth=3)\n",
    "    ax.set_ylim(yrange[0],yrange[1]);\n",
    "    ax.set_xlabel('milliseconds')\n",
    "    \n",
    "    # Change major ticks to show every 20.\n",
    "    ax.xaxis.set_major_locator(MultipleLocator(5))\n",
    "    # ax.yaxis.set_major_locator(MultipleLocator(20))\n",
    "\n",
    "    # Change minor ticks to show every 5. (20/4 = 5)\n",
    "    ax.xaxis.set_minor_locator(AutoMinorLocator(10))\n",
    "    ax.yaxis.set_minor_locator(AutoMinorLocator(2))\n",
    "\n",
    "    # Turn grid on for both major and minor ticks and style minor slightly\n",
    "    # differently.\n",
    "    ax.grid(which='major', color='gray', linestyle='-')\n",
    "    ax.grid(which='minor', color='gray', linestyle=':')\n",
    "\n",
    "    # print(f'stimulus monitor peak = {event_amp[trial_]}')\n",
    "    label_eventamp.value = 'peak amplitude = ' + str(np.round(event_amp[trial_],4)) + ' Volts'\n",
    "\n",
    "w = interact(update_plot, trial_=slider_trial, chan=slider_chan, xrange=slider_xrange, yrange=slider_yrange);"
   ]
  },
  {
   "cell_type": "code",
   "execution_count": null,
   "id": "94453390-b2ec-4dbb-aa53-87398aa14ed4",
   "metadata": {},
   "outputs": [],
   "source": []
  },
  {
   "cell_type": "markdown",
   "id": "f07451ff-cf56-4763-b4ac-bd099ba1f145",
   "metadata": {},
   "source": [
    "<a id=\"toc\"></a>\n",
    "# Table of Contents\n",
    "\n",
    "- [Introduction](#intro)\n",
    "- [Setup](#setup)\n",
    "- [Part I. Process Data](#one)\n",
    "- [Part II. Analyze Processed Data](#two)\n"
   ]
  },
  {
   "cell_type": "markdown",
   "id": "488d476b-9387-43d7-b4bf-0528d9f4950a",
   "metadata": {},
   "source": [
    "<a id=\"setup\"></a>\n",
    "# Setup\n",
    "\n",
    "[toc](#toc)"
   ]
  },
  {
   "cell_type": "markdown",
   "id": "b94f344a-8c2a-4080-b972-8e7a30c91e66",
   "metadata": {},
   "source": [
    "Import and define functions"
   ]
  },
  {
   "cell_type": "code",
   "execution_count": null,
   "id": "be70dacf-b862-4afa-8fc0-dce8c363fdf9",
   "metadata": {
    "tags": [
     "hide-input"
    ]
   },
   "outputs": [],
   "source": [
    "#@title {display-mode: \"form\"}\n",
    "\n",
    "#@markdown Run this code cell to import packages and define functions \n",
    "from pathlib import Path\n",
    "import random\n",
    "import numpy as np\n",
    "import pandas as pd\n",
    "import plotly.express as px\n",
    "import plotly.graph_objects as go\n",
    "from plotly.subplots import make_subplots\n",
    "from scipy import ndimage, optimize\n",
    "from scipy.signal import hilbert,medfilt,resample, find_peaks\n",
    "import seaborn as sns\n",
    "import matplotlib.pyplot as plt\n",
    "from sklearn.decomposition import PCA\n",
    "from sklearn.cluster import KMeans\n",
    "from datetime import datetime,timezone,timedelta\n",
    "pal = sns.color_palette(n_colors=15)\n",
    "pal = pal.as_hex()\n",
    "\n",
    "from ipywidgets import interactive, HBox, VBox, widgets, interact\n",
    "\n",
    "def monoExp(x, m, t, b):\n",
    "    return m * np.exp(-x / t) + b\n",
    "\n",
    "print('Task completed at ' + str(datetime.now(timezone(-timedelta(hours=5)))))"
   ]
  },
  {
   "cell_type": "markdown",
   "id": "f91a09e1-c305-4809-8302-c1fad4140efa",
   "metadata": {},
   "source": [
    "Mount Google Drive"
   ]
  },
  {
   "cell_type": "code",
   "execution_count": null,
   "id": "2b3a4500-470b-44e3-8572-a0d55f3bc1cb",
   "metadata": {
    "tags": [
     "hide-input"
    ]
   },
   "outputs": [],
   "source": [
    "#@title {display-mode: \"form\"}\n",
    "\n",
    "#@markdown Run this cell to mount your Google Drive.\n",
    "\n",
    "from google.colab import drive\n",
    "drive.mount('/content/drive')\n",
    "\n",
    "print('Task completed at ' + str(datetime.now(timezone(-timedelta(hours=5)))))"
   ]
  },
  {
   "cell_type": "markdown",
   "id": "61aa1776-ad44-4487-ad14-9dfe050de305",
   "metadata": {},
   "source": [
    "Import data digitized with *Nidaq USB6211* and recorded using *Bonsai-rx* as a *.bin* file"
   ]
  },
  {
   "cell_type": "code",
   "execution_count": null,
   "id": "a7152a58-2458-4b02-a680-e40e8b706c95",
   "metadata": {
    "tags": [
     "hide-input"
    ]
   },
   "outputs": [],
   "source": [
    "#@title {display-mode: \"form\"}\n",
    "\n",
    "#@markdown Specify the file path \n",
    "#@markdown to your recorded data on Drive (find the filepath in the colab file manager:\n",
    "\n",
    "filepath = \"full filepath goes here\"  #@param \n",
    "# filepath = \"/Users/kperks/mnt/OneDrive - wesleyan.edu/Teaching/Neurophysiology_FA22/data/20220609/MRO2022-06-09T12_59_19.bin\"\n",
    "\n",
    "#@markdown Specify the sampling rate and number of channels recorded.\n",
    "sampling_rate = None #@param\n",
    "number_channels = None #@param\n",
    "channel_to_process = 0 #@param\n",
    "\n",
    "# sampling_rate = 30000 #@param\n",
    "# number_channels = 1 #@param\n",
    "\n",
    "downsample = False #@param\n",
    "newfs = 10000 #@param\n",
    "\n",
    "#@markdown After you have filled out all form fields, \n",
    "#@markdown run this code cell to load the data. \n",
    "\n",
    "filepath = Path(filepath)\n",
    "\n",
    "# No need to edit below this line\n",
    "#################################\n",
    "data = np.fromfile(Path(filepath), dtype = np.float64)\n",
    "data = data.reshape(-1,number_channels)\n",
    "data = data-data[0,:] # only do this offset adjustment for motor nerve recordings\n",
    "\n",
    "dur = np.shape(data)[0]/sampling_rate\n",
    "print('duration of recording was %0.2f seconds' %dur)\n",
    "\n",
    "fs = sampling_rate\n",
    "if downsample:\n",
    "    # newfs = 2500 #downsample data\n",
    "    chunksize = int(sampling_rate/newfs)\n",
    "    if number_channels>1:\n",
    "        data = data[0::chunksize,:]\n",
    "    if number_channels==1:\n",
    "        data = data[0::chunksize]\n",
    "    fs = int(np.shape(data)[0]/dur)\n",
    "\n",
    "time = np.linspace(0,dur,np.shape(data)[0])\n",
    "\n",
    "if len(np.shape(data))>1:\n",
    "    channel = channel_to_process\n",
    "    channel_signal = data[:,channel]\n",
    "if len(np.shape(data))==1:\n",
    "    channel_signal = data\n",
    "\n",
    "print('Now be a bit patient while it plots.')\n",
    "\n",
    "f = go.FigureWidget(make_subplots(rows=1, cols=1, shared_xaxes= True)) #,layout=go.Layout(height=500, width=800))\n",
    "f.add_trace(go.Scatter(x = time[0:fs], y = channel_signal[0:fs],\n",
    "                             opacity=1),row=1,col=1)\n",
    "\n",
    "f.update_layout(height=600, width=800,\n",
    "                showlegend=False,\n",
    "               xaxis_title=\"time(seconds)\", \n",
    "                  yaxis_title='voltage')\n",
    "\n",
    "slider = widgets.FloatRangeSlider(\n",
    "    min=0,\n",
    "    max=dur,\n",
    "    value=(0,1),\n",
    "    step= 1,\n",
    "    readout=False,\n",
    "    description='Time')\n",
    "slider.layout.width = '600px'\n",
    "\n",
    "# our function that will modify the xaxis range\n",
    "def response(x):\n",
    "    with f.batch_update():\n",
    "        starti = int(x[0]*fs)\n",
    "        stopi = int(x[1]*fs)\n",
    "        f.data[0].x = time[starti:stopi]\n",
    "        f.data[0].y = channel_signal[starti:stopi]\n",
    "\n",
    "vb = VBox((f, interactive(response, x=slider)))\n",
    "vb.layout.align_items = 'center'\n",
    "vb"
   ]
  },
  {
   "cell_type": "markdown",
   "id": "b7b40cda-55dd-4604-afb7-89e5d0731983",
   "metadata": {},
   "source": [
    "<a id=\"one\"></a>\n",
    "\n",
    "# Part I. Process Data\n",
    "\n",
    "[toc](#toc)\n",
    "\n",
    "Decide what portion of the raw data you want to analyze (maybe your data file contains multiple conditions, maybe there was some bad noise during part of your recording, or the nerve was lost before the end of the recording, or you accidentally forgot to stop the recording, etc...). \n",
    "\n",
    "If you want to analyze spiking activity (calculating rate, for example), you could look through your raw data and write down each time you see a spike. \n",
    "\n",
    "There are lots of computational tools for automating this process. Computers can also help you extract patterns from large amounts of data (for example different \"classes\" of spike waveform). In neuroscience research, the process of clustering spiking events based on their amplitude and waveform is termed the \"spike sorting.\"\n",
    "\n",
    "For this dataset, you will proocess the data using the following sequence of steps:\n",
    "\n",
    "1. [Select Data](#select-data)\n",
    "2. [Detect Peaks](#detect-spikes)\n",
    "3. [Cluster Events](#cluster-events)\n",
    "\n",
    "    a. [Kmeans](#kmeans)\n",
    "    \n",
    "    b. [Visualize](#display-clusters)\n",
    "    \n",
    "    c. [Merge Clusters](#merge-clusters)\n",
    "    \n",
    "    d. [Check putative unit identity in raw data](#raw-cluster-scatter)\n",
    " "
   ]
  },
  {
   "cell_type": "markdown",
   "id": "790c075d-0374-4b02-9184-790b4bbbbf61",
   "metadata": {},
   "source": [
    "<a id='select-data'></a>\n",
    "\n",
    "## 1. Select Data\n",
    "\n",
    "Specify the timerange for the data you want to analyze."
   ]
  },
  {
   "cell_type": "code",
   "execution_count": null,
   "id": "edd85ab4-2d89-4332-b7fd-3ad15a7ca289",
   "metadata": {
    "cellView": "form",
    "id": "iE2MylaxTGpL",
    "tags": [
     "hide-input"
    ]
   },
   "outputs": [],
   "source": [
    "#@title { display-mode: \"form\" }\n",
    "\n",
    "#@markdown Type in the start and stop time (in seconds) \n",
    "#@markdown that specifies the section of your recording you want to focus on for analysis.\n",
    "start_time =   None #@param {type: \"number\"}\n",
    "stop_time = None  #@param {type: \"number\"}\n",
    "\n",
    "# start_time =   0 #@param {type: \"number\"}\n",
    "# stop_time = 153  #@param {type: \"number\"}"
   ]
  },
  {
   "cell_type": "markdown",
   "id": "0b822981-388d-4b91-979e-3e7ddf3cc94c",
   "metadata": {},
   "source": [
    "<a id='detect-spikes'></a>\n",
    "\n",
    "## 2. Detect Peaks\n",
    "Detect peaks in the signal\n",
    "\n",
    "First, in the code cell below, write a simple script that:\n",
    "- calculates the standard deviation of voltage in the raw signal using the ```np.std()``` module to store the result as a variable called \"<b>SD</b>\". \n",
    "- uses the ```print()``` function to print the value stored in the variable ```SD``` as an output of the code cell. \n",
    "- calculates the value equal to 5 times the standard deviation and stores the result as a variable called \"<b>threshold</b>\". \n",
    "- uses the ```print()``` function to print the value stored in the variable ```threshold``` as an output of the code cell. "
   ]
  },
  {
   "cell_type": "code",
   "execution_count": null,
   "id": "73ce173e-a7fd-4577-837a-d76845df6a99",
   "metadata": {},
   "outputs": [],
   "source": [
    "..."
   ]
  },
  {
   "cell_type": "markdown",
   "id": "93145b35-d81f-4085-a24f-691e0f8f5dfe",
   "metadata": {},
   "source": [
    "Then use the result to determine a spike detection threshold used by the ```find peaks``` algorithm in the following code cell"
   ]
  },
  {
   "cell_type": "code",
   "execution_count": null,
   "id": "f12a47f3-7a95-4289-adc6-9a3bbc60866f",
   "metadata": {},
   "outputs": [],
   "source": [
    "np.shape([0]*sum(inwin_inds))\n",
    "inwin_inds"
   ]
  },
  {
   "cell_type": "code",
   "execution_count": null,
   "id": "29a96f86-cc03-489d-9971-1943f39b8d3d",
   "metadata": {
    "cellView": "form",
    "id": "iE2MylaxTGpL",
    "tags": [
     "hide-input"
    ]
   },
   "outputs": [],
   "source": [
    "#@title { display-mode: \"form\" }\n",
    "\n",
    "#@markdown Type in the threshold amplitude for event detection determined by your SD calculations.\n",
    "spike_detection_threshold = None  #@param {type: \"number\"}\n",
    "# spike_detection_threshold = 0.1  #@param {type: \"number\"}\n",
    "\n",
    "#@markdown Then from the dropdown, select a polarity (whether peaks are up or down)\n",
    "peaks = \"select peak direction\"  #@param ['select peak direction','up', 'down']\n",
    "# peaks = \"up\"  #@param ['select peak direction','up', 'down']\n",
    "\n",
    "#@markdown Finally, run this cell to set these values and plot a histogram of peak amplitudes.\n",
    "\n",
    "\n",
    "if peaks=='up': polarity = 1\n",
    "if peaks=='down': polarity=-1\n",
    "\n",
    "min_isi = 0.001 #seconds\n",
    "\n",
    "peaks,props = find_peaks(polarity * channel_signal,height=spike_detection_threshold, \n",
    "                         prominence = spike_detection_threshold, distance=int(min_isi*fs))\n",
    "peaks_t = peaks/fs\n",
    "inwin_inds = ((peaks_t>start_time) & (peaks_t<stop_time))\n",
    "df_props = pd.DataFrame({\n",
    "        'height': props['peak_heights'][inwin_inds],\n",
    "        'spikeT' : peaks_t[inwin_inds],\n",
    "        'spikeInd' : peaks[inwin_inds],\n",
    "        'cluster' : [0]*sum(inwin_inds)\n",
    "            })\n",
    "\n",
    "bins = np.linspace(0,np.abs(np.max(polarity*channel_signal)),200)\n",
    "n,_ = np.histogram(df_props['height'],bins = bins) # calculate the histogram\n",
    "hfig,ax = plt.subplots(1)\n",
    "ax.step(bins[1:],n,color='black')\n",
    "ax.set_ylabel('count',fontsize=14)\n",
    "ax.set_xlabel('amplitude',fontsize=14)\n",
    "plt.xticks(fontsize=14)\n",
    "plt.yticks(fontsize=14)\n",
    "\n",
    "windur = 0.003\n",
    "winsamp = int(windur*fs)\n",
    "spkarray = []\n",
    "for i in df_props['spikeInd'].values:\n",
    "    spkarray.append(channel_signal[i-winsamp : i+winsamp+1])\n",
    "\n",
    "df = pd.DataFrame(np.asarray(spkarray).T)\n",
    "df_norm =(df - df.mean()) / df.std() # normalize for pca\n",
    "\n",
    "n_components=5 #df.shape[0] \n",
    "pca = PCA(n_components=n_components)\n",
    "pca.fit(df_norm)\n",
    "df_pca = pd.DataFrame(pca.transform(df), columns=['PC%i' % i for i in range(n_components)], index=df.index)\n",
    "print('You detected %i events above threshold.' %len(df.columns))\n",
    "\n",
    "loadings = pd.DataFrame(pca.components_.T, columns=df_pca.columns, index=df.columns)\n",
    "df_data = loadings.join(df_props['height'])\n",
    "\n",
    "hfig,ax = plt.subplots(1)\n",
    "ax.set_xlabel('event time (sec)',fontsize=14)\n",
    "ax.set_ylabel('amplitude (volts)',fontsize=14)\n",
    "plt.xticks(fontsize=14)\n",
    "plt.yticks(fontsize=14)\n",
    "ax.set_ylim(0,np.abs(np.max(polarity*channel_signal)))\n",
    "ax.scatter(df_props['spikeT'],df_props['height'],color='black')\n",
    "\n",
    "print('Tasks completed at ' + str(datetime.now(timezone(-timedelta(hours=5)))))"
   ]
  },
  {
   "cell_type": "markdown",
   "id": "5c18e966-a9c1-4bfb-8740-6d2c7dbeb376",
   "metadata": {
    "tags": []
   },
   "source": [
    "<a id = \"cluster-events\"></a>\n",
    "\n",
    "## 3. Cluster\n",
    "Cluster events if needed. \n",
    "\n",
    "The histogram plot produced in the last step can give you a sense for how many distinct neurons might be in your recording. The scatter plot of peak amplitude across time can give you a sense for how stable the recording was. If you had good recording stability, you can cluster spike events categorically to analyze the activity of individual neurons independently. \n",
    "\n",
    "If your recording is not stable, or is too noisy, then you may not be able to distinguish cell types. In this case, skip this clustering step. You will only have one cluster and its identity will be '0'. \n",
    "\n",
    "Clustering steps:\n",
    "- [Kmeans](#kmeans)\n",
    "- [Visualize](#display-clusters)\n",
    "- [Merge Clusters](#merge-clusters)\n",
    "- [Check event categorization against raw data](#raw-cluster-scatter)\n",
    " "
   ]
  },
  {
   "cell_type": "markdown",
   "id": "5aa89b0f-19a4-4fbe-8ccb-c569cab88d50",
   "metadata": {
    "tags": []
   },
   "source": [
    "<a id='kmeans'></a>\n",
    "\n",
    "### Kmeans\n",
    "\n",
    "We can cluster events based on peak height and waveform shape using [\"Kmeans\"](https://scikit-learn.org/stable/modules/generated/sklearn.cluster.KMeans.html) clustering. \n",
    "This will provide us with \"putative single units\" for further analysis."
   ]
  },
  {
   "cell_type": "code",
   "execution_count": null,
   "id": "f3a1f5d0-54ab-4cab-9076-5b2d872580b4",
   "metadata": {
    "cellView": "form",
    "id": "4e574ce9-d314-4a20-918b-f2496260c9a8",
    "tags": [
     "hide-input"
    ]
   },
   "outputs": [],
   "source": [
    "#@title { display-mode: \"form\" }\n",
    "\n",
    "#@markdown Choose the number of clusters you want to split the event-based data into and type that number below. <br>\n",
    "#@markdown >Note: It can sometimes help to \"over-split\" the events into more clusters \n",
    "#@markdown than you think will be necessary. You can try both strategies and assess the results.\n",
    "number_of_clusters = None #@param\n",
    "# number_of_clusters = 1\n",
    "#@markdown Then run this cell to run the Kmeans algorithm. \n",
    "\n",
    "# No need to edit below this line\n",
    "#################################\n",
    "\n",
    "kmeans = KMeans(n_clusters=number_of_clusters).fit(df_data)\n",
    "# df_props['peaks_t'] = peaks_t\n",
    "df_props['cluster'] = kmeans.labels_"
   ]
  },
  {
   "cell_type": "markdown",
   "id": "29851d8d-403c-46b4-884d-45b923686fa1",
   "metadata": {},
   "source": [
    "<a id = \"display-clusters\"></a>\n",
    "\n",
    "### Visualize \n",
    "\n",
    "Now that the events are clustered, you can visualize the mean spike waveform associated with each cluster (putative motor neuron)."
   ]
  },
  {
   "cell_type": "code",
   "execution_count": null,
   "id": "4f188f71-cf6c-4fc4-ad24-b43b9ec5544c",
   "metadata": {
    "cellView": "form",
    "id": "4e574ce9-d314-4a20-918b-f2496260c9a8",
    "tags": [
     "hide-input"
    ]
   },
   "outputs": [],
   "source": [
    "#@title {display-mode:'form'}\n",
    "\n",
    "#@markdown Run this cell to display the mean (and std) waveform for each cluster.\n",
    "\n",
    "#@markdown Specify the time before and after each event peak to plot.\n",
    "windur = 0.003 #@param\n",
    "\n",
    "winsamps = int(windur * fs)\n",
    "x = np.linspace(-windur,windur,winsamps*2)*1000\n",
    "hfig,ax = plt.subplots(1,figsize=(8,6))\n",
    "ax.set_ylabel('Volts recorded',fontsize=14)\n",
    "ax.set_xlabel('milliseconds',fontsize=14)\n",
    "plt.xticks(fontsize=14)\n",
    "plt.yticks(fontsize=14)\n",
    "\n",
    "for k in np.unique(df_props['cluster']):\n",
    "    spkt = df_props.loc[df_props['cluster']==k]['spikeT'].values #['peaks_t'].values\n",
    "    spkt = spkt[(spkt>windur) & (spkt<(len(channel_signal)/fs)-windur)]\n",
    "    print(str(len(spkt)) + \" spikes in cluster number \" + str(k))\n",
    "    spkwav = np.asarray([channel_signal[(int(t*fs)-winsamps):(int(t*fs)+winsamps)] for t in spkt])\n",
    "    wav_u = np.mean(spkwav,0)\n",
    "    wav_std = np.std(spkwav,0)\n",
    "    ax.plot(x,wav_u,linewidth = 3,label='cluster '+ str(k),color=pal[k])\n",
    "    ax.fill_between(x, wav_u-wav_std, wav_u+wav_std, alpha = 0.25,color=pal[k])\n",
    "plt.legend(bbox_to_anchor=[1.25,1],fontsize=14);\n",
    "\n",
    "print('Tasks completed at ' + str(datetime.now(timezone(-timedelta(hours=5)))))"
   ]
  },
  {
   "cell_type": "markdown",
   "id": "0a37aa64-ee1b-4248-8901-982f326e0cb0",
   "metadata": {
    "id": "9iyWsThmXdI_"
   },
   "source": [
    "<a id='merge-clusters'></a>\n",
    "\n",
    "### Merge Clusters\n",
    "You can skip this step if unecessary. \n",
    "If there are multiple spike clusters you want to merge into a single cell class, *edit and run* the cell below.\n",
    "\n",
    "> **merge_cluster_list** = a list of the clusters (identified by numbers associated with the colors specified in the legend above).\n",
    "  - **For example**, the folowing list would merge clusters 0 and 2 together and 1, 4, and 3 together: <br>\n",
    "     **merge_cluster_list = [[0,2],[1,4,3]]**\n",
    "  - For each merge group, the first cluster number listed will be the re-asigned cluster number for that group (for example, in this case you would end up with a cluster number 0 and a cluster number 1). \n",
    "  "
   ]
  },
  {
   "cell_type": "code",
   "execution_count": null,
   "id": "e7ae4811-90b0-4c5d-8f7b-39d48fb2590b",
   "metadata": {
    "cellView": "form",
    "id": "EDJgd8DAXRba",
    "tags": [
     "hide-input"
    ]
   },
   "outputs": [],
   "source": [
    "#@title { display-mode: \"form\" }\n",
    "\n",
    "#@markdown ONLY USE THIS CODE CELL IF YOU WANT TO MERGE CLUSTERS. \n",
    "#@markdown OTHERWISE, MOVE ON. \n",
    "#@markdown <br> Below, create your list (of sublists) of clusters to merge.\n",
    "#@markdown >Just leave out from the list any clusters that you want unmerged.\n",
    "merge_cluster_list = [[0,3,4],[1,2]] #@param\n",
    "#@markdown Then, run this cell to merge clusters as specified.\n",
    "\n",
    "for k_group in merge_cluster_list:\n",
    "    for k in k_group:\n",
    "        df_props.loc[df_props['cluster']==k,'cluster'] = k_group[0]\n",
    "print('you now have the following clusters: ' + str(np.unique(df_props['cluster'])))\n",
    "\n",
    "print('Tasks completed at ' + str(datetime.now(timezone(-timedelta(hours=5)))))\n"
   ]
  },
  {
   "cell_type": "markdown",
   "id": "27ba23b1-7643-4138-9b70-8478910de0c4",
   "metadata": {},
   "source": [
    "After merging, return to the [display clusters](#display-clusters) code cell to plot the mean waveform of each new cluster (and determine if you need to [merge more](#merge-clusters))."
   ]
  },
  {
   "cell_type": "markdown",
   "id": "bc5a51f2-a02c-4e03-a227-6079e348bce6",
   "metadata": {},
   "source": [
    "<a id=\"raw-cluster-scatter\"></a>\n",
    "\n",
    "### Check event categorization against raw data.\n",
    "\n",
    "Once you are happy with the clustering results based on the waveform shapes, check back with the raw data. "
   ]
  },
  {
   "cell_type": "code",
   "execution_count": null,
   "id": "c68ccb8b-9d2b-4c66-8939-59c0b6f51df1",
   "metadata": {
    "tags": [
     "hide-input"
    ]
   },
   "outputs": [],
   "source": [
    "#@title {display-mode:\"form\"}\n",
    "\n",
    "#@markdown Run this cell to overlay spike times by cluster identity on the raw signal\n",
    "\n",
    "f = go.FigureWidget()\n",
    "f.add_trace(go.Scatter(x = time[0:fs], y = channel_signal[0:fs],\n",
    "                             name='pre synaptic',opacity=1,line_color='black'))\n",
    "for k in np.unique(df_props['cluster']):\n",
    "    start = 0 \n",
    "    stop = 1\n",
    "    inwin_inds = np.asarray([(df_props['spikeT'].values>start) & (df_props['spikeT'].values<stop)]).T\n",
    "    df_ = df_props[inwin_inds]\n",
    "    df_ = df_[df_['cluster']==k]\n",
    "    \n",
    "    f.add_trace(go.Scatter(x = df_['spikeT'], y = polarity*df_['height'],\n",
    "                             line_color=pal[k],name=str(k) + ' times',mode='markers'))\n",
    "    \n",
    "f.update_layout(height=600, width=800,\n",
    "               xaxis_title=\"time(seconds)\", \n",
    "                  yaxis_title='amplitude (volts)')\n",
    "\n",
    "\n",
    "slider = widgets.FloatRangeSlider(\n",
    "    min=0,\n",
    "    max=dur,\n",
    "    value=(0,1),\n",
    "    step= 1,\n",
    "    readout=False,\n",
    "    description='Time')\n",
    "slider.layout.width = '800px'\n",
    "\n",
    "# our function that will modify the xaxis range\n",
    "def response(x):\n",
    "    with f.batch_update():\n",
    "        starti = int(x[0]*fs)\n",
    "        stopi = int(x[1]*fs)\n",
    "        f.data[0].x = time[starti:stopi]\n",
    "        f.data[0].y = channel_signal[starti:stopi]\n",
    "        for i,k in enumerate(np.unique(df_props['cluster'])):\n",
    "            inwin_inds = np.asarray([(df_props['spikeT'].values>x[0]) & (df_props['spikeT'].values<x[1])]).T\n",
    "            df_ = df_props[inwin_inds]\n",
    "            df_ = df_[df_['cluster']==k]\n",
    "            f.data[1+i].x = df_['spikeT']\n",
    "            f.data[1+i].y = polarity*df_['height']\n",
    "\n",
    "vb = VBox((f, interactive(response, x=slider)))\n",
    "vb.layout.align_items = 'center'\n",
    "vb\n"
   ]
  },
  {
   "cell_type": "markdown",
   "id": "18f73ef1-6320-408a-87c7-15b3ce04256d",
   "metadata": {},
   "source": [
    "If you think that two different spike waveforms are being lumped together, try going back to the [Kmeans clustering algorithm](#kmeans) and increasing the cluster number constraint on the Kmeans algorithm - then [merge](#merge-clusters) as needed. "
   ]
  },
  {
   "cell_type": "markdown",
   "id": "dd727a14-c83f-4bc1-91d7-59cb24049341",
   "metadata": {},
   "source": [
    "<a id=\"two\"></a>\n",
    "# Part II. Analyze Processed Data \n",
    "\n",
    "[toc](#toc)\n",
    "\n",
    "This section provides tools to obtain two metrics of MRO spiking responses: ***spike rate*** and ***spike rate adaptation***.\n",
    "\n",
    "First, you will plot the inter-spike interval (ISI; the time between spikes) for the event cluster that you want to analyze. You will also obtain a plot of the stimulus signal aligned in time to the spiking data.\n",
    "\n",
    "From this plot, you should be able to determine 'trial' times for a trial-based analysis of spike rate and adaptation."
   ]
  },
  {
   "cell_type": "markdown",
   "id": "2b9c969d-59ee-4717-83f4-45ceae29dae0",
   "metadata": {},
   "source": [
    "## Plot continuous ISI"
   ]
  },
  {
   "cell_type": "code",
   "execution_count": null,
   "id": "c3646f36-0243-42fe-85dd-270415da26ef",
   "metadata": {
    "tags": [
     "hide-input"
    ]
   },
   "outputs": [],
   "source": [
    "#@title {display-mode:\"form\"}\n",
    "\n",
    "#@markdown Run this code cell to plot:  \n",
    "#@markdown - a scatter of ISI across time for individual clusters  \n",
    "#@markdown - the stimulus signal\n",
    "#@markdown > Once you run this code cell a first time, you will be able to select different clusters from the dropdown menu to change the plot data accordingly.\n",
    "\n",
    "\n",
    "k = df_props['cluster'][0] #seed it to start\n",
    "spkt = df_props.loc[df_props['cluster']==k]['spikeT'].values\n",
    "isi = np.diff(spkt)\n",
    "\n",
    "f = go.FigureWidget(make_subplots(rows=1,cols=1))\n",
    "f.add_trace(go.Scatter(x = spkt[1:], y = isi, line_color = 'black', mode='markers'),row=1,col=1)\n",
    "\n",
    "f.update_layout(height=600, width=800,\n",
    "                showlegend=False,\n",
    "                xaxis_title=\"isi (seconds)\",\n",
    "                  yaxis_title='isi (seconds)')\n",
    "\n",
    "cluster_select = widgets.Dropdown(\n",
    "    options=np.unique(df_props['cluster']),\n",
    "    value=k,\n",
    "    description='Cluster ID:',\n",
    "    disabled=False,\n",
    "    )\n",
    "\n",
    "\n",
    "# our function that will modify the xaxis range\n",
    "def response(k):\n",
    "    with f.batch_update():\n",
    "        spkt = df_props.loc[df_props['cluster']==k]['spikeT'].values\n",
    "        isi = np.diff(spkt)\n",
    "        \n",
    "        f.data[0].x = spkt[1:]\n",
    "        f.data[0].y = isi\n",
    "\n",
    "\n",
    "vb = VBox((f, interactive(response, k=cluster_select)))\n",
    "vb.layout.align_items = 'center'\n",
    "vb"
   ]
  },
  {
   "cell_type": "markdown",
   "id": "5f8b39ce-01e0-42c3-bd00-1901037ebe9b",
   "metadata": {},
   "source": [
    "## Plot trial rate overlaid"
   ]
  },
  {
   "cell_type": "code",
   "execution_count": null,
   "id": "7d4fbec2-3484-483d-91b1-7df4af5c738d",
   "metadata": {
    "tags": [
     "hide-input"
    ]
   },
   "outputs": [],
   "source": [
    "#@title {display-mode:\"form\"}\n",
    "\n",
    "#@markdown Determine the start time for each *trial*.  \n",
    "#@markdown What defines the start of a trial will depend on your question.  \n",
    "#@markdown Enter the trial times as a list below.\n",
    "\n",
    "trials_list = [51.72, 61.65, 71.256, 83.063] #@param\n",
    "\n",
    "# # different amplitudes\n",
    "# trials = [6.345,13.836,21.63,32.635,40.319]\n",
    "# trials = [51.72, 61.65, 71.256, 80.063]\n",
    "# trials = [94.692,103.73,111.665,120.871,129.286]\n",
    "\n",
    "# # offset response\n",
    "# trials = [99.832,110,118.327,126.86]\n",
    "\n",
    "#@markdown How much time before and after the trial time do you want to visualize?\n",
    "window = 10\n",
    "\n",
    "#@markdown Run this code cell to plot the result (for the cluster you selected in the first code cell of this section)\n",
    "\n",
    "f = go.FigureWidget(make_subplots(rows=1,cols=1))\n",
    "\n",
    "for t in trials_list:\n",
    "    ti = np.argmin(np.abs(spkt-t))\n",
    "    sweep = spkt[(spkt>spkt[ti]-10) & (spkt<spkt[ti]+10)]-spkt[ti]\n",
    "    sweep_rate = 1/np.diff(sweep)\n",
    "    f.add_trace(go.Scatter(x = sweep[1:], y = sweep_rate),row=1,col=1)\n",
    "\n",
    "\n",
    "f.update_layout(height=500, width=800,\n",
    "                showlegend=False,\n",
    "                xaxis_title=\"time (seconds)\",\n",
    "                  yaxis_title='rate')"
   ]
  },
  {
   "cell_type": "markdown",
   "id": "2bfbbec7-827d-44e6-b272-fec78b634bb3",
   "metadata": {},
   "source": [
    "## Fitting an exponential model\n",
    "\n",
    "You can create a ***model*** of the MRO response. If the model is correct, you should be able to 'explain' the response in terms of the model (it should be able to predict all features of the response).\n",
    "\n",
    "The following code cells provide a tool to model the response using a single exponential function of the form:\n",
    "\n",
    "$$\n",
    "\\Large y = a + b*e^{-x/\\tau}\n",
    "$$\n",
    "\n",
    "For spiking adaptation, the following equation variables are more intuitive:\n",
    "\n",
    "$$\n",
    "\\Large R_{t} = R_{\\infty} + R_{0}e^{−t/\\tau}\n",
    "$$\n",
    "\n",
    "Where $R_{t}$ is the firing rate at time $t$, $R_{\\infty}$ is the calculated firing rate if this degree of stretch were maintained infinitely, $R_{\\infty}$ + $R_{0}$ is the calculated “initial” peak firing rate at time 0, and $\\tau$ is the adaptation rate. The adaptation rate is the time it takes the spike rate to fall by a factor of $1/e$.\n",
    "\n",
    "To model the MRO response in this form, you will *fit* your data to the model. \n",
    "\n",
    "In biology / electrophysiology *bi*exponential functions are often used to separate fast and slow components of exponential decay which may be caused by different mechanisms and occur at different rates. In this example we will only fit the data to a method with a exponential component (a *mono*exponential function), but the idea is the same."
   ]
  },
  {
   "cell_type": "code",
   "execution_count": null,
   "id": "3bbee044-ee56-4d8d-8c5f-93ba0828446d",
   "metadata": {
    "tags": [
     "hide-input"
    ]
   },
   "outputs": [],
   "source": [
    "#@title {display-mode:\"form\"}\n",
    "\n",
    "#@markdown Fitting the model on a single trial\n",
    "\n",
    "#@markdown Specify a single trial time (t), \n",
    "#@markdown the duration of the trial (trial_dur; after trial onset), \n",
    "#@markdown and initial estimates for the model parameters (parameter_initialize).\n",
    "t = 83.063 #@param\n",
    "trial_dur = 10 #@param\n",
    "parameter_initialize = (1, 1, 10) #@param # start with values near those we expect\n",
    "\n",
    "ti = np.argmin(np.abs(spkt-t))\n",
    "xs = spkt[(spkt>=spkt[ti]) & (spkt<spkt[ti]+trial_dur)]-spkt[ti]\n",
    "ys = 1/np.diff(xs)\n",
    "xs = xs[1:]\n",
    "\n",
    "# perform the fit\n",
    "params_, cv = optimize.curve_fit(monoExp, xs, ys, parameter_initialize)\n",
    "m, t, b = params_\n",
    "\n",
    "# determine quality of the fit\n",
    "squaredDiffs = np.square(ys - monoExp(xs, m, t, b))\n",
    "squaredDiffsFromMean = np.square(ys - np.mean(ys))\n",
    "rSquared = 1 - np.sum(squaredDiffs) / np.sum(squaredDiffsFromMean)\n",
    "\n",
    "# inspect the parameters\n",
    "print('What are the model parameters?')\n",
    "print(f\"Y = {m:.2f} * e^(-x / {t:.2f}) + {b:.2f}\")\n",
    "\n",
    "print('')\n",
    "\n",
    "# report the fit\n",
    "print('How good is the model fit to your data?')\n",
    "print(f\"R² = {rSquared:.2f}\")\n",
    "\n",
    "f = go.FigureWidget(make_subplots(rows=1,cols=1))\n",
    "\n",
    "f.add_trace(go.Scatter(x = xs, y = ys, line_color = 'black', name = 'data', mode='markers'),row=1,col=1)\n",
    "f.add_trace(go.Scatter(x = xs, y = monoExp(xs, m, t, b), line_color = 'green', name= 'fit'),row=1,col=1)\n",
    "\n",
    "f.update_layout(height=500, width=800,\n",
    "                showlegend=False,\n",
    "                xaxis_title=\"time (seconds)\",\n",
    "                  yaxis_title='rate')\n",
    "\n",
    "# # plot the results\n",
    "# plt.plot(xs, ys, '.', label=\"data\")\n",
    "# plt.plot(xs, monoExp(xs, m, t, b), '--', label=\"fitted\")\n",
    "# plt.title(\"Fitted Exponential Curve\")\n",
    "\n"
   ]
  },
  {
   "cell_type": "markdown",
   "id": "2cb07a15-a6ca-4cbb-a852-c05465fb747b",
   "metadata": {},
   "source": [
    "There is likely *across trial* variability in the MRO response. You can get a model fit for each trial and then evaluate the distrubution of model parameters. Alternatively, you could take the average response across trials and fit the model to the average. Here, you will do the former. What are the pros and cons of each of these methods in terms of statistical results? In other words, are the two methods equivalent or can you calculate different metrics of statistics depending on the method? "
   ]
  },
  {
   "cell_type": "code",
   "execution_count": null,
   "id": "4766c2eb-3e33-4078-b4d3-a00f61592288",
   "metadata": {
    "tags": [
     "hide-input"
    ]
   },
   "outputs": [],
   "source": [
    "#@title {display-mode:\"form\"}\n",
    "\n",
    "#@markdown Fitting the model across multiple trials\n",
    "\n",
    "#@markdown Specify a list of trials times, the duration of the trial (after trial onset), and estimates for the model parameters.\n",
    "trial_list = [94.692,103.73,111.665,120.871,129.286] #@param \n",
    "trial_dur = 3 #@param\n",
    "parameter_initialize = (1, 1, 10) #@param # start with values near those we expect\n",
    "\n",
    "# plt.figure()\n",
    "params = []\n",
    "for t in trial_list:\n",
    "    ti = np.argmin(np.abs(spkt-t))\n",
    "    xs = spkt[(spkt>=spkt[ti]) & (spkt<spkt[ti]+trial_dur)]-spkt[ti]\n",
    "    ys = 1/np.diff(xs)\n",
    "    xs = xs[1:]\n",
    "    \n",
    "    params_, cv = optimize.curve_fit(monoExp, xs, ys, parameter_initialize)\n",
    "    m, t, b = params_\n",
    "    \n",
    "    squaredDiffs = np.square(ys - monoExp(xs, m, t, b))\n",
    "    squaredDiffsFromMean = np.square(ys - np.mean(ys))\n",
    "    rSquared = 1 - np.sum(squaredDiffs) / np.sum(squaredDiffsFromMean)\n",
    "    params_ = np.concatenate([params_, [rSquared]])\n",
    "    \n",
    "    params.extend(params_)\n",
    "\n",
    "fit_parameters = np.asarray(params).reshape(-1,4)\n",
    "\n",
    "u_fit = np.mean(fit_parameters,0)\n",
    "std_fit = np.std(fit_parameters,0)\n",
    "\n",
    "\n",
    "# inspect the results\n",
    "print('results based on mean across trials:')\n",
    "print(f\"R² = {u_fit[3]:0.2f}\")\n",
    "print(f\"Y = {u_fit[0]:0.2f} * e^(-x / {u_fit[1]:0.2f}) + {u_fit[2]:0.2f}\")\n",
    "print('')\n",
    "\n",
    "print('array of fit parameters across all trials: (R0, tau, Rinf, R2)')\n",
    "print(fit_parameters)\n",
    "print('')\n",
    "\n",
    "print('mean fit parameters: (R0, tau, Rinf, R2)')\n",
    "print(u_fit)\n",
    "print('')\n",
    "print('standard deviation fit parameters: (R0, tau, Rinf, R2)')\n",
    "print(std_fit)\n",
    "print('')\n",
    "\n"
   ]
  },
  {
   "cell_type": "markdown",
   "id": "3195633c-88ba-46bd-a379-2e5597a9681f",
   "metadata": {},
   "source": [
    "## Generate model data\n",
    "\n",
    "Now, use the mean parameters to plot the model equations.\n",
    "For multiple conditions, list multiple values for each parameter. Keep the order of conditions the same in each list."
   ]
  },
  {
   "cell_type": "code",
   "execution_count": null,
   "id": "8754bdd1-2e07-4a0b-b83c-24f859a97173",
   "metadata": {
    "tags": [
     "hide-input"
    ]
   },
   "outputs": [],
   "source": [
    "#@title {display-mode:\"form\"}\n",
    "\n",
    "#@markdown Create a list of conditions\n",
    "condition = [1,2,3]\n",
    "\n",
    "#@markdown Create a list of parameters across conditions\n",
    "m = [7.7, 7.36, 7.05] #@param\n",
    "tau = [0.6, 0.49, 0.48] #@param\n",
    "b = [10.54, 13.63, 14.88] #@param\n",
    "r_squared = [0.94, 0.96, 0.94]#@param\n",
    "\n",
    "#@markdown How long do you want the model MRO to be stretched for under each condition?\n",
    "trial_dur = 10 #@param\n",
    "\n",
    "# Run this code cell to plot the model across conditions\n",
    "f = go.FigureWidget(make_subplots(rows=1,cols=1))\n",
    "\n",
    "x_ = np.linspace(0,trial_dur,trial_dur*100)\n",
    "\n",
    "for m_,tau_,b_,c_ in zip(m,tau,b,condition):\n",
    "    y_ = monoExp(x_, m_,tau_,b_)\n",
    "    f.add_trace(go.Scatter(x = x_, y = y_, name = str(c_), mode='lines'),row=1,col=1)\n",
    "\n",
    "f.update_layout(height=500, width=600,\n",
    "                showlegend=True,\n",
    "                xaxis_title=\"time (seconds)\",\n",
    "                  yaxis_title='rate')"
   ]
  },
  {
   "cell_type": "markdown",
   "id": "1f5b8788-0286-48f6-b57d-d8bdfa9d1cb7",
   "metadata": {},
   "source": [
    "## Inspect model parameters across conditions\n",
    "\n",
    "Plot the model parameters as a function of stretch. Is there some predictable relationship between these?\n",
    "Which parameters are a function of specific stretch amplitudes? Which parameters are independent of the specific stretch amplitude? In other words, which properties of the MRO response code for position of the tail and which code for other aspects of the movement?"
   ]
  },
  {
   "cell_type": "code",
   "execution_count": null,
   "id": "708364c5-19a5-4e67-ac61-903f932bd642",
   "metadata": {
    "tags": [
     "hide-input"
    ]
   },
   "outputs": [],
   "source": [
    "#@title {display-mode:\"form\"}\n",
    "\n",
    "#@markdown Run this code cell to plot parameters across conditions. \n",
    "\n",
    "hfig,ax = plt.subplots(1,4)\n",
    "ax[0].plot(condition,m)\n",
    "ax[1].plot(condition,t)\n",
    "ax[2].plot(condition,b)\n",
    "ax[3].plot(condition,r_squared)"
   ]
  },
  {
   "cell_type": "markdown",
   "id": "d451b557-6777-4492-955e-a41130ad39b9",
   "metadata": {},
   "source": [
    "<hr> \n",
    "Written by Dr. Krista Perks for courses taught at Wesleyan University."
   ]
  },
  {
   "cell_type": "code",
   "execution_count": null,
   "id": "5c707588-d5f6-4142-8289-da7ba6a97dbc",
   "metadata": {},
   "outputs": [],
   "source": []
  },
  {
   "cell_type": "markdown",
   "id": "57a8a68c-055e-4af0-ba4d-67d0d67148f1",
   "metadata": {},
   "source": [
    "<a id=\"setup\"></a>"
   ]
  },
  {
   "cell_type": "markdown",
   "id": "a350712e-e145-4475-9588-e3f19469b5ce",
   "metadata": {},
   "source": [
    "<a id=\"one\"></a>"
   ]
  },
  {
   "cell_type": "markdown",
   "id": "86fd2b4a-b890-465f-bf33-c2057738789e",
   "metadata": {},
   "source": [
    "<a id=\"two\"></a>"
   ]
  },
  {
   "cell_type": "markdown",
   "id": "b05de192-2baf-4d46-8848-6db1e3b50bff",
   "metadata": {},
   "source": [
    "<a id=\"three\"></a>"
   ]
  },
  {
   "cell_type": "markdown",
   "id": "e6519277-fc86-44fd-a75b-f74cad0efcf1",
   "metadata": {},
   "source": [
    "<a id=\"four\"></a>"
   ]
  }
 ],
 "metadata": {
  "kernelspec": {
   "display_name": "Python 3 (ipykernel)",
   "language": "python",
   "name": "python3"
  },
  "language_info": {
   "codemirror_mode": {
    "name": "ipython",
    "version": 3
   },
   "file_extension": ".py",
   "mimetype": "text/x-python",
   "name": "python",
   "nbconvert_exporter": "python",
   "pygments_lexer": "ipython3",
   "version": "3.8.13"
  },
  "widgets": {
   "application/vnd.jupyter.widget-state+json": {
    "state": {
     "23a0b2ac200b4ffb9a28625d760f81a3": {
      "model_module": "@jupyter-widgets/controls",
      "model_module_version": "1.5.0",
      "model_name": "SliderStyleModel",
      "state": {
       "description_width": ""
      }
     },
     "4c6faac3c975432b95e9cdd697d6828d": {
      "model_module": "@jupyter-widgets/base",
      "model_module_version": "1.2.0",
      "model_name": "LayoutModel",
      "state": {}
     },
     "5806301f5e0e4880b59cf72662207f0b": {
      "model_module": "@jupyter-widgets/base",
      "model_module_version": "1.2.0",
      "model_name": "LayoutModel",
      "state": {
       "width": "600px"
      }
     },
     "5a29d37e2c4e44cb8a17e614f033386f": {
      "model_module": "@jupyter-widgets/controls",
      "model_module_version": "1.5.0",
      "model_name": "VBoxModel",
      "state": {
       "_dom_classes": [
        "widget-interact"
       ],
       "children": [
        "IPY_MODEL_c666d19532164c2fba2e85fd1f6ea800",
        "IPY_MODEL_98189c6facd1402cbae6defb081272b8"
       ],
       "layout": "IPY_MODEL_e44bf5d55d4341c1aac4079ee426ad4d"
      }
     },
     "60201265a17f415b9ce871bbf608fb74": {
      "model_module": "@jupyter-widgets/controls",
      "model_module_version": "1.5.0",
      "model_name": "VBoxModel",
      "state": {
       "_dom_classes": [
        "widget-interact"
       ],
       "children": [
        "IPY_MODEL_ecc61aa8c75d47859a044e11759eeae5",
        "IPY_MODEL_dc9d7eb00eba4ffd9e5da7a976b9f8ad",
        "IPY_MODEL_63dad324932b40cd86e152bd77edb807"
       ],
       "layout": "IPY_MODEL_4c6faac3c975432b95e9cdd697d6828d"
      }
     },
     "63dad324932b40cd86e152bd77edb807": {
      "model_module": "@jupyter-widgets/output",
      "model_module_version": "1.0.0",
      "model_name": "OutputModel",
      "state": {
       "layout": "IPY_MODEL_f178918836104665bc7d6c5bfdaa571f",
       "outputs": [
        {
         "data": {
          "image/png": "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\n",
          "text/plain": "<Figure size 720x360 with 1 Axes>"
         },
         "metadata": {
          "image/png": {
           "height": 341,
           "width": 702
          },
          "needs_background": "light"
         },
         "output_type": "display_data"
        }
       ]
      }
     },
     "98189c6facd1402cbae6defb081272b8": {
      "model_module": "@jupyter-widgets/output",
      "model_module_version": "1.0.0",
      "model_name": "OutputModel",
      "state": {
       "layout": "IPY_MODEL_fd3e048a9bdc4d04b1066a59f9d65048",
       "outputs": [
        {
         "data": {
          "image/png": "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\n",
          "text/plain": "<Figure size 720x360 with 1 Axes>"
         },
         "metadata": {
          "image/png": {
           "height": 341,
           "width": 702
          },
          "needs_background": "light"
         },
         "output_type": "display_data"
        }
       ]
      }
     },
     "b0103bc35b92418782e0cbf969e743f8": {
      "model_module": "@jupyter-widgets/base",
      "model_module_version": "1.2.0",
      "model_name": "LayoutModel",
      "state": {
       "width": "300px"
      }
     },
     "c666d19532164c2fba2e85fd1f6ea800": {
      "model_module": "@jupyter-widgets/controls",
      "model_module_version": "1.5.0",
      "model_name": "FloatRangeSliderModel",
      "state": {
       "_model_name": "FloatRangeSliderModel",
       "_view_name": "FloatRangeSliderView",
       "continuous_update": false,
       "description": "Time Range (s)",
       "layout": "IPY_MODEL_d61c0d61529146d0882bd5b1fe4aa3ef",
       "max": 301.5,
       "readout": false,
       "step": 0.5,
       "style": "IPY_MODEL_e1917ab5f0d949f480310a526aa91204",
       "value": [
        40,
        42.5
       ]
      }
     },
     "ced2203c0e964d549eab8bcda68d35e4": {
      "model_module": "@jupyter-widgets/controls",
      "model_module_version": "1.5.0",
      "model_name": "SliderStyleModel",
      "state": {
       "description_width": ""
      }
     },
     "d61c0d61529146d0882bd5b1fe4aa3ef": {
      "model_module": "@jupyter-widgets/base",
      "model_module_version": "1.2.0",
      "model_name": "LayoutModel",
      "state": {
       "width": "800px"
      }
     },
     "dc9d7eb00eba4ffd9e5da7a976b9f8ad": {
      "model_module": "@jupyter-widgets/controls",
      "model_module_version": "1.5.0",
      "model_name": "IntSliderModel",
      "state": {
       "continuous_update": false,
       "description": "channel",
       "layout": "IPY_MODEL_b0103bc35b92418782e0cbf969e743f8",
       "max": 1,
       "style": "IPY_MODEL_23a0b2ac200b4ffb9a28625d760f81a3"
      }
     },
     "e1917ab5f0d949f480310a526aa91204": {
      "model_module": "@jupyter-widgets/controls",
      "model_module_version": "1.5.0",
      "model_name": "SliderStyleModel",
      "state": {
       "description_width": ""
      }
     },
     "e44bf5d55d4341c1aac4079ee426ad4d": {
      "model_module": "@jupyter-widgets/base",
      "model_module_version": "1.2.0",
      "model_name": "LayoutModel",
      "state": {}
     },
     "ecc61aa8c75d47859a044e11759eeae5": {
      "model_module": "@jupyter-widgets/controls",
      "model_module_version": "1.5.0",
      "model_name": "FloatRangeSliderModel",
      "state": {
       "_model_name": "FloatRangeSliderModel",
       "_view_name": "FloatRangeSliderView",
       "continuous_update": false,
       "description": "Time Range (s)",
       "layout": "IPY_MODEL_5806301f5e0e4880b59cf72662207f0b",
       "max": 301.5,
       "style": "IPY_MODEL_ced2203c0e964d549eab8bcda68d35e4",
       "value": [
        68,
        91
       ]
      }
     },
     "f178918836104665bc7d6c5bfdaa571f": {
      "model_module": "@jupyter-widgets/base",
      "model_module_version": "1.2.0",
      "model_name": "LayoutModel",
      "state": {}
     },
     "fd3e048a9bdc4d04b1066a59f9d65048": {
      "model_module": "@jupyter-widgets/base",
      "model_module_version": "1.2.0",
      "model_name": "LayoutModel",
      "state": {}
     }
    },
    "version_major": 2,
    "version_minor": 0
   }
  }
 },
 "nbformat": 4,
 "nbformat_minor": 5
}
