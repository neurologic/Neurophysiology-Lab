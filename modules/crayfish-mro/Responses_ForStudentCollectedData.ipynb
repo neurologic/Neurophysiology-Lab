{
 "cells": [
  {
   "cell_type": "code",
   "execution_count": null,
   "id": "c77bcedb-287e-41b1-a03a-b318c0730ec8",
   "metadata": {},
   "outputs": [],
   "source": []
  },
  {
   "cell_type": "markdown",
   "id": "3262e650-1fd9-441d-9e6d-94bae6a6ce49",
   "metadata": {},
   "source": [
    "## Prompt 1: Progressive Step Experiment\n",
    "(10 points)\n",
    "\n",
    "**Create Figure 1** with the following panels: \n",
    "- **A**) Example MRO action potential from the raw data (zoomed in and with an appropriate aspect ration of height:width to see the waveform shape). Use the ***Dash Data Explorer*** to visualize a single spike.\n",
    "- **B**) Example stimulus signal and associated MRO raw data with the time of spiking events overlaid on the raw data as a scatter (created using the ***Part I: Figure plotting tool 1***). Include about 1 sec before stretch onset and the first 2 sec of the stretch. Select a condition with a low enough spike rate to discern individual spikes given this time range. \n",
    "- **C**) Example stimulus signal and associated MRO spike rate response from one condition with all three trials overlaid (created using the ***Part II: Figure plotting tool 2***). Include about 2 sec before stretch onset and about 3 sec after stretch offset. On the plot, annotate the average **peak rate** and **steady state rate** for this condition (from the \"fit\" data that you obtained using the ***Part III: Analysis tool 1 (fitting an exponential model)***. \n",
    "\n",
    "**Create Figure 2** with the following panels\n",
    "- **A**) A scatter plot (created using the ***Part IV: Analysis plotting tool 1***) of **(m1 + m2 + c)**, and **c** across conditions.     \n",
    "- **B**) A scatter plot (created using the ***Part IV: Analysis plotting tool 1***) of **tau1** and **tau2** across conditions.  \n",
    "- **C**) The scatter plot created using the ***Part IV: Analysis plotting tool 2*** that shows the relationships among several spiking response parameters. \n",
    "\n",
    "**Write a caption** to the figure that includes:  \n",
    "- A description for each figure including all information needed to assess your reported results in each panel.\n",
    "    > For example, in Figure 1A, you would include that the spike times (red) were determined by detecting peaks that were greater than the lower threshold (green), but lower than the upper threshold (orange). \n",
    "- A conclusion about which spike rate response parameters encode (provide information about) MRO stretch.\n",
    "- Report the mean ***within each condition*** for the parameters that encode MRO stretch (there will not be enough samples in each condition to report variance).\n",
    "- A conclusion about which spike rate response parameters do not encode MRO stretch. \n",
    "- Report the mean and variance ***across all conditions*** for the parameters that do not encode MRO stretch."
   ]
  },
  {
   "cell_type": "markdown",
   "id": "0780c40e-f899-44b5-bd6c-9cec053e5914",
   "metadata": {},
   "source": [
    "...\n",
    "\n",
    "Insert your figure to accompany the text by replacing the \"id\" in the link below with your google drive share link id \n",
    "\n",
    "<img src='https://drive.google.com/uc?id=1WoAa-oMOkAj9r9lyls4nLSLyIeuTu4Ae' width=\"300\" >"
   ]
  },
  {
   "cell_type": "markdown",
   "id": "92e3b1c9-5f8e-44f0-bde2-f355d720474c",
   "metadata": {},
   "source": [
    "## Prompt 2: Experimental Exploration\n",
    "(5 points)\n",
    "\n",
    "**Create a Figure** with the following panels:\n",
    "- Sample data for two conditions that you tested.\n",
    "- Scatter plot(s) of some feature(s) that you focused your analysis on (created using either the ***Part IV: Analysis plotting tool 1*** or your own program of choice).\n",
    "\n",
    "**Write a caption** to the figure that includes:  \n",
    "- A description for each figure panel including all information needed to assess your reported results. \n",
    "- Any quantatative summaries (mean, variance, etc) for results that you want to highlight.\n",
    "- A qualitative description of your results."
   ]
  },
  {
   "cell_type": "markdown",
   "id": "6150b5aa-a106-468f-8ccf-4ed60da5bba5",
   "metadata": {},
   "source": [
    "...\n",
    "\n",
    "Insert your figure to accompany the text by replacing the \"id\" in the link below with your google drive share link id \n",
    "\n",
    "<img src='https://drive.google.com/uc?id=1WoAa-oMOkAj9r9lyls4nLSLyIeuTu4Ae' width=\"300\" >"
   ]
  }
 ],
 "metadata": {
  "kernelspec": {
   "display_name": "Python 3 (ipykernel)",
   "language": "python",
   "name": "python3"
  },
  "language_info": {
   "codemirror_mode": {
    "name": "ipython",
    "version": 3
   },
   "file_extension": ".py",
   "mimetype": "text/x-python",
   "name": "python",
   "nbconvert_exporter": "python",
   "pygments_lexer": "ipython3",
   "version": "3.9.13"
  }
 },
 "nbformat": 4,
 "nbformat_minor": 5
}
