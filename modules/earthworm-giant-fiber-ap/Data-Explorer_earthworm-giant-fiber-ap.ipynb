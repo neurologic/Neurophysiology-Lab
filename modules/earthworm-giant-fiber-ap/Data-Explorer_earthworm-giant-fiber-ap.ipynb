{
 "cells": [
  {
   "cell_type": "markdown",
   "id": "32647951-7dcf-4553-b42a-5d8508d95cf9",
   "metadata": {},
   "source": [
    "# Data Explorer\n",
    "\n",
    "<a href=\"https://colab.research.google.com/github/neurologic/Neurophysiology-Lab/blob/main/modules/earthworm-giant-fiber-ap/Data-Explorer_earthworm-giant-fiber-ap.ipynb\" target=\"_blank\" rel=\"noopener noreferrer\"><img alt=\"Open In Colab\" src=\"https://colab.research.google.com/assets/colab-badge.svg\"/></a>   "
   ]
  },
  {
   "cell_type": "markdown",
   "id": "f07451ff-cf56-4763-b4ac-bd099ba1f145",
   "metadata": {},
   "source": [
    "<a id=\"toc\"></a>\n",
    "# Table of Contents\n",
    "\n",
    "- [Introduction](#intro)\n",
    "- [Setup](#setup)\n",
    "- [Strength Duration Curves](#one)\n",
    "- [Refractory Period](#two)\n",
    "  - [import raw data](#two_import)\n",
    "  - [define bout and trial times](#two_one)\n",
    "  - [analyze data](#two_two)\n"
   ]
  },
  {
   "cell_type": "markdown",
   "id": "38b445ff-7cf7-442e-bb25-83afe6d5a3fb",
   "metadata": {},
   "source": [
    "<a id=\"intro\"></a>\n",
    "# Giant Fiber Excitability\n",
    "\n",
    "In this lab you measured activity in the ventral nerve cord. With electrical stimulation, you evoked action potentials from the medial and lateral giant fibers. The main goal of today is to analyze basic physiological markers of excitability. One of the predominant analysis frameworks you will use is comparing across *trials* for which stimulation parameters varied."
   ]
  },
  {
   "cell_type": "markdown",
   "id": "488d476b-9387-43d7-b4bf-0528d9f4950a",
   "metadata": {},
   "source": [
    "<a id=\"setup\"></a>\n",
    "# Setup\n",
    "\n",
    "[toc](#toc)"
   ]
  },
  {
   "cell_type": "markdown",
   "id": "ac5e6fe8-5ee8-4a44-a353-785ed3d50412",
   "metadata": {},
   "source": [
    "## Import and define functions"
   ]
  },
  {
   "cell_type": "code",
   "execution_count": null,
   "id": "b907ad44-4d78-45f0-8775-8cdaf6584ceb",
   "metadata": {
    "tags": [
     "hide-input"
    ]
   },
   "outputs": [],
   "source": [
    "#@title {display-mode: \"form\" }\n",
    "\n",
    "#@markdown Run this code cell to import packages and define functions \n",
    "import numpy as np\n",
    "import pandas as pd\n",
    "import plotly.express as px\n",
    "import plotly.graph_objects as go\n",
    "from plotly.subplots import make_subplots\n",
    "from scipy import ndimage\n",
    "from scipy.signal import hilbert,medfilt,resample, find_peaks, unit_impulse\n",
    "from scipy.optimize import curve_fit\n",
    "import seaborn as sns\n",
    "from datetime import datetime,timezone,timedelta\n",
    "pal = sns.color_palette(n_colors=15)\n",
    "pal = pal.as_hex()\n",
    "import matplotlib.pyplot as plt\n",
    "import random\n",
    "from numpy import NaN\n",
    "\n",
    "from pathlib import Path\n",
    "\n",
    "from matplotlib.ticker import (AutoMinorLocator, MultipleLocator)\n",
    "from ipywidgets import widgets, interact, interactive,interactive_output\n",
    "%config InlineBackend.figure_format = 'retina'\n",
    "plt.style.use(\"https://raw.githubusercontent.com/NeuromatchAcademy/course-content/master/nma.mplstyle\")\n",
    "\n",
    "\n",
    "def hyper_fit(t,r,c):\n",
    "    return r + ((r*c)/t)\n",
    "\n",
    "print('Task completed at ' + str(datetime.now(timezone(-timedelta(hours=5)))))"
   ]
  },
  {
   "cell_type": "markdown",
   "id": "85f5b456-2a84-416a-8f1d-f480c7a10ad5",
   "metadata": {},
   "source": [
    "## Mount Google Drive"
   ]
  },
  {
   "cell_type": "code",
   "execution_count": null,
   "id": "d84a46ac-5cf3-4765-94fd-07e19f0881d2",
   "metadata": {
    "tags": [
     "hide-input"
    ]
   },
   "outputs": [],
   "source": [
    "#@title {display-mode: \"form\" }\n",
    "\n",
    "#@markdown Run this cell to mount your Google Drive.\n",
    "\n",
    "from google.colab import drive\n",
    "drive.mount('/content/drive')\n",
    "\n",
    "print('Task completed at ' + str(datetime.now(timezone(-timedelta(hours=5)))))"
   ]
  },
  {
   "cell_type": "markdown",
   "id": "813ebf54-fbfc-4c4f-a288-dc1137478414",
   "metadata": {
    "tags": []
   },
   "source": [
    "<a id=\"one\"></a>\n",
    "# Strength-Duration Curves\n",
    "\n",
    "First, enter your stimulus duration and amplitude data into a .csv file. Then, you will import that .csv file so that you can fit a hyperbolic estimate to the data. Each row in the table should be a different stimulus condition. Each column in the table should be stimulus duration or amplitude data for each samples (different neurons and/or worms). The first row of the spreadsheet needs to contain a unique identifying header/name for each column.   "
   ]
  },
  {
   "cell_type": "markdown",
   "id": "29daac92-ca44-47ec-8e4a-4f9155d8dbc2",
   "metadata": {},
   "source": [
    "## Read, fit, and plot strength-duration threshold data\n",
    "\n",
    "The following code cell will import the data from your .csv file and plot it as a scatterplot. Additionally, the data will be fit to the following hyperbolic equation:\n",
    "\n",
    "$$\n",
    "a = r + \\frac{(r*c)}{t}\n",
    "$$\n",
    "\n",
    "where $a$ is the stimulus amplitude, $r$ is the rheobase, $c$ is the chronaxie, and $t$ is the stimulus duration."
   ]
  },
  {
   "cell_type": "code",
   "execution_count": null,
   "id": "42fa55ad-bbb3-4cee-aae1-4575784051de",
   "metadata": {
    "tags": [
     "hide-input"
    ]
   },
   "outputs": [],
   "source": [
    "#@title {display-mode:\"form\"}\n",
    "\n",
    "#@markdown Speficy the filepath to a csv file\n",
    "filepath = 'full filepath goes here' #@param\n",
    "# filepath = '/Users/kperks/Documents/Teaching/Neurophysiology-Lab/modules/earthworm-giant-fiber-ap/rheobase.csv' #@param\n",
    "#@markdown Speficy the header name of one column you want for your x points\n",
    "x_column = 'duration' #@param\n",
    "#@markdown Speficy the header name of one column you want for your y points\n",
    "y_column = 'amplitude' #@param\n",
    "\n",
    "#@markdown Then run this code cell to plot the raw data and the estimated strength-duration curve for this one sample. \n",
    "#@markdown The 'r' and 'c' values will be printed out above the data plot.\n",
    "\n",
    "df = pd.read_csv(filepath)\n",
    "hfig,ax = plt.subplots(figsize=(6,5))\n",
    "sns.scatterplot(x=x_column,y=y_column,data=df,color='black');\n",
    "ax.set_xscale('log')\n",
    "\n",
    "\n",
    "params, covs = curve_fit(hyper_fit, df[x_column].dropna(),df[y_column].dropna())\n",
    "\n",
    "t_ = np.arange(0.01,3,0.01)\n",
    "a_ = hyper_fit(t_,params[0],params[1])\n",
    "ax.plot(t_,a_,color = 'gray',linestyle='--')\n",
    "ax.hlines(params[0],0,3,color = 'green')\n",
    "ax.hlines(2*params[0],0,3,color = 'green',linestyle='--')\n",
    "ax.vlines(params[1],0,2*params[0],color='purple',linestyle='--')\n",
    "ax.set_ylabel('amplitude (v)')\n",
    "ax.set_xlabel('duration (ms)');\n",
    "ax.set_ylim(0,10)\n",
    "\n",
    "print(f'r = {params[0]}; c = {params[1]}')"
   ]
  },
  {
   "cell_type": "markdown",
   "id": "9df52d2f-b1be-4c74-8316-9ff3343d1353",
   "metadata": {},
   "source": [
    "## Compare strength-duration estimate across samples"
   ]
  },
  {
   "cell_type": "code",
   "execution_count": null,
   "id": "170fa0f9-fc0b-4222-87b5-f0ea74be77ed",
   "metadata": {
    "tags": [
     "hide-input"
    ]
   },
   "outputs": [],
   "source": [
    "#@title {display-mode:\"form\"}\n",
    "\n",
    "#@markdown Specify the rheobase for each sample\n",
    "r = [None] #@param\n",
    "#@markdown Specify the chronaxie for each sample\n",
    "c = [None] #@param\n",
    "#@markdown Specify a label for each sample\n",
    "label = ['none'] #@param\n",
    "#@markdown Specify whether you want to plot the x-axis as 'log' or 'linear'\n",
    "x_axis_scale = 'log'\n",
    "\n",
    "#@markdown Then run this code cell to plot the estimated strength-duration curve for each sample. \n",
    "#@markdown The chronaxie will be marked with scatter dot and a gray line connected to the x-axis for each sample.\n",
    "\n",
    "t_ = np.arange(0.01,3,0.01)\n",
    "\n",
    "hfig,ax = plt.subplots(figsize=(6,5))\n",
    "\n",
    "for r_,c_,label_ in zip(r,c,label):\n",
    "    \n",
    "    \n",
    "    a_ = hyper_fit(t_,r_,c_)\n",
    "    ax.plot(t_,a_,label=label_)\n",
    "    ax.scatter(c_,2*r_,zorder=3)\n",
    "    ax.vlines(c_,0,2*r_,color='gray')\n",
    "\n",
    "ax.set_ylabel('amplitude (v)')\n",
    "ax.set_xlabel('duration (ms)');\n",
    "ax.set_ylim(0,10)\n",
    "ax.set_xscale(x_axis_scale)\n",
    "plt.legend();"
   ]
  },
  {
   "cell_type": "markdown",
   "id": "11afb9c8-8543-4978-bdaa-0d79151e24db",
   "metadata": {},
   "source": [
    "<a id=\"two\"></a>\n",
    "# Refractory Period\n",
    "\n",
    "In this section, you will load the raw data aquired and saved using Bonsai-rx as a .bin file. In this experiment, you used paired stimulus pulses instead of single stimulus pulses. Therefore, a single trial consists of two stimulus pulses. If there were no glitches in stimulation during the experiment and detection in the \"stimulus times\" processing step, then the even stimulus pulses (0,2,....n-1) should be the 'control' pulse and the odd stimulus pulses (1,3,...n) should be the 'experimental' pulses. You can make adjustments to your records as needed if there were abherent pulses. \n",
    "\n",
    "You can also use the data visualization tools in this section to get plots of example trials from your rheobase/chronaxie data."
   ]
  },
  {
   "cell_type": "markdown",
   "id": "dfd155f9-cf42-4d7d-98a7-3f2432cf2e5e",
   "metadata": {},
   "source": [
    "<a id=\"two_import\"></a>\n",
    "## Import data \n",
    "\n",
    "Import data digitized with *Nidaq USB6211* and recorded using *Bonsai-rx* as a *.bin* file\n",
    "\n",
    "> If you would like to explore the analysis for this lab, but do not have data, you can download examples for the following experiments using the linked shared files:  \n",
    "    - [Medial Giant stimulus-duration pulse examples](https://drive.google.com/file/d/1sdjIaYnBN8jM9eU8-wjUlSHGrTxbUs_H/view?usp=sharing)  \n",
    "    - [Medial Giant Fiber Paired Pulse stimulation](https://drive.google.com/file/d/1J6Q7aBldjysvusZlwqvsNZrS-BAqwErA/view?usp=sharing)  \n",
    "    - [Lateral Giant stimulus-duration pulse examples](https://drive.google.com/file/d/1x9J2eiVzWZOrOMExR_O0cigj3zT9UYAX/view?usp=sharing)  \n",
    "    - [Lateral Giant Fiber Paired Pulse stimulation](https://drive.google.com/file/d/1oVZSZJyxfoEV9bWuhBFFB-k42IX7BkVe/view?usp=sharing)  \n",
    "For all examples, the sample rate was 30000 with two channels (channel 0 was the nerve signal and channel 1 was the stimulus monitor). The distance between stimulation and ch0 measurement electrodes was not measured.  \n",
    "\n",
    ">The processed data is also available in .csv file format:  \n",
    "    - [Medial Giant Paired Pulse processed data](https://drive.google.com/file/d/1ueQrSTUyK4kngDn6qWfSyolDZ4mMoRbF/view?usp=sharing)  \n",
    "    - [Medial and Lateral Giant stimulus-duration processed data](https://drive.google.com/file/d/1ZYk_f83P4GYGqQr9Vgly7S_NCr2apI8Y/view?usp=sharing)"
   ]
  },
  {
   "cell_type": "code",
   "execution_count": null,
   "id": "6fc27eac-7157-4510-9239-466ca324c58d",
   "metadata": {
    "tags": [
     "hide-input"
    ]
   },
   "outputs": [],
   "source": [
    "#@title {display-mode: \"form\" }\n",
    "\n",
    "#@markdown Specify the file path \n",
    "#@markdown to your recorded data in the colab runtime (find the filepath in the colab file manager):\n",
    "\n",
    "filepath = \"full filepath goes here\"  #@param \n",
    "# filepath = '/Volumes/Untitled/BIOL247/data/earthworm-giant-fiber-cap/diff_cv_0.bin'  #@param \n",
    "# filepath = '/Volumes/Untitled/BIOL247/data/earthworm-giant-fiber-ap/KP_20220930_30khz_2chan/rheo-chr-mgf.bin'\n",
    "\n",
    "#@markdown Specify the sampling rate and number of channels recorded.\n",
    "\n",
    "sampling_rate = NaN #@param\n",
    "number_channels = NaN #@param\n",
    "\n",
    "# sampling_rate = 30000 #@param\n",
    "# number_channels = 2 #@param\n",
    "\n",
    "# downsample = False #@param\n",
    "# newfs = 10000 #@param\n",
    "\n",
    "#@markdown After you have filled out all form fields, \n",
    "#@markdown run this code cell to load the data. \n",
    "\n",
    "filepath = Path(filepath)\n",
    "\n",
    "# No need to edit below this line\n",
    "#################################\n",
    "data = np.fromfile(Path(filepath), dtype = np.float64)\n",
    "data = data.reshape(-1,number_channels)\n",
    "data_dur = np.shape(data)[0]/sampling_rate\n",
    "print('duration of recording was %0.2f seconds' %data_dur)\n",
    "\n",
    "fs = sampling_rate\n",
    "# if downsample:\n",
    "#     # newfs = 10000 #downsample emg data\n",
    "#     chunksize = int(sampling_rate/newfs)\n",
    "#     data = data[0::chunksize,:]\n",
    "#     fs = int(np.shape(data)[0]/data_dur)\n",
    "\n",
    "time = np.linspace(0,data_dur,np.shape(data)[0])\n",
    "\n",
    "print('Data upload completed at ' + str(datetime.now(timezone(-timedelta(hours=5)))))"
   ]
  },
  {
   "cell_type": "markdown",
   "id": "caaf4c27-c930-4542-9f51-aba353b37a12",
   "metadata": {},
   "source": [
    "## Plot raw data"
   ]
  },
  {
   "cell_type": "code",
   "execution_count": null,
   "id": "cb4451d0-cff7-484e-bf5d-3e65c425b147",
   "metadata": {
    "tags": [
     "hide-input"
    ]
   },
   "outputs": [],
   "source": [
    "#@title {display-mode: \"form\"}\n",
    "\n",
    "#@markdown Run this code cell to plot the imported data. <br> \n",
    "#@markdown Use the range slider to scroll through the data in time.\n",
    "#@markdown Use the channel slider to choose which channel to plot\n",
    "#@markdown Be patient with the range refresh... the more data you are plotting the slower it will be. \n",
    "\n",
    "slider_xrange = widgets.FloatRangeSlider(\n",
    "    min=0,\n",
    "    max=data_dur,\n",
    "    value=(0,1),\n",
    "    step= 1,\n",
    "    readout=True,\n",
    "    continuous_update=False,\n",
    "    description='Time Range (s)')\n",
    "slider_xrange.layout.width = '600px'\n",
    "\n",
    "slider_chan = widgets.IntSlider(\n",
    "    min=0,\n",
    "    max=number_channels-1,\n",
    "    value=0,\n",
    "    step= 1,\n",
    "    continuous_update=False,\n",
    "    description='channel')\n",
    "slider_chan.layout.width = '300px'\n",
    "\n",
    "# a function that will modify the xaxis range\n",
    "def update_plot(x,chan):\n",
    "    fig, ax = plt.subplots(figsize=(10,5),num=1); #specify figure number so that it does not keep creating new ones\n",
    "    starti = int(x[0]*fs)\n",
    "    stopi = int(x[1]*fs)\n",
    "    ax.plot(time[starti:stopi], data[starti:stopi,chan])\n",
    "\n",
    "w = interact(update_plot, x=slider_xrange, chan=slider_chan);"
   ]
  },
  {
   "cell_type": "markdown",
   "id": "69eef312-a1ec-4dc6-ba47-a45be1f91e58",
   "metadata": {},
   "source": [
    "For a more extensive ***RAW*** Data Explorer than the one provided in the above figure, use the [DataExplorer.py](https://raw.githubusercontent.com/neurologic/Neurophysiology-Lab/main/howto/Data-Explorer.py) application found in the [howto section](https://neurologic.github.io/Neurophysiology-Lab/howto/Dash-Data-Explorer.html) of the course website."
   ]
  },
  {
   "cell_type": "markdown",
   "id": "be92808a-e067-4662-a7ae-57707d90765a",
   "metadata": {},
   "source": [
    "<a id=\"two_one\"></a>\n",
    "## Define bout and stimulus times\n",
    "\n",
    "The time between stimulus onset and action potential, and the time between two stimulus pulses are critical parameters of the data on each trial. \n",
    "\n",
    "Our first task in processing and analyzing data from this experiment is to figure out the stimulus onset times. You can then segment the data in to separate bouts if the raw recording was not one continuous successful protocol. "
   ]
  },
  {
   "cell_type": "markdown",
   "id": "5e30e1b5-5812-484f-96fa-c9a722877b89",
   "metadata": {},
   "source": [
    "### Define stimulus times"
   ]
  },
  {
   "cell_type": "code",
   "execution_count": null,
   "id": "d0256f0d-3f55-4fcb-9325-e71513f61157",
   "metadata": {
    "tags": [
     "hide-input"
    ]
   },
   "outputs": [],
   "source": [
    "#@title {display-mode: \"form\"}\n",
    "\n",
    "#@markdown Run this cell to create an interactive plot with a slider to scroll \n",
    "#@markdown through the signal\n",
    "#@markdown and set an appropriate event detection threshold  \n",
    "#@markdown (you can do so based on level crossing or peaks). \n",
    "\n",
    "slider_xrange = widgets.FloatRangeSlider(\n",
    "    min=0,\n",
    "    max=data_dur,\n",
    "    value=(0,1),\n",
    "    step= 0.5,\n",
    "    readout=True,\n",
    "    continuous_update=False,\n",
    "    description='Time Range (s)',\n",
    "    style = {'description_width': '200px'})\n",
    "slider_xrange.layout.width = '600px'\n",
    "\n",
    "# slider_yrange = widgets.FloatRangeSlider(\n",
    "#     min=np.min(stim)-0.5,\n",
    "#     max=np.max(stim)+0.5,\n",
    "#     value=[np.min(stim),np.max(stim)],\n",
    "#     step=0.05,\n",
    "#     continuous_update=False,\n",
    "#     readout=True,\n",
    "#     description='yrange',\n",
    "#     style = {'description_width': '200px'})\n",
    "# slider_yrange.layout.width = '600px'\n",
    "\n",
    "select_channel = widgets.Select(\n",
    "    options=np.arange(np.shape(data)[1]), # start with a single trial on a single bout... it will update when runs ; old: np.arange(len(trial_times)),\n",
    "    value=0,\n",
    "    #rows=10,\n",
    "    description='Channel used to detect events',\n",
    "    style = {'description_width': '200px'},\n",
    "    disabled=False\n",
    ")\n",
    "\n",
    "slider_threshold = widgets.FloatSlider(\n",
    "    min=-2,\n",
    "    max=2,\n",
    "    value=0.2,\n",
    "    step=0.001,\n",
    "    readout_format='.3f',\n",
    "    continuous_update=False,\n",
    "    readout=True,\n",
    "    description='event detection threshold',\n",
    "    style = {'description_width': '200px'})\n",
    "slider_threshold.layout.width = '600px'\n",
    "\n",
    "detect_type_radio = widgets.RadioButtons(\n",
    "    options=['peak', 'level crossing'],\n",
    "    value='level crossing', # Defaults to 'level crossing'\n",
    "    layout={'width': 'max-content'}, # If the items' names are long\n",
    "    description='Type of event detection',\n",
    "    style = {'description_width': '200px'},\n",
    "    disabled=False\n",
    ")\n",
    "\n",
    "iei_text = widgets.Text(\n",
    "    value='0.005',\n",
    "    placeholder='0.005',\n",
    "    description='min IEI (seconds)',\n",
    "    style = {'description_width': '200px'},\n",
    "    disabled=False\n",
    ")\n",
    "\n",
    "def update_plot(chan_,xrange,thresh_,detect_type,iei):\n",
    "    fig, ax = plt.subplots(figsize=(10,5),num=1); #specify figure number so that it does not keep creating new ones\n",
    "    \n",
    "    signal = data[:,chan_]\n",
    "    signal = signal-np.median(signal)\n",
    "    \n",
    "    iei = float(iei)\n",
    "    \n",
    "    if iei>0.001:\n",
    "        d = iei*fs #minimum time allowed between distinct events\n",
    "        \n",
    "        if detect_type == 'peak':\n",
    "            if thresh_ >=0:\n",
    "                r = find_peaks(signal,height=thresh_,distance=d)\n",
    "            if thresh_ <0:\n",
    "                r = find_peaks(-1*signal,height=-1*thresh_,distance=d)\n",
    "            trial_times = r[0]/fs\n",
    "\n",
    "        if detect_type == 'level crossing':\n",
    "            # get the changes in bool value for a bool of signal greater than threshold\n",
    "            threshold_crossings = np.diff(signal > thresh_, prepend=False)\n",
    "            # get indices where threshold crossings are true\n",
    "            tcross = np.argwhere(threshold_crossings)[:,0]\n",
    "            # get a mask for only positive level crossings\n",
    "            mask_ = [signal[t+1]-signal[t] > 0 for t in tcross]\n",
    "            # trial times are positive level crossings\n",
    "            trial_times = tcross[mask_]/fs\n",
    "\n",
    "        starti = int(xrange[0]*fs)+1\n",
    "        stopi = int(xrange[1]*fs)-1\n",
    "        ax.plot(time[starti:stopi], signal[starti:stopi], color='black')\n",
    "        \n",
    "        # ax.plot(tmp,color='black')\n",
    "        ax.hlines(thresh_, time[starti],time[stopi],linestyle='--',color='green')\n",
    "        ax.scatter(trial_times,[thresh_]*len(trial_times),marker='^',s=300,color='purple',zorder=3)\n",
    "        # ax.set_ylim(yrange[0],yrange[1])\n",
    "        ax.set_xlim(xrange[0],xrange[1])\n",
    "        \n",
    "\n",
    "        ax.xaxis.set_minor_locator(AutoMinorLocator(5))\n",
    "\n",
    "              \n",
    "        return trial_times\n",
    "\n",
    "w_trials_ = interactive(update_plot, chan_=select_channel, \n",
    "                        xrange=slider_xrange, \n",
    "                        thresh_=slider_threshold, detect_type = detect_type_radio, iei = iei_text);\n",
    "display(w_trials_)"
   ]
  },
  {
   "cell_type": "code",
   "execution_count": null,
   "id": "0ebea80c-6fc4-4ad0-900a-8c4bf314f6eb",
   "metadata": {
    "tags": [
     "hide-input"
    ]
   },
   "outputs": [],
   "source": [
    "#@title {display-mode: \"form\"}\n",
    "\n",
    "#@markdown Run this cell to finalize the list of event times \n",
    "#@markdown after settling on a channel and threshold in the interactive plot. <br> \n",
    "#@markdown This stores the event times in an array called 'event_times'. <br>\n",
    "#@markdown NOTE: You may have to use \"peaks\" method for shorter stimulus pulse durations (separately).\n",
    "trial_times = w_trials_.result\n",
    "\n"
   ]
  },
  {
   "cell_type": "markdown",
   "id": "2c61993b-bad0-4f65-853d-efa2eee9f37f",
   "metadata": {},
   "source": [
    "### Define Bouts"
   ]
  },
  {
   "cell_type": "code",
   "execution_count": null,
   "id": "5c081e0b-7544-43e8-9b7b-c8ed8ff3eece",
   "metadata": {
    "tags": [
     "hide-input"
    ]
   },
   "outputs": [],
   "source": [
    "#@title {display-mode: \"form\"}\n",
    "\n",
    "#@markdown For this experiment, the entire file should be one long bout, \n",
    "#@markdown but if there were regions that something got messed up or that you want to exclude, you can specify bouts with good data.\n",
    "#@markdown Specify the list of bout ranges as follows: [[start of bout 0, end of bout 0],[start 1, end 1],...]] <br>\n",
    "\n",
    "bouts_list = [[NaN,NaN]] #@param\n",
    "# bouts_list = [[2,10],[10,20],[20,30],[30,45],[45,55],[55,70],[70,85],[85,100],[100,120]]\n",
    "# bouts_list = [[0,20]]\n",
    "\n",
    "#@markdown Then run this code cell to programatically define the list of bouts as 'bouts_list'."
   ]
  },
  {
   "cell_type": "markdown",
   "id": "d9823a59-8623-454e-b18f-5380d150d174",
   "metadata": {},
   "source": [
    "<a id=\"two_two\"></a>\n",
    "## Analyze Data"
   ]
  },
  {
   "cell_type": "code",
   "execution_count": null,
   "id": "60f56f25-65ac-43bf-a986-56d48dab703a",
   "metadata": {
    "tags": [
     "hide-input"
    ]
   },
   "outputs": [],
   "source": [
    "#@title {display-mode:\"form\"}\n",
    "\n",
    "#@markdown Run this code cell to create an interactive plot to  \n",
    "#@markdown examine the raw signal time-locked to individual events (event_times).\n",
    "#@markdown You can overlay multple channels by selecting more than one.\n",
    "#@markdown You can overlay multiple event times by selecting more than one. \n",
    "#@markdown (To select more than one item from an option menu, press the control/command key \n",
    "#@markdown while mouse clicking or shift while using up/down arrows)\n",
    "\n",
    "slider_xrange = widgets.FloatRangeSlider(\n",
    "    min=-0.01,\n",
    "    max=0.05,\n",
    "    value=(-0.001,0.03),\n",
    "    step=0.0005,\n",
    "    continuous_update=False,\n",
    "    readout=True,\n",
    "    readout_format='.4f',\n",
    "    description='xrange (s)'\n",
    ")\n",
    "slider_xrange.layout.width = '600px'\n",
    "\n",
    "slider_yrange = widgets.FloatRangeSlider(\n",
    "    min=-5,\n",
    "    max=5, # normal range for earthworm experiments\n",
    "    value=(-0.5,1),\n",
    "    step=0.05,\n",
    "    continuous_update=False,\n",
    "    readout=True,\n",
    "    description='yrange'\n",
    ")\n",
    "slider_yrange.layout.width = '600px'\n",
    "\n",
    "ui_range = widgets.VBox([slider_xrange, slider_yrange])\n",
    "\n",
    "# trials in bout 0 to start...\n",
    "trials_t = trial_times[(trial_times>bouts_list[0][0]) & (trial_times<bouts_list[0][1])]\n",
    "\n",
    "odd_even_radio = widgets.RadioButtons(\n",
    "    options=['odd', 'even', 'all'],\n",
    "    value='all', # Defaults to 'none'\n",
    "    layout={'width': 'max-content'}, # If the items' names are long\n",
    "    description='show only events by: ',\n",
    "    style = {'description_width': '400px'},\n",
    "    disabled=False\n",
    ")\n",
    "\n",
    "select_channels = widgets.SelectMultiple(\n",
    "    options=np.arange(np.shape(data)[1]), # start with a single trial on a single bout... it will update when runs ,\n",
    "    value=[0],\n",
    "    #rows=10,\n",
    "    description='Channels',\n",
    "    disabled=False\n",
    ")\n",
    "\n",
    "select_bouts = widgets.Select(\n",
    "    options=np.arange(len(bouts_list)), # start with a single trial on a single bout... it will update when runs ; old: np.arange(len(trial_times)),\n",
    "    value=0,\n",
    "    #rows=10,\n",
    "    description='Bouts',\n",
    "    disabled=False\n",
    ")\n",
    "\n",
    "select_trials = widgets.SelectMultiple(\n",
    "    options=np.arange(len(trials_t)), # start with a single trial on a single bout... it will update when runs ,\n",
    "    value=[0],\n",
    "    #rows=10,\n",
    "    description='Events',\n",
    "    disabled=False\n",
    ")\n",
    "\n",
    "ui_trials = widgets.HBox([select_channels, select_trials, select_bouts])\n",
    "\n",
    "slider_threshold = widgets.FloatSlider(\n",
    "    min=-1,\n",
    "    max=1,\n",
    "    value=0.25,\n",
    "    step=0.001,\n",
    "    readout_format='.3f',\n",
    "    continuous_update=False,\n",
    "    readout=True,\n",
    "    description='peak detection threshold',\n",
    "    style = {'description_width': '200px'})\n",
    "slider_threshold.layout.width = '600px'\n",
    "\n",
    "detect_chan_radio = widgets.RadioButtons(\n",
    "    options=['0', '1', 'none'],\n",
    "    value='none', # Defaults to 'none'\n",
    "    layout={'width': 'max-content'}, # If the items' names are long\n",
    "    description='detect delay to peaks on channel: ',\n",
    "    style = {'description_width': '400px'},\n",
    "    disabled=False\n",
    ")\n",
    "\n",
    "ui_peaks = widgets.VBox([detect_chan_radio, slider_threshold])\n",
    "\n",
    "trial_abs_readout = widgets.Label(\n",
    "    value=f'time of this event is (sec): {NaN}'\n",
    ")\n",
    "trial_abs_readout.layout.width = '600px'\n",
    "\n",
    "trial_readout = widgets.Label(\n",
    "    value=f'time since last event is: {NaN}'\n",
    ")\n",
    "trial_readout.layout.width = '600px'\n",
    "\n",
    "lagging_time_readout = widgets.Label(\n",
    "    value=f'lagging peak times are: {NaN}'\n",
    ")\n",
    "lagging_time_readout.layout.width = '600px'\n",
    "\n",
    "lagging_amp_readout = widgets.Label(\n",
    "    value=f'lagging peak amplitudes are: {NaN}'\n",
    ")\n",
    "lagging_amp_readout.layout.width = '600px'\n",
    "\n",
    "def update_plot(trial_sort_,chan_list,trial_list,bout_,yrange,xrange,lagging_chan_,thresh_):\n",
    "    fig, ax = plt.subplots(figsize=(8,4))# ,ncols=1, nrows=1); #specify figure number so that it does not keep creating new ones\n",
    " \n",
    "    win_0 = int(xrange[0]*fs)\n",
    "    win_1 = int(xrange[1]*fs)\n",
    "    xtime = np.linspace(xrange[0],xrange[1],(win_1 - win_0))\n",
    "    \n",
    "    trials_t = trial_times[(trial_times>bouts_list[bout_][0]) & (trial_times<bouts_list[bout_][1])]\n",
    "    trials_init_ = np.arange(len(trials_t))\n",
    "    \n",
    "    if trial_sort_=='all':                     \n",
    "        select_trials.options = trials_init_\n",
    "\n",
    "        trial_list = [t_try for t_try in trial_list if t_try in trials_init_]\n",
    "        select_trials.value = trial_list\n",
    "\n",
    "    if trial_sort_=='even':                     \n",
    "        select_trials.options = trials_init_[0::2]\n",
    "\n",
    "        trial_list = [t_try for t_try in trial_list if t_try in trials_init_[0::2]]\n",
    "        select_trials.value = trial_list                         \n",
    "    \n",
    "    if trial_sort_=='odd':                     \n",
    "        select_trials.options = trials_init_[1::2]\n",
    "\n",
    "        trial_list = [t_try for t_try in trial_list if t_try in trials_init_[1::2]]\n",
    "        select_trials.value = trial_list                                 \n",
    "    \n",
    "    lagging_time_readout.value=f'lagging peak times are: {NaN}'\n",
    "    lagging_amp_readout.value=f'lagging peak amplitudes are: {NaN}'\n",
    "    trial_abs_readout.value=f'time of this event is: {NaN}'\n",
    "    trial_readout.value=f'time since last event is: {NaN}'\n",
    "    \n",
    "    channel_colors = ['purple','green','blue','orange']\n",
    "    for chan_ in chan_list:\n",
    "        this_chan = data[:,chan_]\n",
    "        for trial_ in trial_list:\n",
    "            if trial_ in trials_init_:\n",
    "                t_ = trials_t[trial_]\n",
    "\n",
    "                if ((int(fs*t_)+win_0)>0) & ((int(fs*t_)+win_1))<len(this_chan):\n",
    "                    data_sweep = this_chan[(int(fs*t_)+win_0):(int(fs*t_)+win_1)]\n",
    "\n",
    "                    ax.plot(xtime,data_sweep,color=channel_colors[chan_],linewidth=2,alpha=0.5)\n",
    "    \n",
    "    d = 0.0005*fs\n",
    "    if (lagging_chan_ != 'none') & (len(trial_list)==1):\n",
    "        ax.hlines(thresh_, xrange[0],xrange[1],linestyle='--',color='green')\n",
    "        lagging_chan_ = int(lagging_chan_)\n",
    "        lagging_signal = data[(int(fs*t_)+win_0):(int(fs*t_)+win_1),lagging_chan_]\n",
    "        if thresh_ >=0:\n",
    "            r = find_peaks(lagging_signal,height=thresh_,distance=d)\n",
    "            lagging_peak_amp = r[1]['peak_heights']\n",
    "        if thresh_ <0:\n",
    "            r = find_peaks(-1*lagging_signal,height=-1*thresh_,distance=d)\n",
    "            lagging_peak_amp = -1*r[1]['peak_heights']\n",
    "            # print(r)\n",
    "            \n",
    "        lagging_peak_amp = [np.round(a,2) for a in lagging_peak_amp]\n",
    "        \n",
    "        lagging_peak_times = [np.round(xtime[lt],5) for lt in r[0]]#r[0]/fs\n",
    "        lagging_time_readout.value=f'lagging peak times are (ms): {[t*1000 for t in lagging_peak_times]}'\n",
    "        lagging_amp_readout.value=f'lagging peak amplitudes are (V): {lagging_peak_amp}'\n",
    "        \n",
    "        if trial_list[0] == 0:\n",
    "            trial_readout.value=f'time since last event is: {NaN}'\n",
    "            trial_abs_readout.value=f'time of this event is: {NaN}'\n",
    "        if trial_list[0] > 0:\n",
    "            iti = 1000*(trials_t[trial_list[0]] - trials_t[trial_list[0]-1])\n",
    "            trial_readout.value=f'time since last event is (msec): {iti:.2f}'\n",
    "            trial_abs_readout.value=f'time of this event is (sec): {trials_t[trial_list[0]]}'\n",
    "        \n",
    "        for lt_ in lagging_peak_times:\n",
    "            ax.scatter(lagging_peak_times,lagging_peak_amp,color='black',s=50,zorder=3)\n",
    "    \n",
    "\n",
    "    ax.set_ylim(yrange[0],yrange[1]);\n",
    "    ax.set_xlabel('seconds')\n",
    "    # ax.vlines(0,yrange[0],yrange[1],color='black')\n",
    "\n",
    "    \n",
    "#     # Change major ticks to show every 20.\n",
    "    # ax_pwm.xaxis.set_major_locator(MultipleLocator(5))\n",
    "    # ax_pwm.yaxis.set_major_locator(MultipleLocator(5))\n",
    "\n",
    "    # # Change minor ticks to show every 5. (20/4 = 5)\n",
    "    # ax_mro.yaxis.set_minor_locator(AutoMinorLocator(10))\n",
    "    ax.xaxis.set_minor_locator(AutoMinorLocator(10))\n",
    "    # ax_pwm.yaxis.set_minor_locator(AutoMinorLocator(5))\n",
    "\n",
    "#     # Turn grid on for both major and minor ticks and style minor slightly\n",
    "# #     # differently.\n",
    "    ax.grid(which='major', color='gray', linestyle='-')\n",
    "    ax.grid(which='minor', color='gray', linestyle=':')\n",
    "#     ax_pwm.grid(which='major', color='gray', linestyle='-')\n",
    "#     ax_pwm.grid(which='minor', color='gray', linestyle=':')\n",
    "\n",
    "\n",
    "# display(w)\n",
    "w = interactive_output(update_plot, {'trial_sort_':odd_even_radio,\n",
    "                                     'chan_list':select_channels,\n",
    "                                     'trial_list':select_trials, \n",
    "                                     'bout_':select_bouts,\n",
    "                                     'yrange':slider_yrange, \n",
    "                                     'xrange':slider_xrange,\n",
    "                                     'lagging_chan_':detect_chan_radio,\n",
    "                                     'thresh_':slider_threshold});\n",
    "display(trial_abs_readout,trial_readout,lagging_time_readout,lagging_amp_readout,\n",
    "        odd_even_radio,ui_trials,ui_peaks,w,ui_range)\n"
   ]
  },
  {
   "cell_type": "code",
   "execution_count": null,
   "id": "1397ddc3-810b-43bc-aa35-e00a47abf1c9",
   "metadata": {
    "tags": [
     "hide-input"
    ]
   },
   "outputs": [],
   "source": [
    "#@title {display-mode:\"form\"}\n",
    "\n",
    "#@markdown Specify the filepath to a csv file\n",
    "filepath = 'filepath to csv' #@param\n",
    "\n",
    "#@markdown Specify the header name of the column you want for your x points. \n",
    "#@markdown If more than one header is specified (separated by commas), each will be plotted overlaid in a different color for a violin plot.\n",
    "x_column = ['column header(s) for x axis'] #@param\n",
    "\n",
    "# #@markdown Specify categorical bins using np.arange(start,stop,step) if the x_column is a continuous variable. \n",
    "# #@markdown Use empty brackets if not needed.\n",
    "# categorical_bins = np.arange(0,25,0.5) #@param\n",
    "\n",
    "#@markdown Specify the header name of the column you want for your y points. \n",
    "#@markdown If more than one header is specified (separated by commas), each will be plotted overlaid in a different color for a scatter plot\n",
    "y_column = ['column header(s) for y axis'] #@param\n",
    "\n",
    "#@markdown Specify the plot type ('scatter' or 'violin'). Note that for a 'violin' plot, only the 'x_column' data would be used.\n",
    "plot_type = 'plot type' #@param\n",
    "\n",
    "#@markdown Specify the x-axis range for the plot\n",
    "x_lim = [0,10] #@param\n",
    "\n",
    "\n",
    "df = pd.read_csv(filepath)\n",
    "\n",
    "hfig,ax = plt.subplots(figsize=(10,5))\n",
    "\n",
    "if plot_type == 'scatter':\n",
    "    df_melted = df[y_column+x_column].melt(x_column[0],var_name='headers')\n",
    "    g = sns.scatterplot(data=df_melted,x=x_column[0],y='value',hue='headers',alpha=0.75);\n",
    "            \n",
    "if plot_type == 'point':\n",
    "    df_melted = df[y_column+x_column].melt(x_column[0],var_name='headers')\n",
    "    \n",
    "    if len(categorical_bins)>0:\n",
    "        df_melted[x_column[0]] = pd.cut(df_melted[x_column[0]],bins=categorical_bins,labels=categorical_bins[1:])\n",
    "        \n",
    "    g = sns.pointplot(data=df_melted,x=x_column[0],y='value',hue='headers',alpha=0.75);\n",
    "\n",
    "        \n",
    "if plot_type == 'violin':\n",
    "  # sns.stripplot(y=y_column,data=df,color='black',size=10);\n",
    "    if len(x_column)==1:\n",
    "        g = sns.violinplot(x=x_column[0],data=df,color='grey')\n",
    "    if len(x_column)>1:\n",
    "        df_melted = df[x_column].dropna().melt(var_name='headers')\n",
    "        g = sns.violinplot(x='value',y='headers',split=True,data=df_melted, inner=\"stick\")\n",
    "        \n",
    "g.legend(loc='center left', bbox_to_anchor=(1, 0.5), ncol=1)\n",
    "ax.set_xlim(x_lim[0],x_lim[1])\n"
   ]
  },
  {
   "cell_type": "markdown",
   "id": "d451b557-6777-4492-955e-a41130ad39b9",
   "metadata": {},
   "source": [
    "<hr> \n",
    "Written by Dr. Krista Perks for courses taught at Wesleyan University."
   ]
  },
  {
   "cell_type": "code",
   "execution_count": null,
   "id": "38fc3e2e-0fda-4e5a-8b7e-e977aa87d8e4",
   "metadata": {},
   "outputs": [],
   "source": []
  },
  {
   "cell_type": "code",
   "execution_count": null,
   "id": "5c707588-d5f6-4142-8289-da7ba6a97dbc",
   "metadata": {},
   "outputs": [],
   "source": []
  },
  {
   "cell_type": "markdown",
   "id": "57a8a68c-055e-4af0-ba4d-67d0d67148f1",
   "metadata": {},
   "source": [
    "<a id=\"setup\"></a>"
   ]
  },
  {
   "cell_type": "markdown",
   "id": "a350712e-e145-4475-9588-e3f19469b5ce",
   "metadata": {},
   "source": [
    "<a id=\"one\"></a>"
   ]
  },
  {
   "cell_type": "markdown",
   "id": "86fd2b4a-b890-465f-bf33-c2057738789e",
   "metadata": {},
   "source": [
    "<a id=\"two\"></a>"
   ]
  },
  {
   "cell_type": "markdown",
   "id": "b05de192-2baf-4d46-8848-6db1e3b50bff",
   "metadata": {},
   "source": [
    "<a id=\"three\"></a>"
   ]
  },
  {
   "cell_type": "markdown",
   "id": "e6519277-fc86-44fd-a75b-f74cad0efcf1",
   "metadata": {},
   "source": [
    "<a id=\"four\"></a>"
   ]
  }
 ],
 "metadata": {
  "kernelspec": {
   "display_name": "Python 3 (ipykernel)",
   "language": "python",
   "name": "python3"
  },
  "language_info": {
   "codemirror_mode": {
    "name": "ipython",
    "version": 3
   },
   "file_extension": ".py",
   "mimetype": "text/x-python",
   "name": "python",
   "nbconvert_exporter": "python",
   "pygments_lexer": "ipython3",
   "version": "3.8.13"
  },
  "widgets": {
   "application/vnd.jupyter.widget-state+json": {
    "state": {},
    "version_major": 2,
    "version_minor": 0
   }
  }
 },
 "nbformat": 4,
 "nbformat_minor": 5
}
