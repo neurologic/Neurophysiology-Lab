{
 "cells": [
  {
   "cell_type": "markdown",
   "id": "2bcea47c-bd58-4eac-b259-f43405e8982d",
   "metadata": {},
   "source": [
    "# Responses\n",
    "\n",
    "<a href=\"https://colab.research.google.com/github/neurologic/Neurophysiology-Lab/blob/main/modules/earthworm-giant-fiber-ap/Responses_earthworm-giant-fiber-ap.ipynb\" target=\"_blank\"><img alt=\"Open In Colab\" src=\"https://colab.research.google.com/assets/colab-badge.svg\"/></a>   "
   ]
  },
  {
   "cell_type": "markdown",
   "id": "513c0ad9-f856-46a3-9a79-9bb0ca01811c",
   "metadata": {},
   "source": [
    "***Your Name:***"
   ]
  },
  {
   "cell_type": "markdown",
   "id": "167c013a-0073-40f8-9172-8a37465644bf",
   "metadata": {},
   "source": [
    "..."
   ]
  },
  {
   "cell_type": "markdown",
   "id": "98a5234f-69f6-49d6-8ed9-229ecce95539",
   "metadata": {},
   "source": [
    "## Experiment 1: Strength-Duration Threshold"
   ]
  },
  {
   "cell_type": "markdown",
   "id": "d9786189-5634-4682-afb4-002c400bbadc",
   "metadata": {},
   "source": [
    "***Prompt 1 (10 points):***  \n",
    "\n",
    "***Create a Figure with the following panels:  \n",
    "   A. A strength-duration scatterplot for the MGF with a hyperbolic fit line. Rheobase, 2\\* rheobase, and chronaxie need to all be annotated on the plot.     \n",
    "    B. A strength-duration scatterplot for the LGF with a hyperbolic fit line. Rheobase, 2*rheobase, and chronaxie need to all be annotated on the plot.  \n",
    "    C. Line plot of the strength-duration hyperbolic fit function of both MGF and LGF on the same plot. Chronaxie need to be annotated on the fit function for each neuron.  \n",
    "    D. (i,ii,iii) Example data showing the spiking response to 2 msec duration, chronaxie duration, and minimum effective stimulus duration.**\n",
    "    \n",
    "***Write a caption to the figure that includes:  \n",
    "    -a description (ie. legend) for each figure panel including all information needed to assess your reported results    \n",
    "    -the rheobase and chronaxie for the MGF and LFG  \n",
    "    -anything else that you noticed or wondered that adds to the report of your results***"
   ]
  },
  {
   "cell_type": "markdown",
   "id": "b6e2ff6f-9e22-4398-a0aa-117d58b2fc11",
   "metadata": {},
   "source": [
    "...\n",
    "<img src='https://drive.google.com/uc?id=1WoAa-oMOkAj9r9lyls4nLSLyIeuTu4Ae' width=\"300\" >"
   ]
  },
  {
   "cell_type": "markdown",
   "id": "cb2d75db-b779-4454-a314-7d07a8fe8e91",
   "metadata": {},
   "source": [
    "## Experiment 2: Refractory Period\n"
   ]
  },
  {
   "cell_type": "markdown",
   "id": "98ff16d9-54c6-4d6c-8e2f-84a7d4315da4",
   "metadata": {},
   "source": [
    "***Prompt 2 (10 points):***  \n",
    "\n",
    "***Create a figure with the following panels:  \n",
    "    A. Scatterplot of action-potential amplitude against paired pulse delay (inter-pulse interval) in response to the first of the two stimulus pulses on each trial.  \n",
    "    B. Scatterplot of action-potential amplitude against paired pulse delay (inter-pulse interval) in response to the second of the two stimulus pulses on each trial.  \n",
    "    C. Example data showing the spiking response at: above the refractory period, within the refractory period, and below the refractory period. Shows example trials overlaid on the same plot.***  \n",
    "\n",
    "***Write a caption to the figure that includes:  \n",
    "    -a description (ie. legend) for each figure panel including all information needed to assess your reported results    \n",
    "    -The range of relative refractory period range\n",
    "    -The absolute refractory period\n",
    "    -Descrine the experimental results (action potential from the second pulses) with reference to the control data (action potentials from the first pulses).***"
   ]
  },
  {
   "cell_type": "markdown",
   "id": "883dd6b1-eb48-4fcc-9060-1b90b3374c74",
   "metadata": {},
   "source": [
    "...\n",
    "<img src='https://drive.google.com/uc?id=1WoAa-oMOkAj9r9lyls4nLSLyIeuTu4Ae' width=\"300\" >"
   ]
  },
  {
   "cell_type": "code",
   "execution_count": null,
   "id": "c6f6a8c4-3e73-410e-a93c-6747537515b6",
   "metadata": {},
   "outputs": [],
   "source": []
  }
 ],
 "metadata": {
  "kernelspec": {
   "display_name": "Python 3 (ipykernel)",
   "language": "python",
   "name": "python3"
  },
  "language_info": {
   "codemirror_mode": {
    "name": "ipython",
    "version": 3
   },
   "file_extension": ".py",
   "mimetype": "text/x-python",
   "name": "python",
   "nbconvert_exporter": "python",
   "pygments_lexer": "ipython3",
   "version": "3.9.13"
  },
  "widgets": {
   "application/vnd.jupyter.widget-state+json": {
    "state": {},
    "version_major": 2,
    "version_minor": 0
   }
  }
 },
 "nbformat": 4,
 "nbformat_minor": 5
}
