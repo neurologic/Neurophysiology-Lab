{
 "cells": [
  {
   "cell_type": "markdown",
   "id": "2bcea47c-bd58-4eac-b259-f43405e8982d",
   "metadata": {},
   "source": [
    "# Responses\n",
    "\n",
    "<a href=\"https://colab.research.google.com/github/neurologic/Neurophysiology-Lab/blob/main/modules/earthworm-giant-fiber-ap/Responses_earthworm-giant-fiber-ap.ipynb\" target=\"_blank\"><img alt=\"Open In Colab\" src=\"https://colab.research.google.com/assets/colab-badge.svg\"/></a>   \n",
    "\n",
    "  \n",
    "For all prompts, make sure to include all components that are required. For any of the prompts, you can of course also include anything else that you noticed or wondered that adds to the report of your results. \n",
    "\n",
    "If you split any of the data processing workload, make sure to report who analyzed what part of the data (for example, for Experiment 2 you would report what ISI values/ranges each person processed/measured data for)"
   ]
  },
  {
   "cell_type": "markdown",
   "id": "513c0ad9-f856-46a3-9a79-9bb0ca01811c",
   "metadata": {},
   "source": [
    "***Your Name:***"
   ]
  },
  {
   "cell_type": "markdown",
   "id": "167c013a-0073-40f8-9172-8a37465644bf",
   "metadata": {},
   "source": [
    "..."
   ]
  },
  {
   "cell_type": "markdown",
   "id": "98a5234f-69f6-49d6-8ed9-229ecce95539",
   "metadata": {},
   "source": [
    "## Experiment 1: Strength-Duration Threshold"
   ]
  },
  {
   "cell_type": "markdown",
   "id": "d9786189-5634-4682-afb4-002c400bbadc",
   "metadata": {},
   "source": [
    "### Prompt 1\n",
    "\n",
    "(10 points)\n",
    "\n",
    "For groups using data shared from me: use the data I shared with you for A, B, and C. For C, include and label the fit line for the MGF that you did get data for. For D, use the data for the MGF that you did get data for (if you did not remember to record this example data for the MGF, then check in with me about an alternative for D). \n",
    "\n",
    "**Create a Figure** with the following panels:  \n",
    "- **A**) A strength-duration scatterplot for the MGF with a hyperbolic fit line. Rheobase, 2\\* rheobase, and chronaxie need to all be annotated on the plot.     \n",
    "- **B**) A strength-duration scatterplot for the LGF with a hyperbolic fit line. Rheobase, 2\\*rheobase, and chronaxie need to all be annotated on the plot.  \n",
    "- **C**) Line plot of the strength-duration hyperbolic fit function of both MGF and LGF on the same plot. Chronaxie need to be annotated on the fit function for each neuron.  \n",
    "- **D**) **Example data** showing the MGF action potential evoked by a threshold stimulus pulse of (**i**) 3 msec duration, (**ii**) chronaxie duration, and (**iii**) the minimum effective stimulus duration. ***Annotate*** these example data points (using i, ii, and iii) on the scatterlpot in A.\n",
    "    \n",
    "**Write a caption** to the figure that includes:  \n",
    "- A description (ie. legend) for each figure panel including all information needed to assess your reported results    \n",
    "- The rheobase and chronaxie for the MGF and LGF  \n",
    "- An interpretation of the results (comparing MGF and LGF data) in terms of neural excitability. \n",
    "- An interpretation of any difference between the two data points you collected with a stimulus pulse of 3msec duration (ie. compare the control and experimental data for a stimulus of 3msec).   \n",
    "- An inference, based on your results, about whether axons with larger or smaller diameter are more excitable.   "
   ]
  },
  {
   "cell_type": "markdown",
   "id": "b6e2ff6f-9e22-4398-a0aa-117d58b2fc11",
   "metadata": {},
   "source": [
    "...\n",
    "<img src='https://drive.google.com/uc?id=1WoAa-oMOkAj9r9lyls4nLSLyIeuTu4Ae' width=\"300\" >"
   ]
  },
  {
   "cell_type": "markdown",
   "id": "cb2d75db-b779-4454-a314-7d07a8fe8e91",
   "metadata": {},
   "source": [
    "## Experiment 2: Paired Pulse Stimulation\n"
   ]
  },
  {
   "cell_type": "markdown",
   "id": "98ff16d9-54c6-4d6c-8e2f-84a7d4315da4",
   "metadata": {},
   "source": [
    "### Prompt 2 \n",
    "\n",
    "(10 points) \n",
    "\n",
    "**Create a figure** with the following panels:  \n",
    "- **A**) ***Scatterplot*** of action-potential (AP) amplitude against paired pulse delay (inter-stimulus interval; ISI) on each trial. \n",
    "  - On each trial, the data in the scatterplot should be the amplitude of the *experimental* AP (the AP evoked by the second stimulus pulse) ***normalized to*** the amplitude of the *control* AP (the AP evoked by the first stimulus pulse). \n",
    "  - Annotate the absolute and relative refractory period ranges \n",
    "- **B**) ***Example data*** showing the action potential evoked by both stimulus pulses for trials in which the ISI was: (**i**) above the refractory period, (**ii**) within the refractory period, and (**iii**) below the refractory period. ***Annotate*** these example data points (using i, ii, and iii) on the scatterlpot in A.\n",
    "\n",
    "**Write a caption** to the figure that includes:  \n",
    "- a description (ie. legend) for each figure panel including all information needed to assess your reported results  \n",
    "- The average amplitude of the *control* AP across all trials. The variance of the control AP amplitude across all trials.\n",
    "- The relative refractory period range (min-max) of the MGF AP  \n",
    "- The absolute refractory period range (min-max) of the MGF AP\n",
    "- Describe the results (comparing the experimental data to the control data)."
   ]
  },
  {
   "cell_type": "markdown",
   "id": "883dd6b1-eb48-4fcc-9060-1b90b3374c74",
   "metadata": {},
   "source": [
    "...\n",
    "<img src='https://drive.google.com/uc?id=1WoAa-oMOkAj9r9lyls4nLSLyIeuTu4Ae' width=\"300\" >"
   ]
  },
  {
   "cell_type": "markdown",
   "id": "38a8bf13-10da-4d05-baf7-581103bf25bb",
   "metadata": {},
   "source": [
    "### Prompt 3\n",
    "\n",
    "(8 points)\n",
    "\n",
    "**Create a figure** with the following two panels:  \n",
    "- **A**) **Example data** showing the spiking response on one trial evoked by a paired stimulus pulse. Annotate all measurements used to create the scatterplot in Panel B.  \n",
    "- **B**) **Scatterplot** of action-potential (AP) conduction velocity (CV) against paired pulse delay (inter-pulse interval; ISI).\n",
    "  - On each trial, the data in the scatterplot should be the CV of the *experimental* AP ***normalized to*** the amplitude of the *control* AP.  \n",
    "  - If you did not measure the distance between the stimulating electrode and the measurement electrode, your results will be in terms of \"delay\" instead of \"CV\". In this case you would normalize to the maximum delay\n",
    "\n",
    "**Write a caption** to the figure that includes:  \n",
    "- a description (ie. legend) for each figure panel including all information needed to assess your reported results    \n",
    "- The average and variance of the *absolute* CV for the *control* AP across all trials.\n",
    "- Describe the results (comparing the experimental data to the control data). "
   ]
  },
  {
   "cell_type": "markdown",
   "id": "850a30fc-74c0-48ef-afc6-db155e9fa7b7",
   "metadata": {},
   "source": [
    "...\n",
    "<img src='https://drive.google.com/uc?id=1WoAa-oMOkAj9r9lyls4nLSLyIeuTu4Ae' width=\"300\" >"
   ]
  },
  {
   "cell_type": "code",
   "execution_count": null,
   "id": "c6f6a8c4-3e73-410e-a93c-6747537515b6",
   "metadata": {},
   "outputs": [],
   "source": []
  }
 ],
 "metadata": {
  "kernelspec": {
   "display_name": "Python 3 (ipykernel)",
   "language": "python",
   "name": "python3"
  },
  "language_info": {
   "codemirror_mode": {
    "name": "ipython",
    "version": 3
   },
   "file_extension": ".py",
   "mimetype": "text/x-python",
   "name": "python",
   "nbconvert_exporter": "python",
   "pygments_lexer": "ipython3",
   "version": "3.9.13"
  },
  "widgets": {
   "application/vnd.jupyter.widget-state+json": {
    "state": {},
    "version_major": 2,
    "version_minor": 0
   }
  }
 },
 "nbformat": 4,
 "nbformat_minor": 5
}
