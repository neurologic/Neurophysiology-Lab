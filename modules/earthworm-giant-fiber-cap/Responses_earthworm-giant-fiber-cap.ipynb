{
 "cells": [
  {
   "cell_type": "markdown",
   "id": "2bcea47c-bd58-4eac-b259-f43405e8982d",
   "metadata": {},
   "source": [
    "# Responses\n",
    "\n",
    "<a href=\"https://colab.research.google.com/github/neurologic/Neurophysiology-Lab/blob/main/modules/earthworm-giant-fiber-cap/Responses_earthworm-giant-fiber-cap.ipynb\" target=\"_blank\"><img alt=\"Open In Colab\" src=\"https://colab.research.google.com/assets/colab-badge.svg\"/></a>   "
   ]
  },
  {
   "cell_type": "markdown",
   "id": "513c0ad9-f856-46a3-9a79-9bb0ca01811c",
   "metadata": {},
   "source": [
    "***Your Name:***"
   ]
  },
  {
   "cell_type": "markdown",
   "id": "167c013a-0073-40f8-9172-8a37465644bf",
   "metadata": {},
   "source": [
    "..."
   ]
  },
  {
   "cell_type": "markdown",
   "id": "c94318e3-ffd5-4d40-a3b6-3de37af01c17",
   "metadata": {},
   "source": [
    "## Part I. Fiber Arts Nervous System"
   ]
  },
  {
   "cell_type": "markdown",
   "id": "161f653b-f972-4f33-ae54-48397a957306",
   "metadata": {},
   "source": [
    "***Prompt 1: Calculate the conduction velocity of the stimulus artifact. Note that you should only clearly have this data available from the first experiment without any foil shield between the stimulation and measurement.***"
   ]
  },
  {
   "cell_type": "markdown",
   "id": "322bc0e7-ffe0-4465-aa9a-a46def5878d5",
   "metadata": {},
   "source": [
    "..."
   ]
  },
  {
   "cell_type": "markdown",
   "id": "b7877f90-6552-4e3c-bd18-92fb0d07f104",
   "metadata": {},
   "source": [
    "***Prompt 2: Why does the piece of foil (connected to earth ground) reduce/eliminate the stimulus artifact from the measurement of the electrical activity in the strip of fiber?***"
   ]
  },
  {
   "cell_type": "markdown",
   "id": "4b33c274-2209-48cd-b8ea-d6b1640b06fb",
   "metadata": {},
   "source": [
    "..."
   ]
  },
  {
   "cell_type": "markdown",
   "id": "4c42a9b2-9daa-48e1-a33b-ffcb377a5876",
   "metadata": {},
   "source": [
    "## Part II. Experiment 1."
   ]
  },
  {
   "cell_type": "markdown",
   "id": "ecec8794-af1a-4ca4-873a-872c8d3d5926",
   "metadata": {},
   "source": [
    "***Prompt 3: Describe in words what you observed as you increased the distance between the measurement electrodes. Include a description of why these changes occured (in terms of the recording configuration and the giant fiber system). Note that different groups might have different results. Compose a figure that highlights your observations and explanations. Refer to specific aspects of the figure in your text to aid interpretion of your description.***"
   ]
  },
  {
   "cell_type": "markdown",
   "id": "3f3570a0-bdf8-4a7e-96ac-035c91e9b3d1",
   "metadata": {},
   "source": [
    "...\n",
    "<img src='https://drive.google.com/uc?id=1WoAa-oMOkAj9r9lyls4nLSLyIeuTu4Ae' width=\"300\" >"
   ]
  },
  {
   "cell_type": "markdown",
   "id": "21af1be8-9543-45b6-bb5a-7ef95cf59bca",
   "metadata": {},
   "source": [
    "***Prompt 4: Which stimulating electrode (anode/- or cathode/+) is the one that evokes the CAP? Why?***"
   ]
  },
  {
   "cell_type": "markdown",
   "id": "912a6eb2-6f29-4465-83c4-64d211cf0018",
   "metadata": {},
   "source": [
    "..."
   ]
  },
  {
   "cell_type": "markdown",
   "id": "d7f2c01c-fc1a-4f69-875e-60fffa30c25b",
   "metadata": {},
   "source": [
    "***Prompt 5: If you got decent separation of the first action potential on each electrode when the pair was moved further away from each other, measure the duration of the action potential.***"
   ]
  },
  {
   "cell_type": "markdown",
   "id": "c319123c-a879-46f5-8ad1-8614cd24963f",
   "metadata": {},
   "source": [
    "..."
   ]
  },
  {
   "cell_type": "markdown",
   "id": "ad95ec51-f534-40ec-ad2c-28b56b7f7d75",
   "metadata": {},
   "source": [
    "## Part II. Experiment 2."
   ]
  },
  {
   "cell_type": "markdown",
   "id": "9394deb9-5baa-4e3b-af4a-42e14cc10af8",
   "metadata": {},
   "source": [
    "***Prompt 6: Create a figure showing your results from the conduction velocity experiment. Measure the conduction velocity of the CAP using the absolute and the difference methods (refer to the Lab Manual for the definition of each method). Calculate as many independent samples as you can from your data.   \n",
    "In the Figure, include:***\n",
    "- ***a panel that shows your cap data across the two channels that you used to calculate conduction velocity (include the time of the stimulus pulse)***\n",
    "- ***annotation of the measurements that went into your calculation (on the relevant figure panels)***\n",
    "- ***a scatter plot to compare the cv calculation (for each independent sample) using each method***\n",
    "***Include a caption for the figure that describes what is needed to interpret the figure. Write your results for the average CV obtained by using each method. Write a hypothesis for why there was (might be) a difference between the cv calculated using each method.***"
   ]
  },
  {
   "cell_type": "markdown",
   "id": "0d514732-c0ac-4f70-9e90-ce4275a28422",
   "metadata": {},
   "source": [
    "...\n",
    "<img src='https://drive.google.com/uc?id=1WoAa-oMOkAj9r9lyls4nLSLyIeuTu4Ae' width=\"300\" >"
   ]
  },
  {
   "cell_type": "markdown",
   "id": "4e4306c8-21a0-4e0e-8e8e-ede85041c2c5",
   "metadata": {},
   "source": [
    "***Prompt 7: Which measurement electrode (+ or -) was closer to the stimulus electrodes? What is your evidence for this?***"
   ]
  },
  {
   "cell_type": "markdown",
   "id": "b4d175c2-111d-4b97-ba8a-fab57d22cbc8",
   "metadata": {},
   "source": [
    "..."
   ]
  },
  {
   "cell_type": "markdown",
   "id": "9f81df18-5ac8-4f91-8558-ce01abacdeeb",
   "metadata": {},
   "source": [
    "## Part II. Experiment 3 (your own data or data provided)\n",
    "\n",
    "If you were not able to collect data for this experiment. Use the following two files:\n",
    "1. [manual stimulation of the anterior tip of the worm](https://drive.google.com/file/d/15qi9eaOMMEiTz4koXVVXeDR1lea-rcut/view?usp=sharing)\n",
    "2. [manual stimulation of the posterior tip of the worm](https://drive.google.com/file/d/1F-NGvh1LgWO2a48-6xdq7_AN3BYVyre3/view?usp=sharing)"
   ]
  },
  {
   "cell_type": "markdown",
   "id": "22056d2d-56f1-40ff-9986-0aa14f9728b5",
   "metadata": {},
   "source": [
    "***Prompt 8: Measure the CAP CV for each condition (anterior or posterior). For each CAP, plot the CV against the inter-event-interval (the time from the previous CV to the one you are calculating - for the first CAP in a trial, do not assign an IEI and use NaN instead. Include a figure showing an example CAP for each type of stimulation (anterior versus posterior).***"
   ]
  },
  {
   "cell_type": "markdown",
   "id": "b27ed5e5-39df-4a0d-adbb-2cafbdbf5bcd",
   "metadata": {},
   "source": [
    "...\n",
    "<img src='https://drive.google.com/uc?id=1WoAa-oMOkAj9r9lyls4nLSLyIeuTu4Ae' width=\"300\" >"
   ]
  },
  {
   "cell_type": "code",
   "execution_count": null,
   "id": "c6f6a8c4-3e73-410e-a93c-6747537515b6",
   "metadata": {},
   "outputs": [],
   "source": []
  }
 ],
 "metadata": {
  "kernelspec": {
   "display_name": "Python 3 (ipykernel)",
   "language": "python",
   "name": "python3"
  },
  "language_info": {
   "codemirror_mode": {
    "name": "ipython",
    "version": 3
   },
   "file_extension": ".py",
   "mimetype": "text/x-python",
   "name": "python",
   "nbconvert_exporter": "python",
   "pygments_lexer": "ipython3",
   "version": "3.9.13"
  },
  "widgets": {
   "application/vnd.jupyter.widget-state+json": {
    "state": {},
    "version_major": 2,
    "version_minor": 0
   }
  }
 },
 "nbformat": 4,
 "nbformat_minor": 5
}
