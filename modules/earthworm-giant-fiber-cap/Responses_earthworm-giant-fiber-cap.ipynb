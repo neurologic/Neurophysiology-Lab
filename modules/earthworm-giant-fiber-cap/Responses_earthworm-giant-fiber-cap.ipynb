{
 "cells": [
  {
   "cell_type": "markdown",
   "id": "2bcea47c-bd58-4eac-b259-f43405e8982d",
   "metadata": {},
   "source": [
    "# Responses\n",
    "\n",
    "<a href=\"https://colab.research.google.com/github/neurologic/Neurophysiology-Lab/blob/main/modules/earthworm-giant-fiber-cap/Responses_earthworm-giant-fiber-cap.ipynb\" target=\"_blank\"><img alt=\"Open In Colab\" src=\"https://colab.research.google.com/assets/colab-badge.svg\"/></a>   "
   ]
  },
  {
   "cell_type": "markdown",
   "id": "513c0ad9-f856-46a3-9a79-9bb0ca01811c",
   "metadata": {},
   "source": [
    "***Your Name:***"
   ]
  },
  {
   "cell_type": "markdown",
   "id": "167c013a-0073-40f8-9172-8a37465644bf",
   "metadata": {},
   "source": [
    "..."
   ]
  },
  {
   "cell_type": "markdown",
   "id": "0aab3c79-fa77-45d4-afd1-a0bdad7cc7bf",
   "metadata": {},
   "source": [
    "## Review: Electric Circuit Model of the Passive Membrane"
   ]
  },
  {
   "cell_type": "markdown",
   "id": "fdf33f64-ac12-4b6c-b6c7-63a6548a757f",
   "metadata": {},
   "source": [
    "***Prompt 1: One of the most used equations in neurophysiology is $V=I*R$, where $V$ is voltage, $R$ is resistance, and $I$ is current. Another well-loved neurophysiology equation is $\\tau=R*C$, where $R$ is resistance, $C$ is capacitance, and $\\tau$ is the time constant of the membrane. Refer to the raw data you collected for Part IV (with R = 5 MOhm and the 103 Capacitor) to complete the following (show your work):  \n",
    "A) Use the amplitude of the experimentally-applied stimulus current and the corresponding measured change in voltage to calculate the model membrane's Resistance (compare your result to the value of the effective total resistor that you used). NOTE: make sure to account for the amplifier's amplification gain.  \n",
    "B) Use the time constant that you measured in Prompt 5 and the resistance that you calculated in A (above) to calculate the capacitance of the model membrane.*** "
   ]
  },
  {
   "cell_type": "markdown",
   "id": "51b6707d-1b8c-4ae1-9c4d-34f636815ead",
   "metadata": {},
   "source": [
    "..."
   ]
  },
  {
   "cell_type": "markdown",
   "id": "1ff05f4e-e4a5-45b0-8e9d-61f86f580073",
   "metadata": {},
   "source": [
    "## Review: Convolved Time Series Signals"
   ]
  },
  {
   "cell_type": "markdown",
   "id": "d065589f-b295-48e0-8fac-732a4523f693",
   "metadata": {},
   "source": [
    "***Prompt 2: Create a figure that compares the convolved (smoothed) EOD time series (Part IV) to the EOD isi (Part III). How do they relate to each other (visually)? From the convolved/smoothed time series, how could you calculate/measure a proxy for the average EOD rate?***"
   ]
  },
  {
   "cell_type": "markdown",
   "id": "f86589bf-91c8-414a-8957-e63c23f5f06e",
   "metadata": {},
   "source": [
    "<img src='https://drive.google.com/uc?id=1WoAa-oMOkAj9r9lyls4nLSLyIeuTu4Ae' width=\"300\" >\n",
    "\n",
    "..."
   ]
  },
  {
   "cell_type": "markdown",
   "id": "c94318e3-ffd5-4d40-a3b6-3de37af01c17",
   "metadata": {},
   "source": [
    "## Part I. Fiber Arts Nervous System"
   ]
  },
  {
   "cell_type": "markdown",
   "id": "161f653b-f972-4f33-ae54-48397a957306",
   "metadata": {},
   "source": [
    "***Prompt 3: What was the conduction velocity of the stimulus artifact? Note that you should only clearly have this data available from the first experiment without any grounded foil shield between the stimulation and measurement electrodes.***"
   ]
  },
  {
   "cell_type": "markdown",
   "id": "322bc0e7-ffe0-4465-aa9a-a46def5878d5",
   "metadata": {},
   "source": [
    "..."
   ]
  },
  {
   "cell_type": "markdown",
   "id": "b7877f90-6552-4e3c-bd18-92fb0d07f104",
   "metadata": {},
   "source": [
    "***Prompt 4: Why does the piece of foil (connected to earth ground) reduce/eliminate the stimulus artifact from the measurement of the electrical activity in the strip of fiber?***"
   ]
  },
  {
   "cell_type": "markdown",
   "id": "4b33c274-2209-48cd-b8ea-d6b1640b06fb",
   "metadata": {},
   "source": [
    "..."
   ]
  },
  {
   "cell_type": "markdown",
   "id": "4c42a9b2-9daa-48e1-a33b-ffcb377a5876",
   "metadata": {},
   "source": [
    "## Part II. Experiment 1."
   ]
  },
  {
   "cell_type": "markdown",
   "id": "ecec8794-af1a-4ca4-873a-872c8d3d5926",
   "metadata": {},
   "source": [
    "***Prompt 5: Describe in words what you observed as you increased the distance between the measurement electrodes. First, focus on changes in the first biphasic part of the CAP. Include a description of why these changes occured (in terms of both the recording configuration and the action potential ). Second, note other clear changes that you observed and the approximate time of that part of the CAP. Note that different groups might have different results. Compose a figure that highlights your observations and explanations. Refer to specific aspects of the figure in your text to aid interpretion of your description.***"
   ]
  },
  {
   "cell_type": "markdown",
   "id": "3f3570a0-bdf8-4a7e-96ac-035c91e9b3d1",
   "metadata": {},
   "source": [
    "...\n",
    "<img src='https://drive.google.com/uc?id=1WoAa-oMOkAj9r9lyls4nLSLyIeuTu4Ae' width=\"300\" >"
   ]
  },
  {
   "cell_type": "markdown",
   "id": "21af1be8-9543-45b6-bb5a-7ef95cf59bca",
   "metadata": {},
   "source": [
    "***Prompt 6: Which stimulating electrode (anode/- or cathode/+) is the one that evokes the CAP? Why?***"
   ]
  },
  {
   "cell_type": "markdown",
   "id": "912a6eb2-6f29-4465-83c4-64d211cf0018",
   "metadata": {},
   "source": [
    "..."
   ]
  },
  {
   "cell_type": "markdown",
   "id": "dc49e654-0693-41a2-b2cd-767f025dbe4d",
   "metadata": {},
   "source": [
    "***Prompt 7: Which of your measurement electrodes (+ or -) was closer to the stimulating electrodes? What is your evidence for this? Relate your reasoning to the passive membrane model circuit of the axon and the waveform you measured using an extracellular electrode configuration.***"
   ]
  },
  {
   "cell_type": "markdown",
   "id": "ba25571e-b9c1-4c34-97df-0ec11fba18e4",
   "metadata": {},
   "source": [
    "..."
   ]
  },
  {
   "cell_type": "markdown",
   "id": "d7f2c01c-fc1a-4f69-875e-60fffa30c25b",
   "metadata": {},
   "source": [
    "***Prompt 8: If you got decent separation of the first action potential on each electrode when the pair was moved further away from each other, measure the duration (width in time) that the action potential could be measured by Channel 0. Measure the half-width of the***"
   ]
  },
  {
   "cell_type": "markdown",
   "id": "c319123c-a879-46f5-8ad1-8614cd24963f",
   "metadata": {},
   "source": [
    "..."
   ]
  },
  {
   "cell_type": "code",
   "execution_count": null,
   "id": "c6f6a8c4-3e73-410e-a93c-6747537515b6",
   "metadata": {},
   "outputs": [],
   "source": []
  }
 ],
 "metadata": {
  "kernelspec": {
   "display_name": "Python 3 (ipykernel)",
   "language": "python",
   "name": "python3"
  },
  "language_info": {
   "codemirror_mode": {
    "name": "ipython",
    "version": 3
   },
   "file_extension": ".py",
   "mimetype": "text/x-python",
   "name": "python",
   "nbconvert_exporter": "python",
   "pygments_lexer": "ipython3",
   "version": "3.9.13"
  },
  "widgets": {
   "application/vnd.jupyter.widget-state+json": {
    "state": {},
    "version_major": 2,
    "version_minor": 0
   }
  }
 },
 "nbformat": 4,
 "nbformat_minor": 5
}
