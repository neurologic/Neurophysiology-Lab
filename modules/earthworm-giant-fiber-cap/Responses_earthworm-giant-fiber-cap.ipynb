{
 "cells": [
  {
   "cell_type": "markdown",
   "id": "2bcea47c-bd58-4eac-b259-f43405e8982d",
   "metadata": {},
   "source": [
    "# Responses\n",
    "\n",
    "<a href=\"https://colab.research.google.com/github/neurologic/Neurophysiology-Lab/blob/main/modules/earthworm-giant-fiber-cap/Responses_earthworm-giant-fiber-cap.ipynb\" target=\"_blank\"><img alt=\"Open In Colab\" src=\"https://colab.research.google.com/assets/colab-badge.svg\"/></a>   "
   ]
  },
  {
   "cell_type": "markdown",
   "id": "513c0ad9-f856-46a3-9a79-9bb0ca01811c",
   "metadata": {},
   "source": [
    "***Your Name:***"
   ]
  },
  {
   "cell_type": "markdown",
   "id": "167c013a-0073-40f8-9172-8a37465644bf",
   "metadata": {},
   "source": [
    "..."
   ]
  },
  {
   "cell_type": "markdown",
   "id": "0aab3c79-fa77-45d4-afd1-a0bdad7cc7bf",
   "metadata": {},
   "source": [
    "## Review: Electric Circuit Model of the Passive Membrane"
   ]
  },
  {
   "cell_type": "markdown",
   "id": "fdf33f64-ac12-4b6c-b6c7-63a6548a757f",
   "metadata": {},
   "source": [
    "***Prompt 1: One of the most used equations in neurophysiology is $V=I*R$, where $V$ is voltage, $R$ is resistance, and $I$ is current. Another well-loved neurophysiology equation is $\\tau=R*C$, where $R$ is resistance, $C$ is capacitance, and $\\tau$ is the time constant of the membrane. Refer to the raw data you collected for \"Passive Membrane Properties\" Part IV (with R = 5 MOhm and the 103 Capacitor) to complete the following (show your work):  \n",
    "A) Use the amplitude of the experimentally-applied stimulus current and the corresponding measured change in voltage across the model membrane to calculate the model membrane's Resistance (using V = I * R). Compare your result to the value of the effective total resistor that you used. NOTE: make sure to account for: 1) the amplifier's \"gain\" on its output and 2) the amplifier's conversion between voltage reported and current delivered across the electrodes.  \n",
    "B) Measure the time constant of the model membrane from the raw data. Include a figure of the raw data (one pulse/response pair) showing where you are making each measurement. Show your work for any necessary calculations. \n",
    "C) Use the time constant that you measured in (B) and the resistance that you calculated in (A) to calculate the capacitance of the model membrane (using Tau = R * C).*** "
   ]
  },
  {
   "cell_type": "markdown",
   "id": "51b6707d-1b8c-4ae1-9c4d-34f636815ead",
   "metadata": {},
   "source": [
    "..."
   ]
  },
  {
   "cell_type": "markdown",
   "id": "c94318e3-ffd5-4d40-a3b6-3de37af01c17",
   "metadata": {},
   "source": [
    "## Part I. Fiber Arts Nervous System"
   ]
  },
  {
   "cell_type": "markdown",
   "id": "161f653b-f972-4f33-ae54-48397a957306",
   "metadata": {},
   "source": [
    "***Prompt 2: Calculate the conduction velocity of the stimulus artifact (calculate two estimates by using each measurement channel). (Note that you must use the data from Part I Experiment 1 in which there was no grounded foil shield between the stimulation and measurement electrodes.) If you did not measure the distance from the stimulation electrodes to the measurement electrodes, approximate your setup as: 8cm between the stimulation electrodes and your first pair of measurement electrodes and 16cm between the stimulation and the second pair of measurement electrodes.***"
   ]
  },
  {
   "cell_type": "markdown",
   "id": "322bc0e7-ffe0-4465-aa9a-a46def5878d5",
   "metadata": {},
   "source": [
    "..."
   ]
  },
  {
   "cell_type": "markdown",
   "id": "b7877f90-6552-4e3c-bd18-92fb0d07f104",
   "metadata": {},
   "source": [
    "***Prompt 3: Why does the piece of foil (connected to earth ground) reduce/eliminate the stimulus artifact from the measurement of the electrical activity in the strip of fiber?***"
   ]
  },
  {
   "cell_type": "markdown",
   "id": "4b33c274-2209-48cd-b8ea-d6b1640b06fb",
   "metadata": {},
   "source": [
    "..."
   ]
  },
  {
   "cell_type": "markdown",
   "id": "4c42a9b2-9daa-48e1-a33b-ffcb377a5876",
   "metadata": {},
   "source": [
    "## Part II. Experiment 1."
   ]
  },
  {
   "cell_type": "markdown",
   "id": "ecec8794-af1a-4ca4-873a-872c8d3d5926",
   "metadata": {},
   "source": [
    "***Prompt 4: Compose a figure with two panels that highlights your observations:  \n",
    "Panel A) Show the experiment results  \n",
    "Panel B) Show the 'control' data***  \n",
    "\n",
    "***Next, refer to specific aspects of the figure as you report your results (using these guidelines for your response):*** \n",
    "\n",
    "***With the control data, you should be able to address whether: 1) the CAP changed as a function of time and 2) whether the CAP changed as a function of distance from the recording electrodes.*** \n",
    "\n",
    "***Taking the control data into account, describe in words any \"real\" effects you observed on the CAP waveform as you increased the distance between the measurement electrodes. First, focus on changes in the first biphasic part of the CAP (do not include any mechanistic explanation, just clearly describe your observations). Second, note other clear changes that you observed and the approximate time of that observed feature in the CAP (annotating these features on your figure plots would help you refer to those features explicitly).*** \n",
    "\n",
    "***Note that different groups might have different results.***"
   ]
  },
  {
   "cell_type": "markdown",
   "id": "3f3570a0-bdf8-4a7e-96ac-035c91e9b3d1",
   "metadata": {},
   "source": [
    "...\n",
    "<img src='https://drive.google.com/uc?id=1WoAa-oMOkAj9r9lyls4nLSLyIeuTu4Ae' width=\"300\" >"
   ]
  },
  {
   "cell_type": "markdown",
   "id": "21af1be8-9543-45b6-bb5a-7ef95cf59bca",
   "metadata": {},
   "source": [
    "***Prompt 5: Which stimulating electrode (anode/- or cathode/+) is the one that evokes the CAP? Why?***"
   ]
  },
  {
   "cell_type": "markdown",
   "id": "912a6eb2-6f29-4465-83c4-64d211cf0018",
   "metadata": {},
   "source": [
    "..."
   ]
  },
  {
   "cell_type": "markdown",
   "id": "dc49e654-0693-41a2-b2cd-767f025dbe4d",
   "metadata": {},
   "source": [
    "***Prompt 6: Which of your measurement electrodes (+ or -) was closer to the stimulating electrodes? What is your evidence for this? Describe your reasoning. If a figure is helpful, you can totally include one using the normal \"Your Image Here\" template\".***"
   ]
  },
  {
   "cell_type": "markdown",
   "id": "ba25571e-b9c1-4c34-97df-0ec11fba18e4",
   "metadata": {},
   "source": [
    "..."
   ]
  },
  {
   "cell_type": "markdown",
   "id": "d7f2c01c-fc1a-4f69-875e-60fffa30c25b",
   "metadata": {},
   "source": [
    "***Prompt 7: Using trials from a bout in which you got decent separation of the first action potential across each electrode, measure the duration (width in time) that the action potential could be measured by the electrode closest to your stimulating electrodes. Measure this value from the onset of the action potential recording to the point where the voltage returns to baseline. Include a figure that shows the trials (or across-trial average) that you used to make this measurement. On the figure, annotate the two points that you measured the time between.***"
   ]
  },
  {
   "cell_type": "markdown",
   "id": "c319123c-a879-46f5-8ad1-8614cd24963f",
   "metadata": {},
   "source": [
    "..."
   ]
  },
  {
   "cell_type": "code",
   "execution_count": null,
   "id": "c6f6a8c4-3e73-410e-a93c-6747537515b6",
   "metadata": {},
   "outputs": [],
   "source": []
  }
 ],
 "metadata": {
  "kernelspec": {
   "display_name": "Python 3 (ipykernel)",
   "language": "python",
   "name": "python3"
  },
  "language_info": {
   "codemirror_mode": {
    "name": "ipython",
    "version": 3
   },
   "file_extension": ".py",
   "mimetype": "text/x-python",
   "name": "python",
   "nbconvert_exporter": "python",
   "pygments_lexer": "ipython3",
   "version": "3.9.13"
  },
  "widgets": {
   "application/vnd.jupyter.widget-state+json": {
    "state": {},
    "version_major": 2,
    "version_minor": 0
   }
  }
 },
 "nbformat": 4,
 "nbformat_minor": 5
}
