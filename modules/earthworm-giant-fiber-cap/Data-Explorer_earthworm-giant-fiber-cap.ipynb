{
 "cells": [
  {
   "cell_type": "markdown",
   "id": "32647951-7dcf-4553-b42a-5d8508d95cf9",
   "metadata": {},
   "source": [
    "# Data Explorer\n",
    "\n",
    "<a href=\"https://colab.research.google.com/github/neurologic/Neurophysiology-Lab/blob/main/modules/earthworm-giant-fiber/Data-Explorer_earthworm-giant-fiber.ipynb\" target=\"_blank\" rel=\"noopener noreferrer\"><img alt=\"Open In Colab\" src=\"https://colab.research.google.com/assets/colab-badge.svg\"/></a>   "
   ]
  },
  {
   "cell_type": "markdown",
   "id": "f07451ff-cf56-4763-b4ac-bd099ba1f145",
   "metadata": {},
   "source": [
    "<a id=\"toc\"></a>\n",
    "# Table of Contents\n",
    "\n",
    "- [Introduction](#intro)\n",
    "- [Setup](#setup)\n",
    "- [Event Detection](#one)\n",
    "- [Trial-Based Analysis](#two)\n"
   ]
  },
  {
   "cell_type": "markdown",
   "id": "38b445ff-7cf7-442e-bb25-83afe6d5a3fb",
   "metadata": {},
   "source": [
    "<a id=\"intro\"></a>\n",
    "# Giant Fiber System Activity\n",
    "\n",
    "One of the predominant analysis frameworks you will use to interpret this lab's data is comparing *trials* across *bouts*."
   ]
  },
  {
   "cell_type": "markdown",
   "id": "488d476b-9387-43d7-b4bf-0528d9f4950a",
   "metadata": {},
   "source": [
    "<a id=\"setup\"></a>\n",
    "# Setup\n",
    "\n",
    "[toc](#toc)"
   ]
  },
  {
   "cell_type": "markdown",
   "id": "ac5e6fe8-5ee8-4a44-a353-785ed3d50412",
   "metadata": {},
   "source": [
    "Import and define functions"
   ]
  },
  {
   "cell_type": "code",
   "execution_count": null,
   "id": "b907ad44-4d78-45f0-8775-8cdaf6584ceb",
   "metadata": {
    "tags": [
     "hide-input"
    ]
   },
   "outputs": [],
   "source": [
    "#@title {display-mode: \"form\" }\n",
    "\n",
    "#@markdown Run this code cell to import packages and define functions \n",
    "import numpy as np\n",
    "import pandas as pd\n",
    "import plotly.express as px\n",
    "import plotly.graph_objects as go\n",
    "from plotly.subplots import make_subplots\n",
    "from scipy import ndimage\n",
    "from scipy.signal import hilbert,medfilt,resample, find_peaks, unit_impulse\n",
    "import seaborn as sns\n",
    "from datetime import datetime,timezone,timedelta\n",
    "pal = sns.color_palette(n_colors=15)\n",
    "pal = pal.as_hex()\n",
    "import matplotlib.pyplot as plt\n",
    "import random\n",
    "\n",
    "from pathlib import Path\n",
    "\n",
    "from matplotlib.ticker import (AutoMinorLocator, MultipleLocator)\n",
    "from ipywidgets import widgets, interact, interactive\n",
    "%config InlineBackend.figure_format = 'retina'\n",
    "plt.style.use(\"https://raw.githubusercontent.com/NeuromatchAcademy/course-content/master/nma.mplstyle\")\n",
    "\n",
    "print('Task completed at ' + str(datetime.now(timezone(-timedelta(hours=5)))))"
   ]
  },
  {
   "cell_type": "markdown",
   "id": "85f5b456-2a84-416a-8f1d-f480c7a10ad5",
   "metadata": {},
   "source": [
    "Mount Google Drive"
   ]
  },
  {
   "cell_type": "code",
   "execution_count": null,
   "id": "d84a46ac-5cf3-4765-94fd-07e19f0881d2",
   "metadata": {
    "tags": [
     "hide-input"
    ]
   },
   "outputs": [],
   "source": [
    "#@title {display-mode: \"form\" }\n",
    "\n",
    "#@markdown Run this cell to mount your Google Drive.\n",
    "\n",
    "from google.colab import drive\n",
    "drive.mount('/content/drive')\n",
    "\n",
    "print('Task completed at ' + str(datetime.now(timezone(-timedelta(hours=5)))))"
   ]
  },
  {
   "cell_type": "markdown",
   "id": "dfd155f9-cf42-4d7d-98a7-3f2432cf2e5e",
   "metadata": {},
   "source": [
    "## Import data \n",
    "\n",
    "Import data digitized with *Nidaq USB6211* and recorded using *Bonsai-rx* as a *.bin* file\n",
    "\n",
    "If you would like sample this Data Explorer, but do not have data, you can download an example from [here](https://drive.google.com/file/d/1xVtqfthDE6ilAcjiF7pJ_qrIkDPpwZbo/view?usp=sharing) and then upload the file to Google Colab (or access the file through Drive after uploading it to your Drive). If you are using this example file, the sample rate was 30000 on two channels (channel 0 was the nerve signal and channel 1 was the stimulus monitor). At the beginning and end of the recording, I delivered single stimulus pulses with a Grass SD9 stimulator. In the middle of the recording, I used a glass rod to touch the head and the body about 25% from the head. The recording was taken with the photographed preparation in the lab manual. "
   ]
  },
  {
   "cell_type": "code",
   "execution_count": null,
   "id": "6fc27eac-7157-4510-9239-466ca324c58d",
   "metadata": {
    "tags": [
     "hide-input"
    ]
   },
   "outputs": [],
   "source": [
    "#@title {display-mode: \"form\" }\n",
    "\n",
    "#@markdown Specify the file path \n",
    "#@markdown to your recorded data on Drive (find the filepath in the colab file manager:\n",
    "\n",
    "filepath = \"full filepath goes here\"  #@param \n",
    "filepath = '/Volumes/Untitled/BIOL247/data/giant-fiber-cv/diff_cv_0.bin'  #@param \n",
    "\n",
    "#@markdown Specify the sampling rate and number of channels recorded.\n",
    "\n",
    "sampling_rate = 30000 #@param\n",
    "number_channels = 2 #@param\n",
    "\n",
    "downsample = False #@param\n",
    "newfs = 10000 #@param\n",
    "\n",
    "#@markdown After you have filled out all form fields, \n",
    "#@markdown run this code cell to load the data. \n",
    "\n",
    "filepath = Path(filepath)\n",
    "\n",
    "# No need to edit below this line\n",
    "#################################\n",
    "data = np.fromfile(Path(filepath), dtype = np.float64)\n",
    "data = data.reshape(-1,number_channels)\n",
    "data_dur = np.shape(data)[0]/sampling_rate\n",
    "print('duration of recording was %0.2f seconds' %data_dur)\n",
    "\n",
    "fs = sampling_rate\n",
    "if downsample:\n",
    "    # newfs = 10000 #downsample emg data\n",
    "    chunksize = int(sampling_rate/newfs)\n",
    "    data = data[0::chunksize,:]\n",
    "    fs = int(np.shape(data)[0]/data_dur)\n",
    "\n",
    "time = np.linspace(0,data_dur,np.shape(data)[0])\n",
    "\n",
    "print('Data upload completed at ' + str(datetime.now(timezone(-timedelta(hours=5)))))"
   ]
  },
  {
   "cell_type": "code",
   "execution_count": null,
   "id": "cb4451d0-cff7-484e-bf5d-3e65c425b147",
   "metadata": {
    "tags": [
     "hide-input"
    ]
   },
   "outputs": [],
   "source": [
    "#@title {display-mode: \"form\"}\n",
    "\n",
    "#@markdown Run this code cell to plot imported data. <br> \n",
    "#@markdown Use the range slider to scroll through the data in time.\n",
    "#@markdown Use the channel slider to choose which channel to plot\n",
    "#@markdown Be patient with the range refresh... the more data you are plotting the slower it will be. \n",
    "\n",
    "slider_xrange = widgets.FloatRangeSlider(\n",
    "    min=0,\n",
    "    max=data_dur,\n",
    "    value=(0,1),\n",
    "    step= 1,\n",
    "    readout=True,\n",
    "    continuous_update=False,\n",
    "    description='Time Range (s)')\n",
    "slider_xrange.layout.width = '600px'\n",
    "\n",
    "slider_chan = widgets.IntSlider(\n",
    "    min=0,\n",
    "    max=number_channels-1,\n",
    "    value=0,\n",
    "    step= 1,\n",
    "    continuous_update=False,\n",
    "    description='channel')\n",
    "slider_chan.layout.width = '300px'\n",
    "\n",
    "# a function that will modify the xaxis range\n",
    "def update_plot(x,chan):\n",
    "    fig, ax = plt.subplots(figsize=(10,5),num=1); #specify figure number so that it does not keep creating new ones\n",
    "    starti = int(x[0]*fs)\n",
    "    stopi = int(x[1]*fs)\n",
    "    ax.plot(time[starti:stopi], data[starti:stopi,chan])\n",
    "\n",
    "w = interact(update_plot, x=slider_xrange, chan=slider_chan);"
   ]
  },
  {
   "cell_type": "markdown",
   "id": "69eef312-a1ec-4dc6-ba47-a45be1f91e58",
   "metadata": {},
   "source": [
    "For a more extensive ***RAW*** Data Explorer than the one provided in the above figure, use the [DataExplorer.py](https://raw.githubusercontent.com/neurologic/Neurophysiology-Lab/main/howto/Data-Explorer.py) application found in the [howto section](https://neurologic.github.io/Neurophysiology-Lab/howto/Dash-Data-Explorer.html) of the course website."
   ]
  },
  {
   "cell_type": "markdown",
   "id": "be92808a-e067-4662-a7ae-57707d90765a",
   "metadata": {},
   "source": [
    "<a id=\"one\"></a>\n",
    "# Part I. Stimulus Processing\n",
    "\n",
    "A servo motor is controlled by a [*pulse width modulated*](https://learn.sparkfun.com/tutorials/pulse-width-modulation/all) (***PWM***) signal. To get a continuous readout of the position command to the servo motor, we need to process the stimulus monitor signal. One way to do this is to *smooth* over the signal with a *filter*. We will use [a gaussian filter from *scipy*](https://docs.scipy.org/doc/scipy/reference/generated/scipy.ndimage.gaussian_filter1d.html#scipy.ndimage.gaussian_filter1d) with a standard deviation of 2000 for data with a sample rate of 30kHz. A slightly quicker way would be a square filter, but this generates a noisier signal."
   ]
  },
  {
   "cell_type": "code",
   "execution_count": null,
   "id": "d0256f0d-3f55-4fcb-9325-e71513f61157",
   "metadata": {
    "tags": [
     "hide-input"
    ]
   },
   "outputs": [],
   "source": [
    "#@title {display-mode: \"form\"}\n",
    "\n",
    "#@markdown Indicate which channel has the PWM signal for the stepper motor.\n",
    "\n",
    "stim_channel = 1 #@param\n",
    "stim = data[:,stim_channel]\n",
    "\n",
    "#@markdown Then run this cell to create an interactive plot with a slider to scroll \n",
    "#@markdown through data on each channel for individual trials.\n",
    "#@markdown The stimulus amplitude will be printed for each trial. \n",
    "\n",
    "\n",
    "slider_xrange = widgets.FloatRangeSlider(\n",
    "    min=0,\n",
    "    max=data_dur,\n",
    "    value=(0,1),\n",
    "    step= 0.5,\n",
    "    readout=True,\n",
    "    continuous_update=False,\n",
    "    description='Time Range (s)')\n",
    "slider_xrange.layout.width = '600px'\n",
    "\n",
    "slider_yrange = widgets.FloatRangeSlider(\n",
    "    min=np.min(stim)-0.5,\n",
    "    max=np.max(stim)+0.5,\n",
    "    value=[np.min(stim),np.max(stim)],\n",
    "    step=0.05,\n",
    "    continuous_update=False,\n",
    "    readout=True,\n",
    "    description='yrange')\n",
    "slider_yrange.layout.width = '600px'\n",
    "\n",
    "slider_threshold = widgets.FloatSlider(\n",
    "    min=np.min(stim)-0.1,\n",
    "    max=np.max(stim)+0.1,\n",
    "    value=np.mean(stim)+np.std(stim)*2,\n",
    "    step=0.05,\n",
    "    continuous_update=False,\n",
    "    readout=True,\n",
    "    description='threshold')\n",
    "slider_threshold.layout.width = '600px'\n",
    "\n",
    "\n",
    "# a function that will modify the xaxis range\n",
    "def update_plot(thresh_,xrange,yrange):\n",
    "    fig, ax = plt.subplots(figsize=(10,5),num=1); #specify figure number so that it does not keep creating new ones\n",
    "\n",
    "    # get the changes in bool value for a bool of signal greater than threshold\n",
    "    threshold_crossings = np.diff(stim > thresh_, prepend=False)\n",
    "\n",
    "    # get indices where threshold crossings are true\n",
    "    tcross = np.argwhere(threshold_crossings)[:,0]\n",
    "\n",
    "    # get a mask for only positive level crossings\n",
    "    mask_ = [stim[t+1]-stim[t] > 0 for t in tcross]\n",
    "    \n",
    "    # trial times are positive level crossings\n",
    "    trial_times = tcross[mask_]/fs\n",
    "\n",
    "    starti = int(xrange[0]*fs)+1\n",
    "    stopi = int(xrange[1]*fs)-1\n",
    "    ax.plot(time[starti:stopi], stim[starti:stopi], color='black')\n",
    "    \n",
    "    # ax.plot(tmp,color='black')\n",
    "    ax.hlines(thresh_, time[starti],time[stopi],linestyle='--',color='green')\n",
    "    ax.scatter(trial_times,[thresh_]*len(trial_times),marker='^',s=300,color='purple',zorder=3)\n",
    "    ax.set_ylim(yrange[0],yrange[1])\n",
    "    ax.set_xlim(xrange[0],xrange[1])\n",
    "    \n",
    "#     # Change major ticks to show every 20.\n",
    "    # ax.xaxis.set_major_locator(MultipleLocator(5))\n",
    "#     # ax.yaxis.set_major_locator(MultipleLocator(20))\n",
    "\n",
    "#     # Change minor ticks to show every 5. (20/4 = 5)\n",
    "    ax.xaxis.set_minor_locator(AutoMinorLocator(5))\n",
    "#     ax.yaxis.set_minor_locator(AutoMinorLocator(2))\n",
    "\n",
    "#     # Turn grid on for both major and minor ticks and style minor slightly\n",
    "#     # differently.\n",
    "#     ax.grid(which='major', color='gray', linestyle='-')\n",
    "#     ax.grid(which='minor', color='gray', linestyle=':')\n",
    "           \n",
    "    return trial_times\n",
    "\n",
    "w_trials_ = interactive(update_plot, thresh_=slider_threshold, xrange=slider_xrange, yrange=slider_yrange);\n",
    "display(w_trials_)"
   ]
  },
  {
   "cell_type": "code",
   "execution_count": null,
   "id": "0ebea80c-6fc4-4ad0-900a-8c4bf314f6eb",
   "metadata": {},
   "outputs": [],
   "source": [
    "#@title {display-mode: \"form\"}\n",
    "\n",
    "#@markdown Run this cell to finalize the list of trial times after settling on a threshold in the interactive plot. <br> \n",
    "#@markdown You will then be able to scroll through individual trials to investigate how MRO activity relates to stretch (tail bend).\n",
    "trial_times = w_trials_.result\n",
    "\n"
   ]
  },
  {
   "cell_type": "code",
   "execution_count": null,
   "id": "2220d321-f237-4d97-b14f-8c8db42a373b",
   "metadata": {},
   "outputs": [],
   "source": [
    "#@title {display-mode: \"form\"}\n",
    "\n",
    "\n",
    "#@markdown Specify a list of bout ranges [[start of bout 0, end of bout 0],[start 1, end 1],...]] <br>\n",
    "#@markdown Then run this code cell to programatically define the list of bouts as \"bouts\"\n",
    "\n",
    "bouts_list = [[2,8],[17,25],[37,45]] #@param\n",
    "\n"
   ]
  },
  {
   "cell_type": "code",
   "execution_count": null,
   "id": "d7cf06eb-7e7f-4167-a7ce-69aeb5aae929",
   "metadata": {
    "tags": [
     "hide-input"
    ]
   },
   "outputs": [],
   "source": [
    "#@title {display-mode: \"form\"}\n",
    "\n",
    "#@markdown Indicate which channel has the neural signal.\n",
    "\n",
    "neural_channel = 0 #@param\n",
    "neural_signal = data[:,neural_channel]\n",
    "\n",
    "#@markdown Then, run the code cell to set the variable assignment"
   ]
  },
  {
   "cell_type": "code",
   "execution_count": null,
   "id": "60f56f25-65ac-43bf-a986-56d48dab703a",
   "metadata": {
    "tags": [
     "hide-input"
    ]
   },
   "outputs": [],
   "source": [
    "#@title {display-mode:\"form\"}\n",
    "\n",
    "#@markdown Run this code cell to create an interactive plot to  \n",
    "#@markdown examine the nervous system response on individual trials for each bout. \n",
    "#@markdown You can select multiple trials to overlay them by pressing the control/command key while selecting\n",
    "\n",
    "slider_xrange = widgets.FloatRangeSlider(\n",
    "    min=-0.05,\n",
    "    max=0.1,\n",
    "    value=(-0.001,0.03),\n",
    "    step=0.0005,\n",
    "    continuous_update=False,\n",
    "    readout=True,\n",
    "    readout_format='.4f',\n",
    "    description='xrange (s)'\n",
    ")\n",
    "slider_xrange.layout.width = '600px'\n",
    "\n",
    "slider_yrange = widgets.FloatRangeSlider(\n",
    "    min=-1,\n",
    "    max=1, # normal range for earthworm experiments\n",
    "    value=(-0.5,0.5),\n",
    "    step=0.01,\n",
    "    continuous_update=False,\n",
    "    readout=True,\n",
    "    description='yrange'\n",
    ")\n",
    "slider_yrange.layout.width = '600px'\n",
    "\n",
    "# trials in bout 0 to start...\n",
    "trials_t = trial_times[(trial_times>bouts_list[0][0]) & (trial_times<bouts_list[0][1])]\n",
    "\n",
    "select_trials = widgets.SelectMultiple(\n",
    "    options=np.arange(len(trials_t)), # start with a single trial on a single bout... it will update when runs ,\n",
    "    value=[0],\n",
    "    #rows=10,\n",
    "    description='Trials',\n",
    "    disabled=False\n",
    ")\n",
    "\n",
    "select_bouts = widgets.Select(\n",
    "    options=np.arange(len(bouts_list)), # start with a single trial on a single bout... it will update when runs ; old: np.arange(len(trial_times)),\n",
    "    value=0,\n",
    "    #rows=10,\n",
    "    description='Bouts',\n",
    "    disabled=False\n",
    ")\n",
    "\n",
    "\n",
    "def update_plot(trial_list,bout_,yrange,xrange):\n",
    "    fig, ax = plt.subplots(figsize=(10,6))# ,ncols=1, nrows=1); #specify figure number so that it does not keep creating new ones\n",
    "    # fig.tight_layout()\n",
    "    # ax_mro = ax[0]\n",
    "    # ax_pwm = ax[1]\n",
    "    \n",
    "    # xrange = [-0.001,0.04]\n",
    "    win_0 = int(xrange[0]*fs)\n",
    "    win_1 = int(xrange[1]*fs)\n",
    "    xtime = np.linspace(xrange[0],xrange[1],(win_1 - win_0))\n",
    "    \n",
    "    trials_t = trial_times[(trial_times>bouts_list[bout_][0]) & (trial_times<bouts_list[bout_][1])]\n",
    "    trials_init_ = np.arange(len(trials_t))\n",
    "    select_trials.options = trials_init_\n",
    "    select_trials.value = trial_list\n",
    "    \n",
    "    for trial_ in trial_list:\n",
    "        if trial_ in trials_init_:\n",
    "            t_ = trials_t[trial_]\n",
    "\n",
    "            if ((int(fs*t_)+win_0)>0) & ((int(fs*t_)+win_1))<np.shape(data)[0]:\n",
    "                # sweep = data[(int(fs*t_)+win_0):(int(fs*t_)+win_1),mro_channel] \n",
    "                data_sweep = neural_signal[(int(fs*t_)+win_0):(int(fs*t_)+win_1)]\n",
    "\n",
    "                ax.plot(xtime,data_sweep,color='black',linewidth=2,alpha=0.5)\n",
    "    \n",
    "\n",
    "    ax.set_ylim(yrange[0],yrange[1]);\n",
    "    ax.set_xlabel('seconds')\n",
    "    ax.vlines(0,yrange[0],yrange[1],color='green')\n",
    "\n",
    "    \n",
    "#     # Change major ticks to show every 20.\n",
    "    # ax_pwm.xaxis.set_major_locator(MultipleLocator(5))\n",
    "    # ax_pwm.yaxis.set_major_locator(MultipleLocator(5))\n",
    "\n",
    "    # # Change minor ticks to show every 5. (20/4 = 5)\n",
    "    # ax_mro.yaxis.set_minor_locator(AutoMinorLocator(10))\n",
    "    ax.xaxis.set_minor_locator(AutoMinorLocator(10))\n",
    "    # ax_pwm.yaxis.set_minor_locator(AutoMinorLocator(5))\n",
    "\n",
    "#     # Turn grid on for both major and minor ticks and style minor slightly\n",
    "# #     # differently.\n",
    "    ax.grid(which='major', color='gray', linestyle='-')\n",
    "    ax.grid(which='minor', color='gray', linestyle=':')\n",
    "#     ax_pwm.grid(which='major', color='gray', linestyle='-')\n",
    "#     ax_pwm.grid(which='minor', color='gray', linestyle=':')\n",
    "\n",
    "\n",
    "w = interact(update_plot, trial_list=select_trials, bout_=select_bouts, \n",
    "             yrange=slider_yrange, xrange = slider_xrange);\n",
    "# display(w)"
   ]
  },
  {
   "cell_type": "code",
   "execution_count": null,
   "id": "312d03f8-318a-40ce-b002-20ab7b3e3dd5",
   "metadata": {},
   "outputs": [],
   "source": [
    "#@title {display-mode:\"form\"}\n",
    "\n",
    "#@markdown Specify bouts and trials on each of those bouts to visualize an overlay plot. \n",
    "#@markdown The plot shows the trial-averaged response on each bout\n",
    "\n",
    "bouts_all = [0,1,2] #@param\n",
    "trials_all = [[0,1,2,4],[0,1,2,4],[0,1,2]] #@param\n",
    "xrange = [-0.001,0.015] #@param\n",
    "\n",
    "win_0 = int(xrange[0]*fs)\n",
    "win_1 = int(xrange[1]*fs)\n",
    "xtime = np.linspace(xrange[0],xrange[1],(win_1 - win_0))\n",
    "\n",
    "fig, ax = plt.subplots(figsize=(10,6))\n",
    "for i,bout_ in enumerate(bouts_all):\n",
    "    data_avg = []\n",
    "    trial_list = trials_all[i]\n",
    "    trials_t = trial_times[(trial_times>bouts_list[bout_][0]) & (trial_times<bouts_list[bout_][1])]\n",
    "    for trial_ in trial_list:\n",
    "        \n",
    "        t_ = trials_t[trial_]\n",
    "\n",
    "\n",
    "        if ((int(fs*t_)+win_0)>0) & ((int(fs*t_)+win_1))<np.shape(data)[0]:\n",
    "            # sweep = data[(int(fs*t_)+win_0):(int(fs*t_)+win_1),mro_channel] \n",
    "            data_sweep = neural_signal[(int(fs*t_)+win_0):(int(fs*t_)+win_1)]\n",
    "            data_avg.append(data_sweep)\n",
    "    data_avg = np.asarray(data_avg).T\n",
    "    ax.plot(xtime,np.mean(data_avg,1),linewidth=1.5,alpha=0.5,label = f'bout {bout_}')\n",
    "    \n",
    "\n",
    "    # ax.set_ylim(yrange[0],yrange[1]);\n",
    "    ax.set_xlabel('seconds')\n",
    "    ax.legend()\n",
    "    # ax.vlines(0,yrange[0],yrange[1],color='green')\n",
    "    ax.xaxis.set_major_locator(MultipleLocator(0.002))\n",
    "    ax.xaxis.set_minor_locator(AutoMinorLocator(10))\n",
    "    ax.grid(which='major', color='gray', linestyle='-')\n",
    "    ax.grid(which='minor', color='gray', linestyle=':')"
   ]
  },
  {
   "cell_type": "markdown",
   "id": "9aab71c7-f4b1-42ff-8805-34687763f41e",
   "metadata": {},
   "source": []
  },
  {
   "cell_type": "markdown",
   "id": "d451b557-6777-4492-955e-a41130ad39b9",
   "metadata": {},
   "source": [
    "<hr> \n",
    "Written by Dr. Krista Perks for courses taught at Wesleyan University."
   ]
  },
  {
   "cell_type": "code",
   "execution_count": null,
   "id": "5c707588-d5f6-4142-8289-da7ba6a97dbc",
   "metadata": {},
   "outputs": [],
   "source": []
  },
  {
   "cell_type": "markdown",
   "id": "57a8a68c-055e-4af0-ba4d-67d0d67148f1",
   "metadata": {},
   "source": [
    "<a id=\"setup\"></a>"
   ]
  },
  {
   "cell_type": "markdown",
   "id": "a350712e-e145-4475-9588-e3f19469b5ce",
   "metadata": {},
   "source": [
    "<a id=\"one\"></a>"
   ]
  },
  {
   "cell_type": "markdown",
   "id": "86fd2b4a-b890-465f-bf33-c2057738789e",
   "metadata": {},
   "source": [
    "<a id=\"two\"></a>"
   ]
  },
  {
   "cell_type": "markdown",
   "id": "b05de192-2baf-4d46-8848-6db1e3b50bff",
   "metadata": {},
   "source": [
    "<a id=\"three\"></a>"
   ]
  },
  {
   "cell_type": "markdown",
   "id": "e6519277-fc86-44fd-a75b-f74cad0efcf1",
   "metadata": {},
   "source": [
    "<a id=\"four\"></a>"
   ]
  }
 ],
 "metadata": {
  "kernelspec": {
   "display_name": "Python 3 (ipykernel)",
   "language": "python",
   "name": "python3"
  },
  "language_info": {
   "codemirror_mode": {
    "name": "ipython",
    "version": 3
   },
   "file_extension": ".py",
   "mimetype": "text/x-python",
   "name": "python",
   "nbconvert_exporter": "python",
   "pygments_lexer": "ipython3",
   "version": "3.9.13"
  },
  "widgets": {
   "application/vnd.jupyter.widget-state+json": {
    "state": {},
    "version_major": 2,
    "version_minor": 0
   }
  }
 },
 "nbformat": 4,
 "nbformat_minor": 5
}
