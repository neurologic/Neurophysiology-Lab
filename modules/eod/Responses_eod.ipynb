{
 "cells": [
  {
   "cell_type": "markdown",
   "id": "0a9c8b35-24ab-417d-845c-1e9401344717",
   "metadata": {},
   "source": [
    "# Responses\n",
    "\n",
    "<a href=\"https://colab.research.google.com/github/neurologic/Neurophysiology-Lab/blob/main/modules/eod/Responses_eod.ipynb\" target=\"_blank\"><img alt=\"Open In Colab\" src=\"https://colab.research.google.com/assets/colab-badge.svg\"/></a>   "
   ]
  },
  {
   "cell_type": "markdown",
   "id": "7bce3878-0b75-402f-9fc0-dae4363f14c1",
   "metadata": {},
   "source": [
    "***Your Name:***"
   ]
  },
  {
   "cell_type": "markdown",
   "id": "f401916b-cfec-4522-a6f7-2beec5546985",
   "metadata": {},
   "source": [
    "..."
   ]
  },
  {
   "cell_type": "markdown",
   "id": "d515aee7-43bf-49f5-8c9d-918f0d704170",
   "metadata": {},
   "source": [
    "## Passive Membrane Models continued..."
   ]
  },
  {
   "cell_type": "markdown",
   "id": "84c5b1f6-f9bb-471e-a21b-3a9af697be8b",
   "metadata": {},
   "source": [
    "***Prompt 1: What effect did total membrane Resistance have on the response of the cell membrane to applied current across the membrane?***"
   ]
  },
  {
   "cell_type": "markdown",
   "id": "83e1a334-a98f-4f9d-bee7-bb482480dacb",
   "metadata": {},
   "source": [
    "..."
   ]
  },
  {
   "cell_type": "markdown",
   "id": "71bdccb3-5e99-4196-8e1e-0d6189028052",
   "metadata": {},
   "source": [
    "***Prompt 2: What effect did total membrane Capacitance have on the response of the cell membrane to applied current across the membrane?***"
   ]
  },
  {
   "cell_type": "markdown",
   "id": "5bca623e-66c3-4b10-bf39-c9914b87ce9f",
   "metadata": {},
   "source": [
    "..."
   ]
  },
  {
   "cell_type": "markdown",
   "id": "260131cf-29ed-420c-9bf1-2368b3239988",
   "metadata": {},
   "source": [
    "***Prompt 3: Analagous to the space constant, the time constant of a neuron membrane is the time it takes for the membrane potential to change by 63% of its original value in response to an applied current across the membrane. Measure the time constant (in seconds) of the model membrane from the raw data you recorded (for this question, use data from the model with R = 5 MOhm and the 103 Capacitor).*** "
   ]
  },
  {
   "cell_type": "markdown",
   "id": "3472e385-9edb-449c-85b0-105378fef56e",
   "metadata": {},
   "source": [
    "..."
   ]
  },
  {
   "cell_type": "markdown",
   "id": "4c2e25bc-4551-481f-a770-b0e84ae1f27d",
   "metadata": {},
   "source": [
    "***Prompt 4: One of the most used equations in neurophysiology is $V=I*R$, where $V$ is voltage, $R$ is resistance, and $I$ is current. Another well-loved neurophysiology equation is $\\tau=R*C$, where $R$ is resistance, $C$ is capacitance, and $\\tau$ is the time constant of the membrane. Refer to the raw data you collected for Part IV (with R = 5 MOhm and the 103 Capacitor) to complete the following (show your work):  \n",
    "A) Use the amplitude of the experimentally-applied stimulus current and the corresponding measured change in voltage to calculate the model membrane's Resistance (compare your result to the value of the effective total resistor that you used). NOTE: make sure to account for the amplifier's amplification gain.  \n",
    "B) Use the time constant that you measured in Prompt 5 and the resistance that you calculated in A (above) to calculate the capacitance of the model membrane.*** \n",
    "\n"
   ]
  },
  {
   "cell_type": "markdown",
   "id": "32c02408-2f5f-4e39-b2a7-8a5cb95e598c",
   "metadata": {},
   "source": [
    "..."
   ]
  },
  {
   "cell_type": "markdown",
   "id": "0c422658-390a-4744-a2ef-c89f9ac285db",
   "metadata": {},
   "source": [
    "## Electric Fish"
   ]
  },
  {
   "cell_type": "markdown",
   "id": "7b4b611a-75be-4672-8d29-f40e4b00639f",
   "metadata": {},
   "source": [
    "***Prompt 5: For each species, what was the approximate duration of the EOD? (Use the 100kHz sample rate measurement collected by each group)***"
   ]
  },
  {
   "cell_type": "markdown",
   "id": "46504f4e-4ba9-42a7-a4ec-35af2b1645fc",
   "metadata": {},
   "source": [
    "..."
   ]
  },
  {
   "cell_type": "markdown",
   "id": "cbdac421-d23c-4677-b9e7-e8365c27701e",
   "metadata": {},
   "source": [
    "***Prompt 6: What effects each feature of the EOD waveform shape in your recording?:***\n",
    "- ***polarity***\n",
    "- ***amplitude***\n",
    "\n",
    "*Use plots of 2-3 different EOD events (from different parts of the recording) and put them together in a cohesive figure to describe. Along with your written explanation, paste your figure below following the template provided in the markdown cell (insert your figure by replacing the \"id\" in the link below with your google drive share link id).*"
   ]
  },
  {
   "cell_type": "markdown",
   "id": "e4c9e239-89a5-4795-a7fa-0a981ba70524",
   "metadata": {},
   "source": [
    "...\n",
    "<img src='https://drive.google.com/uc?id=1WoAa-oMOkAj9r9lyls4nLSLyIeuTu4Ae' width=\"300\" >"
   ]
  },
  {
   "cell_type": "markdown",
   "id": "6bd1698f-d923-4ef4-acfc-869f3f7338bd",
   "metadata": {},
   "source": [
    "***Prompt 7: Use a figure with a legend to report the results of the bootstrapped average EOD rate analysis for your group's species. Specify the values for the two parameters you manipulated for the analysis (and report the total duration of your raw data from which subsamples were taken).***"
   ]
  },
  {
   "cell_type": "markdown",
   "id": "fbb98fa2-452d-470c-bea9-11f982b2539f",
   "metadata": {},
   "source": [
    "<img src='https://drive.google.com/uc?id=1WoAa-oMOkAj9r9lyls4nLSLyIeuTu4Ae' width=\"300\" >\n",
    "\n",
    "..."
   ]
  },
  {
   "cell_type": "markdown",
   "id": "d2b5847e-1810-4d42-96b8-7c1cc285e5cd",
   "metadata": {},
   "source": [
    "***Prompt 8: How did the average EOD rate (total average) that you wrote a script/code to calculate compare to the boostrapped average? Include the code/script that you wrote.***  "
   ]
  },
  {
   "cell_type": "markdown",
   "id": "b8672345-2f6d-4c9a-88ea-682d6db274b8",
   "metadata": {},
   "source": [
    "..."
   ]
  },
  {
   "cell_type": "markdown",
   "id": "3fe4f79e-70d0-402b-8095-e07b2b249c78",
   "metadata": {},
   "source": [
    "***Prompt 9: Create a figure that compares the convolved (smoothed) EOD time series (Part IV) to the EOD isi (Part III). How do they relate to each other (visually)? From the convolved/smoothed time series, how could you calculate/measure a proxy for the average EOD rate?***"
   ]
  },
  {
   "cell_type": "markdown",
   "id": "955bc444-373b-4b5c-b216-632676dee5f7",
   "metadata": {},
   "source": [
    "<img src='https://drive.google.com/uc?id=1WoAa-oMOkAj9r9lyls4nLSLyIeuTu4Ae' width=\"300\" >\n",
    "\n",
    "..."
   ]
  },
  {
   "cell_type": "markdown",
   "id": "a8d0f79c-67e6-433e-aa6a-1288dd314308",
   "metadata": {},
   "source": [
    "***Prompt 10: Use either Part I of the Data Explorer notebook in colab or the Dash Data Explorer application on your computer to examine EOD waveforms of your group's fish species at different ADC sampling rates. What do you notice when you compare different sampling rates? What analyses discussed throughout these responses would the ADC rate effect? Why/How?***"
   ]
  },
  {
   "cell_type": "markdown",
   "id": "83aa8849-1f73-4803-b07e-7c0a537dfce8",
   "metadata": {},
   "source": [
    "..."
   ]
  },
  {
   "cell_type": "code",
   "execution_count": null,
   "id": "e62cbdab-05ba-4473-b359-bc4c2712f2c8",
   "metadata": {},
   "outputs": [],
   "source": []
  }
 ],
 "metadata": {
  "kernelspec": {
   "display_name": "Python 3 (ipykernel)",
   "language": "python",
   "name": "python3"
  },
  "language_info": {
   "codemirror_mode": {
    "name": "ipython",
    "version": 3
   },
   "file_extension": ".py",
   "mimetype": "text/x-python",
   "name": "python",
   "nbconvert_exporter": "python",
   "pygments_lexer": "ipython3",
   "version": "3.9.13"
  },
  "widgets": {
   "application/vnd.jupyter.widget-state+json": {
    "state": {},
    "version_major": 2,
    "version_minor": 0
   }
  }
 },
 "nbformat": 4,
 "nbformat_minor": 5
}
