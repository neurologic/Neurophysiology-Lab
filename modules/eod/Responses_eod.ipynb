{
 "cells": [
  {
   "cell_type": "markdown",
   "id": "0a9c8b35-24ab-417d-845c-1e9401344717",
   "metadata": {},
   "source": [
    "# Responses"
   ]
  },
  {
   "cell_type": "markdown",
   "id": "7bce3878-0b75-402f-9fc0-dae4363f14c1",
   "metadata": {},
   "source": [
    "Your Name: "
   ]
  },
  {
   "cell_type": "markdown",
   "id": "f401916b-cfec-4522-a6f7-2beec5546985",
   "metadata": {},
   "source": [
    "..."
   ]
  },
  {
   "cell_type": "markdown",
   "id": "7b4b611a-75be-4672-8d29-f40e4b00639f",
   "metadata": {},
   "source": [
    "For each species, what was the approximate duration of the EOD?"
   ]
  },
  {
   "cell_type": "markdown",
   "id": "46504f4e-4ba9-42a7-a4ec-35af2b1645fc",
   "metadata": {},
   "source": [
    "..."
   ]
  },
  {
   "cell_type": "markdown",
   "id": "cbdac421-d23c-4677-b9e7-e8365c27701e",
   "metadata": {},
   "source": [
    "What explains/causes each feature of the EOD waveform shape: \n",
    "- polarity\n",
    "- amplitude\n",
    "\n",
    "Use plots of 3 different EOD waveforms (from different parts of the recording) and put them together in a cohesive figure to describe. \n",
    "\n",
    "Along with your written explanation, paste your figure below following the template provided in the markdown cell (insert your figure by replacing the \"id\" in the link below with your google drive share link id). "
   ]
  },
  {
   "cell_type": "markdown",
   "id": "e4c9e239-89a5-4795-a7fa-0a981ba70524",
   "metadata": {},
   "source": [
    "...\n",
    "<img src='https://drive.google.com/uc?id=1WoAa-oMOkAj9r9lyls4nLSLyIeuTu4Ae' width=\"300\" >"
   ]
  },
  {
   "cell_type": "markdown",
   "id": "4dcb6901-2b53-46f1-9d72-f3556ffdfa05",
   "metadata": {},
   "source": [
    "What (in the raw signal) would you consider \"noise\" and what would you consider \"signal\". Include an annotated representative segment of your raw data to demonstrate. "
   ]
  },
  {
   "cell_type": "markdown",
   "id": "bbe92d69-ad4c-4935-9264-674d78d140f4",
   "metadata": {},
   "source": [
    "...\n",
    "<img src='https://drive.google.com/uc?id=1WoAa-oMOkAj9r9lyls4nLSLyIeuTu4Ae' width=\"300\" >"
   ]
  },
  {
   "cell_type": "markdown",
   "id": "6bd1698f-d923-4ef4-acfc-869f3f7338bd",
   "metadata": {},
   "source": [
    "Use a figure with a legend to report the results of the bootstrapped average EOD rate analysis, comparing across all species tested. Include the boxplot and scatter overlay of the bootstrap results for each species. Specify the parameters you used for the analysis (and the total duration of data for each species used in the analysis). "
   ]
  },
  {
   "cell_type": "markdown",
   "id": "fbb98fa2-452d-470c-bea9-11f982b2539f",
   "metadata": {},
   "source": [
    "<img src='https://drive.google.com/uc?id=1WoAa-oMOkAj9r9lyls4nLSLyIeuTu4Ae' width=\"300\" >\n",
    "\n",
    "..."
   ]
  },
  {
   "cell_type": "markdown",
   "id": "d2b5847e-1810-4d42-96b8-7c1cc285e5cd",
   "metadata": {},
   "source": [
    "How did the average EOD rate (total average) that you wrote a script to calculate compare to the boostrapped average?  "
   ]
  },
  {
   "cell_type": "markdown",
   "id": "b8672345-2f6d-4c9a-88ea-682d6db274b8",
   "metadata": {},
   "source": [
    "..."
   ]
  },
  {
   "cell_type": "markdown",
   "id": "3fe4f79e-70d0-402b-8095-e07b2b249c78",
   "metadata": {},
   "source": [
    "Compare the *smoothed* EOD time series (<a href=\"https://colab.research.google.com/github/neurologic/Neurophysiology-Lab/blob/main/modules/eod/Data-Explorer_eod.ipynb#four\" target=\"_blank\" rel=\"noopener noreferrer\">Electric Organ Discharge: Part IV</a>) to the EOD *isi* (<a href=\"https://colab.research.google.com/github/neurologic/Neurophysiology-Lab/blob/main/modules/eod/Data-Explorer_eod.ipynb#three\" target=\"_blank\" rel=\"noopener noreferrer\">Electric Organ Discharge: Part III</a>). How do they relate to each other (visually)? From the smoothed time series, how could you calculate a proxy for the average EOD *rate*?  "
   ]
  },
  {
   "cell_type": "markdown",
   "id": "955bc444-373b-4b5c-b216-632676dee5f7",
   "metadata": {},
   "source": [
    "..."
   ]
  },
  {
   "cell_type": "markdown",
   "id": "a8d0f79c-67e6-433e-aa6a-1288dd314308",
   "metadata": {},
   "source": [
    "What analyses discussed throughout these responses would the ADC rate effect? Why/How?"
   ]
  },
  {
   "cell_type": "markdown",
   "id": "83aa8849-1f73-4803-b07e-7c0a537dfce8",
   "metadata": {},
   "source": [
    "..."
   ]
  },
  {
   "cell_type": "code",
   "execution_count": null,
   "id": "e62cbdab-05ba-4473-b359-bc4c2712f2c8",
   "metadata": {},
   "outputs": [],
   "source": []
  }
 ],
 "metadata": {
  "kernelspec": {
   "display_name": "Python 3 (ipykernel)",
   "language": "python",
   "name": "python3"
  },
  "language_info": {
   "codemirror_mode": {
    "name": "ipython",
    "version": 3
   },
   "file_extension": ".py",
   "mimetype": "text/x-python",
   "name": "python",
   "nbconvert_exporter": "python",
   "pygments_lexer": "ipython3",
   "version": "3.8.13"
  },
  "widgets": {
   "application/vnd.jupyter.widget-state+json": {
    "state": {},
    "version_major": 2,
    "version_minor": 0
   }
  }
 },
 "nbformat": 4,
 "nbformat_minor": 5
}
