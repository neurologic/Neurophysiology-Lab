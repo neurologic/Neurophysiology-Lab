{
 "cells": [
  {
   "cell_type": "markdown",
   "id": "32647951-7dcf-4553-b42a-5d8508d95cf9",
   "metadata": {},
   "source": [
    "<a href=\"https://colab.research.google.com/github/neurologic/Neurophysiology-Lab/blob/main/modules/crayfish-erg/Data-Explorer_crayfish-erg.ipynb\" target=\"_blank\" rel=\"noopener noreferrer\"><img alt=\"Open In Colab\" src=\"https://colab.research.google.com/assets/colab-badge.svg\"/></a>   "
   ]
  },
  {
   "cell_type": "markdown",
   "id": "8f701b03-52cb-4215-979a-1ccaa3839703",
   "metadata": {},
   "source": [
    "# Data Explorer"
   ]
  },
  {
   "cell_type": "markdown",
   "id": "f07451ff-cf56-4763-b4ac-bd099ba1f145",
   "metadata": {},
   "source": [
    "<a id=\"toc\"></a>\n",
    "# Table of Contents\n",
    "\n",
    "- [Introduction](#intro)\n",
    "- [Setup](#setup)\n",
    "- [Part I. Process Data](#one)\n",
    "- [Part II. Analyze Processed Data](#two)\n"
   ]
  },
  {
   "cell_type": "markdown",
   "id": "38b445ff-7cf7-442e-bb25-83afe6d5a3fb",
   "metadata": {},
   "source": [
    "<a id=\"intro\"></a>\n",
    "# ElectroRetinoGram and Sensory Coding\n",
    "\n",
    "Local field potential"
   ]
  },
  {
   "cell_type": "markdown",
   "id": "488d476b-9387-43d7-b4bf-0528d9f4950a",
   "metadata": {},
   "source": [
    "<a id=\"setup\"></a>\n",
    "# Setup\n",
    "\n",
    "[toc](#toc)"
   ]
  },
  {
   "cell_type": "markdown",
   "id": "b94f344a-8c2a-4080-b972-8e7a30c91e66",
   "metadata": {},
   "source": [
    "Import and define functions"
   ]
  },
  {
   "cell_type": "code",
   "execution_count": 12,
   "id": "be70dacf-b862-4afa-8fc0-dce8c363fdf9",
   "metadata": {
    "tags": [
     "hide-input"
    ]
   },
   "outputs": [
    {
     "name": "stdout",
     "output_type": "stream",
     "text": [
      "Task completed at 2022-10-29 06:06:01.740786-05:00\n"
     ]
    }
   ],
   "source": [
    "#@title {display-mode: \"form\"}\n",
    "\n",
    "#@markdown Run this code cell to import packages and define functions \n",
    "from pathlib import Path\n",
    "import random\n",
    "import numpy as np\n",
    "import pandas as pd\n",
    "import plotly.express as px\n",
    "import plotly.graph_objects as go\n",
    "from plotly.subplots import make_subplots\n",
    "from scipy import ndimage, optimize, signal\n",
    "from scipy.signal import hilbert,medfilt,resample, find_peaks,butter\n",
    "import seaborn as sns\n",
    "import matplotlib.pyplot as plt\n",
    "from sklearn.decomposition import PCA\n",
    "from sklearn.cluster import KMeans\n",
    "from datetime import datetime,timezone,timedelta\n",
    "pal = sns.color_palette(n_colors=15)\n",
    "pal = pal.as_hex()\n",
    "from numpy import NaN\n",
    "\n",
    "from matplotlib.ticker import (AutoMinorLocator, MultipleLocator)\n",
    "from ipywidgets import widgets, interact, interactive,interactive_output\n",
    "%config InlineBackend.figure_format = 'retina'\n",
    "plt.style.use(\"https://raw.githubusercontent.com/NeuromatchAcademy/course-content/master/nma.mplstyle\")\n",
    "\n",
    "def monoExp(x, m, t, b):\n",
    "    return m * np.exp(-x / t) + b\n",
    "\n",
    "print('Task completed at ' + str(datetime.now(timezone(-timedelta(hours=5)))))"
   ]
  },
  {
   "cell_type": "markdown",
   "id": "f91a09e1-c305-4809-8302-c1fad4140efa",
   "metadata": {},
   "source": [
    "Mount Google Drive"
   ]
  },
  {
   "cell_type": "code",
   "execution_count": null,
   "id": "2b3a4500-470b-44e3-8572-a0d55f3bc1cb",
   "metadata": {
    "tags": [
     "hide-input"
    ]
   },
   "outputs": [],
   "source": [
    "#@title {display-mode: \"form\"}\n",
    "\n",
    "#@markdown Run this cell to mount your Google Drive.\n",
    "\n",
    "from google.colab import drive\n",
    "drive.mount('/content/drive')\n",
    "\n",
    "print('Task completed at ' + str(datetime.now(timezone(-timedelta(hours=5)))))"
   ]
  },
  {
   "cell_type": "markdown",
   "id": "61aa1776-ad44-4487-ad14-9dfe050de305",
   "metadata": {},
   "source": [
    "Import data digitized with *Nidaq USB6211* and recorded using *Bonsai-rx* as a *.bin* file"
   ]
  },
  {
   "cell_type": "code",
   "execution_count": null,
   "id": "a7152a58-2458-4b02-a680-e40e8b706c95",
   "metadata": {
    "tags": [
     "hide-input"
    ]
   },
   "outputs": [],
   "source": [
    "# #@title {display-mode: \"form\"}\n",
    "\n",
    "# #@markdown Specify the file path \n",
    "# #@markdown to your recorded data on Drive (find the filepath in the colab file manager:\n",
    "\n",
    "# filepath = \"full filepath goes here\"  #@param \n",
    "# filepath = \"/Volumes/NO NAME/BIOL247_FA22/data/crayfish-erg/KP_20221028/condition2_diff-duration_0.bin\"\n",
    "\n",
    "# #@markdown Specify the sampling rate and number of channels recorded.\n",
    "# sampling_rate = None #@param\n",
    "# number_channels = None #@param\n",
    "# retina_channel = 0 #@param\n",
    "# stimulus_channel = 1 #@param\n",
    "\n",
    "# sampling_rate = 30000 #@param\n",
    "# number_channels = 2 #@param\n",
    "\n",
    "# downsample = False #@param\n",
    "# newfs = 10000 #@param\n",
    "\n",
    "# #@markdown After you have filled out all form fields, \n",
    "# #@markdown run this code cell to load the data. \n",
    "\n",
    "# filepath = Path(filepath)\n",
    "\n",
    "# # No need to edit below this line\n",
    "# #################################\n",
    "# data = np.fromfile(Path(filepath), dtype = np.float64)\n",
    "# data = data.reshape(-1,number_channels)\n",
    "# data = data-data[0,:] # only do this offset adjustment for motor nerve recordings\n",
    "\n",
    "# dur = np.shape(data)[0]/sampling_rate\n",
    "# print('duration of recording was %0.2f seconds' %dur)\n",
    "\n",
    "# fs = sampling_rate\n",
    "# if downsample:\n",
    "#     # newfs = 2500 #downsample data\n",
    "#     chunksize = int(sampling_rate/newfs)\n",
    "#     if number_channels>1:\n",
    "#         data = data[0::chunksize,:]\n",
    "#     if number_channels==1:\n",
    "#         data = data[0::chunksize]\n",
    "#     fs = int(np.shape(data)[0]/dur)\n",
    "\n",
    "# time = np.linspace(0,dur,np.shape(data)[0])\n",
    "\n",
    "# sos = butter(4, 500, 'lp', fs=fs, output='sos')\n",
    "\n",
    "\n",
    "# if len(np.shape(data))>1:\n",
    "#     retina_signal = data[:,retina_channel]\n",
    "#     # retina_signal = medfilt(retina_signal,51)\n",
    "#     retina_signal = signal.sosfilt(sos, retina_signal)\n",
    "#     stimulus_signal = data[:,stimulus_channel]\n",
    "# if len(np.shape(data))==1:\n",
    "#     signal = data\n",
    "\n",
    "# print('Now be a bit patient while it plots.')\n",
    "\n",
    "# f = go.FigureWidget(make_subplots(rows=2, cols=1, row_width=[3, 1], \n",
    "#                                   vertical_spacing=0, shared_xaxes= True)) #,layout=go.Layout(height=500, width=800))\n",
    "# f.add_trace(go.Scatter(x = time[0:fs], y = retina_signal[0:fs],\n",
    "#                              opacity=1),row=2,col=1)\n",
    "# f.add_trace(go.Scatter(x = time[0:fs], y = stimulus_signal[0:fs],\n",
    "#                              opacity=1),row=1,col=1)\n",
    "\n",
    "# f.update_layout(height=600, width=1000,\n",
    "#                 showlegend=False,\n",
    "#                xaxis2_title=\"time(seconds)\", \n",
    "#                   yaxis1_title='photoresistor voltage',\n",
    "#                yaxis2_title='retina voltage')\n",
    "\n",
    "# slider = widgets.FloatRangeSlider(\n",
    "#     min=0,\n",
    "#     max=dur,\n",
    "#     value=(0,1),\n",
    "#     step= 1,\n",
    "#     readout=False,\n",
    "#     description='Time')\n",
    "# slider.layout.width = '600px'\n",
    "\n",
    "# # our function that will modify the xaxis range\n",
    "# def response(x):\n",
    "#     with f.batch_update():\n",
    "#         starti = int(x[0]*fs)\n",
    "#         stopi = int(x[1]*fs)\n",
    "#         f.data[0].x = time[starti:stopi]\n",
    "#         f.data[0].y = retina_signal[starti:stopi]\n",
    "#         f.data[1].x = time[starti:stopi]\n",
    "#         f.data[1].y = stimulus_signal[starti:stopi]\n",
    "\n",
    "# vb = VBox((f, interactive(response, x=slider)))\n",
    "# vb.layout.align_items = 'center'\n",
    "# vb"
   ]
  },
  {
   "cell_type": "markdown",
   "id": "8b30f077-df2c-47fb-8021-7f2370064fa3",
   "metadata": {},
   "source": [
    "<a id=\"two_import\"></a>\n",
    "## Import data \n",
    "\n",
    "Import data digitized with *Nidaq USB6211* and recorded using *Bonsai-rx* as a *.bin* file\n",
    "\n",
    "> If you would like to explore the analysis for this lab, but do not have data, you can download examples for the following experiments using the linked shared files:  \n",
    "    - [Medial Giant stimulus-duration pulse examples](https://drive.google.com/file/d/1sdjIaYnBN8jM9eU8-wjUlSHGrTxbUs_H/view?usp=sharing)  \n",
    "    - [Medial Giant Fiber Paired Pulse stimulation](https://drive.google.com/file/d/1J6Q7aBldjysvusZlwqvsNZrS-BAqwErA/view?usp=sharing)  \n",
    "    - [Lateral Giant stimulus-duration pulse examples](https://drive.google.com/file/d/1x9J2eiVzWZOrOMExR_O0cigj3zT9UYAX/view?usp=sharing)  \n",
    "    - [Lateral Giant Fiber Paired Pulse stimulation](https://drive.google.com/file/d/1oVZSZJyxfoEV9bWuhBFFB-k42IX7BkVe/view?usp=sharing)  \n",
    "For all examples, the sample rate was 30000 with two channels (channel 0 was the nerve signal and channel 1 was the stimulus monitor). The distance between stimulation and ch0 measurement electrodes was not measured.  \n",
    "\n",
    ">The processed data is also available in .csv file format:  \n",
    "    - [Medial Giant Paired Pulse processed data](https://drive.google.com/file/d/1ueQrSTUyK4kngDn6qWfSyolDZ4mMoRbF/view?usp=sharing)  \n",
    "    - [Medial and Lateral Giant stimulus-duration processed data](https://drive.google.com/file/d/1ZYk_f83P4GYGqQr9Vgly7S_NCr2apI8Y/view?usp=sharing)"
   ]
  },
  {
   "cell_type": "code",
   "execution_count": 4,
   "id": "ac805ac8-8b1b-4ad5-9cd7-134e2d6ad519",
   "metadata": {
    "tags": [
     "hide-input"
    ]
   },
   "outputs": [
    {
     "name": "stdout",
     "output_type": "stream",
     "text": [
      "duration of recording was 125.33 seconds\n",
      "Data upload completed at 2022-10-29 06:03:48.430919-05:00\n"
     ]
    }
   ],
   "source": [
    "#@title {display-mode: \"form\" }\n",
    "\n",
    "#@markdown Specify the file path \n",
    "#@markdown to your recorded data in the colab runtime (find the filepath in the colab file manager):\n",
    "\n",
    "filepath = \"full filepath goes here\"  #@param \n",
    "filepath = '/Volumes/NO NAME/BIOL247_FA22/data/crayfish-erg/KP_20221028/condition2_diff-duration_0.bin'\n",
    "\n",
    "#@markdown Specify the sampling rate and number of channels recorded.\n",
    "\n",
    "sampling_rate = None #@param\n",
    "number_channels = None #@param\n",
    "\n",
    "sampling_rate = 30000 #@param\n",
    "number_channels = 2 #@param\n",
    "\n",
    "# downsample = False #@param\n",
    "# newfs = 10000 #@param\n",
    "\n",
    "#@markdown After you have filled out all form fields, \n",
    "#@markdown run this code cell to load the data. \n",
    "\n",
    "filepath = Path(filepath)\n",
    "\n",
    "# No need to edit below this line\n",
    "#################################\n",
    "data = np.fromfile(Path(filepath), dtype = np.float64)\n",
    "data = data.reshape(-1,number_channels)\n",
    "data_dur = np.shape(data)[0]/sampling_rate\n",
    "print('duration of recording was %0.2f seconds' %data_dur)\n",
    "\n",
    "fs = sampling_rate\n",
    "# if downsample:\n",
    "#     # newfs = 10000 #downsample emg data\n",
    "#     chunksize = int(sampling_rate/newfs)\n",
    "#     data = data[0::chunksize,:]\n",
    "#     fs = int(np.shape(data)[0]/data_dur)\n",
    "\n",
    "time = np.linspace(0,data_dur,np.shape(data)[0])\n",
    "\n",
    "print('Data upload completed at ' + str(datetime.now(timezone(-timedelta(hours=5)))))"
   ]
  },
  {
   "cell_type": "markdown",
   "id": "71afe800-9977-450b-b2b3-821dbedced22",
   "metadata": {},
   "source": [
    "## Plot raw data"
   ]
  },
  {
   "cell_type": "code",
   "execution_count": 5,
   "id": "a35f0827-e477-41b8-af14-9d8e7171dff5",
   "metadata": {
    "tags": [
     "hide-input"
    ]
   },
   "outputs": [
    {
     "data": {
      "application/vnd.jupyter.widget-view+json": {
       "model_id": "c557b8c9448248f18b612627406b44a4",
       "version_major": 2,
       "version_minor": 0
      },
      "text/plain": [
       "interactive(children=(FloatRangeSlider(value=(0.0, 1.0), continuous_update=False, description='Time Range (s)'…"
      ]
     },
     "metadata": {},
     "output_type": "display_data"
    }
   ],
   "source": [
    "#@title {display-mode: \"form\"}\n",
    "\n",
    "#@markdown Run this code cell to plot the imported data. <br> \n",
    "#@markdown Use the range slider to scroll through the data in time.\n",
    "#@markdown Use the channel slider to choose which channel to plot\n",
    "#@markdown Be patient with the range refresh... the more data you are plotting the slower it will be. \n",
    "\n",
    "slider_xrange = widgets.FloatRangeSlider(\n",
    "    min=0,\n",
    "    max=data_dur,\n",
    "    value=(0,1),\n",
    "    step= 1,\n",
    "    readout=True,\n",
    "    continuous_update=False,\n",
    "    description='Time Range (s)')\n",
    "slider_xrange.layout.width = '600px'\n",
    "\n",
    "slider_chan = widgets.IntSlider(\n",
    "    min=0,\n",
    "    max=number_channels-1,\n",
    "    value=0,\n",
    "    step= 1,\n",
    "    continuous_update=False,\n",
    "    description='channel')\n",
    "slider_chan.layout.width = '300px'\n",
    "\n",
    "# a function that will modify the xaxis range\n",
    "def update_plot(x,chan):\n",
    "    fig, ax = plt.subplots(figsize=(10,5),num=1); #specify figure number so that it does not keep creating new ones\n",
    "    starti = int(x[0]*fs)\n",
    "    stopi = int(x[1]*fs)\n",
    "    ax.plot(time[starti:stopi], data[starti:stopi,chan])\n",
    "\n",
    "w = interact(update_plot, x=slider_xrange, chan=slider_chan);"
   ]
  },
  {
   "cell_type": "markdown",
   "id": "3d7706ec-acec-4728-b127-0ac07432dc07",
   "metadata": {},
   "source": [
    "For a more extensive ***RAW*** Data Explorer than the one provided in the above figure, use the [DataExplorer.py](https://raw.githubusercontent.com/neurologic/Neurophysiology-Lab/main/howto/Data-Explorer.py) application found in the [howto section](https://neurologic.github.io/Neurophysiology-Lab/howto/Dash-Data-Explorer.html) of the course website."
   ]
  },
  {
   "cell_type": "markdown",
   "id": "301914d7-595e-42ae-aba0-87e77d5cbe98",
   "metadata": {},
   "source": [
    "<a id=\"two_one\"></a>\n",
    "## Define bout and stimulus times\n",
    "\n",
    "The time between stimulus onset and action potential, and the time between two stimulus pulses are critical parameters of the data on each trial. \n",
    "\n",
    "Our first task in processing and analyzing data from this experiment is to figure out the stimulus onset times. You can then segment the data in to separate bouts if the raw recording was not one continuous successful protocol. "
   ]
  },
  {
   "cell_type": "markdown",
   "id": "0a7b5528-f6fd-4a8a-9cd5-bceb29af6324",
   "metadata": {},
   "source": [
    "### Define stimulus times"
   ]
  },
  {
   "cell_type": "code",
   "execution_count": 8,
   "id": "cdaef195-8789-40d4-a65a-95acfc8a3588",
   "metadata": {
    "tags": [
     "hide-input"
    ]
   },
   "outputs": [
    {
     "data": {
      "application/vnd.jupyter.widget-view+json": {
       "model_id": "2903df2c8ac649c3903aca3e22a44af6",
       "version_major": 2,
       "version_minor": 0
      },
      "text/plain": [
       "interactive(children=(Select(description='Channel used to detect events', options=(0, 1), style=DescriptionSty…"
      ]
     },
     "metadata": {},
     "output_type": "display_data"
    }
   ],
   "source": [
    "#@title {display-mode: \"form\"}\n",
    "\n",
    "#@markdown Run this cell to create an interactive plot with a slider to scroll \n",
    "#@markdown through the signal\n",
    "#@markdown and set an appropriate event detection threshold  \n",
    "#@markdown (you can do so based on level crossing or peaks). \n",
    "\n",
    "slider_xrange = widgets.FloatRangeSlider(\n",
    "    min=0,\n",
    "    max=data_dur,\n",
    "    value=(0,1),\n",
    "    step= 0.5,\n",
    "    readout=True,\n",
    "    continuous_update=False,\n",
    "    description='Time Range (s)',\n",
    "    style = {'description_width': '200px'})\n",
    "slider_xrange.layout.width = '600px'\n",
    "\n",
    "# slider_yrange = widgets.FloatRangeSlider(\n",
    "#     min=np.min(stim)-0.5,\n",
    "#     max=np.max(stim)+0.5,\n",
    "#     value=[np.min(stim),np.max(stim)],\n",
    "#     step=0.05,\n",
    "#     continuous_update=False,\n",
    "#     readout=True,\n",
    "#     description='yrange',\n",
    "#     style = {'description_width': '200px'})\n",
    "# slider_yrange.layout.width = '600px'\n",
    "\n",
    "select_channel = widgets.Select(\n",
    "    options=np.arange(np.shape(data)[1]), # start with a single trial on a single bout... it will update when runs ; old: np.arange(len(trial_times)),\n",
    "    value=0,\n",
    "    #rows=10,\n",
    "    description='Channel used to detect events',\n",
    "    style = {'description_width': '200px'},\n",
    "    disabled=False\n",
    ")\n",
    "\n",
    "slider_threshold = widgets.FloatSlider(\n",
    "    min=-2,\n",
    "    max=2,\n",
    "    value=0.2,\n",
    "    step=0.001,\n",
    "    readout_format='.3f',\n",
    "    continuous_update=False,\n",
    "    readout=True,\n",
    "    description='event detection threshold',\n",
    "    style = {'description_width': '200px'})\n",
    "slider_threshold.layout.width = '600px'\n",
    "\n",
    "detect_type_radio = widgets.RadioButtons(\n",
    "    options=['peak', 'level crossing'],\n",
    "    value='level crossing', # Defaults to 'level crossing'\n",
    "    layout={'width': 'max-content'}, # If the items' names are long\n",
    "    description='Type of event detection',\n",
    "    style = {'description_width': '200px'},\n",
    "    disabled=False\n",
    ")\n",
    "\n",
    "iei_text = widgets.Text(\n",
    "    value='0.005',\n",
    "    placeholder='0.005',\n",
    "    description='min IEI (seconds)',\n",
    "    style = {'description_width': '200px'},\n",
    "    disabled=False\n",
    ")\n",
    "\n",
    "def update_plot(chan_,xrange,thresh_,detect_type,iei):\n",
    "    fig, ax = plt.subplots(figsize=(10,5),num=1); #specify figure number so that it does not keep creating new ones\n",
    "    \n",
    "    signal = data[:,chan_]\n",
    "    signal = signal-np.median(signal)\n",
    "    \n",
    "    iei = float(iei)\n",
    "    \n",
    "    if iei>0.001:\n",
    "        d = iei*fs #minimum time allowed between distinct events\n",
    "        \n",
    "        if detect_type == 'peak':\n",
    "            if thresh_ >=0:\n",
    "                r = find_peaks(signal,height=thresh_,distance=d)\n",
    "            if thresh_ <0:\n",
    "                r = find_peaks(-1*signal,height=-1*thresh_,distance=d)\n",
    "            trial_times = r[0]/fs\n",
    "\n",
    "        if detect_type == 'level crossing':\n",
    "            # get the changes in bool value for a bool of signal greater than threshold\n",
    "            threshold_crossings = np.diff(signal > thresh_, prepend=False)\n",
    "            # get indices where threshold crossings are true\n",
    "            tcross = np.argwhere(threshold_crossings)[:,0]\n",
    "            # get a mask for only positive level crossings\n",
    "            mask_ = [signal[t]-signal[t-1] > 0 for t in tcross]\n",
    "            # trial times are positive level crossings\n",
    "            trial_times = tcross[mask_]/fs\n",
    "\n",
    "        starti = int(xrange[0]*fs)+1\n",
    "        stopi = int(xrange[1]*fs)-1\n",
    "        ax.plot(time[starti:stopi], signal[starti:stopi], color='black')\n",
    "        \n",
    "        # ax.plot(tmp,color='black')\n",
    "        ax.hlines(thresh_, time[starti],time[stopi],linestyle='--',color='green')\n",
    "        ax.scatter(trial_times,[thresh_]*len(trial_times),marker='^',s=300,color='purple',zorder=3)\n",
    "        # ax.set_ylim(yrange[0],yrange[1])\n",
    "        ax.set_xlim(xrange[0],xrange[1])\n",
    "        \n",
    "\n",
    "        ax.xaxis.set_minor_locator(AutoMinorLocator(5))\n",
    "\n",
    "              \n",
    "        return trial_times\n",
    "\n",
    "w_trials_ = interactive(update_plot, chan_=select_channel, \n",
    "                        xrange=slider_xrange, \n",
    "                        thresh_=slider_threshold, detect_type = detect_type_radio, iei = iei_text);\n",
    "display(w_trials_)"
   ]
  },
  {
   "cell_type": "code",
   "execution_count": 9,
   "id": "942d64fd-5da8-46ed-9dc5-d3dbdc6a21da",
   "metadata": {
    "tags": [
     "hide-input"
    ]
   },
   "outputs": [],
   "source": [
    "#@title {display-mode: \"form\"}\n",
    "\n",
    "#@markdown Run this cell to finalize the list of event times \n",
    "#@markdown after settling on a channel and threshold in the interactive plot. <br> \n",
    "#@markdown This stores the event times in an array called 'event_times'. <br>\n",
    "#@markdown NOTE: You may have to use \"peaks\" method for shorter stimulus pulse durations (separately).\n",
    "trial_times = w_trials_.result\n",
    "\n"
   ]
  },
  {
   "cell_type": "markdown",
   "id": "39e97ab3-7300-4821-adb7-1b9416b10a15",
   "metadata": {},
   "source": [
    "### Define Bouts"
   ]
  },
  {
   "cell_type": "code",
   "execution_count": 10,
   "id": "55fbe04b-ca90-4dd1-b465-829c49ff7335",
   "metadata": {
    "tags": [
     "hide-input"
    ]
   },
   "outputs": [],
   "source": [
    "#@title {display-mode: \"form\"}\n",
    "\n",
    "#@markdown For this experiment, the entire file should be one long bout, \n",
    "#@markdown but if there were regions that something got messed up or that you want to exclude, you can specify bouts with good data.\n",
    "#@markdown Specify the list of bout ranges as follows: [[start of bout 0, end of bout 0],[start 1, end 1],...]] <br>\n",
    "\n",
    "bouts_list = [[0,125]] #@param\n",
    "# bouts_list = [[2,10],[10,20],[20,30],[30,45],[45,55],[55,70],[70,85],[85,100],[100,120]]\n",
    "# bouts_list = [[0,20]]\n",
    "\n",
    "#@markdown Then run this code cell to programatically define the list of bouts as 'bouts_list'."
   ]
  },
  {
   "cell_type": "markdown",
   "id": "5ef2b52b-5daf-46ca-a7ca-f30691ce1379",
   "metadata": {},
   "source": [
    "<a id=\"two_two\"></a>\n",
    "## Analyze Data"
   ]
  },
  {
   "cell_type": "markdown",
   "id": "4ee9918b-4cb5-4a57-ab0a-f88b714b3bc9",
   "metadata": {},
   "source": [
    "### Measure the raw data\n",
    "\n",
    "Obtain necessary information from the raw signal time-locked to each event (which should be the stimulus pulse onsets).\n",
    "\n",
    "> Just to give you a ballpark, this data processing step took me about 20 minutes for a paired pulse experiment in which I tested 18 different ISI values (with 2 trials at each value). So there were a total of 72 events that I processed data for."
   ]
  },
  {
   "cell_type": "code",
   "execution_count": 15,
   "id": "d07423b4-8547-4147-b176-45d1fbbd2f72",
   "metadata": {
    "tags": [
     "hide-input"
    ]
   },
   "outputs": [
    {
     "data": {
      "application/vnd.jupyter.widget-view+json": {
       "model_id": "ae0e4da2644e4e198b8b888026bc531d",
       "version_major": 2,
       "version_minor": 0
      },
      "text/plain": [
       "Label(value='time of this event is: nan', layout=Layout(width='600px'))"
      ]
     },
     "metadata": {},
     "output_type": "display_data"
    },
    {
     "data": {
      "application/vnd.jupyter.widget-view+json": {
       "model_id": "451e3133a21e4e698683954f88abe65a",
       "version_major": 2,
       "version_minor": 0
      },
      "text/plain": [
       "Label(value='time since last event is: nan', layout=Layout(width='600px'))"
      ]
     },
     "metadata": {},
     "output_type": "display_data"
    },
    {
     "data": {
      "application/vnd.jupyter.widget-view+json": {
       "model_id": "f29a05e1844e48e3b62805c5fb822ab7",
       "version_major": 2,
       "version_minor": 0
      },
      "text/plain": [
       "Label(value='lagging peak times are: nan', layout=Layout(width='600px'))"
      ]
     },
     "metadata": {},
     "output_type": "display_data"
    },
    {
     "data": {
      "application/vnd.jupyter.widget-view+json": {
       "model_id": "702d44b2ffd3469383def80455233cb8",
       "version_major": 2,
       "version_minor": 0
      },
      "text/plain": [
       "Label(value='lagging peak amplitudes are: nan', layout=Layout(width='600px'))"
      ]
     },
     "metadata": {},
     "output_type": "display_data"
    },
    {
     "data": {
      "application/vnd.jupyter.widget-view+json": {
       "model_id": "be6e5d705f0b4ee6a395dbbd0efaea09",
       "version_major": 2,
       "version_minor": 0
      },
      "text/plain": [
       "RadioButtons(description='show only events by: ', index=2, layout=Layout(width='max-content'), options=('odd',…"
      ]
     },
     "metadata": {},
     "output_type": "display_data"
    },
    {
     "data": {
      "application/vnd.jupyter.widget-view+json": {
       "model_id": "5a6f9162ce2d4b20a058915f33450b54",
       "version_major": 2,
       "version_minor": 0
      },
      "text/plain": [
       "HBox(children=(SelectMultiple(description='Channels', index=(0,), options=(0, 1), value=(0,)), SelectMultiple(…"
      ]
     },
     "metadata": {},
     "output_type": "display_data"
    },
    {
     "data": {
      "application/vnd.jupyter.widget-view+json": {
       "model_id": "0a15e783bb92418d825357bcc0bb8418",
       "version_major": 2,
       "version_minor": 0
      },
      "text/plain": [
       "VBox(children=(RadioButtons(description='detect delay to peaks on channel: ', index=2, layout=Layout(width='ma…"
      ]
     },
     "metadata": {},
     "output_type": "display_data"
    },
    {
     "data": {
      "application/vnd.jupyter.widget-view+json": {
       "model_id": "636dc3847bf84b6fa6048d1542e1c174",
       "version_major": 2,
       "version_minor": 0
      },
      "text/plain": [
       "Output()"
      ]
     },
     "metadata": {},
     "output_type": "display_data"
    },
    {
     "data": {
      "application/vnd.jupyter.widget-view+json": {
       "model_id": "9dbea13d56a24953b80fe7fff3f51aec",
       "version_major": 2,
       "version_minor": 0
      },
      "text/plain": [
       "VBox(children=(FloatRangeSlider(value=(-0.001, 1.0), continuous_update=False, description='xrange (s)', layout…"
      ]
     },
     "metadata": {},
     "output_type": "display_data"
    }
   ],
   "source": [
    "#@title {display-mode:\"form\"}\n",
    "\n",
    "#@markdown Run this code cell to create an interactive plot to  \n",
    "#@markdown examine the raw signal time-locked to individual events (event_times).\n",
    "#@markdown You can overlay multple channels by selecting more than one.\n",
    "#@markdown You can overlay multiple event times by selecting more than one. \n",
    "#@markdown (To select more than one item from an option menu, press the control/command key \n",
    "#@markdown while mouse clicking or shift while using up/down arrows)\n",
    "\n",
    "slider_xrange = widgets.FloatRangeSlider(\n",
    "    min=-0.01,\n",
    "    max=2,\n",
    "    value=(-0.001,1),\n",
    "    step=0.001,\n",
    "    continuous_update=False,\n",
    "    readout=True,\n",
    "    readout_format='.4f',\n",
    "    description='xrange (s)'\n",
    ")\n",
    "slider_xrange.layout.width = '600px'\n",
    "\n",
    "slider_yrange = widgets.FloatRangeSlider(\n",
    "    min=-5,\n",
    "    max=5, # normal range for earthworm experiments\n",
    "    value=(-2,2),\n",
    "    step=0.01,\n",
    "    continuous_update=False,\n",
    "    readout=True,\n",
    "    description='yrange'\n",
    ")\n",
    "slider_yrange.layout.width = '600px'\n",
    "\n",
    "ui_range = widgets.VBox([slider_xrange, slider_yrange])\n",
    "\n",
    "# trials in bout 0 to start...\n",
    "trials_t = trial_times[(trial_times>bouts_list[0][0]) & (trial_times<bouts_list[0][1])]\n",
    "\n",
    "odd_even_radio = widgets.RadioButtons(\n",
    "    options=['odd', 'even', 'all'],\n",
    "    value='all', # Defaults to 'none'\n",
    "    layout={'width': 'max-content'}, # If the items' names are long\n",
    "    description='show only events by: ',\n",
    "    style = {'description_width': '400px'},\n",
    "    disabled=False\n",
    ")\n",
    "\n",
    "select_channels = widgets.SelectMultiple(\n",
    "    options=np.arange(np.shape(data)[1]), # start with a single trial on a single bout... it will update when runs ,\n",
    "    value=[0],\n",
    "    #rows=10,\n",
    "    description='Channels',\n",
    "    disabled=False\n",
    ")\n",
    "\n",
    "select_bouts = widgets.Select(\n",
    "    options=np.arange(len(bouts_list)), # start with a single trial on a single bout... it will update when runs ; old: np.arange(len(trial_times)),\n",
    "    value=0,\n",
    "    #rows=10,\n",
    "    description='Bouts',\n",
    "    disabled=False\n",
    ")\n",
    "\n",
    "select_trials = widgets.SelectMultiple(\n",
    "    options=np.arange(len(trials_t)), # start with a single trial on a single bout... it will update when runs ,\n",
    "    value=[0],\n",
    "    #rows=10,\n",
    "    description='Events',\n",
    "    disabled=False\n",
    ")\n",
    "\n",
    "ui_trials = widgets.HBox([select_channels, select_trials, select_bouts])\n",
    "\n",
    "slider_threshold = widgets.FloatSlider(\n",
    "    min=-1,\n",
    "    max=1,\n",
    "    value=0.25,\n",
    "    step=0.001,\n",
    "    readout_format='.3f',\n",
    "    continuous_update=False,\n",
    "    readout=True,\n",
    "    description='peak detection threshold',\n",
    "    style = {'description_width': '200px'})\n",
    "slider_threshold.layout.width = '600px'\n",
    "\n",
    "detect_chan_radio = widgets.RadioButtons(\n",
    "    options=['0', '1', 'none'],\n",
    "    value='none', # Defaults to 'none'\n",
    "    layout={'width': 'max-content'}, # If the items' names are long\n",
    "    description='detect delay to peaks on channel: ',\n",
    "    style = {'description_width': '400px'},\n",
    "    disabled=False\n",
    ")\n",
    "\n",
    "ui_peaks = widgets.VBox([detect_chan_radio, slider_threshold])\n",
    "\n",
    "trial_abs_readout = widgets.Label(\n",
    "    value=f'time of this event is (sec): {NaN}'\n",
    ")\n",
    "trial_abs_readout.layout.width = '600px'\n",
    "\n",
    "trial_readout = widgets.Label(\n",
    "    value=f'time since last event is: {NaN}'\n",
    ")\n",
    "trial_readout.layout.width = '600px'\n",
    "\n",
    "lagging_time_readout = widgets.Label(\n",
    "    value=f'lagging peak times are: {NaN}'\n",
    ")\n",
    "lagging_time_readout.layout.width = '600px'\n",
    "\n",
    "lagging_amp_readout = widgets.Label(\n",
    "    value=f'lagging peak amplitudes are: {NaN}'\n",
    ")\n",
    "lagging_amp_readout.layout.width = '600px'\n",
    "\n",
    "def update_plot(trial_sort_,chan_list,trial_list,bout_,yrange,xrange,lagging_chan_,thresh_):\n",
    "    fig, ax = plt.subplots(figsize=(8,4))# ,ncols=1, nrows=1); #specify figure number so that it does not keep creating new ones\n",
    " \n",
    "    win_0 = int(xrange[0]*fs)\n",
    "    win_1 = int(xrange[1]*fs)\n",
    "    xtime = np.linspace(xrange[0],xrange[1],(win_1 - win_0))\n",
    "    \n",
    "    trials_t = trial_times[(trial_times>bouts_list[bout_][0]) & (trial_times<bouts_list[bout_][1])]\n",
    "    trials_init_ = np.arange(len(trials_t))\n",
    "    \n",
    "    if trial_sort_=='all':                     \n",
    "        select_trials.options = trials_init_\n",
    "\n",
    "        trial_list = [t_try for t_try in trial_list if t_try in trials_init_]\n",
    "        select_trials.value = trial_list\n",
    "\n",
    "    if trial_sort_=='even':                     \n",
    "        select_trials.options = trials_init_[0::2]\n",
    "\n",
    "        trial_list = [t_try for t_try in trial_list if t_try in trials_init_[0::2]]\n",
    "        select_trials.value = trial_list                         \n",
    "    \n",
    "    if trial_sort_=='odd':                     \n",
    "        select_trials.options = trials_init_[1::2]\n",
    "\n",
    "        trial_list = [t_try for t_try in trial_list if t_try in trials_init_[1::2]]\n",
    "        select_trials.value = trial_list                                 \n",
    "    \n",
    "    lagging_time_readout.value=f'lagging peak times are: {NaN}'\n",
    "    lagging_amp_readout.value=f'lagging peak amplitudes are: {NaN}'\n",
    "    trial_abs_readout.value=f'time of this event is: {NaN}'\n",
    "    trial_readout.value=f'time since last event is: {NaN}'\n",
    "    \n",
    "    channel_colors = ['purple','green','blue','orange']\n",
    "    for chan_ in chan_list:\n",
    "        this_chan = data[:,chan_]\n",
    "        for trial_ in trial_list:\n",
    "            if trial_ in trials_init_:\n",
    "                t_ = trials_t[trial_]\n",
    "\n",
    "                if ((int(fs*t_)+win_0)>0) & ((int(fs*t_)+win_1))<len(this_chan):\n",
    "                    data_sweep = this_chan[(int(fs*t_)+win_0):(int(fs*t_)+win_1)]\n",
    "\n",
    "                    ax.plot(xtime,data_sweep,color=channel_colors[chan_],linewidth=2,alpha=0.5)\n",
    "    \n",
    "    d = 0.0005*fs\n",
    "    if (lagging_chan_ != 'none') & (len(trial_list)==1):\n",
    "        ax.hlines(thresh_, xrange[0],xrange[1],linestyle='--',color='green')\n",
    "        lagging_chan_ = int(lagging_chan_)\n",
    "        lagging_signal = data[(int(fs*t_)+win_0):(int(fs*t_)+win_1),lagging_chan_]\n",
    "        if thresh_ >=0:\n",
    "            r = find_peaks(lagging_signal,height=thresh_,distance=d)\n",
    "            lagging_peak_amp = r[1]['peak_heights']\n",
    "        if thresh_ <0:\n",
    "            r = find_peaks(-1*lagging_signal,height=-1*thresh_,distance=d)\n",
    "            lagging_peak_amp = -1*r[1]['peak_heights']\n",
    "            # print(r)\n",
    "            \n",
    "        lagging_peak_amp = [np.round(a,2) for a in lagging_peak_amp]\n",
    "        \n",
    "        lagging_peak_times = [np.round(xtime[lt],5) for lt in r[0]]#r[0]/fs\n",
    "        lagging_time_readout.value=f'lagging peak times are (ms): {[t*1000 for t in lagging_peak_times]}'\n",
    "        lagging_amp_readout.value=f'lagging peak amplitudes are (V): {lagging_peak_amp}'\n",
    "        \n",
    "        if trial_list[0] == 0:\n",
    "            trial_readout.value=f'time since last event is: {NaN}'\n",
    "            trial_abs_readout.value=f'time of this event is: {NaN}'\n",
    "        if trial_list[0] > 0:\n",
    "            iti = 1000*(trials_t[trial_list[0]] - trials_t[trial_list[0]-1])\n",
    "            trial_readout.value=f'time since last event is (msec): {iti:.2f}'\n",
    "            trial_abs_readout.value=f'time of this event is (sec): {trials_t[trial_list[0]]}'\n",
    "        \n",
    "        for lt_ in lagging_peak_times:\n",
    "            ax.scatter(lagging_peak_times,lagging_peak_amp,color='black',s=50,zorder=3)\n",
    "    \n",
    "\n",
    "    ax.set_ylim(yrange[0],yrange[1]);\n",
    "    ax.set_xlabel('seconds')\n",
    "    # ax.vlines(0,yrange[0],yrange[1],color='black')\n",
    "\n",
    "    \n",
    "#     # Change major ticks to show every 20.\n",
    "    # ax_pwm.xaxis.set_major_locator(MultipleLocator(5))\n",
    "    # ax_pwm.yaxis.set_major_locator(MultipleLocator(5))\n",
    "\n",
    "    # # Change minor ticks to show every 5. (20/4 = 5)\n",
    "    # ax_mro.yaxis.set_minor_locator(AutoMinorLocator(10))\n",
    "    ax.xaxis.set_minor_locator(AutoMinorLocator(10))\n",
    "    # ax_pwm.yaxis.set_minor_locator(AutoMinorLocator(5))\n",
    "\n",
    "#     # Turn grid on for both major and minor ticks and style minor slightly\n",
    "# #     # differently.\n",
    "    ax.grid(which='major', color='gray', linestyle='-')\n",
    "    ax.grid(which='minor', color='gray', linestyle=':')\n",
    "#     ax_pwm.grid(which='major', color='gray', linestyle='-')\n",
    "#     ax_pwm.grid(which='minor', color='gray', linestyle=':')\n",
    "\n",
    "\n",
    "# display(w)\n",
    "w = interactive_output(update_plot, {'trial_sort_':odd_even_radio,\n",
    "                                     'chan_list':select_channels,\n",
    "                                     'trial_list':select_trials, \n",
    "                                     'bout_':select_bouts,\n",
    "                                     'yrange':slider_yrange, \n",
    "                                     'xrange':slider_xrange,\n",
    "                                     'lagging_chan_':detect_chan_radio,\n",
    "                                     'thresh_':slider_threshold});\n",
    "display(trial_abs_readout,trial_readout,lagging_time_readout,lagging_amp_readout,\n",
    "        odd_even_radio,ui_trials,ui_peaks,w,ui_range)\n"
   ]
  },
  {
   "cell_type": "markdown",
   "id": "e0c5a382-56f7-461e-8a69-6d6e22502303",
   "metadata": {},
   "source": [
    "> Need some way to get the pulse durations from the signal (might need to sample at a higher rate?... although I guess the shortest was 500microseconds?)"
   ]
  },
  {
   "cell_type": "markdown",
   "id": "b7b40cda-55dd-4604-afb7-89e5d0731983",
   "metadata": {},
   "source": [
    "<a id=\"one\"></a>\n",
    "\n",
    "# Part I. Process Data\n",
    "\n",
    "[toc](#toc)\n",
    "\n",
    "\n",
    "This section provides tools to visualize the retinal response across trials overlaid.\n",
    "\n",
    "From the initial data plot, you should be able to determine 'trial' times for a trial-based exploration."
   ]
  },
  {
   "cell_type": "code",
   "execution_count": null,
   "id": "7d4fbec2-3484-483d-91b1-7df4af5c738d",
   "metadata": {
    "tags": [
     "hide-input"
    ]
   },
   "outputs": [],
   "source": [
    "#@title {display-mode:\"form\"}\n",
    "\n",
    "#@markdown Determine the start time for each *trial*.  \n",
    "#@markdown What defines the start of a trial will depend on your question.  \n",
    "#@markdown Enter the trial times as a list below.\n",
    "\n",
    "trials_list = [51.72, 61.65, 71.256, 83.063] #@param\n",
    "\n",
    "# # different amplitudes\n",
    "# trials = [6.345,13.836,21.63,32.635,40.319]\n",
    "# trials = [51.72, 61.65, 71.256, 80.063]\n",
    "# trials = [94.692,103.73,111.665,120.871,129.286]\n",
    "\n",
    "# # offset response\n",
    "# trials = [99.832,110,118.327,126.86]\n",
    "\n",
    "#@markdown How much time before and after the trial time do you want to visualize?\n",
    "window = 10\n",
    "\n",
    "#@markdown Run this code cell to plot the result (for the cluster you selected in the first code cell of this section)\n",
    "\n",
    "f = go.FigureWidget(make_subplots(rows=1,cols=1))\n",
    "\n",
    "for i,t in enumerate(trials_list):\n",
    "    ti = np.argmin(np.abs(spkt-t))\n",
    "    sweep = spkt[(spkt>spkt[ti]-10) & (spkt<spkt[ti]+10)]-spkt[ti]\n",
    "    sweep_rate = 1/np.diff(sweep)\n",
    "    f.add_trace(go.Scatter(x = sweep[1:], y = sweep_rate,name = 'trial ' + str(i)),row=1,col=1)\n",
    "\n",
    "\n",
    "f.update_layout(height=500, width=800,\n",
    "                showlegend=False,\n",
    "                xaxis_title=\"time (seconds)\",\n",
    "                  yaxis_title='rate')"
   ]
  },
  {
   "cell_type": "markdown",
   "id": "d451b557-6777-4492-955e-a41130ad39b9",
   "metadata": {},
   "source": [
    "<hr> \n",
    "Written by Dr. Krista Perks for courses taught at Wesleyan University."
   ]
  },
  {
   "cell_type": "code",
   "execution_count": null,
   "id": "5c707588-d5f6-4142-8289-da7ba6a97dbc",
   "metadata": {},
   "outputs": [],
   "source": []
  },
  {
   "cell_type": "markdown",
   "id": "57a8a68c-055e-4af0-ba4d-67d0d67148f1",
   "metadata": {},
   "source": [
    "<a id=\"setup\"></a>"
   ]
  },
  {
   "cell_type": "markdown",
   "id": "a350712e-e145-4475-9588-e3f19469b5ce",
   "metadata": {},
   "source": [
    "<a id=\"one\"></a>"
   ]
  },
  {
   "cell_type": "markdown",
   "id": "86fd2b4a-b890-465f-bf33-c2057738789e",
   "metadata": {},
   "source": [
    "<a id=\"two\"></a>"
   ]
  },
  {
   "cell_type": "markdown",
   "id": "b05de192-2baf-4d46-8848-6db1e3b50bff",
   "metadata": {},
   "source": [
    "<a id=\"three\"></a>"
   ]
  },
  {
   "cell_type": "markdown",
   "id": "e6519277-fc86-44fd-a75b-f74cad0efcf1",
   "metadata": {},
   "source": [
    "<a id=\"four\"></a>"
   ]
  }
 ],
 "metadata": {
  "kernelspec": {
   "display_name": "Python 3 (ipykernel)",
   "language": "python",
   "name": "python3"
  },
  "language_info": {
   "codemirror_mode": {
    "name": "ipython",
    "version": 3
   },
   "file_extension": ".py",
   "mimetype": "text/x-python",
   "name": "python",
   "nbconvert_exporter": "python",
   "pygments_lexer": "ipython3",
   "version": "3.8.13"
  },
  "widgets": {
   "application/vnd.jupyter.widget-state+json": {
    "state": {
     "03bd0bc1604f4a77a3dae0365e565a9c": {
      "model_module": "@jupyter-widgets/controls",
      "model_module_version": "1.5.0",
      "model_name": "TextModel",
      "state": {
       "description": "min IEI (seconds)",
       "layout": "IPY_MODEL_4abfd26e03ff4ee9b470196ab4b47ad6",
       "placeholder": "0.005",
       "style": "IPY_MODEL_853369e0adcc43acb617fc8c2b661f90",
       "value": "0.005"
      }
     },
     "05d062e6fe1044a6a06479a6a1ab1772": {
      "model_module": "@jupyter-widgets/controls",
      "model_module_version": "1.5.0",
      "model_name": "FloatRangeSliderModel",
      "state": {
       "_model_name": "FloatRangeSliderModel",
       "_view_name": "FloatRangeSliderView",
       "continuous_update": false,
       "description": "xrange (s)",
       "layout": "IPY_MODEL_80fb95740f154862bca46b824944b549",
       "max": 0.05,
       "min": -0.01,
       "readout_format": ".4f",
       "step": 0.0005,
       "style": "IPY_MODEL_dcadd825887b45688bd37e76028dafcf",
       "value": [
        -0.001,
        0.03
       ]
      }
     },
     "06e46bee703646ebbaf5cff4d599922e": {
      "model_module": "@jupyter-widgets/base",
      "model_module_version": "1.2.0",
      "model_name": "LayoutModel",
      "state": {
       "width": "600px"
      }
     },
     "07be14d143d942ecb72fa4cee1cefd61": {
      "model_module": "@jupyter-widgets/controls",
      "model_module_version": "1.5.0",
      "model_name": "SelectModel",
      "state": {
       "_options_labels": [
        "0",
        "1"
       ],
       "description": "Channel used to detect events",
       "index": 0,
       "layout": "IPY_MODEL_ce168c6d9b9b43a999a6e849300220b9",
       "style": "IPY_MODEL_67c6626b2dad457684d49a1a28265125"
      }
     },
     "07e177dbfd0f43ef8c8a8d809f880a70": {
      "model_module": "@jupyter-widgets/controls",
      "model_module_version": "1.5.0",
      "model_name": "LabelModel",
      "state": {
       "layout": "IPY_MODEL_7e4b2853554a42749be475e944a11723",
       "style": "IPY_MODEL_52da494e2c31452b8bae926eea9511ed",
       "value": "lagging peak amplitudes are: nan"
      }
     },
     "090263f5d65b48acb317f8d07223cff9": {
      "model_module": "@jupyter-widgets/controls",
      "model_module_version": "1.5.0",
      "model_name": "DescriptionStyleModel",
      "state": {
       "description_width": ""
      }
     },
     "0966716125884d13b583be8421427048": {
      "model_module": "@jupyter-widgets/controls",
      "model_module_version": "1.5.0",
      "model_name": "DescriptionStyleModel",
      "state": {
       "description_width": "200px"
      }
     },
     "0a07fe69be6d433bb9301efe72285b15": {
      "model_module": "@jupyter-widgets/base",
      "model_module_version": "1.2.0",
      "model_name": "LayoutModel",
      "state": {}
     },
     "0a15e783bb92418d825357bcc0bb8418": {
      "model_module": "@jupyter-widgets/controls",
      "model_module_version": "1.5.0",
      "model_name": "VBoxModel",
      "state": {
       "children": [
        "IPY_MODEL_981615c6adb642deb8763906ba309fb8",
        "IPY_MODEL_cb0b6830d6d94a539ef139ac3d0d2703"
       ],
       "layout": "IPY_MODEL_b0e72e5eb57f4f0283f6243e2721080a"
      }
     },
     "0d2dc6acaef2461982394223bd36c4c5": {
      "model_module": "@jupyter-widgets/base",
      "model_module_version": "1.2.0",
      "model_name": "LayoutModel",
      "state": {}
     },
     "0d991fe9d6ca48e0b0fb9347312fe0be": {
      "model_module": "@jupyter-widgets/base",
      "model_module_version": "1.2.0",
      "model_name": "LayoutModel",
      "state": {}
     },
     "0e15badd15d74837b34cfea47e53fcd5": {
      "model_module": "@jupyter-widgets/base",
      "model_module_version": "1.2.0",
      "model_name": "LayoutModel",
      "state": {
       "width": "600px"
      }
     },
     "0e5cdecc27c149948410a90151d32472": {
      "model_module": "@jupyter-widgets/controls",
      "model_module_version": "1.5.0",
      "model_name": "VBoxModel",
      "state": {
       "children": [
        "IPY_MODEL_9805570bdd124566b426928fd052e526",
        "IPY_MODEL_8a87a93f1f2c41f1b9923ccb53652d08"
       ],
       "layout": "IPY_MODEL_1cf3b0bb4d354d0ea50f00b58ef4e8de"
      }
     },
     "0f7373ab7ee647aa875eabb2996bca58": {
      "model_module": "@jupyter-widgets/controls",
      "model_module_version": "1.5.0",
      "model_name": "SelectModel",
      "state": {
       "_options_labels": [
        "0",
        "1"
       ],
       "description": "Channel used to detect events",
       "index": 1,
       "layout": "IPY_MODEL_e5b54323176b451086c469c529fab6b8",
       "style": "IPY_MODEL_5adb8a9f6c3a4afbaf553acaf125728c"
      }
     },
     "1415e23fbf824e07833b3dd6ba159881": {
      "model_module": "@jupyter-widgets/base",
      "model_module_version": "1.2.0",
      "model_name": "LayoutModel",
      "state": {
       "width": "max-content"
      }
     },
     "15640f5f31c64ad78f664eff74be8744": {
      "model_module": "@jupyter-widgets/controls",
      "model_module_version": "1.5.0",
      "model_name": "FloatRangeSliderModel",
      "state": {
       "_model_name": "FloatRangeSliderModel",
       "_view_name": "FloatRangeSliderView",
       "continuous_update": false,
       "description": "Time Range (s)",
       "layout": "IPY_MODEL_f5bb95f49cb54958b926c4c5ba364666",
       "max": 125.33333333333333,
       "step": 0.5,
       "style": "IPY_MODEL_47a29ff20c3a48c88021a3127ac5c9c9",
       "value": [
        0,
        1
       ]
      }
     },
     "156e715d3121459eae66601344dea6da": {
      "model_module": "@jupyter-widgets/output",
      "model_module_version": "1.0.0",
      "model_name": "OutputModel",
      "state": {
       "layout": "IPY_MODEL_b2392f383414401f9f76ee0ab1f3b812",
       "outputs": [
        {
         "data": {
          "image/png": "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\n",
          "text/plain": "<Figure size 576x288 with 1 Axes>"
         },
         "metadata": {
          "image/png": {
           "height": 270,
           "width": 556
          },
          "needs_background": "light"
         },
         "output_type": "display_data"
        }
       ]
      }
     },
     "158122d000a3471c992157646703ca2f": {
      "model_module": "@jupyter-widgets/controls",
      "model_module_version": "1.5.0",
      "model_name": "DescriptionStyleModel",
      "state": {
       "description_width": "400px"
      }
     },
     "15902cc751224079b01ab51760a74d00": {
      "model_module": "@jupyter-widgets/controls",
      "model_module_version": "1.5.0",
      "model_name": "DescriptionStyleModel",
      "state": {
       "description_width": ""
      }
     },
     "16099fc4d62a46edb07405549e0ff6a1": {
      "model_module": "@jupyter-widgets/controls",
      "model_module_version": "1.5.0",
      "model_name": "DescriptionStyleModel",
      "state": {
       "description_width": "400px"
      }
     },
     "181867622f9d471c808faf1e97caef9f": {
      "model_module": "@jupyter-widgets/controls",
      "model_module_version": "1.5.0",
      "model_name": "DescriptionStyleModel",
      "state": {
       "description_width": ""
      }
     },
     "1bc0ea95f35a4c3cb4ef505c4bfee21a": {
      "model_module": "@jupyter-widgets/base",
      "model_module_version": "1.2.0",
      "model_name": "LayoutModel",
      "state": {}
     },
     "1cf3b0bb4d354d0ea50f00b58ef4e8de": {
      "model_module": "@jupyter-widgets/base",
      "model_module_version": "1.2.0",
      "model_name": "LayoutModel",
      "state": {}
     },
     "1eed69282f224710984dbba56b7ce664": {
      "model_module": "@jupyter-widgets/controls",
      "model_module_version": "1.5.0",
      "model_name": "FloatRangeSliderModel",
      "state": {
       "_model_name": "FloatRangeSliderModel",
       "_view_name": "FloatRangeSliderView",
       "continuous_update": false,
       "description": "Time Range (s)",
       "layout": "IPY_MODEL_f348ab8e2c35476b996ba6b07302e06c",
       "max": 125.33333333333333,
       "step": 0.5,
       "style": "IPY_MODEL_9fb64662a79f401bbf064061644bf3a2",
       "value": [
        0,
        125
       ]
      }
     },
     "1fb688604908426684d6fca47f8f14f9": {
      "model_module": "@jupyter-widgets/base",
      "model_module_version": "1.2.0",
      "model_name": "LayoutModel",
      "state": {
       "width": "max-content"
      }
     },
     "20ff1c04042945fd9caaa9586fd36984": {
      "model_module": "@jupyter-widgets/base",
      "model_module_version": "1.2.0",
      "model_name": "LayoutModel",
      "state": {
       "width": "max-content"
      }
     },
     "211f9dc911624c3d80f59267d159c8e2": {
      "model_module": "@jupyter-widgets/controls",
      "model_module_version": "1.5.0",
      "model_name": "DescriptionStyleModel",
      "state": {
       "description_width": ""
      }
     },
     "235a9d87d6a64fe68548cd40c9b776c3": {
      "model_module": "@jupyter-widgets/controls",
      "model_module_version": "1.5.0",
      "model_name": "SliderStyleModel",
      "state": {
       "description_width": ""
      }
     },
     "24172323a3984ea58399c6ff8da1c7e1": {
      "model_module": "@jupyter-widgets/base",
      "model_module_version": "1.2.0",
      "model_name": "LayoutModel",
      "state": {}
     },
     "265b32efba144ad6b414ebeac8843550": {
      "model_module": "@jupyter-widgets/controls",
      "model_module_version": "1.5.0",
      "model_name": "SelectMultipleModel",
      "state": {
       "_options_labels": [
        "0",
        "1"
       ],
       "description": "Channels",
       "index": [
        0
       ],
       "layout": "IPY_MODEL_bb51eb2145fc406db7334e17f9dc6861",
       "rows": 5,
       "style": "IPY_MODEL_290c751c3b6941439406e3fbbb5ee2e5"
      }
     },
     "272e86b26ce746efaba40c278fbb6cdc": {
      "model_module": "@jupyter-widgets/controls",
      "model_module_version": "1.5.0",
      "model_name": "VBoxModel",
      "state": {
       "children": [
        "IPY_MODEL_ba4de577d42645e59524a648b3dda17f",
        "IPY_MODEL_ddec7fded0424b968ad2a780d667972d"
       ],
       "layout": "IPY_MODEL_41b5dc4edc404fc299d8d8db82c96ba6"
      }
     },
     "27d41722c77049bcb65c99beaef41ce9": {
      "model_module": "@jupyter-widgets/controls",
      "model_module_version": "1.5.0",
      "model_name": "FloatRangeSliderModel",
      "state": {
       "_model_name": "FloatRangeSliderModel",
       "_view_name": "FloatRangeSliderView",
       "continuous_update": false,
       "description": "yrange",
       "layout": "IPY_MODEL_06e46bee703646ebbaf5cff4d599922e",
       "max": 5,
       "min": -5,
       "step": 0.01,
       "style": "IPY_MODEL_b6a27ab598d7490a9115d8ff21c186d0",
       "value": [
        -0.5,
        0.15
       ]
      }
     },
     "285945b7b16847e9935d8754cbbb291a": {
      "model_module": "@jupyter-widgets/base",
      "model_module_version": "1.2.0",
      "model_name": "LayoutModel",
      "state": {
       "width": "600px"
      }
     },
     "2903df2c8ac649c3903aca3e22a44af6": {
      "model_module": "@jupyter-widgets/controls",
      "model_module_version": "1.5.0",
      "model_name": "VBoxModel",
      "state": {
       "_dom_classes": [
        "widget-interact"
       ],
       "children": [
        "IPY_MODEL_0f7373ab7ee647aa875eabb2996bca58",
        "IPY_MODEL_1eed69282f224710984dbba56b7ce664",
        "IPY_MODEL_d853e30ba76b4515bc00798e30a50100",
        "IPY_MODEL_9ce641ae74c147c0a2a0c0124a48ca40",
        "IPY_MODEL_03bd0bc1604f4a77a3dae0365e565a9c",
        "IPY_MODEL_dd1b986247324d79ba089197d91ad075"
       ],
       "layout": "IPY_MODEL_aece97ccb8674ab19352eeec67e22d22"
      }
     },
     "290c751c3b6941439406e3fbbb5ee2e5": {
      "model_module": "@jupyter-widgets/controls",
      "model_module_version": "1.5.0",
      "model_name": "DescriptionStyleModel",
      "state": {
       "description_width": ""
      }
     },
     "2b7111655a97451c8add8703e062f779": {
      "model_module": "@jupyter-widgets/controls",
      "model_module_version": "1.5.0",
      "model_name": "SelectModel",
      "state": {
       "_options_labels": [
        "0"
       ],
       "description": "Bouts",
       "index": 0,
       "layout": "IPY_MODEL_3b665931f13b45c19b5f8af2185ebc2e",
       "style": "IPY_MODEL_181867622f9d471c808faf1e97caef9f"
      }
     },
     "2beee861455e437fb8f0e575451b3d80": {
      "model_module": "@jupyter-widgets/base",
      "model_module_version": "1.2.0",
      "model_name": "LayoutModel",
      "state": {}
     },
     "2bfda8f45ae245a1af0253cdce7314c3": {
      "model_module": "@jupyter-widgets/controls",
      "model_module_version": "1.5.0",
      "model_name": "RadioButtonsModel",
      "state": {
       "_options_labels": [
        "0",
        "1",
        "none"
       ],
       "description": "detect delay to peaks on channel: ",
       "index": 2,
       "layout": "IPY_MODEL_a8f7336dfaef4b98973bfb9dbd1188a7",
       "style": "IPY_MODEL_158122d000a3471c992157646703ca2f"
      }
     },
     "2d9fd134238843ac895dbd1ba8172e7a": {
      "model_module": "@jupyter-widgets/controls",
      "model_module_version": "1.5.0",
      "model_name": "VBoxModel",
      "state": {
       "children": [
        "IPY_MODEL_3ff8dc35b30a4913aa79b6f2548f4de1",
        "IPY_MODEL_d61cd91eb8b348cd826a0ec4c609e8ea"
       ],
       "layout": "IPY_MODEL_4dda5ffb84f444798901873647f299f5"
      }
     },
     "2f7cef78e5504a9fadf45e1a7ff07b10": {
      "model_module": "@jupyter-widgets/base",
      "model_module_version": "1.2.0",
      "model_name": "LayoutModel",
      "state": {
       "width": "max-content"
      }
     },
     "308329d995d249a39a9324767e90b43f": {
      "model_module": "@jupyter-widgets/controls",
      "model_module_version": "1.5.0",
      "model_name": "DescriptionStyleModel",
      "state": {
       "description_width": "200px"
      }
     },
     "35645342ba284bbc9ce551fa1ebdbbe6": {
      "model_module": "@jupyter-widgets/base",
      "model_module_version": "1.2.0",
      "model_name": "LayoutModel",
      "state": {}
     },
     "35650cf058324c5b9b8aab481bb49a3e": {
      "model_module": "@jupyter-widgets/base",
      "model_module_version": "1.2.0",
      "model_name": "LayoutModel",
      "state": {
       "width": "600px"
      }
     },
     "3689e5d05f6d46269041660b91415f68": {
      "model_module": "@jupyter-widgets/controls",
      "model_module_version": "1.5.0",
      "model_name": "TextModel",
      "state": {
       "description": "min IEI (seconds)",
       "layout": "IPY_MODEL_58eab7127ce8410393c73382756d5a95",
       "placeholder": "0.005",
       "style": "IPY_MODEL_308329d995d249a39a9324767e90b43f",
       "value": "0.005"
      }
     },
     "368cc703dab0494eba8fea249b36b137": {
      "model_module": "@jupyter-widgets/controls",
      "model_module_version": "1.5.0",
      "model_name": "FloatRangeSliderModel",
      "state": {
       "_model_name": "FloatRangeSliderModel",
       "_view_name": "FloatRangeSliderView",
       "continuous_update": false,
       "description": "yrange",
       "layout": "IPY_MODEL_5c42b5f0305d4577954ecf85c82d53cb",
       "max": 5,
       "min": -5,
       "step": 0.05,
       "style": "IPY_MODEL_9f59d91f2e16425998f975a7f68eb296",
       "value": [
        -0.5,
        1
       ]
      }
     },
     "385bb980cbba44efa7e89124e6157267": {
      "model_module": "@jupyter-widgets/base",
      "model_module_version": "1.2.0",
      "model_name": "LayoutModel",
      "state": {}
     },
     "38d684b473364740b6229954b9f4d20a": {
      "model_module": "@jupyter-widgets/base",
      "model_module_version": "1.2.0",
      "model_name": "LayoutModel",
      "state": {}
     },
     "3a8c41af7cc740b4ab897ac2526f7ae1": {
      "model_module": "@jupyter-widgets/base",
      "model_module_version": "1.2.0",
      "model_name": "LayoutModel",
      "state": {
       "width": "max-content"
      }
     },
     "3b665931f13b45c19b5f8af2185ebc2e": {
      "model_module": "@jupyter-widgets/base",
      "model_module_version": "1.2.0",
      "model_name": "LayoutModel",
      "state": {}
     },
     "3c651e1a967d408c8db0254dc763d308": {
      "model_module": "@jupyter-widgets/controls",
      "model_module_version": "1.5.0",
      "model_name": "DescriptionStyleModel",
      "state": {
       "description_width": ""
      }
     },
     "3d1984c57e874c5aa0c881beca95e50a": {
      "model_module": "@jupyter-widgets/base",
      "model_module_version": "1.2.0",
      "model_name": "LayoutModel",
      "state": {}
     },
     "3d32a4b91d6b477b913a842b2fededfb": {
      "model_module": "@jupyter-widgets/controls",
      "model_module_version": "1.5.0",
      "model_name": "DescriptionStyleModel",
      "state": {
       "description_width": ""
      }
     },
     "3e5e6512610a44dca09fe42bac9fbb56": {
      "model_module": "@jupyter-widgets/base",
      "model_module_version": "1.2.0",
      "model_name": "LayoutModel",
      "state": {}
     },
     "3ff8dc35b30a4913aa79b6f2548f4de1": {
      "model_module": "@jupyter-widgets/controls",
      "model_module_version": "1.5.0",
      "model_name": "RadioButtonsModel",
      "state": {
       "_options_labels": [
        "0",
        "1",
        "none"
       ],
       "description": "detect delay to peaks on channel: ",
       "index": 2,
       "layout": "IPY_MODEL_2f7cef78e5504a9fadf45e1a7ff07b10",
       "style": "IPY_MODEL_c312c9f56bd346b195d93d379751ee19"
      }
     },
     "4159c3deca5b4554a5b12e1b094cbe4e": {
      "model_module": "@jupyter-widgets/controls",
      "model_module_version": "1.5.0",
      "model_name": "DescriptionStyleModel",
      "state": {
       "description_width": ""
      }
     },
     "41b5dc4edc404fc299d8d8db82c96ba6": {
      "model_module": "@jupyter-widgets/base",
      "model_module_version": "1.2.0",
      "model_name": "LayoutModel",
      "state": {}
     },
     "42f1f6d2df474d88937942fc9fe7fbe1": {
      "model_module": "@jupyter-widgets/controls",
      "model_module_version": "1.5.0",
      "model_name": "DescriptionStyleModel",
      "state": {
       "description_width": "400px"
      }
     },
     "433ccab0e70048e2bd8caaf1b88a84f5": {
      "model_module": "@jupyter-widgets/controls",
      "model_module_version": "1.5.0",
      "model_name": "DescriptionStyleModel",
      "state": {
       "description_width": ""
      }
     },
     "437fdb1a0df04235a04502b89e01c984": {
      "model_module": "@jupyter-widgets/base",
      "model_module_version": "1.2.0",
      "model_name": "LayoutModel",
      "state": {}
     },
     "43c3cea6122a431d9437fba03168b670": {
      "model_module": "@jupyter-widgets/base",
      "model_module_version": "1.2.0",
      "model_name": "LayoutModel",
      "state": {
       "width": "max-content"
      }
     },
     "451e3133a21e4e698683954f88abe65a": {
      "model_module": "@jupyter-widgets/controls",
      "model_module_version": "1.5.0",
      "model_name": "LabelModel",
      "state": {
       "layout": "IPY_MODEL_7c143c215e394084905dd7f79bcb3e0e",
       "style": "IPY_MODEL_f66d97e7766842239b74399e290a73e9",
       "value": "time since last event is: nan"
      }
     },
     "4794c86271b84fe083f3de8b4863f668": {
      "model_module": "@jupyter-widgets/controls",
      "model_module_version": "1.5.0",
      "model_name": "SliderStyleModel",
      "state": {
       "description_width": ""
      }
     },
     "47a29ff20c3a48c88021a3127ac5c9c9": {
      "model_module": "@jupyter-widgets/controls",
      "model_module_version": "1.5.0",
      "model_name": "SliderStyleModel",
      "state": {
       "description_width": "200px"
      }
     },
     "4abfd26e03ff4ee9b470196ab4b47ad6": {
      "model_module": "@jupyter-widgets/base",
      "model_module_version": "1.2.0",
      "model_name": "LayoutModel",
      "state": {}
     },
     "4cb7073dd2ff47a0bf2f11fd55f0ffcf": {
      "model_module": "@jupyter-widgets/controls",
      "model_module_version": "1.5.0",
      "model_name": "RadioButtonsModel",
      "state": {
       "_options_labels": [
        "odd",
        "even",
        "all"
       ],
       "description": "show only events by: ",
       "index": 2,
       "layout": "IPY_MODEL_85d0a977a4cc46e2add99d46322bb33d",
       "style": "IPY_MODEL_8c61791ee1ee44008e3d0a228d6ef320"
      }
     },
     "4dda5ffb84f444798901873647f299f5": {
      "model_module": "@jupyter-widgets/base",
      "model_module_version": "1.2.0",
      "model_name": "LayoutModel",
      "state": {}
     },
     "4fbf18718b1b461294cb2cfdc30dc650": {
      "model_module": "@jupyter-widgets/output",
      "model_module_version": "1.0.0",
      "model_name": "OutputModel",
      "state": {
       "layout": "IPY_MODEL_55fca312a86c49408974c1768884be79",
       "outputs": [
        {
         "data": {
          "image/png": "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\n",
          "text/plain": "<Figure size 720x360 with 1 Axes>"
         },
         "metadata": {
          "needs_background": "light"
         },
         "output_type": "display_data"
        }
       ]
      }
     },
     "5097169cb4ae437585da992acbed82fc": {
      "model_module": "@jupyter-widgets/controls",
      "model_module_version": "1.5.0",
      "model_name": "LabelModel",
      "state": {
       "layout": "IPY_MODEL_95147e0cd64e4a8fac38a2cc4848a1e9",
       "style": "IPY_MODEL_090263f5d65b48acb317f8d07223cff9",
       "value": "time of this event is: nan"
      }
     },
     "516280e89c2a4ff0a85e753acbed4558": {
      "model_module": "@jupyter-widgets/controls",
      "model_module_version": "1.5.0",
      "model_name": "SliderStyleModel",
      "state": {
       "description_width": "200px"
      }
     },
     "5179f1ca1b7045709983470d5baf796c": {
      "model_module": "@jupyter-widgets/base",
      "model_module_version": "1.2.0",
      "model_name": "LayoutModel",
      "state": {
       "width": "600px"
      }
     },
     "521e41ab17a84e009696ba61fa8a4e3f": {
      "model_module": "@jupyter-widgets/base",
      "model_module_version": "1.2.0",
      "model_name": "LayoutModel",
      "state": {
       "width": "600px"
      }
     },
     "52da494e2c31452b8bae926eea9511ed": {
      "model_module": "@jupyter-widgets/controls",
      "model_module_version": "1.5.0",
      "model_name": "DescriptionStyleModel",
      "state": {
       "description_width": ""
      }
     },
     "55fca312a86c49408974c1768884be79": {
      "model_module": "@jupyter-widgets/base",
      "model_module_version": "1.2.0",
      "model_name": "LayoutModel",
      "state": {}
     },
     "564c8546566545a1a2c6075012e9c652": {
      "model_module": "@jupyter-widgets/controls",
      "model_module_version": "1.5.0",
      "model_name": "SliderStyleModel",
      "state": {
       "description_width": "200px"
      }
     },
     "58eab7127ce8410393c73382756d5a95": {
      "model_module": "@jupyter-widgets/base",
      "model_module_version": "1.2.0",
      "model_name": "LayoutModel",
      "state": {}
     },
     "590f52183b7e457db5d1e872c7f115ad": {
      "model_module": "@jupyter-widgets/controls",
      "model_module_version": "1.5.0",
      "model_name": "DescriptionStyleModel",
      "state": {
       "description_width": ""
      }
     },
     "592c39e6abf4465da11dfef4a09bc9ee": {
      "model_module": "@jupyter-widgets/controls",
      "model_module_version": "1.5.0",
      "model_name": "SliderStyleModel",
      "state": {
       "description_width": ""
      }
     },
     "5a6f9162ce2d4b20a058915f33450b54": {
      "model_module": "@jupyter-widgets/controls",
      "model_module_version": "1.5.0",
      "model_name": "HBoxModel",
      "state": {
       "children": [
        "IPY_MODEL_c554d91cf1d544678f0ac5dfd76b5704",
        "IPY_MODEL_71373157186c4cb8800204a420893b9b",
        "IPY_MODEL_2b7111655a97451c8add8703e062f779"
       ],
       "layout": "IPY_MODEL_5aaea1a9a66246c48a922b2b34ba3788"
      }
     },
     "5aaea1a9a66246c48a922b2b34ba3788": {
      "model_module": "@jupyter-widgets/base",
      "model_module_version": "1.2.0",
      "model_name": "LayoutModel",
      "state": {}
     },
     "5adb8a9f6c3a4afbaf553acaf125728c": {
      "model_module": "@jupyter-widgets/controls",
      "model_module_version": "1.5.0",
      "model_name": "DescriptionStyleModel",
      "state": {
       "description_width": "200px"
      }
     },
     "5c42b5f0305d4577954ecf85c82d53cb": {
      "model_module": "@jupyter-widgets/base",
      "model_module_version": "1.2.0",
      "model_name": "LayoutModel",
      "state": {
       "width": "600px"
      }
     },
     "5e45ab1e114f423387a1efa7e8614316": {
      "model_module": "@jupyter-widgets/controls",
      "model_module_version": "1.5.0",
      "model_name": "SelectMultipleModel",
      "state": {
       "_options_labels": [
        "0",
        "1",
        "2",
        "3",
        "4",
        "5",
        "6",
        "7",
        "8",
        "9",
        "10",
        "11",
        "12",
        "13",
        "14",
        "15",
        "16",
        "17"
       ],
       "description": "Events",
       "index": [
        0
       ],
       "layout": "IPY_MODEL_e4bebe41e2084957bb5498a622e46248",
       "rows": 5,
       "style": "IPY_MODEL_15902cc751224079b01ab51760a74d00"
      }
     },
     "5eb2c1711bf34fb5ba0bca5c954f05fb": {
      "model_module": "@jupyter-widgets/controls",
      "model_module_version": "1.5.0",
      "model_name": "IntSliderModel",
      "state": {
       "continuous_update": false,
       "description": "channel",
       "layout": "IPY_MODEL_72e5863b0fa14d9aa98ac994abc5643f",
       "max": 1,
       "style": "IPY_MODEL_a700f6394e274ed996450126cc76f217"
      }
     },
     "5f349b5931ff4d52afb592a7bbbb1e13": {
      "model_module": "@jupyter-widgets/controls",
      "model_module_version": "1.5.0",
      "model_name": "DescriptionStyleModel",
      "state": {
       "description_width": ""
      }
     },
     "636dc3847bf84b6fa6048d1542e1c174": {
      "model_module": "@jupyter-widgets/output",
      "model_module_version": "1.0.0",
      "model_name": "OutputModel",
      "state": {
       "layout": "IPY_MODEL_385bb980cbba44efa7e89124e6157267",
       "outputs": [
        {
         "data": {
          "image/png": "iVBORw0KGgoAAAANSUhEUgAABFwAAAIcCAYAAADL8bqfAAAAOXRFWHRTb2Z0d2FyZQBNYXRwbG90bGliIHZlcnNpb24zLjUuMSwgaHR0cHM6Ly9tYXRwbG90bGliLm9yZy/YYfK9AAAACXBIWXMAABYlAAAWJQFJUiTwAAEAAElEQVR4nOydd3wlV3n3fzNzu+7VVa8rafuut3qLt9u7tjHGtJCYDoEkBEgnCTUNluQNkEACCSTUQCi2g8G497Wtrdree1Hv9fY25bx/HM3ozr1zVUZaSSOdLx9/WEn3N3POuc+cmfPM8zyHI4SAwWAwGAwGg8FgMBgMBoMxdfAz3QAGg8FgMBgMBoPBYDAYjLkGc7gwGAwGg8FgMBgMBoPBYEwxzOHCYDAYDAaDwWAwGAwGgzHFMIcLg8FgMBgMBoPBYDAYDMYUwxwuDAaDwWAwGAwGg8FgMBhTDHO4MBgMBoPBYDAYDAaDwWBMMczhwmAwGAwGg8FgMBgMBoMxxTCHC4PBYDAYDAaDwWAwGAzGFMMcLgwGg8FgMBgMBoPBYDAYUwxzuDAYDAaDwWAwGAwGg8FgTDHM4cJgMBgMBoPBYDAYDAaDMcUwhwuDwWAwGAwGg8FgMBgMxhTDHC7TCMdxj3Ac98hMt4PBYDAYDAaDwWAwGAzG7cU20w2YZ6zcuHHjRgAfVH/xgx/8AADwiU98YkIHmk5d7Tdr0RfqAwA4nU4AwMsffhlbF2ydVe2cqXMyHdNNh24mzsl0TDcdupk4J9Mx3XToZuKcTMd006GbiXMyHdNNh24MLTfhg4E5XGacO++80xI6s8xEO60ypnNdZxar9I/Z9tTrzGKV/jHd7dFO5/mYzto6s7B5e/7qzGKV/jHbnnqdWazSv7mum6zWCI4QMqUHZOSG47hTGzdu3Hjq1KmZbsqEmEyEC2P+MhnPMmN+wmyGMVGYzTAmArMXxkRhNsOYKMxm5jSmIlxYDRcGg8FgMBgMBoPBYDAYjCmGOVxmmMcffxyPP/74rNdlQjC+yKiZaKdVxnSu68xilf4x2556nVms0j+muz3a6Twf01lbZxY2b89fnVms0j9m21OvM4tV+jfXdZPVGsFquMwwaorObNeZZSbaaZUxnes6s1ilf8y2p15nFqv0j+luj3Y6z8d01taZhc3b81dnFqv0j9n21OvMYpX+zXXdZLVGsBou08hcquHy0odfwrYF22ayWYxZDsthZUwUZjOMicJshjERmL0wJgqzGcZEYTYzp2E1XBgMBoPBYDAYDAaDwWAwZgPM4TLDHDhwAAcOHJj1OrPMRDutMqZzXWcWq/SP2fbU68xilf4x3e3RTuf5mM7aOrOweXv+6sxilf4x2556nVms0r+5rpus1gjmcJlhrl69iqtXr856XSbjTUWbiXZaZUznus4sVukfs+2p15nFKv1jutujnc7zMZ21dWZh8/b81ZnFKv1jtj31OrNYpX9zXTdZrRGshss0YtUaLnXfrENvqBfASA2XFz/0IrbXbJ/JZjFmOSyHlTFRmM0wJgqzGcZEYPbCmCjMZhgThdnMnIbVcGEwGAwGg8FgMBgMBoPBmA0wh8sMc+PGDdy4cWPW68wyE+20ypjOdZ1ZrNI/ZttTrzOLVfrHdLdHO53nYzpr68zC5u35qzOLVfrHbHvqdWaxSv/mum6yWiNsU3YkhineeOMNAMCyZctmtc4sM9FOq4zpXNeZxSr9Y7Y99TqzWKV/THd7tGawytgw3dTqzMLm7fmrM4tV+sdse+p1ZrFK/+a6brJaI1gNl2nEqIZLV1cXAKCysnJCx5pOnVENlxc++AJ21O6YVe2cqXMynTFmc1it0j9m21OvYzYzP3WT0TKbYbqJMN32Mhkt080OHZtjZs85raJjNmNt3RhaUzVcmMNlGplLRXPH63BhzF9Y0TDGRGE2w5gozGYYE4HZC2OiMJthTBRmM3MaVjTXioTDYYTD4VmvM8tMtNMqYzrXdWaxSv+YbU+9zixW6R/T3R7tdJ6P6aytMwubt+evzixW6R+z7anXmcUq/ZvruslqjWAOlxnmsccew2OPPTbrdWaZiXZaZUznus4sVukfs+2p15nFKv1jutujnc7zMZ21dWZh8/b81ZnFKv1jtj31OrNYpX9zXTdZrRGsaO4Ms3nzZkvoMiEYXyraTLTTKmM613VmsUr/mG1Pvc4sVukf090e7XSej+msrTMLm7fnr84sVukfs+2p15nFKv2b67rJao1gNVymkblUw+X5Dz6PnbU7Z7JZjFkOy2FlTBRmM4yJwmyGMRGYvTAmCrMZxkRhNjOnYTVcGAwGg8FgMBgMBoPBYDBmA8zhMsM8+uijePTRR2e9ziwz0U6rjOlc15nFKv1jtj31OrNYpX9Md3u003k+prO2zixs3p6/OrNYpX/MtqdeZxar9G+u6yarNYLVcJlhCgoKLKEzy0y00ypjOtd1ZrFK/5htT73OLFbpH9PdHu10no/prK0zC5u356/OLFbpH7PtqdeZxSr9m+u6yWqNYDVcppG5VMPluQ8+h121u2ayWYxZDsthZUwUZjOMicJshjERmL0wJgqzGcZEYTYzp2E1XBgMBoPBYDAYDAaDwWAwZgOz3uHCcZyP47i9HMdd4DguwnFckOO4ExzH/TXHcQ6TxyzgOO63OI77R47jnuM4rovjODL834enug+j8frrr+P111+f9TqzzEQ7rTKmc11nFqv0j9n21OvMYpX+Md3t0U7n+ZjO2jqzsHl7/urMYpX+Mdueep1ZrNK/ua6brNaIWV3DheO4OgD1ABYO/yoGwAlg8/B/H+Y47n5CyNAED/0uAD+ZmlZOjubmZkvozDIT7bTKmM51nVms0j9m21OvM4tV+sd0t0c7nedjOmvrzMLm7fmrM4tV+sdse+p1ZrFK/+a6brJaI2ZtDReO4wQAZwCsBdAJ4KOEkH0cx/EA3g3ghwDyAbxICHnrBI/9ewC+Onz808P/PTH8598lhPxiSjqRfV5Ww4Uxb2A5rIyJwmyGMVGYzTAmArMXxkRhNsOYKMxm5jSmarjM5giX3wd1thAAv0MIOQYAhBAFwOMcx3EA/g/AQ8NRLq9N4Ni/IIT8b/ov6OEYRnDmbIvBYDAYDAaDwWAwGIx5y2yu4fLR4f9/Q3W2ZPA4gMaMz44LQog0mYZNJVeuXMGVK1dmvc4sM9FOq4zpXNeZxSr9Y7Y99TqzWKV/THd7tNN5Pqazts4sbN6evzqzWKV/zLanXmcWq/RvrusmqzViVka4cBznAbBj+MeXjD5DCCEcx70M4I8BPDBdbZtqDh48CAC44447ZrXOLDPRTquM6VzXmcUq/WO2PfU6s1ilf0x3e7RmsMrYMN3U6szC5u35qzOLVfrHbHvqdWaxSv/mum6yWiNmZQ0XjuM2ATg5/ONbCSEv5vjcnwD4r+EfSwghA5M4pzoQ01rDpa+vDwBQWlo6oWNNp27hNxeiJ9QDYOI1XKa7fzNxTqYzxmwOq1X6x2x76nXMZuanbjJaZjNMNxGm214mo2W62aFjc8zsOadVdMxmrK0bQzunarhUpf27Y5TPpf+tEoBph8tMYcYIZkJnlplop1XGdK7rzGKV/jHbnnqdWazSP6a7PdrpPB/TWVtnFjZvz1+dWazSP2bbU68zi1X6N9d1k9UaMVsjXD4I4JHhH5cRQm7m+NwDAF4Z/nEHIaRhEuecVIQLx3Hj2XpoZW1trefv/u7vtF9IEi0nY7NNzPc1nbq/6fkbRJUogJECun9W9GdY5lw2q9o5U+dkOmPMepat0j9m21OvYzYzP3WT0TKbYbqJMN32Mhkt080OHZtjZs85raJjNmNt3WjaT3ziE6YiXGZz0dx5wdDQEIaGhma9ziwz0U6rjOlc15nFKv1jtj31OrNYpX9Md3u003k+prO2zixs3p6/OrNYpX/MtqdeZxar9G+u6yarNWK2phSF0/7tGeVz6X8L5/zUNEAI2TTWZziOO1VSUrIxPafv/PnzAIB169ZN6HzTqfvKN7+CWCgGYKSGyzvf+U7cXXf3rGrnTJ2T6Ywxm8Nqlf4x2556HbOZ+ambjJbZDNNNhOm2l8lomW526NgcM3vOaRUdsxlr6yarNWK2phTNm6K5VsCoaO4z738G9yy8ZyabxZjlmL3hMOYvzGYYE4XZDGMiMHthTBRmM4yJwmxmTjOnUoquAFCG/71mlM+pf+uejLOFwWAwGAwGg8FgMBgMBmMqmZUOF0JIDIBaAPctRp/hOI4D8ODwj/umo123g5/97Gf42c9+Nut1ZpmJdlplTOe6zixW6R+z7anXmcUq/WO626OdzvMxnbV1ZmHz9vzVmcUq/WO2PfU6s1ilf3NdN1mtEbO1hgsA/BTATgD3chy3lRByLOPv7wGwePjf03c1TDEVFRWW0JllJtpplTGd6zqzWKV/zLanXmcWq/SP6W6PdjrPx3TW1pmFzdvzV2cWq/SP2fbU68xilf7Ndd1ktUbMyhouAMBxnA3AWQCrAXQA+Cgh5DWO43gADwP4EYB8AC8TQt6Sod0L4EvDPy4ihDQbHL8k41d9w///xwB+nfb72HDEzaRhNVwY8wmWw8qYKMxmGBOF2QxjIjB7YUwUZjOMicJsZk4zp2q4gBAiAXgHgFYA1QD2cRwXBRAF8Dios+UcgA+aPEVfxn8q3834/edMHp/BYDAYDAaDwWAwGAzGPGXWOlwAgBDSBGAtgH8CcGn41yKA0wA+C2ALIWRwhpo3Jbzyyit45ZVXZr0uE4LxRUbNRDutMqZzXWcWq/SP2fbU68xilf4x3e3RTuf5mM7aOrOweXv+6sxilf4x2556nVms0r+5rpus1ojZXMMFAEAICQH44vB/49XsBbB3jM+YCgmaarq7uy2hM8tMtNMqYzrXdWaxSv+YbU+9zixW6R/T3R7tdJ6P6aytMwubt+evzixW6R+z7anXmcUq/ZvruslqjZi1NVzmInOphsvT738auxfunslmMWY5LIeVMVGYzTAmCrMZxkRg9sKYKMxmGBOF2cycZm7VcGHMbsabUsRgMBgMBoPBYDAYDMZ8hDlcZpjz58/j/Pnzs15nlplop1XGdK7rzGKV/jHbnnqdWazSP6a7PdrpPB/TWVtnFjZvz1+dWazSP2bbU68zi1X6N9d1k9UaMetruMx1jh49CgBYt27drNaZZSbaaZUxnes6s1ilf8y2p15nFqv0j+luj9YMVhkbpptanVnYvD1/dWaxSv+YbU+9zixW6d9c101WawSr4TKNGNVwGRoaAgAUFhZO6FjTqVv4rYXoCepruDz1/qewZ+GeWdXOmTon0xljNofVKv1jtj31OmYz81M3GS2zGaabCNNtL5PRMt3s0LE5Zvac0yo6ZjPW1o2hNVXDhUW4zDBmjGAmdGaZiXZaZUznus4sVukfs+2p15nFKv1jutujnc7zMZ21dWZh8/b81ZnFKv1jtj31OrNYpX9zXTdZrRGshssM09fXh76+vlmvM8tMtNMqYzrXdWaxSv+YbU+9zixW6R/T3R7tdJ6P6aytMwubt+evzixW6R+z7anXmcUq/ZvruslqjWAOlxnmySefxJNPPjnrdWaZiXZaZUznus4sVukfs+2p15nFKv1jutujnc7zMZ21dWZh8/b81ZnFKv1jtj31OrNYpX9zXTdZrREspWiGufvuuy2hy2S8tX9mop1WGdO5rjOLVfrHbHvqdWaxSv+Y7vZop/N8TGdtnVnYvD1/dWaxSv+YbU+9zixW6d9c101WawQrmjuNGBXNtQJGRXOffN+TuHfRvTPZLMYsx2zRMMb8hdkMY6Iwm2FMBGYvjInCbIYxUZjNzGlMFc1lKUUMUxAwRx2DwWAwGAwGg8FgMBi5YA6XGebHP/4xfvzjH896nVlmop1WGdO5rjOLVfrHbHvqdWaxSv+Y7vZop/N8TGdtnVnYvD1/dWaxSv+YbU+9zixW6d9c101WawSr4TLDLFy40BI6s8xEO60ypnNdZxar9I/Z9tTrzGKV/jHd7dFO5/mYzto6s7B5e/7qzGKV/jHbnnqdWazSv7mum6zWCFbDZRqxag2XRd9ahO5gN4CRGi6/ed9vcN+i+2ayWYxZDsthZUwUZjOMicJshjERmL0wJgqzGcZEYTYzp2E1XBgMBoPBYDAYDAaDwWAwZgPM4TLDvPDCC3jhhRdmvc4sM9FOq4zpXNeZxSr9Y7Y99TqzWKV/THd7tNN5Pqazts4sbN6evzqzWKV/zLanXmcWq/RvrusmqzWC1XCZYQKBgCV0ZpmJdlplTOe6zixW6R+z7anXmcUq/WO626OdzvMxnbV1ZmHz9vzVmcUq/WO2PfU6s1ilf3NdN1mtEayGyzQyl2q4PPG+J3D/ovtnslmMWQ7LYWVMFGYzjInCbIYxEZi9MCYKsxnGRGE2M6dhNVwYDAaDwWAwGAwGg8FgMGYDzOEyw5w+fRqnT5+e9bosxhkYNRPttMqYznWdWazSP2bbU68zi1X6x3S3Rzud52M6a+vMwubt+aszi1X6x2x76nVmsUr/5rpuslojWA2XGebkyZMAgI0bN85qnVlmop1WGdO5rjOLVfrHbHvqdWaxSv+Y7vZozWCVsWG6qdWZhc3b81dnFqv0j9n21OvMYpX+zXXdZLVGsBou04hRDZdwOAwA8Pl8EzrWdOoMa7i89wncv3jsGi7T3b+ZOCfTGWM2h9Uq/WO2PfU6ZjPzUzcZLbMZppsI020vk9Ey3ezQsTlm9pzTKjpmM9bWjaE1VcOFRbjMMGaMYCZ0ZpmJdlplTOe6zixW6R+z7anXmcUq/WO626OdzvMxnbV1ZmHz9vzVmcUq/WO2PfU6s1ilf3NdN1mtEayGywzT1dWFrq6uWa8zy0y00ypjOtd1ZrFK/5htT73OLFbpH9PdHu10no/prK0zC5u356/OLFbpH7PtqdeZxSr9m+u6yWqNYA6XGebZZ5/Fs88+O+t1ZpmJdlplTOe6zixW6R+z7anXmcUq/WO626OdzvMxnbV1ZmHz9vzVmcUq/WO2PfU6s1ilf3NdN1mtESylaIa59957LaEzy0y00ypjOtd1ZrFK/5htT73OLFbpH9PdHu10no/prK0zC5u356/OLFbpH7PtqdeZxSr9m+u6yWqNYEVzpxGjorlWYDJFcxnzF7NFwxjzF2YzjInCbIYxEZi9MCYKsxnGRGE2M6cxVTSXpRQxTMEcdQwGg8FgMBgMBoPBYOSGOVxmmB/84AeaJ3Q26zIhGJ/DZSbaaZUxnes6s1ilf8y2p15nFqv0j+luj3Y6z8d01taZhc3b81dnFqv0j9n21OvMYpX+zXXdZLVGsBouM8zKlSstoTPLTLTTKmM613VmsUr/mG1Pvc4sVukf090e7XSej+msrTMLm7fnr84sVukfs+2p15nFKv2b67rJao1gNVymkblUw+VX7/kVHljywEw2izHLUT3DLIeVMV6YzTAmCrMZxkRg9sKYKMxmGBOF2cychtVwYdweOHO2xWAwGAwGg8FgMBgMxryFOVxmmKeffhpPP/30rNeZZSbaaZUxnes6s1ilf8y2p15nFqv0j+luj3Y6z8d01taZhc3b81dnFqv0j9n21OvMYpX+zXXdZLVGsBouM0wymbSEziwz0U6rjOlc15nFKv1jtj31OrNYpX9Md3u003k+prO2zixs3p6/OrNYpX/MtqdeZxar9G+u6yarNYLVcJlGrFrDZfG3FqMr2AWA1XBhjB+Ww8qYKMxmGBOF2QxjIjB7YUwUZjOMicJsZk7DargwGAwGg8FgMBgMBoPBYMwGmMNlhjl+/DiOHz8+63WZEIwvMmom2mmVMZ3rOrNYpX/MtqdeZxar9I/pbo92Os/HdNbWmYXN2/NXZxar9I/Z9tTrzGKV/s113WS1RjCHywxz9uxZnD17dtbrMhlvKtpMtNMqYzrXdWaxSv+YbU+9zixW6R/T3R7tdJ6P6aytMwubt+evzixW6R+z7anXmcUq/ZvruslqjWA1XKYRoxou8XgcAOB2uyd0rOnUGdVw+eW7f4kHlz44q9o5U+dkOmPM5rBapX/Mtqdex2xmfuomo2U2w3QTYbrtZTJappsdOjbHzJ5zWkXHbMbaujG0pmq4sF2KZhgzRjDtOlOmNYnzTUI3E+dkuqnFKv1jtj31OrNYpX9Md3u003k+prO2zixs3p6/OrNYpX/MtqdeZxar9G+u6yarNYKlFM0wbW1taGtrm/U6s8xEO60ypnNdZxar9I/Z9tTrzGKV/jHd7dFO5/mYzto6s7B5e/7qzGKV/jHbnnqdWazSv7mum6zWCOZwmWFefPFFvPjii7NeZ5aZaKdVxnSu68xilf4x2556nVms0j+muz3a6Twf01lbZxY2b89fnVms0j9m21OvM4tV+jfXdZPVGsFSimaYBx54wBI6s8xEO60ypnNdZxar9I/Z9tTrzGKV/jHd7dFO5/mYzto6s7B5e/7qzGKV/jHbnnqdWazSv7mum6zWCFY0dxoxKpprBRb/x2J0BboATLxoLmP+YrZoGGP+wmyGMVGYzTAmArMXxkRhNsOYKMxm5jSmKpuylKIZRhRFiKI463VmmYl2WmVM57rOLFbpH7PtqdeZxSr9Y7rbo53O8zGdtXVmYfP2/NWZxSr9Y7Y99TqzWKV/c103Wa0RzOEyw/zkJz/BT37yk1mvM8tMtNMqYzrXdWaxSv+YbU+9zixW6R/T3R7tdJ6P6aytMwubt+evzixW6R+z7anXmcUq/ZvruslqjWA1XGaYNWvWWEKXCcH4UtFmop1WGdO5rjOLVfrHbHvqdWaxSv+Y7vZop/N8TGdtnVnYvD1/dWaxSv+YbU+9zixW6d9c101WawSr4TKNzKUaLo89/BgeWvbQTDaLMcthOayMicJshjFRmM0wJgKzF8ZEYTbDmCjMZuY0c7OGC8dxPo7j9nIcd4HjuAjHcUGO405wHPfXHMc5Jnnsco7j/o3juGscx8U5jhvkOO4gx3Ef4zjO1IDORThztsVgMBgMBoPBYDAYDMa8ZVanFHEcVwegHsDC4V/FADgBbB7+78Mcx91PCBkycexNAF4GUDz8qwgAH4Bdw/+9h+O4dxJCUpPpw1j85je/AQD8zu/8zqzWmWUm2mmVMZ3rOrNYpX/MtqdeZxar9I/pbo/WDFYZG6abWp1Z2Lw9f3VmsUr/mG1Pvc4sVunfXNdNVmvErI1w4ThOAPAsqLOlE8ADhJA8AB4A7wMQArABwCMmju0H8Byos+UKgM2EEB+APAB/CiAF4EEA35psPxgMBoPBYDAYDAaDwZivJDuTiN2MQUpIM92UaWfW1nDhOO4PAfwQAAGwnRByLOPv7wPwf8M/vokQ8toEjv3/APwdaMTMakJIc8bfPw/gawDk4b9fM9uPjONasobLkv9Ygs5AJwBWw4UxflgOK2OiMJthTBRmM4yJwOyFMVGYzTAmyve//30oQQV/8Ed/AGe+c0qPHeoIoe9yH/Kr81FyRwmsUgGj43gHbrxwQ/t5x2d2wOGdVGWQmWLO1XD56PD/v5HpbBnmcQCNGZ8dL787/P//l+lsGeY7oClGAoAPTfDYDAaDwWAwGAwGg8GYRxBCkDieQOxgDA3/3oCBGwNTdtzWQ604/cPTaDvchkuPX8KV31yZkmOnnyMZSiIRTCAVGb2iRufJTpz+0WncePEGZFEe89jpzhYAOPKNI0hFb2vVjlnFrKzhwnGcB8CO4R9fMvoMIYRwHPcygD8G8MAEjr0CQO0Yx45yHHcQwEPDx/7ieI8/UY4cOQIA2LFjxxifnFldJkkpiYHoAEKpEMryyiArMggI8ux5ICAQZREcx6HhaANCYgjr71yPqvwqiLIIu2CHKIsYTAyiyFUEl80FURFh42yIpCIIJoK4fuE6BE7Azm07wXEcREWEwAtQiAK3zY2UnIJdsEMhCgBa2DelpCArMo4ePYqYFMP6TetRlVcFmchQoGAoMQRCCMrzyiEpEjj1fzwHRVFwqOEQQmIID97zIJwC9UgTQiApEmRFhsvuQlyMw8bb4BAcICBoGmpC48VG8OBx/933QyYyHDbqsY2JMTh4Bzhw6Ip0QZRFVHgr4LA5EBWjOH38NBSiYM+uPYiKUSiKAptgg1NwgoCAKDT6TFIkCLyAlJyCjbfhYMNBuAQXtm/fDkmWEBNj6Ih0gCc8lhYthUQk2Hk7CAh4jgfP8ZAUCUcbjiKuxFF3Rx0W5C+Ax+kBBw7RVBR2wQ6ZyHAJLqTkFAghsPE28ByPQ0cOARywa/suJOWkNjaiTL8TnuMRE2PwOX1oC7bB6/AiKkYRl+Owc3YkpAQURUFbsA1Vviq47W4kpARERYRLcEFSJDht9Jh2wY43Dr4BhSjYuWMnHLwDMpEhyRJsgg08eIhEBA8ePM9DURRwHAcbb8NrB1+Dg3dgx/YdEHgBMpEhyvSzdsGOlJyCAgU2zgZwgI23QZRFNBxtoOfbTm1NURRIioQ8Rx6iqSjCqTBkRUahuxBOwQkFCuJiHGdOnEFYCmPV+lWozq+GKIvIc+QhJaW08wmcQO1XFkFA4LF7cODQAfAcjw1bNsDO2+k5iQKe45GSUnDYHFq/7LwdSTkJhSiw8TY8s/8ZeAUv7t11LyRF0vogcPR74MCBcASKQo8HAAIvoKGhATKRsX3bdu0aVscvISfgtrk1OwcHOHgH7LwdhxsOQyIStmzdAqfgREpOIZwMIy7FUemrhMvmgiRLUAhtr6zIEDgBhxoOAQBW3rkSKSWF2vxaKFAQjAcxEB+AXbDDztlR5i2DwAtISknY+WFbgQJFUeiNX0lC4ATEpTiSYhKRVASVvkpIRIKDd8AhOCAqIhqODPdv+3bYebvOZrrD3YhJMcSlOO4ovQM2zoaYGENvtBdtl9rAcRx279pNbVqhYwkACSkBG2cDx3MAAeJiHG6bGwPxAZw8dRIF9gJs2bZFm0cEXkBCTMBpcyIhJ9AR6kCxuxgF7gKkJDo3nTxxEgCwbds2CJyAjnAHClwF8Ng8sNto/wVOoOPIC7ALdoAAR44egaIo2Lx1M3iOh0IUeOweKERBJBWB1+5FQk4AAFw2Ok+57W4cPnKYzvfbdyAhJuCw0fECAXiOh0NwIC7F4bQ5tXHmwKGhoQEEBPfdfR+ScpLOD7IMQgjAQbtO+mJ9yHfmw+vwAgRoaGgAeNo/OoFCs3+O48BzPGRF1ubuUDKEvlgfAKDpUhPybHnYdNcm8BwPp80JQgjUKFyFKAgmg0jJKe2eIxEJKTmlXTt2wY5oKgq3zQ2ZUFuUiYz+WD9CyRAqvZXoifagwluBMyfOAADu3HwnPA6Pdt27bC7ExBid/3heu/YAICWl8PKhlyEpEt56z1shcPSe5BAcUIiCmBiD2+5GUk7CJbggK/Te4xScOHLkCBIkgTfd/SYkpST9nJTU2sjzvHYtAYCdtyMux3H6+GkInICNWzaCAwe7YNfsjIBAVmTt+uU5HuCAtmAbLp+9jHxHPrZv2w6ZyNRKh9+ESoqk2btTcGpzfSQVwXMHnoNMZDx878P096DHFGURPMeDYOT7UNsu8AKOHT2GlJzCju070B3uRr4rH/mOfIhE1N2zRYXOyWobjh89joHUAHZs3QG/0w+7YIfA0TkhKSfRH+tHhbcCAi/AxtuoTYDg8JHDsHE2bN22VXs26I/1Q1IkFLmKwPEcCCH0fsXRZwSJ0DkuqSQhSRJSSgq9kV44bA6Uecro9zDcR7tgp/PSsK0eP3ocCTmB7Vu30zlScNA+cICiKHDanNSGCJ2XOdDnFlmRsf/wfjgFJ/bs2gMA2vOSep+ViYyOcAdEWYTf5UeRuwid4U5cOnMJbpsbO7fvBAGhc9PwNZWSU5AJvZYEXkA4GcZgYhB1+XU40nAESSmJe3fdC4fdAVESqf0qKc1WU1JKm2PU55pjR4+BA4ddO3fR5zyZzsvqcxvHcRiMD2IwPggBAuoK6qAQhd5DoWD3jux5VLWxdPvsDHfCxttw49wN8ByP7du30+9HkbRnK1GmY+e0Ua3ACdq1fvL4SSSVJO7cdCfiUhwumwtJMYkiT5E2N6ntVY9BQPDk60+CB4+H7n4IgiDo7pPqtU4I0exabXNcikOAgFAihDx7nva9qtc6COg1Iolw290YjA9CVERcP3cdoiJi145dUBQFAi9Qu5ElyJDREexAsacYhe5CajccvZ/vP7wfbsGNHTt3AARQoCAlp9AcaIaDd6C2oBaEUBsNJ8PwOXxQoODIkSMQFZHeX4avF3U8BF5AQkpodungHbDb7ODBa/a5bfs2yIo8MmaEICpG4RJciEv0niLKIuy8XXuGPnn8JAgItm3fBlERoRCF3oMVugAXOIHaLk/tQb1/HTx8EBKRsGztMhR7iuGyu0AIgULofJmQEtr3IRMZDsEBjuNwrIG+f9+2fRt97gCn2ZX6HCVwgjYnqJ85cuQIZCJj185diPZFceIHJyArMuq21mHhmxbSzUE4AAogEWpvHDgcP3YcKSWFxWsXo8hTBDtn191/1T73RHrgsrlQ4CpAS0MLkr1JKFAQQgivPPIK7vnre1DgKtCen1NSCnJYhiPPAbuT3rcEXsAz9c/AITjwjj3vgKLQ4/McDztvx7VXrqHxeCOCCKIIRbDBhtYLrRBKBbQoLfRZZudu9IZ76XfNcfCIHjhcDvh8PtgEG+KpOBTQceI4DmeOn0FKTmHtprUYGhpC84+atWdEGTIq7qrA0jct1Z5HCQg4cDj80mGcf/o8FlQvgL/dj1ReCku3L6X3CZ6HU3CC53lt3k9FU0ghhVvtt9Bt68ZdFXfBCy86T3Ri4Z6FGIuZWPNO1XpZZVamFA0XtD05/ONbCSEv5vjcnwD4r+EfSwghY7oROY57GMCvh39cRQgxdA9yHPevAD4LIEQI8U+k/aOcOyulyGyo4nToeqO9+OSzn8QbzW8gmUwCGEkpGi/TrZuJczId002HbibOyXRMNx26mTgn0zHddOhm4pxMx3TToZuJc05W57A7ICUlzQmrIjgFw9Sc8Z6PEAIiE8gSdTTJMv1/m0Cd9bydBy/w2mcVUaEvVTlAsAv0xc4Y5xut7onMDZ+Pt4HIBut6DhAc2X1MHxc5ZRylkt52lUQ0oesfAHACB97G686h9lWWZHA8lzUun8Kn8I9f/EfNIZeL6V4rj6E1lVI0Wx0u7wDwzPCP6wkh53N87rcAPDX841pCyMVxHPvPAfzn8I9+Qkgox+c+hZGiuT5CSGSM446nMMvK2tpaz9/93d9pv1DHf6I5eNOha0o04VtD36K64bdabItoxnhhNsOYKMxmGBOF2QxjIjB7YUwUS9qMPPK8r0YlzuoiEkYQgChk1LYTaWQNy9nG/n5IKm3Nm3FMQ72S/TlDFH1bwCFrWZ5+fN1n1b/zo3xHCqgjJV1m0H6j447n+EQaPrYqzzE2WW0Y4xxEInQM0zXcyPE9kgdfW/S13AdUjzPNa+XRtJ/4xCdMTQSzMqUIdHtmldgon0v/my/np6bm2KM6XMxittjRdOiCJGjqHAwGg8FgMBgMBmOaIWnOlvSfabbi6Av78aBAS3nX4GiEg9FnQUArYo4HgqwIDULoIj/z+JnOBSKRUZ0uOmeL2rYM54CmT2+HOm6jHTvT0aH+aCDJ5RQhSo5+yoRu4ZJJZvtFMmrshea8yvgMkQ2cIjJ039lojpyscwxH62jOlqwPjbQ9YUuM67jTvVaerNaI2epwsRyEkE1jfYbjuFMlJSUb08OTmpqaAACLFi2a0PmmQ/eDkz+Acx8NazMbxqeGjwnCeGfbyelm4pxMZ4xVbMYqupk4J7MZppsO3WS0zGaYbiJMt71MRst0M68jhCCVTAHc7bEZohBdKgdvH6mTlKkjCq37w/Gc4WJQPR8RyZgODo7nINgFTacuqAW7oC3IM89BCIEYozXAtGif4fOotXBszpFlpZSQRiI9iD41xWhs0o+vjYeN184lOGjdnVH7SACbS7+0JYRATIhZaUTq5zkbN/J7QtOL5KQMCNBqavEcr/0tc1wUSYHE6dN9FKLQzwsjnxfsAv2uR/luFKJAEAQINmHk2LKkc5KQtAHiOE6rx0cIAS/wY0ZiCQ56bKIQSCkp29mScWwCQu2Dp7WOtP5h5HtPx+a0QUpKUKDQtup8fyPRYhzh4Obd+MjvfwQuu2vUNk/3WnmyWiNma4BZOO3fnlE+l/63cM5PTd+xJ8yrr76KV199dVbqfn/D7+On7/op/A7zJWwkSYIkTXy/dbO6mTgn000tVukfs+2p15nFKv1jutujnc7zMZ21dWZh8/b80xFCICdlEJkuOKWEBEVWMN5SDEbnI4Q6WMSECCkp0QVvGoqo6HTq56WEBDkl03oYOWptGJ4vR/4HkanzRkpKtC2SBBBATsmQk/Q86f1U26EeTi36rIgKFFlRf6lFvmi/y+ibIimGbSWEQIyLI5E4w04A9fMAICfpuIlx0bBP2nnSNEQZ/t4kRSu4rRZjV8eGSGn/Hm6HdixF0Zw8ahvSo3sUWYEs0oLyRBn5T03PSR8HKSmNaTuKokBMilrbZUmmEUVqu5W08RmONCIgml2m9yUXckqm/4kyHZfMaKW0sSMgWZE+RuOSqdNsIVdTCLCybSW+fOvL2kYjozHda+XJao2YrREunWn/rgZgWMNl+G8qXSaPbVjDJe3Y4bHqt0yGhx56aNbq7IIdby57M37U8yOcPnoafBGPD3/xw3AVuFCwsGBc4VZtbW0AgJqamqy/iTERHM8hPhhH0+tN4O08lj64FK4C16i6yZyT6aZPZ7ZYlVX6N926mTgnsxmmmw7dZLTMZphuIky3vUxGO9d0sf4Yon1RFC4qhM1lm5LzEUIgRkUIDkF7cz/ZdgJAKprCa3/7GmwuG85dOgeO47Bp0yZgeC2+Z+8e7bM3XriBjuMdAIDS1aVY9e5V4DjO8Hz1e+tBCEHL/hbtd858J9zFbvhr/XRXoXwFy969DJVllTj01UPZjSNA5apKrHjnCt2vm2814+x/nEXgfAA2lw28nUcqnIJgF1C0vAh5pXkjh1AIIs0R+Cp9CEZo+QC/P+3lqgIsf/NyVG2qAgB0nOjA8W8fR7A1CFmUEe6g76FVp8mmj22ia4IUsO2vt+Hovx81HlgJWP3waoT5MOweO/0OFYJ9f7MPHcc6EGwLZqUUrfvIOi2youl4E5LBJBbtXASnL0fEkQSsfd9aFC8rxuv/8DpaD7YiFokhOZQEJ+vXLe5it3acml01aDtEv7PqrdWwu+3GY5MC7vn7ezBwfQCXHr+Ei7+8mFXQNhym41NQXICF9y6E0+dE50m6/KzcVJmz7er5lm9cju6z3eg43oFAcwBSPLejsGJDBQJdAQCAy+VC4ZJC+GtyvyiXUzIEu4CBGwNoPtBMd0uzZbsDBKeAoiVFNOpomPL15XAXuo3HZZjA9QD8tX6ce+Rc1t9Ue7HZbLB77ChZUWIYJZPJdK+VJ6s1YrYWzfWARpXwAD5HCPl6js/9N+i20N2EkMpxHnsFgKvDP76XEPKrHJ97AXRb6KOEkO1Gn5koRrsUzXbq99bj/CPnERwMgnNyWHXfKhQtLULtrlosftNi7XNdZ7qQGErAXeTGUOMQyteXo2hJUc7jth5uxZUnriDSHYHgEFCwsAAAULS0COs+vO52d4sxDUymOjhjfsJshjFRmM0wJgKzl+kjfX0RbAni3M/PgcgErkIX7vqTu7SUFrOEu8J45TOvINwRhiPPgdI1pbC77dj8x5vhLfdqnxu8NYjzP6fvbSs3VWLRvYvg8OZ+qx7pjeCZP3gGqUgKANDZ2Qk+j8eWt20Bb6OLw11f2AWby4aWgy1oeq0p6xhb/2Ir3EVu3e/aGtpw6+Vb6Dnfg67T9B2x3WOHp9QDjuNQuLgQ/lq6gF31nlW48sSVnNEHAGBz27Dr87u0n1/93KtoP9YOMSLSyAqOpuTYPXSL7Lp76sDxHBRZQevBVhQsKkBBXcFoQ4x7/v4e8DYe9Xvr0VzfDEVWEGrLfk+97G3LkFeaB0VSEO2Lwlc5dlnNHZ/ZAYfXgVM/OIXzj5yHFJMQ7YsafnbhvQvhr/VrjiqX34WKDRWjHn/TJzfh6LeOouNYByLdkZy7/LgL3XD6nUgEE3D5aWqLq9CFivW5j+8p8yDWG0OoM4TGVxqz/q46XHw+HwoWFiDQHIC/zq+9qK7cWAlnfu4UNaIQRLoj6DzRifhQfNR+2tw25JXl6V6C1+6q1Ww1k1Q0BUVScPXJq4Z/z2yHp9SjcxDV7a7L+cI9EUig+2w33CVudJ3MHQfhzHfCXeQGb+PxkX0fGbMdswxTxV1mZUoRISQGoGH4x7cYfYaj3/aDwz/um8DhrwNoG+PYeQDuNnHsCROPxxGPj34xzZROkRSc+9k5KOJwzmSSoP9KPwCg9VCrdiOo31uPa09fQ8uBFlx96ip6zvfg/M/Po/dir+H5rj59FRceuYCbL91E25E2NNc3o/MU9fwO3hycVP8mo2W6qdWZxSr9m4nxtEpbmc0w3XRqp/N8TGdNXcuBFjT8ewNiR2NQksah8JM5n5SQEBuMofH1Rlx6/BKGmoZMtzWXjhBimKqRSSQUwVDn0KiLdRUxJiLQEsDgrUHc3H8T0Yjxgnci7QQAWZSx/8v7Uf+lejz7iWdx6oentMiFxFACB//5IAZaBzSdIim48eIN1O+tx4XHLkAWjdNm1PO1nmzFEx94Qou0SEVTmiPg5HdPap9VZEVztoiiiNajrTjyjSMIdRgHt4faQ3juE89pzhbtOFGFPvcOO5GCrUF0n+s2dLYAwLH/PIbmhmatf7Io49bLtxBoCWjOFoCOf7AlCDEuYqhxCLIoQxRFnPzhSV1kgRFSXELflT7t5/4b/Yj2RhEbiCERSCAxlECsL4ZgS1BLlVFkRYvGCTQF6O9FEaJofK7+a/2I9EQ028t0tqipJTeev4H4YBzR3igGrg0gNjDaniT0u9j/1f20/+1BRLoiOZ0tAND8RjPCHWHIsgxZlpEIjl1s9cyPziDYSvueiqVypsDEh2i7E0MJ7ftV/51rbLpOdiEVTaHzeGfW3zIJNAegyAqSgeSIPs0G0lHP17ivka6hcjhbOJ6Dw+cAIQSRrggkUdLq4gB0jZaL/iv9uP7cdQCjpwYB1G6Hbg3pxjsVTuUcl+6z3QCAocahrL+p5+MdPFyF1LGVnv41GnPhmWS2phQBwE8B7ARwL8dxWwkhxzL+/h4AaojFz8Z7UEII4Tju5wD+FsD7OY77J0JIc8bH/hSAFzRj7REzjR8vP//5zwFM/G3LdOhiA7GsG3ZsIIZgWxD+Gj/q99ajbE1ZTv3lX1/G1eKr4J28dr7YQAzXnr6Gvit9uptJ74VeQAGq7qqaVP8mo2W6qdWZxSr9m4nxtEpbmc0w3URhNjO/dR//+MfRc64HYlxE5cZKXfHNyZxPSki49cotbYEj98lI3UpBkRWtgOdE2ml0vqbXm9ByoAXB1iAi3RFU3VWF/qv92P7p7XDkOSY1NtKAhIff/jCSoSSu/OYKHHkO1N5diyUPLDHUJIIJfP/D3wcAbNq0Cdv/ervhm3RZlHHyuyfRXN8MMSZCSkjo7KSLx088+wmUrCjRfT7UEcJQ4xCKlhTBV6WPXjDq38F/PohQRwgt+1sgp2Q4fU64ilxYsG0B7G471X355xAKBezZuAcD1wc07cC1ARz854NY8uAS1GzPTv/5n73/g9CTIVRWVEJKStqb/FBHCMXLiwEATW80YeHuhbj0+CVNd/78eW1cTv/wNBZsX4ClDy7V/h4fiuPYfx5DfDAOOUVrdSRDSSghBZyHvtRu2d+ChXsW4vh3jsNV6Bo1tf6JrzwB79u9+OQnP4mGf6fvkJvfaDb8bLQnCrvHjpb9LRj0DiLVmEJVVRUW7lmY8/gAcOmXl7Bn7x6Eu8JovNAIZUiBz5cdXRJspSkg3kovLQg7TCqSwsXrF7VxyeTmizeRCCbQcbzDMLIlGqVOEp/Ph1uv3ILdY4cz34neC72jtl39Ljz/7UHjq40569KoEIXg8q8vQy6VwXEcqqqqRv08ADS+RiNPYn0xXTuNCHeGYc+zQ5EULfIqEUjgcuNlANljM9Q4hO5z3UgExnb8EEKQCqfA8RxsHtuoc9v58+chR2Q4Oh3abj+ZcDyH/Jp8cByHUDv9TroudkEoF1BdPVJpY/unt6Ph3xp02kh3BIkgdcQ5/U7DcfHX+gGORqWpqUyhthBsLtr2vst96LH3AADu2naX9lJedQYrsoJAU0CLFkonTuLgwCGfyx990DKYC88ks9nh8hMAnwKwGsATHMd9lBDyGsdxPICHAfxw+HMvE0J0VW04jtsL4EvDPy4ycKh8HcDHAJQDeJ7juI8QQk5xHOcY/v0/DX/uh4SQsWOuJsGdd945a3W5JsCOYx3wlHjQe6EXiWAC7kK34ecAwHfeh+q30Qmg63QXjv3nMfRe7EWsP9v73XupF/k1+bj27DXT/QNm95jOJ51ZrNK/mRhPq7SV2QzTTad2Os8333WKTIssZqaDTOZ80bYo9n95v/a73ou92PTx7MXfRM+XiqZw5OtHAFBHRPeZbiSaE0hcSOBA4QGsfs9qlK4q1WliAzGE2kLw1/l1zza5znft2WvoOtUFohDtrW732W5UbqhE+9F2LL5/sU6rSAqCbUG4ClyjPjsBQB1fh/7Gfpz83km0HGhBKkyjLvqu9qHtcBtcBS4sf/tyFC0dSd8++s2jqKgYSYVo+PcGbPvLbXAVjCx+CCE4+M8H0X+tH/HBkTe4Xi9Nw6n/Uj0WP7AYGz+2EQBN3Tn9w9MAoIvo2PAHG+AqcOn6F+oI4fQPTyMZSqLx1ZFUi2Q4SaMrjnVoC3HfgA8u3qVztqRz6+VbaDvShh2f3qH9ruVAC/K78xGLxzQnQjqB1gAKagtw/bnruPnSTc25A0A3LgDQ3tCO4uXFKFxUCAA48d8n0He5L+u4RCQgQYJgaxCCU0CgJYBAUwDA6OkVFRUVKEYxuk53QYpLOVNaVMSYCDEmwl3t1lKexLio60MmRCGo31uPaF8UtqgNyJUpRegCeuDaAAoXF2r1bsSYmDUu6Vx/7jpKV5VqkUSZOBwjJ1Qddw4vdRb0nO9B+bpyQ11FRQXEiIjTPzg9anqXijp2Lrhg99q132XuSJRJqCNE2+TQn8NX5UO4k/ZJjbIQoyJifTHNoZgIJHKODSEE8YE43TXK4Pvn/Tz9vQwkg0nt+ImhBLwV9DqTRTlrHi0vL0dfYx8IIUgMJuDwObIcw858JziOg5yS4fA6kAqnwCs8nJLeserIc2D3l3bj5PdOItpDHSv9V/u1l93JYBIOt35c/LV+zdFjz7NrDiVFUrS2SwkJy+5dhvI95di6dSvq99YDAIZu0fkv0hkBCB0/p5+2NX9BPohCwCf0fVEdpGMxF55JZmUNFxWO4xYBqAdQO/yrGGgalHrnOAfgPkLIYIZuL0Z3uIDjuLsAvARAvVOFh4+rzmyvAngHISSZqTWL1Wq4BDuC+MnOnwDQ5yMCQP6CfO2tQs2OmjGLle36wi4c+toh9F3u08IZc1GwsADv+837svJfGdaC5cozJgqzGcZEYTYzAiGEhqEPxlG5YfQaAWYYahrCpccvQUpIWPymxajdWTu2aAxiAzEc//ZxRHuj6LvcB97Oo2xNGZa9dRkW3bdoQlEomdx86Sbaj7aDEILrz15HfDBOn2U4YPHWxai+q1pX/DTaF8WJ/zqh/Vy7qxa1d9dCcGRvBQsAnSc7cf256wh3hdFxrAOCU9AWxzU7ayDYBd3xpYSEQ18bKYK65M1LaDRPjkVj/d56RHuj6DzRmZVuUbOzBsXLiuEqcGHrp7ai9WArml43Tm8BgHv+4R7wAg8pKWmFWJvrmwFQJ1p8MA4pLsFV4IIz36k5Rbb82Rac/P5J7S22EUvfshQLti3Qxi8ZTuLKE1dyft5X7cPC3QvRdqRtzAgOAFj/kfUoXFwIQgj2f3k/rj9/HbG+3Ckrq96zCv1X+5EKp8Z1/D179yDcGcaxbx/D1Sev5iyAqj7/OnwOeIrpRqb+Or/msDFCkRTtWfnWK7e0Rf5oiDFRcwTanDYs2L4g52cHbw3CX+PHhUcvjHlcQgiSwSScPicKl4y0OdcY9V/tR6Q7At7Ga+n+Y7Xb5rbBXejWHHzqdWDEjRdvINoThTPfiWRo9KWWFknCQVdbxej4alFiWZLRd5GmXDnznbqIEX+dH8GWoNZu9QUzL/AoWzsSuW80NoQQXHvmGiKdEQgu/dzgKfWgcFEhbpy9AQAo8hQh0BzQ/q5uOgIAi+5fhN3/sBsANKdFuDOMrtNdiHRFkIqmNI0Kx3PwVfvACzwiPRFIcUkXZVNxJx0bteivOv+ox2+ub0Z8MK45FdPHJb3GDEBTodKPrba9ZGUJSlaWYNtfbgMAnPvZOQw1DqHpjSbE+mJZNu4qcCF/QT4W3b8IUlzC4M1BOPOd8Nf5sfo9q0fNlJilzJ0aLiqEkCYAa0EjTtS4QBHAaQCfBbAl09kygWOfAI2e+RaAm6COliiAwwA+AeAtU+lssSI2R27PcbqXtP9q/5jHOv6d40gEEui/NvZnA80BPPPxZxDpuW2bQzEYDAaDMW2EO8O4/MRlXPnNFVx/7jouP3EZyfDUPmK0HGjB5V9dRvMbzTj1g1PjqvcxHgghuPLUFRz5xhH0X+lHsDWImy/dHPON/eCtQRz7z2O48eINw61cB24M4Pi3j0ORFfRdpgsjRVTQfaYbzW8048A/HRh1G9X4UBwDNwYgJbPb0fR6E9qPtgMAIl0RXSQHCH3OIArRUo0UWdE5WwBaB+HQVw9h/5f3Zy0iei/14vpz1yElJDTua0QikEC0J4poX5TWVeimzy9q7YNUNKVztgB0AX7oa4eyIn5lUUb93nooEq23YVTbQl0sJgIJ1O+tx61Xb+UcJwA48E8HIMZFreioLMk0UqM5gFBbCGJUBFEI4oNxhNpCCLQEAABHv3V0VGcLQB1bhBCc+K8TEOMirj97fdTPhzvCaDtCSymqTp/ROPezc5qzBcCozhYAuPH8DS2qYKxaIgBNqzn1g1N0N5gxbBqg6RVqVIT6PeQi3BmGGBMR7gqPy9miSIq2ZS9AtxI2su/0tjTvb85Zr8dXPZIqotalGe146ag23H2m2/D4nhKP9m+iDG93HRN1i/SBa8bRS4lgArHemO48unZX0WKznlKPfnmb0YxQewh3/M4dut+pc4ka1QGMRMg4vA4sfWgpFu5ZCE+pZ2S762Ey58zBW4Oo2103cvphZ058MA4pKWVlAtTdXUedZcNtTgQSOkePItFtpJ1+J4hMEOmJQJEU3PUndwEABq7T+Ux1tqjnBIDiFcVY/vblmhNaTfdJd8jIEm2P6vhVv3OHz4FEIAFFphF2KskQjTzz1/lRvq4clRsrdee0541EV6nXlLfCS4vjnqP1WkpXU+dgpCtiaONSUkLpqlJwHAe7x47ydeXaTreqdj4wm1OKAACEkBCALw7/N17NXgB7x/G5bgB/NfzfjPD4448DAN773vfOOp3dYxzGSAiBIimIdEdQsKhA/yCTwaVL1E/mbHdCcAjaBTsWTaea8OiXH8UH/uEDaHq9CYJDwJI3LzHMCcxkNo/pfNKZxSr9m4nxtEpbmc0w3USZiJYQAjEmjhlZOdHzEYXg+HeOIz4Yh7fCi3W/uw6OPMeYurGQEhJ+9ilaam716tXa76785gr8tX74a/xY/MBiFC/LDq8e7/muP3cdR75B02dsLhsC7gBu4iY+8hnjHSCkhISWAy3oOt2Fmh01qNlRA97GZ51PjIvY9/l96L3Qq3N+RLoi6DjRgbq767LaqcgKjnzjiLYg6DjWgY5jHdqOJ+pxLzxyAWfrzyLVm0JZWRmIQpCKpJAIJhB4NICiZUU4+7Oz2PDRDdp5CSFoO9KGZ7/1rDaerkIX7vrjuzR7iPRE0HKAOhYCLQHDuhlilBam5HgO7iI3rvwmd0QGAPzsUz9DycMleN/734fm+mbNUdB6qFW3ja0YFRGMBhHtiSK2Ioaj3zyKZnszomej2nefyekfncauL9DdZsKdYeosUxQ0fJ/WX8jLy8vSqAtFwSGgZX8LipYWIX8BrYugPndlnu/wvxzWIi6aXmvKWryq9Rzy8vLQeaITvkofBm4MoHh58ag7Cl26dAmdP+pEFarQ3tA+dj0OQhBqCyHOx8HZOZQNlGkRI7m4+eJNAHQxnd5OI8SYiEgP3fJ44PoAPNs9WjsBg3H518MQYyI6T4xdAFV1PCSDSbiLaRR268FWVG2pyqrNcenSJaS6UvBd8Y26ra/TPxzhQegCOZVKoftGN6pX0XT8YEvQMPVCXZT3X+kHUQhEIoJ38Nq4OLwOCHa6C2ikJ6JLD0mvYaSOy5p1azRbVl+oSgkJikydQOmRWO5imvbU39EPIhEIIrUPRVRACNFSbRLBBBbdtwhNb4zYGyEE518+j1Q4BZtEj2lz27ToCm+FV7uWHXkOmqo0nJKVSqXQ3dmNiioayeGr8qF8XTlaDrQg1h+DIiuaQy7dMZeIJZAiKfiqfdoOVgULCxDpjsDhddB+DjvR1OuqbncdLl++jFRbCpu3bUb70XYkg0k6Tw2n90lxSfvePSUeLarQscyB1HX6GZvLpo1nKpJCqD2ExffTEqQnv3sS3kovNvzBBkhJCb29vUh2JGHnRtZfUkJCycoSLNi2ABzHoWJjBdoOtyGdVIqeKxlMYulbRuoSNfx7A7b91Tbc8fAdePr3nqbOLaLXiQERRVwRPMUe7Nm7B8/84TPaFtaCXYA4vBc6IUS7H166dAmXLl3Cnzz+J6hYX4Gj/3E093VP6Hqy9u5aHDx+EJHTEaxevRrL3rZs1BpI6cz2Z5LxMKsjXOYDTqcTTufEw36nQyenqBc2HUKI5jFNhpKa11gt3JSJIAiQ+iVEuiJjvpXQnSdJIA/IOP/IeQzeGETfpT4c/ebRcWln85jOJ51ZrNK/mRhPI224M4xbr97S7VYwVedkNjN3dYqk4OrTV3HtmWtZbzxni22nQxSCtoY21O+tx/4v78eRrx9B/d56xE/GoUQnHsmReT4xLmL/P+5HfDCOSE8E15+/jl+991do3t88ZjvDnWH0X+3PuePCsf88BkEQIAh0ESGLMtqPtiPcEUZ7QzuivVFc/vVlw4gUO29H4kICZ35yBr0Xew2PH+mN4ObLN7WfpYSE+JU4Bh4fwOt//zotNpnxMHzhsQtoO9IGKSGh6fUmHPh/B7L6J4syDv/LYfRf69ecLWoh0aHGIbzwZy8g2hvN0p383knDBea1Z65p/+671AdZlCH1S+B5nr55bQ0iPhjXFn2DNwZx6J8P0boxhKDzVCf2f3k/Gl9t1I1nYiiBg185qC1Arz1Nz0MIyVmkFKDfW3N9M179/KtjpjQIggAMUjtRnS2BlkDOZx8pIaHnXA8i3RH0P9YPns/9uC0lJC1l49QPToEQgsuPXwbHcTkXJOGOMNoa2rTvJT3lI31s0kkEE4j0RJAMJxHpyo4qSD9fKpLCrVduIdYXy7njSPr5+h/tRyKYGFcRUTEmIjYQgzRIv/veC8Z2rUIUgsP/ehiBlgA6jneMOi7q5+P9w7sDpRWIzTUufVf60NbQNvqOKcNfnxqpFR+Ka2OvyAq6T3dnSQRBgByQEemK6NJKAJq+4S5yw1PqgbvQDX+tXzsex3G6OS3cGQYhBDs/v1N3DDWaRIs+ybjkVIcQQFNHBCftO1EI3bloWCf3yyi9vxSbP7lZ+7ya+q9GpUsJaSTqwWPX6q7Y8m1ZxV3FiKi9XK3aVIWm15uw47M7sOo9q+j5UjK9HtLaq0VrFLpQubGSjk2xB4qsQIyKWts5joPcL4MQAqffqTk77vpTGiGizh1ZO+8Qqq2+a6SorCJSpxNv43WRHIHmAGSJFucVBAGkj2DpW5aiYkMFgi1BxPr0G4qo90+n34nqLdXY9pfbwHEcbOW0bYJD0L3AFiOibswiXRF0n+um8/GAlPU9qv3mOA67v7Qb+VX5OicvAPB2WjMm2hvVvSQgCkHDvzVAFumYZa7DOI4D7+LhrfBi1xd2gRCCZe9YpruO01NTg+1BWntm+FqK9kbRcqiF7nhlEAXl8Dlgc9ng9Dux+P7FKFhVgKr3VGH7Z7brvouxmI3PJBNlVtdwmWtYrYZLKpLCoX85hIuPXURwiIag5bnzdNvlFS4p1PZnN8p1lBIS2o+2a7mA6aFvoyElJPiqfajcUKm9tQFo/uLuL+6eRK8Y08XtqK0gxkSdl30qEeMirj1zDb5KH2p21Yz6gGwGKSlBTspTWlchEUzg2H8e026+C7YtwOIHFk+q7oERAzcGMNQ4hOJlxShcnDtffbJMpc0QhaDjeAdaD7ciFU6h6q4qLHtoWc7K/6bOMXz/jPXTBzD1zdlkkRISrj17DeGOMMrWlmHRfYvG/SZoPKjh+eqbTpvTht1f2j0l54gNxHDup+e0BezydyxH1aaxd5QYDUVWcOmXlzBwfQDB1qBuAdjZ2QlO4PDn9X8+qfG/+H8X0XelD8GWIHrO9+giN9d+aC12f2m3Ls2WEIILj17A4A19VnPmOMb6Yzj+nePaz6GOEFoPtWoLDG+lF4WLClG8vBgbPrYB/ho/APr2+vqz17NSdle9e5Uu511KSHjyI08i2htFKprKeqDOX5CPhfcuxIp3rkD1XdW03Y9cMKzJ4Cn14K4/vku7RtLz/olCkIqmEB/QR7Q6vA780fk/0ubLgRsDuPBI7noS6vic/p/T6DzRif6r9O28UQFUlfUfXY+6e+rQejD3VqcAULW5CosfWKzVKEkMJXD1af2+B5n1OPx1fiiigtpdtTmjetMpX1eOnvM9GGoc0qJoRiO/Nh8cODj9zjGvgy1/vgXHv30cvZd6xxVtoUgK3EVurd7dWPVKmuubYc+zIxVJjZkKA9D7bfHyYvA2HtVbqkcdn64zXUhFUlrhzFyoDjsVteZE7d21Oe9bnSc7kQglEGo1dm7pjj9cpwSg0Q95ZXnwVnqzdl1Kb0/TG00INAW0uTCTqBwF5+bgVby69K+SlSVa1EfpqlLs+OwOnPvpOe3v8aE4es71oO9yH32BmVYvQ63jUbGhAt1nqLMmGU7qxq/kjhKtPWq9j/TUqp4LPeg43qFFWwDUGeIqdCGvNA8L9yxEx/EOuvX3sMNHXUhzHAdvhRd55Xmo3VWLzX+0mRY2JQT1X6pHy4EWiHFRlxLE23g4vA7kL8hH+fpy8AKPnvM9iPXHkAwlIadk7SWszWVD8YpiLLp3kfZdbPrEJlx+4jJOfu8kBm8MZjnnnH4nChYWYNG9i7D9M9vRfbobz//p8yPRJElJmzedfidWv281HB4H3Q3M68Ctl2/h0q8uYejWEIJtway5qnh5MZa9dRl2fGYHOk50YP+X9yPUEdJS5hLBhBb94avyYdV7Vmlz+Z69exAbiOGRtz6CcEc4a9vwgsUFWHjPQrzlW28BAHz3a99F+PkwHG0jz6pqfwWHgJXvWqnb7YsTOFx96iqiPdGsY7sKXChdVYrf/tlvQ4yJOPPjM0hFUrj868vaZ9TryuFzYN2H12XZcevhVsT6Y1qx58zjr//oevA2XnuWDDQHdOl+attdBS6UrSlD1eYq7Ttpb6Cpm+qW0COdAlx+F1yFLqz8rZUoWFiA+FBcuz4Fp4Adn94xqUjVGWLu1XBhzCwOrwM7P7dTt0DMnAjUhQZAL/gF2xdoIcMA0HOuB3JK1t48ZeZxp3vgVRRZgZSQEO4IZz0UEoXg/C/O58xXZcxNAi0B1O+tx+F/PYwjXz+CMz8+M+485PEgSzIef/hxnPzuSbzxxTfw+MOP6/JcJ0v3uW4c/MpBHPnGERz86sEpaXsimMDRbx7VveloP9qu5epPFU2vN+HCIxfQ+GojTvz3iXHloU+Evqt9uP78dQzcNM71NkOkJ4JnPv4MXvu713D92etorm/Gka8fQcM3G8YWj/cc3REc/dZR1O+tx4n/OoGT3z2J0/9zekqOffWpqzjxXydw9amrOPBPB/DTe3+Kp//gaS2vfzJEe6N47B2Pobm+Ga2HWtHe0I7m+mac//l5Xd64GVQHYN/lPgzeHETvxV688ulXcPYnZ8e0yUQwgWBr0DDK49zPzmHg+gDEmKg5W2Rx+OFeBpSIgic+8IThfSERTEBKSBBjYs6aKeGuMPqu9GkOgMw02QuPXMAzH3tGt+3l/i/vz3K2AMD+L+/Xpd6ozhYxRlNYGl9t1EV/RLoi6L3QCzEm4tzPziEVpVsWH/n6EcP6aJd/fVlb1BBCcPCrBxHtjUJOyYZRpKH2EJpea8Krn31VW6zlKoAZ64uh9TB1aqg11AZvDUJKSjT6JGMBA9Bngqc++hSCrUEEW4OjOlvU8VEUBaG2EN16lxCEOkZfSF998iqOfP3IqPVcALowV+u2AMhythgRbAki3BlGx/GOMY9PCKEOboWMy9kC0O83GUoiFU6NWVPniQ8+ATEu5oyayURK0O9FtYfR5gd13haj4ricLWrKUnyIfuejbXYgJSUkg0kMXB19DvdWeLPGQG1z/xXj+n5qVLUYFXOmLPiqfdqzZPr9UI0MSY/mcfj0L2s6T3UiGUwiFUllRWXZnDaUrysH56brK0VSdA77YEtQs5m8sjzkleVhx2dGdlQauDYAKTFS5yMzgia/Jh/OfKf2zBwfiMPmHlkoq05IwSFoTgeO47SaIvGBuOGYuIvcWHjvQizcsxBVd+mdfGpkCiEEYlxE3e468DYep390WksDUmuqZEZBEYXAX+cHb+Px0Lcfws7P70TFhgqkInTLYzUKBaC2mW6P4c4wQh0h+Kp8uuiadOSUDJvTBnueHU6vE3X31CGvbCRtLN2JIMUlzWYa/q0B+7+8H7ydx9CtIVoEOmOu4gQOiqxg7YfXwuF1aOOi7hgEYOS75aClmKnf79mfnsW1Z64ZOkR4G4/EUEJzogGAElUgB7KzBACaPtV/tZ+mO+5vRltDG5peawIncFnHVkkEEhi4PoDLT1Ani8PrgL/Or2u73WMHL/C4+NhFnVa1QaPyDza3TSsKnn7tpPcFoFEuqsO192KvVldKdbYQQrJeJqo/L3vrMgDUiZNeVkJOylkRpHOZWV/DZa5z4AAN473nnntmpc7pox7n3pZewwkyGUwi1h9D+fpy1OyqwdI3L0Xlxkqc+K8TIApBb3svkn1JDKcAQk7SPFCO4+Ct9KL0jlJ0HO+Aw+fQJvdUOAVJkiBFaAhjtDeqm3QHbw6i7UgbancZ75Aw28d0LusIIVBEBeHOMJSoAj5v4j7d9PMpsoID/3RA93dZlDFwfQCHvnpI23lhou3U2qsQPP73j2Po9BBciZHoq8RQAk//wdP4yKvG9Q/Ge75UJIVkOInzPz+v5cQGAgFceOUCPv78x8f1RtXonFvv3Dpqit3hfzk86bFRdU0/b0K+nK89/B38ykHs+MwOeCu8OXfXGO/5es734MW/eFH7OSAHwOfzIB833mpxtHamn2/f5/ZpRR/Tuf7sdSiygu1/vR2CTZjUuDT+TyOQtubKK8+DIitofK1Ry88eq51GNO5rxMnvnQRAH/pSkRTiqTgCQwE88tAj+K0f/xb8tf6c+tHORxSCfX+zT/dQp4al7/+n/Tj5/ZN409fehBbSMmY701Ejck48dwKBcwEUFBQAoI6JaE8UB796EB0nO7D7H3brHnAB4ObLN9He0I6WFnrOpXcsxY7P7tC+/3BnWFsgqm/9E8EEEkP0jZscpg/1Q41DaPhWA3b8NV3wKJKipcmkU7e7DovuXaSNzerK1TTi48Ygrf1gUMARAAJNATz78WfhfosbXS92oa6uzvBzAC0iuuyhZdo9M9wZxq1jt5DoScDlyo7yTIaTuPHCDaz87ZXY94V9cBe6tYd/dVzSz6fWXbn16i2tCGqmIzSRGH4j6XIh3BmGu9iNU98fO7q2/sf1qEvVAQeH6w20hQzTT9JpPdiKx//ycUABlt25bNTPyikZT/7uk/BV+jDUOISBjgFIUclwXFTCnWEokoLi5cVaNIfRuADAoa8dQtmasnEXJCYKAbiRyIhcUbgtLS1I9CbghNNwbslFrC+GWDgGF1yojI6+c5SclNFxrEOLokj/Do1QF/Cx/hjyF+Sj7XAb6nbXobWVOs3UsSGEUIdlXESgKQDBKeiiSTiBLrYUj4LUYAoul0uLQol0R+Ap8dA0l7Qdd9K5+OJFLQJK3QZWJX9BPqSkpEWlpp9XkiQMtA2gbHEZYv0xyCkZZWvKdNtEx/poXQ418oMTOKTElDYuHM9BsAva2/nMAsP9V/pRuqoUgZYACn63AJJNAl6HNi5iVNQV1iUK0a49T5kHFRsq0B5vh9hCH2IdPsfINr/D46mmyvRf7UfVpiosf8dyGp3W3Y9Yawz88LvtzLpT7/rpu0Bkgtf//nUt9U1wCEiEhyM/orQ91Vuqwdt43HjhBpa9dRkW7lmIa09fQ7grrEuZkiQJvJ0HL/DY/EebkVeWh+b6ZpSvL9ciXDhh5LvhbTQNRb2WYn0x+qzNDTvRMtLsnPlORHuiePO/vxk8z9OtlfPDSCTovJZ5z471xHTbJp/6/imtuG4sQF/W2mwjzxCCQ0BeWR7u/L07AdBowLLVZbqoH0mStO9BdWKqNtV6sBWVGytx/hfnkYliUxAaCuHqb65iw8c2oPtMN8rWlmlFowFar0SSJe0aDbWFEJbDIApB/vF8rQ5LJvY8O/w1ft2aJHE2AXudHcWuYu3Zz+6xQ0pI1KnVFdHsTP0O4/1xECeBHJW1cXHmO+HwOlC5uRK3XtEXxi5aUjRSPDuRgLPECQxP1S0HW7T6Wu1H26GIiuEzlaiIcOQbR4yn7+TE8Rx4+8i1e63+GgrWF2i2He4Ig+M5uk11ZMQ5WLq6VFf/KXPebjvchiUPLDE8fzrTve6ZrNYIFuEyw1y9ehVXr479FmYmdZpXPscLymhPFJ5SD9qPUE9nXil1jsQH44j2R5FK6j22iqigYGEB/DV+bPrkJvzhsT/UbkJaTqksQ5ZpxXO14ng6jfsap7SPTDd5nSIpaPi3Bhz8ykGc/d+ziL4ehdQ98UiO9PNdepwWcyOE0GJo/TG0N7Sj/Wg7Bm8O6pwxZvq3/x/3o+18GwYbs9/4KqKCC49dyPlWcqzz9VzoQf2X6/HSX7yk3XABIBaLIdARwL4v7JtwxIJ6zvS3uNHeqFbEUf2v73Kf7uZs6rqXFRz/l+PoONyhC/fvvdiLY/95DCe+eyLnA8hY55OSEhq+2aBztgCA1CMhdSOFVz7zyoTamn6+SG9k1AXRzRdu4sbzN8bVTiMSwQQaPtuAzoZOSEkJ0d4oYgMxRLoiaD3YiqtPXTU9LslwUnMSKJKCaG8UYkxEfCiO6FAUiqTg9P+cxqVfXdLpFJnufCCLss4xnnm+S49f0j28EoVo0RGKqCDcEca+L+wbtZ2KpCA2ENPZbvuxdvSc70FnQydiMfqQTRSiRTHIKRm3Xr6VVZi0/2q/9oasv78f/f1097urT46cW3UkqNEQADRnSyZqdIWUlAydLQDQsp+Gyqt9vPDIBaQiKQSaA6OmtYTaQ+i/1o9z3z+Hvp7c9ZIAWiRWkRUtDHvg+gDC7WGIYu4on1QkhYFrA+i90KvbzU8dl3RuvXILwbYgDn3lUOZhNERR1J0vPhDHuV+cy/n59POd/MZJWjPlZOe4o556jveg90LvqHOaWvA21B5C58lOWmtmKD7quADU5hKBBHrO9+jamTkusf4YpLhEbXEcKTkATd1KBmk9uvSFfib9/f0YuEH/Pp6dddR2A7QwZTQSzdqNKB113ALNAS3FIf07tLlt4O08vJXZaXPpb657zvegv78foeKRKJlUJAWiEIQ7wtpOMunkleXBU+pBQkpAEoZrdagFTuWRHZdaD2WndEkJCdFoFJE2+pn0N9i+Kh94G493fP8dKF4xXPQ1bc0nyzLifXGt732X+rD2g2t1W2n3Xe7TRSukwiltXHzVPix9y1Ls2bsHHMfBVeDKSqVQd/wpqCvA1Yv0mt/6qa0AaNSAItEaISrqri1qIdM9e/fAs80D+2L6ciRz0Wpz2dB1iu50df3Z6+g63YXKjZXov9KPWCxmGNnnKfXg3n+8FzzPQ7ALuP8r92vfCcdxkAl9/gXo3K46udQoIykuoet0l24XHnU8k5Ek7v/a/fCWe8FxHLb+5Vb0nBu5btLb7yxwItob1a6lE/99AqlICr5Kn2H0HkC/7/I15fR8SRmtp1she0aueTVCx55nhyIrmkMYoOmGrYdaqeNBlLQ+AjR6xV/jhyIr6Dnfg+P/dRynf3hac7CqKIIChVe0Lc7T26lICrpOd2WlDXMCR1/iummk4/FvH0froVZ4ij26NL/0OjEAvR8PNA5gqGUIYkyEIilZEVLq5zmew/Xn6Asd1YGnORyGj8vbeU0vi7L2bEkU6igkCoEkSSD2kXs4x3PwlHjgKcouKp1fk6+1VRRFxFMj18nQrSE07mvUiuuqzwVqhBNA04MkSUKiwPh+Wra6TLtePaUe3a5U0e4ouk91a8dW5zrVVu0eOxx5Di31SMVo3h4P073umazWCFbDZRqxWg0XlUfe/ggaGxqhxJSRAkIcdJWuV71nFfKr87Hlz7bAU+JB99luvPSXL2Xt4w7QSW3jxzZCcAjajfXyE5dx4J8OZBUWA+iWY0Ye0Lp76rDovkVT1EvGZFHz/VVUO/+rp/7KVE0RKSnh0FcPjRq+vWD7Auz+4m5tC7yJ0HelDxceuWD4EKnirfBi4Z6F2PxHm3N+JhdvfOkNdJ7ozLn4BmhO8du++7YJj4861qH2UM70AAB409fehAXbFkzo2CpHvnEE15/Lvb3ngm0LsPQtS8esG5BJ99luXH7iMtoOtWWF8Hd20kVSVVUVHvj6AxMqqgbQxcqZH58ZV7j/B579gFZ/aiI88/FnMHhjUNtpQ32QEZwCfeB32VB3Tx02fmxjVljuaCiSgl8+/MuR7Uz7Y1nhxf46P9yFblTcWaFFMIW7wlmRC6WrS7H6PfqdOAgh+Om9P9X9nCu14KOvf1RXqyfaG0XLwRZwHIdwZxix/hjcRW7c+Xt3wuFzoH5vvfZgrUYl5tqV4w+P/SG85V6E2kM4/aPcKVjqvSG9jghAF1Dp0RyZNTlWv3c1SlaWjOo8WfymxdrbyPq99Wiub9acW2PhLHCibHWZ4Y5C6UhJCbzAgygEja81Zi2OjJBFWTvuWNfVUOMQhpqGtHOM1l9geNvWpIxFb1o0atvVumvqm0qje3LWsYejQ/Jr8lGyvARla8sMP5cIJtB9phuB5oDu7elY7VbftJevL8eCbQtyzveqjaSiKUS6IrpoDF+1DxzHoeMKXbT6fD5dvQ9nvhPeSi+WvmWp4ZtgdTtYMSZi4PqALpJDjfaL9kRh99ppUc20YwM0RN9V4EL5+nK4C7NTqYcah7RtmgH9wjivPA92t12rH6N+Pj0CoXxdubbQfPf/vRueEg+uP3cd3We70XG8A5GeiM7Zqkby5JXlwe6xY8H2Beg63QUpIWGocUhXF0RwCChYVAC7247CJYXY/cXdOPuTs9qYpyIpDDUNaSkJ9jy7tjtOycoSvP17b0fbkTacf+Q8bjx/A4qsZB2/dFUpytaUYdnblmHRvYtw/pHzdMvj+mYM3hzUzYWuAhd4G4/8Bfn46Bsfpd/riQ68+tlXDZ853UVurP/IegAj80rLgRYc+foR9F3py3KEObwOFC0twu/V/x4AWlss+kYUXMPw4jY2kt7kKnDBV+2jNYCG7XL9R9fjxH+fQMvBlqw0K3+dH95yLz704oe0+35bQxuuP38dF35BHcbptuMp8WDZ25ZpNrPud9fh/M/Po3FfY1YRbd7Ow+lz4sMvfVjb1ejYfx5DW0MbAk2Bka3K0+px5NfkY8HWBbpUo57zPWg/2p41h7sKXChcXIjNf7QZq9+7GleevIKecz1QZAXnfz4SVZJer9Ff5wfHcSi5o0RLAQo0B3T1UgBak6VwUaHhvBcfimuFsDMpWFiAijsr4Cpwabao1pRR783qtbrqPasM6/9Fe6O48QJ9CZNfk69FvKh9dhW4ICUlLdIv3b7sHjuKlhXBX+NH0dIi7ffq8++mTZvQeaITvZd6DY/vrfDSlxgZNpgIJGg9ngIXyteWo+QO4xpE0b4objx/A65CF1x+F8S4qLvX+Kp81LE97JQlhGgpRi4/td1cESaEEDTXNyPYEtTSl9LnbLvHDrvHntV2NWpQrcczFukOVovAargwbg9EJiCifmGUnkrg8Dq06Jbj3zkOQghchS5t++hMbE6aM7j6fSMLguXvWJ6zLktsIGaYW525qEqGkjjyDbpzxZmfnGF1XqaRdKeFLMr0Oxu2mQP/dGDUrcNz0d7QTh9yR1k8D14fxKGvHcLFX16cUP2JSHcEl355SRcpkutzzfXN9OFgAiTDScM3iQBdDARaAgh1hNB1uksX/TIe1N2IUtFUdo0jQhAfiiPSHUEqksK+L+yb0LFVYoMxnbMlFaVbGYY6Qtpbmfaj7eg4kTuv3wg5JePqU1dpRfu0a1pKSFodArUfr//964bHULecNOLWK7e0XVOMdHJqJAIkM89ZRYyLo+5Wob5Rk+KSbo6RkzKiPVEEW4JoPdiK68/rnVXJUBL1e+tRv7cefVf6snLcLz9xWbdAM8rlDrYE0Xuply4Sht+iGaWJ9F3qQ/3eem2cpJSE33zoN9rfpaQ06mL37E/PIj5I6wPU763Hif8+gd4LvVqBRIC+VW893IprT1/Tjbm6hWcufvGWX0BKSjj389GjLZr3N2t1WtSFtJSQxqwh1HqoFVefGf2tlBoh2XtpJJpkPM4WMS7SMPOO0dsgizLaG9rRebITrYdax+VsUXfjkFIj9VlyoTqhU+EUdZyN5Wwh1GkhJSX0Xe7TXWuZqAv+3ou9Y9YcUVEjBBKBBKL90ZzpPKnISB2TzO/RW+FFwcKCLCdl+jXSe6EXbUfaDOtWZG5Zna7zVni1tBPOwYGzcbp2A/T6jPZENcehmiai0nOuh9YDGa5tk57KoT4P1eysgb/GT9NoMq6BcCeNLkmPNlARYyKCrUGIURGpcEo3D/hr/bC77VjzgTVwF7m1NNTMdA/1Z5vLhnBnGLyNx8p3rdSOn7mrCVEIbG4b7B7qyFG31wVB1gsAOSUj0h1B6apS5JXmIdobxZY/36Ldc2P9saytsdWCoKWrSunY7KjRHH1Gxy9eWQxPiQcdxzpw9emrWP725VBkBYqkZM2FYkyEp8SDgkUFmmPKX+PXIhsz07YUSRnZUWh4bq/cWAl7nt0wIosTOG3sAPoMLIdlbezTa5Wo/VePSxSCcz89B97GI9AYyDp2MphE9dZqbQykhIRbL9+CYBM0B6HaJ4fXAUVS0PwGnQsVScEzH3sGzfXNhnV+bC4bCpcU4sKjF3D0P47i6lNXER+Mw1/j1z2z2/PsWmpRtDuq3ceJQp2Ksb5Y1jbgqr52V60Wda7aMi/w8JSORD+k1y1R7w2qs0W1GZd/JE1OTcmpu8c4TdNd6Nal+qWntgSaA2h6o4kW9iZEuz+lR6JwHIfCJYU5N1tQjy04aKpdejHbRCCBVCSVsw4Qb+fB8dyomwlUbqocbki27Ue6Izkj3wSHAGe+E8UrczvIPSUe+Gv9ms3bXDadOyDcGdY9f3McB7vbrn1erQdkBMdxKF9brqWecRynS2cWY6Jh2/Nr8rHkwSU5yz6kkznPzmVYDZcZ5sYN6lVdtmz0vOeZ0mlvcTMcLuqbFN5Ot1STUpJWa0UtGhjtjSIepBd6+lZ8HM9BTskovaNU+53NYYPNbdPeqqmhhoIgINodRd+lPt3ODFr70vJtD33tENqPtSMaphN8rC+GnZ/bmaXJxWz/LmajLj4Ux8nvntQegOWUjI4THVBEBanOFGzlNiiygitPXsHGj22c0Pk66jvG3C4yNhDD0K0hcByHwfggKndWjqt/J793ElJSom8WYvSG4fF4tD6koiltK79IdwTnfnoOW/9iq2E7jc538nsntVSJzPZGB6l92gl9M/D8nzyPjx//uO5GHOmmhRYLlxTqfn/mtTNofKoRbri1sSGEID4Y170xBOiDnOAQ0FTfBKla0to61DSEgWsD2tvHTIhC8MqnaUpPLEYfpMWBkYVJqC0Eb4UXvJ2n4aqfzR7fXGPTf7UfsijrHhbTq9bLURlQgGAqCFehC8lwUheF0ne5T0szq9lRgyVvXqI7X6gjlFVoVEpItHBq2gKIEzic/tFp5N+br7UzEUjg6Lf0dXEyd5xRHx5jsRjEcO4Feqx/ZCvVngs9uPIETaUZGKBvOy/9kvbB7rFjzfvXwOF16NJoMhcBalqB3W6HIiroONaBYFsQJ//7ZM42AMChnx5Cxc4KXPx/F7UFrpSQctYpUbny4hVEpAh8dt+on+s4Rh/U1TfnkUAE8b447PbcEWeJoQSe+r2nULy8WDe26tgUF9OHy+Y3mnHq+6e0xbsiKWO2G6AFtmP9MVTeWTnq5379p7+GLMqId43PGSyLMuQkDfUPD47ucFHHOhlOanaX/h0aoV6/odaQ7qE2c1wAoPs8DeVOBBI5HTPp50tfDIfaQwi0BlCy3PiNaW9j78juWxlFeJ1+J8RotkNSkRSazhClqTldp7oM31RHOiOao0JO0W1XtZQZF30RI6dk5C/IR6g9RN/Gpl23RKELqrYjbfCu8oITOG1c1PFLRVPaAl2NOFAXi2/+xpvx2Jcfg9QnwR6yZ0VCqOOUX5OPstVlGLw5iO4z3SCEYLBzkKazDDtppIQEm8umhdn76/zYs3cPTv/oNJrrmyE4hZH7oixDjssItgVRe3ct7vl7WhNATXtTU0XUtAKAfrfOMifiiTiW7FqCzZ/cjMbXGkEUos2B6cT6YnAVuFB1VxXOPHsGEV8Ey5Ytg7fKq31H6SRDSfgXUjtzF7npDjKnLuPqC3QecuY7dU6dVCQFm9sGm8uGG8/fwNoPrkUySNNvUgn6zJb+nKemiS9/x3LtdwvvW6ibY9Of89JTgfqv9GPN+9ZgwfYFuPJrfRoiACicglgkht3/QHesjPZGcfJ7J5FXlodoTzQ7pYTn0FzfjPx1+Xjpqy/hrf/wVlx47ALy6/KRfCmZ9VmO4+Cv8yM2EIPNaUPkhQg4jkPxsmJ0n+vOOr6clDFwdQBVd1Uh3BXWIiBlRdaPy7DM5XdptU3SX1oULCqgtaREEbCNpGckQ0lceOQCCuoKQEA0u7W5bbrrQ5IlEO9I2mX3EJ0n7B47ChcXItYXo882dkGzdVmUEegK4PILl+HxeLQIwvQ+cgItiJtfk5+1g5k6Py19y1Ja0DsuIX9BvuaUluKSdq0AI3OKKIrgHBxIitBirzZ+1B0EqzZXoXFfI4R8AYJLQKp35HknGUyC4zmdA1W9t6gpTu5lbgwMDOjmURV1W+h0x4uKKIoIdgV18zYv8ODtvFYXpe6eulFrznE8R2uxDDtqvJXenHWx1PlQ/eySNy8Z/dgch21/tQ1vfPUNAPQ51l/rp7WJRklhzCvPg7/Wj2CYOuuNxgWgDp01H1ij7RDH8RxchS6Ee+n3m3k/c3gdEOwCfJU+w3Zn3s/KVhtHQ2Yy3eueyWqNYA6XGeaNN+hFMtEvdLp0ke5Izpxstbo1QOtd9F3u07zcF35xAWJC1ApcqTccp9+peb/VYlfqIqpqcxVu9FADz9QFmgMoXVWaNSEPXB9AycoSXHnyCtqO0FzFQCAAALjxwg3k1+Rj7QfWjquvs/27mI26ptebtIdKdQvEdKQeCa0HW0EUonOOjXU+ohCswIpxRcaE2kPIK8/DxScuwpfyjbt/6kOuai9ut5sWKE3LF3fmO+EucuPKb65g3e+u04WC5xoXOSVn7big7pQgp2StEKJ6o4oPxPHE+5/Aw798GN2nu7PSeBbdv0h7U/D6t2jUR3F45OYoJ+UsZ4tKuDOM/Xv3I/VB+vcSoQTnfkYjC9TonjXvX6NzvDz1+09p0Q+BQADygKyla6ik72KgPjgSheDs/55FsDWIU6dOwb3FjWX/oB+btiNt6Dw+EtFDFH3YPdLWBImhBJ79+LN49/+9GwCNAEl3wLUdaYOn1IPKDZV44403kGpOYUlEHxqbWVRQO69MHcIvfP0FONc40ftkr2GEw61XbmHpg0sB0J2sfvXeX9FxGQpAHsweF5VUJIWuU10INAc0ZwsANDc3Axh52BBjIm68cANOv1PnTMjcYSHTZgDgqY88hVXvXjXqw9jxJ47Ded0JbwtddBFCxuW0GGgewNCjQ9j+oe2GRTJVpISkW1gOtQ1ltdOI9qPt8JZ7dW8tM8cGGC6Y2xqEv9Y/rnYD9O26nJQR64/pcs4zuf7qdShRBQuWLciK+Mgry4PNbdOuA7W4JkDvTYGOAKJ9Ua1eWSbq1puRrggUmT6Uq99hYW0hbE5bzlQdMSpq0RA2py1rXAghiHaPRMzorh/QVNtASwDtF+n1bbfbdRECiqhgqHHI0OFCCEEgEABJEnjgQWwgpr0VdvgccBe64S5061KY1O9ekiRAonND4SL6tnfrX2yFlJBw6gen6G4z0RSNthhOmbC5bEiICfB+amOVmyphc9q0FIXMvqlj6i33ovFyIwSfoI3LUCPdnSQ9XF+RFJ3zqmpzFfIeyEP42TC4aPZ1kwwnkQwntb6t/K2V6D7TDTEqIhAIQOqV4ID+LbmaivGWb70F7kI3Vr9vNXrO9YAXeO0Fkvo8kwqn4C504/C/Hsbdf3s31n5oLQ7/62Fa76g9pEuxAIC4HEc8EMeuv9kFAFh8/2K4/C6c+9k5et2lzW2paAo2lw28wOPKySto9bei9g9qtYVvZkSRM9+JZDCJpQ8uxc7P74TNaUPD6QbEbLTAb+a9msg0qmr526gD5cR3T8BX5UPPhZ6sF2tOvxOJYAIbPrZBswVCCK7+5ipKVpSg/1o/nPlOhProd2Wz29Bc34wV71ihzTfhrjBuPHdDiyhS4W08klISqa4UGl9rxJ01d+LEf58AQLdYvvXSLe17SUVSWiRHpDOCfls/+GYe7i+5oUgKrj6RHQln99ix+E2L0XOuJ+t5pmRVCWKDMYTaQrDn2XVz41DTEAhG5on4YByiQp2T2rj4nMivyUcqkkLTa020ptFwjQ0AqNxQSbdLTtB0Gxf0xZIza5MJDkFzuPB2HslkEn2xPtQhO2rBX+uHLMrawtld7NbaGhmIIBqNwlZh0xUQtrlskBKS9tLDKPVZm582FaN8bTk6jndo6WTqHBfrj2kpfSpqH+2ww1fpy6rVkkleWR68FV70DvYCCaAwv1DnEDSs68XRMfKUedDWQcfZyLHA8RzyF+Trrid3sRvxgbjhvRegdiJGRV0dldFY/9H1dIe6hKRF+RtF6qnnK64qxoJtC8b1zOyv8SOxKIHEmQQ8Hlrg2uF1QHAIhhGhnlIPHHkOlK8tx6mTNEI2l8NlxTtXwJ5nhxgTtVpFTp8Tfa00yilzXNxFblRurMTWP98KOSXj1A/0Ebjp97MNH9swZt9UpnvdM1mtEczhMsO84x3vmNW6zLDVdFwFLp13PdwVRrQ3irbDbVqhL6fbqXuzwnHU0ys4BLQebEXd7jptgak+vPJ2HnbFrv3b5rLRbQETIhwe/cNOc30zrvzmiq5AaPrEcer7p+Cr8mHh7oVj9nW2fxezTUcI0RbAYlw0DJVWaTvchtP/cxqbPr5pXOdrfK4RYq4qzQZ0nerCso3LcNc77tK1LxWh4dneSq/2sKAWsVPf8Kj2Eu2JZi28kqEkBIcAh9eB7jPdWs0gMSbi/i33I9QaQrAtCH/NyEP9wa8c1KIbAPoGKT0Fwe3OfrDoPN2Ja89cQ8/Z7DFseq0JznwnUuEUli9fTt+2nh5JJVK37cxFMpTErpW74K30as6WdC7+30WUryvHyt9eiUu/uqRLNfEoHkju3OkHiqTgsXc+hg888wHs/8f92u+XL18OBOiWsoWLC8FxHPqv9SPUHtI5cDPfMGfSfrQd1567hq6TXYZ/v/b0NTi8Djz0podw9r/O6sY90h0xdLaoEEIQ/1Uci7yLIOYb21p7QzvaG9qx7G3LcOHRke1uPRh9XAD6wP3Gl97QFhzA8LhkEO4KY/CWPjUs0w6NbCY+EEewNYiCuoKcbVi2bBlu/d8tYDiyd7TxSMcu22FL2dB6qJW+vcvx0Nd9pltLTCaEGLYzE0VWQGSCYFtQ53DJHBs1yoIoRAunV8mvyTfcElWNDlAkBT0XelCzvcZwJy2iEBQXFyMcow6d9NQw3s5rqQOuApdWWFMbG7sdPOHRd6kPeXvoPWvXF3bh0NdGCtgSQhAfiGsORVeBC243TQdR3+Sru2ykt1vVEkLQ3tCOhXsWZo1LpCuiOZ8UWdHeyAM0daZwcSEKFhYgEUsg2hU1TI8Ld4YhxkXkL8jHovsW4fKvLoMQgu6z3XRc2sKQJVpImRACR54DnmIPyteXU+dRMIFkKEkL3sb0kTtqcWM5JWuLqIoNFVqNhFQkpdmhlJDg9rrhK/fB4XNoY7P7H3Zj8OagVjMlE4fPgVUrVmHTpzehrKQMB//5IBKBBOIDcd21k4qktJdChUvodci7eHgf8iL5n8msKA6A3ge6z3RDSkmwOWxY/vbleO3vXoPf40dQCeoS8VX7rb27VnPGl6woQbSfOsS0ApLDY+PwOdB3qQ+eEo9Wr8dd5Ea0NwpFVrLaUlRSBI7ndI69RDABX7WPRgApRCuwC9AdHH3VPiyqXgShWUDDvzeA4zjk1+Sj+2y39jnBIYDjOSSDSaz78DotEmh5Yjm6VnSh9zi9r6ePj81to7VphuszdJ/pBm/nEWwOZi26OI6j27AHk+g604WCugIc+89jAIDyO8vRf62f7mjicFD7Gt75p7m+GYvfRHd4e+IDTwBAVmq43WMHr/AoWlGEcEdYV9vDV+FD9dZqdBzr0MZedYjJogxXtwtVO6tw65VbWoRB5sKXEzj4qo0d6TanDTYHtdHMlBsxRh2lLr+LpkGFU3B73EhJKe24HM9pO9gZ1Y6ze+xwF7khSRLseXZ4S7yjpi+qC+tUJAW7x46S5SUoXVOa8/NFS4rQerAVeeV5EOyC5nBR5+10ZwtAU6fU60lwCto1lE76/FSyskSX5lywsICmIYsK3cUqNuL4Vc/Jg0a2lK8rz9lugF5Lix9YDHkf/a7sNvuo6xOAjifHcajZXkN3pxqF9/7qvXj8PY9rc5Mjj9pkrnsax3Go3laNoiVFhn/PZPtfb4cUl7R0Vl+Vz9Dp7na74fA5sOi+RVjxzhWo3FiJY/9xLPeBOVrb6uF/ehgvffQl3Z8Eh2Do2HHkOVCyogTb/2o75O/KiPUaR8LkL8hH5UYaKXr3396Nxx9+nJ6S51C2vAzx/rhuMxVXkUt7RlZfdtTuqtXZumovC/cs1D03j8V0r3smqzWC1XCZYSorK1FZOXro80zqLj52MWctlMw3n3JSxs0Xb2qTIMdxcPqc2g3K7rGjYGGBVm27ub6ZblWY9kBVsb6CvqXhefA8r72xEeMirvz6ii6nPD4Yx7mfn8vaKs3pdI4U9wVw+kenx5yYgdn/XUxW5+N8aP1Vq1ZHon5vPdoa2sbU5TqfmhZCCNFSC0bjyq9HopDGOp/YIY5aw8CIwdODKC+jN+32o+3Y/+X9aPi3Bpz+0Wmc+fFITZ/D/3JY5/V3Op0QIOSsaxDrjyHQEsDrf/86CCFo3NeIw/96GG1PtSF4Oogz/3MGZ//3LABk9Y8oJOsNg81m022FCNCFR8O/N+Ts29Unr+LqU1fh8/ng5PT56XJShqvQlXOL6fhgHPt+bx+aHmvKefye8z049NVDOPW9kbcRiqQAErLamknvhV4c/tfDut/5fD74fD6c//l57P/yfkR7o7j42EXdLiPpxTBHY9/n9o1qCxceuYBzXz8Hj9OjvclXC8ONhpySwREOUv/YO2mlb+utyAogjj0uwdYgmuubISVHjq+OSzpdJ7u0N0dquzLJtBk5RWubNL2e+zsFAD7Og1M4zfYzxzHnFrUyoCTpXDvazi1SUkL/lX5tvI1sO5NUhEY5dJ7s1LUnc2ySoaT21jL9GvLX+sELPJa9bRlWv281ODun06gkAomcNZoCLQHwCg9BEBAfjOvucXlleShaWoSanTVwFbi0NBoVnucBhV6ziqxg+duXw+ayaVuZqsV3U5GUzmlks9ngKxvpX/GyYhQuLtTqq+jGNU7r+xBC4PP5cMcDd2h/S9/BSIpLugW3+rDrrfTivY++F/5qv2EtoFQohfaj7djyZ1tQtroMq9+3GolAgkadcPQ7VK8fh9cBT6kHVXdVwV3oxpY/34J3/eRdWPrQUt0x1Xu2FJe0701dfK38rZUYuDagOVvTr01BEOB0OrUF152/fycEh4AHvv6A4Y4gAP1uvV4vKisrIdgF1O2hb/SNIiLVZ4b0lFDBK9A6DQZ+RI7nEOmJ4NBXDiERTOD6c9dRs70GYkCk3336OEZSyK/J11KEALqwX7hnobabUPrzDMdzSEVTaNnfglc/+yotRM3ThXhmlCIv8Ej0JLD+fetHzhdNofVgK8rWlNHFdlpNCpvbBkWi2yeHroaQaKG1J4Ktwaw6aGqaRc2uGm3nMDEugotwKF9arjmp0h2t6u+a3mjS6twkg0lwNk7rHzDi4PCWe6GICq49fU1ztqjjoeLMd9It0IcdhqH2kLY9tDqW6ekdapv81X4s2kVtPbNwbOkdpVpUi8Pr0EUfyFEZba+06dI5MtujboGdi5pdNTRCwOfQ1RIBaJRFoDmgPRvZbCMOGofXAXfx2A7p8vXl2lyR6dQxghM4OHy0n4t2LMoZdaniq/TB7qbROapDNNe8zXGcZit5ZXnwVWYfO33etrlsWPZWfTSAWg8l1BbSRW6q56y6S7+LTc5+8hx4gUdBRQGcTif998IC5Nfk59QIdgHFK4rhLnQb3ntVCpcUwpnvxLt+8i7d+XzVPhTUFBiOTfXWalRvrjYsgJ3JovsWgeM4rP3gWl1/1UK0uuNuqsba966Fu9CN6i2jH7/unjps/YutdA5cXoedf5ldQsFb4dWuIbvHjtpdtajbXYcNH9sAZ74T933uPsNx4e087vz9O7WfPcUe3PHwyH3I6XTCX0Vrx6i7p614+wqtXSqL37QYOz+3E0seXAJftQ/li8ux5aNbRq0dY8R0r5cmqzWCOVxmmHA4rO2yMFt1RukKLr8LDq8j55sAFUKINmGrN6fCpSNe8szCleXry+muCxmFMTmOgyzKugKjXWe6EO4IZxX2kyRJC+EF6ER/8J8PjtVNS3wXZnWEEBz+j8MIdAUA0AdWNd3hypNXDB/Kxzrfmf85AwCGURlGSEkJN1+6qfudGBMRaA7otk4MDgWRTCYNa6CoW+WG2kMItAR0xWwlScK+vfswcGMg6zzhjjAa9zUiNhhD+9F23SJSkiSEOugDUn5Nvq7gmwahC6lT3z+leeuTySSSSbpQCjQHcPOlm7j1yi3dAjsZSmaFiSuKAkXR26wYE9F/pX/U76HzZCeSySTajo04dZLhJHgbD5ffNWpIrhgX0Xlm9OK8UkLSFR5WJMWwrZkosoLLv76su17TxwaA9vY/fWGpLo7sebnTT9QiwH2XRt+Gt/tCN1oaRhYV6efxVnh1RfBUpATd/rTx1cbRC5QOF25Wv5tYfyxrXDIfnNQFfDKY1N7sA9njIou0XtBQ45Cm0TkD851wFbh05yOEaE7qVDg1atHl7gvdUBRFS5FIT9HgeI7ufpFmN2raByE0qiQRTORM5Rm4MaAtjNSCo+ntrNpclVVIMH272VQ4RSNkDMZGSkjoPtOtXd+JoYS2SFcXgY48mivuWEkXeJn3gWBLMKfTLdAcoOlmww4A1e7V3WbyF+RDsAv4yGsfwcOPPKxbmKv3pmB7EOGusPYGsGBhAdxFbvRd7hupU6CmISUluEpcUIZz5qq3VuM9j78HD37rQcMXGnKKRsUFWgLIX56PwnWFAAddIXo5RaN+xJgIohC6/ejwg/Wa96+Bo8KB5Q8vN57PQBdeqlOIyESLUAy2B3W2LUbp8VWHrvpGV01nU50i6ffsYGsQUlLC+V+chyIpOP+L8yhdXWr4tt5V5ELB8gIIdgFr3r9Gi9g686MzKFxUmOVIdvqdCLWF0H25G9ffuE6vz/oWzQmZjt1jp+kfXjtKV4+8+ZeHZK3uQvqCWy2AGe2hu5Y0/Bt1gsuiDDGufwnA8RwUSUEynNTVyOk63QVe4LVisYJT0MaG4zjNNrrPdtMaRcEknH5nlh0ILqqzF4/0/8jXj9AxS4sMU+dPdXEe7YtCFEWE+8LoPNmpbWWdjupQKFpMv8v6vfVo+PcGJJNJSETSXbdqGrjmFGkLIdgaRKQ7gmhvlNazcPDa2HAC3cY21y5bHMfBWzG8tTWX7QRuPdSKtiNtkJISwh1h7fkxnZI1JUilct8rveX0+JlbaBvdz3TRexzGjLTgOA7VW6rhKnDBU5w7ZVE9n+Ae2Wp4PDv6+Wv8cJe6oRDazvRitLnaI9gFuIvcSKVSuvuLESt+e4X2b4fPQQvzjnKf99f6Ubi4EIvvX2yYXpo+b6tpcun1FjnOOGJIURQ4ChwoW1OGe/7hnqy/Z7LtL7dh95d2w7fIp3u+5wVedz2o+Kp8WHTfIjz8yMNY9rZlWffedNZ9aJ2meeg7D+naDgHwLvDq7NBd7EbhokLdnDIaNTtqANB7hCPPoR2L42gqk0r1lmoU3lGIVCqF3V/craVyLbo/e6efrX+xFYvuW6Q5ZMLhMGreUoOiZfqIG47n4KvyoWBhAfy1dCcljuO07ZojkQhW/Z6+cC1v57H1L7ZmpZBt/fMRp7Uk0W293UVu5Ffnw1fl066lhfcu1OnsHjtqttdg08c34Y6P3AHPotGdmkZM9zprslojmMNlhnnsscfw2GOPzW6dwXWRV55Hw9XG8MBHo1FEYzS81pnvRPGKYt0+8Fmn4jmUrimFCBGpVEp3M+QFHkM3hxAbiGlbvwHIqr7f29uL3l79W4/2Y+2Gb47TscR3YVLXe7EXFy9exMWLFxEfiqP7LN2as/NkJ248fwNHvnEkZ4Eto/OpCxUxJk5oB5/uc92acyMRSODIN47g7P+exeF/OawVx/zJp36Cc4fPGX5fTr8TnEAfdEFG3igRhaC3txcnfn4C539xPksH0OiTx97+WJZTo6elB9FoFJ5SD8rXlWPFO1cY6qWEhINfOTiyy83weKq0HmpF65FWnaNITZnxVdMbXuWmSsSFOKLRjF1LCK2tkCsCSF1knfrVKc221bQF9YGbt/GGb0zEmIhoIIpb9bdG3bkr3BXW7aaSCCbo9RuNwlfl0z0Y6I4fFTF4Y1C3M0n62BBC0HW6S6troaJ+D3mleYYOEYA6CKS4hKGmoVHtrKe7Bx3nOzS7VN+w55XloaCuAIsfWGxYzyOVSiEaiBo691S6z3QjEUiM1KqIS9q4AMCyty/Dwt0LkVc2EvafvogItga1nzNtpu1Im+ZsDLYFs5wbrgIXKjZUIBobOV/6fEcUgp4LPTnntt6OXk0nxkXdgrR8XTlsTpvu4UhO0TSSVCqFVCqFQFNASxFJR02TU51D4U7qvIhGo4glYyhYWIDiFcWou6cOix9YrOnS01uIQlNYVGfHlZ4r2th0n+0e2VVk2JEiJSTtQTV99wP/+/zgC3nDFwOxAfq2fNcXdo20QVagiApta1B/D7G5bKjZTh+Od31hF3iBR+O+Rl0kkDo2YkSEp9ij224zM1JF7a8iKRgMDaK3txdFy4pw3z/fB97Go3wN3crXyOmoSAoCjQGcCJ/AE889gcVvWoz+q/2a0yI9MlSMi9oDNEB39XjsscdwSbxEH2wN7uHhzjBO//A02g634fKvL2tzRzQaRTSin5+SoSTd6SNtIV61qQqeEg94gYfgFLRxAejb/I5jHSAKwc2XbmLw5qDm2Eu3JcEpoL+1H9cvUcdJZhHvBdsWZEc4DD+o33jtBp75l2fwyqdfgSIphqmVqrZ6c/VIEc9uCbFDMdhcNlqrJ333ljTnTrQ3ipYDLeg82YnG1xqREBO6Rb7D54DdY0fpHaW4+H/UbrvOdOHWyzTiVp0vOY6j9mKQIjt4axA9F3oQ6Ypkpe3xNh4xRwyvffc11O+t1xVXtbvt2k45gl0AuBHHgRgV0dPWo90nQm0h3eJGu18I+iKliqho81PZ2jJtTuY4LsvpRRR9BGFSTmpjo6a5jFZ7Qn27HY1GEScZ9aqGU/jUKJT08zt8NNqqsbdRN49moi74M9udPm+n4/A6aMoPx41ZSwSgDk1eoBHYo710jEajiMVi8FX54Cn16ArA52L7p7cjuiiqfX+5IldV3EVuGoG2pSrr/mJE6apSba7gOOocyzUuat2UD77wwZzP7ZnnLFxUmBXJI9gF7WWWVjw3FUO0nDrscu1OBFAnxY7P7ICrwAWO49C+sh1D9iHdZ1wFLngrvXQb5UIX/LV+uIvc8Nf6wQkcqu+qRsuilqyxKV9Xjj179+hstXyN3uGmrie85V746/zwVfmw9MGlsLlsWPXwKkNnSDq7v7h7ZPcpnsPq961G9ZZq+Kp9sLlsqN5ajTt/707c+Xt3onRVKS5duoSbzpu6NtXuqsXaD63V+nbXn96VZaePPfYYfvnLX+KdP3ynoSNIcAooX1+Oig0VuOfv79HmhMceewxPvfIU9uzdg81/vBkr3rkCW/5sS05bVb/bzHWWWvw2s1ZPJlZYL02F1ghWw2WG2bx586zXOfIciAb0k/GC7QvA8zxaD7VqOwoYah10kuaV4ZuTQUhiJuVry9F+qh2yIGdduNG+KDqOdcDusWv1Y5LhpO5NQ66wwY4THajdmXubMit8F2Z0UlLClSeuoKqK3mQzC7oO3hxE/oJ8HP/O8axdWXKdT40YUgvPpuMqcNGHQYMX78lgEse/cxw7P7tTF2YMAA3/1oC7/uwulDpKMRgdBNK+RrUmgM1tQ351PgauDWQtaj15HiTDSfRd7jOsfK7mVUspSbNDWZRhk2yw+W20TsFwOHFeWZ5uq1tZlLW31Y2vNmLJg0u08VRpPdyKVDilPZiozg1XgUtzTJasKIFcLKP7jW4t9zX9zXyuLY0Hbw7SAqVRAe4KesNTUwnUG3PNzhoIdgHhrrD20E8UOm6CIAAikAgl4C4wfqBM391HkRVIcUm7fhfdvwggwM2Xb+p2LiGEaP3sPt2tvcFLH5tYH93WvXl/s7bla7CNRlyoDw2LH1gMMSri+C+Pg8To8dKjnmJ9MXSf6TZ8Q6hICmxRG+CgdU3UBwI1zarkDrqIq9lRg2vPjOT7g4wUeey70ofy9eVZ20YqkqKlQYlREaSYtk0dl7UfXgvBRo9Rvr4cja/S/Gzd4p/Qgo2+al+WzYBAc3IpkgKJDC9iOPq2q/SOUiiSgpLVJQhdp3NslnOF0DQTNc1ARRZlCAlBW3QOXBuAM99JCwTW5KPizgoAtABe+bpy9Jzv0ebU9N1GhpqG0HmyE9V3VWu/UwtAq+2Rk/Q/h9sBT6UHhYsLNZvPr86nuyEMb3ubTjKUROOrjVj5rpW458/uwbXvX6MRPHFRqyWUPpbuQjcWbFugPcCuevcqXD9yHXweD+inNQDUbuSUDJvLhp2f34nD/3KYFvEmBA6HA2JypD1qpAZv47HinStgc9loWlMggdI7StFzoQdiVNTGxuF1oOVAC4hMcN//u4/W05AUeEo8CDQHdN8TkQl8Xh8KVhdgyZuXaDbT1tCGvLI8xPpiEDlRFw0np2TIooz1K9bDke9A8FpQsxWjuhbqd6++Ld68eTNu/fwW4kvjGLg+oHMG2T12xAZiCLYGEWgO0LeUC/LRfaYbDocDUkzSOWlsLhuIQrDuw+u03ymSgmVvW4bmN5oRbA1CiKbtRChwiPZRh0WwLYj8BfloPdgKe549K53DKTrhTrh16UDtx0YcoJWbK9He0A4xKureMjscDjh6HOhKdIG38Vm2pX6fqmPi7E/OYulbliJ+YuQ8av0Um8umq4Wjkl5jweF0QEzpd0FxF7lhc9q0cUyvJ8JxHJa/czmuP3OdboHLGR9XO77XoX1HTj+NbLPZbNpOQjeev6H7vL/Wr21R76v2QYyMtM0u0oVn+r2Ft/G0gKt9ZL7KRJ2fHHkO6lzjqK0JDmHUbeQdDgcIT2B3jO4c0Nrnpo4qtA3XUBnUz2mZz5O8nTr1eIFH1eYqhJXR3zp7K73Y8Icb0LSvCZ4Sz8hWwQ5jpwFv41G4qBBiXBz1haBK3d11qN5SrRWI9ZR6snb0Us8nOAUs2LZAV19sNFx+F3Z/fjeO/hndzUndMSncGdalDwJ08ev0ObHyt1di+duXI/KvuQuL191Th7rddSAKQdfJLl1tDW+ZF6mAQSR7oQsr37kSdpcdOz6zA5d/fTkrhUu1mbv/9m4A9JrmOC5rJx5e4HXpMYXlhXAUOFC3uw6CXcBdf3KXVvxYJa88T0vVVNm8eTPIRoILn7mg+73NaYOtbGR+ULdiVp3lmzdvBtlAUO2oBsdzKFlZkvOF8UPffggv/vmLAPTrCY7jsOi+ReBtPHZ8dgc4nkPtrlr4Kn3a84paJJ9zc/C+yZvleCy9oxR7vrSH1rwzqMVat6IOi9+5WPc7dYes4k/l3h46/Tn9rd95K07/6DQ6jndodcMEh4C88jys/K2VOXXecq8WHZaLbZ/ahhP/fQIlthLYfXaUVJTQ5+bhfq7/yPpR9bN9vTRVWiOYw2WG2bhxfFvlzoROTY0wCiMsqCtApCuiLUzVwl2ZqLVU7Hl2bQvXsbA5bajdUouhxqGst5aCQ0CkO6J78EqFU+NyuJz83slRHS6z+buYjE5Nx1BzEZuvNWd9JhFMwOV34fqz17MiPDLPp77ZygzhBzASkssBN87cyP47qMMn09mi8szHnoEYEpHn0e/+QRQCm9OG6ruqIYsypKREtzhMszkSJnDYHeg80QlnvhP5C/TV44eahnRRGABND3E6nSioLUDNzhrt84sfWIybL97UFgHpD/OBlgDiQ3FdbqeaOhTrjyHWH4O/zq9p1XDX0lU05L+qqgr8Gl5Lp0gvPB3rjyHSG4G3bOSmp8h0O9xId4TmLid4kPyR2jCCQ0BeWZ728OCr9GmF0tT+qjnInSc6seSB7Osw1BHSdvdIhpLa23On04lF9y/SQktrdtToFhXpi7jus92ovbsWvMDrxmaocUjL3U5FUuDtvBZR4PA5UHVXlfZW1FZhg9hIQ/fTC7wmQ8mcaT9tR9q0eUZKSAi1h7T6Bulvr10FLviqfAh3hrUFqzouqXAKvRd6sWDbAt2xw136B/v+a/2wu+00f7nWry2cAepYyF+Qr6XvpHPlqStY96F1unFRZEUX8ZEK08KHgkOAv8aPkhXUUcTbeLz3R+/F0W8dxY3nb2Q5XKSEhEBTALs+vwvl68q19K1QW0hXy0odR6ffmRUqXLKqRPcgnZ6zLsXpNr8Vd1agcHEhQm0hxAZiWvRWeqRFXkEevPle3c4wmz6xCavfvxo/u+9nWeMC0MVn5aZKrNi4Akv/YSkOf/1wTscjuJGaC74qH03bOAJwNg5Ov9NwVxvOxqF+bz12fn4n1nxgDZrrmxHvj8Nus4PY0orl2nhtEVq5sRKEEK2uUvWWavRf7YcIURsb3sYj0hVBc30zOk920q3HkzQ9MT3tC6AOCHlQRs2SGm1+DXeG0fhqI6o2VeHmSze1XWNU7B7qnAg+G8SD//YgHvm7R7S/pV93vI3XdhNRa54BwIoFKxDyh4Bd9Fw6jZ06KG69fAueMg/K15Yj0BSg6SMhJ0icjos6p9jddrQcaNEeqtUt1DmOLlwi3ZGRcbHzNAU4KYMoBIGmAJrfaEb+gnyaxjd87XEcdXAULqBpQ7G+GG68cAO1d9fi5osjKaHFS4vReYJ679OjXZxOJ5QhBYGhAD1eZoTI8DhUrK/QfpeZalq8oljbfnqsEHenc2Rc0p1zKmodr3TUenVO19iRDWr7bU66YHUXuuH0O1GxrMLw8xV3VmDwxiDyyvOo0ycyMu84nU6QIEEoOOK4sOfZdfalOqLTSZ+fipYWIdoTzblLZTpOpxPEMfyCodCF4hW5F4YqtbtrIb5ErxHFo+R8aQcMR2IUe+D0O2nUBTf6opDjOGz/q+1o2tdE7ytum+F8qOIp8cDhdeDBbz2Ipn2j18Xa/UW6FfX2T2/HUx99ClJCyhmFkleQB2+5F3lleXjwmw/i6DePGn5ORd2NatOmTbhz/5146vefQrgjTFNPqvNpdPfwMzFv4+H0OeGt9GLbp7YBAD7w/Q8gNhDD8W8f1x13yYNLtMg9CHRRfO5n57SiyIXlhVCKFS1NMT4Yh7vIjZrtNbo6HqvevQqeUg+a32jWfldZWYl7/v4e3bWw9S+24uh/HIWnxENfghTRHSAjPRGUrCyhDshh1JcoeWV52P2l3eg534NAcwBla8oMC9Kqz6OrfrMKv/ydXxqOY/k6Wtx7xTtXaPPARJ6by9eWY+PHN+LqU1e13X7UnYx4G49df7NLK/DNcRyKlhbptABw/QfXDY8N0Gt90yc34fwvzmc5in/7K7+dFdU3HtL7x3EcNn18Eyo3VuL6syPtyHS2ZOrGQ82OGiRDSV0qc/6CfNTsqEHJypIxd1Wa7eulqdIawVKKGDlRFzxGDheX34Udn92hhel7Sjw5Uw44jsOa96/B2g+Ob3tmgHrjjUI7bW4bxJiYtdvGeAqshtpCEy7EOhdQ3+orsoLm+mbDz3Sf6abbvp023g0mnb4r1IGjbi+okr8gHwt3LwTHc9rf5AEZgeaA5pxRd8LItTtNMpjMKq5GCNFumhzPaY6XzPSZVDSlLSq6TnfpFr5iXMTAtZFcdjlFnTZyUtaq76e/7RDsgvaGJHOXD0VSsiJ7uk536d46SwkJqUhKc7ZUb63WpZyo+f1Gx2/a16Q71uDNQZ1zS4pLOmeLzWXLenjWwlwzzL3vUh+CbcGs66Dv8kiNlPhgXHtbk1eep6sk7ypwaeOeXo9DJb1eidbe4bEAhh1Kw2+9/HV+2Jw23cOqvcIOvsj4ttR7oReJkN5uEoGEbmeF9GKlvI3XpVlwPIeKDRV0RwyDYr2DNwezxiU96ifdCWTPs2u1OwBg6UNLseTNS+Cr8mU59QAajdRysEWXCjN0ayhrkSHGROSV58Fd7NY9uBQtLcLb/utthkUXVcda5+lO2Fw21O2uQ8fxDn2B4vQ0DoeQVaegZlsNPnb0Yznf7koJCaG2EDb8/gbU7KxBMpg03D3GVeDSjcvuL+6mjpGVI4Usjbj0y0tQZAX5C/IhxkTNCZl+bQhOQavltej+RdjwsQ3geA5EJBCKBW0HvHSc+U5c+r9LkCUZ535+Dse/c1zb9SjzQTcxlICrwIUtf74FAHQ7emU+RKY78mL9Mbz86Zdx5OtH0N7Qrtv9Q8WR54Az34m1H14Lm9OGUHtI2y4zrzwvyzmcXiy2+Y1mnPrBKe2azEy/s+fZ4SnxoP1ou6ZLhpO6t8ULti3QUknseSPRMGJcRKw/hsZ9jYj0RKBIiu56tHlG+lm9pRqNrzUiGU7i6LdGFo7eSi88pR7t+OlRYmrkB0CjFtLT4XjH8A4+w29gi5YVoeN4h1Y3JX2s1dSHsZwiatvVZ5a88rysNKV03IVubRe1sWplqG0BRpw5Rk6LTJz5TlpHaox6d+pn018mVdxZkbPPjjwHFr9pMexu+7i2juU4DkXL6cKwfH35uAqylq4duU+pkUK58Nf4tfos6fe6XOz63C68/XtvB0C/L62uSw5qd9Xi7d99+7hqP2z7q21w5Dmw7iM0IosXeMO0OhV7nh2L7l2E2p21o0a41Oys0cbaW+7Fgm0LULq6lNZRyVgkC04B3nIvjVRy2eDyu0YtEFu3u05bxAN0nn7nj96p+4yn2EMd/U5as8XmsmXtwOkp9uhSKL0VXl10IgAULi7Etr/ahpI7SrQ5k7fR3dmc+U4ULCzQIiAzbWvh7oXY8AcbUHFnBZa+ZSl2f2l31hrBXeTWnGTFy4vhKfGgYGEBFmxdoHO2qI4RFY7jULG+Ait/a+WYu/+4i9zY+bmdqNxUCV+VD75qH4pXFKNqcxXcRW5s/+vtunvRRFn18CqUrS5D1eYqlK8rR9maMi11Kf17Mouv0ocdn9mBnZ/fiVXvXoVNn9yEPXv3mHK25KJqUxXu/ru7cefv34ntf71d9yLELLyNx/K3L8eevXu0/zb+4UaUriod1zw0n2EOlxnm0UcfxaOPPjordenFPzOxuWkKxkPfecjwbY9KnI+DLCfY/EebUba6bNxRLjfsN+jbuQw4jjPc5jJ9gd7T04OeHuNCrkYpMCqz+bswq7v0q0vav0/8+kTOcQHo2IgxMWt8M8/X9FqToeNK3TIwGUpqD41CMb15pEdPADT9Jh1CCELtIaTCKYQCIQz1jhQRTY8AUbF76II3vVhaMk7zyBVZobVd0mqGDN4c1NWoCXeGtZ+jJIqWIf0uDgCNWFC3lk5HTsmIdEVw7uw5XLgwEtaa/vZQde44/U7Y8+zatpsAcOHCBVxpvAJ3odswSijaG0XHyQ6t0GKofST6JBKJIBKJINYXo5XhK7woWFiQ9RDqLffqapak11foPtuNlgMt2rmToaSumCVRiLYwingjuj7u2bsH7/rfd8FT6jGMJgi20AXWhQsXcOHCBW2nFe3Yw+PpzKdFGEvuKNHafsfv3AGhUIDgFrLqMqntuvHsDZ3Tout0F5LBpDYuckoGkamDrnprtW5O8lbQMUn/LtLHJRFMoGlfE3b9zS6s/dBadJ/t1o1LerRdRIrgeit9c7T8HcuxYOsC1OyowfrfXZ8z9zkZTGLfK/twU7oJT4kna/cqFTklo3j5yBvinZ/bicceewyPPvoobb9BvQ85JWtFrIlMEB+MIxFIaOOSXm/BX+fXnNnFK4qx+0u7sfJdK3H1qav0rWm+UzcuAI3Q6LvchwP/fABth9tyFjruvtGN6y10XDKdRtVbqw01Dp8DrYda8e13fRs//uqPMXhjEP5aP91GNO3aszlt4G08Bq4NoO7uOm3RGz8WB+80XrCp57/65FUc//Zx9F7opYVOQ0kkEyN1J5z5Tvjr/Ij2RmldlqF4Vs2h4hXFsHvsSKVSSEh6x1+0J4pID3UkpqIp3RyqpnEFk0E8+rd0Hr34y5FaAhzHoWYnffvs8DrA23hdBFJfax9e/NsXEWoPIRlOZtmNWjQToE6NW6/ewtFvHtWuQYA6RdTPZG1nG6W1fVRn6FDvEFKplLbDS145XTzbPXa0HmzNcohwHAdfpQ/xZByibLy9ejpakVcHTcXo6enBkHcoK+oqneXvWJ7laFJtOx21ML96/ym9Y+xFQPm6cvjr/GPWyohEIkhICW1BzvHcuBwLO7+wEwPBAfQPGuS8ZaDasKfEg8qNlbh48aJu/s1kx2dGXnqp35Pa1syxya/Jh8PjQMnKEm0xnUm6zQA0feDBf38QAHVO5XKaxpIx9A300Z1btlSP+l0CNJKD4zm8fOplhIupPdtctpyLzdJVpViwfQEq7qzA9k9vz2pnOhs+tkFb1BcvG5lHveVew3Fx+BzwlntpigjH5azJ4Vju0LasVrnn7+/RvXS0uW2wuW3wVnpRd3cdgp4gevlerPnAGgDAsocMckhAnxPS65ioz1x2tx2//Yvf1jmLOJ5D3T11WHjfQlRvqdalcKg6m8uGPXv3YPcXd2PTJzflfGlqd9PnqHBxGOHiMOp216HqripU3VVFi+UabAMN0HS2le9aiQXbFmj3pky2/NkWQ61Ko6MRZxJnRv2MEenPo4vftBhLH1yKxQ8sRvGyYvgqfXB4HajZUZPlfJ/o87bNZcMdD9+RZWt3/PYdo6gmBsdxsLvtKFtTpqW5T/W6QLALKKgryLkj4Wxev8ykbrJaI1hK0QxTUFAwa3XuIjfdUswpgLPTN4kAAG5kpwKe51FxZwXaj7RDkRX46/xarm/xsmKIi0T41vqQV0ofBhZsXwAxJur2Zc+kZkcNYlIMtj4bop3RrGKugkOA8v/Ze/M4uaoy//9zqrq6u3rf16S7E7InZIewZANEBEFE3DdwVEbHcRkddRR1cBxnc2a+zozjzKADCD9RibIMCgIKgWCEhISQhOz71p100umk9/X8/rhVt6u6bi/31K1769z6vF+vfqWr6r7vOc+tp2/qnrrnOUPDcf+p93f2I68iDzWLaxDMCaL91XbLfe/46Q5MWTHF8rV0fi9UvI5THeZ0orN7z064XCsAnN5xGi3bWuLuDIhtb3hoGP2d/ZYXi0II4+L9VAdql9TiRNsJDJ0bGpneErPMa3drN469fMy8eO4604Wze8+i+1y3ubxkb3uv8U1J5APz6P/8o8XW9v7fXgwPDpsX7v0dxp0lnac70XawDSVNJZarYwx0DRgXnmEgHI6/c6BsZpkxVa3CemBBDkv0bOpB8ZJiHP+DUfi090KvsTxuZIBIDhu3qY/+lqXhXQ0I5gcReD6A7Q9aF/g9sfEEKmZXoOX1lrj2o0vSAsYHJhEQZl2UKFd84Qrs+tUulM8uN5dljR2QuXj8IirmVhjHqKXTXBYUiC/8WT67HLJCQmTFfwNVOq0UxY0j9QNiGR4cxqHfH0LB1QUQQYGLJy7G3c00PGhMownmBpEVzoqb0111aRXyVuYhd0ku8CAspyh2tXahv7sfyz+9HOvvWW++r6OXax0eGo67CyH2lufYaQWxx2V4YBhSSjz150/h2r+91qwzYx6byABgICuA0iWl5sVH7MVLqCAUV4thpCEj9p6XezD1Y1ORFciKq+MQe9t+7/lec1AoeiFYUlKCnmM9KFhQgMHeQXNFmdg4ulu7ce7gORz6/SEEc4II5YcQ6A4AcuRuxcK6QsjBkcGsS956iXkMOk8ZUzUHewYTBvByCnOM1Zki7180J2OnN4mAQHZRNrIGjeO+4P0LzNdObz+NyjmVaH6tOf7uNjFyt0DXq13oe7MPVQ1VCQVoRVCY54Hus91o3dWKynmVuHD8AobOG31oXNOIg88ejKuDESV6x0lWThZ623uRFc5Cf1/MgFKkfkcgK4D196yHFVOumIJze88Z2wUSL2AGe4xBi/7OfuMCKfrfZcCY7jQ0PITcUC72PLEnYapsKGzU3Og935tw4R9ta3hw2PxiIVqPI5AViLvrKacwB8f/YBTezs0dGYyezN0Mse2JXGH+vcQOUI5F5fxKHHjpAHKacoAJFnUIhoIYwAACwQCy87MRzgnH9dWKaI2Z2LsWrd6D6KpJ0Zwa667bWAJZAaM4byiI7ce2J9y1N7q96N99Yd34xSGjLPzgQvzx0T+ic28ncktyx7y7s2hqkVHnoiyMUL5xp8FEx6V8djmu+7vr8ORdTxpTHSPT6kYfm9hphB/89QdxasupuGlbUWLbC+WFUNJorGxSPLUYF45fQPHUYmOFrlH1XLJLsxHICeC2B29Df0c/Nv1g0+hdxxG9Q6C0tBS51+ciZ1sOzu45i4LagoR95xTnoG55nVnLI6cwBw3vbsCZX58ZvVvMfPvMuDsy6y+rR9mMMrQdaENWbhbCNWFjMD/y/Vz0YnfZJ5eN3B1lMVhUeMtIAeFYAlkBrPzqSgz1DeHEKydQUF2A6oXV5oB2VVMVCuYWmNNDRUBg9TdW4/T20whkBVAxtwKDvYMJy1fHfuYqnlKMDz75QfS296LtUBuOPH8EgDF1a9FHF8WdL0Z/NpxosDE6FTH6vken4hY3FCO/On9SqyqN9Xk0ryIPCz6wIGElUgBY8IEF6D5ovUiDnfaC2cG4L3G7z3VDDknLgVCVz9tVC6pQMqMEvSd6zceTGWRNhnS9nsg0L1nXCpGJUyy8QgixZenSpUu3bNnidVcmzUDPAB6/83Hs+d0eyAGJcG4YhXWFePcv3m3+J3Ju/zls/+l2dJww5olXXVqFBe9fEPftwmjksDSKRkURwOWfudyYbxu5UJJSYtcvd+G5Lz8X5w4PGcVPY5cqBIBrv3utubxb15kurHvvOsu271x/p8qh0I6XvvuSeRF59MXEOzjGonJ+JW76j5sS/rOWUuLFbxvv2eipSXWX1SEUDqHzdKc5Uh/N89J2o+7DQM+AMT89Zr/FjcXme9jb3pvwYTQ6ZxYwbim2+qbm4O8OonVn/LLBofwQgqEgihuLMdQ3lLD6S3RKQen0Usy6eVZcn9bes9b8/SfX/ATNrydOswpkBZBdkG0udRrt9/DgsDlQIAIC06+bHlcx/sovXWneAdHT3oP/nPOflkvXhvJDKJ9ZjvrL6/HmIyN3KUkpzYvd3JJclDSVxH0ouvqrVyMUDmF4aBhPf+5p7Pip9beA066dhqoFVdj/1P64Ac3Y41+ztAZNq0f2veJzK8wPkj9/589xfONxy9VxAqGAeet095luc/+xxya3JBeXfuhS80KwcXUjpl07Dffeey+klKjdXItdv9qVcPGTU5yDguoCzLxpJlrfbI1buSO6/+hF6Lx3zzP3H31PB7oHsOHvN+CNn7xhOa2oYk4FsnKzUFBTgPOHz48UKY057sUNxZj7LuNbriUfXxL3AX/9PetxesdpnHz1ZNyAUTAniFA4hLzKPHPKxUDPgLn/vot9Rp2i3CwUNxRj5k3GN6GX//nlyKvIQ9uBNmz//7abf8st20aWUx59Hgzlh5BfmQ8pJdqPtMcN2FUtrEIgEED5rHKs/KuV5qozF09cxNYfb0VXaxf2/2a/MW0z5r2N3kkWLgsby4gODaPtQFvc1M5ozgLx59j2o+3Ydv82AEDn6U7se3KfeWxG9x0w/uZ7L/QaU9siAyU5xTnm0ufls8pRWFeIK794Jf74r380zzPLli3DxZMXsWvdLvPvfzyiuR7MDhoXl6P+lqzY+Yud6L/Yb95JMRaxU5aif6cFtSMXXlZEj/1k6olE8zG7MNucEhM9LmPRvLXZyAeLvB9N9MI9evt8tCD3eLz5yJvIr8q3LAg7mujdLcFQ0FieeYILw8p5lZhy1RT8/Nafx93NakW0TlPVgqq4Lw6ixOZLlKWfXIoDvz2Ac3vPxZ1vRxMtZjvUN4SmtU1xg7pWRIvQ73liD05tPoXm15tx8fjFhPcguhw5YOTL1KunJkxLG030XA8YeXlm5xkc23AM7UfbE86bxQ3FEAFjOePr/+l6dDR3YMv/jP85NHb/cljiJ9f+xHxNSuMuuv6OfhTUFqCwthA3/edN5v/9g72DZi2p0Vz15asSipOvv2e9+ZkiWog9OghaMbcCc945BzNumBHnRM+JUeovr8clb70k4TPCheMX8Puv/R6BUACdLZ0Y7Bk0vhjpHcTUK6di1d2rzC8EAePO7o3f22jepVazuAYvnXkJAHDXXXdZxhStaRRLdkE2rvrLqyy3Txdad7fizV+M5Pvc2+eaNUhIctx7770Axs4ZojVKc6c4pYiMSygcwoy3zkCgOIBAkbHsbE5xTtwHpPKZ5bjqS1fhur+7Du/+xbux5ptrxh1sAYyL0bX3rMXyTy3H7Ftn44rPX2HckhnzAUYIgfnvmZ/gRr+BiL0gKJpSZF6kAEYBrilXWt/JMt5UKT8RrWgfvcshSvmscssPolFa32y1rOUSvSspuoxrLNn5xoodVqtQRS9Ih/qGEoqfXjh6AT1tPRgaGLL+5i+SZjVLaiwHWwAgIBKfH+gaMO8wsSrAOdA1gJyiHGNeesypc/SFVMPqBpROS7ytdnhwGAW1BRBCxPU7dvAkuyA7bo5/45rGuOkmr37/VSz9hHVRrmAoaF7Uxn6DHZ1qE/32Pnba0JI/WWJ+QO441YH8yvyECwIRMOpcXDh2AUdfOmpMYbC4eAzlh+JqH8x8+0xzsGV4cBilM0rjag3EEggG0HW6CwNdA3HnidgBiJzinLhVG2IvdDt/3WlMxbK4xT/6fu5+bDe6WrvM+GOnn0TnzkcHemKP8clNJxEIBjD71tkJF3mh/BA6WzohpURnS2fcN/uD3cb7mpWbhdySkdU/osW6pZTY/7RRvya/Mj/hm/XoN7qxK1mYFzMxKz1FL/7P7TempEXji96FJIRA1aVVccdm9MV5bO7HTm0J5YfMb77P7TuHNx58w6xRs/XHW832iqYUxb23sdOHetp60NXaZRZyjCV60RIMBc33tuNUhznYAhjn5dxSY/AmWpNlNNGphbEX+NE7FwBjegwAs6BtLAXVBQiXhSd1R0d0f1m5WZO6EwIAGlc2xtVXGYtAVgAiKOKOY+w0MStiL/omInrcAkGjQG3pJaXjDrYAxkB6SVPJhIMEgHHRH62XBUzuDpnoUr+TqYWSV5Fn7nMy8/7zKvJQVF+EqnlV49bYyC3JRTA7iGnXThv3/7hYrv7K1SiqL8LSjy/F5X9+edzUnFgK6woRLg2jdkktbvrBTZM6jtH3afY7ZiOQFUD9ZfWYdcusuPpjgVBgpBB0fSHe8b/vwJVfvHLc/a782sq489Osm2eZd3yOnloXfS8DoQCu/srVAOL/37BiwfsXxO1fBASu/MuRPkVXTZl69VTULqlF5fzKuIULsnKzsOruVZh23TQU1hdi1i2zsOZba7D2nrUJgy2AUeupYVUDiqYatYwCwQACWQE0rW3CW/7+LQmDLYBR1yq2jsTMm2ZafkYonlqM2x66DWvvWYsF71+AvIo85FflY9o107D8U8sT/u6ycrIw57Y5yK/KR9mMMjRd0zTusQKMYxwteBvlss9cNqHnNRWzKzD9LdNROr0UM26cYS6nTQhxHg64eMzzzz+P559/Pq29groCBAuCCOQZtwBXzK6wvOU8vyo/4fmJ2iuoKUDtkvhaHKO9FV9YYTl3eLBnEMGcIIobilG9sBqHnz8c567+xmrLNh+/83HL53V4LybrRQejpJTmtIvz58/j/PnzKKwz5rmOLpwZy/afbsf5Q+fRursVD/zJA7j/zvux4+Ed6GzpxPGNxxO2H+geGPPb4bKZZfEFZUfVZBldQ6Snpwc9PT1Gccu+IZTNLIsrtAYYd2g0rGrA8OAwhoaMWAcGBjAwMPKtYLTI5JjFnCMXFAd3H8Thw0buxA7wvfHQG8YF7sKqhIKB2QXZaG9tx+njp1E0NXH/2YXZEAERV4w2enyef/55/PaXvwVgXJiVNJbEudG5thePX0RPW0/cMtNd57swnGVMn8oKZyFUMPKhOLYf0Xoe9VfUxx2b7AKjX9HpIQDMYxtXWDUUxNldZ7Fv+z4cPnzYLLo32DuIDX+3ATkFOaiaZ/3hLJgTRNuJNrS3t5sXnLHvfzA7iHBpGJ3Nnejv6jdq0EQuuoY7h83jO7oocuyH6b4LfRgeHEZ2QbYxUHKu03zvo0Ukz+09h/yq+MGP6LeoeeVGLZTocYm9I+LC0Qtmf4umFBk5FpnyE10+9o3/ewOHDx82Bz5ObT6Fk68ad9vkVebF5Usob6SoZU9PD86fHxloKqgtMO9ACeWHUDKtBADQcbIDSz9pDBT1XezDvjf3mTkaLgubBTjHGoTs7+o3ikj39ZnHJW4AI3I+3fWrXXFLZUenwPX29mJwaNBYjnXUxba5dHRMjMHsoDGIdv48+iv78caDb6D59WazMGzs/nNLchHICiTUa4j+3ccSO9gTDAVRMi2xXlEsgawAapbUTGoApa+/D4ODg8bFaFYgbqWJsSioK0Bodiihn6MRQiC32FgOPvp/25EjR8z3cCyKG4oTLgCtjgtg/I1E/+atBlsOHz4c197qu1dj2Z8uszxfxTKYM4j29nazGGfVpZO7CMu6Pgsd/R3Izs8e94I+XBZG3fI6NK5pRMWcioR+WlG7tBZCCKz99lrz/y2r45JbYtSlWPyxxZh2rXUtjlhWfX1V3OBlcUMxLn1/YnF/ERC42HURHX0dWPapZahbXoeFH1mYsF1cnDED5S+88AKa+4wvMYKhIKZdMw2Na4zBkeh7N//98/Guh96FvPI8BIIBrP7GastjM+edcxKKdmbnG3dbioDAJddfgvxl+chqyEL95fVoXN2I6oXVeO+695rvSzAUxIwbZxj/B+ZmYd6756F8VjmOnjyK1qxWy8HB2TfPxnV/fx1qFtegcY2xz/KZ5civykdbXhtefPnFuO2DoSAaVzVi2SeXoW5ZneXAWvSzjAgIXPPta1B2SRma1jahaW0TGlc1IpQXSvhsGOtNFiEEShpLcG7KOeRcm4M5t87B7Ftnj7maUtX8Klz2Z5dh4YcXJnz2GIusnKy4AaBQOJSWnw1jiS5rfG7KOezr2jepKXLJtpkpniq6xOd3L1nXCtZw8ZgjR46kvScCAllTszDcOYyaxTXGf4CTPC870c9FH1mEfU/sw2DfILrOdGF4cBg5RTnG8sC9g8irMr6xOLPjDObdPs90r732WgRCAfNOjyjRVVJS0dd08Q6/YHxIi421t7cX2U0j3y6Fy8JoWttkuXJRy+st2PbANvSc70Fba5vxfl8w7prpaO5AYV2heSE20D2Ak5tOjjngMrqC/1D/kHnhasXgoHFBNyiN93v0N8rZhdlmgTkREDj28jHjfe6Lf5+jF6MiIFBYX2gO6kTvTohWbD+3/xyyG4w2ohe8UkqcP2hcGBdNKUL5rHKc2XEmbt9d57uQFchCaWmpuXpWdBAjEAwgp9ioezHQM4Dp1003P8wcOXIEF564gCVLlgAAZtw0A6/912sAjGKPscdlaGDImBrVUIyze85ieHjYvF28oLoAF45cQEljCVZ9fZW5/9gpQiWNJTiKo4YHxP3ddpzqQHFDsXFRexaW04POvXkOuXNGPnCe3HzSHIyou7wOQ/1DOLVlZMnW6F0Lg4OD6G7rRmlpaUI9jthv/U9tPoVrvn0NAGNp6q4XjLuRhBBoXNmI9sPt5gX+6EKtvRd6kVeeh/7O/pH4gLjVQBpWjxTY7WqNv9MpEAyY3uhBhc6WThTWFSKQFYi7Myf67Xdvby96KkYu9mJXZwoEA2hc1Yi2/W0Y6B6Iu4NocHAQnSc6UZBbYEzBa+40axwFQ/F3fGz90Vas/uZqvPofr6K9vd18PjrPPlxmXXQZGCkiPiSHIIUxVSl6ZwkwUkxyeGA44W62cFkYofkhDL05hFDu2PU7hBAI5YUw0D1g5K0Q6O3tBSKHOXb58FimrJiCof4hczpV7LEZTTAUNO+sBIxC1hNx47/diA1/vwED3QPm0uxWDA4OAjkw5+THHp+xKGksQbA2COwGkHijn0nRlCJzNaTs/GwU1hfiWPvYdcuirP32Whz+/WHs+/U+8845q+MCALPeMQtndxl3KFnVnYjNGcAY+Jtxwwyc3HQSwwPGErCja3GFy8Jo62rDkBhCUUMR2o+2x925MGa/71mL++67Dzm35QC/MQaDRtdeA4CSphIUTS1CbmmueddSe3N74g5jmP6W6eZFd8m0EpTNLMP5Q+fRdawr7pwfzZFln1qGxlWN5vbRwedYcpfkYvU3V1set6WfXIr+rn68fv/rZgHucHkYHVUdyLkmB5VzjCmiZZeUYcXnVmDP43ssl4Kf8baRuzKOHDmC4YZhhAfCZk6WTitFUX0RhoeG0bCywZjaGvP3H8gKYGjFEHq29iCQFUB+dT4WvG/BmMUvZ98yG61vtkIEBDoHO4HS+NXwRg9cTFkxxRzICmQFULWgCpt7N6MDHWP+3zzliikY6htC6+5WlDSWmINxv3z2l7h4ZOxlncci9rOMCAis+dYabPvJNlw4egF5FXlYdMeiCT07HD16FMgFbv3wrUq+XdLxs6GTnhdt6uKpokt8fveSda1gDRcX0bGGCwAcfO4gHv/3xwGMzHte9NFF5vx/N3jmi8+g/Wi7eSEhpURnc6f57dCUK6dgsGcQjWsaUVhbiPoV9RBC4PlvPp+wfDEA3PHCHUqj+boQLfw4ejAldlBkzbfWYP9T+3HgtwdwZufIYMJg3yC6TncZF3Ux39J1tXaZ88pDeSHzQkUOS+QW55rLKEeJnSt/8LmDZgFfwPiGPacwx5wTP9A1kPABvb/TWCmjcl4l6i8fWeFk/vvmo3JupTn/eKh/CEdePBK3/2C2UZS1sK7Q/DYwWlugt90oTBn7LV7T2ibUr6g3VxHou9gXN2XhyPojZt2M2KKMgHHBFggFzPYDwQCyC7Pjitl+9PcfjXNGF+bccu8WDHQPWH6bV9JUgsG+QZzdfdacEhQuC5sfvKsWVGHJx5egdolx/Df+80ZzkGCgZwD7ntxnXlhZ7T+vIg/dZ7vNC7zswmwUTy02B8luufcW81hZFRTd8qMtGOiy7jswUnMpSrSmRZQPPf0hhMIh/OGf/oBXNhjz4KPnmQPPHMDZ3WfH7Hu01oTZ94LsuDsVmtY2YfGdi1HSVJLQ945THUYBXZE4LSeWaD0OERSoWlBlbtu0tgmF9YVY9NFFePnvE+sVtO5uxcFnDo55XKLIYYnhgWEEc4LmcckpzkHtklpMvWqq5R1lF09cRNuBtknVy4j+H1/SOHInUcOqhglXErniC1fgvxf/94T7z6vIw1DfEMLlYeQW56JmifUKKLFc/rnL8eMVP04YDB9NKC+EpmubzBpNVoO6o2tyrL1nLS6evIhHP/TohMcnvyrfvMOhcU3juHmQXZCNK794JURAYOuPt+Klv33Jcru8ijxkF2SjfHa5UbuqewDls8stp1vGUlBbgKUfX4rX/uc1dJzqwK5f7oqrkRPL3NvnIqcwB0fWH0HpJaVxdYTGIlrHaNevdqF5SzOObzyecHxKmkriasEs/tjiuClhVgRzglj1tVXm48MvHMbeJ/ai53wPzuw4g6GBIYTCIYTyQnHHOFrMdDxii11HkcMST332qbjzPWD8zaz43ApMu2Za3IBBX0cfDv3ukFloelf2LmRVZE1YW+HiqYtoP9SOgtoCFNUXjTuFSA5LbP3frcZUu4DAwg8vtPx8JKWxApwIGlNR+y70mfVVnOD4xuM4+OzBhOdLppVg8R2LHWkjE2E9DmIX5oyvUTph8w4XMiGWHwZcHquYc9scHP69cddG9Jv4E6+eMGtanPjjCQDGh+LTWadx4LcH0Li6ESs+v8JywGXj9zaa85nTiYHuAex9ci92P7rb/Aa4ZkkNbvjXG2wPEPVeiK+JEnshGp3XPevmWQlLZfe0GdN5+jr6zAGXof6huCJ+A93G7yXTStB+uB3Vi8aeniSHpfFNdczdRtH3Lbck8k1nQTaGB4fNC2cpJbILspGdn42BbmPZUnOee20hulq7zGJvwewggqEgCmsL0dEcWWIy8o17T1uPeaFTNMX4xhYYqQMR5cj6I7j0QyO3ku/7zb6418tnlaO3vRcXjl9IuFDtOtNlLqfbd7EPwdxgQh2Ds3vPmlNwosculmnXTcO+J/clPA8g7qIoendI7F0/eRV52PvEXpTPiixbG3NHRigcQsXcCvS09YxZ6DN2oEsEhVFfIeaOpIsnLqJ8VrnlUuAAMOOGGWje2jzm6huBYADBnCCG+obMQohRqhdW4w//+AdLDzCmEpzdc9Zy3j8wshS3CAhj4C9mcCN6wbPtgW2WbmFdoXm3ntVKVFGiq6qMXkkCMKb+WA22AMaxn33r7AkLVouAQDAnGDcNIzqX3mqwBTDu4pl+/XS88eAbCReeoylpKjGPPWCs9jXRYAsQWap0TeO4/S9uNJZvjt59FFsgejzCpWE0rm40z+nj7T+/Ih/t+e1x39aPRfRvuKi+CPPePQ9vrnszYdWTKHkVeZjxthk4+tJR1C2vm/D8uuD9C8xjOP9983HqtVNxK15FyS4w7j4qrC1EXnkejm88Pqn6LMvuWgYhBC779GV48W9eNFZ6e+VE3IpH0bZj62tMNH0qtyTXLPIMAPNun4epV01F/eX12PjPG3HxhHFnQvQOn9jpSSWNJVjz12vMYulWXPrB+Ck4066ZhoLqAuz8xU4EQ0F0tXah70Jf3N/+nNvmoHphNY6+dBRHXjhiiMK4m/XohqPIysnCjLfNsJwyF/1/q7+zHz1tPQiXhXH1V65G1XzrqU85hTmYe9tccznXffdan2dHU1RXhKK6ydX2EQGBJX+yBB0nO8wCz5bbCWGu+hYuDcet0uYEU6+aitJLSnFk/RFzoBpA3NLBhBBC3Ic1XDxm9+7d2L1798QbeuhZfRCd7DcyTvUzeoswELnAzg5afoM00DOA1tZWtLa24uhLR9FxosNyu9gpAE73VdWTUuKNB9/AwWcPxt1u3/J6C57+7NPY+6Sx/PFE7UWntbS83hL3fF9OH1pbjYuz5Z9abj5/2Wcui7uAj/1WdbBvEF1dXeg4n7jW51D/kPnN6li1JKSUOPqSccEWe7cMYEwRic2t6B0b/f39Zr2RcIXhnHrtlLldMCeIzf+5OW5f2fnZkPkSMmBcmUT3O9Q3ZA4UBLICGOobQk5RTlzhxa6uLgwXDGPHT3ego7kD+5/aj3N7z8Xtv6CmALkluXGFZPv7+9HfbwxuDA8Om/Phw6XhhAGCXY/sQuvuVvS29+LxLz9uvg9RihuK46bCWJFflY8hOYTB4cRlewFgx8M7LC9gqxZUIa8pD6GKiZd3DZeG4y4WQlNDeO1Xr2FoYGjMi67ihmJMv2563HOxxwYYKRCbFc5CXtXIwMJE0zjyKvJQu7zWsoZTLCJHIBAOxA1aTFSrAgBKlpVgOHs4bglhK7ILs5FbNNLXrq6uhPdwNE3XNKF0Wmncxfbo4wIY05SqFowUwo2drhclek6LIoTAgvctwCU3XJJQCyWWYEkQ3d3duOSGkaUzJ1PfZLBiEHv27EHV/Koxi8RGC1yWNI7UVWm70DbhcaleWA0hBN7+w7fH3bESe2wCQWMKRbR20IwbZow56BZLbLH22bfORs3iGss7E3KKcxCeGcbZc2fx4Wc+PG4h1ijRv8/du3fj0IlDuOmHN+HKL105MpApRnIuOvAUzA7imu9cg0BWIOE9jGXNt9aYx1AEBFbdvQrVi6ox48YZCFWEEKo0VlGa/974wZaG1Q1jDhS1trYifHkYV3zhCnP6pBlLbSHmvHMO7nzxTsx55xwU1BagblkdmtY2mf288ktGkdRoUV4rGlY2mPuO/X+pcl4lrvn2NVh0xyLULa9D0zVNqLusDpXzK7H6G6tRs6gGQghjikrVELqyujD3trkonV6KxXcsxoL3Lxj3zrDGVY0Izwsjf0E+ln9q+ZiDLU4y0f+7gWAAxQ3FloMtbn62KKguQHBhEGVvL8PSTyyNy61UtJcJniq6xJfMcdGlr8wZem66VvAOF4/ZsGEDAGDu3LkTbOmdZzW4Mtn/wJ3s59zb52L3r0aS32rlhOYtzThXaFwsV1ZWYs/je/DWf30rfvHOXyRse/HkxbiaAF6/F4efP4zOlk6zdkgsZ3aeQU9bDwpqC7Bh6/jtnXjlhOXzx44Zd/rc/J2bzYuQ6FSVvo4+XDx+MeEbt87mTnR0GIMthYXxAwID3QM4t//cmBe24SvC6N3RC0TKyBRUFWCga8C4A0Maq6l0ocu8IBUBo2DngdcPYPjiMKoqRj5EDw8Oo+tMF1b+1cqEQpyAcRfQkUeOYDh/GLmD8R94Lxy7gNziXPS295pF8mLz98KFC+itMe7OGGupTBEwppOEy8M48NsD6Drdhb4+466I7GzjYi1cFjbqiowqGFm/wrhojN6RE30fKitHvrEPhoJ42/ffhue+/JzlnSKhcAj51flo39GOQG4g7vkoHSc74ooPm30XAvItEp2/7EQYY3+jmleelzAo1ny+GaJdYMN3N4zpAcBb/+WtaN3Tat5tMfrYBEJGUdLuc91m7k29auqE5xEhBO547g7ct+o+XDw+do2Avv4+5CzOASJjhdHBgIlobm+GmCNQcqwEg92DZnHcWELhEGovq427U6JzuBO9x3rj3sPRLPrIIhx+/jAGegbM9370cQnmBJFTkIO65XXm9L/R7wGQmDNzbzf+9pd9YhnO7jqLoy8eNYtEx9LR3YGsWuNur9LppSisL5zUcTmYdRCHNhzCW5a9Bb3tvdjxcPzy4oX1heZdMkVTizDYN4jihmLs3Lczrp9WzLltDgCjyOTbf/h2PPfl57DvN/vMY1NQXoCSxhJzlZlAVgBzb5+LvPK8MZeaBYyVYGIpmlKEBR9YgNNvnI67S6y4sRj5Vfk43nkceYvzkJWThZVfWznmnUq5Jbm44gtXmI9jz9srPrsCiz6yCK/f9zq6znQZNVsid0LF1gg5/PvDln/3gDH4Pfr/2GBoZJrOvffei4FTA2hCEwBj8G/B+xegoNpYunzHwzsACfMusijHjh3Duf3nsAIrxjxmgWAA13/vehx98Sj6LvahdmktfvaLnyFQEIhbUW3WzbNw4OkDOLdvZCA6dtng0cclSuOqRjSsHHtQKCsnCwezDgJVwNsXvn3Mfo4muyAbx0qPAaXA1CunTtpLBtX/55Nxk/UWXjZ+YV+n2/Orp4ou8emY2+nuqaJLfH73knWtYA0XF7Gq4RL9xmu8D6hWuOkd+O0BPPGfTwAYmSe/5ONLJjVv3Ol+vvidF83pKHJ45O6JWCovM5z8fONCPlwWxq5f7Ur40Fd3WR3e+r23pqyvdryhgSFs+O4G9Hf2x93NMZrS6aWY9ZFZKJ9fjqqqxG/1orVHpJQJUwEqL6tETkkO3nL3W9DXEalREvnz7+vow94n9qL7bLex7HfMsYquAhQMxg9wFdQYS+/Of+/8hG/ZV3xuBR765UPo39+Pgs3x03cGewfRc77HvDgobiw226u/vB7bf7YdeVV5CBfGX3hm52djwQcWjDnvv625DYPdg8gryMOBp0du9Q9mByECAuHyMKoWVKH3fG/cUtH9/f2ov7rezJexWP7p5Xjtv17D0Q1H0XW6Cz0XeszjIoICRVOKULO4xqwVABjfAI+++6ery2g7tr1oHYTnvvoc9v96v7n0digvhNzSXHNwcXB40FidJ3LBPpnaEAAw56452LduH85tPYeze84mFCwFgAUfWGBOzQOM9zc8NZzQ19FE+77rV7vw7JeeBRCfMwU1BeZ7YBYBbiy2XG57dD2OhpUNmP6W6eg604VH3v0Ius50xS29DRgXX4G8AKaumYrWzWPX+rAiVB3CrHfPwpv/+Sb6u/txYuMJc4pFlHnvnYfsvOy4ekjlS8uNuzDGOS7Rmhnr71mPvs4+7P/1fvR19ZnHBTByv2ZxDcKlYRx96SjksETj6saEC/DYnMmrzMNlf3aZ+TfT39WPpz7zFI5vPB5X+DiYHcTUt0xFKD9k9jO/Ot/yvY+luKEYU26ZYvyeV4yN39uI/q5+HH3pKIYHho3lpSMDCVWXViGvPA/z3jMPu9btssztWNZ8a018Uej+IWz4O+O817K3BXJYonJaJcLlYTO+NX8d/w19Qv2jLVuQfUk2Pvv9z1q22dPWg5f/4WVcOHYBVZdWob+zH1k5WchtyMX0m6fHnUcHegbiprhVzq+MW7kMsD7f93f1Y9N/bDJzc+XXVsatJLPzFztx9LWjccdm7u1zUX3p2FMxx2svlgvHL6CzpRMVsytw+PnDZq2pYHkQc94/J60/W3jhqdZWUG0vGZdeenhu54wunhdt6uIxZ/T2JnBZw0VHVJLAbc9qpYexivk50d543upvrDanNow1rSmcG46rUdDT1oPe870Il8VfwI++G8DL9yJaR+X0jtNjbQ4AOH/oPE6/eBrd+7tRdVfigEu00GvsRT8QWW40Px/LP74c3ee6sek/NsW9Hi1gG10uOPbuodEDLVE6WzpR3FCM4xuPJxThjB5rOSxROa8ybnnkrNwsTL16Ko48fwSAscxsdDpFy7YWzL55dtz88yi1y2vHLbJYVjtSo2bhhxfi2MuJtXsKawsRzA7GDbhUz6mecLAFMG7VBozb5eWQRLg8jP7Ofsgho96MWRMkBqupVlZtLXj/AgDA9f94PYI5QRx54UhCvRMAaLq6KW5QJFq4eCJq6mpQ/NFivHr+VVw4esEsNgsYF+Zzb5+LrJws1K+oN5c3Lp9dPqm7IZb8ibHa0qy3z8LBZw8ax73LiD32joqiqUUou6QMR9YfiSuaOx7RpV3zq/Ix420z4gpCRuu2RPedn5+P8Mpwwsor47HotkUoqCzAVX95FTb+80aj2HakoCWkcRdOdp4xuFUxpwJn95y1HBAZzcqvrTR/X/X1Vdjwdxuw4P0L0N/Vj9adrUZtoSmFKKovMu8qi9bgsdp3NGeC2UEsvnNx3PuSnZ+NW++/FX/4xz/gzJtnjEHTwhxUzKmI21fl/ErMvHEmNv7zxnH7Pvf2uXHTIi77zGXY/MPNmHnjTBxZfwShvBAK6wqRU5SDirkVWPbJZWb/d/1yV8J0vChXf/XqxDs5IgO12QXZaFjWkOA0rk4sZBt9r8x9lASRPWfsKUHhsjCu/6frzcfRZb6zcrMS9h0Kh7D6m6vRfrgdOUU5ln9fVuf77PxsXP2VqzHYN4isnMQV2Oa+ay6GB4fRtt84f027btqkBlvGai+W4qnF5pcfc945B9OunYbBvkHkVeQpFYbX4TNJMp4qybSny7Gh5yy6xMfcdt5TRZf4/O4l61rBARePOX/emD5SWmpvxR83vYKagoTnohfIqWhvPE8IMWEhx462DqP+R3hkgMWqv6MvzLx6L7IHsnHwmYNo2dYyqYGs1kOt6OnpQfvRdpQ0lpjPR7/d7j7XnTAtpaSpBKULS9HZ24k9/73Hcr/ZBdnILsxGf0c/RKEwB1Cs7nAJ5YcQyAqYFxYdpzrMD/1LP7EUgFEYt39fP/KW5KGgugCdp0eWqC5pKEFhXSE6TnWg60wX8qvyUTS1CBWzK9A/ZNRwCYVG3rPRS+ZaMe22adj18C6Ew2EEsgIomlKUcLcCgISBt6ySLPT09MTly2iWfNwYVIgW4gSM5VoDuQGEQiFkhbNQOq0UQgjUX16Pk5tOYsoVUyz31dNjDGDGthc7ABEIBJCdn51wJwcADAwPGGftyEuTKX5aWF9o5tqcd85Bf2c/Wne1YrhqGKWXlMb9fYfCIRRNLcLF4xeNosMWfY2lZkmNORCVlZuFwtpCzH/PfPT09BgFhIeDCJcZA6DRwaf3P/5+vPL9VybsNxA/qLrq66tQekkpdjy8A4W1hcivykdXa5dxDPJgvoeTqd0SyApg0R2LMJAzgPPnz6O0tNScsjjtmmlmTZ7Y9gtqCtDZ0gkRmPi4xN7dEMwOYt675xmrzgSGULawzNKrX1GPhpUN2PHTHQmvRdu78Z4brY+TELj6K1fjxb95EWWXlCV4ZfVlmP6W6cguyDYHgBLav7weM942AyIg4s5p+ZX5WPvXayGHJa780pXY+M8bR4qf3jpnJM5QEFPeNgVly8qw/+H4Glkl00ripp/Esuiji/DGg2+YfV1w6wJUzK2AEMKyjkd2QTau+surcHbPWeRX52Pf05MrgholkGXk4ljn7UAwEFdgfDRj/t8UEGPGGAwFMfWmqagfrEdJccm4dXcm295Y5BTlIAc5Wny28MJTJZn2dDk29JxFl/iY2857qugSn9+9ZF0rWDTXY9atW4d169altWe1Ak3sSgZOtzeRN+2aaebvVoNBe7ftxa5du+KeK2ooMovJxtLXMbI6iVfvxeYfbkbbwTb0XRx7pZRY9r+yHzs37cT+38Rf1Lzx4BuQUuLMjjMJjggIvHr2Vfz8r38+5n6FMC4Ycopz0N/RPzKA092N7u74JZvzyvPiLoZi685Ei3L2bus1266YO1JsNlqAsXFNIwrrC5FXkYfixmJULahCMDuIXbt24ezF+Dtcpl498Tz9Z159BodyDo20M7007k6d4sZiM85onZXG1Y3Ys39PQr6MJjqYFF0WuHF1I9p629DW34YpV05B/eX15kVUKC+EnKKcMZcR3bVrV1x7yz+1PG4waeXXVlr+zU29eqpxbHLOorihOGEZ7rGYeuVUM9dqFtcguyAb9ZfXY+rVUy3/fsouKUPt0lrLvsZyxReuiLvgBoy7D6LewRMHUVhrLMsdHWxZ9fVVEy6THGXOO+ckPLfgfQvwzgfeiYKaAoiAQEF1AfIq8rB7927s2rULV/zFFeby2OOx+hurUTy1OO5vt2p+lXlHTexgYixX/uWVZnxjHZeGVYl3alQtqMLMt88c06tdVotLP3gpymeWY9675yW8vmvXLhwYSlwRJxYREFjz12sSvMOFh7HicyvMO2mC2UGsvWctSqaVGH27tAorv7YSM2+aacZsdU4TAWMp92u+fQ1W3b0Kq7+5OuEOkHXr1uE363+Dq786sgJcdmE2Zt8SX18lltLppVh0xyIcGDqAI5VHMPWqqUbx5nHyJLsgG3XL6yY1rXUsvDjf/+qxX9kabEm2PXrOkUx7uhwbes6iS3zMbec9VXSJz+9esq4VvMPFY6644oqJN/LYyyvPi1uacjLLcybT3mS86Le0hXWF6GzpjHstry8PFfUVcc+VTS9D687WhAuE1l2tmLJiSkr7Op4nhyXOP37estjpWBQVFQEdQPvRdvSc7zEvpC6euIjBnsS7IspnlZvt7X7duuJ2tOBmQU0BLhy7gGB2EAPdA8gpykFeIA/B3CDQbawqk1OUg6H+obhv8QGYd6pEGTwV35eGVQ04tuGYOSCTlZOFS66/BKOZMmUKZJ1E717rZYatuPorV6PsgPGtdNujxm37IiBQs6QGF09eRFZuVtzqLOWzytF9thsiIDBlivWdKFHWfCv+InbB+xdg5893ounyJjOO0bzjx+/Ayc0ncWpzYj2e2PZKppUkDHpk5WRh9i2z0dncab4X1QurjTsIpkzBnLvmYNESY5nP0fUsRlN6SSkq5lbgiuGRHC2sLxw331Z/czVe+s5LCX0dzVh3H8x/33ycPj0ypS2YHcTSTy6NW61n2V3LLIsfR5l61VTULK6xfC1cGsbsW2dj7xN7R7ZvmIo5fzoHucW5aFzdiIsnL6K7tdvSX/CBBebvsX+7ImAMpOVV5OHNR96Mc/Iq87D040shAgJHnj8y5nEpqCkwB21GU39ZPa7+7NU4+lji3XmxAxJVC6pQNKUo7i6gKVOmYOa7Z1ruNxYhBFZ9fRUOPnsQZ/ecxVWfvgr5U6ynnS2+Y/GY+5nonGZVsDzWC4VDWHvPWgwNDCEQtB68iqV0WinWfHTNuNs4jQ7/99Jz3lMlmfZ0OTb0nEWX+Jjbznuq6BKf371kXStYNNdFrIrm6sJ//8d/Y+DQAG555y2YeuVU29/SpYIjLx7BgacPWK7KUzGnIuFCNlqUMpacwhx84MkPpLSf43HkxSPY/9R+s26GCmUzyszBhNPbTyfU3GlY1WBZDySuHzEFQduPtENKicHeQTSubkRhbSGGBobQ3dqN7rPGRezw4LBlfZK3/9fbUTm3EoO9g/i39/wbgJECqIBxR1Hs6hfjcXTDUcghiZolNZZLbcYSLVAKjBQOnojS6aU4fyhxRahYln9qeUIeyWGJ7T/dbrma1Oj+TDQgsuLzKxJWhoq28eLfvGguaR1971bdvSruYne8/U+5cgqmXzc94X3qaevBq//+qqVzyQ2XYOqVU9F7oRev/L+xp/1MuWIKZrxtxpivR2MAxq61ZNX36Lnxi//3xQmnkJ145QSObzyOcHkYc945Jy5HpJSABLb+eGvc1MG575qL6oUT184YHhzGxRMXES4Lm8uVR+k604UdD+9ImLbXsKoB066dNqm6GbGxz3nnHMvBpY5THdjx8A70d/Vj2rXT0LiqccL9ZiKqxQlJZsJ8IXZhzhC7MGd8DYvmktQRyAkgZ24OmtY0ed0Vk6Y1TSibWYaLJy4iuyDbXIHj7J6zOLvnbMKF8tSrp+LQ7w7F3ZHQ19GHgZ6BMefej+bMm2ewa93IlIDLPnOZcnFCADjywhHLwZbcklyUTCtBTmGO5UpMsbQdaEPRlCL0XeyzLHAcCAYS6r3E0n0u/k6AaK2KUDiE7tZuVMypQCAYQEF1Afo7+9HZ2omLRxNrowSzg3jzF2+ioLYAnc2dCa8DwCVvvSSu6Ot41C2rw5mdZxIueEdz6QcvjXucU5SDq758FTZ+b/zioIs+ughSSrMI82hGr44SRQQEFn54Ifou9iUMSoTLw1jx2ZFlWGfcOCNuxaTRWA22RNtYe8/ahAGX0URXTrJixg3WAyLhsjBW3b0K3We7cW7fORx54QgAY7WhumXGUry5xblmLRcrpr9l+pgxxcYwHiv/aiU2/9dm9F3oQ9mMMrQdaIPIFshbPbm/pylXTBmzTo4QAhBGbhx+4TDksETT2qYJB+6iBLICYxb2za/KN5cJHh4aRn9nP7Lzsy0HIMdi7T1GTRSIsd/bwrpCXPWXV0FKqXx+IYQQQggh3sIBF4958MEHAQAf/ehH09pTJdX9LKorwtx3zcXp7cYUhoKaAhxoOYCBkwNoQlPctoFgAF2nu1DcED/v/9zec6hZXDNhm1LKuMEWANj8n5vxxhtvoOSdJbjjjjsmHR9gxNi2rQ0lKEl4rXpRtXmRNXoKSEuLsexnTU0N5LDEQM8A+jr70Ly1GVJKyCFpFvyM1k7Jq8jDG2+8AQBYtGhRXFuxKwgBRvHT4oZiVM6rNJY7XbcJubNz8d5vvRd1y+rw+6//3nLAZepVRp2VsQZbgMkNuMT2s/7y+nG3nXXLLHPKVOz7l52fjRWfX4GTm07GL3VcW4CFH1qI7AJjVRMhBA4WHUTnhs6441I6vXTci1whBB554hH05/ZjRq8xsJFbkovLP3N53HZTVkxBbkkudv5sZ0J8f/KffzJubNF2Yhmdo/lV+RBBYS6VHmXF51eM6wVDQRTWFqKgpgC5xbnoau1C7dLauDvXFt+xGD/6xo/Qu7c37tgs/MjCCQcXJvP3m5WbhSv/4sq45/bda68A6kTtZReMXz/EifPTZAdxRnsTDUhFEUJo8/9EMv+/+O3/Jnrp6aniRW7TSw9PFV3iY24776miS3x+95J1reCAi8fU1FjXKUg3TxU3+tl0TZM54AIAhYWFQGK9TQOLa5zff+33+OBTH5ywzTd/YdR1GB4axsXjFzE8NIziqcUoKChA1k77f0qF3YXoDSbWKSmoLYAQAoFQAHPeOQe71u2KG3DJzjYGC+SwRMepDgwPDuPQM4fiCgCLgEBBTYFZN6NsRhkKWhILpAJIuFiP+vnV+SgQBSjrLUN2eTbqltVhoGcgqelkQghc8RdXjDtdpaBgpJ9LP7kU5/ads1yVqmZJjXlHBpCYM+HSMGbcMANNa5rQc74HeRV5lrUnpi6Yir6aPkytnIrOlk7kV+VP6k6umpoaoAZYuWYl5LAc8y6pitkVWHvPWpzbfw4t21pQE6xBuDE86cLTCW3GIITA4jsW4/X7Xjefm3LllIQ7Z8bKbSHEmLVSAlkBTLt2GgaWDaChrAE5hTmoWVwzqfffj+cZeqnzknXdbI+e3p4qXuQ2vfTwVNElPua2854qusTndy9Z1wrWcHERnWu4pPt8RKt6EDVLatDyekvccwefO2h50X3rfbeidPrYS38NDw7jpb99CQM9AwlTgAJZAeRV5CG7MBvT3zIdc26dM+YKNVH6Ovrwx3/5Y1ztlCiNaxohhMCab62BHJbY88QenNlxJmHbsaYQRSmaUoTGNY24+stXj7kMrxyWY05ZalrbFPf4yi9didPbT+PQc4fQ8kYLes/3jrt9NM+jNVxKLynFoo8Yd0qc3XMWO3++E+Ox8q9WIis3C1JKtLzegr6LfcbKPBIY7BtMaiqXHxkaGIIckhPmXjqT7ucZkn4wZ4gdmC/ELswZYhfmjK9RuvDgstDEt4TLE+tjNFzdAKtBxrN7zyY8F+XCsQt46W+NVVus6q0MDw6js6UTbfvbcGrzKbS80ZKwzWh2/HSH5fOBUABCCKz+xmqIgEAgK4B5t8/D2nvWomxmWdy20ZWFxkIEBc7tPTfuBbiUEnWX1SUsZWtVWPTgMwdx6Dlj2eWK2fGrQEWnE43HzJtGVlmpmFMxzpZA/Yp6s99CCNQurUXT2ibkFOYgpygH+ZX5HGwZRTAU1HqwhRBCCCGEEL/BARePefbZZ/Hss8+mvaeKW/2sWz4yteTgwYM4ePAgDv/ucML0h1BeKOHODMAYcLFq8/SO09j8w81o3tpseTcKALS1taGtzViK+NRrp/D6/75uuV0snS2d2L97v+lFqV1ai9JLSi1rZERrUUTbs1oCOkr07o+s3Cy8/A8vAxg5LlEW3bEIgWDAKPgZjG8vXDYyWBX1zuw8Yz6XlZuFprVNZv2UiaaZlE4vNZYXj+HKL15pue2hI4dwcPig5WvjocvfUjJ/g7r01a/nGXqp8ZJ13WyPnt6eKjxvZ66nii7xMbed91TRJT6/e8m6VvDrUI+JFkBNd08Vt/rZuLoRp147BQDo7Bwp2lo2swytb8YXhR3oHogbUACAvY/vhSgSEFkjd020HWjD7l/txoVjF9B3sQ9j0d/fH/f43L5z4/a1v8vY/twbiduFwiHMead1AZpp107Dyc0n0bKuBXJAIgzrFW6KG4qNGixV+Si9pNRcijn2uACJgyR1y+tw6rVTZqHdKKO9WArrCjE8ODzm61HmvmtuwnM5RTlYe89a9Lb3YucvdprFdodmDOHMuTMJ20+ELn9LyfwN6tJXv55n6KXGS9Z1sz16enuq8LyduZ4qusTH3HbeU0WX+PzuJetawRouLsIaLqljrOV986vy0XWmK+65wy8cBpC4Asy8d8/D5X9urDLTfa4bm/5jEwCMeWfLeHzkdx9BMMv6ro9TW05h7//tTSgEm12Yjbd+763jTrcZ6BnA+nvWmwV8R1NYX2jWqGla22TWaInWhYklryIP3We7E/aRXZiN/o7+hOfHYtU3VmHD325IeD62hsvae9ZOen8kc0n38wxJP5gzxA7MF2IX5gyxC3PG17CGC8lcxqrnMXqwBTBW7BnsTZyOs+uXuzA0MARgZJAlduUfO4xeajmWfU/uw4WjFxKer11aO2Ftk1A4hOHBYRQ3FiO3JBciIJBTlIPihmKUNJUkFASOFsQ99vKxuOcv/+zlloMtAHDFF64Ytw+jCWYFsfQTS8d8ffY7xl6WlxBCCCGEEEL8CgdcPGb79u3Yvn172nuquNnPwnpjmd3Tp0/j9OnTY25XVF8EOZx4Z1dnZyee+bdncOH4BZzZcQadpzvRvKV5wnY7OzsTpt0884Vn0N859l0i7UfaE7zJFoHtyupC70AvcktyUdxQjHBZGCIQ7xY3Fsc9lkMSLc0t5nE5u2fsIsGBYADL7lpmPh7veOaW5AIwVkS66stXoaA2celpqwK846HL34QXf4O69NXP5xl6znvJum62R09vTxWetzPXU0WX+Jjbznuq6BKf371kXStYw8VjXnnFWK534cKFae2p4mY/590+D6/++6s4ceIEAKC62rjQD+WHMNA1sqKPCAjL1VwuXryIbfduQ16nUdz17O6xByUa1zRCDkkce/kYLl68CAAoKBgZbJDDEs2vN6NxVWOct/6e9RjsGzTbi3q5JbnIq4gvKgsYKyD1dfQhpyjHLGx7eNdhoByYs3ROwrQkwBh4KmksQe+F+OLAh18+jFBjCO/5wXvw0ndesowrvyrf2EddIa7+6tX4wz/+IeF4xrL4zsXm79n52Vj6iaXG3UMS2PvQXoigsCwAPB66/E148TeoS1/9fJ6h57yXrKuCLseGnrOeKjxvZ66nii7xMbed91TRJT6/e8m6VrCGi4tY1XA5f/48AKC0tNTWvtz2VOcjut3P9fesR09PDwAgHDaKyobLw+g51xO3nRyWOPjswbiBl4EBY1AmFAqhbEYZ2g7EryAUpWltk/n7YO8gDm84bHqxNK5pxDXfvsZ8HK0Lc/7weVw4eiGuvdpltbjs05ehbMbI0s8dpzqw5d6RXKm/vB6V8yvxxx/+0Yyvv6sf7YfaMTw0jKv/6mp0tXShZZtR6Gl07ZloezOvn4mxWPyxxShpLDEfWx3PKHPfNXfcu1d0yRldPC/a5HmGnhteMi5zhp4d3M6XZFx66eHxHJM+beriMWf09iZwlWq48A4Xj1FJAi88VdzuZ7gsDIwaJ+k+242uM10oqB65A0UEBIaH4lfXiR0wmWiwZc5tc1CzqAb7frMPw0PDOLX5VMK2/R396D7bjbyKPAx0D2DTf2yClNKs3xLbXk6hUYclSk9bT9xgC2AMoPzhn/6AxtWN5hSi7PxsVF1ahWV/ugyFtcaUqt4LvWg/3J7Qn1AoZHkXTZS8iry4PgDGoMruR3fHPVe/oh4zbxx70CZZdPmb8OJvUJe++v08Q89ZL1nXzfbo6e2pwvN25nqq6BIfc9t5TxVd4vO7l6xrBWu4eExraytaW8cusJounipu93PJx5egq6sLXV0jxXKFEMjOz8bou7mqF1XHPdff35+wxPPo7QGgZnENahbVAABmvX0W5v3pPAyJoYTtm7c2Y9MPNuH09tM4vvG48dxrIzVhou3VLq0FEL9M85YfJa5kdXq7UUdl/+/248zB+GWTo4MtAFB/Wb1lUeD+/n5kV2ePGd+ijy5KqCNTvbAaDbc2IFgeRLgsjKpLq+Lu8EkFuvxNePE3qEtf/X6eoeesl6zrZnv09PZU4Xk7cz1VdImPue28p4ou8fndS9a1ggMuHvPYY4/hscceS3tPFbf7mZ2fjT179mDPnj3xzxdko+u0MQgjhyWGB4dRVFcUt83Zs2dx9uzYdVuiBWKnXz897vmnnn8K7QXtls5A9wB2P7rbXCWov2tkQCfaXlY4C42rR2q99Lb3YrAnccAkOohy9uxZHHj1gLkSUuOa+DoxZTPL0Lo78SRx9uxZHDx2cMz4copyLJ//3ebfYXfObqz43ArMu30eQuGQ5XZOocvfhBd/g7r01e/nGXrOesm6brZHT29PFZ63M9dTRZf4mNvOe6roEp/fvWRdKzilyGNWrVqlhaeKF/1saGiwfP7snrPIys1C665WDPUPAQLILc3FhSMXkFOcg+LiYksvihACKz6/Atn58XeJrFq1ChdqLmDPv+5JcE5uOonKeZXIr8pH5+n4lYyi7QWyAqhbXmc+f2pL4vQkK6/rTBfKZ5fHTZUCgNY3W1GzuMZYEjrmpp6yqjKUN5Rb7nPu7XPHbM/vOaOL50WbPM/Qc8NL1nWzPXp6e6rwvJ25niq6xMfcdt5TRZf4/O4l61qR1kVzhRDVAL4C4GYADQB6ALwJ4AEA90nFzgshagCsBrAUwLLIv9FqpauklC8n1/Mx200omqsLqgWgvODcvnPY8fCOhOdHF5EFgMr5ldj/m/0IhAIoqi9KeD1Kw8oGrP7GasvVjaKse9868y6ayVI5rxI1S2qw7JMjyzCvv2d9wna9F3rR8nqL5T7ueP4Os6aLlBIvfvtFAMYKR9E7awBg6lVT46YtxbL6m6vNVZCcQqecIekBc4bYhTlD7MB8IXZhzhC7MGd8jVLR3LSdUiSEWAZjcOWLAGYBGARQCGAlgB8DeFoIMXZBivH5FIBfAPgqgLdgZLCF+ICymdZvZ+n0xAJIrW+2onpRNYYHhtF+pN3Sq7q0CoGswLiDLQBw6QcutdXP/Op85FflY8YNM8znLp68aLntWIMt5bPK0X2223wcnWYEGHfOxE43GmuwZdq10xwfbCGEEEIIIYSQTCctr7KEEMUAfg2gHMBuAMullIUA8gF8BkA/gBsAfF+xCQngOIAnAPw1gE8m2WVl7rvvPtx3331p76niRT/vv/9+vP766wnPF9QWWGxtFMEFgI6ODpw6MTKdp2JOBZrWNiGvPA8z3z72qjzRvs64cQYq51VOup/HLh7D66+/HtevrT/amrDd6Bu5mpub0dzcbMb02n+/hpY3WnDi1RPYtW5X3LZCCDSsNKZYvf766wnHpe6yOky5Ysq4/fR7zujiedEmzzP03PCSdd1sj57enio8b2eup4ou8TG3nfdU0SU+v3vJulakaw2XLwOoAdAN4CYp5REAkFL2A/ihEKIQwD8AuEsI8W9Syr029/+3UspvRx8IIZoc6bUCTU1qTbvtqeJFP5uamjB01xCwOf75YMj6Dg8hBKZeNRX7fr8PwUFjNZ7KeZUIZBnjkQs/shBll4x9E1S0r1k5WcirzENOcQ76LvRN2M+yqrJx+xXl/MHzcY9zc43ivSXTSiCEgByW2PNYYv2YKIGsAG741xuwbf82DHYNor6mHlnhLEy9aiqyciY+Bfg9Z3TxvGiT5xl6bnjJum62R09vTxWetzPXU0WX+Jjbznuq6BKf371kXSvSsoaLEOIojJot90kpP27xej6AFgAFAL4jpfxWku01ATgcecgaLhboOB/RqhbK2d1nE4rXNq1tgpQSR188aj6OsvaetbbaPL3jNHb9cpe5ryhSGisjyWEJOSwx9aqpyC3OxRVfuMJc/WiwbxAv/31i6lnVngGAxtWNZu2WiVj9jdXmAJJb6JgzxFuYM8QuzBliB+YLsQtzhtiFOeNr/FHDRQgxG8ZgCwD81mobKWUXgA2Rh9e70S+iH1d/9eqE50pnJNZxGeofghACjasbUb2oGgM9A1h19yrbgy0AUH1pNbJys+Jqp0gp0XWmCx0nO9DZ3ImhviGc23cOy/50mTnYAlhPJwKAhlUNqF5UjdqltSiaahT2LZpaNOnBlgUfWOD6YAshhBBCCCGEZDrpeBW2IOb3neNsF31tXgr7knKeeuopPPXUU2nvqeJFP6NuKBzCmm+tiXvNapDixB9PAAAOHDyAE2dPIBQOoXlLs3JfV/7VSuSV55mDI53NnRjsGQQAhPJCyC3JRdklZXj650+b3vDgcFzx2yi97b0IBAMIl4aRU5SDskvKcO7cOZwdOjvp/lXMrrDsp2p8qUaXvwkvc9uvniq6xEcvNa6b7dHT21OF5+3M9VTRJT7mtvOeKrrE53cvWdeKtJtSJIT4LIB/jzwsllJaLtsihPg8RormFkopO622m2SbTUhySpEQYjLzhOY0NDTk3X333eYTbW1tAICyMnsLJbnttbYaq99UVk6+KGwy7al6Vu5w7zC613dDDkhIKdG/rz/BCTWG0CeNuivhcBgAUHhLoXJfB88NovvlbvQf6sfQmSFAAIFwACJsDPjkzM5BT08PAg0BlK8oR88fejB0fihh38OdwwgUxI+Ldrd1Q4SF2c/xyF2Wi1BdaMx+qsY3GXTJGV08L9pkztBzw0vGZc7Qs4Pb+ZKMSy89PJ5j0qdNXTzmjN7eeO5dd92lNKUoHQdcvg7gu5GHISnl4BjbfRLAvZGHdVLKyd+SkLivJng04KILqiePdGKwdRA9r/Sgb29iQdtAYcAcmIhScFMBRFDp7wpyWKLj/zrQfyBxcCd7VjaEGNlv7tJc9G7tVWpnIgreXjDpqUdO44ecIe7CnCF2Yc4QOzBfiF2YM8QuzBn/ojrg4sgqRUKIOwHcn8QurpFSrneiL14hpVw20TZCiC0VFRVLdSyi5KcCUM9/83lcPHERHac6IIeMYrbhsjCqF1bHbVdaUIpFH1mk3M4Lp15AW2kbulq6MDw0DACoXliNcFn8nSn9Xf3IXpad4Hee7kRBdeJS1ld9+Sp0nenCGz95Y9z2V35t5aRWIUoVfsoZ4g7MGWIX5gyxA/OF2IU5Q+zCnCGjScdloTtifs8DYDmlKPKalaMVW7cahVKXLl2a1p4qXvRzIrdpTROOvXwMJY0lAIDzh87jwrELaG42bpKqra01nh+1HLOd9nY/uhsiIFA+sxzlM8stvWh7fXv7UHVpFfLK8+JezynMsfR27jXKF136wUux4+Edlts0rGxIGGxhzujtedEmc4aeG16yrgq6HBt6znqq8LyduZ4qusTH3HbeU0WX+PzuJeta4dSAy8MAHk/Cj62/cirm93qMPeBSH/m3I5n6LV7z2muvAbD/hrrtqeJFPydym9YaAy5RSqaV4MKxCzh1yki96IDLRPR39aO7tRub/7gZIiSwdOlSDA8O49Rrp3B6++kJ/VOnTkFKiQpU4MyOM3HLURdOKUTHCetxRDO+u5Zi1d2rsOfxPWh9s9V8fe7tc1G1oGpsjzmjpedFm8wZem54yboq6HJs6DnrqcLzduZ6qugSH3PbeU8VXeLzu5esa0U61nCZDWBP5OF7pZTrxtjuKQA3AnhFSnllkm02IckaLpNsZ8vSpUuXbtkyUu6lo8O4qC4snFyBVq881dvj3O7nZN3196yPe3xk/RFUX16NQDCAnJyRO0suueESTL1yaoLffa4bW/5nC4b6h9DXZ9SEiXonXj2B6oXVCIVDCV4sfX19uHD0ArpPGasTVcypQHZhNkLh0Jh1V2qW1KD+2voJ47OCOaO350WbzBl6bnjJuMwZenZwO1+Scemlh8dzTPq0qYvHnNHbm8D1roaLw+wDcBzAVABvA5Aw4CKEyAewKvLwd+51zXlUksALTxUv+qnils0sw2D7IArr4t2DzxxE/eX1CAQDcc8feu4QhvqNVYViB2iGB4cx2DOIk5tOomlN07ht5uTkmIMtAHB2z8hSz7F3u8Qy59Y5kwnHEuaM3p4XbTJn6LnhJeu62R49vT1VeN7OXE8VXeJjbjvvqaJLfH73knWtCEy8ibtI45abhyIP3x+5+2Q0nwFQAGAYwE9d6lpKaG5uNmt5pLOnihf9nIw77dppcY8L6wpxvvm8OaIZS9+FkVWNulq7sP6e9XGDIx0dHaZ3bt8540kJjL57rHR6KS77s8sw6+ZZphe9O8YOzJnM9LxokzlDzw0vWdfN9ujp7anC83bmeqroEh9z23lPFV3i87uXrGtF2g24RPgegNMwCuP+RgixDACEENlCiE8D+E5kux9JKfeMloUQDwghpBDCcr6UECIghKiI/gAojXm5OPY1IYR15VKHePLJJ/Hkk0+mvaeKF/2cjFt3WV3cYyEEzgycwb59+xK23f3obvP3zf+5OeH1ffv2mV7XmS7zeTk0kn4rPrcCiz66CPlV+ahbXoescBb27duHc+fOJeyv/vL6hOcAY3UigDmTqZ4XbTJn6LnhJeu62R49vT1VeN7OXE8VXeJjbjvvqaJLfH73knWtSMcpRZBStgshbgHwWwDzALwmhOgAkAsgWhjjOQCfV2yiASM1W0bz61GPPwbgAcV2JuSaa67RwlPFi35OxrWqr9J0SZNl7ZSLJ4y6zd1nuxNeA4CmpiYAxnSiWM7uPYuq+Ubx2tFLQV/+55fj1IFTOHv6LEYTyrOu/ZKdbywdzZzJTM+LNpkz9NzwknXdbI+e3p4qPG9nrqeKLvExt533VNElPr97ybpWpF3R3FiEEDUAvgrgZgBTAPQCeBPATwD8r5RyeAzvAQB3AICUMuEKelSR3In4mJTyAZtdt8SqaK4u+HFN+c3/tRldp7vinhseHkYgkHjj1/JPLUfbgTYc+t2hMffX0dyBc3vj71hpXNMIIQTW3rM27nkpJX5yzU8S9lE2swxF9UUJzy+7a1lCfZl0x485Q1ILc4bYhTlD7MB8IXZhzhC7MGd8jVLR3HSdUgQAkFK2SCn/Qko5U0oZllKWSilXSil/NNZgS8S7U0oprAZbIq8fib4+iZ8HUhYg8RSr1YeEsP47eu2/Xxt3sAVAwmALAHSc6sCyP12W8HzXmS40rGxIeL6w1npQpaC2YNy2CSGEEEIIIYSkF2k94JIJ3HvvveZIaDp7qnjRz8m6lfMr4x5v2bIFW7duRe3S2oRtB7oHxtzPli1bzPXaR9O2vy1hEGWgewCv/ddreP2N13Hq1Kl4wWK8Z9575sUNBDFnMtPzok3mDD03vGRdN9ujp7enCs/bmeupokt8zG3nPVV0ic/vXrKuFWlZwyWTmDNHbZlftz1VvOjnZN1gKBj3uKKiAgCQU5xYJ7ntQBsq5lYkOFGvv73fso3qRdU4/sfjcXfTbP/pdtMbKhwCYsZcrO6wqZwbPzDEnMlMz4s2mTP03PCSdd1sj57enio8b2eup4ou8TG3nfdU0SU+v3vJulakdQ0Xv8EaLunH+nvWT7iNlBJHXzyKrHAWpqyYkvD6rFtm4dkvPWvpNq1tAgDULK7BnHfOGbPNgZ4B1F9ej4GuAZw/dN58fupVU3HJWy+ZOJA0xK85Q1IHc4bYhTlD7MB8IXZhzhC7MGd8jVINF97hQjKa0ktKcf7g+YTnp79lulmz5eiLRwEAgz2DCdvNvnU2mrc2o+6yOpzaHD89KCs88ufVsq0F/Z39qLq0yrIfoXAI826fB8AY4JFDEiIoxqwpQwghhBBCCCEkvWENF4954okn8MQTT6S9p4oX/bTjzn/PfPP3PXv2YM+ePQCAQ787hI5THbh48mLc9oO9I4MuTdc0oXZJLTY9twmHjh9C45rGuG2LpsSvNtR2oA17Httj2V5O0cg0JiEEAlmBMQdbmDOZ6XnRJnOGnhtesq6b7dHT21OF5+3M9VTRJT7mtvOeKrrE53cvWdcK3uHiMX19fVp4qnjRTztuVu7In8DQ0FDca+f2Ja46dHLTSTSuNgZWGlc1xnlCCITyQxjoMgrs5lXkjdt2bHujB2vGgzmTmZ4XbTJn6LnhJeu62R49vT1VeN7OXE8VXeJjbjvvqaJLfH73knWtYA0XF2ENl/Rky4+2oONkR8Lzp147hf7OxGK41QursfzTy1E5txLtR9qx7YFt5mudpztxdvdZhMvCqF5YPek+rPj8CoRLw0r9T1f8nDMkNTBniF2YM8QOzBdiF+YMsQtzxtco1XrglCKS8Sy+Y7Hl8xVzKyyfP739NCrnVqLjVEfcYAsA5FfmI1xqb7AFgO8GWwghhBBCCCEk0+GAi8ds2rQJmzZtSntPFS/6adcNZgchAgInT57EyZMnzeez87Mttw+Xh3H4+cPYcq9xp1KsJwIC1YurcfmfXz5hu1Fv2V3LJt1XgDmTqZ4XbTJn6LnhJeu62R49vT1VeN7OXE8VXeJjbjvvqaJLfH73knWt4ICLx2zbtg3btm1Le08VL/qp4s58+0y0tLSgpaUl7vn6y+sTtq2cV4mjLx01H4/2rvrLq5BXkYeln1g6bpstLS1or2tHYV2hrb4yZzLT86JN5gw9N7xkXTfbo6e3pwrP25nrqaJLfMxt5z1VdInP716yrhWs4eIiVjVcenp6AADhsL0pJW57qvMR3e6nqjvQPYD1310PAAiFQnGvHVl/xPxdBIVZLNd0BwbivLX3rDVf2/rjrbh4In6loyhNNzShenF12r/3fs8ZXTwv2mTO0HPDS8ZlztCzg9v5koxLLz08nmPSp01dPOaM3t4ErlINF65S5DEqSeCFp4oX/VRxQ3khlDWVWRbPjaVmUU2iO2qAJpYlH1+CvU/sRcu2+Dtnqi6tQtOVTbb7CTBnMtXzok3mDD03vGRdN9ujp7enCs/bmeupokt8zG3nPVV0ic/vXrKuFZxS5DHHjx/H8ePH095TxYt+qroV11XgwoULCc9XLagCABTUFCC7MLGuy4ULF0wvkBX/JyWEwOxbZ8c9l1eZh3m3z9Pmvfd7zujiedEmc4aeG16yrpvt0dPbU4Xn7cz1VNElPua2854qusTndy9Z1woOuHjM008/jaeffjrtPVW86Keq+8zvnsGp2lMJz7/1X9+KxjWNqJhTASES7yQ7cOAADhw4AAC48otXJrwuhMDiOxcjvyof+VX5mH3L7KT6qYunii7x6ZTbuniq6BIfvdS4brZHT29PFZ63M9dTRZf4mNvOe6roEp/fvWRdKzilyGOuv/56LTxVvOhnsm1OmzYt4TWrgZYo06dPB2AUyw3lWU8vKmkqwWV/dpmj/Ux3TxVd4tMxt9PdU0WX+OilxnWzPXp6e6rwvJ25niq6xMfcdt5TRZf4/O4l61rBorkuYlU0VxdUC0D5hZY3WrDnsT1jvl56SSkWfWSRiz1KfzI9Z4h9mDPELswZYgfmC7ELc4bYhTnja5SK5nJKkccMDAyYq9yks6eKF/1MRZs1i2pw5ZcSpwsBQFZeFhqva7R8TbU9P3iq6BKfX3I7nTxVdImPXmpcN9ujp7enCs/bmeupokt8zG3nPVV0ic/vXrKuFRxw8Zj7778f999/f9p7qnjRz1S1mVOYg1k3z4p7bv775mNXyS488utH0qaf6eKpokt8fsrtdPFU0SU+eqlx3WyPnt6eKjxvZ66nii7xMbed91TRJT6/e8m6VrCGi8csWLBAC08VL/qZyjarF1Wj60wXLhy7gMp5laiYU4EF5/V4D5kzentetMmcoeeGl6zrZnv09PZU4Xk7cz1VdImPue28p4ou8fndS9a1gjVcXIQ1XEgmwZwhdmHOELswZ4gdmC/ELswZYhfmjK9hDRdCCCGEEEIIIYSQdIADLh7z6KOP4tFHH017TxUv+qnLMfW7p4ou8TG3nfdU0SU+eqlx3WyPnt6eKjxvZ66nii7xMbed91TRJT6/e8m6VnDAhRBCCCGEEEIIIcRhWMPFRVjDhWQSzBliF+YMsQtzhtiB+ULswpwhdmHO+BrWcCGEEEIIIYQQQghJBzjg4jEbN27Exo0b095TxYt+6nJM/e6pokt8zG3nPVV0iY9ealw326Ont6cKz9uZ66miS3zMbec9VXSJz+9esq4VHHDxmJ07d2Lnzp1p76niRT91OaZ+91TRJT7mtvOeKrrERy81rpvt0dPbU4Xn7cz1VNElPua2854qusTndy9Z1wrWcHERqxouAwMDAIBQKGRrX257qvMR3e6nF23Ss0aXnNHF86JN5gw9N7xkXOYMPTu4nS/JuPTSw+M5Jn3a1MVjzujtTeAq1XDJUpGIc6gkgReeKl70U5dj6ndPFV3iY24776miS3z0UuO62R49vT1VeN7OXE8VXeJjbjvvqaJLfH73knWt4JQijzl8+DAOHz6c9p4qXvRTl2Pqd08VXeJjbjvvqaJLfPRS47rZHj29PVV43s5cTxVd4mNuO++pokt8fveSda3ggIvHPPfcc3juuefS3lPFi37qckz97qmiS3zMbec9VXSJj15qXDfbo6e3pwrP25nrqaJLfMxt5z1VdInP716yrhWcUuQxN954oxaeKl70U5dj6ndPFV3iY24776miS3z0UuO62R49vT1VeN7OXE8VXeJjbjvvqaJLfH73knWtYNFcF7EqmqsLqgWgSObCnCF2Yc4QuzBniB2YL8QuzBliF+aMr1EqmsspRR7T09ODnp6etPdU8aKfuhxTv3uq6BIfc9t5TxVd4qOXGtfN9ujp7anC83bmeqroEh9z23lPFV3i87uXrGsFB1w85qGHHsJDDz2U9p4qXvRTl2Pqd08VXeJjbjvvqaJLfPRS47rZHj29PVV43s5cTxVd4mNuO++pokt8fveSda1gDRePWbx4sRaeKl70U5dj6ndPFV3iY24776miS3z0UuO62R49vT1VeN7OXE8VXeJjbjvvqaJLfH73knWtYA0XF2ENF5JJMGeIXZgzxC7MGWIH5guxC3OG2IU542tYw4UQQgghhBBCCCEkHeCAi8c88sgjeOSRR9LeU8WLfupyTP3uqaJLfMxt5z1VdImPXmpcN9ujp7enCs/bmeupokt8zG3nPVV0ic/vXrKuFazh4jE5OTlaeKp40U9djqnfPVV0iY+57bynii7x0UuN62Z79PT2VOF5O3M9VXSJj7ntvKeKLvH53UvWtYI1XFyENVxIJsGcIXZhzhC7MGeIHZgvxC7MGWIX5oyvYQ0XQgghhBBCCCGEkHSAAy4e89JLL+Gll15Ke08VL/qpyzH1u6eKLvExt533VNElPnqpcd1sj57enio8b2eup4ou8TG3nfdU0SU+v3vJulZwwMVj9uzZgz179qS9p4oX/dTlmPrdU0WX+Jjbznuq6BIfvdS4brZHT29PFZ63M9dTRZf4mNvOe6roEp/fvWRdK1jDxUVYw4VkEswZYhfmDLELc4bYgflC7MKcIXZhzvga1nAhhBBCCCGEEEIISQc44OIx+/fvx/79+9PeU8WLfupyTP3uqaJLfMxt5z1VdImPXmpcN9ujp7enCs/bmeupokt8zG3nPVV0ic/vXrKuFVmO7SkFCCGqAXwFwM0AGgD0AHgTwAMA7pOK86GEEDMAvAPANQAWAqgBMAjgJIANAH4opXRl3s8LL7wAAJg5c2Zae6p40U9djqnfPVV0iY+57bynii7x0UuNq4Iux4aes54qPG9nrqeKLvExt533VNElPr97ybpWpG0NFyHEMgDPACiPPNUJIBcjg0TPAHiHlLLf5n6vBvDyqKc7AOQAyI48HgbwXSnltxS6Pl7bCTVcmpubAQC1tbW29uW2pzof0e1+etEmPWt0yRldPC/aZM7Qc8NLxmXO0LOD2/mSjEsvPTyeY9KnTV085oze3gSuUg2XtBxwEUIUA9gD486T3QA+IqXcIoTIBvAJAP8PxuDIf0kp/8zmvtcC+B2AJwH8FMALUspzQogggOUA/hXAVZHN75JS/ij5iMy2WTSXZAzMGWIX5gyxC3OG2IH5QuzCnCF2Yc74Gl8Vzf0yjMGWbgA3Raf3SCn7pZQ/BBC98+QuIcRsm/s+AGCulPI2KeUvpZTnIvseklK+CuBaGNOWAOCvkg1kIjo6OtDR0ZH2nipe9FOXY+p3TxVd4mNuO++pokt89FLjutkePb09VXjezlxPFV3iY24776miS3x+95J1rUjXAZePRP79uZTyiMXrP4AxxSgI4EN2diylPCGlHLMKjpSyD8CDkYfThRCldvZvl5/97Gf42c9+lvaeKl70U5dj6ndPFV3iY24776miS3z0UuO62R49vT1VeN7OXE8VXeJjbjvvqaJLfH73knWtSLuiuZE7VhoiD39rtY2UsksIsQHAjQCux8gdL07RHfN70OF9x7F8+XItPFW86Kcux9Tvniq6xMfcdt5TRZf46KXGdbM9enp7qvC8nbmeKrrEx9x23lNFl/j87iXrWpF2NVyEELcD+GXk4Twp5e4xtvsnGFOPLkopix3uwy8B3A6gGUC96mpIFvtlDReSMTBniF2YM8QuzBliB+YLsQtzhtiFOeNrfFPDpS7m95PjbBd9rUgIUeBU40KIFQBuizz8sVODLYQQQgghhBBCCMkc0vEOl68D+G7kYUhKOTjGdp8EcG/kYZ2UstmBtisAbAbQBGA/gKVSys5JupO5bWVOQ0ND3t13320+0dbWBgAoKyuz1Ve3vdbWVgBAZWWlK+2pel60Sc8aXXJGF8+LNpkz9NzwknGZM/Ts4Ha+JOPSSw+P55j0aVMXjzmjtzeee9dddynd4eJIDRchxJ0A7k9iF9dIKdc70RdVInfJPAljsOUigPdMdrAlGYJBtRIxbnuqeNFPXY6p3z1VdImPue28p4ou8dFLjetme/T09lTheTtzPVV0iY+57bynii7x+d1L1rUi7YrmAohdgykPxuCHFXljOLYRQuQD+A2AKyL7ulFK+YadfUgpl02inS0VFRVLdZzTx/mIxC7MGWIX5gyxC3OG2IH5QuzCnCF2Yc6Q0Tg14PIwgMeT8GPvJDkV83s9xh5wqY/825HMnSgxgy2rI/24SUq5UXV/hBBCCCGEEEIIIY4MuEgp+wH0O7EvADtjfl8AwHKVoshrAPCmakMxgy1rMDLY8rLq/lR4/vnnAQDXXnttWnuqeNFPXY6p3z1VdImPue28p4ou8dFLjauCLseGnrOeKjxvZ66nii7xMbed91TRJT6/e8m6VqTjlKJ9AI4DmArgbQDWjd4gMlCyKvLwdyqNRPbxFOLvbNmgsq9kOHLkiBaeKl70U5dj6ndPFV3iY24776miS3z0UuO62R49vT1VeN7OXE8VXeJjbjvvqaJLfH73knWtSLtVigBACPFdAF8H0A1gvpTyyKjXvwLgHwEMR17fY3P/ngy2CCG2LF26dOmWLZNZ0Ci94HxEYhfmDLELc4bYhTlD7MB8IXZhzhC7MGd8jdIqRQGne+EQ3wNwGkZh3N8IIZYBgBAiWwjxaQDfiWz3I6vBFiHEA0IIKYRIGE0SQuQB+DVGBltu9OLOFkIIIYQQQgghhPiXdJxSBClluxDiFgC/BTAPwGtCiA4AuQBCkc2eA/B5hd2/G8DayO9ZAH4pxLiDVZdJKY8rtDMpdu82StTMnTs3rT1VvOinLsfU754qusTH3HbeU0WX+OilxlVBl2NDz1lPFZ63M9dTRZf4mNvOe6roEp/fvWRdK9JywAUApJSbhRDzAXwVwM0ApgDoglEk9ycA/ldKOayw69i7enIjP+OR0kXYN2wwbq6x+4a67aniRT91OaZ+91TRJT7mtvOeKrrERy81rgq6HBt6znqq8LyduZ4qusTH3HbeU0WX+PzuJetakZY1XPyKVQ2X1tZWAEBlZaWtfbntqc5HdLufXrRJzxpdckYXz4s2mTP03PCScZkz9Ozgdr4k49JLD4/nmPRpUxePOaO3N4GrVMMlbe9wyRRUksALTxUv+qnLMfW7p4ou8TG3nfdU0SU+eqlx3WyPnt6eKjxvZ66nii7xMbed91TRJT6/e8m6VqRr0dyM4fz58zh//nzae6p40U9djqnfPVV0iY+57bynii7x0UuN62Z79PT2VOF5O3M9VXSJj7ntvKeKLvH53UvWtYIDLh6zbt06rFu3Lu09Vbzopy7H1O+eKrrEx9x23lNFl/jopcZ1sz16enuq8LyduZ4qusTH3HbeU0WX+PzuJetawSlFHnPFFVdo4aniRT91OaZ+91TRJT7mtvOeKrrERy81rpvt0dPbU4Xn7cz1VNElPua2854qusTndy9Z1woWzXURq6K5uqBaAIpkLswZYhfmDLELc4bYgflC7MKcIXZhzvgapaK5nFJECCGEEEIIIYQQ4jAccPGYBx98EA8++GDae6p40U9djqnfPVV0iY+57bynii7x0UuN62Z79PT2VOF5O3M9VXSJj7ntvKeKLvH53UvWtYI1XDympqZGC08VL/qpyzH1u6eKLvExt533VNElPnqpcd1sj57enio8b2eup4ou8TG3nfdU0SU+v3vJulawhouLsIYLySSYM8QuzBliF+YMsQPzhdiFOUPswpzxNazhQgghhBBCCCGEEJIOcMDFY5599lk8++yzae+p4kU/dTmmfvdU0SU+5rbzniq6xEcvNa6b7dHT21OF5+3M9VTRJT7mtvOeKrrE53cvWdcK1nDxmJaWFi08Vbzopy7H1O+eKrrEx9x23lNFl/jopcZ1sz16enuq8LyduZ4qusTH3HbeU0WX+PzuJetawRouLsIaLiSTYM4QuzBniF2YM8QOzBdiF+YMsQtzxtewhgshhBBCCCGEEEJIOsABF4/Zvn07tm/fnvaeKl70U5dj6ndPFV3iY24776miS3z0UuO62R49vT1VeN7OXE8VXeJjbjvvqaJLfH73knWtYA0Xj3nllVcAAAsXLkxrTxUv+qnLMfW7p4ou8TG3nfdU0SU+eqlxVdDl2NBz1lOF5+3M9VTRJT7mtvOeKrrE53cvWdcK1nBxEasaLufPnwcAlJaW2tqX257qfES3++lFm/Ss0SVndPG8aJM5Q88NLxmXOUPPDm7nSzIuvfTweI5JnzZ1ckHgtAAARAVJREFU8ZgzensTuEo1XHiHi8eoJIEXnipe9FOXY+p3TxVd4mNuO++pokt89FLjutkePb09VXjezlxPFV3iY24776miS3x+95J1rWANF49pbW1Fa2tr2nuqeNFPXY6p3z1VdImPue28p4ou8dFLjetme/T09lTheTtzPVV0iY+57bynii7x+d1L1rWCAy4e89hjj+Gxxx5Le08VL/qpyzH1u6eKLvExt533VNElPnqpcd1sj57enio8b2eup4ou8TG3nfdU0SU+v3vJulZwSpHHrFq1SgtPFS/6qcsx9bunii7xMbed91TRJT56qXHdbI+e3p4qPG9nrqeKLvExt533VNElPr97ybpWsGiui1gVzdUF1QJQJHNhzhC7MGeIXZgzxA7MF2IX5gyxC3PG1ygVzeWUIkIIIYQQQgghhBCH4YCLx9x3332477770t5TxYt+6nJM/e6pokt8zG3nPVV0iY9ealw326Ont6cKz9uZ66miS3zMbec9VXSJz+9esq4VrOHiMU1NTVp4qnjRT12Oqd89VXSJj7ntvKeKLvHRS43rZnv09PZU4Xk7cz1VdImPue28p4ou8fndS9a1gjVcXIQ1XEgmwZwhdmHOELswZ4gdmC/ELswZYhfmjK9hDRdCCCGEEEIIIYSQdIADLh7z1FNP4amnnkp7TxUv+qnLMfW7p4ou8TG3nfdU0SU+eqlx3WyPnt6eKjxvZ66nii7xMbed91TRJT6/e8m6VrCGi8e0t7dr4aniRT91OaZ+91TRJT7mtvOeKrrERy81rpvt0dPbU4Xn7cz1VNElPua2854qusTndy9Z1wrWcHER1nAhmQRzhtiFOUPswpwhdmC+ELswZ4hdmDO+hjVcCCGEEEIIIYQQQtIBDrh4zNatW7F169a091Txop+6HFO/e6roEh9z23lPFV3io5ca18326OntqcLzduZ6qugSH3PbeU8VXeLzu5esawVruHjMa6+9BgBYunRpWnuqeNFPXY6p3z1VdImPue28p4ou8dFLjauCLseGnrOeKjxvZ66nii7xMbed91TRJT6/e8m6VrCGi4tY1XDp6OgAABQWFtral9ue6nxEt/vpRZv0rNElZ3TxvGiTOUPPDS8ZlzlDzw5u50syLr308HiOSZ82dfGYM3p7E7hKNVx4h4vHqCSBF54qXvRTl2Pqd08VXeJjbjvvqaJLfPRS47rZHj29PVV43s5cTxVd4mNuO++pokt8fveSda1gDRePaW5uRnNzc9p7qnjRT12Oqd89VXSJj7ntvKeKLvHRS43rZnv09PZU4Xk7cz1VdImPue28p4ou8fndS9a1ggMuHvPkk0/iySefTHtPFS/6qcsx9bunii7xMbed91TRJT56qXHdbI+e3p4qPG9nrqeKLvExt533VNElPr97ybpWcEqRx1xzzTVaeKp40U9djqnfPVV0iY+57bynii7x0UuN62Z79PT2VOF5O3M9VXSJj7ntvKeKLvH53UvWtYJFc13EqmiuLqgWgCKZC3OG2IU5Q+zCnCF2YL4QuzBniF2YM75GqWgupxQRQgghhBBCCCGEOAwHXDzm3nvvNUdC09lTxYt+6nJM/e6pokt8zG3nPVV0iY9ealw326Ont6cKz9uZ66miS3zMbec9VXSJz+9esq4VrOHiMXPmzNHCU8WLfupyTP3uqaJLfMxt5z1VdImPXmpcN9ujp7enCs/bmeupokt8zG3nPVV0ic/vXrKuFazh4iKs4UIyCeYMsQtzhtiFOUPswHwhdmHOELswZ3wNa7gQQgghhBBCCCGEpAMccPGYJ554Ak888UTae6p40U9djqnfPVV0iY+57bynii7x0UuN62Z79PT2VOF5O3M9VXSJj7ntvKeKLvH53UvWtYI1XDymr69PC08VL/qpyzH1u6eKLvExt533VNElPnqpcd1sj57enio8b2eup4ou8TG3nfdU0SU+v3vJulawhouLsIYLySSYM8QuzBliF+YMsQPzhdiFOUPswpzxNazhQgghhBBCCCGEEJIOpPWAixCiWgjxL0KIvUKIHiFEmxBigxDi40IIpRGmyH5vEUL8sxDiBSHEQSHERSFEvxDilBDiaSHEx4QQrky32rRpEzZt2pT2nipe9FOXY+p3TxVd4mNuO++pokt89FLjutkePb09VXjezlxPFV3iY24776miS3x+95J1rUjbARchxDIAbwL4IoBZAAYBFAJYCeDHAJ4WQmQr7v7vAXwJwFoA0yPPDQGoBfA2APcBeFUIUaPa/8mybds2bNu2Le09Vbzopy7H1O+eKrrEx9x23lNFl/jopcZ1sz16enuq8LyduZ4qusTH3HbeU0WX+PzuJetakZY1XIQQxQD2AKgBsBvAR6SUWyIDLJ8A8P8AZAP4Lynlnyns/x4AJwH8AcBhKWVP5Pm6yP7/GsZg1LNSyhuSj8hsN6GGS09PDwAgHA7b2pfbnup8RLf76UWb9KzRJWd08bxokzlDzw0vGZc5Q88ObudLMi699PB4jkmfNnXxmDN6exO4SjNs0nWVoi/DGGzpBnCTlPIIAEgp+wH8UAhRCOAfANwlhPg3KeVeOzuXUt4zxvOnAPyNECIM4K8AvFUIMUVKeUI5kglQSQIvPFW86Kcux9Tvniq6xMfcdt5TRZf46KXGdbM9enp7qvC8nbmeKrrEx9x23lNFl/j87iXrWpGuU4o+Evn359HBllH8AEAngCCAD6Wg/T/G/F6fgv2bHD9+HMePH097TxUv+qnLMfW7p4ou8TG3nfdU0SU+eqlx3WyPnt6eKjxvZ66nii7xMbed91TRJT6/e8m6VqTdgIsQYjaAhsjD31ptI6XsArAh8vD6FHRjVbQpAAdTsH+Tp59+Gk8//XTae6p40U9djqnfPVV0iY+57bynii7x0UuN62Z79PT2VOF5O3M9VXSJj7ntvKeKLvH53UvWtSIdpxQtiPl95zjb7QRwI4B5TjQqhCgA0ATgozAK6gLAg1LKs07sfyyuv15tvMhtTxUv+qnLMfW7p4ou8TG3nfdU0SU+eqlx3WyPnt6eKjxvZ66nii7xMbed91TRJT6/e8m6VqRd0VwhxGcB/HvkYbGU8uIY230ewPcjDwullJ0KbV2B+OlDUQZhrFT0OSll3yT3tWXirTCnoaEh7+6777bRy/SgtbUVAFBZWelxT4guMGeIXZgzxC7MGWIH5guxC3OG2IU541/uuusupaK5aTelCMbSz1G6x9ku9rXCMbcan34ApyM/AzHP/wjA3092sCUZpJRQGfRy21PFi37qckz97qmiS3zMbec9VXSJj15qXDfbo6e3pwrP25nrqaJLfMxt5z1VdInP716yrhWOTCkSQtwJ4P4kdnGNlHK9E32xg5RyK4zVkCCECACYDuAvAHwKwEeFEB+RUj42yX0tm2gbIcSWioqKpbHLhKkuHUYvfdqkR88Nz4s26dFzw/OiTXr03PC8aJMePTc8L9qkR88NL1nXinSs4dIR83seAMspRZHXrBwlpJTDAA4A+IwQ4iCAfwHwkBBippSyOdn9j8WCBQsm3igNPFW86Kcux9Tvniq6xMfcdt5TRZf46KXGdbM9enp7qvC8nbmeKrrEx9x23lNFl/j87iXrWuFIDRchRDbiB0Ds0imlHIzs63YAv4w8P09KuXuMNv8JwJcBdEgpi5Jo22rfuQDaAeQA+JKU8l8d2u+WpUuXLt2yZTLlXtILp0f6iP9hzhC7MGeIXZgzxA7MF2IX5gyxC3PG1yjVcHHkDhcpZT+MeihOELsy0QIAlgMuGFnN6E2H2jWRUvYKIdoA1AKY4fT+CSGEEEIIIYQQ4m/SsWjuPgDHI7+/zWoDIUQ+gFWRh79zugNCiEIA0dLSY01pcoRHH30Ujz76aNp7qnjRT12Oqd89VXSJj7ntvKeKLvHRS43rZnv09PZU4Xk7cz1VdImPue28p4ou8fndS9a1Iu0GXKQxx+mhyMP3CyGaLDb7DIACAMMAfmpn/0KIydzV82WM3P3zop39E0IIIYQQQgghhDhSw8VphBAlAPYAqAawC8BHpZRbIrViPg7g+wCyAfyPlPJTFv4DAO4AACmlGPXaHQDeC+AnADZEC+JGVilaAODPAXwysvkfAKySDh0k1nAhmQRzhtiFOUPswpwhdmC+ELswZ4hdmDO+xrsaLk4jpWwXQtwC4LcA5gF4TQjRASAXQCiy2XMAPq+wewHgpsgPhBDdALoBFMEYxInyPID3ODXYQgghhBBCCCGEkMwh7aYURZFSbgYwH8bdLAdgDLR0wbjr5C4Ab5NS9ins+jcR/2EYBXe7AZTCKPq7G8CDAG6SUl4npWxLMowJ2bhxIzZu3Jj2nipe9FOXY+p3TxVd4mNuO++pokt89FLjutkePb09VXjezlxPFV3iY24776miS3x+95J1rUjbARcAkFK2SCn/Qko5U0oZllKWSilXSil/JKUcHse7U0opRk8nirzWGvE/JKVcIKWslFJmSSkLpZTzpJR3SCmfTm1kI+zcuRM7d+6ceEOPPVW86Kcux9Tvniq6xMfcdt5TRZf46KXGdbM9enp7qvC8nbmeKrrEx9x23lNFl/j87iXrWpGWNVz8ilUNl4GBAQBAKBQaS7PEbU91PqLb/fSiTXrW6JIzunhetMmcoeeGl4zLnKFnB7fzJRmXXnp4PMekT5u6eMwZvb0JXP/UcMkkVJLAC08VL/qpyzH1u6eKLvExt533VNElPnqpcd1sj57enio8b2eup4ou8TG3nfdU0SU+v3vJulak9ZSiTODw4cM4fPhw2nuqeNFPXY6p3z1VdImPue28p4ou8dFLjetme/T09lTheTtzPVV0iY+57bynii7x+d1L1rWCAy4e89xzz+G5555Le08VL/qpyzH1u6eKLvExt533VNElPnqpcd1sj57enio8b2eup4ou8TG3nfdU0SU+v3vJulZwSpHH3HjjjVp4qnjRT12Oqd89VXSJj7ntvKeKLvHRS43rZnv09PZU4Xk7cz1VdImPue28p4ou8fndS9a1gkVzXcSqaK4uqBaAIpkLc4bYhTlD7MKcIXZgvhC7MGeIXZgzvkapaC6nFHlMT08Penp60t5TxYt+6nJM/e6pokt8zG3nPVV0iY9ealw326Ont6cKz9uZ66miS3zMbec9VXSJz+9esq4VHHDxmIceeggPPfRQ2nuqeNFPXY6p3z1VdImPue28p4ou8dFLjetme/T09lTheTtzPVV0iY+57bynii7x+d1L1rWCNVw8ZvHixVp4qnjRT12Oqd89VXSJj7ntvKeKLvHRS43rZnv09PZU4Xk7cz1VdImPue28p4ou8fndS9a1gjVcXIQ1XEgmwZwhdmHOELswZ4gdmC/ELswZYhfmjK9hDRdCCCGEEEIIIYSQdIADLh7zyCOP4JFHHkl7TxUv+qnLMfW7p4ou8TG3nfdU0SU+eqlx3WyPnt6eKjxvZ66nii7xMbed91TRJT6/e8m6VrCGi8fk5ORo4aniRT91OaZ+91TRJT7mtvOeKrrERy81rpvt0dPbU4Xn7cz1VNElPua2854qusTndy9Z1wrWcHER1nAhmQRzhtiFOUPswpwhdmC+ELswZ4hdmDO+hjVcCCGEEEIIIYQQQtIBDrh4zEsvvYSXXnop7T1VvOinLsfU754qusTH3HbeU0WX+OilxnWzPXp6e6rwvJ25niq6xMfcdt5TRZf4/O4l61rBAReP2bNnD/bs2ZP2nipe9FOXY+p3TxVd4mNuO++pokt89FLjutkePb09VXjezlxPFV3iY24776miS3x+95J1rWANFxdhDReSSTBniF2YM8QuzBliB+YLsQtzhtiFOeNrWMOFEEIIIYQQQgghJB3ggIvH7N+/H/v37097TxUv+qnLMfW7p4ou8TG3nfdU0SU+eqlx3WyPnt6eKjxvZ66nii7xMbed91TRJT6/e8m6VmQ5tieixAsvvAAAmDlzZlp7qnjRT12Oqd89VXSJj7ntvKeKLvHRS42rgi7Hhp6znio8b2eup4ou8TG3nfdU0SU+v3vJulawhouLWNVwaW5uBgDU1tba2pfbnup8RLf76UWb9KzRJWd08bxokzlDzw0vGZc5Q88ObudLMi699PB4jkmfNnXxmDN6exO4SjVcOODiIiyaSzIJ5gyxC3OG2IU5Q+zAfCF2Yc4QuzBnfA2L5upIR0cHOjo60t5TxYt+6nJM/e6pokt8zG3nPVV0iY9ealw326Ont6cKz9uZ66miS3zMbec9VXSJz+9esq4VHHDxmJ/97Gf42c9+lvaeKl70U5dj6ndPFV3iY24776miS3z0UuO62R49vT1VeN7OXE8VXeJjbjvvqaJLfH73knWtYNFcj1m+fLkWnipe9FOXY+p3TxVd4mNuO++pokt89FLjutkePb09VXjezlxPFV3iY24776miS3x+95J1rWANFxdhDReSSTBniF2YM8QuzBliB+YLsQtzhtiFOeNrWMOFEEIIIYQQQgghJB3ggIvHPPzww3j44YfT3lPFi37qckz97qmiS3zMbec9VXSJj15qXDfbo6e3pwrP25nrqaJLfMxt5z1VdInP716yrhWs4eIxJSUlWniqeNFPXY6p3z1VdImPue28p4ou8dFLjetme/T09lTheTtzPVV0iY+57bynii7x+d1L1rWCNVxchDVcSCbBnCF2Yc4QuzBniB2YL8QuzBliF+aMr2ENF0IIIYQQQgghhJB0gAMuHvP888/j+eefT3tPFS/6qcsx9bunii7xMbed91TRJT56qXHdbI+e3p4qPG9nrqeKLvExt533VNElPr97ybpWsIaLxxw5ckQLTxUv+qnLMfW7p4ou8TG3nfdU0SU+eqlx3WyPnt6eKjxvZ66nii7xMbed91TRJT6/e8m6VrCGi4uwhgvJJJgzxC7MGWIX5gyxA/OF2IU5Q+zCnPE1rOFCCCGEEEIIIYQQkg5wwMVjdu/ejd27d6e9p4oX/dTlmPrdU0WX+Jjbznuq6BIfvdS4brZHT29PFZ63M9dTRZf4mNvOe6roEp/fvWRdK1jDxWM2bNgAAJg7d25ae6p40U9djqnfPVV0iY+57bynii7x0UuNq4Iux4aes54qPG9nrqeKLvExt533VNElPr97ybpWsIaLi1jVcGltbQUAVFZW2tqX257qfES3++lFm/Ss0SVndPG8aJM5Q88NLxmXOUPPDm7nSzIuvfTweI5JnzZ18ZgzensTuEo1XHiHi8eoJIEXnipe9FOXY+p3TxVd4mNuO++pokt89FLjutkePb09VXjezlxPFV3iY24776miS3x+95J1rWANF485f/48zp8/n/aeKl70U5dj6ndPFV3iY24776miS3z0UuO62R49vT1VeN7OXE8VXeJjbjvvqaJLfH73knWt4ICLx6xbtw7r1q1Le08VL/qpyzH1u6eKLvExt533VNElPnqpcd1sj57enio8b2eup4ou8TG3nfdU0SU+v3vJulZwSpHHXHHFFVp4qnjRT12Oqd89VXSJj7ntvKeKLvHRS43rZnv09PZU4Xk7cz1VdImPue28p4ou8fndS9a1gkVzXcSqaK4uqBaAIpkLc4bYhTlD7MKcIXZgvhC7MGeIXZgzvkapaC6nFBFCCCGEEEIIIYQ4DAdcPObBBx/Egw8+mPaeKl70U5dj6ndPFV3iY24776miS3z0UuO62R49vT1VeN7OXE8VXeJjbjvvqaJLfH73knWtYA0Xj6mpqdHCU8WLfupyTP3uqaJLfMxt5z1VdImPXmpcN9ujp7enCs/bmeupokt8zG3nPVV0ic/vXrKuFWldw0UIUQ3gKwBuBtAAoAfAmwAeAHCfdLDzQogQgNcALIw89RMp5Z1O7T/SBmu4kIyBOUPswpwhdmHOEDswX4hdmDPELswZX6NUwyVt73ARQiwD8AyA8shTnQAKAayM/LxHCPEOKWW/Q01+DSODLYQQQgghhBBCCCHKpGUNFyFEMYBfwxhs2Q1guZSyEEA+gM8A6AdwA4DvO9TePAB3AzgM4LQT+5wszz77LJ599tm091Txop+6HFO/e6roEh9z23lPFV3io5ca18326OntqcLzduZ6qugSH3PbeU8VXeLzu5esa0W63uHyZQA1ALoB3CSlPAIAkbtZfiiEKATwDwDuEkL8m5Ryr2pDQogAgP8FkA3g0wD+J8m+26KlpUULTxUv+qnLMfW7p4ou8TG3nfdU0SU+eqlx3WyPnt6eKjxvZ66nii7xMbed91TRJT6/e8m6VqRlDRchxFEYNVvuk1J+3OL1fAAtAAoAfEdK+a0k2voCgP8H4KdSyg8LIY4AaARruMTB+YjELswZYhfmDLELc4bYgflC7MKcIXZhzvgapRouaTelSAgxG8ZgCwD81mobKWUXgA2Rh9cn0dY0AH8LoA3AX6juhxBCCCGEEEIIISSWtBtwAbAg5ved42wXfW1eEm3dC6MuzF9KKVuT2I8y27dvx/bt29PeU8WLfupyTP3uqaJLfMxt5z1VdImPXmpcN9ujp7enCs/bmeupokt8zG3nPVV0ic/vXrKuFelYw6Uu5veT42wXfa1ICFEgpey004gQ4uMA3gJgvZTyfpt9dIxXXnkFALBwob0Fktz2VPGin7ocU797qugSH3PbeU8VXeKjlxpXBV2ODT1nPVV43s5cTxVd4mNuO++pokt8fveSda1IuxouQoivA/hu5GFISjk4xnafhHGHCgDUSSmbbbRRC2AXgDCAhVLKfTGvHYFCDRchxGQKs8xpaGjIu/vuu80nBgeN8LKy7I19ue21tho3AFVWVrrSnqrnRZv0rNElZ3TxvGiTOUPPDS8ZlzlDzw5u50syLr308HiOSZ82dfGYM3p747l33XWXUg0XR+5wEULcCSCZu0SukVKud6Ivk+Q/AZQA+GbsYIsXqCSBF54qXvRTl2Pqd08VXeJjbjvvqaJLfPRS47rZHj29PVV43s5cTxVd4mNuO++pokt8fveSdS335+jenKEj5vc8ABfH2C5vDGdchBDvAXAbjDtc/tF278ZASrlsEm1vqaioWBpbtVp1FNRtT7Xittv99KJNetbokjO6eF60yZyh54aXjMucoWcHt/MlGZdeeng8x6RPm7p4zBm9vWRdK5wqmvswgNIkfl6O2depmN/rx2kz+lrHZOu3CCGyAfxH5OEXAeQIIQpifzCy3FNWzPMpKy782GOP4bHHHkt7TxUv+qnLMfW7p4ou8TG3nfdU0SU+eqlx3WyPnt6eKjxvZ66nii7xMbed91TRJT6/e8m6Vjhyh4uUsh9AvxP7QvzKRAsA7B5ju+hqRm/a2HcegOrI75ZLTsfwocgPACwBsM1GO5Nm1apVWniqeNFPXY6p3z1VdImPue28p4ou8dFLjetme/T09lTheTtzPVV0iY+57bynii7x+d1L1rUiHYvmCgBHAUwFcJ+U8uMW2+QDaAFQAOBvpZTfnOS+SwCcV+jWEinlNgVvdPtbli5dunTLlsnU100vVG+PI5kLc4bYhTlD7MKcIXZgvhC7MGeIXZgzvkapaG7KpsqoIo0RoIciD98vhGiy2OwzMAZbhgH81Ma+26WUYrwfGIM9gLFKUfT5beoREUIIIYQQQgghJNNIuwGXCN8DcBrGFKDfCCGWAUYNFiHEpwF8J7Ldj6SUe0bLQogHhBBSCJFet+9YcN999+G+++5Le08VL/qpyzH1u6eKLvExt533VNElPnqpcd1sj57enio8b2eup4ou8TG3nfdU0SU+v3vJulak4ypFkFK2CyFugVFnZR6A14QQHQByAYQimz0H4PMeddExmpqatPBU8aKfuhxTv3uq6BIfc9t5TxVd4qOXGtfN9ujp7anC83bmeqroEh9z23lPFV3i87uXrGtF2tVwiUUIUQPgqwBuBjAFQC+MIrk/AfC/UsrhMbwHANwBAJFpQnbaPAKgEcaUojsVuz7WvlnDhWQMzBliF+YMsQtzhtiB+ULswpwhdmHO+BqlGi5peYdLFCllC4C/iPzY8e4EcKdim00qHiGEEEIIIYQQQkiUdK3hkjE89dRTeOqpp9LeU8WLfupyTP3uqaJLfMxt5z1VdImPXmpcN9ujp7enCs/bmeupokt8zG3nPVV0ic/vXrKuFWl9h0sm0N7eroWnihf91OWY+t1TRZf4mNvOe6roEh+91LhutkdPb08Vnrcz11NFl/iY2857qugSn9+9ZF0r0rqGi99gDReSSTBniF2YM8QuzBliB+YLsQtzhtiFOeNrlGq4cEoRIYQQQgghhBBCiMNwwMVjtm7diq1bt6a9p4oX/dTlmPrdU0WX+Jjbznuq6BIfvdS4brZHT29PFZ63M9dTRZf4mNvOe6roEp/fvWRdK1jDxWNee+01AMDSpUvT2lPFi37qckz97qmiS3zMbec9VXSJj15qXBV0OTb0nPVU4Xk7cz1VdImPue28p4ou8fndS9a1gjVcXMSqhktHRwcAoLCw0Na+3PZU5yO63U8v2qRnjS45o4vnRZvMGXpueMm4zBl6dnA7X5Jx6aWHx3NM+rSpi8ec0dubwFWq4cI7XDxGJQm88FTxop+6HFO/e6roEh9z23lPFV3io5ca18326OntqcLzduZ6qugSH3PbeU8VXeLzu5esawVruHhMc3Mzmpub095TxYt+6nJM/e6pokt8zG3nPVV0iY9ealw326Ont6cKz9uZ66miS3zMbec9VXSJz+9esq4VHHDxmCeffBJPPvlk2nuqeNFPXY6p3z1VdImPue28p4ou8dFLjetme/T09lTheTtzPVV0iY+57bynii7x+d1L1rWCU4o85pprrtHCU8WLfupyTP3uqaJLfMxt5z1VdImPXmpcN9ujp7enCs/bmeupokt8zG3nPVV0ic/vXrKuFSya6yJWRXN1QbUAFMlcmDPELswZYhfmDLED84XYhTlD7MKc8TVKRXM5pYgQQgghhBBCCCHEYTjg4jH33nuvORKazp4qXvRTl2Pqd08VXeJjbjvvqaJLfPRS47rZHj29PVV43s5cTxVd4mNuO++pokt8fveSda1gDRePmTNnjhaeKl70U5dj6ndPFV3iY24776miS3z0UuO62R49vT1VeN7OXE8VXeJjbjvvqaJLfH73knWtYA0XF2ENF5JJMGeIXZgzxC7MGWIH5guxC3OG2IU542tYw4UQQgghhBBCCCEkHeCAi8c88cQTeOKJJ9LeU8WLfupyTP3uqaJLfMxt5z1VdImPXmpcN9ujp7enCs/bmeupokt8zG3nPVV0ic/vXrKuFazh4jF9fX1aeKp40U9djqnfPVV0iY+57bynii7x0UuN62Z79PT2VOF5O3M9VXSJj7ntvKeKLvH53UvWtYI1XFyENVxIJsGcIXZhzhC7MGeIHZgvxC7MGWIX5oyvYQ0XQgghhBBCCCGEkHSAAy4es2nTJmzatCntPVW86Kcux9Tvniq6xMfcdt5TRZf46KXGdbM9enp7qvC8nbmeKrrEx9x23lNFl/j87iXrWsEBF4/Ztm0btm3blvaeKl70U5dj6ndPFV3iY24776miS3z0UuO62R49vT1VeN7OXE8VXeJjbjvvqaJLfH73knWtYA0XF7Gq4dLT0wMACIfDtvbltqc6H9HtfnrRJj1rdMkZXTwv2mTO0HPDS8ZlztCzg9v5koxLLz08nmPSp01dPOaM3t4ErlINF65S5DEqSeCFp4oX/dTlmPrdU0WX+Jjbznuq6BIfvdS4brZHT29PFZ63M9dTRZf4mNvOe6roEp/fvWRdKzilyGOOHz+O48ePp72nihf91OWY+t1TRZf4mNvOe6roEh+91LhutkdPb08Vnrcz11NFl/iY2857qugSn9+9ZF0rOODiMU8//TSefvrptPdU8aKfuhxTv3uq6BIfc9t5TxVd4qOXGtfN9ujp7anC83bmeqroEh9z23lPFV3i87uXrGsFpxR5zPXXX6+Fp4oX/dTlmPrdU0WX+Jjbznuq6BIfvdS4brZHT29PFZ63M9dTRZf4mNvOe6roEp/fvWRdK1g010WsiubqgmoBKJK5MGeIXZgzxC7MGWIH5guxC3OG2IU542uUiuZySpHHDAwMYGBgIO09Vbzopy7H1O+eKrrEx9x23lNFl/jopcZ1sz16enuq8LyduZ4qusTH3HbeU0WX+PzuJetawQEXj7n//vtx//33p72nihf91OWY+t1TRZf4mNvOe6roEh+91LhutkdPb08Vnrcz11NFl/iY2857qugSn9+9ZF0rWMPFYxYsWKCFp4oX/dTlmPrdU0WX+Jjbznuq6BIfvdS4brZHT29PFZ63M9dTRZf4mNvOe6roEp/fvWRdK1jDxUVYw4VkEswZYhfmDLELc4bYgflC7MKcIXZhzvga1nAhhBBCCCGEEEIISQc44OIxjz76KB599NG091Txop+6HFO/e6roEh9z23lPFV3io5ca18326OntqcLzduZ6qugSH3PbeU8VXeLzu5esawUHXAghhBBCCCGEEEIchjVcXIQ1XEgmwZwhdmHOELswZ4gdmC/ELswZYhfmjK9hDRdCCCGEEEIIIYSQdIADLh6zceNGbNy4Me09Vbzopy7H1O+eKrrEx9x23lNFl/jopcZ1sz16enuq8LyduZ4qusTH3HbeU0WX+PzuJetawQEXj9m5cyd27tyZ9p4qXvRTl2Pqd08VXeJjbjvvqaJLfPRS47rZHj29PVV43s5cTxVd4mNuO++pokt8fveSda1gDRcXsarhMjAwAAAIhUK29uW2pzof0e1+etEmPWt0yRldPC/aZM7Qc8NLxmXO0LOD2/mSjEsvPTyeY9KnTV085oze3gSuUg2XLBWJOIdKEnjhqeJFP3U5pn73VNElPua2854qusRHLzWum+3R09tTheftzPVU0SU+5rbzniq6xOd3L1nXCk4p8pjDhw/j8OHDae+p4kU/dTmmfvdU0SU+5rbzniq6xEcvNa6b7dHT21OF5+3M9VTRJT7mtvOeKrrE53cvWdcKDrh4zHPPPYfnnnsu7T1VvOinLsfU754qusTH3HbeU0WX+OilxnWzPXp6e6rwvJ25niq6xMfcdt5TRZf4/O4l61rBKUUec+ONN2rhqeJFP3U5pn73VNElPua2854qusRHLzWum+3R09tTheftzPVU0SU+5rbzniq6xOd3L1nXChbNdRGrorm6oFoAimQuzBliF+YMsQtzhtiB+ULswpwhdmHO+BqlormcUuQxPT096OnpSXtPFS/6qcsx9bunii7xMbed91TRJT56qXHdbI+e3p4qPG9nrqeKLvExt533VNElPr97ybpWcMDFYx566CE89NBDae+p4kU/dTmmfvdU0SU+5rbzniq6xEcvNa6b7dHT21OF5+3M9VTRJT7mtvOeKrrE53cvWdeKtK7hIoSoBvAVADcDaADQA+BNAA8AuE8qzocSQjwA4I5JbBqSUg6qtDFZFi9erIWnihf91OWY+t1TRZf4mNvOe6roEh+91LhutkdPb08Vnrcz11NFl/iY2857qugSn9+9ZF0r0raGixBiGYBnAJRHnuoEkIuRQaJnALxDStmvsO8HYAy49AK4MM6m9VLKIbv7H6dd1nAhGQNzhtiFOUPswpwhdmC+ELswZ4hdmDO+xj81XIQQxQB+DWOwZTeA5VLKQgD5AD4DoB/ADQC+n2RTv5BS1ozz49hgCyGEEEIIIYQQQjKHtBxwAfBlADUAugHcJKXcAgBSyn4p5Q8BfCuy3V1CiNke9dERHnnkETzyyCNp76niRT91OaZ+91TRJT7mtvOeKrrERy81rpvt0dPbU4Xn7cz1VNElPua2854qusTndy9Z14p0reHykci/P5dSHrF4/QcAvgGgAMCHMDIAox05OTlaeKp40U9djqnfPVV0iY+57bynii7x0UuN62Z79PT2VOF5O3M9VXSJj7ntvKeKLvH53UvWtSLtarhE7ljZE3n4XinlujG2ewrAjQBekVJeabONB2DUcPmJlPJO9d7agzVcSCbBnCF2Yc4QuzBniB2YL8QuzBliF+aMr/FNDZcFMb/vHGe76GvzkmjrOiHEPiFErxDiohBihxDi+0KImUnskxBCCCGEEEIIIRlOOg641MX8fnKc7aKvFQkhChTbmgJgOoxaMXkwBns+D2CnEOLTivu0xUsvvYSXXnop7T1VvOinLsfU754qusTH3HbeU0WX+OilxnWzPXp6e6rwvJ25niq6xMfcdt5TRZf4/O4l61qRjlOKvg7gu5GHISnl4BjbfRLAvZGHdVLKZhttfA7AEIyVkE5IKYeEEHkA3gbgnwBcEtn0PVLKX05yn5OZJ7QoFAoFa2trzScGB43wsrLsldOhlz5t0qPnhudFm/ToueF50SY9em54XrRJj54bnhdt0qPnhjeee+zYsYellB+yuz9HiuYKIe4EcH8Su7hGSrneib5MBinlv1s81w3gUSHEiwBeA9AE4J+FEL+Szo1KDQ0MDFw4duzYkZjnAgCqAZwGMGxjX257cyL/7hl3K+faU/W8aJOeNbrkjC6eF20yZ+ile24zZ+ilc74k49JLD4/nmPRpUxePOaO3l6ybiJQy6R8AdwKQSfysjdnXZ2OeLxqnzc/HbFfgRBwx+/5EzL6XOrlvi7bqIu3Upbm3BcCWdI9Ps2Pqd0+LnNHF06mvzBl6Lr6HzBl6aZsvmh0bemmQM7p4OvWVOUPPrfdirB+nloV+GMDjSfidMb+fivm9HsDFMZz6yL8dUsrOMbZR5Y8xv08HsNXh/RNCCCGEEEIIIcTHODLgIqXsB9DvxL4QvzLRAgC7x9guuprRmw61SwghhBBCCCGEEOIIAa87YME+AMcjv7/NagMhRD6AVZGHv0tBH66I+f1wCvYfSweAb0f+TWdPFS/6qcsx9bunii7xMbed91TRJT56qXFV0OXY0HPWU4Xn7cz1VNElPua2854qusTndy9ZN4G0W6UIAIQQ3wXwdRjLNc+XUh4Z9fpXAPwjjCI286WUky5KJIQQcpyghRClADbDWKnoBIBGKWXyxXI0J7oKk5Rymdd9IXrAnCF2Yc4QuzBniB2YL8QuzBliF+YMGU063uECAN+DURU4D8BvhBDLAEAIkS2E+DSA70S2+5HVYIsQ4gEhhBRCWA2sfFgI8agQ4nYhRFWMExZC3Aqjfsslkaf/koMthBBCCCGEEEIIsYtTRXMdRUrZLoS4BcBvAcwD8JoQogNALoBQZLPnYKxUZJcggNsiPxBCdAHoBVASeQ0A+gB8UUr5C9UYCCGEEEIIIYQQkrmk5YALAEgpNwsh5gP4KoCbAUwB0AWjSO5PAPyv4t0nLwC4G8CVAOYCKAdQDGM1pAMAngfwP1LKVNduIYQQQgghhBBCiE9J2wEXAJBStgD4i8iPHe9OAHeO8dpRAH+XbN8IIYQQQgghhBBCxiIti+YSQgghhBBCCCGE6Ey6Fs0lhBBCCCGEEEII0RYOuBBCCCGEEEIIIYQ4DAdcCCGEEEIIIYQQQhyGAy6EEEIIIYQQQgghDsMBF0IIIYQQQgghhBCH4YALIYQQQgghhBBCiMNwwIUQQgghhBBCCCHEYTjgkmEIIQqFEPcIIXYIITqFEBeEEJuFEF8UQmQnue9qIcS/CCH2CiF6hBBtQogNQoiPCyGEUzEQd0lFzgghSoQQtwoh/kYI8WshRLMQQkZ+Pux0DMRdUpQz9UKIPxNCrBNCHIicY3qEEIeFED8TQlzrdBzEHVKUL2uEEN8VQjwjhNgvhDgvhBgQQpwRQrwghPicECLsdCzEHVL5Wcairadj/n9a7+S+iXuk6DxzT0xujPczw+l4SOpJ9XlGCNEohPgnIcT2yL67hBCHhBCPCyH+zIkYSHogpJRe94G4hBCiEcB6AE2Rp7oBBAHkRB6/DuA6KeV5hX0vA/AMgPLIU50AcgFkRR4/A+AdUsp+lb4Tb0hVzggh7gRw/xgvf0RK+f/Z7StJD1KRM0KIqQCOAogduO2OPI69aL4PwF1SyiGVvhP3SeE55tcA3h7zVFfk3/yY5w4DuFFKudder4mXpPKzjEVbHwXwk5inXpRSrk12v8RdUnieuQfAXwMYANA2zqZXSCmP2Nk38ZZUn2eEEJ8E8G8Y+QzTCyOPCiOPL0gpS1T2TdIP3uGSIQghggCehHHiOAXgeillPoA8AO8DcBHAEgA/Vdh3MYBfwxhs2Q1guZSyEMYH288A6AdwA4DvJxsHcY9U5kyEFgBPA/gugNuT7S/xnhTmTBDG4MrvAdwBoD6y3wIACyJtAsCfAPib5KIgbpHic8zvAHwOwFIARVLKAillAYCKyPM9AKYBeEwIwc9CmuDC/0uxbVUB+H8A2mF8tiEa4lLObJRS1ozzcyS5KIibpDpnhBAfB3AvjMGWHwGYJ6UMSymLAJQCeCuAHycZBkknpJT8yYAfAJ8AIAEMA1hh8fr7Iq9LGCO2dvb9txGvC0CTxetfjbw+CGC218eCP2mRM1kWz0X39WGvY+dPeuUMgGIAS8d5XQB4NrLfTgBhr48Ff7zLl0m2/acx+17p9bHgT/rlDIBHIvu5C8Y33RLAeq+PAX/SJ2cA3MO88N9PinNmeuR6SQL4utex8sedH36rkzncEfn3BSnlqxavPwLg0KhtJ8tHIv/+XFqP4v8AxkVQEMCHbO6beEfKckZKOZhMx0jakpKckVJekFJuHed1iZFvg/IBzJnsvomnpPL/pYn4Y8zv9Q7vm6QOV3JGCHErgPcAeBnGN9BEX7w8zxA9SWXOfBnGnTJvAvgHte4R3eCASwYghMgDcFXk4W+ttolcsDwTeXi9jX3PBtAwwb67AGywu2/iHanMGeJP0iBnumN+Dzq8b+IwaZAvq2J+P+DwvkkKcCtnhBAlAH4IYzr0XZF9Eg1Jg/MM0YwUXzPFfvF8v5RyWLWfRC844JIZzMXIe71znO2ir9UIIcrH2S6WBRb+ePueN8n9Em9JZc4Qf+J1zqyN/NsPYJ+D+yWpwfV8EUKEhRAzhRBfB/AvkafXSym3JLNf4hpu5cy/AKgD8A9SStZu0Ru3cma+EGJnZOW8TmGs1vkjIcQShX0Rb0llzizESFHcF4UQK4UQTwghWoUQvcJYdfF+IcSC8XZC9IMDLplBXczvJ8fZLva12hTtu0gIUTDJfRPvSGXOEH/iWc4IIZoAfCry8BdSyotO7JekFFfyRQhRE12aFcZdUPtgFOrOBvAYgNvs7pN4RspzRghxHYzi23sB/J0dl6Qlbv2/VAHjQr0bxio2s2DUAdkihPhbhf0R70hlzsyK+f1GAC8BeAeMKUYDMIr03glgqxDiY5PcJ9EADrhkBoUxv3ePuVX8a4VjbuXevol38H0ldvEkZ4QQYRjzqfMBnAPwtWT3SVzBrXwZAnA68tMb8/yvAHxTStmusE/iDSnNmchUgh/BKGb5p1LKPnvdI2lIqs8z+wF8BcBsALlSynIY/xfdAGALjILudwshvmRjn8RbUpkzpTG/fxtG/qwGUCCN1V0vg7HcdAjAvUKIyye5X5LmcMCFEEKIlgghsgA8DONDygCAD0opx/tGimQYUspWGVmaFca3iFNh3OFyM4BtQog/87SDJJ34Loylwu+TUr7odWdI+iOl/KmU8ntSyn1SyoHIc/1SymcBrASwObLpPUKIYs86StKF2OvuIQC3Sik3ROtESSlfA3ALjMGcLABfd7+LJBVwwCUz6Ij5PW+c7WJf6xhzK/f2TbyD7yuxi6s5Eyk+9/8BeCeMJeffF/mQS/TA9XOMNDghpfwGjMKFWQD+QwixOJn9EtdIWc4IIVYA+ByAMzBWESH+wLPPMlLKXoxcMBcAuM6J/ZKU49Y106+llHtGbxD50ujhyMO3RD7rEM3hgEtmcCrm9/GWv4x9rTlF++6QUnZOct/EO1KZM8SfuJYzMYMt74Mx2PIBKeVjKvsinuHpOUZK+SiAozA+B/2JU/slKSWVOfPfMHLhbgADQoiC2B+MrHwWjHmeF0Lpj9efZWKXn5/u4H5J6khlzsTegTteQe7oa/kAuCCFD+CAS2awG0B06bHxKl9HX2uRUp6b5L5jK3hPZt9vTnK/xFtSmTPEn7iSM5GLnJ8CeD+MwZYPSil/aXc/xHPS4RwT/WA9w+H9ktSQypyZFvn3RzC+hR79szLy+sqY526Z5L6Jd6TDeYboRSpzZkfM7+MtNy8muR3RBA64ZABSym6MjLK/zWobIYSAUeQLAH5nY/f7AByfYN/5AFYp7Jt4RIpzhvgQN3ImZrAlemfLB6WU6+z3lniN1+eYyL6jF9lc1UoDvM4Zoh9pkDNXxPx+2OF9kxSQypyRUrYC2BZ5OG+cTedG/r0IYzEAojkccMkcfhL595rIXOXRvAcjtzs+ONmdRgo9PRR5+P7I8qyj+QyM+avDMC6WiB6kJGeIr0lZzkQGWx4GB1v8REryJVJMeSI+BqAm8jsLpOpDqj7LlEgpxVg/GMmRF2Oef1w5CuImqTrPiAlezwbwncjDLgC/n+y+ieek8vPv/ZF/bxZCzBn9ohCiHsAHIg+fllIOj96GaIiUkj8Z8AOjOOBOGLemnQBwXeT5AIwTx4XIa7+1cO+JvCYBNFm8XgKgJfL6mwCWRZ7PBvBpAH2R1/7b6+PAn/TImcg2FaN+ott/atTzeV4fC/54mzMw6ic8HHltAMC7vY6VP2mdL2sBvAzgTgCNo16bCeAfInkkARwAEPb6WPDH25yZRLvrI956r48Bf9IjZwCsgXF3w4cBTIl5PgTgWgCvxLhf8fo48Mf7nIm8ng1j2pIEsAfGNEUReW0ZgK2R17oBzPP6WPDHmZ/JfAtEfICUclAIcQuMDw0NAH4nhOiGcfLIjWz2BoAPKuy7PbLv38K4Re41IURHZL+hyGbPAfh8UkEQV0llzkRoHeP5/4r8RPk2jP/ASJqTwpy5GiPf+EgAPxBC/GCc7d8lpdxosw3iMik+x1wd+YEQog9GzY18AOGYbbYBuE1K2aPSf+I+Lvy/RHxGCnNGwFh56DoAEEL0wLiTpRgjn32HAfyDlPKfkomBuEuKr5n6hRBvB/A8gNkANgDoEkIMAyiMbNYF4ENSyl1JBULSBk4pyiCklIcBXArjFsdo8doBGKOpXwZwuZSyTXHfmwHMB/B9GN8YhmCcMP4A4C4Ab5NS9iXTf+I+qcwZ4k9SlDOx/1eFAFRP8JOt2n/iLinKly0APgrgPhgfitth3Ik5DOAggHUwii4vl1IeSSoA4jr8f4nYJUU5swPAXwL4FYx6hj0wzjM9MM47PwCwWEp5d7L9J+6T4mumQzCK7n4LRq5IGJ9t9sPIm0ullE8kFQBJK6K3MBFCCCGEEEIIIYQQh+AdLoQQQgghhBBCCCEOwwEXQgghhBBCCCGEEIfhgAshhBBCCCGEEEKIw3DAhRBCCCGEEEIIIcRhOOBCCCGEEEIIIYQQ4jAccCGEEEIIIYQQQghxGA64EEIIIYQQQgghhDgMB1wIIYQQQgghhBBCHIYDLoQQQgghhBBCCCEOwwEXQgghhBBCCCGEEIfhgAshhBBCCCGEEEKIw3DAhRBCCCGEEEIIIcRhOOBCCCGEEOJzhBB3CiFk5OdOr/tDCCGEZAIccCGEEEIIIYQQQghxGA64EEIIIYQQQgghhDgMB1wIIYQQQgghhBBCHIYDLoQQQgghhBBCCCEOwwEXQgghhBBCCCGEEIfhgAshhBBCUooQIiiE+IgQ4kkhxHEhRK8Qoify+1YhxL1CiHcJIfLG2cd8IcS/CiG2CSHahBB9QoiTQoj/E0J8SAgxqc80QogsIcRHhRDrhBBHhBBdkX0dF0L8RgjxBSFE1Ti+EEK8VwjxSyHEsUgs7UKI7ZH+zZyg/bUxqwXdE3muQQjxL0KIPZH+tAshNgoh/kwIkTXJuG6OHN+WSJ+OCCF+KoS4cjJ+zH5uFUI8IoQ4JITojuzrpBDiDSHEQ5FjXWpnn4QQQkimIqSUXveBEEIIIT5FCFEB4CkAl01i89uklI+P8rMA/AuAP8f4XxRtAnCrlLJlnL4sB/BzAJdM0I/1UsprLPxqAI8BGG8QYwDAt6SU/zBGH9YCeCHy8NsAXgHwMwAlY+zvOQC3SCn7xthfEMD/ArhjDH8YwNcAnAFwf+S5j0kpHxi1nzCAdQDePsZ+YvkLKeX3J7EdIYQQktFM6lsTQgghhBBFfoSRwZYDMAYX9gHoAVAEYDaA1QBWjBaFEALAIwBuizzVGvFfB9AFoBHA+wAsB3A5gN8LIS6TUnZb7GslgGcBhCNPHYzsezeAPgB1kT68HYCw8AsBvARgVuSpZgD3AXgTQB6A6wG8B0AIwN8LIQJSyr+b4NgsBvDlSHv/A+CPkb4sB/ApAPmR/d4N4Ftj7OPfMTLY0g/gJwBehjHQcjmAjwP4RwCPT9CXv8PIYEszgP8vElsngAIAM2AMNK2eYD+EEEIIicA7XAghhBCSEiJTc5ph3JnyGoC1UsquMbZtBAAp5dGY5z4P4PuRh48DuENKedHC/S6Ar0ce/qOU8q9GvV4MY2ClNvLUPwG4W0o5aLGvPACrpJTPjHr+v2AMggDGgMbNUsoLo7Z5K4AnAOQCGASwXEr5xqht1mLkDhcAOAbgLVLK/aO2uxzAH2B8OXYeQO3ou1yEEKsAvAhjwKY9sp8to7aZDWA9gJqYp+PucIncJXMOQDGAowAul1KegQVCiEoA5VLKPVavE0IIIWQE1nAhhBBCSKqYjpHPGg+PNdgCGAMtowZbcjEyiLIHwPusBlsi7t0ANkQefjrixvIZjAy2/ExK+VWrwZbIvrotBlsqAXws8vAigPeMHmyJuM8C+GbkYRaMu1cm4sOjB1si+9oE4BeRh6Uw7lb5/9u7+1A/yzKA49+rYEudx5hTW0Yt8oVSK6GBRKk1a50/QiVMzdgkpVeoKFAI3XpRotGLaaw/wsGyCI1ogY5pljZde2Fgy5LSfMHUslUkZ1qZnqs/7ufwuzv7ve/5JbjvBx7O/Zzf/dz3/Xv2z7jOfV/XfJ+lsxvn0/ODLc04vwcuHbCGoyjBFoCf9Aq2NOPtNdgiSdJwDLhIkqRJqY/2nDTisyuBueS112bmswP6f6/5OQWcNu+zi5qfs8AVI64DylGbhU17Y788McB6YKZpn93sHunlnsy8q8/nP6/ab6g/iIiFwHRz+xc6338/mXkLZYdPL//sNY8kSRqfOVwkSdKk/BZ4gpIf5ZImJ8t3gF2ZOTvg2bdX7UURcc6A/sdW7ddTjtEQEYvpBBF+k5kPDbf0/1HvLrmtX8fMfCYi7qYEQxY1c9/bo/uOAfM+XrXnVwZ6E7Cgad+Zmc8PGOtnlPeyn8x8KiJ2Ub7nWRHxY+A64K7M/M+AcSVJUg8GXCRJ0kRk5vMR8RHgR5TgwIea6x8RsZ2SC+XWbkdhgGVVe92IU9fBiToQ02+XRz9Lq/b9Q/S/n87uk6X0Drj8dcA4dc6W+cekXlm1/zDEmgb1+QQlKDMFnNNcT0fETsq/0+3AtiECZZIkqeGRIkmSNDGZeTNl58QmSslkKCWQp4Grgd0RcW9EvGfeo0cwvgVVe6pq7xtzvMOrds88ND3mObxnr3LEaVyLqvZ+VZm66LvuzNxNqZr0XTpHjA4D3kmpkLQVeDAiPjjySiVJOkgZcJEkSROVmXsy81zgSEqg5UuU6jpzAZiTgc0RcVH1WB20WJaZMcL1+erZOtFuHaQYxUzVPmyI/vU8Mz17HZj6/Rw6RP+B687MhzNzNbCYEmi5AthCJwCzDLghIj7XfQRJklQz4CJJkv4vMnMmM7dk5prMPJNy3OYbzccBfL1KMlvnLxk14W7tcSCbdtccJkP4U9U+foj+dZ8nxpxzkHrc44boP0wfADLzX5l5R2ZenZnTlOTFl9N5j2si4sjhlypJ0sHJgIskSXpBZObfMvMzwO7mV0fTCVb8oup67gHM8Xfgvub25Ih47RjD7Kra7+rXMSIOAd7W3O5j/Lwxg+wB5io3nTGgGhKUHStjycx9mbmOkosHSsWm5eOOJ0nSwcKAiyRJeqE9UrXnEvpvppNUdlVEHMgul7mSyS+h5I0Z1S10Etiujoij+/T9GJ28MZuGqB40lsz8N+UdARwDfKBX34iYpp1yz49UbQsvSJI0gAEXSZI0ERGxMiI+FRE9E+BGxHF0do3sAx4EyMyngS80v19AyfHylgHzLY+IbhWNvk3nCM6FEfGViOgaMIiIQyLi3fXvMnMvsKG5fTlwU0RMdXl2BXBVc/sc8NV+623B16r2NyPizV3WdDxwfb9BIuLUiLgyIo7p02cJcF5zm8CvR1+uJEkHF/86IUmSJmUpcA2wLiLuAHYCD1Gq6iyhHEt5P52Ertdk5lyCVjLzWxGxHFgFvBrYFRFbKOWLH6PkfVkCnAKsAF5HCdhcVi8iM5+KiPOBn1LKK18GvC8ibqQc+XkWeEWznvcCvwJum/ddLm/mOAE4A7gvIjZQjisdCpwFnE/nj1lrM3PPqC9sFJl5d0SsBz5OKYW9IyI2Uso4z1KqQ11Ceb+bKKWeuzkC+CKwNiK2Ab+klLaeoSTQPYWyg2Zx0//7mfnoBL6SJEkvKgZcJEnSpMyVPV4ArGyubhK4Fljb5bOLgQcoFXMWUqocTfeZ87GuE5TgxJnAjcBrKMGZXtV29ivXnJkzEXE6JXBxGnAscGWXZ58D1mTml/ussU2fpFRFWkV5Px9urjmzlADTXnoHXOa+70uB05url5vmjS9Jknow4CJJkiblBspukRWUXSEnUXa9vIxyfOhhym6MDZl5T7cBMjOBqyLieuDSZqwTKbstZil5Xn4HbAc2Z+aOXovJzJ0RcQKwGjgbOJWyQyaBP1OOydwK/KDH809GxFspR2suoOyIOYqS3+WPlB006zPzgcGvph1NjpjVEfFD4KOUXS1TwJPANuC6zNweERf3GWNrRJxISaz7DuCNwKsoO3eeAR4FdgAbM3PrBL+OJEkvKlH+HyNJkiRJkqS2mDRXkiRJkiSpZQZcJEmSJEmSWmbARZIkSZIkqWUGXCRJkiRJklpmwEWSJEmSJKllBlwkSZIkSZJaZsBFkiRJkiSpZQZcJEmSJEmSWmbARZIkSZIkqWUGXCRJkiRJklpmwEWSJEmSJKllBlwkSZIkSZJaZsBFkiRJkiSpZQZcJEmSJEmSWmbARZIkSZIkqWUGXCRJkiRJklpmwEWSJEmSJKllBlwkSZIkSZJaZsBFkiRJkiSpZf8FOxSMfxr41mkAAAAASUVORK5CYII=\n",
          "text/plain": "<Figure size 576x288 with 1 Axes>"
         },
         "metadata": {
          "image/png": {
           "height": 270,
           "width": 558
          },
          "needs_background": "light"
         },
         "output_type": "display_data"
        }
       ]
      }
     },
     "6482777950ae4261a07ddf76a0fc664b": {
      "model_module": "@jupyter-widgets/base",
      "model_module_version": "1.2.0",
      "model_name": "LayoutModel",
      "state": {
       "width": "600px"
      }
     },
     "6589a5e65a444398985c11f12180e5ee": {
      "model_module": "@jupyter-widgets/controls",
      "model_module_version": "1.5.0",
      "model_name": "LabelModel",
      "state": {
       "layout": "IPY_MODEL_bc60f40c150a4c2d8f06bbaec942071d",
       "style": "IPY_MODEL_5f349b5931ff4d52afb592a7bbbb1e13",
       "value": "lagging peak times are: nan"
      }
     },
     "66e9a7efe92e4b99bf5d115970a1e130": {
      "model_module": "@jupyter-widgets/base",
      "model_module_version": "1.2.0",
      "model_name": "LayoutModel",
      "state": {
       "width": "600px"
      }
     },
     "67c6626b2dad457684d49a1a28265125": {
      "model_module": "@jupyter-widgets/controls",
      "model_module_version": "1.5.0",
      "model_name": "DescriptionStyleModel",
      "state": {
       "description_width": "200px"
      }
     },
     "6cb184f3a2b4432ea0267f19fdbe0968": {
      "model_module": "@jupyter-widgets/controls",
      "model_module_version": "1.5.0",
      "model_name": "DescriptionStyleModel",
      "state": {
       "description_width": ""
      }
     },
     "6e64ce0a07b04f2182c22a1791533b46": {
      "model_module": "@jupyter-widgets/base",
      "model_module_version": "1.2.0",
      "model_name": "LayoutModel",
      "state": {}
     },
     "702d44b2ffd3469383def80455233cb8": {
      "model_module": "@jupyter-widgets/controls",
      "model_module_version": "1.5.0",
      "model_name": "LabelModel",
      "state": {
       "layout": "IPY_MODEL_6482777950ae4261a07ddf76a0fc664b",
       "style": "IPY_MODEL_211f9dc911624c3d80f59267d159c8e2",
       "value": "lagging peak amplitudes are: nan"
      }
     },
     "71373157186c4cb8800204a420893b9b": {
      "model_module": "@jupyter-widgets/controls",
      "model_module_version": "1.5.0",
      "model_name": "SelectMultipleModel",
      "state": {
       "_options_labels": [
        "0",
        "1",
        "2",
        "3",
        "4",
        "5",
        "6",
        "7",
        "8",
        "9",
        "10",
        "11",
        "12",
        "13",
        "14",
        "15",
        "16",
        "17"
       ],
       "description": "Events",
       "index": [
        14,
        15,
        16,
        17
       ],
       "layout": "IPY_MODEL_3d1984c57e874c5aa0c881beca95e50a",
       "rows": 5,
       "style": "IPY_MODEL_433ccab0e70048e2bd8caaf1b88a84f5"
      }
     },
     "72e5863b0fa14d9aa98ac994abc5643f": {
      "model_module": "@jupyter-widgets/base",
      "model_module_version": "1.2.0",
      "model_name": "LayoutModel",
      "state": {
       "width": "300px"
      }
     },
     "75fadb40f4c34b7fa9bdc2ac6bc991b8": {
      "model_module": "@jupyter-widgets/base",
      "model_module_version": "1.2.0",
      "model_name": "LayoutModel",
      "state": {
       "width": "600px"
      }
     },
     "77078175b4a9461ea266e5ad0d4cea5f": {
      "model_module": "@jupyter-widgets/controls",
      "model_module_version": "1.5.0",
      "model_name": "RadioButtonsModel",
      "state": {
       "_options_labels": [
        "odd",
        "even",
        "all"
       ],
       "description": "show only events by: ",
       "index": 2,
       "layout": "IPY_MODEL_3a8c41af7cc740b4ab897ac2526f7ae1",
       "style": "IPY_MODEL_97a5f2aede284d24bfd43794ec438bec"
      }
     },
     "7c143c215e394084905dd7f79bcb3e0e": {
      "model_module": "@jupyter-widgets/base",
      "model_module_version": "1.2.0",
      "model_name": "LayoutModel",
      "state": {
       "width": "600px"
      }
     },
     "7c52bc30449643fe8a420369e8146cd3": {
      "model_module": "@jupyter-widgets/base",
      "model_module_version": "1.2.0",
      "model_name": "LayoutModel",
      "state": {
       "width": "600px"
      }
     },
     "7e4b2853554a42749be475e944a11723": {
      "model_module": "@jupyter-widgets/base",
      "model_module_version": "1.2.0",
      "model_name": "LayoutModel",
      "state": {
       "width": "600px"
      }
     },
     "7f5e69c73c4844d1afe0ed4caf2303c0": {
      "model_module": "@jupyter-widgets/base",
      "model_module_version": "1.2.0",
      "model_name": "LayoutModel",
      "state": {
       "width": "max-content"
      }
     },
     "8003b18821e64a94b596d9e7afd459af": {
      "model_module": "@jupyter-widgets/controls",
      "model_module_version": "1.5.0",
      "model_name": "HBoxModel",
      "state": {
       "children": [
        "IPY_MODEL_ae6f09090ee24d1baf991b7291af0fa0",
        "IPY_MODEL_a88df1cfa771466fabe29d236fb1c0f5",
        "IPY_MODEL_a59adfeea42d401ea57b99e122435352"
       ],
       "layout": "IPY_MODEL_35645342ba284bbc9ce551fa1ebdbbe6"
      }
     },
     "80fb95740f154862bca46b824944b549": {
      "model_module": "@jupyter-widgets/base",
      "model_module_version": "1.2.0",
      "model_name": "LayoutModel",
      "state": {
       "width": "600px"
      }
     },
     "810f243db4cb4f758c14c14c161e92f9": {
      "model_module": "@jupyter-widgets/base",
      "model_module_version": "1.2.0",
      "model_name": "LayoutModel",
      "state": {
       "width": "600px"
      }
     },
     "8488f5891ff84332b75c0aabc7477c24": {
      "model_module": "@jupyter-widgets/controls",
      "model_module_version": "1.5.0",
      "model_name": "DescriptionStyleModel",
      "state": {
       "description_width": ""
      }
     },
     "84fc0f440d2b41439817e78e3355d2ea": {
      "model_module": "@jupyter-widgets/controls",
      "model_module_version": "1.5.0",
      "model_name": "VBoxModel",
      "state": {
       "children": [
        "IPY_MODEL_05d062e6fe1044a6a06479a6a1ab1772",
        "IPY_MODEL_368cc703dab0494eba8fea249b36b137"
       ],
       "layout": "IPY_MODEL_437fdb1a0df04235a04502b89e01c984"
      }
     },
     "853369e0adcc43acb617fc8c2b661f90": {
      "model_module": "@jupyter-widgets/controls",
      "model_module_version": "1.5.0",
      "model_name": "DescriptionStyleModel",
      "state": {
       "description_width": "200px"
      }
     },
     "85d0a977a4cc46e2add99d46322bb33d": {
      "model_module": "@jupyter-widgets/base",
      "model_module_version": "1.2.0",
      "model_name": "LayoutModel",
      "state": {
       "width": "max-content"
      }
     },
     "871f7afc8b1648e2a4f5461363b48485": {
      "model_module": "@jupyter-widgets/base",
      "model_module_version": "1.2.0",
      "model_name": "LayoutModel",
      "state": {
       "width": "600px"
      }
     },
     "87a36f7f7c4940ce848eb8db33156ae0": {
      "model_module": "@jupyter-widgets/base",
      "model_module_version": "1.2.0",
      "model_name": "LayoutModel",
      "state": {}
     },
     "8840ffdd7b014b4ab263038b1b110bd2": {
      "model_module": "@jupyter-widgets/controls",
      "model_module_version": "1.5.0",
      "model_name": "LabelModel",
      "state": {
       "layout": "IPY_MODEL_fac9ebb5e38e499bafb29c45ec24987c",
       "style": "IPY_MODEL_590f52183b7e457db5d1e872c7f115ad",
       "value": "time since last event is: nan"
      }
     },
     "89fafc2a884d47438de664d9ca096597": {
      "model_module": "@jupyter-widgets/controls",
      "model_module_version": "1.5.0",
      "model_name": "HBoxModel",
      "state": {
       "children": [
        "IPY_MODEL_c8b6523eaf5b465b9432b77d67d8368f",
        "IPY_MODEL_e064f0bcc8f049f693c6828bf60e3333",
        "IPY_MODEL_a675540c082a405c8adc551f5514c3b6"
       ],
       "layout": "IPY_MODEL_bd690378aa7f49f1b26cdc76805f59ac"
      }
     },
     "8a87a93f1f2c41f1b9923ccb53652d08": {
      "model_module": "@jupyter-widgets/controls",
      "model_module_version": "1.5.0",
      "model_name": "FloatSliderModel",
      "state": {
       "continuous_update": false,
       "description": "peak detection threshold",
       "layout": "IPY_MODEL_deec9cf77bff453a93b8e8b682940b1e",
       "max": 1,
       "min": -1,
       "readout_format": ".3f",
       "step": 0.001,
       "style": "IPY_MODEL_eece9de631324986895b9e925f8bbb8c",
       "value": 0.25
      }
     },
     "8acd74ee86a34b07b793cffc0ac01b7e": {
      "model_module": "@jupyter-widgets/base",
      "model_module_version": "1.2.0",
      "model_name": "LayoutModel",
      "state": {}
     },
     "8bb7b3e6ab074f2f9c5262ba1f95a846": {
      "model_module": "@jupyter-widgets/controls",
      "model_module_version": "1.5.0",
      "model_name": "DescriptionStyleModel",
      "state": {
       "description_width": ""
      }
     },
     "8c61791ee1ee44008e3d0a228d6ef320": {
      "model_module": "@jupyter-widgets/controls",
      "model_module_version": "1.5.0",
      "model_name": "DescriptionStyleModel",
      "state": {
       "description_width": "400px"
      }
     },
     "90429483d8ca4661ace5eb25cf7a011e": {
      "model_module": "@jupyter-widgets/base",
      "model_module_version": "1.2.0",
      "model_name": "LayoutModel",
      "state": {}
     },
     "92dfaea651f04f22bc4932a2ffe60cdd": {
      "model_module": "@jupyter-widgets/controls",
      "model_module_version": "1.5.0",
      "model_name": "VBoxModel",
      "state": {
       "_dom_classes": [
        "widget-interact"
       ],
       "children": [
        "IPY_MODEL_07be14d143d942ecb72fa4cee1cefd61",
        "IPY_MODEL_15640f5f31c64ad78f664eff74be8744",
        "IPY_MODEL_c1ff394b524d47b0a3c882d58f92f144",
        "IPY_MODEL_e367af676ede424389c41049ae2b6687",
        "IPY_MODEL_3689e5d05f6d46269041660b91415f68",
        "IPY_MODEL_c24f31f2ec1c468298b3a6831e1440e7"
       ],
       "layout": "IPY_MODEL_cb871accd8d4495180adc319f6747349"
      }
     },
     "933c15575251492187180e7980646721": {
      "model_module": "@jupyter-widgets/controls",
      "model_module_version": "1.5.0",
      "model_name": "DescriptionStyleModel",
      "state": {
       "description_width": ""
      }
     },
     "95147e0cd64e4a8fac38a2cc4848a1e9": {
      "model_module": "@jupyter-widgets/base",
      "model_module_version": "1.2.0",
      "model_name": "LayoutModel",
      "state": {
       "width": "600px"
      }
     },
     "96352053041b4405b297eb85103b783e": {
      "model_module": "@jupyter-widgets/controls",
      "model_module_version": "1.5.0",
      "model_name": "DescriptionStyleModel",
      "state": {
       "description_width": ""
      }
     },
     "97a5f2aede284d24bfd43794ec438bec": {
      "model_module": "@jupyter-widgets/controls",
      "model_module_version": "1.5.0",
      "model_name": "DescriptionStyleModel",
      "state": {
       "description_width": "400px"
      }
     },
     "9805570bdd124566b426928fd052e526": {
      "model_module": "@jupyter-widgets/controls",
      "model_module_version": "1.5.0",
      "model_name": "RadioButtonsModel",
      "state": {
       "_options_labels": [
        "0",
        "1",
        "none"
       ],
       "description": "detect delay to peaks on channel: ",
       "index": 2,
       "layout": "IPY_MODEL_43c3cea6122a431d9437fba03168b670",
       "style": "IPY_MODEL_42f1f6d2df474d88937942fc9fe7fbe1"
      }
     },
     "981615c6adb642deb8763906ba309fb8": {
      "model_module": "@jupyter-widgets/controls",
      "model_module_version": "1.5.0",
      "model_name": "RadioButtonsModel",
      "state": {
       "_options_labels": [
        "0",
        "1",
        "none"
       ],
       "description": "detect delay to peaks on channel: ",
       "index": 2,
       "layout": "IPY_MODEL_1fb688604908426684d6fca47f8f14f9",
       "style": "IPY_MODEL_b6c09e556ab045e7800843b104ea824b"
      }
     },
     "9ce641ae74c147c0a2a0c0124a48ca40": {
      "model_module": "@jupyter-widgets/controls",
      "model_module_version": "1.5.0",
      "model_name": "RadioButtonsModel",
      "state": {
       "_options_labels": [
        "peak",
        "level crossing"
       ],
       "description": "Type of event detection",
       "index": 1,
       "layout": "IPY_MODEL_1415e23fbf824e07833b3dd6ba159881",
       "style": "IPY_MODEL_0966716125884d13b583be8421427048"
      }
     },
     "9dbea13d56a24953b80fe7fff3f51aec": {
      "model_module": "@jupyter-widgets/controls",
      "model_module_version": "1.5.0",
      "model_name": "VBoxModel",
      "state": {
       "children": [
        "IPY_MODEL_de6466a4cdec443a83219a758ca4fabd",
        "IPY_MODEL_27d41722c77049bcb65c99beaef41ce9"
       ],
       "layout": "IPY_MODEL_3e5e6512610a44dca09fe42bac9fbb56"
      }
     },
     "9e3dfdc9a5634453bbc7c451f0513f23": {
      "model_module": "@jupyter-widgets/controls",
      "model_module_version": "1.5.0",
      "model_name": "FloatRangeSliderModel",
      "state": {
       "_model_name": "FloatRangeSliderModel",
       "_view_name": "FloatRangeSliderView",
       "continuous_update": false,
       "description": "Time Range (s)",
       "layout": "IPY_MODEL_7c52bc30449643fe8a420369e8146cd3",
       "max": 125.33333333333333,
       "style": "IPY_MODEL_4794c86271b84fe083f3de8b4863f668",
       "value": [
        0,
        125
       ]
      }
     },
     "9f59d91f2e16425998f975a7f68eb296": {
      "model_module": "@jupyter-widgets/controls",
      "model_module_version": "1.5.0",
      "model_name": "SliderStyleModel",
      "state": {
       "description_width": ""
      }
     },
     "9fb64662a79f401bbf064061644bf3a2": {
      "model_module": "@jupyter-widgets/controls",
      "model_module_version": "1.5.0",
      "model_name": "SliderStyleModel",
      "state": {
       "description_width": "200px"
      }
     },
     "a31350d7deb943a2875b8f7e40d8b0c4": {
      "model_module": "@jupyter-widgets/controls",
      "model_module_version": "1.5.0",
      "model_name": "DescriptionStyleModel",
      "state": {
       "description_width": ""
      }
     },
     "a4418b06ae5a4d9fa1c74dc3a1071330": {
      "model_module": "@jupyter-widgets/controls",
      "model_module_version": "1.5.0",
      "model_name": "HBoxModel",
      "state": {
       "children": [
        "IPY_MODEL_265b32efba144ad6b414ebeac8843550",
        "IPY_MODEL_5e45ab1e114f423387a1efa7e8614316",
        "IPY_MODEL_a9e6fecc879b4b79b304cbcea60f8db4"
       ],
       "layout": "IPY_MODEL_0a07fe69be6d433bb9301efe72285b15"
      }
     },
     "a48f3d644ab34b49933294d244b5de8a": {
      "model_module": "@jupyter-widgets/controls",
      "model_module_version": "1.5.0",
      "model_name": "DescriptionStyleModel",
      "state": {
       "description_width": ""
      }
     },
     "a59adfeea42d401ea57b99e122435352": {
      "model_module": "@jupyter-widgets/controls",
      "model_module_version": "1.5.0",
      "model_name": "SelectModel",
      "state": {
       "_options_labels": [
        "0"
       ],
       "description": "Bouts",
       "index": 0,
       "layout": "IPY_MODEL_2beee861455e437fb8f0e575451b3d80",
       "style": "IPY_MODEL_3d32a4b91d6b477b913a842b2fededfb"
      }
     },
     "a675540c082a405c8adc551f5514c3b6": {
      "model_module": "@jupyter-widgets/controls",
      "model_module_version": "1.5.0",
      "model_name": "SelectModel",
      "state": {
       "_options_labels": [
        "0"
       ],
       "description": "Bouts",
       "index": 0,
       "layout": "IPY_MODEL_6e64ce0a07b04f2182c22a1791533b46",
       "style": "IPY_MODEL_4159c3deca5b4554a5b12e1b094cbe4e"
      }
     },
     "a700f6394e274ed996450126cc76f217": {
      "model_module": "@jupyter-widgets/controls",
      "model_module_version": "1.5.0",
      "model_name": "SliderStyleModel",
      "state": {
       "description_width": ""
      }
     },
     "a821e69235dd4ae2ab23ec43c60f6479": {
      "model_module": "@jupyter-widgets/base",
      "model_module_version": "1.2.0",
      "model_name": "LayoutModel",
      "state": {
       "width": "600px"
      }
     },
     "a88df1cfa771466fabe29d236fb1c0f5": {
      "model_module": "@jupyter-widgets/controls",
      "model_module_version": "1.5.0",
      "model_name": "SelectMultipleModel",
      "state": {
       "_options_labels": [
        "0",
        "1",
        "2",
        "3",
        "4",
        "5",
        "6",
        "7",
        "8",
        "9",
        "10",
        "11",
        "12",
        "13",
        "14",
        "15",
        "16",
        "17"
       ],
       "description": "Events",
       "index": [
        0
       ],
       "layout": "IPY_MODEL_f829a17bf4a840498294246a37723555",
       "rows": 5,
       "style": "IPY_MODEL_a31350d7deb943a2875b8f7e40d8b0c4"
      }
     },
     "a8f7336dfaef4b98973bfb9dbd1188a7": {
      "model_module": "@jupyter-widgets/base",
      "model_module_version": "1.2.0",
      "model_name": "LayoutModel",
      "state": {
       "width": "max-content"
      }
     },
     "a9e6fecc879b4b79b304cbcea60f8db4": {
      "model_module": "@jupyter-widgets/controls",
      "model_module_version": "1.5.0",
      "model_name": "SelectModel",
      "state": {
       "_options_labels": [
        "0"
       ],
       "description": "Bouts",
       "index": 0,
       "layout": "IPY_MODEL_f0554b106a874e99830cc9e2c2bbbd6c",
       "style": "IPY_MODEL_933c15575251492187180e7980646721"
      }
     },
     "aa02e9b45261465280b420b4c38acade": {
      "model_module": "@jupyter-widgets/controls",
      "model_module_version": "1.5.0",
      "model_name": "FloatRangeSliderModel",
      "state": {
       "_model_name": "FloatRangeSliderModel",
       "_view_name": "FloatRangeSliderView",
       "continuous_update": false,
       "description": "xrange (s)",
       "layout": "IPY_MODEL_75fadb40f4c34b7fa9bdc2ac6bc991b8",
       "max": 0.05,
       "min": -0.01,
       "readout_format": ".4f",
       "step": 0.0005,
       "style": "IPY_MODEL_592c39e6abf4465da11dfef4a09bc9ee",
       "value": [
        -0.001,
        0.049
       ]
      }
     },
     "ae0e4da2644e4e198b8b888026bc531d": {
      "model_module": "@jupyter-widgets/controls",
      "model_module_version": "1.5.0",
      "model_name": "LabelModel",
      "state": {
       "layout": "IPY_MODEL_0e15badd15d74837b34cfea47e53fcd5",
       "style": "IPY_MODEL_8488f5891ff84332b75c0aabc7477c24",
       "value": "time of this event is: nan"
      }
     },
     "ae6f09090ee24d1baf991b7291af0fa0": {
      "model_module": "@jupyter-widgets/controls",
      "model_module_version": "1.5.0",
      "model_name": "SelectMultipleModel",
      "state": {
       "_options_labels": [
        "0",
        "1"
       ],
       "description": "Channels",
       "index": [
        0
       ],
       "layout": "IPY_MODEL_b39a30beed9d4eb2a8324d384ee67b78",
       "rows": 5,
       "style": "IPY_MODEL_b2438710cd624838ae7041ff34b6e919"
      }
     },
     "aece97ccb8674ab19352eeec67e22d22": {
      "model_module": "@jupyter-widgets/base",
      "model_module_version": "1.2.0",
      "model_name": "LayoutModel",
      "state": {}
     },
     "b0e72e5eb57f4f0283f6243e2721080a": {
      "model_module": "@jupyter-widgets/base",
      "model_module_version": "1.2.0",
      "model_name": "LayoutModel",
      "state": {}
     },
     "b2392f383414401f9f76ee0ab1f3b812": {
      "model_module": "@jupyter-widgets/base",
      "model_module_version": "1.2.0",
      "model_name": "LayoutModel",
      "state": {}
     },
     "b2438710cd624838ae7041ff34b6e919": {
      "model_module": "@jupyter-widgets/controls",
      "model_module_version": "1.5.0",
      "model_name": "DescriptionStyleModel",
      "state": {
       "description_width": ""
      }
     },
     "b39a30beed9d4eb2a8324d384ee67b78": {
      "model_module": "@jupyter-widgets/base",
      "model_module_version": "1.2.0",
      "model_name": "LayoutModel",
      "state": {}
     },
     "b4a700ff99874404bd4a0c1e962f20b0": {
      "model_module": "@jupyter-widgets/controls",
      "model_module_version": "1.5.0",
      "model_name": "VBoxModel",
      "state": {
       "children": [
        "IPY_MODEL_aa02e9b45261465280b420b4c38acade",
        "IPY_MODEL_d7acf6afa3144e0b95fb9a0ec8124e5a"
       ],
       "layout": "IPY_MODEL_38d684b473364740b6229954b9f4d20a"
      }
     },
     "b6a27ab598d7490a9115d8ff21c186d0": {
      "model_module": "@jupyter-widgets/controls",
      "model_module_version": "1.5.0",
      "model_name": "SliderStyleModel",
      "state": {
       "description_width": ""
      }
     },
     "b6c09e556ab045e7800843b104ea824b": {
      "model_module": "@jupyter-widgets/controls",
      "model_module_version": "1.5.0",
      "model_name": "DescriptionStyleModel",
      "state": {
       "description_width": "400px"
      }
     },
     "b86a45fe785a455bbb082367e9b83fb3": {
      "model_module": "@jupyter-widgets/controls",
      "model_module_version": "1.5.0",
      "model_name": "DescriptionStyleModel",
      "state": {
       "description_width": "400px"
      }
     },
     "ba4de577d42645e59524a648b3dda17f": {
      "model_module": "@jupyter-widgets/controls",
      "model_module_version": "1.5.0",
      "model_name": "FloatRangeSliderModel",
      "state": {
       "_model_name": "FloatRangeSliderModel",
       "_view_name": "FloatRangeSliderView",
       "continuous_update": false,
       "description": "xrange (s)",
       "layout": "IPY_MODEL_5179f1ca1b7045709983470d5baf796c",
       "max": 2,
       "min": -0.01,
       "readout_format": ".4f",
       "step": 0.001,
       "style": "IPY_MODEL_bfc8a82f4d9e4e42a025e87db6f62f5c",
       "value": [
        -0.001,
        1
       ]
      }
     },
     "bb51eb2145fc406db7334e17f9dc6861": {
      "model_module": "@jupyter-widgets/base",
      "model_module_version": "1.2.0",
      "model_name": "LayoutModel",
      "state": {}
     },
     "bbe84652b1934521a2e4e7c845fdce88": {
      "model_module": "@jupyter-widgets/controls",
      "model_module_version": "1.5.0",
      "model_name": "DescriptionStyleModel",
      "state": {
       "description_width": "200px"
      }
     },
     "bc60f40c150a4c2d8f06bbaec942071d": {
      "model_module": "@jupyter-widgets/base",
      "model_module_version": "1.2.0",
      "model_name": "LayoutModel",
      "state": {
       "width": "600px"
      }
     },
     "bd690378aa7f49f1b26cdc76805f59ac": {
      "model_module": "@jupyter-widgets/base",
      "model_module_version": "1.2.0",
      "model_name": "LayoutModel",
      "state": {}
     },
     "be1ce9b3760f4ac0a07e5222f7289d65": {
      "model_module": "@jupyter-widgets/controls",
      "model_module_version": "1.5.0",
      "model_name": "LabelModel",
      "state": {
       "layout": "IPY_MODEL_35650cf058324c5b9b8aab481bb49a3e",
       "style": "IPY_MODEL_96352053041b4405b297eb85103b783e",
       "value": "lagging peak times are: nan"
      }
     },
     "be6e5d705f0b4ee6a395dbbd0efaea09": {
      "model_module": "@jupyter-widgets/controls",
      "model_module_version": "1.5.0",
      "model_name": "RadioButtonsModel",
      "state": {
       "_options_labels": [
        "odd",
        "even",
        "all"
       ],
       "description": "show only events by: ",
       "index": 2,
       "layout": "IPY_MODEL_20ff1c04042945fd9caaa9586fd36984",
       "style": "IPY_MODEL_b86a45fe785a455bbb082367e9b83fb3"
      }
     },
     "becdc8663e564625bbb02f12b2fa1488": {
      "model_module": "@jupyter-widgets/controls",
      "model_module_version": "1.5.0",
      "model_name": "SliderStyleModel",
      "state": {
       "description_width": "200px"
      }
     },
     "bf2d76b181594485ad53da5fccf47c3c": {
      "model_module": "@jupyter-widgets/base",
      "model_module_version": "1.2.0",
      "model_name": "LayoutModel",
      "state": {
       "width": "600px"
      }
     },
     "bfc8a82f4d9e4e42a025e87db6f62f5c": {
      "model_module": "@jupyter-widgets/controls",
      "model_module_version": "1.5.0",
      "model_name": "SliderStyleModel",
      "state": {
       "description_width": ""
      }
     },
     "bfd9b07f3abd4990829bae31d4bd1f56": {
      "model_module": "@jupyter-widgets/base",
      "model_module_version": "1.2.0",
      "model_name": "LayoutModel",
      "state": {
       "width": "600px"
      }
     },
     "c1ff394b524d47b0a3c882d58f92f144": {
      "model_module": "@jupyter-widgets/controls",
      "model_module_version": "1.5.0",
      "model_name": "FloatSliderModel",
      "state": {
       "continuous_update": false,
       "description": "event detection threshold",
       "layout": "IPY_MODEL_eeb66cbe0e2647fe8eb9b4029bd09836",
       "max": 2,
       "min": -2,
       "readout_format": ".3f",
       "step": 0.001,
       "style": "IPY_MODEL_516280e89c2a4ff0a85e753acbed4558",
       "value": 0.2
      }
     },
     "c24f31f2ec1c468298b3a6831e1440e7": {
      "model_module": "@jupyter-widgets/output",
      "model_module_version": "1.0.0",
      "model_name": "OutputModel",
      "state": {
       "layout": "IPY_MODEL_87a36f7f7c4940ce848eb8db33156ae0",
       "outputs": [
        {
         "ename": "NameError",
         "evalue": "name 'AutoMinorLocator' is not defined",
         "output_type": "error",
         "traceback": [
          "\u001b[0;31m---------------------------------------------------------------------------\u001b[0m",
          "\u001b[0;31mNameError\u001b[0m                                 Traceback (most recent call last)",
          "File \u001b[0;32m~/opt/anaconda3/envs/neurolab/lib/python3.8/site-packages/ipywidgets/widgets/interaction.py:257\u001b[0m, in \u001b[0;36minteractive.update\u001b[0;34m(self, *args)\u001b[0m\n\u001b[1;32m    255\u001b[0m     value \u001b[38;5;241m=\u001b[39m widget\u001b[38;5;241m.\u001b[39mget_interact_value()\n\u001b[1;32m    256\u001b[0m     \u001b[38;5;28mself\u001b[39m\u001b[38;5;241m.\u001b[39mkwargs[widget\u001b[38;5;241m.\u001b[39m_kwarg] \u001b[38;5;241m=\u001b[39m value\n\u001b[0;32m--> 257\u001b[0m \u001b[38;5;28mself\u001b[39m\u001b[38;5;241m.\u001b[39mresult \u001b[38;5;241m=\u001b[39m \u001b[38;5;28;43mself\u001b[39;49m\u001b[38;5;241;43m.\u001b[39;49m\u001b[43mf\u001b[49m\u001b[43m(\u001b[49m\u001b[38;5;241;43m*\u001b[39;49m\u001b[38;5;241;43m*\u001b[39;49m\u001b[38;5;28;43mself\u001b[39;49m\u001b[38;5;241;43m.\u001b[39;49m\u001b[43mkwargs\u001b[49m\u001b[43m)\u001b[49m\n\u001b[1;32m    258\u001b[0m show_inline_matplotlib_plots()\n\u001b[1;32m    259\u001b[0m \u001b[38;5;28;01mif\u001b[39;00m \u001b[38;5;28mself\u001b[39m\u001b[38;5;241m.\u001b[39mauto_display \u001b[38;5;129;01mand\u001b[39;00m \u001b[38;5;28mself\u001b[39m\u001b[38;5;241m.\u001b[39mresult \u001b[38;5;129;01mis\u001b[39;00m \u001b[38;5;129;01mnot\u001b[39;00m \u001b[38;5;28;01mNone\u001b[39;00m:\n",
          "Input \u001b[0;32mIn [6]\u001b[0m, in \u001b[0;36mupdate_plot\u001b[0;34m(chan_, xrange, thresh_, detect_type, iei)\u001b[0m\n\u001b[1;32m    103\u001b[0m \u001b[38;5;66;03m# ax.set_ylim(yrange[0],yrange[1])\u001b[39;00m\n\u001b[1;32m    104\u001b[0m ax\u001b[38;5;241m.\u001b[39mset_xlim(xrange[\u001b[38;5;241m0\u001b[39m],xrange[\u001b[38;5;241m1\u001b[39m])\n\u001b[0;32m--> 107\u001b[0m ax\u001b[38;5;241m.\u001b[39mxaxis\u001b[38;5;241m.\u001b[39mset_minor_locator(\u001b[43mAutoMinorLocator\u001b[49m(\u001b[38;5;241m5\u001b[39m))\n\u001b[1;32m    110\u001b[0m \u001b[38;5;28;01mreturn\u001b[39;00m trial_times\n",
          "\u001b[0;31mNameError\u001b[0m: name 'AutoMinorLocator' is not defined"
         ]
        }
       ]
      }
     },
     "c312c9f56bd346b195d93d379751ee19": {
      "model_module": "@jupyter-widgets/controls",
      "model_module_version": "1.5.0",
      "model_name": "DescriptionStyleModel",
      "state": {
       "description_width": "400px"
      }
     },
     "c554d91cf1d544678f0ac5dfd76b5704": {
      "model_module": "@jupyter-widgets/controls",
      "model_module_version": "1.5.0",
      "model_name": "SelectMultipleModel",
      "state": {
       "_options_labels": [
        "0",
        "1"
       ],
       "description": "Channels",
       "index": [
        0,
        1
       ],
       "layout": "IPY_MODEL_90429483d8ca4661ace5eb25cf7a011e",
       "rows": 5,
       "style": "IPY_MODEL_3c651e1a967d408c8db0254dc763d308"
      }
     },
     "c557b8c9448248f18b612627406b44a4": {
      "model_module": "@jupyter-widgets/controls",
      "model_module_version": "1.5.0",
      "model_name": "VBoxModel",
      "state": {
       "_dom_classes": [
        "widget-interact"
       ],
       "children": [
        "IPY_MODEL_9e3dfdc9a5634453bbc7c451f0513f23",
        "IPY_MODEL_5eb2c1711bf34fb5ba0bca5c954f05fb",
        "IPY_MODEL_4fbf18718b1b461294cb2cfdc30dc650"
       ],
       "layout": "IPY_MODEL_24172323a3984ea58399c6ff8da1c7e1"
      }
     },
     "c5935e5d712a41d7b8af7d1901161530": {
      "model_module": "@jupyter-widgets/controls",
      "model_module_version": "1.5.0",
      "model_name": "DescriptionStyleModel",
      "state": {
       "description_width": ""
      }
     },
     "c8b6523eaf5b465b9432b77d67d8368f": {
      "model_module": "@jupyter-widgets/controls",
      "model_module_version": "1.5.0",
      "model_name": "SelectMultipleModel",
      "state": {
       "_options_labels": [
        "0",
        "1"
       ],
       "description": "Channels",
       "index": [
        0
       ],
       "layout": "IPY_MODEL_0d991fe9d6ca48e0b0fb9347312fe0be",
       "rows": 5,
       "style": "IPY_MODEL_f5df7a89cc584da7be4816aaedc16f43"
      }
     },
     "c9bd50d5ccc54dcc8701b68e793afda7": {
      "model_module": "@jupyter-widgets/controls",
      "model_module_version": "1.5.0",
      "model_name": "DescriptionStyleModel",
      "state": {
       "description_width": ""
      }
     },
     "cb0b6830d6d94a539ef139ac3d0d2703": {
      "model_module": "@jupyter-widgets/controls",
      "model_module_version": "1.5.0",
      "model_name": "FloatSliderModel",
      "state": {
       "continuous_update": false,
       "description": "peak detection threshold",
       "layout": "IPY_MODEL_871f7afc8b1648e2a4f5461363b48485",
       "max": 1,
       "min": -1,
       "readout_format": ".3f",
       "step": 0.001,
       "style": "IPY_MODEL_564c8546566545a1a2c6075012e9c652",
       "value": 0.25
      }
     },
     "cb871accd8d4495180adc319f6747349": {
      "model_module": "@jupyter-widgets/base",
      "model_module_version": "1.2.0",
      "model_name": "LayoutModel",
      "state": {}
     },
     "cd77b1957079488e9e3daeed242dff5f": {
      "model_module": "@jupyter-widgets/controls",
      "model_module_version": "1.5.0",
      "model_name": "LabelModel",
      "state": {
       "layout": "IPY_MODEL_bfd9b07f3abd4990829bae31d4bd1f56",
       "style": "IPY_MODEL_a48f3d644ab34b49933294d244b5de8a",
       "value": "time of this event is: nan"
      }
     },
     "ce168c6d9b9b43a999a6e849300220b9": {
      "model_module": "@jupyter-widgets/base",
      "model_module_version": "1.2.0",
      "model_name": "LayoutModel",
      "state": {}
     },
     "cf797519ea50476599d64f472905a623": {
      "model_module": "@jupyter-widgets/controls",
      "model_module_version": "1.5.0",
      "model_name": "SliderStyleModel",
      "state": {
       "description_width": "200px"
      }
     },
     "d61cd91eb8b348cd826a0ec4c609e8ea": {
      "model_module": "@jupyter-widgets/controls",
      "model_module_version": "1.5.0",
      "model_name": "FloatSliderModel",
      "state": {
       "continuous_update": false,
       "description": "peak detection threshold",
       "layout": "IPY_MODEL_fb31a609048f4a168bdc5ff2d4fc3a1e",
       "max": 1,
       "min": -1,
       "readout_format": ".3f",
       "step": 0.001,
       "style": "IPY_MODEL_becdc8663e564625bbb02f12b2fa1488",
       "value": 0.25
      }
     },
     "d7acf6afa3144e0b95fb9a0ec8124e5a": {
      "model_module": "@jupyter-widgets/controls",
      "model_module_version": "1.5.0",
      "model_name": "FloatRangeSliderModel",
      "state": {
       "_model_name": "FloatRangeSliderModel",
       "_view_name": "FloatRangeSliderView",
       "continuous_update": false,
       "description": "yrange",
       "layout": "IPY_MODEL_bf2d76b181594485ad53da5fccf47c3c",
       "max": 5,
       "min": -5,
       "step": 0.05,
       "style": "IPY_MODEL_f6bdfc32e0bd46d3b86ac944bb3ed6f2",
       "value": [
        -4.45,
        2.65
       ]
      }
     },
     "d853e30ba76b4515bc00798e30a50100": {
      "model_module": "@jupyter-widgets/controls",
      "model_module_version": "1.5.0",
      "model_name": "FloatSliderModel",
      "state": {
       "continuous_update": false,
       "description": "event detection threshold",
       "layout": "IPY_MODEL_285945b7b16847e9935d8754cbbb291a",
       "max": 2,
       "min": -2,
       "readout_format": ".3f",
       "step": 0.001,
       "style": "IPY_MODEL_f148c023d8ab42298c9264e2a1cef34a",
       "value": 0.2
      }
     },
     "db34828a0ff243d2ac230ddde33fa063": {
      "model_module": "@jupyter-widgets/controls",
      "model_module_version": "1.5.0",
      "model_name": "FloatSliderModel",
      "state": {
       "continuous_update": false,
       "description": "peak detection threshold",
       "layout": "IPY_MODEL_810f243db4cb4f758c14c14c161e92f9",
       "max": 1,
       "min": -1,
       "readout_format": ".3f",
       "step": 0.001,
       "style": "IPY_MODEL_cf797519ea50476599d64f472905a623",
       "value": 0.25
      }
     },
     "dbbf92f8e8944fbc9b6b064ae9b6adf1": {
      "model_module": "@jupyter-widgets/base",
      "model_module_version": "1.2.0",
      "model_name": "LayoutModel",
      "state": {}
     },
     "dcadd825887b45688bd37e76028dafcf": {
      "model_module": "@jupyter-widgets/controls",
      "model_module_version": "1.5.0",
      "model_name": "SliderStyleModel",
      "state": {
       "description_width": ""
      }
     },
     "dd1b986247324d79ba089197d91ad075": {
      "model_module": "@jupyter-widgets/output",
      "model_module_version": "1.0.0",
      "model_name": "OutputModel",
      "state": {
       "layout": "IPY_MODEL_dbbf92f8e8944fbc9b6b064ae9b6adf1",
       "outputs": [
        {
         "data": {
          "image/png": "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\n",
          "text/plain": "<Figure size 720x360 with 1 Axes>"
         },
         "metadata": {
          "image/png": {
           "height": 341,
           "width": 702
          },
          "needs_background": "light"
         },
         "output_type": "display_data"
        }
       ]
      }
     },
     "ddec7fded0424b968ad2a780d667972d": {
      "model_module": "@jupyter-widgets/controls",
      "model_module_version": "1.5.0",
      "model_name": "FloatRangeSliderModel",
      "state": {
       "_model_name": "FloatRangeSliderModel",
       "_view_name": "FloatRangeSliderView",
       "continuous_update": false,
       "description": "yrange",
       "layout": "IPY_MODEL_f0ff924c2143492eb0e766ea507ddce0",
       "max": 5,
       "min": -5,
       "step": 0.05,
       "style": "IPY_MODEL_eee934b8392347798ce89a0634833a88",
       "value": [
        -0.5,
        1
       ]
      }
     },
     "de4cb32a4350412ebe4b5de2758f54fb": {
      "model_module": "@jupyter-widgets/base",
      "model_module_version": "1.2.0",
      "model_name": "LayoutModel",
      "state": {
       "width": "max-content"
      }
     },
     "de6466a4cdec443a83219a758ca4fabd": {
      "model_module": "@jupyter-widgets/controls",
      "model_module_version": "1.5.0",
      "model_name": "FloatRangeSliderModel",
      "state": {
       "_model_name": "FloatRangeSliderModel",
       "_view_name": "FloatRangeSliderView",
       "continuous_update": false,
       "description": "xrange (s)",
       "layout": "IPY_MODEL_66e9a7efe92e4b99bf5d115970a1e130",
       "max": 2,
       "min": -0.01,
       "readout_format": ".4f",
       "step": 0.001,
       "style": "IPY_MODEL_235a9d87d6a64fe68548cd40c9b776c3",
       "value": [
        -0.001,
        0.651
       ]
      }
     },
     "deec9cf77bff453a93b8e8b682940b1e": {
      "model_module": "@jupyter-widgets/base",
      "model_module_version": "1.2.0",
      "model_name": "LayoutModel",
      "state": {
       "width": "600px"
      }
     },
     "e064f0bcc8f049f693c6828bf60e3333": {
      "model_module": "@jupyter-widgets/controls",
      "model_module_version": "1.5.0",
      "model_name": "SelectMultipleModel",
      "state": {
       "_options_labels": [
        "0",
        "1",
        "2",
        "3",
        "4",
        "5",
        "6",
        "7",
        "8",
        "9",
        "10",
        "11",
        "12",
        "13",
        "14",
        "15",
        "16",
        "17"
       ],
       "description": "Events",
       "index": [
        0
       ],
       "layout": "IPY_MODEL_8acd74ee86a34b07b793cffc0ac01b7e",
       "rows": 5,
       "style": "IPY_MODEL_c9bd50d5ccc54dcc8701b68e793afda7"
      }
     },
     "e367af676ede424389c41049ae2b6687": {
      "model_module": "@jupyter-widgets/controls",
      "model_module_version": "1.5.0",
      "model_name": "RadioButtonsModel",
      "state": {
       "_options_labels": [
        "peak",
        "level crossing"
       ],
       "description": "Type of event detection",
       "index": 1,
       "layout": "IPY_MODEL_de4cb32a4350412ebe4b5de2758f54fb",
       "style": "IPY_MODEL_bbe84652b1934521a2e4e7c845fdce88"
      }
     },
     "e4bebe41e2084957bb5498a622e46248": {
      "model_module": "@jupyter-widgets/base",
      "model_module_version": "1.2.0",
      "model_name": "LayoutModel",
      "state": {}
     },
     "e5b54323176b451086c469c529fab6b8": {
      "model_module": "@jupyter-widgets/base",
      "model_module_version": "1.2.0",
      "model_name": "LayoutModel",
      "state": {}
     },
     "eb2fe64e9d724e349106e6a17208384b": {
      "model_module": "@jupyter-widgets/controls",
      "model_module_version": "1.5.0",
      "model_name": "LabelModel",
      "state": {
       "layout": "IPY_MODEL_f2a7e0843c784df68a538394bd73a68c",
       "style": "IPY_MODEL_6cb184f3a2b4432ea0267f19fdbe0968",
       "value": "time since last event is: nan"
      }
     },
     "eeb66cbe0e2647fe8eb9b4029bd09836": {
      "model_module": "@jupyter-widgets/base",
      "model_module_version": "1.2.0",
      "model_name": "LayoutModel",
      "state": {
       "width": "600px"
      }
     },
     "eece9de631324986895b9e925f8bbb8c": {
      "model_module": "@jupyter-widgets/controls",
      "model_module_version": "1.5.0",
      "model_name": "SliderStyleModel",
      "state": {
       "description_width": "200px"
      }
     },
     "eee934b8392347798ce89a0634833a88": {
      "model_module": "@jupyter-widgets/controls",
      "model_module_version": "1.5.0",
      "model_name": "SliderStyleModel",
      "state": {
       "description_width": ""
      }
     },
     "f0554b106a874e99830cc9e2c2bbbd6c": {
      "model_module": "@jupyter-widgets/base",
      "model_module_version": "1.2.0",
      "model_name": "LayoutModel",
      "state": {}
     },
     "f0b3800c38d64f1d8383b9c8f75dcb71": {
      "model_module": "@jupyter-widgets/controls",
      "model_module_version": "1.5.0",
      "model_name": "VBoxModel",
      "state": {
       "children": [
        "IPY_MODEL_2bfda8f45ae245a1af0253cdce7314c3",
        "IPY_MODEL_db34828a0ff243d2ac230ddde33fa063"
       ],
       "layout": "IPY_MODEL_0d2dc6acaef2461982394223bd36c4c5"
      }
     },
     "f0ff924c2143492eb0e766ea507ddce0": {
      "model_module": "@jupyter-widgets/base",
      "model_module_version": "1.2.0",
      "model_name": "LayoutModel",
      "state": {
       "width": "600px"
      }
     },
     "f148c023d8ab42298c9264e2a1cef34a": {
      "model_module": "@jupyter-widgets/controls",
      "model_module_version": "1.5.0",
      "model_name": "SliderStyleModel",
      "state": {
       "description_width": "200px"
      }
     },
     "f29a05e1844e48e3b62805c5fb822ab7": {
      "model_module": "@jupyter-widgets/controls",
      "model_module_version": "1.5.0",
      "model_name": "LabelModel",
      "state": {
       "layout": "IPY_MODEL_521e41ab17a84e009696ba61fa8a4e3f",
       "style": "IPY_MODEL_c5935e5d712a41d7b8af7d1901161530",
       "value": "lagging peak times are: nan"
      }
     },
     "f2a7e0843c784df68a538394bd73a68c": {
      "model_module": "@jupyter-widgets/base",
      "model_module_version": "1.2.0",
      "model_name": "LayoutModel",
      "state": {
       "width": "600px"
      }
     },
     "f348ab8e2c35476b996ba6b07302e06c": {
      "model_module": "@jupyter-widgets/base",
      "model_module_version": "1.2.0",
      "model_name": "LayoutModel",
      "state": {
       "width": "600px"
      }
     },
     "f45558986c2c40138c652b5d80794dd7": {
      "model_module": "@jupyter-widgets/controls",
      "model_module_version": "1.5.0",
      "model_name": "LabelModel",
      "state": {
       "layout": "IPY_MODEL_a821e69235dd4ae2ab23ec43c60f6479",
       "style": "IPY_MODEL_8bb7b3e6ab074f2f9c5262ba1f95a846",
       "value": "lagging peak amplitudes are: nan"
      }
     },
     "f5bb95f49cb54958b926c4c5ba364666": {
      "model_module": "@jupyter-widgets/base",
      "model_module_version": "1.2.0",
      "model_name": "LayoutModel",
      "state": {
       "width": "600px"
      }
     },
     "f5df7a89cc584da7be4816aaedc16f43": {
      "model_module": "@jupyter-widgets/controls",
      "model_module_version": "1.5.0",
      "model_name": "DescriptionStyleModel",
      "state": {
       "description_width": ""
      }
     },
     "f66d97e7766842239b74399e290a73e9": {
      "model_module": "@jupyter-widgets/controls",
      "model_module_version": "1.5.0",
      "model_name": "DescriptionStyleModel",
      "state": {
       "description_width": ""
      }
     },
     "f6bdfc32e0bd46d3b86ac944bb3ed6f2": {
      "model_module": "@jupyter-widgets/controls",
      "model_module_version": "1.5.0",
      "model_name": "SliderStyleModel",
      "state": {
       "description_width": ""
      }
     },
     "f829a17bf4a840498294246a37723555": {
      "model_module": "@jupyter-widgets/base",
      "model_module_version": "1.2.0",
      "model_name": "LayoutModel",
      "state": {}
     },
     "f84c644b21d54b9b9b45319aabe86a02": {
      "model_module": "@jupyter-widgets/controls",
      "model_module_version": "1.5.0",
      "model_name": "RadioButtonsModel",
      "state": {
       "_options_labels": [
        "odd",
        "even",
        "all"
       ],
       "description": "show only events by: ",
       "index": 2,
       "layout": "IPY_MODEL_7f5e69c73c4844d1afe0ed4caf2303c0",
       "style": "IPY_MODEL_16099fc4d62a46edb07405549e0ff6a1"
      }
     },
     "fac9ebb5e38e499bafb29c45ec24987c": {
      "model_module": "@jupyter-widgets/base",
      "model_module_version": "1.2.0",
      "model_name": "LayoutModel",
      "state": {
       "width": "600px"
      }
     },
     "fb31a609048f4a168bdc5ff2d4fc3a1e": {
      "model_module": "@jupyter-widgets/base",
      "model_module_version": "1.2.0",
      "model_name": "LayoutModel",
      "state": {
       "width": "600px"
      }
     },
     "fed13e01ea254715aded3193fc09fd83": {
      "model_module": "@jupyter-widgets/output",
      "model_module_version": "1.0.0",
      "model_name": "OutputModel",
      "state": {
       "layout": "IPY_MODEL_1bc0ea95f35a4c3cb4ef505c4bfee21a",
       "outputs": [
        {
         "data": {
          "image/png": "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\n",
          "text/plain": "<Figure size 576x288 with 1 Axes>"
         },
         "metadata": {
          "image/png": {
           "height": 270,
           "width": 558
          },
          "needs_background": "light"
         },
         "output_type": "display_data"
        }
       ]
      }
     }
    },
    "version_major": 2,
    "version_minor": 0
   }
  }
 },
 "nbformat": 4,
 "nbformat_minor": 5
}
