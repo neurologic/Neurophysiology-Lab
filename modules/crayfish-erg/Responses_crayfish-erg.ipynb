{
 "cells": [
  {
   "cell_type": "markdown",
   "id": "2bcea47c-bd58-4eac-b259-f43405e8982d",
   "metadata": {},
   "source": [
    "# Responses"
   ]
  },
  {
   "cell_type": "markdown",
   "id": "513c0ad9-f856-46a3-9a79-9bb0ca01811c",
   "metadata": {},
   "source": [
    "Your Name:"
   ]
  },
  {
   "cell_type": "markdown",
   "id": "0d02b777-6aad-4e31-a4f6-27b08495399d",
   "metadata": {},
   "source": [
    "## Prompt 1: \n",
    "\n",
    "**Make a Figure** of the ERG response to a 2s duration light pulse. **Annotate** the peak amplitude, the onset latency, and the rise time. \n",
    "\n",
    "**Write a Figure Caption** that:\n",
    "- includes all necessary information to interpret the figure. \n",
    "- reports the annotated features of the response (if not quantitatively clear from the figure itself).\n",
    "\n",
    "**Write a Results \"section\"** that includes the following:\n",
    "- What molecular mechanism accounts for the onset latency?\n",
    "- What mechanism could account for the rise time?\n",
    "- Why is the photoreceptor peak of the ERG negative-going? (in terms of the Photoreceptor stimulus response specifically)\n",
    "- In what way does the ERG response change a function of time throughout the stimulus? What do you hypothesize causes this ERG response change?\n",
    "- What happens at stimulus offset? How does the offset response in crayfish compare to the offset response in Drosophila?"
   ]
  },
  {
   "cell_type": "markdown",
   "id": "16ff6ce0-a955-4a10-b84c-f49d7de30e7f",
   "metadata": {},
   "source": [
    "...\n",
    "\n",
    "Insert your figure to accompany the text by replacing the \"id\" in the link below with the share link id from your photo. Control the size of the inserted image by changing the \"width\" value in the code.\n",
    "\n",
    "<img src='https://drive.google.com/uc?id=1WoAa-oMOkAj9r9lyls4nLSLyIeuTu4Ae' width=\"300\" >"
   ]
  },
  {
   "cell_type": "markdown",
   "id": "b29d7cc7-6ec0-44fc-a990-f58093fb8085",
   "metadata": {},
   "source": [
    "## Prompt 2: \n",
    "\n",
    "**Make a Figure** with the following panels:  \n",
    "A) The scatter plot of peak amplitude against stimulus pulse number.   \n",
    "B) The scatter plot of peak amplitude and stimulus pulse time. \n",
    "\n",
    "**Write a Figure Caption** that\n",
    "- includes all necessary information to interpret the figure. \n",
    "- report the steady-state peak amplitude for each condition from the fit based on your data\n",
    "\n",
    "**Write a Results \"section\"** that includes the following:\n",
    "- Why would we want to consider the response amplitude as a function of both stimulus number and time? Which do you think is a more relevant way to interpret the results (if either)?\n",
    "- You will notice that the peak response does not adapt to the same amplitude accross all conditions. What is your hypothesis for this difference across conditions?\n",
    "- Was the adaptation rate similar or different across conditions? Assuming the underlying adaptation mechanism is the same under all conditions, can you think of any way to explain the difference in observed adaptation rate (if observed)?"
   ]
  },
  {
   "cell_type": "markdown",
   "id": "3243239f-993c-498c-9391-0e0eec2934ca",
   "metadata": {},
   "source": [
    "...\n",
    "\n",
    "Insert your figure to accompany the text by replacing the \"id\" in the link below with the share link id from your photo. Control the size of the inserted image by changing the \"width\" value in the code.\n",
    "\n",
    "<img src='https://drive.google.com/uc?id=1WoAa-oMOkAj9r9lyls4nLSLyIeuTu4Ae' width=\"300\" >"
   ]
  },
  {
   "cell_type": "markdown",
   "id": "ffbb3c0b-36b0-45f2-8377-fefa37a77449",
   "metadata": {},
   "source": [
    "## Prompt 3\n",
    "\n",
    "**What duration stimulus tested was the minimum required to open all available TRP channels in the recorded photoreceptors? What happens to the peak response amplitude to stimulus durations on either side of that duration (shorter and longer durations)?**\n",
    "\n",
    "***Make a Figure*** that shows evidence for your answers. \n",
    "\n",
    "***Write a Figure Caption*** that includes all necessary information to interpret the figure. Include any quantification in the caption so that your results section is not burdened with those details.\n",
    "\n",
    "***Write a Results \"section\"*** that qualitatively describes your conclusion based on your results. \n"
   ]
  },
  {
   "cell_type": "markdown",
   "id": "169cbfbd-3db7-4c50-ad26-5303d560b4d9",
   "metadata": {},
   "source": [
    "...\n",
    "\n",
    "Insert your figure to accompany the text by replacing the \"id\" in the link below with the share link id from your photo. Control the size of the inserted image by changing the \"width\" value in the code.\n",
    "\n",
    "<img src='https://drive.google.com/uc?id=1WoAa-oMOkAj9r9lyls4nLSLyIeuTu4Ae' width=\"300\" >"
   ]
  },
  {
   "cell_type": "markdown",
   "id": "8d98b7fb-4007-4780-a131-c013a235afa5",
   "metadata": {},
   "source": [
    "## Prompt 4: \n",
    "\n",
    "**Address the following questions (in prose, not as a list):***\n",
    "- How do photoreceptor responses to light temporally summate? \n",
    "- Is the summation linear, sub-linear, or supra-linear? \n",
    "- Why is the summation linear/sub/supra? \n",
    "- Can two photoreceptor responses temporally summate to a larger PSP than a unitary response?\n",
    "\n",
    "***Make a Figure*** that shows evidence for your answer. \n",
    "  > For example, you could include example raw data and/or a scatter plot of normalized peak amplitude of the experimental pulse as a function of ISI. \n",
    "\n",
    "***Write a Figure Caption*** that includes all necessary information to interpret the figure. \n",
    "\n",
    "***Write a Results \"section\"*** that:\n",
    "- Describes your conclusion based on your results. \n",
    "- Describes and explains your prediction for the same experiment, but with a stimulus duration of 100 msec rather than 10 msec. \n",
    "\n"
   ]
  },
  {
   "cell_type": "markdown",
   "id": "685d90b4-f636-4c23-8c08-419fc9be8afa",
   "metadata": {},
   "source": [
    "...\n",
    "\n",
    "Insert your figure to accompany the text by replacing the \"id\" in the link below with the share link id from your photo. Control the size of the inserted image by changing the \"width\" value in the code.\n",
    "\n",
    "<img src='https://drive.google.com/uc?id=1WoAa-oMOkAj9r9lyls4nLSLyIeuTu4Ae' width=\"300\" >"
   ]
  },
  {
   "cell_type": "markdown",
   "id": "c690d81a-9485-4c62-9001-473414b2601d",
   "metadata": {},
   "source": []
  }
 ],
 "metadata": {
  "kernelspec": {
   "display_name": "Python 3 (ipykernel)",
   "language": "python",
   "name": "python3"
  },
  "language_info": {
   "codemirror_mode": {
    "name": "ipython",
    "version": 3
   },
   "file_extension": ".py",
   "mimetype": "text/x-python",
   "name": "python",
   "nbconvert_exporter": "python",
   "pygments_lexer": "ipython3",
   "version": "3.9.13"
  },
  "widgets": {
   "application/vnd.jupyter.widget-state+json": {
    "state": {},
    "version_major": 2,
    "version_minor": 0
   }
  }
 },
 "nbformat": 4,
 "nbformat_minor": 5
}
