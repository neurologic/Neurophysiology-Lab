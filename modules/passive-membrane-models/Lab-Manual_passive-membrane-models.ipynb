{
 "cells": [
  {
   "cell_type": "markdown",
   "id": "ef1ca38d-1fa1-4d5f-acfd-d4fb0225cea5",
   "metadata": {},
   "source": [
    "# Lab Manual and Data Explorer\n",
    "\n",
    "<a href=\"https://colab.research.google.com/github/neurologic/Neurophysiology-Lab/blob/main/modules/passive-membrane-models/Lab-Manual_passive-membrane-models.ipynb\" target=\"_blank\" rel=\"noopener noreferrer\"><img alt=\"Open In Colab\" src=\"https://colab.research.google.com/assets/colab-badge.svg\"/></a>   "
   ]
  },
  {
   "cell_type": "markdown",
   "id": "1e8a349e",
   "metadata": {},
   "source": [
    "<a id=\"toc\"></a>\n",
    "# Table of Contents\n",
    "\n",
    "- [Introduction: Electrical Circuit Models of Membrane Properties](#intro)\n",
    "- [Setup](#setup)\n",
    "- [Part I. Membrane voltage](#one)\n",
    "- [Part II. Intracellular Recording of Applied Current](#two)\n",
    "- [Part III. Extracellular Recording of Applied Current](#three)\n",
    "- [Part IV. Membrane Potential Dynamics with Applied Current](#four)"
   ]
  },
  {
   "cell_type": "markdown",
   "id": "193a6fb5",
   "metadata": {},
   "source": [
    "<a id=\"intro\"></a>\n",
    "# Introduction: Electrical Circuit Models of Membrane Properties\n",
    "\n",
    "[Table of Contents](#toc)\n",
    "\n",
    "Today you will use electrical circuit models of a passive cell membrane to introduce yourself to some of the basic components of your essential electrophysiology toolkit. You will interrogate some of the passive properties of neural membranes and compare the difference between membrane potential \"spikes\" recorded intracellularly and membrane potentials recorded extracellularly. \n",
    "\n",
    "Upon completion of the materials assigned in this module, you will be able to:\n",
    "- Describe passive properties of neural membranes that critically affect neural processing. \n",
    "- Use a voltage meter.\n",
    "- Understand how basic circuit components relate to fundamental physiological properties of neurons (Resistance, Capacitance, Serial, Parallel, Voltage, Current).\n",
    "- Store, manage, and visualize data on the computer.\n",
    "- Create figures that summarize your data and analysis - enabling you to discuss your results.\n",
    "\n",
    "A small set of electrical components can be used to describe many of the basic electrophysiological properties of neurons.\n",
    "\n",
    "<img src='https://github.com/neurologic/Neurophysiology-Lab/blob/main/images/Electrical_Components.png?raw=True' width=\"300\" alt='electrical components'/>\n",
    "\n",
    "[**Resistors**](#resistor-decoder) are electrical components that resist the flow of current through a circuit. The amount of current flowing through a resistor can be expressed by Ohm’s Law: I = V/R, where I represents the current, V represents the voltage, and R represents the resistance. Similarly, V = IR determines the voltage in response to a current across a resistor. \n",
    "\n",
    "In an electrical circuit, a **capacitor** possesses two conducting regions with a separation of non-conducting material in between. When one conducting region accumulates a charge (due to current flow from an external voltage source), an electric field is created, which pushes the charge off of the subsequent conducting region of the capacitor. This phenomenon only lasts a short amount of time, producing a brief current which is expressed as: I = C dV/dt, where I represents the current, C represents the capacitance, and dV/dt represents the rate of voltage change with time.\n",
    "\n",
    "Current flows across the membrane capacitance only when voltage across the membrane changes. When one side of a membrane becomes more positive (for example when an excitatory synaptic input is \"activated\"), positive ions are repelled from and negative ions are attracted to the other side of the membrane. This redistribution of charges takes time, after which the membrane reaches a steady state and no current flows. When the voltage across the membrane returns to its initial value (for example, when synaptic ion channels close), charges separated by the membrane flow again, discharging the membrane capacitance.\n",
    "\n",
    "Since the lipid bilayer is an electrical insulator between two conducting areas (extra- and intracellular fluids), it acts as a capacitor, while ion channels act as resistors. Membrane capacitance is parallel to membrane resistance (though a circuit in series can be equivalent for some purposes). \n",
    "\n",
    "Some **active** properties of a neuron membrane can be modelled with the following circuit. \n",
    "\n",
    "<img src='https://github.com/neurologic/Neurophysiology-Lab/blob/main/images/circuit-model-active.png?raw=True' width=\"400\" alt='model membrane'/>\n",
    "\n",
    "For example, in this model, $R_K$ is the resistance through potassium channels, $R_Na$ is the resistance through sodium channels, and $C$ is the capacitance of the lipid bilayer (not necessary for understanding steady state properties). By convension, we measure the inside of a neuron's membrane with respect to the outside (\"*ground*\").\n",
    "\n",
    "Some **passive** properties of a neuron membrane can be modelled with the following two circuits. \n",
    "\n",
    "<img src='https://github.com/neurologic/Neurophysiology-Lab/blob/main/images/circuit-model-passive-spread.png?raw=True' width=\"500\" alt='model membrane'/>\n",
    "\n",
    "This is a great model of a long compartment of a neuron, such as an axon. In this lab, the circuit you will use for this model has the following $R$ values:\n",
    "- Rinside = 1 kOhm\n",
    "- Routside = 100 Ohm\n",
    "- Rmembrane = 10 kOhm\n",
    "\n",
    "Note that resistances in parallel sum according to $R_total = {R*n}/n$ while resistances in series sum according to $R_total = R*n$.\n",
    "\n",
    "<img src='https://github.com/neurologic/Neurophysiology-Lab/blob/main/images/circuit-model-passive-rc.png?raw=True' width=\"300\" alt='model membrane'/>\n",
    "\n",
    "This is a great model for summarizing the entire membrane of the neuron in a single *compartment*. In this lab, $R=10KOhm$ and $C=1uF$ in the circuit you will use for this model. \n",
    "\n",
    " \n"
   ]
  },
  {
   "cell_type": "markdown",
   "id": "bf216e77",
   "metadata": {},
   "source": [
    "<a id=\"setup\"></a>\n",
    "# Setup"
   ]
  },
  {
   "cell_type": "code",
   "execution_count": null,
   "id": "adfb11bf",
   "metadata": {
    "tags": [
     "hide-input"
    ]
   },
   "outputs": [],
   "source": [
    "#@title {display-mode:\"form\"}\n",
    "\n",
    "#@title Run this cell to initialize packages and functions \n",
    "\n",
    "from pathlib import Path\n",
    "import numpy as np\n",
    "import matplotlib.pyplot as plt\n",
    "import plotly.graph_objects as go\n",
    "from plotly.subplots import make_subplots\n",
    "from ipywidgets import interactive, HBox, VBox, widgets, interact"
   ]
  },
  {
   "cell_type": "markdown",
   "id": "0940aa43-10ac-44e4-8779-8f26e6252216",
   "metadata": {},
   "source": [
    "You will be using the [***Getting Intracellular Amplifier***](http://www.gettinginstruments.com/5A.html) to measure the \n",
    "'membrane potential\" in your model circuits. An analog to digital converter (the [***NiUSB-6211***](https://www.ni.com/en-us/support/model.usb-6211.html) from *National Instruments*) digitizes the analog voltage and sends it to the computer for visualization and recording of the raw (digitized) data.  "
   ]
  },
  {
   "cell_type": "markdown",
   "id": "85d6d574-09dd-4875-916e-c523bf859a50",
   "metadata": {},
   "source": [
    "<a id=\"one\"></a>\n",
    "# Part I. Membrane Potential\n",
    "\n",
    "[TOC](#toc)\n",
    "\n",
    "You will create the following circuit (ignoring capacitance) on a *breadboard*.\n",
    "\n",
    "<img src='https://github.com/neurologic/Neurophysiology-Lab/blob/main/images/circuit-model-active.png?raw=True' width=\"400\" alt='model membrane'/>\n",
    "\n",
    "**Setup**:\n",
    "- Use one battery for $E_K$ and one battery for $E_{Na}$ (make sure to measure and record the voltage of each battery... you will also use this info in future labs)\n",
    "- Start with equal [resistors](#resistor-decoder) for $R_K$ and $R_{Na}$ (make sure to measure and record the value of each resistor... you will also use this info in future labs).\n",
    "- Place the recording/measureing electrode on the ‘inside’ of the membrane \n",
    "- Place the *ground* electrode on the ‘outside’\n",
    "- Open the script in Desktop/BIOL247_FA22/passive-membrane-models/Data called \"passive-membrane-models.bonsai\"\n",
    "- Make sure that the sampling rate is set to 5000.\n",
    "- <font color=\"red\"> Disable</font> the \"Matrix Writer\" node. \n",
    "\n",
    "**Experiment**:\n",
    "- Hit play in Bonsai. Double click on the \"Membrane Potential\" node if the window is not already present. Close the \"Stimulus\" window if it is open.\n",
    "- Right mouse click on the bottom of the membrane potential window to change the y axis range of the graph.\n",
    "- Hover over the signal trace with your mouse to see the voltage. Record the measured 'membrane' potential of the model cell.\n",
    "> Note that *membrane potential* is measured inside the cell relative to outside and the Getting amplifier *has a gain of 10*. \n",
    "- Keeping $R_K$ constant, change $R_{Na}$ and record the measured 'membrane' potential. (make sure to measure and record the value of each resistor... you will also use this info in future labs)\n",
    "- Keeping $R_{Na}$ constant, change $R_K$ and record the measured 'membrane' potential. (make sure to measure and record the value of each resistor... you will also use this info in future labs)\n",
    "- Keeping $R_K$ and $R_{Na}$ constant, change the polarity of the batteries and record what happens to the measured 'membrane' potential with each change in polarity configuration. \n",
    "- Stop the data acquisition by hitting the *stop* button in Bonsai.\n"
   ]
  },
  {
   "cell_type": "markdown",
   "id": "12c5fe6d",
   "metadata": {},
   "source": [
    "<a id=\"two\"></a>\n",
    "# Part II. Intracellular Recording of Applied Current\n",
    "\n",
    "[TOC](#toc)\n",
    "\n",
    "You will use the following passive axon model (pre-made) to complete this experiment.\n",
    "\n",
    "<img src='https://github.com/neurologic/Neurophysiology-Lab/blob/main/images/circuit-model-passive-spread.png?raw=True' width=\"500\" alt='model membrane'/>\n",
    "\n",
    "**Setup**:\n",
    "- At the middle of the axon (node 5), place one electrode on the ‘inside’ of the membrane and one on the ‘outside’.\n",
    "> Note that *membrane potential* is measured inside the cell relative to outside. \n",
    "- Open the script in Desktop/BIOL247_FA22/passive-membrane-models/Data called \"passive-membrane-models.bonsai\"\n",
    "- Make sure that the sampling rate is set to 5000.\n",
    "- <font color=\"red\"> Disable</font> the \"Matrix Writer\" node. \n",
    "\n",
    "**Experiment:**\n",
    "- Attach a voltage source (9V battery) across the cell membrane at the end of the axon (node 0). \n",
    "- Move the voltage source along the axon one node at a time until you reach node 10. \n",
    " - At each node, record the voltage in the dictionary below by replacing the ```...``` with the measured value.\n",
    " > Note that the Getting amplifier *has a gain of 10*. \n"
   ]
  },
  {
   "cell_type": "code",
   "execution_count": null,
   "id": "68856cf7",
   "metadata": {},
   "outputs": [],
   "source": [
    "voltage_intracellular = {\n",
    "    '0' : ...,\n",
    "    '1' : ...,\n",
    "    '2' : ...,\n",
    "    '3' : ...,\n",
    "    '4' : ...,\n",
    "    '5' : ...,\n",
    "    '6' : ...,\n",
    "    '7' : ...,\n",
    "    '8' : ...,\n",
    "    '9' : ...,\n",
    "    '10' : ...\n",
    "}"
   ]
  },
  {
   "cell_type": "markdown",
   "id": "5ef0f912",
   "metadata": {},
   "source": [
    "Run the code cell in which you just defined your data dictionary.\n",
    "\n",
    "Then, run the following code cell to plot your data."
   ]
  },
  {
   "cell_type": "code",
   "execution_count": null,
   "id": "692a3dc3",
   "metadata": {
    "tags": [
     "hide-input"
    ]
   },
   "outputs": [],
   "source": [
    "#@title {display-mode:\"form\"}\n",
    "\n",
    "#@markdown Run to plot data.\n",
    "\n",
    "nodes = list(map(int, list(voltage_intracellular.keys())))\n",
    "voltage = list(voltage_intracellular.values())\n",
    "\n",
    "plt.figure()\n",
    "plt.plot(nodes,voltage)"
   ]
  },
  {
   "cell_type": "markdown",
   "id": "1b6bd914-02a7-42e8-b0b5-f8727c31dfc7",
   "metadata": {},
   "source": [
    "<a id=\"three\"></a>\n",
    "# Part III. Extracellular Recording of Applied Current\n",
    "\n",
    "[TOC](#toc)\n",
    "\n",
    "Use the same passive axon model that you used in [Part II](#two) and a voltmeter to complete this experiment.\n",
    "\n",
    "**Setup**:\n",
    "- At the middle of the axon, place *both* electrodes on the ‘outside’ of the membrane, with one empty node between them (one electrode at node 4 and one at node 6).\n",
    "- Open the script in Desktop/BIOL247_FA22/passive-membrane-models/Data called \"passive-membrane-models.bonsai\"\n",
    "- Make sure that the sampling rate is set to 5000.\n",
    "- <font color=\"red\"> Disable</font> the \"Matrix Writer\" node. \n",
    "\n",
    "**Experiment:**\n",
    "- Attach the voltage source (9V battery) across the cell membrane at the end of the axon (node 0). \n",
    "- Move the voltage source along the axon one node at a time until you reach node 10. \n",
    "  - At each node, record the voltage in the dictionary below by replacing the ```...``` with the measured value.\n"
   ]
  },
  {
   "cell_type": "code",
   "execution_count": null,
   "id": "b916f74c-95c5-4284-bcb1-cd55563f1900",
   "metadata": {},
   "outputs": [],
   "source": [
    "voltage_extracellular = {\n",
    "    '0' : ...,\n",
    "    '1' : ...,\n",
    "    '2' : ...,\n",
    "    '3' : ...,\n",
    "    '4' : ...,\n",
    "    '5' : ...,\n",
    "    '6' : ...,\n",
    "    '7' : ...,\n",
    "    '8' : ...,\n",
    "    '9' : ...,\n",
    "    '10' : ...\n",
    "}"
   ]
  },
  {
   "cell_type": "markdown",
   "id": "777acaa2-c242-48ab-93a2-34d779a59c85",
   "metadata": {},
   "source": [
    "Run the code cell in which you just defined your data dictionary.\n",
    "\n",
    "Then, run the following code cell to plot your data."
   ]
  },
  {
   "cell_type": "code",
   "execution_count": null,
   "id": "4cb6ed26-9e13-4c7a-ae16-232377a26e65",
   "metadata": {
    "tags": [
     "hide-input"
    ]
   },
   "outputs": [],
   "source": [
    "#@title {display-mode:\"form\"}\n",
    "\n",
    "#@markdown Run to plot data.\n",
    "\n",
    "nodes = list(map(int, list(voltage_extracellular.keys())))\n",
    "voltage = list(voltage_extracellular.values())\n",
    "\n",
    "plt.figure()\n",
    "plt.plot(nodes,voltage)"
   ]
  },
  {
   "cell_type": "markdown",
   "id": "b7d6db26-7724-4176-ae20-17dc9bb44278",
   "metadata": {},
   "source": [
    "<a id=\"four\"></a>\n",
    "# Part IV. Membrane Potential Dynamics with Applied Current\n",
    "\n",
    "[TOC](#toc)\n",
    "\n",
    "For this exercise, you will use the following passive resistor-capacitor circuit model membrane. \n",
    "\n",
    "<img src='https://github.com/neurologic/Neurophysiology-Lab/blob/main/images/circuit-model-passive-rc.png?raw=True' width=\"300\" alt='model membrane'/>\n",
    "\n",
    "You will be using the [***Getting Intracellular Amplifier***](http://www.gettinginstruments.com/5A.html) to both deliver current and measure voltage The Getting provides a *current stimulation*, feature that applies a \"square wave\" stimulus across the measurement electrodes. A square wave stimulus one that instantaneously increases in amplitude and maintains that amplitude some duration before instantaneously decreasing to 0.\n",
    "\n",
    "**Setup**: \n",
    "- Place the recording/measureing electrode on the ‘inside’ of the membrane \n",
    "- Place the *ground* electrode on the ‘outside’\n",
    "  > If you are using a separate SIU and amplifier, set up the stimulus electrodes so that you can \"apply\" current into the model membrane (one stimulating electrode on the outside and one on the inside). You will need to use a model circuit in series rather than parallel so the recording does not short the stim. \n",
    "- Open the script in Desktop/BIOL247_FA22/passive-membrane-models/Data called \"passive-membrane-models.bonsai\"\n",
    "  > Note that a copy of the stimulus (*current monitor*) is also being sent to the NiUSB ADC. The coversion factor is 100 mV per nA.\n",
    "- Make sure that the sampling rate is set to 5000.\n",
    "- <font color=\"red\"> Disable</font> the \"Matrix Writer\" node. \n",
    "- Hit play. Double click on the \"Membrane Potential\" and \"Stimulus\" nodes if the windows are not already present. Make sure that you see a signal. \n",
    "- Set the current amplitude to about 5nA and switch it on for approximately 2 seconds to see that you get a response.  \n",
    "- Stop the data acquisition by hitting the *stop* button in Bonsai.\n",
    "\n",
    "**Experiment**:\n",
    "1. With only a resistor across the membrane\n",
    "    - <font color=\"green\"> Enable</font> the \"Matrix Writer\" node. \n",
    "    - Hit play to collect data. Double click on the \"Membrane Potential\" and \"Stimulus\" nodes if the windows are not already present. Make sure that you see a signal. \n",
    "    - Apply a stimulus pulse of 2 seconds. \n",
    "    - Stop the data acquisition by hitting the *stop* button in Bonsai.\n",
    "2. With both the capacitor and resistor across the membrane\n",
    "    - Hit play to collect data. Double click on the \"Membrane Potential\" and \"Stimulus\" nodes if the windows are not already present. Make sure that you see a signal. \n",
    "    - Apply a stimulus pulse of 2 seconds.\n",
    "    - Stop the data acquisition by hitting the *stop* button in Bonsai. \n",
    "\n",
    "\n",
    "Upload your data files to an external drive **OR** to your Google Drive.  \n",
    "\n",
    "**Use the [DataExplorer.py](https://raw.githubusercontent.com/neurologic/Neurophysiology-Lab/main/howto/Data-Explorer.py) application found in the [howto section](https://neurologic.github.io/Neurophysiology-Lab/howto/Dash-Data-Explorer.html) of the course website to explore and analyze your data.**\n",
    "\n",
    "Stop here for a class discussion about what you notice from this final experiment and a tutorial on the **DataExplorer.py** application.\n",
    "\n",
    "**Experiment extensions** (time permitting): \n",
    "- What happens when you change the stimulus amplitude?\n",
    "- What happens when you change the stimulus duration?\n",
    "- What happens when you change the resistance of the model cell?\n",
    "- What happens when you change the capacitance of the model cell?\n",
    "\n"
   ]
  },
  {
   "cell_type": "markdown",
   "id": "1753240a-814e-49db-b7ea-64f3c345184a",
   "metadata": {},
   "source": [
    "# Additional Resources\n",
    "\n",
    "<a id='resistor-decoder'></a>\n",
    "## Resistor Decoder\n",
    "From [worrydream](http://worrydream.com/#!/ResistorDecoder)\n",
    "<img src='https://github.com/neurologic/Neurophysiology-Lab/blob/main/images/resistors-decoder_bret-victor.png?raw=True' width=\"700\" alt='model membrane'/>"
   ]
  },
  {
   "cell_type": "markdown",
   "id": "ad78eba8-9a99-4bef-a7c6-3c396b6701ad",
   "metadata": {},
   "source": [
    "<hr> \n",
    "Written by Dr. Krista Perks for courses taught at Wesleyan University. Materials based off of William Kristan's graduate student bootcamp at UCSD and the Membrane Properties Lab in the Crawdad Lab Manual by Robert A. Wyttenbach, Bruce R. Johnson, and Ronald R. Hoy"
   ]
  },
  {
   "cell_type": "code",
   "execution_count": null,
   "id": "36f612d7-1d49-4831-b48f-3a97ac699616",
   "metadata": {},
   "outputs": [],
   "source": []
  }
 ],
 "metadata": {
  "celltoolbar": "Tags",
  "kernelspec": {
   "display_name": "Python 3 (ipykernel)",
   "language": "python",
   "name": "python3"
  },
  "language_info": {
   "codemirror_mode": {
    "name": "ipython",
    "version": 3
   },
   "file_extension": ".py",
   "mimetype": "text/x-python",
   "name": "python",
   "nbconvert_exporter": "python",
   "pygments_lexer": "ipython3",
   "version": "3.8.13"
  },
  "widgets": {
   "application/vnd.jupyter.widget-state+json": {
    "state": {},
    "version_major": 2,
    "version_minor": 0
   }
  }
 },
 "nbformat": 4,
 "nbformat_minor": 5
}
