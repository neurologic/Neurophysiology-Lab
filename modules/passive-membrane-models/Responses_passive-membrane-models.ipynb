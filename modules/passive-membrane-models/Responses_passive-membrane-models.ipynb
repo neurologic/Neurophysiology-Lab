{
 "cells": [
  {
   "cell_type": "markdown",
   "id": "283324ce-014f-4618-87e4-e2dd10662c4f",
   "metadata": {},
   "source": [
    "# Responses\n",
    "\n",
    "<a href=\"https://colab.research.google.com/github/neurologic/Neurophysiology-Lab/blob/main/modules/passive-membrane-models/Responses_passive-membrane-models.ipynb\" target=\"_blank\"><img alt=\"Open In Colab\" src=\"https://colab.research.google.com/assets/colab-badge.svg\"/></a>   \n",
    "\n",
    "Markdown cells awaiting your responses to the following questions contain ```...```\n",
    "\n",
    "Edit these cells by replacing ```...``` with your responses. \n",
    "\n",
    "Many of these questions should be review from your previous neuroscience courses. Do the best you can with reasoning through any problems that we did not end up discussing during class. You can work with others in this course to review material and discuss the questions. \n",
    "\n",
    "---"
   ]
  },
  {
   "cell_type": "markdown",
   "id": "c5b00833-8268-4a29-a442-e85b51a19f84",
   "metadata": {},
   "source": [
    "***NAME***:"
   ]
  },
  {
   "cell_type": "markdown",
   "id": "1d0a9c7d-3170-460d-8b5a-673ad0797fc9",
   "metadata": {},
   "source": [
    "..."
   ]
  },
  {
   "cell_type": "markdown",
   "id": "560e69c4-db40-4416-bbef-c53c8cb387a7",
   "metadata": {},
   "source": [
    "***Prompt 1: What is the biological equivalent of the resistors in the neuron membrane model from Part I (membrane potential model circuit)?***"
   ]
  },
  {
   "cell_type": "markdown",
   "id": "7da8cd6d-3fe3-4590-8222-818ff3cba53b",
   "metadata": {},
   "source": [
    "..."
   ]
  },
  {
   "cell_type": "markdown",
   "id": "f63c39dc-8c6c-41bf-afa4-e230e1a97ef6",
   "metadata": {},
   "source": [
    "***Prompt 2: What is the biological equivalent of each set of resistors (Rinside, Routside, Rmembrane) in the neuron membrane model from Part II and III (passive spread model circuit)?***"
   ]
  },
  {
   "cell_type": "markdown",
   "id": "f672dbb8-aa92-4ee9-a59d-835f17d324a5",
   "metadata": {},
   "source": [
    "..."
   ]
  },
  {
   "cell_type": "markdown",
   "id": "87c4e477-cde9-4867-9a2e-384ac29c0bb6",
   "metadata": {},
   "source": [
    "***Prompt 3: What is the biological equivalent of each battery (the voltage applied across the membrane) in the neuron membrane model from Part I (membrane potential model circuit)?***"
   ]
  },
  {
   "cell_type": "markdown",
   "id": "29e9ca63-f40b-4551-bcd2-dbb380e0626d",
   "metadata": {},
   "source": [
    "..."
   ]
  },
  {
   "cell_type": "markdown",
   "id": "72f928ad-a571-40af-b08d-04618152423d",
   "metadata": {},
   "source": [
    "***Prompt 4: What is the biological equivalent of the battery (the voltage applied across the membrane) in the neuron membrane model from Part II and III (passive spread model circuit)?***"
   ]
  },
  {
   "cell_type": "markdown",
   "id": "6ba28ec6-b4a7-41c5-9a7b-7f3a825cd6d2",
   "metadata": {},
   "source": [
    "..."
   ]
  },
  {
   "cell_type": "markdown",
   "id": "b01d99cf-b8b2-4e17-a87a-55d8a7de55fb",
   "metadata": {},
   "source": [
    "***Prompt 5: When a set of ion channels (selective for Potassium, for example) opens, what happens to the resistance of the membrane?***"
   ]
  },
  {
   "cell_type": "markdown",
   "id": "abd7dce2-1649-4f04-894b-37c25b303a84",
   "metadata": {},
   "source": [
    "..."
   ]
  },
  {
   "cell_type": "markdown",
   "id": "c7064c1b-a0ec-483a-a2b5-153edc7bae3a",
   "metadata": {},
   "source": [
    "***Prompt 6: In neurophysiology we often talk about ion channel conductance ($g$) rather than resistance ($R$), where $R = 1/g$. How did the balance (difference) between the two conductances ($g$) in the neuron membrane model from Part I (membrane potential model circuit) effect the voltage across the cell membrane?***"
   ]
  },
  {
   "cell_type": "markdown",
   "id": "51bc0b65-effa-4b8f-9f1c-2063188f7b77",
   "metadata": {},
   "source": [
    "..."
   ]
  },
  {
   "cell_type": "markdown",
   "id": "42131bda-39ae-44ea-ae6e-d50e1f779816",
   "metadata": {},
   "source": [
    "***Prompt 7: What part of the action potential were you simulating in Part II and III (the passive spread model circuit)? Note that it depends on what polarity you actually placed the battery accross the membrane.***"
   ]
  },
  {
   "cell_type": "markdown",
   "id": "4654ed8f-b96a-451d-bca2-0d6b0085ffa2",
   "metadata": {},
   "source": [
    "..."
   ]
  },
  {
   "cell_type": "markdown",
   "id": "db8818a4-88b3-41c5-8185-e741b526207c",
   "metadata": {},
   "source": [
    "***Prompt 8: In Part II and III (passive spread model circuit), what was the scaling factor between the measured peak amplitude in intracellular versus extracellular recording configuration (extracellularly measured maximum amplitude divided by intracellularly measured maximum amplitude)?***"
   ]
  },
  {
   "cell_type": "markdown",
   "id": "960bf456-feb2-4c3e-94d6-fce05f501a20",
   "metadata": {},
   "source": [
    "..."
   ]
  },
  {
   "cell_type": "markdown",
   "id": "c2b809f4-eaad-4bc4-873d-cad288bbf386",
   "metadata": {},
   "source": [
    "***Prompt 9: The space constant is the distance in space it takes for voltage to change by 63% from its original value. Approximate the space constant (in arbitrary \"node\" units) of the model membrane using the intracellular measurements of membrane potential (Part II) as the voltage peak travelled down its length.***  \n",
    "1. ***calculate the space constant by starting at the node at which you measured the maximum voltage.***\n",
    "2. ***calculate the space constant by starting two nodes away from where you measured the maximum voltage.***"
   ]
  },
  {
   "cell_type": "markdown",
   "id": "109cfe4d-010b-492c-ba99-3dbb62f30904",
   "metadata": {},
   "source": [
    "..."
   ]
  },
  {
   "cell_type": "markdown",
   "id": "789bd9cc-2df3-478e-bc21-7e105beaec87",
   "metadata": {},
   "source": [
    "***Prompt 10: The space constant can also be calculated using the following equation:***  \n",
    "$\\lambda = \\sqrt{\\frac{ R_{membrane} }{ R_{inside} + R_{outside} }}$  \n",
    "***What value do you get from calculating this way?***"
   ]
  },
  {
   "cell_type": "markdown",
   "id": "1ae30483-b618-4831-8057-19bc6a0fba8b",
   "metadata": {},
   "source": [
    "..."
   ]
  },
  {
   "cell_type": "markdown",
   "id": "3da7445e-eee2-41c3-938b-eeef11e9d581",
   "metadata": {},
   "source": [
    "***Prompt 11: $R_{outside}$ is usually so small compared to the other resistances that it can be ignored when estimating the space constant. Why do you think it is so much smaller? In other words, what makes $R_{inside}$ large compared to $R_{outside}$? And what makes $R_{membrane}$ large compared to $R_{outside}$?). Reason out your best educated guess.***"
   ]
  },
  {
   "cell_type": "markdown",
   "id": "59bd31d8-4879-4989-b3ca-31ecc0f9011c",
   "metadata": {},
   "source": [
    "..."
   ]
  },
  {
   "cell_type": "markdown",
   "id": "6456adf1-7428-4764-a22e-e9ad8ca308cf",
   "metadata": {},
   "source": [
    "***Prompt 12: Axons of different types of neurons have different diameters. Why, based on the space constant, would action potentials travel faster along axons with a larger cross-section diameter? Reason out your best educated guess based on your answer to Prompt 11*** "
   ]
  },
  {
   "cell_type": "markdown",
   "id": "83a872f2-0de2-4c72-a81c-81a74e228198",
   "metadata": {},
   "source": [
    "..."
   ]
  },
  {
   "cell_type": "markdown",
   "id": "907bc41e-a0ca-4280-9011-d94664b9f7ed",
   "metadata": {},
   "source": [
    "***Prompt 13: Think back to your other neuroscience courses. Draw a typical neuron's action potential and annotate and describe what physiological events across the cell membrane cause the following components of the waveform shape:***\n",
    "1. ***peak depolarization amplitude***\n",
    "2. ***change in polarity (\"after-hypoerpolarization\")***\n",
    "    \n",
    "```{admonition} How To \n",
    "Insert an image from your google drive in a markdown cell by doing the following... \n",
    "\n",
    "Get the \"Anyone can view\" share link from google drive. \n",
    "With a  share link in the following format: https://drive.google.com/file/d/ID-of-image-/view?usp=sharing,\n",
    "all you need is the *ID-of-image* from the URL share link. \n",
    "\n",
    "Enter editing mode on the Markdown cell below.\n",
    "\n",
    "In the template URL provided, replace \"1WoAa-oMOkAj9r9lyls4nLSLyIeuTu4Ae\" with the ID from the link you see in your google drive's \"share link\" for your image.\n",
    "\n",
    "Then \"run\" the markdown cell (or double click it). Your image will replace the one provided.\n",
    "\n",
    "```"
   ]
  },
  {
   "cell_type": "markdown",
   "id": "876a9047-2ff2-4dd6-9398-5f62e4367868",
   "metadata": {},
   "source": [
    "...\n",
    "\n",
    "<img src='https://drive.google.com/uc?id=1WoAa-oMOkAj9r9lyls4nLSLyIeuTu4Ae' width=\"300\" >"
   ]
  },
  {
   "cell_type": "markdown",
   "id": "d86e6375-e127-4e82-91d2-ebed2d5ed771",
   "metadata": {},
   "source": [
    "***Prompt 14: What caused the change in polarity in your membrane potential measurement for the extracellular recording in Part III (and why did the polarity not change for the intracellular recording in Part II)? If you did not observe a polarity change or if you observed a polarity change in both configurations, make note of that. Include a diagram if it helps you explain more concisely.***"
   ]
  },
  {
   "cell_type": "markdown",
   "id": "be098868-6fc2-45f7-8236-7614cb79ce55",
   "metadata": {},
   "source": [
    "...\n",
    "\n",
    "<img src='https://drive.google.com/uc?id=1WoAa-oMOkAj9r9lyls4nLSLyIeuTu4Ae' width=\"300\" >"
   ]
  },
  {
   "cell_type": "markdown",
   "id": "63bb7bef-134b-48c0-8b4c-0e2d70235c4a",
   "metadata": {},
   "source": [
    "***Prompt 15: Based on what you observed today, what properties of the electrode configuration/placement modulates each of the following two features of the action potential waveform shape when measuring the membrane potential of a neuron?*** \n",
    "1. ***polarity*** \n",
    "2. ***amplitude***\n"
   ]
  },
  {
   "cell_type": "markdown",
   "id": "986914fb-a575-4442-9323-45243c33b5a5",
   "metadata": {},
   "source": [
    "..."
   ]
  }
 ],
 "metadata": {
  "kernelspec": {
   "display_name": "Python 3 (ipykernel)",
   "language": "python",
   "name": "python3"
  },
  "language_info": {
   "codemirror_mode": {
    "name": "ipython",
    "version": 3
   },
   "file_extension": ".py",
   "mimetype": "text/x-python",
   "name": "python",
   "nbconvert_exporter": "python",
   "pygments_lexer": "ipython3",
   "version": "3.9.13"
  },
  "widgets": {
   "application/vnd.jupyter.widget-state+json": {
    "state": {},
    "version_major": 2,
    "version_minor": 0
   }
  }
 },
 "nbformat": 4,
 "nbformat_minor": 5
}
