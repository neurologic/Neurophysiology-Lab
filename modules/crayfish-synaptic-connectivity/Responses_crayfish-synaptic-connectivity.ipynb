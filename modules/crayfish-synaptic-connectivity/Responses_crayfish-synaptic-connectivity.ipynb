{
 "cells": [
  {
   "cell_type": "markdown",
   "id": "cdf03420-1585-4ee8-a6c9-761369192769",
   "metadata": {},
   "source": [
    "<a href=\"https://colab.research.google.com/github/neurologic/Neurophysiology-Lab/blob/main/modules/crayfish-synaptic-connectivity/Responses_crayfish-synaptic-connectivity.ipynb\" target=\"_blank\" rel=\"noopener noreferrer\"><img alt=\"Open In Colab\" src=\"https://colab.research.google.com/assets/colab-badge.svg\"/></a>   "
   ]
  },
  {
   "cell_type": "markdown",
   "id": "2bcea47c-bd58-4eac-b259-f43405e8982d",
   "metadata": {},
   "source": [
    "# Responses"
   ]
  },
  {
   "cell_type": "markdown",
   "id": "02cf5e92-be7c-4ad9-a45b-0bbc5b85c35f",
   "metadata": {},
   "source": [
    "Your Name:"
   ]
  },
  {
   "cell_type": "markdown",
   "id": "9a31f893-7f31-4bb8-9793-c1a8dc0ed031",
   "metadata": {
    "tags": []
   },
   "source": [
    "## Prompt 1: \n",
    "\n",
    "**Make a Figure** with the following panels using the raw data you collected during the three experimental conditions tested (no stimulation, stimulation of the tailfan, stimulation of the side scallop hairs or swimmerets):  \n",
    "**Ai)** The initial clustering results (average waveform for each cluster)  \n",
    "**Aii)** If needed, the final clustering results (after manually merging clusters)  \n",
    "**B)** A representative sample of the raw data with an overlayed scatter plot of spike times showing spike cluster identity.  \n",
    "**Ci, ii, iii)** A representative sample (of equal duration) for each of the three experimental conditions. This set of panels should qualitatively show your experiment results. \n",
    "\n",
    "**Write a Figure Caption** that:\n",
    "- includes all necessary information to interpret the figure. \n",
    "- reports the quantitative results of the experiment (the average spike rate for each motor neuron across the three experimental conditions).\n",
    "\n",
    "**Write a Results \"section\"** that describes the results of the experiment. Be sure to address the following two observations:\n",
    "- How did stimulation effect spike rate? \n",
    "- How did stimulation effect neural recruitment? "
   ]
  },
  {
   "cell_type": "markdown",
   "id": "d7bb320f-66da-41ab-88c6-b4a1024027cf",
   "metadata": {},
   "source": [
    "...\n",
    "\n",
    "Insert your figure to accompany the text by replacing the \"id\" in the link below with the share link id from your photo. Control the size of the inserted image by changing the \"width\" value in the code.\n",
    "\n",
    "<img src='https://drive.google.com/uc?id=1WoAa-oMOkAj9r9lyls4nLSLyIeuTu4Ae' width=\"300\" >"
   ]
  },
  {
   "cell_type": "markdown",
   "id": "96f2f7cf-1b1f-4450-9610-859135aba9b4",
   "metadata": {
    "tags": []
   },
   "source": [
    "## Prompt 2: \n",
    "\n",
    "**Make a Figure** with the following panels using the raw data collected by Alexis and Duncan):  \n",
    "A) An example of temporal summation (ie from homosynaptic input)   \n",
    "B) An example of spatial summation (ie from heterosynaptic input)   \n",
    "\n",
    "***Make sure to include data in your panels that not only shows the post-synaptic response specified, but that shows wether the post-synaptic summation is homo- or heterosynaptic.*** Think about what data you need to show, and how you would show it, to prove the distinction between these two scenarios.\n",
    "\n",
    "**Write a Figure Caption** that includes all necessary information to interpret the figure. \n"
   ]
  },
  {
   "cell_type": "markdown",
   "id": "6ba187d3-cf4b-4181-a8ea-73a549c660b8",
   "metadata": {},
   "source": [
    "...\n",
    "\n",
    "Insert your figure to accompany the text by replacing the \"id\" in the link below with the share link id from your photo. Control the size of the inserted image by changing the \"width\" value in the code.\n",
    "\n",
    "<img src='https://drive.google.com/uc?id=1WoAa-oMOkAj9r9lyls4nLSLyIeuTu4Ae' width=\"300\" >"
   ]
  },
  {
   "cell_type": "markdown",
   "id": "3a4598e1-2c01-4770-924c-ebcd9fb52b70",
   "metadata": {
    "tags": []
   },
   "source": [
    "## Prompt 3: \n",
    "\n",
    "**Make a Figure** (using the raw data collected by Alexis and Duncan) that shows pre-synaptic innervation from different sets of pre-synaptic neurons at two different post-synaptic sites. Think about what data you need to show, and how you would show it, to prove that the two different post-synaptic sites have pre-synaptic innervation from different sets of pre-synaptic neurons.\n",
    "\n",
    "**Write a Figure Caption** that includes all necessary information to interpret the figure. \n",
    "\n",
    "**Write a Results section** that describes the effect of post-synaptic electrode placement on the measured post-synaptic response to pre-synaptic spikes. In other words, why do you observe different responses to the same pre-synaptic activity at different post-synaptic locations (include the concept of spatial voltage decay in your explanation)."
   ]
  },
  {
   "cell_type": "markdown",
   "id": "fec5eed7-bc68-4c3c-ab12-dd5b321d4eee",
   "metadata": {},
   "source": [
    "...\n",
    "\n",
    "Insert your figure to accompany the text by replacing the \"id\" in the link below with the share link id from your photo. Control the size of the inserted image by changing the \"width\" value in the code.\n",
    "\n",
    "<img src='https://drive.google.com/uc?id=1WoAa-oMOkAj9r9lyls4nLSLyIeuTu4Ae' width=\"300\" >"
   ]
  },
  {
   "cell_type": "code",
   "execution_count": null,
   "id": "c6f6a8c4-3e73-410e-a93c-6747537515b6",
   "metadata": {},
   "outputs": [],
   "source": []
  }
 ],
 "metadata": {
  "kernelspec": {
   "display_name": "Python 3 (ipykernel)",
   "language": "python",
   "name": "python3"
  },
  "language_info": {
   "codemirror_mode": {
    "name": "ipython",
    "version": 3
   },
   "file_extension": ".py",
   "mimetype": "text/x-python",
   "name": "python",
   "nbconvert_exporter": "python",
   "pygments_lexer": "ipython3",
   "version": "3.8.13"
  },
  "widgets": {
   "application/vnd.jupyter.widget-state+json": {
    "state": {},
    "version_major": 2,
    "version_minor": 0
   }
  }
 },
 "nbformat": 4,
 "nbformat_minor": 5
}
