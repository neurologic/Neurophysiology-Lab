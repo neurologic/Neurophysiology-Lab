{
 "cells": [
  {
   "cell_type": "markdown",
   "id": "2bcea47c-bd58-4eac-b259-f43405e8982d",
   "metadata": {},
   "source": [
    "# Responses\n",
    "\n",
    "<a href=\"https://colab.research.google.com/github/neurologic/Neurophysiology-Lab/blob/main/modules/earthworm-giant-fiber-cv/Responses_earthworm-giant-fiber-cv.ipynb\" target=\"_blank\"><img alt=\"Open In Colab\" src=\"https://colab.research.google.com/assets/colab-badge.svg\"/></a>   "
   ]
  },
  {
   "cell_type": "markdown",
   "id": "513c0ad9-f856-46a3-9a79-9bb0ca01811c",
   "metadata": {},
   "source": [
    "***Your Name:***"
   ]
  },
  {
   "cell_type": "markdown",
   "id": "167c013a-0073-40f8-9172-8a37465644bf",
   "metadata": {},
   "source": [
    "..."
   ]
  },
  {
   "cell_type": "markdown",
   "id": "4c42a9b2-9daa-48e1-a33b-ffcb377a5876",
   "metadata": {},
   "source": [
    "## Experiment 1"
   ]
  },
  {
   "cell_type": "markdown",
   "id": "ecec8794-af1a-4ca4-873a-872c8d3d5926",
   "metadata": {},
   "source": [
    "***Prompt 1 (8 points):***  \n",
    "\n",
    "***Calculating conduction velocity (CV):  \n",
    "Method 1 = use the two measurement electrodes  \n",
    "Method 2 = use the stimulus electrode and a measurement electrode***\n",
    "\n",
    "***Create a Figure with the following panels:  \n",
    "    A. Diagram of the stimulation and recording setup (including annotation of the points you used for your distance measurements)   \n",
    "    B. A showcase of the data you used to calculate CV according to method 1 and method 2 (including annotation of the points you used for your time measurement)  \n",
    "    C. A \"violin plot\" or \"jittered scatterplot\" of your CV measurements using method 1 and method 2***\n",
    "    \n",
    "***Write a caption to the figure that includes:  \n",
    "    -a description (ie. legend) for each figure panel including all information needed to assess your reported results    \n",
    "    -the setup of your electrodes including any relevant distance measurements  \n",
    "    -the average CV and the variance in your estimate using method 1 and method 2***"
   ]
  },
  {
   "cell_type": "markdown",
   "id": "3f3570a0-bdf8-4a7e-96ac-035c91e9b3d1",
   "metadata": {},
   "source": [
    "...\n",
    "<img src='https://drive.google.com/uc?id=1WoAa-oMOkAj9r9lyls4nLSLyIeuTu4Ae' width=\"300\" >"
   ]
  },
  {
   "cell_type": "markdown",
   "id": "9f81df18-5ac8-4f91-8558-ce01abacdeeb",
   "metadata": {},
   "source": [
    "## Experiment 2 (your own data or data provided)\n",
    "\n",
    "If you were not able to collect data for this experiment. Use the following two files (Sampling rate: 30000, 3 channels, ch0 measurement electrode X cm anterior to ch1 measurement electrode. ch 3 not used.):\n",
    "- [manual stimulation of the anterior tip of the worm](https://drive.google.com/file/d/15qi9eaOMMEiTz4koXVVXeDR1lea-rcut/view?usp=sharing)\n",
    "    > Use the following bout times for the best signal-to-noise ratio in the recording: [[17,21],[23,26],[28,30],[35,40]]\n",
    "- [manual stimulation of the posterior tip of the worm](https://drive.google.com/file/d/1F-NGvh1LgWO2a48-6xdq7_AN3BYVyre3/view?usp=sharing)\n",
    "    > use the following bout times for the best signal-to-noise ratio in the recording: [[29.1,29.27],[38.5,38.7],[45,55]]"
   ]
  },
  {
   "cell_type": "markdown",
   "id": "22056d2d-56f1-40ff-9986-0aa14f9728b5",
   "metadata": {},
   "source": [
    "***Prompt 2 (10 points):***  \n",
    "\n",
    "***Create a figure with the following panels:  \n",
    "    A. Diagram of the stimulation and recording setup. Include annotation of the points you used for your distance measurements.  \n",
    "    B. (i and ii). An example CAP for each stimulation condition (anterior versus posterior). Make sure that the x and y axis covers the same range for both i and ii so that absolute time and amplitude differences can be compared. Include annotation of the points you used for your time measurement in the conduction velocity (CV) calculation.  \n",
    "    C. A scatterplot of the CAP CV for each condition (anterior or posterior).  \n",
    "    D. A scatterplot of the CAP CV against the inter-spike-interval (the time from the previous CAP to the one you are calculating a CV for). Only use data for which there were CAPs within 1-50msec of each other. If your data does not have this condition, use the provided \"posterior stimulation\" data. If the IEI is > 50 msec, use \"50\" msec as the iei (and label the 50 msec iei \"50+\" on the x axis of your final figure).***  \n",
    "\n",
    "***Write a caption to the figure that includes:  \n",
    "    -a description (ie. legend) for each figure panel including all information needed to assess your reported results    \n",
    "    -the setup of your electrodes including any relevant distance measurements  \n",
    "    -whether you used the same channel or different channels to determine the \"trial times\" for anterior and posterior stimulation conditions (and why)\n",
    "    -the average CAP CV for each condition and the variance in your estimates  \n",
    "    -observations about the relationship between ISI and CV when ISI ranges between 1-50msec***"
   ]
  },
  {
   "cell_type": "markdown",
   "id": "b27ed5e5-39df-4a0d-adbb-2cafbdbf5bcd",
   "metadata": {},
   "source": [
    "...\n",
    "<img src='https://drive.google.com/uc?id=1WoAa-oMOkAj9r9lyls4nLSLyIeuTu4Ae' width=\"300\" >"
   ]
  },
  {
   "cell_type": "markdown",
   "id": "5945d373-aac6-498f-9ad5-2353dbe428f0",
   "metadata": {},
   "source": [
    "***Prompt 3 (4 points): Explain why the first two peaks of the CAP (the first bipolar part of the CAP waveform) for the anterior and posterior stimulation conditions were opposite polarity. (You can of course include a figure/graphic if that helps you explain).*** "
   ]
  },
  {
   "cell_type": "markdown",
   "id": "7d29d79f-9ee5-4f42-8cd4-7b310acc82c7",
   "metadata": {},
   "source": [
    "..."
   ]
  },
  {
   "cell_type": "markdown",
   "id": "aba89bc0-1545-4ab6-9373-b52c44b729c4",
   "metadata": {},
   "source": [
    "***Prompt 4 (2 points): Which giant fiber has a larger axon diameter; the medial or the lateral giant fibers? What is your evidence for this?*** "
   ]
  },
  {
   "cell_type": "markdown",
   "id": "5abb1308-c7d4-4bbf-aa4e-d610777c3378",
   "metadata": {},
   "source": [
    "..."
   ]
  },
  {
   "cell_type": "code",
   "execution_count": null,
   "id": "c6f6a8c4-3e73-410e-a93c-6747537515b6",
   "metadata": {},
   "outputs": [],
   "source": []
  }
 ],
 "metadata": {
  "kernelspec": {
   "display_name": "Python 3 (ipykernel)",
   "language": "python",
   "name": "python3"
  },
  "language_info": {
   "codemirror_mode": {
    "name": "ipython",
    "version": 3
   },
   "file_extension": ".py",
   "mimetype": "text/x-python",
   "name": "python",
   "nbconvert_exporter": "python",
   "pygments_lexer": "ipython3",
   "version": "3.9.13"
  },
  "widgets": {
   "application/vnd.jupyter.widget-state+json": {
    "state": {},
    "version_major": 2,
    "version_minor": 0
   }
  }
 },
 "nbformat": 4,
 "nbformat_minor": 5
}
