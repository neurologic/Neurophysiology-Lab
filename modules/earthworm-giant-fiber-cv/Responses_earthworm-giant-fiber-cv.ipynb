{
 "cells": [
  {
   "cell_type": "markdown",
   "id": "2bcea47c-bd58-4eac-b259-f43405e8982d",
   "metadata": {},
   "source": [
    "# Responses\n",
    "\n",
    "<a href=\"https://colab.research.google.com/github/neurologic/Neurophysiology-Lab/blob/main/modules/earthworm-giant-fiber-cap/Responses_earthworm-giant-fiber-cv.ipynb\" target=\"_blank\"><img alt=\"Open In Colab\" src=\"https://colab.research.google.com/assets/colab-badge.svg\"/></a>   "
   ]
  },
  {
   "cell_type": "markdown",
   "id": "513c0ad9-f856-46a3-9a79-9bb0ca01811c",
   "metadata": {},
   "source": [
    "***Your Name:***"
   ]
  },
  {
   "cell_type": "markdown",
   "id": "167c013a-0073-40f8-9172-8a37465644bf",
   "metadata": {},
   "source": [
    "..."
   ]
  },
  {
   "cell_type": "markdown",
   "id": "4c42a9b2-9daa-48e1-a33b-ffcb377a5876",
   "metadata": {},
   "source": [
    "## Experiment 1"
   ]
  },
  {
   "cell_type": "markdown",
   "id": "ecec8794-af1a-4ca4-873a-872c8d3d5926",
   "metadata": {},
   "source": [
    "***Prompt : ***"
   ]
  },
  {
   "cell_type": "markdown",
   "id": "3f3570a0-bdf8-4a7e-96ac-035c91e9b3d1",
   "metadata": {},
   "source": [
    "...\n",
    "<img src='https://drive.google.com/uc?id=1WoAa-oMOkAj9r9lyls4nLSLyIeuTu4Ae' width=\"300\" >"
   ]
  },
  {
   "cell_type": "markdown",
   "id": "21af1be8-9543-45b6-bb5a-7ef95cf59bca",
   "metadata": {},
   "source": [
    "***Prompt : ***"
   ]
  },
  {
   "cell_type": "markdown",
   "id": "912a6eb2-6f29-4465-83c4-64d211cf0018",
   "metadata": {},
   "source": [
    "..."
   ]
  },
  {
   "cell_type": "markdown",
   "id": "9f81df18-5ac8-4f91-8558-ce01abacdeeb",
   "metadata": {},
   "source": [
    "## Experiment 2 (your own data or data provided)\n",
    "\n",
    "If you were not able to collect data for this experiment. Use the following two files:\n",
    "1. [manual stimulation of the anterior tip of the worm](https://drive.google.com/file/d/15qi9eaOMMEiTz4koXVVXeDR1lea-rcut/view?usp=sharing)\n",
    "    > use the following bout times for the best signal-to-noise ratio in the recording: [[17,21],[23,26],[28,30],[35,40]]\n",
    "2. [manual stimulation of the posterior tip of the worm](https://drive.google.com/file/d/1F-NGvh1LgWO2a48-6xdq7_AN3BYVyre3/view?usp=sharing)\n",
    "    > use the following bout times for the best signal-to-noise ratio in the recording: [[29.1,29.27],[38.5,38.7],[45,55]]"
   ]
  },
  {
   "cell_type": "markdown",
   "id": "22056d2d-56f1-40ff-9986-0aa14f9728b5",
   "metadata": {},
   "source": [
    "***Prompt : Create a figure with the following panels:  \n",
    "    A (i and ii). An example CAP for each type of stimulation (anterior versus posterior).  \n",
    "    B. A scatterplot of the CAP CV for each condition (anterior or posterior).  \n",
    "    C. A scatterplot of the CAP CV against the inter-event-interval (the time from the previous CAP to the one you are calculating a CV for). Use the posterior stimulation condition only for the data in this scatterplot. If the IEI is > 50 msec, use 50 msec as the iei (and label the 50 msec iei 50+ on the x axis).***"
   ]
  },
  {
   "cell_type": "markdown",
   "id": "b27ed5e5-39df-4a0d-adbb-2cafbdbf5bcd",
   "metadata": {},
   "source": [
    "...\n",
    "<img src='https://drive.google.com/uc?id=1WoAa-oMOkAj9r9lyls4nLSLyIeuTu4Ae' width=\"300\" >"
   ]
  },
  {
   "cell_type": "markdown",
   "id": "5945d373-aac6-498f-9ad5-2353dbe428f0",
   "metadata": {},
   "source": [
    "***Prompt : Explain why the first two peaks of the CAP (the first bipolar part of the CAP waveform) for the anterior and posterior stimulation conditions were opposite polarity.*** "
   ]
  },
  {
   "cell_type": "markdown",
   "id": "7d29d79f-9ee5-4f42-8cd4-7b310acc82c7",
   "metadata": {},
   "source": [
    "..."
   ]
  },
  {
   "cell_type": "code",
   "execution_count": null,
   "id": "c6f6a8c4-3e73-410e-a93c-6747537515b6",
   "metadata": {},
   "outputs": [],
   "source": []
  }
 ],
 "metadata": {
  "kernelspec": {
   "display_name": "Python 3 (ipykernel)",
   "language": "python",
   "name": "python3"
  },
  "language_info": {
   "codemirror_mode": {
    "name": "ipython",
    "version": 3
   },
   "file_extension": ".py",
   "mimetype": "text/x-python",
   "name": "python",
   "nbconvert_exporter": "python",
   "pygments_lexer": "ipython3",
   "version": "3.9.13"
  },
  "widgets": {
   "application/vnd.jupyter.widget-state+json": {
    "state": {},
    "version_major": 2,
    "version_minor": 0
   }
  }
 },
 "nbformat": 4,
 "nbformat_minor": 5
}
