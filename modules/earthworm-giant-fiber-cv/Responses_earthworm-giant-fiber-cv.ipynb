{
 "cells": [
  {
   "cell_type": "markdown",
   "id": "2bcea47c-bd58-4eac-b259-f43405e8982d",
   "metadata": {},
   "source": [
    "# Responses\n",
    "\n",
    "<a href=\"https://colab.research.google.com/github/neurologic/Neurophysiology-Lab/blob/main/modules/earthworm-giant-fiber-cap/Responses_earthworm-giant-fiber-cv.ipynb\" target=\"_blank\"><img alt=\"Open In Colab\" src=\"https://colab.research.google.com/assets/colab-badge.svg\"/></a>   "
   ]
  },
  {
   "cell_type": "markdown",
   "id": "513c0ad9-f856-46a3-9a79-9bb0ca01811c",
   "metadata": {},
   "source": [
    "***Your Name:***"
   ]
  },
  {
   "cell_type": "markdown",
   "id": "167c013a-0073-40f8-9172-8a37465644bf",
   "metadata": {},
   "source": [
    "..."
   ]
  },
  {
   "cell_type": "markdown",
   "id": "063b78fb-d361-410a-a538-463b0b7cada7",
   "metadata": {},
   "source": [
    "## General"
   ]
  },
  {
   "cell_type": "markdown",
   "id": "c0f3e049-5a9f-42c2-a5b5-3d1683196af3",
   "metadata": {},
   "source": [
    "***Prompt 1: Why is it important to keep copious notes about the ADC sampling rate settings in Bonsai associated with each of your data files? Maybe you can use stories from your experience so far this semester to discuss.*** "
   ]
  },
  {
   "cell_type": "markdown",
   "id": "4c42a9b2-9daa-48e1-a33b-ffcb377a5876",
   "metadata": {},
   "source": [
    "## Experiment 1"
   ]
  },
  {
   "cell_type": "markdown",
   "id": "ecec8794-af1a-4ca4-873a-872c8d3d5926",
   "metadata": {},
   "source": [
    "***Prompt 2:***  \n",
    "\n",
    "***Create a Figure with the following panels:  \n",
    "    A. Diagram of the stimulation and recording setup (including annotation of the points you used for your distance measurements)  \n",
    "    B. A showcase of the data you used to calculate conduction velocity (including annotation of the points you used for your time measurement)  \n",
    "    C. A \"violin plot\" or \"jittered scatterplot\" of your conduction velocity measurements***\n",
    "    \n",
    "***Write a caption to the figure that includes:  \n",
    "    -a description (ie. legend) for each figure panel  \n",
    "    -the setup of your electrodes including any relevant distance measurements  \n",
    "    -the average conduction velocity and the variance in your estimate***"
   ]
  },
  {
   "cell_type": "markdown",
   "id": "3f3570a0-bdf8-4a7e-96ac-035c91e9b3d1",
   "metadata": {},
   "source": [
    "...\n",
    "<img src='https://drive.google.com/uc?id=1WoAa-oMOkAj9r9lyls4nLSLyIeuTu4Ae' width=\"300\" >"
   ]
  },
  {
   "cell_type": "markdown",
   "id": "9f81df18-5ac8-4f91-8558-ce01abacdeeb",
   "metadata": {},
   "source": [
    "## Experiment 2 (your own data or data provided)\n",
    "\n",
    "If you were not able to collect data for this experiment. Use the following two files (Sampling rate: 30000, 3 channels, ch0 measurement electrode X cm anterior to ch1 measurement electrode. ch 3 not used.):\n",
    "1. [manual stimulation of the anterior tip of the worm](https://drive.google.com/file/d/15qi9eaOMMEiTz4koXVVXeDR1lea-rcut/view?usp=sharing)\n",
    "    > Use the following bout times for the best signal-to-noise ratio in the recording: [[17,21],[23,26],[28,30],[35,40]]\n",
    "2. [manual stimulation of the posterior tip of the worm](https://drive.google.com/file/d/1F-NGvh1LgWO2a48-6xdq7_AN3BYVyre3/view?usp=sharing)\n",
    "    > use the following bout times for the best signal-to-noise ratio in the recording: [[29.1,29.27],[38.5,38.7],[45,55]]"
   ]
  },
  {
   "cell_type": "markdown",
   "id": "22056d2d-56f1-40ff-9986-0aa14f9728b5",
   "metadata": {},
   "source": [
    "***Prompt 3:***  \n",
    "\n",
    "***Create a figure with the following panels:  \n",
    "    A. Diagram of the stimulation and recording setup. Include annotation of the points you used for your distance measurements.  \n",
    "    B. (i and ii). An example CAP for each type of stimulation (anterior versus posterior). Make sure that the x and y axis covers the range for both i and ii.  Include annotation of the points you used for your time measurement.  \n",
    "    C. A scatterplot of the CAP CV for each condition (anterior or posterior).  \n",
    "    D. A scatterplot of the CAP CV against the inter-spike-interval (the time from the previous CAP to the one you are calculating a CV for). Only use data for which there were CAPs within 1-30msec of each other. If your data does not have this condition, use the provided \"posterior stimulation\" data. If the IEI is > 50 msec, use 50 msec as the iei (and label the 50 msec iei 50+ on the x axis).***  \n",
    "\n",
    "***Write a caption to the figure that includes:  \n",
    "    -a description (ie. legend) for each figure panel  \n",
    "    -the setup of your electrodes including any relevant distance measurements  \n",
    "    -the average CAP CV for each condition and the variance in your estimates  \n",
    "    -observations about the relationship between ISI and CV***"
   ]
  },
  {
   "cell_type": "markdown",
   "id": "b27ed5e5-39df-4a0d-adbb-2cafbdbf5bcd",
   "metadata": {},
   "source": [
    "...\n",
    "<img src='https://drive.google.com/uc?id=1WoAa-oMOkAj9r9lyls4nLSLyIeuTu4Ae' width=\"300\" >"
   ]
  },
  {
   "cell_type": "markdown",
   "id": "5945d373-aac6-498f-9ad5-2353dbe428f0",
   "metadata": {},
   "source": [
    "***Prompt 4: Explain why the first two peaks of the CAP (the first bipolar part of the CAP waveform) for the anterior and posterior stimulation conditions were opposite polarity. (You can of course include a figure/graphic if that helps you explain).*** "
   ]
  },
  {
   "cell_type": "markdown",
   "id": "7d29d79f-9ee5-4f42-8cd4-7b310acc82c7",
   "metadata": {},
   "source": [
    "..."
   ]
  },
  {
   "cell_type": "markdown",
   "id": "9f28479a-9a2e-4563-aa3a-5f76c57dc0d9",
   "metadata": {},
   "source": [
    "***Prompt 5: Was the Giant Fiber action potential amplitude the same on both channels? If not, what are some reasons why it would be different?*** "
   ]
  },
  {
   "cell_type": "markdown",
   "id": "6078aa1c-f65c-443c-8893-b7dd71ab7a11",
   "metadata": {},
   "source": [
    "..."
   ]
  },
  {
   "cell_type": "markdown",
   "id": "787bb6f6-2a77-40c1-b43a-ceff6acff304",
   "metadata": {},
   "source": [
    "***Prompt 6: Was the estimated CAP CV in the electrical stimulation condition (Experiment 1) closer to the estimated CAP CV in the anterior or the posterior manual stimulation conditions (Experiment 2)? What can you infer from this about the composition of the CAP from Experiment 1?*** "
   ]
  },
  {
   "cell_type": "markdown",
   "id": "7f5a76e1-e5e0-47b5-a593-fb8eb3ad9bcc",
   "metadata": {},
   "source": [
    "..."
   ]
  },
  {
   "cell_type": "code",
   "execution_count": null,
   "id": "c6f6a8c4-3e73-410e-a93c-6747537515b6",
   "metadata": {},
   "outputs": [],
   "source": []
  }
 ],
 "metadata": {
  "kernelspec": {
   "display_name": "Python 3 (ipykernel)",
   "language": "python",
   "name": "python3"
  },
  "language_info": {
   "codemirror_mode": {
    "name": "ipython",
    "version": 3
   },
   "file_extension": ".py",
   "mimetype": "text/x-python",
   "name": "python",
   "nbconvert_exporter": "python",
   "pygments_lexer": "ipython3",
   "version": "3.9.13"
  },
  "widgets": {
   "application/vnd.jupyter.widget-state+json": {
    "state": {},
    "version_major": 2,
    "version_minor": 0
   }
  }
 },
 "nbformat": 4,
 "nbformat_minor": 5
}
