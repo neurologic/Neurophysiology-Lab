{
 "cells": [
  {
   "cell_type": "markdown",
   "id": "32647951-7dcf-4553-b42a-5d8508d95cf9",
   "metadata": {},
   "source": [
    "<a href=\"https://colab.research.google.com/github/neurologic/Neurophysiology-Lab/blob/main/ERG/Sensory-Coding-ERG.ipynb\" target=\"_blank\" rel=\"noopener noreferrer\"><img alt=\"Open In Colab\" src=\"https://colab.research.google.com/assets/colab-badge.svg\"/></a>   "
   ]
  },
  {
   "cell_type": "markdown",
   "id": "63776114-bd58-4811-bc3b-57c50f91686e",
   "metadata": {},
   "source": [
    "# Data Explorer"
   ]
  },
  {
   "cell_type": "markdown",
   "id": "f07451ff-cf56-4763-b4ac-bd099ba1f145",
   "metadata": {},
   "source": [
    "<a id=\"toc\"></a>\n",
    "# Table of Contents\n",
    "\n",
    "- [Introduction](#intro)\n",
    "- [Setup](#setup)\n",
    "- [Import Data](#one)\n"
   ]
  },
  {
   "cell_type": "markdown",
   "id": "38b445ff-7cf7-442e-bb25-83afe6d5a3fb",
   "metadata": {},
   "source": [
    "<a id=\"intro\"></a>\n",
    "# Computer Models\n",
    "\n",
    "Modelling passive and active properties of neurons based on electric circuit models from Week 1."
   ]
  },
  {
   "cell_type": "markdown",
   "id": "488d476b-9387-43d7-b4bf-0528d9f4950a",
   "metadata": {},
   "source": [
    "<a id=\"setup\"></a>\n",
    "# Setup\n",
    "\n",
    "[toc](#toc)"
   ]
  },
  {
   "cell_type": "markdown",
   "id": "b94f344a-8c2a-4080-b972-8e7a30c91e66",
   "metadata": {},
   "source": [
    "Import and define functions"
   ]
  },
  {
   "cell_type": "code",
   "execution_count": null,
   "id": "be70dacf-b862-4afa-8fc0-dce8c363fdf9",
   "metadata": {
    "tags": [
     "hide-input"
    ]
   },
   "outputs": [],
   "source": [
    "#@title {display-mode: \"form\"}\n",
    "\n",
    "#@markdown Run this code cell to import packages and define functions \n",
    "from pathlib import Path\n",
    "import numpy as np\n",
    "import plotly.express as px\n",
    "import plotly.graph_objects as go\n",
    "from plotly.subplots import make_subplots\n",
    "import seaborn as sns\n",
    "import matplotlib.pyplot as plt\n",
    "from datetime import datetime,timezone,timedelta\n",
    "pal = sns.color_palette(n_colors=15)\n",
    "pal = pal.as_hex()\n",
    "\n",
    "from ipywidgets import interactive, HBox, VBox, widgets, interact\n",
    "import ipywidgets as widgets # interactive display\n",
    "\n",
    "import matplotlib.pyplot as plt\n",
    "from IPython.display import display\n",
    "from datetime import datetime,timezone,timedelta\n",
    "%config InlineBackend.figure_format = 'retina'\n",
    "# use NMA plot style\n",
    "plt.style.use(\"https://raw.githubusercontent.com/NeuromatchAcademy/course-content/master/nma.mplstyle\")\n",
    "my_layout = widgets.Layout()\n",
    "\n",
    "\n",
    "def monoExp(x, m, t, b):\n",
    "    return m * np.exp(-x / t) + b\n",
    "\n",
    "print('Task completed at ' + str(datetime.now(timezone(-timedelta(hours=5)))))"
   ]
  },
  {
   "cell_type": "markdown",
   "id": "cf6cceef-da14-4789-9e26-55e4fd7581f3",
   "metadata": {},
   "source": [
    "<a id=\"one\"></a>\n",
    "# Steady State\n",
    "\n",
    "[toc](#toc)"
   ]
  },
  {
   "cell_type": "code",
   "execution_count": null,
   "id": "a7152a58-2458-4b02-a680-e40e8b706c95",
   "metadata": {
    "tags": [
     "hide-input"
    ]
   },
   "outputs": [],
   "source": [
    "# define the function\n",
    "\n",
    "def get_V(Rk,Rna,Ek,Ena):\n",
    "    Gk = 1/Rk\n",
    "    Gna = 1/Rna\n",
    "    \n",
    "    V = ((Rna*Ek)+(Rk*Ena))/(Rna+Rk) # Resistance-based\n",
    "    \n",
    "    V = ((Gk*Ek)+(Gna*Ena))/(Gk+Gna) # Conductance-based\n",
    "    \n",
    "    return V"
   ]
  },
  {
   "cell_type": "markdown",
   "id": "e6f4d5a9-054f-4c90-acde-fcf1347db865",
   "metadata": {},
   "source": [
    "Plug in the values that you used in your circuit membrane model (<a href=\"https://colab.research.google.com/github/neurologic/Neurophysiology-Lab/blob/main/modules/passive-membrane-models/Lab-Manual_passive-membrane-models.ipynb\" target=\"_blank\" rel=\"noopener noreferrer\">Part I</a>). Do your computational model results match your electric circuit model results?"
   ]
  },
  {
   "cell_type": "code",
   "execution_count": null,
   "id": "750c7f4c-8ba4-4f19-bc98-94dadf357f20",
   "metadata": {},
   "outputs": [],
   "source": [
    "Rk = 100\n",
    "Rna = 100\n",
    "Ek = -90\n",
    "Ena = 130\n",
    "\n",
    "V = get_V(Rk,Rna,Ek,Ena)\n",
    "print(V)"
   ]
  },
  {
   "cell_type": "markdown",
   "id": "c3d860b6-7623-4982-980f-20c33e4757d2",
   "metadata": {},
   "source": [
    "<a id=\"two\"></a>\n",
    "# Dynamics\n",
    "\n",
    "[toc](#toc)"
   ]
  },
  {
   "cell_type": "code",
   "execution_count": null,
   "id": "7c80de8d-8eff-4e3a-80c9-e644888ceff9",
   "metadata": {},
   "outputs": [],
   "source": [
    "def simulate_V(V, R, C, Iapp, duration, dt):\n",
    "    '''\n",
    "    The simulation starts at time = 0 with the voltage given by the input to the function (V)\n",
    "    \n",
    "    R = the resistance of the membrane in Ohm\n",
    "    \n",
    "    C = the capacitance of the membrane in Farads\n",
    "    \n",
    "    Iapp = the current (microAmps) applied to the system throughout the simulation\n",
    "    \n",
    "    duration = the total time (seconds) that the current is applied to the system (in this case also the duration of the simulation)\n",
    "    \n",
    "    dt = the time step (seconds) for analysing the simulation (how much time elapses between each analysis of dV)\n",
    "    '''\n",
    "    \n",
    "    timesteps = int(duration/dt)\n",
    "    \n",
    "    V_record = [0]\n",
    "    for i in range(timesteps): # for each time step, iterate through the simulation\n",
    "        dV = dt*((Iapp - V/R)/C) # how much does the voltage change by on this time step?\n",
    "        V = (V+dV) # add the change in voltage to the current voltage\n",
    "        V_record.append(V)\n",
    "    \n",
    "    return V_record\n"
   ]
  },
  {
   "cell_type": "code",
   "execution_count": null,
   "id": "32d5468b-af48-435b-879b-61a8a8638f69",
   "metadata": {},
   "outputs": [],
   "source": [
    "# define the initial conditions\n",
    "\n",
    "V = 0 # Volts\n",
    "R = 100000000 # MegaOhm\n",
    "tau = 0.01 # seconds\n",
    "C = tau/(R)# 0.01 # F\n",
    "\n",
    "Iapp = 0.0000000001 # Amps\n",
    "duration = 0.1\n",
    "dt = 0.001\n",
    "\n",
    "V_record = simulate_V(V, R, C, Iapp, duration, dt)\n",
    "\n",
    "plt.plot(np.linspace(0,duration,int(duration/dt)+1),V_record);\n",
    "plt.xlabel('seconds');\n",
    "plt.ylabel('Volts');\n",
    "\n",
    "print(f'Capacitance = {C} Farads')"
   ]
  },
  {
   "cell_type": "markdown",
   "id": "20c41efa-2ecc-4084-91b4-f153c5518b2e",
   "metadata": {},
   "source": [
    "Note that $ 1mV = 100pA * 10MOhm $. Why would you want to think in terms of these units?"
   ]
  },
  {
   "cell_type": "code",
   "execution_count": null,
   "id": "0c841e4e-e683-403e-9940-71cda5a4ef2a",
   "metadata": {},
   "outputs": [],
   "source": [
    "\n",
    "\n",
    "# define the simulation conditions\n",
    "\n",
    "total_duration = 2 #seconds\n",
    "dt = 0.01 #seconds\n",
    "\n",
    "# set up the simulation items\n",
    "time = np.linspace(0,total_duration,int(total_duration/dt))\n",
    "stimulus = np.zeros((int(total_duration/dt)))\n",
    "stimulus[int(delay/dt):int((delay+duration)/dt)]=amplitude\n",
    "V_record = np.zeros((int(total_duration/dt)))\n",
    "\n",
    "\n",
    "# use the simulation function to get V_record\n",
    "\n",
    "V_record = simulate_V(V,R,C)\n",
    "\n",
    "# write the \"for\" loop\n",
    "\n",
    "\n",
    "plt.plot(time,V_record/1000);\n",
    "plt.ylabel='millivolt'\n",
    "plt.xlabel='seconds'\n"
   ]
  },
  {
   "cell_type": "code",
   "execution_count": null,
   "id": "ee9d02b2-8b2e-4cfa-b553-db87b118b385",
   "metadata": {
    "tags": [
     "hide-input"
    ]
   },
   "outputs": [],
   "source": [
    "#@title {display-mode: \"form\"}\n",
    "\n",
    "#@markdown Run this code cell to genrate an interactive widget using the model you just created.\n",
    "\n",
    "# Create a figure widget using plotly\n",
    "f = go.FigureWidget(layout=go.Layout(height=500, width=700))\n",
    "\n",
    "# define the initial conditions\n",
    "R = 100*1e6 # Ohm (in terms of megaohms)\n",
    "tau = 10*1e-3 # seconds (in terms of milliseconds)\n",
    "C = tau/R # Farads \n",
    "\n",
    "# set up the applied current\n",
    "delay = 0.5 #seconds\n",
    "duration = 1 #seconds\n",
    "# amplitude = 100*1e-12 #Amps (in terms of picoamps)\n",
    "\n",
    "# print(R,tau,C,amplitude)\n",
    "\n",
    "# define the simulation conditions\n",
    "total_duration = 2 #seconds\n",
    "dt = 0.001 #seconds\n",
    "\n",
    "# set up the vectors for time and simulation results\n",
    "time = np.linspace(0,total_duration,int(total_duration/dt))-delay\n",
    "V_record = np.zeros((int(total_duration/dt))) # assumes voltage starts at zero\n",
    "\n",
    "# add simulation vectors to the figure widget\n",
    "f.add_trace(go.Scatter(x = time, y = V_record,\n",
    "                             name='simulation',opacity=1))\n",
    "\n",
    "# Create sliders for the figure widget inputs\n",
    "E_slider = widgets.FloatSlider(\n",
    "    min=-100,\n",
    "    max=100,\n",
    "    value=0,\n",
    "    step= 10,\n",
    "    readout=True,\n",
    "    description='eq. Voltage (millivolts)')\n",
    "E_slider.layout.width = '600px'\n",
    "\n",
    "R_slider = widgets.FloatSlider(\n",
    "    min=0,\n",
    "    max=1000,\n",
    "    value=100,\n",
    "    step= 10,\n",
    "    readout=True,\n",
    "    description='R (MOhm)')\n",
    "R_slider.layout.width = '600px'\n",
    "\n",
    "tau_slider = widgets.FloatSlider(\n",
    "    min=1,\n",
    "    max=100,\n",
    "    value=10,\n",
    "    step= 1,\n",
    "    readout=True,\n",
    "    description='tau (msec)')\n",
    "tau_slider.layout.width = '600px'\n",
    "\n",
    "amplitude_slider = widgets.FloatSlider(\n",
    "    min=0,\n",
    "    max=500,\n",
    "    value=100,\n",
    "    step= 1,\n",
    "    readout=True,\n",
    "    description='I (pA)')\n",
    "amplitude_slider.layout.width = '600px'\n",
    "\n",
    "def apply_current(E,R,tau,amplitude):# set up the simulation items\n",
    "    E = E*1e-3 # convert from millivolts to volts\n",
    "    V = E # start the simulation at equilibrium\n",
    "    R = R*1e6 # convert from MegaOhm to Ohm\n",
    "    tau = tau*1e-3 # convert from milliseconds to seconds\n",
    "    amplitude = amplitude*1e-12 # Convert from picoAmps to Amps\n",
    "    C = tau/R\n",
    "    \n",
    "    # print(R,tau,C,amplitude)   \n",
    "    \n",
    "    time = np.linspace(0,total_duration,int(total_duration/dt))-delay\n",
    "    stimulus = np.zeros((int(total_duration/dt)))\n",
    "    stimulus[int(delay/dt):int((delay+duration)/dt)]=amplitude\n",
    "    V_record = np.zeros((int(total_duration/dt)))\n",
    "\n",
    "    # write the \"for\" loop\n",
    "\n",
    "    for i,current in enumerate(stimulus):\n",
    "        dV = dt*((current - (V-E)/R)/C)\n",
    "        V = (V+dV) \n",
    "        V_record[i]=V\n",
    "\n",
    "    f.data[0].x = time\n",
    "    f.data[0].y = V_record*1e3 # convert from Volts to milliVolts\n",
    "\n",
    "vb = VBox((f, interactive(apply_current,\n",
    "                          E=E_slider,\n",
    "                          R=R_slider, \n",
    "                          tau=tau_slider,\n",
    "                          amplitude=amplitude_slider)))\n",
    "vb.layout.align_items = 'center'\n",
    "vb"
   ]
  },
  {
   "cell_type": "markdown",
   "id": "f103b7d5-fb8e-4882-89ec-0e6bded455a7",
   "metadata": {},
   "source": [
    "<a id=\"three\"></a>\n",
    "# Spiking\n",
    "\n",
    "[toc](#toc)"
   ]
  },
  {
   "cell_type": "code",
   "execution_count": null,
   "id": "1e7108bf-0d9b-437c-96ef-a105a23378b6",
   "metadata": {
    "tags": [
     "hide-input"
    ]
   },
   "outputs": [],
   "source": [
    "#@title {display-mode: \"form\"}\n",
    "\n",
    "#@markdown **TASK:** Run this cell to enable the interactive plot\n",
    "#@markdown that helps you explore the effect of intrinsic physiology on neuron behavior. \n",
    "\n",
    "def default_pars(**kwargs):\n",
    "    pars = {}\n",
    "\n",
    "    # typical neuron parameters#\n",
    "    pars['V_th'] = -55.     # spike threshold [mV]\n",
    "    pars['V_reset'] = -75.  # reset potential [mV]\n",
    "    pars['tau_m'] = 10.     # membrane time constant [ms]\n",
    "    pars['g_L'] = 10.       # leak conductance [nS]\n",
    "    pars['V_init'] = -75.   # initial potential [mV]\n",
    "    pars['E_L'] = -75.      # leak reversal potential [mV]\n",
    "    pars['tref'] = 2.       # refractory time (ms)\n",
    "\n",
    "    # simulation parameters #\n",
    "    pars['T'] = 400.  # Total duration of simulation [ms]\n",
    "    pars['dt'] = .1   # Simulation time step [ms]\n",
    "\n",
    "    # external parameters if any #\n",
    "    for k in kwargs:\n",
    "        pars[k] = kwargs[k]\n",
    "\n",
    "    pars['range_t'] = np.arange(0, pars['T'], pars['dt'])  # Vector of discretized time points [ms]\n",
    "\n",
    "    return pars\n",
    "\n",
    "def plot_volt_trace(pars, v, sp):\n",
    "    \"\"\"\n",
    "    Plot trajetory of membrane potential for a single neuron\n",
    "\n",
    "    Expects:\n",
    "    pars   : parameter dictionary\n",
    "    v      : volt trajetory\n",
    "    sp     : spike train\n",
    "\n",
    "    Returns:\n",
    "    figure of the membrane potential trajetory for a single neuron\n",
    "    \"\"\"\n",
    "\n",
    "    V_th = pars['V_th']\n",
    "    dt, range_t = pars['dt'], pars['range_t']\n",
    "    if sp.size:\n",
    "        sp_num = (sp / dt).astype(int) - 1\n",
    "        v[sp_num] += 40  # draw nicer spikes\n",
    "    plt.clf()\n",
    "    plt.plot(pars['range_t'], v, 'b')\n",
    "    plt.axhline(V_th, 0, 1, color='k', ls='--')\n",
    "    plt.xlabel('Time (ms)',fontsize=14)\n",
    "    plt.ylabel('V (mV)',fontsize=14)\n",
    "    plt.xticks(fontsize=14)\n",
    "    plt.yticks(fontsize=14)\n",
    "    plt.legend(['Membrane\\npotential', r'Threshold V$_{\\mathrm{th}}$'],\n",
    "             loc=[1.05, 0.75])\n",
    "    plt.ylim([-90, -20])\n",
    "    plt.show()\n",
    "    \n",
    "def run_LIF(pars, Iinj, stop=False, durstep=100):\n",
    "    \"\"\"\n",
    "    Simulate the LIF dynamics with external input current\n",
    "    Args:\n",
    "    pars       : parameter dictionary\n",
    "    Iinj       : input current [pA]. The injected current here can be a value\n",
    "                 or an array\n",
    "    stop       : boolean. If True, use a current pulse\n",
    "    Returns:\n",
    "    rec_v      : membrane potential\n",
    "    rec_sp     : spike times\n",
    "    \"\"\"\n",
    "\n",
    "    # Set parameters\n",
    "    V_th, V_reset = pars['V_th'], pars['V_reset']\n",
    "    tau_m, g_L = pars['tau_m'], pars['g_L']\n",
    "    V_init, E_L = pars['V_init'], pars['E_L']\n",
    "    dt, range_t = pars['dt'], pars['range_t']\n",
    "    fs = 1/dt\n",
    "    Lt = range_t.size\n",
    "    tref = pars['tref']\n",
    "\n",
    "    # Initialize voltage\n",
    "    v = np.zeros(Lt)\n",
    "    v[0] = V_init\n",
    "\n",
    "    # Set current time course\n",
    "    Iinj = Iinj * np.ones(Lt)\n",
    "    durstep = int((durstep*fs)/2)\n",
    "    # If current pulse, set beginning and end to 0\n",
    "    if stop:\n",
    "        # Iinj[:int(len(Iinj) / 2) - (int(durstep/pars['dt'])/2)] = 0\n",
    "        # Iinj[int(len(Iinj) / 2) + (int(durstep/pars['dt'])/2):] = 0\n",
    "\n",
    "        Iinj[:int(len(Iinj) / 2) - durstep] = 0\n",
    "        Iinj[int(len(Iinj) / 2) + durstep:] = 0\n",
    "\n",
    "    # Loop over time\n",
    "    rec_spikes = []  # record spike times\n",
    "    tr = 0.  # the count for refractory duration\n",
    "\n",
    "    for it in range(Lt - 1):\n",
    "\n",
    "        if tr > 0:  # check if in refractory period\n",
    "            v[it] = V_reset  # set voltage to reset\n",
    "            tr = tr - 1 # reduce running counter of refractory period\n",
    "\n",
    "        elif v[it] >= V_th:  # if voltage over threshold\n",
    "            rec_spikes.append(it)  # record spike event\n",
    "            v[it] = V_reset  # reset voltage\n",
    "            tr = tref / dt  # set refractory time\n",
    "\n",
    "        # Calculate the increment of the membrane potential\n",
    "        dv = (-(v[it] - E_L) + Iinj[it] / g_L) * (dt / tau_m)\n",
    "\n",
    "        # Update the membrane potential\n",
    "        v[it + 1] = v[it] + dv\n",
    "\n",
    "    # Get spike times in ms\n",
    "    rec_spikes = np.array(rec_spikes) * dt\n",
    "\n",
    "    return v, rec_spikes\n",
    "\n",
    "\n",
    "\n",
    "\n",
    "my_layout.width = '700px'\n",
    "# my_layout.description_width = 'initial'\n",
    "style = {'description_width': 'initial'}\n",
    "@widgets.interact(\n",
    "    current_injection=widgets.FloatSlider(50., min=0., max=1000., step=2.,\n",
    "                               layout=my_layout,style=style),\n",
    "    Simulation_Duration=widgets.FloatSlider(400., min=0., max=1000., step=10.,\n",
    "                               layout=my_layout,style=style),\n",
    "    Injection_Step=widgets.Checkbox(value=True,\n",
    "                               description='current step (vs continuous)',\n",
    "                               layout=my_layout,style=style),\n",
    "    Current_Step_Duration=widgets.FloatSlider(100., min=10, max=200., step=2.,\n",
    "                               layout=my_layout,style=style),\n",
    "    Leak_Reversal=widgets.FloatSlider(-75., min=-90, max=-30., step=2.,\n",
    "                               layout=my_layout,style=style),\n",
    "    Leak_Conductance=widgets.FloatSlider(10., min=1, max=50., step=2.,\n",
    "                               layout=my_layout,style=style),\n",
    "    AHP_Voltage=widgets.FloatSlider(-80., min=-90., max=-30.,step=2.,\n",
    "                               layout=my_layout,style=style),\n",
    "    Spike_Threshold=widgets.FloatSlider(-55., min=-100., max=-30., step=2.,\n",
    "                               layout=my_layout,style=style),\n",
    "    Membrane_Tau=widgets.FloatSlider(5., min=1., max=15., step=1.,\n",
    "                               layout=my_layout,style=style)\n",
    ")\n",
    "\n",
    "\n",
    "def diff_DC(current_injection,\n",
    "            Simulation_Duration,\n",
    "            Injection_Step,\n",
    "            Current_Step_Duration,\n",
    "            Leak_Reversal,\n",
    "            Leak_Conductance,\n",
    "            AHP_Voltage,\n",
    "            Spike_Threshold,\n",
    "            Membrane_Tau): #I_dc=200., tau_m=10.):\n",
    "    # pars = default_pars(T=100.)\n",
    "    # pars['tau_m'] = tau_m\n",
    "    pars = default_pars(\n",
    "      E_L = Leak_Reversal,\n",
    "      g_L = Leak_Conductance,\n",
    "      V_init = Leak_Reversal,\n",
    "      V_reset = AHP_Voltage,\n",
    "      V_th = Spike_Threshold,\n",
    "      tau_m = Membrane_Tau,\n",
    "      T=Simulation_Duration)\n",
    "    # pars=default_pars()\n",
    "    v, sp = run_LIF(pars, Iinj=current_injection,stop=Injection_Step,durstep=Current_Step_Duration)\n",
    "    plot_volt_trace(pars, v, sp)\n",
    "\n",
    "print('Interactive demo initiated at ' + str(datetime.now(timezone(-timedelta(hours=5)))))"
   ]
  },
  {
   "cell_type": "markdown",
   "id": "d451b557-6777-4492-955e-a41130ad39b9",
   "metadata": {},
   "source": [
    "<hr> \n",
    "Written by Dr. Krista Perks for courses taught at Wesleyan University."
   ]
  },
  {
   "cell_type": "code",
   "execution_count": null,
   "id": "5c707588-d5f6-4142-8289-da7ba6a97dbc",
   "metadata": {},
   "outputs": [],
   "source": []
  },
  {
   "cell_type": "markdown",
   "id": "57a8a68c-055e-4af0-ba4d-67d0d67148f1",
   "metadata": {},
   "source": [
    "<a id=\"setup\"></a>"
   ]
  },
  {
   "cell_type": "markdown",
   "id": "a350712e-e145-4475-9588-e3f19469b5ce",
   "metadata": {},
   "source": [
    "<a id=\"one\"></a>"
   ]
  },
  {
   "cell_type": "markdown",
   "id": "86fd2b4a-b890-465f-bf33-c2057738789e",
   "metadata": {},
   "source": [
    "<a id=\"two\"></a>"
   ]
  },
  {
   "cell_type": "markdown",
   "id": "b05de192-2baf-4d46-8848-6db1e3b50bff",
   "metadata": {},
   "source": [
    "<a id=\"three\"></a>"
   ]
  },
  {
   "cell_type": "markdown",
   "id": "e6519277-fc86-44fd-a75b-f74cad0efcf1",
   "metadata": {},
   "source": [
    "<a id=\"four\"></a>"
   ]
  }
 ],
 "metadata": {
  "kernelspec": {
   "display_name": "Python 3",
   "language": "python",
   "name": "python3"
  },
  "language_info": {
   "codemirror_mode": {
    "name": "ipython",
    "version": 3
   },
   "file_extension": ".py",
   "mimetype": "text/x-python",
   "name": "python",
   "nbconvert_exporter": "python",
   "pygments_lexer": "ipython3",
   "version": "3.9.12"
  },
  "widgets": {
   "application/vnd.jupyter.widget-state+json": {
    "state": {},
    "version_major": 2,
    "version_minor": 0
   }
  }
 },
 "nbformat": 4,
 "nbformat_minor": 5
}
