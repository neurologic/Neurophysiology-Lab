{
 "cells": [
  {
   "cell_type": "markdown",
   "id": "2bcea47c-bd58-4eac-b259-f43405e8982d",
   "metadata": {},
   "source": [
    "# Responses"
   ]
  },
  {
   "cell_type": "markdown",
   "id": "513c0ad9-f856-46a3-9a79-9bb0ca01811c",
   "metadata": {},
   "source": [
    "***Your Name:***"
   ]
  },
  {
   "cell_type": "markdown",
   "id": "bbafb3ef-1a08-47fd-be6b-c69043206e88",
   "metadata": {},
   "source": [
    "..."
   ]
  },
  {
   "cell_type": "markdown",
   "id": "5670deac-4551-42a5-8dde-8397e4060467",
   "metadata": {},
   "source": [
    "***Prompt : Using the interactive simulation of this computational model, estimate the Capacitance of [neuron 474626527](https://celltypes.brain-map.org/experiment/electrophysiology/474626527) from the Allen Institute Cell Types database. The cell types database provides the measured membrane time constant (in msec) and the membrane resistance (in Mega Ohm). Examine neuron 474626527's membrane response a negative applied current pulse and take a screen shot of the response. Then, select model parameters in the interactive simulation that mimic neuron 474626527. Include a figure that compares the response of neuron 474626527 and the response of your computational model simulation.*** "
   ]
  },
  {
   "cell_type": "markdown",
   "id": "17d9d0fc-77f5-48f1-8748-1f9e6625f936",
   "metadata": {},
   "source": [
    "... \n",
    "\n",
    "Insert your figure by replacing the \"id\" in the link below with your google drive share link id\n",
    "<img src='https://drive.google.com/uc?id=1WoAa-oMOkAj9r9lyls4nLSLyIeuTu4Ae' width=\"800\" >"
   ]
  },
  {
   "cell_type": "markdown",
   "id": "f483ae96-2de2-4151-9a65-8ad5e22e6016",
   "metadata": {},
   "source": [
    "***Prompt : Using the same approach as in Prompt , estimate the membrane capacitance for [neuron 584670484](https://celltypes.brain-map.org/experiment/electrophysiology/584670484), [neuron ], [neuron ], and [neuron ]. Is there a relationship between membrane resistance and capacitance across these 5 neurons (include the neuron from Prompt )?***"
   ]
  },
  {
   "cell_type": "markdown",
   "id": "7c78143b-f4b3-49e5-992e-900e23992951",
   "metadata": {},
   "source": [
    "..."
   ]
  },
  {
   "cell_type": "markdown",
   "id": "ff196503-fb49-469c-ab86-8e4ceee22f86",
   "metadata": {},
   "source": [
    "***Prompt : Use the interactive simulation of the computational model to get a strength-duration curve for three \"model neurons\" (each with different values of R and C). Estimate the rheobase and chronaxie. Is there a relationship between tau and excitability? Is there a relationship between R and excitability?***"
   ]
  },
  {
   "cell_type": "markdown",
   "id": "169cbfbd-3db7-4c50-ad26-5303d560b4d9",
   "metadata": {},
   "source": [
    "...\n",
    "\n",
    "After answering the questions above, insert your figure by replacing the \"id\" in the link below with your google drive share link id\n",
    "<img src='https://drive.google.com/uc?id=1WoAa-oMOkAj9r9lyls4nLSLyIeuTu4Ae' width=\"800\" >"
   ]
  },
  {
   "cell_type": "markdown",
   "id": "ab990281-f3d8-437a-91ab-cd5cd6f80927",
   "metadata": {},
   "source": [
    "..."
   ]
  }
 ],
 "metadata": {
  "kernelspec": {
   "display_name": "Python 3 (ipykernel)",
   "language": "python",
   "name": "python3"
  },
  "language_info": {
   "codemirror_mode": {
    "name": "ipython",
    "version": 3
   },
   "file_extension": ".py",
   "mimetype": "text/x-python",
   "name": "python",
   "nbconvert_exporter": "python",
   "pygments_lexer": "ipython3",
   "version": "3.9.13"
  },
  "widgets": {
   "application/vnd.jupyter.widget-state+json": {
    "state": {},
    "version_major": 2,
    "version_minor": 0
   }
  }
 },
 "nbformat": 4,
 "nbformat_minor": 5
}
