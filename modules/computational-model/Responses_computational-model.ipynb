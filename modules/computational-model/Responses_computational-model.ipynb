{
 "cells": [
  {
   "cell_type": "markdown",
   "id": "2bcea47c-bd58-4eac-b259-f43405e8982d",
   "metadata": {},
   "source": [
    "# Responses"
   ]
  },
  {
   "cell_type": "markdown",
   "id": "513c0ad9-f856-46a3-9a79-9bb0ca01811c",
   "metadata": {},
   "source": [
    "***Your Name:***"
   ]
  },
  {
   "cell_type": "markdown",
   "id": "bbafb3ef-1a08-47fd-be6b-c69043206e88",
   "metadata": {},
   "source": [
    "..."
   ]
  },
  {
   "cell_type": "markdown",
   "id": "92e8da0f-498a-4383-b1e7-648df0482589",
   "metadata": {},
   "source": [
    "## Prompt 1\n",
    "\n",
    "*(5 points)* Complete the **Steady State Model** section of the Data Explorer. Make a diagram of your circuit from Lab during week \\#1 with the values of each component you used clearly labeled (each resistor you picked and each battery that you measured the actual voltage of). In the diagram, make sure that the polarity (directionality) of the voltage sources are clear. In the diagram, annotate where you put your electrodes to measure membrane potential and the value of that measurement. Answer the question posed in that section: \"How do the results of your computational model compare to your manually measured electric circuit model results from that lab?\"\n",
    "\n",
    "> Note: If you need to re-do your electric circuit and membrane potential measurement from Week 1, just let me know. "
   ]
  },
  {
   "cell_type": "markdown",
   "id": "78ac30ee-272a-4bea-bf1e-fa7cdb879744",
   "metadata": {},
   "source": [
    "... \n",
    "\n",
    "*(Insert your figure by replacing the \"id\" in the link below with your google drive share link id)*  \n",
    "<img src='https://drive.google.com/uc?id=1WoAa-oMOkAj9r9lyls4nLSLyIeuTu4Ae' width=\"300\" >"
   ]
  },
  {
   "cell_type": "markdown",
   "id": "09013709-8a9f-47f7-816f-4b137aa31604",
   "metadata": {},
   "source": [
    "## Prompt 2 \n",
    "\n",
    "*(2 points)* What units of measurement do you get when you multiple MegaOhms by nanoFarads? Show your work."
   ]
  },
  {
   "cell_type": "markdown",
   "id": "e8b18117-6d54-4088-b564-ce9a9d01866d",
   "metadata": {},
   "source": [
    "..."
   ]
  },
  {
   "cell_type": "markdown",
   "id": "8fa9d197-1702-4729-9b3a-1b44f1b9175e",
   "metadata": {},
   "source": [
    "## Prompt 3\n",
    "\n",
    "*(2 points)* Compare the electrophysiological properties of neuron 587079262 and 558474375. Their membrane resistances are approximately the same, but their membrane time constants are very different. Finish the following sentences by filling in the blanks:  \n",
    "> \"The membrane resistance of neuron 587079262 and 558474375 are the same ( \\____ and \\____ mV, respectively), but the membrane capacitance of neuron \\____ is much higher than neuron \\____ ( \\____ compared to \\____ ). Therefore, I think that these two neurons must have the same number of \\____ . Then, to explain the difference in capacitance, I hypothesize that \\____ . "
   ]
  },
  {
   "cell_type": "markdown",
   "id": "352cb194-9760-4b9c-be69-d7cfd51fb3fc",
   "metadata": {},
   "source": [
    "..."
   ]
  },
  {
   "cell_type": "markdown",
   "id": "5670deac-4551-42a5-8dde-8397e4060467",
   "metadata": {},
   "source": [
    "## Prompt 4\n",
    "\n",
    "*(10 points)* Using **Interactive Simulation 3**, estimate the Spiking Threshold (in mV) of the following five neurons from the Allen Institute Cell Types database (listed using the neuron ID number):  \n",
    "\n",
    "> Note that The cell types database provides the measured membrane time constant (in msec) and the membrane resistance (in Mega Ohm). \n",
    "\n",
    "- [474626527](https://celltypes.brain-map.org/experiment/electrophysiology/474626527)\n",
    "- [545612828](https://celltypes.brain-map.org/experiment/electrophysiology/545612828)\n",
    "- [587079262](https://celltypes.brain-map.org/experiment/electrophysiology/587079262)\n",
    "- [320466776](https://celltypes.brain-map.org/experiment/electrophysiology/320466776)\n",
    "- [558474375](https://celltypes.brain-map.org/experiment/electrophysiology/558474375)\n",
    "\n",
    "To estimate the spiking threshold, you will need to:\n",
    "1. Select parameters in the interactive simulation so that the simulation models each neuron (Membrane Resistance, Membrane Capacitance, and Equilibrium Potential). \n",
    "2. Set the stimulation amplitude to the minimum amplitude needed to evoke spikes in the real neuron. \n",
    "3. Adjust the spike threshold until your model neuron spikes. \n",
    "    > This is the spike threshold that you would predict for the real neuron (a value that is not explicitely provided in the database). \n",
    "\n",
    "Your response should include the following **table**, **figure**, and **caption**...\n",
    "\n",
    "***Make a table*** that reports the:\n",
    "- resistance given in the database (MOhm)\n",
    "- time constant given in the database (ms)\n",
    "- resting membrane potential given in the database (mV)\n",
    "- capacitance that you calculated (nF)\n",
    "- spike threshold that you estimated for each neuron (compared to its resting membrane potential, not its absolute value) (mV)\n",
    "\n",
    "Use the practice you have had while being guided through figure-making so far this semester to ***make a figure*** that compares the response of one of the neurons to the response of your computational model simulation of that neuron. In the table, highlight the row corresponding to the neuron that you used to create the figure. \n",
    "\n",
    "***Include a caption*** that provides any information necessary to interpret the table and the figure. In the caption you can discuss any results or observations that were interesting, surprising, and/or not surprising to you. \n"
   ]
  },
  {
   "cell_type": "markdown",
   "id": "17d9d0fc-77f5-48f1-8748-1f9e6625f936",
   "metadata": {},
   "source": [
    "... \n",
    "\n",
    "*(Insert your figure by replacing the \"id\" in the link below with your google drive share link id)*  \n",
    "<img src='https://drive.google.com/uc?id=1WoAa-oMOkAj9r9lyls4nLSLyIeuTu4Ae' width=\"300\" >"
   ]
  },
  {
   "cell_type": "markdown",
   "id": "ff196503-fb49-469c-ab86-8e4ceee22f86",
   "metadata": {},
   "source": [
    "## Prompt 5\n",
    "\n",
    "*(8 points)* For ***two*** of the five neurons you examined in Prompt 2, use **Interactive Simulation 4** to perform a stimulus threshold \"strength-duration\" experiment. Specifically, for this experiment you will find the stimulus threshold (in nA) at the following stimulus durations (in ms): [5, 4, 3, 2, 1, 0.8, 0.6, 0.4, 0.2, 0.1, 0.08, 0.06, 0.04, 0.02]. If you record your data in a .csv file, you can use the code cell below to import data from that csv file and make a scatterplot with an overlaid plot of the hyperbolic function fit to the data.\n",
    "\n",
    "Before running the experiment on the model, you must set the simulation parameters so that it will model the correct neuron from the Allen Institute database (resistance in MOhm, capacitance in nF, resting membrane potential in mV, and spike threshold in mV).\n",
    "\n",
    "**Estimate (or calculate directly from the hyperbolic fit) the rheobase and chronaxie** for each neuron. \n",
    "\n",
    "**Make a Figure** that includes a scatterplot of the threshold stimulus amplitude as a function of stimulus duration. On the amplitude-duration plot, annotate (visually indicate and label) the rheobase and chronaxie for each neuron. \n",
    "\n",
    "**Write a caption** that reports your results. Include a comparison of which neuron was more \"excitable\"? Which neuron had a larger membrane time constant? Which neuron had a larger membrane resistance?"
   ]
  },
  {
   "cell_type": "markdown",
   "id": "169cbfbd-3db7-4c50-ad26-5303d560b4d9",
   "metadata": {},
   "source": [
    "...\n",
    "\n",
    "*(Insert your figure by replacing the \"id\" in the link below with your google drive share link id)*\n",
    "<img src='https://drive.google.com/uc?id=1WoAa-oMOkAj9r9lyls4nLSLyIeuTu4Ae' width=\"300\" >"
   ]
  }
 ],
 "metadata": {
  "kernelspec": {
   "display_name": "Python 3 (ipykernel)",
   "language": "python",
   "name": "python3"
  },
  "language_info": {
   "codemirror_mode": {
    "name": "ipython",
    "version": 3
   },
   "file_extension": ".py",
   "mimetype": "text/x-python",
   "name": "python",
   "nbconvert_exporter": "python",
   "pygments_lexer": "ipython3",
   "version": "3.8.13"
  },
  "widgets": {
   "application/vnd.jupyter.widget-state+json": {
    "state": {},
    "version_major": 2,
    "version_minor": 0
   }
  }
 },
 "nbformat": 4,
 "nbformat_minor": 5
}
