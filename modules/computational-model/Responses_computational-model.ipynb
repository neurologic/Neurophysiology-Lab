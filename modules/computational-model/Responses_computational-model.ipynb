{
 "cells": [
  {
   "cell_type": "markdown",
   "id": "2bcea47c-bd58-4eac-b259-f43405e8982d",
   "metadata": {},
   "source": [
    "# Responses\n",
    "\n",
    "<a href=\"https://colab.research.google.com/github/neurologic/Neurophysiology-Lab/blob/main/modules/computational-model/Responses_computational-model.ipynb\" target=\"_blank\"><img alt=\"Open In Colab\" src=\"https://colab.research.google.com/assets/colab-badge.svg\"/></a>   \n",
    "\n",
    "  \n",
    "For all prompts, make sure to include all components that are required. For any of the prompts, you can of course also include anything else that you noticed or wondered that adds to the report of your results. \n"
   ]
  },
  {
   "cell_type": "markdown",
   "id": "513c0ad9-f856-46a3-9a79-9bb0ca01811c",
   "metadata": {},
   "source": [
    "***Your Name:***"
   ]
  },
  {
   "cell_type": "markdown",
   "id": "bbafb3ef-1a08-47fd-be6b-c69043206e88",
   "metadata": {},
   "source": [
    "..."
   ]
  },
  {
   "cell_type": "markdown",
   "id": "92e8da0f-498a-4383-b1e7-648df0482589",
   "metadata": {},
   "source": [
    "## Prompt 1\n",
    "\n",
    "*(5 points)* Complete the **Steady State Model** section of the Data Explorer. \n",
    "\n",
    "**Into the response, copy and paste your code** that you used to complete the line ```Vin = ...``` and the line ```simulate_Vin_steady_state( ... )``` Did you need to use the solutions or were you able to get script the equations in a correct format on your own?\n",
    "\n",
    "**Make a diagram** of your circuit from Lab during week \\#1 with the values of each component you used clearly labeled (ie. each resistor you picked and each battery that you measured the actual voltage of). In the diagram, make sure that the polarity (directionality) of the voltage sources are clear. In the diagram, annotate (indicate and label) where you put your electrodes to measure membrane potential and the value of that measurement. \n",
    "\n",
    "**Answer the question** posed in that section: \"How do the results of your computational model compare to your manually measured electric circuit model results from that lab?\"\n",
    "\n",
    "> Note: If you need to re-do your electric circuit and membrane potential measurement from Week 1, just let me know. "
   ]
  },
  {
   "cell_type": "markdown",
   "id": "78ac30ee-272a-4bea-bf1e-fa7cdb879744",
   "metadata": {},
   "source": [
    "... \n",
    "\n",
    "*(Insert your figure by replacing the \"id\" in the link below with your google drive share link id)*  \n",
    "<img src='https://drive.google.com/uc?id=1WoAa-oMOkAj9r9lyls4nLSLyIeuTu4Ae' width=\"300\" >"
   ]
  },
  {
   "cell_type": "markdown",
   "id": "09013709-8a9f-47f7-816f-4b137aa31604",
   "metadata": {},
   "source": [
    "## Prompt 2 \n",
    "\n",
    "*(2 points)* What units of measurement do you get when you multiple MegaOhms by nanoFarads? Show your work."
   ]
  },
  {
   "cell_type": "markdown",
   "id": "e8b18117-6d54-4088-b564-ce9a9d01866d",
   "metadata": {},
   "source": [
    "..."
   ]
  },
  {
   "cell_type": "markdown",
   "id": "a7c4f4ad-32e5-4bf3-a550-9c1117d38b91",
   "metadata": {},
   "source": [
    "## Prompt 3 \n",
    "\n",
    "*(2 points)* Explore **Interactive Simulation 2** and **Interactive Simulation 3**. Complete the following sentence:  \n",
    "> \"When the membrane potential is above spike threshold, increasing the stimulus amplitude increases the \\___ in Simulation 2 but instead increases the \\___ in Simulation 3.\""
   ]
  },
  {
   "cell_type": "markdown",
   "id": "88312d4a-019f-451e-9fce-7e85a6b14b18",
   "metadata": {},
   "source": [
    "..."
   ]
  },
  {
   "cell_type": "markdown",
   "id": "5670deac-4551-42a5-8dde-8397e4060467",
   "metadata": {},
   "source": [
    "## Prompt 4\n",
    "\n",
    "*(8 points)* Using **Interactive Simulation 3**, estimate the Spiking Threshold (in mV) of the following five neurons from the Allen Institute Cell Types database (listed using the neuron ID number):  \n",
    "\n",
    "> Note that The cell types database provides the measured membrane time constant (in msec) and the membrane resistance (in Mega Ohm). \n",
    "\n",
    "- [474626527](https://celltypes.brain-map.org/experiment/electrophysiology/474626527)\n",
    "- [545612828](https://celltypes.brain-map.org/experiment/electrophysiology/545612828)\n",
    "- [587079262](https://celltypes.brain-map.org/experiment/electrophysiology/587079262)\n",
    "- [320466776](https://celltypes.brain-map.org/experiment/electrophysiology/320466776)\n",
    "- [558474375](https://celltypes.brain-map.org/experiment/electrophysiology/558474375)\n",
    "\n",
    "To estimate the spiking threshold, you will need to:\n",
    "1. In the simulation, select parameters that uniquely model each neuron (Membrane Resistance, Membrane Capacitance, and Equilibrium Potential). These values are reported in the database. \n",
    "2. Set the stimulation amplitude in the simulation to the minimum amplitude needed to evoke spikes in the real neuron (ie. the reported rheobase in the database). \n",
    "3. Adjust the spike threshold until your model neuron spikes. \n",
    "    > This is the spike threshold that you would predict for the real neuron (a value that is not explicitely provided in the database). \n",
    "\n",
    "***To save some time, for this question you can team up to collect the data for the 5 neurons. If you team up, you would each at least collect data for at least one neuron and check the work of one other person for one of their neurons. Report: 1) which neuron(s) that you collected data for and 2) which neuron you checked another person's work on.***\n",
    "\n",
    "Your response should include the following **table**, **figure**, and **caption**...\n",
    "\n",
    "***Make a table*** that reports (FOR ALL FIVE NEURONS) the:\n",
    "- resistance given in the database (MOhm)\n",
    "- time constant given in the database (ms)\n",
    "- resting membrane potential given in the database (mV)\n",
    "- capacitance that you calculated (nF)\n",
    "- the *relative* spike threshold that you estimated for each neuron (compared to its resting membrane potential, not its absolute value) (mV)\n",
    "\n",
    "***Make a figure*** that compares the response of one of the database neurons to the response of your computational model simulation of that neuron. In the table, highlight the row corresponding to the neuron that you used to create the figure. \n",
    "\n",
    "***Include a caption*** that provides any information necessary to interpret the table and the figure.  \n",
    "In the caption, address this questions: \n",
    "- \"For this long-square stimulus, did membrane resistance or capacitance effect the relative spike threshold more?\"  \n",
    "To answer this question, you should toggle the resistance and the capacitance sliders independently for each cell and observe the effect on the response (ie. I am not looking for you to calculate a statistical relationship across cells to answer it). \n",
    "\n",
    "You can discuss any results or observations that were interesting, surprising, and/or not surprising to you. \n",
    "\n"
   ]
  },
  {
   "cell_type": "markdown",
   "id": "17d9d0fc-77f5-48f1-8748-1f9e6625f936",
   "metadata": {},
   "source": [
    "... \n",
    "\n",
    "*(Insert your figure by replacing the \"id\" in the link below with your google drive share link id)*  \n",
    "<img src='https://drive.google.com/uc?id=1WoAa-oMOkAj9r9lyls4nLSLyIeuTu4Ae' width=\"300\" >"
   ]
  },
  {
   "cell_type": "markdown",
   "id": "c0c8f9b8-fd01-40e1-b14b-75f639076e61",
   "metadata": {},
   "source": [
    "## Prompt 5\n",
    "\n",
    "*(3 points)* Compare the electrophysiological properties of neuron 545612828 and 587079262. Their membrane resistances are very different, but their relative spike threshold is the same. Finish the following sentences by filling in the blanks:  \n",
    "> \"The membrane resistance of neuron 545612828 and 587079262 are very different ( \\___ and \\___ mV, respectively). I would expect them to have very different relative spike thresholds because \\___ . However,  the \\___ of neuron \\___ is much \\___ than neuron \\___ ( \\___ versus \\___ ). Therefore, a difference in \\___ enables these two neurons to have similar relative spike thresholds.\""
   ]
  },
  {
   "cell_type": "markdown",
   "id": "59fcefc1-02a5-42ec-8136-ec6f8b53b33c",
   "metadata": {},
   "source": [
    "..."
   ]
  },
  {
   "cell_type": "markdown",
   "id": "8fa9d197-1702-4729-9b3a-1b44f1b9175e",
   "metadata": {},
   "source": [
    "## Prompt 6\n",
    "\n",
    "*(3 points)* Compare the electrophysiological properties of neuron 587079262 and 558474375. Their membrane resistances are approximately the same, but their membrane time constants are very different. Finish the following sentences by filling in the blanks:  \n",
    "> \"The membrane resistance of neuron 587079262 and 558474375 are the same ( \\___ and \\___ MegaOhm, respectively), but the membrane capacitance of neuron \\___ is much higher than neuron \\___ ( \\___ compared to \\___ nF). Therefore, I think that these two neurons must have the same number of \\___ . Then, to explain the difference in capacitance, I hypothesize that \\___ . "
   ]
  },
  {
   "cell_type": "markdown",
   "id": "352cb194-9760-4b9c-be69-d7cfd51fb3fc",
   "metadata": {},
   "source": [
    "..."
   ]
  },
  {
   "cell_type": "markdown",
   "id": "ff196503-fb49-469c-ab86-8e4ceee22f86",
   "metadata": {},
   "source": [
    "## Prompt 7\n",
    "\n",
    "*(8 points)* For ***two*** of the five neurons you examined in Prompt 2, use **Interactive Simulation 4** to perform a \"strength-duration\" stimulus threshold experiment. Specifically, for this experiment you need to find the stimulus threshold (in nA) at the following stimulus durations (in ms): [10, 8, 6, 5, 4, 3, 2, 1, 0.8, 0.6, 0.4, 0.2, 0.1, 0.08, 0.06, 0.04, 0.02]. \n",
    "\n",
    "***You can team up with a partner to split the data collection load for this Prompt. If you distribute the data collection labor, you should each collect data for one neuron. Report who ran the experiment for each neuron.***\n",
    "\n",
    "Before running the experiment on the model, you must **set the simulation parameters** so that it will model the real neuron from the Allen Institute database (resistance in MOhm, capacitance in nF, resting membrane potential in mV, and spike threshold in mV). Remember that you obtained some of these parameter values by completing Prompt 4.\n",
    "\n",
    "**Record your data in a .csv file**. Then, use the Data Explorer \"Strength-Duration Tuning\" section to analyze your data. \n",
    "Specifically, in the Data Explorer, you will:\n",
    "1. Specify the filepath to the csv file containing your data and the relevant column headers for this analysis. \n",
    "2. For each neuron you are comparing for this Prompt, you will run the code cell to create a scatterplot and fit a hyperbolic function to the data. \n",
    "3. Record the rheobase and chronaxie estimated for each neuron (these values are printed above the plot).\n",
    "4. Finally, you will run the code cell that makes a single overlaid line plot of the hyperbolic functions fit for both neurons. \n",
    "\n",
    "**Make a Figure** that includes two panels:\n",
    "A) For one example neuron, a scatterplot of the threshold stimulus amplitude as a function of stimulus duration. \n",
    "B) The overlaid line plot of the hyperbolic function fit to each neuron. \n",
    "\n",
    "**Write a caption** that **reports the rheobase and chronaxie** for each neuron. Include a comparison of which neuron was more \"excitable\"? Which neuron had a larger membrane time constant? Which neuron had a larger membrane resistance?"
   ]
  },
  {
   "cell_type": "markdown",
   "id": "169cbfbd-3db7-4c50-ad26-5303d560b4d9",
   "metadata": {},
   "source": [
    "...\n",
    "\n",
    "*(Insert your figure by replacing the \"id\" in the link below with your google drive share link id)*\n",
    "<img src='https://drive.google.com/uc?id=1WoAa-oMOkAj9r9lyls4nLSLyIeuTu4Ae' width=\"300\" >"
   ]
  },
  {
   "cell_type": "markdown",
   "id": "5425dab9-8ab8-4c0c-b7fd-fae87ec0252b",
   "metadata": {},
   "source": [
    "## Prompt 8\n",
    "\n",
    "*(3 points)* Reflect on what you observed while completing the Strength-Duration experiment for Prompt 7. Finish the following sentences by filling in the blanks:  \n",
    "> \"Closer to the onset of the stimulus (compared to later in the stimulus), the same decrease in stimulus duration causes a [ larger / smaller ](*pick one*) drop in the membrane potential below spike threshold. This is because, near stimulus onset, there is more \\___ across the membrane capacitance.  According to electrical circuit theory, more \\___ across the membrane \\___ causes a larger change in \\___ .\" "
   ]
  },
  {
   "cell_type": "markdown",
   "id": "7e01730c-eed7-43a6-8742-50ea1b03e60c",
   "metadata": {},
   "source": [
    "..."
   ]
  }
 ],
 "metadata": {
  "kernelspec": {
   "display_name": "Python 3 (ipykernel)",
   "language": "python",
   "name": "python3"
  },
  "language_info": {
   "codemirror_mode": {
    "name": "ipython",
    "version": 3
   },
   "file_extension": ".py",
   "mimetype": "text/x-python",
   "name": "python",
   "nbconvert_exporter": "python",
   "pygments_lexer": "ipython3",
   "version": "3.9.13"
  },
  "widgets": {
   "application/vnd.jupyter.widget-state+json": {
    "state": {},
    "version_major": 2,
    "version_minor": 0
   }
  }
 },
 "nbformat": 4,
 "nbformat_minor": 5
}
