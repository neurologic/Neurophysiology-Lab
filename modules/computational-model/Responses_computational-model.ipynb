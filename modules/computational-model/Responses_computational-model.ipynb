{
 "cells": [
  {
   "cell_type": "markdown",
   "id": "2bcea47c-bd58-4eac-b259-f43405e8982d",
   "metadata": {},
   "source": [
    "# Responses"
   ]
  },
  {
   "cell_type": "markdown",
   "id": "513c0ad9-f856-46a3-9a79-9bb0ca01811c",
   "metadata": {},
   "source": [
    "***Your Name:***"
   ]
  },
  {
   "cell_type": "markdown",
   "id": "bbafb3ef-1a08-47fd-be6b-c69043206e88",
   "metadata": {},
   "source": [
    "..."
   ]
  },
  {
   "cell_type": "markdown",
   "id": "92e8da0f-498a-4383-b1e7-648df0482589",
   "metadata": {},
   "source": [
    "**Prompt 1:** Complete the **Steady State Model** section of the Data Explorer. Make a diagram of your circuit from Lab during week \\#1 with the values of each component you used clearly labeled (each resistor you picked and each battery that you measured the actual voltage of). In the diagram, make sure that the polarity (directionality) of the voltage sources are clear. In the diagram, annotate where you put your electrodes to measure membrane potential and the value of that measurement. Answer the question posed in that section: \"How do the results of your computational model compare to your manually measured electric circuit model results from that lab?\"\n",
    "\n",
    "> Note: If you need to re-do your electric circuit and membrane potential measurement from Week 1, just let me know. "
   ]
  },
  {
   "cell_type": "markdown",
   "id": "78ac30ee-272a-4bea-bf1e-fa7cdb879744",
   "metadata": {},
   "source": [
    "... \n",
    "\n",
    "Insert your figure by replacing the \"id\" in the link below with your google drive share link id\n",
    "<img src='https://drive.google.com/uc?id=1WoAa-oMOkAj9r9lyls4nLSLyIeuTu4Ae' width=\"300\" >"
   ]
  },
  {
   "cell_type": "markdown",
   "id": "5670deac-4551-42a5-8dde-8397e4060467",
   "metadata": {},
   "source": [
    "**Prompt 2:** Using **Interactive Simulation 3**, estimate the Spiking Threshold (in mV) of the following neurons from the Allen Institute Cell Types database (listed using the neuron ID number):  \n",
    "\n",
    "> Note that The cell types database provides the measured membrane time constant (in msec) and the membrane resistance (in Mega Ohm). \n",
    "\n",
    "- [474626527](https://celltypes.brain-map.org/experiment/electrophysiology/474626527)\n",
    "- [545612828](https://celltypes.brain-map.org/experiment/electrophysiology/545612828)\n",
    "- [587079262](https://celltypes.brain-map.org/experiment/electrophysiology/587079262)\n",
    "- [320466776](https://celltypes.brain-map.org/experiment/electrophysiology/320466776)\n",
    "\n",
    "To estimate the spiking threshold, select parameters in the interactive simulation so that the simulation models each neuron (Membrane Resistance, Membrane Capacitance, and Equilibrium Potential). Then, set the stimulation amplitude to the minimum amplitude needed to evoke spikes in the real neuron. Adjust the spike threshold until your model neuron spikes. This is the spike threshold that you predict for the real neuron (a value that is not explicitely provided in the database). \n",
    "\n",
    "***Make a table*** that reports the:\n",
    "- resistance given\n",
    "- time constant given\n",
    "- capacitance that you calculated \n",
    "- spike threshold that you estimated for each neuron (compared to its resting membrane potential, not its absolute value) \n",
    "\n",
    "Use good figure-making practices that you have learned so far this semester to ***make a figure*** that compares the response of one of the neurons (in the table, highlight the row corresponding to the one you are showing) to the response of your computational model simulation.\n",
    "\n",
    "***Include a caption*** that provides any information necessary to interpret the table and the figure. In the caption you can discuss any results or observations that were interesting, surprising, and/or not surprising to you. \n"
   ]
  },
  {
   "cell_type": "markdown",
   "id": "17d9d0fc-77f5-48f1-8748-1f9e6625f936",
   "metadata": {},
   "source": [
    "... \n",
    "\n",
    "Insert your figure by replacing the \"id\" in the link below with your google drive share link id\n",
    "<img src='https://drive.google.com/uc?id=1WoAa-oMOkAj9r9lyls4nLSLyIeuTu4Ae' width=\"300\" >"
   ]
  },
  {
   "cell_type": "markdown",
   "id": "f483ae96-2de2-4151-9a65-8ad5e22e6016",
   "metadata": {},
   "source": [
    "**Prompt 3:** Is there a relationship between membrane resistance and capacitance across the 4 neuron you examined in Prompt 2?"
   ]
  },
  {
   "cell_type": "markdown",
   "id": "7c78143b-f4b3-49e5-992e-900e23992951",
   "metadata": {},
   "source": [
    "..."
   ]
  },
  {
   "cell_type": "markdown",
   "id": "ff196503-fb49-469c-ab86-8e4ceee22f86",
   "metadata": {},
   "source": [
    "**Prompt 4:** For two of the four neurons you examined in Prompt 2, use **Interactive Simulation 4** to perform a \"strength-duration\" experiment. Specifically, for this experiment you will find the stimulus threshold (in nA) at the following stimulus durations (in ms): [3, 2, 1, 0.8, 0.6, 0.4, 0.2, 0.1, 0.08, 0.06, 0.04, 0.02]. If you record your data in a .csv file, you can use the code cell below to import data from that csv file and make a scatterplot with an overlaid plot of the hyperbolic function fit to the data.\n",
    "\n",
    "Estimate (or calculate directly from the hyperbolic fit) the rheobase and chronaxie for each neuron. \n",
    "\n",
    "**Make a Figure** that includes a scatterplot of the threshold stimulus amplitude as a function of stimulus duration. Which of the two neurons you examined was more \"excitable\"? Is there a relationship between tau and excitability? Is there a relationship between R and excitability?***"
   ]
  },
  {
   "cell_type": "markdown",
   "id": "169cbfbd-3db7-4c50-ad26-5303d560b4d9",
   "metadata": {},
   "source": [
    "...\n",
    "\n",
    "After answering the questions above, insert your figure by replacing the \"id\" in the link below with your google drive share link id\n",
    "<img src='https://drive.google.com/uc?id=1WoAa-oMOkAj9r9lyls4nLSLyIeuTu4Ae' width=\"300\" >"
   ]
  },
  {
   "cell_type": "markdown",
   "id": "ab990281-f3d8-437a-91ab-cd5cd6f80927",
   "metadata": {},
   "source": [
    "..."
   ]
  }
 ],
 "metadata": {
  "kernelspec": {
   "display_name": "Python 3 (ipykernel)",
   "language": "python",
   "name": "python3"
  },
  "language_info": {
   "codemirror_mode": {
    "name": "ipython",
    "version": 3
   },
   "file_extension": ".py",
   "mimetype": "text/x-python",
   "name": "python",
   "nbconvert_exporter": "python",
   "pygments_lexer": "ipython3",
   "version": "3.9.13"
  },
  "widgets": {
   "application/vnd.jupyter.widget-state+json": {
    "state": {},
    "version_major": 2,
    "version_minor": 0
   }
  }
 },
 "nbformat": 4,
 "nbformat_minor": 5
}
