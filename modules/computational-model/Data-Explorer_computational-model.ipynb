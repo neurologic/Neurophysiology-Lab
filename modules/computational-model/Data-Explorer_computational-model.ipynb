{
 "cells": [
  {
   "cell_type": "markdown",
   "id": "32647951-7dcf-4553-b42a-5d8508d95cf9",
   "metadata": {},
   "source": [
    "<a href=\"https://colab.research.google.com/github/neurologic/Neurophysiology-Lab/blob/main/modules/computational-model/Data-Explorer_computational-model.ipynb\" target=\"_blank\" rel=\"noopener noreferrer\"><img alt=\"Open In Colab\" src=\"https://colab.research.google.com/assets/colab-badge.svg\"/></a>   "
   ]
  },
  {
   "cell_type": "markdown",
   "id": "63776114-bd58-4811-bc3b-57c50f91686e",
   "metadata": {},
   "source": [
    "# Data Explorer"
   ]
  },
  {
   "cell_type": "markdown",
   "id": "f07451ff-cf56-4763-b4ac-bd099ba1f145",
   "metadata": {},
   "source": [
    "<a id=\"toc\"></a>\n",
    "# Table of Contents\n",
    "\n",
    "- [Introduction](#intro)\n",
    "- [Setup](#setup)\n",
    "- [Computer implementation of computational models](#function)\n",
    "- [Steady State Model](#steady-state)\n",
    "- [Dynamic Model](#dynamic-model)\n"
   ]
  },
  {
   "cell_type": "markdown",
   "id": "38b445ff-7cf7-442e-bb25-83afe6d5a3fb",
   "metadata": {},
   "source": [
    "<a id=\"intro\"></a>\n",
    "# Computer Models\n",
    "\n",
    "Modelling passive and active properties of neurons based on electric circuit models from Week 1."
   ]
  },
  {
   "cell_type": "markdown",
   "id": "488d476b-9387-43d7-b4bf-0528d9f4950a",
   "metadata": {},
   "source": [
    "<a id=\"setup\"></a>\n",
    "# Setup\n",
    "\n",
    "[toc](#toc)"
   ]
  },
  {
   "cell_type": "markdown",
   "id": "b94f344a-8c2a-4080-b972-8e7a30c91e66",
   "metadata": {},
   "source": [
    "Import and define functions"
   ]
  },
  {
   "cell_type": "code",
   "execution_count": null,
   "id": "be70dacf-b862-4afa-8fc0-dce8c363fdf9",
   "metadata": {
    "tags": [
     "hide-input"
    ]
   },
   "outputs": [],
   "source": [
    "#@title {display-mode: \"form\"}\n",
    "\n",
    "#@markdown Run this code cell to import packages and define functions \n",
    "from pathlib import Path\n",
    "import numpy as np\n",
    "import seaborn as sns\n",
    "import matplotlib.pyplot as plt\n",
    "from datetime import datetime,timezone,timedelta\n",
    "pal = sns.color_palette(n_colors=15)\n",
    "pal = pal.as_hex()\n",
    "\n",
    "from ipywidgets import interactive, HBox, VBox, widgets, interact\n",
    "import ipywidgets as widgets # interactive display\n",
    "\n",
    "import matplotlib.pyplot as plt\n",
    "from datetime import datetime,timezone,timedelta\n",
    "%config InlineBackend.figure_format = 'retina'\n",
    "# use NMA plot style\n",
    "plt.style.use(\"https://raw.githubusercontent.com/NeuromatchAcademy/course-content/master/nma.mplstyle\")\n",
    "my_layout = widgets.Layout()\n",
    "\n",
    "print('Task completed at ' + str(datetime.now(timezone(-timedelta(hours=5)))))"
   ]
  },
  {
   "cell_type": "markdown",
   "id": "a1952af2-8fae-4e13-83e4-0898d7e3a234",
   "metadata": {},
   "source": [
    "<a id=\"functions\"></a>\n",
    "# Computer implementation of computational models\n",
    "\n",
    "To implement this computational model in computer code, you need to *define* a ***function***. \n",
    "\n",
    "A ***function*** in computer programming is *executable* code (it will do things when you \"run\" it). Functions *take* information that they need to do what they need to do. \n",
    "\n",
    "As an analogy, your computational model is a function (an equation in this case). You *executed* that function when you were given values for ion equilibrium potential and resistance of a neuron and calculate the neuron's resting membrane potential. \n",
    "\n",
    "To define a function in python so that the computer can execute it, we need to write down instructions in a specific way:\n",
    "\n",
    "```\n",
    "def function_name( parameters ):\n",
    "   variable = equation\n",
    "   return [variable]\n",
    "```\n",
    "\n",
    "- **def** indicates that we are defining a function\n",
    "- **function_name** is the name we give the function\n",
    "- in parentheses after the function name, we list the information that will be provided to the function when it is executed (these are info that will be needed to do what we want the function to do... in this case calculate the resting membrane potential of a neuron)\n",
    "- ```:``` transitions the code into the instructions for the function to follow when it is executed\n",
    "- the instructions for the function to execute are on the rest of the written lines, with each line indented\n",
    "- **return** terminates the function and provides information that can be accessed after the function executes\n",
    "\n",
    "Let's consider a basic function that calculates the square of a number (the number times itself).  \n",
    "Examine the contents of the following code cell and then *run* the code cell to execute the definition of the function (this step actually creates the function that is defined with the text)"
   ]
  },
  {
   "cell_type": "code",
   "execution_count": null,
   "id": "c517227b-3862-4400-89d6-b0a13acc4f39",
   "metadata": {},
   "outputs": [],
   "source": [
    "def square(x):\n",
    "    result = x*x\n",
    "    return result"
   ]
  },
  {
   "cell_type": "markdown",
   "id": "a9db80f6-4fe4-4503-a81c-9487709df27e",
   "metadata": {},
   "source": [
    "Nothing obvious will happen when you run a code cell that defines a function (other than an indication that the code cell ran). But... you can now use the function that you defined.  \n",
    "In the code cell below, assign a number to the varable ```my_number```. Then, run the code cell to execute that variable assignment."
   ]
  },
  {
   "cell_type": "code",
   "execution_count": null,
   "id": "624c6f06-14bd-4389-bb34-c3a2a9dc0b9a",
   "metadata": {},
   "outputs": [],
   "source": [
    "my_number = 2"
   ]
  },
  {
   "cell_type": "markdown",
   "id": "9e29ff7a-6038-44f2-b7c7-eac619067d33",
   "metadata": {},
   "source": [
    "Now, in the next code cell, we will execute that function by typing the name of the function followed by parentheses containing the variable *my_number* (to provide the function with that information).  \n",
    "Examine the code cell below and then run it. "
   ]
  },
  {
   "cell_type": "code",
   "execution_count": null,
   "id": "8fadb167-af20-47a8-8811-61c0d8a557f8",
   "metadata": {},
   "outputs": [],
   "source": [
    "square(my_number)"
   ]
  },
  {
   "cell_type": "markdown",
   "id": "b0709d5a-2f1d-41dd-a68c-623cd8193121",
   "metadata": {},
   "source": [
    "The function executes and returns the result of the instructions that it followed. In this case, the result is printed below the code cell, but can be assigned to another variable name by typing ```result = square(my_number)```."
   ]
  },
  {
   "cell_type": "markdown",
   "id": "cf6cceef-da14-4789-9e26-55e4fd7581f3",
   "metadata": {},
   "source": [
    "<a id=\"steady-state\"></a>\n",
    "# Steady State Model\n",
    "\n",
    "[toc](#toc)"
   ]
  },
  {
   "cell_type": "markdown",
   "id": "3722473d-aba8-43bf-bfb9-9d4bfa7201b7",
   "metadata": {},
   "source": [
    "You created a computational model of the steady state membrane potential that depends on the equilibrium potential and resistance of two ion conductances. To implement this computational model in computer code, you need to *define a function* that computes Vin based on your computational model equation. In the following code cell, replace ```...``` with the equation from your computational model that defines $V_{in}$. "
   ]
  },
  {
   "cell_type": "code",
   "execution_count": null,
   "id": "a7152a58-2458-4b02-a680-e40e8b706c95",
   "metadata": {
    "tags": [
     "hide-input"
    ]
   },
   "outputs": [],
   "source": [
    "# define the function\n",
    "\n",
    "def simulate_Vin_steady_state(E1,R1,E2,R2):\n",
    "    \n",
    "    Vin = ... \n",
    "    \n",
    "    return Vin"
   ]
  },
  {
   "cell_type": "markdown",
   "id": "5dc9b992-422a-4cc6-90a1-6744ef76048a",
   "metadata": {},
   "source": [
    "<details>\n",
    "<summary> <font color='blue'>Click here for solution </font></summary>\n",
    "    \n",
    "#define the function\n",
    "\n",
    "def simulate_Vin_steady_state(E1,R1,E2,R2):\n",
    "    \n",
    "    Vin = ... #( (E1/R1) + (E2/R2) ) / ( (1/R1) + (1/R2) )\n",
    "    \n",
    "    return Vin\n",
    "    \n",
    "</details>\n",
    "\n"
   ]
  },
  {
   "cell_type": "markdown",
   "id": "e6f4d5a9-054f-4c90-acde-fcf1347db865",
   "metadata": {},
   "source": [
    "In the code cell below, assign the values that you used in your circuit membrane model (<a href=\"https://colab.research.google.com/github/neurologic/Neurophysiology-Lab/blob/main/modules/passive-membrane-models/Lab-Manual_passive-membrane-models.ipynb\" target=\"_blank\" rel=\"noopener noreferrer\">Passive Membrane Properties lab: Part I</a>) to each variable needed by the function. Then, run the code cell to assign those values to the variables. "
   ]
  },
  {
   "cell_type": "code",
   "execution_count": null,
   "id": "061654fa-3a91-4837-8f07-76ffd2f67702",
   "metadata": {},
   "outputs": [],
   "source": [
    "R1 = ...\n",
    "R2 = ...\n",
    "E1 = ...\n",
    "E2 = ..."
   ]
  },
  {
   "cell_type": "markdown",
   "id": "dae4d9e6-5ff2-4163-ae71-a87126d57053",
   "metadata": {},
   "source": [
    "Now, examine the contents of the code cell below and run it to simulate your computational model given the values you just provided. Note that the order of information provided to the function matters - it must match the order you defined when defining the function."
   ]
  },
  {
   "cell_type": "code",
   "execution_count": null,
   "id": "ca488358-78d9-4906-968a-beb66240e3c5",
   "metadata": {},
   "outputs": [],
   "source": [
    "simulate_Vin_steady_state(E1,R1,E2,R2)"
   ]
  },
  {
   "cell_type": "markdown",
   "id": "8f992762-ee1d-4ef8-988a-7e620db5459e",
   "metadata": {},
   "source": [
    "How do the results of your computational model compare to your manually measured electric circuit model results from that lab? "
   ]
  },
  {
   "cell_type": "markdown",
   "id": "df02cc9a-bcb7-438e-a34c-a8178edb0879",
   "metadata": {},
   "source": [
    "## Interactive Simulation of the Passive Membrane Potential Model\n",
    "\n",
    "Let's implement your computational model into a more interactive simulation that you can use to efficiently exlpore the predictions of your model. There is more to learn about computer programming in Python than we will cover here to be able to make a more interactive simulation, so I have done the coding for you. But you can click ```Show Code``` if you want to take a look if you want. \n",
    "\n",
    "Run the code cell below to run the interactive simulation. "
   ]
  },
  {
   "cell_type": "code",
   "execution_count": null,
   "id": "05424958-7a3b-42c4-bed5-960b76737659",
   "metadata": {
    "tags": [
     "hide-input"
    ]
   },
   "outputs": [],
   "source": [
    "#@title {display-mode: 'form'}\n",
    "\n",
    "#@markdown Run this code cell to generate an interactive widget using the scripted \n",
    "#@markdown implementation (of your passive membrane model) that you just created. <br>\n",
    "#@markdown The results of the simulation (given the selected paramaters) is printed on the top line.\n",
    "#@markdown (note that parameter selection actually happens when you release the mouse click from the slider).\n",
    "\n",
    "\n",
    "slider_E1 = widgets.FloatSlider(\n",
    "    min=-100,\n",
    "    max=100,\n",
    "    value=0,\n",
    "    step= 1,\n",
    "    readout=True,\n",
    "    continuous_update=False,\n",
    "    description='E1 (mV)')\n",
    "slider_E1.layout.width = '600px'\n",
    "\n",
    "slider_R1 = widgets.FloatSlider(\n",
    "    min=1,\n",
    "    max=100,\n",
    "    value=1,\n",
    "    step= 1,\n",
    "    readout=True,\n",
    "    continuous_update=False,\n",
    "    description='R1 (MOhm)')\n",
    "slider_R1.layout.width = '600px'\n",
    "\n",
    "slider_E2 = widgets.FloatSlider(\n",
    "    min=-100,\n",
    "    max=100,\n",
    "    value=0,\n",
    "    step= 1,\n",
    "    readout=True,\n",
    "    continuous_update=False,\n",
    "    description='E2 (mV)')\n",
    "slider_E2.layout.width = '600px'\n",
    "\n",
    "slider_R2 = widgets.FloatSlider(\n",
    "    min=1,\n",
    "    max=100,\n",
    "    value=1,\n",
    "    step= 1,\n",
    "    readout=True,\n",
    "    continuous_update=False,\n",
    "    description='R2 (MOhm)')\n",
    "slider_R2.layout.width = '600px'\n",
    "\n",
    "label_result = widgets.Label(\n",
    "    value='The resting membrane potential of the neuron will be: '\n",
    ")\n",
    "label_result.layout.width = '600px'\n",
    "display(label_result)\n",
    "\n",
    "\n",
    "# a function that will modify the xaxis range\n",
    "def update_result(E1,R1,E2,R2):\n",
    "    Vin = simulate_Vin_steady_state(E1,R1,E2,R2)\n",
    "    label_result.value= f'The resting membrane potential of the neuron will be: {Vin:.2f} mV'\n",
    "\n",
    "w = interact(update_result, E1=slider_E1,R1 = slider_R1,E2=slider_E2,R2=slider_R2);"
   ]
  },
  {
   "cell_type": "markdown",
   "id": "c3d860b6-7623-4982-980f-20c33e4757d2",
   "metadata": {},
   "source": [
    "<a id=\"dynamic-model\"></a>\n",
    "# Dynamic Model\n",
    "\n",
    "[toc](#toc)\n",
    "\n",
    "The dynamic model is a differential equation. We can simulate a differential equation by iterating through each time step across an array of time.  \n",
    "\n",
    "Remember that your computational model is in a format usefule for calculating the change in voltage ($\\partial{V}$) across some duration of time:\n",
    "\n",
    "$$\n",
    "\\partial{V} = (Iapp - \\frac{V-E}{R}) * (\\frac{\\partial{t}}{C})\n",
    "$$\n",
    "\n",
    "where $Iapp$ is the current applied across the membrane, $V$ is the current membrane potential ($V_{in}$), $E$ is the net equilibrium potential of the membrane at that moment in time, $R$ is the net resistance of the membrane, and $C$ is the membrane capacitance. This equation can be *evaluated* over any value of $\\partial{t}$.\n",
    "\n",
    "Now let's look at how to script a function that iterates through sequential time steps and uses the computational model to determine the membrane potential of the neuron at each time step. In this way, the script defines a function that will implements a simulation of the computational model."
   ]
  },
  {
   "cell_type": "code",
   "execution_count": null,
   "id": "7c80de8d-8eff-4e3a-80c9-e644888ceff9",
   "metadata": {},
   "outputs": [],
   "source": [
    "def simulate_Vin_dynamic(E, R, C, Iapp, duration, dt):\n",
    "    '''\n",
    "    The simulation starts at time = 0 with the voltage given by the input to the function (V)\n",
    "    E = the equilibrium potential of the net ionic conductance\n",
    "    \n",
    "    R = the resistance of the membrane in Ohm\n",
    "    \n",
    "    C = the capacitance of the membrane in Farads\n",
    "    \n",
    "    Iapp = the current (microAmps) applied to the system throughout the simulation\n",
    "    \n",
    "    duration = the total time (seconds) that the current is applied to the system (in this case also the duration of the simulation)\n",
    "    \n",
    "    dt = the time step (seconds) for analysing the simulation (how much time elapses between each analysis of dV)\n",
    "    '''\n",
    "    \n",
    "    timesteps = int(duration/dt)\n",
    "    \n",
    "    '''\n",
    "    we will just use the equilibrium membrane potential of the neuron \n",
    "    as the initial membrane potential \n",
    "    '''\n",
    "    V_record = [E] # initialize an array of membrane potential across time with the initial membrane potential\n",
    "    \n",
    "    ''' then, we will iterate through time using a \"for loop\" '''\n",
    "    for i in range(timesteps): # for each time step, iterate through the simulation\n",
    "        V = V_record[-1] # what is the current membrane potential?\n",
    "        dV = (Iapp - (1/R)*(V-E))*(dt/C) # how much does the voltage change by on this time step?\n",
    "        V = (V+dV) # add the change in voltage to the current voltage\n",
    "        V_record.append(V) # append the new voltage to the array of membrane voltage across time. \n",
    "    \n",
    "    return V_record # make the array \"V_record\" available as an output of the scripted function\n"
   ]
  },
  {
   "cell_type": "markdown",
   "id": "75df48dc-1812-4419-a09b-68e2347e088e",
   "metadata": {},
   "source": [
    "To run a simulation of the model, we need to define: 1) the initial conditions of the membrane, and 2) the amplitude of the applied current. \n",
    "\n",
    "Before using the scripted version of your computational model to simulate the membrane potential response to an applied current, it is helpful to manually calculate the response for just a few timesteps after a current is applied. \n",
    "\n",
    "**Time Step 1**\n",
    "1. What is the inital value of $V_{in}$? \n",
    "    > This is the value of $V_{in}$ at the moment when the current is applied.\n",
    "2. At the first time step, what is the value of ($\\partial{V}$)?\n",
    "3. Update $V_{in}$ according to the initial $V_{in}$ + ($\\partial{V}$) on the first time step.\n",
    "\n",
    "**Time Step 2**\n",
    "1. What is the initial value of $V_{in}$ on this time step?\n",
    "2. At this time step, what is the value of ($\\partial{V}$)?\n",
    "3. WHY is the value of ($\\partial{V}$) different for this time step versus the last time step?\n",
    "    > Note there are several ways to address *why*. There is an answer in terms of the value of $V_{in}$. There is also an answer in terms of the current accross the capacitor. Remember, voltage across a capacitor only changes when there is current across the capacitor (and the magnitude of the voltage change is proportional to the amount of current). \n",
    "4. Update $V_{in}$ according to the inital $V_{in}$ + ($\\partial{V}$) on the first time step.\n",
    "\n",
    "**Time Step 3**  \n",
    "*Repeat the steps for time step 2 and notice how/why ($\\partial{V}$) changes again on this time step compared to the first two time steps.*\n",
    "\n",
    "In the code cell below, we are defining the net equilibrium potential of the resting membrane conductances ($E$), the net resistance across the membrane ($R$), and the capacitance of the membrane ($C$). We are then defining the magnitude of the applied current ($Iapp$). We will also specify a duration for the square pulse stimulus (in this case equal to the duration of our simulation). \n",
    "\n",
    "Importantly, we need to set a timestep value ($\\partial{t}$) the time between iterations of the simulation across time). \n",
    "\n",
    "After all of the variables required by the scripted function are defined, the script run a simulation of the computational model. \n",
    "\n",
    "After you run the code cell below, you will see a plot of the simulated membrane potential across time in response to the applied square-wave current step. The calculated $\\tau$ for the model membrane will be printed above the plot. \n",
    "\n",
    "What happens when you increase or decrease the value of $\\partial{t}$? (try it out)"
   ]
  },
  {
   "cell_type": "code",
   "execution_count": null,
   "id": "32d5468b-af48-435b-879b-61a8a8638f69",
   "metadata": {},
   "outputs": [],
   "source": [
    "# define the initial conditions\n",
    "E = -60*1e-3 # millivolts\n",
    "R = 100*1e6 # MOhm\n",
    "C = 100*1e-12 # pF\n",
    "\n",
    "Iapp = 100*1e-12 #pA  0.0000000001 # Amps\n",
    "duration = 0.1\n",
    "dt = 0.1*1e-3 #msec\n",
    "\n",
    "V_record = simulate_Vin_dynamic(E, R, C, Iapp, duration, dt)\n",
    "\n",
    "plt.plot(np.linspace(0,duration,int(duration/dt)+1),V_record);\n",
    "plt.xlabel('seconds');\n",
    "plt.ylabel('Volts');\n",
    "\n",
    "print(f'tau = {(R*C):0.4f} seconds')"
   ]
  },
  {
   "cell_type": "markdown",
   "id": "20c41efa-2ecc-4084-91b4-f153c5518b2e",
   "metadata": {},
   "source": [
    "Note that $ 1mV = 100pA * 10MOhm $. Why would you want to think in terms of these units?"
   ]
  },
  {
   "cell_type": "markdown",
   "id": "4e0e894d-4a27-4b01-adcd-038ecd3ac628",
   "metadata": {},
   "source": [
    "## Interactive Simulation of the Dynamic Membrane Potential Model\n",
    "\n",
    "Let's implement your computational model into a more interactive simulation that you can use to efficiently explore predictions of your model. "
   ]
  },
  {
   "cell_type": "code",
   "execution_count": null,
   "id": "ee9d02b2-8b2e-4cfa-b553-db87b118b385",
   "metadata": {
    "tags": [
     "hide-input"
    ]
   },
   "outputs": [],
   "source": [
    "#@title {display-mode: \"form\"}\n",
    "\n",
    "#@markdown Run this code cell to genrate an interactive widget using the model you just created.  <br>\n",
    "#@markdown The stimulus is a square-wave current pulse starting at t=0 with a duration of 1 second\n",
    "\n",
    "# set up the applied current\n",
    "delay = 0.1 #seconds\n",
    "duration = 1 #seconds\n",
    "\n",
    "# define the simulation conditions\n",
    "total_duration = 1.2 #seconds\n",
    "dt = 0.0001 #seconds\n",
    "\n",
    "# Create sliders for the figure widget inputs\n",
    "E_slider = widgets.FloatSlider(\n",
    "    min=-100,\n",
    "    max=100,\n",
    "    value=0,\n",
    "    step= 10,\n",
    "    readout=True,\n",
    "    description='Equilibrium Potential (mV)')\n",
    "E_slider.layout.width = '600px'\n",
    "\n",
    "R_slider = widgets.FloatSlider(\n",
    "    min=0,\n",
    "    max=1000,\n",
    "    value=100,\n",
    "    step= 1,\n",
    "    readout=True,\n",
    "    description='R (MOhm)')\n",
    "R_slider.layout.width = '600px'\n",
    "\n",
    "C_slider = widgets.FloatSlider(\n",
    "    min=1,\n",
    "    max=1000,\n",
    "    value=100,\n",
    "    step= 0.1,\n",
    "    readout=True,\n",
    "    description='C (pF)')\n",
    "C_slider.layout.width = '600px'\n",
    "\n",
    "amplitude_slider = widgets.FloatSlider(\n",
    "    min=-500,\n",
    "    max=500,\n",
    "    value=100,\n",
    "    step= 1,\n",
    "    readout=True,\n",
    "    description='I (pA)')\n",
    "amplitude_slider.layout.width = '600px'\n",
    "\n",
    "label_tau = widgets.Label(\n",
    "    value='tau = '\n",
    ")\n",
    "label_tau.layout.width = '600px'\n",
    "display(label_tau)\n",
    "\n",
    "def update_plot(E,R,C,amplitude):# set up the simulation items\n",
    "    E = E*1e-3 # convert from millivolts to volts\n",
    "    # V = E # start the simulation at equilibrium\n",
    "    R = R*1e6 # convert from MegaOhm to Ohm\n",
    "    # tau = tau*1e-3 # convert from milliseconds to seconds\n",
    "    amplitude = amplitude*1e-12 # Convert from picoAmps to Amps\n",
    "    C = C*1e-12 # convert from microfarad to farad\n",
    "    \n",
    "    # print(R,tau,C,amplitude)   \n",
    "    \n",
    "    time = np.linspace(0,total_duration,int(total_duration/dt)+1)-delay\n",
    "    stimulus = np.zeros((int(total_duration/dt)))\n",
    "    stimulus[int(delay/dt):int((delay+duration)/dt)]=amplitude\n",
    "    V_record = np.empty((int(total_duration/dt)+1))\n",
    "\n",
    "    # write the \"for\" loop\n",
    "    # simulate_V(E, R, C, Iapp, duration, dt)\n",
    "#     for i,current in enumerate(stimulus):\n",
    "#         dV = dt*((current - (V-E)/R)/C)\n",
    "#         V = (V+dV) \n",
    "#         V_record[i]=V\n",
    "        \n",
    "    V_record[0]=E\n",
    "    for i,Iapp in enumerate(stimulus): # for each time step, iterate through the simulation\n",
    "        V = V_record[i]\n",
    "        dV = (Iapp - (1/R)*(V-E))*(dt/C) # how much does the voltage change by on this time step?\n",
    "        V = (V+dV) # add the change in voltage to the current voltage\n",
    "        V_record[i+1]=V\n",
    "    \n",
    "#     V_record = [V_initial]\n",
    "# for i in range(timesteps): # for each time step, iterate through the simulation\n",
    "#     V = V_record[-1]\n",
    "#     dV = (Iapp - (1/R)*(V-0))*(dt/C) # how much does the voltage change by on this time step?\n",
    "#     V = (V+dV) # add the change in voltage to the current voltage\n",
    "#     V_record.append(V)\n",
    "  \n",
    "    # return V_record\n",
    "\n",
    "    hfig,ax = plt.subplots(figsize=(10,4))\n",
    "    # add simulation vectors to the figure widget\n",
    "    ax.plot(time,V_record*1e3) # convert from Volts to milliVolts\n",
    "    \n",
    "    label_tau.value=f'tau = {(R*C):0.4f} seconds'\n",
    "\n",
    "\n",
    "w = interact(update_plot,\n",
    "             E=E_slider,\n",
    "             R=R_slider, \n",
    "             C=C_slider,\n",
    "             amplitude=amplitude_slider);\n"
   ]
  },
  {
   "cell_type": "markdown",
   "id": "f103b7d5-fb8e-4882-89ec-0e6bded455a7",
   "metadata": {},
   "source": [
    "<a id=\"three\"></a>\n",
    "# Spiking\n",
    "\n",
    "[toc](#toc)\n",
    "\n",
    "Simulating spiking output of your model membrane does not require mathematically solving for the voltage-gated conductances. Many computational models of neuron spiking activity simply use knowledge about spike thresholds and refractory periods to implement ***conditional statements*** in the model that simulate spikes. These are often called *Leaky Integrate and Fire* models (***LIF***). "
   ]
  },
  {
   "cell_type": "code",
   "execution_count": null,
   "id": "1e7108bf-0d9b-437c-96ef-a105a23378b6",
   "metadata": {
    "tags": [
     "hide-input"
    ]
   },
   "outputs": [],
   "source": [
    "#@title {display-mode: \"form\"}\n",
    "\n",
    "#@markdown **TASK:** Run this cell to enable the interactive plot\n",
    "#@markdown that helps you explore the effect of intrinsic physiology on neuron behavior. \n",
    "\n",
    "def default_pars(**kwargs):\n",
    "    pars = {}\n",
    "\n",
    "    # typical neuron parameters#\n",
    "    pars['V_th'] = -55.     # spike threshold [mV]\n",
    "    pars['V_reset'] = -75.  # reset potential [mV]\n",
    "    pars['tau_m'] = 10.     # membrane time constant [ms]\n",
    "    pars['g_L'] = 10.       # leak conductance [nS]\n",
    "    pars['V_init'] = -75.   # initial potential [mV]\n",
    "    pars['E_L'] = -75.      # leak reversal potential [mV]\n",
    "    pars['tref'] = 2.       # refractory time (ms)\n",
    "\n",
    "    # simulation parameters #\n",
    "    pars['T'] = 400.  # Total duration of simulation [ms]\n",
    "    pars['dt'] = .1   # Simulation time step [ms]\n",
    "\n",
    "    # external parameters if any #\n",
    "    for k in kwargs:\n",
    "        pars[k] = kwargs[k]\n",
    "\n",
    "    pars['range_t'] = np.arange(0, pars['T'], pars['dt'])  # Vector of discretized time points [ms]\n",
    "\n",
    "    return pars\n",
    "\n",
    "def plot_volt_trace(pars, v, sp):\n",
    "    \"\"\"\n",
    "    Plot trajetory of membrane potential for a single neuron\n",
    "\n",
    "    Expects:\n",
    "    pars   : parameter dictionary\n",
    "    v      : volt trajetory\n",
    "    sp     : spike train\n",
    "\n",
    "    Returns:\n",
    "    figure of the membrane potential trajetory for a single neuron\n",
    "    \"\"\"\n",
    "    hfig,ax = plt.subplots(figsize=(10,5),num=1)\n",
    "    V_th = pars['V_th']\n",
    "    dt, range_t = pars['dt'], pars['range_t']\n",
    "    if sp.size:\n",
    "        sp_num = (sp / dt).astype(int) - 1\n",
    "        v[sp_num] += 40  # draw nicer spikes\n",
    "    ax.plot(pars['range_t'], v, 'b')\n",
    "    ax.axhline(V_th, 0, 1, color='k', ls='--')\n",
    "    ax.set_xlabel('Time (ms)',fontsize=14)\n",
    "    ax.set_ylabel('V (mV)',fontsize=14)\n",
    "    # ax.set_xticks(fontsize=14)\n",
    "    # ax.set_yticks(fontsize=14)\n",
    "    ax.legend(['Membrane\\npotential', r'Threshold V$_{\\mathrm{th}}$'],\n",
    "             loc=[1.05, 0.75])\n",
    "    ax.set_ylim([-90, -20])\n",
    "\n",
    "    \n",
    "def run_LIF(pars, Iinj, stop=False, durstep=100):\n",
    "    \"\"\"\n",
    "    Simulate the LIF dynamics with external input current\n",
    "    Args:\n",
    "    pars       : parameter dictionary\n",
    "    Iinj       : input current [pA]. The injected current here can be a value\n",
    "                 or an array\n",
    "    stop       : boolean. If True, use a current pulse\n",
    "    Returns:\n",
    "    rec_v      : membrane potential\n",
    "    rec_sp     : spike times\n",
    "    \"\"\"\n",
    "\n",
    "    # Set parameters\n",
    "    V_th, V_reset = pars['V_th'], pars['V_reset']\n",
    "    tau_m, g_L = pars['tau_m'], pars['g_L']\n",
    "    V_init, E_L = pars['V_init'], pars['E_L']\n",
    "    dt, range_t = pars['dt'], pars['range_t']\n",
    "    fs = 1/dt\n",
    "    Lt = range_t.size\n",
    "    tref = pars['tref']\n",
    "\n",
    "    # Initialize voltage\n",
    "    v = np.zeros(Lt)\n",
    "    v[0] = V_init\n",
    "\n",
    "    # Set current time course\n",
    "    Iinj = Iinj * np.ones(Lt)\n",
    "    durstep = int((durstep*fs)/2)\n",
    "    # If current pulse, set beginning and end to 0\n",
    "    if stop:\n",
    "        # Iinj[:int(len(Iinj) / 2) - (int(durstep/pars['dt'])/2)] = 0\n",
    "        # Iinj[int(len(Iinj) / 2) + (int(durstep/pars['dt'])/2):] = 0\n",
    "\n",
    "        Iinj[:int(len(Iinj) / 2) - durstep] = 0\n",
    "        Iinj[int(len(Iinj) / 2) + durstep:] = 0\n",
    "\n",
    "    # Loop over time\n",
    "    rec_spikes = []  # record spike times\n",
    "    tr = 0.  # the count for refractory duration\n",
    "\n",
    "    for it in range(Lt - 1):\n",
    "\n",
    "        if tr > 0:  # check if in refractory period\n",
    "            v[it] = V_reset  # set voltage to reset\n",
    "            tr = tr - 1 # reduce running counter of refractory period\n",
    "\n",
    "        elif v[it] >= V_th:  # if voltage over threshold\n",
    "            rec_spikes.append(it)  # record spike event\n",
    "            v[it] = V_reset  # reset voltage\n",
    "            tr = tref / dt  # set refractory time\n",
    "\n",
    "        # Calculate the increment of the membrane potential\n",
    "        dv = (-(v[it] - E_L) + Iinj[it] / g_L) * (dt / tau_m)\n",
    "\n",
    "        # Update the membrane potential\n",
    "        v[it + 1] = v[it] + dv\n",
    "\n",
    "    # Get spike times in ms\n",
    "    rec_spikes = np.array(rec_spikes) * dt\n",
    "\n",
    "    return v, rec_spikes\n",
    "\n",
    "\n",
    "\n",
    "\n",
    "my_layout.width = '700px'\n",
    "# my_layout.description_width = 'initial'\n",
    "style = {'description_width': 'initial'}\n",
    "@widgets.interact(\n",
    "    current_injection=widgets.FloatSlider(50., min=0., max=1000., step=2.,\n",
    "                               layout=my_layout,style=style),\n",
    "    Simulation_Duration=widgets.FloatSlider(400., min=0., max=1000., step=10.,\n",
    "                               layout=my_layout,style=style),\n",
    "    Injection_Step=widgets.Checkbox(value=True,\n",
    "                               description='current step (vs continuous)',\n",
    "                               layout=my_layout,style=style),\n",
    "    Current_Step_Duration=widgets.FloatSlider(100., min=10, max=200., step=2.,\n",
    "                               layout=my_layout,style=style),\n",
    "    Leak_Reversal=widgets.FloatSlider(-75., min=-90, max=-30., step=2.,\n",
    "                               layout=my_layout,style=style),\n",
    "    Leak_Conductance=widgets.FloatSlider(10., min=1, max=50., step=2.,\n",
    "                               layout=my_layout,style=style),\n",
    "    AHP_Voltage=widgets.FloatSlider(-80., min=-90., max=-30.,step=2.,\n",
    "                               layout=my_layout,style=style),\n",
    "    Spike_Threshold=widgets.FloatSlider(-55., min=-100., max=-30., step=2.,\n",
    "                               layout=my_layout,style=style),\n",
    "    Membrane_Tau=widgets.FloatSlider(5., min=1., max=15., step=1.,\n",
    "                               layout=my_layout,style=style)\n",
    ")\n",
    "\n",
    "\n",
    "def diff_DC(current_injection,\n",
    "            Simulation_Duration,\n",
    "            Injection_Step,\n",
    "            Current_Step_Duration,\n",
    "            Leak_Reversal,\n",
    "            Leak_Conductance,\n",
    "            AHP_Voltage,\n",
    "            Spike_Threshold,\n",
    "            Membrane_Tau): #I_dc=200., tau_m=10.):\n",
    "    # pars = default_pars(T=100.)\n",
    "    # pars['tau_m'] = tau_m\n",
    "    pars = default_pars(\n",
    "      E_L = Leak_Reversal,\n",
    "      g_L = Leak_Conductance,\n",
    "      V_init = Leak_Reversal,\n",
    "      V_reset = AHP_Voltage,\n",
    "      V_th = Spike_Threshold,\n",
    "      tau_m = Membrane_Tau,\n",
    "      T=Simulation_Duration)\n",
    "    # pars=default_pars()\n",
    "    v, sp = run_LIF(pars, Iinj=current_injection,stop=Injection_Step,durstep=Current_Step_Duration)\n",
    "    plot_volt_trace(pars, v, sp)\n",
    "\n",
    "print('Interactive demo initiated at ' + str(datetime.now(timezone(-timedelta(hours=5)))))"
   ]
  },
  {
   "cell_type": "markdown",
   "id": "d451b557-6777-4492-955e-a41130ad39b9",
   "metadata": {},
   "source": [
    "<hr> \n",
    "Written by Dr. Krista Perks for courses taught at Wesleyan University."
   ]
  },
  {
   "cell_type": "code",
   "execution_count": null,
   "id": "5c707588-d5f6-4142-8289-da7ba6a97dbc",
   "metadata": {},
   "outputs": [],
   "source": []
  },
  {
   "cell_type": "markdown",
   "id": "57a8a68c-055e-4af0-ba4d-67d0d67148f1",
   "metadata": {},
   "source": [
    "<a id=\"setup\"></a>"
   ]
  },
  {
   "cell_type": "markdown",
   "id": "a350712e-e145-4475-9588-e3f19469b5ce",
   "metadata": {},
   "source": [
    "<a id=\"one\"></a>"
   ]
  },
  {
   "cell_type": "markdown",
   "id": "86fd2b4a-b890-465f-bf33-c2057738789e",
   "metadata": {},
   "source": [
    "<a id=\"two\"></a>"
   ]
  },
  {
   "cell_type": "markdown",
   "id": "b05de192-2baf-4d46-8848-6db1e3b50bff",
   "metadata": {},
   "source": [
    "<a id=\"three\"></a>"
   ]
  },
  {
   "cell_type": "markdown",
   "id": "e6519277-fc86-44fd-a75b-f74cad0efcf1",
   "metadata": {},
   "source": [
    "<a id=\"four\"></a>"
   ]
  }
 ],
 "metadata": {
  "kernelspec": {
   "display_name": "Python 3 (ipykernel)",
   "language": "python",
   "name": "python3"
  },
  "language_info": {
   "codemirror_mode": {
    "name": "ipython",
    "version": 3
   },
   "file_extension": ".py",
   "mimetype": "text/x-python",
   "name": "python",
   "nbconvert_exporter": "python",
   "pygments_lexer": "ipython3",
   "version": "3.9.13"
  },
  "widgets": {
   "application/vnd.jupyter.widget-state+json": {
    "state": {
     "00674f97631449168eceb2291d7f789e": {
      "model_module": "@jupyter-widgets/controls",
      "model_module_version": "1.5.0",
      "model_name": "FloatSliderModel",
      "state": {
       "description": "I (pA)",
       "layout": "IPY_MODEL_b986428f55014a479dd979bea3eed53b",
       "max": 500,
       "style": "IPY_MODEL_b01819d6872440cbbcc40142b8c33a4d",
       "value": 219
      }
     },
     "00af3730ea9e42eabecb44fa1fe13d62": {
      "model_module": "@jupyter-widgets/controls",
      "model_module_version": "1.5.0",
      "model_name": "FloatSliderModel",
      "state": {
       "continuous_update": false,
       "description": "E2",
       "layout": "IPY_MODEL_d1528e8e4bfc4dd5aa565fe7f398a13b",
       "min": -100,
       "style": "IPY_MODEL_c84f49bba4d04042bddd64ea660d09c1",
       "value": -21
      }
     },
     "011a4455d5744fbf9a792de24a644706": {
      "model_module": "@jupyter-widgets/base",
      "model_module_version": "1.2.0",
      "model_name": "LayoutModel",
      "state": {
       "width": "600px"
      }
     },
     "012e608303fb48ac9c5a21a19c145887": {
      "model_module": "@jupyter-widgets/base",
      "model_module_version": "1.2.0",
      "model_name": "LayoutModel",
      "state": {
       "width": "600px"
      }
     },
     "01920a4bc4e84c8e84913d87beabefda": {
      "model_module": "@jupyter-widgets/controls",
      "model_module_version": "1.5.0",
      "model_name": "SliderStyleModel",
      "state": {
       "description_width": ""
      }
     },
     "01e4a6bd549448e9a258b9be47f069a5": {
      "model_module": "@jupyter-widgets/controls",
      "model_module_version": "1.5.0",
      "model_name": "FloatSliderModel",
      "state": {
       "description": "C (pF)",
       "layout": "IPY_MODEL_5edaf749b9ca420190722fa58bb38e3f",
       "max": 1000,
       "min": 1,
       "step": 0.1,
       "style": "IPY_MODEL_e97c9b7792b2415b8aa2d74bf29b3962",
       "value": 100
      }
     },
     "021ede49ffdb4647aa8818c3f1090f62": {
      "model_module": "@jupyter-widgets/controls",
      "model_module_version": "1.5.0",
      "model_name": "VBoxModel",
      "state": {
       "_dom_classes": [
        "widget-interact"
       ],
       "children": [
        "IPY_MODEL_752c8cf3f99e48efbb1349448f5c9939",
        "IPY_MODEL_4af2e7b1887247f3bafb7902a5f496b2",
        "IPY_MODEL_e3821298541643bfae8ba3f125a2060b",
        "IPY_MODEL_3b41693e2a074182b4955d84f8894c09",
        "IPY_MODEL_ce6f27a48a1b4371837e40090d066b84"
       ],
       "layout": "IPY_MODEL_6d15c5203d9c4d11ba8c85bdaac10926"
      }
     },
     "0239ace196794eb3a37f9ea4858e2922": {
      "model_module": "@jupyter-widgets/controls",
      "model_module_version": "1.5.0",
      "model_name": "DescriptionStyleModel",
      "state": {
       "description_width": ""
      }
     },
     "0267653ff451486582ba2d81f2cd6ccc": {
      "model_module": "@jupyter-widgets/controls",
      "model_module_version": "1.5.0",
      "model_name": "FloatSliderModel",
      "state": {
       "description": "I (pA)",
       "layout": "IPY_MODEL_42ae54e9a7714e3d8359ae89d371a3c4",
       "max": 500,
       "style": "IPY_MODEL_b8beb40c0c724743a04fb2670f745bed",
       "value": 100
      }
     },
     "02e78a3b27fd4fe89deb11d143f1411b": {
      "model_module": "@jupyter-widgets/controls",
      "model_module_version": "1.5.0",
      "model_name": "FloatSliderModel",
      "state": {
       "description": "eq. Voltage (millivolts)",
       "layout": "IPY_MODEL_e4f8506943504370981df9aedc3d2975",
       "min": -100,
       "step": 10,
       "style": "IPY_MODEL_35980c21a68b4fbf918e4de1f3edfe48"
      }
     },
     "031d1804082f411dbdafdddbbfe69ca1": {
      "model_module": "@jupyter-widgets/base",
      "model_module_version": "1.2.0",
      "model_name": "LayoutModel",
      "state": {
       "width": "600px"
      }
     },
     "03647f348a614cf394791af2860f73b3": {
      "model_module": "@jupyter-widgets/controls",
      "model_module_version": "1.5.0",
      "model_name": "FloatSliderModel",
      "state": {
       "description": "Simulation_Duration",
       "layout": "IPY_MODEL_09acbd70c7b043139987e21e170afe3c",
       "max": 1000,
       "step": 10,
       "style": "IPY_MODEL_5e5c4c8bbfe648128f503bddbaf98fdd",
       "value": 330
      }
     },
     "039874974ff74d5194316f86522c329e": {
      "model_module": "@jupyter-widgets/base",
      "model_module_version": "1.2.0",
      "model_name": "LayoutModel",
      "state": {
       "width": "600px"
      }
     },
     "03b8046f749e46718eb59668ee5e366d": {
      "model_module": "@jupyter-widgets/base",
      "model_module_version": "1.2.0",
      "model_name": "LayoutModel",
      "state": {
       "width": "600px"
      }
     },
     "05521c99aee9401f9e3138b4ce4aec3b": {
      "model_module": "@jupyter-widgets/controls",
      "model_module_version": "1.5.0",
      "model_name": "FloatSliderModel",
      "state": {
       "description": "eq. Voltage (millivolts)",
       "layout": "IPY_MODEL_e4122bbc750745acaec1facd8f83cd2f",
       "min": -100,
       "step": 10,
       "style": "IPY_MODEL_40a4db24169444819e9539e86cc62b41"
      }
     },
     "0588879b076246138a6a54dd6adae1b8": {
      "model_module": "@jupyter-widgets/base",
      "model_module_version": "1.2.0",
      "model_name": "LayoutModel",
      "state": {
       "width": "600px"
      }
     },
     "05bc8332bc7e45d9af97f95fcd17c333": {
      "model_module": "@jupyter-widgets/base",
      "model_module_version": "1.2.0",
      "model_name": "LayoutModel",
      "state": {}
     },
     "05c36b5199b64f81ae5ef70bd416d6ef": {
      "model_module": "@jupyter-widgets/base",
      "model_module_version": "1.2.0",
      "model_name": "LayoutModel",
      "state": {
       "width": "600px"
      }
     },
     "075db5b1522b48c2902e985edf1d2418": {
      "model_module": "@jupyter-widgets/controls",
      "model_module_version": "1.5.0",
      "model_name": "FloatSliderModel",
      "state": {
       "description": "C (pF)",
       "layout": "IPY_MODEL_1e6646434b2a4b63ae2e09eff1a70748",
       "max": 1000,
       "min": 1,
       "step": 0.1,
       "style": "IPY_MODEL_898503df6670447ca68b5a5f3214fef1",
       "value": 81.6
      }
     },
     "0812aabf22dd403fbbe180a6072c2e4a": {
      "model_module": "@jupyter-widgets/controls",
      "model_module_version": "1.5.0",
      "model_name": "VBoxModel",
      "state": {
       "_dom_classes": [
        "widget-interact"
       ],
       "children": [
        "IPY_MODEL_7c33709f6cbc4ab2920b6eef10822b3e",
        "IPY_MODEL_52cfd1fe85b040079d1ea0a9d1876c1f",
        "IPY_MODEL_60ddf7c7c6a747de812c77dbe28d1833",
        "IPY_MODEL_ded26cb99956499b823bbe184378dfc6",
        "IPY_MODEL_e18588aba90c43f3b660b7ba5c8bcc5d"
       ],
       "layout": "IPY_MODEL_143b7bedfdc848cf94517695b3f8f13d"
      }
     },
     "081d08a5fc14414ba116da366a83a82a": {
      "model_module": "@jupyter-widgets/base",
      "model_module_version": "1.2.0",
      "model_name": "LayoutModel",
      "state": {}
     },
     "08d54583d7554fc383146fcf4cadc1f4": {
      "model_module": "@jupyter-widgets/controls",
      "model_module_version": "1.5.0",
      "model_name": "VBoxModel",
      "state": {
       "_dom_classes": [
        "widget-interact"
       ],
       "children": [
        "IPY_MODEL_9064643e5dbd49bda57466200b96caef",
        "IPY_MODEL_9f3161748477448495e7fbc05aabad25",
        "IPY_MODEL_5e800bb9002c472f83f5a201b93a1857",
        "IPY_MODEL_0adb01132a5943fabb4221faf109c7d6",
        "IPY_MODEL_1f9920268dc24dd2afd801306e97af30"
       ],
       "layout": "IPY_MODEL_9113d0b9e78e4ab980fccb3195ed7409"
      }
     },
     "09acbd70c7b043139987e21e170afe3c": {
      "model_module": "@jupyter-widgets/base",
      "model_module_version": "1.2.0",
      "model_name": "LayoutModel",
      "state": {
       "width": "700px"
      }
     },
     "0a58e1c2115d4d81b22939fef572c410": {
      "model_module": "@jupyter-widgets/output",
      "model_module_version": "1.0.0",
      "model_name": "OutputModel",
      "state": {
       "layout": "IPY_MODEL_7db6678550f341cc936f5fcb1baf7f01",
       "outputs": [
        {
         "data": {
          "image/png": "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\n",
          "text/plain": "<Figure size 720x360 with 1 Axes>"
         },
         "metadata": {
          "image/png": {
           "height": 341,
           "width": 702
          },
          "needs_background": "light"
         },
         "output_type": "display_data"
        }
       ]
      }
     },
     "0adb01132a5943fabb4221faf109c7d6": {
      "model_module": "@jupyter-widgets/controls",
      "model_module_version": "1.5.0",
      "model_name": "FloatSliderModel",
      "state": {
       "description": "I (pA)",
       "layout": "IPY_MODEL_49af031de3ad4072a11e9c7afe585ff8",
       "max": 500,
       "style": "IPY_MODEL_723b31caacba438ea913eb2a3000544a",
       "value": 100
      }
     },
     "0b4eacce62214f80975042b5bb0b7eca": {
      "model_module": "@jupyter-widgets/controls",
      "model_module_version": "1.5.0",
      "model_name": "LabelModel",
      "state": {
       "layout": "IPY_MODEL_2601887650f342579967bccd0f5b3f54",
       "style": "IPY_MODEL_bc3ec45dfc04469fb0428a67cc4fdcb9",
       "value": "tau = 0.0610 seconds"
      }
     },
     "0b503fb0dae4455ca8ded4efff96e0e1": {
      "model_module": "@jupyter-widgets/output",
      "model_module_version": "1.0.0",
      "model_name": "OutputModel",
      "state": {
       "layout": "IPY_MODEL_2b1829aa5e1f454ba57925cb301ed0ed",
       "outputs": [
        {
         "data": {
          "image/png": "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\n",
          "text/plain": "<Figure size 720x360 with 1 Axes>"
         },
         "metadata": {
          "image/png": {
           "height": 341,
           "width": 702
          },
          "needs_background": "light"
         },
         "output_type": "display_data"
        }
       ]
      }
     },
     "0bb4a0bd5fa443c09951934f8ff9b811": {
      "model_module": "@jupyter-widgets/base",
      "model_module_version": "1.2.0",
      "model_name": "LayoutModel",
      "state": {
       "width": "600px"
      }
     },
     "0c6665abc3c245a891c3a6f1167ccf50": {
      "model_module": "@jupyter-widgets/base",
      "model_module_version": "1.2.0",
      "model_name": "LayoutModel",
      "state": {}
     },
     "0c7387f21cfb47a1bd6076b377a12e45": {
      "model_module": "@jupyter-widgets/controls",
      "model_module_version": "1.5.0",
      "model_name": "LabelModel",
      "state": {
       "layout": "IPY_MODEL_031d1804082f411dbdafdddbbfe69ca1",
       "style": "IPY_MODEL_a2101e8b2e614b6386b4c2289fa5d77d",
       "value": "tau = 0.010 seconds"
      }
     },
     "0d41d499ec144b4ca819b262fb9fca7b": {
      "model_module": "@jupyter-widgets/base",
      "model_module_version": "1.2.0",
      "model_name": "LayoutModel",
      "state": {}
     },
     "0d985a482db049578498af38d719bbc3": {
      "model_module": "@jupyter-widgets/controls",
      "model_module_version": "1.5.0",
      "model_name": "FloatSliderModel",
      "state": {
       "description": "Leak_Reversal",
       "layout": "IPY_MODEL_09acbd70c7b043139987e21e170afe3c",
       "max": -30,
       "min": -90,
       "step": 2,
       "style": "IPY_MODEL_41f69f2ad9344ff79839c654d99b09bc",
       "value": -75
      }
     },
     "0dc809f9202947db8f8afa6cab9ff105": {
      "model_module": "@jupyter-widgets/base",
      "model_module_version": "1.2.0",
      "model_name": "LayoutModel",
      "state": {
       "width": "600px"
      }
     },
     "0e2f6884f2334d08992dcf524f448634": {
      "model_module": "@jupyter-widgets/controls",
      "model_module_version": "1.5.0",
      "model_name": "FloatSliderModel",
      "state": {
       "description": "R (MOhm)",
       "layout": "IPY_MODEL_dca77b1a5c4446818b4a25153ee31ce3",
       "max": 1000,
       "step": 10,
       "style": "IPY_MODEL_52b0d5cfb50348fe87f7e808640b6344",
       "value": 640
      }
     },
     "0e37ab0d209148108ff3a7d4a09eb222": {
      "model_module": "@jupyter-widgets/controls",
      "model_module_version": "1.5.0",
      "model_name": "FloatSliderModel",
      "state": {
       "description": "I (pA)",
       "layout": "IPY_MODEL_b3f7db8118d444c1895eb77b586495ff",
       "max": 500,
       "style": "IPY_MODEL_db1487ef45a04e12ad002f6942a30e9f",
       "value": 100
      }
     },
     "0e4373ec0d584fa389918571caa33767": {
      "model_module": "@jupyter-widgets/controls",
      "model_module_version": "1.5.0",
      "model_name": "FloatSliderModel",
      "state": {
       "description": "Initial Voltage (millivolts)",
       "layout": "IPY_MODEL_1ff19c3495ce4f87b92a98e78baec90c",
       "min": -100,
       "step": 10,
       "style": "IPY_MODEL_62be3eaf3dd2440bbe66a3f5bde8b4ba"
      }
     },
     "0ea0a22dc2144cfa85f5e02d7adae164": {
      "model_module": "@jupyter-widgets/base",
      "model_module_version": "1.2.0",
      "model_name": "LayoutModel",
      "state": {
       "width": "600px"
      }
     },
     "102d7c4b2f1542009b4cc335eb8537a4": {
      "model_module": "@jupyter-widgets/base",
      "model_module_version": "1.2.0",
      "model_name": "LayoutModel",
      "state": {
       "width": "600px"
      }
     },
     "10755fde17a447e0b43e5d41fd097472": {
      "model_module": "@jupyter-widgets/controls",
      "model_module_version": "1.5.0",
      "model_name": "FloatSliderModel",
      "state": {
       "description": "Leak_Reversal",
       "layout": "IPY_MODEL_09acbd70c7b043139987e21e170afe3c",
       "max": -30,
       "min": -90,
       "step": 2,
       "style": "IPY_MODEL_99e3ab1e5f814eeb892715faa043b869",
       "value": -80
      }
     },
     "10d164af829c47f49a371e32fdafd7bb": {
      "model_module": "@jupyter-widgets/controls",
      "model_module_version": "1.5.0",
      "model_name": "LabelModel",
      "state": {
       "layout": "IPY_MODEL_102d7c4b2f1542009b4cc335eb8537a4",
       "style": "IPY_MODEL_66efe4d4a0884540a4f35e52829ee66c",
       "value": "tau = "
      }
     },
     "11425cd88c6f4b0690a753c74be5d06e": {
      "model_module": "@jupyter-widgets/controls",
      "model_module_version": "1.5.0",
      "model_name": "DescriptionStyleModel",
      "state": {
       "description_width": ""
      }
     },
     "119d2ed6d35d4516828b8a10c4787dfc": {
      "model_module": "@jupyter-widgets/controls",
      "model_module_version": "1.5.0",
      "model_name": "FloatSliderModel",
      "state": {
       "description": "I (pA)",
       "layout": "IPY_MODEL_5d4790dcbcf5478b86ca69e74d63356f",
       "max": 500,
       "style": "IPY_MODEL_7b812f33cbb149eebf3e28e313396f3e",
       "value": 100
      }
     },
     "122c9bb72f86453a8259ac783eb04e9c": {
      "model_module": "@jupyter-widgets/controls",
      "model_module_version": "1.5.0",
      "model_name": "FloatSliderModel",
      "state": {
       "description": "Current_Step_Duration",
       "layout": "IPY_MODEL_09acbd70c7b043139987e21e170afe3c",
       "max": 200,
       "min": 10,
       "step": 2,
       "style": "IPY_MODEL_e2700ffaf79c4016af00fc4ba1d94689",
       "value": 100
      }
     },
     "12378d90b9914df097f86824bdfcf7b4": {
      "model_module": "@jupyter-widgets/controls",
      "model_module_version": "1.5.0",
      "model_name": "SliderStyleModel",
      "state": {
       "description_width": ""
      }
     },
     "123897dd983b4a61b0d5fb1dc00c0041": {
      "model_module": "@jupyter-widgets/controls",
      "model_module_version": "1.5.0",
      "model_name": "VBoxModel",
      "state": {
       "_dom_classes": [
        "widget-interact"
       ],
       "children": [
        "IPY_MODEL_2cc4a948fc74426f95db15ca237a9fd1",
        "IPY_MODEL_28a3795bf5474156991e23c3ebd2e4a1",
        "IPY_MODEL_7f89af332cad4506a49abf797b1fe90d",
        "IPY_MODEL_f3dff454a75b439f81ec726f2c931549",
        "IPY_MODEL_e2a7afdf34d44469a95bd598a4cf6ed2"
       ],
       "layout": "IPY_MODEL_16baadb304eb466dac2a18ac360fdd60"
      }
     },
     "12419498d3f6432d911eb03023b13a16": {
      "model_module": "@jupyter-widgets/base",
      "model_module_version": "1.2.0",
      "model_name": "LayoutModel",
      "state": {
       "width": "600px"
      }
     },
     "12ac35a98c504a17ab784367b90b980a": {
      "model_module": "@jupyter-widgets/base",
      "model_module_version": "1.2.0",
      "model_name": "LayoutModel",
      "state": {
       "width": "600px"
      }
     },
     "12e8581ab66c4bb0b01863328070d557": {
      "model_module": "@jupyter-widgets/controls",
      "model_module_version": "1.5.0",
      "model_name": "FloatSliderModel",
      "state": {
       "description": "R (MOhm)",
       "layout": "IPY_MODEL_e29d715ffa954543b3cf20ec49b415f2",
       "max": 1000,
       "step": 10,
       "style": "IPY_MODEL_71ea9363534a4440b01cd60a7a0552d9",
       "value": 100
      }
     },
     "13395cdd8a8a49c8af5be6628fd67b5d": {
      "model_module": "@jupyter-widgets/output",
      "model_module_version": "1.0.0",
      "model_name": "OutputModel",
      "state": {
       "layout": "IPY_MODEL_31ca0744c3344f1daadf8a3fff478348",
       "outputs": [
        {
         "data": {
          "image/png": "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\n",
          "text/plain": "<Figure size 720x360 with 1 Axes>"
         },
         "metadata": {
          "image/png": {
           "height": 341,
           "width": 702
          },
          "needs_background": "light"
         },
         "output_type": "display_data"
        }
       ]
      }
     },
     "134600f53fd04cd9a2a9874783cd16d9": {
      "model_module": "@jupyter-widgets/base",
      "model_module_version": "1.2.0",
      "model_name": "LayoutModel",
      "state": {}
     },
     "139c24226a3a4db480df403d3a85e888": {
      "model_module": "@jupyter-widgets/controls",
      "model_module_version": "1.5.0",
      "model_name": "SliderStyleModel",
      "state": {
       "description_width": ""
      }
     },
     "13d8501a88d74344894676788059b004": {
      "model_module": "@jupyter-widgets/base",
      "model_module_version": "1.2.0",
      "model_name": "LayoutModel",
      "state": {
       "width": "600px"
      }
     },
     "13e30b43c0af41a887712d772eb1b8c8": {
      "model_module": "@jupyter-widgets/controls",
      "model_module_version": "1.5.0",
      "model_name": "SliderStyleModel",
      "state": {
       "description_width": ""
      }
     },
     "143b7bedfdc848cf94517695b3f8f13d": {
      "model_module": "@jupyter-widgets/base",
      "model_module_version": "1.2.0",
      "model_name": "LayoutModel",
      "state": {}
     },
     "1449ad46b56f456dbab47428ecf25c88": {
      "model_module": "@jupyter-widgets/controls",
      "model_module_version": "1.5.0",
      "model_name": "SliderStyleModel",
      "state": {
       "description_width": ""
      }
     },
     "154e4d517950421484a702dfbd73574f": {
      "model_module": "@jupyter-widgets/controls",
      "model_module_version": "1.5.0",
      "model_name": "LabelModel",
      "state": {
       "layout": "IPY_MODEL_69dec747a7204167b17ae48e79c5ddcb",
       "style": "IPY_MODEL_38985ca825ac40c1a0861fd5ca1dc6c4",
       "value": "tau = 0.0190 seconds"
      }
     },
     "1560def176754cbc9722eafbc25d445e": {
      "model_module": "@jupyter-widgets/controls",
      "model_module_version": "1.5.0",
      "model_name": "VBoxModel",
      "state": {
       "_dom_classes": [
        "widget-interact"
       ],
       "children": [
        "IPY_MODEL_fed2ec90de484f96970c3e15c078e3af",
        "IPY_MODEL_a094f6e6d71741c39e8815b64a144144",
        "IPY_MODEL_9c35489f6e88457b9ea8493f4c58f885",
        "IPY_MODEL_b2fe45449ae54dcb8a47bd22eb76d8ac",
        "IPY_MODEL_3cfe6e470204430586b7b5feec407abe"
       ],
       "layout": "IPY_MODEL_6486e2b7cdf349b68637076fcadef862"
      }
     },
     "16430eb3cc6045bc820bd0afdb7ad016": {
      "model_module": "@jupyter-widgets/base",
      "model_module_version": "1.2.0",
      "model_name": "LayoutModel",
      "state": {
       "width": "600px"
      }
     },
     "168ea98334d445b3b3c2d0f586f84d7c": {
      "model_module": "@jupyter-widgets/base",
      "model_module_version": "1.2.0",
      "model_name": "LayoutModel",
      "state": {}
     },
     "1690768d5e554348a499cd81b9eea29c": {
      "model_module": "@jupyter-widgets/controls",
      "model_module_version": "1.5.0",
      "model_name": "VBoxModel",
      "state": {
       "_dom_classes": [
        "widget-interact"
       ],
       "children": [
        "IPY_MODEL_3664d74b9230429b97d7c729a3c8e3a6",
        "IPY_MODEL_c0a8908f4b7147b4a9d7ccf5c051d088",
        "IPY_MODEL_e0bc039d5df0492a8bfafd2f54d72eae",
        "IPY_MODEL_2db45fafa7274228918c6ec3e5ca43f9",
        "IPY_MODEL_d10c5571f9844b01955cb836cf910303"
       ],
       "layout": "IPY_MODEL_7a28d0c516874115b623af4cb550b2be"
      }
     },
     "169549ee6a4e434dbfebc1f8c65cb1b5": {
      "model_module": "@jupyter-widgets/base",
      "model_module_version": "1.2.0",
      "model_name": "LayoutModel",
      "state": {
       "width": "600px"
      }
     },
     "16baadb304eb466dac2a18ac360fdd60": {
      "model_module": "@jupyter-widgets/base",
      "model_module_version": "1.2.0",
      "model_name": "LayoutModel",
      "state": {}
     },
     "17c0787a88604148bb5e35afff54b481": {
      "model_module": "@jupyter-widgets/controls",
      "model_module_version": "1.5.0",
      "model_name": "FloatSliderModel",
      "state": {
       "description": "R (MOhm)",
       "layout": "IPY_MODEL_9bd5d53fbfad495ab6bf9ac1e4b7624c",
       "max": 1000,
       "step": 10,
       "style": "IPY_MODEL_d69c0d072f114f9b94edf9161f301f68",
       "value": 100
      }
     },
     "18237e5e99f945239b7b249c5bea61b2": {
      "model_module": "@jupyter-widgets/controls",
      "model_module_version": "1.5.0",
      "model_name": "FloatSliderModel",
      "state": {
       "description": "Leak_Conductance",
       "layout": "IPY_MODEL_09acbd70c7b043139987e21e170afe3c",
       "max": 50,
       "min": 1,
       "step": 2,
       "style": "IPY_MODEL_72151e7a95754b35b7ebd6a83bc659e4",
       "value": 10
      }
     },
     "1861a77493d34f69961741ee8cc4d5d9": {
      "model_module": "@jupyter-widgets/output",
      "model_module_version": "1.0.0",
      "model_name": "OutputModel",
      "state": {
       "layout": "IPY_MODEL_fc8b4b0c3f0e46178029b19ad08c5993",
       "outputs": [
        {
         "data": {
          "image/png": "iVBORw0KGgoAAAANSUhEUgAABXwAAAKrCAYAAABC7UVCAAAAOXRFWHRTb2Z0d2FyZQBNYXRwbG90bGliIHZlcnNpb24zLjUuMSwgaHR0cHM6Ly9tYXRwbG90bGliLm9yZy/YYfK9AAAACXBIWXMAABYlAAAWJQFJUiTwAABBSUlEQVR4nO3debRlW10f+u+v6jbcjl5aBURQsEnivUajEsUQg/g0JkaCokaiPF7UmEbTaCSGxJiRRH3BxC6xQxTsImkwxgYiCUpegpfoEAVBBJTm2tDdvqua74+969Y6ZdWpfU7tddY8c38+Y+xx9j5r7X0mtyZrz/Vdc/1mtdYCAAAAAMDxd2LpBgAAAAAAsB0CXwAAAACAQQh8AQAAAAAGIfAFAAAAABiEwBcAAAAAYBACXwAAAACAQQh8AQAAAAAGIfAFAAAAABiEwBcAAAAAYBACXwAAAACAQQh8AQAAAAAGsbOBb1W9pKpesnQ7AAAAAAC25bKlG7CgJ11//fXXJ3n20g0BAAAAADhHHeZNOzvDFwAAAABgNAJfAAAAAIBBCHwBAAAAAAYh8AUAAAAAGITAFwAAAABgEAJfAAAAAIBBCHwBAAAAAAYh8AUAAAAAGITAFwAAAABgEAJfAAAAAIBBCHwBAAAAAAYh8AUAAAAAGITAFwAAAABgEAJfAAAAAIBBCHwBAAAAAAYh8AUAAAAAGITAFwAAAABgEAJfAAAAAIBBCHwBAAAAAAYh8AUAAAAAGMRWAt+qurqqnlFVz6+ql1XV26uqrR/P3/AzHl5V31pVv1lVd1TVe6vq1VX1ZVVV22gnAAAAAMDILtvS53x8kp8+7Jur6oYkP5vkIetf3ZrkuiRPWT+eWVV/vrV296U2FAAAAABgVNss6fC+JK9M8s1JviDJTZu8qaoekOSnsgp735Dk41pr1yW5JslXJrk7ydOTvHCLbQUAAAAAGM62Zvi+urX24Okvquqfb/jev5vkEUluT/KZrbW3Jcl6Nu93VtV1Sf55kudV1be11n5zS20GAAAAABjKVmb4ttZOXcLbv3j980fPhL3n+PasSjycTPKFl/B3AAAAAACGtq0ZvodSVR+R5DHrlz9zvn1aa7dV1auTPCPJpyf5hiNqHgAduefU6dz0gTtz+92n0tLS2ur3Z34CALC5quSJD7s2l53cZqVHAHqwaOCb5KMnz1+/z36vzyrw/chNPrSqbtxgtydt8lkALO9Fv/TWfOvPvym33Hnv0k0BABjGox94VX7ub39Krrly6WgAgG1a+lLeoybP37nPfme23b+qrp2xPQB05r+/6Q/ygpf/hrAXAGDL3vn+O/Kat7xn6WYAsGVLX8a7bvL89n32m267LquavhfUWrvhYn94PQv4+ovtB8CyXvyat933/JorTubRD7oqlUrVcm0CADjO3vm+O3LLXauL6feeOr1wawDYtqUDXwC4oNOnW177tvfe9/o/f9VT8mEf5EYPAIBL8eU/fGP+6+tvWroZAMxk6ZIOt0yeX73PftNtt1xwLwCG8u6b78zN61IOD7r68jz+odcs3CIAgLFY/xZgPEsHvu+aPH/0Pvud2XZLa23fcg4AjOOmD9xx3/PHPPjqlDoOAAAAsK+lA9/XT55/9D77ndn26zO2BYDOvPsDd973/OH3v9+CLQEAGIdr6ABjWzrwfVOS310//4zz7VBV1yT50+uXrziKRgHQh9+7+a77nj/iAQJfAIBta2o6AAxn0cC3tdaS/ND65edX1ePOs9tXJrk2yekkLzmipgHQgQ/ccc99zx949RULtgQAAACOh60FvlX1oKp66JnH5LOvnv6+qs5dXv2bk/xeVguz/ZequmH9eVdU1Zcn+cb1ft/TWnvjttoLQP9uu+ve+55fe+XJBVsCAAAAx8M2Z/j+nyR/MHl8yPr3X3fO7799+qbW2vuTfHaS9yb5yCS/XFU3J7k1yXcmuSLJzyf5m1tsKwDHwDTwvebKyxZsCQDAOCpni/i2qOkAMJqla/gmSVprr03yUUlemOS3klye5LYkv5TkeUk+o7V21wU/AIAh3bpnhq/AFwAAAC5ma2fPrbXHXeL7b0ryt9cPANg7w/cKgS8AAABcTBczfAHgfG6769R9z5V0AADYkrMVHdJUdAAYjsAXgG4p6QAAAAAHI/AFoFt33nt2hu/9LveVBQAAABfj7BmAbt1z6vR9z6+4zFcWAMA21MV3AeAYc/YMQLfuufdsUbnLT/rKAgDYNiV8Acbj7BmAbk1n+Ap8AQAA4OKcPQPQrbuVdAAA2LoqRR0ARubsGYBu7anha4YvAMDWtaaoA8BonD0D0K17Tk1r+JqJAgAAABcj8AWgS6dOt5w6vQp8q5KTJwS+AADbYFQFMDaBLwBdOnfBNrXmAAAA4OIEvgB06W71ewEAAODAnEED0KV77p3O8DW7FwBgW9w4BTA2gS8AXdq7YJuvKwCAObR28X0AOF6cQQPQpWkN3ysu83UFAAAAm3AGDUCX1PAFAACAg3MGDUCXpjN8lXQAANieaQnfFjUdAEbjDBqALt07qeF78oSVRQAAAGATAl8AunTqtMAXAAAADkrgC0CXTk2WjD4h8AUA2Jqqs2OrpqIDwHAEvgB06fR0hq+8FwAAADYi8AWgS0o6AAAAwMEJfAHo0p6SDiXwBQDYlunISkkHgPEIfAHo0unTZ5+b4QsAAACbEfgC0KXpDF+BLwAAAGxG4AtAl6aLtinpAACwRYZWAEMT+ALQJYu2AQDMTwlfgPEIfAHokkXbAAAA4OAEvgB06fSeGb4LNgQAYDClpgPA0JxCA9Ali7YBAMyvNUUdAEYj8AWgS6cs2gYAAAAHJvAFoEun1fAFAJiFoRXA2AS+AHTp9Omzz5V0AACYh4IOAOMR+ALQpVNm+AIAAMCBCXwB6NLp09NF2xZsCAAAABwjTqEB6NJ0hq+SDgAA27NnZKWmA8BwBL4AdGk6w1dJBwAAANiMwBeALp06bYYvAAAAHJTAF4AunZrcXmiGLwDA9kyHVk1NB4DhCHwB6NJpM3wBAADgwAS+AHTJom0AAABwcAJfALp0yqJtAACzqJwdWzUVHQCGI/AFoEt7Szos2BAAAAA4RpxCA9ClPSUdzPAFAACAjQh8AejSdIbvCTV8AQC2ZnotXUUHgPEIfAHokhm+AAAAcHACXwC6dOr02edm+AIAAMBmBL4AdOn0dIavwBcAYGvcPAUwNoEvAF3aU8PXSQkAwCyaIr4AwxH4AtClSd6bE6ahAAAAwEYEvgB0qU3WjC6BLwDAFhlbAYxM4AtAl6a3FzolAQCYx/QiOwBjEPgC0KXW1PAFAACAgxL4AtClaQ1fJR0AAABgMwJfALq0t4bvgg0BABjMdGzVVHQAGI7AF4AuNTN8AQAA4MAEvgB06bRF2wAAAODABL4AdGq6aJvIFwBgW6YjKxUdAMYj8AWgS6dPn30u7wUAAIDNCHwB6NKeRdsWbAcAAAAcJwJfALo0XbRNSQcAgO3ZM7RqijoAjEbgC0CXpou2meILAAAAmxH4AtClZtE2AAAAODCBLwBdmt5dKO4FANiemoyuFHQAGI/AF4AutUnia4IvAAAAbEbgC0CXprNNlHQAAACAzQh8AejSdNE2eS8AwPZMx1ZNTQeA4Qh8AejS3pIOEl8AAADYhMAXgC5ZtA0AAAAOTuALQJdaLNoGADAHQyuAsQl8AejSdIavRdsAAObRFPEFGI7AF4AunZ7W8F2wHQAAAHCcCHwB6NKeGr5m+AIAAMBGBL4AdOn0nsB3uXYAAIxmejFdQQeA8Qh8AeiUkg4AAABwUAJfALpk0TYAAAA4OIEvAF3as2ibvBcAYBZNTQeA4Qh8AejS9NzDDF8AAADYjMAXgC5NF21TxBcAAAA2I/AFoEutWbQNAGAO05unVHQAGI/AF4DuKekAAAAAmxH4AtAli7YBAADAwQl8AejSdMVoM3wBALanJgWzpmW0ABiDwBeALp1WwxcAAAAOTOALQJf2TDaR+AIAAMBGBL4AdGma9yrpAACwPYZWAGMT+ALQpaakAwAAAByYwBeALu1ZtO2EyBcAAAA2IfAFoEsWbQMAmMd0bLVn3QQAhiDwBaBLe9Zsk/gCAADARgS+AHRpOtukJL4AAACwEYEvAF2yaBsAAAAcXFeBb1U9vap+oqp+p6rurKo7quq3q+qlVfVpS7cPgKMzLelwwgxfAICtmQ6tWhTxBRjNZUs3IElqda/uv0vy3Mmv78zqfP9D148vqKp/01r7Gws0EYAjtmfRNnkvAAAAbKSXGb5fmrNh779P8uGttataa1cn+YgkL1tv+6qq+rwlGgjA0dpTw1dRBwAAANhIL4HvF61//laSL2itvfnMhtbam5I8K8mb1r8S+ALsgL2Lti3XDgCA0UwXxG0qOgAMp5fA95Hrn7/aWrv33I3r3/3K+uXVR9UoAJajpAMAAAAcXC+B72+vf/7xqvojdYXXv/vY9ctfPrJWAdAFi7YBAADAZnoJfL9z/fMJSX6kqp5wZkNVfXiSH0vyxCRvSfLCI28dAEfODF8AgHlMh1YqOgCM54/Mpl1Ca+2nquqrknxrVjV6P6+q7lhvvirJ+7MKhf9ha+3mi31eVd24wZ990iGbC8ARsGgbAAAAHFwvM3zTWvv2JJ+T5PfXv7pq/UiSK5Ncl+T+CzQNgAVMZ5uckPcCAADARrqY4VtVVyf5/iTPyqpG7xcleV1Wd5p8bJJ/luSLkzy9qp7WWnv9fp/XWrthg795Y5LrL7HpAMxESQcAgJlMxlZNTQeA4XQR+Cb5lqzC3jcl+ZTW2h2TbT9fVb+Y5FeSfHiS70jyqUfeQgCO1rSkg8QXAAAANrJ4SYequi7J89Yvv/2csDdJsv7dt69ffkpVPeyo2gfAMvbM8F2wHQAAAHCcLB74ZjVr9+T6+Vv22e/Nk+cfOl9zAOjB9O5CM3wBALZnuiBui5oOAKPpIfA9PXn+2H32e/jk+S0ztQWATkzryVm0DQAAADbTQ+D7xiRnyjg8t6r+SF3hqjqZs2Uf3pfkN4+obQAsZG9JB4kvAAAAbGLxwHddn/d71y+vT/LyqvqYqjqxfvyxJD+d5JPW+7ywtXZqibYCcHTankXblmsHAMBopmOrpqIDwHD+yGzahfz9JE9M8hmTx13rbVdO9vuRJN90tE0DYAltOsNX4AsAAAAbWXyGb3LfLN/PTPLMJP8pyTtydlH2303yk0k+q7X2bLN7AXaDRdsAAADg4HqZ4Zu2msr179cPAHbctIavRdsAALbH0ApgbF3M8AWAc+2p4eu0BAAAADYi8AWgS9OSDmb4AgAAwGYEvgB0qe2d4gsAAABsQOALQJeUdAAAmMd0Pdw9F9kBGILAF4AuTU89St4LAAAAGxH4AtCl6WwTeS8AAABsRuALQPfKFF8AgK2ZlstS0QFgPAJfALrk3AMAAAAOTuALQJf2LtoGAAAAbELgC0D3VHQAANie6djKXVUA4xH4AtClpqAcAAAAHJjAF4AuTePeUtQBAAAANiLwBaB/8l4AgK2ZDq3cVAUwHoEvAH1y8gEAAAAHJvAFoEt7SjqY4QsAAAAbEfgC0D15LwDAFk2upje3VQEMR+ALQJeagnIAAABwYAJfALq0t6SDOb4AAACwCYEvAN0T9wIAbM90bOWmKoDxCHwB6JKTDwAAADg4gS8AXZouIKKiAwAAAGxG4AtA90pRBwCAWbipCmA8Al8AuqSkAwDAPNw9BTA2gS8AXZrmvU5KAAAAYDMCXwAAAACAQQh8AeiTkg4AALPYsz6COloAwxH4AtClNkl8lXQAAACAzQh8AejenlkoAAAAwAUJfAHokrsLAQDmMb17ypALYDwCXwC6ND35UNIBAAAANiPwBaB78l4AAADYjMAXgC41NR0AAGYxvZhuyAUwHoEvAF3aW9LBHF8AAADYhMAXgO6JewEAAGAzAl8AuuT2QgCAeUxvnmox6AIYjcAXgO6p6AAAAACbEfgC0D01fAEAAGAzAl8AutPUcwAAmM30YrphF8B4BL4AdMeJBwAAAByOwBeArqnmAAAAAJsT+ALQHRN8AQCOhnEXwHgEvgB0Z1rD1wRfAAAA2JzAF4CulZoOAAAAsDGBLwDdcWshAMDRsFguwHgEvgB0Z3riYX4vAMB2uYEKYGwCXwC65oQEAAAANifwBaA7TVEHAAAAOBSBLwDd2VvSwRRfAIBtmo6vXGgHGI/AF4C+yXsBAABgYwJfAAAAAIBBCHwB6M7ekg4AAGzTnkVxVXQAGI7AF4CulcQXAAAANibwBaA7Fg8BAACAwxH4AtCdvSUdTPEFANgmFR0AxibwBaBrSjoAAADA5gS+AHTHTBMAAAA4HIEvAN1pk5oOJvgCAGzX9A6q6bgLgDEIfAHoWqnpAAAAABsT+ALQHfNMAAAA4HAEvgB0zfxeAID5qOgAMB6BLwDdceIBADCfckkdYGgCXwD6Mw18nY8AAADAxgS+AHRN3gsAMB83VgGMR+ALQHeaUw8AgNmUK+oAQxP4AtCdaQ3fckYCAAAAGxP4AtA1eS8AwHwslgswHoEvAN1x3gEAAACHI/AFoDttMtXEBF8AAADYnMAXgK6p4QsAAACbE/gC0B0lHQAA5jO9oN6MvACGI/AFoDvTxUPM7wUAAIDNCXwB6JqKDgAAALA5gS8A3XFrIQDAfKbX05thF8BwBL4A9GfPiYcpvgAAALApgS8AXVPSAQAAADYn8AWgO+4sBACYjwvqAGMT+ALQnWktOecjAAAAsDmBLwBdMwMFAAAANifwBaA7TVEHAIAj0ZpxF8BoBL4AdGdvSQdTfAEAtsnoCmBsAl8AuqakAwAAAGxO4AtAd9xYCABwNIy7AMYj8AWgO9Nacib4AgBsV7mFCmBoAl8AuuaEBAAAADYn8AWgOxaLBgA4GsZdAOMR+AIAAMAOcQMVwNgEvgB0zQkJAAAAbE7gC0B33FoIAHA0Wgy8AEYj8AWgO9MTDzN8AQC2y/AKYGwCXwC6Vk5JAAAAYGMCXwC6o6QDAAAAHI7AF4DuTPNeJR0AALZsMsByoR1gPAJfALom7wUAAIDNdRf4VtVDq+ofVdUvV9V7q+qOqnp7Vf1MVX1tVV2+dBsBmFcz1QQAAAAO5bKlGzBVVZ+d5EVJHrz+1d1J7kjymPXj6Um+O8n7F2geAEdkb0kHc3wBALZpOrpymR1gPN3M8K2qpyf5yazC3v+Q5OOS3K+19sAk1yZ5SpL/N8k9S7URgKMn7gUAAIDNdTHDt6oelOQHklye5Htaa8+bbm+t3Zbkl9YPAAanogMAAAAcTi8zfJ+X5JFJ/jDJ31q2KQAsb5L4muILADAbF9oBxtNL4PtX1j9/tLV2+6ItAaAr8l4AgO2yRALA2BYPfKvqwUmevH7536vqY6rqpVX17qq6q6reUVU/VlWfvGQ7ATg6ZpoAAADA4fRQw/eJOTuB648leUmSK5LcmeSOJI9O8peTPLOq/lFr7Rsv9oFVdeMGf/dJh2suAHOb5r1lCgoAwIxcaQcYzeIzfJM8aPL8+Unel+Szk1zbWntgVsHsK7MKhf9JVX3ukbcQgMWIewEAtquMsACG1sMM32noXEm+sLX2yjO/aK39ZlV9TpI3JXlUkm9I8rL9PrC1dsPF/uh6FvD1h2oxALNS0gEAAAAOp4cZvrdMnv/KNOw9o7V2W5LvXL/841X1iCNpGQCLaJNbC1V0AACYjwvtAOPpIfB95+T5G/bZb7rtMTO1BYDOuOUQAGC7XFAHGFsPge9bk9y6fr7ftcXpV5JrkAADM9MEAAAADmfxwLe11pK8Yv3yI/fZ9cln3pLkbXO2CYBlTQNfM1AAAObjQjvAeBYPfNd+YP3zT1TVnz13Y1VdneTL1y//d2vtD46sZQAAADAQ19MBxtZF4Nta+89J/tv65Q9V1WdV1ckkqaqPSPKfkjwqyekkX79MKwE4Kk3lHgAAADiUy5ZuwMRfzqq0w59I8vIkd1bVnUkeuN5+b5Kvaq29cpHWAXBk9pZ0MAcFAGAuLrQDjKeLGb5J0lp7T5KPT/K3kvyvJHcluTqrer0/kOT61tp3L9U+AJYh7gUA2C7X0wHG1tMM37TW7knybesHAAAAAAAH0M0MXwA4Y29Jh+XaAQAAAMeNwBeArgl8AQC2qyZFs5oSvgDDEfgC0B2LhwAAAMDhCHwB6FpZtg0AAAA2JvAFoDtuLQQAmNHkerphF8B4BL4AdGd64qGGLwAAAGxO4AtA1+S9AAAAsDmBLwDdaWo6AAAcCcMugPEIfAHozp7zDjUdAAC2yugKYGwCXwC65oQEAAAANifwBaA7bi0EADgaLQZeAKMR+ALQobMnHio6AABsVxlgAQxN4AtA15yOAAAAwOYEvgB0R0kHAIAjYtwFMByBLwDdmZ53uOUQAGC7jK4AxibwBaBrTkgAAABgcwJfALqjpAMAwNEw7AIYj8AXgO60SeKrogMAwHYZXwGMTeALQNdKUQcAAADYmMAXgO64tRAA4Gg0tbQAhiPwBaA7e847TPAFANgqJR0AxibwBaBrzkcAAABgcwJfALrTFHUAAACAQxH4AtCfSd7rlkMAgO2aLorrMjvAeAS+AHStFHUAAACAjQl8AeiOmSYAAABwOAJfALrTlHQAADgSzZV2gOEIfAHomsAXAGC7jK8AxibwBaA7TVEHAAAAOBSBLwDd2VPSwaJtAACzcZkdYDwCXwC65pZDAAAA2JzAF4DumGkCAAAAhyPwBQAAgB3VmkvtAKMR+AIAAMAOKTWzAIYm8AWgO2aaAAAAwOEIfAHomhkoAADzcZkdYDwCXwAAANghLqcDjE3gC0B3zDQBAACAwxH4AtA1M1AAAGbkSjvAcAS+AAAAsEMskQAwNoEvAP0x0wQAAAAOReALQNfMQAEAAIDNCXwBAABgh9RklYTm1iqA4Qh8AeiOEw8AAAA4HIEvAF1T0QEAAAA2J/AFAACAHdXcWAUwHIEvAAAA7BCL4gKMTeALQHemM03KGQkAAABsTOALAAAAO0pJB4DxCHwBAABgh7h/CmBsAl8AumOmCQAAAByOwBeArpmBAgAwnxZX2gFGI/AFAACAHWJNXICxCXwB6I55JgAAAHA4Al8AumYGCgDAfKydADAegS8AAADsFFfUAUYm8AWgO81UEwAAADgUgS8AnTMDBQBgLi6zA4xH4AsAAAA7xBoJAGMT+ALQHTNNAACOhkpaAOMR+ALQNTNQAAC2a+/wSuILMBqBLwAAAOyQckUdYGgCXwC649ZCAICjYdwFMB6BLwBdM/8EAGC7puMreS/AeAS+AAAAsENUdAAYm8AXAAAAdlRT0wFgOAJfADp09sTDDBQAgO2ajq/EvQDjEfgCAADADimrJAAMTeALAAAAO0pFB4DxCHwB6I4TDwCAGSnpADA0gS8AXXPLIQDAdhldAYxN4AsAAAA7qrm1CmA4Al8AuuO0AwBgPlXm+AKMTOALQNecjwAAbJfhFcDYBL4AAACwo1R0ABiPwBeA7jjxAACYz/QOqqaYFsBwBL4AdE1JBwCA7SpFHQCGJvAFAACAHeXOKoDxCHwB6I5bCwEA5rOnpINhF8BwBL4AdM0thwAA22V0BTA2gS8AAADsKHdWAYxH4AtAd9xaCAAwIyUdAIYm8AWgb+45BADYKiWzAMYm8AUAAIAdZYIvwHgEvgAAALBDajrBV+ILMByBLwDdmZ53uOEQAGC7jK8AxibwBQAAgB3VTPEFGI7AFwAAAHZITWo6NHkvwHAEvgB0p03OPKrcdAgAsE2GVwBjE/gCAADAjjLBF2A8Al8AAADYIdMJvk1NB4DhCHwBAABghyjpADA2gS8AXXM+AgAwH/N7AcbTbeBbVd9dVW39eNvS7QEAAIAxnL2krqIDwHi6DHyr6lOSPG/pdgCwDCceAADzUdIBYGzdBb5VdVWS701yb5JfXrg5ACzMCQkAwHxcZwcYT3eBb5J/nOSJSb4lya8v3BYAAAAYyp7r6W6tAhhOV4FvVd2Q5KuTvCXJP1m4OQAspJlrAgAwm3ILFcDQugl8q+ryJN+X5GSS/6e1dufCTQKgA05HAADm4zI7wHguW7oBE1+b5I8neXFr7ZWX8kFVdeMGuz3pUv4GAAAAHEfTC+oqOgCMp4sZvlX15CRfn+QPk3zNws0BYGFOPAAA5qOiA8DYFp/hW1UnsirlcGWS57XW/vBSP7O1dsMGf/fGJNdf6t8CYF5qzAEAzMfaCQDj6WGG71cl+cQkr2itvXjpxgAAAMDIalLUwZ1VAONZNPCtqscl+aYkdyb5a0u2BYB+OPEAAJiPG6gAxrZ0SYd/leSaJP80ye9V1bXnbD/Tvppsu6u1ds9RNRCAZTkfAQCYjwvtAONZuqTDh65/Pj/JLed5fOF6+2Mmv/vKI24jAAAADEneCzCepQNfAAAA4Agp6QAwtkVLOrTW/sR+26vqRUm+JMnbW2uPO4ImAdCBPTNNnJAAAMymqekAMBwzfAEAAGCHlCvqAEMT+AIAAMAOUdIBYGwCXwC6M7210AwUAID5qOgAMJ6uA9/W2nNaa6V+LwAAAGzHdIZvi8QXYDRdB74AAADAdrmDCmBsAl8AumOeCQDA0VDSAWA8Al8AumZREQCA7dpb0gGA0Qh8AQAAYIe4ng4wNoEvAP0x1QQA4Eg0NR0AhiPwBaBrZqAAAGyXkg4AYxP4AgAAwE5xSR1gZAJfALrTzDUBADgahl0AwxH4AtC1MgEFAGCrlHQAGJvAFwAAAHaI6+kAYxP4AtAdi0UDAByNZuAFMByBLwBdK3NQAAC2qiY1HcS9AOMR+AIAAMAOcTkdYGwCXwAAANhRKjoAjEfgC0B3pucdZQoKAMBWTcdXTVEHgOEIfAEAAGCHWCMBYGwCXwAAANhRSjoAjEfgC0B3piceSjoAAGzXnpIOAl+A4Qh8AQAAAAAGIfAFAAAAABiEwBeA7uxdLVpNBwCAbdpb0kFNB4DRCHwBAABgh5RFEgCGJvAFAACAHWV+L8B4BL4AdMedhQAA85nO7zXuAhiPwBeArrnjEABgu4yvAMYm8AUAAIAd1RR1ABiOwBeA7jjtAACYT02KOijpADAegS8AXXPHIQDAdinpADA2gS8AAADsKBN8AcYj8AWgP+4tBACYzXSCr2EXwHgEvgB0zS2HAABbZnwFMDSBLwAAAOwsU3wBRiPwBQAAgB1Skym+SjoAjEfgC0B3pucd5Z5DAICtUjILYGwCXwAAANhRJvgCjEfgCwAAADtkOsG3qekAMByBLwDdmZ53uOUQAGC7ygALYGgCXwAAANhR5vcCjEfgCwAAADtkb0mHxZoBwEwEvgB0Z1pLzg2HAADbpaIDwNgEvgAAALCjLNoGMB6BLwAAAOyQmtxDJe4FGI/AF4DuTE88rCINALBlhlcAQxP4AgAAwK4yxRdgOAJfAAAA2CHTG6jkvQDjEfgC0B1rhwAAzEdFB4CxCXwBAABgRzVX2gGGI/AFAACAHTJdFFfcCzAegS8A3XHiAQAwHyUdAMYm8AWga+WMBABgNio6AIxH4AsAAAA7ZHpBvbm3CmA4Al8AAADYIaWoA8DQBL4AdGe6WrQTEgCA+SjpADAegS8AAADskL0lHQAYjcAXAAAAAGAQAl8AulYqOgAAzMcUX4DhCHwBAABgh+wt6SDxBRiNwBcAAAB2iEVxAcYm8AWgO9PVop2OAADMp5ngCzAcgS8AAADskL0lHQAYjcAXAAAAdog7qADGJvAFoDvTxUPKGQkAwGyamg4AwxH4AgAAwA6pyRV1cS/AeAS+AAAAsEPcQAUwNoEvAN2Z3llYajoAAMxGRQeA8Qh8AQAAYIe4ng4wNoEvAAAA7BB3UAGMTeALQHfcWQgAcHSaug4AQxH4AtA1808AAOYl7wUYi8AXAAAAdoyqDgDjEvgCAADADjPBF2AsAl8AurPntkKzTwAAtm46xFLDF2AsAl8AAADYMaWmA8CwBL4AAACww8zvBRiLwBeA7rTJaUep6QAAsHV7Szos1gwAZiDwBQAAgB2jogPAuAS+AAAAsMOaog4AQxH4AtCd6W2FZp8AAGzftGyWkg4AYxH4AgAAwK5xUR1gWAJfAAAAAIBBCHwB6JrJJwAA2zcdYynpADAWgS8AAADsGOskAIxL4AsAAAA7rMUUX4CRCHwB6E6b3Fdo9gkAwPbVpKiDkg4AYxH4AgAAwI6ZXlSX9wKMReALAAAAO2bvom0iX4CRCHwB6M70nKOipgMAwLbVZIqvuBdgLAJfAAAA2DF7SjpIfAGGIvAFAACAHaOkA8C4BL4AAACwY/aUdJD3AgxF4AtAd6bnHKWELwDA1p2YlnRYrhkAzEDgCwAAADtmOsP3tCm+AEMR+AIAAMCOOWHRNoBhdRH4VtVDquqvVtUPV9VvVNVtVXVXVb2jqv5jVf3FpdsIwNGZnnSo6AAAMIdpDV+JL8BILlu6AWs3ZW9b7kxyT5JHrx+fU1X/NcnntdZuX6B9AAAAMIxSwxdgWF3M8M0q7P3fSb4iyYe11q5qrV2b5PFJfmC9zzOSfM9C7QMAAIBhKOkAMK5eZvj+mdbaL5z7y9baW5N8aVWdSvLcJM+uqq9rrf3OkbcQgCPTpvNMSlEHAIBtq1i0DWBUXczwPV/Ye47pzN4b5mwLAAAAjO6Ekg4Aw+oi8N3AtG7vycVaAQAAAAOoyV1Up0+LfAFG0ktJh4t56uT5r11s56q6cYPPfNKhWwPArKZ3FSroAAAAAJvrfoZvVT0gydetX766tfabS7YHAAAAjrsTkzRACV+AsXQ9w7eqTiR5cZJHJbkryVdt8r7W2kXr/K5nAV9/SQ0EAACAY8iibQDj6n2G77cl+fPr51/RWvvVJRsDwNGYnnKUmg4AAFtXFm0DGFa3gW9VfUuSv75++Tdaa9+/ZHsAAABgFCcmiW8zwxdgKF0GvlX1L5N8zfrl326t/Zsl2wMAAAAjmd5EdVreCzCU7mr4VtU3J/k765df3Vp74YLNAWAJk1kmFTUdAAC2bW/ZLIkvwEi6CnzXZRzOzOz9mtbav1qyPQAAADCiqumibQs2BICt6ybwPSfs/WphLwAAAMxjOsFXCV+AsXQR+FbVv8jemr0vXLA5ACxses5RKjoAAGzdnkXblHQAGMrii7ZV1WOS/L31y9NJvraqbtrn8awFmwsAAADH3vSi+unTy7UDgO3rYYbviXOeP/wi+181Y1sAAABgeGWGL8CwFg98W2tvSyzBDgAAAEdFDV+AcS1e0gEAzjU96XBFEABg+6YlHQS+AGMR+AIAAMCOsWgbwLgEvgAAALBj9izaJu8FGIrAF4DuTGeZlJoOAABbt7eGr8QXYCQCXwAAANgxtaekAwAjEfgCAADAjtm7aJvIF2AkAl8AujM95yg1HQAAtm7Pom3yXoChCHwBAABgx0wvqVu0DWAsAl8AAADYMUo6AIxL4AtAd5xyAADMy6JtAOMS+AIAAMCO2VvSQeQLMBKBLwAAAOyYE3tqOizXDgC2T+ALQHemk0ym5yIAAGzHdIxl0TaAsQh8AQAAYMfsneAr8QUYicAXAAAAdsy0pIMSvgBjEfgC0J3pLJOKmg4AAHOyaBvAWAS+AAAAsGNqOsN3wXYAsH0CXwAAANgxJ6Y1fM3wBRiKwBeArpWKDgAAWzcdYsl7AcYi8AWgP046AABmZdE2gHEJfAEAAGDHTO+ismgbwFgEvgAAALBzLNoGMCqBLwDdmZ50KOELALB9exdtW64dAGyfwBcAAAB2TO0JfCW+ACMR+AIAAMCO2bNo24LtAGD7BL4AdGc6y6TUdAAA2DqLtgGMS+ALAAAAO6ami7bJewGGIvAFAACAHbOnhu9yzQBgBgJfALoznWUynX0CAMB21LSGrym+AEMR+AIAAMCOOTGd4SvvBRiKwBcAAAB2zPQeKou2AYxF4AtAd6anHKWiAwDA1u0t6bBgQwDYOoEvAAAA7BiLtgGMS+ALAAAAO2a6MK6SDgBjEfgC0B3nHAAA89pTNsvYC2AoAl8AAADYMSf2lHSQ+AKMROALAAAAO2ZvSYcFGwLA1gl8Aeha7bnfEACAbTgxSQOU0wIYi8AXgO64rRAAYG4WbQMYlcAXAAAAdsyeGr4CX4ChCHwB6JqCDgAA23ei1PAFGJXAF4DumGQCADCvk5MpvqckvgBDEfgCAADAjtk7w1fgCzASgS8AAADsmJOTNMAMX4CxCHwB6Fop4gsAsHUnpiUdzPAFGIrAFwAAAHbMyWlJBzN8AYYi8AUAAIAds3fRtgUbAsDWCXwB6E6b3FaoogMAwPZNF21T0gFgLAJfAAAA2DHTGb5KOgCMReALAAAAO+akRdsAhiXwBaA701OOKkUdAAC27YRF2wCGJfAFAACAHXNykgacEvgCDEXgCwAAADvGom0A4xL4AtCd6TmHig4AANtn0TaAcQl8AQAAYMdYtA1gXAJfAAAA2DF7SjqcXrAhAGydwBeArqnoAACwfdPAV0kHgLEIfAHoTouTDgCAOZ2cpAGnlXQAGIrAFwAAAHbMnpIOAl+AoQh8AehbKeoAALBt00XblHQAGIvAF4DumGQCADCvaeB7ytgLYCgCXwAAANgxFm0DGJfAF4CuKegAALB9e2b4CnwBhiLwBaA7TjkAAOZl0TaAcQl8AQAAYMdYtA1gXAJfAAAA2DEnJ2mAGb4AYxH4AtCd6TlHKeILALB1e0o6mOELMBSBLwAAAOyYPSUdzPAFGIrAFwAAAHbMSTN8AYYl8AWgQ2dPOipqOgAAbNuJPYu2LdgQALZO4AsAAAA7ZlrSwaJtAGMR+AIAAMCOuWwS+N6rpAPAUAS+AHRnOsmkVHQAANi6y0+ejQPuuVdNB4CRCHwBAABgx1xx2STwPSXwBRiJwBcAAAB2zHSG790CX4ChCHwB6JqKDgAA23f5ybOjLCUdAMYi8AWgOxaKBgCY17Skw92nDL4ARiLwBQAAgB1zxUk1fAFGJfAFoGulpgMAwNZdLvAFGJbAF4DutLitEABgTgJfgHEJfAEAAGDH7Fm07VRLs4gCwDAEvgB0raKmAwDAtlXVHwl9ARiDwBeA7phgAgAwv+nCbXcr6wAwDIEvAAAA7KDLL5vU8b1X4AswCoEvAH1T0QEAYBYWbgMYk8AXgO6o6AAAML9pSYe7zPAFGIbAFwAAAHbQlZdPA99TC7YEgG0S+AIAAMAOuvbKy+57futdAl+AUQh8AehOm9R0UMIXAGAe11xxNvC97a57F2wJANsk8AUAAIAddM2VJ+97fqvAF2AYAl8AAADYQddcaYYvwIgEvgB0p+VsTYcqRR0AAOYg8AUYU1eBb1VdV1UvqKpfq6pbq+oDVfXaqvrqqrpi6fYBAADAKCzaBjCmyy6+y9GoqscmeVWSx61/dXuSK5N83PrxRVX1tNba+xZpIAAAAAzkAVddft/z999+94ItAWCbupjhW1Unk7w8q7D3XUk+vbV2TZKrkzwryc1JPjbJS5ZqIwDLUNABAGAeD7vuyvue33TznQu2BIBt6iLwTfJXk3xMkpbkc1trr0iS1trp1tqPJ3neer9nVNXTFmojAEelXXwXAAAuzSMfcNV9z2/6gMAXYBS9BL5fsv75C621/3We7T+e5LfP2RcAAAA4pEc84H73Pf+d996+YEsA2KbFA9+qujrJJ61f/sz59mmttSQ/u3756UfRLgD6UGo6AADM4rEPuTr3u3wVC7z7A3fmXe+/Y+EWAbANPSza9uScDZ5fv89+Z7Y9oqoe0lp7z7zNGsetd92bz/uu1yzdDICNOdkAAJjf5SdP5PrHPCivecvq9PrP/av/kUc+4H6pSmq9koKL70BPPuxh1+Y7nn390s3oXg+B76Mmz9+5z37TbY9McsHAt6pu3ODvPmmDfYZwurW88aZblm4GwKFcdnLxm1EAAIb1Vz7xcfcFvrfedW/e/Pu3LtwigAs74SrURno4i75u8ny/okHTbdddcC8AhvHw+1+ZT33iBy3dDACAYT39ox6ef/CZT8q1V/YwHwyAbRjyiN5au+Fi+6xnAe/EHPBrrrgsP/03/vTSzQA4kKrkCQ+7Npeb4QsAMJuqyvM+5cPynE/60PzezXfmjntOpbWkpSXJ6nlbuJEAa1de7vxwEz0EvtNaA1fvs990m/oEB3DyROUjH3X/pZsBAABAp6647EQ+5MH7nZIDcFz0EIu/a/L80fvsN9327pnaAgAAAABwbPUQ+L4hyen184/eZ78z225qrV1wwTYAAAAAgF21eODbWrs9yf9cv/yM8+1TVZXk6euXrziKdgEAAAAAHDeLB75rP7j++WlV9Qnn2f7MJI9fP3/x0TQJAAAAAOB46SXw/YEkv56kkvxkVT0tSarqRFU9M8n3rPf72dbazy/URgAAAACArl22dAOSpLV2b1V9dpJXJXlMkldU1e1ZBdL3W+/2q0mevUwLAQAAAAD618sM37TW3prkY5J8Y1azfZPkniSvS/J3k3x8a+29CzUPAAAAAKB7XczwPaO1dnOSb1g/AAAAAAA4gG5m+AIAAAAAcGkEvgAAAAAAgxD4AgAAAAAMQuALAAAAADAIgS8AAAAAwCAEvgAAAAAAgxD4AgAAAAAMQuALAAAAADAIgS8AAAAAwCAEvgAAAAAAgxD4AgAAAAAMQuALAAAAADAIgS8AAAAAwCAEvgAAAAAAgxD4AgAAAAAMQuALAAAAADCIaq0t3YZFVNV7rrrqqgc/+clPXropAAAAAAB7vO51r3tpa+0LD/q+XQ5835rk/knetnBTjsqT1j/fuGgrGJG+xVz0LeaibzEH/Yq56FvMRd9iLvoWc9jVfvVGgS8XVFU3Jklr7Yal28JY9C3mom8xF32LOehXzEXfYi76FnPRt5iDfnUwavgCAAAAAAxC4AsAAAAAMAiBLwAAAADAIAS+AAAAAACDEPgCAAAAAAxC4AsAAAAAMAiBLwAAAADAIAS+AAAAAACDqNba0m0AAAAAAGALzPAFAAAAABiEwBcAAAAAYBACXwAAAACAQQh8AQAAAAAGIfAFAAAAABiEwBcAAAAAYBACXwAAAACAQQh8AQAAAAAGIfA9pqrq4VX1rVX1m1V1R1W9t6peXVVfVlV1CZ/7oqpqGzwuu8jnXF9VP1xV76iqu6rq3VX1H6rq0w7bNo7GjH3rCVX11VX18qp6+7pf3FZVb6qq76uqGy7y/ldt0C/fcdj2cXhVdV1VvaCqfq2qbq2qD1TVa9f/3ldc4mdfUn+sqg+rqn9bVW+tqjur6ver6mer6nMvpV3Mb45+VVWPrqqvqKqfqKrfWvepO9b940eq6s9c5P1b+Y5kWTP1rRds2DeecJHPccw6xrbdt6rqcRv2qzOPHzjPZzhuHWNVdXVVPaOqnl9VL6vVGPrMv9nzt/Q3jLV20Jx9y3hrd83cr4y1Dsj/QY6hWgVjP5vkIetf3ZrkuiRPWT+eWVV/vrV29yX8mTuTfGCf7W2f9j03yXflbP/6QJKHJ/kLSf5CVf3j1toLLqFtzGSuvlVVn5zkF8/59S1JrkzyxPXjOVX1Ta21b7jIx922btf5/P5B2sWlq6rHJnlVksetf3V7Vv+uH7d+fFFVPa219r5DfPYl9ceq+swkP5Hk6vWvbl5/1p9L8ueq6vuTPLe1dsHjGcuYo19V1YckeXuS6cnr7evXj1s/Pn/dL57XWju1z8cd+juSZc15zFq7J8l799l+7z5tc8w6xmbqW6eS/N5F9rlfkgesn792n/0ct46nj0/y03N9uLHWTpulbxlv7bxZj1lrxlobMsP3mKmqByT5qaw65RuSfFxr7bok1yT5yiR3J3l6khde4p/6sdbaI/Z5nPfAXFWfmOS7swp7X5bkQ1prD0zyQevfJ8k/qqq/fIntY8tm7luXZ3XS8h+TPDPJQ1tr98/qQPunkrwmq+PRP6yq//sin/Ut+/TL6w/RNg6pqk4meXlWA7d3Jfn01to1Wf27PiurL9CPTfKSQ3z2JfXHqvrQJD++bssvJvmI1toDsjopfkFWA8QvTfJ3D9o25jVjvzqZ1cnGK5N8SZJHrz/32iQfvf6byapf/JOLfNahviNZ1pzHrInXXKRvvO0CbXPMOsbm6luttd+9SH96RJIfWu9+R5KX7vNxjlvH1/uy+u765iRfkOSmbXyosRaZp28ZbzHLMWvCWGtTrTWPY/RI8k+z6oi3JXncebb//fX2e7PqwAf9/Bet3/+iQ7bvF9fv/5Ukl59n+0+vt78tycml/3t6HE3fSvLBSZ64z/Yrk7x+/flvucA+r1pvf8HS/6087vs3ee763+R0kk84z/Znrbe3JE874GdfUn9M8sPr7e9K8oDzbP+u9fabkzxo6f+WHvP3q6wGc9fvs72S/Nz6c29NctV59rmk70iPMfvW+r0vWL/vVYdsm2PWMX7M2bcu8nfvl9Usp5bkhy6wj+PWMX6c73xpfR7Vkjz/Ej/bWGuHH3P1LeOt3X7MfMwy1jrgwwzf4+eL1z9/tJ3/ysW3Z3XgPJnkC4+qUUlSVY9P8snrl9/aWrvnPLv98/XPxyb51CNpGJuarW+11t7RWnvzPtvvSvLi9cvHV9WDDvL5LOZL1j9/obX2v86z/ceT/PY5+27q0P2xqq5JcqYG03e11s53K9iZY9F1Sf7iAdvGvGbpV621D7TWXrfP9pbke9cvr0nypE0/m2NjzmPWoTlmDWGpvvW5Sc6Mmb53vx05ntq8MxiNtXbYXH3LeGu3zXzMOrRdPWYJfI+RqvqIJI9Zv/yZ8+3TWrstyavXLz/9KNo1Mf17521fkl/KqnbrufuzoE761u2T5ydn+Hy2qKquTvJJ65cX6jMtq7pwyQH6zBb641OSXHWR9789q9sXD9Q25jVnv9qQ49CgOuhb+3HMOsYW7ltftv755tbaf9/i5zI4Yy0WZrzFUdvJY5bA93j56Mnz1++z35ltH3kJf+tpVfWm9aqFN9dqteEXVtUTN2jf77fW/uB8O6yv+Lxx/fKjLqF9bNdR9q0Leer657uTvGef/b6wqt5WVXdV1fur6per6puq6lEztIkLe3LOfods0mceUVUP2We/qUvtj9P3//oG73cs6sec/WoTT13/vDvJm/bZ7zDfkSzrqPrWR1XV69erkd9aq1Xvv6eqPnaf9zhmHW+LHLfWd9Z92vrl923wFsctpoy1WNJT1z+NtzgMY60NCXyPl2mg9c599juz7f5Vde0h/9YHJ3l8Vlffrs7q/yB/M8nrq+rLL9K+/do23S6g68dR9q0/oqo+IWdvm/je9UyYC3lCVu29Lcn9k9yQ5B8keUNVDXHrxTFx0D6TJI+c6bPP7Y9n3v++1trtuTDHov7M2a/2VVWPS/LX1i9/rLV28z67H+Y7kmUdVd96aFYB4O1Z1af/8Kzqu95YVf/0Im1zzDqeljpufWlWtTDvTfKDG+zvuMWUsRaLMN5iC4y1NiTwPV6umzzfr5NOt113wb3O73VJ/npWqwxf2Vp7cFah2l9K8pYkVyT5zqr6vH3at1/bptsP2jbmcxR967yq6qFJfjSr49Gbk/zLC+z6qiR/Ncmjc7ZvPmj9u9/Pqp/+WFV94jbaxUXN2Wcu9bMdi46vRY5FVXVVVjU2r8nqDoOvu8Cul/IdybLm7ltvTvL3knxEkvu11h6SVX96epIbswrmvr6qvmaftjlmHU9HftyqqpNJnrN++V9aa/utgO64xfkYa3HkjLe4RMZaByTwnVlVPaeq2iU8nnqU7W2t/evW2ne01t5+puB2a+321trLknxCVissJsm3VFUdZdvY67j1rQv8b7g2ycuz+jK/OckzW2u3nm/f1toLWmsvaq2968wM4PWiAC/Kqnbe+5NcnuRfHEHTgUFU1WVJXprkTya5J8mzW2vnne3kO5ILaa29pLX2za21N51ZtLa1dndr7eeyqhv32vWuL6iqByzWUEbxGVldAE8uslib4xbQA+MtLpWx1sEJfI+XWybPr95nv+m2Wy641wG11t6T5JvWLx+b5NwaKWf+1n5tm27fWtu4ZEfet9YrZf6XJH9q/VnPaK396mE+q7X2liTfsX75lPWsYeY1Z5+51M92LDq+jvRYtJ4l98NJ/kJWt0U/az1oPLANviNZ1mJjqNbanVmVHkqSa5M87ZxdHLOOtyX61nPXP9+Z5L8e9kMct3aasRZHxniLuRlrnZ/Ad34vzeq288M+fnHyWe+aPH90LuzMtlsuNFvyEvzPyfPHn7PtTPv2a9t0+7v23YuLObZ9axL2fkqSW5N8ZmvtNYf9vLUzfbOymjHMvA7aZ5LVgnxzfPa5/fHM+x+0Xj39Yu93LOrHnP1qj8nJx7OyOvn4gtbafzjMZ03s9x3Jso6sb13AJuMnx6zj6Uj7VlU9LMn/tX75ojOz3y6B49ZuMtbiSBhvcYSMtc4h8J3Zeor5+y/hce/k46YrqH70uX/rPNv2W31wDmfa97Cq+qDz7bA+4D9p/fKo2zeU49q3JmHvp+Zs2PuL+7+LDr0hyen18036zE3rK/KbuNT+OH3/fiusLnWs5MLm7Ff3WX8XvSTJ52d18vHs1tq/P+jncKwcSd86JMes4+2o+9aXZFXCqiX5/kv4HHabsRazM96iIzt5zBL4Hi9vSvK76+efcb4d1mHan16/fMUMbfhTk+dvPWfb9O+dt31JPjlnC2DP0T4O50j61vozfjp7w95XH+azzuNM32w5W9eJmaxXNz1zFfVCfaayKqKfHKzPXGp//KUkd17k/Y/NanXXg7aNGc3cr868/8zJx5mZJs9urf3EwVt7Xvt9R7Kgo+hbF7Ff33DMOsYW6Ftftv75C621377Ez0oct3aVsRazMt5iAcZa5xD4HiPrhap+aP3y86vqcefZ7SuzqllyOqsD7MYuVvC8qh6UsytpviPJ/zmnfW9Jcua2/K+pqsvP8zFfu/75O0ledZD2MZ+5+1ayJ+ydlnHYKOzdoG8+dt2+JHlNa+0PD9o+DuUH1z8/rao+4Tzbn5mzt9O8eNMPvdT+uL7l8GXrl19+gaL9f3/989Ykl3pbGds1S79K7jv5eGkOcfJxqd+RdGGWvrVB37giyTeuX96W5JXT7Y5ZQ5jtuDVVVU/JanXy5CKLta33d9zivIy1mJPxFttmrHVIrTWPY/RI8sAkN2U1i/HXk9yw/v0VSb48yV3rbd99gfe/aL29nWfbF2f1f4K/lORhk99fleRzkrzxzHuzKrR+vs//5CSn1vv8ZJJHr3//4CTfOXn/5y/939LjSPvW1Ul+Yb39liRPOWDbvi6rk6lnJHng5PfXJfmirGrstCR3J/nkpf9b7sojyWVZ3R7TshpwPW39+xNZndx+YL3tZ87z3hdMjgePm6E/flhWX/Ytyf9I8sT1769J8g1Znby0JF+79H9Hj6PpV0nOnHy0rFaH/rwDtuuSvyM9hu1bn5rVTJAvSvLBk99fnuTPJPn/Ju/9exdom2PWMX7M+X14zr4vWu/3niRXbtAux60BHlmtvfHQyeN31v9m/+yc3197kL4VY62df8zRt2K8tfOPmfqVsdZh/i2WboDHIf7Rkj+Z1UDvTIe+Oaug68zrn8sFBoHZP5R7zuQzWlZXNv4wq6tyZ353Z5KvuEj7nnfOe943+T9PS/KNS/839DjyvvVXJp9xR1aDy/0eH3LO+6cH/zPtek/OXlxoSd6f5HOX/m+4a48kH5rk7ZN/h9vW/8ZnXv9Kkgef530X/ELfRn9cv/+zktx+Th+ZHpt+MEkt/d/Q42j6VVZ3F5zZdvcGx6FPOuf9zznnOHSo70iPIfvWU8/pG7cn+YNzjlenknzTRdrmmHWMH3P0rXP2uy5nT1S/bcM2OW4N8MiqVFnb4PGig/atGGvt9GOOvhXjrZ1/zNSvnnrOe421NnhcFo6d1tprq+qjsppy/llJPjirAeCvZ9VBv6+1dnqfj7iQX0jy9Uk+MavaJQ9J8oCsvvh/K8l/S/JvW2tvvUj7/l1V3Zjka7K6EvPQrP7P+D+T/JvW2iv3ez/LmbFvTcvH3G/92M/Jc17/RJLKqm8+Iau+ef+sLia8IavB6L9rrf3eIdrGJWitvbWqPibJ30nyuVmd8N6T5DeS/EiSf91au/uQn31J/bG19lNV9cfW7//0JI/M6kv9/2R1LLNoRKdm6lfT49DlSR5+kf2vOOf1Vr4jWdZMfevX1p/3iUk+JqtxzwOzOqH4jSSvzuo76tcu0jbHrGNszu/DtS/I6o6pZINyDmuOW+zLWIsZGG8xB2OtQ6h1yg0AAAAAwDFn0TYAAAAAgEEIfAEAAAAABiHwBQAAAAAYhMAXAAAAAGAQAl8AAAAAgEEIfAEAAAAABiHwBQAAAAAYhMAXAAAAAGAQAl8AAAAAgEEIfAEAAAAABiHwBQAAAAAYhMAXAAAAAGAQAl8AAAAAgEEIfAEAAAAABiHwBQAAAAAYhMAXAAAAAGAQAl8AAAAAgEH8/24x2gQ9E2LTAAAAAElFTkSuQmCC\n",
          "text/plain": "<Figure size 720x360 with 1 Axes>"
         },
         "metadata": {
          "image/png": {
           "height": 341,
           "width": 702
          },
          "needs_background": "light"
         },
         "output_type": "display_data"
        }
       ]
      }
     },
     "18769d51146243a1ba2b0e544fcea5f4": {
      "model_module": "@jupyter-widgets/base",
      "model_module_version": "1.2.0",
      "model_name": "LayoutModel",
      "state": {}
     },
     "188f3f00b58e46ecb2dc3a339b4519e2": {
      "model_module": "@jupyter-widgets/controls",
      "model_module_version": "1.5.0",
      "model_name": "FloatSliderModel",
      "state": {
       "continuous_update": false,
       "description": "R1",
       "layout": "IPY_MODEL_e0c2a66889eb4fdebd04f8844713ef5d",
       "min": 1,
       "style": "IPY_MODEL_e789b9deacb34f0092313122eae971ed",
       "value": 1
      }
     },
     "191e8629a0b74b569df65ab8b643da60": {
      "model_module": "@jupyter-widgets/controls",
      "model_module_version": "1.5.0",
      "model_name": "FloatSliderModel",
      "state": {
       "continuous_update": false,
       "description": "R2 (MOhm)",
       "layout": "IPY_MODEL_8b8c4858f4c448bd8fbc1616dce7f2df",
       "min": 1,
       "style": "IPY_MODEL_991a3167bb154648928d7c8735b17766",
       "value": 1
      }
     },
     "194853254abe4566b32679c1a80295da": {
      "model_module": "@jupyter-widgets/base",
      "model_module_version": "1.2.0",
      "model_name": "LayoutModel",
      "state": {
       "width": "600px"
      }
     },
     "1953c31370bb421a9ab6ac7a8ba055ec": {
      "model_module": "@jupyter-widgets/controls",
      "model_module_version": "1.5.0",
      "model_name": "SliderStyleModel",
      "state": {
       "description_width": "initial"
      }
     },
     "199e489f00414b879600ba97a50bf428": {
      "model_module": "@jupyter-widgets/base",
      "model_module_version": "1.2.0",
      "model_name": "LayoutModel",
      "state": {
       "width": "600px"
      }
     },
     "19f5a25efc7d4f2eae9209e6b29524dc": {
      "model_module": "@jupyter-widgets/controls",
      "model_module_version": "1.5.0",
      "model_name": "SliderStyleModel",
      "state": {
       "description_width": ""
      }
     },
     "19fe3b44480a43149f3b75305f2d61e4": {
      "model_module": "@jupyter-widgets/base",
      "model_module_version": "1.2.0",
      "model_name": "LayoutModel",
      "state": {}
     },
     "1b81e35455524d4bac2419f61dbfc33b": {
      "model_module": "@jupyter-widgets/base",
      "model_module_version": "1.2.0",
      "model_name": "LayoutModel",
      "state": {
       "width": "600px"
      }
     },
     "1b93c3d74076407fbaec2873ade427c2": {
      "model_module": "@jupyter-widgets/controls",
      "model_module_version": "1.5.0",
      "model_name": "SliderStyleModel",
      "state": {
       "description_width": ""
      }
     },
     "1ba57cef627d4e6fb52196d98485b637": {
      "model_module": "@jupyter-widgets/base",
      "model_module_version": "1.2.0",
      "model_name": "LayoutModel",
      "state": {
       "width": "600px"
      }
     },
     "1be18bab0dd048c78975c2793deded60": {
      "model_module": "@jupyter-widgets/output",
      "model_module_version": "1.0.0",
      "model_name": "OutputModel",
      "state": {
       "layout": "IPY_MODEL_346b809bdad84ac68bd3b2e48f445c2f",
       "outputs": [
        {
         "ename": "UnboundLocalError",
         "evalue": "local variable 'C' referenced before assignment",
         "output_type": "error",
         "traceback": [
          "\u001b[0;31m---------------------------------------------------------------------------\u001b[0m",
          "\u001b[0;31mUnboundLocalError\u001b[0m                         Traceback (most recent call last)",
          "File \u001b[0;32m~/opt/anaconda3/envs/neurolab/lib/python3.8/site-packages/ipywidgets/widgets/interaction.py:257\u001b[0m, in \u001b[0;36minteractive.update\u001b[0;34m(self, *args)\u001b[0m\n\u001b[1;32m    255\u001b[0m     value \u001b[38;5;241m=\u001b[39m widget\u001b[38;5;241m.\u001b[39mget_interact_value()\n\u001b[1;32m    256\u001b[0m     \u001b[38;5;28mself\u001b[39m\u001b[38;5;241m.\u001b[39mkwargs[widget\u001b[38;5;241m.\u001b[39m_kwarg] \u001b[38;5;241m=\u001b[39m value\n\u001b[0;32m--> 257\u001b[0m \u001b[38;5;28mself\u001b[39m\u001b[38;5;241m.\u001b[39mresult \u001b[38;5;241m=\u001b[39m \u001b[38;5;28;43mself\u001b[39;49m\u001b[38;5;241;43m.\u001b[39;49m\u001b[43mf\u001b[49m\u001b[43m(\u001b[49m\u001b[38;5;241;43m*\u001b[39;49m\u001b[38;5;241;43m*\u001b[39;49m\u001b[38;5;28;43mself\u001b[39;49m\u001b[38;5;241;43m.\u001b[39;49m\u001b[43mkwargs\u001b[49m\u001b[43m)\u001b[49m\n\u001b[1;32m    258\u001b[0m show_inline_matplotlib_plots()\n\u001b[1;32m    259\u001b[0m \u001b[38;5;28;01mif\u001b[39;00m \u001b[38;5;28mself\u001b[39m\u001b[38;5;241m.\u001b[39mauto_display \u001b[38;5;129;01mand\u001b[39;00m \u001b[38;5;28mself\u001b[39m\u001b[38;5;241m.\u001b[39mresult \u001b[38;5;129;01mis\u001b[39;00m \u001b[38;5;129;01mnot\u001b[39;00m \u001b[38;5;28;01mNone\u001b[39;00m:\n",
          "Input \u001b[0;32mIn [36]\u001b[0m, in \u001b[0;36mupdate_plot\u001b[0;34m(E, R, tau, amplitude)\u001b[0m\n\u001b[1;32m     64\u001b[0m \u001b[38;5;66;03m# tau = tau*1e-3 # convert from milliseconds to seconds\u001b[39;00m\n\u001b[1;32m     65\u001b[0m amplitude \u001b[38;5;241m=\u001b[39m amplitude\u001b[38;5;241m*\u001b[39m\u001b[38;5;241m1e-12\u001b[39m \u001b[38;5;66;03m# Convert from picoAmps to Amps\u001b[39;00m\n\u001b[0;32m---> 66\u001b[0m C \u001b[38;5;241m=\u001b[39m \u001b[43mC\u001b[49m\u001b[38;5;241m*\u001b[39m\u001b[38;5;241m1e-9\u001b[39m \u001b[38;5;66;03m# convert from microfarad to farad\u001b[39;00m\n\u001b[1;32m     68\u001b[0m \u001b[38;5;66;03m# print(R,tau,C,amplitude)   \u001b[39;00m\n\u001b[1;32m     70\u001b[0m time \u001b[38;5;241m=\u001b[39m np\u001b[38;5;241m.\u001b[39mlinspace(\u001b[38;5;241m0\u001b[39m,total_duration,\u001b[38;5;28mint\u001b[39m(total_duration\u001b[38;5;241m/\u001b[39mdt))\u001b[38;5;241m-\u001b[39mdelay\n",
          "\u001b[0;31mUnboundLocalError\u001b[0m: local variable 'C' referenced before assignment"
         ]
        }
       ]
      }
     },
     "1bea8bd5b51b4769a2dca93d14347328": {
      "model_module": "@jupyter-widgets/controls",
      "model_module_version": "1.5.0",
      "model_name": "DescriptionStyleModel",
      "state": {
       "description_width": ""
      }
     },
     "1c0de031e9ec466aa90ef0698fa1cf7e": {
      "model_module": "@jupyter-widgets/base",
      "model_module_version": "1.2.0",
      "model_name": "LayoutModel",
      "state": {
       "width": "600px"
      }
     },
     "1c683635fae94a9885e9c36fc068f263": {
      "model_module": "@jupyter-widgets/base",
      "model_module_version": "1.2.0",
      "model_name": "LayoutModel",
      "state": {
       "width": "600px"
      }
     },
     "1cb12fcb6bad42f4a486965f6b1f6508": {
      "model_module": "@jupyter-widgets/controls",
      "model_module_version": "1.5.0",
      "model_name": "SliderStyleModel",
      "state": {
       "description_width": ""
      }
     },
     "1cdc3f9446064dcb82d2841694398449": {
      "model_module": "@jupyter-widgets/controls",
      "model_module_version": "1.5.0",
      "model_name": "FloatSliderModel",
      "state": {
       "description": "eq. Voltage (millivolts)",
       "layout": "IPY_MODEL_b0553470b3a64cef853afc8d0604a4bf",
       "min": -100,
       "step": 10,
       "style": "IPY_MODEL_ef4570d2e28f43f096df61a27711b37e"
      }
     },
     "1e6646434b2a4b63ae2e09eff1a70748": {
      "model_module": "@jupyter-widgets/base",
      "model_module_version": "1.2.0",
      "model_name": "LayoutModel",
      "state": {
       "width": "600px"
      }
     },
     "1efb99e21d1b401cae70d40cff2bf012": {
      "model_module": "@jupyter-widgets/controls",
      "model_module_version": "1.5.0",
      "model_name": "FloatSliderModel",
      "state": {
       "continuous_update": false,
       "description": "E1 (mV)",
       "layout": "IPY_MODEL_f3c1316e834346e5908853003f595022",
       "min": -100,
       "style": "IPY_MODEL_f46fead2bec041a8b21938c9d26b7166"
      }
     },
     "1f1f9084c12e48c5967f007e1fa68cb3": {
      "model_module": "@jupyter-widgets/base",
      "model_module_version": "1.2.0",
      "model_name": "LayoutModel",
      "state": {
       "width": "600px"
      }
     },
     "1f9920268dc24dd2afd801306e97af30": {
      "model_module": "@jupyter-widgets/output",
      "model_module_version": "1.0.0",
      "model_name": "OutputModel",
      "state": {
       "layout": "IPY_MODEL_96669aaab63745b0a50cc01dbc8cf401",
       "outputs": [
        {
         "ename": "ValueError",
         "evalue": "x and y must have same first dimension, but have shapes (20000,) and (20001,)",
         "output_type": "error",
         "traceback": [
          "\u001b[0;31m---------------------------------------------------------------------------\u001b[0m",
          "\u001b[0;31mValueError\u001b[0m                                Traceback (most recent call last)",
          "File \u001b[0;32m~/opt/anaconda3/envs/neurolab/lib/python3.8/site-packages/ipywidgets/widgets/interaction.py:257\u001b[0m, in \u001b[0;36minteractive.update\u001b[0;34m(self, *args)\u001b[0m\n\u001b[1;32m    255\u001b[0m     value \u001b[38;5;241m=\u001b[39m widget\u001b[38;5;241m.\u001b[39mget_interact_value()\n\u001b[1;32m    256\u001b[0m     \u001b[38;5;28mself\u001b[39m\u001b[38;5;241m.\u001b[39mkwargs[widget\u001b[38;5;241m.\u001b[39m_kwarg] \u001b[38;5;241m=\u001b[39m value\n\u001b[0;32m--> 257\u001b[0m \u001b[38;5;28mself\u001b[39m\u001b[38;5;241m.\u001b[39mresult \u001b[38;5;241m=\u001b[39m \u001b[38;5;28;43mself\u001b[39;49m\u001b[38;5;241;43m.\u001b[39;49m\u001b[43mf\u001b[49m\u001b[43m(\u001b[49m\u001b[38;5;241;43m*\u001b[39;49m\u001b[38;5;241;43m*\u001b[39;49m\u001b[38;5;28;43mself\u001b[39;49m\u001b[38;5;241;43m.\u001b[39;49m\u001b[43mkwargs\u001b[49m\u001b[43m)\u001b[49m\n\u001b[1;32m    258\u001b[0m show_inline_matplotlib_plots()\n\u001b[1;32m    259\u001b[0m \u001b[38;5;28;01mif\u001b[39;00m \u001b[38;5;28mself\u001b[39m\u001b[38;5;241m.\u001b[39mauto_display \u001b[38;5;129;01mand\u001b[39;00m \u001b[38;5;28mself\u001b[39m\u001b[38;5;241m.\u001b[39mresult \u001b[38;5;129;01mis\u001b[39;00m \u001b[38;5;129;01mnot\u001b[39;00m \u001b[38;5;28;01mNone\u001b[39;00m:\n",
          "Input \u001b[0;32mIn [67]\u001b[0m, in \u001b[0;36mupdate_plot\u001b[0;34m(E, R, C, amplitude)\u001b[0m\n\u001b[1;32m     94\u001b[0m hfig,ax \u001b[38;5;241m=\u001b[39m plt\u001b[38;5;241m.\u001b[39msubplots(figsize\u001b[38;5;241m=\u001b[39m(\u001b[38;5;241m10\u001b[39m,\u001b[38;5;241m5\u001b[39m))\n\u001b[1;32m     95\u001b[0m \u001b[38;5;66;03m# add simulation vectors to the figure widget\u001b[39;00m\n\u001b[0;32m---> 96\u001b[0m \u001b[43max\u001b[49m\u001b[38;5;241;43m.\u001b[39;49m\u001b[43mplot\u001b[49m\u001b[43m(\u001b[49m\u001b[43mtime\u001b[49m\u001b[43m,\u001b[49m\u001b[43mV_record\u001b[49m\u001b[38;5;241;43m*\u001b[39;49m\u001b[38;5;241;43m1e3\u001b[39;49m\u001b[43m)\u001b[49m \u001b[38;5;66;03m# convert from Volts to milliVolts\u001b[39;00m\n\u001b[1;32m     98\u001b[0m label_tau\u001b[38;5;241m.\u001b[39mvalue\u001b[38;5;241m=\u001b[39m\u001b[38;5;124mf\u001b[39m\u001b[38;5;124m'\u001b[39m\u001b[38;5;124mtau = \u001b[39m\u001b[38;5;132;01m{\u001b[39;00m(R\u001b[38;5;241m*\u001b[39mC)\u001b[38;5;132;01m:\u001b[39;00m\u001b[38;5;124m0.4f\u001b[39m\u001b[38;5;132;01m}\u001b[39;00m\u001b[38;5;124m seconds\u001b[39m\u001b[38;5;124m'\u001b[39m\n",
          "File \u001b[0;32m~/opt/anaconda3/envs/neurolab/lib/python3.8/site-packages/matplotlib/axes/_axes.py:1632\u001b[0m, in \u001b[0;36mAxes.plot\u001b[0;34m(self, scalex, scaley, data, *args, **kwargs)\u001b[0m\n\u001b[1;32m   1390\u001b[0m \u001b[38;5;124;03m\"\"\"\u001b[39;00m\n\u001b[1;32m   1391\u001b[0m \u001b[38;5;124;03mPlot y versus x as lines and/or markers.\u001b[39;00m\n\u001b[1;32m   1392\u001b[0m \n\u001b[0;32m   (...)\u001b[0m\n\u001b[1;32m   1629\u001b[0m \u001b[38;5;124;03m(``'green'``) or hex strings (``'#008000'``).\u001b[39;00m\n\u001b[1;32m   1630\u001b[0m \u001b[38;5;124;03m\"\"\"\u001b[39;00m\n\u001b[1;32m   1631\u001b[0m kwargs \u001b[38;5;241m=\u001b[39m cbook\u001b[38;5;241m.\u001b[39mnormalize_kwargs(kwargs, mlines\u001b[38;5;241m.\u001b[39mLine2D)\n\u001b[0;32m-> 1632\u001b[0m lines \u001b[38;5;241m=\u001b[39m [\u001b[38;5;241m*\u001b[39m\u001b[38;5;28mself\u001b[39m\u001b[38;5;241m.\u001b[39m_get_lines(\u001b[38;5;241m*\u001b[39margs, data\u001b[38;5;241m=\u001b[39mdata, \u001b[38;5;241m*\u001b[39m\u001b[38;5;241m*\u001b[39mkwargs)]\n\u001b[1;32m   1633\u001b[0m \u001b[38;5;28;01mfor\u001b[39;00m line \u001b[38;5;129;01min\u001b[39;00m lines:\n\u001b[1;32m   1634\u001b[0m     \u001b[38;5;28mself\u001b[39m\u001b[38;5;241m.\u001b[39madd_line(line)\n",
          "File \u001b[0;32m~/opt/anaconda3/envs/neurolab/lib/python3.8/site-packages/matplotlib/axes/_base.py:312\u001b[0m, in \u001b[0;36m_process_plot_var_args.__call__\u001b[0;34m(self, data, *args, **kwargs)\u001b[0m\n\u001b[1;32m    310\u001b[0m     this \u001b[38;5;241m+\u001b[39m\u001b[38;5;241m=\u001b[39m args[\u001b[38;5;241m0\u001b[39m],\n\u001b[1;32m    311\u001b[0m     args \u001b[38;5;241m=\u001b[39m args[\u001b[38;5;241m1\u001b[39m:]\n\u001b[0;32m--> 312\u001b[0m \u001b[38;5;28;01myield from\u001b[39;00m \u001b[38;5;28;43mself\u001b[39;49m\u001b[38;5;241;43m.\u001b[39;49m\u001b[43m_plot_args\u001b[49m\u001b[43m(\u001b[49m\u001b[43mthis\u001b[49m\u001b[43m,\u001b[49m\u001b[43m \u001b[49m\u001b[43mkwargs\u001b[49m\u001b[43m)\u001b[49m\n",
          "File \u001b[0;32m~/opt/anaconda3/envs/neurolab/lib/python3.8/site-packages/matplotlib/axes/_base.py:498\u001b[0m, in \u001b[0;36m_process_plot_var_args._plot_args\u001b[0;34m(self, tup, kwargs, return_kwargs)\u001b[0m\n\u001b[1;32m    495\u001b[0m     \u001b[38;5;28mself\u001b[39m\u001b[38;5;241m.\u001b[39maxes\u001b[38;5;241m.\u001b[39myaxis\u001b[38;5;241m.\u001b[39mupdate_units(y)\n\u001b[1;32m    497\u001b[0m \u001b[38;5;28;01mif\u001b[39;00m x\u001b[38;5;241m.\u001b[39mshape[\u001b[38;5;241m0\u001b[39m] \u001b[38;5;241m!=\u001b[39m y\u001b[38;5;241m.\u001b[39mshape[\u001b[38;5;241m0\u001b[39m]:\n\u001b[0;32m--> 498\u001b[0m     \u001b[38;5;28;01mraise\u001b[39;00m \u001b[38;5;167;01mValueError\u001b[39;00m(\u001b[38;5;124mf\u001b[39m\u001b[38;5;124m\"\u001b[39m\u001b[38;5;124mx and y must have same first dimension, but \u001b[39m\u001b[38;5;124m\"\u001b[39m\n\u001b[1;32m    499\u001b[0m                      \u001b[38;5;124mf\u001b[39m\u001b[38;5;124m\"\u001b[39m\u001b[38;5;124mhave shapes \u001b[39m\u001b[38;5;132;01m{\u001b[39;00mx\u001b[38;5;241m.\u001b[39mshape\u001b[38;5;132;01m}\u001b[39;00m\u001b[38;5;124m and \u001b[39m\u001b[38;5;132;01m{\u001b[39;00my\u001b[38;5;241m.\u001b[39mshape\u001b[38;5;132;01m}\u001b[39;00m\u001b[38;5;124m\"\u001b[39m)\n\u001b[1;32m    500\u001b[0m \u001b[38;5;28;01mif\u001b[39;00m x\u001b[38;5;241m.\u001b[39mndim \u001b[38;5;241m>\u001b[39m \u001b[38;5;241m2\u001b[39m \u001b[38;5;129;01mor\u001b[39;00m y\u001b[38;5;241m.\u001b[39mndim \u001b[38;5;241m>\u001b[39m \u001b[38;5;241m2\u001b[39m:\n\u001b[1;32m    501\u001b[0m     \u001b[38;5;28;01mraise\u001b[39;00m \u001b[38;5;167;01mValueError\u001b[39;00m(\u001b[38;5;124mf\u001b[39m\u001b[38;5;124m\"\u001b[39m\u001b[38;5;124mx and y can be no greater than 2D, but have \u001b[39m\u001b[38;5;124m\"\u001b[39m\n\u001b[1;32m    502\u001b[0m                      \u001b[38;5;124mf\u001b[39m\u001b[38;5;124m\"\u001b[39m\u001b[38;5;124mshapes \u001b[39m\u001b[38;5;132;01m{\u001b[39;00mx\u001b[38;5;241m.\u001b[39mshape\u001b[38;5;132;01m}\u001b[39;00m\u001b[38;5;124m and \u001b[39m\u001b[38;5;132;01m{\u001b[39;00my\u001b[38;5;241m.\u001b[39mshape\u001b[38;5;132;01m}\u001b[39;00m\u001b[38;5;124m\"\u001b[39m)\n",
          "\u001b[0;31mValueError\u001b[0m: x and y must have same first dimension, but have shapes (20000,) and (20001,)"
         ]
        }
       ]
      }
     },
     "1feae3c4e9b94bd692b5b0c708fe045a": {
      "model_module": "@jupyter-widgets/controls",
      "model_module_version": "1.5.0",
      "model_name": "FloatSliderModel",
      "state": {
       "description": "Current_Step_Duration",
       "layout": "IPY_MODEL_09acbd70c7b043139987e21e170afe3c",
       "max": 200,
       "min": 10,
       "step": 2,
       "style": "IPY_MODEL_f1c24d05aeba4ca5adbead65d8cb8e92",
       "value": 100
      }
     },
     "1ff19c3495ce4f87b92a98e78baec90c": {
      "model_module": "@jupyter-widgets/base",
      "model_module_version": "1.2.0",
      "model_name": "LayoutModel",
      "state": {
       "width": "600px"
      }
     },
     "20398d60525f4cef9400be33b211d31d": {
      "model_module": "@jupyter-widgets/controls",
      "model_module_version": "1.5.0",
      "model_name": "SliderStyleModel",
      "state": {
       "description_width": ""
      }
     },
     "20cff9a409c04499bc1d8d342bcdef87": {
      "model_module": "@jupyter-widgets/controls",
      "model_module_version": "1.5.0",
      "model_name": "LabelModel",
      "state": {
       "layout": "IPY_MODEL_2228acdf75234668819de3e464568ebf",
       "style": "IPY_MODEL_7eca2a546263452182bf257cfc73c684",
       "value": "tau = 0.0106 seconds"
      }
     },
     "20e91b0de6934e1a93563bb7e5260145": {
      "model_module": "@jupyter-widgets/controls",
      "model_module_version": "1.5.0",
      "model_name": "SliderStyleModel",
      "state": {
       "description_width": "initial"
      }
     },
     "2136c9ac19874ac8ae4f413252f5f916": {
      "model_module": "@jupyter-widgets/controls",
      "model_module_version": "1.5.0",
      "model_name": "FloatSliderModel",
      "state": {
       "description": "current_injection",
       "layout": "IPY_MODEL_09acbd70c7b043139987e21e170afe3c",
       "max": 1000,
       "step": 2,
       "style": "IPY_MODEL_570e8da52c39428e8d0b196c9729354b",
       "value": 204
      }
     },
     "215cbb0a6df8432fbcefd0d3326ff799": {
      "model_module": "@jupyter-widgets/base",
      "model_module_version": "1.2.0",
      "model_name": "LayoutModel",
      "state": {
       "width": "600px"
      }
     },
     "2187eea4a61946309f2905e0ff012260": {
      "model_module": "@jupyter-widgets/base",
      "model_module_version": "1.2.0",
      "model_name": "LayoutModel",
      "state": {}
     },
     "22056429e21241aaa35ce61d4997a164": {
      "model_module": "@jupyter-widgets/controls",
      "model_module_version": "1.5.0",
      "model_name": "FloatSliderModel",
      "state": {
       "description": "current_injection",
       "layout": "IPY_MODEL_09acbd70c7b043139987e21e170afe3c",
       "max": 1000,
       "step": 2,
       "style": "IPY_MODEL_dc258447c740491eb0896a3b448d020f",
       "value": 50
      }
     },
     "220c961e33e541d19b21efc90c7ac0b2": {
      "model_module": "@jupyter-widgets/controls",
      "model_module_version": "1.5.0",
      "model_name": "LabelModel",
      "state": {
       "layout": "IPY_MODEL_3c798da4ec0b4dd4b78911b348a73b52",
       "style": "IPY_MODEL_4023b39f72524d3abe6679dcc7961758",
       "value": "tau = 0.000 seconds"
      }
     },
     "2228acdf75234668819de3e464568ebf": {
      "model_module": "@jupyter-widgets/base",
      "model_module_version": "1.2.0",
      "model_name": "LayoutModel",
      "state": {
       "width": "600px"
      }
     },
     "22673c433db74fbc8efc8202ad38db62": {
      "model_module": "@jupyter-widgets/controls",
      "model_module_version": "1.5.0",
      "model_name": "FloatSliderModel",
      "state": {
       "description": "eq. Voltage (millivolts)",
       "layout": "IPY_MODEL_5d0e053dd2714337986a0b4050102713",
       "min": -100,
       "step": 10,
       "style": "IPY_MODEL_01920a4bc4e84c8e84913d87beabefda"
      }
     },
     "2346ef39fdfa4b46aa653705e5bcba35": {
      "model_module": "@jupyter-widgets/controls",
      "model_module_version": "1.5.0",
      "model_name": "FloatSliderModel",
      "state": {
       "description": "Leak_Reversal",
       "layout": "IPY_MODEL_09acbd70c7b043139987e21e170afe3c",
       "max": -30,
       "min": -90,
       "step": 2,
       "style": "IPY_MODEL_5d3991e7fec14d8ca7a46e3c36ae84d0",
       "value": -75
      }
     },
     "23bb9144fdc348a8814a62e9dbb22728": {
      "model_module": "@jupyter-widgets/controls",
      "model_module_version": "1.5.0",
      "model_name": "SliderStyleModel",
      "state": {
       "description_width": "initial"
      }
     },
     "23bd0396aaa54889aa8bc774c1bb212c": {
      "model_module": "@jupyter-widgets/base",
      "model_module_version": "1.2.0",
      "model_name": "LayoutModel",
      "state": {}
     },
     "24712699484347ffa824471c825da650": {
      "model_module": "@jupyter-widgets/controls",
      "model_module_version": "1.5.0",
      "model_name": "LabelModel",
      "state": {
       "layout": "IPY_MODEL_b734e5e4bbc0472aafe98f6f5ed4b379",
       "style": "IPY_MODEL_432f9ce8a8044ce58126b627d93c7f23",
       "value": "tau = 0.005 seconds"
      }
     },
     "2481b34f4f75429cab4b1829595ad85d": {
      "model_module": "@jupyter-widgets/controls",
      "model_module_version": "1.5.0",
      "model_name": "FloatSliderModel",
      "state": {
       "description": "R (MOhm)",
       "layout": "IPY_MODEL_5a5fe6e2142a4daba5b74921b4c474d8",
       "max": 1000,
       "step": 10,
       "style": "IPY_MODEL_4954ebc3e5834fa18b8ce40ba79ee175",
       "value": 100
      }
     },
     "24b379ad3aa547af8dc2976290841a1c": {
      "model_module": "@jupyter-widgets/controls",
      "model_module_version": "1.5.0",
      "model_name": "SliderStyleModel",
      "state": {
       "description_width": "initial"
      }
     },
     "24b5880f66e3460f8f4f073d2fe7d705": {
      "model_module": "@jupyter-widgets/base",
      "model_module_version": "1.2.0",
      "model_name": "LayoutModel",
      "state": {
       "width": "600px"
      }
     },
     "25118b3726454ea3916ceed066eead5c": {
      "model_module": "@jupyter-widgets/controls",
      "model_module_version": "1.5.0",
      "model_name": "FloatSliderModel",
      "state": {
       "continuous_update": false,
       "description": "E1",
       "layout": "IPY_MODEL_873be0c7c4264c4eadf35b76486515d4",
       "min": -100,
       "style": "IPY_MODEL_3c3de3673de5488ba9b9b44a996492c3"
      }
     },
     "2539f2913073470fac231215f87d6a5c": {
      "model_module": "@jupyter-widgets/controls",
      "model_module_version": "1.5.0",
      "model_name": "SliderStyleModel",
      "state": {
       "description_width": ""
      }
     },
     "257a8122eb5341c9b9b609dac0a0c354": {
      "model_module": "@jupyter-widgets/controls",
      "model_module_version": "1.5.0",
      "model_name": "SliderStyleModel",
      "state": {
       "description_width": ""
      }
     },
     "25ad10b43dab4f67b654383dc0d64f1b": {
      "model_module": "@jupyter-widgets/base",
      "model_module_version": "1.2.0",
      "model_name": "LayoutModel",
      "state": {
       "width": "600px"
      }
     },
     "2601887650f342579967bccd0f5b3f54": {
      "model_module": "@jupyter-widgets/base",
      "model_module_version": "1.2.0",
      "model_name": "LayoutModel",
      "state": {
       "width": "600px"
      }
     },
     "262d9e55132548929a38eebbacf223fb": {
      "model_module": "@jupyter-widgets/controls",
      "model_module_version": "1.5.0",
      "model_name": "FloatSliderModel",
      "state": {
       "description": "C (pF)",
       "layout": "IPY_MODEL_92883e2ad7444d0ebeba5f492fb825f2",
       "max": 1000,
       "min": 1,
       "step": 0.1,
       "style": "IPY_MODEL_3e01de03a14149718e38098b3df891b0",
       "value": 8.6
      }
     },
     "266059dcfd794c7b8cacc0b7ac91ae82": {
      "model_module": "@jupyter-widgets/controls",
      "model_module_version": "1.5.0",
      "model_name": "FloatSliderModel",
      "state": {
       "description": "Current_Step_Duration",
       "layout": "IPY_MODEL_09acbd70c7b043139987e21e170afe3c",
       "max": 200,
       "min": 10,
       "step": 2,
       "style": "IPY_MODEL_8ed97a0fe45b4a5298f2f4e27b6cf0d3",
       "value": 100
      }
     },
     "26abdc90e3cf44279562a09e2120e990": {
      "model_module": "@jupyter-widgets/base",
      "model_module_version": "1.2.0",
      "model_name": "LayoutModel",
      "state": {
       "width": "600px"
      }
     },
     "2819103670c34cf7af02891625da36eb": {
      "model_module": "@jupyter-widgets/controls",
      "model_module_version": "1.5.0",
      "model_name": "LabelModel",
      "state": {
       "layout": "IPY_MODEL_50d99d92cd0f40b88f6044d37b5d8a16",
       "style": "IPY_MODEL_a38a9971a5d84ff183e9ecd750146449",
       "value": "tau = "
      }
     },
     "2836b54f6b754266802ec2f326383306": {
      "model_module": "@jupyter-widgets/controls",
      "model_module_version": "1.5.0",
      "model_name": "SliderStyleModel",
      "state": {
       "description_width": ""
      }
     },
     "2839464a02ea456d9d1f5c654870c7b8": {
      "model_module": "@jupyter-widgets/controls",
      "model_module_version": "1.5.0",
      "model_name": "VBoxModel",
      "state": {
       "_dom_classes": [
        "widget-interact"
       ],
       "children": [
        "IPY_MODEL_b7d51d8f23734e4d873029bc0d5558f4",
        "IPY_MODEL_188f3f00b58e46ecb2dc3a339b4519e2",
        "IPY_MODEL_665c83b5540a49df96edebf103669fd9",
        "IPY_MODEL_6fc4e8c8178146d1beb46f98d4775240",
        "IPY_MODEL_8905f0a564c5459da9ca510936404c13"
       ],
       "layout": "IPY_MODEL_f457849bbf4540f380ff9df1f490a60b"
      }
     },
     "2888e187166d490a994918d272c45194": {
      "model_module": "@jupyter-widgets/base",
      "model_module_version": "1.2.0",
      "model_name": "LayoutModel",
      "state": {
       "width": "600px"
      }
     },
     "28a3795bf5474156991e23c3ebd2e4a1": {
      "model_module": "@jupyter-widgets/controls",
      "model_module_version": "1.5.0",
      "model_name": "FloatSliderModel",
      "state": {
       "description": "R (MOhm)",
       "layout": "IPY_MODEL_55e756c087e7436a9723434846bd75db",
       "max": 1000,
       "step": 10,
       "style": "IPY_MODEL_8cdb8bef808a4573a8affd95fc5ca268",
       "value": 100
      }
     },
     "296924e765424419a3b2459fea714f6e": {
      "model_module": "@jupyter-widgets/controls",
      "model_module_version": "1.5.0",
      "model_name": "LabelModel",
      "state": {
       "layout": "IPY_MODEL_0bb4a0bd5fa443c09951934f8ff9b811",
       "style": "IPY_MODEL_3c4e1e924b804ee69ecce2f3b3d00652",
       "value": "tau = 0.026 seconds"
      }
     },
     "2a742881d866476491db0b24edadeff6": {
      "model_module": "@jupyter-widgets/base",
      "model_module_version": "1.2.0",
      "model_name": "LayoutModel",
      "state": {}
     },
     "2a9600c30fb148cfab8c9168280cbdc1": {
      "model_module": "@jupyter-widgets/controls",
      "model_module_version": "1.5.0",
      "model_name": "SliderStyleModel",
      "state": {
       "description_width": ""
      }
     },
     "2aefc51e5bf64a589329f07ca6fcaf02": {
      "model_module": "@jupyter-widgets/controls",
      "model_module_version": "1.5.0",
      "model_name": "FloatSliderModel",
      "state": {
       "description": "I (pA)",
       "layout": "IPY_MODEL_884d9e9c86c4452f86e0e9d37aebc073",
       "max": 500,
       "style": "IPY_MODEL_37f03ecfc2bd4547bc4415a69d695b75",
       "value": 100
      }
     },
     "2b1829aa5e1f454ba57925cb301ed0ed": {
      "model_module": "@jupyter-widgets/base",
      "model_module_version": "1.2.0",
      "model_name": "LayoutModel",
      "state": {}
     },
     "2b98595d563e4a7dbccbf9ad660ae526": {
      "model_module": "@jupyter-widgets/controls",
      "model_module_version": "1.5.0",
      "model_name": "SliderStyleModel",
      "state": {
       "description_width": "initial"
      }
     },
     "2ba4b039d2914cdea85fadfdfe906998": {
      "model_module": "@jupyter-widgets/controls",
      "model_module_version": "1.5.0",
      "model_name": "VBoxModel",
      "state": {
       "_dom_classes": [
        "widget-interact"
       ],
       "children": [
        "IPY_MODEL_1cdc3f9446064dcb82d2841694398449",
        "IPY_MODEL_5d5c152bc98446d6818531e2ef970ab3",
        "IPY_MODEL_b0010fa59cf1417fa0fb26d7361d638e",
        "IPY_MODEL_507dbad8a33f4fdfa6bb1e63f59018ff",
        "IPY_MODEL_4007abbb44924189b14e399222cc87e1"
       ],
       "layout": "IPY_MODEL_7583d493e18448bf8963d7e7a198f5a3"
      }
     },
     "2cc4a948fc74426f95db15ca237a9fd1": {
      "model_module": "@jupyter-widgets/controls",
      "model_module_version": "1.5.0",
      "model_name": "FloatSliderModel",
      "state": {
       "description": "eq. Voltage (millivolts)",
       "layout": "IPY_MODEL_fa32277a988347aebf1f09d581f578b6",
       "min": -100,
       "step": 10,
       "style": "IPY_MODEL_13e30b43c0af41a887712d772eb1b8c8"
      }
     },
     "2d8ba2ee332140a3bb7c9d6fc579ca29": {
      "model_module": "@jupyter-widgets/base",
      "model_module_version": "1.2.0",
      "model_name": "LayoutModel",
      "state": {}
     },
     "2db45fafa7274228918c6ec3e5ca43f9": {
      "model_module": "@jupyter-widgets/controls",
      "model_module_version": "1.5.0",
      "model_name": "FloatSliderModel",
      "state": {
       "description": "I (pA)",
       "layout": "IPY_MODEL_a7ba6267848c4c279bad35e279c91989",
       "max": 500,
       "style": "IPY_MODEL_c9aedc012b6b4de9ac121586913973fe",
       "value": 100
      }
     },
     "2f0f2ece60a64906b5a474ba2e672dd3": {
      "model_module": "@jupyter-widgets/controls",
      "model_module_version": "1.5.0",
      "model_name": "SliderStyleModel",
      "state": {
       "description_width": "initial"
      }
     },
     "2f8ea2112b83497f92ef7f45959f5ed3": {
      "model_module": "@jupyter-widgets/controls",
      "model_module_version": "1.5.0",
      "model_name": "SliderStyleModel",
      "state": {
       "description_width": ""
      }
     },
     "2f9c7362e10c4a72a88c4955de7b40a6": {
      "model_module": "@jupyter-widgets/controls",
      "model_module_version": "1.5.0",
      "model_name": "VBoxModel",
      "state": {
       "_dom_classes": [
        "widget-interact"
       ],
       "children": [
        "IPY_MODEL_f0258c5d8d214826a154b986afaab7b5",
        "IPY_MODEL_ec7203b0ae394e0cb4a76d40fd96e610",
        "IPY_MODEL_85b234941dfa452da4443ed89ba5136d",
        "IPY_MODEL_e0edcc76516d477a93b74e67e3e15383",
        "IPY_MODEL_ea1d78f8939849b5a9c69f7210cd882c"
       ],
       "layout": "IPY_MODEL_83f5d96e35a743509b448307f74ad28b"
      }
     },
     "2fd022b5e7b54667bd87f58eadae9cb5": {
      "model_module": "@jupyter-widgets/output",
      "model_module_version": "1.0.0",
      "model_name": "OutputModel",
      "state": {
       "layout": "IPY_MODEL_19fe3b44480a43149f3b75305f2d61e4",
       "outputs": [
        {
         "ename": "TypeError",
         "evalue": "set_ticks() missing 1 required positional argument: 'ticks'",
         "output_type": "error",
         "traceback": [
          "\u001b[0;31m---------------------------------------------------------------------------\u001b[0m",
          "\u001b[0;31mTypeError\u001b[0m                                 Traceback (most recent call last)",
          "File \u001b[0;32m~/opt/anaconda3/envs/neurolab/lib/python3.8/site-packages/ipywidgets/widgets/interaction.py:257\u001b[0m, in \u001b[0;36minteractive.update\u001b[0;34m(self, *args)\u001b[0m\n\u001b[1;32m    255\u001b[0m     value \u001b[38;5;241m=\u001b[39m widget\u001b[38;5;241m.\u001b[39mget_interact_value()\n\u001b[1;32m    256\u001b[0m     \u001b[38;5;28mself\u001b[39m\u001b[38;5;241m.\u001b[39mkwargs[widget\u001b[38;5;241m.\u001b[39m_kwarg] \u001b[38;5;241m=\u001b[39m value\n\u001b[0;32m--> 257\u001b[0m \u001b[38;5;28mself\u001b[39m\u001b[38;5;241m.\u001b[39mresult \u001b[38;5;241m=\u001b[39m \u001b[38;5;28;43mself\u001b[39;49m\u001b[38;5;241;43m.\u001b[39;49m\u001b[43mf\u001b[49m\u001b[43m(\u001b[49m\u001b[38;5;241;43m*\u001b[39;49m\u001b[38;5;241;43m*\u001b[39;49m\u001b[38;5;28;43mself\u001b[39;49m\u001b[38;5;241;43m.\u001b[39;49m\u001b[43mkwargs\u001b[49m\u001b[43m)\u001b[49m\n\u001b[1;32m    258\u001b[0m show_inline_matplotlib_plots()\n\u001b[1;32m    259\u001b[0m \u001b[38;5;28;01mif\u001b[39;00m \u001b[38;5;28mself\u001b[39m\u001b[38;5;241m.\u001b[39mauto_display \u001b[38;5;129;01mand\u001b[39;00m \u001b[38;5;28mself\u001b[39m\u001b[38;5;241m.\u001b[39mresult \u001b[38;5;129;01mis\u001b[39;00m \u001b[38;5;129;01mnot\u001b[39;00m \u001b[38;5;28;01mNone\u001b[39;00m:\n",
          "Input \u001b[0;32mIn [49]\u001b[0m, in \u001b[0;36mdiff_DC\u001b[0;34m(current_injection, Simulation_Duration, Injection_Step, Current_Step_Duration, Leak_Reversal, Leak_Conductance, AHP_Voltage, Spike_Threshold, Membrane_Tau)\u001b[0m\n\u001b[1;32m    170\u001b[0m \u001b[38;5;66;03m# pars=default_pars()\u001b[39;00m\n\u001b[1;32m    171\u001b[0m v, sp \u001b[38;5;241m=\u001b[39m run_LIF(pars, Iinj\u001b[38;5;241m=\u001b[39mcurrent_injection,stop\u001b[38;5;241m=\u001b[39mInjection_Step,durstep\u001b[38;5;241m=\u001b[39mCurrent_Step_Duration)\n\u001b[0;32m--> 172\u001b[0m \u001b[43mplot_volt_trace\u001b[49m\u001b[43m(\u001b[49m\u001b[43mpars\u001b[49m\u001b[43m,\u001b[49m\u001b[43m \u001b[49m\u001b[43mv\u001b[49m\u001b[43m,\u001b[49m\u001b[43m \u001b[49m\u001b[43msp\u001b[49m\u001b[43m)\u001b[49m\n",
          "Input \u001b[0;32mIn [49]\u001b[0m, in \u001b[0;36mplot_volt_trace\u001b[0;34m(pars, v, sp)\u001b[0m\n\u001b[1;32m     50\u001b[0m ax\u001b[38;5;241m.\u001b[39mset_xlabel(\u001b[38;5;124m'\u001b[39m\u001b[38;5;124mTime (ms)\u001b[39m\u001b[38;5;124m'\u001b[39m,fontsize\u001b[38;5;241m=\u001b[39m\u001b[38;5;241m14\u001b[39m)\n\u001b[1;32m     51\u001b[0m ax\u001b[38;5;241m.\u001b[39mset_ylabel(\u001b[38;5;124m'\u001b[39m\u001b[38;5;124mV (mV)\u001b[39m\u001b[38;5;124m'\u001b[39m,fontsize\u001b[38;5;241m=\u001b[39m\u001b[38;5;241m14\u001b[39m)\n\u001b[0;32m---> 52\u001b[0m \u001b[43max\u001b[49m\u001b[38;5;241;43m.\u001b[39;49m\u001b[43mset_xticks\u001b[49m\u001b[43m(\u001b[49m\u001b[43mfontsize\u001b[49m\u001b[38;5;241;43m=\u001b[39;49m\u001b[38;5;241;43m14\u001b[39;49m\u001b[43m)\u001b[49m\n\u001b[1;32m     53\u001b[0m ax\u001b[38;5;241m.\u001b[39mset_yticks(fontsize\u001b[38;5;241m=\u001b[39m\u001b[38;5;241m14\u001b[39m)\n\u001b[1;32m     54\u001b[0m ax\u001b[38;5;241m.\u001b[39mlegend([\u001b[38;5;124m'\u001b[39m\u001b[38;5;124mMembrane\u001b[39m\u001b[38;5;130;01m\\n\u001b[39;00m\u001b[38;5;124mpotential\u001b[39m\u001b[38;5;124m'\u001b[39m, \u001b[38;5;124mr\u001b[39m\u001b[38;5;124m'\u001b[39m\u001b[38;5;124mThreshold V$_\u001b[39m\u001b[38;5;124m{\u001b[39m\u001b[38;5;124m\\\u001b[39m\u001b[38;5;124mmathrm\u001b[39m\u001b[38;5;132;01m{th}\u001b[39;00m\u001b[38;5;124m}$\u001b[39m\u001b[38;5;124m'\u001b[39m],\n\u001b[1;32m     55\u001b[0m          loc\u001b[38;5;241m=\u001b[39m[\u001b[38;5;241m1.05\u001b[39m, \u001b[38;5;241m0.75\u001b[39m])\n",
          "File \u001b[0;32m~/opt/anaconda3/envs/neurolab/lib/python3.8/site-packages/matplotlib/axes/_base.py:75\u001b[0m, in \u001b[0;36m_axis_method_wrapper.__set_name__.<locals>.wrapper\u001b[0;34m(self, *args, **kwargs)\u001b[0m\n\u001b[1;32m     74\u001b[0m \u001b[38;5;28;01mdef\u001b[39;00m \u001b[38;5;21mwrapper\u001b[39m(\u001b[38;5;28mself\u001b[39m, \u001b[38;5;241m*\u001b[39margs, \u001b[38;5;241m*\u001b[39m\u001b[38;5;241m*\u001b[39mkwargs):\n\u001b[0;32m---> 75\u001b[0m     \u001b[38;5;28;01mreturn\u001b[39;00m \u001b[43mget_method\u001b[49m\u001b[43m(\u001b[49m\u001b[38;5;28;43mself\u001b[39;49m\u001b[43m)\u001b[49m\u001b[43m(\u001b[49m\u001b[38;5;241;43m*\u001b[39;49m\u001b[43margs\u001b[49m\u001b[43m,\u001b[49m\u001b[43m \u001b[49m\u001b[38;5;241;43m*\u001b[39;49m\u001b[38;5;241;43m*\u001b[39;49m\u001b[43mkwargs\u001b[49m\u001b[43m)\u001b[49m\n",
          "\u001b[0;31mTypeError\u001b[0m: set_ticks() missing 1 required positional argument: 'ticks'"
         ]
        }
       ]
      }
     },
     "30267250b2b24851b8a591cd4630577c": {
      "model_module": "@jupyter-widgets/controls",
      "model_module_version": "1.5.0",
      "model_name": "DescriptionStyleModel",
      "state": {
       "description_width": "initial"
      }
     },
     "30c17b3e024d4910b547bc4dd163efa5": {
      "model_module": "@jupyter-widgets/controls",
      "model_module_version": "1.5.0",
      "model_name": "FloatSliderModel",
      "state": {
       "description": "AHP_Voltage",
       "layout": "IPY_MODEL_09acbd70c7b043139987e21e170afe3c",
       "max": -30,
       "min": -90,
       "step": 2,
       "style": "IPY_MODEL_24b379ad3aa547af8dc2976290841a1c",
       "value": -80
      }
     },
     "30da49e8a9ce479a9bd39fe377e0718c": {
      "model_module": "@jupyter-widgets/base",
      "model_module_version": "1.2.0",
      "model_name": "LayoutModel",
      "state": {
       "width": "600px"
      }
     },
     "31643235148048e29e5024844a8962f0": {
      "model_module": "@jupyter-widgets/controls",
      "model_module_version": "1.5.0",
      "model_name": "SliderStyleModel",
      "state": {
       "description_width": ""
      }
     },
     "318481aea79e403089101d1e6ddb83c0": {
      "model_module": "@jupyter-widgets/controls",
      "model_module_version": "1.5.0",
      "model_name": "FloatSliderModel",
      "state": {
       "description": "tau (msec)",
       "layout": "IPY_MODEL_b39474fc9e59476db05c51806fdc1b3c",
       "min": 1,
       "style": "IPY_MODEL_4964657ae82641d8820c951cc553db8a",
       "value": 38
      }
     },
     "318ee8b4a33c4d98b021ef075a7866cf": {
      "model_module": "@jupyter-widgets/controls",
      "model_module_version": "1.5.0",
      "model_name": "VBoxModel",
      "state": {
       "_dom_classes": [
        "widget-interact"
       ],
       "children": [
        "IPY_MODEL_ba35aa697a4548abaedec5c7138e0486",
        "IPY_MODEL_e787200185694e94914c0d0c5d288d3b",
        "IPY_MODEL_8c88af5072414af68d4bef9ee78663e3",
        "IPY_MODEL_82719c95158a4f32bb82a9ef60e9ec73",
        "IPY_MODEL_0a58e1c2115d4d81b22939fef572c410"
       ],
       "layout": "IPY_MODEL_081d08a5fc14414ba116da366a83a82a"
      }
     },
     "31ca0744c3344f1daadf8a3fff478348": {
      "model_module": "@jupyter-widgets/base",
      "model_module_version": "1.2.0",
      "model_name": "LayoutModel",
      "state": {}
     },
     "32085102a1564eea8ca0313c230aaaa2": {
      "model_module": "@jupyter-widgets/controls",
      "model_module_version": "1.5.0",
      "model_name": "FloatSliderModel",
      "state": {
       "description": "current_injection",
       "layout": "IPY_MODEL_09acbd70c7b043139987e21e170afe3c",
       "max": 1000,
       "step": 2,
       "style": "IPY_MODEL_20e91b0de6934e1a93563bb7e5260145",
       "value": 50
      }
     },
     "321e2cf8b2d34aa58ae528666738868d": {
      "model_module": "@jupyter-widgets/controls",
      "model_module_version": "1.5.0",
      "model_name": "FloatSliderModel",
      "state": {
       "continuous_update": false,
       "description": "R1",
       "layout": "IPY_MODEL_e29623d79dfb4db9a00e6298337f9b68",
       "min": 1,
       "style": "IPY_MODEL_92c4f22301ea45dfb205042bcf44d53d",
       "value": 1
      }
     },
     "32da0b1fd9714395a1530bf4b62aa685": {
      "model_module": "@jupyter-widgets/controls",
      "model_module_version": "1.5.0",
      "model_name": "VBoxModel",
      "state": {
       "_dom_classes": [
        "widget-interact"
       ],
       "children": [
        "IPY_MODEL_997ea057a82b461c9a866997ba108341",
        "IPY_MODEL_76fe7b80d8154a828c2a8d0c7f6299f4",
        "IPY_MODEL_eec86db00f48420c8aaa391ae6756602",
        "IPY_MODEL_119d2ed6d35d4516828b8a10c4787dfc",
        "IPY_MODEL_84e0de11ca684cd0ab8c1eec0376d9ff"
       ],
       "layout": "IPY_MODEL_a04fbbce8b3344a380a6571fabbc4085"
      }
     },
     "3316b13dd5e243ec87fc1cf061334e40": {
      "model_module": "@jupyter-widgets/controls",
      "model_module_version": "1.5.0",
      "model_name": "FloatSliderModel",
      "state": {
       "description": "eq. Voltage (millivolts)",
       "layout": "IPY_MODEL_26abdc90e3cf44279562a09e2120e990",
       "min": -100,
       "step": 10,
       "style": "IPY_MODEL_91b964cd3d7a4859af7f62ea89455334"
      }
     },
     "3328a870ece94c58bddce110214843cc": {
      "model_module": "@jupyter-widgets/base",
      "model_module_version": "1.2.0",
      "model_name": "LayoutModel",
      "state": {
       "width": "600px"
      }
     },
     "343c1c84684248d2add396d9be212d94": {
      "model_module": "@jupyter-widgets/controls",
      "model_module_version": "1.5.0",
      "model_name": "FloatSliderModel",
      "state": {
       "description": "Leak_Conductance",
       "layout": "IPY_MODEL_09acbd70c7b043139987e21e170afe3c",
       "max": 50,
       "min": 1,
       "step": 2,
       "style": "IPY_MODEL_535ca2e9bf1f44ad975e6f9a0370d822",
       "value": 9
      }
     },
     "343f3508df9340b2b37f0382a69faaf5": {
      "model_module": "@jupyter-widgets/controls",
      "model_module_version": "1.5.0",
      "model_name": "VBoxModel",
      "state": {
       "_dom_classes": [
        "widget-interact"
       ],
       "layout": "IPY_MODEL_7f1e7df92b174b0aab46378b09de615b"
      }
     },
     "346b809bdad84ac68bd3b2e48f445c2f": {
      "model_module": "@jupyter-widgets/base",
      "model_module_version": "1.2.0",
      "model_name": "LayoutModel",
      "state": {}
     },
     "34ef53da8239438da71a91988ec88670": {
      "model_module": "@jupyter-widgets/controls",
      "model_module_version": "1.5.0",
      "model_name": "FloatSliderModel",
      "state": {
       "continuous_update": false,
       "description": "R1",
       "layout": "IPY_MODEL_6fa6c947ac5f437eaa50ecc544ebf640",
       "min": 1,
       "style": "IPY_MODEL_e959c946494c4ed7b17bd91d10a69fea",
       "value": 1
      }
     },
     "35980c21a68b4fbf918e4de1f3edfe48": {
      "model_module": "@jupyter-widgets/controls",
      "model_module_version": "1.5.0",
      "model_name": "SliderStyleModel",
      "state": {
       "description_width": ""
      }
     },
     "360b2a6e5df94fbc988a0b7163a8f99c": {
      "model_module": "@jupyter-widgets/base",
      "model_module_version": "1.2.0",
      "model_name": "LayoutModel",
      "state": {
       "width": "600px"
      }
     },
     "364c01b7216245ffafc275572d0920a3": {
      "model_module": "@jupyter-widgets/base",
      "model_module_version": "1.2.0",
      "model_name": "LayoutModel",
      "state": {
       "width": "600px"
      }
     },
     "3664d74b9230429b97d7c729a3c8e3a6": {
      "model_module": "@jupyter-widgets/controls",
      "model_module_version": "1.5.0",
      "model_name": "FloatSliderModel",
      "state": {
       "description": "eq. Voltage (millivolts)",
       "layout": "IPY_MODEL_a7908935f137499ea4af8be1f04d1add",
       "min": -100,
       "step": 10,
       "style": "IPY_MODEL_b3a6b5c95b564244a7300f2676a53295"
      }
     },
     "3666b447581d46f994511209748dcffe": {
      "model_module": "@jupyter-widgets/controls",
      "model_module_version": "1.5.0",
      "model_name": "FloatSliderModel",
      "state": {
       "description": "eq. Voltage (millivolts)",
       "layout": "IPY_MODEL_512f414e49114b8c9cd44d1e0d2fd4fc",
       "min": -100,
       "step": 10,
       "style": "IPY_MODEL_77d62f04cee644fdbf3f42dc0cba7e79"
      }
     },
     "37f03ecfc2bd4547bc4415a69d695b75": {
      "model_module": "@jupyter-widgets/controls",
      "model_module_version": "1.5.0",
      "model_name": "SliderStyleModel",
      "state": {
       "description_width": ""
      }
     },
     "38985ca825ac40c1a0861fd5ca1dc6c4": {
      "model_module": "@jupyter-widgets/controls",
      "model_module_version": "1.5.0",
      "model_name": "DescriptionStyleModel",
      "state": {
       "description_width": ""
      }
     },
     "38d1819db4c24013a239e190f33254a1": {
      "model_module": "@jupyter-widgets/controls",
      "model_module_version": "1.5.0",
      "model_name": "SliderStyleModel",
      "state": {
       "description_width": ""
      }
     },
     "39ec0e90d2154f339056a9a2edb396eb": {
      "model_module": "@jupyter-widgets/controls",
      "model_module_version": "1.5.0",
      "model_name": "FloatSliderModel",
      "state": {
       "continuous_update": false,
       "description": "E2",
       "layout": "IPY_MODEL_dcb21d77fc6f479c8d29c300f7601717",
       "min": -100,
       "style": "IPY_MODEL_7ed1608848d3420f857a238cdba27e4d"
      }
     },
     "39ecc596c413496ca04d9e3ac2d09d51": {
      "model_module": "@jupyter-widgets/controls",
      "model_module_version": "1.5.0",
      "model_name": "SliderStyleModel",
      "state": {
       "description_width": ""
      }
     },
     "39fbdcb212d142549fd5b61d259725ff": {
      "model_module": "@jupyter-widgets/controls",
      "model_module_version": "1.5.0",
      "model_name": "FloatSliderModel",
      "state": {
       "description": "eq. Voltage (millivolts)",
       "layout": "IPY_MODEL_24b5880f66e3460f8f4f073d2fe7d705",
       "min": -100,
       "step": 10,
       "style": "IPY_MODEL_9f5169ae836242f7a167c36b7419dbe9",
       "value": -30
      }
     },
     "3a107bfa6296402e9200017dd365215c": {
      "model_module": "@jupyter-widgets/base",
      "model_module_version": "1.2.0",
      "model_name": "LayoutModel",
      "state": {}
     },
     "3ae9081ecaf34b4994291a21bf888951": {
      "model_module": "@jupyter-widgets/controls",
      "model_module_version": "1.5.0",
      "model_name": "SliderStyleModel",
      "state": {
       "description_width": ""
      }
     },
     "3b07d480144e46c4ae7f67238cb5f273": {
      "model_module": "@jupyter-widgets/controls",
      "model_module_version": "1.5.0",
      "model_name": "SliderStyleModel",
      "state": {
       "description_width": ""
      }
     },
     "3b41693e2a074182b4955d84f8894c09": {
      "model_module": "@jupyter-widgets/controls",
      "model_module_version": "1.5.0",
      "model_name": "FloatSliderModel",
      "state": {
       "description": "I (pA)",
       "layout": "IPY_MODEL_1c683635fae94a9885e9c36fc068f263",
       "max": 500,
       "style": "IPY_MODEL_741b8056642d4a3f992f932a5b05ec0f",
       "value": 124
      }
     },
     "3c3de3673de5488ba9b9b44a996492c3": {
      "model_module": "@jupyter-widgets/controls",
      "model_module_version": "1.5.0",
      "model_name": "SliderStyleModel",
      "state": {
       "description_width": ""
      }
     },
     "3c4e1e924b804ee69ecce2f3b3d00652": {
      "model_module": "@jupyter-widgets/controls",
      "model_module_version": "1.5.0",
      "model_name": "DescriptionStyleModel",
      "state": {
       "description_width": ""
      }
     },
     "3c798da4ec0b4dd4b78911b348a73b52": {
      "model_module": "@jupyter-widgets/base",
      "model_module_version": "1.2.0",
      "model_name": "LayoutModel",
      "state": {
       "width": "600px"
      }
     },
     "3cfe6e470204430586b7b5feec407abe": {
      "model_module": "@jupyter-widgets/output",
      "model_module_version": "1.0.0",
      "model_name": "OutputModel",
      "state": {
       "layout": "IPY_MODEL_6137ebbf0e5241cd832827ca188e9022",
       "outputs": [
        {
         "data": {
          "image/png": "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\n",
          "text/plain": "<Figure size 720x360 with 1 Axes>"
         },
         "metadata": {
          "image/png": {
           "height": 341,
           "width": 702
          },
          "needs_background": "light"
         },
         "output_type": "display_data"
        }
       ]
      }
     },
     "3d318d136fb949efa24b62585b35b0bb": {
      "model_module": "@jupyter-widgets/controls",
      "model_module_version": "1.5.0",
      "model_name": "DescriptionStyleModel",
      "state": {
       "description_width": ""
      }
     },
     "3da0adebe8c3439aa85e79d1a700c6b5": {
      "model_module": "@jupyter-widgets/controls",
      "model_module_version": "1.5.0",
      "model_name": "FloatSliderModel",
      "state": {
       "description": "C (pF)",
       "layout": "IPY_MODEL_54928a3d55e54e31ad489aacdf50137f",
       "max": 1000,
       "min": 1,
       "step": 0.1,
       "style": "IPY_MODEL_c45c7e67109d476dabdeb19fd32d1ba8",
       "value": 100
      }
     },
     "3e01de03a14149718e38098b3df891b0": {
      "model_module": "@jupyter-widgets/controls",
      "model_module_version": "1.5.0",
      "model_name": "SliderStyleModel",
      "state": {
       "description_width": ""
      }
     },
     "3e55ea9d6e9244af9f3ccfd3f25198ba": {
      "model_module": "@jupyter-widgets/controls",
      "model_module_version": "1.5.0",
      "model_name": "FloatSliderModel",
      "state": {
       "description": "AHP_Voltage",
       "layout": "IPY_MODEL_09acbd70c7b043139987e21e170afe3c",
       "max": -30,
       "min": -90,
       "step": 2,
       "style": "IPY_MODEL_daf7491b76104a6eb222c4792301b5ab",
       "value": -80
      }
     },
     "3e5d467d70984f84ae2825a2ce8e4664": {
      "model_module": "@jupyter-widgets/controls",
      "model_module_version": "1.5.0",
      "model_name": "CheckboxModel",
      "state": {
       "description": "current step (vs continuous)",
       "disabled": false,
       "layout": "IPY_MODEL_09acbd70c7b043139987e21e170afe3c",
       "style": "IPY_MODEL_b17ecd8257f743f6b687842c8576bf06",
       "value": true
      }
     },
     "3e87431b905b452085d44a6a77282de4": {
      "model_module": "@jupyter-widgets/controls",
      "model_module_version": "1.5.0",
      "model_name": "SliderStyleModel",
      "state": {
       "description_width": ""
      }
     },
     "3f0566a7b2ed4b9dadda4f43ac0a540b": {
      "model_module": "@jupyter-widgets/base",
      "model_module_version": "1.2.0",
      "model_name": "LayoutModel",
      "state": {
       "width": "600px"
      }
     },
     "4007abbb44924189b14e399222cc87e1": {
      "model_module": "@jupyter-widgets/output",
      "model_module_version": "1.0.0",
      "model_name": "OutputModel",
      "state": {
       "layout": "IPY_MODEL_d6b4f3a4506c4bd490ffc0040622e42c",
       "outputs": [
        {
         "data": {
          "image/png": "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\n",
          "text/plain": "<Figure size 720x360 with 1 Axes>"
         },
         "metadata": {
          "image/png": {
           "height": 341,
           "width": 702
          },
          "needs_background": "light"
         },
         "output_type": "display_data"
        }
       ]
      }
     },
     "4023b39f72524d3abe6679dcc7961758": {
      "model_module": "@jupyter-widgets/controls",
      "model_module_version": "1.5.0",
      "model_name": "DescriptionStyleModel",
      "state": {
       "description_width": ""
      }
     },
     "403361302f214d70ac20f9307b2a3672": {
      "model_module": "@jupyter-widgets/controls",
      "model_module_version": "1.5.0",
      "model_name": "FloatSliderModel",
      "state": {
       "continuous_update": false,
       "description": "E2 (mV)",
       "layout": "IPY_MODEL_90222f91f6eb4ab3961d432498b84d07",
       "min": -100,
       "style": "IPY_MODEL_6d7a8bac08254ca9b2a1fcc3dcb9d5a4"
      }
     },
     "409327dd79fc4c94a51022ee88d8bd75": {
      "model_module": "@jupyter-widgets/controls",
      "model_module_version": "1.5.0",
      "model_name": "VBoxModel",
      "state": {
       "_dom_classes": [
        "widget-interact"
       ],
       "children": [
        "IPY_MODEL_c5d88cce868543d588d35f474300e79b",
        "IPY_MODEL_57c4696252e841e0be52c4959754a167",
        "IPY_MODEL_01e4a6bd549448e9a258b9be47f069a5",
        "IPY_MODEL_0267653ff451486582ba2d81f2cd6ccc",
        "IPY_MODEL_7696b603f8e44a7c95883a4ed6985b49"
       ],
       "layout": "IPY_MODEL_db94818b84d04634a26129fcec750091"
      }
     },
     "40a4db24169444819e9539e86cc62b41": {
      "model_module": "@jupyter-widgets/controls",
      "model_module_version": "1.5.0",
      "model_name": "SliderStyleModel",
      "state": {
       "description_width": ""
      }
     },
     "41f69f2ad9344ff79839c654d99b09bc": {
      "model_module": "@jupyter-widgets/controls",
      "model_module_version": "1.5.0",
      "model_name": "SliderStyleModel",
      "state": {
       "description_width": "initial"
      }
     },
     "41f873d0aa4d41abbbac188c6388cb7e": {
      "model_module": "@jupyter-widgets/controls",
      "model_module_version": "1.5.0",
      "model_name": "FloatSliderModel",
      "state": {
       "continuous_update": false,
       "description": "R2",
       "layout": "IPY_MODEL_501711371a3f43f0be50874a3fc1cfdc",
       "min": 1,
       "style": "IPY_MODEL_7d7aed233a2a4fc4be01ac4f6e1f7408",
       "value": 1
      }
     },
     "4290a7472f37411aa7ff5dfaa7f17175": {
      "model_module": "@jupyter-widgets/controls",
      "model_module_version": "1.5.0",
      "model_name": "DescriptionStyleModel",
      "state": {
       "description_width": ""
      }
     },
     "42ae54e9a7714e3d8359ae89d371a3c4": {
      "model_module": "@jupyter-widgets/base",
      "model_module_version": "1.2.0",
      "model_name": "LayoutModel",
      "state": {
       "width": "600px"
      }
     },
     "432f9ce8a8044ce58126b627d93c7f23": {
      "model_module": "@jupyter-widgets/controls",
      "model_module_version": "1.5.0",
      "model_name": "DescriptionStyleModel",
      "state": {
       "description_width": ""
      }
     },
     "43e06f8d9ced482ca43a39235f85c91f": {
      "model_module": "@jupyter-widgets/base",
      "model_module_version": "1.2.0",
      "model_name": "LayoutModel",
      "state": {
       "width": "600px"
      }
     },
     "443a9c00fac54753848b8971ef8ad250": {
      "model_module": "@jupyter-widgets/controls",
      "model_module_version": "1.5.0",
      "model_name": "FloatSliderModel",
      "state": {
       "description": "Leak_Reversal",
       "layout": "IPY_MODEL_09acbd70c7b043139987e21e170afe3c",
       "max": -30,
       "min": -90,
       "step": 2,
       "style": "IPY_MODEL_9e03d8a5b6ae49f3b0ed4ce742dff7ce",
       "value": -75
      }
     },
     "447b913bd6c949d990e82a9f569c6944": {
      "model_module": "@jupyter-widgets/controls",
      "model_module_version": "1.5.0",
      "model_name": "SliderStyleModel",
      "state": {
       "description_width": ""
      }
     },
     "4480ee62774c40b995c5735ceabe1fca": {
      "model_module": "@jupyter-widgets/controls",
      "model_module_version": "1.5.0",
      "model_name": "SliderStyleModel",
      "state": {
       "description_width": ""
      }
     },
     "449e39583c7d4c65931cb26862bb60a0": {
      "model_module": "@jupyter-widgets/controls",
      "model_module_version": "1.5.0",
      "model_name": "FloatSliderModel",
      "state": {
       "continuous_update": false,
       "description": "E2",
       "layout": "IPY_MODEL_ae4d998d55234128a4e9db6b2af253dd",
       "min": -100,
       "style": "IPY_MODEL_1b93c3d74076407fbaec2873ade427c2"
      }
     },
     "45ce4b46455f464bbc61d29844bbec0c": {
      "model_module": "@jupyter-widgets/controls",
      "model_module_version": "1.5.0",
      "model_name": "FloatSliderModel",
      "state": {
       "description": "R (MOhm)",
       "layout": "IPY_MODEL_360b2a6e5df94fbc988a0b7163a8f99c",
       "max": 1000,
       "step": 10,
       "style": "IPY_MODEL_7c2b1ca590c74710a812345f6ef95fcf",
       "value": 100
      }
     },
     "4642be09e3504bb787464bddfefe48d1": {
      "model_module": "@jupyter-widgets/base",
      "model_module_version": "1.2.0",
      "model_name": "LayoutModel",
      "state": {}
     },
     "469a4fae56a74e04a597a0188b9cd664": {
      "model_module": "@jupyter-widgets/output",
      "model_module_version": "1.0.0",
      "model_name": "OutputModel",
      "state": {
       "layout": "IPY_MODEL_4642be09e3504bb787464bddfefe48d1"
      }
     },
     "46a38d6869f044ebb2b1af8c14c1acdf": {
      "model_module": "@jupyter-widgets/controls",
      "model_module_version": "1.5.0",
      "model_name": "FloatSliderModel",
      "state": {
       "description": "R (MOhm)",
       "layout": "IPY_MODEL_acd87ce3bceb4b4aa880d5da48daa734",
       "max": 1000,
       "step": 10,
       "style": "IPY_MODEL_495b4f4eb10948a0804ddc5b93b5ea59",
       "value": 190
      }
     },
     "479f9ecd18754d1d9dee538503f7283b": {
      "model_module": "@jupyter-widgets/controls",
      "model_module_version": "1.5.0",
      "model_name": "FloatSliderModel",
      "state": {
       "description": "C (pF)",
       "layout": "IPY_MODEL_c87678e48c8740739f9ba58f26a8c601",
       "max": 1000,
       "min": 1,
       "step": 0.1,
       "style": "IPY_MODEL_19f5a25efc7d4f2eae9209e6b29524dc",
       "value": 442.7
      }
     },
     "47bf45b00fb94230a667a85e196bac25": {
      "model_module": "@jupyter-widgets/controls",
      "model_module_version": "1.5.0",
      "model_name": "FloatSliderModel",
      "state": {
       "description": "R (MOhm)",
       "layout": "IPY_MODEL_194853254abe4566b32679c1a80295da",
       "max": 1000,
       "step": 10,
       "style": "IPY_MODEL_e7582e5cbb364eb29edbeefa4a20ec73",
       "value": 100
      }
     },
     "484b99defff244e291b9de7ce865a030": {
      "model_module": "@jupyter-widgets/controls",
      "model_module_version": "1.5.0",
      "model_name": "SliderStyleModel",
      "state": {
       "description_width": ""
      }
     },
     "48a74572c7be4a058cdcd9c194f2adb2": {
      "model_module": "@jupyter-widgets/controls",
      "model_module_version": "1.5.0",
      "model_name": "SliderStyleModel",
      "state": {
       "description_width": ""
      }
     },
     "48b8aa0bf7894a3887fa86f4880621d0": {
      "model_module": "@jupyter-widgets/controls",
      "model_module_version": "1.5.0",
      "model_name": "FloatSliderModel",
      "state": {
       "continuous_update": false,
       "description": "E1",
       "layout": "IPY_MODEL_b6582c3874e34ca7b378151ff561a799",
       "min": -100,
       "style": "IPY_MODEL_ac831fc415a541469ba4e516a4a5f43f",
       "value": 44
      }
     },
     "493df70216e545229960e2f5ed757187": {
      "model_module": "@jupyter-widgets/controls",
      "model_module_version": "1.5.0",
      "model_name": "FloatSliderModel",
      "state": {
       "description": "Leak_Conductance",
       "layout": "IPY_MODEL_09acbd70c7b043139987e21e170afe3c",
       "max": 50,
       "min": 1,
       "step": 2,
       "style": "IPY_MODEL_d630b06c56c94db49dfb4174cb0c7d29",
       "value": 10
      }
     },
     "4954ebc3e5834fa18b8ce40ba79ee175": {
      "model_module": "@jupyter-widgets/controls",
      "model_module_version": "1.5.0",
      "model_name": "SliderStyleModel",
      "state": {
       "description_width": ""
      }
     },
     "495b4f4eb10948a0804ddc5b93b5ea59": {
      "model_module": "@jupyter-widgets/controls",
      "model_module_version": "1.5.0",
      "model_name": "SliderStyleModel",
      "state": {
       "description_width": ""
      }
     },
     "4964657ae82641d8820c951cc553db8a": {
      "model_module": "@jupyter-widgets/controls",
      "model_module_version": "1.5.0",
      "model_name": "SliderStyleModel",
      "state": {
       "description_width": ""
      }
     },
     "496c5cf8d2bb467bbabd3be90d12ffec": {
      "model_module": "@jupyter-widgets/base",
      "model_module_version": "1.2.0",
      "model_name": "LayoutModel",
      "state": {
       "width": "600px"
      }
     },
     "4985af68d67942e7a1033ed85ea22bff": {
      "model_module": "@jupyter-widgets/base",
      "model_module_version": "1.2.0",
      "model_name": "LayoutModel",
      "state": {
       "width": "600px"
      }
     },
     "49af031de3ad4072a11e9c7afe585ff8": {
      "model_module": "@jupyter-widgets/base",
      "model_module_version": "1.2.0",
      "model_name": "LayoutModel",
      "state": {
       "width": "600px"
      }
     },
     "4a0c822157be48d1a6d76d3bda9ab82f": {
      "model_module": "@jupyter-widgets/base",
      "model_module_version": "1.2.0",
      "model_name": "LayoutModel",
      "state": {
       "width": "600px"
      }
     },
     "4ab13df00cac43199d5a557449758eb1": {
      "model_module": "@jupyter-widgets/controls",
      "model_module_version": "1.5.0",
      "model_name": "SliderStyleModel",
      "state": {
       "description_width": ""
      }
     },
     "4ac9dc0e5adf485e9845c4d9990abc3b": {
      "model_module": "@jupyter-widgets/controls",
      "model_module_version": "1.5.0",
      "model_name": "SliderStyleModel",
      "state": {
       "description_width": ""
      }
     },
     "4af2e7b1887247f3bafb7902a5f496b2": {
      "model_module": "@jupyter-widgets/controls",
      "model_module_version": "1.5.0",
      "model_name": "FloatSliderModel",
      "state": {
       "description": "R (MOhm)",
       "layout": "IPY_MODEL_169549ee6a4e434dbfebc1f8c65cb1b5",
       "max": 1000,
       "step": 10,
       "style": "IPY_MODEL_2539f2913073470fac231215f87d6a5c",
       "value": 270
      }
     },
     "4ba3460e6d8a465cbcbd775c4e26f79e": {
      "model_module": "@jupyter-widgets/base",
      "model_module_version": "1.2.0",
      "model_name": "LayoutModel",
      "state": {
       "width": "600px"
      }
     },
     "4c51d0434b88449ea0ffb828ccaca623": {
      "model_module": "@jupyter-widgets/output",
      "model_module_version": "1.0.0",
      "model_name": "OutputModel",
      "state": {
       "layout": "IPY_MODEL_05bc8332bc7e45d9af97f95fcd17c333"
      }
     },
     "4c543c2a8df945108683060a76988110": {
      "model_module": "@jupyter-widgets/base",
      "model_module_version": "1.2.0",
      "model_name": "LayoutModel",
      "state": {
       "width": "600px"
      }
     },
     "4f46da89daae48e685a83405ecd8b4d9": {
      "model_module": "@jupyter-widgets/base",
      "model_module_version": "1.2.0",
      "model_name": "LayoutModel",
      "state": {}
     },
     "4f510d86485c419fb363d8ed059a7c37": {
      "model_module": "@jupyter-widgets/controls",
      "model_module_version": "1.5.0",
      "model_name": "DescriptionStyleModel",
      "state": {
       "description_width": ""
      }
     },
     "4fb998c1186d4964b969496385792641": {
      "model_module": "@jupyter-widgets/controls",
      "model_module_version": "1.5.0",
      "model_name": "FloatSliderModel",
      "state": {
       "description": "Equilibrium Potential (mV)",
       "layout": "IPY_MODEL_fd287c9d35774189acf50b4c819c692a",
       "min": -100,
       "step": 10,
       "style": "IPY_MODEL_3b07d480144e46c4ae7f67238cb5f273"
      }
     },
     "501711371a3f43f0be50874a3fc1cfdc": {
      "model_module": "@jupyter-widgets/base",
      "model_module_version": "1.2.0",
      "model_name": "LayoutModel",
      "state": {
       "width": "600px"
      }
     },
     "50621251402d406c9387d49b113df1ee": {
      "model_module": "@jupyter-widgets/base",
      "model_module_version": "1.2.0",
      "model_name": "LayoutModel",
      "state": {
       "width": "600px"
      }
     },
     "507dbad8a33f4fdfa6bb1e63f59018ff": {
      "model_module": "@jupyter-widgets/controls",
      "model_module_version": "1.5.0",
      "model_name": "FloatSliderModel",
      "state": {
       "description": "I (pA)",
       "layout": "IPY_MODEL_4ba3460e6d8a465cbcbd775c4e26f79e",
       "max": 500,
       "style": "IPY_MODEL_50fe34a3ab1e4e85be80c2faa2b5b14d",
       "value": 132
      }
     },
     "50d99d92cd0f40b88f6044d37b5d8a16": {
      "model_module": "@jupyter-widgets/base",
      "model_module_version": "1.2.0",
      "model_name": "LayoutModel",
      "state": {
       "width": "600px"
      }
     },
     "50fe34a3ab1e4e85be80c2faa2b5b14d": {
      "model_module": "@jupyter-widgets/controls",
      "model_module_version": "1.5.0",
      "model_name": "SliderStyleModel",
      "state": {
       "description_width": ""
      }
     },
     "512f414e49114b8c9cd44d1e0d2fd4fc": {
      "model_module": "@jupyter-widgets/base",
      "model_module_version": "1.2.0",
      "model_name": "LayoutModel",
      "state": {
       "width": "600px"
      }
     },
     "51c52eab913e436fafb7e8888144986f": {
      "model_module": "@jupyter-widgets/base",
      "model_module_version": "1.2.0",
      "model_name": "LayoutModel",
      "state": {
       "width": "600px"
      }
     },
     "52241004214e41c594039b8caeb583dc": {
      "model_module": "@jupyter-widgets/base",
      "model_module_version": "1.2.0",
      "model_name": "LayoutModel",
      "state": {
       "width": "600px"
      }
     },
     "52b0d5cfb50348fe87f7e808640b6344": {
      "model_module": "@jupyter-widgets/controls",
      "model_module_version": "1.5.0",
      "model_name": "SliderStyleModel",
      "state": {
       "description_width": ""
      }
     },
     "52b29ff703bc40de923372ceb29af0a5": {
      "model_module": "@jupyter-widgets/base",
      "model_module_version": "1.2.0",
      "model_name": "LayoutModel",
      "state": {
       "width": "600px"
      }
     },
     "52cfd1fe85b040079d1ea0a9d1876c1f": {
      "model_module": "@jupyter-widgets/controls",
      "model_module_version": "1.5.0",
      "model_name": "FloatSliderModel",
      "state": {
       "description": "R (MOhm)",
       "layout": "IPY_MODEL_c97594dbb3394a69ae7816b29fa9b2d2",
       "max": 1000,
       "step": 10,
       "style": "IPY_MODEL_93249b5846aa44828f2870c4cd9aca6c",
       "value": 610
      }
     },
     "535ca2e9bf1f44ad975e6f9a0370d822": {
      "model_module": "@jupyter-widgets/controls",
      "model_module_version": "1.5.0",
      "model_name": "SliderStyleModel",
      "state": {
       "description_width": "initial"
      }
     },
     "53b5c588ab2e462cb959470edec29bac": {
      "model_module": "@jupyter-widgets/controls",
      "model_module_version": "1.5.0",
      "model_name": "FloatSliderModel",
      "state": {
       "description": "current_injection",
       "layout": "IPY_MODEL_09acbd70c7b043139987e21e170afe3c",
       "max": 1000,
       "step": 2,
       "style": "IPY_MODEL_1953c31370bb421a9ab6ac7a8ba055ec",
       "value": 196
      }
     },
     "54928a3d55e54e31ad489aacdf50137f": {
      "model_module": "@jupyter-widgets/base",
      "model_module_version": "1.2.0",
      "model_name": "LayoutModel",
      "state": {
       "width": "600px"
      }
     },
     "549de760e2364b669120b0930926838e": {
      "model_module": "@jupyter-widgets/controls",
      "model_module_version": "1.5.0",
      "model_name": "SliderStyleModel",
      "state": {
       "description_width": ""
      }
     },
     "54c5dd3148f4489fabba376cefde9998": {
      "model_module": "@jupyter-widgets/base",
      "model_module_version": "1.2.0",
      "model_name": "LayoutModel",
      "state": {
       "width": "600px"
      }
     },
     "54ea9245724842618e357500acd61b4f": {
      "model_module": "@jupyter-widgets/controls",
      "model_module_version": "1.5.0",
      "model_name": "LabelModel",
      "state": {
       "layout": "IPY_MODEL_5ac8f97ad4244af785e23315b05ef0e6",
       "style": "IPY_MODEL_c4366a50e8ed4126bcbb1dc4dae4d676",
       "value": "tau = 0.010 seconds"
      }
     },
     "5583439d10c04252a0a058413232f7c4": {
      "model_module": "@jupyter-widgets/controls",
      "model_module_version": "1.5.0",
      "model_name": "FloatSliderModel",
      "state": {
       "continuous_update": false,
       "description": "R1 (MOhm)",
       "layout": "IPY_MODEL_d6718923346e4293907844780873187b",
       "min": 1,
       "style": "IPY_MODEL_8b2a861002a34445b3eef1faf02e3781",
       "value": 1
      }
     },
     "55a44e120d244fabb435421c4636eb83": {
      "model_module": "@jupyter-widgets/base",
      "model_module_version": "1.2.0",
      "model_name": "LayoutModel",
      "state": {}
     },
     "55b3313e515e4119a8833d862694706c": {
      "model_module": "@jupyter-widgets/base",
      "model_module_version": "1.2.0",
      "model_name": "LayoutModel",
      "state": {
       "width": "600px"
      }
     },
     "55e756c087e7436a9723434846bd75db": {
      "model_module": "@jupyter-widgets/base",
      "model_module_version": "1.2.0",
      "model_name": "LayoutModel",
      "state": {
       "width": "600px"
      }
     },
     "5606c1c5e26e44a58c2014a52edeadaf": {
      "model_module": "@jupyter-widgets/controls",
      "model_module_version": "1.5.0",
      "model_name": "SliderStyleModel",
      "state": {
       "description_width": ""
      }
     },
     "560fccc7a5bc4703b908f029207ad7f8": {
      "model_module": "@jupyter-widgets/controls",
      "model_module_version": "1.5.0",
      "model_name": "DescriptionStyleModel",
      "state": {
       "description_width": ""
      }
     },
     "56346f32c6a4448d92a716787e0be054": {
      "model_module": "@jupyter-widgets/controls",
      "model_module_version": "1.5.0",
      "model_name": "SliderStyleModel",
      "state": {
       "description_width": ""
      }
     },
     "5692563a599548679dd61921c996f77b": {
      "model_module": "@jupyter-widgets/controls",
      "model_module_version": "1.5.0",
      "model_name": "FloatSliderModel",
      "state": {
       "description": "C (pF)",
       "layout": "IPY_MODEL_a99e11de5d0f4e4da2426141ebc24cb3",
       "max": 1000,
       "min": 1,
       "step": 0.1,
       "style": "IPY_MODEL_549de760e2364b669120b0930926838e",
       "value": 100
      }
     },
     "56bce398b84c44c4afe94f9133ee5135": {
      "model_module": "@jupyter-widgets/controls",
      "model_module_version": "1.5.0",
      "model_name": "FloatSliderModel",
      "state": {
       "description": "C (pF)",
       "layout": "IPY_MODEL_c38c2ce1bc7640088d508fd7fa44a45b",
       "max": 1000,
       "min": 1,
       "step": 0.1,
       "style": "IPY_MODEL_9be80809a62d428499315b31514b374c",
       "value": 100
      }
     },
     "56e8c1048348423e884f3675e8b1b420": {
      "model_module": "@jupyter-widgets/controls",
      "model_module_version": "1.5.0",
      "model_name": "FloatSliderModel",
      "state": {
       "continuous_update": false,
       "description": "E1",
       "layout": "IPY_MODEL_9dd1a1e99a104d74a178c79eddf6e928",
       "min": -100,
       "style": "IPY_MODEL_f92ca768c4454fc3afada7335954033f"
      }
     },
     "570e8da52c39428e8d0b196c9729354b": {
      "model_module": "@jupyter-widgets/controls",
      "model_module_version": "1.5.0",
      "model_name": "SliderStyleModel",
      "state": {
       "description_width": "initial"
      }
     },
     "579b4fdd83e54e36a04b2d23593a50eb": {
      "model_module": "@jupyter-widgets/controls",
      "model_module_version": "1.5.0",
      "model_name": "SliderStyleModel",
      "state": {
       "description_width": ""
      }
     },
     "57c4696252e841e0be52c4959754a167": {
      "model_module": "@jupyter-widgets/controls",
      "model_module_version": "1.5.0",
      "model_name": "FloatSliderModel",
      "state": {
       "description": "R (MOhm)",
       "layout": "IPY_MODEL_16430eb3cc6045bc820bd0afdb7ad016",
       "max": 1000,
       "step": 10,
       "style": "IPY_MODEL_866c1b7a22014db292987f554be57772",
       "value": 100
      }
     },
     "5951cde984314271861882d2703809f6": {
      "model_module": "@jupyter-widgets/controls",
      "model_module_version": "1.5.0",
      "model_name": "DescriptionStyleModel",
      "state": {
       "description_width": ""
      }
     },
     "59bbe61f3f154f898749ca56a840d42f": {
      "model_module": "@jupyter-widgets/controls",
      "model_module_version": "1.5.0",
      "model_name": "VBoxModel",
      "state": {
       "_dom_classes": [
        "widget-interact"
       ],
       "children": [
        "IPY_MODEL_321e2cf8b2d34aa58ae528666738868d",
        "IPY_MODEL_41f873d0aa4d41abbbac188c6388cb7e",
        "IPY_MODEL_25118b3726454ea3916ceed066eead5c",
        "IPY_MODEL_449e39583c7d4c65931cb26862bb60a0",
        "IPY_MODEL_469a4fae56a74e04a597a0188b9cd664"
       ],
       "layout": "IPY_MODEL_6557e2ab6ba3420fbd23a948983a7f23"
      }
     },
     "5a52595f3f0f4e24a5471103f07eaa0f": {
      "model_module": "@jupyter-widgets/controls",
      "model_module_version": "1.5.0",
      "model_name": "SliderStyleModel",
      "state": {
       "description_width": "initial"
      }
     },
     "5a5fe6e2142a4daba5b74921b4c474d8": {
      "model_module": "@jupyter-widgets/base",
      "model_module_version": "1.2.0",
      "model_name": "LayoutModel",
      "state": {
       "width": "600px"
      }
     },
     "5a6e4f9555d049f88810687acc2a0c3d": {
      "model_module": "@jupyter-widgets/controls",
      "model_module_version": "1.5.0",
      "model_name": "LabelModel",
      "state": {
       "layout": "IPY_MODEL_3f0566a7b2ed4b9dadda4f43ac0a540b",
       "style": "IPY_MODEL_b80f105235fc4ff9a32b0757af440a84",
       "value": "tau = 0.0100 seconds"
      }
     },
     "5ac8f97ad4244af785e23315b05ef0e6": {
      "model_module": "@jupyter-widgets/base",
      "model_module_version": "1.2.0",
      "model_name": "LayoutModel",
      "state": {
       "width": "600px"
      }
     },
     "5ae6925bb9764fe9867c50ccb071fb9c": {
      "model_module": "@jupyter-widgets/controls",
      "model_module_version": "1.5.0",
      "model_name": "VBoxModel",
      "state": {
       "_dom_classes": [
        "widget-interact"
       ],
       "children": [
        "IPY_MODEL_f3d25832be0f482086f01aa834746d02",
        "IPY_MODEL_80c7568346984ba99e2932f4e987473c",
        "IPY_MODEL_ded8c04d41b94487aa888370b8d30ffe",
        "IPY_MODEL_00af3730ea9e42eabecb44fa1fe13d62",
        "IPY_MODEL_4c51d0434b88449ea0ffb828ccaca623"
       ],
       "layout": "IPY_MODEL_935e6fc7e71c4f7aa14e2d0e14752e73"
      }
     },
     "5b0788f2c8c24004a0aefa47646d5dfd": {
      "model_module": "@jupyter-widgets/base",
      "model_module_version": "1.2.0",
      "model_name": "LayoutModel",
      "state": {
       "width": "600px"
      }
     },
     "5b33bf7a681147e5aa8659002563a897": {
      "model_module": "@jupyter-widgets/controls",
      "model_module_version": "1.5.0",
      "model_name": "SliderStyleModel",
      "state": {
       "description_width": ""
      }
     },
     "5b5ebbc3a1a24acc824347e9d64ad9a4": {
      "model_module": "@jupyter-widgets/base",
      "model_module_version": "1.2.0",
      "model_name": "LayoutModel",
      "state": {
       "width": "600px"
      }
     },
     "5bf82fa39f37491c8deb2b569e009d44": {
      "model_module": "@jupyter-widgets/controls",
      "model_module_version": "1.5.0",
      "model_name": "FloatSliderModel",
      "state": {
       "description": "Spike_Threshold",
       "layout": "IPY_MODEL_09acbd70c7b043139987e21e170afe3c",
       "max": -30,
       "min": -100,
       "step": 2,
       "style": "IPY_MODEL_efc0ff4fe6464bdea2721fff365439fc",
       "value": -55
      }
     },
     "5ccff72a6a694d8b8c42ab48acf048c2": {
      "model_module": "@jupyter-widgets/output",
      "model_module_version": "1.0.0",
      "model_name": "OutputModel",
      "state": {
       "layout": "IPY_MODEL_134600f53fd04cd9a2a9874783cd16d9",
       "outputs": [
        {
         "ename": "ZeroDivisionError",
         "evalue": "float division by zero",
         "output_type": "error",
         "traceback": [
          "\u001b[0;31m---------------------------------------------------------------------------\u001b[0m",
          "\u001b[0;31mZeroDivisionError\u001b[0m                         Traceback (most recent call last)",
          "File \u001b[0;32m~/opt/anaconda3/envs/neurolab/lib/python3.8/site-packages/ipywidgets/widgets/interaction.py:257\u001b[0m, in \u001b[0;36minteractive.update\u001b[0;34m(self, *args)\u001b[0m\n\u001b[1;32m    255\u001b[0m     value \u001b[38;5;241m=\u001b[39m widget\u001b[38;5;241m.\u001b[39mget_interact_value()\n\u001b[1;32m    256\u001b[0m     \u001b[38;5;28mself\u001b[39m\u001b[38;5;241m.\u001b[39mkwargs[widget\u001b[38;5;241m.\u001b[39m_kwarg] \u001b[38;5;241m=\u001b[39m value\n\u001b[0;32m--> 257\u001b[0m \u001b[38;5;28mself\u001b[39m\u001b[38;5;241m.\u001b[39mresult \u001b[38;5;241m=\u001b[39m \u001b[38;5;28;43mself\u001b[39;49m\u001b[38;5;241;43m.\u001b[39;49m\u001b[43mf\u001b[49m\u001b[43m(\u001b[49m\u001b[38;5;241;43m*\u001b[39;49m\u001b[38;5;241;43m*\u001b[39;49m\u001b[38;5;28;43mself\u001b[39;49m\u001b[38;5;241;43m.\u001b[39;49m\u001b[43mkwargs\u001b[49m\u001b[43m)\u001b[49m\n\u001b[1;32m    258\u001b[0m show_inline_matplotlib_plots()\n\u001b[1;32m    259\u001b[0m \u001b[38;5;28;01mif\u001b[39;00m \u001b[38;5;28mself\u001b[39m\u001b[38;5;241m.\u001b[39mauto_display \u001b[38;5;129;01mand\u001b[39;00m \u001b[38;5;28mself\u001b[39m\u001b[38;5;241m.\u001b[39mresult \u001b[38;5;129;01mis\u001b[39;00m \u001b[38;5;129;01mnot\u001b[39;00m \u001b[38;5;28;01mNone\u001b[39;00m:\n",
          "Input \u001b[0;32mIn [29]\u001b[0m, in \u001b[0;36mupdate_result\u001b[0;34m(R1, R2, E1, E2)\u001b[0m\n\u001b[1;32m     49\u001b[0m \u001b[38;5;28;01mdef\u001b[39;00m \u001b[38;5;21mupdate_result\u001b[39m(R1,R2,E1,E2):\n\u001b[0;32m---> 50\u001b[0m     Vin \u001b[38;5;241m=\u001b[39m \u001b[43mget_Vin\u001b[49m\u001b[43m(\u001b[49m\u001b[43mR1\u001b[49m\u001b[43m,\u001b[49m\u001b[43mR2\u001b[49m\u001b[43m,\u001b[49m\u001b[43mE1\u001b[49m\u001b[43m,\u001b[49m\u001b[43mE2\u001b[49m\u001b[43m)\u001b[49m\n\u001b[1;32m     51\u001b[0m     label_result\u001b[38;5;241m.\u001b[39mvalue\u001b[38;5;241m=\u001b[39m \u001b[38;5;124mf\u001b[39m\u001b[38;5;124m'\u001b[39m\u001b[38;5;124mThe resting membrane potential of the neuron will be: \u001b[39m\u001b[38;5;132;01m{\u001b[39;00mVin\u001b[38;5;132;01m}\u001b[39;00m\u001b[38;5;124m'\u001b[39m\n",
          "Input \u001b[0;32mIn [25]\u001b[0m, in \u001b[0;36mget_Vin\u001b[0;34m(E1, R1, E2, R2)\u001b[0m\n\u001b[1;32m      3\u001b[0m \u001b[38;5;28;01mdef\u001b[39;00m \u001b[38;5;21mget_Vin\u001b[39m(E1,R1,E2,R2):\n\u001b[0;32m----> 5\u001b[0m     Vin \u001b[38;5;241m=\u001b[39m ( (E1\u001b[38;5;241m/\u001b[39mR1) \u001b[38;5;241m+\u001b[39m (\u001b[43mE2\u001b[49m\u001b[38;5;241;43m/\u001b[39;49m\u001b[43mR2\u001b[49m) ) \u001b[38;5;241m/\u001b[39m ( (\u001b[38;5;241m1\u001b[39m\u001b[38;5;241m/\u001b[39mR1) \u001b[38;5;241m+\u001b[39m (\u001b[38;5;241m1\u001b[39m\u001b[38;5;241m/\u001b[39mR2) ) \u001b[38;5;66;03m# Resistance-based\u001b[39;00m\n\u001b[1;32m      7\u001b[0m     \u001b[38;5;28;01mreturn\u001b[39;00m Vin\n",
          "\u001b[0;31mZeroDivisionError\u001b[0m: float division by zero"
         ]
        }
       ]
      }
     },
     "5d0e053dd2714337986a0b4050102713": {
      "model_module": "@jupyter-widgets/base",
      "model_module_version": "1.2.0",
      "model_name": "LayoutModel",
      "state": {
       "width": "600px"
      }
     },
     "5d3991e7fec14d8ca7a46e3c36ae84d0": {
      "model_module": "@jupyter-widgets/controls",
      "model_module_version": "1.5.0",
      "model_name": "SliderStyleModel",
      "state": {
       "description_width": "initial"
      }
     },
     "5d4790dcbcf5478b86ca69e74d63356f": {
      "model_module": "@jupyter-widgets/base",
      "model_module_version": "1.2.0",
      "model_name": "LayoutModel",
      "state": {
       "width": "600px"
      }
     },
     "5d5c152bc98446d6818531e2ef970ab3": {
      "model_module": "@jupyter-widgets/controls",
      "model_module_version": "1.5.0",
      "model_name": "FloatSliderModel",
      "state": {
       "description": "R (MOhm)",
       "layout": "IPY_MODEL_30da49e8a9ce479a9bd39fe377e0718c",
       "max": 1000,
       "step": 10,
       "style": "IPY_MODEL_6d06a5f7f1f5475bb1e88935341e26e7",
       "value": 100
      }
     },
     "5e3a8e0ffdd544dbb7a18d044f62639e": {
      "model_module": "@jupyter-widgets/controls",
      "model_module_version": "1.5.0",
      "model_name": "DescriptionStyleModel",
      "state": {
       "description_width": ""
      }
     },
     "5e5c4c8bbfe648128f503bddbaf98fdd": {
      "model_module": "@jupyter-widgets/controls",
      "model_module_version": "1.5.0",
      "model_name": "SliderStyleModel",
      "state": {
       "description_width": "initial"
      }
     },
     "5e800bb9002c472f83f5a201b93a1857": {
      "model_module": "@jupyter-widgets/controls",
      "model_module_version": "1.5.0",
      "model_name": "FloatSliderModel",
      "state": {
       "description": "C (pF)",
       "layout": "IPY_MODEL_7cfcf8a2136a46adb3dffc14ff9a223d",
       "max": 1000,
       "min": 1,
       "step": 0.1,
       "style": "IPY_MODEL_ad3a37cc0d1f4ae980b84fe5dbd8c575",
       "value": 100
      }
     },
     "5e9421757a1f4cabbd49751f4cf0fd02": {
      "model_module": "@jupyter-widgets/controls",
      "model_module_version": "1.5.0",
      "model_name": "FloatSliderModel",
      "state": {
       "description": "Membrane_Tau",
       "layout": "IPY_MODEL_09acbd70c7b043139987e21e170afe3c",
       "max": 15,
       "min": 1,
       "style": "IPY_MODEL_5a52595f3f0f4e24a5471103f07eaa0f",
       "value": 5
      }
     },
     "5eb0e46a882146bc9b18dc5290fb4f6f": {
      "model_module": "@jupyter-widgets/base",
      "model_module_version": "1.2.0",
      "model_name": "LayoutModel",
      "state": {}
     },
     "5edaf749b9ca420190722fa58bb38e3f": {
      "model_module": "@jupyter-widgets/base",
      "model_module_version": "1.2.0",
      "model_name": "LayoutModel",
      "state": {
       "width": "600px"
      }
     },
     "5f62122e38e4428abf1dc6a35f33c5c4": {
      "model_module": "@jupyter-widgets/controls",
      "model_module_version": "1.5.0",
      "model_name": "VBoxModel",
      "state": {
       "_dom_classes": [
        "widget-interact"
       ],
       "children": [
        "IPY_MODEL_22673c433db74fbc8efc8202ad38db62",
        "IPY_MODEL_12e8581ab66c4bb0b01863328070d557",
        "IPY_MODEL_b3f2adca10d8479385fb33a3a81c6ffe",
        "IPY_MODEL_76fb69737a1b45a4ae72e2a6cc10aab3",
        "IPY_MODEL_d4c1db0e17a3430fb5a61fbefedc34db"
       ],
       "layout": "IPY_MODEL_ba316ea4d80b4ef6b7120d249e7bff3f"
      }
     },
     "6063ddc1f9dd4b98a4ed97de1d32532a": {
      "model_module": "@jupyter-widgets/controls",
      "model_module_version": "1.5.0",
      "model_name": "SliderStyleModel",
      "state": {
       "description_width": "initial"
      }
     },
     "6088ad0ec1b74774b1f8f5ff9934076a": {
      "model_module": "@jupyter-widgets/base",
      "model_module_version": "1.2.0",
      "model_name": "LayoutModel",
      "state": {
       "width": "600px"
      }
     },
     "60ddf7c7c6a747de812c77dbe28d1833": {
      "model_module": "@jupyter-widgets/controls",
      "model_module_version": "1.5.0",
      "model_name": "FloatSliderModel",
      "state": {
       "description": "C (pF)",
       "layout": "IPY_MODEL_43e06f8d9ced482ca43a39235f85c91f",
       "max": 1000,
       "min": 1,
       "step": 0.1,
       "style": "IPY_MODEL_d8c49f270ebb44bc87b000cce52e98ee",
       "value": 100
      }
     },
     "6137ebbf0e5241cd832827ca188e9022": {
      "model_module": "@jupyter-widgets/base",
      "model_module_version": "1.2.0",
      "model_name": "LayoutModel",
      "state": {}
     },
     "61af245850fa48a3b52887e5d053e3f9": {
      "model_module": "@jupyter-widgets/controls",
      "model_module_version": "1.5.0",
      "model_name": "FloatSliderModel",
      "state": {
       "description": "Spike_Threshold",
       "layout": "IPY_MODEL_09acbd70c7b043139987e21e170afe3c",
       "max": -30,
       "min": -100,
       "step": 2,
       "style": "IPY_MODEL_650fa015c9d340dab9905de82c16f272",
       "value": -60
      }
     },
     "62be3eaf3dd2440bbe66a3f5bde8b4ba": {
      "model_module": "@jupyter-widgets/controls",
      "model_module_version": "1.5.0",
      "model_name": "SliderStyleModel",
      "state": {
       "description_width": ""
      }
     },
     "64521d606403403cb6d06615b15cef41": {
      "model_module": "@jupyter-widgets/controls",
      "model_module_version": "1.5.0",
      "model_name": "FloatSliderModel",
      "state": {
       "description": "Current_Step_Duration",
       "layout": "IPY_MODEL_09acbd70c7b043139987e21e170afe3c",
       "max": 200,
       "min": 10,
       "step": 2,
       "style": "IPY_MODEL_982f7e78093348729a5e057e1d0b79e3",
       "value": 168
      }
     },
     "6486e2b7cdf349b68637076fcadef862": {
      "model_module": "@jupyter-widgets/base",
      "model_module_version": "1.2.0",
      "model_name": "LayoutModel",
      "state": {}
     },
     "650fa015c9d340dab9905de82c16f272": {
      "model_module": "@jupyter-widgets/controls",
      "model_module_version": "1.5.0",
      "model_name": "SliderStyleModel",
      "state": {
       "description_width": "initial"
      }
     },
     "65367443b63c44cebad2ff60ef313569": {
      "model_module": "@jupyter-widgets/controls",
      "model_module_version": "1.5.0",
      "model_name": "SliderStyleModel",
      "state": {
       "description_width": "initial"
      }
     },
     "65515d725fff4a20a0e044e083159a5a": {
      "model_module": "@jupyter-widgets/controls",
      "model_module_version": "1.5.0",
      "model_name": "FloatSliderModel",
      "state": {
       "description": "Simulation_Duration",
       "layout": "IPY_MODEL_09acbd70c7b043139987e21e170afe3c",
       "max": 1000,
       "step": 10,
       "style": "IPY_MODEL_986b5a691a9e4916a4496d477d4119e5",
       "value": 400
      }
     },
     "6557e2ab6ba3420fbd23a948983a7f23": {
      "model_module": "@jupyter-widgets/base",
      "model_module_version": "1.2.0",
      "model_name": "LayoutModel",
      "state": {}
     },
     "65754f2b49034ec39d97b31ffaf86462": {
      "model_module": "@jupyter-widgets/controls",
      "model_module_version": "1.5.0",
      "model_name": "LabelModel",
      "state": {
       "layout": "IPY_MODEL_674e9c8651894866b2dde56a7b0ecbbc",
       "style": "IPY_MODEL_0239ace196794eb3a37f9ea4858e2922",
       "value": "The resting membrane potential of the neuron will be: "
      }
     },
     "6581874141c946cbbb6e380069d4e5a4": {
      "model_module": "@jupyter-widgets/base",
      "model_module_version": "1.2.0",
      "model_name": "LayoutModel",
      "state": {}
     },
     "665c83b5540a49df96edebf103669fd9": {
      "model_module": "@jupyter-widgets/controls",
      "model_module_version": "1.5.0",
      "model_name": "FloatSliderModel",
      "state": {
       "continuous_update": false,
       "description": "E2",
       "layout": "IPY_MODEL_54c5dd3148f4489fabba376cefde9998",
       "min": -100,
       "style": "IPY_MODEL_98da1cb335244898a433b50357e8c38a"
      }
     },
     "666670604de34ce081696ff83d3c1960": {
      "model_module": "@jupyter-widgets/controls",
      "model_module_version": "1.5.0",
      "model_name": "LabelModel",
      "state": {
       "layout": "IPY_MODEL_b71a19343b2748ebb77b0bfc597e1419",
       "style": "IPY_MODEL_833d9188c5ea4c0ba7f9c75fb8662f8e",
       "value": "The resting membrane potential of the neuron will be: -17.6"
      }
     },
     "66efe4d4a0884540a4f35e52829ee66c": {
      "model_module": "@jupyter-widgets/controls",
      "model_module_version": "1.5.0",
      "model_name": "DescriptionStyleModel",
      "state": {
       "description_width": ""
      }
     },
     "674e9c8651894866b2dde56a7b0ecbbc": {
      "model_module": "@jupyter-widgets/base",
      "model_module_version": "1.2.0",
      "model_name": "LayoutModel",
      "state": {
       "width": "600px"
      }
     },
     "67c3d30cd19d455b875f749d0e1097bf": {
      "model_module": "@jupyter-widgets/controls",
      "model_module_version": "1.5.0",
      "model_name": "VBoxModel",
      "state": {
       "_dom_classes": [
        "widget-interact"
       ],
       "children": [
        "IPY_MODEL_32085102a1564eea8ca0313c230aaaa2",
        "IPY_MODEL_e1463f17c3fd4e59be379a2a5182e744",
        "IPY_MODEL_3e5d467d70984f84ae2825a2ce8e4664",
        "IPY_MODEL_266059dcfd794c7b8cacc0b7ac91ae82",
        "IPY_MODEL_0d985a482db049578498af38d719bbc3",
        "IPY_MODEL_493df70216e545229960e2f5ed757187",
        "IPY_MODEL_30c17b3e024d4910b547bc4dd163efa5",
        "IPY_MODEL_80e78303297a4937a39ed07912093f85",
        "IPY_MODEL_5e9421757a1f4cabbd49751f4cf0fd02",
        "IPY_MODEL_2fd022b5e7b54667bd87f58eadae9cb5"
       ],
       "layout": "IPY_MODEL_aeac8ef1249f428694cdcf8632534dcb"
      }
     },
     "6862a5b98845464890ea8d097a612915": {
      "model_module": "@jupyter-widgets/controls",
      "model_module_version": "1.5.0",
      "model_name": "FloatSliderModel",
      "state": {
       "continuous_update": false,
       "description": "E1",
       "layout": "IPY_MODEL_74e1893904fd4a78b8fd8604e5275059",
       "min": 1,
       "style": "IPY_MODEL_6bdc734efbad40728289cc17afd8794b",
       "value": 38
      }
     },
     "69dec747a7204167b17ae48e79c5ddcb": {
      "model_module": "@jupyter-widgets/base",
      "model_module_version": "1.2.0",
      "model_name": "LayoutModel",
      "state": {
       "width": "600px"
      }
     },
     "6a20c37af12d4b75b3b9436d7ae35357": {
      "model_module": "@jupyter-widgets/controls",
      "model_module_version": "1.5.0",
      "model_name": "SliderStyleModel",
      "state": {
       "description_width": ""
      }
     },
     "6ac6568656b84dccbdd2b487f7c897d9": {
      "model_module": "@jupyter-widgets/controls",
      "model_module_version": "1.5.0",
      "model_name": "SliderStyleModel",
      "state": {
       "description_width": ""
      }
     },
     "6bdc734efbad40728289cc17afd8794b": {
      "model_module": "@jupyter-widgets/controls",
      "model_module_version": "1.5.0",
      "model_name": "SliderStyleModel",
      "state": {
       "description_width": ""
      }
     },
     "6d06a5f7f1f5475bb1e88935341e26e7": {
      "model_module": "@jupyter-widgets/controls",
      "model_module_version": "1.5.0",
      "model_name": "SliderStyleModel",
      "state": {
       "description_width": ""
      }
     },
     "6d15c5203d9c4d11ba8c85bdaac10926": {
      "model_module": "@jupyter-widgets/base",
      "model_module_version": "1.2.0",
      "model_name": "LayoutModel",
      "state": {}
     },
     "6d31e2b364cd42babb8e3a8143564ce4": {
      "model_module": "@jupyter-widgets/controls",
      "model_module_version": "1.5.0",
      "model_name": "DescriptionStyleModel",
      "state": {
       "description_width": ""
      }
     },
     "6d50401a67af47e5a74eaf239dfb5cec": {
      "model_module": "@jupyter-widgets/controls",
      "model_module_version": "1.5.0",
      "model_name": "SliderStyleModel",
      "state": {
       "description_width": ""
      }
     },
     "6d6fa5cb9bad48c79e13d6b6d4ded396": {
      "model_module": "@jupyter-widgets/controls",
      "model_module_version": "1.5.0",
      "model_name": "SliderStyleModel",
      "state": {
       "description_width": ""
      }
     },
     "6d7a8bac08254ca9b2a1fcc3dcb9d5a4": {
      "model_module": "@jupyter-widgets/controls",
      "model_module_version": "1.5.0",
      "model_name": "SliderStyleModel",
      "state": {
       "description_width": ""
      }
     },
     "6e2cab90ddc940bd87cbbe6bf53060ab": {
      "model_module": "@jupyter-widgets/controls",
      "model_module_version": "1.5.0",
      "model_name": "FloatSliderModel",
      "state": {
       "description": "AHP_Voltage",
       "layout": "IPY_MODEL_09acbd70c7b043139987e21e170afe3c",
       "max": -30,
       "min": -90,
       "step": 2,
       "style": "IPY_MODEL_65367443b63c44cebad2ff60ef313569",
       "value": -68
      }
     },
     "6e6e3ed4466d4eff9d5bbe16c0415bc5": {
      "model_module": "@jupyter-widgets/output",
      "model_module_version": "1.0.0",
      "model_name": "OutputModel",
      "state": {
       "layout": "IPY_MODEL_55a44e120d244fabb435421c4636eb83",
       "outputs": [
        {
         "data": {
          "image/png": "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\n",
          "text/plain": "<Figure size 720x360 with 1 Axes>"
         },
         "metadata": {
          "image/png": {
           "height": 341,
           "width": 702
          },
          "needs_background": "light"
         },
         "output_type": "display_data"
        }
       ]
      }
     },
     "6f31ce363eab4fb596e1588c692e7cd9": {
      "model_module": "@jupyter-widgets/controls",
      "model_module_version": "1.5.0",
      "model_name": "FloatSliderModel",
      "state": {
       "description": "R (MOhm)",
       "layout": "IPY_MODEL_5b0788f2c8c24004a0aefa47646d5dfd",
       "max": 1000,
       "step": 10,
       "style": "IPY_MODEL_f179e9b7c66f45f29497e2dab52fcc53",
       "value": 240
      }
     },
     "6f9ba5aff483462d98241f6aa4556ac9": {
      "model_module": "@jupyter-widgets/controls",
      "model_module_version": "1.5.0",
      "model_name": "DescriptionStyleModel",
      "state": {
       "description_width": ""
      }
     },
     "6fa6c947ac5f437eaa50ecc544ebf640": {
      "model_module": "@jupyter-widgets/base",
      "model_module_version": "1.2.0",
      "model_name": "LayoutModel",
      "state": {
       "width": "600px"
      }
     },
     "6fb30104466c437fbddd43f8eed8deff": {
      "model_module": "@jupyter-widgets/controls",
      "model_module_version": "1.5.0",
      "model_name": "SliderStyleModel",
      "state": {
       "description_width": ""
      }
     },
     "6fc4e8c8178146d1beb46f98d4775240": {
      "model_module": "@jupyter-widgets/controls",
      "model_module_version": "1.5.0",
      "model_name": "FloatSliderModel",
      "state": {
       "continuous_update": false,
       "description": "R2",
       "layout": "IPY_MODEL_f99afe8620664330847d0aedda724890",
       "min": 1,
       "style": "IPY_MODEL_5b33bf7a681147e5aa8659002563a897",
       "value": 1
      }
     },
     "702d8afba68c4763a208585fb0d83f68": {
      "model_module": "@jupyter-widgets/output",
      "model_module_version": "1.0.0",
      "model_name": "OutputModel",
      "state": {
       "layout": "IPY_MODEL_9eebcd1c9e5b4995b6e2b49cb56fc725",
       "outputs": [
        {
         "data": {
          "image/png": "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\n",
          "text/plain": "<Figure size 720x360 with 1 Axes>"
         },
         "metadata": {
          "image/png": {
           "height": 341,
           "width": 702
          },
          "needs_background": "light"
         },
         "output_type": "display_data"
        }
       ]
      }
     },
     "70b9ace41f824852b8065c00656c6ea1": {
      "model_module": "@jupyter-widgets/controls",
      "model_module_version": "1.5.0",
      "model_name": "DescriptionStyleModel",
      "state": {
       "description_width": "initial"
      }
     },
     "70bde894c8c14110a2851ad32a69eb12": {
      "model_module": "@jupyter-widgets/controls",
      "model_module_version": "1.5.0",
      "model_name": "SliderStyleModel",
      "state": {
       "description_width": ""
      }
     },
     "715586ba180c47ab84f3c14648717c53": {
      "model_module": "@jupyter-widgets/base",
      "model_module_version": "1.2.0",
      "model_name": "LayoutModel",
      "state": {}
     },
     "71ea9363534a4440b01cd60a7a0552d9": {
      "model_module": "@jupyter-widgets/controls",
      "model_module_version": "1.5.0",
      "model_name": "SliderStyleModel",
      "state": {
       "description_width": ""
      }
     },
     "72151e7a95754b35b7ebd6a83bc659e4": {
      "model_module": "@jupyter-widgets/controls",
      "model_module_version": "1.5.0",
      "model_name": "SliderStyleModel",
      "state": {
       "description_width": "initial"
      }
     },
     "723b31caacba438ea913eb2a3000544a": {
      "model_module": "@jupyter-widgets/controls",
      "model_module_version": "1.5.0",
      "model_name": "SliderStyleModel",
      "state": {
       "description_width": ""
      }
     },
     "7301b485f5e5416eab63e68b4ad6d0a3": {
      "model_module": "@jupyter-widgets/controls",
      "model_module_version": "1.5.0",
      "model_name": "SliderStyleModel",
      "state": {
       "description_width": ""
      }
     },
     "741b8056642d4a3f992f932a5b05ec0f": {
      "model_module": "@jupyter-widgets/controls",
      "model_module_version": "1.5.0",
      "model_name": "SliderStyleModel",
      "state": {
       "description_width": ""
      }
     },
     "74d31b20312c45feb9de5628650d473b": {
      "model_module": "@jupyter-widgets/base",
      "model_module_version": "1.2.0",
      "model_name": "LayoutModel",
      "state": {}
     },
     "74e1893904fd4a78b8fd8604e5275059": {
      "model_module": "@jupyter-widgets/base",
      "model_module_version": "1.2.0",
      "model_name": "LayoutModel",
      "state": {
       "width": "600px"
      }
     },
     "752c8cf3f99e48efbb1349448f5c9939": {
      "model_module": "@jupyter-widgets/controls",
      "model_module_version": "1.5.0",
      "model_name": "FloatSliderModel",
      "state": {
       "description": "eq. Voltage (millivolts)",
       "layout": "IPY_MODEL_1f1f9084c12e48c5967f007e1fa68cb3",
       "min": -100,
       "step": 10,
       "style": "IPY_MODEL_9e4dfd225163474aaddd315fd55b8026",
       "value": -10
      }
     },
     "7554f77699344c069665aeca5c8c9fff": {
      "model_module": "@jupyter-widgets/controls",
      "model_module_version": "1.5.0",
      "model_name": "SliderStyleModel",
      "state": {
       "description_width": ""
      }
     },
     "7583d493e18448bf8963d7e7a198f5a3": {
      "model_module": "@jupyter-widgets/base",
      "model_module_version": "1.2.0",
      "model_name": "LayoutModel",
      "state": {}
     },
     "7615e52a8ef6480ab5530ff17d421e09": {
      "model_module": "@jupyter-widgets/controls",
      "model_module_version": "1.5.0",
      "model_name": "SliderStyleModel",
      "state": {
       "description_width": ""
      }
     },
     "762eff1648634ed7a5d4c364f4b028c1": {
      "model_module": "@jupyter-widgets/base",
      "model_module_version": "1.2.0",
      "model_name": "LayoutModel",
      "state": {}
     },
     "7696b603f8e44a7c95883a4ed6985b49": {
      "model_module": "@jupyter-widgets/output",
      "model_module_version": "1.0.0",
      "model_name": "OutputModel",
      "state": {
       "layout": "IPY_MODEL_dbb21d419d6c4961993f5fa19e9920e4",
       "outputs": [
        {
         "data": {
          "image/png": "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\n",
          "text/plain": "<Figure size 720x360 with 1 Axes>"
         },
         "metadata": {
          "image/png": {
           "height": 341,
           "width": 702
          },
          "needs_background": "light"
         },
         "output_type": "display_data"
        }
       ]
      }
     },
     "76c3374f937e4d6fa9a6801f9e6ea159": {
      "model_module": "@jupyter-widgets/base",
      "model_module_version": "1.2.0",
      "model_name": "LayoutModel",
      "state": {}
     },
     "76fb69737a1b45a4ae72e2a6cc10aab3": {
      "model_module": "@jupyter-widgets/controls",
      "model_module_version": "1.5.0",
      "model_name": "FloatSliderModel",
      "state": {
       "description": "I (pA)",
       "layout": "IPY_MODEL_bc1534565acb49268a1972ba431fd943",
       "max": 500,
       "style": "IPY_MODEL_6d50401a67af47e5a74eaf239dfb5cec",
       "value": 100
      }
     },
     "76fe7b80d8154a828c2a8d0c7f6299f4": {
      "model_module": "@jupyter-widgets/controls",
      "model_module_version": "1.5.0",
      "model_name": "FloatSliderModel",
      "state": {
       "description": "R (MOhm)",
       "layout": "IPY_MODEL_7f77fce18f8243b99323b1389b5863a2",
       "max": 1000,
       "step": 10,
       "style": "IPY_MODEL_eedb0638b2324c6a9cdfd9f9f315bab0",
       "value": 100
      }
     },
     "770ff969f95d444fa439c1c084693599": {
      "model_module": "@jupyter-widgets/controls",
      "model_module_version": "1.5.0",
      "model_name": "FloatSliderModel",
      "state": {
       "description": "R (MOhm)",
       "layout": "IPY_MODEL_3328a870ece94c58bddce110214843cc",
       "max": 1000,
       "step": 10,
       "style": "IPY_MODEL_77cf42152a1049d69644003cc100b8a0",
       "value": 960
      }
     },
     "7711cc0bb5484e0a8dd97e193aeda4b4": {
      "model_module": "@jupyter-widgets/base",
      "model_module_version": "1.2.0",
      "model_name": "LayoutModel",
      "state": {}
     },
     "771936684dbf41769ab04b186ac0e314": {
      "model_module": "@jupyter-widgets/controls",
      "model_module_version": "1.5.0",
      "model_name": "SliderStyleModel",
      "state": {
       "description_width": ""
      }
     },
     "774ff6e66f2f4a329ad2d007f829ab5e": {
      "model_module": "@jupyter-widgets/base",
      "model_module_version": "1.2.0",
      "model_name": "LayoutModel",
      "state": {
       "width": "600px"
      }
     },
     "77cf42152a1049d69644003cc100b8a0": {
      "model_module": "@jupyter-widgets/controls",
      "model_module_version": "1.5.0",
      "model_name": "SliderStyleModel",
      "state": {
       "description_width": ""
      }
     },
     "77d62f04cee644fdbf3f42dc0cba7e79": {
      "model_module": "@jupyter-widgets/controls",
      "model_module_version": "1.5.0",
      "model_name": "SliderStyleModel",
      "state": {
       "description_width": ""
      }
     },
     "78c745e8500b4851bc1d0b178d7ea775": {
      "model_module": "@jupyter-widgets/controls",
      "model_module_version": "1.5.0",
      "model_name": "FloatSliderModel",
      "state": {
       "description": "tau (msec)",
       "layout": "IPY_MODEL_5b5ebbc3a1a24acc824347e9d64ad9a4",
       "min": 1,
       "style": "IPY_MODEL_f243d175e0ec4a3da82d47227430b3d7",
       "value": 10
      }
     },
     "78e6999e53a9401da1317fb3d25ff8f6": {
      "model_module": "@jupyter-widgets/base",
      "model_module_version": "1.2.0",
      "model_name": "LayoutModel",
      "state": {
       "width": "600px"
      }
     },
     "7a28d0c516874115b623af4cb550b2be": {
      "model_module": "@jupyter-widgets/base",
      "model_module_version": "1.2.0",
      "model_name": "LayoutModel",
      "state": {}
     },
     "7ab1ff0f66454aa7ba63806005170093": {
      "model_module": "@jupyter-widgets/output",
      "model_module_version": "1.0.0",
      "model_name": "OutputModel",
      "state": {
       "layout": "IPY_MODEL_7711cc0bb5484e0a8dd97e193aeda4b4",
       "outputs": [
        {
         "ename": "NameError",
         "evalue": "name 'f' is not defined",
         "output_type": "error",
         "traceback": [
          "\u001b[0;31m---------------------------------------------------------------------------\u001b[0m",
          "\u001b[0;31mNameError\u001b[0m                                 Traceback (most recent call last)",
          "File \u001b[0;32m~/opt/anaconda3/envs/neurolab/lib/python3.8/site-packages/ipywidgets/widgets/interaction.py:257\u001b[0m, in \u001b[0;36minteractive.update\u001b[0;34m(self, *args)\u001b[0m\n\u001b[1;32m    255\u001b[0m     value \u001b[38;5;241m=\u001b[39m widget\u001b[38;5;241m.\u001b[39mget_interact_value()\n\u001b[1;32m    256\u001b[0m     \u001b[38;5;28mself\u001b[39m\u001b[38;5;241m.\u001b[39mkwargs[widget\u001b[38;5;241m.\u001b[39m_kwarg] \u001b[38;5;241m=\u001b[39m value\n\u001b[0;32m--> 257\u001b[0m \u001b[38;5;28mself\u001b[39m\u001b[38;5;241m.\u001b[39mresult \u001b[38;5;241m=\u001b[39m \u001b[38;5;28;43mself\u001b[39;49m\u001b[38;5;241;43m.\u001b[39;49m\u001b[43mf\u001b[49m\u001b[43m(\u001b[49m\u001b[38;5;241;43m*\u001b[39;49m\u001b[38;5;241;43m*\u001b[39;49m\u001b[38;5;28;43mself\u001b[39;49m\u001b[38;5;241;43m.\u001b[39;49m\u001b[43mkwargs\u001b[49m\u001b[43m)\u001b[49m\n\u001b[1;32m    258\u001b[0m show_inline_matplotlib_plots()\n\u001b[1;32m    259\u001b[0m \u001b[38;5;28;01mif\u001b[39;00m \u001b[38;5;28mself\u001b[39m\u001b[38;5;241m.\u001b[39mauto_display \u001b[38;5;129;01mand\u001b[39;00m \u001b[38;5;28mself\u001b[39m\u001b[38;5;241m.\u001b[39mresult \u001b[38;5;129;01mis\u001b[39;00m \u001b[38;5;129;01mnot\u001b[39;00m \u001b[38;5;28;01mNone\u001b[39;00m:\n",
          "Input \u001b[0;32mIn [33]\u001b[0m, in \u001b[0;36mupdate_plot\u001b[0;34m(E, R, tau, amplitude)\u001b[0m\n\u001b[1;32m     86\u001b[0m \u001b[38;5;66;03m# add simulation vectors to the figure widget\u001b[39;00m\n\u001b[1;32m     87\u001b[0m ax\u001b[38;5;241m.\u001b[39mscatter(time,V_record\u001b[38;5;241m*\u001b[39m\u001b[38;5;241m1e3\u001b[39m) \u001b[38;5;66;03m# convert from Volts to milliVolts\u001b[39;00m\n\u001b[0;32m---> 89\u001b[0m \u001b[43mf\u001b[49m\u001b[38;5;241m.\u001b[39mdata[\u001b[38;5;241m0\u001b[39m]\u001b[38;5;241m.\u001b[39mx \u001b[38;5;241m=\u001b[39m time\n\u001b[1;32m     90\u001b[0m f\u001b[38;5;241m.\u001b[39mdata[\u001b[38;5;241m0\u001b[39m]\u001b[38;5;241m.\u001b[39my \u001b[38;5;241m=\u001b[39m V_record\u001b[38;5;241m*\u001b[39m\u001b[38;5;241m1e3\u001b[39m\n",
          "\u001b[0;31mNameError\u001b[0m: name 'f' is not defined"
         ]
        }
       ]
      }
     },
     "7ac02ec7d29c4d279012132758f6fd5b": {
      "model_module": "@jupyter-widgets/controls",
      "model_module_version": "1.5.0",
      "model_name": "SliderStyleModel",
      "state": {
       "description_width": ""
      }
     },
     "7b1235f3531448e0ae4bb44d654a44cd": {
      "model_module": "@jupyter-widgets/base",
      "model_module_version": "1.2.0",
      "model_name": "LayoutModel",
      "state": {
       "width": "600px"
      }
     },
     "7b812f33cbb149eebf3e28e313396f3e": {
      "model_module": "@jupyter-widgets/controls",
      "model_module_version": "1.5.0",
      "model_name": "SliderStyleModel",
      "state": {
       "description_width": ""
      }
     },
     "7c2b1ca590c74710a812345f6ef95fcf": {
      "model_module": "@jupyter-widgets/controls",
      "model_module_version": "1.5.0",
      "model_name": "SliderStyleModel",
      "state": {
       "description_width": ""
      }
     },
     "7c33709f6cbc4ab2920b6eef10822b3e": {
      "model_module": "@jupyter-widgets/controls",
      "model_module_version": "1.5.0",
      "model_name": "FloatSliderModel",
      "state": {
       "description": "Equilibrium Potential (mV)",
       "layout": "IPY_MODEL_4a0c822157be48d1a6d76d3bda9ab82f",
       "min": -100,
       "step": 10,
       "style": "IPY_MODEL_bc25f9f6467c40f0a03c22d85958d5ed",
       "value": -10
      }
     },
     "7cb36e43c71d4ec5a2affc8be1fbed69": {
      "model_module": "@jupyter-widgets/controls",
      "model_module_version": "1.5.0",
      "model_name": "SliderStyleModel",
      "state": {
       "description_width": ""
      }
     },
     "7cfcf8a2136a46adb3dffc14ff9a223d": {
      "model_module": "@jupyter-widgets/base",
      "model_module_version": "1.2.0",
      "model_name": "LayoutModel",
      "state": {
       "width": "600px"
      }
     },
     "7d7aed233a2a4fc4be01ac4f6e1f7408": {
      "model_module": "@jupyter-widgets/controls",
      "model_module_version": "1.5.0",
      "model_name": "SliderStyleModel",
      "state": {
       "description_width": ""
      }
     },
     "7db6678550f341cc936f5fcb1baf7f01": {
      "model_module": "@jupyter-widgets/base",
      "model_module_version": "1.2.0",
      "model_name": "LayoutModel",
      "state": {}
     },
     "7e884d6c1c7b4779834e58c0236bf8e7": {
      "model_module": "@jupyter-widgets/base",
      "model_module_version": "1.2.0",
      "model_name": "LayoutModel",
      "state": {
       "width": "600px"
      }
     },
     "7eca2a546263452182bf257cfc73c684": {
      "model_module": "@jupyter-widgets/controls",
      "model_module_version": "1.5.0",
      "model_name": "DescriptionStyleModel",
      "state": {
       "description_width": ""
      }
     },
     "7ed1608848d3420f857a238cdba27e4d": {
      "model_module": "@jupyter-widgets/controls",
      "model_module_version": "1.5.0",
      "model_name": "SliderStyleModel",
      "state": {
       "description_width": ""
      }
     },
     "7f1e7df92b174b0aab46378b09de615b": {
      "model_module": "@jupyter-widgets/base",
      "model_module_version": "1.2.0",
      "model_name": "LayoutModel",
      "state": {}
     },
     "7f768ae8672a47e0b59675b18daa4470": {
      "model_module": "@jupyter-widgets/base",
      "model_module_version": "1.2.0",
      "model_name": "LayoutModel",
      "state": {
       "width": "600px"
      }
     },
     "7f77fce18f8243b99323b1389b5863a2": {
      "model_module": "@jupyter-widgets/base",
      "model_module_version": "1.2.0",
      "model_name": "LayoutModel",
      "state": {
       "width": "600px"
      }
     },
     "7f89af332cad4506a49abf797b1fe90d": {
      "model_module": "@jupyter-widgets/controls",
      "model_module_version": "1.5.0",
      "model_name": "FloatSliderModel",
      "state": {
       "description": "C (uF)",
       "layout": "IPY_MODEL_d5045174d9bb47b7a234f8f994800b3e",
       "max": 1,
       "min": 0.01,
       "step": 0.01,
       "style": "IPY_MODEL_4ab13df00cac43199d5a557449758eb1",
       "value": 0.1
      }
     },
     "7f9204a88ee4417cb44760dcfdeeef79": {
      "model_module": "@jupyter-widgets/base",
      "model_module_version": "1.2.0",
      "model_name": "LayoutModel",
      "state": {}
     },
     "7fcb104999b848248ed3e13cf353a40f": {
      "model_module": "@jupyter-widgets/controls",
      "model_module_version": "1.5.0",
      "model_name": "FloatSliderModel",
      "state": {
       "description": "eq. Voltage (millivolts)",
       "layout": "IPY_MODEL_0dc809f9202947db8f8afa6cab9ff105",
       "min": -100,
       "step": 10,
       "style": "IPY_MODEL_3e87431b905b452085d44a6a77282de4"
      }
     },
     "80517fe055e9419b85bc7c5c503d89b1": {
      "model_module": "@jupyter-widgets/controls",
      "model_module_version": "1.5.0",
      "model_name": "FloatSliderModel",
      "state": {
       "description": "Membrane_Tau",
       "layout": "IPY_MODEL_09acbd70c7b043139987e21e170afe3c",
       "max": 15,
       "min": 1,
       "style": "IPY_MODEL_6063ddc1f9dd4b98a4ed97de1d32532a",
       "value": 10
      }
     },
     "80c7568346984ba99e2932f4e987473c": {
      "model_module": "@jupyter-widgets/controls",
      "model_module_version": "1.5.0",
      "model_name": "FloatSliderModel",
      "state": {
       "continuous_update": false,
       "description": "R2",
       "layout": "IPY_MODEL_1ba57cef627d4e6fb52196d98485b637",
       "min": 1,
       "style": "IPY_MODEL_12378d90b9914df097f86824bdfcf7b4",
       "value": 1
      }
     },
     "80e78303297a4937a39ed07912093f85": {
      "model_module": "@jupyter-widgets/controls",
      "model_module_version": "1.5.0",
      "model_name": "FloatSliderModel",
      "state": {
       "description": "Spike_Threshold",
       "layout": "IPY_MODEL_09acbd70c7b043139987e21e170afe3c",
       "max": -30,
       "min": -100,
       "step": 2,
       "style": "IPY_MODEL_c9486fefaab34fc5907f09214b65330a",
       "value": -55
      }
     },
     "80e9c84cd43846368cd2a44a2da063af": {
      "model_module": "@jupyter-widgets/controls",
      "model_module_version": "1.5.0",
      "model_name": "VBoxModel",
      "state": {
       "_dom_classes": [
        "widget-interact"
       ],
       "layout": "IPY_MODEL_a020183e25294395918d4a6ee1ec4cad"
      }
     },
     "81706cf696ab4458990f0e942452683a": {
      "model_module": "@jupyter-widgets/controls",
      "model_module_version": "1.5.0",
      "model_name": "SliderStyleModel",
      "state": {
       "description_width": ""
      }
     },
     "819aac0887ff4635acf54994fc79c152": {
      "model_module": "@jupyter-widgets/base",
      "model_module_version": "1.2.0",
      "model_name": "LayoutModel",
      "state": {
       "width": "600px"
      }
     },
     "82719c95158a4f32bb82a9ef60e9ec73": {
      "model_module": "@jupyter-widgets/controls",
      "model_module_version": "1.5.0",
      "model_name": "FloatSliderModel",
      "state": {
       "description": "I (pA)",
       "layout": "IPY_MODEL_b3c4173a9a234726ae49584a7247053f",
       "max": 500,
       "style": "IPY_MODEL_2f8ea2112b83497f92ef7f45959f5ed3",
       "value": 116
      }
     },
     "828c636dbca243f795601ab8084b07e0": {
      "model_module": "@jupyter-widgets/controls",
      "model_module_version": "1.5.0",
      "model_name": "CheckboxModel",
      "state": {
       "description": "current step (vs continuous)",
       "disabled": false,
       "layout": "IPY_MODEL_09acbd70c7b043139987e21e170afe3c",
       "style": "IPY_MODEL_b47086b46bb841b9ac397e153a776716",
       "value": true
      }
     },
     "833d9188c5ea4c0ba7f9c75fb8662f8e": {
      "model_module": "@jupyter-widgets/controls",
      "model_module_version": "1.5.0",
      "model_name": "DescriptionStyleModel",
      "state": {
       "description_width": ""
      }
     },
     "8386b31e3d324226bc3685ad28777866": {
      "model_module": "@jupyter-widgets/controls",
      "model_module_version": "1.5.0",
      "model_name": "VBoxModel",
      "state": {
       "_dom_classes": [
        "widget-interact"
       ],
       "children": [
        "IPY_MODEL_bdef289164374329852f535beb806e7c",
        "IPY_MODEL_9c36adb3cdc94b1b82b3a70ed4f8ca7c",
        "IPY_MODEL_78c745e8500b4851bc1d0b178d7ea775",
        "IPY_MODEL_eb554c609b1a416aa349837e7ca3ac46",
        "IPY_MODEL_7ab1ff0f66454aa7ba63806005170093"
       ],
       "layout": "IPY_MODEL_2187eea4a61946309f2905e0ff012260"
      }
     },
     "839bc19301fd4b79b5cf344762a12197": {
      "model_module": "@jupyter-widgets/controls",
      "model_module_version": "1.5.0",
      "model_name": "SliderStyleModel",
      "state": {
       "description_width": ""
      }
     },
     "83f5d96e35a743509b448307f74ad28b": {
      "model_module": "@jupyter-widgets/base",
      "model_module_version": "1.2.0",
      "model_name": "LayoutModel",
      "state": {}
     },
     "84e0de11ca684cd0ab8c1eec0376d9ff": {
      "model_module": "@jupyter-widgets/output",
      "model_module_version": "1.0.0",
      "model_name": "OutputModel",
      "state": {
       "layout": "IPY_MODEL_0d41d499ec144b4ca819b262fb9fca7b",
       "outputs": [
        {
         "data": {
          "image/png": "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\n",
          "text/plain": "<Figure size 720x360 with 1 Axes>"
         },
         "metadata": {
          "image/png": {
           "height": 341,
           "width": 702
          },
          "needs_background": "light"
         },
         "output_type": "display_data"
        }
       ]
      }
     },
     "857ec9cbc8844c63bdbb950abab03ac3": {
      "model_module": "@jupyter-widgets/controls",
      "model_module_version": "1.5.0",
      "model_name": "SliderStyleModel",
      "state": {
       "description_width": "initial"
      }
     },
     "85b08d11d08748708e982ed2a8f05031": {
      "model_module": "@jupyter-widgets/base",
      "model_module_version": "1.2.0",
      "model_name": "LayoutModel",
      "state": {
       "width": "600px"
      }
     },
     "85b234941dfa452da4443ed89ba5136d": {
      "model_module": "@jupyter-widgets/controls",
      "model_module_version": "1.5.0",
      "model_name": "FloatSliderModel",
      "state": {
       "continuous_update": false,
       "description": "E1",
       "layout": "IPY_MODEL_924ba831237740828921254f1270bb3b",
       "min": -100,
       "style": "IPY_MODEL_e312c60a91924fdb869c23a8ebbc3edc"
      }
     },
     "866c1b7a22014db292987f554be57772": {
      "model_module": "@jupyter-widgets/controls",
      "model_module_version": "1.5.0",
      "model_name": "SliderStyleModel",
      "state": {
       "description_width": ""
      }
     },
     "873be0c7c4264c4eadf35b76486515d4": {
      "model_module": "@jupyter-widgets/base",
      "model_module_version": "1.2.0",
      "model_name": "LayoutModel",
      "state": {
       "width": "600px"
      }
     },
     "8789b4cf0e6d4236b23312664fa16b78": {
      "model_module": "@jupyter-widgets/controls",
      "model_module_version": "1.5.0",
      "model_name": "SliderStyleModel",
      "state": {
       "description_width": ""
      }
     },
     "8846b5a67d5146529112b0548ec70bc4": {
      "model_module": "@jupyter-widgets/base",
      "model_module_version": "1.2.0",
      "model_name": "LayoutModel",
      "state": {
       "width": "600px"
      }
     },
     "884b0b37d7744c009f06cd4e5d20de63": {
      "model_module": "@jupyter-widgets/controls",
      "model_module_version": "1.5.0",
      "model_name": "FloatSliderModel",
      "state": {
       "description": "I (pA)",
       "layout": "IPY_MODEL_819aac0887ff4635acf54994fc79c152",
       "max": 500,
       "style": "IPY_MODEL_839bc19301fd4b79b5cf344762a12197",
       "value": 100
      }
     },
     "884d9e9c86c4452f86e0e9d37aebc073": {
      "model_module": "@jupyter-widgets/base",
      "model_module_version": "1.2.0",
      "model_name": "LayoutModel",
      "state": {
       "width": "600px"
      }
     },
     "8905f0a564c5459da9ca510936404c13": {
      "model_module": "@jupyter-widgets/output",
      "model_module_version": "1.0.0",
      "model_name": "OutputModel",
      "state": {
       "layout": "IPY_MODEL_958516eb5b724f98a927d205145fc8bd"
      }
     },
     "898503df6670447ca68b5a5f3214fef1": {
      "model_module": "@jupyter-widgets/controls",
      "model_module_version": "1.5.0",
      "model_name": "SliderStyleModel",
      "state": {
       "description_width": ""
      }
     },
     "89a611642c0e47139dba99654824038b": {
      "model_module": "@jupyter-widgets/base",
      "model_module_version": "1.2.0",
      "model_name": "LayoutModel",
      "state": {}
     },
     "8b2a861002a34445b3eef1faf02e3781": {
      "model_module": "@jupyter-widgets/controls",
      "model_module_version": "1.5.0",
      "model_name": "SliderStyleModel",
      "state": {
       "description_width": ""
      }
     },
     "8b6029d0141b45e2921b218c684408df": {
      "model_module": "@jupyter-widgets/controls",
      "model_module_version": "1.5.0",
      "model_name": "FloatSliderModel",
      "state": {
       "description": "eq. Voltage (millivolts)",
       "layout": "IPY_MODEL_8f5708e4d20c4aaeb02290ff5e4836e3",
       "min": -100,
       "step": 10,
       "style": "IPY_MODEL_3ae9081ecaf34b4994291a21bf888951"
      }
     },
     "8b8c4858f4c448bd8fbc1616dce7f2df": {
      "model_module": "@jupyter-widgets/base",
      "model_module_version": "1.2.0",
      "model_name": "LayoutModel",
      "state": {
       "width": "600px"
      }
     },
     "8c88af5072414af68d4bef9ee78663e3": {
      "model_module": "@jupyter-widgets/controls",
      "model_module_version": "1.5.0",
      "model_name": "FloatSliderModel",
      "state": {
       "description": "C (uF)",
       "layout": "IPY_MODEL_774ff6e66f2f4a329ad2d007f829ab5e",
       "max": 1,
       "min": 0.01,
       "step": 0.01,
       "style": "IPY_MODEL_1cb12fcb6bad42f4a486965f6b1f6508",
       "value": 0.17
      }
     },
     "8cdb8bef808a4573a8affd95fc5ca268": {
      "model_module": "@jupyter-widgets/controls",
      "model_module_version": "1.5.0",
      "model_name": "SliderStyleModel",
      "state": {
       "description_width": ""
      }
     },
     "8de7138953044abeb847e988de3a089f": {
      "model_module": "@jupyter-widgets/controls",
      "model_module_version": "1.5.0",
      "model_name": "SliderStyleModel",
      "state": {
       "description_width": ""
      }
     },
     "8ec7e9de88a849c9b8bdedf7bb5585bc": {
      "model_module": "@jupyter-widgets/base",
      "model_module_version": "1.2.0",
      "model_name": "LayoutModel",
      "state": {
       "width": "600px"
      }
     },
     "8ed97a0fe45b4a5298f2f4e27b6cf0d3": {
      "model_module": "@jupyter-widgets/controls",
      "model_module_version": "1.5.0",
      "model_name": "SliderStyleModel",
      "state": {
       "description_width": "initial"
      }
     },
     "8f5708e4d20c4aaeb02290ff5e4836e3": {
      "model_module": "@jupyter-widgets/base",
      "model_module_version": "1.2.0",
      "model_name": "LayoutModel",
      "state": {
       "width": "600px"
      }
     },
     "8fb9ff890a8c45c89cad4639eb516b51": {
      "model_module": "@jupyter-widgets/controls",
      "model_module_version": "1.5.0",
      "model_name": "FloatSliderModel",
      "state": {
       "description": "R (MOhm)",
       "layout": "IPY_MODEL_4985af68d67942e7a1033ed85ea22bff",
       "max": 1000,
       "step": 10,
       "style": "IPY_MODEL_bdf52644aa7149888e1e0418e962ea5a",
       "value": 1000
      }
     },
     "90222f91f6eb4ab3961d432498b84d07": {
      "model_module": "@jupyter-widgets/base",
      "model_module_version": "1.2.0",
      "model_name": "LayoutModel",
      "state": {
       "width": "600px"
      }
     },
     "9064643e5dbd49bda57466200b96caef": {
      "model_module": "@jupyter-widgets/controls",
      "model_module_version": "1.5.0",
      "model_name": "FloatSliderModel",
      "state": {
       "description": "eq. Voltage (millivolts)",
       "layout": "IPY_MODEL_364c01b7216245ffafc275572d0920a3",
       "min": -100,
       "step": 10,
       "style": "IPY_MODEL_447b913bd6c949d990e82a9f569c6944"
      }
     },
     "9113d0b9e78e4ab980fccb3195ed7409": {
      "model_module": "@jupyter-widgets/base",
      "model_module_version": "1.2.0",
      "model_name": "LayoutModel",
      "state": {}
     },
     "91b964cd3d7a4859af7f62ea89455334": {
      "model_module": "@jupyter-widgets/controls",
      "model_module_version": "1.5.0",
      "model_name": "SliderStyleModel",
      "state": {
       "description_width": ""
      }
     },
     "924ba831237740828921254f1270bb3b": {
      "model_module": "@jupyter-widgets/base",
      "model_module_version": "1.2.0",
      "model_name": "LayoutModel",
      "state": {
       "width": "600px"
      }
     },
     "92883e2ad7444d0ebeba5f492fb825f2": {
      "model_module": "@jupyter-widgets/base",
      "model_module_version": "1.2.0",
      "model_name": "LayoutModel",
      "state": {
       "width": "600px"
      }
     },
     "92c4f22301ea45dfb205042bcf44d53d": {
      "model_module": "@jupyter-widgets/controls",
      "model_module_version": "1.5.0",
      "model_name": "SliderStyleModel",
      "state": {
       "description_width": ""
      }
     },
     "93249b5846aa44828f2870c4cd9aca6c": {
      "model_module": "@jupyter-widgets/controls",
      "model_module_version": "1.5.0",
      "model_name": "SliderStyleModel",
      "state": {
       "description_width": ""
      }
     },
     "93351a907ece4148bf71b1157a76360b": {
      "model_module": "@jupyter-widgets/output",
      "model_module_version": "1.0.0",
      "model_name": "OutputModel",
      "state": {
       "layout": "IPY_MODEL_715586ba180c47ab84f3c14648717c53",
       "outputs": [
        {
         "data": {
          "image/png": "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\n",
          "text/plain": "<Figure size 720x360 with 1 Axes>"
         },
         "metadata": {
          "image/png": {
           "height": 341,
           "width": 702
          },
          "needs_background": "light"
         },
         "output_type": "display_data"
        }
       ]
      }
     },
     "935e6fc7e71c4f7aa14e2d0e14752e73": {
      "model_module": "@jupyter-widgets/base",
      "model_module_version": "1.2.0",
      "model_name": "LayoutModel",
      "state": {}
     },
     "93bb2e9059cd4b27b8ed917226e77428": {
      "model_module": "@jupyter-widgets/base",
      "model_module_version": "1.2.0",
      "model_name": "LayoutModel",
      "state": {
       "width": "600px"
      }
     },
     "94d9bb91bc0a42608c65a3f32dec7792": {
      "model_module": "@jupyter-widgets/controls",
      "model_module_version": "1.5.0",
      "model_name": "SliderStyleModel",
      "state": {
       "description_width": ""
      }
     },
     "958516eb5b724f98a927d205145fc8bd": {
      "model_module": "@jupyter-widgets/base",
      "model_module_version": "1.2.0",
      "model_name": "LayoutModel",
      "state": {}
     },
     "959d63fd33da4fa28b3937e9732a9a7c": {
      "model_module": "@jupyter-widgets/controls",
      "model_module_version": "1.5.0",
      "model_name": "VBoxModel",
      "state": {
       "_dom_classes": [
        "widget-interact"
       ],
       "layout": "IPY_MODEL_89a611642c0e47139dba99654824038b"
      }
     },
     "95f7a733733d4557858759ba676f026a": {
      "model_module": "@jupyter-widgets/controls",
      "model_module_version": "1.5.0",
      "model_name": "CheckboxModel",
      "state": {
       "description": "current step (vs continuous)",
       "disabled": false,
       "layout": "IPY_MODEL_09acbd70c7b043139987e21e170afe3c",
       "style": "IPY_MODEL_70b9ace41f824852b8065c00656c6ea1",
       "value": true
      }
     },
     "960de8c2065c42e9aa1e5fedf972c67a": {
      "model_module": "@jupyter-widgets/controls",
      "model_module_version": "1.5.0",
      "model_name": "VBoxModel",
      "state": {
       "_dom_classes": [
        "widget-interact"
       ],
       "children": [
        "IPY_MODEL_39fbdcb212d142549fd5b61d259725ff",
        "IPY_MODEL_46a38d6869f044ebb2b1af8c14c1acdf",
        "IPY_MODEL_56bce398b84c44c4afe94f9133ee5135",
        "IPY_MODEL_bdf4ec97997f466f9dfab3f1c32a07fd",
        "IPY_MODEL_0b503fb0dae4455ca8ded4efff96e0e1"
       ],
       "layout": "IPY_MODEL_6581874141c946cbbb6e380069d4e5a4"
      }
     },
     "96669aaab63745b0a50cc01dbc8cf401": {
      "model_module": "@jupyter-widgets/base",
      "model_module_version": "1.2.0",
      "model_name": "LayoutModel",
      "state": {}
     },
     "96ee2b5cc98e4fa09d17c9730a64abbe": {
      "model_module": "@jupyter-widgets/controls",
      "model_module_version": "1.5.0",
      "model_name": "VBoxModel",
      "state": {
       "_dom_classes": [
        "widget-interact"
       ],
       "children": [
        "IPY_MODEL_e39908b7cdbe42d0b2a12d420fbb248e",
        "IPY_MODEL_0e2f6884f2334d08992dcf524f448634",
        "IPY_MODEL_bb0e7aa0ed3b4d87a3d2806b9809417f",
        "IPY_MODEL_e40e99e362f741898da7c106c996290d",
        "IPY_MODEL_13395cdd8a8a49c8af5be6628fd67b5d"
       ],
       "layout": "IPY_MODEL_a9840c159f3b4c1385f16e3a430e88b5"
      }
     },
     "9701a15a537848c384f3b954b0740442": {
      "model_module": "@jupyter-widgets/base",
      "model_module_version": "1.2.0",
      "model_name": "LayoutModel",
      "state": {}
     },
     "971078f652e746c8b1c9fb39afd51196": {
      "model_module": "@jupyter-widgets/base",
      "model_module_version": "1.2.0",
      "model_name": "LayoutModel",
      "state": {
       "width": "600px"
      }
     },
     "976a6e7f29ae4cd59598bc3a20d61315": {
      "model_module": "@jupyter-widgets/controls",
      "model_module_version": "1.5.0",
      "model_name": "FloatSliderModel",
      "state": {
       "description": "Membrane_Tau",
       "layout": "IPY_MODEL_09acbd70c7b043139987e21e170afe3c",
       "max": 15,
       "min": 1,
       "style": "IPY_MODEL_23bb9144fdc348a8814a62e9dbb22728",
       "value": 5
      }
     },
     "977a836b55dd478f890f38d04f278a80": {
      "model_module": "@jupyter-widgets/output",
      "model_module_version": "1.0.0",
      "model_name": "OutputModel",
      "state": {
       "layout": "IPY_MODEL_0c6665abc3c245a891c3a6f1167ccf50",
       "outputs": [
        {
         "ename": "AttributeError",
         "evalue": "'Figure' object has no property 'figsizee'",
         "output_type": "error",
         "traceback": [
          "\u001b[0;31m---------------------------------------------------------------------------\u001b[0m",
          "\u001b[0;31mAttributeError\u001b[0m                            Traceback (most recent call last)",
          "File \u001b[0;32m~/opt/anaconda3/envs/neurolab/lib/python3.8/site-packages/ipywidgets/widgets/interaction.py:257\u001b[0m, in \u001b[0;36minteractive.update\u001b[0;34m(self, *args)\u001b[0m\n\u001b[1;32m    255\u001b[0m     value \u001b[38;5;241m=\u001b[39m widget\u001b[38;5;241m.\u001b[39mget_interact_value()\n\u001b[1;32m    256\u001b[0m     \u001b[38;5;28mself\u001b[39m\u001b[38;5;241m.\u001b[39mkwargs[widget\u001b[38;5;241m.\u001b[39m_kwarg] \u001b[38;5;241m=\u001b[39m value\n\u001b[0;32m--> 257\u001b[0m \u001b[38;5;28mself\u001b[39m\u001b[38;5;241m.\u001b[39mresult \u001b[38;5;241m=\u001b[39m \u001b[38;5;28;43mself\u001b[39;49m\u001b[38;5;241;43m.\u001b[39;49m\u001b[43mf\u001b[49m\u001b[43m(\u001b[49m\u001b[38;5;241;43m*\u001b[39;49m\u001b[38;5;241;43m*\u001b[39;49m\u001b[38;5;28;43mself\u001b[39;49m\u001b[38;5;241;43m.\u001b[39;49m\u001b[43mkwargs\u001b[49m\u001b[43m)\u001b[49m\n\u001b[1;32m    258\u001b[0m show_inline_matplotlib_plots()\n\u001b[1;32m    259\u001b[0m \u001b[38;5;28;01mif\u001b[39;00m \u001b[38;5;28mself\u001b[39m\u001b[38;5;241m.\u001b[39mauto_display \u001b[38;5;129;01mand\u001b[39;00m \u001b[38;5;28mself\u001b[39m\u001b[38;5;241m.\u001b[39mresult \u001b[38;5;129;01mis\u001b[39;00m \u001b[38;5;129;01mnot\u001b[39;00m \u001b[38;5;28;01mNone\u001b[39;00m:\n",
          "Input \u001b[0;32mIn [48]\u001b[0m, in \u001b[0;36mdiff_DC\u001b[0;34m(current_injection, Simulation_Duration, Injection_Step, Current_Step_Duration, Leak_Reversal, Leak_Conductance, AHP_Voltage, Spike_Threshold, Membrane_Tau)\u001b[0m\n\u001b[1;32m    170\u001b[0m \u001b[38;5;66;03m# pars=default_pars()\u001b[39;00m\n\u001b[1;32m    171\u001b[0m v, sp \u001b[38;5;241m=\u001b[39m run_LIF(pars, Iinj\u001b[38;5;241m=\u001b[39mcurrent_injection,stop\u001b[38;5;241m=\u001b[39mInjection_Step,durstep\u001b[38;5;241m=\u001b[39mCurrent_Step_Duration)\n\u001b[0;32m--> 172\u001b[0m \u001b[43mplot_volt_trace\u001b[49m\u001b[43m(\u001b[49m\u001b[43mpars\u001b[49m\u001b[43m,\u001b[49m\u001b[43m \u001b[49m\u001b[43mv\u001b[49m\u001b[43m,\u001b[49m\u001b[43m \u001b[49m\u001b[43msp\u001b[49m\u001b[43m)\u001b[49m\n",
          "Input \u001b[0;32mIn [48]\u001b[0m, in \u001b[0;36mplot_volt_trace\u001b[0;34m(pars, v, sp)\u001b[0m\n\u001b[1;32m     30\u001b[0m \u001b[38;5;28;01mdef\u001b[39;00m \u001b[38;5;21mplot_volt_trace\u001b[39m(pars, v, sp):\n\u001b[1;32m     31\u001b[0m     \u001b[38;5;124;03m\"\"\"\u001b[39;00m\n\u001b[1;32m     32\u001b[0m \u001b[38;5;124;03m    Plot trajetory of membrane potential for a single neuron\u001b[39;00m\n\u001b[1;32m     33\u001b[0m \n\u001b[0;32m   (...)\u001b[0m\n\u001b[1;32m     40\u001b[0m \u001b[38;5;124;03m    figure of the membrane potential trajetory for a single neuron\u001b[39;00m\n\u001b[1;32m     41\u001b[0m \u001b[38;5;124;03m    \"\"\"\u001b[39;00m\n\u001b[0;32m---> 42\u001b[0m     hfig,ax \u001b[38;5;241m=\u001b[39m \u001b[43mplt\u001b[49m\u001b[38;5;241;43m.\u001b[39;49m\u001b[43msubplots\u001b[49m\u001b[43m(\u001b[49m\u001b[43mfigsizee\u001b[49m\u001b[38;5;241;43m=\u001b[39;49m\u001b[43m(\u001b[49m\u001b[38;5;241;43m10\u001b[39;49m\u001b[43m,\u001b[49m\u001b[38;5;241;43m5\u001b[39;49m\u001b[43m)\u001b[49m\u001b[43m,\u001b[49m\u001b[43mnum\u001b[49m\u001b[38;5;241;43m=\u001b[39;49m\u001b[38;5;241;43m1\u001b[39;49m\u001b[43m)\u001b[49m\n\u001b[1;32m     43\u001b[0m     V_th \u001b[38;5;241m=\u001b[39m pars[\u001b[38;5;124m'\u001b[39m\u001b[38;5;124mV_th\u001b[39m\u001b[38;5;124m'\u001b[39m]\n\u001b[1;32m     44\u001b[0m     dt, range_t \u001b[38;5;241m=\u001b[39m pars[\u001b[38;5;124m'\u001b[39m\u001b[38;5;124mdt\u001b[39m\u001b[38;5;124m'\u001b[39m], pars[\u001b[38;5;124m'\u001b[39m\u001b[38;5;124mrange_t\u001b[39m\u001b[38;5;124m'\u001b[39m]\n",
          "File \u001b[0;32m~/opt/anaconda3/envs/neurolab/lib/python3.8/site-packages/matplotlib/pyplot.py:1434\u001b[0m, in \u001b[0;36msubplots\u001b[0;34m(nrows, ncols, sharex, sharey, squeeze, subplot_kw, gridspec_kw, **fig_kw)\u001b[0m\n\u001b[1;32m   1300\u001b[0m \u001b[38;5;28;01mdef\u001b[39;00m \u001b[38;5;21msubplots\u001b[39m(nrows\u001b[38;5;241m=\u001b[39m\u001b[38;5;241m1\u001b[39m, ncols\u001b[38;5;241m=\u001b[39m\u001b[38;5;241m1\u001b[39m, \u001b[38;5;241m*\u001b[39m, sharex\u001b[38;5;241m=\u001b[39m\u001b[38;5;28;01mFalse\u001b[39;00m, sharey\u001b[38;5;241m=\u001b[39m\u001b[38;5;28;01mFalse\u001b[39;00m, squeeze\u001b[38;5;241m=\u001b[39m\u001b[38;5;28;01mTrue\u001b[39;00m,\n\u001b[1;32m   1301\u001b[0m              subplot_kw\u001b[38;5;241m=\u001b[39m\u001b[38;5;28;01mNone\u001b[39;00m, gridspec_kw\u001b[38;5;241m=\u001b[39m\u001b[38;5;28;01mNone\u001b[39;00m, \u001b[38;5;241m*\u001b[39m\u001b[38;5;241m*\u001b[39mfig_kw):\n\u001b[1;32m   1302\u001b[0m     \u001b[38;5;124;03m\"\"\"\u001b[39;00m\n\u001b[1;32m   1303\u001b[0m \u001b[38;5;124;03m    Create a figure and a set of subplots.\u001b[39;00m\n\u001b[1;32m   1304\u001b[0m \n\u001b[0;32m   (...)\u001b[0m\n\u001b[1;32m   1432\u001b[0m \n\u001b[1;32m   1433\u001b[0m \u001b[38;5;124;03m    \"\"\"\u001b[39;00m\n\u001b[0;32m-> 1434\u001b[0m     fig \u001b[38;5;241m=\u001b[39m \u001b[43mfigure\u001b[49m\u001b[43m(\u001b[49m\u001b[38;5;241;43m*\u001b[39;49m\u001b[38;5;241;43m*\u001b[39;49m\u001b[43mfig_kw\u001b[49m\u001b[43m)\u001b[49m\n\u001b[1;32m   1435\u001b[0m     axs \u001b[38;5;241m=\u001b[39m fig\u001b[38;5;241m.\u001b[39msubplots(nrows\u001b[38;5;241m=\u001b[39mnrows, ncols\u001b[38;5;241m=\u001b[39mncols, sharex\u001b[38;5;241m=\u001b[39msharex, sharey\u001b[38;5;241m=\u001b[39msharey,\n\u001b[1;32m   1436\u001b[0m                        squeeze\u001b[38;5;241m=\u001b[39msqueeze, subplot_kw\u001b[38;5;241m=\u001b[39msubplot_kw,\n\u001b[1;32m   1437\u001b[0m                        gridspec_kw\u001b[38;5;241m=\u001b[39mgridspec_kw)\n\u001b[1;32m   1438\u001b[0m     \u001b[38;5;28;01mreturn\u001b[39;00m fig, axs\n",
          "File \u001b[0;32m~/opt/anaconda3/envs/neurolab/lib/python3.8/site-packages/matplotlib/pyplot.py:787\u001b[0m, in \u001b[0;36mfigure\u001b[0;34m(num, figsize, dpi, facecolor, edgecolor, frameon, FigureClass, clear, **kwargs)\u001b[0m\n\u001b[1;32m    778\u001b[0m \u001b[38;5;28;01mif\u001b[39;00m \u001b[38;5;28mlen\u001b[39m(allnums) \u001b[38;5;241m==\u001b[39m max_open_warning \u001b[38;5;241m>\u001b[39m\u001b[38;5;241m=\u001b[39m \u001b[38;5;241m1\u001b[39m:\n\u001b[1;32m    779\u001b[0m     _api\u001b[38;5;241m.\u001b[39mwarn_external(\n\u001b[1;32m    780\u001b[0m         \u001b[38;5;124mf\u001b[39m\u001b[38;5;124m\"\u001b[39m\u001b[38;5;124mMore than \u001b[39m\u001b[38;5;132;01m{\u001b[39;00mmax_open_warning\u001b[38;5;132;01m}\u001b[39;00m\u001b[38;5;124m figures have been opened. \u001b[39m\u001b[38;5;124m\"\u001b[39m\n\u001b[1;32m    781\u001b[0m         \u001b[38;5;124mf\u001b[39m\u001b[38;5;124m\"\u001b[39m\u001b[38;5;124mFigures created through the pyplot interface \u001b[39m\u001b[38;5;124m\"\u001b[39m\n\u001b[0;32m   (...)\u001b[0m\n\u001b[1;32m    784\u001b[0m         \u001b[38;5;124mf\u001b[39m\u001b[38;5;124m\"\u001b[39m\u001b[38;5;124mwarning, see the rcParam `figure.max_open_warning`).\u001b[39m\u001b[38;5;124m\"\u001b[39m,\n\u001b[1;32m    785\u001b[0m         \u001b[38;5;167;01mRuntimeWarning\u001b[39;00m)\n\u001b[0;32m--> 787\u001b[0m manager \u001b[38;5;241m=\u001b[39m \u001b[43mnew_figure_manager\u001b[49m\u001b[43m(\u001b[49m\n\u001b[1;32m    788\u001b[0m \u001b[43m    \u001b[49m\u001b[43mnum\u001b[49m\u001b[43m,\u001b[49m\u001b[43m \u001b[49m\u001b[43mfigsize\u001b[49m\u001b[38;5;241;43m=\u001b[39;49m\u001b[43mfigsize\u001b[49m\u001b[43m,\u001b[49m\u001b[43m \u001b[49m\u001b[43mdpi\u001b[49m\u001b[38;5;241;43m=\u001b[39;49m\u001b[43mdpi\u001b[49m\u001b[43m,\u001b[49m\n\u001b[1;32m    789\u001b[0m \u001b[43m    \u001b[49m\u001b[43mfacecolor\u001b[49m\u001b[38;5;241;43m=\u001b[39;49m\u001b[43mfacecolor\u001b[49m\u001b[43m,\u001b[49m\u001b[43m \u001b[49m\u001b[43medgecolor\u001b[49m\u001b[38;5;241;43m=\u001b[39;49m\u001b[43medgecolor\u001b[49m\u001b[43m,\u001b[49m\u001b[43m \u001b[49m\u001b[43mframeon\u001b[49m\u001b[38;5;241;43m=\u001b[39;49m\u001b[43mframeon\u001b[49m\u001b[43m,\u001b[49m\n\u001b[1;32m    790\u001b[0m \u001b[43m    \u001b[49m\u001b[43mFigureClass\u001b[49m\u001b[38;5;241;43m=\u001b[39;49m\u001b[43mFigureClass\u001b[49m\u001b[43m,\u001b[49m\u001b[43m \u001b[49m\u001b[38;5;241;43m*\u001b[39;49m\u001b[38;5;241;43m*\u001b[39;49m\u001b[43mkwargs\u001b[49m\u001b[43m)\u001b[49m\n\u001b[1;32m    791\u001b[0m fig \u001b[38;5;241m=\u001b[39m manager\u001b[38;5;241m.\u001b[39mcanvas\u001b[38;5;241m.\u001b[39mfigure\n\u001b[1;32m    792\u001b[0m \u001b[38;5;28;01mif\u001b[39;00m fig_label:\n",
          "File \u001b[0;32m~/opt/anaconda3/envs/neurolab/lib/python3.8/site-packages/matplotlib/pyplot.py:306\u001b[0m, in \u001b[0;36mnew_figure_manager\u001b[0;34m(*args, **kwargs)\u001b[0m\n\u001b[1;32m    304\u001b[0m \u001b[38;5;124;03m\"\"\"Create a new figure manager instance.\"\"\"\u001b[39;00m\n\u001b[1;32m    305\u001b[0m _warn_if_gui_out_of_main_thread()\n\u001b[0;32m--> 306\u001b[0m \u001b[38;5;28;01mreturn\u001b[39;00m \u001b[43m_backend_mod\u001b[49m\u001b[38;5;241;43m.\u001b[39;49m\u001b[43mnew_figure_manager\u001b[49m\u001b[43m(\u001b[49m\u001b[38;5;241;43m*\u001b[39;49m\u001b[43margs\u001b[49m\u001b[43m,\u001b[49m\u001b[43m \u001b[49m\u001b[38;5;241;43m*\u001b[39;49m\u001b[38;5;241;43m*\u001b[39;49m\u001b[43mkwargs\u001b[49m\u001b[43m)\u001b[49m\n",
          "File \u001b[0;32m~/opt/anaconda3/envs/neurolab/lib/python3.8/site-packages/matplotlib/backend_bases.py:3493\u001b[0m, in \u001b[0;36m_Backend.new_figure_manager\u001b[0;34m(cls, num, *args, **kwargs)\u001b[0m\n\u001b[1;32m   3491\u001b[0m \u001b[38;5;28;01mfrom\u001b[39;00m \u001b[38;5;21;01mmatplotlib\u001b[39;00m\u001b[38;5;21;01m.\u001b[39;00m\u001b[38;5;21;01mfigure\u001b[39;00m \u001b[38;5;28;01mimport\u001b[39;00m Figure\n\u001b[1;32m   3492\u001b[0m fig_cls \u001b[38;5;241m=\u001b[39m kwargs\u001b[38;5;241m.\u001b[39mpop(\u001b[38;5;124m'\u001b[39m\u001b[38;5;124mFigureClass\u001b[39m\u001b[38;5;124m'\u001b[39m, Figure)\n\u001b[0;32m-> 3493\u001b[0m fig \u001b[38;5;241m=\u001b[39m \u001b[43mfig_cls\u001b[49m\u001b[43m(\u001b[49m\u001b[38;5;241;43m*\u001b[39;49m\u001b[43margs\u001b[49m\u001b[43m,\u001b[49m\u001b[43m \u001b[49m\u001b[38;5;241;43m*\u001b[39;49m\u001b[38;5;241;43m*\u001b[39;49m\u001b[43mkwargs\u001b[49m\u001b[43m)\u001b[49m\n\u001b[1;32m   3494\u001b[0m \u001b[38;5;28;01mreturn\u001b[39;00m \u001b[38;5;28mcls\u001b[39m\u001b[38;5;241m.\u001b[39mnew_figure_manager_given_figure(num, fig)\n",
          "File \u001b[0;32m~/opt/anaconda3/envs/neurolab/lib/python3.8/site-packages/matplotlib/figure.py:2238\u001b[0m, in \u001b[0;36mFigure.__init__\u001b[0;34m(self, figsize, dpi, facecolor, edgecolor, linewidth, frameon, subplotpars, tight_layout, constrained_layout, layout, **kwargs)\u001b[0m\n\u001b[1;32m   2154\u001b[0m \u001b[38;5;28;01mdef\u001b[39;00m \u001b[38;5;21m__init__\u001b[39m(\u001b[38;5;28mself\u001b[39m,\n\u001b[1;32m   2155\u001b[0m              figsize\u001b[38;5;241m=\u001b[39m\u001b[38;5;28;01mNone\u001b[39;00m,\n\u001b[1;32m   2156\u001b[0m              dpi\u001b[38;5;241m=\u001b[39m\u001b[38;5;28;01mNone\u001b[39;00m,\n\u001b[0;32m   (...)\u001b[0m\n\u001b[1;32m   2166\u001b[0m              \u001b[38;5;241m*\u001b[39m\u001b[38;5;241m*\u001b[39mkwargs\n\u001b[1;32m   2167\u001b[0m              ):\n\u001b[1;32m   2168\u001b[0m     \u001b[38;5;124;03m\"\"\"\u001b[39;00m\n\u001b[1;32m   2169\u001b[0m \u001b[38;5;124;03m    Parameters\u001b[39;00m\n\u001b[1;32m   2170\u001b[0m \u001b[38;5;124;03m    ----------\u001b[39;00m\n\u001b[0;32m   (...)\u001b[0m\n\u001b[1;32m   2236\u001b[0m \u001b[38;5;124;03m        %(Figure:kwdoc)s\u001b[39;00m\n\u001b[1;32m   2237\u001b[0m \u001b[38;5;124;03m    \"\"\"\u001b[39;00m\n\u001b[0;32m-> 2238\u001b[0m     \u001b[38;5;28;43msuper\u001b[39;49m\u001b[43m(\u001b[49m\u001b[43m)\u001b[49m\u001b[38;5;241;43m.\u001b[39;49m\u001b[38;5;21;43m__init__\u001b[39;49m\u001b[43m(\u001b[49m\u001b[38;5;241;43m*\u001b[39;49m\u001b[38;5;241;43m*\u001b[39;49m\u001b[43mkwargs\u001b[49m\u001b[43m)\u001b[49m\n\u001b[1;32m   2240\u001b[0m     \u001b[38;5;28;01mif\u001b[39;00m layout \u001b[38;5;129;01mis\u001b[39;00m \u001b[38;5;129;01mnot\u001b[39;00m \u001b[38;5;28;01mNone\u001b[39;00m:\n\u001b[1;32m   2241\u001b[0m         \u001b[38;5;28;01mif\u001b[39;00m tight_layout \u001b[38;5;129;01mis\u001b[39;00m \u001b[38;5;129;01mnot\u001b[39;00m \u001b[38;5;28;01mNone\u001b[39;00m:\n",
          "File \u001b[0;32m~/opt/anaconda3/envs/neurolab/lib/python3.8/site-packages/matplotlib/figure.py:216\u001b[0m, in \u001b[0;36mFigureBase.__init__\u001b[0;34m(self, **kwargs)\u001b[0m\n\u001b[1;32m    214\u001b[0m \u001b[38;5;28mself\u001b[39m\u001b[38;5;241m.\u001b[39mstale \u001b[38;5;241m=\u001b[39m \u001b[38;5;28;01mTrue\u001b[39;00m\n\u001b[1;32m    215\u001b[0m \u001b[38;5;28mself\u001b[39m\u001b[38;5;241m.\u001b[39msuppressComposite \u001b[38;5;241m=\u001b[39m \u001b[38;5;28;01mNone\u001b[39;00m\n\u001b[0;32m--> 216\u001b[0m \u001b[38;5;28;43mself\u001b[39;49m\u001b[38;5;241;43m.\u001b[39;49m\u001b[43mset\u001b[49m\u001b[43m(\u001b[49m\u001b[38;5;241;43m*\u001b[39;49m\u001b[38;5;241;43m*\u001b[39;49m\u001b[43mkwargs\u001b[49m\u001b[43m)\u001b[49m\n",
          "File \u001b[0;32m~/opt/anaconda3/envs/neurolab/lib/python3.8/site-packages/matplotlib/artist.py:116\u001b[0m, in \u001b[0;36mArtist.__init_subclass__.<locals>.<lambda>\u001b[0;34m(self, **kwargs)\u001b[0m\n\u001b[1;32m    108\u001b[0m \u001b[38;5;28;01mif\u001b[39;00m \u001b[38;5;129;01mnot\u001b[39;00m \u001b[38;5;28mhasattr\u001b[39m(\u001b[38;5;28mcls\u001b[39m\u001b[38;5;241m.\u001b[39mset, \u001b[38;5;124m'\u001b[39m\u001b[38;5;124m_autogenerated_signature\u001b[39m\u001b[38;5;124m'\u001b[39m):\n\u001b[1;32m    109\u001b[0m     \u001b[38;5;66;03m# Don't overwrite cls.set if the subclass or one of its parents\u001b[39;00m\n\u001b[1;32m    110\u001b[0m     \u001b[38;5;66;03m# has defined a set method set itself.\u001b[39;00m\n\u001b[1;32m    111\u001b[0m     \u001b[38;5;66;03m# If there was no explicit definition, cls.set is inherited from\u001b[39;00m\n\u001b[1;32m    112\u001b[0m     \u001b[38;5;66;03m# the hierarchy of auto-generated set methods, which hold the\u001b[39;00m\n\u001b[1;32m    113\u001b[0m     \u001b[38;5;66;03m# flag _autogenerated_signature.\u001b[39;00m\n\u001b[1;32m    114\u001b[0m     \u001b[38;5;28;01mreturn\u001b[39;00m\n\u001b[0;32m--> 116\u001b[0m \u001b[38;5;28mcls\u001b[39m\u001b[38;5;241m.\u001b[39mset \u001b[38;5;241m=\u001b[39m \u001b[38;5;28;01mlambda\u001b[39;00m \u001b[38;5;28mself\u001b[39m, \u001b[38;5;241m*\u001b[39m\u001b[38;5;241m*\u001b[39mkwargs: \u001b[43mArtist\u001b[49m\u001b[38;5;241;43m.\u001b[39;49m\u001b[43mset\u001b[49m\u001b[43m(\u001b[49m\u001b[38;5;28;43mself\u001b[39;49m\u001b[43m,\u001b[49m\u001b[43m \u001b[49m\u001b[38;5;241;43m*\u001b[39;49m\u001b[38;5;241;43m*\u001b[39;49m\u001b[43mkwargs\u001b[49m\u001b[43m)\u001b[49m\n\u001b[1;32m    117\u001b[0m \u001b[38;5;28mcls\u001b[39m\u001b[38;5;241m.\u001b[39mset\u001b[38;5;241m.\u001b[39m\u001b[38;5;18m__name__\u001b[39m \u001b[38;5;241m=\u001b[39m \u001b[38;5;124m\"\u001b[39m\u001b[38;5;124mset\u001b[39m\u001b[38;5;124m\"\u001b[39m\n\u001b[1;32m    118\u001b[0m \u001b[38;5;28mcls\u001b[39m\u001b[38;5;241m.\u001b[39mset\u001b[38;5;241m.\u001b[39m\u001b[38;5;18m__qualname__\u001b[39m \u001b[38;5;241m=\u001b[39m \u001b[38;5;124mf\u001b[39m\u001b[38;5;124m\"\u001b[39m\u001b[38;5;132;01m{\u001b[39;00m\u001b[38;5;28mcls\u001b[39m\u001b[38;5;241m.\u001b[39m\u001b[38;5;18m__qualname__\u001b[39m\u001b[38;5;132;01m}\u001b[39;00m\u001b[38;5;124m.set\u001b[39m\u001b[38;5;124m\"\u001b[39m\n",
          "File \u001b[0;32m~/opt/anaconda3/envs/neurolab/lib/python3.8/site-packages/matplotlib/artist.py:1164\u001b[0m, in \u001b[0;36mArtist.set\u001b[0;34m(self, **kwargs)\u001b[0m\n\u001b[1;32m   1159\u001b[0m \u001b[38;5;28;01mdef\u001b[39;00m \u001b[38;5;21mset\u001b[39m(\u001b[38;5;28mself\u001b[39m, \u001b[38;5;241m*\u001b[39m\u001b[38;5;241m*\u001b[39mkwargs):\n\u001b[1;32m   1160\u001b[0m     \u001b[38;5;66;03m# docstring and signature are auto-generated via\u001b[39;00m\n\u001b[1;32m   1161\u001b[0m     \u001b[38;5;66;03m# Artist._update_set_signature_and_docstring() at the end of the\u001b[39;00m\n\u001b[1;32m   1162\u001b[0m     \u001b[38;5;66;03m# module.\u001b[39;00m\n\u001b[1;32m   1163\u001b[0m     kwargs \u001b[38;5;241m=\u001b[39m cbook\u001b[38;5;241m.\u001b[39mnormalize_kwargs(kwargs, \u001b[38;5;28mself\u001b[39m)\n\u001b[0;32m-> 1164\u001b[0m     \u001b[38;5;28;01mreturn\u001b[39;00m \u001b[38;5;28;43mself\u001b[39;49m\u001b[38;5;241;43m.\u001b[39;49m\u001b[43mupdate\u001b[49m\u001b[43m(\u001b[49m\u001b[43mkwargs\u001b[49m\u001b[43m)\u001b[49m\n",
          "File \u001b[0;32m~/opt/anaconda3/envs/neurolab/lib/python3.8/site-packages/matplotlib/artist.py:1064\u001b[0m, in \u001b[0;36mArtist.update\u001b[0;34m(self, props)\u001b[0m\n\u001b[1;32m   1062\u001b[0m             func \u001b[38;5;241m=\u001b[39m \u001b[38;5;28mgetattr\u001b[39m(\u001b[38;5;28mself\u001b[39m, \u001b[38;5;124mf\u001b[39m\u001b[38;5;124m\"\u001b[39m\u001b[38;5;124mset_\u001b[39m\u001b[38;5;132;01m{\u001b[39;00mk\u001b[38;5;132;01m}\u001b[39;00m\u001b[38;5;124m\"\u001b[39m, \u001b[38;5;28;01mNone\u001b[39;00m)\n\u001b[1;32m   1063\u001b[0m             \u001b[38;5;28;01mif\u001b[39;00m \u001b[38;5;129;01mnot\u001b[39;00m callable(func):\n\u001b[0;32m-> 1064\u001b[0m                 \u001b[38;5;28;01mraise\u001b[39;00m \u001b[38;5;167;01mAttributeError\u001b[39;00m(\u001b[38;5;124mf\u001b[39m\u001b[38;5;124m\"\u001b[39m\u001b[38;5;132;01m{\u001b[39;00m\u001b[38;5;28mtype\u001b[39m(\u001b[38;5;28mself\u001b[39m)\u001b[38;5;241m.\u001b[39m\u001b[38;5;18m__name__\u001b[39m\u001b[38;5;132;01m!r}\u001b[39;00m\u001b[38;5;124m object \u001b[39m\u001b[38;5;124m\"\u001b[39m\n\u001b[1;32m   1065\u001b[0m                                      \u001b[38;5;124mf\u001b[39m\u001b[38;5;124m\"\u001b[39m\u001b[38;5;124mhas no property \u001b[39m\u001b[38;5;132;01m{\u001b[39;00mk\u001b[38;5;132;01m!r}\u001b[39;00m\u001b[38;5;124m\"\u001b[39m)\n\u001b[1;32m   1066\u001b[0m             ret\u001b[38;5;241m.\u001b[39mappend(func(v))\n\u001b[1;32m   1067\u001b[0m \u001b[38;5;28;01mif\u001b[39;00m ret:\n",
          "\u001b[0;31mAttributeError\u001b[0m: 'Figure' object has no property 'figsizee'"
         ]
        }
       ]
      }
     },
     "982f7e78093348729a5e057e1d0b79e3": {
      "model_module": "@jupyter-widgets/controls",
      "model_module_version": "1.5.0",
      "model_name": "SliderStyleModel",
      "state": {
       "description_width": "initial"
      }
     },
     "986b5a691a9e4916a4496d477d4119e5": {
      "model_module": "@jupyter-widgets/controls",
      "model_module_version": "1.5.0",
      "model_name": "SliderStyleModel",
      "state": {
       "description_width": "initial"
      }
     },
     "988d25cf71954e4fb344f55fe7f8728f": {
      "model_module": "@jupyter-widgets/controls",
      "model_module_version": "1.5.0",
      "model_name": "LabelModel",
      "state": {
       "layout": "IPY_MODEL_1b81e35455524d4bac2419f61dbfc33b",
       "style": "IPY_MODEL_3d318d136fb949efa24b62585b35b0bb",
       "value": "tau = 0.4250 seconds"
      }
     },
     "98da1cb335244898a433b50357e8c38a": {
      "model_module": "@jupyter-widgets/controls",
      "model_module_version": "1.5.0",
      "model_name": "SliderStyleModel",
      "state": {
       "description_width": ""
      }
     },
     "991a3167bb154648928d7c8735b17766": {
      "model_module": "@jupyter-widgets/controls",
      "model_module_version": "1.5.0",
      "model_name": "SliderStyleModel",
      "state": {
       "description_width": ""
      }
     },
     "997ea057a82b461c9a866997ba108341": {
      "model_module": "@jupyter-widgets/controls",
      "model_module_version": "1.5.0",
      "model_name": "FloatSliderModel",
      "state": {
       "description": "Initial Voltage (millivolts)",
       "layout": "IPY_MODEL_011a4455d5744fbf9a792de24a644706",
       "min": -100,
       "step": 10,
       "style": "IPY_MODEL_ed3bd464522b444a8a29de9e89707e25",
       "value": -20
      }
     },
     "99a4b85a4ebe4c64bb3b6d2869ca2ffa": {
      "model_module": "@jupyter-widgets/controls",
      "model_module_version": "1.5.0",
      "model_name": "FloatSliderModel",
      "state": {
       "description": "eq. Voltage (millivolts)",
       "layout": "IPY_MODEL_ad5723f829564363b9ed537b65ea2fa8",
       "min": -100,
       "step": 10,
       "style": "IPY_MODEL_5606c1c5e26e44a58c2014a52edeadaf",
       "value": -30
      }
     },
     "99b24a84e5b94eae8f15d9f9cfcfb9d9": {
      "model_module": "@jupyter-widgets/base",
      "model_module_version": "1.2.0",
      "model_name": "LayoutModel",
      "state": {}
     },
     "99e3ab1e5f814eeb892715faa043b869": {
      "model_module": "@jupyter-widgets/controls",
      "model_module_version": "1.5.0",
      "model_name": "SliderStyleModel",
      "state": {
       "description_width": "initial"
      }
     },
     "9b4c6df6702f4c929bddb2cce3fa52e4": {
      "model_module": "@jupyter-widgets/controls",
      "model_module_version": "1.5.0",
      "model_name": "SliderStyleModel",
      "state": {
       "description_width": "initial"
      }
     },
     "9bae218cf80b4113ad47486bd1dea11c": {
      "model_module": "@jupyter-widgets/controls",
      "model_module_version": "1.5.0",
      "model_name": "FloatSliderModel",
      "state": {
       "description": "Leak_Conductance",
       "layout": "IPY_MODEL_09acbd70c7b043139987e21e170afe3c",
       "max": 50,
       "min": 1,
       "step": 2,
       "style": "IPY_MODEL_857ec9cbc8844c63bdbb950abab03ac3",
       "value": 10
      }
     },
     "9bd5d53fbfad495ab6bf9ac1e4b7624c": {
      "model_module": "@jupyter-widgets/base",
      "model_module_version": "1.2.0",
      "model_name": "LayoutModel",
      "state": {
       "width": "600px"
      }
     },
     "9be80809a62d428499315b31514b374c": {
      "model_module": "@jupyter-widgets/controls",
      "model_module_version": "1.5.0",
      "model_name": "SliderStyleModel",
      "state": {
       "description_width": ""
      }
     },
     "9c35489f6e88457b9ea8493f4c58f885": {
      "model_module": "@jupyter-widgets/controls",
      "model_module_version": "1.5.0",
      "model_name": "FloatSliderModel",
      "state": {
       "description": "C (uF)",
       "layout": "IPY_MODEL_12419498d3f6432d911eb03023b13a16",
       "max": 1,
       "min": 0.001,
       "step": 0.001,
       "style": "IPY_MODEL_efe20ff4855546a7a12a3eca9bfd6219",
       "value": 0.006
      }
     },
     "9c36adb3cdc94b1b82b3a70ed4f8ca7c": {
      "model_module": "@jupyter-widgets/controls",
      "model_module_version": "1.5.0",
      "model_name": "FloatSliderModel",
      "state": {
       "description": "R (MOhm)",
       "layout": "IPY_MODEL_12ac35a98c504a17ab784367b90b980a",
       "max": 1000,
       "step": 10,
       "style": "IPY_MODEL_ea8f484b01014cc0a03f616a7980f963",
       "value": 100
      }
     },
     "9c4f086283744c10b2d0b3b17b326ee6": {
      "model_module": "@jupyter-widgets/base",
      "model_module_version": "1.2.0",
      "model_name": "LayoutModel",
      "state": {
       "width": "600px"
      }
     },
     "9d12d96899c3401bbd2e73a5db3ccb3f": {
      "model_module": "@jupyter-widgets/controls",
      "model_module_version": "1.5.0",
      "model_name": "FloatSliderModel",
      "state": {
       "description": "C (uF)",
       "layout": "IPY_MODEL_cea6239d06fc4778bbd285cec1f2927a",
       "max": 1,
       "min": 0.001,
       "step": 0.001,
       "style": "IPY_MODEL_f0e89267a00546efb58d5c3e92c4274d",
       "value": 0.01
      }
     },
     "9dd1a1e99a104d74a178c79eddf6e928": {
      "model_module": "@jupyter-widgets/base",
      "model_module_version": "1.2.0",
      "model_name": "LayoutModel",
      "state": {
       "width": "600px"
      }
     },
     "9e03d8a5b6ae49f3b0ed4ce742dff7ce": {
      "model_module": "@jupyter-widgets/controls",
      "model_module_version": "1.5.0",
      "model_name": "SliderStyleModel",
      "state": {
       "description_width": "initial"
      }
     },
     "9e4dfd225163474aaddd315fd55b8026": {
      "model_module": "@jupyter-widgets/controls",
      "model_module_version": "1.5.0",
      "model_name": "SliderStyleModel",
      "state": {
       "description_width": ""
      }
     },
     "9eebcd1c9e5b4995b6e2b49cb56fc725": {
      "model_module": "@jupyter-widgets/base",
      "model_module_version": "1.2.0",
      "model_name": "LayoutModel",
      "state": {}
     },
     "9f3161748477448495e7fbc05aabad25": {
      "model_module": "@jupyter-widgets/controls",
      "model_module_version": "1.5.0",
      "model_name": "FloatSliderModel",
      "state": {
       "description": "R (MOhm)",
       "layout": "IPY_MODEL_d08bc9fb7cc341b789c4743e8ea711e3",
       "max": 1000,
       "step": 10,
       "style": "IPY_MODEL_dbbe0ebaf19e432fab7e845db71217e4",
       "value": 100
      }
     },
     "9f5169ae836242f7a167c36b7419dbe9": {
      "model_module": "@jupyter-widgets/controls",
      "model_module_version": "1.5.0",
      "model_name": "SliderStyleModel",
      "state": {
       "description_width": ""
      }
     },
     "9f545511b7574ed7b049c7d3e46e0c97": {
      "model_module": "@jupyter-widgets/base",
      "model_module_version": "1.2.0",
      "model_name": "LayoutModel",
      "state": {
       "width": "600px"
      }
     },
     "a020183e25294395918d4a6ee1ec4cad": {
      "model_module": "@jupyter-widgets/base",
      "model_module_version": "1.2.0",
      "model_name": "LayoutModel",
      "state": {}
     },
     "a04fbbce8b3344a380a6571fabbc4085": {
      "model_module": "@jupyter-widgets/base",
      "model_module_version": "1.2.0",
      "model_name": "LayoutModel",
      "state": {}
     },
     "a094f6e6d71741c39e8815b64a144144": {
      "model_module": "@jupyter-widgets/controls",
      "model_module_version": "1.5.0",
      "model_name": "FloatSliderModel",
      "state": {
       "description": "R (MOhm)",
       "layout": "IPY_MODEL_f342678df46946b4b5a8c185d34d100b",
       "max": 1000,
       "step": 10,
       "style": "IPY_MODEL_f1744f7a6b29480d931bcdfc2ca5bda7",
       "value": 750
      }
     },
     "a18af8e2c2dc493d80d06ab52fd56567": {
      "model_module": "@jupyter-widgets/output",
      "model_module_version": "1.0.0",
      "model_name": "OutputModel",
      "state": {
       "layout": "IPY_MODEL_5eb0e46a882146bc9b18dc5290fb4f6f"
      }
     },
     "a1a98ca128e04ea4969752f66971b8c3": {
      "model_module": "@jupyter-widgets/base",
      "model_module_version": "1.2.0",
      "model_name": "LayoutModel",
      "state": {}
     },
     "a1b562bb37e042e49136a2a5e4bff72f": {
      "model_module": "@jupyter-widgets/controls",
      "model_module_version": "1.5.0",
      "model_name": "FloatSliderModel",
      "state": {
       "description": "Simulation_Duration",
       "layout": "IPY_MODEL_09acbd70c7b043139987e21e170afe3c",
       "max": 1000,
       "step": 10,
       "style": "IPY_MODEL_abdec11a90934ba8a815f975e14156be",
       "value": 400
      }
     },
     "a1d34df76638456c8164f7ad30a364e0": {
      "model_module": "@jupyter-widgets/controls",
      "model_module_version": "1.5.0",
      "model_name": "CheckboxModel",
      "state": {
       "description": "current step (vs continuous)",
       "disabled": false,
       "layout": "IPY_MODEL_09acbd70c7b043139987e21e170afe3c",
       "style": "IPY_MODEL_30267250b2b24851b8a591cd4630577c",
       "value": true
      }
     },
     "a2009a03e2034c7ab1fa1ee31a4e65f3": {
      "model_module": "@jupyter-widgets/controls",
      "model_module_version": "1.5.0",
      "model_name": "VBoxModel",
      "state": {
       "_dom_classes": [
        "widget-interact"
       ],
       "children": [
        "IPY_MODEL_22056429e21241aaa35ce61d4997a164",
        "IPY_MODEL_65515d725fff4a20a0e044e083159a5a",
        "IPY_MODEL_828c636dbca243f795601ab8084b07e0",
        "IPY_MODEL_1feae3c4e9b94bd692b5b0c708fe045a",
        "IPY_MODEL_2346ef39fdfa4b46aa653705e5bcba35",
        "IPY_MODEL_18237e5e99f945239b7b249c5bea61b2",
        "IPY_MODEL_3e55ea9d6e9244af9f3ccfd3f25198ba",
        "IPY_MODEL_5bf82fa39f37491c8deb2b569e009d44",
        "IPY_MODEL_c12b7d52913d4a6792be3e395b804787",
        "IPY_MODEL_977a836b55dd478f890f38d04f278a80"
       ],
       "layout": "IPY_MODEL_2a742881d866476491db0b24edadeff6"
      }
     },
     "a2101e8b2e614b6386b4c2289fa5d77d": {
      "model_module": "@jupyter-widgets/controls",
      "model_module_version": "1.5.0",
      "model_name": "DescriptionStyleModel",
      "state": {
       "description_width": ""
      }
     },
     "a38a9971a5d84ff183e9ecd750146449": {
      "model_module": "@jupyter-widgets/controls",
      "model_module_version": "1.5.0",
      "model_name": "DescriptionStyleModel",
      "state": {
       "description_width": ""
      }
     },
     "a48c80d70445417a82b794bd73266442": {
      "model_module": "@jupyter-widgets/controls",
      "model_module_version": "1.5.0",
      "model_name": "LabelModel",
      "state": {
       "layout": "IPY_MODEL_7e884d6c1c7b4779834e58c0236bf8e7",
       "style": "IPY_MODEL_6d31e2b364cd42babb8e3a8143564ce4",
       "value": "The resting membrane potential of the neuron will be: 0.0 mV"
      }
     },
     "a65237d8be744a98b2829505ecf1076c": {
      "model_module": "@jupyter-widgets/base",
      "model_module_version": "1.2.0",
      "model_name": "LayoutModel",
      "state": {
       "width": "600px"
      }
     },
     "a65ead40e36b49c4af7c141ec6f3ab12": {
      "model_module": "@jupyter-widgets/base",
      "model_module_version": "1.2.0",
      "model_name": "LayoutModel",
      "state": {}
     },
     "a7908935f137499ea4af8be1f04d1add": {
      "model_module": "@jupyter-widgets/base",
      "model_module_version": "1.2.0",
      "model_name": "LayoutModel",
      "state": {
       "width": "600px"
      }
     },
     "a7ab8f9980fc4343979268e191a51f1a": {
      "model_module": "@jupyter-widgets/controls",
      "model_module_version": "1.5.0",
      "model_name": "VBoxModel",
      "state": {
       "_dom_classes": [
        "widget-interact"
       ],
       "children": [
        "IPY_MODEL_1efb99e21d1b401cae70d40cff2bf012",
        "IPY_MODEL_5583439d10c04252a0a058413232f7c4",
        "IPY_MODEL_403361302f214d70ac20f9307b2a3672",
        "IPY_MODEL_191e8629a0b74b569df65ab8b643da60",
        "IPY_MODEL_a18af8e2c2dc493d80d06ab52fd56567"
       ],
       "layout": "IPY_MODEL_168ea98334d445b3b3c2d0f586f84d7c"
      }
     },
     "a7ba6267848c4c279bad35e279c91989": {
      "model_module": "@jupyter-widgets/base",
      "model_module_version": "1.2.0",
      "model_name": "LayoutModel",
      "state": {
       "width": "600px"
      }
     },
     "a82ffc7baf994b29a3c77557fd260a32": {
      "model_module": "@jupyter-widgets/base",
      "model_module_version": "1.2.0",
      "model_name": "LayoutModel",
      "state": {
       "width": "600px"
      }
     },
     "a976072dbf414a5f9ae3cf5c90731d94": {
      "model_module": "@jupyter-widgets/controls",
      "model_module_version": "1.5.0",
      "model_name": "FloatSliderModel",
      "state": {
       "continuous_update": false,
       "description": "E1",
       "layout": "IPY_MODEL_b0d25bf77d934e5eaeeb2b8eba8519b5",
       "min": -100,
       "style": "IPY_MODEL_6a20c37af12d4b75b3b9436d7ae35357"
      }
     },
     "a9840c159f3b4c1385f16e3a430e88b5": {
      "model_module": "@jupyter-widgets/base",
      "model_module_version": "1.2.0",
      "model_name": "LayoutModel",
      "state": {}
     },
     "a99e11de5d0f4e4da2426141ebc24cb3": {
      "model_module": "@jupyter-widgets/base",
      "model_module_version": "1.2.0",
      "model_name": "LayoutModel",
      "state": {
       "width": "600px"
      }
     },
     "aa3065f575ff4ae3aac29cbd82565161": {
      "model_module": "@jupyter-widgets/base",
      "model_module_version": "1.2.0",
      "model_name": "LayoutModel",
      "state": {
       "width": "600px"
      }
     },
     "ab48bbfad3c749c29514a7d9417b1fff": {
      "model_module": "@jupyter-widgets/controls",
      "model_module_version": "1.5.0",
      "model_name": "VBoxModel",
      "state": {
       "_dom_classes": [
        "widget-interact"
       ],
       "children": [
        "IPY_MODEL_6862a5b98845464890ea8d097a612915",
        "IPY_MODEL_bf63f2baa0714bc0aa4a549c722d8624",
        "IPY_MODEL_56e8c1048348423e884f3675e8b1b420",
        "IPY_MODEL_48b8aa0bf7894a3887fa86f4880621d0",
        "IPY_MODEL_af5a9d47953c40acb978cbfb24eb853c"
       ],
       "layout": "IPY_MODEL_74d31b20312c45feb9de5628650d473b"
      }
     },
     "aba634d32aeb4b0b820e5c40830c78d0": {
      "model_module": "@jupyter-widgets/base",
      "model_module_version": "1.2.0",
      "model_name": "LayoutModel",
      "state": {
       "width": "600px"
      }
     },
     "abdec11a90934ba8a815f975e14156be": {
      "model_module": "@jupyter-widgets/controls",
      "model_module_version": "1.5.0",
      "model_name": "SliderStyleModel",
      "state": {
       "description_width": "initial"
      }
     },
     "abf848c35a474acbaebccf675efa1484": {
      "model_module": "@jupyter-widgets/base",
      "model_module_version": "1.2.0",
      "model_name": "LayoutModel",
      "state": {
       "width": "600px"
      }
     },
     "ac831fc415a541469ba4e516a4a5f43f": {
      "model_module": "@jupyter-widgets/controls",
      "model_module_version": "1.5.0",
      "model_name": "SliderStyleModel",
      "state": {
       "description_width": ""
      }
     },
     "acd87ce3bceb4b4aa880d5da48daa734": {
      "model_module": "@jupyter-widgets/base",
      "model_module_version": "1.2.0",
      "model_name": "LayoutModel",
      "state": {
       "width": "600px"
      }
     },
     "ad3a37cc0d1f4ae980b84fe5dbd8c575": {
      "model_module": "@jupyter-widgets/controls",
      "model_module_version": "1.5.0",
      "model_name": "SliderStyleModel",
      "state": {
       "description_width": ""
      }
     },
     "ad5723f829564363b9ed537b65ea2fa8": {
      "model_module": "@jupyter-widgets/base",
      "model_module_version": "1.2.0",
      "model_name": "LayoutModel",
      "state": {
       "width": "600px"
      }
     },
     "ad6223f343374813afcc430693f937c4": {
      "model_module": "@jupyter-widgets/base",
      "model_module_version": "1.2.0",
      "model_name": "LayoutModel",
      "state": {
       "width": "600px"
      }
     },
     "ae04ca9a38ff4579a4a22bd5b71205c0": {
      "model_module": "@jupyter-widgets/base",
      "model_module_version": "1.2.0",
      "model_name": "LayoutModel",
      "state": {
       "width": "600px"
      }
     },
     "ae4d998d55234128a4e9db6b2af253dd": {
      "model_module": "@jupyter-widgets/base",
      "model_module_version": "1.2.0",
      "model_name": "LayoutModel",
      "state": {
       "width": "600px"
      }
     },
     "ae8a4ad44b7b4ffba3159b7412bf38d2": {
      "model_module": "@jupyter-widgets/base",
      "model_module_version": "1.2.0",
      "model_name": "LayoutModel",
      "state": {
       "width": "600px"
      }
     },
     "aeac8ef1249f428694cdcf8632534dcb": {
      "model_module": "@jupyter-widgets/base",
      "model_module_version": "1.2.0",
      "model_name": "LayoutModel",
      "state": {}
     },
     "af2f5a2990924034a6e340e490a72621": {
      "model_module": "@jupyter-widgets/controls",
      "model_module_version": "1.5.0",
      "model_name": "FloatSliderModel",
      "state": {
       "description": "I (pA)",
       "layout": "IPY_MODEL_aba634d32aeb4b0b820e5c40830c78d0",
       "max": 500,
       "style": "IPY_MODEL_20398d60525f4cef9400be33b211d31d",
       "value": 100
      }
     },
     "af5a9d47953c40acb978cbfb24eb853c": {
      "model_module": "@jupyter-widgets/output",
      "model_module_version": "1.0.0",
      "model_name": "OutputModel",
      "state": {
       "layout": "IPY_MODEL_ceb006384760418482058413b50b69de"
      }
     },
     "b0010fa59cf1417fa0fb26d7361d638e": {
      "model_module": "@jupyter-widgets/controls",
      "model_module_version": "1.5.0",
      "model_name": "FloatSliderModel",
      "state": {
       "description": "tau (msec)",
       "layout": "IPY_MODEL_03b8046f749e46718eb59668ee5e366d",
       "min": 1,
       "style": "IPY_MODEL_ccea9a2bf4784559a548344b5d1f3dbc",
       "value": 10
      }
     },
     "b01819d6872440cbbcc40142b8c33a4d": {
      "model_module": "@jupyter-widgets/controls",
      "model_module_version": "1.5.0",
      "model_name": "SliderStyleModel",
      "state": {
       "description_width": ""
      }
     },
     "b0553470b3a64cef853afc8d0604a4bf": {
      "model_module": "@jupyter-widgets/base",
      "model_module_version": "1.2.0",
      "model_name": "LayoutModel",
      "state": {
       "width": "600px"
      }
     },
     "b0d25bf77d934e5eaeeb2b8eba8519b5": {
      "model_module": "@jupyter-widgets/base",
      "model_module_version": "1.2.0",
      "model_name": "LayoutModel",
      "state": {
       "width": "600px"
      }
     },
     "b17ecd8257f743f6b687842c8576bf06": {
      "model_module": "@jupyter-widgets/controls",
      "model_module_version": "1.5.0",
      "model_name": "DescriptionStyleModel",
      "state": {
       "description_width": "initial"
      }
     },
     "b28c1988a91d4e3faf066995bd83e46e": {
      "model_module": "@jupyter-widgets/controls",
      "model_module_version": "1.5.0",
      "model_name": "FloatSliderModel",
      "state": {
       "description": "C (uF)",
       "layout": "IPY_MODEL_ba5cdaa0a39b4497a5fceb554970e98b",
       "max": 1,
       "min": 0.01,
       "step": 0.01,
       "style": "IPY_MODEL_771936684dbf41769ab04b186ac0e314",
       "value": 0.1
      }
     },
     "b2f3324cd86c4d4ab8239cda4e29d90c": {
      "model_module": "@jupyter-widgets/controls",
      "model_module_version": "1.5.0",
      "model_name": "FloatSliderModel",
      "state": {
       "description": "Spike_Threshold",
       "layout": "IPY_MODEL_09acbd70c7b043139987e21e170afe3c",
       "max": -30,
       "min": -100,
       "step": 2,
       "style": "IPY_MODEL_2f0f2ece60a64906b5a474ba2e672dd3",
       "value": -55
      }
     },
     "b2fe45449ae54dcb8a47bd22eb76d8ac": {
      "model_module": "@jupyter-widgets/controls",
      "model_module_version": "1.5.0",
      "model_name": "FloatSliderModel",
      "state": {
       "description": "I (pA)",
       "layout": "IPY_MODEL_1c0de031e9ec466aa90ef0698fa1cf7e",
       "max": 500,
       "style": "IPY_MODEL_6d6fa5cb9bad48c79e13d6b6d4ded396",
       "value": 100
      }
     },
     "b366dbb94bb249b3b9ef2a1250e0ebd8": {
      "model_module": "@jupyter-widgets/controls",
      "model_module_version": "1.5.0",
      "model_name": "LabelModel",
      "state": {
       "layout": "IPY_MODEL_d8c4e68d348c4febab5640a0c483adf0",
       "style": "IPY_MODEL_560fccc7a5bc4703b908f029207ad7f8",
       "value": "The resting membrane potential of the neuron will be: 0.0"
      }
     },
     "b38e78a9e01e4a9aae419e190bf29e13": {
      "model_module": "@jupyter-widgets/output",
      "model_module_version": "1.0.0",
      "model_name": "OutputModel",
      "state": {
       "layout": "IPY_MODEL_76c3374f937e4d6fa9a6801f9e6ea159",
       "outputs": [
        {
         "data": {
          "image/png": "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\n",
          "text/plain": "<Figure size 720x360 with 1 Axes>"
         },
         "metadata": {
          "image/png": {
           "height": 341,
           "width": 698
          },
          "needs_background": "light"
         },
         "output_type": "display_data"
        }
       ]
      }
     },
     "b39474fc9e59476db05c51806fdc1b3c": {
      "model_module": "@jupyter-widgets/base",
      "model_module_version": "1.2.0",
      "model_name": "LayoutModel",
      "state": {
       "width": "600px"
      }
     },
     "b3a6b5c95b564244a7300f2676a53295": {
      "model_module": "@jupyter-widgets/controls",
      "model_module_version": "1.5.0",
      "model_name": "SliderStyleModel",
      "state": {
       "description_width": ""
      }
     },
     "b3c4173a9a234726ae49584a7247053f": {
      "model_module": "@jupyter-widgets/base",
      "model_module_version": "1.2.0",
      "model_name": "LayoutModel",
      "state": {
       "width": "600px"
      }
     },
     "b3d4e8565ba44d9e9897bdf4bb90f593": {
      "model_module": "@jupyter-widgets/output",
      "model_module_version": "1.0.0",
      "model_name": "OutputModel",
      "state": {
       "layout": "IPY_MODEL_c186265d775947969d3c19de1386233f",
       "outputs": [
        {
         "data": {
          "image/png": "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\n",
          "text/plain": "<Figure size 576x432 with 1 Axes>"
         },
         "metadata": {
          "image/png": {
           "height": 413,
           "width": 552
          },
          "needs_background": "light"
         },
         "output_type": "display_data"
        }
       ]
      }
     },
     "b3f2adca10d8479385fb33a3a81c6ffe": {
      "model_module": "@jupyter-widgets/controls",
      "model_module_version": "1.5.0",
      "model_name": "FloatSliderModel",
      "state": {
       "description": "C (uF)",
       "layout": "IPY_MODEL_7f768ae8672a47e0b59675b18daa4470",
       "max": 1,
       "min": 0.001,
       "step": 0.001,
       "style": "IPY_MODEL_31643235148048e29e5024844a8962f0",
       "value": 0.002
      }
     },
     "b3f7db8118d444c1895eb77b586495ff": {
      "model_module": "@jupyter-widgets/base",
      "model_module_version": "1.2.0",
      "model_name": "LayoutModel",
      "state": {
       "width": "600px"
      }
     },
     "b47086b46bb841b9ac397e153a776716": {
      "model_module": "@jupyter-widgets/controls",
      "model_module_version": "1.5.0",
      "model_name": "DescriptionStyleModel",
      "state": {
       "description_width": "initial"
      }
     },
     "b50e5f59020c42919b1f90bf3c847bf2": {
      "model_module": "@jupyter-widgets/controls",
      "model_module_version": "1.5.0",
      "model_name": "LabelModel",
      "state": {
       "layout": "IPY_MODEL_05c36b5199b64f81ae5ef70bd416d6ef",
       "style": "IPY_MODEL_11425cd88c6f4b0690a753c74be5d06e",
       "value": "tau = 0.001 seconds"
      }
     },
     "b5be941de9b84454a778fc484f8adfed": {
      "model_module": "@jupyter-widgets/controls",
      "model_module_version": "1.5.0",
      "model_name": "DescriptionStyleModel",
      "state": {
       "description_width": ""
      }
     },
     "b6582c3874e34ca7b378151ff561a799": {
      "model_module": "@jupyter-widgets/base",
      "model_module_version": "1.2.0",
      "model_name": "LayoutModel",
      "state": {
       "width": "600px"
      }
     },
     "b71a19343b2748ebb77b0bfc597e1419": {
      "model_module": "@jupyter-widgets/base",
      "model_module_version": "1.2.0",
      "model_name": "LayoutModel",
      "state": {
       "width": "600px"
      }
     },
     "b734e5e4bbc0472aafe98f6f5ed4b379": {
      "model_module": "@jupyter-widgets/base",
      "model_module_version": "1.2.0",
      "model_name": "LayoutModel",
      "state": {
       "width": "600px"
      }
     },
     "b76fcf9f9f2d4f049d1f22a41379c780": {
      "model_module": "@jupyter-widgets/controls",
      "model_module_version": "1.5.0",
      "model_name": "FloatSliderModel",
      "state": {
       "description": "R (MOhm)",
       "layout": "IPY_MODEL_52241004214e41c594039b8caeb583dc",
       "max": 1000,
       "step": 10,
       "style": "IPY_MODEL_139c24226a3a4db480df403d3a85e888",
       "value": 100
      }
     },
     "b7d51d8f23734e4d873029bc0d5558f4": {
      "model_module": "@jupyter-widgets/controls",
      "model_module_version": "1.5.0",
      "model_name": "FloatSliderModel",
      "state": {
       "continuous_update": false,
       "description": "E1",
       "layout": "IPY_MODEL_ad6223f343374813afcc430693f937c4",
       "min": -100,
       "style": "IPY_MODEL_7ac02ec7d29c4d279012132758f6fd5b"
      }
     },
     "b80f105235fc4ff9a32b0757af440a84": {
      "model_module": "@jupyter-widgets/controls",
      "model_module_version": "1.5.0",
      "model_name": "DescriptionStyleModel",
      "state": {
       "description_width": ""
      }
     },
     "b8beb40c0c724743a04fb2670f745bed": {
      "model_module": "@jupyter-widgets/controls",
      "model_module_version": "1.5.0",
      "model_name": "SliderStyleModel",
      "state": {
       "description_width": ""
      }
     },
     "b986428f55014a479dd979bea3eed53b": {
      "model_module": "@jupyter-widgets/base",
      "model_module_version": "1.2.0",
      "model_name": "LayoutModel",
      "state": {
       "width": "600px"
      }
     },
     "ba316ea4d80b4ef6b7120d249e7bff3f": {
      "model_module": "@jupyter-widgets/base",
      "model_module_version": "1.2.0",
      "model_name": "LayoutModel",
      "state": {}
     },
     "ba35aa697a4548abaedec5c7138e0486": {
      "model_module": "@jupyter-widgets/controls",
      "model_module_version": "1.5.0",
      "model_name": "FloatSliderModel",
      "state": {
       "description": "eq. Voltage (millivolts)",
       "layout": "IPY_MODEL_ca786a903f28409196f2f942af39d804",
       "min": -100,
       "step": 10,
       "style": "IPY_MODEL_f1c47e6777554423b9d390e7535de528",
       "value": -20
      }
     },
     "ba5cdaa0a39b4497a5fceb554970e98b": {
      "model_module": "@jupyter-widgets/base",
      "model_module_version": "1.2.0",
      "model_name": "LayoutModel",
      "state": {}
     },
     "bb0e7aa0ed3b4d87a3d2806b9809417f": {
      "model_module": "@jupyter-widgets/controls",
      "model_module_version": "1.5.0",
      "model_name": "FloatSliderModel",
      "state": {
       "description": "C (uF)",
       "layout": "IPY_MODEL_51c52eab913e436fafb7e8888144986f",
       "max": 1,
       "min": 0.001,
       "readout_format": ".4f",
       "step": 0.001,
       "style": "IPY_MODEL_8789b4cf0e6d4236b23312664fa16b78",
       "value": 0.04
      }
     },
     "bb4169f8089c48c58b3f3307f3d937f7": {
      "model_module": "@jupyter-widgets/controls",
      "model_module_version": "1.5.0",
      "model_name": "LabelModel",
      "state": {
       "layout": "IPY_MODEL_2888e187166d490a994918d272c45194",
       "style": "IPY_MODEL_4290a7472f37411aa7ff5dfaa7f17175",
       "value": "tau = 0.0100 seconds"
      }
     },
     "bb5708c1e6a8407f94c4af1163ccd904": {
      "model_module": "@jupyter-widgets/base",
      "model_module_version": "1.2.0",
      "model_name": "LayoutModel",
      "state": {
       "width": "600px"
      }
     },
     "bbc0da407b0542609cc619246375bbe9": {
      "model_module": "@jupyter-widgets/controls",
      "model_module_version": "1.5.0",
      "model_name": "FloatSliderModel",
      "state": {
       "description": "R (MOhm)",
       "layout": "IPY_MODEL_d4473f1d96e44a52b969f5382069b89b",
       "max": 1000,
       "step": 10,
       "style": "IPY_MODEL_94d9bb91bc0a42608c65a3f32dec7792",
       "value": 130
      }
     },
     "bbc75ca96f7c481c97b55edbd3d3aaaf": {
      "model_module": "@jupyter-widgets/base",
      "model_module_version": "1.2.0",
      "model_name": "LayoutModel",
      "state": {}
     },
     "bc1534565acb49268a1972ba431fd943": {
      "model_module": "@jupyter-widgets/base",
      "model_module_version": "1.2.0",
      "model_name": "LayoutModel",
      "state": {
       "width": "600px"
      }
     },
     "bc25f9f6467c40f0a03c22d85958d5ed": {
      "model_module": "@jupyter-widgets/controls",
      "model_module_version": "1.5.0",
      "model_name": "SliderStyleModel",
      "state": {
       "description_width": ""
      }
     },
     "bc3ec45dfc04469fb0428a67cc4fdcb9": {
      "model_module": "@jupyter-widgets/controls",
      "model_module_version": "1.5.0",
      "model_name": "DescriptionStyleModel",
      "state": {
       "description_width": ""
      }
     },
     "bdef289164374329852f535beb806e7c": {
      "model_module": "@jupyter-widgets/controls",
      "model_module_version": "1.5.0",
      "model_name": "FloatSliderModel",
      "state": {
       "description": "eq. Voltage (millivolts)",
       "layout": "IPY_MODEL_8846b5a67d5146529112b0548ec70bc4",
       "min": -100,
       "step": 10,
       "style": "IPY_MODEL_6ac6568656b84dccbdd2b487f7c897d9"
      }
     },
     "bdf4ec97997f466f9dfab3f1c32a07fd": {
      "model_module": "@jupyter-widgets/controls",
      "model_module_version": "1.5.0",
      "model_name": "FloatSliderModel",
      "state": {
       "description": "I (pA)",
       "layout": "IPY_MODEL_e45feea257214e2792415724fb88470f",
       "max": 500,
       "style": "IPY_MODEL_2a9600c30fb148cfab8c9168280cbdc1",
       "value": 100
      }
     },
     "bdf52644aa7149888e1e0418e962ea5a": {
      "model_module": "@jupyter-widgets/controls",
      "model_module_version": "1.5.0",
      "model_name": "SliderStyleModel",
      "state": {
       "description_width": ""
      }
     },
     "be2c98b8d97942339b738bd34ae41f78": {
      "model_module": "@jupyter-widgets/controls",
      "model_module_version": "1.5.0",
      "model_name": "SliderStyleModel",
      "state": {
       "description_width": ""
      }
     },
     "bf63f2baa0714bc0aa4a549c722d8624": {
      "model_module": "@jupyter-widgets/controls",
      "model_module_version": "1.5.0",
      "model_name": "FloatSliderModel",
      "state": {
       "continuous_update": false,
       "description": "E1",
       "layout": "IPY_MODEL_971078f652e746c8b1c9fb39afd51196",
       "min": 1,
       "style": "IPY_MODEL_e92d453f5d4545729d9cdeffff0c1794",
       "value": 1
      }
     },
     "c0a8908f4b7147b4a9d7ccf5c051d088": {
      "model_module": "@jupyter-widgets/controls",
      "model_module_version": "1.5.0",
      "model_name": "FloatSliderModel",
      "state": {
       "description": "R (MOhm)",
       "layout": "IPY_MODEL_4c543c2a8df945108683060a76988110",
       "max": 1000,
       "step": 10,
       "style": "IPY_MODEL_4ac9dc0e5adf485e9845c4d9990abc3b",
       "value": 980
      }
     },
     "c12b7d52913d4a6792be3e395b804787": {
      "model_module": "@jupyter-widgets/controls",
      "model_module_version": "1.5.0",
      "model_name": "FloatSliderModel",
      "state": {
       "description": "Membrane_Tau",
       "layout": "IPY_MODEL_09acbd70c7b043139987e21e170afe3c",
       "max": 15,
       "min": 1,
       "style": "IPY_MODEL_9b4c6df6702f4c929bddb2cce3fa52e4",
       "value": 5
      }
     },
     "c186265d775947969d3c19de1386233f": {
      "model_module": "@jupyter-widgets/base",
      "model_module_version": "1.2.0",
      "model_name": "LayoutModel",
      "state": {}
     },
     "c38c2ce1bc7640088d508fd7fa44a45b": {
      "model_module": "@jupyter-widgets/base",
      "model_module_version": "1.2.0",
      "model_name": "LayoutModel",
      "state": {
       "width": "600px"
      }
     },
     "c39935ff7ec94108bfa9dfe30b919b46": {
      "model_module": "@jupyter-widgets/controls",
      "model_module_version": "1.5.0",
      "model_name": "FloatSliderModel",
      "state": {
       "description": "I (pA)",
       "layout": "IPY_MODEL_abf848c35a474acbaebccf675efa1484",
       "max": 500,
       "style": "IPY_MODEL_39ecc596c413496ca04d9e3ac2d09d51",
       "value": 100
      }
     },
     "c4366a50e8ed4126bcbb1dc4dae4d676": {
      "model_module": "@jupyter-widgets/controls",
      "model_module_version": "1.5.0",
      "model_name": "DescriptionStyleModel",
      "state": {
       "description_width": ""
      }
     },
     "c45c7e67109d476dabdeb19fd32d1ba8": {
      "model_module": "@jupyter-widgets/controls",
      "model_module_version": "1.5.0",
      "model_name": "SliderStyleModel",
      "state": {
       "description_width": ""
      }
     },
     "c5d88cce868543d588d35f474300e79b": {
      "model_module": "@jupyter-widgets/controls",
      "model_module_version": "1.5.0",
      "model_name": "FloatSliderModel",
      "state": {
       "description": "Initial Voltage (millivolts)",
       "layout": "IPY_MODEL_9f545511b7574ed7b049c7d3e46e0c97",
       "min": -100,
       "step": 10,
       "style": "IPY_MODEL_38d1819db4c24013a239e190f33254a1",
       "value": 20
      }
     },
     "c5db8eafe1db412882c50c60c679a211": {
      "model_module": "@jupyter-widgets/controls",
      "model_module_version": "1.5.0",
      "model_name": "VBoxModel",
      "state": {
       "_dom_classes": [
        "widget-interact"
       ],
       "children": [
        "IPY_MODEL_99a4b85a4ebe4c64bb3b6d2869ca2ffa",
        "IPY_MODEL_6f31ce363eab4fb596e1588c692e7cd9",
        "IPY_MODEL_318481aea79e403089101d1e6ddb83c0",
        "IPY_MODEL_00674f97631449168eceb2291d7f789e",
        "IPY_MODEL_dc95d434659d48e29f6feef9756b55ae"
       ],
       "layout": "IPY_MODEL_762eff1648634ed7a5d4c364f4b028c1"
      }
     },
     "c5f47be487f346cea7d54faed2a1f14f": {
      "model_module": "@jupyter-widgets/controls",
      "model_module_version": "1.5.0",
      "model_name": "VBoxModel",
      "state": {
       "_dom_classes": [
        "widget-interact"
       ],
       "children": [
        "IPY_MODEL_7fcb104999b848248ed3e13cf353a40f",
        "IPY_MODEL_770ff969f95d444fa439c1c084693599",
        "IPY_MODEL_479f9ecd18754d1d9dee538503f7283b",
        "IPY_MODEL_df5fd72e3c774d5d869c9817a220868a",
        "IPY_MODEL_702d8afba68c4763a208585fb0d83f68"
       ],
       "layout": "IPY_MODEL_a1a98ca128e04ea4969752f66971b8c3"
      }
     },
     "c84f49bba4d04042bddd64ea660d09c1": {
      "model_module": "@jupyter-widgets/controls",
      "model_module_version": "1.5.0",
      "model_name": "SliderStyleModel",
      "state": {
       "description_width": ""
      }
     },
     "c87678e48c8740739f9ba58f26a8c601": {
      "model_module": "@jupyter-widgets/base",
      "model_module_version": "1.2.0",
      "model_name": "LayoutModel",
      "state": {
       "width": "600px"
      }
     },
     "c9486fefaab34fc5907f09214b65330a": {
      "model_module": "@jupyter-widgets/controls",
      "model_module_version": "1.5.0",
      "model_name": "SliderStyleModel",
      "state": {
       "description_width": "initial"
      }
     },
     "c97594dbb3394a69ae7816b29fa9b2d2": {
      "model_module": "@jupyter-widgets/base",
      "model_module_version": "1.2.0",
      "model_name": "LayoutModel",
      "state": {
       "width": "600px"
      }
     },
     "c9aedc012b6b4de9ac121586913973fe": {
      "model_module": "@jupyter-widgets/controls",
      "model_module_version": "1.5.0",
      "model_name": "SliderStyleModel",
      "state": {
       "description_width": ""
      }
     },
     "ca786a903f28409196f2f942af39d804": {
      "model_module": "@jupyter-widgets/base",
      "model_module_version": "1.2.0",
      "model_name": "LayoutModel",
      "state": {
       "width": "600px"
      }
     },
     "cb79fecdcc0b466ab4c702503571b239": {
      "model_module": "@jupyter-widgets/controls",
      "model_module_version": "1.5.0",
      "model_name": "VBoxModel",
      "state": {
       "_dom_classes": [
        "widget-interact"
       ],
       "children": [
        "IPY_MODEL_05521c99aee9401f9e3138b4ce4aec3b",
        "IPY_MODEL_bbc0da407b0542609cc619246375bbe9",
        "IPY_MODEL_075db5b1522b48c2902e985edf1d2418",
        "IPY_MODEL_e8c7f75ef0c541fab5f82946a6864ed8",
        "IPY_MODEL_93351a907ece4148bf71b1157a76360b"
       ],
       "layout": "IPY_MODEL_4f46da89daae48e685a83405ecd8b4d9"
      }
     },
     "ccea9a2bf4784559a548344b5d1f3dbc": {
      "model_module": "@jupyter-widgets/controls",
      "model_module_version": "1.5.0",
      "model_name": "SliderStyleModel",
      "state": {
       "description_width": ""
      }
     },
     "ce2d2d1dd65343e9a25ffb89b565a476": {
      "model_module": "@jupyter-widgets/controls",
      "model_module_version": "1.5.0",
      "model_name": "FloatSliderModel",
      "state": {
       "description": "C (uF)",
       "layout": "IPY_MODEL_85b08d11d08748708e982ed2a8f05031",
       "max": 1,
       "min": 0.01,
       "step": 0.01,
       "style": "IPY_MODEL_48a74572c7be4a058cdcd9c194f2adb2",
       "value": 0.1
      }
     },
     "ce6f27a48a1b4371837e40090d066b84": {
      "model_module": "@jupyter-widgets/output",
      "model_module_version": "1.0.0",
      "model_name": "OutputModel",
      "state": {
       "layout": "IPY_MODEL_bbc75ca96f7c481c97b55edbd3d3aaaf",
       "outputs": [
        {
         "data": {
          "image/png": "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\n",
          "text/plain": "<Figure size 720x360 with 1 Axes>"
         },
         "metadata": {
          "image/png": {
           "height": 341,
           "width": 702
          },
          "needs_background": "light"
         },
         "output_type": "display_data"
        }
       ]
      }
     },
     "cea6239d06fc4778bbd285cec1f2927a": {
      "model_module": "@jupyter-widgets/base",
      "model_module_version": "1.2.0",
      "model_name": "LayoutModel",
      "state": {
       "width": "600px"
      }
     },
     "ceb006384760418482058413b50b69de": {
      "model_module": "@jupyter-widgets/base",
      "model_module_version": "1.2.0",
      "model_name": "LayoutModel",
      "state": {}
     },
     "cecd01ae74464965b1f40c50fda4b4cc": {
      "model_module": "@jupyter-widgets/base",
      "model_module_version": "1.2.0",
      "model_name": "LayoutModel",
      "state": {}
     },
     "d05baa9e333a47e794416b0ca69606a7": {
      "model_module": "@jupyter-widgets/controls",
      "model_module_version": "1.5.0",
      "model_name": "VBoxModel",
      "state": {
       "_dom_classes": [
        "widget-interact"
       ],
       "children": [
        "IPY_MODEL_3666b447581d46f994511209748dcffe",
        "IPY_MODEL_b76fcf9f9f2d4f049d1f22a41379c780",
        "IPY_MODEL_318481aea79e403089101d1e6ddb83c0",
        "IPY_MODEL_af2f5a2990924034a6e340e490a72621",
        "IPY_MODEL_1be18bab0dd048c78975c2793deded60"
       ],
       "layout": "IPY_MODEL_3a107bfa6296402e9200017dd365215c"
      }
     },
     "d08bc9fb7cc341b789c4743e8ea711e3": {
      "model_module": "@jupyter-widgets/base",
      "model_module_version": "1.2.0",
      "model_name": "LayoutModel",
      "state": {
       "width": "600px"
      }
     },
     "d10c5571f9844b01955cb836cf910303": {
      "model_module": "@jupyter-widgets/output",
      "model_module_version": "1.0.0",
      "model_name": "OutputModel",
      "state": {
       "layout": "IPY_MODEL_9701a15a537848c384f3b954b0740442",
       "outputs": [
        {
         "data": {
          "image/png": "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\n",
          "text/plain": "<Figure size 720x360 with 1 Axes>"
         },
         "metadata": {
          "image/png": {
           "height": 341,
           "width": 702
          },
          "needs_background": "light"
         },
         "output_type": "display_data"
        }
       ]
      }
     },
     "d1528e8e4bfc4dd5aa565fe7f398a13b": {
      "model_module": "@jupyter-widgets/base",
      "model_module_version": "1.2.0",
      "model_name": "LayoutModel",
      "state": {
       "width": "600px"
      }
     },
     "d2be2fa0a4394ced800a46177aea137c": {
      "model_module": "@jupyter-widgets/controls",
      "model_module_version": "1.5.0",
      "model_name": "SliderStyleModel",
      "state": {
       "description_width": ""
      }
     },
     "d41febd9e60a44ed86082ce0e7d48511": {
      "model_module": "@jupyter-widgets/controls",
      "model_module_version": "1.5.0",
      "model_name": "FloatSliderModel",
      "state": {
       "description": "AHP_Voltage",
       "layout": "IPY_MODEL_09acbd70c7b043139987e21e170afe3c",
       "max": -30,
       "min": -90,
       "step": 2,
       "style": "IPY_MODEL_2b98595d563e4a7dbccbf9ad660ae526",
       "value": -80
      }
     },
     "d4473f1d96e44a52b969f5382069b89b": {
      "model_module": "@jupyter-widgets/base",
      "model_module_version": "1.2.0",
      "model_name": "LayoutModel",
      "state": {
       "width": "600px"
      }
     },
     "d4c1db0e17a3430fb5a61fbefedc34db": {
      "model_module": "@jupyter-widgets/output",
      "model_module_version": "1.0.0",
      "model_name": "OutputModel",
      "state": {
       "layout": "IPY_MODEL_18769d51146243a1ba2b0e544fcea5f4",
       "outputs": [
        {
         "data": {
          "image/png": "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\n",
          "text/plain": "<Figure size 720x360 with 1 Axes>"
         },
         "metadata": {
          "image/png": {
           "height": 341,
           "width": 702
          },
          "needs_background": "light"
         },
         "output_type": "display_data"
        }
       ]
      }
     },
     "d5045174d9bb47b7a234f8f994800b3e": {
      "model_module": "@jupyter-widgets/base",
      "model_module_version": "1.2.0",
      "model_name": "LayoutModel",
      "state": {
       "width": "600px"
      }
     },
     "d536b568cb63485c95207db7c635e632": {
      "model_module": "@jupyter-widgets/controls",
      "model_module_version": "1.5.0",
      "model_name": "LabelModel",
      "state": {
       "layout": "IPY_MODEL_bb5708c1e6a8407f94c4af1163ccd904",
       "style": "IPY_MODEL_5e3a8e0ffdd544dbb7a18d044f62639e",
       "value": "tau = 0.010000000000000002 seconds"
      }
     },
     "d630b06c56c94db49dfb4174cb0c7d29": {
      "model_module": "@jupyter-widgets/controls",
      "model_module_version": "1.5.0",
      "model_name": "SliderStyleModel",
      "state": {
       "description_width": "initial"
      }
     },
     "d6718923346e4293907844780873187b": {
      "model_module": "@jupyter-widgets/base",
      "model_module_version": "1.2.0",
      "model_name": "LayoutModel",
      "state": {
       "width": "600px"
      }
     },
     "d69c0d072f114f9b94edf9161f301f68": {
      "model_module": "@jupyter-widgets/controls",
      "model_module_version": "1.5.0",
      "model_name": "SliderStyleModel",
      "state": {
       "description_width": ""
      }
     },
     "d6b4f3a4506c4bd490ffc0040622e42c": {
      "model_module": "@jupyter-widgets/base",
      "model_module_version": "1.2.0",
      "model_name": "LayoutModel",
      "state": {}
     },
     "d79465684dfa4f94b2f04cc3310b0a48": {
      "model_module": "@jupyter-widgets/controls",
      "model_module_version": "1.5.0",
      "model_name": "FloatSliderModel",
      "state": {
       "description": "I (pA)",
       "layout": "IPY_MODEL_52b29ff703bc40de923372ceb29af0a5",
       "max": 500,
       "style": "IPY_MODEL_6fb30104466c437fbddd43f8eed8deff",
       "value": 100
      }
     },
     "d8ae5a7ec22c4c17bc5da16a6b86fef2": {
      "model_module": "@jupyter-widgets/base",
      "model_module_version": "1.2.0",
      "model_name": "LayoutModel",
      "state": {}
     },
     "d8c49f270ebb44bc87b000cce52e98ee": {
      "model_module": "@jupyter-widgets/controls",
      "model_module_version": "1.5.0",
      "model_name": "SliderStyleModel",
      "state": {
       "description_width": ""
      }
     },
     "d8c4e68d348c4febab5640a0c483adf0": {
      "model_module": "@jupyter-widgets/base",
      "model_module_version": "1.2.0",
      "model_name": "LayoutModel",
      "state": {
       "width": "600px"
      }
     },
     "d9e5cc42185e43b081359221f2d6f24d": {
      "model_module": "@jupyter-widgets/controls",
      "model_module_version": "1.5.0",
      "model_name": "VBoxModel",
      "state": {
       "_dom_classes": [
        "widget-interact"
       ],
       "children": [
        "IPY_MODEL_3316b13dd5e243ec87fc1cf061334e40",
        "IPY_MODEL_8fb9ff890a8c45c89cad4639eb516b51",
        "IPY_MODEL_9d12d96899c3401bbd2e73a5db3ccb3f",
        "IPY_MODEL_884b0b37d7744c009f06cd4e5d20de63",
        "IPY_MODEL_6e6e3ed4466d4eff9d5bbe16c0415bc5"
       ],
       "layout": "IPY_MODEL_2d8ba2ee332140a3bb7c9d6fc579ca29"
      }
     },
     "da36ff3c762e4985abdae7c568e7b68e": {
      "model_module": "@jupyter-widgets/controls",
      "model_module_version": "1.5.0",
      "model_name": "FloatSliderModel",
      "state": {
       "continuous_update": false,
       "description": "R2",
       "layout": "IPY_MODEL_ae8a4ad44b7b4ffba3159b7412bf38d2",
       "min": 1,
       "style": "IPY_MODEL_7cb36e43c71d4ec5a2affc8be1fbed69",
       "value": 1
      }
     },
     "daf7491b76104a6eb222c4792301b5ab": {
      "model_module": "@jupyter-widgets/controls",
      "model_module_version": "1.5.0",
      "model_name": "SliderStyleModel",
      "state": {
       "description_width": "initial"
      }
     },
     "db1487ef45a04e12ad002f6942a30e9f": {
      "model_module": "@jupyter-widgets/controls",
      "model_module_version": "1.5.0",
      "model_name": "SliderStyleModel",
      "state": {
       "description_width": ""
      }
     },
     "db94818b84d04634a26129fcec750091": {
      "model_module": "@jupyter-widgets/base",
      "model_module_version": "1.2.0",
      "model_name": "LayoutModel",
      "state": {}
     },
     "dbb21d419d6c4961993f5fa19e9920e4": {
      "model_module": "@jupyter-widgets/base",
      "model_module_version": "1.2.0",
      "model_name": "LayoutModel",
      "state": {}
     },
     "dbbe0ebaf19e432fab7e845db71217e4": {
      "model_module": "@jupyter-widgets/controls",
      "model_module_version": "1.5.0",
      "model_name": "SliderStyleModel",
      "state": {
       "description_width": ""
      }
     },
     "dc258447c740491eb0896a3b448d020f": {
      "model_module": "@jupyter-widgets/controls",
      "model_module_version": "1.5.0",
      "model_name": "SliderStyleModel",
      "state": {
       "description_width": "initial"
      }
     },
     "dc95d434659d48e29f6feef9756b55ae": {
      "model_module": "@jupyter-widgets/output",
      "model_module_version": "1.0.0",
      "model_name": "OutputModel",
      "state": {
       "layout": "IPY_MODEL_d8ae5a7ec22c4c17bc5da16a6b86fef2",
       "outputs": [
        {
         "data": {
          "image/png": "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\n",
          "text/plain": "<Figure size 720x360 with 1 Axes>"
         },
         "metadata": {
          "image/png": {
           "height": 341,
           "width": 702
          },
          "needs_background": "light"
         },
         "output_type": "display_data"
        }
       ]
      }
     },
     "dca77b1a5c4446818b4a25153ee31ce3": {
      "model_module": "@jupyter-widgets/base",
      "model_module_version": "1.2.0",
      "model_name": "LayoutModel",
      "state": {
       "width": "600px"
      }
     },
     "dcb21d77fc6f479c8d29c300f7601717": {
      "model_module": "@jupyter-widgets/base",
      "model_module_version": "1.2.0",
      "model_name": "LayoutModel",
      "state": {
       "width": "600px"
      }
     },
     "ded26cb99956499b823bbe184378dfc6": {
      "model_module": "@jupyter-widgets/controls",
      "model_module_version": "1.5.0",
      "model_name": "FloatSliderModel",
      "state": {
       "description": "I (pA)",
       "layout": "IPY_MODEL_6088ad0ec1b74774b1f8f5ff9934076a",
       "max": 500,
       "style": "IPY_MODEL_7554f77699344c069665aeca5c8c9fff",
       "value": 100
      }
     },
     "ded8c04d41b94487aa888370b8d30ffe": {
      "model_module": "@jupyter-widgets/controls",
      "model_module_version": "1.5.0",
      "model_name": "FloatSliderModel",
      "state": {
       "continuous_update": false,
       "description": "E1",
       "layout": "IPY_MODEL_a82ffc7baf994b29a3c77557fd260a32",
       "min": -100,
       "style": "IPY_MODEL_7615e52a8ef6480ab5530ff17d421e09",
       "value": 30
      }
     },
     "df5fd72e3c774d5d869c9817a220868a": {
      "model_module": "@jupyter-widgets/controls",
      "model_module_version": "1.5.0",
      "model_name": "FloatSliderModel",
      "state": {
       "description": "I (pA)",
       "layout": "IPY_MODEL_0588879b076246138a6a54dd6adae1b8",
       "max": 500,
       "style": "IPY_MODEL_e41f8897650b4b37bbc48248fddb085a",
       "value": 100
      }
     },
     "e0bc039d5df0492a8bfafd2f54d72eae": {
      "model_module": "@jupyter-widgets/controls",
      "model_module_version": "1.5.0",
      "model_name": "FloatSliderModel",
      "state": {
       "description": "C (uF)",
       "layout": "IPY_MODEL_0ea0a22dc2144cfa85f5e02d7adae164",
       "max": 1,
       "min": 0.01,
       "step": 0.01,
       "style": "IPY_MODEL_eb05230ba601473d891daca6b16c50ec",
       "value": 0.01
      }
     },
     "e0c2a66889eb4fdebd04f8844713ef5d": {
      "model_module": "@jupyter-widgets/base",
      "model_module_version": "1.2.0",
      "model_name": "LayoutModel",
      "state": {
       "width": "600px"
      }
     },
     "e0edcc76516d477a93b74e67e3e15383": {
      "model_module": "@jupyter-widgets/controls",
      "model_module_version": "1.5.0",
      "model_name": "FloatSliderModel",
      "state": {
       "continuous_update": false,
       "description": "E1",
       "layout": "IPY_MODEL_f6a2737f35504037a167e837b771510f",
       "min": -100,
       "style": "IPY_MODEL_70bde894c8c14110a2851ad32a69eb12"
      }
     },
     "e1463f17c3fd4e59be379a2a5182e744": {
      "model_module": "@jupyter-widgets/controls",
      "model_module_version": "1.5.0",
      "model_name": "FloatSliderModel",
      "state": {
       "description": "Simulation_Duration",
       "layout": "IPY_MODEL_09acbd70c7b043139987e21e170afe3c",
       "max": 1000,
       "step": 10,
       "style": "IPY_MODEL_fbc13bd38df14754828db1dc0febb0a1",
       "value": 400
      }
     },
     "e18588aba90c43f3b660b7ba5c8bcc5d": {
      "model_module": "@jupyter-widgets/output",
      "model_module_version": "1.0.0",
      "model_name": "OutputModel",
      "state": {
       "layout": "IPY_MODEL_23bd0396aaa54889aa8bc774c1bb212c",
       "outputs": [
        {
         "data": {
          "image/png": "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\n",
          "text/plain": "<Figure size 720x360 with 1 Axes>"
         },
         "metadata": {
          "image/png": {
           "height": 341,
           "width": 702
          },
          "needs_background": "light"
         },
         "output_type": "display_data"
        }
       ]
      }
     },
     "e1c621af5c754dacb3b14df5b22a5ed9": {
      "model_module": "@jupyter-widgets/base",
      "model_module_version": "1.2.0",
      "model_name": "LayoutModel",
      "state": {}
     },
     "e2700ffaf79c4016af00fc4ba1d94689": {
      "model_module": "@jupyter-widgets/controls",
      "model_module_version": "1.5.0",
      "model_name": "SliderStyleModel",
      "state": {
       "description_width": "initial"
      }
     },
     "e29623d79dfb4db9a00e6298337f9b68": {
      "model_module": "@jupyter-widgets/base",
      "model_module_version": "1.2.0",
      "model_name": "LayoutModel",
      "state": {
       "width": "600px"
      }
     },
     "e29d715ffa954543b3cf20ec49b415f2": {
      "model_module": "@jupyter-widgets/base",
      "model_module_version": "1.2.0",
      "model_name": "LayoutModel",
      "state": {
       "width": "600px"
      }
     },
     "e2a7afdf34d44469a95bd598a4cf6ed2": {
      "model_module": "@jupyter-widgets/output",
      "model_module_version": "1.0.0",
      "model_name": "OutputModel",
      "state": {
       "layout": "IPY_MODEL_99b24a84e5b94eae8f15d9f9cfcfb9d9",
       "outputs": [
        {
         "data": {
          "image/png": "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\n",
          "text/plain": "<Figure size 720x360 with 1 Axes>"
         },
         "metadata": {
          "image/png": {
           "height": 341,
           "width": 702
          },
          "needs_background": "light"
         },
         "output_type": "display_data"
        }
       ]
      }
     },
     "e312c60a91924fdb869c23a8ebbc3edc": {
      "model_module": "@jupyter-widgets/controls",
      "model_module_version": "1.5.0",
      "model_name": "SliderStyleModel",
      "state": {
       "description_width": ""
      }
     },
     "e3821298541643bfae8ba3f125a2060b": {
      "model_module": "@jupyter-widgets/controls",
      "model_module_version": "1.5.0",
      "model_name": "FloatSliderModel",
      "state": {
       "description": "C (pF)",
       "layout": "IPY_MODEL_199e489f00414b879600ba97a50bf428",
       "max": 1000,
       "min": 1,
       "step": 0.1,
       "style": "IPY_MODEL_d2be2fa0a4394ced800a46177aea137c",
       "value": 628.2
      }
     },
     "e39908b7cdbe42d0b2a12d420fbb248e": {
      "model_module": "@jupyter-widgets/controls",
      "model_module_version": "1.5.0",
      "model_name": "FloatSliderModel",
      "state": {
       "description": "eq. Voltage (millivolts)",
       "layout": "IPY_MODEL_a65237d8be744a98b2829505ecf1076c",
       "min": -100,
       "step": 10,
       "style": "IPY_MODEL_56346f32c6a4448d92a716787e0be054"
      }
     },
     "e40e99e362f741898da7c106c996290d": {
      "model_module": "@jupyter-widgets/controls",
      "model_module_version": "1.5.0",
      "model_name": "FloatSliderModel",
      "state": {
       "description": "I (pA)",
       "layout": "IPY_MODEL_9c4f086283744c10b2d0b3b17b326ee6",
       "max": 500,
       "style": "IPY_MODEL_2836b54f6b754266802ec2f326383306",
       "value": 100
      }
     },
     "e4122bbc750745acaec1facd8f83cd2f": {
      "model_module": "@jupyter-widgets/base",
      "model_module_version": "1.2.0",
      "model_name": "LayoutModel",
      "state": {
       "width": "600px"
      }
     },
     "e41f8897650b4b37bbc48248fddb085a": {
      "model_module": "@jupyter-widgets/controls",
      "model_module_version": "1.5.0",
      "model_name": "SliderStyleModel",
      "state": {
       "description_width": ""
      }
     },
     "e45feea257214e2792415724fb88470f": {
      "model_module": "@jupyter-widgets/base",
      "model_module_version": "1.2.0",
      "model_name": "LayoutModel",
      "state": {
       "width": "600px"
      }
     },
     "e4cb3b005d7a4408bc60ee9867f79a6d": {
      "model_module": "@jupyter-widgets/controls",
      "model_module_version": "1.5.0",
      "model_name": "VBoxModel",
      "state": {
       "_dom_classes": [
        "widget-interact"
       ],
       "children": [
        "IPY_MODEL_34ef53da8239438da71a91988ec88670",
        "IPY_MODEL_da36ff3c762e4985abdae7c568e7b68e",
        "IPY_MODEL_a976072dbf414a5f9ae3cf5c90731d94",
        "IPY_MODEL_39ec0e90d2154f339056a9a2edb396eb",
        "IPY_MODEL_5ccff72a6a694d8b8c42ab48acf048c2"
       ],
       "layout": "IPY_MODEL_e1c621af5c754dacb3b14df5b22a5ed9"
      }
     },
     "e4f8506943504370981df9aedc3d2975": {
      "model_module": "@jupyter-widgets/base",
      "model_module_version": "1.2.0",
      "model_name": "LayoutModel",
      "state": {
       "width": "600px"
      }
     },
     "e7582e5cbb364eb29edbeefa4a20ec73": {
      "model_module": "@jupyter-widgets/controls",
      "model_module_version": "1.5.0",
      "model_name": "SliderStyleModel",
      "state": {
       "description_width": ""
      }
     },
     "e787200185694e94914c0d0c5d288d3b": {
      "model_module": "@jupyter-widgets/controls",
      "model_module_version": "1.5.0",
      "model_name": "FloatSliderModel",
      "state": {
       "description": "R (MOhm)",
       "layout": "IPY_MODEL_55b3313e515e4119a8833d862694706c",
       "max": 1000,
       "step": 10,
       "style": "IPY_MODEL_4480ee62774c40b995c5735ceabe1fca",
       "value": 710
      }
     },
     "e789b9deacb34f0092313122eae971ed": {
      "model_module": "@jupyter-widgets/controls",
      "model_module_version": "1.5.0",
      "model_name": "SliderStyleModel",
      "state": {
       "description_width": ""
      }
     },
     "e8c7f75ef0c541fab5f82946a6864ed8": {
      "model_module": "@jupyter-widgets/controls",
      "model_module_version": "1.5.0",
      "model_name": "FloatSliderModel",
      "state": {
       "description": "I (pA)",
       "layout": "IPY_MODEL_13d8501a88d74344894676788059b004",
       "max": 500,
       "style": "IPY_MODEL_1449ad46b56f456dbab47428ecf25c88",
       "value": 105
      }
     },
     "e92d453f5d4545729d9cdeffff0c1794": {
      "model_module": "@jupyter-widgets/controls",
      "model_module_version": "1.5.0",
      "model_name": "SliderStyleModel",
      "state": {
       "description_width": ""
      }
     },
     "e959c946494c4ed7b17bd91d10a69fea": {
      "model_module": "@jupyter-widgets/controls",
      "model_module_version": "1.5.0",
      "model_name": "SliderStyleModel",
      "state": {
       "description_width": ""
      }
     },
     "e97c9b7792b2415b8aa2d74bf29b3962": {
      "model_module": "@jupyter-widgets/controls",
      "model_module_version": "1.5.0",
      "model_name": "SliderStyleModel",
      "state": {
       "description_width": ""
      }
     },
     "ea1d78f8939849b5a9c69f7210cd882c": {
      "model_module": "@jupyter-widgets/output",
      "model_module_version": "1.0.0",
      "model_name": "OutputModel",
      "state": {
       "layout": "IPY_MODEL_7f9204a88ee4417cb44760dcfdeeef79",
       "outputs": [
        {
         "ename": "ZeroDivisionError",
         "evalue": "float division by zero",
         "output_type": "error",
         "traceback": [
          "\u001b[0;31m---------------------------------------------------------------------------\u001b[0m",
          "\u001b[0;31mZeroDivisionError\u001b[0m                         Traceback (most recent call last)",
          "File \u001b[0;32m~/opt/anaconda3/envs/neurolab/lib/python3.8/site-packages/ipywidgets/widgets/interaction.py:257\u001b[0m, in \u001b[0;36minteractive.update\u001b[0;34m(self, *args)\u001b[0m\n\u001b[1;32m    255\u001b[0m     value \u001b[38;5;241m=\u001b[39m widget\u001b[38;5;241m.\u001b[39mget_interact_value()\n\u001b[1;32m    256\u001b[0m     \u001b[38;5;28mself\u001b[39m\u001b[38;5;241m.\u001b[39mkwargs[widget\u001b[38;5;241m.\u001b[39m_kwarg] \u001b[38;5;241m=\u001b[39m value\n\u001b[0;32m--> 257\u001b[0m \u001b[38;5;28mself\u001b[39m\u001b[38;5;241m.\u001b[39mresult \u001b[38;5;241m=\u001b[39m \u001b[38;5;28;43mself\u001b[39;49m\u001b[38;5;241;43m.\u001b[39;49m\u001b[43mf\u001b[49m\u001b[43m(\u001b[49m\u001b[38;5;241;43m*\u001b[39;49m\u001b[38;5;241;43m*\u001b[39;49m\u001b[38;5;28;43mself\u001b[39;49m\u001b[38;5;241;43m.\u001b[39;49m\u001b[43mkwargs\u001b[49m\u001b[43m)\u001b[49m\n\u001b[1;32m    258\u001b[0m show_inline_matplotlib_plots()\n\u001b[1;32m    259\u001b[0m \u001b[38;5;28;01mif\u001b[39;00m \u001b[38;5;28mself\u001b[39m\u001b[38;5;241m.\u001b[39mauto_display \u001b[38;5;129;01mand\u001b[39;00m \u001b[38;5;28mself\u001b[39m\u001b[38;5;241m.\u001b[39mresult \u001b[38;5;129;01mis\u001b[39;00m \u001b[38;5;129;01mnot\u001b[39;00m \u001b[38;5;28;01mNone\u001b[39;00m:\n",
          "Input \u001b[0;32mIn [21]\u001b[0m, in \u001b[0;36mupdate_result\u001b[0;34m(R1, R2, E1, E2)\u001b[0m\n\u001b[1;32m     49\u001b[0m \u001b[38;5;28;01mdef\u001b[39;00m \u001b[38;5;21mupdate_result\u001b[39m(R1,R2,E1,E2):\n\u001b[0;32m---> 50\u001b[0m     Vin \u001b[38;5;241m=\u001b[39m \u001b[43mget_Vin\u001b[49m\u001b[43m(\u001b[49m\u001b[43mR1\u001b[49m\u001b[43m,\u001b[49m\u001b[43mR2\u001b[49m\u001b[43m,\u001b[49m\u001b[43mE1\u001b[49m\u001b[43m,\u001b[49m\u001b[43mE2\u001b[49m\u001b[43m)\u001b[49m\n\u001b[1;32m     51\u001b[0m     label_result\u001b[38;5;241m.\u001b[39mvalue\u001b[38;5;241m=\u001b[39m \u001b[38;5;124mf\u001b[39m\u001b[38;5;124m'\u001b[39m\u001b[38;5;124mThe resting membrane potential of the neuron will be: \u001b[39m\u001b[38;5;132;01m{\u001b[39;00mVin\u001b[38;5;132;01m}\u001b[39;00m\u001b[38;5;124m'\u001b[39m\n",
          "Input \u001b[0;32mIn [12]\u001b[0m, in \u001b[0;36mget_Vin\u001b[0;34m(R1, R2, E1, E2)\u001b[0m\n\u001b[1;32m      3\u001b[0m \u001b[38;5;28;01mdef\u001b[39;00m \u001b[38;5;21mget_Vin\u001b[39m(R1,R2,E1,E2):\n\u001b[0;32m----> 4\u001b[0m     G1 \u001b[38;5;241m=\u001b[39m \u001b[38;5;241;43m1\u001b[39;49m\u001b[38;5;241;43m/\u001b[39;49m\u001b[43mR1\u001b[49m\n\u001b[1;32m      5\u001b[0m     G2 \u001b[38;5;241m=\u001b[39m \u001b[38;5;241m1\u001b[39m\u001b[38;5;241m/\u001b[39mR2\n\u001b[1;32m      7\u001b[0m     \u001b[38;5;66;03m# Vin = ((R1*E2)+(R2*E1))/(R1+R2) # Resistance-based\u001b[39;00m\n",
          "\u001b[0;31mZeroDivisionError\u001b[0m: float division by zero"
         ]
        }
       ]
      }
     },
     "ea8f484b01014cc0a03f616a7980f963": {
      "model_module": "@jupyter-widgets/controls",
      "model_module_version": "1.5.0",
      "model_name": "SliderStyleModel",
      "state": {
       "description_width": ""
      }
     },
     "eb05230ba601473d891daca6b16c50ec": {
      "model_module": "@jupyter-widgets/controls",
      "model_module_version": "1.5.0",
      "model_name": "SliderStyleModel",
      "state": {
       "description_width": ""
      }
     },
     "eb554c609b1a416aa349837e7ca3ac46": {
      "model_module": "@jupyter-widgets/controls",
      "model_module_version": "1.5.0",
      "model_name": "FloatSliderModel",
      "state": {
       "description": "I (pA)",
       "layout": "IPY_MODEL_039874974ff74d5194316f86522c329e",
       "max": 500,
       "style": "IPY_MODEL_484b99defff244e291b9de7ce865a030",
       "value": 100
      }
     },
     "ec5c3acfb12e46d684325e655503d22b": {
      "model_module": "@jupyter-widgets/controls",
      "model_module_version": "1.5.0",
      "model_name": "LabelModel",
      "state": {
       "layout": "IPY_MODEL_012e608303fb48ac9c5a21a19c145887",
       "style": "IPY_MODEL_4f510d86485c419fb363d8ed059a7c37",
       "value": "The resting membrane potential of the neuron will be: "
      }
     },
     "ec7203b0ae394e0cb4a76d40fd96e610": {
      "model_module": "@jupyter-widgets/controls",
      "model_module_version": "1.5.0",
      "model_name": "FloatSliderModel",
      "state": {
       "continuous_update": false,
       "description": "E1",
       "layout": "IPY_MODEL_aa3065f575ff4ae3aac29cbd82565161",
       "style": "IPY_MODEL_81706cf696ab4458990f0e942452683a"
      }
     },
     "ed3bd464522b444a8a29de9e89707e25": {
      "model_module": "@jupyter-widgets/controls",
      "model_module_version": "1.5.0",
      "model_name": "SliderStyleModel",
      "state": {
       "description_width": ""
      }
     },
     "eea61d87b0c247ac9ccdad013ff0df81": {
      "model_module": "@jupyter-widgets/base",
      "model_module_version": "1.2.0",
      "model_name": "LayoutModel",
      "state": {}
     },
     "eec86db00f48420c8aaa391ae6756602": {
      "model_module": "@jupyter-widgets/controls",
      "model_module_version": "1.5.0",
      "model_name": "FloatSliderModel",
      "state": {
       "description": "C (pF)",
       "layout": "IPY_MODEL_25ad10b43dab4f67b654383dc0d64f1b",
       "max": 1000,
       "min": 1,
       "step": 0.1,
       "style": "IPY_MODEL_579b4fdd83e54e36a04b2d23593a50eb",
       "value": 100
      }
     },
     "eedb0638b2324c6a9cdfd9f9f315bab0": {
      "model_module": "@jupyter-widgets/controls",
      "model_module_version": "1.5.0",
      "model_name": "SliderStyleModel",
      "state": {
       "description_width": ""
      }
     },
     "ef4570d2e28f43f096df61a27711b37e": {
      "model_module": "@jupyter-widgets/controls",
      "model_module_version": "1.5.0",
      "model_name": "SliderStyleModel",
      "state": {
       "description_width": ""
      }
     },
     "efc0ff4fe6464bdea2721fff365439fc": {
      "model_module": "@jupyter-widgets/controls",
      "model_module_version": "1.5.0",
      "model_name": "SliderStyleModel",
      "state": {
       "description_width": "initial"
      }
     },
     "efe20ff4855546a7a12a3eca9bfd6219": {
      "model_module": "@jupyter-widgets/controls",
      "model_module_version": "1.5.0",
      "model_name": "SliderStyleModel",
      "state": {
       "description_width": ""
      }
     },
     "f0258c5d8d214826a154b986afaab7b5": {
      "model_module": "@jupyter-widgets/controls",
      "model_module_version": "1.5.0",
      "model_name": "FloatSliderModel",
      "state": {
       "continuous_update": false,
       "description": "E1",
       "layout": "IPY_MODEL_78e6999e53a9401da1317fb3d25ff8f6",
       "style": "IPY_MODEL_257a8122eb5341c9b9b609dac0a0c354"
      }
     },
     "f0925e77adbe4e96930f9b5991b03af2": {
      "model_module": "@jupyter-widgets/controls",
      "model_module_version": "1.5.0",
      "model_name": "LabelModel",
      "state": {
       "layout": "IPY_MODEL_496c5cf8d2bb467bbabd3be90d12ffec",
       "style": "IPY_MODEL_1bea8bd5b51b4769a2dca93d14347328",
       "value": "The resting membrane potential of the neuron will be: 0.0"
      }
     },
     "f0e89267a00546efb58d5c3e92c4274d": {
      "model_module": "@jupyter-widgets/controls",
      "model_module_version": "1.5.0",
      "model_name": "SliderStyleModel",
      "state": {
       "description_width": ""
      }
     },
     "f1744f7a6b29480d931bcdfc2ca5bda7": {
      "model_module": "@jupyter-widgets/controls",
      "model_module_version": "1.5.0",
      "model_name": "SliderStyleModel",
      "state": {
       "description_width": ""
      }
     },
     "f179e9b7c66f45f29497e2dab52fcc53": {
      "model_module": "@jupyter-widgets/controls",
      "model_module_version": "1.5.0",
      "model_name": "SliderStyleModel",
      "state": {
       "description_width": ""
      }
     },
     "f1c24d05aeba4ca5adbead65d8cb8e92": {
      "model_module": "@jupyter-widgets/controls",
      "model_module_version": "1.5.0",
      "model_name": "SliderStyleModel",
      "state": {
       "description_width": "initial"
      }
     },
     "f1c47e6777554423b9d390e7535de528": {
      "model_module": "@jupyter-widgets/controls",
      "model_module_version": "1.5.0",
      "model_name": "SliderStyleModel",
      "state": {
       "description_width": ""
      }
     },
     "f1d4984418ad402f9dc8007c879951ac": {
      "model_module": "@jupyter-widgets/controls",
      "model_module_version": "1.5.0",
      "model_name": "VBoxModel",
      "state": {
       "_dom_classes": [
        "widget-interact"
       ],
       "children": [
        "IPY_MODEL_53b5c588ab2e462cb959470edec29bac",
        "IPY_MODEL_03647f348a614cf394791af2860f73b3",
        "IPY_MODEL_95f7a733733d4557858759ba676f026a",
        "IPY_MODEL_64521d606403403cb6d06615b15cef41",
        "IPY_MODEL_10755fde17a447e0b43e5d41fd097472",
        "IPY_MODEL_343c1c84684248d2add396d9be212d94",
        "IPY_MODEL_6e2cab90ddc940bd87cbbe6bf53060ab",
        "IPY_MODEL_61af245850fa48a3b52887e5d053e3f9",
        "IPY_MODEL_80517fe055e9419b85bc7c5c503d89b1",
        "IPY_MODEL_b38e78a9e01e4a9aae419e190bf29e13"
       ],
       "layout": "IPY_MODEL_eea61d87b0c247ac9ccdad013ff0df81"
      }
     },
     "f243d175e0ec4a3da82d47227430b3d7": {
      "model_module": "@jupyter-widgets/controls",
      "model_module_version": "1.5.0",
      "model_name": "SliderStyleModel",
      "state": {
       "description_width": ""
      }
     },
     "f342678df46946b4b5a8c185d34d100b": {
      "model_module": "@jupyter-widgets/base",
      "model_module_version": "1.2.0",
      "model_name": "LayoutModel",
      "state": {
       "width": "600px"
      }
     },
     "f35526d7505e4109bad0191b69066aee": {
      "model_module": "@jupyter-widgets/controls",
      "model_module_version": "1.5.0",
      "model_name": "VBoxModel",
      "state": {
       "_dom_classes": [
        "widget-interact"
       ],
       "children": [
        "IPY_MODEL_2136c9ac19874ac8ae4f413252f5f916",
        "IPY_MODEL_a1b562bb37e042e49136a2a5e4bff72f",
        "IPY_MODEL_a1d34df76638456c8164f7ad30a364e0",
        "IPY_MODEL_122c9bb72f86453a8259ac783eb04e9c",
        "IPY_MODEL_443a9c00fac54753848b8971ef8ad250",
        "IPY_MODEL_9bae218cf80b4113ad47486bd1dea11c",
        "IPY_MODEL_d41febd9e60a44ed86082ce0e7d48511",
        "IPY_MODEL_b2f3324cd86c4d4ab8239cda4e29d90c",
        "IPY_MODEL_976a6e7f29ae4cd59598bc3a20d61315",
        "IPY_MODEL_b3d4e8565ba44d9e9897bdf4bb90f593"
       ],
       "layout": "IPY_MODEL_a65ead40e36b49c4af7c141ec6f3ab12"
      }
     },
     "f3c1316e834346e5908853003f595022": {
      "model_module": "@jupyter-widgets/base",
      "model_module_version": "1.2.0",
      "model_name": "LayoutModel",
      "state": {
       "width": "600px"
      }
     },
     "f3d25832be0f482086f01aa834746d02": {
      "model_module": "@jupyter-widgets/controls",
      "model_module_version": "1.5.0",
      "model_name": "FloatSliderModel",
      "state": {
       "continuous_update": false,
       "description": "R1",
       "layout": "IPY_MODEL_ae04ca9a38ff4579a4a22bd5b71205c0",
       "min": 1,
       "style": "IPY_MODEL_be2c98b8d97942339b738bd34ae41f78",
       "value": 14
      }
     },
     "f3dff454a75b439f81ec726f2c931549": {
      "model_module": "@jupyter-widgets/controls",
      "model_module_version": "1.5.0",
      "model_name": "FloatSliderModel",
      "state": {
       "description": "I (pA)",
       "layout": "IPY_MODEL_215cbb0a6df8432fbcefd0d3326ff799",
       "max": 500,
       "style": "IPY_MODEL_7301b485f5e5416eab63e68b4ad6d0a3",
       "value": 100
      }
     },
     "f457849bbf4540f380ff9df1f490a60b": {
      "model_module": "@jupyter-widgets/base",
      "model_module_version": "1.2.0",
      "model_name": "LayoutModel",
      "state": {}
     },
     "f46fead2bec041a8b21938c9d26b7166": {
      "model_module": "@jupyter-widgets/controls",
      "model_module_version": "1.5.0",
      "model_name": "SliderStyleModel",
      "state": {
       "description_width": ""
      }
     },
     "f522b51f6bd44d1d91d1bfc54b719215": {
      "model_module": "@jupyter-widgets/controls",
      "model_module_version": "1.5.0",
      "model_name": "VBoxModel",
      "state": {
       "_dom_classes": [
        "widget-interact"
       ],
       "children": [
        "IPY_MODEL_02e78a3b27fd4fe89deb11d143f1411b",
        "IPY_MODEL_45ce4b46455f464bbc61d29844bbec0c",
        "IPY_MODEL_262d9e55132548929a38eebbacf223fb",
        "IPY_MODEL_c39935ff7ec94108bfa9dfe30b919b46",
        "IPY_MODEL_1861a77493d34f69961741ee8cc4d5d9"
       ],
       "layout": "IPY_MODEL_cecd01ae74464965b1f40c50fda4b4cc"
      }
     },
     "f60974e02b4d405a907091aebb4f407b": {
      "model_module": "@jupyter-widgets/controls",
      "model_module_version": "1.5.0",
      "model_name": "LabelModel",
      "state": {
       "layout": "IPY_MODEL_93bb2e9059cd4b27b8ed917226e77428",
       "style": "IPY_MODEL_5951cde984314271861882d2703809f6",
       "value": "tau = "
      }
     },
     "f6a2737f35504037a167e837b771510f": {
      "model_module": "@jupyter-widgets/base",
      "model_module_version": "1.2.0",
      "model_name": "LayoutModel",
      "state": {
       "width": "600px"
      }
     },
     "f92ca768c4454fc3afada7335954033f": {
      "model_module": "@jupyter-widgets/controls",
      "model_module_version": "1.5.0",
      "model_name": "SliderStyleModel",
      "state": {
       "description_width": ""
      }
     },
     "f99afe8620664330847d0aedda724890": {
      "model_module": "@jupyter-widgets/base",
      "model_module_version": "1.2.0",
      "model_name": "LayoutModel",
      "state": {
       "width": "600px"
      }
     },
     "fa32277a988347aebf1f09d581f578b6": {
      "model_module": "@jupyter-widgets/base",
      "model_module_version": "1.2.0",
      "model_name": "LayoutModel",
      "state": {
       "width": "600px"
      }
     },
     "fb2925e8386d49f180e1f12e5773a568": {
      "model_module": "@jupyter-widgets/controls",
      "model_module_version": "1.5.0",
      "model_name": "LabelModel",
      "state": {
       "layout": "IPY_MODEL_7b1235f3531448e0ae4bb44d654a44cd",
       "style": "IPY_MODEL_6f9ba5aff483462d98241f6aa4556ac9",
       "value": "The resting membrane potential of the neuron will be: 42.87179487179487"
      }
     },
     "fbc13bd38df14754828db1dc0febb0a1": {
      "model_module": "@jupyter-widgets/controls",
      "model_module_version": "1.5.0",
      "model_name": "SliderStyleModel",
      "state": {
       "description_width": "initial"
      }
     },
     "fc8b4b0c3f0e46178029b19ad08c5993": {
      "model_module": "@jupyter-widgets/base",
      "model_module_version": "1.2.0",
      "model_name": "LayoutModel",
      "state": {}
     },
     "fd2608b344a94048a30a65c4bb6a70a3": {
      "model_module": "@jupyter-widgets/controls",
      "model_module_version": "1.5.0",
      "model_name": "LabelModel",
      "state": {
       "layout": "IPY_MODEL_50621251402d406c9387d49b113df1ee",
       "style": "IPY_MODEL_b5be941de9b84454a778fc484f8adfed",
       "value": "tau = 0.1696 seconds"
      }
     },
     "fd287c9d35774189acf50b4c819c692a": {
      "model_module": "@jupyter-widgets/base",
      "model_module_version": "1.2.0",
      "model_name": "LayoutModel",
      "state": {
       "width": "600px"
      }
     },
     "fed2ec90de484f96970c3e15c078e3af": {
      "model_module": "@jupyter-widgets/controls",
      "model_module_version": "1.5.0",
      "model_name": "FloatSliderModel",
      "state": {
       "description": "eq. Voltage (millivolts)",
       "layout": "IPY_MODEL_8ec7e9de88a849c9b8bdedf7bb5585bc",
       "min": -100,
       "step": 10,
       "style": "IPY_MODEL_8de7138953044abeb847e988de3a089f"
      }
     }
    },
    "version_major": 2,
    "version_minor": 0
   }
  }
 },
 "nbformat": 4,
 "nbformat_minor": 5
}
