{
 "cells": [
  {
   "cell_type": "markdown",
   "id": "32647951-7dcf-4553-b42a-5d8508d95cf9",
   "metadata": {},
   "source": [
    "<a href=\"https://colab.research.google.com/github/neurologic/Neurophysiology-Lab/blob/main/modules/computational-model/Data-Explorer_computational-model.ipynb\" target=\"_blank\" rel=\"noopener noreferrer\"><img alt=\"Open In Colab\" src=\"https://colab.research.google.com/assets/colab-badge.svg\"/></a>   "
   ]
  },
  {
   "cell_type": "markdown",
   "id": "63776114-bd58-4811-bc3b-57c50f91686e",
   "metadata": {},
   "source": [
    "# Data Explorer"
   ]
  },
  {
   "cell_type": "markdown",
   "id": "f07451ff-cf56-4763-b4ac-bd099ba1f145",
   "metadata": {},
   "source": [
    "<a id=\"toc\"></a>\n",
    "# Table of Contents\n",
    "\n",
    "- [Introduction](#intro)\n",
    "- [Setup](#setup)\n",
    "- [Computer implementation of computational models](#function)\n",
    "- [Steady State Model](#steady-state)\n",
    "- [Dynamic Model](#dynamic-model)\n"
   ]
  },
  {
   "cell_type": "markdown",
   "id": "38b445ff-7cf7-442e-bb25-83afe6d5a3fb",
   "metadata": {},
   "source": [
    "<a id=\"intro\"></a>\n",
    "# Computer Models\n",
    "\n",
    "Modelling passive and active properties of neurons based on electric circuit models from Week 1."
   ]
  },
  {
   "cell_type": "markdown",
   "id": "488d476b-9387-43d7-b4bf-0528d9f4950a",
   "metadata": {},
   "source": [
    "<a id=\"setup\"></a>\n",
    "# Setup\n",
    "\n",
    "[toc](#toc)"
   ]
  },
  {
   "cell_type": "markdown",
   "id": "b94f344a-8c2a-4080-b972-8e7a30c91e66",
   "metadata": {},
   "source": [
    "Import and define functions"
   ]
  },
  {
   "cell_type": "code",
   "execution_count": null,
   "id": "be70dacf-b862-4afa-8fc0-dce8c363fdf9",
   "metadata": {
    "tags": [
     "hide-input"
    ]
   },
   "outputs": [],
   "source": [
    "#@title {display-mode: \"form\"}\n",
    "\n",
    "#@markdown Run this code cell to import packages and define functions \n",
    "from pathlib import Path\n",
    "import numpy as np\n",
    "import seaborn as sns\n",
    "import matplotlib.pyplot as plt\n",
    "from scipy.optimize import curve_fit\n",
    "import pandas as pd\n",
    "from datetime import datetime,timezone,timedelta\n",
    "pal = sns.color_palette(n_colors=15)\n",
    "pal = pal.as_hex()\n",
    "\n",
    "from ipywidgets import interactive, HBox, VBox, widgets, interact\n",
    "import ipywidgets as widgets # interactive display\n",
    "\n",
    "from datetime import datetime,timezone,timedelta\n",
    "%config InlineBackend.figure_format = 'retina'\n",
    "# use NMA plot style\n",
    "plt.style.use(\"https://raw.githubusercontent.com/NeuromatchAcademy/course-content/master/nma.mplstyle\")\n",
    "my_layout = widgets.Layout()\n",
    "\n",
    "\n",
    "def hyper_fit(t,r,c):\n",
    "    return r + ((r*c)/t)\n",
    "\n",
    "print('Task completed at ' + str(datetime.now(timezone(-timedelta(hours=5)))))"
   ]
  },
  {
   "cell_type": "markdown",
   "id": "a1952af2-8fae-4e13-83e4-0898d7e3a234",
   "metadata": {},
   "source": [
    "<a id=\"functions\"></a>\n",
    "# Computer implementation of computational models\n",
    "\n",
    "To implement this computational model in computer code, you need to *define* a ***function***. \n",
    "\n",
    "A ***function*** in computer programming is *executable* code (it will do things when you \"run\" it). Functions *take* information that they need to do what they need to do. \n",
    "\n",
    "As an analogy, your computational model is a function (an equation in this case). You *executed* that function when you were given values for ion equilibrium potential and resistance of a neuron and calculated the neuron's resting membrane potential. \n",
    "\n",
    "To define a function in python so that the computer can execute it, we need to write down instructions in a specific way:\n",
    "\n",
    "```\n",
    "def function_name( parameters ):\n",
    "   variable = equation\n",
    "   return [variable]\n",
    "```\n",
    "\n",
    "- **def** indicates that we are defining a function\n",
    "- **function_name** is the name we give the function\n",
    "- in parentheses after the function name, we list the information that will be provided to the function when it is executed (these are info that will be needed to do what we want the function to do... in this case calculate the resting membrane potential of a neuron)\n",
    "- ```:``` transitions the code into the instructions for the function to follow when it is executed\n",
    "- the instructions for the function to execute are on the rest of the written lines, with each line indented\n",
    "- **return** terminates the function and provides information that can be accessed after the function executes\n",
    "\n",
    "Let's consider a basic function that calculates the square of a number (the number times itself).  \n",
    "Examine the contents of the following code cell and then *run* the code cell to execute the definition of the function (this step actually creates the function that is defined with the text)"
   ]
  },
  {
   "cell_type": "code",
   "execution_count": null,
   "id": "c517227b-3862-4400-89d6-b0a13acc4f39",
   "metadata": {},
   "outputs": [],
   "source": [
    "def square(x): # this sets the name of the function and any variables that it will use\n",
    "    result = x*x # this is the equation that this function uses to transform 'x' input into 'result' output\n",
    "    return result # this line makes the variable 'result' available as an output of the function"
   ]
  },
  {
   "cell_type": "markdown",
   "id": "a9db80f6-4fe4-4503-a81c-9487709df27e",
   "metadata": {},
   "source": [
    "Nothing obvious will happen when you run a code cell that defines a function (other than an indication that the code cell ran). But... you can now use the function that you defined.  \n",
    "In the code cell below, assign a number to the varable ```my_number```. Then, run the code cell to execute that variable assignment."
   ]
  },
  {
   "cell_type": "code",
   "execution_count": null,
   "id": "624c6f06-14bd-4389-bb34-c3a2a9dc0b9a",
   "metadata": {},
   "outputs": [],
   "source": [
    "my_number = 2"
   ]
  },
  {
   "cell_type": "markdown",
   "id": "9e29ff7a-6038-44f2-b7c7-eac619067d33",
   "metadata": {},
   "source": [
    "Now, in the next code cell, we will execute that function by typing the name of the function followed by parentheses containing the variable *my_number* (to provide the function with that information).  \n",
    "Examine the code cell below and then run it. "
   ]
  },
  {
   "cell_type": "code",
   "execution_count": null,
   "id": "8fadb167-af20-47a8-8811-61c0d8a557f8",
   "metadata": {},
   "outputs": [],
   "source": [
    "square(my_number)"
   ]
  },
  {
   "cell_type": "markdown",
   "id": "b0709d5a-2f1d-41dd-a68c-623cd8193121",
   "metadata": {},
   "source": [
    "The function executes and returns the result of the instructions that it followed. In this case, the result is printed below the code cell, but can be assigned to another variable name by typing ```result = square(my_number)```."
   ]
  },
  {
   "cell_type": "markdown",
   "id": "cf6cceef-da14-4789-9e26-55e4fd7581f3",
   "metadata": {},
   "source": [
    "<a id=\"steady-state\"></a>\n",
    "# Steady State Model\n",
    "\n",
    "[toc](#toc)"
   ]
  },
  {
   "cell_type": "markdown",
   "id": "3722473d-aba8-43bf-bfb9-9d4bfa7201b7",
   "metadata": {},
   "source": [
    "You created a computational model of the steady state membrane potential that depends on the equilibrium potential and resistance of two ion conductances. To implement this computational model in computer code, you need to *define a function* that computes Vin based on your computational model equation. In the following code cell, replace ```...``` with the equation from your computational model that defines $V_{in}$. "
   ]
  },
  {
   "cell_type": "code",
   "execution_count": null,
   "id": "a7152a58-2458-4b02-a680-e40e8b706c95",
   "metadata": {
    "tags": []
   },
   "outputs": [],
   "source": [
    "# define the function\n",
    "\n",
    "def simulate_Vin_steady_state(E1,R1,E2,R2):\n",
    "    \n",
    "    Vin = ... \n",
    "    \n",
    "    return Vin"
   ]
  },
  {
   "cell_type": "markdown",
   "id": "01204164-edb0-4366-a2b5-7f13e62d05b5",
   "metadata": {},
   "source": [
    "<details>\n",
    "<summary> <font color='blue'>Click here for solution </font></summary>\n",
    "    \n",
    "#define the function\n",
    "\n",
    "def simulate_Vin_steady_state(E1,R1,E2,R2):\n",
    "    \n",
    "    Vin = ... #( (E1/R1) + (E2/R2) ) / ( (1/R1) + (1/R2) )\n",
    "    \n",
    "    return Vin\n",
    "    \n",
    "</details>\n",
    "\n",
    "<br>\n",
    "\n",
    "In the code cell below, assign the values that you used in your circuit membrane model (<a href=\"https://colab.research.google.com/github/neurologic/Neurophysiology-Lab/blob/main/modules/passive-membrane-models/Lab-Manual_passive-membrane-models.ipynb\" target=\"_blank\" rel=\"noopener noreferrer\">Passive Membrane Properties lab: Part I</a>) to each variable needed by the function. Then, run the code cell to assign those values to the variables. "
   ]
  },
  {
   "cell_type": "code",
   "execution_count": null,
   "id": "061654fa-3a91-4837-8f07-76ffd2f67702",
   "metadata": {},
   "outputs": [],
   "source": [
    "R1 = ...\n",
    "R2 = ...\n",
    "E1 = ...\n",
    "E2 = ..."
   ]
  },
  {
   "cell_type": "markdown",
   "id": "dae4d9e6-5ff2-4163-ae71-a87126d57053",
   "metadata": {},
   "source": [
    "Now, examine the contents of the code cell below and replace the ```...``` with the model parameters you just defined (separated by commas). Then run the code cell to simulate your computational model given the values you just provided. Note that the order of information provided to the function matters - it must match the order you defined when defining the function."
   ]
  },
  {
   "cell_type": "code",
   "execution_count": null,
   "id": "ca488358-78d9-4906-968a-beb66240e3c5",
   "metadata": {},
   "outputs": [],
   "source": [
    "simulate_Vin_steady_state( ... )"
   ]
  },
  {
   "cell_type": "markdown",
   "id": "8f992762-ee1d-4ef8-988a-7e620db5459e",
   "metadata": {},
   "source": [
    "<details>\n",
    "<summary> <font color='blue'>Click here for solution </font></summary>\n",
    "    \n",
    "simulate_Vin_steady_state(E1,R1,E2,R2)\n",
    "    \n",
    "</details>\n",
    "\n",
    "<br>\n",
    "\n",
    "How do the results of your computational model compare to your manually measured electric circuit model results from that lab? "
   ]
  },
  {
   "cell_type": "markdown",
   "id": "df02cc9a-bcb7-438e-a34c-a8178edb0879",
   "metadata": {},
   "source": [
    "## Interactive Simulation 1: Steady-State Membrane Potential Model\n",
    "\n",
    "Let's implement your computational model into a more interactive simulation that you can use to efficiently explore the predictions of your model. There is more to learn about computer programming in Python than we will cover here to be able to make a more interactive simulation, so I have done the coding for you. But you can click ```Show Code``` if you want to take a look if you want. \n",
    "\n",
    "Run the code cell below to run the interactive simulation. Toggle the sliders to explore the behavior of the model across the parameter space. "
   ]
  },
  {
   "cell_type": "code",
   "execution_count": null,
   "id": "05424958-7a3b-42c4-bed5-960b76737659",
   "metadata": {
    "tags": [
     "hide-input"
    ]
   },
   "outputs": [],
   "source": [
    "#@title {display-mode: 'form'}\n",
    "\n",
    "#@markdown Run this code cell to generate an interactive widget using the scripted \n",
    "#@markdown implementation (of your passive membrane model) that you just created. <br>\n",
    "#@markdown The results of the simulation (given the selected paramaters) is printed on the top line.\n",
    "#@markdown (note that parameter selection actually happens when you release the mouse click from the slider).\n",
    "\n",
    "\n",
    "slider_E1 = widgets.FloatSlider(\n",
    "    min=-100,\n",
    "    max=100,\n",
    "    value=0,\n",
    "    step= 1,\n",
    "    readout=True,\n",
    "    continuous_update=False,\n",
    "    description='E1 (mV)')\n",
    "slider_E1.layout.width = '600px'\n",
    "\n",
    "slider_R1 = widgets.FloatSlider(\n",
    "    min=1,\n",
    "    max=100,\n",
    "    value=1,\n",
    "    step= 1,\n",
    "    readout=True,\n",
    "    continuous_update=False,\n",
    "    description='R1 (MOhm)')\n",
    "slider_R1.layout.width = '600px'\n",
    "\n",
    "slider_E2 = widgets.FloatSlider(\n",
    "    min=-100,\n",
    "    max=100,\n",
    "    value=0,\n",
    "    step= 1,\n",
    "    readout=True,\n",
    "    continuous_update=False,\n",
    "    description='E2 (mV)')\n",
    "slider_E2.layout.width = '600px'\n",
    "\n",
    "slider_R2 = widgets.FloatSlider(\n",
    "    min=1,\n",
    "    max=100,\n",
    "    value=1,\n",
    "    step= 1,\n",
    "    readout=True,\n",
    "    continuous_update=False,\n",
    "    description='R2 (MOhm)')\n",
    "slider_R2.layout.width = '600px'\n",
    "\n",
    "label_result = widgets.Label(\n",
    "    value='The resting membrane potential of the neuron will be: '\n",
    ")\n",
    "label_result.layout.width = '600px'\n",
    "display(label_result)\n",
    "\n",
    "\n",
    "# a function that will modify the xaxis range\n",
    "def update_result(E1,R1,E2,R2):\n",
    "    Vin = simulate_Vin_steady_state(E1,R1,E2,R2)\n",
    "    label_result.value= f'The resting membrane potential of the neuron will be: {Vin:.2f} mV'\n",
    "\n",
    "w = interact(update_result, E1=slider_E1,R1 = slider_R1,E2=slider_E2,R2=slider_R2);"
   ]
  },
  {
   "cell_type": "markdown",
   "id": "c3d860b6-7623-4982-980f-20c33e4757d2",
   "metadata": {},
   "source": [
    "<a id=\"dynamic-model\"></a>\n",
    "# Dynamic Model\n",
    "\n",
    "[toc](#toc)\n",
    "\n",
    "The dynamic computatinoal model that we formulated in class is a differential equation. We can simulate a differential equation by iterating through each time step across an array of time.  \n",
    "\n",
    "Remember that your computational model is in a format useful for calculating the change in voltage ($\\partial{V}$) across some duration of time:\n",
    "\n",
    "$$\n",
    "\\partial{V} = (Iapp - \\frac{V-E}{R}) * (\\frac{\\partial{t}}{C})\n",
    "$$\n",
    "\n",
    "where $Iapp$ is the current applied across the membrane, $V$ is the current membrane potential ($V_{in}$), $E$ is the net equilibrium potential of the membrane at that moment in time, $R$ is the net resistance of the membrane at that moment in time, and $C$ is the membrane capacitance. This equation can be *evaluated* over any value of $\\partial{t}$.\n",
    "\n",
    "Now let's look at how to script a function that iterates through sequential time steps and uses the computational model to determine the membrane potential of the neuron at each time step. In this way, the script defines a function that will implements a simulation of the computational model."
   ]
  },
  {
   "cell_type": "code",
   "execution_count": null,
   "id": "7c80de8d-8eff-4e3a-80c9-e644888ceff9",
   "metadata": {},
   "outputs": [],
   "source": [
    "def simulate_Vin_dynamic(E, R, C, Iapp, duration, dt):\n",
    "    '''\n",
    "    The simulation starts at time = 0 with the voltage given by the input to the function (V)\n",
    "    E = the equilibrium potential of the net ionic conductance\n",
    "    \n",
    "    R = the resistance of the membrane in Ohm\n",
    "    \n",
    "    C = the capacitance of the membrane in Farads\n",
    "    \n",
    "    Iapp = the current (microAmps) applied to the system throughout the simulation\n",
    "    \n",
    "    duration = the total time (seconds) that the current is applied to the system (in this case also the duration of the simulation)\n",
    "    \n",
    "    dt = the time step (seconds) for analysing the simulation (how much time elapses between each analysis of dV)\n",
    "    '''\n",
    "    \n",
    "    timesteps = int(duration/dt)\n",
    "    \n",
    "    '''\n",
    "    we will just use the equilibrium membrane potential of the neuron \n",
    "    as the initial membrane potential \n",
    "    '''\n",
    "    V_record = [E] # initialize an array of membrane potential across time with the initial membrane potential\n",
    "    \n",
    "    ''' then, we will iterate through time using a \"for loop\" '''\n",
    "    for i in range(timesteps): # for each time step, iterate through the simulation\n",
    "        V = V_record[-1] # what is the current membrane potential?\n",
    "        dV = (Iapp - (1/R)*(V-E))*(dt/C) # how much does the voltage change by on this time step?\n",
    "        V = (V+dV) # add the change in voltage to the current voltage\n",
    "        V_record.append(V) # append the new voltage to the array of membrane voltage across time. \n",
    "    \n",
    "    return V_record # make the array \"V_record\" available as an output of the scripted function\n",
    "\n",
    "# Make sure to \"run\" this code cell before moving on, \n",
    "# so that the function \"simulate_Vin_dynamic\" can be used by later code cells."
   ]
  },
  {
   "cell_type": "markdown",
   "id": "75df48dc-1812-4419-a09b-68e2347e088e",
   "metadata": {},
   "source": [
    "To run a simulation of the model, we need to define: 1) the initial conditions of the membrane, and 2) the amplitude of the applied current. \n",
    "\n",
    "Before using the scripted version of your computational model to simulate the membrane potential response to an applied current, it is helpful to manually calculate the response for just a few timesteps after a current is applied. \n",
    "   > Use the following initial conditions: E = -60 millivolts, R = 100 MOhm, C = 100 pF. Apply a 100 pA current across the membrane. \n",
    "   \n",
    "**Time Step 1**\n",
    "1. What is the inital value of $V_{in}$? \n",
    "    > This is the value of $V_{in}$ at the moment when the current is applied.\n",
    "2. At the first time step, what is the value of ($\\partial{V}$)?\n",
    "3. Update $V_{in}$ according to the initial $V_{in}$ + ($\\partial{V}$) on the first time step.\n",
    "\n",
    "**Time Step 2**\n",
    "1. What is the initial value of $V_{in}$ on this time step?\n",
    "2. At this time step, what is the value of ($\\partial{V}$)?\n",
    "3. WHY is the value of ($\\partial{V}$) different for this time step versus the last time step?\n",
    "    > Note there are several ways to address *why*. There is an answer in terms of the value of $V_{in}$. There is also an answer in terms of the current accross the capacitor. Remember, voltage across a capacitor only changes when there is current across the capacitor (and the magnitude of the voltage change is proportional to the amount of current). \n",
    "4. Update $V_{in}$ according to the inital $V_{in}$ + ($\\partial{V}$) on the first time step.\n",
    "\n",
    "**Time Step 3**  \n",
    "*Repeat the steps for time step 2 and notice how/why ($\\partial{V}$) changes again on this time step compared to the first two time steps.*\n",
    "\n",
    "In the code cell below, we are defining the net equilibrium potential of the resting membrane conductances ($E$), the net resistance across the membrane ($R$), and the capacitance of the membrane ($C$). We are then defining the magnitude of the applied current ($Iapp$). We will also specify a duration for the square pulse stimulus (in this case equal to the duration of our simulation). \n",
    "\n",
    "Importantly, we need to set a timestep value ($\\partial{t}$) the time between iterations of the simulation across time). \n",
    "\n",
    "After all of the variables required by the scripted function are defined, the script run a simulation of the computational model. \n",
    "\n",
    "After you run the code cell below, you will see a plot of the simulated membrane potential across time in response to the applied square-wave current step. The calculated $\\tau$ for the model membrane will be printed above the plot. \n",
    "\n",
    "What happens when you increase or decrease the value of $\\partial{t}$? (try it out)"
   ]
  },
  {
   "cell_type": "code",
   "execution_count": null,
   "id": "32d5468b-af48-435b-879b-61a8a8638f69",
   "metadata": {},
   "outputs": [],
   "source": [
    "# define the initial conditions\n",
    "E = -60*1e-3 # millivolts\n",
    "R = 100*1e6 # MOhm\n",
    "C = 100*1e-12 # pF\n",
    "\n",
    "Iapp = 100*1e-12 #pA  \n",
    "duration = 0.1\n",
    "dt = 0.1*1e-3 #msec\n",
    "\n",
    "''' \n",
    "Now we run the simulation\n",
    "- V_record is the output of the function (the array of membrane potential values across time steps)\n",
    "'''\n",
    "V_record = simulate_Vin_dynamic(E, R, C, Iapp, duration, dt)\n",
    "\n",
    "''' \n",
    "Now we plot the results of the simulation (and label the axes)\n",
    "'''\n",
    "hfig, ax = plt.subplots(figsize=(10,5))\n",
    "ax.plot(np.linspace(0,duration,int(duration/dt)+1),V_record,color='black');\n",
    "ax.set_xlabel('seconds');\n",
    "ax.set_ylabel('Volts');\n",
    "\n",
    "''' \n",
    "Finally, we can calculate the time constant of this model membrane and print the value above the figure\n",
    "'''\n",
    "print(f'tau = {(R*C):0.4f} seconds')"
   ]
  },
  {
   "cell_type": "markdown",
   "id": "4e0e894d-4a27-4b01-adcd-038ecd3ac628",
   "metadata": {},
   "source": [
    "## Interactive Simulation 2: Dynamic Membrane Potential Model\n",
    "\n",
    "Let's implement your computational model into a more interactive simulation that you can use to efficiently explore predictions of your model. "
   ]
  },
  {
   "cell_type": "code",
   "execution_count": null,
   "id": "ee9d02b2-8b2e-4cfa-b553-db87b118b385",
   "metadata": {
    "tags": [
     "hide-input"
    ]
   },
   "outputs": [],
   "source": [
    "#@title {display-mode: \"form\"}\n",
    "\n",
    "#@markdown Run this code cell to genrate an interactive widget using the model you just created.  <br>\n",
    "#@markdown The stimulus is a square-wave current pulse starting at t=0 with a duration of 1 second\n",
    "\n",
    "# set up the applied current\n",
    "delay = 0.1 #seconds\n",
    "duration = 1 #seconds\n",
    "\n",
    "# define the simulation conditions\n",
    "total_duration = 1.2 #seconds\n",
    "dt = 0.00001 #seconds\n",
    "\n",
    "# Create sliders for the figure widget inputs\n",
    "E_slider = widgets.FloatSlider(\n",
    "    min=-100,\n",
    "    max=100,\n",
    "    value=0,\n",
    "    step= 1,\n",
    "    readout=True,\n",
    "    continuous_update=False,\n",
    "    description='Equilibrium Potential (mV)',\n",
    "    style = {'description_width': '200px'})\n",
    "E_slider.layout.width = '600px'\n",
    "\n",
    "R_slider = widgets.FloatSlider(\n",
    "    min=0,\n",
    "    max=1000,\n",
    "    value=100,\n",
    "    step= 1,\n",
    "    readout=True,\n",
    "    continuous_update=False,\n",
    "    description='R (MOhm)')\n",
    "R_slider.layout.width = '600px'\n",
    "\n",
    "C_slider = widgets.FloatSlider(\n",
    "    min=0.001,\n",
    "    max=1,\n",
    "    value=0.1,\n",
    "    step= 0.001,\n",
    "    readout=True,\n",
    "    readout_format='.3f',\n",
    "    continuous_update=False,\n",
    "    description='C (nF)')\n",
    "C_slider.layout.width = '600px'\n",
    "\n",
    "thresh_slider = widgets.FloatSlider(\n",
    "    min=0,\n",
    "    max=30,\n",
    "    value=10,\n",
    "    step= 0.5,\n",
    "    readout=True,\n",
    "    continuous_update=True,\n",
    "    description='Relative Spike Threshold (mV)',\n",
    "    style = {'description_width': '200px'})\n",
    "thresh_slider.layout.width = '600px'\n",
    "\n",
    "amplitude_slider = widgets.FloatSlider(\n",
    "    min=-500,\n",
    "    max=500,\n",
    "    value=100,\n",
    "    step= 1,\n",
    "    readout=True,\n",
    "    continuous_update=True,\n",
    "    description='I (pA)')\n",
    "amplitude_slider.layout.width = '600px'\n",
    "\n",
    "label_tau = widgets.Label(\n",
    "    value='tau = '\n",
    ")\n",
    "label_tau.layout.width = '600px'\n",
    "display(label_tau)\n",
    "\n",
    "def update_plot(E,R,C,thresh,amplitude):# set up the simulation items\n",
    "    E = E*1e-3 # convert from millivolts to volts\n",
    "    # V = E # start the simulation at equilibrium\n",
    "    R = R*1e6 # convert from MegaOhm to Ohm\n",
    "    # tau = tau*1e-3 # convert from milliseconds to seconds\n",
    "    amplitude = amplitude*1e-12 # Convert from picoAmps to Amps\n",
    "    C = C*1e-9 # convert from microfarad to farad\n",
    "    \n",
    "    # print(R,tau,C,amplitude)   \n",
    "    \n",
    "    time = np.linspace(0,total_duration,int(total_duration/dt)+1)-delay\n",
    "    stimulus = np.zeros((int(total_duration/dt)))\n",
    "    stimulus[int(delay/dt):int((delay+duration)/dt)]=amplitude\n",
    "    V_record = np.empty((int(total_duration/dt)+1))\n",
    "\n",
    "    # write the \"for\" loop\n",
    "    # simulate_V(E, R, C, Iapp, duration, dt)\n",
    "#     for i,current in enumerate(stimulus):\n",
    "#         dV = dt*((current - (V-E)/R)/C)\n",
    "#         V = (V+dV) \n",
    "#         V_record[i]=V\n",
    "        \n",
    "    V_record[0]=E\n",
    "    for i,Iapp in enumerate(stimulus): # for each time step, iterate through the simulation\n",
    "        V = V_record[i]\n",
    "        dV = (Iapp - (1/R)*(V-E))*(dt/C) # how much does the voltage change by on this time step?\n",
    "        V = (V+dV) # add the change in voltage to the current voltage\n",
    "        V_record[i+1]=V\n",
    "    \n",
    "#     V_record = [V_initial]\n",
    "# for i in range(timesteps): # for each time step, iterate through the simulation\n",
    "#     V = V_record[-1]\n",
    "#     dV = (Iapp - (1/R)*(V-0))*(dt/C) # how much does the voltage change by on this time step?\n",
    "#     V = (V+dV) # add the change in voltage to the current voltage\n",
    "#     V_record.append(V)\n",
    "  \n",
    "    # return V_record\n",
    "\n",
    "    hfig,ax = plt.subplots(figsize=(10,4))\n",
    "    # add simulation vectors to the figure widget\n",
    "    ax.plot(time,V_record*1e3) # convert from Volts to milliVolts\n",
    "    ax.axhline((V_record[0]+thresh), time[0], time[-1], color='k', ls='--')\n",
    "    ax.set_xlabel('seconds')\n",
    "    ax.set_ylabel('mV')\n",
    "    \n",
    "    label_tau.value=f'tau = {(R*C):0.4f} seconds'\n",
    "\n",
    "\n",
    "w = interact(update_plot,\n",
    "             E=E_slider,\n",
    "             R=R_slider, \n",
    "             C=C_slider,\n",
    "             thresh=thresh_slider,\n",
    "             amplitude=amplitude_slider);\n"
   ]
  },
  {
   "cell_type": "markdown",
   "id": "20c41efa-2ecc-4084-91b4-f153c5518b2e",
   "metadata": {},
   "source": [
    "Note that $ 1mV = 100pA * 10MOhm $. Why would you want to measure and report in terms of these units and not V, A, Ohm?"
   ]
  },
  {
   "cell_type": "markdown",
   "id": "f103b7d5-fb8e-4882-89ec-0e6bded455a7",
   "metadata": {},
   "source": [
    "<a id=\"three\"></a>\n",
    "# Spiking\n",
    "\n",
    "[toc](#toc)\n",
    "\n",
    "Simulating spiking output of your model membrane does not require mathematically solving for the voltage-gated conductances. Many computational models of neuron spiking activity simply use knowledge about spike thresholds and refractory periods to implement ***conditional statements*** in the model that simulate spikes. These are often called *Leaky Integrate and Fire* models (***LIF***). \n",
    "\n",
    "The following gives a hybrid english-python description of the implementation:\n",
    "\n",
    "```\n",
    "spike_treshold = x (in mV)\n",
    "spike_amplitude = x (in mV)\n",
    "spike_refractory = x (in ms)\n",
    "after_hyperpolarization = x (in mV)\n",
    "\n",
    "start at t = 0\n",
    "dt = x (in ms)\n",
    "V(t = 0) = Equilibrium Potential\n",
    "\n",
    "repeat the following steps until the end of time is reached:\n",
    "    Determine the current membrane potential\n",
    "    > Vinitial = V(t)\n",
    "\n",
    "    If the current membrane potential is greater than or equal to spike_treshold:\n",
    "        Instead of calculating dV for this timestep, \n",
    "        set the voltage at the next timestep equal to the amplitude of a spike \n",
    "        > V(t + dt) = spike_amplitude\n",
    "    \n",
    "        Move on to the next time step after the refractory period has ended\n",
    "        > t = t + spike_refractory\n",
    "        Set the membrane potential at this time to the after hyperpolarization value\n",
    "        > V(t) = after_hyperpolarization\n",
    "\n",
    "    If the current membrane potential is less than spike_treshold:\n",
    "        Calculate dV according to the RC circuit model of the membrane\n",
    "        Set the voltage at the next timestep equal to Vinitial + dV\n",
    "        > V(t + dt) = Vinitial + dV\n",
    "\n",
    "        Move on to the next time step\n",
    "        > t = t + dt\n",
    "  \n",
    "\n",
    "```"
   ]
  },
  {
   "cell_type": "markdown",
   "id": "facf9015-1f9d-4ea7-ac5f-5b051f68a40e",
   "metadata": {},
   "source": [
    "## Interactive Simulation 3: LIF model neuron\n",
    "\n",
    "This simulation incorporates \"spiking\" into your RC circuit model using conditional statements.\n",
    "The stimulation protocol in the simulation is a 1 second duration (***Long Square***) current step.  \n",
    "\n",
    "Use this simulation to explore the relationships among membrane resistance, capacitance, equilibrium potential, spike threshold, and amplitude of an applied current.\n",
    "\n",
    "Parameters are resported in the following units:\n",
    "- Applied current : pA\n",
    "- Membrane Capacitance : nF\n",
    "- Membrane Resistance : MOhm\n",
    "- Membrane Potentials : mV\n",
    "\n",
    "> Note, that the units of membrane capacitance and resistance have been selected to make the calculation of the Time constant (in milliseconds) easy because: Tau (in ms) = C (in nF) * R (in MOhm)"
   ]
  },
  {
   "cell_type": "code",
   "execution_count": null,
   "id": "1e7108bf-0d9b-437c-96ef-a105a23378b6",
   "metadata": {
    "tags": [
     "hide-input"
    ]
   },
   "outputs": [],
   "source": [
    "#@title {display-mode: \"form\"}\n",
    "\n",
    "#@markdown Run this cell to enable the interactive plot. \n",
    "\n",
    "def default_pars(**kwargs):\n",
    "    pars = {}\n",
    "\n",
    "    # typical neuron parameters#\n",
    "    pars['V_th'] = -55.     # spike threshold [mV]\n",
    "    pars['V_reset'] = -75.  # reset potential [mV]\n",
    "    pars['tau_m'] = 10.     # membrane time constant [ms]\n",
    "    pars['C'] = 0.500        # membrane capacitance [nF]\n",
    "    pars['R_L'] = 50.       # leak Resistance [MOhm]\n",
    "    pars['V_init'] = -75.   # initial potential [mV]\n",
    "    pars['E_L'] = -75.      # leak reversal potential [mV]\n",
    "    pars['tref'] = 1.       # refractory time (ms)\n",
    "\n",
    "    # simulation parameters #\n",
    "    pars['T'] = 1200.  # Total duration of simulation [ms]\n",
    "    pars['dt'] = .001   # Simulation time step [ms]\n",
    "    pars['delay'] = 100 # delay from trial onset to stimulation start [ms]\n",
    "\n",
    "    # external parameters if any #\n",
    "    for k in kwargs:\n",
    "        pars[k] = kwargs[k]\n",
    "\n",
    "    pars['range_t'] = np.arange(0, pars['T'], pars['dt'])-pars['delay']  # Vector of discretized time points [ms]\n",
    "\n",
    "    return pars\n",
    "\n",
    "def plot_volt_trace(pars, v, sp):\n",
    "    \"\"\"\n",
    "    Plot trajetory of membrane potential for a single neuron\n",
    "\n",
    "    Expects:\n",
    "    pars   : parameter dictionary\n",
    "    v      : volt trajetory\n",
    "    sp     : spike train\n",
    "\n",
    "    Returns:\n",
    "    figure of the membrane potential trajetory for a single neuron\n",
    "    \"\"\"\n",
    "    hfig,ax = plt.subplots(figsize=(10,5),num=1)\n",
    "    V_th = pars['V_th']*1e-3\n",
    "    dt, range_t = pars['dt']*1e-3, pars['range_t']*1e-3\n",
    "    if sp.size:\n",
    "        sp_num = (sp / dt).astype(int) - 1\n",
    "        v[sp_num] += (40*1e-3)  # draw nicer spikes\n",
    "    ax.plot(range_t, v, 'b')\n",
    "    ax.axhline(V_th, 0, pars['T'], color='k', ls='--')\n",
    "    ax.set_xlabel('Time (s)',fontsize=14)\n",
    "    ax.set_ylabel('V',fontsize=14)\n",
    "    # ax.set_xticks(fontsize=14)\n",
    "    # ax.set_yticks(fontsize=14)\n",
    "    ax.legend(['Membrane\\npotential', r'Threshold V$_{\\mathrm{th}}$'],\n",
    "             loc=[1.05, 0.75])\n",
    "    ax.set_ylim([-0.090, -0.020])\n",
    "\n",
    "    \n",
    "def run_LIF(pars, Iinj):\n",
    "    \"\"\"\n",
    "    Simulate the LIF dynamics with external input current\n",
    "    Args:\n",
    "    pars       : parameter dictionary\n",
    "    Iinj       : input current [pA]. The injected current here can be a value\n",
    "                 or an array\n",
    "    stop       : boolean. If True, use a current pulse\n",
    "    Returns:\n",
    "    rec_v      : membrane potential\n",
    "    rec_sp     : spike times\n",
    "    \"\"\"\n",
    "\n",
    "    # Set parameters\n",
    "    V_th, V_reset = pars['V_th']*1e-3, pars['V_reset']*1e-3  # convert to V\n",
    "    R_L = pars['R_L']*1e6 #convert to Ohm from MegaOhm\n",
    "    C = pars['C']*1e-9 # convert to Farad from nanoF\n",
    "    V_init, E_L = pars['V_init']*1e-3, pars['E_L']*1e-3 # convert to V\n",
    "    dt, range_t = pars['dt']*1e-3, pars['range_t']*1e-3 # convert to Sec\n",
    "    fs = 1/dt\n",
    "    Lt = range_t.size\n",
    "    tref = pars['tref']*1e-3\n",
    "\n",
    "    # Initialize voltage\n",
    "    v = np.zeros(Lt)\n",
    "    v[0] = V_init\n",
    "\n",
    "    # Set current time course\n",
    "    Iinj = (Iinj*1e-12) * np.ones(Lt) # convert to Amp from picoamp\n",
    "    durstep = int(((1)*fs)) # hard code for now as 1 second.... was int(((durstep*1e-3)*fs)/2)\n",
    "    # If current pulse, set beginning and end to 0\n",
    "    # if stop: (for this one, just do a step\n",
    "    # Iinj[:int(len(Iinj) / 2) - durstep] = 0\n",
    "    # Iinj[int(len(Iinj) / 2) + durstep:] = 0\n",
    "    \n",
    "    delay = int((pars['delay']*1e-3)*fs)\n",
    "    Iinj[:delay] = 0\n",
    "    # Iinj[:int(len(Iinj) / 2) - durstep] = 0\n",
    "    Iinj[(delay+durstep):]=0 \n",
    "    # Iinj[int(len(Iinj) / 2) + durstep:] = 0\n",
    "\n",
    "    # Loop over time\n",
    "    rec_spikes = []  # record spike times\n",
    "    tr = 0.  # the count for refractory duration\n",
    "\n",
    "    for it in range(Lt - 1):\n",
    "\n",
    "        if tr > 0:  # check if in refractory period\n",
    "            v[it] = V_reset  # set voltage to reset\n",
    "            tr = tr - 1 # reduce running counter of refractory period\n",
    "\n",
    "        elif v[it] >= V_th:  # if voltage over threshold\n",
    "            rec_spikes.append(it)  # record spike event\n",
    "            v[it] = V_reset  # reset voltage\n",
    "            tr = tref / dt  # set refractory time\n",
    "\n",
    "        # Calculate the increment of the membrane potential\n",
    "        # dv = (-(v[it] - E_L) + Iinj[it] / g_L) * (dt / tau_m)\n",
    "        dv = (Iinj[it] - ((v[it] - E_L)/R_L))*(dt/C)\n",
    "\n",
    "        # Update the membrane potential\n",
    "        v[it + 1] = v[it] + dv\n",
    "\n",
    "    # Get spike times in ms\n",
    "    rec_spikes = np.array(rec_spikes) * dt\n",
    "\n",
    "    return v, rec_spikes\n",
    "\n",
    "\n",
    "\n",
    "my_layout.width = '700px'\n",
    "# my_layout.description_width = 'initial'\n",
    "style = {'description_width': 'initial'}\n",
    "@widgets.interact(\n",
    "    current_injection=widgets.FloatSlider(50., min=0., max=800., step=1.,\n",
    "                               layout=my_layout,style=style,continuous_update=False),\n",
    "    # Simulation_Duration=widgets.FloatSlider(200., min=0.02, max=5., step=0.01,\n",
    "    #                            layout=my_layout,style=style),\n",
    "    # Injection_Step=widgets.Checkbox(value=True,\n",
    "    #                            description='current step (vs continuous)',\n",
    "    #                            layout=my_layout,style=style),\n",
    "    # Current_Step_Duration=widgets.FloatSlider(100., min=0.01, max=1000., step=0.01,\n",
    "    #                            layout=my_layout,style=style),\n",
    "    Equilibrium_Potential=widgets.FloatSlider(-75., min=-90, max=-30., step=0.2,\n",
    "                               layout=my_layout,style=style,continuous_update=False),\n",
    "    Resistance=widgets.FloatSlider(50., min=0, max=1000., step=1.,\n",
    "                               layout=my_layout,style=style,continuous_update=False),\n",
    "    # AHP_Voltage=widgets.FloatSlider(-70., min=-100., max=-30.,step=1.,\n",
    "    #                            layout=my_layout,style=style,continuous_update=False),\n",
    "    Spike_Threshold=widgets.FloatSlider(-55., min=-100., max=-20., step=0.2,\n",
    "                               layout=my_layout,style=style,continuous_update=True),\n",
    "    Capacitance=widgets.FloatSlider(0.200, min=0.001, max=1, step=0.001,readout_format='.3f',\n",
    "                               layout=my_layout,style=style,continuous_update=False)\n",
    ")\n",
    "\n",
    "\n",
    "def diff_DC(current_injection,\n",
    "            # Simulation_Duration,\n",
    "            # Injection_Step,\n",
    "            # Current_Step_Duration,\n",
    "            Equilibrium_Potential,\n",
    "            Resistance,\n",
    "            Capacitance,\n",
    "            # AHP_Voltage,\n",
    "            Spike_Threshold): #I_dc=200., tau_m=10.):\n",
    "    # pars = default_pars(T=100.)\n",
    "    # pars['tau_m'] = tau_m\n",
    "    pars = default_pars(\n",
    "      E_L = Equilibrium_Potential,\n",
    "      R_L = Resistance,\n",
    "      V_init = Equilibrium_Potential,\n",
    "      V_reset = Spike_Threshold - 10,\n",
    "      V_th = Spike_Threshold,\n",
    "      # tau_m = Membrane_Tau,\n",
    "      C = Capacitance) #,\n",
    "      # T = Simulation_Duration)\n",
    "    # pars=default_pars()\n",
    "    v, sp = run_LIF(pars, Iinj=current_injection) #,stop=Injection_Step,durstep=Current_Step_Duration)\n",
    "    plot_volt_trace(pars, v, sp)\n",
    "\n",
    "print('Interactive demo initiated at ' + str(datetime.now(timezone(-timedelta(hours=5)))))"
   ]
  },
  {
   "cell_type": "markdown",
   "id": "733448cf-66ff-4281-90e0-dd78620e30db",
   "metadata": {},
   "source": [
    "## Interactive Simulation 4: LIF model neuron\n",
    "\n",
    "The stimulation protocol in the simulation is a 1 second duration (***Short Square***) current step. \n",
    "\n",
    "Use this simulation to perform a 'strenght-duration' stimulus threshold experiment on model neurons.\n",
    "\n",
    "Parameters are reported in the following units:\n",
    "- Applied current : nA (note that this is different from the Allen database and simulation 3)\n",
    "- Membrane Capacitance : nF\n",
    "- Membrane Resistance : MOhm\n",
    "- Membrane Potentials : mV\n",
    "\n",
    "> Note, that the units of membrane capacitance and resistance have been selected to make the calculation of the Time constant (in milliseconds) easy because: Tau (in ms) = C (in nF) * R (in MOhm)"
   ]
  },
  {
   "cell_type": "code",
   "execution_count": null,
   "id": "913fae23-bc40-4e5f-8cfc-c5516eabb5fa",
   "metadata": {
    "tags": [
     "hide-input"
    ]
   },
   "outputs": [],
   "source": [
    "#@title {display-mode: \"form\"}\n",
    "\n",
    "#@markdown Run this cell to enable the interactive plot. \n",
    "\n",
    "def default_pars(**kwargs):\n",
    "    pars = {}\n",
    "\n",
    "    # typical neuron parameters#\n",
    "    pars['V_th'] = -55.     # spike threshold [mV]\n",
    "    pars['V_reset'] = -75.  # reset potential [mV]\n",
    "    pars['tau_m'] = 10.     # membrane time constant [ms]\n",
    "    pars['C'] = 500.        # membrane capacitance [pF]\n",
    "    pars['R_L'] = 50.       # leak Resistance [MOhm]\n",
    "    pars['V_init'] = -75.   # initial potential [mV]\n",
    "    pars['E_L'] = -75.      # leak reversal potential [mV]\n",
    "    pars['tref'] = 1.       # refractory time (ms)\n",
    "\n",
    "    # simulation parameters #\n",
    "    pars['T'] = 11.  # Total duration of simulation [ms]\n",
    "    pars['dt'] = .001   # Simulation time step [ms]\n",
    "    pars['delay'] = 0.5 #delay from trial onset to stimulus onset [ms]\n",
    "\n",
    "    # external parameters if any #\n",
    "    for k in kwargs:\n",
    "        pars[k] = kwargs[k]\n",
    "\n",
    "    pars['range_t'] = np.arange(0, pars['T'], pars['dt'])-pars['delay']  # Vector of discretized time points [ms]\n",
    "\n",
    "    return pars\n",
    "\n",
    "def plot_volt_trace(pars, v, sp):\n",
    "    \"\"\"\n",
    "    Plot trajetory of membrane potential for a single neuron\n",
    "\n",
    "    Expects:\n",
    "    pars   : parameter dictionary\n",
    "    v      : volt trajetory\n",
    "    sp     : spike train\n",
    "\n",
    "    Returns:\n",
    "    figure of the membrane potential trajetory for a single neuron\n",
    "    \"\"\"\n",
    "    hfig,ax = plt.subplots(figsize=(10,5),num=1)\n",
    "    V_th = pars['V_th']*1e-3\n",
    "    dt, range_t = pars['dt']*1e-3, pars['range_t']*1e-3\n",
    "    if sp.size:\n",
    "        sp_num = (sp / dt).astype(int) - 1\n",
    "        v[sp_num] += (40*1e-3)  # draw nicer spikes\n",
    "    ax.plot(pars['range_t'], v, 'b')\n",
    "    ax.axhline(V_th, 0, pars['T'], color='k', ls='--')\n",
    "    ax.set_xlabel('Time (ms)',fontsize=14)\n",
    "    ax.set_ylabel('V)',fontsize=14)\n",
    "    # ax.set_xticks(fontsize=14)\n",
    "    # ax.set_yticks(fontsize=14)\n",
    "    ax.legend(['Membrane\\npotential', r'Threshold V$_{\\mathrm{th}}$'],\n",
    "             loc=[1.05, 0.75])\n",
    "    ax.set_ylim([-0.090, -0.020])\n",
    "\n",
    "    \n",
    "def run_LIF(pars, Iinj, durstep):\n",
    "    \"\"\"\n",
    "    Simulate the LIF dynamics with external input current\n",
    "    Args:\n",
    "    pars       : parameter dictionary\n",
    "    Iinj       : input current [pA]. The injected current here can be a value\n",
    "                 or an array\n",
    "    stop       : boolean. If True, use a current pulse\n",
    "    Returns:\n",
    "    rec_v      : membrane potential\n",
    "    rec_sp     : spike times\n",
    "    \"\"\"\n",
    "\n",
    "    # Set parameters\n",
    "    V_th, V_reset = pars['V_th']*1e-3, pars['V_reset']*1e-3  # convert to V\n",
    "    R_L = pars['R_L']*1e6 #convert to Ohm\n",
    "    C = pars['C']*1e-9 # convert to Farad\n",
    "    V_init, E_L = pars['V_init']*1e-3, pars['E_L']*1e-3 # convert to V\n",
    "    dt, range_t = pars['dt']*1e-3, pars['range_t']*1e-3 # convert to Sec\n",
    "    fs = 1/dt\n",
    "    Lt = range_t.size\n",
    "    tref = pars['tref']*1e-3\n",
    "\n",
    "    # Initialize voltage\n",
    "    v = np.zeros(Lt)\n",
    "    v[0] = V_init\n",
    "\n",
    "    # Set current time course\n",
    "    Iinj = (Iinj*1e-9) * np.ones(Lt)\n",
    "    durstep = int(((durstep*1e-3)*fs))\n",
    "    # If current pulse, set beginning and end to 0\n",
    "    \n",
    "    delay = int((0.5*1e-3)*fs)\n",
    "    Iinj[:delay] = 0\n",
    "    # Iinj[:int(len(Iinj) / 2) - durstep] = 0\n",
    "    Iinj[(delay+durstep):]=0 \n",
    "    # Iinj[int(len(Iinj) / 2) + durstep:] = 0\n",
    "\n",
    "    # Loop over time\n",
    "    rec_spikes = []  # record spike times\n",
    "    tr = 0.  # the count for refractory duration\n",
    "\n",
    "    for it in range(Lt - 1):\n",
    "\n",
    "        if tr > 0:  # check if in refractory period\n",
    "            v[it] = V_reset  # set voltage to reset\n",
    "            tr = tr - 1 # reduce running counter of refractory period\n",
    "\n",
    "        elif v[it] >= V_th:  # if voltage over threshold\n",
    "            rec_spikes.append(it)  # record spike event\n",
    "            v[it] = V_reset  # reset voltage\n",
    "            tr = tref / dt  # set refractory time\n",
    "\n",
    "        # Calculate the increment of the membrane potential\n",
    "        # dv = (-(v[it] - E_L) + Iinj[it] / g_L) * (dt / tau_m)\n",
    "        dv = (Iinj[it] - ((v[it] - E_L)/R_L))*(dt/C)\n",
    "\n",
    "        # Update the membrane potential\n",
    "        v[it + 1] = v[it] + dv\n",
    "\n",
    "    # Get spike times in ms\n",
    "    rec_spikes = np.array(rec_spikes) * dt\n",
    "\n",
    "    return v, rec_spikes\n",
    "\n",
    "\n",
    "\n",
    "my_layout.width = '700px'\n",
    "# my_layout.description_width = 'initial'\n",
    "style = {'description_width': 'initial'}\n",
    "@widgets.interact(\n",
    "    current_injection=widgets.FloatSlider(0.500, min=0., max=100., step=0.05,\n",
    "                               layout=my_layout,style=style),\n",
    "    # Simulation_Duration=widgets.FloatSlider(10., min=0.02, max=20., step=0.01,\n",
    "    #                            layout=my_layout,style=style),\n",
    "    # Injection_Step=widgets.Checkbox(value=True,\n",
    "    #                            description='current step (vs continuous)',\n",
    "    #                            layout=my_layout,style=style),\n",
    "    Current_Step_Duration=widgets.FloatSlider(10., min=0.01, max=10., step=0.01,\n",
    "                               layout=my_layout,style=style),\n",
    "    Equilibrium_Potential=widgets.FloatSlider(-75., min=-90, max=-30., step=0.2,\n",
    "                               layout=my_layout,style=style),\n",
    "    Resistance=widgets.FloatSlider(50., min=0, max=1000., step=1.,\n",
    "                               layout=my_layout,style=style),\n",
    "    # AHP_Voltage=widgets.FloatSlider(-70., min=-100., max=-30.,step=2.,\n",
    "    #                            layout=my_layout,style=style),\n",
    "    Spike_Threshold=widgets.FloatSlider(-55., min=-100., max=-20., step=0.2,\n",
    "                               layout=my_layout,style=style),\n",
    "    Capacitance=widgets.FloatSlider(0.200, min=0.001, max=1, step=0.001,readout_format='.3f',\n",
    "                               layout=my_layout,style=style)\n",
    ")\n",
    "\n",
    "\n",
    "def diff_DC(current_injection,\n",
    "            # Simulation_Duration,\n",
    "            Current_Step_Duration,\n",
    "            Equilibrium_Potential,\n",
    "            Resistance,\n",
    "            Capacitance,\n",
    "            # AHP_Voltage,\n",
    "            Spike_Threshold): #I_dc=200., tau_m=10.):\n",
    "    # pars = default_pars(T=100.)\n",
    "    # pars['tau_m'] = tau_m\n",
    "    pars = default_pars(\n",
    "      E_L = Equilibrium_Potential,\n",
    "      R_L = Resistance,\n",
    "      V_init = Equilibrium_Potential,\n",
    "      # V_reset = AHP_Voltage,\n",
    "      V_th = Spike_Threshold,\n",
    "      # tau_m = Membrane_Tau,\n",
    "      C = Capacitance)#,\n",
    "      # T = Simulation_Duration)\n",
    "    # pars=default_pars()\n",
    "    v, sp = run_LIF(pars, Iinj=current_injection,durstep=Current_Step_Duration)\n",
    "    plot_volt_trace(pars, v, sp)\n",
    "\n",
    "print('Interactive demo initiated at ' + str(datetime.now(timezone(-timedelta(hours=5)))));"
   ]
  },
  {
   "cell_type": "markdown",
   "id": "8e15818e-3d08-4d37-8af2-7504f53310d4",
   "metadata": {
    "tags": []
   },
   "source": [
    "<a id=\"one\"></a>\n",
    "# Strength-Duration Tuning\n",
    "\n",
    "First, enter your stimulus duration and amplitude data into a .csv file. Then, you will import that .csv file so that you can fit a hyperbolic estimate to the data. Each row in the table should be a different stimulus condition. You should have a column in the table for stimulus duration and a column for each neuron's amplitude data that you collected. The first row of the spreadsheet needs to contain a unique identifying header/name for each column.   "
   ]
  },
  {
   "cell_type": "markdown",
   "id": "9e603214-3ddc-471b-961b-c5df3d499b95",
   "metadata": {},
   "source": [
    "## Read, fit, and plot strength-duration threshold data\n",
    "\n",
    "The following code cell will import the data from your .csv file and plot it as a scatterplot. Additionally, the data will be fit to the following hyperbolic equation:\n",
    "\n",
    "$$\n",
    "a = r + \\frac{(r*c)}{t}\n",
    "$$\n",
    "\n",
    "where $a$ is the stimulus amplitude, $r$ is the rheobase, $c$ is the chronaxie, and $t$ is the stimulus duration. The fit $r$ and $c$ parameter values will be printed above the figure each time you run the code cell."
   ]
  },
  {
   "cell_type": "code",
   "execution_count": null,
   "id": "3694e295-6764-476b-b250-a37ae85ac803",
   "metadata": {
    "tags": [
     "hide-input"
    ]
   },
   "outputs": [],
   "source": [
    "#@title {display-mode:\"form\"}\n",
    "\n",
    "#@markdown Speficy the filepath to a csv file\n",
    "filepath = 'full filepath goes here' #@param\n",
    "# filepath = '/Users/kperks/Documents/Teaching/Neurophysiology-Lab/modules/computational-model/Results-strength-duration.csv' #@param\n",
    "#@markdown Speficy the header name of one column you want for your x points\n",
    "x_column = 'x_header' #@param\n",
    "#@markdown Speficy the header name of one column you want for your y points\n",
    "y_column = 'y_header' #@param\n",
    "\n",
    "\n",
    "#@markdown Then run this code cell to plot the raw data and the estimated strength-duration curve for this one sample. \n",
    "#@markdown The 'r' and 'c' values will be printed out above the data plot.\n",
    "\n",
    "df = pd.read_csv(filepath)\n",
    "hfig,ax = plt.subplots(figsize=(6,5))\n",
    "sns.scatterplot(x=x_column,y=y_column,data=df,color='black');\n",
    "ax.set_xscale('log')\n",
    "\n",
    "df_ = df[[x_column, y_column]].dropna()\n",
    "params, covs = curve_fit(hyper_fit, df_[x_column],df_[y_column])\n",
    "\n",
    "t_ = np.arange(0.01,10,0.01)\n",
    "a_ = hyper_fit(t_,params[0],params[1])\n",
    "ax.plot(t_,a_,color = 'gray',linestyle='--')\n",
    "# ax.hlines(params[0],0,10,color = 'green')\n",
    "# ax.hlines(2*params[0],0,10,color = 'green',linestyle='--')\n",
    "# ax.vlines(params[1],0,2*params[0],color='purple',linestyle='--')\n",
    "ax.set_ylabel('amplitude (v)')\n",
    "ax.set_xlabel('duration (ms)');\n",
    "ax.set_ylim(-2,100)\n",
    "\n",
    "print(f'r = {params[0]:0.2f}; c = {params[1]:0.2f}')\n"
   ]
  },
  {
   "cell_type": "markdown",
   "id": "0c4edca1-abc8-491b-948b-e340e7acc6cd",
   "metadata": {},
   "source": [
    "## Compare strength-duration tuning across neurons"
   ]
  },
  {
   "cell_type": "code",
   "execution_count": null,
   "id": "41a3dcfa-a712-487e-9d11-69d1946140da",
   "metadata": {
    "tags": [
     "hide-input"
    ]
   },
   "outputs": [],
   "source": [
    "#@title {display-mode:\"form\"}\n",
    "\n",
    "#@markdown Specify the rheobase for each neuron\n",
    "r = [r1,r2] #@param\n",
    "#@markdown Specify the chronaxie for each neuron\n",
    "c = [c1,c2] #@param\n",
    "#@markdown Specify a label for each sample\n",
    "label = ['neuron 1 ID', 'neuron 2 ID'] #@param\n",
    "#@markdown Specify whether you want to plot the x-axis as 'log' or 'linear'\n",
    "x_axis_scale = 'log'\n",
    "\n",
    "#@markdown Then run this code cell to plot the estimated strength-duration curve for each sample. \n",
    "#@markdown The chronaxie will be marked with scatter dot and a gray line connected to the x-axis for each sample.\n",
    "\n",
    "t_ = np.arange(0.01,10,0.01)\n",
    "\n",
    "hfig,ax = plt.subplots(figsize=(6,5))\n",
    "\n",
    "for r_,c_,label_ in zip(r,c,label):\n",
    "    \n",
    "    a_ = hyper_fit(t_,r_,c_)\n",
    "    ax.plot(t_,a_,label=label_)\n",
    "    # ax.scatter(c_,2*r_,zorder=3)\n",
    "    # ax.vlines(c_,0,2*r_,color='gray')\n",
    "\n",
    "ax.set_ylabel('amplitude (v)')\n",
    "ax.set_xlabel('duration (ms)');\n",
    "ax.set_ylim(-2,100)\n",
    "ax.set_xscale(x_axis_scale)\n",
    "plt.legend();"
   ]
  },
  {
   "cell_type": "markdown",
   "id": "d451b557-6777-4492-955e-a41130ad39b9",
   "metadata": {},
   "source": [
    "<hr> \n",
    "Written by Dr. Krista Perks for courses taught at Wesleyan University."
   ]
  },
  {
   "cell_type": "code",
   "execution_count": null,
   "id": "5c707588-d5f6-4142-8289-da7ba6a97dbc",
   "metadata": {},
   "outputs": [],
   "source": []
  },
  {
   "cell_type": "markdown",
   "id": "57a8a68c-055e-4af0-ba4d-67d0d67148f1",
   "metadata": {},
   "source": [
    "<a id=\"setup\"></a>"
   ]
  },
  {
   "cell_type": "markdown",
   "id": "a350712e-e145-4475-9588-e3f19469b5ce",
   "metadata": {},
   "source": [
    "<a id=\"one\"></a>"
   ]
  },
  {
   "cell_type": "markdown",
   "id": "86fd2b4a-b890-465f-bf33-c2057738789e",
   "metadata": {},
   "source": [
    "<a id=\"two\"></a>"
   ]
  },
  {
   "cell_type": "markdown",
   "id": "b05de192-2baf-4d46-8848-6db1e3b50bff",
   "metadata": {},
   "source": [
    "<a id=\"three\"></a>"
   ]
  },
  {
   "cell_type": "markdown",
   "id": "e6519277-fc86-44fd-a75b-f74cad0efcf1",
   "metadata": {},
   "source": [
    "<a id=\"four\"></a>"
   ]
  }
 ],
 "metadata": {
  "kernelspec": {
   "display_name": "Python 3 (ipykernel)",
   "language": "python",
   "name": "python3"
  },
  "language_info": {
   "codemirror_mode": {
    "name": "ipython",
    "version": 3
   },
   "file_extension": ".py",
   "mimetype": "text/x-python",
   "name": "python",
   "nbconvert_exporter": "python",
   "pygments_lexer": "ipython3",
   "version": "3.9.13"
  },
  "widgets": {
   "application/vnd.jupyter.widget-state+json": {
    "state": {
     "008e180faa364443b4851323190b2b16": {
      "model_module": "@jupyter-widgets/controls",
      "model_module_version": "1.5.0",
      "model_name": "SliderStyleModel",
      "state": {
       "description_width": "initial"
      }
     },
     "0094f54a2c524484b725b3a404ac82af": {
      "model_module": "@jupyter-widgets/output",
      "model_module_version": "1.0.0",
      "model_name": "OutputModel",
      "state": {
       "layout": "IPY_MODEL_79cb8d6757404669b7b0b2146d047873",
       "outputs": [
        {
         "data": {
          "image/png": "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\n",
          "text/plain": "<Figure size 720x360 with 1 Axes>"
         },
         "metadata": {
          "image/png": {
           "height": 341,
           "width": 697
          },
          "needs_background": "light"
         },
         "output_type": "display_data"
        }
       ]
      }
     },
     "00c64d13acaf438dade24ce714394f6b": {
      "model_module": "@jupyter-widgets/controls",
      "model_module_version": "1.5.0",
      "model_name": "FloatSliderModel",
      "state": {
       "continuous_update": false,
       "description": "Equilibrium_Potential",
       "layout": "IPY_MODEL_1d93ef549c734aa7a224873105b872a4",
       "max": -30,
       "min": -90,
       "step": 0.2,
       "style": "IPY_MODEL_2d79286d740a480fba5f9a310b96ee03",
       "value": -75
      }
     },
     "0125155975d94316b79b76ca9e644203": {
      "model_module": "@jupyter-widgets/base",
      "model_module_version": "1.2.0",
      "model_name": "LayoutModel",
      "state": {
       "width": "600px"
      }
     },
     "0168f332ec304c178f67ce766965c911": {
      "model_module": "@jupyter-widgets/controls",
      "model_module_version": "1.5.0",
      "model_name": "SliderStyleModel",
      "state": {
       "description_width": "initial"
      }
     },
     "0315f92e8f0b4a7aab38bb1f1116c866": {
      "model_module": "@jupyter-widgets/controls",
      "model_module_version": "1.5.0",
      "model_name": "FloatSliderModel",
      "state": {
       "description": "Equilibrium_Potential",
       "layout": "IPY_MODEL_1d93ef549c734aa7a224873105b872a4",
       "max": -30,
       "min": -90,
       "step": 2,
       "style": "IPY_MODEL_5dc3357a42bc463ca60097a5c886f02a",
       "value": -75
      }
     },
     "03178263464c4a37a498ef533b36c35b": {
      "model_module": "@jupyter-widgets/controls",
      "model_module_version": "1.5.0",
      "model_name": "SliderStyleModel",
      "state": {
       "description_width": ""
      }
     },
     "032381e73b4a4ad8a43ed342a437837d": {
      "model_module": "@jupyter-widgets/controls",
      "model_module_version": "1.5.0",
      "model_name": "SliderStyleModel",
      "state": {
       "description_width": "initial"
      }
     },
     "037d4eded8ca482abcf136fc9c2c522b": {
      "model_module": "@jupyter-widgets/base",
      "model_module_version": "1.2.0",
      "model_name": "LayoutModel",
      "state": {}
     },
     "03c76709c406486b93c0a5c7dfd527d4": {
      "model_module": "@jupyter-widgets/controls",
      "model_module_version": "1.5.0",
      "model_name": "FloatSliderModel",
      "state": {
       "description": "Equilibrium_Potential",
       "layout": "IPY_MODEL_1d93ef549c734aa7a224873105b872a4",
       "max": -30,
       "min": -90,
       "step": 2,
       "style": "IPY_MODEL_0a3d2a8b6e40438995e9d9b7e062e7bc",
       "value": -75
      }
     },
     "06016f748c1c463ab5c05ccc1811659e": {
      "model_module": "@jupyter-widgets/controls",
      "model_module_version": "1.5.0",
      "model_name": "FloatSliderModel",
      "state": {
       "continuous_update": false,
       "description": "Resistance",
       "layout": "IPY_MODEL_1d93ef549c734aa7a224873105b872a4",
       "max": 1000,
       "style": "IPY_MODEL_6ad63adf229b4deb9e47c846a417f008",
       "value": 50
      }
     },
     "06aa7dc1122046ada6374c9d18d281ab": {
      "model_module": "@jupyter-widgets/controls",
      "model_module_version": "1.5.0",
      "model_name": "SliderStyleModel",
      "state": {
       "description_width": "initial"
      }
     },
     "070211de3d9e46ad921fdf151fa2c8f8": {
      "model_module": "@jupyter-widgets/controls",
      "model_module_version": "1.5.0",
      "model_name": "SliderStyleModel",
      "state": {
       "description_width": ""
      }
     },
     "082e44e5cce34c5c8a06eb41dd8a6155": {
      "model_module": "@jupyter-widgets/controls",
      "model_module_version": "1.5.0",
      "model_name": "VBoxModel",
      "state": {
       "_dom_classes": [
        "widget-interact"
       ],
       "children": [
        "IPY_MODEL_169e37114a784c49b6330e6f5d59d4cb",
        "IPY_MODEL_00c64d13acaf438dade24ce714394f6b",
        "IPY_MODEL_492d60ff2c8444a08e5562e7fdee753c",
        "IPY_MODEL_ffac30b611054f11963eabccc7b3eaff",
        "IPY_MODEL_350bf5701faf4d02ab95469316321d04",
        "IPY_MODEL_1ee0fe350da74c82894b0a06ac662886",
        "IPY_MODEL_0094f54a2c524484b725b3a404ac82af"
       ],
       "layout": "IPY_MODEL_57577108d454445ebff9418bf8b68766"
      }
     },
     "0868adef318649a3b3b84aa3ac7d2862": {
      "model_module": "@jupyter-widgets/output",
      "model_module_version": "1.0.0",
      "model_name": "OutputModel",
      "state": {
       "layout": "IPY_MODEL_a06e573e868b4ab289ba83ed63379911",
       "outputs": [
        {
         "data": {
          "image/png": "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\n",
          "text/plain": "<Figure size 720x288 with 1 Axes>"
         },
         "metadata": {
          "image/png": {
           "height": 270,
           "width": 702
          },
          "needs_background": "light"
         },
         "output_type": "display_data"
        }
       ]
      }
     },
     "0a02205fc3254deea3d2c3bee271ab31": {
      "model_module": "@jupyter-widgets/base",
      "model_module_version": "1.2.0",
      "model_name": "LayoutModel",
      "state": {}
     },
     "0a3d2a8b6e40438995e9d9b7e062e7bc": {
      "model_module": "@jupyter-widgets/controls",
      "model_module_version": "1.5.0",
      "model_name": "SliderStyleModel",
      "state": {
       "description_width": "initial"
      }
     },
     "0a9c420953b7412794d1842f8f945864": {
      "model_module": "@jupyter-widgets/controls",
      "model_module_version": "1.5.0",
      "model_name": "SliderStyleModel",
      "state": {
       "description_width": "initial"
      }
     },
     "0af0c0dff15d46ca86af4c19f828edc2": {
      "model_module": "@jupyter-widgets/base",
      "model_module_version": "1.2.0",
      "model_name": "LayoutModel",
      "state": {
       "width": "600px"
      }
     },
     "0bfdb29108534cc5aa22732da7b486d5": {
      "model_module": "@jupyter-widgets/controls",
      "model_module_version": "1.5.0",
      "model_name": "FloatSliderModel",
      "state": {
       "continuous_update": false,
       "description": "I (pA)",
       "layout": "IPY_MODEL_b96356c201a24473a850ea7557f9fdf5",
       "max": 500,
       "min": -500,
       "style": "IPY_MODEL_1c3eb57053e4483aaaad1307d28a2761",
       "value": 100
      }
     },
     "0cf17dcc879948988b38f7174de9d645": {
      "model_module": "@jupyter-widgets/output",
      "model_module_version": "1.0.0",
      "model_name": "OutputModel",
      "state": {
       "layout": "IPY_MODEL_86512f9b47a84f8d8e93d9601ad85c11",
       "outputs": [
        {
         "data": {
          "image/png": "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\n",
          "text/plain": "<Figure size 720x360 with 1 Axes>"
         },
         "metadata": {
          "image/png": {
           "height": 341,
           "width": 697
          },
          "needs_background": "light"
         },
         "output_type": "display_data"
        }
       ]
      }
     },
     "0de4881ecd984ff399dae09b1c0765ad": {
      "model_module": "@jupyter-widgets/controls",
      "model_module_version": "1.5.0",
      "model_name": "FloatSliderModel",
      "state": {
       "continuous_update": false,
       "description": "AHP_Voltage",
       "layout": "IPY_MODEL_1d93ef549c734aa7a224873105b872a4",
       "max": -30,
       "min": -100,
       "style": "IPY_MODEL_882fd25bd0444734b070a1005129c43b",
       "value": -70
      }
     },
     "0ecef4c4b9df4a3182c695a2ccb385db": {
      "model_module": "@jupyter-widgets/controls",
      "model_module_version": "1.5.0",
      "model_name": "SliderStyleModel",
      "state": {
       "description_width": "initial"
      }
     },
     "0f007d9e5a4441c6ae51cba2bc9e0b2a": {
      "model_module": "@jupyter-widgets/base",
      "model_module_version": "1.2.0",
      "model_name": "LayoutModel",
      "state": {}
     },
     "0f3f04b7da934d1bb4fb659cfff76d19": {
      "model_module": "@jupyter-widgets/controls",
      "model_module_version": "1.5.0",
      "model_name": "FloatSliderModel",
      "state": {
       "description": "Current_Step_Duration",
       "layout": "IPY_MODEL_1d93ef549c734aa7a224873105b872a4",
       "max": 3,
       "min": 0.01,
       "step": 0.01,
       "style": "IPY_MODEL_e0f5b9ff87e64611b5da9cec008112d3",
       "value": 3
      }
     },
     "0f4e42bb4c0549c597cbaa0d90b778a3": {
      "model_module": "@jupyter-widgets/base",
      "model_module_version": "1.2.0",
      "model_name": "LayoutModel",
      "state": {}
     },
     "0f971fd1f8064fb9bdb2b0de65b6df6a": {
      "model_module": "@jupyter-widgets/controls",
      "model_module_version": "1.5.0",
      "model_name": "SliderStyleModel",
      "state": {
       "description_width": "initial"
      }
     },
     "102f73e4b76649a1b96770bb3a42954b": {
      "model_module": "@jupyter-widgets/controls",
      "model_module_version": "1.5.0",
      "model_name": "SliderStyleModel",
      "state": {
       "description_width": "initial"
      }
     },
     "106458222f00495fa7544146ed37efb9": {
      "model_module": "@jupyter-widgets/controls",
      "model_module_version": "1.5.0",
      "model_name": "VBoxModel",
      "state": {
       "_dom_classes": [
        "widget-interact"
       ],
       "children": [
        "IPY_MODEL_fd22012b36044c46a5aa3dd1dc071b8b",
        "IPY_MODEL_db0f2fcfbc5b4643ba9463f2a9a113b1",
        "IPY_MODEL_8f99f85ed4eb447b88d9f2eddb94a49a",
        "IPY_MODEL_ad7b18cd0cd047779f60db658d7f409a",
        "IPY_MODEL_834a3586dd3c4009902fac8e792720ef",
        "IPY_MODEL_7a6e860f232e49268d70e946f877c566",
        "IPY_MODEL_0cf17dcc879948988b38f7174de9d645"
       ],
       "layout": "IPY_MODEL_4a615da711dd48c8a2c95d4cbd19f74d"
      }
     },
     "11bb768a831240dcaa36ec54869de920": {
      "model_module": "@jupyter-widgets/controls",
      "model_module_version": "1.5.0",
      "model_name": "FloatSliderModel",
      "state": {
       "continuous_update": false,
       "description": "Capacitance",
       "layout": "IPY_MODEL_1d93ef549c734aa7a224873105b872a4",
       "max": 1,
       "min": 0.001,
       "readout_format": ".3f",
       "step": 0.001,
       "style": "IPY_MODEL_fceb75aa9b96414384d11d98c3a4a84f",
       "value": 0.2
      }
     },
     "14e39f12ca7f4669a20d4194a87e60c0": {
      "model_module": "@jupyter-widgets/controls",
      "model_module_version": "1.5.0",
      "model_name": "FloatSliderModel",
      "state": {
       "description": "Equilibrium_Potential",
       "layout": "IPY_MODEL_1d93ef549c734aa7a224873105b872a4",
       "max": -30,
       "min": -90,
       "step": 2,
       "style": "IPY_MODEL_0a9c420953b7412794d1842f8f945864",
       "value": -75
      }
     },
     "15613e97c23146178d543e1e5326e06d": {
      "model_module": "@jupyter-widgets/controls",
      "model_module_version": "1.5.0",
      "model_name": "SliderStyleModel",
      "state": {
       "description_width": "initial"
      }
     },
     "163a3d0d6e884de585f6893e750080a1": {
      "model_module": "@jupyter-widgets/controls",
      "model_module_version": "1.5.0",
      "model_name": "SliderStyleModel",
      "state": {
       "description_width": "initial"
      }
     },
     "166d9d0986a04a5a8ca11cdffb9339f4": {
      "model_module": "@jupyter-widgets/base",
      "model_module_version": "1.2.0",
      "model_name": "LayoutModel",
      "state": {
       "width": "600px"
      }
     },
     "16930ceb26984044aaddfaf408444f63": {
      "model_module": "@jupyter-widgets/controls",
      "model_module_version": "1.5.0",
      "model_name": "FloatSliderModel",
      "state": {
       "continuous_update": false,
       "description": "Capacitance",
       "layout": "IPY_MODEL_1d93ef549c734aa7a224873105b872a4",
       "max": 1,
       "min": 0.001,
       "readout_format": ".3f",
       "step": 0.001,
       "style": "IPY_MODEL_1fc444dcb5d646cc87c607f8d562d541",
       "value": 0.2
      }
     },
     "169e37114a784c49b6330e6f5d59d4cb": {
      "model_module": "@jupyter-widgets/controls",
      "model_module_version": "1.5.0",
      "model_name": "FloatSliderModel",
      "state": {
       "continuous_update": false,
       "description": "current_injection",
       "layout": "IPY_MODEL_1d93ef549c734aa7a224873105b872a4",
       "max": 800,
       "style": "IPY_MODEL_36e6f32940724499acf5a96c2a1e2665",
       "value": 50
      }
     },
     "1b88db30d8214dd2aa19f62ebe16797a": {
      "model_module": "@jupyter-widgets/output",
      "model_module_version": "1.0.0",
      "model_name": "OutputModel",
      "state": {
       "layout": "IPY_MODEL_6793fcb9cc8d4a9dad6cd5bced2468ff",
       "outputs": [
        {
         "data": {
          "image/png": "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\n",
          "text/plain": "<Figure size 720x360 with 1 Axes>"
         },
         "metadata": {
          "image/png": {
           "height": 341,
           "width": 697
          },
          "needs_background": "light"
         },
         "output_type": "display_data"
        }
       ]
      }
     },
     "1b8b1dfee822408bbf155908ab270cbd": {
      "model_module": "@jupyter-widgets/controls",
      "model_module_version": "1.5.0",
      "model_name": "DescriptionStyleModel",
      "state": {
       "description_width": ""
      }
     },
     "1bacde2f0e244c06afd85ce6b17a9d8d": {
      "model_module": "@jupyter-widgets/controls",
      "model_module_version": "1.5.0",
      "model_name": "FloatSliderModel",
      "state": {
       "continuous_update": false,
       "description": "Resistance",
       "layout": "IPY_MODEL_1d93ef549c734aa7a224873105b872a4",
       "max": 1000,
       "style": "IPY_MODEL_3ad4bb00beea4050878a1e8dbbd5bda2",
       "value": 50
      }
     },
     "1bca7725018e4ea3892ac2da9f5a3f51": {
      "model_module": "@jupyter-widgets/controls",
      "model_module_version": "1.5.0",
      "model_name": "VBoxModel",
      "state": {
       "_dom_classes": [
        "widget-interact"
       ],
       "children": [
        "IPY_MODEL_216ab413e3054755aa975d0e54520458",
        "IPY_MODEL_2fcf9f796c3f47028a6c411c60e6a79e",
        "IPY_MODEL_3e5112df2aa14651afc2f800420b837f",
        "IPY_MODEL_2a1b95a924f64af7aac04fae64d5bc21",
        "IPY_MODEL_9743fb345db6402b806bf10e89d2f8bc",
        "IPY_MODEL_4d39a0a3a02d43a7a1de2d1158c22552",
        "IPY_MODEL_1d24d560fcf343a085634ec997ced0f0"
       ],
       "layout": "IPY_MODEL_0f007d9e5a4441c6ae51cba2bc9e0b2a"
      }
     },
     "1c3eb57053e4483aaaad1307d28a2761": {
      "model_module": "@jupyter-widgets/controls",
      "model_module_version": "1.5.0",
      "model_name": "SliderStyleModel",
      "state": {
       "description_width": ""
      }
     },
     "1cbf6e5af0424403948e31407f8efd89": {
      "model_module": "@jupyter-widgets/controls",
      "model_module_version": "1.5.0",
      "model_name": "FloatSliderModel",
      "state": {
       "description": "Spike_Threshold",
       "layout": "IPY_MODEL_1d93ef549c734aa7a224873105b872a4",
       "max": -20,
       "min": -100,
       "step": 2,
       "style": "IPY_MODEL_3a92e20551604fb7865fe08d90a59cee",
       "value": -55
      }
     },
     "1d24d560fcf343a085634ec997ced0f0": {
      "model_module": "@jupyter-widgets/output",
      "model_module_version": "1.0.0",
      "model_name": "OutputModel",
      "state": {
       "layout": "IPY_MODEL_30cdb9647b48452d8e069bf4c4a805e5",
       "outputs": [
        {
         "data": {
          "image/png": "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\n",
          "text/plain": "<Figure size 720x360 with 1 Axes>"
         },
         "metadata": {
          "image/png": {
           "height": 341,
           "width": 697
          },
          "needs_background": "light"
         },
         "output_type": "display_data"
        }
       ]
      }
     },
     "1d64aeaa6cda42df9a357fb7b974a134": {
      "model_module": "@jupyter-widgets/controls",
      "model_module_version": "1.5.0",
      "model_name": "SliderStyleModel",
      "state": {
       "description_width": "initial"
      }
     },
     "1d8157b1ae614599b1a1ff189a200e6c": {
      "model_module": "@jupyter-widgets/output",
      "model_module_version": "1.0.0",
      "model_name": "OutputModel",
      "state": {
       "layout": "IPY_MODEL_5e4e1f71bd6c4351b7c87a72f1e5007b",
       "outputs": [
        {
         "data": {
          "image/png": "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\n",
          "text/plain": "<Figure size 720x360 with 1 Axes>"
         },
         "metadata": {
          "image/png": {
           "height": 341,
           "width": 697
          },
          "needs_background": "light"
         },
         "output_type": "display_data"
        }
       ]
      }
     },
     "1d93ef549c734aa7a224873105b872a4": {
      "model_module": "@jupyter-widgets/base",
      "model_module_version": "1.2.0",
      "model_name": "LayoutModel",
      "state": {
       "width": "700px"
      }
     },
     "1da93c6c21a14721a640d7e990a2a77a": {
      "model_module": "@jupyter-widgets/controls",
      "model_module_version": "1.5.0",
      "model_name": "SliderStyleModel",
      "state": {
       "description_width": "initial"
      }
     },
     "1e9646da30cb46a69fc50b7b40bc8d1f": {
      "model_module": "@jupyter-widgets/controls",
      "model_module_version": "1.5.0",
      "model_name": "VBoxModel",
      "state": {
       "_dom_classes": [
        "widget-interact"
       ],
       "children": [
        "IPY_MODEL_20f673f029f4465ab9a3d1274de1754c",
        "IPY_MODEL_deb4267fedcf4bd290a625775a38865e",
        "IPY_MODEL_1bacde2f0e244c06afd85ce6b17a9d8d",
        "IPY_MODEL_11bb768a831240dcaa36ec54869de920",
        "IPY_MODEL_2a8169012e694025b8056b75fd54d737",
        "IPY_MODEL_cce577c13b2845f2a51aaf9cd6c3b947",
        "IPY_MODEL_2761de99370c4f4a8ba3111bdc21d9d4"
       ],
       "layout": "IPY_MODEL_aa062a456ac2475793fd6a05581297f4"
      }
     },
     "1ee0fe350da74c82894b0a06ac662886": {
      "model_module": "@jupyter-widgets/controls",
      "model_module_version": "1.5.0",
      "model_name": "FloatSliderModel",
      "state": {
       "continuous_update": false,
       "description": "Spike_Threshold",
       "layout": "IPY_MODEL_1d93ef549c734aa7a224873105b872a4",
       "max": -20,
       "min": -100,
       "step": 0.2,
       "style": "IPY_MODEL_4b4998a3aa364fa688e79a607685b534",
       "value": -55
      }
     },
     "1fc444dcb5d646cc87c607f8d562d541": {
      "model_module": "@jupyter-widgets/controls",
      "model_module_version": "1.5.0",
      "model_name": "SliderStyleModel",
      "state": {
       "description_width": "initial"
      }
     },
     "204beecd5c5b4eadacd44ff05c3c5f98": {
      "model_module": "@jupyter-widgets/controls",
      "model_module_version": "1.5.0",
      "model_name": "SliderStyleModel",
      "state": {
       "description_width": "initial"
      }
     },
     "20f673f029f4465ab9a3d1274de1754c": {
      "model_module": "@jupyter-widgets/controls",
      "model_module_version": "1.5.0",
      "model_name": "FloatSliderModel",
      "state": {
       "continuous_update": false,
       "description": "current_injection",
       "layout": "IPY_MODEL_1d93ef549c734aa7a224873105b872a4",
       "max": 800,
       "style": "IPY_MODEL_a919c81399424d2cb342e0953a0d0d03",
       "value": 50
      }
     },
     "216ab413e3054755aa975d0e54520458": {
      "model_module": "@jupyter-widgets/controls",
      "model_module_version": "1.5.0",
      "model_name": "FloatSliderModel",
      "state": {
       "continuous_update": false,
       "description": "current_injection",
       "layout": "IPY_MODEL_1d93ef549c734aa7a224873105b872a4",
       "max": 800,
       "style": "IPY_MODEL_9e8c3a13ba3942f084338e13350719e0",
       "value": 510
      }
     },
     "22bc9320fc1942fe8e0d8f6efeefa73d": {
      "model_module": "@jupyter-widgets/base",
      "model_module_version": "1.2.0",
      "model_name": "LayoutModel",
      "state": {
       "width": "600px"
      }
     },
     "23066a964e2245799494411a6a97a606": {
      "model_module": "@jupyter-widgets/controls",
      "model_module_version": "1.5.0",
      "model_name": "LabelModel",
      "state": {
       "layout": "IPY_MODEL_4e7e47a8f80b46e6a440cf056e7254fd",
       "style": "IPY_MODEL_742ca91b898a4586a8305a953473a48e",
       "value": "tau = 0.0550 seconds"
      }
     },
     "25428c1ed58a4fe3b991b44e1702d8e0": {
      "model_module": "@jupyter-widgets/controls",
      "model_module_version": "1.5.0",
      "model_name": "FloatSliderModel",
      "state": {
       "continuous_update": false,
       "description": "current_injection",
       "layout": "IPY_MODEL_1d93ef549c734aa7a224873105b872a4",
       "max": 800,
       "style": "IPY_MODEL_afdac670eb5f40829953137aa630337d",
       "value": 50
      }
     },
     "257a4548a6274696ac8ba27cb200b11f": {
      "model_module": "@jupyter-widgets/controls",
      "model_module_version": "1.5.0",
      "model_name": "SliderStyleModel",
      "state": {
       "description_width": "initial"
      }
     },
     "261ff841d9f846d68aa320b5bf3310f2": {
      "model_module": "@jupyter-widgets/controls",
      "model_module_version": "1.5.0",
      "model_name": "SliderStyleModel",
      "state": {
       "description_width": "initial"
      }
     },
     "2625ab8fd95b4b33b182340e30fef266": {
      "model_module": "@jupyter-widgets/output",
      "model_module_version": "1.0.0",
      "model_name": "OutputModel",
      "state": {
       "layout": "IPY_MODEL_57f06c9d6ebe405ebda7ed3e351518f7",
       "outputs": [
        {
         "data": {
          "image/png": "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\n",
          "text/plain": "<Figure size 720x360 with 1 Axes>"
         },
         "metadata": {
          "image/png": {
           "height": 341,
           "width": 697
          },
          "needs_background": "light"
         },
         "output_type": "display_data"
        }
       ]
      }
     },
     "2626becabadd4672bbbbfb8eddbc4ce2": {
      "model_module": "@jupyter-widgets/base",
      "model_module_version": "1.2.0",
      "model_name": "LayoutModel",
      "state": {}
     },
     "2761de99370c4f4a8ba3111bdc21d9d4": {
      "model_module": "@jupyter-widgets/output",
      "model_module_version": "1.0.0",
      "model_name": "OutputModel",
      "state": {
       "layout": "IPY_MODEL_0a02205fc3254deea3d2c3bee271ab31",
       "outputs": [
        {
         "data": {
          "image/png": "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\n",
          "text/plain": "<Figure size 720x360 with 1 Axes>"
         },
         "metadata": {
          "image/png": {
           "height": 341,
           "width": 697
          },
          "needs_background": "light"
         },
         "output_type": "display_data"
        }
       ]
      }
     },
     "29f9e5e8578d4e71b85e6f95973baa2d": {
      "model_module": "@jupyter-widgets/controls",
      "model_module_version": "1.5.0",
      "model_name": "SliderStyleModel",
      "state": {
       "description_width": "initial"
      }
     },
     "2a1b95a924f64af7aac04fae64d5bc21": {
      "model_module": "@jupyter-widgets/controls",
      "model_module_version": "1.5.0",
      "model_name": "FloatSliderModel",
      "state": {
       "continuous_update": false,
       "description": "Capacitance",
       "layout": "IPY_MODEL_1d93ef549c734aa7a224873105b872a4",
       "max": 1,
       "min": 0.001,
       "readout_format": ".3f",
       "step": 0.001,
       "style": "IPY_MODEL_b2aa7e5613be474f8f788136d165d8d7",
       "value": 0.608
      }
     },
     "2a8169012e694025b8056b75fd54d737": {
      "model_module": "@jupyter-widgets/controls",
      "model_module_version": "1.5.0",
      "model_name": "FloatSliderModel",
      "state": {
       "continuous_update": false,
       "description": "AHP_Voltage",
       "layout": "IPY_MODEL_1d93ef549c734aa7a224873105b872a4",
       "max": -30,
       "min": -100,
       "style": "IPY_MODEL_5019e5b07fcf4a6d90f8669c30ce2fa1",
       "value": -70
      }
     },
     "2ab1bc2c28054f9081e22b7213412731": {
      "model_module": "@jupyter-widgets/output",
      "model_module_version": "1.0.0",
      "model_name": "OutputModel",
      "state": {
       "layout": "IPY_MODEL_7854beb921b248ddbd1567b6c9638b00",
       "outputs": [
        {
         "data": {
          "image/png": "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\n",
          "text/plain": "<Figure size 720x360 with 1 Axes>"
         },
         "metadata": {
          "image/png": {
           "height": 341,
           "width": 697
          },
          "needs_background": "light"
         },
         "output_type": "display_data"
        }
       ]
      }
     },
     "2d79286d740a480fba5f9a310b96ee03": {
      "model_module": "@jupyter-widgets/controls",
      "model_module_version": "1.5.0",
      "model_name": "SliderStyleModel",
      "state": {
       "description_width": "initial"
      }
     },
     "2fcf9f796c3f47028a6c411c60e6a79e": {
      "model_module": "@jupyter-widgets/controls",
      "model_module_version": "1.5.0",
      "model_name": "FloatSliderModel",
      "state": {
       "continuous_update": false,
       "description": "Equilibrium_Potential",
       "layout": "IPY_MODEL_1d93ef549c734aa7a224873105b872a4",
       "max": -30,
       "min": -90,
       "step": 0.2,
       "style": "IPY_MODEL_4d67b2c8c7d04ed2ab852d7d879a75b2",
       "value": -70.6
      }
     },
     "30cdb9647b48452d8e069bf4c4a805e5": {
      "model_module": "@jupyter-widgets/base",
      "model_module_version": "1.2.0",
      "model_name": "LayoutModel",
      "state": {}
     },
     "32e0df6a4cb4400db6f81fc0517b186c": {
      "model_module": "@jupyter-widgets/base",
      "model_module_version": "1.2.0",
      "model_name": "LayoutModel",
      "state": {}
     },
     "335043429a4d4bf3bfc1a1c1d7d00b5a": {
      "model_module": "@jupyter-widgets/controls",
      "model_module_version": "1.5.0",
      "model_name": "FloatSliderModel",
      "state": {
       "continuous_update": false,
       "description": "current_injection",
       "layout": "IPY_MODEL_1d93ef549c734aa7a224873105b872a4",
       "max": 800,
       "style": "IPY_MODEL_727accd5d25e435599465bab95d2741e",
       "value": 510
      }
     },
     "348dc96e7dbb411080fda1c2187518f7": {
      "model_module": "@jupyter-widgets/controls",
      "model_module_version": "1.5.0",
      "model_name": "FloatSliderModel",
      "state": {
       "description": "Resistance",
       "layout": "IPY_MODEL_1d93ef549c734aa7a224873105b872a4",
       "max": 1000,
       "style": "IPY_MODEL_e7d874fd966449e0bbfe882018389ed5",
       "value": 50
      }
     },
     "350bf5701faf4d02ab95469316321d04": {
      "model_module": "@jupyter-widgets/controls",
      "model_module_version": "1.5.0",
      "model_name": "FloatSliderModel",
      "state": {
       "continuous_update": false,
       "description": "AHP_Voltage",
       "layout": "IPY_MODEL_1d93ef549c734aa7a224873105b872a4",
       "max": -30,
       "min": -100,
       "style": "IPY_MODEL_0168f332ec304c178f67ce766965c911",
       "value": -70
      }
     },
     "36e6f32940724499acf5a96c2a1e2665": {
      "model_module": "@jupyter-widgets/controls",
      "model_module_version": "1.5.0",
      "model_name": "SliderStyleModel",
      "state": {
       "description_width": "initial"
      }
     },
     "37cbc4637013446b98d16d6c30ef3c91": {
      "model_module": "@jupyter-widgets/controls",
      "model_module_version": "1.5.0",
      "model_name": "VBoxModel",
      "state": {
       "_dom_classes": [
        "widget-interact"
       ],
       "children": [
        "IPY_MODEL_a1d1b34e20054f78b3383b904eb8ea1b",
        "IPY_MODEL_a98f977ab0294e47b364db350f4c5e1a",
        "IPY_MODEL_14e39f12ca7f4669a20d4194a87e60c0",
        "IPY_MODEL_348dc96e7dbb411080fda1c2187518f7",
        "IPY_MODEL_8c301db5cb0a4515bd4393fcc7f14d6d",
        "IPY_MODEL_c35e3809fa9b4f0d9113e2bf553de8bb",
        "IPY_MODEL_ed76bdf0f656427893d2cf18c9943fb8"
       ],
       "layout": "IPY_MODEL_6250811e67b34a2fb597c7836d990930"
      }
     },
     "3978673ac3254b2fb559be18c21549b9": {
      "model_module": "@jupyter-widgets/output",
      "model_module_version": "1.0.0",
      "model_name": "OutputModel",
      "state": {
       "layout": "IPY_MODEL_037d4eded8ca482abcf136fc9c2c522b",
       "outputs": [
        {
         "data": {
          "image/png": "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\n",
          "text/plain": "<Figure size 720x360 with 1 Axes>"
         },
         "metadata": {
          "image/png": {
           "height": 341,
           "width": 697
          },
          "needs_background": "light"
         },
         "output_type": "display_data"
        }
       ]
      }
     },
     "3a827a24be814d7aa07ba85306cef373": {
      "model_module": "@jupyter-widgets/controls",
      "model_module_version": "1.5.0",
      "model_name": "FloatSliderModel",
      "state": {
       "description": "Spike_Threshold",
       "layout": "IPY_MODEL_1d93ef549c734aa7a224873105b872a4",
       "max": -20,
       "min": -100,
       "style": "IPY_MODEL_15613e97c23146178d543e1e5326e06d",
       "value": -57
      }
     },
     "3a92e20551604fb7865fe08d90a59cee": {
      "model_module": "@jupyter-widgets/controls",
      "model_module_version": "1.5.0",
      "model_name": "SliderStyleModel",
      "state": {
       "description_width": "initial"
      }
     },
     "3ad4bb00beea4050878a1e8dbbd5bda2": {
      "model_module": "@jupyter-widgets/controls",
      "model_module_version": "1.5.0",
      "model_name": "SliderStyleModel",
      "state": {
       "description_width": "initial"
      }
     },
     "3b4709504ffd42a5b683e06b8bedbbd1": {
      "model_module": "@jupyter-widgets/output",
      "model_module_version": "1.0.0",
      "model_name": "OutputModel",
      "state": {
       "layout": "IPY_MODEL_ead9a2644f334c9dbc28988701c923e5",
       "outputs": [
        {
         "data": {
          "image/png": "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\n",
          "text/plain": "<Figure size 720x360 with 1 Axes>"
         },
         "metadata": {
          "image/png": {
           "height": 341,
           "width": 697
          },
          "needs_background": "light"
         },
         "output_type": "display_data"
        }
       ]
      }
     },
     "3d0aab53301446c1a051f9fc5c388281": {
      "model_module": "@jupyter-widgets/controls",
      "model_module_version": "1.5.0",
      "model_name": "FloatSliderModel",
      "state": {
       "continuous_update": false,
       "description": "Equilibrium Potential (mV)",
       "layout": "IPY_MODEL_88aa5a81a805429fae052e681a48dd4f",
       "min": -100,
       "step": 10,
       "style": "IPY_MODEL_db7d960d1d5e4aa99427c9ad574b4678",
       "value": -10
      }
     },
     "3dacbb819f0a4d1b92824a1a5481406a": {
      "model_module": "@jupyter-widgets/controls",
      "model_module_version": "1.5.0",
      "model_name": "SliderStyleModel",
      "state": {
       "description_width": "initial"
      }
     },
     "3e5112df2aa14651afc2f800420b837f": {
      "model_module": "@jupyter-widgets/controls",
      "model_module_version": "1.5.0",
      "model_name": "FloatSliderModel",
      "state": {
       "continuous_update": false,
       "description": "Resistance",
       "layout": "IPY_MODEL_1d93ef549c734aa7a224873105b872a4",
       "max": 1000,
       "style": "IPY_MODEL_a9d8e688281542dda27819ca2de8277e",
       "value": 28
      }
     },
     "3eeb8ef2c3f84f5eac164e669c36e7fc": {
      "model_module": "@jupyter-widgets/controls",
      "model_module_version": "1.5.0",
      "model_name": "FloatSliderModel",
      "state": {
       "description": "Equilibrium_Potential",
       "layout": "IPY_MODEL_1d93ef549c734aa7a224873105b872a4",
       "max": -30,
       "min": -90,
       "style": "IPY_MODEL_cc0eedc6de7e4538b839a39136b6e666",
       "value": -70
      }
     },
     "42391752527b4e8a98005c82d9e9b0ec": {
      "model_module": "@jupyter-widgets/controls",
      "model_module_version": "1.5.0",
      "model_name": "FloatSliderModel",
      "state": {
       "description": "Capacitance",
       "layout": "IPY_MODEL_1d93ef549c734aa7a224873105b872a4",
       "max": 1,
       "min": 0.001,
       "readout_format": ".3f",
       "step": 0.001,
       "style": "IPY_MODEL_ede55ccfb20e434783543408028bf844",
       "value": 0.606
      }
     },
     "461f094f71844a95bd5d6e2f9d434086": {
      "model_module": "@jupyter-widgets/controls",
      "model_module_version": "1.5.0",
      "model_name": "FloatSliderModel",
      "state": {
       "continuous_update": false,
       "description": "Spike_Threshold",
       "layout": "IPY_MODEL_1d93ef549c734aa7a224873105b872a4",
       "max": -20,
       "min": -100,
       "step": 0.2,
       "style": "IPY_MODEL_3dacbb819f0a4d1b92824a1a5481406a",
       "value": -55
      }
     },
     "477ca171648748ecab03082cfd6307aa": {
      "model_module": "@jupyter-widgets/controls",
      "model_module_version": "1.5.0",
      "model_name": "FloatSliderModel",
      "state": {
       "continuous_update": false,
       "description": "R (MOhm)",
       "layout": "IPY_MODEL_97258a6bf0e445f4a663ebd2d2742347",
       "max": 1000,
       "style": "IPY_MODEL_d2f26499dfee4a77806dc72cf4204eb3",
       "value": 550
      }
     },
     "47f7d758d78a4133a67453d9b281e979": {
      "model_module": "@jupyter-widgets/controls",
      "model_module_version": "1.5.0",
      "model_name": "SliderStyleModel",
      "state": {
       "description_width": "initial"
      }
     },
     "485303e5dbcc46019052a9773f784fe9": {
      "model_module": "@jupyter-widgets/controls",
      "model_module_version": "1.5.0",
      "model_name": "SliderStyleModel",
      "state": {
       "description_width": "initial"
      }
     },
     "492d60ff2c8444a08e5562e7fdee753c": {
      "model_module": "@jupyter-widgets/controls",
      "model_module_version": "1.5.0",
      "model_name": "FloatSliderModel",
      "state": {
       "continuous_update": false,
       "description": "Resistance",
       "layout": "IPY_MODEL_1d93ef549c734aa7a224873105b872a4",
       "max": 1000,
       "style": "IPY_MODEL_e9298b27ecf3408da91d3c6f62445fec",
       "value": 50
      }
     },
     "4a615da711dd48c8a2c95d4cbd19f74d": {
      "model_module": "@jupyter-widgets/base",
      "model_module_version": "1.2.0",
      "model_name": "LayoutModel",
      "state": {}
     },
     "4b4998a3aa364fa688e79a607685b534": {
      "model_module": "@jupyter-widgets/controls",
      "model_module_version": "1.5.0",
      "model_name": "SliderStyleModel",
      "state": {
       "description_width": "initial"
      }
     },
     "4cb81bab25654c64bc4dea62f6707cb7": {
      "model_module": "@jupyter-widgets/controls",
      "model_module_version": "1.5.0",
      "model_name": "SliderStyleModel",
      "state": {
       "description_width": "initial"
      }
     },
     "4d39a0a3a02d43a7a1de2d1158c22552": {
      "model_module": "@jupyter-widgets/controls",
      "model_module_version": "1.5.0",
      "model_name": "FloatSliderModel",
      "state": {
       "continuous_update": false,
       "description": "Spike_Threshold",
       "layout": "IPY_MODEL_1d93ef549c734aa7a224873105b872a4",
       "max": -20,
       "min": -100,
       "step": 0.2,
       "style": "IPY_MODEL_6bef50781ea94f65a7a2daa4b499e28a",
       "value": -56.4
      }
     },
     "4d67b2c8c7d04ed2ab852d7d879a75b2": {
      "model_module": "@jupyter-widgets/controls",
      "model_module_version": "1.5.0",
      "model_name": "SliderStyleModel",
      "state": {
       "description_width": "initial"
      }
     },
     "4e7e47a8f80b46e6a440cf056e7254fd": {
      "model_module": "@jupyter-widgets/base",
      "model_module_version": "1.2.0",
      "model_name": "LayoutModel",
      "state": {
       "width": "600px"
      }
     },
     "5019e5b07fcf4a6d90f8669c30ce2fa1": {
      "model_module": "@jupyter-widgets/controls",
      "model_module_version": "1.5.0",
      "model_name": "SliderStyleModel",
      "state": {
       "description_width": "initial"
      }
     },
     "51af263dc4284bc6881632356c1bd64c": {
      "model_module": "@jupyter-widgets/controls",
      "model_module_version": "1.5.0",
      "model_name": "FloatSliderModel",
      "state": {
       "continuous_update": false,
       "description": "I (pA)",
       "layout": "IPY_MODEL_0125155975d94316b79b76ca9e644203",
       "max": 500,
       "min": -500,
       "style": "IPY_MODEL_ac70afc1b18e4e5cb97acfdf0f1122f3",
       "value": 100
      }
     },
     "52bc122e99e74497a36e63a886858a0a": {
      "model_module": "@jupyter-widgets/controls",
      "model_module_version": "1.5.0",
      "model_name": "FloatSliderModel",
      "state": {
       "description": "Spike_Threshold",
       "layout": "IPY_MODEL_1d93ef549c734aa7a224873105b872a4",
       "max": -20,
       "min": -100,
       "step": 2,
       "style": "IPY_MODEL_c55aadbab6254814b3d0146bb46d6a71",
       "value": -55
      }
     },
     "540f640f596848b7b30da2aa6eb74dc7": {
      "model_module": "@jupyter-widgets/controls",
      "model_module_version": "1.5.0",
      "model_name": "FloatSliderModel",
      "state": {
       "description": "current_injection",
       "layout": "IPY_MODEL_1d93ef549c734aa7a224873105b872a4",
       "max": 50,
       "step": 0.05,
       "style": "IPY_MODEL_580e14788e764604914c82aa1116df40",
       "value": 0.5
      }
     },
     "54903531b53a42daae6b7edd5baaa615": {
      "model_module": "@jupyter-widgets/output",
      "model_module_version": "1.0.0",
      "model_name": "OutputModel",
      "state": {
       "layout": "IPY_MODEL_aafc728f9ab5414f900f9cca6cefa5de",
       "outputs": [
        {
         "data": {
          "image/png": "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\n",
          "text/plain": "<Figure size 720x288 with 1 Axes>"
         },
         "metadata": {
          "image/png": {
           "height": 270,
           "width": 702
          },
          "needs_background": "light"
         },
         "output_type": "display_data"
        }
       ]
      }
     },
     "55dc6470345140bfb7e61df19aad5cf5": {
      "model_module": "@jupyter-widgets/controls",
      "model_module_version": "1.5.0",
      "model_name": "SliderStyleModel",
      "state": {
       "description_width": "initial"
      }
     },
     "55dce01d4bcf4a14b3df3ec8b3044c92": {
      "model_module": "@jupyter-widgets/base",
      "model_module_version": "1.2.0",
      "model_name": "LayoutModel",
      "state": {}
     },
     "56a0dea03579474f92b9a66430246e01": {
      "model_module": "@jupyter-widgets/controls",
      "model_module_version": "1.5.0",
      "model_name": "DescriptionStyleModel",
      "state": {
       "description_width": ""
      }
     },
     "57577108d454445ebff9418bf8b68766": {
      "model_module": "@jupyter-widgets/base",
      "model_module_version": "1.2.0",
      "model_name": "LayoutModel",
      "state": {}
     },
     "57aded1373524d20adfbf5bceec6273a": {
      "model_module": "@jupyter-widgets/controls",
      "model_module_version": "1.5.0",
      "model_name": "FloatSliderModel",
      "state": {
       "continuous_update": false,
       "description": "current_injection",
       "layout": "IPY_MODEL_1d93ef549c734aa7a224873105b872a4",
       "max": 800,
       "style": "IPY_MODEL_204beecd5c5b4eadacd44ff05c3c5f98",
       "value": 50
      }
     },
     "57ef9d0483df41298055d3767a2d04c9": {
      "model_module": "@jupyter-widgets/controls",
      "model_module_version": "1.5.0",
      "model_name": "SliderStyleModel",
      "state": {
       "description_width": ""
      }
     },
     "57f06c9d6ebe405ebda7ed3e351518f7": {
      "model_module": "@jupyter-widgets/base",
      "model_module_version": "1.2.0",
      "model_name": "LayoutModel",
      "state": {}
     },
     "580e14788e764604914c82aa1116df40": {
      "model_module": "@jupyter-widgets/controls",
      "model_module_version": "1.5.0",
      "model_name": "SliderStyleModel",
      "state": {
       "description_width": "initial"
      }
     },
     "5a652a088d7a4078a4102098fe07fb3c": {
      "model_module": "@jupyter-widgets/controls",
      "model_module_version": "1.5.0",
      "model_name": "VBoxModel",
      "state": {
       "_dom_classes": [
        "widget-interact"
       ],
       "children": [
        "IPY_MODEL_25428c1ed58a4fe3b991b44e1702d8e0",
        "IPY_MODEL_663f4e9f83b74500b3b4a23842c9a453",
        "IPY_MODEL_d65a13026ebd4c19b71f0185449b2918",
        "IPY_MODEL_16930ceb26984044aaddfaf408444f63",
        "IPY_MODEL_a01e093ab8314d1da14b9e7fe0b5f87a",
        "IPY_MODEL_a9b1e7d215ab49edb4d2cefd72654817",
        "IPY_MODEL_3978673ac3254b2fb559be18c21549b9"
       ],
       "layout": "IPY_MODEL_0f4e42bb4c0549c597cbaa0d90b778a3"
      }
     },
     "5dc3357a42bc463ca60097a5c886f02a": {
      "model_module": "@jupyter-widgets/controls",
      "model_module_version": "1.5.0",
      "model_name": "SliderStyleModel",
      "state": {
       "description_width": "initial"
      }
     },
     "5e4e1f71bd6c4351b7c87a72f1e5007b": {
      "model_module": "@jupyter-widgets/base",
      "model_module_version": "1.2.0",
      "model_name": "LayoutModel",
      "state": {}
     },
     "5f0a9fc3585246e5bacebf48555797bd": {
      "model_module": "@jupyter-widgets/controls",
      "model_module_version": "1.5.0",
      "model_name": "VBoxModel",
      "state": {
       "_dom_classes": [
        "widget-interact"
       ],
       "children": [
        "IPY_MODEL_b64a2e36bcf64d549df0b74227d231cd",
        "IPY_MODEL_eea5cbac148f46cb8cc53c80131f9e93",
        "IPY_MODEL_3eeb8ef2c3f84f5eac164e669c36e7fc",
        "IPY_MODEL_f67d5d2e2b6243cfb276dac1814a46e8",
        "IPY_MODEL_42391752527b4e8a98005c82d9e9b0ec",
        "IPY_MODEL_3a827a24be814d7aa07ba85306cef373",
        "IPY_MODEL_3b4709504ffd42a5b683e06b8bedbbd1"
       ],
       "layout": "IPY_MODEL_f986a3e6af1045cc94cdf846c3626974"
      }
     },
     "6250811e67b34a2fb597c7836d990930": {
      "model_module": "@jupyter-widgets/base",
      "model_module_version": "1.2.0",
      "model_name": "LayoutModel",
      "state": {}
     },
     "634cc6e5f82744caa15fd45037d6b8cb": {
      "model_module": "@jupyter-widgets/controls",
      "model_module_version": "1.5.0",
      "model_name": "SliderStyleModel",
      "state": {
       "description_width": "initial"
      }
     },
     "643933b0d4dd485d91b4f42fce824793": {
      "model_module": "@jupyter-widgets/controls",
      "model_module_version": "1.5.0",
      "model_name": "VBoxModel",
      "state": {
       "_dom_classes": [
        "widget-interact"
       ],
       "children": [
        "IPY_MODEL_891a7f9f7f1041c3b43317676162a955",
        "IPY_MODEL_8530cb38378d4f0bb6d8cc9bf3522a96",
        "IPY_MODEL_ad89da196c414a4082d0b98416c1ab24",
        "IPY_MODEL_0bfdb29108534cc5aa22732da7b486d5",
        "IPY_MODEL_0868adef318649a3b3b84aa3ac7d2862"
       ],
       "layout": "IPY_MODEL_bab769063ddd4ca0b9e3d79654bfbab6"
      }
     },
     "645c3676dc0d4ad0a0fae91846fb0293": {
      "model_module": "@jupyter-widgets/controls",
      "model_module_version": "1.5.0",
      "model_name": "SliderStyleModel",
      "state": {
       "description_width": "initial"
      }
     },
     "653922f9ea2140929135439e361ba93f": {
      "model_module": "@jupyter-widgets/base",
      "model_module_version": "1.2.0",
      "model_name": "LayoutModel",
      "state": {}
     },
     "663f4e9f83b74500b3b4a23842c9a453": {
      "model_module": "@jupyter-widgets/controls",
      "model_module_version": "1.5.0",
      "model_name": "FloatSliderModel",
      "state": {
       "continuous_update": false,
       "description": "Equilibrium_Potential",
       "layout": "IPY_MODEL_1d93ef549c734aa7a224873105b872a4",
       "max": -30,
       "min": -90,
       "step": 0.2,
       "style": "IPY_MODEL_032381e73b4a4ad8a43ed342a437837d",
       "value": -75
      }
     },
     "667aa152641e419ab5e388b6644158a7": {
      "model_module": "@jupyter-widgets/controls",
      "model_module_version": "1.5.0",
      "model_name": "FloatSliderModel",
      "state": {
       "continuous_update": false,
       "description": "AHP_Voltage",
       "layout": "IPY_MODEL_1d93ef549c734aa7a224873105b872a4",
       "max": -30,
       "min": -100,
       "style": "IPY_MODEL_f3710e5d4bad4093925691c2b32521fe",
       "value": -70
      }
     },
     "6793fcb9cc8d4a9dad6cd5bced2468ff": {
      "model_module": "@jupyter-widgets/base",
      "model_module_version": "1.2.0",
      "model_name": "LayoutModel",
      "state": {}
     },
     "681fe70e64a44c979dcfba48c98e93a6": {
      "model_module": "@jupyter-widgets/base",
      "model_module_version": "1.2.0",
      "model_name": "LayoutModel",
      "state": {}
     },
     "69162c62c98f4bb69f79c62456f03e13": {
      "model_module": "@jupyter-widgets/controls",
      "model_module_version": "1.5.0",
      "model_name": "FloatSliderModel",
      "state": {
       "continuous_update": false,
       "description": "Resistance",
       "layout": "IPY_MODEL_1d93ef549c734aa7a224873105b872a4",
       "max": 1000,
       "style": "IPY_MODEL_ed33188f95c24b4c857b8817428f92bf",
       "value": 28
      }
     },
     "6ac5679c29ff437c9d2003a64e34967e": {
      "model_module": "@jupyter-widgets/controls",
      "model_module_version": "1.5.0",
      "model_name": "LabelModel",
      "state": {
       "layout": "IPY_MODEL_8ad59526e23a4d0390e98246c883d733",
       "style": "IPY_MODEL_1b8b1dfee822408bbf155908ab270cbd",
       "value": "tau = 0.0205 seconds"
      }
     },
     "6ad63adf229b4deb9e47c846a417f008": {
      "model_module": "@jupyter-widgets/controls",
      "model_module_version": "1.5.0",
      "model_name": "SliderStyleModel",
      "state": {
       "description_width": "initial"
      }
     },
     "6bef50781ea94f65a7a2daa4b499e28a": {
      "model_module": "@jupyter-widgets/controls",
      "model_module_version": "1.5.0",
      "model_name": "SliderStyleModel",
      "state": {
       "description_width": "initial"
      }
     },
     "6cb0981141534d68ac3336fadaf56f03": {
      "model_module": "@jupyter-widgets/controls",
      "model_module_version": "1.5.0",
      "model_name": "VBoxModel",
      "state": {
       "_dom_classes": [
        "widget-interact"
       ],
       "children": [
        "IPY_MODEL_57aded1373524d20adfbf5bceec6273a",
        "IPY_MODEL_8bc2af7ee68044ea93f8c599512a2898",
        "IPY_MODEL_90396513e7e94f8499b6c19c8fb1e230",
        "IPY_MODEL_785d40599d0c45b99a38a5b9c34b6746",
        "IPY_MODEL_8c95db745a284be08470fd0c780f6d6f",
        "IPY_MODEL_461f094f71844a95bd5d6e2f9d434086",
        "IPY_MODEL_e1839493e9714a829370087fba20e6d2"
       ],
       "layout": "IPY_MODEL_653922f9ea2140929135439e361ba93f"
      }
     },
     "712e2f09c34b4e0b9e2a4bd3379c4201": {
      "model_module": "@jupyter-widgets/controls",
      "model_module_version": "1.5.0",
      "model_name": "SliderStyleModel",
      "state": {
       "description_width": "initial"
      }
     },
     "727accd5d25e435599465bab95d2741e": {
      "model_module": "@jupyter-widgets/controls",
      "model_module_version": "1.5.0",
      "model_name": "SliderStyleModel",
      "state": {
       "description_width": "initial"
      }
     },
     "73684dab389944f584c5d23ed5cec152": {
      "model_module": "@jupyter-widgets/base",
      "model_module_version": "1.2.0",
      "model_name": "LayoutModel",
      "state": {}
     },
     "73ea157d6e0342aaae33b720acf68c2c": {
      "model_module": "@jupyter-widgets/controls",
      "model_module_version": "1.5.0",
      "model_name": "SliderStyleModel",
      "state": {
       "description_width": "initial"
      }
     },
     "742ca91b898a4586a8305a953473a48e": {
      "model_module": "@jupyter-widgets/controls",
      "model_module_version": "1.5.0",
      "model_name": "DescriptionStyleModel",
      "state": {
       "description_width": ""
      }
     },
     "77961efcb7794e10a78d292d4f3af72d": {
      "model_module": "@jupyter-widgets/controls",
      "model_module_version": "1.5.0",
      "model_name": "VBoxModel",
      "state": {
       "_dom_classes": [
        "widget-interact"
       ],
       "children": [
        "IPY_MODEL_335043429a4d4bf3bfc1a1c1d7d00b5a",
        "IPY_MODEL_7822dce4817140b0be835afd43e772a6",
        "IPY_MODEL_69162c62c98f4bb69f79c62456f03e13",
        "IPY_MODEL_e3bde1599d024acbad64ccdbe22646d4",
        "IPY_MODEL_b1723631758a4154b2f22aa8c6c4c85c",
        "IPY_MODEL_bfcf53c74fe54a958cd9028f1fb19bea",
        "IPY_MODEL_2625ab8fd95b4b33b182340e30fef266"
       ],
       "layout": "IPY_MODEL_55dce01d4bcf4a14b3df3ec8b3044c92"
      }
     },
     "7822dce4817140b0be835afd43e772a6": {
      "model_module": "@jupyter-widgets/controls",
      "model_module_version": "1.5.0",
      "model_name": "FloatSliderModel",
      "state": {
       "continuous_update": false,
       "description": "Equilibrium_Potential",
       "layout": "IPY_MODEL_1d93ef549c734aa7a224873105b872a4",
       "max": -30,
       "min": -90,
       "step": 0.2,
       "style": "IPY_MODEL_d46cfc625bef400aa9feefc371305ff5",
       "value": -75
      }
     },
     "7854beb921b248ddbd1567b6c9638b00": {
      "model_module": "@jupyter-widgets/base",
      "model_module_version": "1.2.0",
      "model_name": "LayoutModel",
      "state": {}
     },
     "785d40599d0c45b99a38a5b9c34b6746": {
      "model_module": "@jupyter-widgets/controls",
      "model_module_version": "1.5.0",
      "model_name": "FloatSliderModel",
      "state": {
       "continuous_update": false,
       "description": "Capacitance",
       "layout": "IPY_MODEL_1d93ef549c734aa7a224873105b872a4",
       "max": 1,
       "min": 0.001,
       "readout_format": ".3f",
       "step": 0.001,
       "style": "IPY_MODEL_c2199b7d63db4006b0ce1b3136f63c0d",
       "value": 0.2
      }
     },
     "79cb8d6757404669b7b0b2146d047873": {
      "model_module": "@jupyter-widgets/base",
      "model_module_version": "1.2.0",
      "model_name": "LayoutModel",
      "state": {}
     },
     "79fb22e6ba6a466587f6f198e7ba957a": {
      "model_module": "@jupyter-widgets/base",
      "model_module_version": "1.2.0",
      "model_name": "LayoutModel",
      "state": {}
     },
     "7a6e860f232e49268d70e946f877c566": {
      "model_module": "@jupyter-widgets/controls",
      "model_module_version": "1.5.0",
      "model_name": "FloatSliderModel",
      "state": {
       "description": "Spike_Threshold",
       "layout": "IPY_MODEL_1d93ef549c734aa7a224873105b872a4",
       "max": -20,
       "min": -100,
       "step": 2,
       "style": "IPY_MODEL_c347952489cb4e08b24d0694035a5593",
       "value": -55
      }
     },
     "7ae10a5dcffd47409ce8912b93c40ebb": {
      "model_module": "@jupyter-widgets/controls",
      "model_module_version": "1.5.0",
      "model_name": "VBoxModel",
      "state": {
       "_dom_classes": [
        "widget-interact"
       ],
       "children": [
        "IPY_MODEL_3d0aab53301446c1a051f9fc5c388281",
        "IPY_MODEL_477ca171648748ecab03082cfd6307aa",
        "IPY_MODEL_fdfec66028264656aecfe45dc0352f92",
        "IPY_MODEL_51af263dc4284bc6881632356c1bd64c",
        "IPY_MODEL_54903531b53a42daae6b7edd5baaa615"
       ],
       "layout": "IPY_MODEL_9a20c33472814a0e9c9d0fc5ab91680c"
      }
     },
     "7e41e5e65e0f4b98a93a414eecc03e08": {
      "model_module": "@jupyter-widgets/base",
      "model_module_version": "1.2.0",
      "model_name": "LayoutModel",
      "state": {}
     },
     "82979280e9f5405a9a7cf210a0065d40": {
      "model_module": "@jupyter-widgets/controls",
      "model_module_version": "1.5.0",
      "model_name": "SliderStyleModel",
      "state": {
       "description_width": "initial"
      }
     },
     "831fb58426e14efca6ddb99549954b6b": {
      "model_module": "@jupyter-widgets/controls",
      "model_module_version": "1.5.0",
      "model_name": "FloatSliderModel",
      "state": {
       "continuous_update": false,
       "description": "current_injection",
       "layout": "IPY_MODEL_1d93ef549c734aa7a224873105b872a4",
       "max": 800,
       "style": "IPY_MODEL_712e2f09c34b4e0b9e2a4bd3379c4201",
       "value": 50
      }
     },
     "834a3586dd3c4009902fac8e792720ef": {
      "model_module": "@jupyter-widgets/controls",
      "model_module_version": "1.5.0",
      "model_name": "FloatSliderModel",
      "state": {
       "description": "Capacitance",
       "layout": "IPY_MODEL_1d93ef549c734aa7a224873105b872a4",
       "max": 1,
       "min": 0.001,
       "readout_format": ".3f",
       "step": 0.001,
       "style": "IPY_MODEL_e0de6c3766ff4bde8a8d2852822042a0",
       "value": 0.608
      }
     },
     "83e1441ad41e4065a16e82af5171ba5d": {
      "model_module": "@jupyter-widgets/controls",
      "model_module_version": "1.5.0",
      "model_name": "SliderStyleModel",
      "state": {
       "description_width": "initial"
      }
     },
     "8530cb38378d4f0bb6d8cc9bf3522a96": {
      "model_module": "@jupyter-widgets/controls",
      "model_module_version": "1.5.0",
      "model_name": "FloatSliderModel",
      "state": {
       "continuous_update": false,
       "description": "R (MOhm)",
       "layout": "IPY_MODEL_e5336feb31af4f729ee3f7cf65fe8f43",
       "max": 1000,
       "style": "IPY_MODEL_070211de3d9e46ad921fdf151fa2c8f8",
       "value": 205
      }
     },
     "859120a7311d4cdcaa6bf63c36fb9fc4": {
      "model_module": "@jupyter-widgets/base",
      "model_module_version": "1.2.0",
      "model_name": "LayoutModel",
      "state": {}
     },
     "85df239b9a9045b79de2a0b0ab9e2ae6": {
      "model_module": "@jupyter-widgets/controls",
      "model_module_version": "1.5.0",
      "model_name": "VBoxModel",
      "state": {
       "_dom_classes": [
        "widget-interact"
       ],
       "children": [
        "IPY_MODEL_980f923d5f6a4c659535416b1d74f475",
        "IPY_MODEL_d947c1bb5dde470a9ac50b7e578e797f",
        "IPY_MODEL_b618ce78e0fb4836849f75959ae7c94d",
        "IPY_MODEL_90f8478ad8994b8c9b7d5503405493e7",
        "IPY_MODEL_f6279a3bb8304e59876a732662c8dff8"
       ],
       "layout": "IPY_MODEL_79fb22e6ba6a466587f6f198e7ba957a"
      }
     },
     "86512f9b47a84f8d8e93d9601ad85c11": {
      "model_module": "@jupyter-widgets/base",
      "model_module_version": "1.2.0",
      "model_name": "LayoutModel",
      "state": {}
     },
     "88288f4740de48f4a4d5f62cda24326d": {
      "model_module": "@jupyter-widgets/controls",
      "model_module_version": "1.5.0",
      "model_name": "LabelModel",
      "state": {
       "layout": "IPY_MODEL_166d9d0986a04a5a8ca11cdffb9339f4",
       "style": "IPY_MODEL_56a0dea03579474f92b9a66430246e01",
       "value": "tau = 0.0100 seconds"
      }
     },
     "882fd25bd0444734b070a1005129c43b": {
      "model_module": "@jupyter-widgets/controls",
      "model_module_version": "1.5.0",
      "model_name": "SliderStyleModel",
      "state": {
       "description_width": "initial"
      }
     },
     "88aa5a81a805429fae052e681a48dd4f": {
      "model_module": "@jupyter-widgets/base",
      "model_module_version": "1.2.0",
      "model_name": "LayoutModel",
      "state": {
       "width": "600px"
      }
     },
     "891a7f9f7f1041c3b43317676162a955": {
      "model_module": "@jupyter-widgets/controls",
      "model_module_version": "1.5.0",
      "model_name": "FloatSliderModel",
      "state": {
       "continuous_update": false,
       "description": "Equilibrium Potential (mV)",
       "layout": "IPY_MODEL_df3895abbf2248e89190751e876bc5b0",
       "min": -100,
       "step": 10,
       "style": "IPY_MODEL_994e2f6bafcd4168a686af23856d4e9a"
      }
     },
     "896fccaedfac4c71af4a54dd9ccab293": {
      "model_module": "@jupyter-widgets/controls",
      "model_module_version": "1.5.0",
      "model_name": "SliderStyleModel",
      "state": {
       "description_width": "initial"
      }
     },
     "8a47563233d74d6d8c18041f98be4f30": {
      "model_module": "@jupyter-widgets/controls",
      "model_module_version": "1.5.0",
      "model_name": "SliderStyleModel",
      "state": {
       "description_width": "initial"
      }
     },
     "8ad59526e23a4d0390e98246c883d733": {
      "model_module": "@jupyter-widgets/base",
      "model_module_version": "1.2.0",
      "model_name": "LayoutModel",
      "state": {
       "width": "600px"
      }
     },
     "8bc2af7ee68044ea93f8c599512a2898": {
      "model_module": "@jupyter-widgets/controls",
      "model_module_version": "1.5.0",
      "model_name": "FloatSliderModel",
      "state": {
       "continuous_update": false,
       "description": "Equilibrium_Potential",
       "layout": "IPY_MODEL_1d93ef549c734aa7a224873105b872a4",
       "max": -30,
       "min": -90,
       "step": 0.2,
       "style": "IPY_MODEL_008e180faa364443b4851323190b2b16",
       "value": -75
      }
     },
     "8c0e3e954ae046a1bb9dd13e8a3058cb": {
      "model_module": "@jupyter-widgets/controls",
      "model_module_version": "1.5.0",
      "model_name": "FloatSliderModel",
      "state": {
       "description": "Capacitance",
       "layout": "IPY_MODEL_1d93ef549c734aa7a224873105b872a4",
       "max": 1,
       "min": 0.001,
       "readout_format": ".3f",
       "step": 0.001,
       "style": "IPY_MODEL_e25a92b52cb449dd9766e08831f489ff",
       "value": 0.2
      }
     },
     "8c301db5cb0a4515bd4393fcc7f14d6d": {
      "model_module": "@jupyter-widgets/controls",
      "model_module_version": "1.5.0",
      "model_name": "FloatSliderModel",
      "state": {
       "description": "Capacitance",
       "layout": "IPY_MODEL_1d93ef549c734aa7a224873105b872a4",
       "max": 1,
       "min": 0.001,
       "readout_format": ".3f",
       "step": 0.001,
       "style": "IPY_MODEL_b258d02e87e04b2cb978ec1e4b589732",
       "value": 0.2
      }
     },
     "8c50bc43425c4af3864be32374c046c8": {
      "model_module": "@jupyter-widgets/output",
      "model_module_version": "1.0.0",
      "model_name": "OutputModel",
      "state": {
       "layout": "IPY_MODEL_a2b3fcf8e593431f823329be2222da51",
       "outputs": [
        {
         "data": {
          "image/png": "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\n",
          "text/plain": "<Figure size 720x360 with 1 Axes>"
         },
         "metadata": {
          "image/png": {
           "height": 341,
           "width": 697
          },
          "needs_background": "light"
         },
         "output_type": "display_data"
        }
       ]
      }
     },
     "8c95db745a284be08470fd0c780f6d6f": {
      "model_module": "@jupyter-widgets/controls",
      "model_module_version": "1.5.0",
      "model_name": "FloatSliderModel",
      "state": {
       "continuous_update": false,
       "description": "AHP_Voltage",
       "layout": "IPY_MODEL_1d93ef549c734aa7a224873105b872a4",
       "max": -30,
       "min": -100,
       "style": "IPY_MODEL_83e1441ad41e4065a16e82af5171ba5d",
       "value": -70
      }
     },
     "8ec83d29ad8c4bf9a85ab1434254e885": {
      "model_module": "@jupyter-widgets/controls",
      "model_module_version": "1.5.0",
      "model_name": "SliderStyleModel",
      "state": {
       "description_width": "initial"
      }
     },
     "8f99f85ed4eb447b88d9f2eddb94a49a": {
      "model_module": "@jupyter-widgets/controls",
      "model_module_version": "1.5.0",
      "model_name": "FloatSliderModel",
      "state": {
       "description": "Equilibrium_Potential",
       "layout": "IPY_MODEL_1d93ef549c734aa7a224873105b872a4",
       "max": -30,
       "min": -90,
       "step": 2,
       "style": "IPY_MODEL_eaa3186f39d14ef2a8e304958c356b2b",
       "value": -75
      }
     },
     "90396513e7e94f8499b6c19c8fb1e230": {
      "model_module": "@jupyter-widgets/controls",
      "model_module_version": "1.5.0",
      "model_name": "FloatSliderModel",
      "state": {
       "continuous_update": false,
       "description": "Resistance",
       "layout": "IPY_MODEL_1d93ef549c734aa7a224873105b872a4",
       "max": 1000,
       "style": "IPY_MODEL_97a9ec9795774e99906a9fc87979f8f3",
       "value": 50
      }
     },
     "90f8478ad8994b8c9b7d5503405493e7": {
      "model_module": "@jupyter-widgets/controls",
      "model_module_version": "1.5.0",
      "model_name": "FloatSliderModel",
      "state": {
       "continuous_update": false,
       "description": "I (pA)",
       "layout": "IPY_MODEL_0af0c0dff15d46ca86af4c19f828edc2",
       "max": 500,
       "min": -500,
       "style": "IPY_MODEL_57ef9d0483df41298055d3767a2d04c9",
       "value": 100
      }
     },
     "92028739261d49049c5f24549e36bad1": {
      "model_module": "@jupyter-widgets/controls",
      "model_module_version": "1.5.0",
      "model_name": "SliderStyleModel",
      "state": {
       "description_width": "initial"
      }
     },
     "9308fdfb75674cf7a9330b02046c92f8": {
      "model_module": "@jupyter-widgets/controls",
      "model_module_version": "1.5.0",
      "model_name": "SliderStyleModel",
      "state": {
       "description_width": ""
      }
     },
     "97258a6bf0e445f4a663ebd2d2742347": {
      "model_module": "@jupyter-widgets/base",
      "model_module_version": "1.2.0",
      "model_name": "LayoutModel",
      "state": {
       "width": "600px"
      }
     },
     "9743fb345db6402b806bf10e89d2f8bc": {
      "model_module": "@jupyter-widgets/controls",
      "model_module_version": "1.5.0",
      "model_name": "FloatSliderModel",
      "state": {
       "continuous_update": false,
       "description": "AHP_Voltage",
       "layout": "IPY_MODEL_1d93ef549c734aa7a224873105b872a4",
       "max": -30,
       "min": -100,
       "style": "IPY_MODEL_92028739261d49049c5f24549e36bad1",
       "value": -70
      }
     },
     "97a9ec9795774e99906a9fc87979f8f3": {
      "model_module": "@jupyter-widgets/controls",
      "model_module_version": "1.5.0",
      "model_name": "SliderStyleModel",
      "state": {
       "description_width": "initial"
      }
     },
     "980f923d5f6a4c659535416b1d74f475": {
      "model_module": "@jupyter-widgets/controls",
      "model_module_version": "1.5.0",
      "model_name": "FloatSliderModel",
      "state": {
       "continuous_update": false,
       "description": "Equilibrium Potential (mV)",
       "layout": "IPY_MODEL_bfb4e07cdbbf4c1eaeb104291822a01e",
       "min": -100,
       "step": 10,
       "style": "IPY_MODEL_03178263464c4a37a498ef533b36c35b"
      }
     },
     "98d49304f1ba433aa98b4226647bde5e": {
      "model_module": "@jupyter-widgets/controls",
      "model_module_version": "1.5.0",
      "model_name": "FloatSliderModel",
      "state": {
       "continuous_update": false,
       "description": "current_injection",
       "layout": "IPY_MODEL_1d93ef549c734aa7a224873105b872a4",
       "max": 800,
       "style": "IPY_MODEL_163a3d0d6e884de585f6893e750080a1",
       "value": 50
      }
     },
     "994e2f6bafcd4168a686af23856d4e9a": {
      "model_module": "@jupyter-widgets/controls",
      "model_module_version": "1.5.0",
      "model_name": "SliderStyleModel",
      "state": {
       "description_width": ""
      }
     },
     "994e74a0b21247d9bc5c50d3e068da1d": {
      "model_module": "@jupyter-widgets/controls",
      "model_module_version": "1.5.0",
      "model_name": "SliderStyleModel",
      "state": {
       "description_width": "initial"
      }
     },
     "9a20c33472814a0e9c9d0fc5ab91680c": {
      "model_module": "@jupyter-widgets/base",
      "model_module_version": "1.2.0",
      "model_name": "LayoutModel",
      "state": {}
     },
     "9e8c3a13ba3942f084338e13350719e0": {
      "model_module": "@jupyter-widgets/controls",
      "model_module_version": "1.5.0",
      "model_name": "SliderStyleModel",
      "state": {
       "description_width": "initial"
      }
     },
     "a01e093ab8314d1da14b9e7fe0b5f87a": {
      "model_module": "@jupyter-widgets/controls",
      "model_module_version": "1.5.0",
      "model_name": "FloatSliderModel",
      "state": {
       "continuous_update": false,
       "description": "AHP_Voltage",
       "layout": "IPY_MODEL_1d93ef549c734aa7a224873105b872a4",
       "max": -30,
       "min": -100,
       "style": "IPY_MODEL_06aa7dc1122046ada6374c9d18d281ab",
       "value": -70
      }
     },
     "a04819079a5f4f489e8ddf3f6fd05307": {
      "model_module": "@jupyter-widgets/controls",
      "model_module_version": "1.5.0",
      "model_name": "FloatSliderModel",
      "state": {
       "continuous_update": false,
       "description": "Spike_Threshold",
       "layout": "IPY_MODEL_1d93ef549c734aa7a224873105b872a4",
       "max": -20,
       "min": -100,
       "step": 0.2,
       "style": "IPY_MODEL_257a4548a6274696ac8ba27cb200b11f",
       "value": -55
      }
     },
     "a06e573e868b4ab289ba83ed63379911": {
      "model_module": "@jupyter-widgets/base",
      "model_module_version": "1.2.0",
      "model_name": "LayoutModel",
      "state": {}
     },
     "a0d81eec11274dc7a2d8e04d73c10719": {
      "model_module": "@jupyter-widgets/controls",
      "model_module_version": "1.5.0",
      "model_name": "FloatSliderModel",
      "state": {
       "continuous_update": false,
       "description": "Spike_Threshold",
       "layout": "IPY_MODEL_1d93ef549c734aa7a224873105b872a4",
       "max": -20,
       "min": -100,
       "step": 0.2,
       "style": "IPY_MODEL_a0e1f5c30c59449cbb66e2a8db987170",
       "value": -55
      }
     },
     "a0e1f5c30c59449cbb66e2a8db987170": {
      "model_module": "@jupyter-widgets/controls",
      "model_module_version": "1.5.0",
      "model_name": "SliderStyleModel",
      "state": {
       "description_width": "initial"
      }
     },
     "a15dde438cff4a698ec82bb036df6751": {
      "model_module": "@jupyter-widgets/controls",
      "model_module_version": "1.5.0",
      "model_name": "FloatSliderModel",
      "state": {
       "continuous_update": false,
       "description": "Equilibrium_Potential",
       "layout": "IPY_MODEL_1d93ef549c734aa7a224873105b872a4",
       "max": -30,
       "min": -90,
       "step": 0.2,
       "style": "IPY_MODEL_47f7d758d78a4133a67453d9b281e979",
       "value": -75
      }
     },
     "a1d1b34e20054f78b3383b904eb8ea1b": {
      "model_module": "@jupyter-widgets/controls",
      "model_module_version": "1.5.0",
      "model_name": "FloatSliderModel",
      "state": {
       "description": "current_injection",
       "layout": "IPY_MODEL_1d93ef549c734aa7a224873105b872a4",
       "max": 50,
       "step": 0.05,
       "style": "IPY_MODEL_4cb81bab25654c64bc4dea62f6707cb7",
       "value": 0.5
      }
     },
     "a2b3fcf8e593431f823329be2222da51": {
      "model_module": "@jupyter-widgets/base",
      "model_module_version": "1.2.0",
      "model_name": "LayoutModel",
      "state": {}
     },
     "a31037d9056746a2a983c62a15ae9e22": {
      "model_module": "@jupyter-widgets/controls",
      "model_module_version": "1.5.0",
      "model_name": "SliderStyleModel",
      "state": {
       "description_width": ""
      }
     },
     "a32c235a3a6f478a98764961c9ccf429": {
      "model_module": "@jupyter-widgets/controls",
      "model_module_version": "1.5.0",
      "model_name": "FloatSliderModel",
      "state": {
       "continuous_update": false,
       "description": "Equilibrium_Potential",
       "layout": "IPY_MODEL_1d93ef549c734aa7a224873105b872a4",
       "max": -30,
       "min": -90,
       "step": 0.2,
       "style": "IPY_MODEL_d91ba16343144cfd814970f291a29615",
       "value": -75
      }
     },
     "a6651c9d544c4c9c8b5126f7ef8f66d5": {
      "model_module": "@jupyter-widgets/controls",
      "model_module_version": "1.5.0",
      "model_name": "FloatSliderModel",
      "state": {
       "continuous_update": false,
       "description": "Resistance",
       "layout": "IPY_MODEL_1d93ef549c734aa7a224873105b872a4",
       "max": 1000,
       "style": "IPY_MODEL_261ff841d9f846d68aa320b5bf3310f2",
       "value": 50
      }
     },
     "a6de44c3157f49b0a2e9c751fd7d406a": {
      "model_module": "@jupyter-widgets/controls",
      "model_module_version": "1.5.0",
      "model_name": "FloatSliderModel",
      "state": {
       "description": "Resistance",
       "layout": "IPY_MODEL_1d93ef549c734aa7a224873105b872a4",
       "max": 1000,
       "style": "IPY_MODEL_1d64aeaa6cda42df9a357fb7b974a134",
       "value": 50
      }
     },
     "a919c81399424d2cb342e0953a0d0d03": {
      "model_module": "@jupyter-widgets/controls",
      "model_module_version": "1.5.0",
      "model_name": "SliderStyleModel",
      "state": {
       "description_width": "initial"
      }
     },
     "a98f977ab0294e47b364db350f4c5e1a": {
      "model_module": "@jupyter-widgets/controls",
      "model_module_version": "1.5.0",
      "model_name": "FloatSliderModel",
      "state": {
       "description": "Current_Step_Duration",
       "layout": "IPY_MODEL_1d93ef549c734aa7a224873105b872a4",
       "max": 3,
       "min": 0.01,
       "step": 0.01,
       "style": "IPY_MODEL_db8b817b92324d15abe69bea40c6d3f1",
       "value": 3
      }
     },
     "a9b1e7d215ab49edb4d2cefd72654817": {
      "model_module": "@jupyter-widgets/controls",
      "model_module_version": "1.5.0",
      "model_name": "FloatSliderModel",
      "state": {
       "continuous_update": false,
       "description": "Spike_Threshold",
       "layout": "IPY_MODEL_1d93ef549c734aa7a224873105b872a4",
       "max": -20,
       "min": -100,
       "step": 0.2,
       "style": "IPY_MODEL_994e74a0b21247d9bc5c50d3e068da1d",
       "value": -55
      }
     },
     "a9cafe32800140df9a74261edfa59f83": {
      "model_module": "@jupyter-widgets/controls",
      "model_module_version": "1.5.0",
      "model_name": "FloatSliderModel",
      "state": {
       "continuous_update": false,
       "description": "Resistance",
       "layout": "IPY_MODEL_1d93ef549c734aa7a224873105b872a4",
       "max": 1000,
       "style": "IPY_MODEL_73ea157d6e0342aaae33b720acf68c2c",
       "value": 50
      }
     },
     "a9d8e688281542dda27819ca2de8277e": {
      "model_module": "@jupyter-widgets/controls",
      "model_module_version": "1.5.0",
      "model_name": "SliderStyleModel",
      "state": {
       "description_width": "initial"
      }
     },
     "aa062a456ac2475793fd6a05581297f4": {
      "model_module": "@jupyter-widgets/base",
      "model_module_version": "1.2.0",
      "model_name": "LayoutModel",
      "state": {}
     },
     "aafc728f9ab5414f900f9cca6cefa5de": {
      "model_module": "@jupyter-widgets/base",
      "model_module_version": "1.2.0",
      "model_name": "LayoutModel",
      "state": {}
     },
     "ac70afc1b18e4e5cb97acfdf0f1122f3": {
      "model_module": "@jupyter-widgets/controls",
      "model_module_version": "1.5.0",
      "model_name": "SliderStyleModel",
      "state": {
       "description_width": ""
      }
     },
     "ad7b18cd0cd047779f60db658d7f409a": {
      "model_module": "@jupyter-widgets/controls",
      "model_module_version": "1.5.0",
      "model_name": "FloatSliderModel",
      "state": {
       "description": "Resistance",
       "layout": "IPY_MODEL_1d93ef549c734aa7a224873105b872a4",
       "max": 1000,
       "style": "IPY_MODEL_29f9e5e8578d4e71b85e6f95973baa2d",
       "value": 30
      }
     },
     "ad89da196c414a4082d0b98416c1ab24": {
      "model_module": "@jupyter-widgets/controls",
      "model_module_version": "1.5.0",
      "model_name": "FloatSliderModel",
      "state": {
       "continuous_update": false,
       "description": "C (pF)",
       "layout": "IPY_MODEL_22bc9320fc1942fe8e0d8f6efeefa73d",
       "max": 1000,
       "min": 1,
       "step": 0.1,
       "style": "IPY_MODEL_e9db3ef45915498ca45c193176b8bdb1",
       "value": 100
      }
     },
     "aeae12f7a5f241598cadb4164cad4c77": {
      "model_module": "@jupyter-widgets/controls",
      "model_module_version": "1.5.0",
      "model_name": "SliderStyleModel",
      "state": {
       "description_width": ""
      }
     },
     "afdac670eb5f40829953137aa630337d": {
      "model_module": "@jupyter-widgets/controls",
      "model_module_version": "1.5.0",
      "model_name": "SliderStyleModel",
      "state": {
       "description_width": "initial"
      }
     },
     "b0a7ff753c464b858dbba778cc158b6a": {
      "model_module": "@jupyter-widgets/controls",
      "model_module_version": "1.5.0",
      "model_name": "FloatSliderModel",
      "state": {
       "continuous_update": false,
       "description": "Spike_Threshold",
       "layout": "IPY_MODEL_1d93ef549c734aa7a224873105b872a4",
       "max": -20,
       "min": -100,
       "step": 0.2,
       "style": "IPY_MODEL_82979280e9f5405a9a7cf210a0065d40",
       "value": -55
      }
     },
     "b1723631758a4154b2f22aa8c6c4c85c": {
      "model_module": "@jupyter-widgets/controls",
      "model_module_version": "1.5.0",
      "model_name": "FloatSliderModel",
      "state": {
       "continuous_update": false,
       "description": "AHP_Voltage",
       "layout": "IPY_MODEL_1d93ef549c734aa7a224873105b872a4",
       "max": -30,
       "min": -100,
       "style": "IPY_MODEL_0ecef4c4b9df4a3182c695a2ccb385db",
       "value": -70
      }
     },
     "b258d02e87e04b2cb978ec1e4b589732": {
      "model_module": "@jupyter-widgets/controls",
      "model_module_version": "1.5.0",
      "model_name": "SliderStyleModel",
      "state": {
       "description_width": "initial"
      }
     },
     "b2aa7e5613be474f8f788136d165d8d7": {
      "model_module": "@jupyter-widgets/controls",
      "model_module_version": "1.5.0",
      "model_name": "SliderStyleModel",
      "state": {
       "description_width": "initial"
      }
     },
     "b42e0306fa6d4cc0904a74b17e2003bb": {
      "model_module": "@jupyter-widgets/controls",
      "model_module_version": "1.5.0",
      "model_name": "VBoxModel",
      "state": {
       "_dom_classes": [
        "widget-interact"
       ],
       "children": [
        "IPY_MODEL_98d49304f1ba433aa98b4226647bde5e",
        "IPY_MODEL_e877538e7a0f4da2b9556bb0322fe4ad",
        "IPY_MODEL_a6651c9d544c4c9c8b5126f7ef8f66d5",
        "IPY_MODEL_fe1cbd0eee964991a0a8f91dab1271e0",
        "IPY_MODEL_667aa152641e419ab5e388b6644158a7",
        "IPY_MODEL_b0a7ff753c464b858dbba778cc158b6a",
        "IPY_MODEL_8c50bc43425c4af3864be32374c046c8"
       ],
       "layout": "IPY_MODEL_32e0df6a4cb4400db6f81fc0517b186c"
      }
     },
     "b618ce78e0fb4836849f75959ae7c94d": {
      "model_module": "@jupyter-widgets/controls",
      "model_module_version": "1.5.0",
      "model_name": "FloatSliderModel",
      "state": {
       "continuous_update": false,
       "description": "C (nF)",
       "layout": "IPY_MODEL_fd66b6c60fab4cd092f3092ad19fddd4",
       "max": 1,
       "min": 0.001,
       "readout_format": ".3f",
       "step": 0.001,
       "style": "IPY_MODEL_aeae12f7a5f241598cadb4164cad4c77",
       "value": 0.1
      }
     },
     "b64a2e36bcf64d549df0b74227d231cd": {
      "model_module": "@jupyter-widgets/controls",
      "model_module_version": "1.5.0",
      "model_name": "FloatSliderModel",
      "state": {
       "description": "current_injection",
       "layout": "IPY_MODEL_1d93ef549c734aa7a224873105b872a4",
       "max": 50,
       "step": 0.05,
       "style": "IPY_MODEL_f878f2b73c594cd795ce1f2218b2022e",
       "value": 16.05
      }
     },
     "b7653cfc1f524f9693b2cbca2648faf6": {
      "model_module": "@jupyter-widgets/controls",
      "model_module_version": "1.5.0",
      "model_name": "FloatSliderModel",
      "state": {
       "continuous_update": false,
       "description": "Capacitance",
       "layout": "IPY_MODEL_1d93ef549c734aa7a224873105b872a4",
       "max": 1,
       "min": 0.001,
       "readout_format": ".3f",
       "step": 0.001,
       "style": "IPY_MODEL_634cc6e5f82744caa15fd45037d6b8cb",
       "value": 0.2
      }
     },
     "b96356c201a24473a850ea7557f9fdf5": {
      "model_module": "@jupyter-widgets/base",
      "model_module_version": "1.2.0",
      "model_name": "LayoutModel",
      "state": {
       "width": "600px"
      }
     },
     "b9e3f65baba34bc4abadb984d1a140d7": {
      "model_module": "@jupyter-widgets/controls",
      "model_module_version": "1.5.0",
      "model_name": "SliderStyleModel",
      "state": {
       "description_width": "initial"
      }
     },
     "bab769063ddd4ca0b9e3d79654bfbab6": {
      "model_module": "@jupyter-widgets/base",
      "model_module_version": "1.2.0",
      "model_name": "LayoutModel",
      "state": {}
     },
     "baed58f230d24e4ebc8fab479a11e813": {
      "model_module": "@jupyter-widgets/controls",
      "model_module_version": "1.5.0",
      "model_name": "SliderStyleModel",
      "state": {
       "description_width": "initial"
      }
     },
     "bb44b532c57a4b42bb2d69853928c05b": {
      "model_module": "@jupyter-widgets/controls",
      "model_module_version": "1.5.0",
      "model_name": "FloatSliderModel",
      "state": {
       "continuous_update": false,
       "description": "Capacitance",
       "layout": "IPY_MODEL_1d93ef549c734aa7a224873105b872a4",
       "max": 1,
       "min": 0.001,
       "readout_format": ".3f",
       "step": 0.001,
       "style": "IPY_MODEL_485303e5dbcc46019052a9773f784fe9",
       "value": 0.2
      }
     },
     "bc4d718c02f641e7aeb19c01b8a0791e": {
      "model_module": "@jupyter-widgets/base",
      "model_module_version": "1.2.0",
      "model_name": "LayoutModel",
      "state": {
       "width": "600px"
      }
     },
     "be1eb7888caa4e73af6cab03b8f462fe": {
      "model_module": "@jupyter-widgets/controls",
      "model_module_version": "1.5.0",
      "model_name": "SliderStyleModel",
      "state": {
       "description_width": "initial"
      }
     },
     "be27595618384c3bafb1802791805fc7": {
      "model_module": "@jupyter-widgets/base",
      "model_module_version": "1.2.0",
      "model_name": "LayoutModel",
      "state": {}
     },
     "bfb4e07cdbbf4c1eaeb104291822a01e": {
      "model_module": "@jupyter-widgets/base",
      "model_module_version": "1.2.0",
      "model_name": "LayoutModel",
      "state": {
       "width": "600px"
      }
     },
     "bfcf53c74fe54a958cd9028f1fb19bea": {
      "model_module": "@jupyter-widgets/controls",
      "model_module_version": "1.5.0",
      "model_name": "FloatSliderModel",
      "state": {
       "continuous_update": false,
       "description": "Spike_Threshold",
       "layout": "IPY_MODEL_1d93ef549c734aa7a224873105b872a4",
       "max": -20,
       "min": -100,
       "step": 0.2,
       "style": "IPY_MODEL_c2228c091fb84843987cb9ca47ef1d3b",
       "value": -50.6
      }
     },
     "c082b41115304a7a8816de4cbce40d07": {
      "model_module": "@jupyter-widgets/base",
      "model_module_version": "1.2.0",
      "model_name": "LayoutModel",
      "state": {}
     },
     "c2199b7d63db4006b0ce1b3136f63c0d": {
      "model_module": "@jupyter-widgets/controls",
      "model_module_version": "1.5.0",
      "model_name": "SliderStyleModel",
      "state": {
       "description_width": "initial"
      }
     },
     "c2228c091fb84843987cb9ca47ef1d3b": {
      "model_module": "@jupyter-widgets/controls",
      "model_module_version": "1.5.0",
      "model_name": "SliderStyleModel",
      "state": {
       "description_width": "initial"
      }
     },
     "c347952489cb4e08b24d0694035a5593": {
      "model_module": "@jupyter-widgets/controls",
      "model_module_version": "1.5.0",
      "model_name": "SliderStyleModel",
      "state": {
       "description_width": "initial"
      }
     },
     "c35e3809fa9b4f0d9113e2bf553de8bb": {
      "model_module": "@jupyter-widgets/controls",
      "model_module_version": "1.5.0",
      "model_name": "FloatSliderModel",
      "state": {
       "description": "Spike_Threshold",
       "layout": "IPY_MODEL_1d93ef549c734aa7a224873105b872a4",
       "max": -20,
       "min": -100,
       "step": 2,
       "style": "IPY_MODEL_645c3676dc0d4ad0a0fae91846fb0293",
       "value": -55
      }
     },
     "c55aadbab6254814b3d0146bb46d6a71": {
      "model_module": "@jupyter-widgets/controls",
      "model_module_version": "1.5.0",
      "model_name": "SliderStyleModel",
      "state": {
       "description_width": "initial"
      }
     },
     "c742da741fb946208501057df5da2d24": {
      "model_module": "@jupyter-widgets/controls",
      "model_module_version": "1.5.0",
      "model_name": "SliderStyleModel",
      "state": {
       "description_width": "initial"
      }
     },
     "c795c336dd204b6aa375214976d34e5b": {
      "model_module": "@jupyter-widgets/controls",
      "model_module_version": "1.5.0",
      "model_name": "FloatSliderModel",
      "state": {
       "continuous_update": false,
       "description": "current_injection",
       "layout": "IPY_MODEL_1d93ef549c734aa7a224873105b872a4",
       "max": 800,
       "style": "IPY_MODEL_baed58f230d24e4ebc8fab479a11e813",
       "value": 50
      }
     },
     "c9d47927896446e7950d53b9d487a59b": {
      "model_module": "@jupyter-widgets/controls",
      "model_module_version": "1.5.0",
      "model_name": "SliderStyleModel",
      "state": {
       "description_width": "initial"
      }
     },
     "cc0eedc6de7e4538b839a39136b6e666": {
      "model_module": "@jupyter-widgets/controls",
      "model_module_version": "1.5.0",
      "model_name": "SliderStyleModel",
      "state": {
       "description_width": "initial"
      }
     },
     "cc327b6547cf4454a26ae757d85e11f5": {
      "model_module": "@jupyter-widgets/controls",
      "model_module_version": "1.5.0",
      "model_name": "FloatSliderModel",
      "state": {
       "description": "Resistance",
       "layout": "IPY_MODEL_1d93ef549c734aa7a224873105b872a4",
       "max": 1000,
       "style": "IPY_MODEL_0f971fd1f8064fb9bdb2b0de65b6df6a",
       "value": 50
      }
     },
     "cce577c13b2845f2a51aaf9cd6c3b947": {
      "model_module": "@jupyter-widgets/controls",
      "model_module_version": "1.5.0",
      "model_name": "FloatSliderModel",
      "state": {
       "continuous_update": false,
       "description": "Spike_Threshold",
       "layout": "IPY_MODEL_1d93ef549c734aa7a224873105b872a4",
       "max": -20,
       "min": -100,
       "step": 0.2,
       "style": "IPY_MODEL_55dc6470345140bfb7e61df19aad5cf5",
       "value": -55
      }
     },
     "d2dd2bf8788b42ee99875ac2ffce62b7": {
      "model_module": "@jupyter-widgets/output",
      "model_module_version": "1.0.0",
      "model_name": "OutputModel",
      "state": {
       "layout": "IPY_MODEL_c082b41115304a7a8816de4cbce40d07",
       "outputs": [
        {
         "data": {
          "image/png": "iVBORw0KGgoAAAANSUhEUgAABXIAAAKrCAYAAABcJHXxAAAAOXRFWHRTb2Z0d2FyZQBNYXRwbG90bGliIHZlcnNpb24zLjUuMSwgaHR0cHM6Ly9tYXRwbG90bGliLm9yZy/YYfK9AAAACXBIWXMAABYlAAAWJQFJUiTwAAB8lElEQVR4nOzdeXzdVZ0//tdpujcpLS1LW1bZxOJCi6DjMjozIoOo44qKoOOCoI4LI+q4MIz7hiDj8gU3BBVEBfyxKDrOOIOIihFUkF1BoAWEljbd2+T8/rg3EkuSJmkgt+X5fDzu4/O593PO+3NuGhVenr4/pdYaAAAAAABa17ixXgAAAAAAAIMT5AIAAAAAtDhBLgAAAABAixPkAgAAAAC0OEEuAAAAAECLE+QCAAAAALQ4QS4AAAAAQIsT5AIAAAAAtDhBLgAAAABAixPkAgAAAAC0OEEuAAAAAECLE+QCAAAAALQ4QS4AAAAAQIsT5AIAAAAAtDhB7jCUUnYopZxUSrmhlLK6lLKklHJZKeW1pZQyCvX3KKWcVkr5YyllTSnlnlLKpaWUF25i3uNKKe9tjr2zlLKulNJVSrmmlHJqKWXvzV0bAAAAADB2Sq11rNewRSilLExyaZJZzY9WJJmcZHzz/aVJnldrXTfC+ocm+XaSqc2PlidpzwNh+1eSvK5u9AdWSjkiydc3KresObet+X5dkrfUWk8bydoAAAAAgLFlR+4QlFK2SXJRGiHudUkOqLV2JJmW5E1pBKXPTnLKCOvvnuTcNELcnybZp9a6TZJtkpyYpCZ5TZLj+5k+IcnaNMLc5yTZptY6o1nr4CS/TzIxyf8rpRw8kvUBAAAAAGPLjtwhKKV8KMl7k6xKMr/WeutG19+V5GNJupvXbxhm/a8nOSLJ4iT71lqXbXT9C0mOSdKVZNda69I+1/ZJ0lVrXTRA7W3TCJ+3T/Lftda/H87aAAAAAICxZ0fu0BzZPJ6zcYjb9Nk0Wi20pRHIDlkpZVqS3h64X9g4xG36WPPYkeQFfS/UWm8YKMRtXl+S5LvNtwcMZ20AAAAAQGsQ5G5Cc8frLs23P+hvTK11ZZLLmm+fNcxbPDXJlE3Uvy2NXbUjqZ80dhInD/TMBQAAAAC2IILcTduvz/k1g4zrvfaYzah/7RDqzx9m/SR5RvP4uxHMBQAAAADG2PixXsAWYG6f8zsHGdd7bXoppb3WumKY9ZfWWlcNMq63/txBxjxIKeUlSRY2335xGPM6hzBstyQ/qLUOq50EAAAAADA8gtxN6+hzPljQ2vdaRxo9c4dTf7Dafa93DDqqj1LKXklOa779aZIzhjp3iCYvWLDgFUleMcp1AQAAYFPKWC8A4OG0VQa5pZRXJ/nqZpR4Zq31J6OzmrFRStkxySVJZqaxm/fltdaeoc6vtS7c1Jjmrt0FI14kAAAAADAkeuRuWlef86mDjOt7rWvAUQPXH6x23+ubrF1K2T7Jj5PsmWRxkr+rtd4xjDUBAAAAAC1kq9yRm+SbSS7YjPl92yIs6nM+L8nyAebMax67htEft2/9maWUqYP0yZ230fh+NUPc/07joWt3pRHi3jiM9QAAAAAALWarDHJrreuSrBulctf0Od8vyXUDjNuvebx2M+rPT3LlSOs3Q9z/SSPEvTuNFhHXD3M9AAAAAECL0Vph025Mcnvz/JD+BpRSpiV5WvPtfw2z/uVJ1myi/q5J9h2sfillhwhxAQAAAGCrJMjdhFprTXJW8+3LSim79TPsTUnak/Qk+cYw669Icl7z7bGllG36Gfau5nFFkvM3vthPO4Vn1loH2jkMAAAAAGxhBLlD88k0drlOTXJxKWVhkpRSJpZSjk3ywea4L/a3C7aUckYppZZS6gD1T0iyKsmcJBeWUvZqzptWSjkhyTHNcR+utS7ZqPZ2EeICAAAAwFZtq+yRO9pqrfeXUp6b5AdpBKa/KqV0JZmcZEJz2I+SvHWE9W8ppRye5Nw0WjTcWEpZlsYu37bmsDOTfLyf6cem0Vs3STqS/KSUMti9dhzJGgEAAACAsSPIHaJa65WllPlptDk4LMlOSVam8fCxryX5cq21ZzPqX1RKeVyz/rPS2J17f5KrkpxWa/3OAFP77qqe1nwBAAAAAFuR0mgBC8NXSulcsGDBgs7OzrFeCgAAAI88A/91VICtkB65AAAAAAAtTpALAAAAANDiBLkAAAAAAC1OkAsAAAAA0OIEuQAAAAAALU6QCwAAAADQ4gS5AAAAAAAtTpALAAAAANDiBLkAAAAAAC1OkAsAAAAA0OIEuQAAAAAALU6QCwAAAADQ4gS5AAAAAAAtTpALAAAAANDiBLkAAAAAAC1OkAsAAAAA0OIEuQAAAAAALU6QCwAAAADQ4gS5AAAAAAAtbvxYLwAAAADgkaazs3PPJIcmeUaSOUkmjOmCgIfK+iSLk/wkySULFy68eaSFBLkAAAAAD6POzs6nJPn0+PHjt29ra5teSpmUpIz1uoCHRK217t3d3b3/hg0bjujs7Dxu4cKFl4+kkCAXAAAA4GHS3In76UmTJu0xffr09dtuu+3dU6dOXT1u3Lg61msDRl9PT09ZtWrVlCVLlsxcvnz5HmvXrv10Z2fnKxYuXHjLcGvpkQsAAADw8Dl0/Pjx20+fPn39zjvvfGd7e/sqIS5svcaNG1fb29tX7bzzzndOnz59/fjx47dPo63K8GuN8toAAAAAGNgz2trapm+77bZLS9FNAR4pSinZdtttl7a1tU1P8syR1BDkAgAAADx85pRSJk2dOnX1WC8EeHhNnTp1dbMn9o4jmS/IBQAAAHj4TEhStFOAR55SSk3jwYYTRzJfkAsAAAAA8BDb3HYqglwAAAAAgBYnyAUAAAAAaHGCXAAAAACAFifIBQAAAABocYJcAAAAANgCnHrqqbNKKQvnzZv32LFeCw8/QS4AAAAAW6TjjjtubillYe/r9NNPn7mpOc94xjP27DvnhhtumPhwrBU2lyAXAAAAgK3CmWeeOXuw67feeuuEn/70p9s8XOuB0STIBQAAAGCLtu22226YPHlyzxVXXDH95ptvnjDQuNNPP31Wd3d35s6du+7hXB+MBkEuAAAAAFu0adOmdR988MH39/T05PTTTx9wV+43v/nN2Unyspe97N6Hb3UwOgS5AAAAAGzxXvva196bJOecc86snp6eB12/9NJL22+77bZJc+fOXfesZz2ra1P1zjnnnG2e/exn77H99ts/buLEiQumT5/+hAMOOGCfj3/849utWbOm9DfnwAMP3KeUsvC4446bu2HDhvzHf/zH9vvuu+9jpk6duv+22277+H/4h3/Y44orrpjSO76rq2vcO9/5zjl77bXX/ClTpuw/Y8aMJzznOc951LXXXjtpKN/5/PPPn/70pz99r5kzZz5+8uTJC/bcc8/573rXu3ZctWpVv+vr7Sl84IEH7pMkZ5xxxoynPOUpe2277baPHzdu3MLjjjtubu/Y3/zmN5Pe//737/A3f/M3e++88877TZ48eUF7e/v+++6772Pe8pa3zF28ePH4gdY1b968x5ZSFp566qmz1qxZU97//vfvsM8++zxmypQp+3d0dDzhSU960t7f+c53pm/q+/3whz+c9vznP3/3efPmPXbSpEkLOjo6nvDYxz523/e+9707Llu27BGXaw74AwcAAACALcVhhx3WNXfu3HW33377pEsvvbT9H//xH1f0vf7lL395VpIcfvjh95XSb86ZJFmxYkV5yUtesvsPfvCDvzw4rb29vXvlypVtnZ2d7Z2dne1nn332rB/96Ec3bbfddt391Vi/fn3527/9271+9rOfTZ8wYUIdP358Xbp06fgf//jHM6644orp3//+92/Ye++91/7d3/3d3tddd93USZMm1VJKXbZsWdsll1wy8+c//3nHz3/+8+v22muvAVtAfPSjH93uve997y611nR0dHRv2LAht9xyy+RPfOIT8y6++OKZP/nJT26cPXt2v+tLkte//vU7felLX9qhlJKOjo7uceP+Ohc99NBD9160aNHEJCmlpL29vXvFihVt119//ZTrr79+yre+9a3ZP/zhD294/OMfv3aQn+W4gw46aJ/f/va308aPH18nTpxYV6xY0faLX/yi46UvfWnHpz/96Vvf9ra33bfxvO7u7rzuda/b+Ywzzti+97OpU6f2rF69uu2aa66Zes0110z95je/OevSSy+9ae+9937EtMl4xCXXAAAAAGx9xo0b95eWCV/60pf+qr3C8uXLx1188cXbllLyhje8YdC2Cq985St3+8EPfjBz7ty56/7zP//z1vvuu++qrq6uq7u6un799a9//eaddtpp7W9+85tpr3jFK3YbqMbXvva17X7/+99P/cpXvvKHrq6uq1asWHHV//7v/1630047rV21atW4t73tbbscddRRuy1btmz8d7/73ZtWrlz56xUrVlx1wQUX3Dhz5swNS5YsGf+Od7xj3kD1lyxZMv6EE07Y+ZBDDll60003/Xb58uVXL1++/KpPfOITt02cOLFee+21U4866qhdB5p/7bXXTv3Sl760w7HHHnvXnXfe+Ztly5Zd3dXV9etjjjnmLz+b/ffff+WHP/zhP11zzTXXrFq16tfLly+/etWqVb++4IILbnzsYx+78p577pnwile84lGD/Sw//vGPz1u8ePHEM88885YVK1ZctXLlyquuvvrqax7/+MevrLXmve997y733Xdf28bzjjvuuLlnnHHG9jNmzNjwoQ996PbFixdfvXLlyqtWrlz564suuuiGfffdd9Wtt946+QUveMEe3d0DZtVbHUEuAAAAAFuFN7zhDfeNGzcu3//+92f2/av3X/3qV2euWrVq3JOe9KSuffbZZ8AdnD/4wQ/av/e97207Y8aMDT/+8Y9vePOb33zftttu25MkU6dOrUccccSyn/zkJzdMmTKl57/+679m/OxnP5vSX52urq62c84555Z//ud/Xjpp0qQ6bty4PP3pT1/1uc997rYkueqqq6Zddtll0y+99NIbX/jCFy5va2tLW1tbnv/853edcMIJdyTJD3/4wxlr167td+vwmjVrxu2///4rL7zwwj/sueee63vXd/zxx9/7sY997E9J8v3vf3/m5Zdf3u/6Vq1aNe51r3vd3Z///OfvnDNnzoYkmTJlSu27u/Wiiy76w3ve854/z58/f+3kyZNrkkyePLk+//nP77rssstunDVr1obf//73Uy+99NL2gX6ea9asGXfJJZfceOSRR94/adKkmiSPf/zj115yySU3T5o0qa5atWrcueeeu03fOTfccMPEz33uc3MmTJhQL7jggpve+9733rPjjjt2J8mkSZPqc57znBWXX375DTvssMP63//+91O/+c1vzhjo/lsbQS4AAAAAW4W999573UEHHbR89erV47761a/+pTXCWWedNTtJjjrqqEF3437xi1+cnSTPec5zlj760Y/uN/DdY4891j/pSU/qSpKLL754m/7GLFiwYMWzn/3sFRt/fuihh3ZNnDixJsmzn/3s+/fbb78HtSV4/vOfvzxphKDXXHPNgL1y3/Oe9yxqa3vQZta85S1vuXeHHXZYnyRf//rXt+1v7rhx43LiiSfeNVDtTdlmm216DjrooK4k+d///d8Bg9yDDz546QEHHLBm48/nzp274QlPeMKKJPntb3/7V2HzaaedNru7uztPfvKTl//t3/7tqv7qzpw5s+fZz3720iT5wQ9+sMleu1sLPXIBAAAA2GocddRR911xxRXTzzrrrNlve9vb7rvmmmsmdXZ2tre3t3e/8pWvXDrY3F/96lftSXLBBRfMmj179syBxq1YsaItSW677baJ/V3ff//9V/b3+fjx4zNjxowN99xzz4QDDjig3zE77bTT+t7z/toOJElbW1vtLyhuXsuTnvSkru9973vbXn311dP6G7PzzjuvnTdv3ob+rvV19tlnb/P1r3991m9+85tp99133/g1a9Y8aFPoHXfc0e/PIEkOOuigfr9jkvSGzUuXLv2rfPLnP//5tCT55S9/2TF79uzHDzR/1apV4zZ1/62NIBcAAACArcZRRx219J3vfOcuv/71r9t/+9vfTurdZfu85z1vSXt7ex1s7j333DMhSVauXDlu5cqVm/yb7KtXr+53zPTp03sGmjN+/PjaHNNvc9cJEyb85XzdunX91p85c+aGKVOmDPhd5s6duy5J7rvvvn6zv1mzZq3v7/Ne3d3d+ad/+qfdL7roor/s6G1ra6vTp0/vnjBhQk0aYfbatWtLb6Dan4G+Y/LAz2H9+vV/1T7innvumZg0diT3FxxvbPXq1f2G3VsjQS4AAAAAW42pU6fW5z3veUu+8Y1vbPeFL3xh9vnnnz8rSY4++uhB2yokSU9PT0mST37yk7e94x3v2OT4sVJKv61zh6y/lgx9nXLKKbMvuuiibdva2vIv//Ivi1/72tfet++++67tO++f/umfdv/e9763ba2DZuPD1vvwsje96U13ffazn71zVItv4fTIBQAAAGCr0hvafvnLX97h7rvvnrDXXnutHqjfal+zZ89enyTXXHNNvw8JaxVLliwZv3r16gHT3EWLFk1MklmzZm2yfUJ/vvOd72ybJC996Uv/fPLJJy/ab7/91m4c/t5zzz0PyQbR7bbbbkOS/P73v2/pP4OxIMgFAAAAYKvy9Kc/fdVee+21uvev7b/iFa+4byjzFi5cuCJJLr300hnr1w/afWBMdXd3lx/+8If9PmSsp6cnv/zlL9uT5AlPeMKAPWoHs3jx4olJsv/++/cbfi9btmzcb3/72wEfcrY5DjrooBVJcsUVV3Tcfffdj5i2CUMhyAUAAABgq/OhD33ojte//vV3v/71r7/76KOPHlKQ+4Y3vOHPSXLXXXdNfNe73jV3sLHLly8ft2bNms3rcbAZPvrRj87pbUPQ12c/+9lZvUHsEUccMejD3QbS3t7enSS//e1vp/Z3/d3vfvecofQQHoljjjnm3ra2trpmzZpxb3zjG3cebOzatWvLsmXLHjH55iPmiwIAAADwyPHSl750+emnn37H6aeffsfcuXOH1GLgOc95zooXv/jF9yXJySefPOfwww/f9aqrrprce33NmjXlv//7v6cde+yx83bdddfH3nnnnWPy/KnJkyf3dHZ2tj//+c9/1C233DIhSVatWlVOOumk2e985zt3TZJnP/vZS5/61Kdusp1Ef/7+7/9+WZKcffbZsz/1qU/N7g2s//SnP41/7Wtfu/P/+3//b8cZM2aMqG3DpsyfP3/t2972tsVJct555836h3/4hz0uu+yyqT09jefHbdiwIVdcccWU448/fs5uu+22389//vN+w+atkYedAQAAAEDTWWeddVtbW1v91re+Nfvcc8+dfe65586ePHlyz6RJk+qKFSva+u6CHTdubPZIbrvtthve/OY33/Xe9753l4svvnjm9OnTu1etWjVuw4YNJUn23XffVWedddZtI63//ve//+4LL7xw5h//+MfJxx9//K7vete7dp02bVr3ihUr2mqtefnLX/7ntWvXjjvvvPNmjd63esAnPvGJxRs2bCinnnrqnB//+MczfvzjH8+YNGlSnTJlSndXV1dbd3f3X3ZCl1JG92lrLcyOXAAAAABomjx5cj3nnHNu+9GPfnT9i170ovt23nnntUmycuXKcTNnzlx/4IEHdr33ve+947e//e01u++++5g10v23f/u3P3/3u9+96WlPe9rycePG1XHjxmX33Xdf8453vGPRL3/5y+u32267B/ddGKLZs2d3/+IXv7j+Na95zT1z585dN27cuNrW1lYPPPDArtNOO+0P3/zmN/80mt9lY+PGjcspp5yy6Be/+MW1r3zlK//8qEc9ak1bW1vt6upq6+jo6N5///1Xvu1tb1t8+eWX//7ggw8eUR/gLVGp9RETWjPKSimdCxYsWNDZ2TnWSwEAAOCRZ8x6k26Ozs7OX02ePHnf+fPnXzfWawEeftdee+2+a9asuW7hwoUHDHeuHbkAAAAAAC1OkAsAAAAA0OIEuQAAAAAALU6QCwAAAADQ4saP9QIAAAAA+GulZOFYr2G01RpPS4fNYEcuAAAAAECLE+QCAAAAALQ4rRUAAAAAWow2BDwcDjzwwH2uvPLK9re//e2LP/3pTy8arbrHHXfc3JNPPnnOE5/4xBW//OUvbxituo90glwAAAAAGKKzzjprxlVXXTV1//33X3XkkUfeP9br6c+WsEaGT2sFAAAAABiiCy64YMbJJ58854ILLpgx1msZyFDXOG/evLW77bbbmtmzZ69/mJbGZrAjFwAAAAAegc4///xbx3oNDJ0duQAAAAAALU6QOwyllB1KKSeVUm4opawupSwppVxWSnltKaWMQv09SimnlVL+WEpZU0q5p5RyaSnlhZuYd0Qp5dRSyk9LKbeWUlY25/+plHJ+KeVFm7s2AAAAgFZy4IEH7lNKWXjcccfNXbNmTXnPe96z49577/2YKVOm7D99+vQnPOUpT9nru9/97vTBapxxxhkznvGMZ+y57bbbPn7ChAkLZs2a9fhnPvOZe5555pkzNh570UUXdZRSFp533nmzkuS8886bVUpZ2Pd10UUXdWw878orr5z88pe/fNddd911vylTpuw/derU/ffee+/H/Mu//Mu8xYsX9/u35Y877ri5pZSFBx544D5J8r3vfa/jGc94xp4zZ858/KRJkxY86lGPmv+v//qvc1atWvVXedRw19j3Z7jxGu68887xp5xyyqyDDz54j0c96lHzOzo6njB58uQFu+yyy36HH374rr/61a8mD/azZfRprTBEpZSFSS5NMqv50YokHUme2ny9pJTyvFrruhHWPzTJt5NMbX60vHmvg5McXEr5SpLX1VprP9NPSzKtz/tlafzZ7tx8/VMp5YdJXlRrXTGS9QEAAAC0onXr1pWnPvWpe3d2dra3tbXVqVOn9nR1dbX97Gc/m/6zn/1s+jve8Y5Fn/zkJxf3nbNmzZryohe9aPdLLrlkZpKMGzcu7e3t3ffff//4n/zkJ9v85Cc/2ebb3/72ku985zu3Tpo0qSbJpEmTembNmrVhxYoVbWvXri2TJk2q7e3t3X3rTpo0qafv+/e97307fPSjH92pp6fx8eTJk3s2bNhQbrrppik33XTTlG9961uzzj///Jue8pSnrB7o+73//e/f4cMf/vBOSdLe3t69fv368sc//nHypz/96bmXX355x09/+tMbx48f/5f7D3eNA3nLW96yU28g3HvvDRs25Pbbb590++23T7rgggtmnXbaaX949atfff9Q6rH57MgdglLKNkkuSiNYvS7JAbXWjjTC0zclWZfk2UlOGWH93ZOcm0aI+9Mk+9Rat0myTZITk9Qkr0ly/AAlvpTkVUn2SjK51jojyeQkeyT5z+aYg5OcNJL1AQAAALSqr33ta9v97ne/m/aJT3zituXLl1+1fPnyq2+66abfHnLIIUuT5FOf+tTcb33rW9v0nfOWt7xl3iWXXDKzlJK3vvWti+++++6rly1bdvVdd9119Vve8pbFSXLRRRdt+/a3v/0vO1Wf9axnrbz33nt/85znPGdJkjznOc9Zcu+99/6m7+tZz3rWyt7xJ5988uwPf/jDO02cOLHnHe94x6Jbb731t6tXr75q1apVv77sssuue9KTntT15z//ecKLXvSivZYtW9ZvRnf99ddP+chHPrLTMcccc9cdd9zxm+XLl1997733XvW2t71tcZL84he/6PjsZz/7l7B1uGsczG677bb2LW95y+LLL7/898uWLbuqq6vr6rVr1/76l7/85bXPe97zlqxbt6688Y1v3P3WW2+dMNQ/KzaPIHdojk+yY5JVSQ6ttXYmSa11Xa3180lOaI47upSyzwjqfzCNUHhxksNqrTc266+otf5HGjtuk+R9pZSZG0+utb6t1npmrfXmWuva5me11vqHWutbkpzTHHpkKcV/uAAAAICtxooVK9o+/vGP33b88cffO3Xq1Joke+655/qLLrroDwcccMCKJDnhhBPm9Y7/4x//OOErX/nK9knypje96a5TTjll0ezZs7uTZLvttuv+zGc+s+iYY465K0m++MUv7nDbbbcNO0tZunTpuH//93/fKUm+9KUv/eGTn/zk4l133XV9kowfPz5PfepTV/3f//3fjfPnz1919913T/jMZz4zu786XV1dbW9+85sXf/7zn79z7ty5G5Jk22237Tn55JMXHXzwwfcnybnnnrvtcNc3FCeddNLiz3zmM4v+5m/+ZvX06dN7kqStrS1PfOIT13zve9/74zOe8Yxlq1evHvf5z3++37Uz+gS5Q3Nk83hOrfXWfq5/No1WC21JjhhO4VLKtCS9PXC/UGtd1s+wjzWPHUleMJz6TVc0j1OSPCT/4QYAAAAYCzvuuOO6t7zlLfdt/HlbW1ve8573LE6SG2+8ccqvf/3ryUnyjW98Y2Z3d3eZPHlyzwc+8IHFG89Lkg996EN39bZB+PrXv/6gTXWbctZZZ83s6upqe9SjHrXmiCOO6C/ryYQJE/KiF71oSZL813/91zb9jZk4cWI98cQT7+rv2nOf+9z7k+SGG26Y2t/1h9ohhxyyLEmuuOKK9rG4/yORHrmb0Nxhu0vz7Q/6G1NrXVlKuSzJPyZ5Vh7YoTsUT00jYB2s/m2llOuS7Nus/5Vh1E+SpzWPXUnuGeZcAAAAgJb1pCc9qWvcuP73Kh5yyCFdbW1ttbu7u1xxxRVTFyxYsKazs3NqkjzucY9bOXPmzH77xc6aNav7sY997Korr7yyvXf8cPzsZz9rT5I77rhj0uzZsx8/0Li1a9eWJLnzzjsn9nd9jz32WD3QGnfaaad1SbJs2bK24a5vqK644oopn/vc57b75S9/2b5o0aJJq1atGrfx45vuuuuuftfO6BPkbtp+fc6vGWTcNWkEuY/ZjPrXbqL+vknmD6Vos6/vXknemOTFzY8/PcDD0vqb3zmEYY8eSi0AAACAh8rcuXPXD3RtypQpdcaMGd333Xff+HvuuWdCktx7770TkmTOnDkDzmteX9d3/HDcddddE5LGg9juu+++TeZva9as6TeJbm9vH/DBZL0POOvu7i7DXd9QfOQjH9nu/e9//y69D2orpaS9vb174sSJNWmE0CtWrGhbtWqVv/H/MBHkbtrcPud3DjKu99r0Ukp7rXXFMOsvrbWuGkL9uQMNKKW8LMnZ/Vxak+RTST4wxDUBAAAAbBFKGVmOWUoZ6ma3IY3rqzdcPeyww5ZceOGFfxzu/LH261//evIJJ5ywS09PT/7xH/9x6bve9a67DjrooNWTJ0/+y8/i5JNPnn3cccftOpbrfKQR5G5aR5/zwYLWvtc60uiZO5z6g9Xue71jkDGrk9zdPJ+dRs/e7jRC3M/WWgf8f3E2VmtduKkxzV27C4ZaEwAAAGC03XnnnQPumF29enW5//7725Jk++23X58ks2fPXp8kixYtGrQlwOLFiycmyaxZszYMd02997rhhhumbGpsKzr77LNndnd351GPetSaCy+88A9tbQ/u3nDXXXfJFR9mW+XW51LKq0spdTNezxjr7zAStdbv1Vp3rLXumGRyksclOTfJ+5L8rpTylDFdIAAAAMAo+8UvftHR+9f/N3bppZe29+6OffKTn7wqSRYuXLgqSX77299OW7p0ab/Z2JIlS8b97ne/m5okBxxwwMq+13r78Q7WvfJv/uZvViTJTTfdNOWqq66aPMyvtNmGssbB3HHHHROT5DGPecyq/kLcJPnJT34yfYTLY4S2yiB3lHX1OR+suXXfa10Djhq4/qYaZ/deH1LtWuuGWuvvaq2vSPKfSbZLck4pZUyeZAgAAADwUFi8ePHEz372s7M2/ry7uzsf+9jH5iTJXnvttXrBggVrkuSII45Y2tbWVtesWTPuhBNOmNNfzRNOOGHOmjVrxo0fP74eccQR9/e91tHR0Z0M/pCxV7/61Ut7x73pTW/aZf36gdvxdnd359577x3VB5YNZY2DmT59eneSXH/99VP7C8nPPffc6b/85S8H+1vjPAS21iD3m0lmbsbrp31qLepzPm+Qe/Ze6xpGf9y+9WduImTtrb9okDEDObl53CnJISOYDwAAANCS2tvbu9/5znfuetJJJ81etWpVSZKbb755wvOe97xH/eIXv+hIkhNPPPEvzz3afffd17/mNa+5J0k+97nP7fj2t799bm+Qeu+997a9/e1vn/v5z39+xyR5/etff/euu+76VynsfvvttzpJfvWrX3UMtNt21qxZ3R/+8IdvT5Irrrii48lPfvI+3//+99s3bGh0aejp6clVV101+cQTT9xh7733nn/uueduM5o/k6GscTCHHnrosiS5+eabJx911FG73H333W1Jsnz58nGf/OQnZ7/qVa/aY8aMGcNuOcHm2Sp7WdRa1yVZN0rlrulzvl+S6wYYt1/zeO1m1J+f5MpRrp/89UPa9hzBfAAAAICW9KpXverPV1xxRfs73vGOXd/97nfvMnXq1J7ly5f/ZSfq29/+9sWveMUrlvWdc+qpp955xx13TPz+978/85RTTplz6qmnzmlvb+9esWJFW+8O1MMOO2zJySef/KANdUceeeTSD33oQ/OWLl06fsGCBfNnzJixYerUqT1JcuaZZ/7h7//+71cmyb/8y7/ct3r16nHve9/7du7s7Gw/9NBD95kwYUKdNm1a98qVK9vWr1//l6e0jfSBbQMZ6hoH8vznP7/rsMMOW3LRRRdt+41vfGO7b3zjG9t1dHR0r1q1qq27uzvz589f9YpXvOLe9773vbuM6sIZ1Na6I3c03Zjk9uZ5v7tZSynTkjyt+fa/hln/8iRrNlF/1yT7jrB+kjyqz/nyEcwHAAAAaEkTJ06sl19++Y3vfve779x9993XrFu3rrS3t3c/+clP7vrWt75106c//ekHhbGTJ0+ul1xyyR+++tWv3vL0pz992fTp0zesXLly3DbbbLPh6U9/+rKvfe1rt1x44YV/nDRp0oOazG633XbdP/7xj2847LDDlmy//fbrV6xY0bZo0aKJixYtmrh69eq/ytre+c53/vl3v/vdNUcfffTd++yzz+pJkyb1dHV1jZ8yZUrP/PnzVx199NF3//CHP7z+DW94w5LR/JkMZ40DueCCC/74gQ984Pa999579cSJE2tPT0/Za6+9Vv/bv/3bnVdeeeX17e3t/Tcm5iFTRtr0+JGklPLhJO9JsirJ/FrrrRtdf2eSjyfpaV6/fpj1v5HkFUkWJ9m31rpso+ufT3JskhVJdq21LulzbXytddCt7KWUryU5qvn2MbXWgXYVD0sppXPBggULOjs7R6McAAAADMfobmF8mHR2dv5q8uTJ+86fP39U/t38kezAAw/c58orr2x/+9vfvri/sBZa0bXXXrvvmjVrrlu4cOEBw51rR+7QfDLJ3Wk8cOziUsrCJCmlTCylHJvkg81xX+wvxC2lnFFKqaWUgVLzE9IIieckubCUsldz3rRSyglJjmmO+3DfELfp3aWUs0spzy2l/KWxdyllfCnloFLKeXkgxP3maIW4AAAAAMDDZ6vskTvaaq33l1Kem+QHSR6T5FellK4kk5NMaA77UZK3jrD+LaWUw5Ocm0aLhhtLKcuStCfp7elyZhq7fjc2PsnLmq+UUlak0aphmz5rS5JvJXntSNYHAAAAAIwtQe4Q1VqvLKXMT/KuJIcl2SnJyjQePva1JF+utY64N0it9aJSyuOa9Z+Vxu7c+5NcleS0Wut3Bpj6lST3JXlGGiHz9klmptGG4bYkP09yZq318pGuDQAAAAAYW4LcYai13pXk7c3XcOa9OsmrhzDu5iSvH2btPyX5z+YLAAAAANgKCXIBAAAA2OL88pe/vGGs1wAPJw87AwAAAABocYJcAAAAAIAWJ8gFAAAAAGhxglwAAAAAgBYnyAUAAAAAaHGCXAAAAACAFifIBQAAAABocYJcAAAAAIAWJ8gFAAAAAGhxglwAAAAAgBYnyAUAAAAAaHGCXAAAAACAFifIBQAAAABocYJcAAAAAB5xDjzwwH1KKQuPO+64uWO9ltE0lt/rRS960W6llIUvetGLdhuL+Vs7QS4AAAAAW5RSysKRvk499dRZY71+Rs/LXvayXUspC2fMmPGE1atXl6HM6enpybx58x5bSll48MEH7/FQr3G0CHIBAAAA2KLMmjVrQ3+vKVOm9AxnDFu+17/+9fcmybJly9rOPvvsGUOZc+GFF3YsWrRoYpK85jWvufchXN6oGj/WCwAAAACA4bj33nt/09/nxx133NyTTz55zmBj2Lr8/d///co99thjzS233DL5jDPOmP2a17xm6abmfOUrX5mdJNttt936F7/4xcse+lWODjtyAQAAAIAt1hFHHHFvklx++eXT//jHP04YbOx9993X9sMf/nBGkrz0pS+9b/z4LWefqyAXAAAAgEe0np6enHTSSbMf97jHPbq9vX3/adOm7f+EJzzh0Z///Oe3HWhO34eKrV27tvz7v//7Dvvtt9++HR0dTyilLLzooos6+o6/8cYbJ77mNa/Zec8995w/bdq0/adMmbL/7rvvPv+f//mfd77pppsmDnSfL33pSzOf/vSn7zVr1qzHjx8/fkFHR8cTdt111/3+7u/+bs+PfvSj2w3WF3Yk36vXhRde2HHIIYc8avvtt3/cxIkTF8ycOfPxT37yk/f+zGc+M2vDhg2bmj6gL3zhC9suWLDg0dOmTdu/o6PjCY973OMe/alPfWp2T8/IO1684Q1vuG/8+PG1p6cnp59++qA9kL/85S9vu2bNmnFJcswxx2wxbRUSrRUAAAAAeATr7u7OwQcfvMePf/zjGW1tbXXKlCk9K1eubPvNb34z7U1vetPuN9100+STTz550UDz16xZU5785Cfvc9VVV01ra2ur06ZNe1Ai+YUvfGHbt73tbbutW7euJMnEiRPruHHj6q233jr5jDPOmPztb3979plnnnnLC1/4wuV95730pS/d9dvf/vbs3vfTpk3r2bBhQ/nTn/406U9/+tOk//mf/9nmpS996f177LHH+tH8Xq997Wt3/spXvrJ9kpRS0t7e3t3V1TX+5z//ecfPf/7zjnPOOWfWJZdccvPMmTOHnL729PTk8MMP3+073/nOrN66HR0d3ddee+20448/ftr//u//dkycOLEOtV5fc+fO3fDMZz5z2Y9+9KMZZ5999uyPfvSjdw009utf//qsJHniE5+4Yr/99ls7kvuNFTtyAQAAAHjEOuOMM7b/+c9/Pv2UU0659f7777+qq6vr6ptvvvm3z3zmM5clyamnnjrnd7/73aSB5n/ta1/b/oYbbpjymc985tb777//qmXLll29ePHiq5/4xCeuSpLzzz9/+pvf/ObdN2zYUF7/+tfffd111/1u9erVv165cuVVV1999TX/+I//uHTlypXjXvWqVz2q787cSy+9tP3b3/727HHjxuU973nPnXfdddfVK1asuGr16tVXLV68+Orvfve7N73gBS+4b6Dwc6Tf6yMf+ch2vSHuy1/+8ntvvfXW3yxfvvzqJUuWXPXBD37w9vHjx9ef//znHUceeeRuw/k5f+QjH9m+N8R99atffc+dd975m2XLll19zz33XH3cccctuvjii7f90Y9+NGM4NfvqfWjZbbfdNunSSy9t729MZ2fn5N/97nfTkuSoo47aonbjJoJcAAAAAB7Bli9f3vb1r3/95re+9a33tbe31yTZY4891l988cW3bLfddut7enry9a9/feZA81etWjXui1/84h/e8pa3/GX+jjvu2L3DDjt0d3d35+1vf/suPT09+Y//+I/bTz/99Dse/ehHrxs3blzGjRuXxz/+8WsvueSSP/zd3/3d/StWrGj76Ec/ukNv3csuu2xakjz5yU9e/uEPf/iuHXbYobv32o477tj9whe+cPl55513684779xvn4ORfK8VK1aUT3ziE/OS5LnPfe6Sb37zm7ftsssuG5Jk+vTpPe973/vu+dCHPnR7klx88cUz/+///m/qUH7Gq1atKp/61KfmJsmLX/zi+7761a/ePmfOnA1JMmvWrO6TTjpp8bHHHntXV1dX21Dq9efFL37xsu233359knzpS1+a3d+Y//f//t/sJGlvb+9+1atetcmHorUaQS4AAABACzruuOPmllIWDuX18pe/fNeN57/85S/fdajzjzvuuLkbz/+7v/u7PYc6/1Of+tSDgrP58+fvO1DtVvKEJzxh5T/90z91bfz5lClT6t/+7d8uT5JrrrlmwMByzz33XPOKV7xiWX/Xvv/973fcdtttk9rb27uPP/74Pw9U48gjj7wvSX7yk59M7/1sxowZ3UmydOnS8d3d3QNNHdBIvtf3vve96cuWLWtLko985CP9tl14xzve8ecddthhfZKcddZZm+y1mzR2JffW/eAHP9hv3Q984AN3TZo0aUStFZJk/PjxeclLXnJfklxyySUzly9f/le55/r163PeeefNShohdUdHx5DbQpx66qmzSikLv/Od70zf9OiHjiAXAAAAgEeshQsXrhjo2pw5c9YlydKlSwfcKfrEJz5xwPm9u2pXr149bt68eY+bPXv24/t7vfWtb90tSRYvXvyX1gqHHnro8kmTJtXf//73Uw888MB9PvOZz8y6/vrrB3wo2mh8ryuvvHJaksydO3fdQP1j29ra8pSnPGV5klx99dXThrKW3rrz5s1b9+hHP3pdf2NmzZrVPX/+/JVDqTeQY4455t5SSlatWjXujDPO+Kvdxuecc86MJUuWjE+S17/+9Q9qq/Czn/1synHHHTf3mmuuGbCNxlgT5AIAAADwiDV9+vQBd2aOHz8+SbJhw4YBM7TtttvuQQ8a67Vo0aKJSdLd3V3uu+++8QO9li9f3pYka9as+ct9HvOYx6w7+eSTb506dWrPr3/96/a3ve1tu+27776PnTVr1uMPO+ywR33jG9/Ypqdn4E2lI/le99xzz/gk2XHHHfsNW3vNmzdvXZLcd9994wcbt3HdHXbYYdC6c+bMGfBnORT77bff2gMOOGBFkpx55pl/tUv8q1/96uwk2WuvvVY/85nPXLXx3F/96ldTTz755DnXX399ywa5Q/phAwAAAPDw+vSnP73o05/+dL9/DX0ozj777NvOPvvs20Y6/7//+79vHuncJLn22muv25z5W4q2toHbuva2RHjCE56w8qqrrrp+uLWPPfbYJS984QuXnXnmmTP/93//d3pnZ+e0u+66a+LFF1888+KLL5556qmndv3whz+8eZttthlym4ChKKWM6riRjh+Jo4466t4rr7yyvbOzs/2aa66ZtN9++629/fbbx//f//3f9CR55StfucU95KyXHbkAAAAA8BDYcccdNyTJLbfcMnkkfW6TZIcddug+/vjj773ooov+sHjx4t9dc80117zxjW+8q5SSX/7ylx3vete7Rq0H8fbbb78h+esWD/258847JybJtttu2++D1gaqe9dddw1ad/HixROGttKBvepVr1ra3t7enSSnnXba7CQ5/fTTZ3V3d5cJEybU17/+9Us2nnPcccfN7W1v8ZKXvGSvgXpHd3d3l/e85z07zp0797ETJ05cMH/+/H2///3vt2/umodKkAsAAAAAD4GnPe1pK5Kkq6ur7YILLhiVB2XNnz9/7ec+97k7n/vc5y5Jkv/93/8dtQdwPfGJT1yZNFpCDNQrtru7Oz/72c86kmT//fcfUk/b3rp33nnnxBtuuKHfMHfJkiXjfv/73w/4ULmh6ujo6On92Xz729+etWHDhnzzm9+cnSR///d/f/+cOXMeFD4ffvjhS1/+8pffmyRveMMb7v7c5z73x8997nN/PPzww5f2HffBD35w7v/3//1/M9/whjfc/a//+q+L7rzzzkkvfelL97z33nsH3pY9igS5AAAAAPAQOOyww5bvsssua5Pk3e9+987Lli0bNIu7++67/xIIrl69etA+BFOmTOlJkra2tjoaa02S5z//+ctnzJixIUne85739LvT9+STT57du7P2yCOPfNDu1oHqTp8+vTtJTjjhhDn9jTnxxBN37NsjeHP0Pszs7rvvnvDOd75z7h/+8IfJSfLa176237YKBx100OonPelJK5LkH/7hH5a/8Y1vXPLGN75xyUEHHbS677ju7u7S2dl5/b//+7/f89GPfvSu//zP/7x1xYoVbV/+8pe3HY11b4ogFwAAAAAeAhMmTMipp556W1tbW7355psnP/GJT3z0Oeecs03fkPb666+f+MlPfnL2Yx/72H1POumk7Xs//+d//uddDj300EedccYZM+68886/POdq2bJl4z7xiU9sd955581Kkn/4h39YNlrrbW9vr8cff/yiJLnwwgu3fcUrXrHL7bffPj5Jurq6xn3kIx/Z7j3vec8uSfKc5zxn6dOe9rQHPTRsoLrHHXfcoiQ599xzZ7/uda/b6a677mpLGjtxjz/++Dmf/exn53R0dIys/8RGnvnMZ67aa6+9VifJZz7zmTlJssMOO6x/wQtesHxz6r7qVa/686RJk/4SnB9yyCFdSXLzzTc/LA9I87AzAAAAAHiIPP/5z+/66le/+odjjz1295tuumnKy1/+8j3b2tpqR0dH9+rVq9vWrl37l1D30EMP/ctf5V+/fn35/ve/P/P73//+zCSZOnVqT1tbW+3q6vrLrt0nPvGJKz70oQ8tHs31vuc97/nzLbfcMvkrX/nK9mefffZ255xzznYdHR3dK1euHNfd3V2S5KCDDuo666yzbh1O3fe97333XH311VMvuOCCWV/+8pd3+OpXv7pDe3t798qVK9u6u7tz2GGHLZk4cWLtDag31ytf+cp7//3f/33nnp7Gc+AOP/zwewd7MN1Q7Lbbbuv6vt9uu+26k2Tp0qUPS8ZqRy4AAAAAPISOPPLI+2+88cbfHXfccYse+9jHrpw2bVpPV1fX+AkTJvTsvffeq1/5ylf++fzzz7/xQx/60F29cz7wgQ8s/tCHPnT7s571rPt33333NePGjaurVq0at+222254ylOesvwzn/nMrT/72c9uaG9vH7XWCr2+/OUv3/69733vxoMPPvj+WbNmrV+1atW4adOm9Rx00EFdp5xyyq0//elPb5w5c2bPcGq2tbXl/PPPv/Wzn/3sHx//+MevnDRpUk93d3fZd999V33iE5+47Xvf+94fR/M7vP71r18yYcKEmiSllLzhDW/ot63CcIwfP77fn3Wto/5H0K/ycN2IrU8ppXPBggULOjs7x3opAAAAPPIM2j+0VXV2dv5q8uTJ+86fP/+6sV4L8ID//M//nPWWt7xlt29/+9s3vfjFL/6rFgynnnrqrLe+9a39XiulLHzhC19433e/+91bh3Kfa6+9dt81a9Zct3DhwgOGu0Y7cgEAAACAR7Te/rz33Xdfy7aibdmFAQAAAAA8HP7mb/5m1bhx43LKKafs2Gwl0b3//vuvfuITn7hmrNfWy45cAAAAAOARbe+991530kkn3bp69epxxx9//C5veMMbHnX22WdvO9br6kuPXEZMj1wAAADGkB65wBZHj1wAAAAAgK2YIBcAAAAAoMUJcgEAAAAAWpwgFwAAAACgxQlyAQAAAABanCAXAAAAAOAhVmvdrPmCXAAAAICHz/oktaenp4z1QoCHV621JKlJ1o1kviAXAAAA4OGzuNa6dtWqVVPGeiHAw2vVqlVTaq1rk9w1kvmCXAAAAICHz0+6u7uXL1myZObm/jVrYMtRa82SJUtmdnd3L0/yPyOpIcgFAAAAePhcsmHDhnuWL18+4fbbb5+3YsWKqT09PUWoC1ufWmt6enrKihUrpt5+++3zli9fPmHDhg33JLlkJPXGj/L6AAAAABjAwoULb+7s7Dxu7dq1n166dOn2y5cv36GUMimJnrmwdaq11rXd3d3LN2zY8Kckxy1cuPCWkRQS5AIAAAA8jBYuXHh5Z2fnKzZs2HDohg0bnplkxyQTx3pdwENiXRo9cf8nySUjDXETQS4AAADAw64Z5vxn8wWwSXrkAgAAAAC0OEEuAAAAAECLE+QCAAAAALQ4QS4AAAAAQIsT5AIAAAAAtDhBLgAAAABAixPkAgAAAAC0OEEuAAAAAECLE+QCAAAAALQ4QS4AAAAAQIsT5AIAAAAAtDhB7jCUUnYopZxUSrmhlLK6lLKklHJZKeW1pZQyCvX3KKWcVkr5YyllTSnlnlLKpaWUF46g1oxSyqJSSm2+Ttzc9QEAAAAAY2P8WC9gS1FKWZjk0iSzmh+tSNKR5KnN10tKKc+rta4bYf1Dk3w7ydTmR8ub9zo4ycGllK8keV2ttQ6x5KeTzBnJWgAAAACA1mJH7hCUUrZJclEawep1SQ6otXYkmZbkTUnWJXl2klNGWH/3JOemEeL+NMk+tdZtkmyT5MQkNclrkhw/xHr/kOSfk1wxkvUAAAAAAK1FkDs0xyfZMcmqJIfWWjuTpNa6rtb6+SQnNMcdXUrZZwT1P5hGKLw4yWG11hub9VfUWv8jyWnNce8rpcwcrFApZVqS05OsT3L0CNYCAAAAALQYQe7QHNk8nlNrvbWf659No9VCW5IjhlO4Gbz29sD9Qq11WT/DPtY8diR5wSZKfjjJ7kk+UWu9ZjhrAQAAAABakyB3E5o7bHdpvv1Bf2NqrSuTXNZ8+6xh3uKpSaZsov5tabR0GLR+KeVJSf4lyU1JPjTMdQAAAAAALcrDzjZtvz7ng+1wvSbJPyZ5zGbUv3YT9fdNMr+/i6WUiUm+nEY4f0ytdc0w17Fxvc4hDHv05twDAAAAABgaO3I3bW6f8zsHGdd7bXoppX0E9ZfWWlcNof7cAa6/P40Q+Yxa638P4/4AAAAAQIuzI3fTOvqcDxa09r3WkUbP3OHUH6x23+sdG18opTwuybuS/DnJO4Z430HVWhduakxz1+6C0bgfAAAAADCwrXJHbinl1aWUuhmvZ4z1dxiqUkpbGi0VJiQ5rtZ63xgvCQAAAAAYZVtlkDvKuvqcTx1kXN9rXQOOGrj+YLX7Xt+49nFJDkjyo1rr14dxXwAAAABgC7G1tlb4ZpILNmN+37YIi/qcz0uyfIA585rHrlrrUNsq9K0/s5QydZA+ufM2Gp9Syo5J/iPJ2iTv2ERv3om914e5PgAAAABgjG2VQW6tdV2SdaNU7po+5/sluW6Acfs1j9duRv35Sa4cRv0dk0xpnv9mE/f5t+YrpZSZtdb7h7dMAAAAAGCsaK2waTcmub15fkh/A0op05I8rfn2v4ZZ//IkazZRf9ck+46wPgAAAACwhRPkbkKttSY5q/n2ZaWU3foZ9qYk7Ul6knxjmPVXJDmv+fbYUso2/Qx7V/O4Isn5feZeXWstg7361PiPPp/fP5w1AgAAAABjS5A7NJ9McncaDxy7uJSyMElKKRNLKccm+WBz3BdrrddvPLmUckYppZZS6gD1T0iyKsmcJBeWUvZqzptWSjkhyTHNcR+utS4ZtW8FAAAAAGwRtsoeuaOt1np/KeW5SX6Q5DFJflVK6UoyOcmE5rAfJXnrCOvfUko5PMm5abRouLGUsiyNXb5tzWFnJvn4yL8FAAAAALClsiN3iGqtV6bxMLJTktycRoC7Mo0et0cnOaTWunYz6l+U5HFJvpTktjQeYnZ/Gj1xX1JrfVWzzQMAAAAA8AhTZIOMVCmlc8GCBQs6OzvHeikAAAA88pRNDwHYetiRCwAAAADQ4gS5AAAAAAAtTpALAAAAANDiBLkAAAAAAC1OkAsAAAAA0OIEuQAAAAAALU6QCwAAAADQ4gS5AAAAAAAtTpALAAAAANDiBLkAAAAAAC1OkAsAAAAA0OIEuQAAAAAALU6QCwAAAADQ4gS5AAAAAAAtTpALAAAAANDiBLkAAAAAAC1OkAsAAAAA0OIEuQAAAAAALU6QCwAAAADQ4gS5AAAAAAAtTpALAAAAANDiBLkAAAAAAC1OkAsAAAAA0OIEuQAAAAAALU6QCwAAAADQ4gS5AAAAAAAtTpALAAAAANDiBLkAAAAAAC1OkAsAAAAA0OIEuQAAAAAALU6QCwAAAADQ4gS5AAAAAAAtTpALAAAAANDiBLkAAAAAAC1OkAsAAAAA0OIEuQAAAAAALU6QCwAAAADQ4gS5AAAAAAAtTpALAAAAANDiBLkAAAAAAC1OkAsAAAAA0OIEuQAAAAAALU6QCwAAAADQ4gS5AAAAAAAtTpALAAAAANDiBLkAAAAAAC1OkAsAAAAA0OIEuQAAAAAALU6QCwAAAADQ4gS5AAAAAAAtTpALAAAAANDiBLkAAAAAAC1OkAsAAAAA0OIEuQAAAAAALU6QCwAAAADQ4gS5AAAAAAAtTpALAAAAANDiBLkAAAAAAC1OkAsAAAAA0OIEuQAAAAAALU6QCwAAAADQ4gS5AAAAAAAtTpA7DKWUHUopJ5VSbiilrC6lLCmlXFZKeW0ppYxC/T1KKaeVUv5YSllTSrmnlHJpKeWFm5j3k1JK3cTrjs1dHwAAAAAwNsaP9QK2FKWUhUkuTTKr+dGKJB1Jntp8vaSU8rxa67oR1j80ybeTTG1+tLx5r4OTHFxK+UqS19Va6yBlVjbX1Z97RrIuAAAAAGDs2ZE7BKWUbZJclEawel2SA2qtHUmmJXlTknVJnp3klBHW3z3JuWmEuD9Nsk+tdZsk2yQ5MUlN8pokx2+i1KdqrTsO8FowkrUBAAAAAGNPkDs0xyfZMcmqJIfWWjuTpNa6rtb6+SQnNMcdXUrZZwT1P5hGKLw4yWG11hub9VfUWv8jyWnNce8rpczcjO8BAAAAAGyBBLlDc2TzeE6t9dZ+rn82jZYGbUmOGE7hUsq0JL09cL9Qa13Wz7CPNY8dSV4wnPoAAAAAwJZPkLsJzR22uzTf/qC/MbXWlUkua7591jBv8dQkUzZR/7Y0WjqMpD4AAAAAsIUT5G7afn3OrxlkXO+1x2xG/WuHUH/+IGOOKKXcWkpZW0q5v5Tyq1LKh0spc4e5JgAAAACghYwf6wVsAfqGoHcOMq732vRSSnutdcUw6y+tta4aQv3BQtk9k6xPo83DjCQLm683l1JeXWs9f4hrSimlcwjDHj3UegAAAADAyNmRu2kdfc4HC1r7XusYcNTA9Qer3fd6f7V/kuSfk8xLMqnWum2Smc3P7kkyPcm3SilPHsa6AAAAAIAWsVXuyC2lvDrJVzejxDNrrT8ZndU89GqtJ/bz2bIkZ5RSLkvyqzR26H48ydOHWHPhpsY0d+0uGM5aAQAAAIDhsyN307r6nE8dZFzfa10Djhq4/mC1+14fTu3UWm9J8rnm26eWUmYPZz4AAAAAMPa2yh25Sb6Z5ILNmN+3v+2iPufzkiwfYM685rFrGP1x+9afWUqZOkif3HkbjR+OK5rHkmS3JPeOoAYAAAAAMEa2yiC31rouybpRKndNn/P9klw3wLj9msdrN6P+/CRXjnJ9AAAAAGALp7XCpt2Y5Pbm+SH9DSilTEvytObb/xpm/cuTrNlE/V2T7DvC+knypOaxJrl1BPMBAAAAgDEkyN2EWmtNclbz7ctKKbv1M+xNSdqT9CT5xjDrr0hyXvPtsaWUbfoZ9q7mcUWS8/teKKWUweo3Q+A3Nd/+rNaqrQIAAAAAbGEEuUPzySR3p/HAsYtLKQuTpJQysZRybJIPNsd9sdZ6/caTSylnlFJqKaUOUP+EJKuSzElyYSllr+a8aaWUE5Ic0xz34Vrrko3mvruU8rVSyj+WUmb0uWdHKeWVafTHnZlkfR4IhAEAAACALchW2SN3tNVa7y+lPDfJD5I8JsmvSildSSYnmdAc9qMkbx1h/VtKKYcnOTeNFg03llKWpbHLt6057MwkH+9n+qQkRzVfaa5rfZIZeSCoX5bkNbXWy0eyPgAAAABgbAlyh6jWemUpZX4au1oPS7JTkpVpPHzsa0m+XGvt2Yz6F5VSHtes/6w0dufen+SqJKfVWr8zwNRvJylJnpxkzySzkkxPsjSNB7P9MMnptda7R7o2AAAAAGBslUYLWBi+UkrnggULFnR2do71UgAAAHjkGfSZMQBbGz1yAQAAAABanCAXAAAAAKDFCXIBAAAAAFqcIBcAAAAAoMUJcgEAAAAAWpwgFwAAAACgxQlyAQAAAABanCAXAAAAAKDFCXIBAAAAAFqcIBcAAAAAoMUJcgEAAAAAWpwgFwAAAACgxQlyAQAAAABanCAXAAAAAKDFCXIBAAAAAFqcIBcAAAAAoMUJcgEAAAAAWpwgFwAAAACgxQlyAQAAAABa3PiHqnAp5TFJFiZ5VJIdk0xLsj7J/Un+lOTaJFfWWpc9VGsAAAAAANgajFqQW0opSQ5O8ookhySZPYRpPaWUXyU5L8k3a613jtZ6AAAAAAC2FpvdWqGUMrWU8o4kf0xySZJXJtkuSRnCqy3JQUk+luTWUsp3SikHbe6aAAAAAAC2JiPekVtKaUvy5iTvSWP3bWleuj3JFUl+kaQzyT1JljRfU5Jsm2Rmkn3SCHEPTKMFw6QkL0zyglLK95McX2u9bqTrAwAAAADYWmxOa4XfpRHGliR3J/lWkm/UWq8cZE5X83Vbkqubc1JK2SbJi5IckeRvkxya5OBSyqtrrd/cjDUCAAAAAGzxNqe1wqOT3Jzkn5PsVGt92yZC3AHVWpfVWr9Sa/37JHsnOaN5ac/NWB8AAAAAwFZhc4Lco5LsW2v9Wq21e7QWVGv9Q631NWkEuv8zWnUBAAAAALZUI26tUGv9+mgupJ/6tya59aG8BwAAAADAlmBzduSmlPLDUsorSilTRmtBAAAAAAD8tc0KcpP8Q5KzktxVSvlSKeXpo7AmtiCLFy9OKWVIr6OPPvpB848++ughzz/xxBMfNP+5z33ukOeffvrpD5q/cOHCIc+/8MILHzR/7ty5Q57f2dn5oPlDnVtKyaJFi/5q7qJFi4Y1f2OdnZ1Dnjt37twHzb/wwguHPH/hwoUPmn/66acPef5zn/vcB80/8cQT/e753fO753fP757fPb97fvf87vnd87v3CP7dA3ik2dwgN0lKko40Hnr2P6WUP5RS/r2U8qhRqA0AAAAA8Ii3uUHunkk+mOQPaQS6JcmuSU5IclMp5bJSymtLKdM38z4AAAAAAI9YpdY6OoVKeUqSo5K8JMmM5se9xdckuSDJmUl+WEfrpoypUkrnggULFvT313gAAADgIaa/AvCIMhqtFZIktdbLa61vSLJjkpcmuShJdxr/xTolycuSXJLkjlLKx0sp80fr3gAAAAAAW7NRC3J71VrX1Vq/U2t9XpK5Sd6W5Fd5oPXCnCTvSPLbUsqvSilvLqXMGu11AAAAAABsLUY9yO2r1npvrfXUWuuBSR6T5ONJbs8Doe7+ST6TZFEp5fxSyj89lOsBAAAAANgSPaRBbl+11utrrf9Wa901yT+k0S93RRqB7oQkz0/ynYdrPQAAAAAAW4qHLcjtq9b637XWVyd5WpJr8sBD0TQqBwAAAADYyPiH+4allBlJDk9yVJInPdz3BwAAAADY0jwsQW4ppS3Jc9IIb5+TZGLvpeZxcZJvJPnaw7EeAAAAAIAtyUMa5JZSnphGeHt4klm9HzePa5J8L43w9oe11p6Hci0AAAAAAFuqUQ9ySyk7Jzmy+dq79+M+Q36WRnj7rVrr8tG+PwAAAADA1mZUgtxSSnuSl6Sx+/ZpeSC47T3eluSsJF+rtd4yGvcEAAAAAHik2Kwgt5RySBrh7fOTTO79uHlckeS7aYS3P9mc+wAAAAAAPJJt7o7cS5LUPBDe1iT/nUbrhO/WWldtZn0AAAAAgEe80WitUJLcmOTMJGfVWm8fhZoAAAAAADRtbpB7epIzaq0/H43FAAAAAADwYJsV5NZajxmthQAAAAAA0L9xY70AAAAAAAAGJ8gFAAAAAGhxglwAAAAAgBYnyAUAAAAAaHGCXAAAAACAFifIBQAAAABocYJcAAAAAIAWJ8gFAAAAAGhxglwAAAAAgBYnyAUAAAAAaHGCXAAAAACAFifIBQAAAABocYJcAAAAAIAWJ8gFAAAAAGhxglwAAAAAgBYnyB2GUsoOpZSTSik3lFJWl1KWlFIuK6W8tpRSRqH+HqWU00opfyylrCml3FNKubSU8sJh1PibUspXSim3lFJWlVLuL6X8vpRyRinlkM1dIwAAAADw8Bs/1gvYUpRSFia5NMms5kcrknQkeWrz9ZJSyvNqretGWP/QJN9OMrX50fLmvQ5OcnAp5StJXldrrQPMb0vyuSRv6PPx8iSTkuzbfM1I8oORrA8AAAAAGDt25A5BKWWbJBelEaxel+SAWmtHkmlJ3pRkXZJnJzllhPV3T3JuGiHuT5PsU2vdJsk2SU5MUpO8Jsnxg5T5ahoh7sok70oyp1ljapIdk7wiyY9Hsj4AAAAAYGyVATZ40kcp5UNJ3ptkVZL5tdZbN7r+riQfS9LdvH7DMOt/PckRSRYn2bfWumyj619IckySriS71lqXbnT9ZUnObt7/72qt/zec+49UKaVzwYIFCzo7Ox+O2wEAAEBfm93iEGBLYkfu0BzZPJ6zcYjb9Nk0Wi20pRHIDlkpZVqS3h64X9g4xG36WPPYkeQF/Vw/oXk8/eEKcQEAAACAh48gdxNKKfsk2aX5tt/+srXWlUkua7591jBv8dQkUzZR/7Y0Wjo8qH4p5Ylp9L9Nki8P894AAAAAwBZAkLtp+/U5v2aQcb3XHrMZ9a8dQv35G33+1OaxK8nVpZRXlVJ+VkpZXkpZUUr5XSnlo6WU7Ya5LgAAAACgRYwf6wVsAeb2Ob9zkHG916aXUtprrSuGWX9prXXVEOrP3ejzvZvH25J8I8nhzff3J5mYRlC8X5J/LqU8p9Y6pIa2pZShjHv0UGoBAAAAAJvHjtxN6+hzPljQ2vdax4CjBq4/WO2+1zeuPbN5nJ9GiHtxkj1rrTOTtCd5UZIlSXZI8r1SynDWBgAAAAC0gK1yR24p5dVJvroZJZ5Za/3J6KzmIdcbxpckf0jywlrruiSptW5Icl4ppSY5L8m8JK9NcsqmitZaF25qTHPX7oKRLRsAAAAAGCo7cjetq8/51EHG9b3WNeCogesPVrvv9Y1r931/am+I21et9fwkNzffPnsYawMAAAAAWsBWuSM3yTeTXLAZ8/v2t13U53xekuUDzJnXPHYNoz9u3/ozSylTB+mTO2+j8b369u29bpD7XJdkzyS7DmNtAAAAAEAL2CqD3Oau1AftTB2ha/qc75eBw9L9msdrN6P+/CRXDrP+7/qc10HuU4YwBgAAAABoQVorbNqNSW5vnh/S34BSyrQkT2u+/a9h1r88yZpN1N81yb4D1P/vJBua548Z5D6Pbh7/OMz1AQAAAABjTJC7CbXWmuSs5tuXlVJ262fYm5K0J+lJ8o1h1l+RxoPIkuTYUso2/Qx7V/O4Isn5G82/L8mFzbdvKaVM3HhyKeUFabRVSJKLhrM+AAAAAGDsCXKH5pNJ7k7jgWMXl1IWJkkpZWIp5dgkH2yO+2Kt9fqNJ5dSziil1FLKQG0NTkiyKsmcJBeWUvZqzptWSjkhyTHNcR+utS7pZ/6/JVmd5FFJvltK2aM5f3wzxP1ic9yNSb46nC8OAAAAAIy9rbJH7mirtd5fSnlukh+k0b7gV6WUriSTk0xoDvtRkreOsP4tpZTDk5ybRouGG0spy9LY5dvWHHZmko8PMP+GUspLk3wryWFJDiul3N9c3+TmsD8keW6tde1I1ggAAAAAjB07coeo1nplGg8jOyXJzWkEuCvT6HF7dJJDNickrbVelORxSb6U5LYkU5Lcn0ZP3JfUWl/VbPMw2Pz9knw+jdB2Shq9czuTvCfJE2qtN450fQAAAADA2CmDZIMwqFJK54IFCxZ0dnaO9VIAAAB45CljvQCAh5MduQAAAAAALU6QCwAAAADQ4gS5AAAAAAAtTpALAAAAANDiBLkAAAAAAC1OkAsAAAAA0OIEuQAAAAAALU6QCwAAAADQ4gS5AAAAAAAtTpALAAAAANDiBLkAAAAAAC1OkAsAAAAA0OIEuQAAAAAALU6QCwAAAADQ4gS5AAAAAAAtTpALAAAAANDiBLkAAAAAAC1OkAsAAAAA0OIEuQAAAAAALU6QCwAAAADQ4gS5AAAAAAAtTpALAAAAANDiBLkAAAAAAC1OkAsAAAAA0OIEuQAAAAAALU6QCwAAAADQ4gS5AAAAAAAtTpALAAAAANDiBLkAAAAAAC1OkAsAAAAA0OIEuQAAAAAALU6QCwAAAADQ4gS5AAAAAAAtTpALAAAAANDiBLkAAAAAAC1OkAsAAAAA0OIEuQAAAAAALU6QCwAAAADQ4gS5AAAAAAAtTpALAAAAANDiBLkAAAAAAC1OkAsAAAAA0OIEuQAAAAAALU6QCwAAAADQ4gS5AAAAAAAtTpALAAAAANDiBLkAAAAAAC1OkAsAAAAA0OIEuQAAAAAALU6QCwAAAADQ4gS5AAAAAAAtTpALAAAAANDiBLkAAAAAAC1OkAsAAAAA0OIEuQAAAAAALU6QCwAAAADQ4gS5AAAAAAAtTpALAAAAANDiBLkAAAAAAC1OkAsAAAAA0OIEuQAAAAAALU6QCwAAAADQ4gS5AAAAAAAtTpA7DKWUHUopJ5VSbiilrC6lLCmlXFZKeW0ppYxC/T1KKaeVUv5YSllTSrmnlHJpKeWFg8x5dSmlDuP1qs1dJwAAAADw8Bo/1gvYUpRSFia5NMms5kcrknQkeWrz9ZJSyvNqretGWP/QJN9OMrX50fLmvQ5OcnAp5StJXldrrRtNXZ3k7k2Un55kSvP8ypGsDwAAAAAYO3bkDkEpZZskF6URrF6X5IBaa0eSaUnelGRdkmcnOWWE9XdPcm4aIe5Pk+xTa90myTZJTkxSk7wmyfEbz621fqvWuuNgryS3NIf/vNb6+5GsEQAAAAAYO4LcoTk+yY5JViU5tNbamSS11nW11s8nOaE57uhSyj4jqP/BNELhxUkOq7Xe2Ky/otb6H0lOa457Xyll5nAKl1IOSrJf8+2XRrA2AAAAAGCMCXKH5sjm8Zxa6639XP9sGq0W2pIcMZzCpZRpSXp74H6h1rqsn2Efax47krxgOPWTvLZ5XJHkW8OcCwAAAAC0AEHuJjR32O7SfPuD/sbUWlcmuaz59lnDvMVT80D/2oHq35ZGS4dh1W+GxC9rvj2n1rpimGsDAAAAAFqAh51t2n59zq8ZZNw1Sf4xyWM2o/61m6i/b5L5w6j90jR28SbDbKtQSukcwrBHD6cmAAAAADAyduRu2tw+53cOMq732vRSSvsI6i+tta4aQv25g4zZWG9bhWtqrb8YxjwAAAAAoIXYkbtpHX3OBwta+17rSKMn7XDqD1a77/WOQUc1lVIeneQpzbdfHuJa/qLWunAI9+hMsmC4tQEAAACA4dkqd+SWUl5dSqmb8XrGWH+HUdC7G3dtkrPGciEAAAAAwObZKoPcUdbV53zqIOP6XusacNTA9Qer3ff6JmuXUiYkOar59oJa633DWA8AAAAA0GK21tYK30xywWbM79sWYVGf83lJlg8wZ17z2FVrHWpbhb71Z5ZSpg7SJ3feRuMH89wk2zfPh/WQMwAAAACg9WyVQW6tdV2SdaNU7po+5/sluW6Acfs1j9duRv35Sa4chfq9bRVuTfLjYa4HAAAAAGgxWits2o1Jbm+eH9LfgFLKtCRPa779r2HWvzzJmk3U3zXJvkOpX0qZl+TZzbdfqbXWYa4HAAAAAGgxgtxNaAahvQ8Le1kpZbd+hr0pSXuSniTfGGb9FUnOa749tpSyTT/D3tU8rkhy/iZK/nOStiTdSb46nLUAAAAAAK1JkDs0n0xydxoPHLu4lLIwSUopE0spxyb5YHPcF2ut1288uZRyRimlllIG2h17QpJVSeYkubCUsldz3rRSyglJjmmO+3CtdclAiyyllCSvab69tNZ6x7C+JQAAAADQkrbKHrmjrdZ6fynluUl+kOQxSX5VSulKMjnJhOawHyV56wjr31JKOTzJuWm0aLixlLIsjV2+bc1hZyb5+CZK/V2S3ZvnHnIGAAAAAFsJO3KHqNZ6ZRoPIzslyc1pBLgr0+hxe3SSQ2qtazej/kVJHpdGAHtbkilJ7k+jJ+5Laq2vGkK/296HnN2d5MKRrgUA+tPTk6xcmaxdm3R3J7qwAwAAPHyKZ2ExUqWUzgULFizo7Owc66UAsBl6epI//zlZtChZvPivj33P77qrEeD2NX78g18TJvT/+eaObaXa4/xf4QDQCspYLwDg4aS1AgBspXoD2v5C2b7nd9+dbNgwsnts2DDyuVuyceNaI1B+uMe2tSXFvzIDAMCYEOQCwBZo5crkzjsbrzvueOC872tzAtqBTJ7c2JW7fv3o1t3S9PQk69Y1Xo80bW0PT6Dc9z4b33Oo10arTn/X7MoGAODhJsgFgBbS05Pce2//4Wzfz5YtG937zpyZzJ3beM2Z89fH3vM5cxpBbt+19u7I7e+1fv3g17fkOY9k3d2N19oRPxlg61DK2AbJrRhy260NAPDQEuQCwMNkzZpGK4PBAtpFi0Z3t+tIAtqhGjcumTix8XokqXXTIfaWFkwP50VDrY2f4SN9d3pf48a1bsg81Gt9jyP5bKDrQm4AYDQIcgFgM9WaLF06eEB7552NnbajZeLERhA7b17jtdNOD5zPm/dAUDuSgJbBlfJAODNp0liv5uFVa2M37kMVGK9f/+D6fd+P9NpojxXe9q+np/Hy83mwviH3UMPfkQTGD2XNh2vOuHGCbwAYiCAXAAaxYUPjoWCDBbR33pmsXj1695wxY+CAtvezWbP06OTh19tOYLx/gkxPz8MbHo9FYD3cOgxMyD08rRoyj3Wo3t97wTfAI4t/DAfgEaura9MB7V13NXYhjoa2tmTHHQcPaOfOTaZNG537AQ+dceMarwkTxnolraG35ciWHFj3vu/9rO9xU58Ndr2nZ6z/dLY8vT+/R+IDJUeib7A7UOA72OcDfXbIIcnb3z7W3w6AvgS5AGx1ak3uu68RzN5xR3L77X8d0vaed3WN3j2nTRs8oJ03L9lhh8a/HAFsbfq2HHmk9c3elN6WJMMJfx+KQHlLmTNa/+fpI0nvz3K07bzz6NcEYPMIcgHYovT0JH/+8wMhbd9Xb2B7xx3J2rWjd8/ttx88oJ03L5k+3V9tBODBtCQZnt6d3a0UMrfiOnpfD2Xw7XcWoPX4r2YAWkZ3d3LPPf0Hs72vO+8cvb9qOWnSg8PZjQPaOXPsLgOAh4u2JcOzcfA90O7v4X7W3d345yAAWosgF4CHRXd346Fhg+2kXbRo9B6YM316I5Dd+NU3sJ01yy5aAGDLJfgGeGQR5AKw2davfyCk7W8X7R13NK6PVv+2mTP7D2l32qnRz6231QEAAABsLQS5AAxq7drGTtnB+tHeddfo9WibNeuBQHagHbXt7aNzLwAAANhSCHIBHsHWrGn0nB1sJ+3dd4/e/XofGrbxDtq+Ie2UKaN3PwAAANhaCHIBtlIbNjR20t5++1+//vSnB87//OfRuVcpyQ47DLyLduedk7lzGw8XAwAAAIZPkAuwBerpaYSwfUPZjcPaxYsb4zbXuHHJnDn976Dtfc2Zk0ycuPn3AgAAAPonyAVoMbUm99/f/w7a3tcddyTr1m3+vdraGjtl+wtnez/bccdkvP+1AAAAgDHlX80BHmYrVw7e7uD22xtjRkNvu4NddmkcN37NmdMIcwEAAIDWJsgFGEXr1j3w4LCBwtqlS0fnXjNnPjiY7RvYzpunJy0AAABsLQS5AEPU3Z3cddfA7Q5uv71xfTRMnTrwLtpddmm0PGhvH517AQAAAK1PkAuQB/rS/ulPD371hrSLFiUbNmz+vSZMeKAH7UBh7cyZSSmbfy8AAABg6yDIBR4R1q9P7ryz/6D2ttsaxxUrNv8+48Y1+s4O1vJg++0b4wAAAACGSpALbPEG203bG9QuWtQYt7lmzx685cGcOY0dtwAAAACjSZALtLzBdtP2BrWjsZu2ty/trrs+ENb2DW132imZMmXz7wMAAAAwXIJcYExtajftn/7U2E3b07P595ozpxHM9g1r+7623VZfWgAAAKA1CXKBh9SmdtP+6U9JV9fm36d3N23fV9+wdt68ZNKkzb8PAAAAwFgQ5AIjVmuybNkDDwt7uHbT9hfU2k0LAAAAbM0EuWzVfv/75OijH3jf92FXwz1/uOZsSfe8777R2U07ZUr/rQ56w1q7aQEAAIBHOkEuW7UVK5LLLx/rVdDfbtq+Qa3dtAAAAACDE+QCm2XKlIEfHrbLLslOO9lNCwAAALC5BLls1fbdN7nssr/+rO/Oz+GeP1xzxuKeI5nT0ZHMnm03LQAAAMBDTZDLVq2jI3nqU8d6FQAAAACwecaN9QIAAAAAABicIBcAAAAAoMUJcgEAAAAAWpwgFwAAAACgxQlyAQAAAABanCAXAAAAAKDFCXIBAAAAAFqcIBcAAAAAoMUJcgEAAAAAWpwgFwAAAACgxQlyAQAAAABanCAXAAAAAKDFCXIBAAAAAFqcIBcAAAAAoMUJcgEAAAAAWpwgFwAAAACgxQlyAQAAAABanCAXAAAAAKDFCXIBAAAAAFqcIBcAAAAAoMUJcgEAAAAAWpwgFwAAAACgxQlyAQAAAABanCAXAAAAAKDFCXIBAAAAAFqcIBcAAAAAoMUJcgEAAAAAWpwgFwAAAACgxQlyAQAAAABanCAXAAAAAKDFCXKHoZSyQynlpFLKDaWU1aWUJaWUy0opry2llFGov0cp5bRSyh9LKWtKKfeUUi4tpbxwCHOnllL+tbme+0op60spy0opnaWUj5ZS5mzu+gAAAACAsVFqrWO9hi1CKWVhkkuTzGp+tCLJ5CTjm+8vTfK8Wuu6EdY/NMm3k0xtfrQ8SXseCNu/kuR1tZ8/sFLK7kn+K8mj+ny8LElHn/nLkzy/1vqTkaxvgDV3LliwYEFnZ+dolQQAAICh2uwNVQBbEjtyh6CUsk2Si9IIca9LckCttSPJtCRvSrIuybOTnDLC+rsnOTeNEPenSfaptW6TZJskJyapSV6T5PgBSpyZRoi7Lsmbk3TUWmekETQ/N8ntSaYn+VYpZeoANQAAAACAFiXIHZrjk+yYZFWSQ2utnUlSa11Xa/18khOa444upewzgvofTCMUXpzksFrrjc36K2qt/5HktOa495VSZvadWErZNclTm28/Umv9XK11RXP++lrrRUle2by+fZKnj2B9AAAAAMAYEuQOzZHN4zm11lv7uf7ZNFottCU5YjiFSynTkvT2wP1CrXVZP8M+1jx2JHnBRtf69r4dqMfBlX3O7cgFAAAAgC2MIHcTmjtsd2m+/UF/Y2qtK5Nc1nz7rGHe4qlJpmyi/m1ptHTor/4f+pwfMMA9Dmwee5JcNcz1AQAAAABjbPymhzzi7dfn/JpBxl2T5B+TPGYz6l+7ifr7Jpnf98Na6z2llO8meVGSfyul/DnJ12qtK0opE9Lo3fv55vCTaq1/HMqiSilDeYLZo4dSCwAAAADYPHbkbtrcPud3DjKu99r0Ukr7COovrbWuGkL9uf1ce12SS5JMTKPNQ1cp5f4ka5JcmGRZktfVWt85jHUBAAAAAC3CjtxN6+hzPljQ2vdaRxo9c4dTf7Dafa93bHyh1np/KeXFST6Q5F+TlCTb9BnSnmR2KaWt1to9lEXVWhduakxz1+6CodQDAAAAAEZuq9yRW0p5dSmlbsbrGWP9HYajlLJ/kuuTHJdGG4XHJpmWZI8kb0syM40Hpn2vlLJV/pkDAAAAwNZMqLdpXX3Opw4yru+1rgFHDVx/sNp9r/9V7VJKR5Lvp/FAtg/VWt9ca72m1rqq1vqHWutn0uifW5M8J8mrh7E2AAAAAKAFbK2tFb6Z5ILNmN+3LcKiPufzkiwfYM685rGr1jrUtgp9688spUwdpE/uvI3G93plkh2a5yf1N7HW+uNSylVptEF4cZKvDGN9AAAAAMAY2yqD3FrruiTrRqncNX3O90ty3QDj9mser92M+vOTXDnM+o9pHv9cax0oZE6Sm9IIcncf5voAAAAAgDGmtcKm3Zjk9ub5If0NKKVMS/K05tv/Gmb9y5Os2UT9XZPsO0D9nuZxdnMdA+ndtTuctg8AAAAAQAsQ5G5CrbUmOav59mWllN36GfamJO1phKrfGGb9FUnOa749tpSyTT/D3tU8rkhy/kbXft08liRv6O8epZT9kjy1+faK4awPAAAAABh7gtyh+WSSu9N44NjFpZSFSVJKmVhKOTbJB5vjvlhrvX7jyaWUM0optZRSB6h/QpJVSeYkubCUsldz3rRSyglJjmmO+3CtdclGc7+TZHHz/COllPeWUmb1mf+yJD9Mo43GuiSfHe6XBwAAAADG1lbZI3e01VrvL6U8N8kP0uhJ+6tSSleSyUkmNIf9KMlbR1j/llLK4UnOTaNFw42llGVp7PJtaw47M8nH+5m7spTyT0kuSrJdkg8l+VBzfe1p7NRNGkHxq2qtN41kjQAAAADA2LEjd4hqrVem8TCyU5LcnEaAuzKNHrdHJzmk1rp2M+pflORxSb6U5LYkU5Lcn0ZP3JfUWl/VbPPQ39xfptFD9/1Jfp5kaRq7h1cm+W2Sk5M8ttb6nZGuDwAAAAAYO2WAbBA2qZTSuWDBggWdnZ1jvRQAAAAeecqmhwBsPezIBQAAAABocYJcAAAAAIAWJ8gFAAAAAGhxglwAAAAAgBYnyAUAAAAAaHGCXAAAAACAFifIBQAAAABocYJcAAAAAIAWJ8gFAAAAAGhxglwAAAAAgBYnyAUAAAAAaHGCXAAAAACAFifIBQAAAABocYJcAAAAAIAWJ8gFAAAAAGhxglwAAAAAgBYnyAUAAAAAaHGCXAAAAACAFifIBQAAAABocYJcAAAAAIAWJ8gFAAAAAGhxglwAAAAAgBYnyAUAAAAAaHGCXAAAAACAFifIBQAAAABocYJcAAAAAIAWJ8gFAAAAAGhxglwAAAAAgBYnyAUAAAAAaHGCXAAAAACAFifIBQAAAABocYJcAAAAAIAWJ8gFAAAAAGhxglwAAAAAgBYnyAUAAAAAaHGCXAAAAACAFifIBQAAAABocYJcAAAAAIAWJ8gFAAAAAGhxglwAAAAAgBYnyAUAAAAAaHGCXAAAAACAFifIBQAAAABocYJcAAAAAIAWJ8gFAAAAAGhxglwAAAAAgBYnyAUAAAAAaHGCXAAAAACAFifIBQAAAABocYJcAAAAAIAWJ8gFAAAAAGhxglwAAAAAgBYnyAUAAAAAaHGCXAAAAACAFifIBQAAAABocYJcAAAAAIAWJ8gFAAAAAGhxglwAAAAAgBYnyAUAAAAAaHGCXAAAAACAFifIBQAAAABocYJcAAAAAIAWJ8gdhlLKDqWUk0opN5RSVpdSlpRSLiulvLaUUkah/h6llNNKKX8spawppdxTSrm0lPLCIcydVEp5Yynl/5rrWltKua2U8tVSyuM3d20AAAAAwNgptdaxXsMWoZSyMMmlSWY1P1qRZHKS8c33lyZ5Xq113QjrH5rk20mmNj9anqQ9D4TtX0nyutrPH1gpZYckFydZ2PxofXN9M5KU5vs31lq/NJK1DbLmzgULFizo7OwczbIAAAAwFJu9oQpgS2JH7hCUUrZJclEaIe51SQ6otXYkmZbkTUnWJXl2klNGWH/3JOemEeL+NMk+tdZtkmyT5MQkNclrkhzfz9yS5DtphLirk7w+yfRa67ZJ5ib5cpIJSU4rpTxtJOsDAAAAAMaWIHdojk+yY5JVSQ6ttXYmSa11Xa3180lOaI47upSyzwjqfzCNUHhxksNqrTc266+otf5HktOa495XSpm50dxDkzy1ef7uWuuXaq1rmvPvqrW+LslP0vizPnkEawMAAAAAxpggd2iObB7PqbXe2s/1z6bRyqAtyRHDKVxKmZaktwfuF2qty/oZ9rHmsSPJCza6dljzuDLJFwa4zSebx4WllMcOZ30AAAAAwNgT5G5Cc4ftLs23P+hvTK11ZZLLmm+fNcxbPDXJlE3Uvy2Nlg791d+1eby51rp+gHtc1+f82cNcHwAAAAAwxgS5m7Zfn/NrBhnXe+0xm1H/2iHUnz/A9bZB5va9ZkcuAAAAAGxhxo/1ArYAc/uc3znIuN5r00sp7bXWFcOsv7TWumoI9edu9PmtzeOepZTJvf1xN9I3LN54fr9KKZ1DGPb46667LgsXLhxKSQAAABg1v/71r79Rax1We0OALZkgd9M6+pwPFrT2vdaRRs/c4dQfrHbf6x0bfX5xkmOTTE7yr0k+3PdiKaUk+bc+H00f4rqGonv16tXLfv3rX986ijXZMjy6ebx+TFcBg/N7SqvzO8qWwO8prc7vKACPGFtlkFtKeXWSr25GiWfWWn8yOqt5yF2S5IokT05yYimlJjkjyZ/T+IeaDyQ5MMn6JBOS9AylaK3VNlsG1Ltj2+8JrczvKa3O7yhbAr+ntDq/owA8kuiRu2ldfc6nDjKu77WuAUcNXH+w2n2v/1XtWmtN8qIkV6URzH84jTYM65L8Nsk/Jbkgyf80pywdxtoAAAAAgBawVe7ITfLNNMLLkerbFmFRn/N5SZYPMGde89g1jP64fevPLKVMHaRP7ryNxv9FrXVxKeVJSY5K8oIke6fxgLObkpxVa/16KeWG5vAbh7E2AAAAAKAFbJVBbq11XRo7UkfDNX3O90ty3QDjeh8odu1m1J+f5MqR1G9+5y81X3+llLJjGuFuklw+zPUBAAAAAGNMa4VNuzHJ7c3zQ/obUEqZluRpzbf/Ncz6lydZs4n6uybZd4T1k+S1zeOSJBeNYD4AAAAAMIYEuZvQ7EF7VvPty0opu/Uz7E1J2tN4kNg3hll/RZLzmm+PLaVs08+wdzWPK5KcP5z6pZTHJHl38+0na62rhzMfAAAAABh7gtyh+WSSu9N44NjFpZSFSVJKmVhKOTbJB5vjvlhrvX7jyaWUM0optZRSB6h/QpJVSeYkubCUsldz3rRSyglJjmmO+3CtdUk/9Y8qpbyulLJTKWVc87OZpZRjkvxfGiHz/zW/BwAAAACwhdkqe+SOtlrr/aWU5yb5QZLHJPlVKaUryeQkE5rDfpTkrSOsf0sp5fAk56bRouHGUsqyNALYtuawM5N8fIASC/rce30pZWWSGX2uX5Tk5bXW7pGsDwAAAAAYW3bkDlGt9co0HkZ2SpKb0whwV6bR4/boJIfUWtduRv2LkjwujYeV3ZZkSpL70+iJ+5Ja66uabR76860kpyf5XRrtF6am0df3O0meW2t9brOFAwAAAACwBSoDZ4MAAAAAALQCO3IBAAAAAFqcIBcAAAAAoMUJcgGA/7+9Ow+yrKzPOP59HLYZQEVAYVAYwLWUCBJBVHRQFNAE91igCZIimoig4FIgoyJu5ZJgXCpGRFyJAQWXuCCi4A6RUAZwBVlKQJRNgXFkYH75457OnGn73tvdM93ndvf3U3XqnPe877nnObeomZ5fv7xHkiRJkjTiLORKkiRJkiRJ0oizkCtJkiRJkiRJI85CriRJkiRJkiSNOAu5kiRJkiRJkjTiLORKkiRJkiRJ0oizkCtp0pJsmeTEJJcmuSPJ75P8d5Jjk2zSdT4tXEmWJDkoyYokZyW5Jkk124qu80kASbZOcniSTyX5SZI7k/wpya+TfD7Jc7rOKCV5TJI3Jflikp8luTnJ6mb/vSQnJLlf1zml8ZJ8qPV3/9Vd55EkaSakqrrOIGkOSLITcD6wrDm1ElgEbNq0LwGeWlW3zno4LXhJlgPf6tP9hqp66+ylkSaWZDWwUevUKuAeYPPWua8Cz6+qlbOZTRqT5APAka1Tq4DVwJatczcBz6qq789mNqmfJE+i93NqmlPXVNWyzgJJkjRDnJEraagki4Av0SviXg88rao2B5YALwT+AOwBfLqrjBJwK3Ae8G7gEOA33caR/sxGwEXAy4Fdq2pxVW0B7AKc1ow5CDilo3wS9P4bfS2wD7BV89/pvekVcl9Cr4i7DXB2kvt0llJqJFkMfAS4G/hRx3EkSZpRzsiVNFSSI+gVFgrYp6ouHNf/QuAzTXP/qjpvliNqgUuyqKruGXfuamAnnJGrEZFkv6rqN3OcJKcARzTNnarq2tlJJk1ekgOArzXNv62qT3WZR0ryLnq/fHgHsBQ4DGfkSpLmKWfkSpqMw5r9t8YXcRtnAL8aN1aaNeOLuNIoGlTEbbRn4u45k1mk9fCD1vEOnaWQgCR7AscCVwIndRxHkqQZZyFX0kBJlgCPb5pfm2hM9ab2n9M0nzYbuSRpHmqvi7uosxTSYPu2jq/oLIUWvCQbA6fS+/PyZVW1quNIkiTNOAu5koZ5BGv/rLhswLixvu2SbD2zkSRpXlreOr60qxDSeEk2TbIsySuATzanf0Fv/XypK8cBjwY+4bJekqSFYqPhQyQtcEtbx9cNGNfu2x64eWbiSNL807w06vim+Z2q+nmXeSSAJKuATSfougB4cVXdNcuRJACSPAI4gd7L917dcRxJkmaNhVxJw2zZOl7Zd9S6fVv2HSVJWkeSewGfoPeLsz8BR3WbSPp/vwE2A7YANm/OfQs4vqp+3VkqLWjNn5mn0vslw0ur6qaOI0mSNGtcWkGSJKlb/woc3By/vKp+3GUYaUxVLauq7apqC+ABwGuA3YEfJnl7p+G0kB0F7AN8o6o+0XUYSZJmk4VcScPc3jpeMmBcu+/2vqMkSf8vyXuAVzTNo6vqo13mkfqpqt9W1T8DBwJrgOOTHDzkMmmDSrIMeBuwCvjHbtNIkjT7LORKGub61vEOA8a1+26YoSySNG8keRdr13Y8pqre32UeaTKq6iLgu03ziC6zaEE6md4yH+8BbkyyRXtj7dKBaZ3fuLO0kiRtYBZyJQ3zU3ozbwAeNWDcWN9vqsoXnUnSAEneDby2aR5bVe/tMI40VWMvOH1wpym0EO3c7FfQ+z/Axm8vavp3bJ07cpYzSpI0YyzkShqoqlYCP2iaB040JkmAA5rmN2YjlyTNVc1yCq9pmq+uqpO7zCNNwy7N/g+dppAkSVpgLORKmoyPN/v9kuw9Qf8LWPuPOl86IUl9NEXcseUUjq2qf+kyj9SWZFHzy9lBY54K7NU0L5j5VNJaVbV7VaXfxtqfWa9pnX9vh5ElSdqgLORKmozTgMuBAJ9r/hFHknsleQFwSjPunKo6t6OMWuCSbJVkm7GNtX/HLWmfb9bQk2Zdkney7pq4zsTVqHkQ8OMkRyZ5SLuom+RBSY4DvkDv54Fb6K1XKkmSpFmSquo6g6Q5IMnOwPn01hwDWEmvULZZ0/4x8JSqumX200mQ5Gpgp0kM/XhVvWRm00jrSrIjcE3TXAP8bsglr6yq/5zZVNK6kiwDrmqdWg38HlhM7wVTY64CnldVl8xeOmm4JB8DDqM3I3dZt2kkSdrwNho+RJKgqq5Kshu9dR2fS+9lE6uBnwD/Abyvqu7qMKIkjbJ7jTt+wJDxi2cwi9TP9cDfAMuBvYHtgW2Ae4Br6f3S9vPA6VW1qpuIkiRJC5czciVJkiRJkiRpxLlGriRJkiRJkiSNOAu5kiRJkiRJkjTiLORKkiRJkiRJ0oizkCtJkiRJkiRJI85CriRJkiRJkiSNOAu5kiRJkiRJkjTiLORKkiRJkiRJ0oizkCtJkiRJkiRJI85CriRJkiRJkiSNOAu5kiRJkiRJkjTiLORKkiRJkiRJ0oizkCtJkiRJkiRJI85CriRJmjOSLE9Szba86zxdSPLV5vnf0nWW6UpyXvMMb+g6iyRJkjRXWMiVJEkzLsmyVgF22huwrOtn6VKSvwIOBG4HTu44zvp4c7M/LskDO00iSZIkzREWciVJkuaAJAHe3jTfV1W3dJlnfVTVt4ELgCXAio7jSJIkSXNCqqrrDJIkaZ5LsjHwsAFDzgGWAtcDBwwY9/OqWr0hs80VSZ4LfA64G1haVb/rONJ6aWYXfwlYDexcVdd1HEmSJEkaaRt1HUCSJM1/TfH1sn79ScaKs6urqu+4Be5Vzf7rc72I2zgHuBnYGng5cEK3cSRJkqTR5tIKkiRJIy7Jw4B9m+anusyyoTTF/TOa5uFJFnWZR5IkSRp1FnIlSdKckWR56+Vnyyfo/1jTd3XT3i7Je5L8IsnKJNclOSPJI8ddtyzJ+5pxf0xyY5JPJ9l1krkek+RDSX6W5PbmXlck+UiSR2+AR39hs78b+OKAHCe2XgxHkns35y5NckfzXF9J8vhx190/yVuTXJ7kziQ3J/lCkj0GhWo+//gk32uuWd3sf5rky0lelWSnAR/x2Wa/PbB82JcgSZIkLWQurSBJkualpoD6NWC71unFwAuAZyY5oKq+m+QpwFnAfVrjNgMOBQ5Ksm9VXd7nHouAk4FXABnXvWuz/X2SN1XVW9bjcfZr9pdW1Z2TuSDJg4BvAA9tnd4cOAh4epJDqurMJH8BfAXYoTVuCXAwcECSZ1TVNyf4/IcD5wIPHNd1v2Z7OPAMet//cX1iXgSsoTe54BnAeZN5NkmSJGkhckauJEmaj5YAZwObAK8HngA8DjgRuKvp/2SSBzfjbgde2Yx5Ir3ibAFbAacOuM8pwFH0irgXAv8APAX4S+DvmnMBTkpy5HQepHlR3N5N86IpXHomvSLrO4AnA48FjgH+ACwCTk2yM/Bf9ArcJ9B79r2BN9H7njYFTkuyyQSf/8nm8+8GPgQ8C9ir2Z4NvI0B6yIDVNUdwFiR/MlTeDZJkiRpwXFGriRJmo+2pVdA3auqrmydvzDJTcAHgGXA94EbgSeMe4HY95LcDbwW2DvJHlV1SfsGSZ4DHN40j66q94/LcHGS0+kVPA8B3pHk9Kq6dYrPsge9QivA/0zhut2BJ1fVha1zP0ryS3rF2y1ZW2ge/z1d1HxPHwR2BJ5Jr+ANQJJd6BWrAY6d4NkBvgCsSHK/ITkvBnYDdkuycbN2riRJkqRxnJErSZLmqzeMK06O+SiwqjneFjhqXBF3zL+1jvedoP/1zf4rfQqZVNU9wJHAn+gVTp8/meDjtJcuuHEK1713XBF3LNOXgWua5rbAij7f02ms/Z7GP397uYoLBoWoqluG5Pxts9+EP1+mQZIkSVLDQq4kSZqPCjhjwo6qPwK/bJq3Al/vM+4qeksuAOzS7kuylLUzUs8cGKQ3A3dsiYF9hgWfwLat42FF0bbPDOj732Y/2e9pl3Hd17eOX5Jk/PrAU9F+pu36jpIkSZIWOAu5kiRpPrppyEzQ25r9FVVVkxi35bjzj20dn5akBm3Ans3Y6RQqt54gz2T8YkDf2OfcNGSph7Fx6zx/VV3N2pm4xwCXJ3lLkv2TbDGFjLBuIXfzKV4rSZIkLRgWciVJ0ny0ckj/mimOWzTu/P2nnKhnyTSuaReaN5v0RVWDnm19nx966/5+pzl+BLACOBe4NckPkhyTZHwBfCKLW8eujytJkiT14cvOJEmSpq5d2DyMyb+E7M5p3Ou21vGwF4fNmqq6AXhSkuXAc4DlwKPo/Xz5uGZ7XZJnT7RWb0v7mW6biaySJEnSfGAhV5Ikaepuah2nqi7rO3L9XdM63moG7zMtVXU+cD5AkvsC+wGHA39NbymJs5LsWlWr+nxE+5munbGgkiRJ0hzn0gqSJElTd0nr+MAZvtflreOHzvC91ktV3VZVZ1fVwcCHm9NLgScOuOxhzf6GIev1SpIkSQuahVxJkqQpqqorgbFZuM9L8uAZvNc1wI1N87GDxo6Y81rH2wwYN/ZMg5ZfkCRJkhY8C7mSJEnTc1Kz3xg4O8nSfgOTLEryoiQPnOa9zm32e03z+g0qye5J9hgy7Gmt46v6fM5DWLtG7tc3RDZJkiRpvnKNXEmSpGmoqjOTfBh4Kb2XfF3etL9JbwbtYmAZsA/wfGB7YDfg19O43VnAi4H7J3nUDK/JOxm7A6cluRj4Er2Xvd1Ab5LAjsCh9F6ABnAxcFGfz9m/2a8BvjhTYSVJkqT5wEKuJEnS9P0TvaLt8cB9gdc120TuAvq98GuYLwO30Ju9+qLmfqNgz2br5zLguVVVffoPbfbnVdV1GzSZJEmSNM+4tIIkSdI0VdWaqnojvZeQvRP4EXAzcDdwB/Bz4EzgZcAOVXXFNO9zF/CRpnlIkqxv9vV0OrAf8Dbg28CvgDvpFatvAL4KHAE8pqqunegDkuwEPKFpfnCmA0uSJElzXfpPkJAkSdKoSLIDcCWwKfD0qjp3yCUjLcmbgTcCPwMeWVVrOo4kSZIkjTRn5EqSJM0BzdID/94039hllvWV5D7A0U3zRIu4kiRJ0nAWciVJkuaOk4BbgScm2X/Y4BF2NL01hX8InNFtFEmSJGlu8GVnkiRJc0RV3ZzkUOBxwL27zrMefg+8GfjsgBehSZIkSWpxjVxJkiRJkiRJGnEurSBJkiRJkiRJI85CriRJkiRJkiSNOAu5kiRJkiRJkjTiLORKkiRJkiRJ0oizkCtJkiRJkiRJI85CriRJkiRJkiSNOAu5kiRJkiRJkjTiLORKkiRJkiRJ0oizkCtJkiRJkiRJI85CriRJkiRJkiSNOAu5kiRJkiRJkjTiLORKkiRJkiRJ0oizkCtJkiRJkiRJI85CriRJkiRJkiSNuP8DxBRg7YS6JYUAAAAASUVORK5CYII=\n",
          "text/plain": "<Figure size 720x360 with 1 Axes>"
         },
         "metadata": {
          "image/png": {
           "height": 341,
           "width": 697
          },
          "needs_background": "light"
         },
         "output_type": "display_data"
        }
       ]
      }
     },
     "d2f26499dfee4a77806dc72cf4204eb3": {
      "model_module": "@jupyter-widgets/controls",
      "model_module_version": "1.5.0",
      "model_name": "SliderStyleModel",
      "state": {
       "description_width": ""
      }
     },
     "d46cfc625bef400aa9feefc371305ff5": {
      "model_module": "@jupyter-widgets/controls",
      "model_module_version": "1.5.0",
      "model_name": "SliderStyleModel",
      "state": {
       "description_width": "initial"
      }
     },
     "d65a13026ebd4c19b71f0185449b2918": {
      "model_module": "@jupyter-widgets/controls",
      "model_module_version": "1.5.0",
      "model_name": "FloatSliderModel",
      "state": {
       "continuous_update": false,
       "description": "Resistance",
       "layout": "IPY_MODEL_1d93ef549c734aa7a224873105b872a4",
       "max": 1000,
       "style": "IPY_MODEL_b9e3f65baba34bc4abadb984d1a140d7",
       "value": 50
      }
     },
     "d91ba16343144cfd814970f291a29615": {
      "model_module": "@jupyter-widgets/controls",
      "model_module_version": "1.5.0",
      "model_name": "SliderStyleModel",
      "state": {
       "description_width": "initial"
      }
     },
     "d947c1bb5dde470a9ac50b7e578e797f": {
      "model_module": "@jupyter-widgets/controls",
      "model_module_version": "1.5.0",
      "model_name": "FloatSliderModel",
      "state": {
       "continuous_update": false,
       "description": "R (MOhm)",
       "layout": "IPY_MODEL_bc4d718c02f641e7aeb19c01b8a0791e",
       "max": 1000,
       "style": "IPY_MODEL_9308fdfb75674cf7a9330b02046c92f8",
       "value": 100
      }
     },
     "db0f2fcfbc5b4643ba9463f2a9a113b1": {
      "model_module": "@jupyter-widgets/controls",
      "model_module_version": "1.5.0",
      "model_name": "FloatSliderModel",
      "state": {
       "description": "Current_Step_Duration",
       "layout": "IPY_MODEL_1d93ef549c734aa7a224873105b872a4",
       "max": 3,
       "min": 0.01,
       "step": 0.01,
       "style": "IPY_MODEL_896fccaedfac4c71af4a54dd9ccab293",
       "value": 3
      }
     },
     "db7d960d1d5e4aa99427c9ad574b4678": {
      "model_module": "@jupyter-widgets/controls",
      "model_module_version": "1.5.0",
      "model_name": "SliderStyleModel",
      "state": {
       "description_width": ""
      }
     },
     "db8b817b92324d15abe69bea40c6d3f1": {
      "model_module": "@jupyter-widgets/controls",
      "model_module_version": "1.5.0",
      "model_name": "SliderStyleModel",
      "state": {
       "description_width": "initial"
      }
     },
     "deb4267fedcf4bd290a625775a38865e": {
      "model_module": "@jupyter-widgets/controls",
      "model_module_version": "1.5.0",
      "model_name": "FloatSliderModel",
      "state": {
       "continuous_update": false,
       "description": "Equilibrium_Potential",
       "layout": "IPY_MODEL_1d93ef549c734aa7a224873105b872a4",
       "max": -30,
       "min": -90,
       "step": 0.2,
       "style": "IPY_MODEL_be1eb7888caa4e73af6cab03b8f462fe",
       "value": -75
      }
     },
     "df3895abbf2248e89190751e876bc5b0": {
      "model_module": "@jupyter-widgets/base",
      "model_module_version": "1.2.0",
      "model_name": "LayoutModel",
      "state": {
       "width": "600px"
      }
     },
     "e0de6c3766ff4bde8a8d2852822042a0": {
      "model_module": "@jupyter-widgets/controls",
      "model_module_version": "1.5.0",
      "model_name": "SliderStyleModel",
      "state": {
       "description_width": "initial"
      }
     },
     "e0f5b9ff87e64611b5da9cec008112d3": {
      "model_module": "@jupyter-widgets/controls",
      "model_module_version": "1.5.0",
      "model_name": "SliderStyleModel",
      "state": {
       "description_width": "initial"
      }
     },
     "e1839493e9714a829370087fba20e6d2": {
      "model_module": "@jupyter-widgets/output",
      "model_module_version": "1.0.0",
      "model_name": "OutputModel",
      "state": {
       "layout": "IPY_MODEL_681fe70e64a44c979dcfba48c98e93a6",
       "outputs": [
        {
         "data": {
          "image/png": "iVBORw0KGgoAAAANSUhEUgAABXIAAAKrCAYAAABcJHXxAAAAOXRFWHRTb2Z0d2FyZQBNYXRwbG90bGliIHZlcnNpb24zLjUuMSwgaHR0cHM6Ly9tYXRwbG90bGliLm9yZy/YYfK9AAAACXBIWXMAABYlAAAWJQFJUiTwAACA8klEQVR4nOzdd5hdVb0//vfKpGcmJCS0RJo0MVhIEPSKXityEfRasYGdol4LV9RrQeyVItdywQICCqIC/iiK5X71IqLiACJIFxAhgJCQzKRnsn5/nBMZw8xkZhKYk+T1ep7z7L3PXutz1hlGfHy75rNLrTUAAAAAALSuUSO9AAAAAAAABibIBQAAAABocYJcAAAAAIAWJ8gFAAAAAGhxglwAAAAAgBYnyAUAAAAAaHGCXAAAAACAFifIBQAAAABocYJcAAAAAIAWJ8gFAAAAAGhxglwAAAAAgBYnyAUAAAAAaHGCXAAAAACAFifIBQAAAABocYLcISilbFVKOa6UcmMpZUkpZV4p5dJSyptLKWU91N+plHJyKeW2UsrSUsp9pZRLSikvXcu8J5ZSPtQce1cpZXkppauUcm0p5aRSyq7rujYAAAAAYOSUWutIr2GDUEqZk+SSJNOab3UnGZ9kdPP6kiQvqrUuH2b9A5J8P8nE5lsLk7TnobD9W0neUtf4B1ZKeW2SM9cot6A5t615vTzJO2utJw9nbQAAAADAyLIjdxBKKZsluTCNEPf6JHvVWjuSTEry9jSC0hckOXGY9XdMck4aIe6vk+xWa90syWZJjk1Sk7wpydF9TB+TZFkaYe4Lk2xWa53SrLVfkj8nGZvkf0op+w1nfQAAAADAyLIjdxBKKZ9M8qEki5PMqrXevsb99yf5bJKe5v0bh1j/zCSvTTI3ye611gVr3P9akiOSdCXZvtY6v9e93ZJ01Vrv7qf25mmEz1sm+d9a63OHsjYAAAAAYOTZkTs4hzSPZ68Z4jZ9OY1WC21pBLKDVkqZlGR1D9yvrRniNn22eexI8pLeN2qtN/YX4jbvz0vyw+blXkNZGwAAAADQGgS5a9Hc8bpd8/InfY2ptS5Kcmnz8vlD/Ih9k0xYS/070thVO5z6SWMncfJQz1wAAAAAYAMiyF27PXqdXzvAuNX3Hr8O9a8bRP1ZQ6yfJM9qHv80jLkAAAAAwAgbPdIL2ADM6HV+1wDjVt+bXEppr7V2D7H+/Frr4gHGra4/Y4AxD1NKeUWSOc3Lrw9hXucghu2Q5Ce11iG1kwAAAAAAhkaQu3Ydvc4HClp73+tIo2fuUOoPVLv3/Y4BR/VSStklycnNy18nOW2wcwdp/OzZs1+T5DXruS4AAACsTRnpBQA8mjbKILeU8oYkp65DiWfXWn+5flYzMkopWye5OMnUNHbzvrrWumqw82utc9Y2prlrd/awFwkAAAAADIoeuWvX1et84gDjet/r6ndU//UHqt37/lprl1K2TPKLJDsnmZvkObXWvw1hTQAAAABAC9kod+Qm+W6S89dhfu+2CHf3Op+ZZGE/c2Y2j11D6I/bu/7UUsrEAfrkzlxjfJ+aIe7/pvHQtXvSCHFvGsJ6AAAAAIAWs1EGubXW5UmWr6dy1/Y63yPJ9f2M26N5vG4d6s9KcsVw6zdD3P+XRoh7bxotIm4Y4noAAAAAgBajtcLa3ZTkzub5/n0NKKVMSvKM5uXPh1j/siRL11J/+yS7D1S/lLJVhLgAAAAAsFES5K5FrbUmOaN5+apSyg59DHt7kvYkq5J8Z4j1u5Oc27w8spSyWR/D3t88dic5b82bfbRTeHattb+dwwAAAADABkaQOzhfSGOX68QkF5VS5iRJKWVsKeXIJJ9ojvt6X7tgSymnlVJqKaX2U/+YJIuTbJPkglLKLs15k0opxyQ5ojnuU7XWeWvU3iJCXAAAAADYqG2UPXLXt1rrg6WUg5L8JI3A9A+llK4k45OMaQ77WZJ3DbP+raWUg5Ock0aLhptKKQvS2OXb1hx2epLP9TH9yDR66yZJR5JfllIG+qyth7NGAAAAAGDkCHIHqdZ6RSllVhptDg5M8pgki9J4+Ni3k3yz1rpqHepfWEp5YrP+89PYnftgkquSnFxr/UE/U3vvqp7UfAEAAAAAG5HSaAELQ1dK6Zw9e/bszs7OkV4KAAAAm57+/xwVYCOkRy4AAAAAQIsT5AIAAAAAtDhBLgAAAABAixPkAgAAAAC0OEEuAAAAAECLE+QCAAAAALQ4QS4AAAAAQIsT5AIAAAAAtDhBLgAAAABAixPkAgAAAAC0OEEuAAAAAECLE+QCAAAAALQ4QS4AAAAAQIsT5AIAAAAAtDhBLgAAAABAixPkAgAAAAC0OEEuAAAAAECLE+QCAAAAALQ4QS4AAAAAQIsbPdILAAAAANjUdHZ27pzkgCTPSrJNkjEjuiDgkbIiydwkv0xy8Zw5c24ZbiFBLgAAAMCjqLOz8+lJjh89evSWbW1tk0sp45KUkV4X8IiotdZde3p69ly5cuVrOzs7j5ozZ85lwykkyAUAAAB4lDR34h4/bty4nSZPnrxi8803v3fixIlLRo0aVUd6bcD6t2rVqrJ48eIJ8+bNm7pw4cKdli1bdnxnZ+dr5syZc+tQa+mRCwAAAPDoOWD06NFbTp48ecW22257V3t7+2IhLmy8Ro0aVdvb2xdvu+22d02ePHnF6NGjt0yjrcrQa63ntQEAAADQv2e1tbVN3nzzzeeXopsCbCpKKdl8883nt7W1TU7y7OHUEOQCAAAAPHq2KaWMmzhx4pKRXgjw6Jo4ceKSZk/srYczX5ALAAAA8OgZk6RopwCbnlJKTePBhmOHM1+QCwAAAADwCFvXdiqCXAAAAACAFifIBQAAAABocYJcAAAAAIAWJ8gFAAAAAGhxglwAAAAA2ACcdNJJ00opc2bOnPmEkV4Ljz5BLgAAAAAbpKOOOmpGKWXO6tcpp5wydW1znvWsZ+3ce86NN9449tFYK6wrQS4AAAAAG4XTTz99+kD3b7/99jG//vWvN3u01gPrkyAXAAAAgA3a5ptvvnL8+PGrLr/88sm33HLLmP7GnXLKKdN6enoyY8aM5Y/m+mB9EOQCAAAAsEGbNGlSz3777ffgqlWrcsopp/S7K/e73/3u9CR51atedf+jtzpYPwS5AAAAAGzw3vzmN9+fJGefffa0VatWPez+JZdc0n7HHXeMmzFjxvLnP//5XWurd/bZZ2/2ghe8YKctt9zyiWPHjp09efLkJ++11167fe5zn9ti6dKlpa85e++9926llDlHHXXUjJUrV+ZjH/vYlrvvvvvjJ06cuOfmm2/+pOc973k7XX755RNWj+/q6hr1vve9b5tddtll1oQJE/acMmXKk1/4whc+9rrrrhs3mO983nnnTX7mM5+5y9SpU580fvz42TvvvPOs97///VsvXry4z/Wt7im8995775Ykp5122pSnP/3pu2y++eZPGjVq1Jyjjjpqxuqxf/zjH8d95CMf2epf/uVfdt122233GD9+/Oz29vY9d99998e/853vnDF37tzR/a1r5syZTyilzDnppJOmLV26tHzkIx/Zarfddnv8hAkT9uzo6HjyU5/61F1/8IMfTF7b9/vpT3866cUvfvGOM2fOfMK4ceNmd3R0PPkJT3jC7h/60Ie2XrBgwSaXa/b7AwcAAACADcWBBx7YNWPGjOV33nnnuEsuuaT93/7t37p73//mN785LUkOPvjgB0rpM+dMknR3d5dXvOIVO/7kJz/5x4PT2tvbexYtWtTW2dnZ3tnZ2X7WWWdN+9nPfnbzFlts0dNXjRUrVpR//dd/3eU3v/nN5DFjxtTRo0fX+fPnj/7FL34x5fLLL5/84x//+MZdd9112XOe85xdr7/++onjxo2rpZS6YMGCtosvvnjqb3/7247f/va31++yyy79toD4zGc+s8WHPvSh7Wqt6ejo6Fm5cmVuvfXW8Z///OdnXnTRRVN/+ctf3jR9+vQ+15ckb33rWx/zjW98Y6tSSjo6OnpGjfrnXPSAAw7Y9e677x6bJKWUtLe393R3d7fdcMMNE2644YYJ3/ve96b/9Kc/vfFJT3rSsgF+lqP22Wef3a655ppJo0ePrmPHjq3d3d1tv/vd7zpe+cpXdhx//PG3v/vd735gzXk9PT15y1vesu1pp5225er3Jk6cuGrJkiVt11577cRrr7124ne/+91pl1xyyc277rrrJtMmY5NLrgEAAADY+IwaNeofLRO+8Y1v/FN7hYULF4666KKLNi+l5PDDDx+wrcLrXve6HX7yk59MnTFjxvL//u//vv2BBx64qqur6+qurq4rzzzzzFse85jHLPvjH/846TWvec0O/dX49re/vcWf//znid/61rf+0tXVdVV3d/dVv/rVr65/zGMes2zx4sWj3v3ud2936KGH7rBgwYLRP/zhD29etGjRld3d3Vedf/75N02dOnXlvHnzRr/3ve+d2V/9efPmjT7mmGO23X///efffPPN1yxcuPDqhQsXXvX5z3/+jrFjx9brrrtu4qGHHrp9f/Ovu+66id/4xje2OvLII++56667/rhgwYKru7q6rjziiCP+8bPZc889F33qU5/667XXXnvt4sWLr1y4cOHVixcvvvL888+/6QlPeMKi++67b8xrXvOaxw70s/zc5z43c+7cuWNPP/30W7u7u69atGjRVVdfffW1T3rSkxbVWvOhD31ouwceeKBtzXlHHXXUjNNOO23LKVOmrPzkJz9559y5c69etGjRVYsWLbrywgsvvHH33XdffPvtt49/yUteslNPT79Z9UZHkAsAAADARuHwww9/YNSoUfnxj388tfef3p966qlTFy9ePOqpT31q12677dbvDs6f/OQn7T/60Y82nzJlyspf/OIXN77jHe94YPPNN1+VJBMnTqyvfe1rF/zyl7+8ccKECat+/vOfT/nNb34zoa86XV1dbWefffatb3zjG+ePGzeujho1Ks985jMXf+UrX7kjSa666qpJl1566eRLLrnkppe+9KUL29ra0tbWlhe/+MVdxxxzzN+S5Kc//emUZcuW9bl1eOnSpaP23HPPRRdccMFfdt555xWr13f00Uff/9nPfvavSfLjH/946mWXXdbn+hYvXjzqLW95y71f/epX79pmm21WJsmECRNq792tF1544V8++MEP/n3WrFnLxo8fX5Nk/Pjx9cUvfnHXpZdeetO0adNW/vnPf554ySWXtPf381y6dOmoiy+++KZDDjnkwXHjxtUkedKTnrTs4osvvmXcuHF18eLFo84555zNes+58cYbx37lK1/ZZsyYMfX888+/+UMf+tB9W2+9dU+SjBs3rr7whS/svuyyy27caqutVvz5z3+e+N3vfndKf5+/sRHkAgAAALBR2HXXXZfvs88+C5csWTLq1FNP/UdrhDPOOGN6khx66KED7sb9+te/Pj1JXvjCF85/3OMe12fgu9NOO6146lOf2pUkF1100WZ9jZk9e3b3C17wgu413z/ggAO6xo4dW5PkBS94wYN77LHHw9oSvPjFL16YNELQa6+9tt9euR/84Afvbmt72GbWvPOd77x/q622WpEkZ5555uZ9zR01alSOPfbYe/qrvTabbbbZqn322acrSX71q1/1G+Tut99+8/faa6+la74/Y8aMlU9+8pO7k+Saa675p7D55JNPnt7T05OnPe1pC//1X/91cV91p06duuoFL3jB/CT5yU9+stZeuxsLPXIBAAAA2GgceuihD1x++eWTzzjjjOnvfve7H7j22mvHdXZ2tre3t/e87nWvmz/Q3D/84Q/tSXL++edPmz59+tT+xnV3d7clyR133DG2r/t77rnnor7eHz16dKZMmbLyvvvuG7PXXnv1OeYxj3nMitXnfbUdSJK2trbaV1DcvJenPvWpXT/60Y82v/rqqyf1NWbbbbddNnPmzJV93evtrLPO2uzMM8+c9sc//nHSAw88MHrp0qUP2xT6t7/9rc+fQZLss88+fX7HJFkdNs+fP/+f8snf/va3k5Lk97//fcf06dOf1N/8xYsXj1rb529sBLkAAAAAbDQOPfTQ+e973/u2u/LKK9uvueaacat32b7oRS+a197eXgeae999941JkkWLFo1atGjRWv+SfcmSJX2OmTx58qr+5owePbo2x/TZ3HXMmDH/OF++fHmf9adOnbpywoQJ/X6XGTNmLE+SBx54oM/sb9q0aSv6en+1np6e/Pu///uOF1544T929La1tdXJkyf3jBkzpiaNMHvZsmVldaDal/6+Y/LQz2HFihX/1D7ivvvuG5s0diT3FRyvacmSJX2G3RsjQS4AAAAAG42JEyfWF73oRfO+853vbPG1r31t+nnnnTctSQ477LAB2yokyapVq0qSfOELX7jjve9971rHj5RS+mydO2h9tWTo7cQTT5x+4YUXbt7W1pb/+I//mPvmN7/5gd13331Z73n//u//vuOPfvSjzWsdMBsfstUPL3v7299+z5e//OW71mvxDZweuQAAAABsVFaHtt/85je3uvfee8fssssuS/rrt9rb9OnTVyTJtdde2+dDwlrFvHnzRi9ZsqTfNPfuu+8emyTTpk1ba/uEvvzgBz/YPEle+cpX/v2EE064e4899li2Zvh73333PSIbRLfYYouVSfLnP/+5pf8ZjARBLgAAAAAblWc+85mLd9lllyWr/2z/Na95zQODmTdnzpzuJLnkkkumrFgxYPeBEdXT01N++tOf9vmQsVWrVuX3v/99e5I8+clP7rdH7UDmzp07Nkn23HPPPsPvBQsWjLrmmmv6fcjZuthnn326k+Tyyy/vuPfeezeZtgmDIcgFAAAAYKPzyU9+8m9vfetb733rW99672GHHTaoIPfwww//e5Lcc889Y9///vfPGGjswoULRy1dunTdehysg8985jPbrG5D0NuXv/zlaauD2Ne+9rUDPtytP+3t7T1Jcs0110zs6/4HPvCBbQbTQ3g4jjjiiPvb2trq0qVLR73tbW/bdqCxy5YtKwsWLNhk8s1N5osCAAAAsOl45StfufCUU0752ymnnPK3GTNmDKrFwAtf+MLul7/85Q8kyQknnLDNwQcfvP1VV101fvX9pUuXlv/93/+ddOSRR87cfvvtn3DXXXeNyPOnxo8fv6qzs7P9xS9+8WNvvfXWMUmyePHictxxx01/3/vet32SvOAFL5i/7777rrWdRF+e+9znLkiSs846a/oXv/jF6asD67/+9a+j3/zmN2/7P//zP1tPmTJlWG0b1mbWrFnL3v3ud89NknPPPXfa8573vJ0uvfTSiatWNZ4ft3Llylx++eUTjj766G122GGHPX7729/2GTZvjDzsDAAAAACazjjjjDva2trq9773vennnHPO9HPOOWf6+PHjV40bN652d3e39d4FO2rUyOyR3HzzzVe+4x3vuOdDH/rQdhdddNHUyZMn9yxevHjUypUrS5Lsvvvui88444w7hlv/Ix/5yL0XXHDB1Ntuu2380Ucfvf373//+7SdNmtTT3d3dVmvNq1/96r8vW7Zs1Lnnnjtt/X2rh3z+85+fu3LlynLSSSdt84tf/GLKL37xiynjxo2rEyZM6Onq6mrr6en5x07oUsr6fdpaC7MjFwAAAACaxo8fX88+++w7fvazn93wspe97IFtt912WZIsWrRo1NSpU1fsvffeXR/60If+ds0111y74447jlgj3f/6r//6+w9/+MObn/GMZywcNWpUHTVqVHbcccel733ve+/+/e9/f8MWW2zx8L4LgzR9+vSe3/3udze86U1vum/GjBnLR40aVdva2uree+/ddfLJJ//lu9/97l/X53dZ06hRo3LiiSfe/bvf/e66173udX9/7GMfu7Stra12dXW1dXR09Oy5556L3v3ud8+97LLL/rzffvsNqw/whqjUusmE1qxnpZTO2bNnz+7s7BzppQAAALDpGbHepOuis7PzD+PHj9991qxZ14/0WoBH33XXXbf70qVLr58zZ85eQ51rRy4AAAAAQIsT5AIAAAAAtDhBLgAAAABAixPkAgAAAAC0uNEjvQAAAAAA/lkpmTPSa1jfao2npcM6sCMXAAAAAKDFCXIBAAAAAFqc1goAAAAALUYbAh4Ne++9925XXHFF+3ve8565xx9//N3rq+5RRx0144QTTtjmKU95Svfvf//7G9dX3U2dIBcAAAAABumMM86YctVVV03cc889Fx9yyCEPjvR6+rIhrJGh01oBAAAAAAbp/PPPn3LCCSdsc/75508Z6bX0Z7BrnDlz5rIddthh6fTp01c8SktjHdiRCwAAAACboPPOO+/2kV4Dg2dHLgAAAABAixPkDkEpZatSynGllBtLKUtKKfNKKZeWUt5cSinrof5OpZSTSym3lVKWllLuK6VcUkp56VrmvbaUclIp5dellNtLKYua8/9aSjmvlPKydV0bAAAAQCvZe++9dyulzDnqqKNmLF26tHzwgx/cetddd338hAkT9pw8efKTn/70p+/ywx/+cPJANU477bQpz3rWs3befPPNnzRmzJjZ06ZNe9Kzn/3snU8//fQpa4698MILO0opc84999xpSXLuuedOK6XM6f268MILO9acd8UVV4x/9atfvf3222+/x4QJE/acOHHinrvuuuvj/+M//mPm3Llz+/xr+aOOOmpGKWXO3nvvvVuS/OhHP+p41rOetfPUqVOfNG7cuNmPfexjZ/3nf/7nNosXL/6nPGqoa+z9M1xzDXfdddfoE088cdp+++2302Mf+9hZHR0dTx4/fvzs7bbbbo+DDz54+z/84Q/jB/rZsv5prTBIpZQ5SS5JMq35VneSjiT7Nl+vKKW8qNa6fJj1D0jy/SQTm28tbH7Wfkn2K6V8K8lbaq21j+knJ5nU63pBGv9st22+/r2U8tMkL6u1dg9nfQAAAACtaPny5WXffffdtbOzs72tra1OnDhxVVdXV9tvfvObyb/5zW8mv/e97737C1/4wtzec5YuXVpe9rKX7XjxxRdPTZJRo0alvb2958EHHxz9y1/+crNf/vKXm33/+9+f94Mf/OD2cePG1SQZN27cqmnTpq3s7u5uW7ZsWRk3blxtb2/v6V133Lhxq3pff/jDH97qM5/5zGNWrWq8PX78+FUrV64sN99884Sbb755wve+971p55133s1Pf/rTl/T3/T7ykY9s9alPfeoxSdLe3t6zYsWKctttt40//vjjZ1x22WUdv/71r28aPXr0Pz5/qGvszzvf+c7HrA6EV3/2ypUrc+edd4678847x51//vnTTj755L+84Q1veHAw9Vh3duQOQillsyQXphGsXp9kr1prRxrh6duTLE/ygiQnDrP+jknOSSPE/XWS3WqtmyXZLMmxSWqSNyU5up8S30jy+iS7JBlfa52SZHySnZL8d3PMfkmOG876AAAAAFrVt7/97S3+9Kc/Tfr85z9/x8KFC69auHDh1TfffPM1+++///wk+eIXvzjje9/73ma957zzne+cefHFF08tpeRd73rX3HvvvffqBQsWXH3PPfdc/c53vnNuklx44YWbv+c97/nHTtXnP//5i+6///4/vvCFL5yXJC984Qvn3X///X/s/Xr+85+/aPX4E044YfqnPvWpx4wdO3bVe9/73rtvv/32a5YsWXLV4sWLr7z00kuvf+pTn9r197//fczLXvayXRYsWNBnRnfDDTdM+PSnP/2YI4444p6//e1vf1y4cOHV999//1Xvfve75ybJ7373u44vf/nL/whbh7rGgeywww7L3vnOd8697LLL/rxgwYKrurq6rl62bNmVv//976970YteNG/58uXlbW9724633377mMH+s2LdCHIH5+gkWydZnOSAWmtnktRal9dav5rkmOa4w0opuw2j/ifSCIXnJjmw1npTs353rfVjaey4TZIPl1Kmrjm51vruWuvptdZbaq3Lmu/VWutfaq3vTHJ2c+ghpRT/4QIAAAA2Gt3d3W2f+9zn7jj66KPvnzhxYk2SnXfeecWFF174l7322qs7SY455piZq8ffdtttY771rW9tmSRvf/vb7znxxBPvnj59ek+SbLHFFj1f+tKX7j7iiCPuSZKvf/3rW91xxx1DzlLmz58/6qMf/ehjkuQb3/jGX77whS/M3X777VckyejRo7Pvvvsu/r//+7+bZs2atfjee+8d86UvfWl6X3W6urra3vGOd8z96le/eteMGTNWJsnmm2++6oQTTrh7v/32ezBJzjnnnM2Hur7BOO644+Z+6Utfuvtf/uVflkyePHlVkrS1teUpT3nK0h/96Ee3PetZz1qwZMmSUV/96lf7XDvrnyB3cA5pHs+utd7ex/0vp9FqoS3Ja4dSuJQyKcnqHrhfq7Uu6GPYZ5vHjiQvGUr9psubxwlJHpH/cAMAAACMhK233nr5O9/5zgfWfL+trS0f/OAH5ybJTTfdNOHKK68cnyTf+c53pvb09JTx48ev+vjHPz53zXlJ8slPfvKe1W0QzjzzzIdtqlubM844Y2pXV1fbYx/72KWvfe1r+8p6MmbMmLzsZS+blyQ///nPN+trzNixY+uxxx57T1/3DjrooAeT5MYbb5zY1/1H2v77778gSS6//PL2kfj8TZEeuWvR3GG7XfPyJ32NqbUuKqVcmuTfkjw/D+3QHYx90whYB6p/Rynl+iS7N+t/awj1k+QZzWNXkvuGOBcAAACgZT31qU/tGjWq772K+++/f1dbW1vt6ekpl19++cTZs2cv7ezsnJgkT3ziExdNnTq1z36x06ZN63nCE56w+IorrmhfPX4ofvOb37Qnyd/+9rdx06dPf1J/45YtW1aS5K677hrb1/2ddtppSX9rfMxjHrM8SRYsWNA21PUN1uWXXz7hK1/5yha///3v2+++++5xixcvHrXm45vuueeePtfO+ifIXbs9ep1fO8C4a9MIch+/DvWvW0v93ZPMGkzRZl/fXZK8LcnLm28f38/D0vqa3zmIYY8bTC0AAACAR8qMGTNW9HdvwoQJdcqUKT0PPPDA6Pvuu29Mktx///1jkmSbbbbpd17z/vLe44finnvuGZM0HsT2wAMPrDV/W7p0aZ9JdHt7e78PJlv9gLOenp4y1PUNxqc//ektPvKRj2y3+kFtpZS0t7f3jB07tiaNELq7u7tt8eLF/uL/USLIXbsZvc7vGmDc6nuTSynttdbuIdafX2tdPIj6M/obUEp5VZKz+ri1NMkXk3x8kGsCAAAA2CCUMrwcs5Qy2M1ugxrX2+pw9cADD5x3wQUX3DbU+SPtyiuvHH/MMcdst2rVqvzbv/3b/Pe///337LPPPkvGjx//j5/FCSecMP2oo47afiTXuakR5K5dR6/zgYLW3vc60uiZO5T6A9Xufb9jgDFLktzbPJ+eRs/enjRC3C/XWvv9f3HWVGuds7YxzV27swdbEwAAAGB9u+uuu/rdMbtkyZLy4IMPtiXJlltuuSJJpk+fviJJ7r777gFbAsydO3dskkybNm3lUNe0+rNuvPHGCWsb24rOOuusqT09PXnsYx+79IILLvhLW9vDuzfcc889csVH2Ua59bmU8oZSSl2H17NG+jsMR631R7XWrWutWycZn+SJSc5J8uEkfyqlPH1EFwgAAACwnv3ud7/rWP3n/2u65JJL2lfvjn3a0562OEnmzJmzOEmuueaaSfPnz+8zG5s3b96oP/3pTxOTZK+99lrU+97qfrwDda/8l3/5l+4kufnmmydcddVV44f4ldbZYNY4kL/97W9jk+Txj3/84r5C3CT55S9/OXmYy2OYNsogdz3r6nU+UHPr3ve6+h3Vf/21Nc5efX9QtWutK2utf6q1vibJfyfZIsnZpZQReZIhAAAAwCNh7ty5Y7/85S9PW/P9np6efPazn90mSXbZZZcls2fPXpokr33ta+e3tbXVpUuXjjrmmGO26avmMcccs83SpUtHjR49ur72ta99sPe9jo6OnmTgh4y94Q1vmL963Nvf/vbtVqzovx1vT09P7r///vX6wLLBrHEgkydP7kmSG264YWJfIfk555wz+fe///1AfzXOI2BjDXK/m2TqOrx+3avW3b3OZw7wmavvdQ2hP27v+lPXErKurn/3AGP6c0Lz+Jgk+w9jPgAAAEBLam9v73nf+963/XHHHTd98eLFJUluueWWMS960Yse+7vf/a4jSY499th/PPdoxx13XPGmN73pviT5yle+svV73vOeGauD1Pvvv7/tPe95z4yvfvWrWyfJW9/61nu33377f0ph99hjjyVJ8oc//KGjv92206ZN6/nUpz51Z5JcfvnlHU972tN2+/GPf9y+cmWjS8OqVaty1VVXjT/22GO32nXXXWedc845m63Pn8lg1jiQAw44YEGS3HLLLeMPPfTQ7e699962JFm4cOGoL3zhC9Nf//rX7zRlypQht5xg3WyUvSxqrcuTLF9P5a7tdb5Hkuv7GbdH83jdOtSfleSK9Vw/+eeHtO08jPkAAAAALen1r3/93y+//PL29773vdt/4AMf2G7ixImrFi5c+I+dqO95z3vmvuY1r1nQe85JJ51019/+9rexP/7xj6eeeOKJ25x00knbtLe393R3d7et3oF64IEHzjvhhBMetqHukEMOmf/JT35y5vz580fPnj171pQpU1ZOnDhxVZKcfvrpf3nuc5+7KEn+4z/+44ElS5aM+vCHP7xtZ2dn+wEHHLDbmDFj6qRJk3oWLVrUtmLFin88pW24D2zrz2DX2J8Xv/jFXQceeOC8Cy+8cPPvfOc7W3znO9/ZoqOjo2fx4sVtPT09mTVr1uLXvOY193/oQx/abr0unAFtrDty16ebktzZPO9zN2spZVKSZzQvfz7E+pclWbqW+tsn2X2Y9ZPksb3OFw5jPgAAAEBLGjt2bL3ssstu+sAHPnDXjjvuuHT58uWlvb2952lPe1rX9773vZuPP/74h4Wx48ePrxdffPFfTj311Fuf+cxnLpg8efLKRYsWjdpss81WPvOZz1zw7W9/+9YLLrjgtnHjxj2syewWW2zR84tf/OLGAw88cN6WW265oru7u+3uu+8ee/fdd49dsmTJP2Vt73vf+/7+pz/96drDDjvs3t12223JuHHjVnV1dY2eMGHCqlmzZi0+7LDD7v3pT396w+GHHz5vff5MhrLG/px//vm3ffzjH79z1113XTJ27Ni6atWqsssuuyz5r//6r7uuuOKKG9rb2/tuTMwjpgy36fGmpJTyqSQfTLI4yaxa6+1r3H9fks8lWdW8f8MQ638nyWuSzE2ye611wRr3v5rkyCTdSbavtc7rdW90rXXAreyllG8nObR5+fhaa3+7ioeklNI5e/bs2Z2dneujHAAAAAzF+t3C+Cjp7Oz8w/jx43efNWvWevnf5puyvffee7crrrii/T3vec/cvsJaaEXXXXfd7kuXLr1+zpw5ew11rh25g/OFJPem8cCxi0opc5KklDK2lHJkkk80x329rxC3lHJaKaWWUvpLzY9JIyTeJskFpZRdmvMmlVKOSXJEc9yneoe4TR8opZxVSjmolPKPxt6llNGllH1KKefmoRD3u+srxAUAAAAAHj0bZY/c9a3W+mAp5aAkP0ny+CR/KKV0JRmfZExz2M+SvGuY9W8tpRyc5Jw0WjTcVEpZkKQ9yeqeLqenset3TaOTvKr5SimlO41WDZv1WluSfC/Jm4ezPgAAAABgZAlyB6nWekUpZVaS9yc5MMljkixK4+Fj307yzVrrsHuD1FovLKU8sVn/+Wnszn0wyVVJTq61/qCfqd9K8kCSZ6URMm+ZZGoabRjuSPLbJKfXWi8b7toAAAAAgJElyB2CWus9Sd7TfA1l3huSvGEQ425J8tYh1v5rkv9uvgAAAACAjZAgFwAAAIANzu9///sbR3oN8GjysDMAAAAAgBYnyAUAAAAAaHGCXAAAAACAFifIBQAAAABocYJcAAAAAIAWJ8gFAAAAAGhxglwAAAAAgBYnyAUAAAAAaHGCXAAAAACAFifIBQAAAABocYJcAAAAAIAWJ8gFAAAAAGhxglwAAAAAgBYnyAUAAABgk7P33nvvVkqZc9RRR80Y6bWsTyP5vV72spftUEqZ87KXvWyHkZi/sRPkAgAAALBBKaXMGe7rpJNOmjbS62f9edWrXrV9KWXOlClTnrxkyZIymDmrVq3KzJkzn1BKmbPffvvt9EivcX0R5AIAAACwQZk2bdrKvl4TJkxYNZQxbPje+ta33p8kCxYsaDvrrLOmDGbOBRdc0HH33XePTZI3velN9z+Cy1uvRo/0AgAAAABgKO6///4/9vX+UUcdNeOEE07YZqAxbFye+9znLtppp52W3nrrreNPO+206W9605vmr23Ot771relJssUWW6x4+ctfvuCRX+X6YUcuAAAAALDBeu1rX3t/klx22WWTb7vttjEDjX3ggQfafvrTn05Jkle+8pUPjB694exzFeQCAAAAsElbtWpVjjvuuOlPfOITH9fe3r7npEmT9nzyk5/8uK9+9aub9zen90PFli1bVj760Y9utccee+ze0dHx5FLKnAsvvLCj9/ibbrpp7Jve9KZtd95551mTJk3ac8KECXvuuOOOs974xjdue/PNN4/t73O+8Y1vTH3mM5+5y7Rp0540evTo2R0dHU/efvvt93jOc56z82c+85ktBuoLO5zvtdoFF1zQsf/++z92yy23fOLYsWNnT5069UlPe9rTdv3Sl740beXKlWub3q+vfe1rm8+ePftxkyZN2rOjo+PJT3ziEx/3xS9+cfqqVcPveHH44Yc/MHr06Lpq1aqccsopA/ZA/uY3v7n50qVLRyXJEUccscG0VUi0VgAAAABgE9bT05P99ttvp1/84hdT2tra6oQJE1YtWrSo7Y9//OOkt7/97TvefPPN40844YS7+5u/dOnS8rSnPW23q666alJbW1udNGnSwxLJr33ta5u/+93v3mH58uUlScaOHVtHjRpVb7/99vGnnXba+O9///vTTz/99Ftf+tKXLuw975WvfOX23//+96evvp40adKqlStXlr/+9a/j/vrXv477f//v/232yle+8sGddtppxfr8Xm9+85u3/da3vrVlkpRS0t7e3tPV1TX6t7/9bcdvf/vbjrPPPnvaxRdffMvUqVMHnb6uWrUqBx988A4/+MEPpq2u29HR0XPddddNOvrooyf96le/6hg7dmwdbL3eZsyYsfLZz372gp/97GdTzjrrrOmf+cxn7ulv7JlnnjktSZ7ylKd077HHHsuG83kjxY5cAAAAADZZp5122pa//e1vJ5944om3P/jgg1d1dXVdfcstt1zz7Gc/e0GSnHTSSdv86U9/Gtff/G9/+9tb3njjjRO+9KUv3f7ggw9etWDBgqvnzp179VOe8pTFSXLeeedNfsc73rHjypUry1vf+tZ7r7/++j8tWbLkykWLFl119dVXX/tv//Zv8xctWjTq9a9//WN778y95JJL2r///e9PHzVqVD74wQ/edc8991zd3d191ZIlS66aO3fu1T/84Q9vfslLXvJAf+HncL/Xpz/96S1Wh7ivfvWr77/99tv/uHDhwqvnzZt31Sc+8Yk7R48eXX/72992HHLIITsM5ef86U9/esvVIe4b3vCG++66664/Lliw4Or77rvv6qOOOuruiy66aPOf/exnU4ZSs7fVDy274447xl1yySXtfY3p7Owc/6c//WlSkhx66KEb1G7cRJALAAAAwCZs4cKFbWeeeeYt73rXux5ob2+vSbLTTjutuOiii27dYostVqxatSpnnnnm1P7mL168eNTXv/71v7zzne/8x/ytt966Z6utturp6enJe97znu1WrVqVj33sY3eecsopf3vc4x63fNSoURk1alSe9KQnLbv44ov/8pznPOfB7u7uts985jNbra576aWXTkqSpz3taQs/9alP3bPVVlv1rL639dZb97z0pS9deO65596+7bbb9tnnYDjfq7u7u3z+85+fmSQHHXTQvO9+97t3bLfddiuTZPLkyas+/OEP3/fJT37yziS56KKLpv7f//3fxMH8jBcvXly++MUvzkiSl7/85Q+ceuqpd26zzTYrk2TatGk9xx133Nwjjzzynq6urrbB1OvLy1/+8gVbbrnliiT5xje+Mb2vMf/zP/8zPUna29t7Xv/616/1oWitRpALAAAA0IKOOuqoGaWUOYN5vfrVr95+zfmvfvWrtx/s/KOOOmrGmvOf85zn7DzY+V/84hcfFpzNmjVr9/5qt5InP/nJi/793/+9a833J0yYUP/1X/91YZJce+21/QaWO++889LXvOY1C/q69+Mf/7jjjjvuGNfe3t5z9NFH/72/GocccsgDSfLLX/5y8ur3pkyZ0pMk8+fPH93T09Pf1H4N53v96Ec/mrxgwYK2JPn0pz/dZ9uF9773vX/faqutViTJGWecsdZeu0ljV/Lqup/4xCf6rPvxj3/8nnHjxg2rtUKSjB49Oq94xSseSJKLL7546sKFC/8p91yxYkXOPffcaUkjpO7o6Bh0W4iTTjppWillzg9+8IPJax/9yBHkAgAAALDJmjNnTnd/97bZZpvlSTJ//vx+d4o+5SlP6Xf+6l21S5YsGTVz5swnTp8+/Ul9vd71rnftkCRz5879R2uFAw44YOG4cePqn//854l77733bl/60pem3XDDDf0+FG19fK8rrrhiUpLMmDFjeX/9Y9va2vL0pz99YZJcffXVkwazltV1Z86cufxxj3vc8r7GTJs2rWfWrFmLBlOvP0ccccT9pZQsXrx41GmnnfZPu43PPvvsKfPmzRudJG9961sf1lbhN7/5zYSjjjpqxrXXXttvG42RJsgFAAAAYJM1efLkfndmjh49OkmycuXKfjO0LbbY4mEPGlvt7rvvHpskPT095YEHHhjd32vhwoVtSbJ06dJ/fM7jH//45SeccMLtEydOXHXllVe2v/vd795h9913f8K0adOedOCBBz72O9/5zmarVvW/qXQ43+u+++4bnSRbb711n2HrajNnzlyeJA888MDogcatWXerrbYasO4222zT789yMPbYY49le+21V3eSnH766f+0S/zUU0+dniS77LLLkmc/+9mL15z7hz/8YeIJJ5ywzQ033NCyQe6gftgAAAAAPLqOP/74u48//vg+/wx9MM4666w7zjrrrDuGO/9///d/bxnu3CS57rrrrl+X+RuKtrb+27qubonw5Cc/edFVV111w1BrH3nkkfNe+tKXLjj99NOn/upXv5rc2dk56Z577hl70UUXTb3oooumnnTSSV0//elPb9lss80G3SZgMEop63XccMcPx6GHHnr/FVdc0d7Z2dl+7bXXjttjjz2W3XnnnaP/7//+b3KSvO51r9vgHnK2mh25AAAAAPAI2HrrrVcmya233jp+OH1uk2SrrbbqOfroo++/8MIL/zJ37tw/XXvttde+7W1vu6eUkt///vcd73//+9dbD+Itt9xyZfLPLR76ctddd41Nks0337zPB631V/eee+4ZsO7cuXPHDG6l/Xv9618/v729vSdJTj755OlJcsopp0zr6ekpY8aMqW9961vnrTnnqKOOmrG6vcUrXvGKXfrrHd3T01M++MEPbj1jxownjB07dvasWbN2//GPf9y+rmseLEEuAAAAADwCnvGMZ3QnSVdXV9v555+/Xh6UNWvWrGVf+cpX7jrooIPmJcmvfvWr9fYArqc85SmLkkZLiP56xfb09OQ3v/lNR5Lsueeeg+ppu7ruXXfdNfbGG2/sM8ydN2/eqD//+c/9PlRusDo6Olat/tl8//vfn7Zy5cp897vfnZ4kz33ucx/cZpttHhY+H3zwwfNf/epX358khx9++L1f+cpXbvvKV75y28EHHzy/97hPfOITM/6//+//m3r44Yff+5//+Z9333XXXeNe+cpX7nz//ff3vy17PRLkAgAAAMAj4MADD1y43XbbLUuSD3zgA9suWLBgwCzu3nvv/UcguGTJkgH7EEyYMGFVkrS1tdX1sdYkefGLX7xwypQpK5Pkgx/8YJ87fU844YTpq3fWHnLIIQ/b3dpf3cmTJ/ckyTHHHLNNX2OOPfbYrXv3CF4Xqx9mdu+994553/veN+Mvf/nL+CR585vf3GdbhX322WfJU5/61O4ked7znrfwbW9727y3ve1t8/bZZ58lvcf19PSUzs7OGz760Y/e95nPfOae//7v/769u7u77Zvf/Obm62PdayPIBQAAAIBHwJgxY3LSSSfd0dbWVm+55ZbxT3nKUx539tlnb9Y7pL3hhhvGfuELX5j+hCc8Yffjjjtuy9Xvv/GNb9zugAMOeOxpp5025a677vrHc64WLFgw6vOf//wW55577rQked7znrdgfa23vb29Hn300XcnyQUXXLD5a17zmu3uvPPO0UnS1dU16tOf/vQWH/zgB7dLkhe+8IXzn/GMZzzsoWH91T3qqKPuTpJzzjln+lve8pbH3HPPPW1JYyfu0Ucfvc2Xv/zlbTo6OobXf2INz372sxfvsssuS5LkS1/60jZJstVWW614yUtesnBd6r7+9a//+7hx4/4RnO+///5dSXLLLbc8Kg9I87AzAAAAAHiEvPjFL+469dRT/3LkkUfuePPNN0949atfvXNbW1vt6OjoWbJkSduyZcv+EeoecMAB//hT/hUrVpQf//jHU3/84x9PTZKJEyeuamtrq11dXf/YtfuUpzyl+5Of/OTc9bneD37wg3+/9dZbx3/rW9/a8qyzztri7LPP3qKjo6Nn0aJFo3p6ekqS7LPPPl1nnHHG7UOp++EPf/i+q6++euL5558/7Zvf/OZWp5566lbt7e09ixYtauvp6cmBBx44b+zYsXV1QL2uXve6193/0Y9+dNtVqxrPgTv44IPvH+jBdIOxww47LO99vcUWW/Qkyfz58x+VjNWOXAAAAAB4BB1yyCEP3nTTTX866qij7n7CE56waNKkSau6urpGjxkzZtWuu+665HWve93fzzvvvJs++clP3rN6zsc//vG5n/zkJ+98/vOf/+COO+64dNSoUXXx4sWjNt9885VPf/rTF37pS1+6/Te/+c2N7e3t6621wmrf/OY37/zRj35003777ffgtGnTVixevHjUpEmTVu2zzz5dJ5544u2//vWvb5o6deqqodRsa2vLeeedd/uXv/zl2570pCctGjdu3Kqenp6y++67L/785z9/x49+9KPb1ud3eOtb3zpvzJgxNUlKKTn88MP7bKswFKNHj+7zZ13rev9H0KfyaH0QG59SSufs2bNnd3Z2jvRSAAAA2PQM2D+0VXV2dv5h/Pjxu8+aNev6kV4L8JD//u//nvbOd75zh+9///s3v/zlL/+nFgwnnXTStHe961193iulzHnpS1/6wA9/+MPbB/M511133e5Lly69fs6cOXsNdY125AIAAAAAm7TV/XkfeOCBlm1F27ILAwAAAAB4NPzLv/zL4lGjRuXEE0/cutlKomfPPfdc8pSnPGXpSK9tNTtyAQAAAIBN2q677rr8uOOOu33JkiWjjj766O0OP/zwx5511lmbj/S6etMjl2HTIxcAAIARpEcusMHRIxcAAAAAYCMmyAUAAAAAaHGCXAAAAACAFifIBQAAAABocYJcAAAAAIAWJ8gFAAAAAHiE1VrXab4gFwAAAODRsyJJXbVqVRnphQCPrlprSVKTLB/OfEEuAAAAwKNnbq112eLFiyeM9EKAR9fixYsn1FqXJblnOPMFuQAAAACPnl/29PQsnDdv3tR1/TNrYMNRa828efOm9vT0LEzy/4ZTQ5ALAAAA8Oi5eOXKlfctXLhwzJ133jmzu7t74qpVq4pQFzY+tdasWrWqdHd3T7zzzjtnLly4cMzKlSvvS3LxcOqNXs/rAwAAAKAfc+bMuaWzs/OoZcuWHT9//vwtFy5cuFUpZVwSPXNh41Rrrct6enoWrly58q9JjpozZ86twykkyAUAAAB4FM2ZM+eyzs7O16xcufKAlStXPjvJ1knGjvS6gEfE8jR64v6/JBcPN8RNBLkAAAAAj7pmmPPfzRfAWumRCwAAAADQ4gS5AAAAAAAtTpALAAAAANDiBLkAAAAAAC1OkAsAAAAA0OIEuQAAAAAALU6QCwAAAADQ4gS5AAAAAAAtTpALAAAAANDiBLkAAAAAAC1OkAsAAAAA0OIEuUNQStmqlHJcKeXGUsqSUsq8UsqlpZQ3l1LKeqi/Uynl5FLKbaWUpaWU+0opl5RSXjqMWlNKKXeXUmrzdey6rg8AAAAAGBmjR3oBG4pSypwklySZ1nyrO0lHkn2br1eUUl5Ua10+zPoHJPl+konNtxY2P2u/JPuVUr6V5C211jrIkscn2WY4awEAAAAAWosduYNQStksyYVpBKvXJ9mr1tqRZFKStydZnuQFSU4cZv0dk5yTRoj76yS71Vo3S7JZkmOT1CRvSnL0IOs9L8kbk1w+nPUAAAAAAK1FkDs4RyfZOsniJAfUWjuTpNa6vNb61STHNMcdVkrZbRj1P5FGKDw3yYG11pua9btrrR9LcnJz3IdLKVMHKlRKmZTklCQrkhw2jLUAAAAAAC1GkDs4hzSPZ9dab+/j/pfTaLXQluS1QyncDF5X98D9Wq11QR/DPts8diR5yVpKfirJjkk+X2u9dihrAQAAAABakyB3LZo7bLdrXv6krzG11kVJLm1ePn+IH7FvkglrqX9HGi0dBqxfSnlqkv9IcnOSTw5xHQAAAABAi/Kws7Xbo9f5QDtcr03yb0kevw71r1tL/d2TzOrrZillbJJvphHOH1FrXTrEdaxZr3MQwx63Lp8BAAAAAAyOHblrN6PX+V0DjFt9b3IppX0Y9efXWhcPov6Mfu5/JI0Q+bRa6/8O4fMBAAAAgBZnR+7adfQ6Hyho7X2vI42euUOpP1Dt3vc71rxRSnlikvcn+XuS9w7ycwdUa52ztjHNXbuz18fnAQAAAAD92yh35JZS3lBKqevwetZIf4fBKqW0pdFSYUySo2qtD4zwkgAAAACA9WyjDHLXs65e5xMHGNf7Xle/o/qvP1Dt3vfXrH1Ukr2S/KzWeuYQPhcAAAAA2EBsrK0Vvpvk/HWY37stwt29zmcmWdjPnJnNY1etdbBtFXrXn1pKmThAn9yZa4xPKWXrJB9LsizJe9fSm3fs6vtDXB8AAAAAMMI2yiC31ro8yfL1VO7aXud7JLm+n3F7NI/XrUP9WUmuGEL9rZNMaJ7/cS2f81/NV0opU2utDw5tmQAAAADASNFaYe1uSnJn83z/vgaUUiYleUbz8udDrH9ZkqVrqb99kt2HWR8AAAAA2MAJctei1lqTnNG8fFUpZYc+hr09SXuSVUm+M8T63UnObV4eWUrZrI9h728eu5Oc12vu1bXWMtCrV42P9Xr/waGsEQAAAAAYWYLcwflCknvTeODYRaWUOUlSShlbSjkyySea475ea71hzcmllNNKKbWUUvupf0ySxUm2SXJBKWWX5rxJpZRjkhzRHPepWuu89fatAAAAAIANwkbZI3d9q7U+WEo5KMlPkjw+yR9KKV1JxicZ0xz2syTvGmb9W0spByc5J40WDTeVUhakscu3rTns9CSfG/63AAAAAAA2VHbkDlKt9Yo0HkZ2YpJb0ghwF6XR4/awJPvXWpetQ/0LkzwxyTeS3JHGQ8weTKMn7itqra9vtnkAAAAAADYxRTbIcJVSOmfPnj27s7NzpJcCAADApqesfQjAxsOOXAAAAACAFifIBQAAAABocYJcAAAAAIAWJ8gFAAAAAGhxglwAAAAAgBYnyAUAAAAAaHGCXAAAAACAFifIBQAAAABocYJcAAAAAIAWJ8gFAAAAAGhxglwAAAAAgBYnyAUAAAAAaHGCXAAAAACAFifIBQAAAABocYJcAAAAAIAWJ8gFAAAAAGhxglwAAAAAgBYnyAUAAAAAaHGCXAAAAACAFifIBQAAAABocYJcAAAAAIAWJ8gFAAAAAGhxglwAAAAAgBYnyAUAAAAAaHGCXAAAAACAFifIBQAAAABocYJcAAAAAIAWJ8gFAAAAAGhxglwAAAAAgBYnyAUAAAAAaHGCXAAAAACAFifIBQAAAABocYJcAAAAAIAWJ8gFAAAAAGhxglwAAAAAgBYnyAUAAAAAaHGCXAAAAACAFifIBQAAAABocYJcAAAAAIAWJ8gFAAAAAGhxglwAAAAAgBYnyAUAAAAAaHGCXAAAAACAFifIBQAAAABocYJcAAAAAIAWJ8gFAAAAAGhxglwAAAAAgBYnyAUAAAAAaHGCXAAAAACAFifIBQAAAABocYJcAAAAAIAWJ8gFAAAAAGhxglwAAAAAgBYnyAUAAAAAaHGCXAAAAACAFifIBQAAAABocYJcAAAAAIAWJ8gFAAAAAGhxglwAAAAAgBYnyAUAAAAAaHGCXAAAAACAFifIBQAAAABocYLcISilbFVKOa6UcmMpZUkpZV4p5dJSyptLKWU91N+plHJyKeW2UsrSUsp9pZRLSikvXcu8X5ZS6lpef1vX9QEAAAAAI2P0SC9gQ1FKmZPkkiTTmm91J+lIsm/z9YpSyotqrcuHWf+AJN9PMrH51sLmZ+2XZL9SyreSvKXWWgcos6i5rr7cN5x1AQAAAAAjz47cQSilbJbkwjSC1euT7FVr7UgyKcnbkyxP8oIkJw6z/o5JzkkjxP11kt1qrZsl2SzJsUlqkjclOXotpb5Ya926n9fs4awNAAAAABh5gtzBOTrJ1kkWJzmg1tqZJLXW5bXWryY5pjnusFLKbsOo/4k0QuG5SQ6std7UrN9da/1YkpOb4z5cSpm6Dt8DAAAAANgACXIH55Dm8exa6+193P9yGi0N2pK8diiFSymTkqzugfu1WuuCPoZ9tnnsSPKSodQHAAAAADZ8gty1aO6w3a55+ZO+xtRaFyW5tHn5/CF+xL5JJqyl/h1ptHQYTn0AAAAAYAMnyF27PXqdXzvAuNX3Hr8O9a8bRP1ZA4x5bSnl9lLKslLKg6WUP5RSPlVKmTHENQEAAAAALWT0SC9gA9A7BL1rgHGr700upbTXWruHWH9+rXXxIOoPFMrunGRFGm0epiSZ03y9o5TyhlrreYNcU0opnYMY9rjB1gMAAAAAhs+O3LXr6HU+UNDa+15Hv6P6rz9Q7d73+6r9yyRvTDIzybha6+ZJpjbfuy/J5CTfK6U8bQjrAgAAAABaxEa5I7eU8oYkp65DiWfXWn+5flbzyKu1HtvHewuSnFZKuTTJH9LYofu5JM8cZM05axvT3LU7eyhrBQAAAACGzo7ctevqdT5xgHG973X1O6r/+gPV7n1/KLVTa701yVeal/uWUqYPZT4AAAAAMPI2yh25Sb6b5Px1mN+7v+3dvc5nJlnYz5yZzWPXEPrj9q4/tZQycYA+uTPXGD8UlzePJckOSe4fRg0AAAAAYIRslEFurXV5kuXrqdy1vc73SHJ9P+P2aB6vW4f6s5JcsZ7rAwAAAAAbOK0V1u6mJHc2z/fva0ApZVKSZzQvfz7E+pclWbqW+tsn2X2Y9ZPkqc1jTXL7MOYDAAAAACNIkLsWtdaa5Izm5atKKTv0MeztSdqTrErynSHW705ybvPyyFLKZn0Me3/z2J3kvN43SilloPrNEPjtzcvf1Fq1VQAAAACADYwgd3C+kOTeNB44dlEpZU6SlFLGllKOTPKJ5riv11pvWHNyKeW0UkotpdR+6h+TZHGSbZJcUErZpTlvUinlmCRHNMd9qtY6b425HyilfLuU8m+llCm9PrOjlPK6NPrjTk2yIg8FwgAAAADABmSj7JG7vtVaHyylHJTkJ0ken+QPpZSuJOOTjGkO+1mSdw2z/q2llIOTnJNGi4abSikL0tjl29YcdnqSz/UxfVySQ5uvNNe1IsmUPBTUL0jyplrrZcNZHwAAAAAwsgS5g1RrvaKUMiuNXa0HJnlMkkVpPHzs20m+WWtdtQ71LyylPLFZ//lp7M59MMlVSU6utf6gn6nfT1KSPC3JzkmmJZmcZH4aD2b7aZJTaq33DndtAAAAAMDIKo0WsDB0pZTO2bNnz+7s7BzppQAAALDpGfCZMQAbGz1yAQAAAABanCAXAAAAAKDFCXIBAAAAAFqcIBcAAAAAoMUJcgEAAAAAWpwgFwAAAACgxQlyAQAAAABanCAXAAAAAKDFCXIBAAAAAFqcIBcAAAAAoMUJcgEAAAAAWpwgFwAAAACgxQlyAQAAAABanCAXAAAAAKDFCXIBAAAAAFqcIBcAAAAAoMUJcgEAAAAAWpwgFwAAAACgxQlyAQAAAABanCAXAAAAAKDFCXIBAAAAAFqcIBcAAAAAoMWtU5BbSvlpKeU1pZQJ62tBAAAAAAD8s3Xdkfu8JGckuaeU8o1SyjPXw5oAAAAAAOhlfbRWKEk6krwxyf8rpfyllPLRUspj10NtAAAAAIBN3roGuTsn+USSv6QR6JYk2yc5JsnNpZRLSylvLqVMXsfPAQAAAADYZK1TkFtr/Uut9aO11p2TPCPJ15MsyEOh7r8kOSXJ3FLKd0opLyillHVdNAAAAADApmR9tFZIktRaL6u1Hp5k6ySvTHJhkp40At0JSV6V5OIkfyulfK6UMmt9fTYAAAAAwMZsvQW5q9Val9daf1BrfVGSGUneneQPeWiX7jZJ3pvkmlLKH0op7yilTFvf6+DRMXfu3JRSBvU67LDDHjb/sMMOG/T8Y4899mHzDzrooEHPP+WUUx42f86cOYOef8EFFzxs/owZMwY9v7Oz82HzBzu3lJK77777n+befffdQ5q/ps7OzkHPnTFjxsPmX3DBBYOeP2fOnIfNP+WUUwY9/6CDDnrY/GOPPdbvnt89v3t+9/zu+d3zu+d3z++e3z2/e5vw7x7Apma9B7m91Vrvr7WeVGvdO8njk3wuyZ15KNTdM8mXktxdSjmvlPLvj+R6AAAAAAA2RI9okNtbrfWGWut/1Vq3T/K8JKcn6U4j0B2T5MVJfvBorQcAAAAAYENRaq0j9+GlPDHJmUlmpRHo1lpr24gtiCEppXTOnj17dl9/xgMAAACPMP0VgE3K6Ef7A0spU5IcnOTQJE99tD8fAAAAAGBD86gEuaWUtiQvTCO8fWGSsatvNY9zk3wnybcfjfUAAAAAAGxIHtEgt5TylDTC24OTTFv9dvO4NMmP0ghvf1prXfVIrgUAAAAAYEO13oPcUsq2SQ5pvnZd/XavIb9JI7z9Xq114fr+fAAAAACAjc16CXJLKe1JXpHG7ttn5KHgdvXxjiRnJPl2rfXW9fGZAAAAAACbinUKcksp+6cR3r44yfjVbzeP3Ul+mEZ4+8t1+RwAAAAAgE3Zuu7IvThJzUPhbU3yv2m0TvhhrXXxOtYHAAAAANjkrY/WCiXJTUlOT3JGrfXO9VATAAAAAICmdQ1yT0lyWq31t+tjMQAAAAAAPNw6Bbm11iPW10IAAAAAAOjbqJFeAAAAAAAAAxPkAgAAAAC0OEEuAAAAAECLE+QCAAAAALQ4QS4AAAAAQIsT5AIAAAAAtDhBLgAAAABAixPkAgAAAAC0OEEuAAAAAECLE+QCAAAAALQ4QS4AAAAAQIsT5AIAAAAAtDhBLgAAAABAixPkAgAAAAC0OEEuAAAAAECLE+QCAAAAALQ4QS4AAAAAQIsT5AIAAAAAtDhBLgAAAABAixPkAgAAAAC0OEHuEJRStiqlHFdKubGUsqSUMq+Ucmkp5c2llLIe6u9USjm5lHJbKWVpKeW+UsolpZSXDqHGv5RSvlVKubWUsriU8mAp5c+llNNKKfuv6xoBAAAAgEff6JFewIailDInySVJpjXf6k7SkWTf5usVpZQX1VqXD7P+AUm+n2Ri862Fzc/aL8l+pZRvJXlLrbX2M78tyVeSHN7r7YVJxiXZvfmakuQnw1kfAAAAADBy7MgdhFLKZkkuTCNYvT7JXrXWjiSTkrw9yfIkL0hy4jDr75jknDRC3F8n2a3WulmSzZIcm6QmeVOSowcoc2oaIe6iJO9Psk2zxsQkWyd5TZJfDGd9AAAAAMDIKv1s8KSXUsonk3woyeIks2qtt69x//1JPpukp3n/xiHWPzPJa5PMTbJ7rXXBGve/luSIJF1Jtq+1zl/j/quSnNX8/OfUWv9vKJ8/XKWUztmzZ8/u7Ox8ND4OAAAAelvnFocAGxI7cgfnkObx7DVD3KYvp9FqoS2NQHbQSimTkqzugfu1NUPcps82jx1JXtLH/WOax1MerRAXAAAAAHj0CHLXopSyW5Ltmpd99pettS5Kcmnz8vlD/Ih9k0xYS/070mjp8LD6pZSnpNH/Nkm+OcTPBgAAAAA2AILctduj1/m1A4xbfe/x61D/ukHUn7XG+/s2j11Jri6lvL6U8ptSysJSSncp5U+llM+UUrYY4roAAAAAgBYxeqQXsAGY0ev8rgHGrb43uZTSXmvtHmL9+bXWxYOoP2ON93dtHu9I8p0kBzevH0wyNo2geI8kbyylvLDWOqiGtqWUwYx73GBqAQAAAADrxo7ctevodT5Q0Nr7Xke/o/qvP1Dt3vfXrD21eZyVRoh7UZKda61Tk7QneVmSeUm2SvKjUspQ1gYAAAAAtICNckduKeUNSU5dhxLPrrX+cv2s5hG3OowvSf6S5KW11uVJUmtdmeTcUkpNcm6SmUnenOTEtRWttc5Z25jmrt3Zw1s2AAAAADBYduSuXVev84kDjOt9r6vfUf3XH6h27/tr1u59fdLqELe3Wut5SW5pXr5gCGsDAAAAAFrARrkjN8l3k5y/DvN797e9u9f5zCQL+5kzs3nsGkJ/3N71p5ZSJg7QJ3fmGuNX69239/oBPuf6JDsn2X4IawMAAAAAWsBGGeQ2d6U+bGfqMF3b63yP9B+W7tE8XrcO9WcluWKI9f/U67wO8DllEGMAAAAAgBaktcLa3ZTkzub5/n0NKKVMSvKM5uXPh1j/siRL11J/+yS791P/f5OsbJ4/foDPeVzzeNsQ1wcAAAAAjDBB7lrUWmuSM5qXryql7NDHsLcnaU+yKsl3hli/O40HkSXJkaWUzfoY9v7msTvJeWvMfyDJBc3Ld5ZSxq45uZTykjTaKiTJhUNZHwAAAAAw8gS5g/OFJPem8cCxi0opc5KklDK2lHJkkk80x3291nrDmpNLKaeVUmoppb+2BsckWZxkmyQXlFJ2ac6bVEo5JskRzXGfqrXO62P+fyVZkuSxSX5YStmpOX90M8T9enPcTUlOHcoXBwAAAABG3kbZI3d9q7U+WEo5KMlP0mhf8IdSSleS8UnGNIf9LMm7hln/1lLKwUnOSaNFw02llAVp7PJtaw47Pcnn+pl/YynllUm+l+TAJAeWUh5srm98c9hfkhxUa102nDUCAAAAACPHjtxBqrVekcbDyE5McksaAe6iNHrcHpZk/3UJSWutFyZ5YpJvJLkjyYQkD6bRE/cVtdbXN9s8DDR/jyRfTSO0nZBG79zOJB9M8uRa603DXR8AAAAAMHLKANkgDKiU0jl79uzZnZ2dI70UAAAANj1lpBcA8GiyIxcAAAAAoMUJcgEAAAAAWpwgFwAAAACgxQlyAQAAAABanCAXAAAAAKDFCXIBAAAAAFqcIBcAAAAAoMUJcgEAAAAAWpwgFwAAAACgxQlyAQAAAABanCAXAAAAAKDFCXIBAAAAAFqcIBcAAAAAoMUJcgEAAAAAWpwgFwAAAACgxQlyAQAAAABanCAXAAAAAKDFCXIBAAAAAFqcIBcAAAAAoMUJcgEAAAAAWpwgFwAAAACgxQlyAQAAAABanCAXAAAAAKDFCXIBAAAAAFqcIBcAAAAAoMUJcgEAAAAAWpwgFwAAAACgxQlyAQAAAABanCAXAAAAAKDFCXIBAAAAAFqcIBcAAAAAoMUJcgEAAAAAWpwgFwAAAACgxQlyAQAAAABanCAXAAAAAKDFCXIBAAAAAFqcIBcAAAAAoMUJcgEAAAAAWpwgFwAAAACgxQlyAQAAAABanCAXAAAAAKDFCXIBAAAAAFqcIBcAAAAAoMUJcgEAAAAAWpwgFwAAAACgxQlyAQAAAABanCAXAAAAAKDFCXIBAAAAAFqcIBcAAAAAoMUJcgEAAAAAWpwgFwAAAACgxQlyAQAAAABanCAXAAAAAKDFCXIBAAAAAFqcIBcAAAAAoMUJcgEAAAAAWpwgFwAAAACgxQlyAQAAAABanCAXAAAAAKDFCXIBAAAAAFqcIBcAAAAAoMUJcgEAAAAAWpwgFwAAAACgxQlyh6CUslUp5bhSyo2llCWllHmllEtLKW8upZT1UH+nUsrJpZTbSilLSyn3lVIuKaW8dIA5byil1CG8Xr+u6wQAAAAAHl2jR3oBG4pSypwklySZ1nyrO0lHkn2br1eUUl5Ua10+zPoHJPl+konNtxY2P2u/JPuVUr6V5C211rrG1CVJ7l1L+clJJjTPrxjO+gAAAACAkWNH7iCUUjZLcmEawer1SfaqtXYkmZTk7UmWJ3lBkhOHWX/HJOekEeL+OslutdbNkmyW5NgkNcmbkhy95txa6/dqrVsP9Epya3P4b2utfx7OGgEAAACAkSPIHZyjk2ydZHGSA2qtnUlSa11ea/1qkmOa4w4rpew2jPqfSCMUnpvkwFrrTc363bXWjyU5uTnuw6WUqUMpXErZJ8kezctvDGNtAAAAAMAIE+QOziHN49m11tv7uP/lNFottCV57VAKl1ImJVndA/drtdYFfQz7bPPYkeQlQ6mf5M3NY3eS7w1xLgAAAADQAgS5a9HcYbtd8/InfY2ptS5Kcmnz8vlD/Ih981D/2v7q35FGS4ch1W+GxK9qXp5da+0e4toAAAAAgBbgYWdrt0ev82sHGHdtkn9L8vh1qH/dWurvnmTWEGq/Mo1dvMkQ2yqUUjoHMexxQ6kJAAAAAAyPHblrN6PX+V0DjFt9b3IppX0Y9efXWhcPov6MAcasaXVbhWtrrb8bwjwAAAAAoIXYkbt2Hb3OBwpae9/rSKMn7VDqD1S79/2OAUc1lVIel+TpzctvDnIt/1BrnTOIz+hMMnuotQEAAACAodkod+SWUt5QSqnr8HrWSH+H9WD1btxlSc4YyYUAAAAAAOtmowxy17OuXucTBxjX+15Xv6P6rz9Q7d7311q7lDImyaHNy/NrrQ8MYT0AAAAAQIvZWFsrfDfJ+eswv3dbhLt7nc9MsrCfOTObx65a62DbKvSuP7WUMnGAPrkz1xg/kIOSbNk8H9JDzgAAAACA1rNRBrm11uVJlq+nctf2Ot8jyfX9jNujebxuHerPSnLFeqi/uq3C7Ul+McT1AAAAAAAtRmuFtbspyZ3N8/37GlBKmZTkGc3Lnw+x/mVJlq6l/vZJdh9M/VLKzCQvaF5+q9Zah7geAAAAAKDFCHLXohmErn5Y2KtKKTv0MeztSdqTrErynSHW705ybvPyyFLKZn0Me3/z2J3kvLWUfGOStiQ9SU4dyloAAAAAgNYkyB2cLyS5N40Hjl1USpmTJKWUsaWUI5N8ojnu67XWG9acXEo5rZRSSyn97Y49JsniJNskuaCUsktz3qRSyjFJjmiO+1StdV5/iyyllCRval5eUmv925C+JQAAAADQkjbKHrnrW631wVLKQUl+kuTxSf5QSulKMj7JmOawnyV51zDr31pKOTjJOWm0aLiplLIgjV2+bc1hpyf53FpKPSfJjs1zDzkDAAAAgI2EHbmDVGu9Io2HkZ2Y5JY0AtxFafS4PSzJ/rXWZetQ/8IkT0wjgL0jyYQkD6bRE/cVtdbXD6Lf7eqHnN2b5ILhrgUAAAAAaC3Fs7AYrlJK5+zZs2d3dnaO9FIAAADY9JSRXgDAo8mOXAAAAACAFifIBQAAAABocYJcAAAAAIAWJ8gFAAAAAGhxglwAAAAAgBYnyAUAAAAAaHGjR3oBAGtT60OvVav6fg2mxmA/69GsNVilrL9xG+KYR/vzWm3Mo/1563PdAAAArB+CXGC96ulJ7rorufPO5G9/a7zmzUsefPCh14IFydKlybJlfb/WDGnXZyAKtJ5WC6AfzQB+q62SU09NnvOcwdUDAAA2XYJcYNhqTW68Mfnf/01+//vkT39KrruuEcYCDNb63Am/ofnrX5P/+I/k2mvtcgYAAAYmyAWGpNbkyiuTM89Mvv/9xu7bR0MpyahR//xa/V4prfkn7EMZN5BHuy3Epjzm0f68DXEM69+f/5xccUWy994jvRIAAKCVCXKBQak1ueii5NOfTi6/fOCxW26ZbLddsu22yWMe07ieMuWh1+TJyYQJybhxjdf48Q+djx2btLU9PLC1Uw02LK0WQLfi/yFw+OHJ6ac3zr/1LUEuAAAwsFJtv2GYSimds2fPnt3Z2TnSS+ER9uc/J297W/KrXz383pQpybOelfzrvyZPfnLyhCck06Y9ygsE2ABdemnyzGc2zjs6Gj3FJ08e2TUBwAbGdg9gk2JHLtCvWpOvfjV5z3uSFSseen/s2OSVr0wOOaTxgJ7R/k0CMGT77pvstluj13hXV/L1ryf/+Z8jvSoAAKBVjRrpBQCtacWK5I1vTN7xjodC3NGjk3e9K7nttuSMM5L99hPiAgxXKf8c3J5wQrJ8+citBwAAaG2CXOBhli9PXvWq5Nvffui92bOTq65KTjwxmTFjxJYGsFE55JBk660b53fdlXzzmyO7HgAAoHUJcoF/Umvylrck55770HtvfGNy2WXJHnuM3LoANkbjxzfa16z20Y8mCxeO3HoAAIDWJcgF/snnPtdom7DaUUc1doiNHz9yawLYmP3HfyTbbts4//vfk098YmTXAwAAtCZBLvAPl1+efOhDD12/+c3JF7/Y6OMIwCNjwoTks5996Pr44xv/PgYAAOhNkAskSRYtSl7/+mTVqsb1M56RfPWrQlyAR8OrXpU8+9mN81WrkkMPTRYsGNk1AQAArUWQCyRJPvOZ5OabG+cdHY32CmPHjuyaADYVo0Ylp57a+PdvktxyS3LwwcnKlSO7LgAAoHUIcoH89a/Jccc9dH388cn224/cegA2Rdtvn5xyykPXl1ySvOlNwlwAAKBBkAvkwx9Oli5tnM+Z0wgOAHj0vepVjX8nr3bGGY33Fi0auTUBAACtQZALm7jbbku+852Hro8/vvEnvgCMjI99LDnssIeuf/jDZJ99kj/9aeTWBAAAjDxxDWzijj/+oQecPe95yTOfObLrAdjUjRqV/M//JO9610PvXXddsueeyXvfm9x//8itDQAAGDmCXNiEzZuXfPObD12///0jtxYAHlJKcuKJjX9HjxvXeK+np9HPfLvtkre/PbniiqTWEV0mAADwKBLkwibszDOTJUsa53vumTz3uSO7HgD+2ZvelFx55T//tcSSJclXv5rsvXey887J4Ycn3/tecuutD/2FBQAAsPEp1VYOhqmU0jl79uzZnZ2dI70UhqHW5MlPTq65pnF98sn/3JMRgNZRa/KDHySf+lTyxz/2P27SpGTWrGT77ZNtt228tt46mTLloddmmyUTJzZ2+o4b19j9CwAbKP8tBmxSBLkM24YQ5P75zw+Fk6t/1Xv/yg/03nDmrO/3HunPu+OOxvmECcncuY3/cQ9A66o1+X//LznjjMZD0Lq61r3m2LEPhbrjxiWjRzf69PZ+lfLw93rfG0wYPNjA+NGuNZRxAJuSgw7aIFqv+Tc4sEkZPdILgEdSd3dy2WUjvYrW9/KXC3EBNgSlJM95TuP1P/+T/Pa3yf/+b+O/6665Jvn734dec/nyxmt9hMIAbDx2332kVwDAmgS5sImbOjX5r/8a6VUAMFTjxiX/+q+N12r33pvccEPyt78ld97ZeN1/f/Lgg8n8+Y3jgw82+uwuW5asWDFCiwcAAIZMkMtGbffdk0svfeh69Z9O9v4Tyk39vRkzGn9WC8CGb6utGq/BWrWqsRt32bJk6dLGcdWqvl+19n9vbQbbyWsw49ZnraGMA9jUDOW/TwB4dAhy2ah1dCT77jvSqwCA1jRqVDJ+fOOlxQ4AALS2USO9AAAAAAAABibIBQAAAABocYJcAAAAAIAWJ8gFAAAAAGhxglwAAAAAgBYnyAUAAAAAaHGCXAAAAACAFifIBQAAAABocYJcAAAAAIAWJ8gFAAAAAGhxglwAAAAAgBYnyAUAAAAAaHGCXAAAAACAFifIBQAAAABocYJcAAAAAIAWJ8gFAAAAAGhxglwAAAAAgBYnyAUAAAAAaHGCXAAAAACAFifIBQAAAABocYJcAAAAAIAWJ8gFAAAAAGhxglwAAAAAgBYnyAUAAAAAaHGCXAAAAACAFifIBQAAAABocYJcAAAAAIAWJ8gFAAAAAGhxglwAAAAAgBYnyAUAAAAAaHGC3CEopWxVSjmulHJjKWVJKWVeKeXSUsqbSyllPdTfqZRycinltlLK0lLKfaWUS0opLx3E3ImllP9srueBUsqKUsqCUkpnKeUzpZRt1nV9AAAAAMDIKLXWkV7DBqGUMifJJUmmNd/qTjI+yejm9SVJXlRrXT7M+gck+X6Sic23FiZpz0Nh+7eSvKX28Q+slLJjkp8neWyvtxck6eg1f2GSF9dafzmc9fWz5s7Zs2fP7uzsXF8lAQAAYLDWeUMVwIbEjtxBKKVsluTCNELc65PsVWvtSDIpyduTLE/ygiQnDrP+jknOSSPE/XWS3WqtmyXZLMmxSWqSNyU5up8Sp6cR4i5P8o4kHbXWKWkEzQcluTPJ5CTfK6VM7KcGAAAAANCiBLmDc3SSrZMsTnJArbUzSWqty2utX01yTHPcYaWU3YZR/xNphMJzkxxYa72pWb+71vqxJCc3x324lDK198RSyvZJ9m1efrrW+pVaa3dz/opa64VJXte8v2WSZw5jfQAAAADACBLkDs4hzePZtdbb+7j/5TRaLbQlee1QCpdSJiVZ3QP3a7XWBX0M+2zz2JHkJWvc6937tr8eB1f0OrcjFwAAAAA2MILctWjusN2uefmTvsbUWhclubR5+fwhfsS+SSaspf4dabR06Kv+X3qd79XPZ+zdPK5KctUQ1wcAAAAAjLDRax+yyduj1/m1A4y7Nsm/JXn8OtS/bi31d08yq/ebtdb7Sik/TPKyJP9VSvl7km/XWrtLKWPS6N371ebw42qttw1mUaWUwTzB7HGDqQUAAAAArBs7ctduRq/zuwYYt/re5FJK+zDqz6+1Lh5E/Rl93HtLkouTjE2jzUNXKeXBJEuTXJBkQZK31FrfN4R1AQAAAAAtwo7ctevodT5Q0Nr7XkcaPXOHUn+g2r3vd6x5o9b6YCnl5Uk+nuQ/k5Qkm/Ua0p5keimlrdbaM5hF1VrnrG1Mc9fu7MHUAwAAAACGb6PckVtKeUMppa7D61kj/R2GopSyZ5IbkhyVRhuFJySZlGSnJO9OMjWNB6b9qJSyUf4zBwAAAICNmVBv7bp6nU8cYFzve139juq//kC1e9//p9qllI4kP07jgWyfrLW+o9Z6ba11ca31L7XWL6XRP7cmeWGSNwxhbQAAAABAC9hYWyt8N8n56zC/d1uEu3udz0yysJ85M5vHrlrrYNsq9K4/tZQycYA+uTPXGL/a65Js1Tw/rq+JtdZflFKuSqMNwsuTfGsI6wMAAAAARthGGeTWWpcnWb6eyl3b63yPJNf3M26P5vG6dag/K8kVQ6z/+Obx77XW/kLmJLk5jSB3xyGuDwAAAAAYYVorrN1NSe5snu/f14BSyqQkz2he/nyI9S9LsnQt9bdPsns/9Vc1j9Ob6+jP6l27Q2n7AAAAAAC0AEHuWtRaa5IzmpevKqXs0MewtydpTyNU/c4Q63cnObd5eWQpZbM+hr2/eexOct4a965sHkuSw/v6jFLKHkn2bV5ePpT1AQAAAAAjT5A7OF9Icm8aDxy7qJQyJ0lKKWNLKUcm+URz3NdrrTesObmUcloppZZSaj/1j0myOMk2SS4opezSnDeplHJMkiOa4z5Va523xtwfJJnbPP90KeVDpZRpvea/KslP02ijsTzJl4f65QEAAACAkbVR9shd32qtD5ZSDkrykzR60v6hlNKVZHySMc1hP0vyrmHWv7WUcnCSc9Jo0XBTKWVBGrt825rDTk/yuT7mLiql/HuSC5NskeSTST7ZXF97Gjt1k0ZQ/Ppa683DWSMAAAAAMHLsyB2kWusVaTyM7MQkt6QR4C5Ko8ftYUn2r7UuW4f6FyZ5YpJvJLkjyYQkD6bRE/cVtdbXN9s89DX392n00P1Ikt8mmZ/G7uFFSa5JckKSJ9RafzDc9QEAAAAAI6f0kw3CWpVSOmfPnj27s7NzpJcCAADApqesfQjAxsOOXAAAAACAFifIBQAAAABocYJcAAAAAIAWJ8gFAAAAAGhxglwAAAAAgBYnyAUAAAAAaHGCXAAAAACAFifIBQAAAABocYJcAAAAAIAWJ8gFAAAAAGhxglwAAAAAgBYnyAUAAAAAaHGCXAAAAACAFifIBQAAAABocYJcAAAAAIAWJ8gFAAAAAGhxglwAAAAAgBYnyAUAAAAAaHGCXAAAAACAFifIBQAAAABocYJcAAAAAIAWJ8gFAAAAAGhxglwAAAAAgBYnyAUAAAAAaHGCXAAAAACAFifIBQAAAABocYJcAAAAAIAWJ8gFAAAAAGhxglwAAAAAgBYnyAUAAAAAaHGCXAAAAACAFifIBQAAAABocYJcAAAAAIAWJ8gFAAAAAGhxglwAAAAAgBYnyAUAAAAAaHGCXAAAAACAFifIBQAAAABocYJcAAAAAIAWJ8gFAAAAAGhxglwAAAAAgBYnyAUAAAAAaHGCXAAAAACAFifIBQAAAABocYJcAAAAAIAWJ8gFAAAAAGhxglwAAAAAgBYnyAUAAAAAaHGCXAAAAACAFifIBQAAAABocYJcAAAAAIAWJ8gFAAAAAGhxglwAAAAAgBYnyAUAAAAAaHGCXAAAAACAFifIBQAAAABocYJcAAAAAIAWJ8gFAAAAAGhxglwAAAAAgBYnyAUAAAAAaHGCXAAAAACAFifIBQAAAABocYLcISilbFVKOa6UcmMpZUkpZV4p5dJSyptLKWU91N+plHJyKeW2UsrSUsp9pZRLSikvHcTccaWUt5VS/q+5rmWllDtKKaeWUp60rmsDAAAAAEZOqbWO9Bo2CKWUOUkuSTKt+VZ3kvFJRjevL0nyolrr8mHWPyDJ95NMbL61MEl7Hgrbv5XkLbWPf2CllK2SXJRkTvOtFc31TUlSmtdvq7V+YzhrG2DNnbNnz57d2dm5PssCAADAYKzzhiqADYkduYNQStksyYVphLjXJ9mr1tqRZFKStydZnuQFSU4cZv0dk5yTRoj76yS71Vo3S7JZkmOT1CRvSnJ0H3NLkh+kEeIuSfLWJJNrrZsnmZHkm0nGJDm5lPKM4awPAAAAABhZgtzBOTrJ1kkWJzmg1tqZJLXW5bXWryY5pjnusFLKbsOo/4k0QuG5SQ6std7UrN9da/1YkpOb4z5cSpm6xtwDkuzbPP9ArfUbtdalzfn31FrfkuSXafyzPmEYawMAAAAARpggd3AOaR7PrrXe3sf9L6fRyqAtyWuHUriUMinJ6h64X6u1Luhj2Gebx44kL1nj3oHN46IkX+vnY77QPM4ppTxhKOsDAAAAAEaeIHctmjtst2te/qSvMbXWRUkubV4+f4gfsW+SCWupf0caLR36qr9983hLrXVFP59xfa/zFwxxfQAAAADACBPkrt0evc6vHWDc6nuPX4f61w2i/qx+7rcNMLf3PTtyAQAAAGADM3qkF7ABmNHr/K4Bxq2+N7mU0l5r7R5i/fm11sWDqD9jjfdvbx53LqWMX90fdw29w+I15/eplNI5iGFPuv766zNnzpzBlAQAAID15sorr/xOrXVI7Q0BNmSC3LXr6HU+UNDa+15HGj1zh1J/oNq973es8f5FSY5MMj7Jfyb5VO+bpZSS5L96vTV5kOsajJ4lS5YsuPLKK29fjzUfCY9rHm8Y0VWwofF7w1D5nWGo/M4wHH5vGCq/MwyV3xmAFrVRBrmllDckOXUdSjy71vrL9bOaR9zFSS5P8rQkx5ZSapLTkvw9jf8C/niSvZOsSDImyarBFK21bjTbbFfvLt6YvhOPPL83DJXfGYbK7wzD4feGofI7w1D5nQFoXXrkrl1Xr/OJA4zrfa+r31H91x+odu/7/1S71lqTvCzJVWkE859Kow3D8iTXJPn3JOcn+X/NKfOHsDYAAAAAoAVslDtyk3w3jfByuHq3Rbi71/nMJAv7mTOzeewaQn/c3vWnllImDtAnd+Ya4/+h1jq3lPLUJIcmeUmSXdN4wNnNSc6otZ5ZSrmxOfymIawNAAAAAGgBG2WQW2tdnsaO1PXh2l7neyS5vp9xqx8odt061J+V5Irh1G9+5280X/+klLJ1GuFuklw2xPUBAAAAACNMa4W1uynJnc3z/fsaUEqZlOQZzcufD7H+ZUmWrqX+9kl2H2b9JHlz8zgvyYXDmA8AAAAAjCBB7lo0e9Ce0bx8VSllhz6GvT1JexoPEvvOEOt3Jzm3eXlkKWWzPoa9v3nsTnLeUOqXUh6f5APNyy/UWpcMZT4AAAAAMPIEuYPzhST3pvHAsYtKKXOSpJQytpRyZJJPNMd9vdZ6w5qTSymnlVJqKaX2U/+YJIuTbJPkglLKLs15k0opxyQ5ojnuU7XWeX3UP7SU8pZSymNKKaOa700tpRyR5P/SCJn/r/k9AAAAAIANzEbZI3d9q7U+WEo5KMlPkjw+yR9KKV1JxicZ0xz2syTvGmb9W0spByc5J40WDTeVUhakEcC2NYednuRz/ZSY3euzV5RSFiWZ0uv+hUleXWvtGc76AAAAAICRZUfuINVar0jjYWQnJrkljQB3URo9bg9Lsn+tddk61L8wyRPTeFjZHUkmJHkwjZ64r6i1vr7Z5qEv30tySpI/pdF+YWIafX1/kOSgWutBzRYOAAAAAMAGqPSfDQIAAAAA0ArsyAUAAAAAaHGCXAAAAACAFifIBQAAAABocYJcAAAAAIAWJ8gF4P9v787DZavKO49/f1xAL4NMgggRrqigBoOCojaDgAOObYfGINBKNDS2IomtsWMiDo1Dt8aBGBOJQxxBAYXuDkEQh3ZulHZ4lBYUFIyiIqMMF2R488de1XdTVtUZOPec4pzv53nWs4e11t67zn6fc6res2ptSZIkSZI05UzkSpIkSZIkSdKUM5ErSZIkSZIkSVPORK4kSZIkSZIkTTkTuVq2kmye5PVJvpfkxiTXJ/lmkpcn2Xipr08LK8k2SV6Q5GNJ/l+Sm5LcmuRnSf5Hkj+cxTHul+TtSS5OsjbJNUm+nORPkmQW/R+U5B+S/CTJLUmuTHJukkMW5lVqfUtyUpJq5bIZ2hovK1iS+yZ5XZIL2r1fm+TyJOckeVWSjcb0M25WqCQHJzk9yU/bvVub5MdJTkly4Ax9jZtlJMkmSZ6W5PgkZ7TfHYO/PcfP8hhLGhNJ9mzvuX7W3m/9IsmZM8Wy5ufuxEySHZO8pP3+uaTFy9p27z+e5KBZXoMxI0nToKoslmVXgJ2BnwDVyk3ALb3tbwFbLfV1Whb0nt/Wu78FrAVuHNp3NrDJmP57AVf12t4wdMxzgI0nnP/pLc4G7a8H7uhtfwDIUv+cLBNjaH/gzt49u2xCW+NlBRfgWcDVvft1K3Dd0O+bLY0bS7tvAd434m/UzUP73jWmv3GzzApwwNC975fjZ9F/SWMCOHrofNdx17+fr1/qn/FyK/ONGeABQ/dm8Llo+PfPB4BVxozFYrFMf3FErpadJKuAfwLWAFcAT66qTYFNgMOA3wCPAk5eqmvUerEh8A3gJcCDqmp1VW0G7AJ8sLV5Gt2H6btIsgVwFrAN8APg0VW1ObApcCzwW+Bg4MRRJ07yQOA0uhj7CrBbVW0BbAG8nu4N6guBVy7A69R6kGQ18H7gduCCGdoaLytYkoOBTwFbA2cCjwbuXVVbApsB+wLvoPvA2u9n3KxcL6RLYgB8Eti1/Y3aBNgNOKPVHZfk0H5H42ZZuxb4HPDXwOHAL2fTaaljIsnjgZPo3nedATyg/f7btu0HeF2SP5rN69GczCdmVtH9M+lzwFHAju1z0WbA7nSfmaC75yeMOoAxI0lTZqkzyRbLQhe6D0tF91/ex46oP4x1//194lJfr2XB7vuBM9T3R0PtNFT3RtaNUFgzou9ftPrb6d68Dtd/rNVfAWwxov49rf43OBJ8Kgvw1naP3gx8iAkjco2XlVuArdp9K+C9c+xr3KzQAnyh3ZsfARuOqN8QuLi1+YRxs/wLI0Y+ApcxixG5Sx0TdIm8Ar4DbDSi/uzB39BRr9OyuDFDl2zdc0J9gM+049wIrDZmLBaLZbqLI3K1HB3Vll+oqvNH1J8G/Hiore7hquoLMzTpj8Tda6jueW35iaq6bETfd9O9uV0FHNmvSLIpMJgb7D1Vdf2I/v+9LTcHZpyrV4sryV7Ay4FLGTMaZYjxsnIdA9yf7ivNL5tjX+Nm5bp/W363qm4frmz7vtM2NxmqNm6Woaq64250X7KYSLILsE/bfHtV3eWbB0P9dwaeMP5laC7mGzNVdX1VfWtCfdF9Iwm6Ud0P7dcbM5I0fUzkallJsgnwb9rmOaPatDcs57bNJy/GdWkq3NxbXzVYSbIbsFPbHBczNwFfbpvDMbMvsHqG/pfTff1xVH8toXQPpPoAXUy8qKpumaG98bKyPb8tP1FVN09s2WPcrHiDfx7vkWTD4cq271Ft84LefuNGdzEFMdHfHtkf+CrdnL2j+ms6jXyP3BgzkjRlTORquXkY6+L6+xPaDeq2T7LN+r0kTYkDeuvf663v3lufTcw8fGh/v/+Fs+j/+xPaaPG9CtgD+EhVfW4W7Y2XFSrJ1nR/YwC+mOQRSU5pT92+tT2F+9Qk+4zobtysbH/flg8GPp7kwYOKJLsCpwIPoftWwIm9fsaNhi11TAz6X1lVvx7VsY0cvWhMf02nA9ryt8APh+qMGUmaMiZytdzs0Fv/+YR2/br7j22lZaE9GOQv2+aXq+riXvVcY+Y+STYb0f/aGUboDfrvMKGNFlGShwGvpvua/Ctm2c14WbkeQjeXIMAf0I2cPBzYElgL7Aj8EfDlJK8Z6mvcrGBVdRZwHF2S5FDgR0luTnIz3dy4B9Ele/euqt/0uho3GrbUMbHDUP1c+2vKJFkD/Ke2eerQ7yAwZiRp6pjI1XKzeW990puNft3mY1vpHi/JBsBH6N4Y3kr3Ybrv7sbM5iPqJ/U33qZAi4sPAPcCXlFVV82yq/Gycm3VWz+e7unhzwI2q+7p2w+leyp4gBOSHNJrb9yscFX1buDZwJVt12rWfV35XnT37D5D3YwbDVvqmDCmlpEkq+meHbIpcDXrBj30GTOSNGVM5Epa7v4G+Ldt/SVV9d2lvBhNjeOAxwOfraqPLPXF6B6h/54pwJFVddbgATRtpP+z6Z7qDfDaRb4+TakkmyT5BPBp4KfAU4D7Atu29QvpHmB1fpLdxx5IkhZIm5v7FOAxwG3AEVU106hZSdIUMJGr5eaG3vrwk58ZU3fD2Fa6R0vyNuClbfNPq+ofRzS7uzFzw4j6Sf2NtyXWvkb4JuAW1n2dcLaMl5Wrfy++M2pO5faQocF8qHsk2X5EX+Nm5XkbcBjd3JP7V9V5VXV1VV1VVecB+7e67YC/6/UzbjRsqWPCmFoGkqwCPgb8O+B24LCq+syY5saMJE0ZE7labq7ore84oV2/7hfr6Vq0hJK8lXXznv7nqvrbMU3nGjM3VNWNI/pvlWTSm9RB/ysmtNHieCfd1wjfBvwqyWb9AgyeKp/e/o3aPuNl5eqPVPrB2FZ3rRs8Xd64WaGSbA4c0zbfXVVrh9u0fe9um/sn2a6tGzcattQxccVQ/Vz7a4n1kriH0SVxD6+qMyd0MWYkacqYyNVy8wPgzrY+6euJg7pfVtXV6/eStNiS/DXwyrb58qo6cULz/lOfZxMzw0/s7fef9KTdcf21+B7YlsfTjfwYLke2+p16+45t+4yXlesnwCAhUhPapbc+aGfcrFy7Aqva+qUT2v2otz74HWXcaNhSx8Sg/3ZJth3VsSUKHzqmv5ZQuzcnA8+lS+IeUVWfnKGbMSNJU8ZErpaV9jTVr7fNp45qkyTAwW3zs4txXVo8bTqFP2+br6iqd87Q5YfAv7T1cTGzKbBf2xyOma/SfUV/Uv+dgYeN6a97FuNlhaqqYt39ePiEpoN7V8Blbd24Wbnu7K3vPKHd/Xrrg68WGzcattQx0d8e2R/Yh3UPrDKmpkQviTsYiXtEVZ0+i67GjCRNGRO5Wo4+3JYHJnnsiPrnALu0dR9ytIy0JO5gOoWXV9U7ZurTkjMfbZvPbfOnDjsW2IzuA/nJQ/1vBM5omy9OssWI/n/RljcCk76+pkVQVY+sqowrrPsdcnlv/4mtr/Gysn2wLR+Z5EnDle1rpy9um9+oql+DcbPCXQQMplM4uj1g6C5agmUw/cK1wMVg3Oh3LXVMVNWlwNfa5it60w71vaotfwr873GvRYun/Y45hbkncY0ZSZpGVWWxLKtCN7/l9+lGQ/0MeGLbvwFdEvf6VnfOUl+rZUHv+1vafS3gZXPsuyXwy9b3QmCvtn9juqTMra3upDH9HwTc1Np8CXhI278p3ZPr72x1r1rqn5NlVvHwoXa/LjNeLCPu3+fa/fkF8ExgVdu/G3Beq7tj8LfHuLEA7+r9ffo08Ij2nmQD4A+Ac3v1rzVuVkYBtgLu2ys/bffizUP7N5ummKAbPXlHa/MpYMe2f2u6hz0OYvm5S/0zXm5lPjFDN7XLKa3dbcCh8zivMWOxWCxTVFI1aZo36Z4pyQPp/qM7eNDMzXQfmO7dtr8LHFRV1yz+1WmhJdkJuLxt3gn8eoYuf1ZVpw4d4zHAOXRvKqH7auu9gcHIgfOAZ1XVrWOu4ZnAacDqtut6uhExg7kRPwL8cflLd+ol+RBwFN2I3DVj2hgvK1SSbei++vnItuuWVrZs27cDx1XVSSP6GjcrUJLVdCPa+l8rHtzje/X2fRx4XlXdMdTfuFmGklzG5Ok2Bj5cVX881HdJYyLJMXQJuEH764AtWDdH+Bur6jWzeG2ag/nETJL9gS+2/bcBM332OaSqvja805iRpOnh1ApalqrqJ3QjXt7AuknzbwO+RfcQrL1N4i4rGwyt32+Gsnr4AFX1TbqHOJwIXEL3YegmurnBjgGeOu4DUet/Ft3IqvfTJZVX071J/SzwnKo6yg/Jy4fxsnJV94DMvYGXAefTJeQ2oZsP94PAnqOSuK2vcbMCVdVa4Ol03wr6n3TfFhokL/6FboTaM6vqiOEkbutv3Oguljomquq9wGPp/vlwBd3vwF/TxfeTTMhNlf575I2Y+T3yxqMOYsxI0vRwRK4kSZIkSZIkTTlH5EqSJEmSJEnSlDORK0mSJEmSJElTzkSuJEmSJEmSJE05E7mSJEmSJEmSNOVM5EqSJEmSJEnSlDORK0mSJEmSJElTzkSuJEmSJEmSJE05E7mSJEmSJEmSNOVM5EqSJEmSJEnSlDORK0mSJEmSJElTzkSuJEmSJEmSJE05E7mSJEmSJEmSNOVM5EqSpGUtyQFJqpUDlvp6lkKST7fX/4YFPOaqJBe34z5voY4rSZIkaTQTuZIkaSolWdNLwM67AGuW+rUspSTPBJ4K3AC8c6GOW1V3AG9qm29JsulCHVuSJEnS7zKRK0mStEwlCfDmtvmuqrpmgU9xMnApcH/guAU+tiRJkqSeVNVSX4MkSdLvSLIRsNuEJucCOwBXAAdPaHdxVd22kNd2T5HkEOBTwO3ADlX16/VwjpcCfwtcDTygqtYu9DkkSZIkmciVJEn3UEkuA3YGLq+qNUt7NdMpyZeA/YCzq+oZ6+kc29Il0zcEjqmq962P80iSJEkrnVMrSJIkLUNJdqNL4gJ8bH2dp43yPa9tHr2+ziNJkiStdCZyJUnSspbkgN7Dzw4YUf+hVndZ294+yduS/DDJzUl+nuS0JL8/1G9Nkne1dmuT/CrJyUkeNMvr2jPJSUkuSnJDO9clSd6fZI8FeOmHteXtwP+a4Vq2T/KmJBckuS7JbUmuTHJhkk8leVEbeTvOJ9ty7yQPXoBrlyRJkjRkw6W+AEmSpGnREqjnANv3dq8GngM8I8nBVfWVJAcBZwBb9NrdGzgCeFqS/arqwjHnWAW8E3gpkKHqB7XywiSvq6o33I2Xc2Bbfq+qbhrXKMk+wFnAlkNV27bycOCQdq0njTnM13vrT6ObM1eSJEnSAnJEriRJUmcT4ExgY+CvgH2AxwGvB37b6j/aRpyeCdwA/Flrsy9dcraArYAPTDjP+4Dj6BKj5wP/ETgIeDTw/LYvwAlJjp3PC2kPints2/zGhHYbA6fSJXFvBN4OPL1dy+PoRvW+A/jxDKe8CLi+rT9hPtcsSZIkaTJH5EqSJHW2pUug7l1Vl/b2n5/kKuDdwBrga8CvgH3a/LADX01yO/BK4LFJHlVV3+6fIMkfAi9om39aVcMjV/9vklOAjwKHA/8tySlVde0cX8uj6EYSA3xrQrt9gR3b+hFV9U9D9ecDpyX5c353xO7/V1WV5NvAAcBec7xWSZIkSbPgiFxJkqR1XjOUxB34R+CWtr4tcNxQEnfgPb31/UbU/1Vbnj0iiQtAVd0BHAvcCmwOHDqbCx/ye731X01o159C4ovjGlVnpmTylW35gCQOFpAkSZIWmIlcSZKkTgGnjayoWgv8qG1eC3xmTLuf0E25ALBLvy7JDnRTFgCcPvFCuqTp99vm42e68BH6Dya7ZkK7K3rrLxjbanYG51k1dH5JkiRJC8BEriRJUueqqpqU9LyuLS+pqppFu82H9j+mt/7BJDWpsG6Kgu2Zu21GXM8oXwUuaesnJvlmklcn2S/Jved4zv7PbtM59pUkSZI0AxO5kiRJnZtnqL9zju1WDe3fbs5X1NlkHn36ieaxCdmqug14FutG/z4aeCPwJeC6JJ9PcnR7KNpMVvfWb5vj9UqSJEmagfOXSZIkLY5+YvcoJj+ErO+meZzrut761pMaVtVFSfYAngY8G9gf2A24F3BgK69M8oyqumT8ke5ynuvGNZIkSZI0PyZyJUmSFsdVvfVU1ffHtrz7Lu+tbzVT46q6E/jnVkiyHfBk4EV0D23bFTiVddM9jDI4zw1Vdf08rlmSJEnSBE6tIEmStDi+3Vt/6no+14W99V3n2rmqrqyqk4EnAOe23XsmefCEbru15fpMUEuSJEkrlolcSZKkRVBVl7IuyfnvZ0iK3t1zXQ78qm0+ZlLbGY5TwOd7u+47ql2SLViXMD5/vueTJEmSNJ6JXEmSpMVzQltuBJyZZIdxDZOsSnJkkt+b57nOa8u9J5xjvyQPmVC/AfDEtlnAZWOa7g2krX9mbpcpSZIkaTacI1eSJGmRVNXpSd4LHAPsDlzYtj9PN4J2NbAGeDxwKHB/4BHAz+ZxujOA/wBsl2T3MXPyPhF4TZKvAGcD3wWupHvQ2S7An9A97AzgzKr65ZhzPaktrwe+MI9rlSRJkjQDE7mSJEmL68V0Sdu/BLYE/ksro/wWuGWe5/ln4Bpga+DIdr5RNgD2b2WcLwJHj6pIEuC5bfO0qprv9UqSJEmawKkVJEmSFlFV3VlVr6WbU/YtwAXA1cDtwI3AxcDpwIuAHavqknme57fA+9vm4S3hOuytwNOBdwBfBy6nSxzfCvwUOBM4DDiwqq4dc6r9gJ3a+t/N51olSZIkzSzdMywkSZK03CTZEbiUbqqEp1TVeTN0mc85Pgw8Hzivqp6y0MeXJEmS1HFEriRJ0jJVVT8H/qFtvnahj59kF+CI9XV8SZIkSeuYyJUkSVreTgCuBfZN8qSZGs/Rq+meuXBqVf2fBT62JEmSpB4fdiZJkrSMVdXVSY4AHgfcZ6GOm2QV8GPgv7JuLl5JkiRJ64lz5EqSJEmSJEnSlHNqBUmSJEmSJEmaciZyJUmSJEmSJGnKmciVJEmSJEmSpClnIleSJEmSJEmSppyJXEmSJEmSJEmaciZyJUmSJEmSJGnKmciVJEmSJEmSpClnIleSJEmSJEmSppyJXEmSJEmSJEmaciZyJUmSJEmSJGnKmciVJEmSJEmSpClnIleSJEmSJEmSppyJXEmSJEmSJEmaciZyJUmSJEmSJGnK/SsyyN+aAiTspQAAAABJRU5ErkJggg==\n",
          "text/plain": "<Figure size 720x360 with 1 Axes>"
         },
         "metadata": {
          "image/png": {
           "height": 341,
           "width": 697
          },
          "needs_background": "light"
         },
         "output_type": "display_data"
        }
       ]
      }
     },
     "e2145305fe004c5a8c5991aa8d6d9d70": {
      "model_module": "@jupyter-widgets/controls",
      "model_module_version": "1.5.0",
      "model_name": "SliderStyleModel",
      "state": {
       "description_width": "initial"
      }
     },
     "e25a92b52cb449dd9766e08831f489ff": {
      "model_module": "@jupyter-widgets/controls",
      "model_module_version": "1.5.0",
      "model_name": "SliderStyleModel",
      "state": {
       "description_width": "initial"
      }
     },
     "e3bde1599d024acbad64ccdbe22646d4": {
      "model_module": "@jupyter-widgets/controls",
      "model_module_version": "1.5.0",
      "model_name": "FloatSliderModel",
      "state": {
       "continuous_update": false,
       "description": "Capacitance",
       "layout": "IPY_MODEL_1d93ef549c734aa7a224873105b872a4",
       "max": 1,
       "min": 0.001,
       "readout_format": ".3f",
       "step": 0.001,
       "style": "IPY_MODEL_1da93c6c21a14721a640d7e990a2a77a",
       "value": 0.608
      }
     },
     "e5336feb31af4f729ee3f7cf65fe8f43": {
      "model_module": "@jupyter-widgets/base",
      "model_module_version": "1.2.0",
      "model_name": "LayoutModel",
      "state": {
       "width": "600px"
      }
     },
     "e7d874fd966449e0bbfe882018389ed5": {
      "model_module": "@jupyter-widgets/controls",
      "model_module_version": "1.5.0",
      "model_name": "SliderStyleModel",
      "state": {
       "description_width": "initial"
      }
     },
     "e877538e7a0f4da2b9556bb0322fe4ad": {
      "model_module": "@jupyter-widgets/controls",
      "model_module_version": "1.5.0",
      "model_name": "FloatSliderModel",
      "state": {
       "continuous_update": false,
       "description": "Equilibrium_Potential",
       "layout": "IPY_MODEL_1d93ef549c734aa7a224873105b872a4",
       "max": -30,
       "min": -90,
       "step": 0.2,
       "style": "IPY_MODEL_eb04ed3f559045c0bb8889bfa8b21e0f",
       "value": -75
      }
     },
     "e9298b27ecf3408da91d3c6f62445fec": {
      "model_module": "@jupyter-widgets/controls",
      "model_module_version": "1.5.0",
      "model_name": "SliderStyleModel",
      "state": {
       "description_width": "initial"
      }
     },
     "e9a458a51a7c48f2a9e35b81db852ec2": {
      "model_module": "@jupyter-widgets/controls",
      "model_module_version": "1.5.0",
      "model_name": "SliderStyleModel",
      "state": {
       "description_width": "initial"
      }
     },
     "e9db3ef45915498ca45c193176b8bdb1": {
      "model_module": "@jupyter-widgets/controls",
      "model_module_version": "1.5.0",
      "model_name": "SliderStyleModel",
      "state": {
       "description_width": ""
      }
     },
     "ea1bb70443d64691934e0746bd786660": {
      "model_module": "@jupyter-widgets/controls",
      "model_module_version": "1.5.0",
      "model_name": "SliderStyleModel",
      "state": {
       "description_width": "initial"
      }
     },
     "eaa3186f39d14ef2a8e304958c356b2b": {
      "model_module": "@jupyter-widgets/controls",
      "model_module_version": "1.5.0",
      "model_name": "SliderStyleModel",
      "state": {
       "description_width": "initial"
      }
     },
     "ead9a2644f334c9dbc28988701c923e5": {
      "model_module": "@jupyter-widgets/base",
      "model_module_version": "1.2.0",
      "model_name": "LayoutModel",
      "state": {}
     },
     "eae66122a4934f15b72e18efdf240009": {
      "model_module": "@jupyter-widgets/controls",
      "model_module_version": "1.5.0",
      "model_name": "VBoxModel",
      "state": {
       "_dom_classes": [
        "widget-interact"
       ],
       "children": [
        "IPY_MODEL_c795c336dd204b6aa375214976d34e5b",
        "IPY_MODEL_a32c235a3a6f478a98764961c9ccf429",
        "IPY_MODEL_06016f748c1c463ab5c05ccc1811659e",
        "IPY_MODEL_b7653cfc1f524f9693b2cbca2648faf6",
        "IPY_MODEL_ef620a337bc04e02ab6f741e985274bb",
        "IPY_MODEL_a0d81eec11274dc7a2d8e04d73c10719",
        "IPY_MODEL_1d8157b1ae614599b1a1ff189a200e6c"
       ],
       "layout": "IPY_MODEL_859120a7311d4cdcaa6bf63c36fb9fc4"
      }
     },
     "eb04ed3f559045c0bb8889bfa8b21e0f": {
      "model_module": "@jupyter-widgets/controls",
      "model_module_version": "1.5.0",
      "model_name": "SliderStyleModel",
      "state": {
       "description_width": "initial"
      }
     },
     "eb98d189ca5a4d47a6b64902a9049b39": {
      "model_module": "@jupyter-widgets/controls",
      "model_module_version": "1.5.0",
      "model_name": "VBoxModel",
      "state": {
       "_dom_classes": [
        "widget-interact"
       ],
       "children": [
        "IPY_MODEL_540f640f596848b7b30da2aa6eb74dc7",
        "IPY_MODEL_0f3f04b7da934d1bb4fb659cfff76d19",
        "IPY_MODEL_03c76709c406486b93c0a5c7dfd527d4",
        "IPY_MODEL_cc327b6547cf4454a26ae757d85e11f5",
        "IPY_MODEL_eecb72655c15410f8dc02f7f1d548647",
        "IPY_MODEL_1cbf6e5af0424403948e31407f8efd89",
        "IPY_MODEL_1b88db30d8214dd2aa19f62ebe16797a"
       ],
       "layout": "IPY_MODEL_f5932d2bd4c246e4b39a402d7dc71237"
      }
     },
     "ed33188f95c24b4c857b8817428f92bf": {
      "model_module": "@jupyter-widgets/controls",
      "model_module_version": "1.5.0",
      "model_name": "SliderStyleModel",
      "state": {
       "description_width": "initial"
      }
     },
     "ed4ad8579a7b41b183bcc4576141e1d4": {
      "model_module": "@jupyter-widgets/base",
      "model_module_version": "1.2.0",
      "model_name": "LayoutModel",
      "state": {
       "width": "600px"
      }
     },
     "ed76bdf0f656427893d2cf18c9943fb8": {
      "model_module": "@jupyter-widgets/output",
      "model_module_version": "1.0.0",
      "model_name": "OutputModel",
      "state": {
       "layout": "IPY_MODEL_7e41e5e65e0f4b98a93a414eecc03e08",
       "outputs": [
        {
         "data": {
          "image/png": "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\n",
          "text/plain": "<Figure size 720x360 with 1 Axes>"
         },
         "metadata": {
          "image/png": {
           "height": 341,
           "width": 697
          },
          "needs_background": "light"
         },
         "output_type": "display_data"
        }
       ]
      }
     },
     "ede55ccfb20e434783543408028bf844": {
      "model_module": "@jupyter-widgets/controls",
      "model_module_version": "1.5.0",
      "model_name": "SliderStyleModel",
      "state": {
       "description_width": "initial"
      }
     },
     "eea5cbac148f46cb8cc53c80131f9e93": {
      "model_module": "@jupyter-widgets/controls",
      "model_module_version": "1.5.0",
      "model_name": "FloatSliderModel",
      "state": {
       "description": "Current_Step_Duration",
       "layout": "IPY_MODEL_1d93ef549c734aa7a224873105b872a4",
       "max": 5,
       "min": 0.01,
       "step": 0.01,
       "style": "IPY_MODEL_e9a458a51a7c48f2a9e35b81db852ec2",
       "value": 1.01
      }
     },
     "eecb72655c15410f8dc02f7f1d548647": {
      "model_module": "@jupyter-widgets/controls",
      "model_module_version": "1.5.0",
      "model_name": "FloatSliderModel",
      "state": {
       "description": "Capacitance",
       "layout": "IPY_MODEL_1d93ef549c734aa7a224873105b872a4",
       "max": 1,
       "min": 0.001,
       "readout_format": ".3f",
       "step": 0.001,
       "style": "IPY_MODEL_8a47563233d74d6d8c18041f98be4f30",
       "value": 0.2
      }
     },
     "ef620a337bc04e02ab6f741e985274bb": {
      "model_module": "@jupyter-widgets/controls",
      "model_module_version": "1.5.0",
      "model_name": "FloatSliderModel",
      "state": {
       "continuous_update": false,
       "description": "AHP_Voltage",
       "layout": "IPY_MODEL_1d93ef549c734aa7a224873105b872a4",
       "max": -30,
       "min": -100,
       "style": "IPY_MODEL_102f73e4b76649a1b96770bb3a42954b",
       "value": -70
      }
     },
     "f3710e5d4bad4093925691c2b32521fe": {
      "model_module": "@jupyter-widgets/controls",
      "model_module_version": "1.5.0",
      "model_name": "SliderStyleModel",
      "state": {
       "description_width": "initial"
      }
     },
     "f5932d2bd4c246e4b39a402d7dc71237": {
      "model_module": "@jupyter-widgets/base",
      "model_module_version": "1.2.0",
      "model_name": "LayoutModel",
      "state": {}
     },
     "f6279a3bb8304e59876a732662c8dff8": {
      "model_module": "@jupyter-widgets/output",
      "model_module_version": "1.0.0",
      "model_name": "OutputModel",
      "state": {
       "layout": "IPY_MODEL_73684dab389944f584c5d23ed5cec152",
       "outputs": [
        {
         "data": {
          "image/png": "iVBORw0KGgoAAAANSUhEUgAABXwAAAIcCAYAAABFImaPAAAAOXRFWHRTb2Z0d2FyZQBNYXRwbG90bGliIHZlcnNpb24zLjUuMSwgaHR0cHM6Ly9tYXRwbG90bGliLm9yZy/YYfK9AAAACXBIWXMAABYlAAAWJQFJUiTwAABT7ElEQVR4nO3deZiseVkf7s9zejn7mZVZhRn2XYUBREVEEZFE3CISIQIqwS0aY+LPGBWN+5pgJMZoFBE3JBjcAUVAQAXZZdgGhhkYhtm3s3f36e/vj6rT/faZ7j59+lR1VXff93XVVe9b9dZbT5+Z6ur69NPPt1prAQAAAABg89sx6gIAAAAAABgMgS8AAAAAwBYh8AUAAAAA2CIEvgAAAAAAW4TAFwAAAABgixD4AgAAAABsEQJfAAAAAIAtQuALAAAAALBFCHwBAAAAALYIgS8AAAAAwBYh8AUAAAAA2CIEvgAAAAAAW4TAd4xU1e9V1e+Nug4AAAAAYHOaHHUBLPGwxz72sY9N8pxRFwIAAAAAjFSt50E6fAEAAAAAtgiBLwAAAADAFiHwBQAAAADYIgS+AAAAAABbhMAXAAAAAGCLEPgCAAAAAGwRAl8AAAAAgC1C4AsAAAAAsEUIfAEAAAAAtgiBLwAAAADAFiHwBQAAAADYIrZs4FtVe6rqGVX1w1X1x1V1fVW1/uWH13iOi6vql6rqI1V1tKruqKq3VNW3VlUN+2sAAAAAADgTk6MuYIiekOQv1/vgqroqyeuSXNC/6VCS/Ume1L88q6q+qrU2c7aFAgAAAAAMwpbt8O27M8kbkvxCkm9MctNaHlRV5yT58/TC3g8leVxrbX+SvUm+K8lMkqcnecngSwYAAAAAWJ+t3OH7ltba+d0bqupn1/jY709ySZIjSf5Fa+26JOl38/5qVe1P8rNJXlRVv9xa+8jgygYAAAAAWJ8t2+HbWjtxFg//pv71H54Me0/x0vRGPEwkee5ZPA8AAAAAwMBs2cB3varqoUnu19997XLHtNYOJ3lLf/dpG1EXAAAAAMDpbOWRDuv1qM72B1Y57gNJnpHkEcMtB9gIrbUcm53PkZm5HJubz9yJ+cyeaJmbn8/ciZbZk/sn5jM737ueb73HzbckaWktvdsWtluS3nVrWbitf/ji9rrqXcdj1vls63mu3vMBAABsHeftmcqXPfzi7JqaGHUpsCqB771d1tn+9CrHnbzvQFXta60dWu2kVfWuNTz3w9ZwDLAGR2dO5IY7j+RTdx7Jp+86ljsOzeSOw8dz++GZ3HF4Jncemc2RmbkcmTmRI8fncmT2xLqDTQAAALaHZ37OZfmVb3zMqMuAVQl8721/Z/vIKsd179uf3kxfYIO11vLxWw/n/TfclQ/eeE8+dNM9+chNh3LboeOjLg0AAIAt5h+vvX3UJcBpCXw3SGvtqtMd0+8CfuwGlAOb2sFjs3nDh27Jmz5yS/7+47fnloODCXenJ3dk7/REdk5OZGqyMrVjRyYnKpM7dmRqojI50buemtiRyR2VHVWpqlQllfT3079UKr3rHZ37U0mlf1t/u2p99a7vcet7snXXuL6HAQAAjI2Zufm86l03LGzDuBP43tvBzvaeJPescNyeFR4DDEFrLX93zW35g7d/Mn/7kVtO+yY7uaNy2bm7c9/zd+fyc3fnPvt35vy9O3P+3qne9Z7p7N05kb07J7N7eiJ7piYyOWEdSwAAAJY6fHxO4MumIvC9txs725dn5cD38v71wdPN7wXW78R8yx+/+4b877+7Nh+7ZfmX2v5dk3nClefnkZefk0dceiAPv3R/Lj93twAXAACAszY9ufjZcvaEwJfxJ/C9tw90th+V5EMrHPeo/vXVwy0Htq+/++it+am/+FA+cvO9m+gfcemB/MvPvjRPfvB98ojLDmRih+EBAAAADN7kjt4ovtaSufmW+fmWHT6DMsYEvvf20SSfSnLfJF+R5FWnHlBVe5N8UX/3bzauNNge7jk2m5/4sw8u/MnMSft2TuYbHnffPOfz7pcHXbRvRNUBAACwnVRVpid25Hh/nMPMifns2jEx4qpgZQLfU7TWWlW9Isl/SfKvq+onWmvXnXLYdyXZl2Q+ye9tcImwpX3wxnvyole8MzfceXThtj3TE/m2Jz8w3/KkK7N/19QIqwMAAGA7mp5cDHyPz81n15TAl/G1pQPfqjovSfcVeHLoyp6qurBz+7FT5vD+QpJvTXJxkr+oque11t5VVdP923+if9xvtNY+PKTyYdt5/dU35Xtf+d4cmTmxcNtXfvalefEzH5GL9u8aYWUAAABsZ9OdNWIs3Ma429KBb5L3JLlimdt/sH856eVJXnByp7V2V1U9M8lrkzwiyTur6mCSXUlOthf+dZJ/P4SaYVv6k/d+Ov/hle/NfOvt79s5mZ/9V4/OV372ZaMtDAAAgG3Pwm1sJls98F231to/VdUjk/xAkq9M8llJDqe3SNvLk/xma80rHAbgT99345Kw94oL9uT/PO9xefDF+0dbGAAAAGRp4KvDl3G3pQPf1tqVZ/n4m5L8h/4FGIJ3fOKO/Mc/Wgx7H3Lxvvz+v31iLty3c7SFAQAAQN+SkQ46fBlzO05/CMBwfOqOI/m2V7wzsyd6ae+DLxL2AgAAMH50+LKZCHyBkZg7MZ/v+cP35M4js0mSC/ZO57de8HhhLwAAAGNnqtPhe1zgy5gT+AIj8St/+7G855N3JUkmd1R+/XlX5b7n7xltUQAAALAMi7axmQh8gQ33wRvvya/87TUL+//haQ/JVVecP8KKAAAAYGU7jXRgExH4Ahtqfr7lxX/ygYVF2p5w5fn59i9+4GiLAgAAgFUsWbRN4MuYE/gCG+qP3/PpvPP6O5MkUxOVn/66R2diR424KgAAAFjZkkXbjHRgzAl8gQ1zbPZEfuF1H17Y/9YnPSAPumjfCCsCAACA05vS4csmIvAFNswfvOOTufme40mS++zfme/+0geNuCIAAAA4PR2+bCYCX2BDHJ05kV9908cX9r/rKQ/M3p2TI6wIAAAA1mbaom1sIgJfYEO86l2fyq0He929lxzYlX/9hPuNuCIAAABYG4u2sZkIfIGhm59vednbrlvY//YvfkB2TU2MriAAAAA4AzuNdGATEfgCQ/fmj96aT9x2OEmyf9dknvW4+464IgAAAFg7i7axmQh8gaH7rbd9YmH72Y+7r9m9AAAAbCrdGb6zOnwZcwJfYKhuuPNI3nLNbUmSquT5X3DlaAsCAACAM2TRNjYTgS8wVK95z6cXtr/owffJfc/fM8JqAAAA4Mx1F207LvBlzAl8gaFpreXV714MfP/VYy8fYTUAAACwPtMWbWMTEfgCQ/OeT921sFjbvp2T+fJHXDLiigAAAODMTVu0jU1E4AsMzZ++98aF7X/x6Euye3pihNUAAADA+li0jc1E4AsMRWstr7/6poX9Z37OZSOsBgAAANbPom1sJgJfYCiuvvGe3Hj3sSTJ/l2TeeIDLhhxRQAAALA+RjqwmQh8gaHodvc+9WEXZWrCtxsAAAA2J4u2sZlIYICheP0Hb17YfvojLdYGAADA5tVtYjquw5cxJ/AFBu6GO4/kwzcdTNL7LeiTH3KfEVcEAAAA62eGL5uJwBcYuLdec9vC9ufd//zs3Tk5wmoAAADg7OzsBL6zRjow5gS+wMC99WOLge8XPfjCEVYCAAAAZ0+HL5uJwBcYqPn5lr//+O0L+096kHEOAAAAbG7TExZtY/MQ+AID9cHP3JM7Ds8kSS7YO52HXbJ/xBUBAADA2ZnS4csmIvAFBuptnXEOX/CgC7NjR42wGgAAADh7Szp8Bb6MOYEvMFD/cG13nMMFI6wEAAAABmPJDF8jHRhzAl9gYObnW959/Z0L+593f4EvAAAAm99OIx3YRAS+wMB8/NZDuefYXJLe/N4rLtgz4ooAAADg7E2dsmhba22E1cDqBL7AwLyr09372CvOS5X5vQAAAGx+EzsqE/01alpL5uYFvowvgS8wMN3A93FXnDfCSgAAAGCwLNzGZiHwBQamG/heJfAFAABgC+ku3DZr4TbGmMAXGIg7Ds/k2tsOJ+n91vNRl58z4ooAAABgcKYt3MYmIfAFBuJ9N9y1sP3Iyw9k19TE6IoBAACAAeuOdDgu8GWMCXyBgbj603cvbH+27l4AAAC2mCUdvkY6MMYEvsBAfODT9yxsP/IygS8AAABbi0Xb2CwEvsBAXP2ZxQ7fR15+YISVAAAAwOBZtI3NQuALnLW7j8zmU3ccTdL7jeeDL9o/4ooAAABgsCzaxmYh8AXOWre79yGX7FvyJggAAABbgZEObBZSGeCsXd2Z3/so83sBAADYgqY6zU3HjXRgjAl8gbP2gRs783svM78XAACArUeHL5uFwBc4ax/6zGKH7yN0+AIAALAF7bRoG5uEwBc4K7Mn5vOJ2w4v7D/0Egu2AQAAsPV016s5PivwZXwJfIGzcv3tRzJ7oiVJLjtnV/btnBxxRQAAADB43Q7fGR2+jDGBL3BWPnbLwYXtB12suxcAAICtaeeSDt8TI6wEVifwBc7KNTcfWth+8EX7RlgJAAAADM/OqYmF7eMWbWOMCXyBs3LNLQJfAAAAtr4lHb4CX8aYwBc4Kx+9eXGkw4MvFvgCAACwNS0NfI10YHwJfIF1mzsxn2tvO7yw/6CLzPAFAABga9o52RnpMKvDl/El8AXW7VN3Hs1M/89YLj6wM+fsnhpxRQAAADAcO6eMdGBzEPgC63ZNd5yD7l4AAAC2MCMd2CwEvsC6XXf74jiHB9xn7wgrAQAAgOFaMtJBhy9jTOALrNt1tx9Z2L7yAoEvAAAAW9eSDl8zfBljAl9g3a7vdPheeeGeEVYCAAAAwzVtpAObhMAXWLfrblvs8L1Chy8AAABbWHekw8wJHb6ML4EvsC7H507kxruPJkmqks86b/eIKwIAAIDh2TllpAObg8AXWJdP3XE0rfW2Lztn95LfdAIAAMBWs2SGr0XbGGMC39OoqqdX1auq6pNVdayqjlbVtVX1+1X1JaOuD0bF/F4AAAC2k26jkxm+jLPJURcwrqqqkvx6khd2bj6WpCW5f//yjVX1K6217xlBiTBS191ufi8AAADbhw5fNgsdviv7liyGvf83yUNaa7tba3uSPDTJH/fv++6q+vpRFAijtKTD9wIdvgAAAGxtZviyWQh8V/Zv+tcfS/KNrbVrTt7RWvtokmcn+Wj/JoEv244OXwAAALYTIx3YLAS+K7u0f/2+1trcqXf2b3tvf1d7I9vO0g5fgS8AAABbm5EObBYC35Vd27/+nKq616zj/m2P6e++c8OqgjFwYr7l03ceXdi/7/m7R1gNAAAADJ/Al81C4LuyX+1fPyjJH1TVg07eUVUPSfLKJA9O8vEkL9nw6mCEbjl4LHPzLUly/t7p7Jm2/iMAAABb2+TEjkzsqCS9Rqi5E0JfxpPAdwWttT9P8t1JZtKb0XtNVR2pqiNJPpLkS9MLhZ/QWrtndJXCxut2915+ru5eAAAAtofpCV2+jD9teatorb20qj6W5OVJLkrSTbZ2Jtmf5ECSO053rqp61xqe8mHrqRM22qfvEvgCAACw/eyc2pGjs70F247PzWfvzhEXBMvQ4buCqtpTVX+Y5K+SfDLJlye5MMl9+ttXJ/mmJG+vqkeNrFAYgW7ge5nAFwAAgG1i6RzfEyOsBFamw3dlv5jk2Uk+muTJrbWjnfv+uqremuS9SR6S5H8m+eLVTtZau+p0T9jvAn7seguGjbJkpMN5Al8AAAC2h52TEwvbx2eNdGA86fBdRlXtT/Ki/u5LTwl7kyT9217a331yVV20UfXBqBnpAAAAwHa0tMNX4Mt4Evgu7yFJTv7K5uOrHHdNZ/v+wysHxsuNncD3s3T4AgAAsE3snFqM0mYEvowpge/yuq/YK1Y57uLO9sEh1QJjpbW2ZKSDGb4AAABsF0tGOpjhy5gS+C7vw0lOJlovrKp7zTquqoksjn24M8lHNqg2GKm7j87m8EzvTW331ETO2zM14ooAAABgYxjpwGYg8F1Gfz7v/+nvPjbJn1XVo6tqR//y2Un+MskX9I95SWvNr3XYFm44ZcG2qhphNQAAALBxlga+oiDG0706V1nwA0kenOQrOpfj/ft2do77gyQ/tbGlweh05/ca5wAAAMB2smSkw6wOX8aTDt8V9Lt8/0WSZyX5kyQ3JDnZyvipJK9O8pWttefo7mU7+czdxxa2Lz931wgrAQAAgI3VXbTNSAfGlQ7fVbTWWpL/278ASW66ZzHwveSADl8AAAC2DyMd2Ax0+AJn5OZO4HvxgZ2rHAkAAABby7RF29gEBL7AGbnlnuML2xcfMNIBAACA7cMMXzYDgS9wRm5a0uEr8AUAAGD7MNKBzUDgC5wRIx0AAADYrpZ0+BrpwJgS+AJrdmRmLgePzSVJpiYq5++dHnFFAAAAsHF2Tpnhy/gT+AJrdnNnfu9F+3elqkZYDQAAAGysJSMdZo10YDwJfIE1645zuOQc83sBAADYXox0YDMQ+AJrZn4vAAAA29nSRdsEvowngS+wZksDXx2+AAAAbC/dGb4zAl/GlMAXWLPuDF+BLwAAANvN0pEOZvgyngS+wJrd1J3hK/AFAABgmzHSgc1A4Aus2S2dwPciM3wBAADYZqa7ge+swJfxJPAF1sxIBwAAALazpR2+RjowngS+wJrddmgx8L3Pfh2+AAAAbC/dGb7HdPgypgS+wJocmZnLkZneby+nJ3dk/87JEVcEAAAAG2vX1GKUdkyHL2NK4AusyW0HZxa2L9w7naoaYTUAAACw8XZNdTt8Bb6MJ4EvsCa3HV4c53ChcQ4AAABsQ0sDXyMdGE8CX2BNbjvYCXz3CXwBAADYfpaMdNDhy5gS+AJrctuhzkiHfdMjrAQAAABGY1dn0bbjc/OZn28jrAaWJ/AF1uS2Q4sdvhfo8AUAAGAb2rGjMj25GKcdnzPWgfEj8AXW5PZDRjoAAADArkljHRhvAl9gTYx0AAAAgFMWbpsT+DJ+BL7Amtza6fC9jw5fAAAAtqklge+skQ6MH4EvsCZm+AIAAECye0ngq8OX8SPwBdbkdiMdAAAAILumFuO0owJfxpDAFzitmbn53H10NkkysaNy3h6BLwAAANvTTh2+jDmBL3Batx9eHOdw/t7p7NhRI6wGAAAARqc7w/e4Gb6MIYEvcFq3HVwc53DBXt29AAAAbF+7JhfjNB2+jCOBL3Bat3U6fO+z34JtAAAAbF+7pzsjHeYEvowfgS9wWnd0Fmw7X4cvAAAA29iuycXA9+iMkQ6MH4EvcFp3HlkMfC3YBgAAwHa2a8pIB8abwBc4rW7gq8MXAACA7ay7aJuRDowjgS9wWnccnl3YPm/P1AgrAQAAgNHa2Q18Z410YPwIfIHTuqs70kGHLwAAANvY7k7ge9xIB8aQwBc4rTsOm+ELAAAAydIZvkcFvowhgS9wWhZtAwAAgJ4lM3wFvowhgS9wWnce6czw3WuGLwAAANtXt8PXDF/GkcAXWFVrLXca6QAAAABJkl2TOnwZbwJfYFWHjs9lbr4l6Q2m7/7pCgAAAGw3u6Y7ge+cDl/Gj8AXWNWdhxfHOZy/V3cvAAAA29uSDt8ZHb6MH4EvsKrugm3n7jG/FwAAgO1tyQzfOYEv40fgC6zqjk7gq8MXAACA7a476tAMX8aRwBdYVXfBtnMt2AYAAMA2tzTwNcOX8SPwBVZ155HODF8jHQAAANjmduvwZcwJfIFV6fAFAACARd0ZvkcFvowhgS+wqjvN8AUAAIAF3ZEOx410YAwJfIFVdQPfc410AAAAYJvbObkYp82cmM+J+TbCauDeBL7Aqu44rMMXAAAATqqqJaHv8TljHRgvAl9gVXd1Fm07d7fAFwAAAHZPdxduM9aB8SLwBVZ1z9FO4GukAwAAAGTX5GLga+E2xo3AF1jV3Z3A98AugS8AAADsmlqM1I4JfBkzAl9gRbMn5nN4pvfGVZXs3zU54ooAAABg9HZNdUc6CHwZLwJfYEUHj80tbO/fOZkdO2qE1QAAAMB42Dllhi/jS+ALrKg7zuEc83sBAAAgSbK7M9LhuA5fxozAF1jRksB3t8AXAAAAkqUjHSzaxrgR+AIrEvgCAADAve2ZXgx8j8wIfBkvAl9gRd3A98AugS8AAAAkOnwZbwJfYEX36PAFAACAe+l2+B7V4cuYEfgCKzLSAQAAAO5tz/TkwraRDowbgS+wom6H7wGBLwAAACQx0oHxJvBdg6q6sKp+tKreWVV3VNXRqrq+ql5bVf+5qiRhbEk6fAEAAODelo50mBthJXBvk6c/ZHurqmcm+e0k5/dvmklyNMn9+penJ/m1JHeNoDwYqrt1+AIAAMC9dANfIx0YNzp8V1FVT0/y6vTC3v+X5HFJdrXWzk2yL8mTkvy3JLMrnQM2s3uO6fAFAACAUxnpwDjT4buCqjovycuSTCX5jdbai7r3t9YOJ3lb/wJbkpEOAAAAcG9LRzoIfBkvOnxX9qIklya5Lcn3jrYUGA2BLwAAANybkQ6MM4Hvyp7Xv/7D1tqRkVYCI3L3EYEvAAAAnGr31OIfzevwZdwIfJdRVecneXh/981V9eiq+v2q+kxVHa+qG6rqlVX1haOsE4Zpfr7l4PHFlUYP7DIBBgAAAJJk97QZvowvge/yHpyk+tufneSdSb4xyblJjia5PMk3JHlLVf3IKAqEYTt4fC6t9bb3Tk9kcsK3CwAAAEhOHekwt8qRsPG07C3vvM72Dye5JckLk/xVa+1EVT00yf9M8tQkP15VV7fW/ni1E1bVu9bwvA9bb8EwaPeY3wsAAADL2j1l0TbGl5a95XX/XSrJc1trf95aO5EkrbWPJPnqJDf2j3nxBtcHQ9ddsO2AwBcAAAAWGOnAONPhu7yDne33ttbecOoBrbXDVfWrSX4yyedU1SWttZtWOmFr7arTPWm/C/ix6ykYBu0egS8AAAAsa+lIB4Ev40WH7/I+3dn+0CrHde+735BqgZG451h3wTaBLwAAAJy0a3Ix8D0+N58T822E1cBSAt/lfSLJof72aq/Y6mx7ZbOlHDq+GPju3+WPAQAAAOCkHTsqu6YWY7VjxjowRgS+y2ittSR/0999xCqHPvzkQ5JcN8yaYKMdPLY40kHgCwAAAEvtmV78rGysA+NE4Luyl/WvP7eqvuzUO6tqT5Lv6O++o7V264ZVBhvgUGekw76dAl8AAADo2j3VWbhN4MsYEfiuoLX2p0n+tr/7iqr6yqqaSJKqemiSP0lyWZL5JD80mipheA4uGelghi8AAAB07e4u3DY7t8qRsLG07a3uG9Ib7fC5Sf4sybGqOpbk3P79c0m+u7X2hpFUB0N0sNvha6QDAAAALLFnWocv40mH7ypaa7cneUKS703y9iTHk+xJb17vy5I8trX2a6OqD4ZpyaJtRjoAAADAEkY6MK6kOKfRWptN8sv9C2wbFm0DAACAlXU7fC3axjjR4Qssy6JtAAAAsLLuDN+jswJfxofAF1hWd4avRdsAAABgqd1Ti81RRjowTgS+wLKWzPA10gEAAACWWDrSYW6VI2FjCXyBZd1jhi8AAACsaOlIh/kRVgJLCXyBe2mtLenw3WuGLwAAACyxe6oT+OrwZYwIfIF7OTxzIq31tndPTWRqwrcKAAAA6Fo60sEMX8aHFAe4l0OdBdv2GecAAAAA99Id6XBkVuDL+BD4Avdy0PxeAAAAWFV3pMMxHb6MkYEEvlX19VU1NYhzAaN3sDO/d7/5vQAAAHAve6YXPy8b6cA4GVSH7x8l+UxV/XJVPWZA5wRGpDvSYf8uv8sBAACAU+0x0oExNciRDucl+XdJ3llV762q76mqCwZ4fmCDHOzO8NXhCwAAAPfSneF7dGZulSNhYw0q8H1j/7r6l0cn+e9JPl1Vr66qr6wq84Jhkzh03AxfAAAAWM3ezkiHw8d1+DI+BhLCttaemuTKJD+a5GNZDH6nk3xNkj9JckNV/VxVPXwQzwkMz5IOX4EvAAAA3MuenZ2RDjp8GSMD67ptrX2qtfYTrbWHJHlykpclOZjF8PfiJP8pyQeq6h+q6t9W1YFBPT8wON3A16JtAAAAcG/dEYiHdPgyRoYyZqG19tbW2rcmuSTJ83PvkQ9PSPJr6S309oqqeuow6gDW56BF2wAAAGBVSxZt0+HLGBnqXN3W2tHW2iv6Ix/un+THknw8i8Hv7iTPSfL6qrquqn6squ4/zJqA0+vO8DXSAQAAAO5tT2eG75GZE5mfbyOsBhZt2EJqrbVPttZ+vLX24CRfnOS3s3Tkw32T/EiSj1XVG6vqmzaqNmCppR2+Al8AAAA41cSOyu6pTpfvrLEOjIcNC3y7Wmtvaa19S5JLk3xzkjf37zoZ/p4MhIEROHS8s2ibGb4AAACwrL2dz8yHjxvrwHgYSeB7UmvtSGvt5a21L0nypUk+k0T/O4zYYYEvAAAAnNbenYsdvgJfxsVIk5yq2p3k69Nb2O0p6XX3AiN2uLO6aHcmEQAAALDo1Dm+MA5GkuRU1ZPTC3m/Psm+kzf3r1uSNyZ52QhKA5IcntHhCwAAAKezr9Phe0iHL2Niw5KcqroyyfP6l/ufvLlzyHVJXp7kt1tr129UXcC9df8MZU/nzQsAAABYtLTDV+DLeBhq4FtVe5I8K8kLknxRFgPek9dHk7w6yctaa28cZi3A2h3u/BmKDl8AAABYXvcz86HjRjowHoaS5FTVU9ILeb8uyd6TN3cO+Yf0Rja8srV2cBg1AOsze2I+M3PzSZIdleycHOnajgAAADC29kwv/lXsESMdGBMDC3yr6gHpzeV9XpL7nby5c8hnkrwivW7ejwzqeYHBOtL5jeTe6clUWUsRAAAAlrN3SYevwJfxMJDAt6renORJ3Zv61zNJ/iy9bt7XttbmB/F8wPB0F2zba5wDAAAArGhvZ92bIzNGOjAeBpXmfFGSlsWg973phby/11q7Y0DPAWwAC7YBAADA2nQbpQ7r8GVMDLJ9744kv5feyIb3DfC8wAayYBsAAACszd7pTuA7I/BlPAwqzXlWkj9trc0O6HzAiCzp8J3W4QsAAAAr6Xb4dtfEgVEaSODbWnv1IM4DjF438NXhCwAAACvb22mUsmgb42JD0pyqelySpyd5RJLzkuxaw8Naa+2pQy0MuJfun6DsmRb4AgAAwEqWdPhatI0xMdQ0p6oekOS3k3zhmT40vUXggA12uPMnKHst2gYAAAAr6n5u1uHLuBha4FtVFyd5a5KL0wtwgU2gO9Jhrw5fAAAAWNHSDl+BL+NhxxDP/eIkl/S3/znJc5NckWRXa23HGi5aC2EEDnf+BGWPGb4AAACwom6j1GGLtjEmhpnm/Mv0xjJ8IMkTW2tHh/hcwIAsXbTN710AAABgJXs6i7Yd1uHLmBhmh+/F/etfF/bC5nHEom0AAACwJktGOujwZUwMM/C9tX998xCfAxiwQ503qH1GOgAAAMCKdk7uyMSO3tJVMyfmMzM3P+KKYLiB7/v711cM8TmAATtyvNvha6QDAAAArKSqsrfz2dnCbYyDYQa+/ytJpbdYG7BJHFoyw1eHLwAAAKymO9ah+5kaRmVogW9r7S+S/HaSz62qX6mqYYbLwIAcmVkc6bBH4AsAAACrWjLHd8YcX0Zv2GnOi5IcTvKdSZ5UVb+e5B1Jbk9y2qEmrbVPDrc84FTdVUX3GukAAAAAq+p+dtbhyzgYauDbWpurqpck+fwkj03y0jN5eIYfSAOnONx5c9qrwxcAAABWtW9XZ6TDMYEvozfUMQtV9YIkH0rymPQC3DrDC7DBjhxf/POTvdMCXwAAAFjN/p1TC9sHBb6MgaGlOVX1+Ul+M4vB7cEk70xyc5Ljw3peYP1aa0tGOuzZaaQDAAAArGZJh+/x2RFWAj3DbN/7wfTC3vkkP5Lkl1prM0N8PuAsHZudz3zrbU9P7sjUhLUWAQAAYDX7O4GvDl/GwTAD36vSG+PwB621nxni8wAD0h0uv8/8XgAAADit/TsFvoyXYbbvndu/fu0QnwMYoCPdcQ7TxjkAAADA6ezftTjDt9tIBaMyzMD30/3r+SE+BzBAhy3YBgAAAGdk35KRDmb4MnrDDHz/un991RCfAxigo7OLv4ncrcMXAAAATmv/kkXbdPgyesMMfF+S5FiSF1bV5UN8HmBAjswsdvga6QAAAACnt88MX8bM0ALf1to1Sb4pyc4kf1tVjx/WcwGDIfAFAACAM7N/l8CX8TK0IZ1V9eL+5uuTPDPJP1bVu5K8PcntWcNs39bajw+rPuDejnYC311TAl8AAAA4ne6ibWb4Mg6GuSrTjyVp/e2WpNKb53smM30FvrCBjs7q8AUAAIAz0R3pYIYv42CYgW/SC3lX219NO/0hwCAtHekw7G8PAAAAsPkZ6cC4GWai8yVDPDcwBEdnFt+YduvwBQAAgNPaOz2ZqqS1XiPVifmWiR1n0vMIgzW0wLe19uZhnRsYju5Ih91m+AIAAMBp7dhR2Tc9mYP9cQ6Hjs3lnD1Tp3kUDM+OURcAjI+lIx0EvgAAALAW+7pjHY5buI3REvgCC452Al8jHQAAAGBtzPFlnAh8gQVGOgAAAMCZ27dzMfA9dFzgy2gJfIEFRjoAAADAmdu/a3Fm78FjRjowWgLfM1BVv1ZVrX+5btT1wKAtHekwtDUdAQAAYEvZZ6QDY0Tgu0ZV9eQkLxp1HTBMR2YW35SMdAAAAIC12W+kA2NE4LsGVbU7yf9JMpfknSMuB4bm6Oz8wraRDgAAALA2Fm1jnAh81+a/Jnlwkl9McvWIa4GhOdrt8BX4AgAAwJrs27k4w/eQwJcRE/ieRlVdleT7knw8yY+PuBwYKou2AQAAwJlb2uFr0TZGS+C7iqqaSvKbSSaSfFtr7diIS4KhOjrbWbTNDF8AAABYkyWLtpnhy4gJfFf3n5N8TpLfaa29YdTFwLAd7XT4GukAAAAAa3OgE/jec1Tgy2hNnv6Q7amqHp7kh5LcluQ/DuB871rDYQ872+eB9ZqZm8/cfEuSTOyoTE/4fRAAAACsxYFdizN87zHSgRET+C6jqnakN8phZ5IXtdZuG3FJMHSnjnOoqhFWAwAAAJvHgd2dwPeowJfREvgu77uTfH6Sv2mt/c4gTthau+p0x/S7gB87iOeDM2WcAwAAAKzPOZ3A926BLyPmb7ZPUVVXJvmpJMeSfPtoq4GNc2RmccbQHoEvAAAArJkOX8aJDt97++9J9ib5ySQ3V9W+U+4/+W9WnfuOt9a8mtnUTh3pAAAAAKzN/p2TqUpaSw7PnMjsiflMWRuHEfF/3r3dv3/9w0kOLnN5bv/++3Vu+64NrhEGzkgHAAAAWJ8dO2rpwm26fBkhgS+QJDnSCXyNdAAAAIAzY44v48JIh1O01j53tfur6reTPD/J9a21KzegJNgQ3cB395RvDQAAAHAmBL6MCx2+QJLk2KyRDgAAALBeB3YvNk8JfBklgS+Q5JSRDhZtAwAAgDPS7fC959jcCCthuxP4AkmSIzOLb0Y6fAEAAODMGOnAuBD4nqHW2gtaa2V+L1uNkQ4AAACwfge6Hb4CX0ZI4AskMdIBAAAAzoYOX8aFwBdIsjTw1eELAAAAZ+bArk7ge0Tgy+gIfIEkRjoAAADA2Vi6aJvAl9ER+AJJThnpIPAFAACAM2KkA+NC4AskOaXD1wxfAAAAOCMCX8aFwBdIkhztBL47Bb4AAABwRgS+jAuBL5AkOT47v7C9a1LgCwAAAGfigMCXMSHwBZIkx+YWO3x3TfnWAAAAAGfiwK7Jhe2Dx+ZyYr6NsBq2M6kOkGTpDN9dRjoAAADAGZmc2JF9OxdD30PH5kZYDduZwBdIkhzrjHSwaBsAAACcue4c37uOzoywErYzgS+QZOmibTp8AQAA4MwtCXyPmOPLaAh8gSSnjnTwrQEAAADO1Pl7pxe27ziiw5fRkOoASZLjnZEOOnwBAADgzJ3XCXzvEvgyIgJfICfmW2ZOLAa+Oyd9awAAAIAzdd6exZEOdxw20oHRkOoAOT63dJxDVY2wGgAAANicztujw5fRE/gCOTpjwTYAAAA4W0s7fAW+jIbAF8ixuc783kmBLwAAAKzH0hm+RjowGgJfIMdml450AAAAAM7c+Z3AV4cvoyLZAU4JfHX4AgAAwHp0Z/jeaYYvIyLwBXJstjPSQeALAAAA69Id6SDwZVQEvoCRDgAAADAA3UXb7jwym9baCKthu5LsAEY6AAAAwADsnprIzsle3DYzN58jMydO8wgYPIEvsHSkw6TAFwAAANajqszxZeQEvoCRDgAAADAgS+b4Hp4dYSVsV5IdIMfmFgPf3dM6fAEAAGC9zt/bneOrw5eNJ/AFcrQzU2inkQ4AAACwbuca6cCICXyBHJ/rzPC1aBsAAACs2/ndwPewwJeNJ/AFzPAFAACAATlvz+JIhzuOmOHLxpPsAKcEvjp8AQAAYL2WLtqmw5eNJ/AFcmx2caTDboEvAAAArNv5ncD3DoEvIyDwBXLUSAcAAAAYiAv37VzYvvXQ8RFWwnYl2QGMdAAAAIAB6Qa+twt8GQGBL7BkpMPOSYEvAAAArNeF+xZHOtx2yEgHNp7AF8jxOSMdAAAAYBDO2zOdHdXbvvvobGbm5ld/AAyYZAdYMtLBom0AAACwfjt2VM7f2xnrcNhYBzaWwBc4ZdE2gS8AAACcje5Yh9uNdWCDCXyBJTN8Bb4AAABwdu6zf7HD91YLt7HBBL7AkpEOZvgCAADA2blw32Lge9tBgS8bS7ID6PAFAACAAbpg7+JIh9uMdGCDCXyBHDfDFwAAAAbmws5Ih9uNdGCDCXyBUxZt820BAAAAzsaSkQ4CXzaYZAe2ubkT85mbb0mSqmR6wrcFAAAAOBsX7jPSgdGR7MA2d2yuM793ciJVNcJqAAAAYPPT4csoCXxhmztmnAMAAAAM1NLAV4cvG0u6A9vcMQu2AQAAwEBd0BnpcMfh4znRH6UIG0HgC9vc8e5IB4EvAAAAnLWpiR05d89UkmS+JXcc1uXLxhH4wjZ3fHYx8N056VsCAAAADMLF+3ctbN98z7ERVsJ2I92BbW7mhMAXAAAABu2iA4tzfG85KPBl40h3YJs73pnhu3PSSAcAAAAYhEsOLHb43nT38RFWwnYj8IVtrjvDd+eUbwkAAAAwCBcfMNKB0ZDuwDbXDXynJ3xLAAAAgEG4uDPSQeDLRpLuwDZ3fK4z0kGHLwAAAAyEDl9GRboD29zx2e6ibWb4AgAAwCB0A9+b7jHDl40j8IVtbskM30nfEgAAAGAQuoHvLTp82UDSHdjmlox0EPgCAADAQFy4bzo7qrd9++GZJZ+/YZikO7DNLenwnTLSAQAAAAZhcmJHLty3uHDbrQeNdWBjCHxhm1s6w9e3BAAAABiUS86xcBsbT7oD25yRDgAAADAcF+3vBr46fNkY0h3Y5maWLNpmpAMAAAAMysUHFkc66PBlowh8YZtbOsPXtwQAAAAYlEsOLHb43nS3wJeNId1ZQVVdUFXfXFW/W1UfrKrDVXW8qm6oqtdU1deOukYYBCMdAAAAYDguPXf3wvan7zo6wkrYTiZHXcAYuylL/32OJZlNcnn/8tVV9VdJvr61dmQE9cFAHDfSAQAAAIbisnMXO3xvFPiyQbTzrWwyyTuSfGeSB7bWdrfW9iV5QJKX9Y95RpLfGFF9MBDHZ7uBr28JAAAAMCifde6ehW0dvmwU6c7KvrS19nmttf/VWrv25I2ttU+01r4lyf/p3/ScqrrfaEqEs7dkpIMZvgAAADAwl5yzK1W97VsOHl+ycDoMi3RnBa21N57mkG5n71XDrAWGyUgHAAAAGI7pyR25eH9vrENrFm5jYwh81687t1dKxqbVDXynjXQAAACAgerO8b3hLstAMXzSnfV7Smf7n0dVBJytJSMdBL4AAAAwUJef15nje6c5vgzf5KgL2Iyq6pwkP9jffUtr7SNreMy71nDqh51VYbAOSxdt06wOAAAAg3T5ubsXti3cxkbQzneGqmpHkt9JclmS40m+e7QVwdlZOsPXtwQAAAAYpMvPWwx8bxT4sgF0+J65X07yVf3t72ytvW8tD2qtnXZht34X8GPPojY4Y0tGOkwJfAEAAGCQLu/M8NXhy0aQ7pyBqvrFJP+uv/s9rbXfGmU9MAgzc0Y6AAAAwLBcfq4Zvmwsge8aVdXPJ/mP/d3/0Fr7lVHWA4NipAMAAAAMz9KRDscyP99GWA3bgXRnDarqF5J8f3/3+1prLxlhOTBQAl8AAAAYnn07J3PenqkkycyJ+dx88NiIK2Krk+6cRn+Mw3/q7/7H1tp/H2U9MEhzJ+Zzov+bxYkdlckJ3xIAAABg0K64YO/C9nW3HRlhJWwH0p1V9MPek2Mcvq+19t9GWQ8Mmu5eAAAAGL4rL1ic43v97YdHWAnbweSoCxhXVfVzWTqz9yUjLAeGQuALAAAAw7ekw/d2Hb4Ml4RnGVV1vyT/X393Psl/rqqbVrk8e4TlwrodnzuxsL1zcmKElQAAAMDWdeWFOnzZODp8l7fjlO2LT3P87tPcD2Pp+Gynw3fK738AAABgGHT4spEEvstorV2XpEZdBwybkQ4AAAAwfFd2At/rbz+c1lqqRE8Mh4QHtjEjHQAAAGD4ztszlf27en2XR2ZO5LZDMyOuiK1M4AvbWLfDd1qHLwAAAAxFVd2ryxeGRcID29iMkQ4AAACwIa64YHHhNnN8GSYJD2xjS0c6+HYAAAAAw9Lt8L3uNh2+DI+EB7ax47PdDl8zfAEAAGBYrrxwMfC99rZDI6yErU7gC9tYd4bvzinfDgAAAGBYHnzRvoXta24W+DI8Eh7Yxox0AAAAgI3xwE7g+4nbDi9ZVwcGScID29iSDl8jHQAAAGBo9u2czOXn7k6SzM23XH+7Ob4Mh8AXtrGlM3x9OwAAAIBhevDFnbEOtxjrwHBIeGAbWzLSwQxfAAAAGCpzfNkIEh7Yxox0AAAAgI3z4Iv2L2xfc8vBEVbCVibwhW1saeDr2wEAAAAM04M6Ix0+ZqQDQyLhgW3s+OziSIdpgS8AAAAM1YM6Ix2uvfVw5k7Mr3I0rI+EB7axmRNGOgAAAMBGObBrKpcc2JWk95n8utsPj7gitiKBL2xj3ZEOUxM1wkoAAABge3j4pYtzfK++8Z4RVsJWJfCFbWymE/ga6QAAAADD96jLz1nYFvgyDBIe2MZmT1i0DQAAADbSIy9bDHw/8Om7R1gJW5WEB7YxHb4AAACwsR552YGF7atvvCettRFWw1Yk4YFtrLto2/SERdsAAABg2D7rvN05Z/dUkuTuo7O54c6jI66IrUbgC9vYjEXbAAAAYENV1SldvsY6MFgCX9jGjHQAAACAjWfhNoZJwgPb2MyJxTlBAl8AAADYGN0O3/ffoMOXwZLwwDY2M3diYXunwBcAAAA2xOfe99yF7fd88s7Mz1u4jcGR8MA2ZtE2AAAA2Hj3O39PLtw3nSS559hcPnbroRFXxFYi8IVtbMmibZMWbQMAAICNUFW56orzFvbfdf2dI6yGrUbgC9vYkkXbJnw7AAAAgI3SDXzfeZ3Al8GR8MA2NmvRNgAAABiJbuD77k8KfBkcCQ9sY0s6fAW+AAAAsGEeedk5C39t+4nbDuf2Q8dHXBFbhYQHtqnW2imLtvl2AAAAABtl19REHnX5gYX9d3zijhFWw1Yi4YFtqhv2Tk1UqizaBgAAABvp8x94wcL2Wz922wgrYSsR+MI2ZcE2AAAAGK0vfNCFC9tvE/gyIFIe2KYs2AYAAACjddUV52XXVO8z+XW3H8mn7jgy4orYCqQ8sE1ZsA0AAABGa+fkRJ5w/8WxDrp8GQQpD2xTAl8AAAAYvSc9aDHwfYvAlwGQ8sA2NXPixML2lBm+AAAAMBJPetB9Frbf8tFbM9tZZB3WQ8oD29Rxi7YBAADAyD380v257JxdSZJ7js3lHZ+4Y8QVsdlJeWCb6i7attNIBwAAABiJqsqXP/KShf3XXX3TCKthK5DywDZlhi8AAACMhy9/xMUL26+/+ua01lY5GlYn5YFtSuALAAAA4+Hx9z8/5+yeSpLcdM+xvP+Gu0dcEZuZlAe2qe6ibWb4AgAAwOhMTezIUx920cL+n73vxhFWw2Yn5YFtqtvhOyXwBQAAgJH6qs+9bGH7Ne+9MXMn5lc5GlYm5YFtaqazaJuRDgAAADBaT3rQhbnP/p1JktsOHc9brrltxBWxWUl5YJsywxcAAADGx+TEjnztYy5f2H/1u28YYTVsZlIe2Ka6ge9OgS8AAACM3Nc9djHwff3VN+e2Q8dHWA2blZQHtqmZOYu2AQAAwDh52CUH8jn3PTdJMnNiPr//9k+OtiA2JSkPbFMzJyzaBgAAAOPmW77wyoXtV/zj9Uv+QhfWQsoD29SsRdsAAABg7DzjUZfmov7ibbcePJ4/f/+NI66IzUbKA9vUcYu2AQAAwNiZntyR533+FQv7L/3bj2XuhC5f1k7KA9vUjMAXAAAAxtI3PfHK7N81mSS59rbD+dP36fJl7aQ8sE0tCXzN8AUAAICxcc6eqbzwSQ9Y2P/lN1yT453F12E1Uh7YpmZOLL5R6PAFAACA8fLNT7oy5+yeSpJcf/uR/OZbPzHiitgspDywTc3OdRZt0+ELAAAAY+XArqn8+6c+eGH/V97wsdx419ERVsRmIeWBbWrmhBm+AAAAMM6e9/lX5GGX7E+SHJ09kR9+zQfSWjvNo9jupDywTVm0DQAAAMbb5MSO/PhXP2ph/28/fEt+9+2fHGFFbAZSHtimjlu0DQAAAMbeE+5/fr75C69c2P/JP/9gPnjjPaMriLEn5YFtqjvSYUqHLwAAAIytH/iKh+WhF/dGOxyfm88LX/5PueXgsRFXxbiS8sA2Ndvp8N2pwxcAAADG1q6pibz0OY/Jvp2TSZIb7z6WF778nbn76OyIK2McSXlgm7JoGwAAAGweD754f37lOY/Jjurtv/+Gu/O833y70Jd7kfLANmXRNgAAANhcvuShF+Unv+bRC/vvu+HufP3/+vt88vYjI6yKcSPlOY2q2l9VP1ZV/1xVh6rq7qr6p6r6vqqaHnV9sF4CXwAAANh8nvN598tPfe2jFvavueVQvup/vjVv+NDNI6yKcSLlWUVVXZHk/Ul+NMmjklSSnUkel+SXkvxjVZ03ugph/ZYs2maGLwAAAGwaz/28K/KSZ3/uQgPXXUdm860vf2e+/1Xvy52HZ0ZcHaMm5VlBVU0k+bMkVya5McnTWmt7k+xJ8uwk9yR5TJLfG1WNcDaWdPgKfAEAAGBT+ZrHXJ5XvuiJuWj/zoXbXvWuG/LkX3hjfu3NH8+RmbkRVscoSXlW9s1JHp2kJfm61trfJElrbb619kdJXtQ/7hlV9dQR1Qjr1u3w3WmkAwAAAGw6j7nfeXnd9z45X/nZly7cdvDYXH72rz6cJ/70G/Izf/WhXH/74RFWyChIeVb2/P71G1trb1/m/j9Kcu0px8KmYYYvAAAAbH7n7Z3OS5/z2Pz6N12VB1y4d+H2e47N5X+/+dp88S+8KV/10rfm19788Vx9492Zn28jrJaNMDnqAsZRVe1J8gX93dcud0xrrVXV65J8R5KnbVRtMCgCXwAAANg6vvyRl+RLHnZRXvlPn8pvvOXaXH/7kYX73n/D3Xn/DXfnZ/8qOXfPVB5/5fl55GUH8ohLD+Thlx7IZefuzsSOGmH1DJLAd3kPz2L38wdWOe7kfZdU1QWttduHWxYMjkXbAAAAYGuZmtiRf/PEK/KNT7hf3vjhW/KH//TJvPmjt2b2xGJX711HZvPXH7w5f/3BmzuPq1x27u7c97w9+azzdueCfdM5f+/OXLB3Ouftnc75e6azd+dE9kxPZs/OieyZmsikLGFsCXyXd1ln+9OrHNe979IkAt81+M23fiLX3npo1GVsay3Jif6fcFQlk36LBwAAAFvGxI7Klz3i4nzZIy7O3Udn8/qrb8rfXXNb/uHjt+W2QzP3On72RMv1tx9Z0hV8OtOTO7J3eiI7JycyOVGZmtiRyR2VyYkdmZ7oXU/u6N8+UdlRlV78UKlKdlRSC9uV9K8rWbitf/iS2yuVp/W/NpYn8F3e/s72av+nd+/bv+JRSarqXWt43oet4ZhN7w0fujl//3HZ+LiYntiRKoEvAAAAbEXn7J7Ksx533zzrcfdNay3X3HIo77/h7nzwxnvyoc/ck2tuObhsCHw6M3Pz/XGRs4Mv+jQuP2+3wHcVAl/Y5p74gAtGXQIAAACwAaoqD7l4fx5y8f7kqsXbj8zM5YY7j+ZTdxzJjXcdze2HZ3Ln4ZncfngmdxyeyZ1HZnN0Zi6HZ07kyPG5HJk9kTbCtd+0ra1O4Lu8g53tPasc173v4IpHJWmtXbXa/clCF/BjT3fcZvfNX3j/POPRl466DJIc2DWZL3u434gBAADAdrZnenIxCF6D1lqOzc7n8MxcZubmM3eiZXa+f31iPrMn5jM339ueO9EyNz+f+fneiMn51vphcct8S1rr39Y/b2tJS+vf3r+tc1+SPOryc4bzD7FFCHyXd2Nn+/Ik71/huMs7258ZXjlby9O03AMAAABsWlWV3dMT2T09MepSWIbl9Jb3oSTz/e1HrXLcyftuaq0ZSgsAAAAAjJTAdxmttSNJ/qG/+xXLHVO9Va6e3t/9m42oCwAAAABgNQLflb28f/0lVfV5y9z/rCQP6G//zsaUBAAAAACwMoHvyl6W5Or0Fv57dVU9NUmqakdVPSvJb/SPe11r7a9HVCMAAAAAwAKLtq2gtTZXVc9M8qYk90vyN1V1JL2QfFf/sPclec5oKgQAAAAAWEqH7ypaa59I8ugkP5Fet2+SzCZ5d5LvT/KE1todIyoPAAAAAGAJHb6n0Vq7J8mL+xcAAAAAgLGlwxcAAAAAYIsQ+AIAAAAAbBECXwAAAACALULgCwAAAACwRQh8AQAAAAC2CIEvAAAAAMAWIfAFAAAAANgiBL4AAAAAAFuEwBcAAAAAYIuo1tqoa6Cvqm7fvXv3+Q9/+MNHXQoAAAAAMELvfve7f7+19twzfZzAd4xU1SeSHEhy3YhLYXt4WP/6wyOtAsaD1wP0eC3AIq8H6PFagB6vBUbhwwJfYM2q6l1J0lq7atS1wKh5PUCP1wIs8nqAHq8F6PFaYDMxwxcAAAAAYIsQ+AIAAAAAbBECXwAAAACALULgCwAAAACwRQh8AQAAAAC2CIEvAAAAAMAWIfAFAAAAANgiBL4AAAAAAFtEtdZGXQMAAAAAAAOgwxcAAAAAYIsQ+AIAAAAAbBECXwAAAACALULgCwAAAACwRQh8AQAAAAC2CIEvAAAAAMAWIfAFAAAAANgiBL6wyVXV/qr6sar656o6VFV3V9U/VdX3VdX0WZ774qr6par6SFUdrao7quotVfWtVVWD+hpgUIbxeqiqy6vqO6vqVVX1sf5r4WhVfaKq/qCqvnTQXwecrWG+NyzzXH9VVa1/edMgzw1na9ivhaq6oqp+vqre3z/34aq6tqpeU1XfOYivAQZlWK+H6vmGqvrzqrqxqmb6r4WPVNVvVtVjB/l1wHpV1Z6qekZV/XBV/XFVXd/5GeaHB/QcPkMzFqq1NuoagHWqqiuSvCnJlf2bjiSZSLKzv/+eJE9trd25jnNfleR1SS7o33Qoya4kk/391yX5qtbazHpqh0Ebxuuhqu6b5Pok3R/OjvT3d3du+60kL2qtnVhP7TBIw3xvWOa5npfk5Z2b3txae8rZnhcGYdivhar6t0l+OYvvB8eSzCbZ39+/u7V27nrODYM2rNdDVe1K8uok/6Jz86Ek0/1Lkswn+YHW2i+up3YYlKp6SpI3rnD3j7TWfvIsz+8zNGNDhy9sUlU1keTP0vuh7cYkT2ut7U2yJ8mzk9yT5DFJfm8d5z4nyZ+n90b1oSSPa63tT7I3yXclmUny9CQvOduvAwZhiK+HifTC3TckeX6Sy/vn3ZfkUf3nTJJvSfLjZ/dVwNkb5nvDMs91UZL/nuSu9N4rYGwM+7VQVd+a5NfTC3t/I8kjWmu7W2sHkpyX5MuT/J+z/DJgIIb8evihLIa9v5rks/qfG3YleWySv0svd/j5qnr8WXwZMCh3pvez/S8k+cYkNw3ipD5DM250+MImVVUvTO8DRkvy+a21t59y/7OT/GF/98taa284g3P/ZHo/vB1J8sjW2nWn3P8DSX42yYn+/R9Z79cBgzCs10P/B7cHttbevcL9ld5v6p+W5HCS+7TWjq7vq4CzN8z3hmWe64+SPCvJtyV5TpIvjg5fxsSQf056QJJ/Ti8s+6HW2k8PpmoYjiG/Hj6RXpD8ptbalyxz/4Ekn0xyTpKfa63953V9ETAAVTVx6l/kVdV1Sa7IWXb4+gzNuNHhC5vX8/vXbzz1h7a+P0py7SnHrtU39a//8NQ3qr6XpvfnKRNJnnuG54ZhGMrrobV290phb//+lsUOrr1JHrbWc8OQDPO9YUFVfXV6Ye9b0wsRYNwM87Xw/emFvVen9+Edxt0wXw+X9q/ftdydrbV7kpwMtvac4blhoIY8fs1naMaKwBc2oarak+QL+ruvXe6YfhD1uv7u087g3A9Ncr/TnPtwkrec6blhGIb5elijI53tiQGfG9Zso14LVXVuen+2O5Pe7Gp/LsZYGfLPSd0P6i9rrc2vt07YCBvw3nAyKL5qhec/kOSh/d13nuG5YVPwGZpxJPCFzenhWXz9fmCV407ed0lVXbDKcV2PWubxq537EWs8LwzLMF8Pa/GU/vVMko8O8LxwpjbqtfBLSS5L8rOtNbN7GUfDfC18dhYXZXtzVT2pqv6kqm6tqmNV9YmqellVPWq1k8AGGvZ7w6/2r59SVf+zqi5PemOvquox6c0OPifJP2QA8+NhTPkMzdgR+MLmdFln+9OrHNe979IVjzq7cx+oqn1rPDcMwzBfD6uqqiuTfHt/95X9P1uEURn6a6GqnpreIoUfSWJuKeNqmK+Fh3S2n5HeglRfld6fqs+mN8v0BUneXVXfvMZzwjAN+73hV5P8TJL5JN+Z5IaqOpjkWJJ3p/ea+ZkkTx3yn9PDKPkMzdgR+MLmtL+zfWTFo5bet3/Fozbu3DAMI/l/tqp2pzfzbm+S25P84NmeE87SUF8L/T8LPrnoz7e11o6fWXmwYYb5Wjivs/1fk1yT5MlJ9vVXY398kvckmUry61X1hDWeF4ZlqO8N/bEmP5TeLzoO9W/el2S6v707vQ5f83vZynyGZuwIfAHgDFXVZJLfT++D/WyS57TWVvttPmwFP5Xk/kl+q7X25lEXAyPS/fx0IslXt9becnKWdWvtnUmemd6H+skk/2XjS4SNU1UXJvnbJL+T3tiGJyU5N70u4a9Lckt6nb9vr6rLVjgNAAMm8IXN6WBne7XflnfvO7jiURt3bhiGDf1/tr9gz+8m+Zokc0me3Vp7/XrPBwM0tNdCVX1eku9J74P79595abChNurnpD9vrX341AP6vwD8/f7ul/XfN2BUhv1z0u+kt57Bm5M8vbX2ttba3a21m1pr/y+9APi2JA9M8rNncF7YTHyGZuwIfGFzurGzffkqx3Xv+8yQzn2wtXZoleNg2Ib5eliiE/Y+O72w9xv7H2ZgHAzztfBr6f3c+ENJZqtqX/eS5GSgNdG5XcjFqAzztdD9a47VFi08ed/eJINcKBTO1NBeD1X18PRmWSfJL53sdO9qrd2SXiicJP+qqmot54ZNxmdoxo7AFzanD6W3MEKydEXQU52876bW2u1rPHd3VdG1nPvqNZ4XhmWYr4cF/fDq95L86/TC3ue01v7vmZ4HhmiYr4X7969/I72OlFMvT+rf/6TObc9c47lh0Ib5Wvjnzva9wq2Obqi12nEwbMN8PTyis/3xVY67pn+9J8lFazw3bCY+QzN2BL6wCbXWjqQ3IytJvmK5Y/q/PX96f/dvzuD0H03yqdOce2+SL1rHuWHghvx6OPn4k2Hvyc7e57TWXnXm1cLwbMRrATaDYb4WWmu3Jnlvf/cRqxz68P71Pekt7AkjMeT3hvnO9hWrHHdxZ1tXI1uRz9CMHYEvbF4v719/SX+24qmeleQB/e3fWeb+ZfX/FOsV/d1/XVVXLnPYd6W3+u58eiEYjNpQXg/JQtj7+xH2sjkM673h3NZarXRJb3Zjkry5c/tr1v1VwNkb2vtCkpf1r7+yqh526p1VdXmSb+zv/lVrbf7UY2CDDev18O7O9ncsd0A/5Hpef/f9rbXDZ3B+2BR8hmYcCXxh83pZen8KUkleXVVPTZKq2lFVz0rvz26T5HWttb/uPrCqfqyqWv9y5TLn/oUkN6f3Z1d/UVVX9R83XVXfkeQn+sf9xnKLlcAIDOX10A97X5HkG7I4s1fYyzgb5nsDbCbDfC38WpIPJ5lM8pqqetLJuaT9n5n+LL2foY4m+fHBf2lwxobyemitXZ/e/+9J8syqekVVPbB6pqrqC5K8KYth8i8N44uDM1FV51XVhScvWczF9nRv769R0H2cz9BsKpOjLgBYn9baXFU9M70fou6X5G+q6kh6b1i7+oe9L8lz1nHuu/rnfm16f674zqo62D/vVP+wv07y78/qi4ABGeLr4Quz2KXVkry0ql66yvFf11r7+zN8DhiYYb43wGYy5J+TZqrqXyb52yQPTfKWJIeraj7J/v5hh5M8t7X2wbP6QmAAhvze8C3pfWa4Ksm/6V+OJJnO0rzhF1trZ9pND8Pwniw/guQH+5eTXp7kBWs9qc/QjBsdvrCJtdY+keTR6f228OTg99n0/rzq+5M8obV2xzrP/U9JHpnkJUk+lt6b1OEkb0vyoiRf0Vo7fjb1wyAN6fXQfZ+cSm8G3WqX6fXWD4MyzPcG2EyG/HPStektvvPi9IKylt77xDVJXprk0a21PzmrLwAGaFivh9babUmemOSFSV6XXofjVHp/GXVtkt9N8kWtte8/268Bxp3P0IyT6o0aAQAAAABgs9PhCwAAAACwRQh8AQAAAAC2CIEvAAAAAMAWIfAFAAAAANgiBL4AAAAAAFuEwBcAAAAAYIsQ+AIAAAAAbBECXwAAAACALULgCwAAAACwRQh8AQAAAAC2CIEvAAAAAMAWIfAFAAAAANgiBL4AAMCaVdULqqr1Ly8YdT0AACwl8AUAAAAA2CIEvgAAAAAAW4TAFwAAAABgixD4AgAAAABsEQJfAAAAAIAtQuALAMCmUVUTVfVNVfVnVfWpqjpWVUf72++uql+vqq+rqj2rnOORVfXfquq9VXVHVR2vqk9X1Z9W1XOrak0/I1fVZFU9r6peVVXXVdXh/rk+VVV/UVXfW1UXrfL4qqpvqKr/W1Wf7H8td1XV+/v1Pfg0z/+Uqmr9y4/1b7tfVf1SVX24X89dVfX3VfWdVTW5xq/rK/v/vjf1a7quqn6vqj5/LY/vnOerq+qPquraqjrSP9enq+p9VfWK/r/1eWdyTgAATq9aa6OuAQAATquqLkzyl0kev4bDv7a19ppTHj+Z5JeS/Lus3vjwjiRf3Vq7aZVaHpfkD5M88DR1vKm19iXLPP7iJP8vyWoh6mySF7fWfnaFGp6S5I393f+a5B+T/EGSc1c4318neWZr7fgK55tI8ptJnr/C4+eT/GCSW5K8rH/bN7fWfvuU8+xO8qok/3KF83T9h9baS9ZwHAAAa7Sm3/IDAMAY+I0shr0fSy/c/GiSo0kOJHlokicn+bxTH1hVleSPknxt/6Zb+49/T5LDSa5I8uwkj0vyhCRvqKrHt9aOLHOuJyV5fZLd/Zs+3j/3h5IcT3JZv4Z/maSWefz+JH+X5CH9mz6T5LeSXJ1kT5KnJXlWkqkkP1NVO1prP32af5vPTfL9/ef730n+oV/L45J8e5K9/fP+UJIXr3CO/5HFsHcmycuTvDW9oPcJSb41yc8lec1pavnpLIa9n0nyu/2v7VCSfUkelF7Q/eTTnAcAgHXQ4QsAwNjrj0b4THqdue9M8pTW2uEVjr0iSVpr13du+/dJXtLffU2S57fW7lnmsT+V5L/0d3+utfafT7n/nPSC3Uv7N/18kh9qrc0tc649Sb6otfa6U27/X+mFsEkvUP3K1trdpxzz5Un+JMmuJHNJHtdae98pxzwlix2+SfLJJF/WWrvmlOOekORt6TV73Jnk0lO7fKvqi5K8Ob3A+K7+ed51yjEPTfKmJJd0bl7S4dvvEr49yTlJrk/yhNbaLVlGVd0nyQWttQ8vdz8AAOtjhi8AAJvBA7L4s+vvrxT2Jr2g95Swd1cWQ9wPJ3n2cmFv/7E/lOQt/d3v6D+267uyGPb+QWvtB5YLe/vnOrJM2HufJN/c370nybNODXv7j319kh/p706m1717Ov/m1LC3f653JHllf/e89Lp1T/Ufs9iN/L2nhr3983wkyQtPU8N90gt7k+RPVgp7++e7VdgLADB4Al8AADaD7miFR57hY5+e5OTiaf+jtTZzmuN/t399IMkTT7nvuf3r+SQ/fIZ1JL1RBzv72y9fbU5wkl9NcrC//dX97tmVvKe19pZV7v/bzvYjundU1c4kz+jv3pLFr/9eWmt/kV6H80qOrvQ8AABsDDN8AQDYDK5OcmN683G/tT+T9zeSvKO1Nn+ax35RZ3tfVX3NaY6/vLP98PTGGKSqzs9iiPmB1tq1ayt9iW537etXO7C1dqSq3ppeGLuv/9z/vMLh/3ia5/10Z/u8U+77nCTT/e03tdZOnOZcb0jv3+VeWmt3V9U70vs6v6yq/l+SX0nyltba7GnOCwDAAAh8AQAYe621E1X1bUlenV44+S39y11V9Q/pzcJ93XKjCJJc2dn++TN86m442g2CV+tyXc2lne2PruH4j2ax+/bSrBz43naa83Rn9p46puKyzvbH1lDT6Y75rvRC4QNJvqZ/OVxVb0/vv9PfJHnbGoJ6AADWwUgHAAA2hdban6fXOfqaJCe7Rc9NLxD9qSTvrKp/rqqvOOWh52T9pjvbBzrbh9Z5vv2d7RXnEK/wPPtXPKo3YmK99nW2j6x41KJV626tvTPJ5yb5nSyOeNib5EuTvDjJ3yX5eFX9mzOuFACA0xL4AgCwabTW3tda+9okF6QX9P5EkjdnMQB+VJK/rKrndh7WDU2vbK3VGVx+rPPY7kJv3ZD0TBzsbO9dw/Hd5zm44lFnp/vvs2cNx5+27tbaJ1prz09yfnpB7w8neW0WA+Ark7yiqv7L8mcAAGC9BL4AAGw6rbWDrbXXttZe3Fp7SnrjDv57/+5K8t86i5x159ee6YJvXZ9O0vrby86wXYPPdLYfvIbju8fcuM7nPJ3ueR+0huPXckySpLV2rLX2xtbaT7XWnpHe4nk/kMV/xxdX1QVrLxUAgNMR+AIAsOm11m5vrX1fknf2b7ooi2HpmzuHfu1ZPMcdST7Y331UVd1/Had5R2f7aasdWFW7kzypv3so658bfDrvSzLT3/7iTlC+ki9d7xO11g611n4+vVnMSbIzyePXez4AAO5N4AsAwFZyXWf75ALFf5nFRc2eV1Vn0+X7u/3rHenNDT5Tf5HFBdSeX1UXrXLsd2RxbvBrWmsn1vF8p9VaO57ev1GSXJzkOSsdW1XPSPKIATztdZ1tC0kDAAyQwBcAgLFXVU+vqn9fVSsuwFZVD8pi1+yhJB9Pktba4ST/tX/7dHozfh93mud7fFX9/DJ3/a8sjkD4xqr6uapaNrCsqt1V9eXd21prtyb5rf7uuUn+qKoOLPPYpyb5yf7uXJJfXK3eAfilzvYvV9XnLlPTg5P85monqarHVNWPVNXFqxxzYZJn9XdbkvefebkAAKzEb9MBANgMLk3ykiQ/X1VvTPL2JNcmOZLkwvTGAnxDFhcUe0lr7eQCYWmtvbSqHp/keUnul+QdVfXaJG9IckN6c38vTPLoJE9N8sD0AuP/r1tEa+3uqnp2kr9Osqt//7+qqlemN3JhJskl/XqemeS9SV5/ytfyA/3neEiSL07ywar6rfTGRexJ8mVJnp3F5owfba2970z/wc5Ea+2tVfWrSb4zyXlJ/rGqXp7krUnmkzwhybem9+/7miRfs8Kpzkny40l+tKreluTvk3w0vQXnzk/v3/c5/e0k+b3W2ieH8CUBAGxbAl8AADaD+f71dJKn9y/LaUn+R5IfXea+FyS5JskPpzc79hn9y0puWPYJeuHoU5K8MskV6YXD/+U0dXcff7CqnpxecPrEJJcn+ZFlHjuX5MWttZ9ZpcZB+p4k+9ILxXcmeVH/ctJ8egH3rVk58D359U4keXL/spI/OuX8AAAMgMAXAIDN4BXpdcs+Nb2u2Eem1/W7K73xDZ9Irxv1t1pr71nuBK21luQnq+o3k7ywf66HptdtOp/enN8PJ/mHJH/ZWvvHlYpprb29qh6S5PlJvjrJY9LrEG5JbkpvTMHrkvzBCo+/uaq+IL3RBv86vY7g+6Q33/dT6XUQ/2pr7ZrT/9MMRn9G8POr6lVJvj29rt4DSW5O8rYkv9Ja+4eqesEq5/i7qnpoegu7fUmSz07yWel1Lh9J8skk/5jk5a21vxvilwMAsG1V7+deAAAAAAA2O4u2AQAAAABsEQJfAAAAAIAtQuALAAAAALBFCHwBAAAAALYIgS8AAAAAwBYh8AUAAAAA2CIEvgAAAAAAW4TAFwAAAABgixD4AgAAAABsEQJfAAAAAIAtQuALAAAAALBFCHwBAAAAALYIgS8AAAAAwBYh8AUAAAAA2CIEvgAAAAAAW4TAFwAAAABgixD4AgAAAABsEQJfAAAAAIAtQuALAAAAALBF/P9JXTdqWV+AbwAAAABJRU5ErkJggg==\n",
          "text/plain": "<Figure size 720x288 with 1 Axes>"
         },
         "metadata": {
          "image/png": {
           "height": 270,
           "width": 702
          },
          "needs_background": "light"
         },
         "output_type": "display_data"
        }
       ]
      }
     },
     "f67d5d2e2b6243cfb276dac1814a46e8": {
      "model_module": "@jupyter-widgets/controls",
      "model_module_version": "1.5.0",
      "model_name": "FloatSliderModel",
      "state": {
       "description": "Resistance",
       "layout": "IPY_MODEL_1d93ef549c734aa7a224873105b872a4",
       "max": 1000,
       "style": "IPY_MODEL_ea1bb70443d64691934e0746bd786660",
       "value": 27
      }
     },
     "f81735ad1ffd44fa97e0d277c8de99f8": {
      "model_module": "@jupyter-widgets/controls",
      "model_module_version": "1.5.0",
      "model_name": "SliderStyleModel",
      "state": {
       "description_width": "initial"
      }
     },
     "f85365f9f9b24c4b943198ef912a4451": {
      "model_module": "@jupyter-widgets/controls",
      "model_module_version": "1.5.0",
      "model_name": "FloatSliderModel",
      "state": {
       "description": "Current_Step_Duration",
       "layout": "IPY_MODEL_1d93ef549c734aa7a224873105b872a4",
       "max": 3,
       "min": 0.01,
       "step": 0.01,
       "style": "IPY_MODEL_f81735ad1ffd44fa97e0d277c8de99f8",
       "value": 3
      }
     },
     "f878f2b73c594cd795ce1f2218b2022e": {
      "model_module": "@jupyter-widgets/controls",
      "model_module_version": "1.5.0",
      "model_name": "SliderStyleModel",
      "state": {
       "description_width": "initial"
      }
     },
     "f986a3e6af1045cc94cdf846c3626974": {
      "model_module": "@jupyter-widgets/base",
      "model_module_version": "1.2.0",
      "model_name": "LayoutModel",
      "state": {}
     },
     "f9f24dfe2e76425e8c8bf7703bbd5b9d": {
      "model_module": "@jupyter-widgets/controls",
      "model_module_version": "1.5.0",
      "model_name": "FloatSliderModel",
      "state": {
       "description": "current_injection",
       "layout": "IPY_MODEL_1d93ef549c734aa7a224873105b872a4",
       "max": 50,
       "step": 0.05,
       "style": "IPY_MODEL_c742da741fb946208501057df5da2d24",
       "value": 0.5
      }
     },
     "fad097171a3644d586b97bab571625af": {
      "model_module": "@jupyter-widgets/controls",
      "model_module_version": "1.5.0",
      "model_name": "VBoxModel",
      "state": {
       "_dom_classes": [
        "widget-interact"
       ],
       "children": [
        "IPY_MODEL_831fb58426e14efca6ddb99549954b6b",
        "IPY_MODEL_a15dde438cff4a698ec82bb036df6751",
        "IPY_MODEL_a9cafe32800140df9a74261edfa59f83",
        "IPY_MODEL_bb44b532c57a4b42bb2d69853928c05b",
        "IPY_MODEL_0de4881ecd984ff399dae09b1c0765ad",
        "IPY_MODEL_a04819079a5f4f489e8ddf3f6fd05307",
        "IPY_MODEL_2ab1bc2c28054f9081e22b7213412731"
       ],
       "layout": "IPY_MODEL_2626becabadd4672bbbbfb8eddbc4ce2"
      }
     },
     "fb68815ac7c14986b1e7ecce83f51183": {
      "model_module": "@jupyter-widgets/controls",
      "model_module_version": "1.5.0",
      "model_name": "VBoxModel",
      "state": {
       "_dom_classes": [
        "widget-interact"
       ],
       "children": [
        "IPY_MODEL_f9f24dfe2e76425e8c8bf7703bbd5b9d",
        "IPY_MODEL_f85365f9f9b24c4b943198ef912a4451",
        "IPY_MODEL_0315f92e8f0b4a7aab38bb1f1116c866",
        "IPY_MODEL_a6de44c3157f49b0a2e9c751fd7d406a",
        "IPY_MODEL_8c0e3e954ae046a1bb9dd13e8a3058cb",
        "IPY_MODEL_52bc122e99e74497a36e63a886858a0a",
        "IPY_MODEL_d2dd2bf8788b42ee99875ac2ffce62b7"
       ],
       "layout": "IPY_MODEL_be27595618384c3bafb1802791805fc7"
      }
     },
     "fceb75aa9b96414384d11d98c3a4a84f": {
      "model_module": "@jupyter-widgets/controls",
      "model_module_version": "1.5.0",
      "model_name": "SliderStyleModel",
      "state": {
       "description_width": "initial"
      }
     },
     "fd22012b36044c46a5aa3dd1dc071b8b": {
      "model_module": "@jupyter-widgets/controls",
      "model_module_version": "1.5.0",
      "model_name": "FloatSliderModel",
      "state": {
       "description": "current_injection",
       "layout": "IPY_MODEL_1d93ef549c734aa7a224873105b872a4",
       "max": 50,
       "step": 0.05,
       "style": "IPY_MODEL_8ec83d29ad8c4bf9a85ab1434254e885",
       "value": 0.5
      }
     },
     "fd66b6c60fab4cd092f3092ad19fddd4": {
      "model_module": "@jupyter-widgets/base",
      "model_module_version": "1.2.0",
      "model_name": "LayoutModel",
      "state": {
       "width": "600px"
      }
     },
     "fdfec66028264656aecfe45dc0352f92": {
      "model_module": "@jupyter-widgets/controls",
      "model_module_version": "1.5.0",
      "model_name": "FloatSliderModel",
      "state": {
       "continuous_update": false,
       "description": "C (pF)",
       "layout": "IPY_MODEL_ed4ad8579a7b41b183bcc4576141e1d4",
       "max": 1000,
       "min": 1,
       "step": 0.1,
       "style": "IPY_MODEL_a31037d9056746a2a983c62a15ae9e22",
       "value": 100
      }
     },
     "fe1cbd0eee964991a0a8f91dab1271e0": {
      "model_module": "@jupyter-widgets/controls",
      "model_module_version": "1.5.0",
      "model_name": "FloatSliderModel",
      "state": {
       "continuous_update": false,
       "description": "Capacitance",
       "layout": "IPY_MODEL_1d93ef549c734aa7a224873105b872a4",
       "max": 1,
       "min": 0.001,
       "readout_format": ".3f",
       "step": 0.001,
       "style": "IPY_MODEL_e2145305fe004c5a8c5991aa8d6d9d70",
       "value": 0.2
      }
     },
     "ffac30b611054f11963eabccc7b3eaff": {
      "model_module": "@jupyter-widgets/controls",
      "model_module_version": "1.5.0",
      "model_name": "FloatSliderModel",
      "state": {
       "continuous_update": false,
       "description": "Capacitance",
       "layout": "IPY_MODEL_1d93ef549c734aa7a224873105b872a4",
       "max": 1,
       "min": 0.001,
       "readout_format": ".3f",
       "step": 0.001,
       "style": "IPY_MODEL_c9d47927896446e7950d53b9d487a59b",
       "value": 0.2
      }
     }
    },
    "version_major": 2,
    "version_minor": 0
   }
  }
 },
 "nbformat": 4,
 "nbformat_minor": 5
}
