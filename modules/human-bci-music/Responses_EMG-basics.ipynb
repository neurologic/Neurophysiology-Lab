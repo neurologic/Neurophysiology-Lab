{
 "cells": [
  {
   "cell_type": "markdown",
   "id": "0ed5a680-85b7-470a-8ed0-b95d8e1c5091",
   "metadata": {},
   "source": [
    "<a href=\"https://colab.research.google.com/github/neurologic/Neurophysiology-Lab/blob/main/modules/human-bci-music/Responses_EMG-basics.ipynb\" target=\"_blank\" rel=\"noopener noreferrer\"><img alt=\"Open In Colab\" src=\"https://colab.research.google.com/assets/colab-badge.svg\"/></a>   "
   ]
  },
  {
   "cell_type": "markdown",
   "id": "2bcea47c-bd58-4eac-b259-f43405e8982d",
   "metadata": {},
   "source": [
    "# Responses\n",
    "\n",
    "You will ***complete these during class*** with your partner as you work through today's experiments."
   ]
  },
  {
   "cell_type": "markdown",
   "id": "513c0ad9-f856-46a3-9a79-9bb0ca01811c",
   "metadata": {},
   "source": [
    "Your Names:"
   ]
  },
  {
   "cell_type": "markdown",
   "id": "79e075fe-b294-458f-8ff6-6b221cf1e542",
   "metadata": {
    "tags": []
   },
   "source": [
    "## Part I: \n",
    "\n",
    "1. What differences in motor unit spike rate and/or amplitude did you predict to observe across conditions?\n",
    "\n",
    "2. What differences in motor unit spike rate and/or amplitude did you observe across conditions?\n",
    "\n",
    "3. Save a copy of the Figure showing the median (and 95% confidence intervals) of peak rate and amplitude within each bout. "
   ]
  },
  {
   "cell_type": "markdown",
   "id": "14df22e3-25e1-44a2-849a-29ecf8896269",
   "metadata": {},
   "source": [
    "...\n",
    "\n",
    "Type up your observations here. Insert any images by replacing the \"id\" in the link below with the share link id from your photo (copy and paste the code to include more than one). Control the size of the inserted image by changing the \"width\" value in the code.\n",
    "\n",
    "<img src='https://drive.google.com/uc?id=1WoAa-oMOkAj9r9lyls4nLSLyIeuTu4Ae' width=\"300\" >"
   ]
  },
  {
   "cell_type": "markdown",
   "id": "79a8a19e-0de4-436a-8d76-b6fe836bee53",
   "metadata": {
    "tags": []
   },
   "source": [
    "## Part II: \n",
    "\n",
    "1. Was the amplitude (height) consistent throughout the bout?\n",
    "\n",
    "2. What was the approximate spike rate? \n",
    "\n",
    "3. Use the Dash Data Explorer or the Colab Data Explorer to save a copy of a Figure showing reliable isolation of single motor unit activity. "
   ]
  },
  {
   "cell_type": "markdown",
   "id": "23e974ea-8263-49d0-83f5-e1e567e0731b",
   "metadata": {},
   "source": [
    "...\n",
    "\n",
    "Type up your observations here. Insert any images by replacing the \"id\" in the link below with the share link id from your photo (copy and paste the code to include more than one). Control the size of the inserted image by changing the \"width\" value in the code.\n",
    "\n",
    "<img src='https://drive.google.com/uc?id=1WoAa-oMOkAj9r9lyls4nLSLyIeuTu4Ae' width=\"300\" >"
   ]
  },
  {
   "cell_type": "markdown",
   "id": "9f938029-de19-4339-b17a-1b9a00b6597e",
   "metadata": {
    "tags": []
   },
   "source": [
    "## Part III: \n",
    "\n",
    "1. Estimate and report the initial RMS value \n",
    "2. Estimate and report the asymptotic RMS value (or the minimum value if an asymptote was not reached).\n",
    "3. Estimate and report the time between the initial RMS and the asymptotic (or minimum) RMS. \n",
    "4. Calculate and report the rate of fatigue (ie estimate the slope, $m$, of the equation $y = mx + b$ for the part of your moving RMS signal for which you observe increasing fatigue) \n",
    "\t> Note how linear your data is (or is not) in the range of increasing fatigue.\n",
    "5. Save a copy of an example processed data signal, with the markers highlighting the initial RMS value.\n",
    "\n",
    "***If you have time, compare the rate of fatigue for different muscles.***"
   ]
  },
  {
   "cell_type": "markdown",
   "id": "28cc7f44-05b3-4a03-a527-0ce216bb1397",
   "metadata": {},
   "source": [
    "...\n",
    "\n",
    "To share your table of results, replace the placeholder contents in each cell of the following table with your data.   \n",
    "\n",
    "| Person | Muscle    | initial RMS    | fatigued RMS   | time to fatigue | rate of fatigue  |\n",
    "| :----: | :-------: | :------------: | :------------: | :-------------: | :--------------: |\n",
    "| name 1 | muscle id | value (microV) | value (microV) | value (s)       | value (microV/s) |\n",
    "| name 2 | muscle id | value (microV) | value (microV) | value (s)       | value (microV/s) |\n",
    "\n",
    "Insert any images by replacing the \"id\" in the link below with the share link id from your photo (copy and paste the code to include more than one). Control the size of the inserted image by changing the \"width\" value in the code.\n",
    "\n",
    "<img src='https://drive.google.com/uc?id=1WoAa-oMOkAj9r9lyls4nLSLyIeuTu4Ae' width=\"300\" >"
   ]
  },
  {
   "cell_type": "markdown",
   "id": "21af1be8-9543-45b6-bb5a-7ef95cf59bca",
   "metadata": {},
   "source": [
    "<div><font color = green>\n",
    "\n",
    "</font></div>"
   ]
  },
  {
   "cell_type": "code",
   "execution_count": null,
   "id": "c6f6a8c4-3e73-410e-a93c-6747537515b6",
   "metadata": {},
   "outputs": [],
   "source": []
  }
 ],
 "metadata": {
  "kernelspec": {
   "display_name": "Python 3 (ipykernel)",
   "language": "python",
   "name": "python3"
  },
  "language_info": {
   "codemirror_mode": {
    "name": "ipython",
    "version": 3
   },
   "file_extension": ".py",
   "mimetype": "text/x-python",
   "name": "python",
   "nbconvert_exporter": "python",
   "pygments_lexer": "ipython3",
   "version": "3.8.13"
  },
  "widgets": {
   "application/vnd.jupyter.widget-state+json": {
    "state": {},
    "version_major": 2,
    "version_minor": 0
   }
  }
 },
 "nbformat": 4,
 "nbformat_minor": 5
}
