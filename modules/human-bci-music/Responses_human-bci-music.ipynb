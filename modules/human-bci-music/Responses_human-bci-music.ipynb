{
 "cells": [
  {
   "cell_type": "markdown",
   "id": "2bcea47c-bd58-4eac-b259-f43405e8982d",
   "metadata": {},
   "source": [
    "# Responses"
   ]
  },
  {
   "cell_type": "markdown",
   "id": "513c0ad9-f856-46a3-9a79-9bb0ca01811c",
   "metadata": {},
   "source": [
    "Your Name:"
   ]
  },
  {
   "cell_type": "markdown",
   "id": "21af1be8-9543-45b6-bb5a-7ef95cf59bca",
   "metadata": {},
   "source": [
    "<div><font color = green>\n",
    "\n",
    "</font></div>"
   ]
  },
  {
   "cell_type": "markdown",
   "id": "25ae9ecd-f683-44f3-b750-ea4f8f080ffb",
   "metadata": {},
   "source": [
    "(<a href=\"../Template.ipynb#one\" target=\"_blank\" rel=\"noopener noreferrer\">Link to Template: Part I (non-colab link)</a>)"
   ]
  },
  {
   "cell_type": "markdown",
   "id": "169cbfbd-3db7-4c50-ad26-5303d560b4d9",
   "metadata": {},
   "source": [
    "...\n",
    "\n",
    "After answering the questions above, insert your figure by replacing the \"id\" in the link below with your google drive share link id\n",
    "<img src='https://drive.google.com/uc?id=1WoAa-oMOkAj9r9lyls4nLSLyIeuTu4Ae' width=\"300\" >"
   ]
  },
  {
   "cell_type": "code",
   "execution_count": null,
   "id": "c6f6a8c4-3e73-410e-a93c-6747537515b6",
   "metadata": {},
   "outputs": [],
   "source": []
  }
 ],
 "metadata": {
  "kernelspec": {
   "display_name": "Python 3 (ipykernel)",
   "language": "python",
   "name": "python3"
  },
  "language_info": {
   "codemirror_mode": {
    "name": "ipython",
    "version": 3
   },
   "file_extension": ".py",
   "mimetype": "text/x-python",
   "name": "python",
   "nbconvert_exporter": "python",
   "pygments_lexer": "ipython3",
   "version": "3.8.13"
  },
  "widgets": {
   "application/vnd.jupyter.widget-state+json": {
    "state": {},
    "version_major": 2,
    "version_minor": 0
   }
  }
 },
 "nbformat": 4,
 "nbformat_minor": 5
}
