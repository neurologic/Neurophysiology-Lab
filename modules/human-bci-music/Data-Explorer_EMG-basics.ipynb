{
 "cells": [
  {
   "cell_type": "code",
   "execution_count": null,
   "id": "b791a435-4a99-4511-95b6-4ecc619c1dc9",
   "metadata": {},
   "outputs": [],
   "source": []
  },
  {
   "cell_type": "markdown",
   "id": "8e0794e8-b7be-4381-b7b3-22c12472bd09",
   "metadata": {},
   "source": [
    "<a href=\"https://colab.research.google.com/github/neurologic/Neurophysiology-Lab/blob/main/modules/human-bci-music/Data-Explorer_EMG-basics.ipynb\" target=\"_blank\" rel=\"noopener noreferrer\"><img alt=\"Open In Colab\" src=\"https://colab.research.google.com/assets/colab-badge.svg\"/></a>   "
   ]
  },
  {
   "cell_type": "markdown",
   "id": "fadf270d-f943-4707-9720-0b6d26f46b97",
   "metadata": {},
   "source": [
    "# Data Explorer"
   ]
  },
  {
   "cell_type": "markdown",
   "id": "83be7677-9f37-4b70-bd4c-29fa9f716f3a",
   "metadata": {},
   "source": [
    "<a id=\"setup\"></a>\n",
    "# Setup\n",
    "\n",
    "[toc](#toc)"
   ]
  },
  {
   "cell_type": "markdown",
   "id": "5dfc5835-4126-40cf-b1ea-c8fcfbf4f40e",
   "metadata": {},
   "source": [
    "Import and define functions"
   ]
  },
  {
   "cell_type": "code",
   "execution_count": null,
   "id": "f98f7eec-67f0-46f3-9960-79a52ac6747f",
   "metadata": {
    "tags": [
     "hide-input"
    ]
   },
   "outputs": [],
   "source": [
    "#@title {display-mode: \"form\" }\n",
    "\n",
    "#@markdown Run this code cell to import packages and define functions \n",
    "import numpy as np\n",
    "import pandas as pd\n",
    "import plotly.express as px\n",
    "import plotly.graph_objects as go\n",
    "from plotly.subplots import make_subplots\n",
    "from scipy import ndimage\n",
    "from scipy.optimize import curve_fit\n",
    "from scipy.signal import hilbert,medfilt,resample, find_peaks, unit_impulse\n",
    "import seaborn as sns\n",
    "from datetime import datetime,timezone,timedelta\n",
    "pal = sns.color_palette(n_colors=15)\n",
    "pal = pal.as_hex()\n",
    "import matplotlib.pyplot as plt\n",
    "import random\n",
    "from sklearn.decomposition import PCA\n",
    "from sklearn.cluster import KMeans\n",
    "\n",
    "from pathlib import Path\n",
    "\n",
    "from matplotlib.ticker import (AutoMinorLocator, MultipleLocator)\n",
    "from ipywidgets import widgets, interact, interactive, interactive_output\n",
    "%config InlineBackend.figure_format = 'retina'\n",
    "plt.style.use(\"https://raw.githubusercontent.com/NeuromatchAcademy/course-content/master/nma.mplstyle\")\n",
    "\n",
    "print('Task completed at ' + str(datetime.now(timezone(-timedelta(hours=5)))))\n"
   ]
  },
  {
   "cell_type": "markdown",
   "id": "0b09782e-a8ad-41c7-9f5f-1904227109a5",
   "metadata": {},
   "source": [
    "Mount Google Drive"
   ]
  },
  {
   "cell_type": "code",
   "execution_count": null,
   "id": "c8d3445b-589c-48c3-abbf-0cc00d446d02",
   "metadata": {
    "tags": [
     "hide-input"
    ]
   },
   "outputs": [],
   "source": [
    "#@title {display-mode: \"form\" }\n",
    "\n",
    "#@markdown Run this cell to mount your Google Drive.\n",
    "\n",
    "from google.colab import drive\n",
    "drive.mount('/content/drive')\n",
    "\n",
    "print('Task completed at ' + str(datetime.now(timezone(-timedelta(hours=5)))))"
   ]
  },
  {
   "cell_type": "markdown",
   "id": "e1a98694-65a2-4740-a43f-cf2d0e2bc518",
   "metadata": {},
   "source": [
    "## Import data \n",
    "\n",
    "Import data digitized with *Nidaq USB6211* and recorded using *Bonsai-rx* as a *.bin* file\n",
    "\n",
    "If you would like sample this Data Explorer, but do not have data, you can download the following examples (two channels digitized at 40000). Channel 0 is the signal measured from N3 and Channel 1 is the signal measured from the Superficial Flexor muscle. \n"
   ]
  },
  {
   "cell_type": "code",
   "execution_count": null,
   "id": "b9afd6ec-0073-43fd-b9b0-1885eb187733",
   "metadata": {
    "tags": [
     "hide-input"
    ]
   },
   "outputs": [],
   "source": [
    "#@title {display-mode: \"form\" }\n",
    "\n",
    "#@markdown Specify the file path \n",
    "#@markdown to your recorded data on Drive (find the filepath in the colab file manager:\n",
    "\n",
    "filepath = \"full filepath goes here\"  #@param \n",
    "# filepath = '/Volumes/Untitled/BIOL247/data/crayfish-synaptic-connectivity/KP_20221113/spont-simult_A4_2_good-2input.bin' \n",
    "\n",
    "#@markdown Specify the sampling rate and number of channels recorded.\n",
    "\n",
    "sampling_rate = None #@param\n",
    "number_channels = None #@param\n",
    "\n",
    "# downsample = False #@param\n",
    "# newfs = 10000 #@param\n",
    "\n",
    "#@markdown After you have filled out all form fields, \n",
    "#@markdown run this code cell to load the data. \n",
    "\n",
    "filepath = Path(filepath)\n",
    "\n",
    "# No need to edit below this line\n",
    "#################################\n",
    "data = np.fromfile(Path(filepath), dtype = np.float64)\n",
    "data = data.reshape(-1,number_channels)\n",
    "data_dur = np.shape(data)[0]/sampling_rate\n",
    "print('duration of recording was %0.2f seconds' %data_dur)\n",
    "\n",
    "fs = sampling_rate\n",
    "# if downsample:\n",
    "   ## newfs = 10000 #downsample emg data\n",
    "    # chunksize = int(sampling_rate/newfs)\n",
    "    # data = data[0::chunksize,:]\n",
    "    # fs = int(np.shape(data)[0]/data_dur)\n",
    "\n",
    "time = np.linspace(0,data_dur,np.shape(data)[0])\n",
    "\n",
    "print('Data upload completed at ' + str(datetime.now(timezone(-timedelta(hours=5)))))"
   ]
  },
  {
   "cell_type": "markdown",
   "id": "bbbb68d7-1a12-468d-ac87-8de424bfad90",
   "metadata": {},
   "source": [
    "## Visualize Raw Data\n",
    "\n",
    "Use this visualization tool if desired to get a sanity check that the data you thought you imported is actually the data that got imported."
   ]
  },
  {
   "cell_type": "code",
   "execution_count": null,
   "id": "9f3df654-136e-4825-b710-cb5d5a80afb5",
   "metadata": {
    "tags": [
     "hide-input"
    ]
   },
   "outputs": [],
   "source": [
    "#@title {display-mode: \"form\"}\n",
    "\n",
    "#@markdown Run this code cell to plot imported data. <br> \n",
    "#@markdown Use the range slider to scroll through the data in time.\n",
    "#@markdown Use the channel slider to choose which channel to plot\n",
    "#@markdown Be patient with the range refresh... the more data you are plotting the slower it will be. \n",
    "\n",
    "slider_xrange = widgets.FloatRangeSlider(\n",
    "    min=0,\n",
    "    max=data_dur,\n",
    "    value=(0,data_dur),\n",
    "    step= 0.5,\n",
    "    readout=True,\n",
    "    continuous_update=False,\n",
    "    description='Time Range (s)')\n",
    "slider_xrange.layout.width = '600px'\n",
    "\n",
    "slider_chan = widgets.IntSlider(\n",
    "    min=0,\n",
    "    max=number_channels-1,\n",
    "    value=0,\n",
    "    step= 1,\n",
    "    continuous_update=False,\n",
    "    description='channel')\n",
    "slider_chan.layout.width = '300px'\n",
    "\n",
    "# a function that will modify the xaxis range\n",
    "def update_plot(x,chan):\n",
    "    fig, ax = plt.subplots(figsize=(10,5),num=1); #specify figure number so that it does not keep creating new ones\n",
    "    starti = int(x[0]*fs)\n",
    "    stopi = int(x[1]*fs)\n",
    "    ax.plot(time[starti:stopi], data[starti:stopi,chan])\n",
    "\n",
    "w = interact(update_plot, x=slider_xrange, chan=slider_chan);"
   ]
  },
  {
   "cell_type": "markdown",
   "id": "7a51ad9f-9edc-48b4-9181-c747415829ee",
   "metadata": {},
   "source": [
    "For a more extensive ***RAW*** Data Explorer than the one provided in the above figure, use the [DataExplorer.py](https://raw.githubusercontent.com/neurologic/Neurophysiology-Lab/main/howto/Data-Explorer.py) application found in the [howto section](https://neurologic.github.io/Neurophysiology-Lab/howto/Dash-Data-Explorer.html) of the course website."
   ]
  },
  {
   "cell_type": "markdown",
   "id": "1ee9ca94-1ec3-4d24-92ad-66fde3c60060",
   "metadata": {},
   "source": [
    "<a id=\"one\"></a>\n",
    "# I. Movement Coding and Recruitment\n",
    "\n",
    "Python has built-in algorithms for detecting \"peaks\" in a signal. However, it will detect *all* peaks. Therefore, the function takes in arguments that specify parameters for minimum height that can count as a peak and a minimum acceptible interval between independent peaks. \n",
    "\n",
    "First, we will detect all the peaks in the signal within a set of thresholds. This will give the time of each peak.  \n"
   ]
  },
  {
   "cell_type": "markdown",
   "id": "5970739b-39a1-4bc1-852b-20227ac505ab",
   "metadata": {},
   "source": [
    "## Detect motor unit events"
   ]
  },
  {
   "cell_type": "code",
   "execution_count": null,
   "id": "1c0c4a15-6c1f-4a5a-b25b-a0c0c6f0961b",
   "metadata": {
    "tags": [
     "hide-input"
    ]
   },
   "outputs": [],
   "source": [
    "#@title {display-mode: \"form\"}\n",
    "\n",
    "#@markdown Indicate which channel has the EMG signal (should be 0).\n",
    "\n",
    "spike_channel = 0 #@param\n",
    "\n",
    "#@markdown Then, run the code cell to create an interactive plot with a slider to scroll \n",
    "#@markdown through the raw data and set an upper and lower peak detection threshold.\n",
    "#@markdown You can set the polarity of the peak detection: upward (1) or downward (-1) peaks. \n",
    "#@markdown Peak times (according to your threshold) will be plotted using red markers. <br>\n",
    "#@markdown Only the signal within the previously specified bout times will be processed (shaded gray regions in the plot).\n",
    "\n",
    "slider_xrange = widgets.FloatRangeSlider(\n",
    "    min=0,\n",
    "    max=data_dur,\n",
    "    value=(0,data_dur),\n",
    "    step=0.01,\n",
    "    readout_format='.2f',\n",
    "    continuous_update=False,\n",
    "    readout=True,\n",
    "    description='xrange (s)'\n",
    ")\n",
    "slider_xrange.layout.width = '600px'\n",
    "\n",
    "slider_yrange = widgets.FloatRangeSlider(\n",
    "    min=np.min(data[:,spike_channel])-0.1,\n",
    "    max=np.max(data[:,spike_channel])+0.1,\n",
    "    value=[np.min(data[:,spike_channel])-0.1,np.max(data[:,spike_channel])+0.1],\n",
    "    step=0.01,\n",
    "    readout_format='.2f',\n",
    "    continuous_update=False,\n",
    "    readout=True,\n",
    "    description='yrange'\n",
    ")\n",
    "slider_yrange.layout.width = '600px'\n",
    "\n",
    "\n",
    "\n",
    "slider_threshold_low = widgets.FloatSlider(\n",
    "    min=0,\n",
    "    max=np.max([np.max(data[:,spike_channel]),np.abs(np.min(data[:,spike_channel]))])+0.1,\n",
    "    value=0,\n",
    "    step=0.001,\n",
    "    readout_format='.3f',\n",
    "    continuous_update=False,\n",
    "    readout=True,\n",
    "    description='lower threshold')\n",
    "slider_threshold_low.layout.width = '600px'\n",
    "\n",
    "slider_threshold_high = widgets.FloatSlider(\n",
    "    min=0,\n",
    "    max=np.max([np.max(data[:,spike_channel]),np.abs(np.min(data[:,spike_channel]))])+0.1,\n",
    "    value=np.max([np.max(data[:,spike_channel]),np.abs(np.min(data[:,spike_channel]))])+0.1,\n",
    "    step=0.001,\n",
    "    readout_format='.3f',\n",
    "    continuous_update=False,\n",
    "    readout=True,\n",
    "    description='upper threshold')\n",
    "slider_threshold_high.layout.width = '600px'\n",
    "\n",
    "radio_polarity = widgets.RadioButtons(\n",
    "    options=[1, -1],\n",
    "    value=1,\n",
    "    description='peaks polarity',\n",
    "    disabled=False\n",
    ")\n",
    "\n",
    "iei_text = widgets.Text(\n",
    "    value='0.005',\n",
    "    placeholder='0.005',\n",
    "    description='min IEI (seconds)',\n",
    "    style = {'description_width': '200px'},\n",
    "    disabled=False\n",
    ")\n",
    "\n",
    "\n",
    "# a function that will modify the xaxis range\n",
    "def update_plot(xrange,yrange,thresh_low_,thresh_high_,polarity,iei):\n",
    "    fig, ax = plt.subplots(figsize=(10,6),num=1); #specify figure number so that it does not keep creating new ones\n",
    "    fig.tight_layout()    \n",
    "    \n",
    "    win_0 = int(xrange[0]*fs)\n",
    "    win_1 = int(xrange[1]*fs)\n",
    "\n",
    "    xtime = np.linspace(xrange[0],xrange[1],(win_1 - win_0))\n",
    "\n",
    "    ax.plot(xtime,data[win_0:win_1,spike_channel],color='black',linewidth=1)\n",
    "    ax.set_ylim(yrange[0],yrange[1]);\n",
    "    \n",
    "    ax.hlines(thresh_low_*polarity, xrange[0],xrange[1],linestyle='--',color='green',zorder=3)\n",
    "    ax.hlines(thresh_high_*polarity, xrange[0],xrange[1],linestyle='--',color='orange',zorder=3)\n",
    "    \n",
    "    \n",
    "    # calculate spike times based on threshold\n",
    "    d = float(iei)*fs #minimum time allowed between distinct events\n",
    "    r = find_peaks(data[:,spike_channel]*polarity,height=thresh_low_,distance=d)\n",
    "\n",
    "    spike_times = r[0]/fs\n",
    "    mask_spikes = r[1]['peak_heights']<thresh_high_\n",
    "    # spike_times = spike_times[mask_spikes]\n",
    "\n",
    "    inwin_inds = []\n",
    "    for b_ in bouts_list:\n",
    "        inwin_inds.extend(r[0][(spike_times>b_[0]) & (spike_times<b_[1]) & mask_spikes])\n",
    "    inwin_inds = np.asarray(inwin_inds)\n",
    "    inwin_inds = np.in1d(r[0],inwin_inds)\n",
    "    \n",
    "    df_props = pd.DataFrame({\n",
    "            'height': r[1]['peak_heights'][inwin_inds]*polarity,\n",
    "            'spikeT' : spike_times[inwin_inds],\n",
    "            'spikeInd' : r[0][inwin_inds]\n",
    "                })\n",
    "    \n",
    "    spike_times = spike_times[mask_spikes]\n",
    "    \n",
    "    inwin_spikes = spike_times[(spike_times>(xrange[0])) & (spike_times<(xrange[1]))]\n",
    "    ax.scatter(inwin_spikes,[np.mean(data[:,spike_channel])] * len(inwin_spikes),\n",
    "          zorder=3,color='red',s=20)\n",
    "\n",
    "    for b_ in bouts_list:\n",
    "        ax.axvspan(b_[0], b_[1], color = 'black', alpha=0.1)    \n",
    "\n",
    "\n",
    "    return spike_times,df_props\n",
    "    \n",
    "\n",
    "w_spikes_ = interactive(update_plot, xrange=slider_xrange, \n",
    "             yrange=slider_yrange,\n",
    "             thresh_low_=slider_threshold_low,thresh_high_=slider_threshold_high,polarity=radio_polarity,iei=iei_text);\n",
    "\n",
    "display(w_spikes_)"
   ]
  },
  {
   "cell_type": "code",
   "execution_count": null,
   "id": "c45e08ea-e719-4eb8-adc8-da8e9f229a35",
   "metadata": {
    "tags": [
     "hide-input"
    ]
   },
   "outputs": [],
   "source": [
    "#@title {display-mode: \"form\"}\n",
    "\n",
    "#@markdown Run this cell to finalize the list of spike times after settling on a threshold in the interactive plot. \n",
    "spike_times,df_props = w_spikes_.result"
   ]
  },
  {
   "cell_type": "markdown",
   "id": "3b811c93-35f8-49a6-9de3-a5ca4c2c29e0",
   "metadata": {},
   "source": [
    "## Define Trial Times"
   ]
  },
  {
   "cell_type": "code",
   "execution_count": null,
   "id": "763fcd28-c355-49ad-b537-c24f2d063672",
   "metadata": {
    "tags": [
     "hide-input"
    ]
   },
   "outputs": [],
   "source": [
    "#@title {display-mode: \"form\"}\n",
    "\n",
    "#@markdown For this experiment, you don't have precise trial onset markers, but you should be able to \n",
    "#@markdown estimate the onset and offset of individual trials. \n",
    "#@markdown Specify the trial range as follows: [start of trial, end of trial] <br>\n",
    "#@markdown You will only be able to examine one trial at a time. \n",
    "\n",
    "trial_range = [0,60] #@param\n",
    "\n",
    "#@markdown Then run this code cell to programatically define the trial time range."
   ]
  },
  {
   "cell_type": "markdown",
   "id": "9349c3a2-2cdd-4f69-b825-4dd686d950d3",
   "metadata": {},
   "source": [
    "## Plot processed data"
   ]
  },
  {
   "cell_type": "code",
   "execution_count": null,
   "id": "b6fbe8a1-2d56-4687-b95b-acf8c07f8f0e",
   "metadata": {
    "tags": [
     "hide-input"
    ]
   },
   "outputs": [],
   "source": [
    "#@title {display-mode: \"form\"}\n",
    "\n",
    "#@markdown Run this cell to create a plot of instantaneous peak rate and a plot of peak amplitude at each peak time.\n",
    "spike_times,df_props = w_spikes_.result\n",
    "\n",
    "mask = ((spike_times>bouts_list[0]) & (spike_times<bouts_list[1]))\n",
    "\n",
    "hfig,ax = plt.subplots(figsize=(5,4))\n",
    "ax.scatter(spike_times[mask],np.diff(spike_times[mask],append(spike_times[mask][-1]-spike_times[mask][-2])))\n",
    "ax.set_ylabel('peak times',fontsize=14)\n",
    "ax.set_xlabel('peak rate',fontsize=14)\n",
    "           \n",
    "hfig,ax = plt.subplots(figsize=(5,4))\n",
    "ax.scatter(spike_times[mask],df_props[mask]['height'])\n",
    "ax.set_ylabel('peak times',fontsize=14)\n",
    "ax.set_xlabel('peak amplitude',fontsize=14)\n",
    "\n",
    "n,bins = np.histogram(df_props['height'][mask],bins = 500) # calculate the histogram\n",
    "bins = bins[1:]\n",
    "hfig,ax = plt.subplots(figsize=(5,4))\n",
    "ax.step(bins,n,color='black')\n",
    "ax.set_ylabel('count',fontsize=14)\n",
    "ax.set_xlabel('amplitude',fontsize=14)\n",
    "plt.xticks(fontsize=14)\n",
    "plt.yticks(fontsize=14);"
   ]
  },
  {
   "cell_type": "markdown",
   "id": "4038496d-71c3-4ea4-87b6-bd5a1392a000",
   "metadata": {},
   "source": [
    "<a id=\"one\"></a>\n",
    "# III. Fatigue\n",
    "\n",
    "To process the EMG signal in this experiment, we will calculate a ***moving RMS***. \n"
   ]
  },
  {
   "cell_type": "markdown",
   "id": "b9ac5e67-0fcd-4fcf-8b97-f8b1f25063cd",
   "metadata": {},
   "source": [
    "## Define Trial Times"
   ]
  },
  {
   "cell_type": "code",
   "execution_count": null,
   "id": "f1602d14-c4c3-42e0-9ef2-12f8af9b509f",
   "metadata": {
    "tags": [
     "hide-input"
    ]
   },
   "outputs": [],
   "source": [
    "#@title {display-mode: \"form\"}\n",
    "\n",
    "#@markdown For this experiment, you don't have precise trial onset markers, but you should be able to \n",
    "#@markdown estimate the onset and offset of individual trials. \n",
    "#@markdown Specify the trial range as follows: [start of trial, end of trial] <br>\n",
    "#@markdown You will only be able to examine one trial at a time. \n",
    "\n",
    "trial_range = [0,60] #@param\n",
    "\n",
    "#@markdown Then run this code cell to programatically define the trial time range."
   ]
  },
  {
   "cell_type": "code",
   "execution_count": null,
   "id": "6fd04f4f-b222-4a91-b96e-2141da6fe106",
   "metadata": {
    "tags": [
     "hide-input"
    ]
   },
   "outputs": [],
   "source": [
    "#@title {display-mode: \"form\"}\n",
    "\n",
    "#@markdown Specify a window size (in seconds) for the moving average\n",
    "\n",
    "window_size = 1 #@param\n",
    "\n",
    "#@markdown Specify which channel you want to analyze\n",
    "\n",
    "channel_ = 0 #@param\n",
    "\n",
    "window_size = int(window_size*fs)\n",
    "\n",
    "#@markdown Then run this code cell to plot the RMS\n",
    "\n",
    "a = data[:,channel_]\n",
    "\n",
    "def window_rms(a, window_size):\n",
    "    a2 = np.power(a,2)\n",
    "    window = np.ones(window_size)/float(window_size)\n",
    "    return np.sqrt(np.convolve(a2, window, 'same'))\n",
    "\n",
    "rms_data = window_rms(a, window_size)\n",
    "\n",
    "xtime = np.linspace(0,data_dur,np.shape(data)[1])\n",
    "\n",
    "hfig,ax = plt.subplots(figsize=(5,4))\n",
    "ax.plot(xtime,rms_data)\n",
    "ax.set_ylabel('rms',fontsize=14)\n",
    "ax.set_xlabel('time (s)',fontsize=14)"
   ]
  }
 ],
 "metadata": {
  "kernelspec": {
   "display_name": "Python 3 (ipykernel)",
   "language": "python",
   "name": "python3"
  },
  "language_info": {
   "codemirror_mode": {
    "name": "ipython",
    "version": 3
   },
   "file_extension": ".py",
   "mimetype": "text/x-python",
   "name": "python",
   "nbconvert_exporter": "python",
   "pygments_lexer": "ipython3",
   "version": "3.9.13"
  }
 },
 "nbformat": 4,
 "nbformat_minor": 5
}
