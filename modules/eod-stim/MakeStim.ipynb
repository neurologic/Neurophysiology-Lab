{
 "cells": [
  {
   "cell_type": "code",
   "execution_count": 5,
   "id": "18d920aa-3ce9-4833-ab50-a42bcfd553da",
   "metadata": {},
   "outputs": [],
   "source": [
    "from scipy.io.wavfile import write\n",
    "import numpy as np\n",
    "import matplotlib.pyplot as plt"
   ]
  },
  {
   "cell_type": "code",
   "execution_count": 46,
   "id": "1837f7a4-3871-481a-9358-75c0563d89e2",
   "metadata": {},
   "outputs": [],
   "source": [
    "fs = 1000\n",
    "stim = np.zeros(fs*3).reshape(-1,1);"
   ]
  },
  {
   "cell_type": "code",
   "execution_count": 47,
   "id": "8ab1d7f0-cee3-4912-8ad8-deb0fba178a7",
   "metadata": {},
   "outputs": [
    {
     "data": {
      "text/plain": [
       "(3000, 1)"
      ]
     },
     "execution_count": 47,
     "metadata": {},
     "output_type": "execute_result"
    }
   ],
   "source": [
    "np.shape(stim)"
   ]
  },
  {
   "cell_type": "code",
   "execution_count": 51,
   "id": "0ac18129-a802-4c03-bc08-3012df06f47b",
   "metadata": {},
   "outputs": [],
   "source": [
    "stim[10:-10]=2"
   ]
  },
  {
   "cell_type": "code",
   "execution_count": 52,
   "id": "9ee346b1-ea9a-40fa-82dd-e1f7c3c01aba",
   "metadata": {},
   "outputs": [
    {
     "data": {
      "image/png": "[encoded data removed]",
      "text/plain": [
       "<Figure size 432x288 with 1 Axes>"
      ]
     },
     "metadata": {
      "needs_background": "light"
     },
     "output_type": "display_data"
    }
   ],
   "source": [
    "plt.plot(stim);"
   ]
  },
  {
   "cell_type": "code",
   "execution_count": 53,
   "id": "45bf182f-bd29-4053-bb08-3cd361f749d8",
   "metadata": {},
   "outputs": [],
   "source": [
    "write(\"stim.wav\", fs, stim.astype(np.int16))"
   ]
  },
  {
   "cell_type": "code",
   "execution_count": null,
   "id": "4d1d4b5e-ae2e-40d1-9902-09a4bf5148c1",
   "metadata": {},
   "outputs": [],
   "source": []
  }
 ],
 "metadata": {
  "kernelspec": {
   "display_name": "Python 3 (ipykernel)",
   "language": "python",
   "name": "python3"
  },
  "language_info": {
   "codemirror_mode": {
    "name": "ipython",
    "version": 3
   },
   "file_extension": ".py",
   "mimetype": "text/x-python",
   "name": "python",
   "nbconvert_exporter": "python",
   "pygments_lexer": "ipython3",
   "version": "3.8.13"
  }
 },
 "nbformat": 4,
 "nbformat_minor": 5
}
