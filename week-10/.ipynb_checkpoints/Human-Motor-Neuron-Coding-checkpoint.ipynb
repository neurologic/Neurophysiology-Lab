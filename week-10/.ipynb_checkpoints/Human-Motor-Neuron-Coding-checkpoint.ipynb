{
 "cells": [
  {
   "cell_type": "markdown",
   "id": "HAxTUrL5OBKT",
   "metadata": {
    "id": "HAxTUrL5OBKT"
   },
   "source": [
    "<a id=intro></a>\n",
    "# Human Motor Neuron Activity\n",
    "\n",
    "In vertebrates, every voltage spike in a motor neuron generates a voltage spike in the muscle fibers it innervates. A single motor neuron and the muscle fibers it innervates are called a *motor unit*. In humans, the only single-unit neural activity that we can measure non-invasively is from motor neurons. We measure motor neuron activity via muscle voltage spikes. Muscle voltage spikes can be measured by electrodes placed on the surface of the skin overlying the muscle. \n",
    "\n",
    "You will acquire electromyograms using differential surface electrodes above the *belly* of several dorsal interossei muscles. These muscles (along with palmar interossei) move fingers side to side.  \n",
    "- first dorsal (medial to the index finger)\n",
    "- abductor digiti minimi (lateral to the pinky finger)\n",
    "- third dorsal (lateral to the middle finger) (you could also try second dorsal medial to the middle finger)\n",
    "\n",
    "First, you will try to isolate the smallest motor units from each of the interossei muscles.\n",
    "Then, you will put the muscle under load and analyze concentric and eccentric contraction "
   ]
  },
  {
   "cell_type": "markdown",
   "id": "739f4504-f4df-4bef-b3cd-c4994cd07abc",
   "metadata": {},
   "source": [
    "<a id=toc></a>\n",
    "# Table of Contents\n",
    "\n",
    "- [Introduction](#intro)\n",
    "- [Setup](#setup)\n",
    "- [Part I. Load data](#one)\n",
    "- [Part II. Process the data](#two)\n",
    "- [Part III. Sort detected events](#three)\n",
    "- [Part IV. Analyze motor unit activity](#four)"
   ]
  },
  {
   "cell_type": "markdown",
   "id": "EK5i2ORGSkdt",
   "metadata": {
    "id": "EK5i2ORGSkdt"
   },
   "source": [
    "<a id=setup></a>\n",
    "# Setup"
   ]
  },
  {
   "cell_type": "code",
   "execution_count": null,
   "id": "b864637c-9363-4529-b848-0ceb11dd1309",
   "metadata": {
    "cellView": "form",
    "id": "b864637c-9363-4529-b848-0ceb11dd1309",
    "tags": [
     "hide-input"
    ]
   },
   "outputs": [],
   "source": [
    "#@markdown <b>TASK: </b> RUN this cell to set up the notebook (import packages, etc) { display-mode: \"form\" }\n",
    "# In Python, anything with a \"#\" in front of it is code annotation,\n",
    "# and is not read by the computer.\n",
    "# You can run a cell (this box) by pressing ctrl-enter or shift-enter.\n",
    "# You can also run a cell by clicking the play button in the menu bar \n",
    "# at the top of the page (single right arrow, not double).\n",
    "# Click in this cell and then press shift and enter simultaneously.\n",
    "# This print function below allows us to generate a message.\n",
    "print('Nice work!')\n",
    "\n",
    "# No need to edit anything in this code cell\n",
    "#################################\n",
    "from google.colab import files\n",
    "import numpy as np\n",
    "import pandas as pd\n",
    "from scipy import ndimage\n",
    "from scipy.signal import find_peaks\n",
    "from copy import deepcopy\n",
    "import math\n",
    "from sklearn.decomposition import PCA\n",
    "from sklearn.cluster import KMeans\n",
    "from pathlib import Path\n",
    "import matplotlib.pyplot as plt\n",
    "import plotly.express as px\n",
    "import plotly.graph_objects as go\n",
    "from plotly.subplots import make_subplots\n",
    "import csv\n",
    "from scipy.signal import hilbert,medfilt,resample\n",
    "from sklearn.decomposition import PCA\n",
    "import scipy\n",
    "import seaborn as sns\n",
    "from datetime import datetime,timezone,timedelta\n",
    "pal = sns.color_palette(n_colors=15)\n",
    "pal = pal.as_hex()\n",
    "\n",
    "print('Task completed at ' + str(datetime.now(timezone(-timedelta(hours=5)))))"
   ]
  },
  {
   "cell_type": "code",
   "execution_count": null,
   "id": "2b7b40f4-6d05-4e98-b7db-929697e0898e",
   "metadata": {
    "cellView": "form",
    "id": "2b7b40f4-6d05-4e98-b7db-929697e0898e",
    "tags": [
     "hide-input"
    ]
   },
   "outputs": [],
   "source": [
    "#@markdown <b>TASK: </b> RUN this cell to mount your Google Drive. { display-mode: \"form\" }\n",
    "#@markdown > Follow all instructions as prompted by pop-ups.\n",
    "from google.colab import drive\n",
    "drive.mount('/content/drive')\n",
    "\n",
    "print('Task completed at ' + str(datetime.now(timezone(-timedelta(hours=5)))))"
   ]
  },
  {
   "cell_type": "markdown",
   "id": "641f6139-ea5f-49e9-9a28-c30526918e62",
   "metadata": {},
   "source": [
    "<a id=one></a>\n",
    "# Part I. Load data"
   ]
  },
  {
   "cell_type": "code",
   "execution_count": null,
   "id": "Q2xgu7k2-wBV",
   "metadata": {
    "cellView": "form",
    "id": "Q2xgu7k2-wBV",
    "tags": [
     "hide-input"
    ]
   },
   "outputs": [],
   "source": [
    "#@markdown Specify the file path { display-mode: \"form\" }\n",
    "#@markdown to your recorded data on Drive:\n",
    "#@markdown > Also specify the sampling rate and number of channels recorded.\n",
    "filepath = \"full filepath goes here\"  #@param \n",
    "\n",
    "#@markdown After you have copied/typed in a filepath and specified the metadata, \n",
    "#@markdown run this code cell to load the EMG data. \n",
    "\n",
    "sampling_rate = NaN #@param\n",
    "number_channels = NaN #@param\n",
    "\n",
    "filepath = Path(filepath)\n",
    "\n",
    "# No need to edit below this line\n",
    "#################################\n",
    "emg = np.fromfile(Path(filepath), dtype = np.float64)\n",
    "emg = emg.reshape(-1,number_channels)\n",
    "dur = np.shape(emg)[0]/sampling_rate\n",
    "print('duration of recording was %0.2f seconds' %dur)\n",
    "newfs = 2500 #downsample emg data\n",
    "chunksize = int(sampling_rate/newfs)\n",
    "emg = emg[0::chunksize,:]\n",
    "newfs = np.shape(emg)[0]/dur\n",
    "\n",
    "time = np.linspace(0,np.shape(emg)[0]/newfs,np.shape(emg)[0])\n",
    "\n",
    "\n",
    "print('Data upload completed at ' + str(datetime.now(timezone(-timedelta(hours=5)))))\n",
    "\n",
    "print('Now be a bit patient while it plots.')\n",
    "fig = go.Figure()\n",
    "fig.add_trace(go.Scatter(x = time, y = emg,line_color='black',name='emg0'))\n",
    "fig.update_layout(xaxis_title=\"time(seconds)\", yaxis_title='amplitude',width=800, height=500)"
   ]
  },
  {
   "cell_type": "markdown",
   "id": "rC1PKgxRUp5V",
   "metadata": {
    "id": "rC1PKgxRUp5V"
   },
   "source": [
    "<a id=two></a>\n",
    "# Part II. Process the data\n",
    "\n",
    "You need to set a detection threshold that will be used to detect electrical events produced by motor units in the interossei muscle."
   ]
  },
  {
   "cell_type": "code",
   "execution_count": null,
   "id": "iE2MylaxTGpL",
   "metadata": {
    "cellView": "form",
    "id": "iE2MylaxTGpL",
    "tags": [
     "hide-input"
    ]
   },
   "outputs": [],
   "source": [
    "#@markdown <b>TASK: </b> Type in the start and stop time (in seconds) { display-mode: \"form\" }\n",
    "#@markdown that you want to focus on in the recording.\n",
    "start_time =   None#@param {type: \"number\"}\n",
    "stop_time = None  #@param {type: \"number\"}\n",
    "#@markdown <b>TASK: </b> Type in an appropriate event threshold amplitude for detection.\n",
    "threshold = None  #@param {type: \"number\"}\n",
    "#@markdown <b>TASK: </b> Then from the dropdown, select a polarity (whether peaks are up or down)\n",
    "peaks = \"up\"  #@param ['select peak direction','up', 'down']\n",
    "#@markdown <b>TASK: </b> Finally, RUN this cell to set these values.\n",
    "spike_detection_threshold = threshold\n",
    "if peaks=='up': polarity = 1\n",
    "if peaks=='down': polarity=-1\n",
    "\n",
    "#@markdown After the values are set, the emg signal will be processed to detect events (peaks).\n",
    "#@markdown \"PCA\" (principle component analysis) will be applied to determine  \n",
    "#@markdown the fundamental waveform shapes across all events.\n",
    "#@markdown <br> You will see a histogram of event peak amplitudes \n",
    "#@markdown as well as a plot of waveform PCs (principle components).\n",
    "min_isi = 0.0035 #seconds\n",
    "\n",
    "# samples_inwin = samples[int(start_time/sample_rate):int(stop_time/sample_rate)]\n",
    "peaks,props = find_peaks(polarity * samples,height=spike_detection_threshold, \n",
    "                         prominence = spike_detection_threshold, distance=(min_isi*sample_rate))\n",
    "peaks_t = peaks/sample_rate\n",
    "inwin_inds = ((peaks_t>start_time) & (peaks_t<stop_time))\n",
    "df_props = pd.DataFrame({\n",
    "        'height': props['peak_heights'][inwin_inds],\n",
    "        'spikeT' : peaks_t[inwin_inds],\n",
    "        'spikeInd' : peaks[inwin_inds]\n",
    "        # 'widths' : props['widths']/fs\n",
    "            })\n",
    "n,bins = np.histogram(df_props['height'],bins = 100) # calculate the histogram\n",
    "bins = bins[1:]\n",
    "hfig,ax = plt.subplots(1)\n",
    "ax.step(bins,n)\n",
    "ax.set_ylabel('count')\n",
    "ax.set_xlabel('amplitude')\n",
    "\n",
    "windur = 0.005\n",
    "winsamp = int(windur*sample_rate)\n",
    "spkarray = []\n",
    "for i in df_props['spikeInd'].values:\n",
    "    spkarray.append(samples[i-winsamp : i+winsamp+1])\n",
    "\n",
    "df = pd.DataFrame(np.asarray(spkarray).T)\n",
    "df_norm =(df - df.mean()) / df.std() # normalize for pca\n",
    "\n",
    "n_components=df.shape[1] \n",
    "pca = PCA(n_components=n_components)\n",
    "pca.fit(df_norm)\n",
    "df_pca = pd.DataFrame(pca.transform(df), columns=['PC%i' % i for i in range(n_components)], index=df.index)\n",
    "print('You detected %i events above threshold.' %len(df.columns))\n",
    "#print(You have transformed this dataset into %i principle components.' %(len(df.columns),n_components))\n",
    "\n",
    "loadings = pd.DataFrame(pca.components_.T, columns=df_pca.columns, index=df.columns)\n",
    "df_data = loadings.join(df_props['height'])\n",
    "\n",
    "hfig,ax = plt.subplots(1)\n",
    "ax.set_xlabel('seconds')\n",
    "ax.set_ylabel('amplitude (a.u.)')\n",
    "ax.set_yticklabels([])\n",
    "for c in df_pca.columns:\n",
    "    ax.plot(df_pca[c],label = c,alpha = 0.75)\n",
    "plt.legend(bbox_to_anchor=(1, 1));\n",
    "\n",
    "print('Tasks completed at ' + str(datetime.now(timezone(-timedelta(hours=5)))))\n"
   ]
  },
  {
   "cell_type": "markdown",
   "id": "SGhm7J-Rebvi",
   "metadata": {
    "id": "SGhm7J-Rebvi"
   },
   "source": [
    "<a id=three></a>\n",
    "# Part III. Sort detected events\n",
    "\n",
    "Based on PC \"loadings\" and waveform height, we should be able to tell that there are distinct categories of events - each generated by a different motor unit. \n",
    "\"Kmeans\" is an algorithm built to automatically assign events to \"clusters\" based on similarity to each other and dissimilarity from other clusters. "
   ]
  },
  {
   "cell_type": "code",
   "execution_count": null,
   "id": "4e574ce9-d314-4a20-918b-f2496260c9a8",
   "metadata": {
    "cellView": "form",
    "id": "4e574ce9-d314-4a20-918b-f2496260c9a8",
    "tags": [
     "hide-input"
    ]
   },
   "outputs": [],
   "source": [
    "#@markdown Let's start by clustering the events into putative motor units. { display-mode: \"form\" }\n",
    "#@markdown Choose the number of clusters you want to split the data into and type that number below. <br>\n",
    "#@markdown >Note: It can sometimes help to \"over-split\" the events into more clusters \n",
    "#@markdown than you think will be necessary. You can try both strategies and assess the results.\n",
    "number_of_clusters = None #@param {type: \"number\"}\n",
    "#@markdown RUN this cell to cluster events categorically based on waveform shape (in PC space) and amplitude. \n",
    "#@markdown <br>As a result, you will see a plot of the mean waveform from each cluster (with standard deviation shaded)\n",
    "\n",
    "# No need to edit below this line\n",
    "#################################\n",
    "\n",
    "kmeans = KMeans(n_clusters=number_of_clusters).fit(df_data)\n",
    "# df_props['peaks_t'] = peaks_t\n",
    "df_props['cluster'] = kmeans.labels_\n",
    "\n",
    "winsamps = int(windur * sample_rate)\n",
    "x = np.linspace(-windur,windur,winsamps*2)*1000\n",
    "hfig,ax = plt.subplots(1,figsize=(10,8))\n",
    "ax.set_ylabel('Volts recorded')\n",
    "ax.set_xlabel('milliseconds')\n",
    "\n",
    "# fig = go.Figure()\n",
    "\n",
    "for k in np.unique(df_props['cluster']):\n",
    "    spkt = df_props.loc[df_props['cluster']==k]['spikeT'].values #['peaks_t'].values\n",
    "    spkt = spkt[(spkt>windur) & (spkt<(len((samples)/sample_rate)-windur))]\n",
    "    print(str(len(spkt)) + \" spikes in cluster number \" + str(k))\n",
    "    spkwav = np.asarray([samples[(int(t*sample_rate)-winsamps):(int(t*sample_rate)+winsamps)] for t in spkt])\n",
    "    wav_u = np.mean(spkwav,0)\n",
    "    wav_std = np.std(spkwav,0)\n",
    "    # fig.add_trace(go.Scatter(x = x, y = wav_u,line_color=pal[k],name='cluster ' + str(k)),\n",
    "    #          row=1,col=1)\n",
    "    ax.plot(x,wav_u,linewidth = 3,label='cluster '+ str(k),color=pal[k])\n",
    "    ax.fill_between(x, wav_u-wav_std, wav_u+wav_std, alpha = 0.25,color=pal[k])\n",
    "# fig.update_layout(xaxis_title=\"time(seconds)\", yaxis_title='amplitude',width=500, height=500)\n",
    "plt.legend(bbox_to_anchor=[1.25,1]);\n",
    "\n",
    "print('Tasks completed at ' + str(datetime.now(timezone(-timedelta(hours=5)))))\n"
   ]
  },
  {
   "cell_type": "markdown",
   "id": "9iyWsThmXdI_",
   "metadata": {
    "id": "9iyWsThmXdI_"
   },
   "source": [
    "If there are multiple spike clusters you want to merge into a single cell class, *edit and run* the cell below.\n",
    "\n",
    "> **merge_cluster_list** = a list of the clusters (identified by numbers associated with the colors specified in the legend above).\n",
    "  - **For example**, the folowing list would merge clusters 0 and 2 together and 1, 4, and 3 together: <br>\n",
    "     **merge_cluster_list = [[0,2],[1,4,3]]**\n",
    "  - For each merge group, the first cluster number listed will be the re-asigned cluster number for that group (for example, in this case you would end up with a cluster number 0 and a cluster number 1). \n",
    "  "
   ]
  },
  {
   "cell_type": "code",
   "execution_count": null,
   "id": "EDJgd8DAXRba",
   "metadata": {
    "cellView": "form",
    "id": "EDJgd8DAXRba",
    "tags": [
     "hide-input"
    ]
   },
   "outputs": [],
   "source": [
    "#@markdown ONLY DO THIS TASK IF YOU WANT TO MERGE CLUSTERS. { display-mode: \"form\" }\n",
    "#@markdown OTHERWISE, MOVE ON. \n",
    "#@markdown <br> Below, create your list (of sublists) of clusters to merge.\n",
    "#@markdown >Just leave out from the list any clusters that you want unmerged.\n",
    "merge_cluster_list = [[0,4,5],[1,3]] #@param\n",
    "#@markdown Then, RUN the cell to merge clusters as specified.\n",
    "\n",
    "for k_group in merge_cluster_list:\n",
    "    for k in k_group:\n",
    "        df_props.loc[df_props['cluster']==k,'cluster'] = k_group[0]\n",
    "print('you now have the following clusters: ' + str(np.unique(df_props['cluster'])))\n",
    "\n",
    "print('Tasks completed at ' + str(datetime.now(timezone(-timedelta(hours=5)))))\n"
   ]
  },
  {
   "cell_type": "code",
   "execution_count": null,
   "id": "JAux50jqXs8a",
   "metadata": {
    "cellView": "form",
    "id": "JAux50jqXs8a",
    "tags": [
     "hide-input"
    ]
   },
   "outputs": [],
   "source": [
    "#@markdown Now, RUN this cell to plot the average waveform for your new clusters. { display-mode: \"form\" }\n",
    "##@markdown And to plot a color-coded scatter of each detected and categorized emg event.\n",
    "winsamps = int(windur * sample_rate)\n",
    "x = np.linspace(-windur,windur,winsamps*2)*1000\n",
    "hfig,ax = plt.subplots(1,figsize=(8,6))\n",
    "ax.set_ylabel('amplitude')\n",
    "ax.set_xlabel('milliseconds')\n",
    "\n",
    "# fig = go.Figure()\n",
    "\n",
    "for k in np.unique(df_props['cluster']):\n",
    "    spkt = df_props.loc[df_props['cluster']==k]['spikeT'].values\n",
    "    spkt = spkt[(spkt>windur) & (spkt<(len((samples)/sample_rate)-windur))]\n",
    "    print(str(len(spkt)) + \" spikes in cluster number \" + str(k))\n",
    "    spkwav = np.asarray([samples[(int(t*sample_rate)-winsamps):(int(t*sample_rate)+winsamps)] for t in spkt])\n",
    "    wav_u = np.mean(spkwav,0)\n",
    "    wav_std = np.std(spkwav,0)\n",
    "    # fig.add_trace(go.Scatter(x = x, y = wav_u,line_color=pal[k],name='cluster ' + str(k)),\n",
    "    #          row=1,col=1)\n",
    "    ax.plot(x,wav_u,linewidth = 3,label='cluster '+ str(k),color=pal[k])\n",
    "    ax.fill_between(x, wav_u-wav_std, wav_u+wav_std, alpha = 0.25,color=pal[k])\n",
    "# fig.update_layout(xaxis_title=\"time(seconds)\", yaxis_title='amplitude',width=500, height=500)\n",
    "plt.legend(bbox_to_anchor=[1.25,1]);\n",
    "\n",
    "# fig = go.Figure()\n",
    "# fig.add_trace(go.Scatter(x = xtime, y = samples,line_color='black',name='emg0'))\n",
    "# for i,k in enumerate(np.unique(df_props['cluster'])):\n",
    "#     df_ = df_props[df_props['cluster']==k]\n",
    "#     fig.add_trace(go.Scatter(x = df_['peaks_t'], y = polarity*df_['height'],line_color=pal[k],name=str(k),mode='markers'))\n",
    "# fig.update_layout(xaxis_title=\"time(seconds)\", yaxis_title='amplitude',width=800, height=400)\n",
    "\n",
    "print('Tasks completed at ' + str(datetime.now(timezone(-timedelta(hours=5)))))\n"
   ]
  },
  {
   "cell_type": "markdown",
   "id": "bbec3d10-20c5-48a3-88c2-c2f7eff27938",
   "metadata": {},
   "source": [
    "<a id=four></a>\n",
    "# Part IV. Analyze motor unit activity"
   ]
  },
  {
   "cell_type": "code",
   "execution_count": null,
   "id": "aa44e039-606d-4513-bbd5-568034dcf981",
   "metadata": {
    "cellView": "form",
    "id": "aa44e039-606d-4513-bbd5-568034dcf981",
    "tags": [
     "hide-input"
    ]
   },
   "outputs": [],
   "source": [
    "#@markdown <b>TASK: </b> If you are satisfied with your clustering, { display-mode: \"form\" }\n",
    "#@markdown RUN this cell to plot: \n",
    "\n",
    "#@markdown 1) a scatter of event times overlaid on the raw emg signal \n",
    "\n",
    "#@markdown 2) a scatter of instantaneous spike rate for each cluster. \n",
    "\n",
    "fig = make_subplots(rows=2, cols=1,\n",
    "                    shared_xaxes=True,\n",
    "                    vertical_spacing=0.02)\n",
    "\n",
    "\n",
    "fig.add_trace(go.Scatter(x = xtime, y = samples,line_color='black',name='raw emg'),\n",
    "             row=1,col=1)\n",
    "for k in np.unique(df_props['cluster']):\n",
    "    df_ = df_props[df_props['cluster']==k]\n",
    "    \n",
    "    fig.add_trace(go.Scatter(x = df_['spikeT'], y = polarity*df_['height'],\n",
    "                             line_color=pal[k],name=str(k),mode='markers'),row=1,col=1)\n",
    "    # fig.add_trace(go.Scatter(x = df_['peaks_t'], y = polarity*df_['height'],\n",
    "    #                          line_color=pal[k],name=str(k),mode='markers'),row=1,col=1)\n",
    "\n",
    "\n",
    "for k in np.unique(df_props['cluster']):\n",
    "    df_ = df_props[df_props['cluster']==k]\n",
    "    fig.add_trace(go.Scatter(x = df_['spikeT'][1:], y = 1/np.diff(df_['spikeT']),\n",
    "                             line_color=pal[k],name='cluster ' + str(k) + ' rate',mode='markers'),\n",
    "                 row=2,col=1)\n",
    "    # fig.add_trace(go.Scatter(x = df_['peaks_t'][1:], y = 1/np.diff(df_['peaks_t']),\n",
    "    #                          line_color=pal[k],name='cluster ' + str(k) + ' rate',mode='markers'),\n",
    "    #              row=2,col=1)\n",
    "\n",
    "print('Tasks completed at ' + str(datetime.now(timezone(-timedelta(hours=5)))))\n",
    "print('Now wait a moment while the plots render.')\n",
    "\n",
    "fig.update_layout(xaxis2_title=\"time(seconds)\", \n",
    "                  yaxis_title='amplitude (volts)', yaxis2_title='instantaneous spike rate',\n",
    "                  width=800, height=500)\n",
    "\n",
    "\n"
   ]
  },
  {
   "cell_type": "code",
   "execution_count": null,
   "id": "3b53512a-6408-47d6-8d66-61164a168fd1",
   "metadata": {},
   "outputs": [],
   "source": []
  },
  {
   "cell_type": "markdown",
   "id": "0bdc5386-aca5-4591-bcf2-f1c82b04bf99",
   "metadata": {},
   "source": [
    "<hr> \n",
    "Written by Dr. Krista Perks for courses taught at Wesleyan University."
   ]
  }
 ],
 "metadata": {
  "colab": {
   "collapsed_sections": [],
   "name": "NotebookColab_EMG_MotorUnits.ipynb",
   "provenance": []
  },
  "kernelspec": {
   "display_name": "Python 3",
   "language": "python",
   "name": "python3"
  },
  "language_info": {
   "codemirror_mode": {
    "name": "ipython",
    "version": 3
   },
   "file_extension": ".py",
   "mimetype": "text/x-python",
   "name": "python",
   "nbconvert_exporter": "python",
   "pygments_lexer": "ipython3",
   "version": "3.9.12"
  },
  "widgets": {
   "application/vnd.jupyter.widget-state+json": {
    "state": {},
    "version_major": 2,
    "version_minor": 0
   }
  }
 },
 "nbformat": 4,
 "nbformat_minor": 5
}
