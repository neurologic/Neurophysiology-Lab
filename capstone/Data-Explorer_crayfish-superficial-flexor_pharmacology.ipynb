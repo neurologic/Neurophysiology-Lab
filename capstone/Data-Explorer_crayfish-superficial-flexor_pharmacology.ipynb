{
 "cells": [
  {
   "cell_type": "markdown",
   "id": "32647951-7dcf-4553-b42a-5d8508d95cf9",
   "metadata": {},
   "source": [
    "<a href=\"https://colab.research.google.com/github/neurologic/Neurophysiology-Lab/blob/main/capstone/Data-Explorer_crayfish-superficial-flexor_pharmacology.ipynb\" target=\"_blank\" rel=\"noopener noreferrer\"><img alt=\"Open In Colab\" src=\"https://colab.research.google.com/assets/colab-badge.svg\"/></a>   "
   ]
  },
  {
   "cell_type": "markdown",
   "id": "40761f4a-e1a9-4b67-9730-5d554d380e91",
   "metadata": {},
   "source": [
    "# Duncan - Data Explorer"
   ]
  },
  {
   "cell_type": "markdown",
   "id": "38b445ff-7cf7-442e-bb25-83afe6d5a3fb",
   "metadata": {},
   "source": [
    "<a id=\"intro\"></a>\n",
    "# Superficial Flexor: Postsynaptic Activity\n",
    "\n",
    "\n"
   ]
  },
  {
   "cell_type": "markdown",
   "id": "60a849ba-985d-401c-a345-78f3dea2fe86",
   "metadata": {},
   "source": [
    "<a id=\"setup\"></a>\n",
    "# Setup\n",
    "\n",
    "\n",
    "Import and define functions"
   ]
  },
  {
   "cell_type": "code",
   "execution_count": null,
   "id": "563bc67c-8936-49fa-ac9c-5e51f3f6fc89",
   "metadata": {
    "tags": [
     "hide-input"
    ]
   },
   "outputs": [],
   "source": [
    "#@title {display-mode: \"form\" }\n",
    "\n",
    "#@markdown Run this code cell to import packages and define functions \n",
    "import numpy as np\n",
    "import pandas as pd\n",
    "import plotly.express as px\n",
    "import plotly.graph_objects as go\n",
    "from plotly.subplots import make_subplots\n",
    "from scipy import ndimage\n",
    "from scipy.optimize import curve_fit\n",
    "from scipy.signal import hilbert,medfilt,resample, find_peaks, unit_impulse\n",
    "import seaborn as sns\n",
    "from datetime import datetime,timezone,timedelta\n",
    "pal = sns.color_palette(n_colors=15)\n",
    "pal = pal.as_hex()\n",
    "import matplotlib.pyplot as plt\n",
    "import random\n",
    "from sklearn.decomposition import PCA\n",
    "from sklearn.cluster import KMeans\n",
    "\n",
    "from pathlib import Path\n",
    "\n",
    "from matplotlib.ticker import (AutoMinorLocator, MultipleLocator)\n",
    "from ipywidgets import widgets, interact, interactive, interactive_output\n",
    "%config InlineBackend.figure_format = 'retina'\n",
    "plt.style.use(\"https://raw.githubusercontent.com/NeuromatchAcademy/course-content/master/nma.mplstyle\")\n",
    "\n",
    "print('Task completed at ' + str(datetime.now(timezone(-timedelta(hours=5)))))\n"
   ]
  },
  {
   "cell_type": "markdown",
   "id": "d0ec2161-a892-4f83-904d-c69de977cff1",
   "metadata": {},
   "source": [
    "Mount Google Drive"
   ]
  },
  {
   "cell_type": "code",
   "execution_count": null,
   "id": "a9e89f46-51f1-485c-a8d2-f36703e2da44",
   "metadata": {
    "tags": [
     "hide-input"
    ]
   },
   "outputs": [],
   "source": [
    "#@title {display-mode: \"form\" }\n",
    "\n",
    "#@markdown Run this cell to mount your Google Drive.\n",
    "\n",
    "from google.colab import drive\n",
    "drive.mount('/content/drive')\n",
    "\n",
    "print('Task completed at ' + str(datetime.now(timezone(-timedelta(hours=5)))))"
   ]
  },
  {
   "cell_type": "markdown",
   "id": "b0520411-162e-4891-ac66-fb797be49a1f",
   "metadata": {},
   "source": [
    "## Import data \n",
    "\n",
    "Import data digitized with *Nidaq USB6211* and recorded using *Bonsai-rx* as a *.bin* file\n",
    "\n",
    "If you would like sample this Data Explorer, but do not have data, you can download the following examples (two channels digitized at 40000). Channel 0 is the signal measured from N3 and Channel 1 is the signal measured from the Superficial Flexor muscle. \n"
   ]
  },
  {
   "cell_type": "code",
   "execution_count": null,
   "id": "cbb9bad0-84d7-49f1-8a61-5e61bdea8231",
   "metadata": {
    "tags": [
     "hide-input"
    ]
   },
   "outputs": [],
   "source": [
    "#@title {display-mode: \"form\" }\n",
    "\n",
    "#@markdown Specify the file path \n",
    "#@markdown to your recorded data on Drive (find the filepath in the colab file manager:\n",
    "\n",
    "filepath = \"/Users/kperks/Downloads/Capstone_McKee0.bin\"  #@param \n",
    "# filepath = '/Users/kperks/Downloads/Duncan_final/Capstone_McKee0.bin' \n",
    "\n",
    "#@markdown Specify the sampling rate and number of channels recorded.\n",
    "\n",
    "sampling_rate = 40000 #@param\n",
    "number_channels = 2 #@param\n",
    "\n",
    "\n",
    "# downsample = False #@param\n",
    "# newfs = 10000 #@param\n",
    "\n",
    "#@markdown After you have filled out all form fields, \n",
    "#@markdown run this code cell to load the data. \n",
    "\n",
    "filepath = Path(filepath)\n",
    "\n",
    "# No need to edit below this line\n",
    "#################################\n",
    "data = np.fromfile(Path(filepath), dtype = np.float64)\n",
    "data = data.reshape(-1,number_channels)\n",
    "data_dur = np.shape(data)[0]/sampling_rate\n",
    "print('duration of recording was %0.2f seconds' %data_dur)\n",
    "\n",
    "fs = sampling_rate\n",
    "# if downsample:\n",
    "   ## newfs = 10000 #downsample emg data\n",
    "    # chunksize = int(sampling_rate/newfs)\n",
    "    # data = data[0::chunksize,:]\n",
    "    # fs = int(np.shape(data)[0]/data_dur)\n",
    "\n",
    "time = np.linspace(0,data_dur,np.shape(data)[0])\n",
    "\n",
    "print('Data upload completed at ' + str(datetime.now(timezone(-timedelta(hours=5)))))"
   ]
  },
  {
   "cell_type": "markdown",
   "id": "ac3d4210-b618-45f2-af8f-828c34d78329",
   "metadata": {},
   "source": [
    "## Detect PSP peaks\n",
    "\n",
    "\n",
    "For a more extensive ***RAW*** Data Explorer than the one provided in the above figure, use the [DataExplorer.py](https://raw.githubusercontent.com/neurologic/Neurophysiology-Lab/main/howto/Data-Explorer.py) application found in the [howto section](https://neurologic.github.io/Neurophysiology-Lab/howto/Dash-Data-Explorer.html) of the course website."
   ]
  },
  {
   "cell_type": "code",
   "execution_count": null,
   "id": "fd520a54-7a81-4c6c-a85c-f9ccb23a9b56",
   "metadata": {
    "tags": [
     "hide-input"
    ]
   },
   "outputs": [],
   "source": [
    "#@markdown Run this cell to create an interactive plot with a slider to scroll \n",
    "#@markdown through the signal\n",
    "#@markdown and set an appropriate event detection threshold and noise threshold. \n",
    "\n",
    "slider_xrange = widgets.FloatRangeSlider(\n",
    "    min=0,\n",
    "    max=data_dur,\n",
    "    value=(0,data_dur),\n",
    "    step= 0.1,\n",
    "    readout=True,\n",
    "    continuous_update=False,\n",
    "    description='Time Range (s)',\n",
    "    style = {'description_width': '200px'})\n",
    "slider_xrange.layout.width = '600px'\n",
    "\n",
    "slider_yrange = widgets.FloatRangeSlider(\n",
    "    min=-2,\n",
    "    max=2,\n",
    "    value=[-0.9,0.1],\n",
    "    step=0.01,\n",
    "    continuous_update=False,\n",
    "    readout=True,\n",
    "    description='yrange',\n",
    "    style = {'description_width': '200px'})\n",
    "slider_yrange.layout.width = '600px'\n",
    "\n",
    "slider_text = widgets.Text(\n",
    "    value='0.04',\n",
    "    placeholder='0.04',\n",
    "    description='time to peak (s)',\n",
    "    style = {'description_width': '200px'},\n",
    "    disabled=False\n",
    ")\n",
    "select_channel = widgets.Select(\n",
    "    options=np.arange(np.shape(data)[1]), # start with a single trial on a single bout... it will update when runs ; old: np.arange(len(trial_times)),\n",
    "    value=0,\n",
    "    #rows=10,\n",
    "    description='Channel',\n",
    "    style = {'description_width': '50px'},\n",
    "    disabled=False\n",
    ")\n",
    "select_channel.layout.width = '100px'\n",
    "select_channel.layout.height = '50px'\n",
    "\n",
    "# slider_threshold = widgets.FloatSlider(\n",
    "#     min=0,\n",
    "#     max=5,\n",
    "#     value=0.2,\n",
    "#     step=0.005,\n",
    "#     readout_format='.3f',\n",
    "#     continuous_update=False,\n",
    "#     readout=True,\n",
    "#     description='event detection threshold',\n",
    "#     style = {'description_width': '200px'})\n",
    "# slider_threshold.layout.width = '600px'\n",
    "\n",
    "radio_polarity = widgets.RadioButtons(\n",
    "    options=[1, -1],\n",
    "    value=1,\n",
    "    description='peaks polarity',\n",
    "    layout={'width': 'max-content'},\n",
    "    style = {'description_width': '100px'},\n",
    "    disabled=False\n",
    ")\n",
    "radio_polarity.layout.width = '300px'\n",
    "\n",
    "# ui_peaks = widgets.HBox([select_channel, radio_polarity, slider_threshold])\n",
    "\n",
    "# detect_type_radio = widgets.RadioButtons(\n",
    "#     options=['peak', 'level crossing positive', 'level crossing negative'],\n",
    "#     value='level crossing positive', # Defaults to 'level crossing'\n",
    "#     layout={'width': 'max-content'}, # If the items' names are long\n",
    "#     description='Type of event detection',\n",
    "#     style = {'description_width': '200px'},\n",
    "#     disabled=False\n",
    "# )\n",
    "\n",
    "iei_text = widgets.Text(\n",
    "    value='0.01',\n",
    "    placeholder='0.01',\n",
    "    description='minimum interval (s)',\n",
    "    style = {'description_width': '200px'},\n",
    "    disabled=False\n",
    ")\n",
    "\n",
    "noise_amp_text = widgets.Text(\n",
    "    value='0.06',\n",
    "    placeholder='0.06',\n",
    "    description='threshold amplitude (V)',\n",
    "    style = {'description_width': '200px'},\n",
    "    disabled=False\n",
    ")\n",
    "\n",
    "def update_plot(chan_,xrange,yrange,polarity,iei,noise_amp,onset):\n",
    "    fig, ax = plt.subplots(figsize=(10,5),num=1); #specify figure number so that it does not keep creating new ones\n",
    "    \n",
    "    signal = data[:,chan_].reshape(-1)\n",
    "    # signal = signal-np.median(signal)\n",
    "\n",
    "    \n",
    "    iei = float(iei)\n",
    "    noise_amp = float(noise_amp)\n",
    "    onset = float(onset)\n",
    "    prepeak_base = int(onset*fs)\n",
    "    \n",
    "    if iei>1/fs:\n",
    "        d = iei*fs #minimum time allowed between distinct events\n",
    "\n",
    "        # if thresh_ >=0:\n",
    "        #     r = find_peaks(signal,height=thresh_,distance=d)\n",
    "        # if thresh_ <0:\n",
    "        #     r = find_peaks(-1*signal,height=-1*thresh_,distance=d)\n",
    "        # trial_times = r[0]/fs\n",
    "\n",
    "        if polarity == 1:\n",
    "            # r_thresh = find_peaks(signal,height=thresh_,distance=d)\n",
    "            r_prom = find_peaks(signal,distance=d,prominence=noise_amp)\n",
    "            r_ind = r_prom[0] #np.intersect1d(r_thresh[0],r_prom[0])\n",
    "            # lagging_peak_amp = r[1]['peak_heights']\n",
    "            peak_amp = signal[r_ind]\n",
    "            base_amp = signal[r_ind-prepeak_base]\n",
    "            # ax.hlines(thresh_, xrange[0],xrange[1],linestyle='--',color='green')\n",
    "        if polarity == -1:\n",
    "            # r = find_peaks(-1*lagging_signal,height=-1*thresh_,distance=d,prominence=float(noise_amp))\n",
    "            # r_thresh = find_peaks(-1*signal,height=thresh_,distance=d)\n",
    "            r_prom = find_peaks(-1*signal,distance=d,prominence=noise_amp)\n",
    "            r_ind = r_prom[0] #np.intersect1d(r_thresh[0],r_prom[0])\n",
    "            # lagging_peak_amp = -1*r[1]['peak_heights']\n",
    "            peak_amp = signal[r_ind]\n",
    "            base_amp = signal[r_ind-prepeak_base]\n",
    "            # ax.hlines(-thresh_, xrange[0],xrange[1],linestyle='--',color='green')\n",
    "\n",
    "        # peak_times = np.asarray([np.round(s/fs,2) for s in r_ind])\n",
    "        peak_times = np.asarray([s/fs for s in r_ind])\n",
    "\n",
    "        starti = int(xrange[0]*fs)+1\n",
    "        stopi = int(xrange[1]*fs)-1\n",
    "        ax.plot(time[starti:stopi], signal[starti:stopi], color='black')\n",
    "\n",
    "\n",
    "        inwin_inds = (peak_times>(xrange[0])) & (peak_times<(xrange[1]))\n",
    "        ax.scatter(peak_times[inwin_inds],peak_amp[inwin_inds], zorder=3,color='red',s=20)\n",
    "        ax.scatter(peak_times[inwin_inds]-onset,base_amp[inwin_inds], zorder=3,color='green',s=20)\n",
    "\n",
    "        ax.set_ylim(yrange[0],yrange[1])\n",
    "        ax.set_xlim(xrange[0],xrange[1])\n",
    "\n",
    "        ax.xaxis.set_minor_locator(AutoMinorLocator(5))\n",
    "\n",
    "\n",
    "        return peak_times, peak_amp-base_amp\n",
    "\n",
    "# w_trials_ = interactive(update_plot, chan_=select_channel, \n",
    "#                         xrange=slider_xrange, \n",
    "#                         thresh_=slider_threshold, iei = iei_text, noise_amp = noise_amp_text);\n",
    "# display(w_trials_)\n",
    "w_peak_detect_all = interactive(update_plot, chan_=select_channel, \n",
    "                        yrange=slider_yrange,xrange=slider_xrange,\n",
    "                                polarity = radio_polarity, iei = iei_text,noise_amp=noise_amp_text,\n",
    "                               onset=slider_text);\n",
    "display(w_peak_detect_all)\n",
    "\n",
    "# w_peak_detect_all = interactive(update_plot, {'chan_':select_channel,\n",
    "#                                      'yrange':slider_yrange, \n",
    "#                                      'xrange':slider_xrange,\n",
    "#                                      'thresh_':slider_threshold,\n",
    "#                                      'polarity':radio_polarity,\n",
    "#                                      'iei':iei_text,\n",
    "#                                      'noise_amp':noise_amp_text});\n",
    "# display(ui_peaks,widgets.HBox([iei_text,noise_amp_text]),w_peak_detect_all,ui_range)"
   ]
  },
  {
   "cell_type": "markdown",
   "id": "7c79dbf5-af08-401a-a78e-fd519d26e921",
   "metadata": {},
   "source": [
    "## Define Bouts\n",
    "\n",
    "To efficiently assess your data with this analysis, make sure to exclude any raw data that does not have a clean (low-noise) signal. For the simultaneously recorded pre- and post-synaptic signals, make sure to exclude raw data in which the post-synaptic electrode was not stably in the cell. The more data you are able to include, the better your spike sorting results will be."
   ]
  },
  {
   "cell_type": "code",
   "execution_count": null,
   "id": "f8648f94-5d73-48ab-ae81-18882f8c31e4",
   "metadata": {
    "tags": [
     "hide-input"
    ]
   },
   "outputs": [],
   "source": [
    "#@title {display-mode: \"form\"}\n",
    "\n",
    "#@markdown For this experiment, the entire file should be one long bout, \n",
    "#@markdown but if there were regions that something got messed up or that you want to exclude, you can specify bouts with good data.\n",
    "#@markdown Specify the list of bout ranges as follows: [[start of bout 0, end of bout 0],[start 1, end 1],...]] <br>\n",
    "\n",
    "\n",
    "bouts_list = [[0,10]] #@param\n",
    "\n",
    "#@markdown Then run this code cell to programatically define the list of bouts as 'bouts_list'."
   ]
  },
  {
   "cell_type": "markdown",
   "id": "8063b5e6-8d85-44e9-b86c-cb2a9207113b",
   "metadata": {},
   "source": [
    "## Save processed data as .csv\n",
    "\n",
    "Specify the \"condition\" for the data you just processed. The condition should be a string (ie. surrounded by quotes).\n",
    "> It will take a minute or so to process and actually save, but the .csv file will be saved to the local \"content\" folder of Google Collaboratory. You can download them individually to your own computer (or move them to your Google Drive) to use again later without re-processing the data. "
   ]
  },
  {
   "cell_type": "code",
   "execution_count": null,
   "id": "7d83665d-b435-4e02-9091-4d097b746f5f",
   "metadata": {
    "tags": [
     "hide-input"
    ]
   },
   "outputs": [],
   "source": [
    "#@title {display-mode: \"form\"}\n",
    "\n",
    "condition = 'baseline' #@param\n",
    "\n",
    "peak_times,peak_amp = w_peak_detect_all.result\n",
    "\n",
    "mask = []\n",
    "for b_ in bouts_list:\n",
    "    mask.append((peak_times>b_[0]) & (peak_times<b_[1]))\n",
    "mask = sum(mask).astype(bool)\n",
    "\n",
    "df = pd.DataFrame({'time':peak_times[mask],'amp':peak_amp[mask],'number':np.arange(0,sum(mask),1),'condition':condition})\n",
    "\n",
    "df.to_csv('PSP_' + condition + '.csv')"
   ]
  },
  {
   "cell_type": "markdown",
   "id": "b000e64f-0309-4345-80f5-463340c9bf2e",
   "metadata": {},
   "source": [
    "## Visualize the average raw signal time-locked to PSP peaks.\n",
    "\n",
    "Average across unitary PSPs that are temporally isolated from each other (not temporally summated with another). Average is centered at the PSP peak. Only PSPs within the previously specified bouts are included."
   ]
  },
  {
   "cell_type": "code",
   "execution_count": null,
   "id": "e2fb9c5b-5f47-4bfc-b088-7d1af2eddb22",
   "metadata": {
    "tags": [
     "hide-input"
    ]
   },
   "outputs": [],
   "source": [
    "#@title {display-mode:\"form\"}\n",
    "\n",
    "#@markdown Specify which channel has the intracellular signal. \n",
    "#@markdown Then run this cell to plot the average spike-triggered \n",
    "#@markdown post-synaptic potential for each spike cluster you defined in Part I\n",
    "\n",
    "intracellular_channel = 1 #@param\n",
    "psp_duration = 0.04 #@param\n",
    "\n",
    "slider_xrange = widgets.FloatRangeSlider(\n",
    "    min=-0.05,\n",
    "    max=0.10,\n",
    "    value=(-0.02,0.1),\n",
    "    step=0.005,\n",
    "    readout_format='.3f',\n",
    "    continuous_update=False,\n",
    "    readout=True,\n",
    "    description='xrange (s)'\n",
    ")\n",
    "slider_xrange.layout.width = '600px'\n",
    "\n",
    "def update_plot(xrange):\n",
    "    # No need to edit below this line\n",
    "    #################################\n",
    "    windur = xrange[1]-xrange[0]\n",
    "    winsamps = int(windur * fs)\n",
    "\n",
    "    onset = int(xrange[0]*fs)\n",
    "    offset = int(xrange[1]*fs)\n",
    "\n",
    "    x = np.linspace(xrange[0],xrange[1],offset-onset)\n",
    "    \n",
    "    hfig,ax = plt.subplots(figsize=(8,4))\n",
    "    ax.set_ylabel('volts recorded',fontsize=14)\n",
    "    ax.set_xlabel('seconds',fontsize=14)\n",
    "    # plt.xticks(fontsize=14)\n",
    "    # plt.yticks(fontsize=14)\n",
    "    \n",
    "    trial_t = peak_times[mask]\n",
    "    trial_t_sorted = trial_t[((np.diff(trial_t,prepend=np.NaN)>psp_duration)&(np.diff(trial_t,append=np.NaN)>psp_duration))]\n",
    "    \n",
    "\n",
    "    synwav = np.asarray([data[int(t*fs)+onset:int(t*fs)+offset,intracellular_channel] for t in trial_t_sorted \n",
    "                         if (((int(t*fs)+onset)>0) & (int(t*fs)+offset<np.shape(data)[0]))])\n",
    "    wav_u = np.mean(synwav,0)\n",
    "    wav_std = np.std(synwav,0)\n",
    "    ax.plot(x,wav_u,linewidth = 3,color = 'black');\n",
    "    ax.fill_between(x, wav_u-wav_std, wav_u+wav_std, alpha = 0.25, color = 'purple')\n",
    "    # plt.legend(bbox_to_anchor=[1.5,1], fontsize=14);\n",
    "    ax.set_xlim(xrange[0],xrange[1])\n",
    "    \n",
    "w_psps_sorted_ = interactive(update_plot, xrange=slider_xrange);\n",
    "\n",
    "display(w_psps_sorted_)"
   ]
  },
  {
   "cell_type": "markdown",
   "id": "b2593252-178d-4126-affe-27707d9fd49a",
   "metadata": {
    "tags": []
   },
   "source": [
    "## Compare across conditions \n",
    "\n",
    "Provide a list of the csv files generated in the \"Save processed data as .csv\" step. The code will iterate through each data file and plot the results. You will also see the result of a mono-exponential fit to the data."
   ]
  },
  {
   "cell_type": "code",
   "execution_count": null,
   "id": "5777bffc-8eae-4288-9880-be9f852f5d3f",
   "metadata": {
    "tags": [
     "hide-input"
    ]
   },
   "outputs": [],
   "source": [
    "#@title {display-mode: \"form\"}\n",
    "\n",
    "#@markdown List the full path to each csv file created using the \"adaptation analysis tool.\"\n",
    "file_list = ['PSP_baseline.csv', 'PSP_dopamine.csv'] #@param\n",
    "# file_list = ['adaptation_2_b_.csv','adaptation_5_b_.csv','adaptation_10_b_.csv']\n",
    "\n",
    "#@markdown Then run this code cell to create a dataframe combining the data from all listed files.\n",
    "\n",
    "\n",
    "df = pd.DataFrame({})\n",
    "for f in file_list:\n",
    "    df_ = pd.read_csv(f)\n",
    "    df = pd.concat([df,df_])"
   ]
  },
  {
   "cell_type": "markdown",
   "id": "853eaf85-6a01-4386-ab37-ecf057af1dc1",
   "metadata": {},
   "source": [
    "A **box plot** (or box-and-whisker plot) shows the distribution of quantitative data in a way that facilitates comparisons between variables or across levels of a categorical variable. The box shows the quartiles of the dataset while the whiskers extend to show the rest of the distribution, except for points that are determined to be “outliers” using a method that is a function of the inter-quartile range."
   ]
  },
  {
   "cell_type": "code",
   "execution_count": null,
   "id": "7c139b5d-59b3-4c58-b1fd-4fa6b6989001",
   "metadata": {
    "tags": [
     "hide-input"
    ]
   },
   "outputs": [],
   "source": [
    "#@markdown Run this code cell to create a bo xplot of condition by amplitude\n",
    "\n",
    "x_param = 'condition' #@param\n",
    "y_param = 'amp' #@param\n",
    "\n",
    "hfig,ax = plt.subplots(figsize=(5,4))\n",
    "sns.boxplot(data=df, x=x_param, y=y_param);"
   ]
  },
  {
   "cell_type": "markdown",
   "id": "67cd6014-58f3-4745-a838-234d77cc1aeb",
   "metadata": {},
   "source": [
    "A **violin plot** plays a similar role as a box and whisker plot. It shows the distribution of quantitative data across several levels of one (or more) categorical variables such that those distributions can be compared. Unlike a box plot, in which all of the plot components correspond to actual datapoints, the violin plot features a kernel density estimation of the underlying distribution."
   ]
  },
  {
   "cell_type": "code",
   "execution_count": null,
   "id": "c3a3a362-e265-4f17-9fc2-df791977a86e",
   "metadata": {
    "tags": [
     "hide-input"
    ]
   },
   "outputs": [],
   "source": [
    "#@markdown Run this code cell to create a violin plot of condition by amplitude\n",
    "\n",
    "x_param = 'condition' #@param\n",
    "y_param = 'amp' #@param\n",
    "\n",
    "hfig,ax = plt.subplots(figsize=(5,4))\n",
    "sns.violinplot(data=df, x=x_param, y=y_param, bw=.15, scale=\"count\");\n"
   ]
  },
  {
   "cell_type": "markdown",
   "id": "d451b557-6777-4492-955e-a41130ad39b9",
   "metadata": {},
   "source": [
    "<hr> \n",
    "Written by Dr. Krista Perks for courses taught at Wesleyan University."
   ]
  },
  {
   "cell_type": "code",
   "execution_count": null,
   "id": "5c707588-d5f6-4142-8289-da7ba6a97dbc",
   "metadata": {},
   "outputs": [],
   "source": []
  },
  {
   "cell_type": "markdown",
   "id": "57a8a68c-055e-4af0-ba4d-67d0d67148f1",
   "metadata": {},
   "source": [
    "<a id=\"setup\"></a>"
   ]
  },
  {
   "cell_type": "markdown",
   "id": "a350712e-e145-4475-9588-e3f19469b5ce",
   "metadata": {},
   "source": [
    "<a id=\"one\"></a>"
   ]
  },
  {
   "cell_type": "markdown",
   "id": "86fd2b4a-b890-465f-bf33-c2057738789e",
   "metadata": {},
   "source": [
    "<a id=\"two\"></a>"
   ]
  },
  {
   "cell_type": "markdown",
   "id": "b05de192-2baf-4d46-8848-6db1e3b50bff",
   "metadata": {},
   "source": [
    "<a id=\"three\"></a>"
   ]
  },
  {
   "cell_type": "markdown",
   "id": "e6519277-fc86-44fd-a75b-f74cad0efcf1",
   "metadata": {},
   "source": [
    "<a id=\"four\"></a>"
   ]
  }
 ],
 "metadata": {
  "kernelspec": {
   "display_name": "Python 3 (ipykernel)",
   "language": "python",
   "name": "python3"
  },
  "language_info": {
   "codemirror_mode": {
    "name": "ipython",
    "version": 3
   },
   "file_extension": ".py",
   "mimetype": "text/x-python",
   "name": "python",
   "nbconvert_exporter": "python",
   "pygments_lexer": "ipython3",
   "version": "3.8.13"
  },
  "widgets": {
   "application/vnd.jupyter.widget-state+json": {
    "state": {
     "181cf0e82f5a444c99277c3c4d0f908e": {
      "model_module": "@jupyter-widgets/controls",
      "model_module_version": "1.5.0",
      "model_name": "FloatRangeSliderModel",
      "state": {
       "_model_name": "FloatRangeSliderModel",
       "_view_name": "FloatRangeSliderView",
       "continuous_update": false,
       "description": "Time Range (s)",
       "layout": "IPY_MODEL_215b88be94ec4df3986e2a9b964c0a45",
       "max": 25.75,
       "step": 0.1,
       "style": "IPY_MODEL_62e400bf402040549f3f20da69293c14",
       "value": [
        22.1,
        23
       ]
      }
     },
     "215b88be94ec4df3986e2a9b964c0a45": {
      "model_module": "@jupyter-widgets/base",
      "model_module_version": "1.2.0",
      "model_name": "LayoutModel",
      "state": {
       "width": "600px"
      }
     },
     "2443dafb5b07484d9cce9ce17c0ed590": {
      "model_module": "@jupyter-widgets/controls",
      "model_module_version": "1.5.0",
      "model_name": "TextModel",
      "state": {
       "description": "threshold amplitude (V)",
       "layout": "IPY_MODEL_75907ac3e0e54c25abd27419543e2799",
       "placeholder": "0.06",
       "style": "IPY_MODEL_c7c31ea9c88646e3ab67873b76b124d8",
       "value": "0.01"
      }
     },
     "2c8d3a30af6b4ce99edaf6022768234e": {
      "model_module": "@jupyter-widgets/output",
      "model_module_version": "1.0.0",
      "model_name": "OutputModel",
      "state": {
       "layout": "IPY_MODEL_f36d784bb7fc408abd546e7aad4b5f1c",
       "outputs": [
        {
         "ename": "NameError",
         "evalue": "name 'peak_times' is not defined",
         "output_type": "error",
         "traceback": [
          "\u001b[0;31m---------------------------------------------------------------------------\u001b[0m",
          "\u001b[0;31mNameError\u001b[0m                                 Traceback (most recent call last)",
          "File \u001b[0;32m~/opt/anaconda3/envs/neurolab/lib/python3.8/site-packages/ipywidgets/widgets/interaction.py:257\u001b[0m, in \u001b[0;36minteractive.update\u001b[0;34m(self, *args)\u001b[0m\n\u001b[1;32m    255\u001b[0m     value \u001b[38;5;241m=\u001b[39m widget\u001b[38;5;241m.\u001b[39mget_interact_value()\n\u001b[1;32m    256\u001b[0m     \u001b[38;5;28mself\u001b[39m\u001b[38;5;241m.\u001b[39mkwargs[widget\u001b[38;5;241m.\u001b[39m_kwarg] \u001b[38;5;241m=\u001b[39m value\n\u001b[0;32m--> 257\u001b[0m \u001b[38;5;28mself\u001b[39m\u001b[38;5;241m.\u001b[39mresult \u001b[38;5;241m=\u001b[39m \u001b[38;5;28;43mself\u001b[39;49m\u001b[38;5;241;43m.\u001b[39;49m\u001b[43mf\u001b[49m\u001b[43m(\u001b[49m\u001b[38;5;241;43m*\u001b[39;49m\u001b[38;5;241;43m*\u001b[39;49m\u001b[38;5;28;43mself\u001b[39;49m\u001b[38;5;241;43m.\u001b[39;49m\u001b[43mkwargs\u001b[49m\u001b[43m)\u001b[49m\n\u001b[1;32m    258\u001b[0m show_inline_matplotlib_plots()\n\u001b[1;32m    259\u001b[0m \u001b[38;5;28;01mif\u001b[39;00m \u001b[38;5;28mself\u001b[39m\u001b[38;5;241m.\u001b[39mauto_display \u001b[38;5;129;01mand\u001b[39;00m \u001b[38;5;28mself\u001b[39m\u001b[38;5;241m.\u001b[39mresult \u001b[38;5;129;01mis\u001b[39;00m \u001b[38;5;129;01mnot\u001b[39;00m \u001b[38;5;28;01mNone\u001b[39;00m:\n",
          "Input \u001b[0;32mIn [4]\u001b[0m, in \u001b[0;36mupdate_plot\u001b[0;34m(xrange)\u001b[0m\n\u001b[1;32m     35\u001b[0m ax\u001b[38;5;241m.\u001b[39mset_xlabel(\u001b[38;5;124m'\u001b[39m\u001b[38;5;124mseconds\u001b[39m\u001b[38;5;124m'\u001b[39m,fontsize\u001b[38;5;241m=\u001b[39m\u001b[38;5;241m14\u001b[39m)\n\u001b[1;32m     36\u001b[0m \u001b[38;5;66;03m# plt.xticks(fontsize=14)\u001b[39;00m\n\u001b[1;32m     37\u001b[0m \u001b[38;5;66;03m# plt.yticks(fontsize=14)\u001b[39;00m\n\u001b[0;32m---> 39\u001b[0m trial_t \u001b[38;5;241m=\u001b[39m \u001b[43mpeak_times\u001b[49m[mask]\n\u001b[1;32m     40\u001b[0m trial_t_sorted \u001b[38;5;241m=\u001b[39m trial_t[((np\u001b[38;5;241m.\u001b[39mdiff(trial_t,prepend\u001b[38;5;241m=\u001b[39mnp\u001b[38;5;241m.\u001b[39mNaN)\u001b[38;5;241m>\u001b[39mpsp_duration)\u001b[38;5;241m&\u001b[39m(np\u001b[38;5;241m.\u001b[39mdiff(trial_t,append\u001b[38;5;241m=\u001b[39mnp\u001b[38;5;241m.\u001b[39mNaN)\u001b[38;5;241m>\u001b[39mpsp_duration))]\n\u001b[1;32m     43\u001b[0m synwav \u001b[38;5;241m=\u001b[39m np\u001b[38;5;241m.\u001b[39masarray([data[\u001b[38;5;28mint\u001b[39m(t\u001b[38;5;241m*\u001b[39mfs)\u001b[38;5;241m+\u001b[39monset:\u001b[38;5;28mint\u001b[39m(t\u001b[38;5;241m*\u001b[39mfs)\u001b[38;5;241m+\u001b[39moffset,intracellular_channel] \u001b[38;5;28;01mfor\u001b[39;00m t \u001b[38;5;129;01min\u001b[39;00m trial_t_sorted \n\u001b[1;32m     44\u001b[0m                      \u001b[38;5;28;01mif\u001b[39;00m (((\u001b[38;5;28mint\u001b[39m(t\u001b[38;5;241m*\u001b[39mfs)\u001b[38;5;241m+\u001b[39monset)\u001b[38;5;241m>\u001b[39m\u001b[38;5;241m0\u001b[39m) \u001b[38;5;241m&\u001b[39m (\u001b[38;5;28mint\u001b[39m(t\u001b[38;5;241m*\u001b[39mfs)\u001b[38;5;241m+\u001b[39moffset\u001b[38;5;241m<\u001b[39mnp\u001b[38;5;241m.\u001b[39mshape(data)[\u001b[38;5;241m0\u001b[39m]))])\n",
          "\u001b[0;31mNameError\u001b[0m: name 'peak_times' is not defined"
         ]
        }
       ]
      }
     },
     "4d2ec7109e6642298e45f7c2d7abf13b": {
      "model_module": "@jupyter-widgets/output",
      "model_module_version": "1.0.0",
      "model_name": "OutputModel",
      "state": {
       "layout": "IPY_MODEL_a4d14b5ca3234bcdb46813a4c9152e24",
       "outputs": [
        {
         "data": {
          "image/png": "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\n",
          "text/plain": "<Figure size 720x360 with 1 Axes>"
         },
         "metadata": {
          "image/png": {
           "height": 341,
           "width": 701
          },
          "needs_background": "light"
         },
         "output_type": "display_data"
        }
       ]
      }
     },
     "5145b9fabbc749a7ad3cf69354df802f": {
      "model_module": "@jupyter-widgets/base",
      "model_module_version": "1.2.0",
      "model_name": "LayoutModel",
      "state": {
       "height": "50px",
       "width": "100px"
      }
     },
     "5a47a613d87b47489021cbd4acd52090": {
      "model_module": "@jupyter-widgets/controls",
      "model_module_version": "1.5.0",
      "model_name": "VBoxModel",
      "state": {
       "_dom_classes": [
        "widget-interact"
       ],
       "children": [
        "IPY_MODEL_615a655756294310ae112831b51c376f",
        "IPY_MODEL_8257d2c4637146be984250f0deb975d1"
       ],
       "layout": "IPY_MODEL_666506c902bd4107a53569563d1adb63"
      }
     },
     "5ab718da103d4b429b4afe8b4dba5a4c": {
      "model_module": "@jupyter-widgets/controls",
      "model_module_version": "1.5.0",
      "model_name": "VBoxModel",
      "state": {
       "_dom_classes": [
        "widget-interact"
       ],
       "children": [
        "IPY_MODEL_fdd879b2b4c0416c9531a9bb20e911f7",
        "IPY_MODEL_2c8d3a30af6b4ce99edaf6022768234e"
       ],
       "layout": "IPY_MODEL_6a8b22adbd9b4dd186ce5039fd10592c"
      }
     },
     "5d6768dbf07f4ac6a5a49448c4c6769d": {
      "model_module": "@jupyter-widgets/controls",
      "model_module_version": "1.5.0",
      "model_name": "VBoxModel",
      "state": {
       "_dom_classes": [
        "widget-interact"
       ],
       "children": [
        "IPY_MODEL_c7776092e83343cdab5e3614d4315c64",
        "IPY_MODEL_181cf0e82f5a444c99277c3c4d0f908e",
        "IPY_MODEL_a7dfa5612fc144b8bd1b32dc08fdf87e",
        "IPY_MODEL_f5a2e36d895b489397d1b4a5a99c2862",
        "IPY_MODEL_d7879e2ccb34430b82615cc1a2271894",
        "IPY_MODEL_2443dafb5b07484d9cce9ce17c0ed590",
        "IPY_MODEL_9061de2342c247089f9eaac9980011d7",
        "IPY_MODEL_4d2ec7109e6642298e45f7c2d7abf13b"
       ],
       "layout": "IPY_MODEL_7eb1077b8d9b4166996e30165cc65b1f"
      }
     },
     "615a655756294310ae112831b51c376f": {
      "model_module": "@jupyter-widgets/controls",
      "model_module_version": "1.5.0",
      "model_name": "FloatRangeSliderModel",
      "state": {
       "_model_name": "FloatRangeSliderModel",
       "_view_name": "FloatRangeSliderView",
       "continuous_update": false,
       "description": "xrange (s)",
       "layout": "IPY_MODEL_7a6e136dbbd446299c0618adc9464db1",
       "max": 0.1,
       "min": -0.05,
       "readout_format": ".3f",
       "step": 0.005,
       "style": "IPY_MODEL_c370684b43c245d3b13bb9c9862f4351",
       "value": [
        -0.02,
        0.1
       ]
      }
     },
     "62e400bf402040549f3f20da69293c14": {
      "model_module": "@jupyter-widgets/controls",
      "model_module_version": "1.5.0",
      "model_name": "SliderStyleModel",
      "state": {
       "description_width": "200px"
      }
     },
     "637ce0fe4abb47b18ac93b7365550f92": {
      "model_module": "@jupyter-widgets/controls",
      "model_module_version": "1.5.0",
      "model_name": "DescriptionStyleModel",
      "state": {
       "description_width": "100px"
      }
     },
     "65ae616d3248452793509a7e80556a3a": {
      "model_module": "@jupyter-widgets/base",
      "model_module_version": "1.2.0",
      "model_name": "LayoutModel",
      "state": {}
     },
     "666506c902bd4107a53569563d1adb63": {
      "model_module": "@jupyter-widgets/base",
      "model_module_version": "1.2.0",
      "model_name": "LayoutModel",
      "state": {}
     },
     "6a8b22adbd9b4dd186ce5039fd10592c": {
      "model_module": "@jupyter-widgets/base",
      "model_module_version": "1.2.0",
      "model_name": "LayoutModel",
      "state": {}
     },
     "733ef490afbe439bbc0922c6a41dd8b2": {
      "model_module": "@jupyter-widgets/controls",
      "model_module_version": "1.5.0",
      "model_name": "DescriptionStyleModel",
      "state": {
       "description_width": "200px"
      }
     },
     "75907ac3e0e54c25abd27419543e2799": {
      "model_module": "@jupyter-widgets/base",
      "model_module_version": "1.2.0",
      "model_name": "LayoutModel",
      "state": {}
     },
     "76dc1d039a6a4944abac5ad01480cd58": {
      "model_module": "@jupyter-widgets/base",
      "model_module_version": "1.2.0",
      "model_name": "LayoutModel",
      "state": {}
     },
     "77aa024f9df84682ad8a465d304e5eeb": {
      "model_module": "@jupyter-widgets/base",
      "model_module_version": "1.2.0",
      "model_name": "LayoutModel",
      "state": {
       "width": "300px"
      }
     },
     "7a6e136dbbd446299c0618adc9464db1": {
      "model_module": "@jupyter-widgets/base",
      "model_module_version": "1.2.0",
      "model_name": "LayoutModel",
      "state": {
       "width": "600px"
      }
     },
     "7e74fa7f106b44aa98b69183eea7772d": {
      "model_module": "@jupyter-widgets/controls",
      "model_module_version": "1.5.0",
      "model_name": "SliderStyleModel",
      "state": {
       "description_width": "200px"
      }
     },
     "7eb1077b8d9b4166996e30165cc65b1f": {
      "model_module": "@jupyter-widgets/base",
      "model_module_version": "1.2.0",
      "model_name": "LayoutModel",
      "state": {}
     },
     "8257d2c4637146be984250f0deb975d1": {
      "model_module": "@jupyter-widgets/output",
      "model_module_version": "1.0.0",
      "model_name": "OutputModel",
      "state": {
       "layout": "IPY_MODEL_65ae616d3248452793509a7e80556a3a",
       "outputs": [
        {
         "data": {
          "image/png": "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\n",
          "text/plain": "<Figure size 576x288 with 1 Axes>"
         },
         "metadata": {
          "image/png": {
           "height": 269,
           "width": 558
          },
          "needs_background": "light"
         },
         "output_type": "display_data"
        }
       ]
      }
     },
     "845244b9fae544a99fa1ac0d1970c7aa": {
      "model_module": "@jupyter-widgets/controls",
      "model_module_version": "1.5.0",
      "model_name": "DescriptionStyleModel",
      "state": {
       "description_width": "50px"
      }
     },
     "9061de2342c247089f9eaac9980011d7": {
      "model_module": "@jupyter-widgets/controls",
      "model_module_version": "1.5.0",
      "model_name": "TextModel",
      "state": {
       "description": "time to peak (s)",
       "layout": "IPY_MODEL_f3fdc348630b4b18a8d201b1d87e577b",
       "placeholder": "0.04",
       "style": "IPY_MODEL_733ef490afbe439bbc0922c6a41dd8b2",
       "value": "0.005"
      }
     },
     "a4d14b5ca3234bcdb46813a4c9152e24": {
      "model_module": "@jupyter-widgets/base",
      "model_module_version": "1.2.0",
      "model_name": "LayoutModel",
      "state": {}
     },
     "a7dfa5612fc144b8bd1b32dc08fdf87e": {
      "model_module": "@jupyter-widgets/controls",
      "model_module_version": "1.5.0",
      "model_name": "FloatRangeSliderModel",
      "state": {
       "_model_name": "FloatRangeSliderModel",
       "_view_name": "FloatRangeSliderView",
       "continuous_update": false,
       "description": "yrange",
       "layout": "IPY_MODEL_f76756d9e42346fbaa4a5cdae955e929",
       "max": 2,
       "min": -2,
       "step": 0.01,
       "style": "IPY_MODEL_7e74fa7f106b44aa98b69183eea7772d",
       "value": [
        -0.75,
        -0.59
       ]
      }
     },
     "c370684b43c245d3b13bb9c9862f4351": {
      "model_module": "@jupyter-widgets/controls",
      "model_module_version": "1.5.0",
      "model_name": "SliderStyleModel",
      "state": {
       "description_width": ""
      }
     },
     "c7776092e83343cdab5e3614d4315c64": {
      "model_module": "@jupyter-widgets/controls",
      "model_module_version": "1.5.0",
      "model_name": "SelectModel",
      "state": {
       "_options_labels": [
        "0",
        "1"
       ],
       "description": "Channel",
       "index": 1,
       "layout": "IPY_MODEL_5145b9fabbc749a7ad3cf69354df802f",
       "style": "IPY_MODEL_845244b9fae544a99fa1ac0d1970c7aa"
      }
     },
     "c7c31ea9c88646e3ab67873b76b124d8": {
      "model_module": "@jupyter-widgets/controls",
      "model_module_version": "1.5.0",
      "model_name": "DescriptionStyleModel",
      "state": {
       "description_width": "200px"
      }
     },
     "c90df63da597470d993ae56990dd258c": {
      "model_module": "@jupyter-widgets/controls",
      "model_module_version": "1.5.0",
      "model_name": "DescriptionStyleModel",
      "state": {
       "description_width": "200px"
      }
     },
     "d7879e2ccb34430b82615cc1a2271894": {
      "model_module": "@jupyter-widgets/controls",
      "model_module_version": "1.5.0",
      "model_name": "TextModel",
      "state": {
       "description": "minimum interval (s)",
       "layout": "IPY_MODEL_76dc1d039a6a4944abac5ad01480cd58",
       "placeholder": "0.01",
       "style": "IPY_MODEL_c90df63da597470d993ae56990dd258c",
       "value": "0.005"
      }
     },
     "f36d784bb7fc408abd546e7aad4b5f1c": {
      "model_module": "@jupyter-widgets/base",
      "model_module_version": "1.2.0",
      "model_name": "LayoutModel",
      "state": {}
     },
     "f3fdc348630b4b18a8d201b1d87e577b": {
      "model_module": "@jupyter-widgets/base",
      "model_module_version": "1.2.0",
      "model_name": "LayoutModel",
      "state": {}
     },
     "f5a2e36d895b489397d1b4a5a99c2862": {
      "model_module": "@jupyter-widgets/controls",
      "model_module_version": "1.5.0",
      "model_name": "RadioButtonsModel",
      "state": {
       "_options_labels": [
        "1",
        "-1"
       ],
       "description": "peaks polarity",
       "index": 0,
       "layout": "IPY_MODEL_77aa024f9df84682ad8a465d304e5eeb",
       "style": "IPY_MODEL_637ce0fe4abb47b18ac93b7365550f92"
      }
     },
     "f60db581e6b74192a62cdbb0387db2a4": {
      "model_module": "@jupyter-widgets/controls",
      "model_module_version": "1.5.0",
      "model_name": "SliderStyleModel",
      "state": {
       "description_width": ""
      }
     },
     "f76756d9e42346fbaa4a5cdae955e929": {
      "model_module": "@jupyter-widgets/base",
      "model_module_version": "1.2.0",
      "model_name": "LayoutModel",
      "state": {
       "width": "600px"
      }
     },
     "f948a669e4bf46aaabc6bfe5ac8bc3c0": {
      "model_module": "@jupyter-widgets/base",
      "model_module_version": "1.2.0",
      "model_name": "LayoutModel",
      "state": {
       "width": "600px"
      }
     },
     "fdd879b2b4c0416c9531a9bb20e911f7": {
      "model_module": "@jupyter-widgets/controls",
      "model_module_version": "1.5.0",
      "model_name": "FloatRangeSliderModel",
      "state": {
       "_model_name": "FloatRangeSliderModel",
       "_view_name": "FloatRangeSliderView",
       "continuous_update": false,
       "description": "xrange (s)",
       "layout": "IPY_MODEL_f948a669e4bf46aaabc6bfe5ac8bc3c0",
       "max": 0.1,
       "min": -0.05,
       "readout_format": ".3f",
       "step": 0.005,
       "style": "IPY_MODEL_f60db581e6b74192a62cdbb0387db2a4",
       "value": [
        -0.02,
        0.1
       ]
      }
     }
    },
    "version_major": 2,
    "version_minor": 0
   }
  }
 },
 "nbformat": 4,
 "nbformat_minor": 5
}
