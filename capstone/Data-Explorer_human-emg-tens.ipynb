{
 "cells": [
  {
   "cell_type": "markdown",
   "id": "32647951-7dcf-4553-b42a-5d8508d95cf9",
   "metadata": {},
   "source": [
    "# Alexis - Data Explorer\n",
    "\n",
    "<a href=\"https://colab.research.google.com/github/neurologic/Neurophysiology-Lab/blob/main/capstone/Data-Explorer_human-emg-tens.ipynb\" target=\"_blank\" rel=\"noopener noreferrer\"><img alt=\"Open In Colab\" src=\"https://colab.research.google.com/assets/colab-badge.svg\"/></a>   \n"
   ]
  },
  {
   "cell_type": "markdown",
   "id": "38b445ff-7cf7-442e-bb25-83afe6d5a3fb",
   "metadata": {},
   "source": [
    "<a id=\"intro\"></a>\n",
    "# Motor Unit Population Stimulation\n",
    "\n",
    "Comparing electrically stimulated motor unit activity to voluntary motor unit activity. And comparing electrically stimulated motor unit activity across conditions (for example temperature)."
   ]
  },
  {
   "cell_type": "markdown",
   "id": "488d476b-9387-43d7-b4bf-0528d9f4950a",
   "metadata": {},
   "source": [
    "<a id=\"setup\"></a>\n",
    "# Setup\n",
    "\n",
    "[toc](#toc)"
   ]
  },
  {
   "cell_type": "markdown",
   "id": "ac5e6fe8-5ee8-4a44-a353-785ed3d50412",
   "metadata": {},
   "source": [
    "## Import and define functions"
   ]
  },
  {
   "cell_type": "code",
   "execution_count": null,
   "id": "b907ad44-4d78-45f0-8775-8cdaf6584ceb",
   "metadata": {
    "tags": [
     "hide-input"
    ]
   },
   "outputs": [],
   "source": [
    "#@title {display-mode: \"form\" }\n",
    "\n",
    "#@markdown Run this code cell to import packages and define functions \n",
    "import numpy as np\n",
    "import pandas as pd\n",
    "import plotly.express as px\n",
    "import plotly.graph_objects as go\n",
    "from plotly.subplots import make_subplots\n",
    "from scipy import ndimage\n",
    "from scipy.signal import hilbert,medfilt,resample, find_peaks, unit_impulse\n",
    "from scipy.optimize import curve_fit\n",
    "import seaborn as sns\n",
    "from datetime import datetime,timezone,timedelta\n",
    "pal = sns.color_palette(n_colors=15)\n",
    "pal = pal.as_hex()\n",
    "import matplotlib.pyplot as plt\n",
    "import random\n",
    "from numpy import NaN\n",
    "\n",
    "from pathlib import Path\n",
    "\n",
    "from matplotlib.ticker import (AutoMinorLocator, MultipleLocator)\n",
    "from ipywidgets import widgets, interact, interactive,interactive_output\n",
    "%config InlineBackend.figure_format = 'retina'\n",
    "plt.style.use(\"https://raw.githubusercontent.com/NeuromatchAcademy/course-content/master/nma.mplstyle\")\n",
    "\n",
    "\n",
    "def hyper_fit(t,r,c):\n",
    "    return r + ((r*c)/t)\n",
    "\n",
    "print('Task completed at ' + str(datetime.now(timezone(-timedelta(hours=5)))))"
   ]
  },
  {
   "cell_type": "markdown",
   "id": "85f5b456-2a84-416a-8f1d-f480c7a10ad5",
   "metadata": {},
   "source": [
    "## Mount Google Drive"
   ]
  },
  {
   "cell_type": "code",
   "execution_count": null,
   "id": "d84a46ac-5cf3-4765-94fd-07e19f0881d2",
   "metadata": {
    "tags": [
     "hide-input"
    ]
   },
   "outputs": [],
   "source": [
    "#@title {display-mode: \"form\" }\n",
    "\n",
    "#@markdown Run this cell to mount your Google Drive.\n",
    "\n",
    "from google.colab import drive\n",
    "drive.mount('/content/drive')\n",
    "\n",
    "print('Task completed at ' + str(datetime.now(timezone(-timedelta(hours=5)))))"
   ]
  },
  {
   "cell_type": "markdown",
   "id": "11afb9c8-8543-4978-bdaa-0d79151e24db",
   "metadata": {},
   "source": [
    "<a id=\"two\"></a>\n",
    "# Data Processing\n",
    "\n",
    "In this section, you will load the raw data aquired and saved using Bonsai-rx as a .bin file. A single trial consists of a stimulus pulse (from the TENS). Each bout consists of a set of trials at a given frequency. "
   ]
  },
  {
   "cell_type": "markdown",
   "id": "dfd155f9-cf42-4d7d-98a7-3f2432cf2e5e",
   "metadata": {},
   "source": [
    "<a id=\"two_import\"></a>\n",
    "## Import data \n",
    "\n",
    "Import data digitized with *Nidaq USB6211* and recorded using *Bonsai-rx* as a *.bin* file\n"
   ]
  },
  {
   "cell_type": "code",
   "execution_count": null,
   "id": "6fc27eac-7157-4510-9239-466ca324c58d",
   "metadata": {
    "tags": [
     "hide-input"
    ]
   },
   "outputs": [],
   "source": [
    "#@title {display-mode: \"form\" }\n",
    "\n",
    "#@markdown Specify the file path \n",
    "#@markdown to your recorded data in the colab runtime (find the filepath in the colab file manager):\n",
    "\n",
    "filepath = \"full filepath goes here\"  #@param \n",
    "# filepath = '/Users/kperks/Downloads/Alexis Capstone/hot_temp_0.bin'  #@param \n",
    "\n",
    "#@markdown Specify the sampling rate and number of channels recorded.\n",
    "\n",
    "sampling_rate = None #@param\n",
    "number_channels = None #@param\n",
    "\n",
    "# sampling_rate = 40000 #@param\n",
    "# number_channels = 1 #@param\n",
    "\n",
    "# downsample = False #@param\n",
    "# newfs = 10000 #@param\n",
    "\n",
    "#@markdown After you have filled out all form fields, \n",
    "#@markdown run this code cell to load the data. \n",
    "\n",
    "filepath = Path(filepath)\n",
    "\n",
    "# No need to edit below this line\n",
    "#################################\n",
    "data = np.fromfile(Path(filepath), dtype = np.float64)\n",
    "data = data.reshape(-1,number_channels)\n",
    "data_dur = np.shape(data)[0]/sampling_rate\n",
    "print('duration of recording was %0.2f seconds' %data_dur)\n",
    "\n",
    "fs = sampling_rate\n",
    "# if downsample:\n",
    "#     # newfs = 10000 #downsample emg data\n",
    "#     chunksize = int(sampling_rate/newfs)\n",
    "#     data = data[0::chunksize,:]\n",
    "#     fs = int(np.shape(data)[0]/data_dur)\n",
    "\n",
    "time = np.linspace(0,data_dur,np.shape(data)[0])\n",
    "\n",
    "print('Data upload completed at ' + str(datetime.now(timezone(-timedelta(hours=5)))))"
   ]
  },
  {
   "cell_type": "markdown",
   "id": "69eef312-a1ec-4dc6-ba47-a45be1f91e58",
   "metadata": {},
   "source": [
    "For a more extensive ***RAW*** Data Explorer than the one provided in the above figure, use the [DataExplorer.py](https://raw.githubusercontent.com/neurologic/Neurophysiology-Lab/main/howto/Data-Explorer.py) application found in the [howto section](https://neurologic.github.io/Neurophysiology-Lab/howto/Dash-Data-Explorer.html) of the course website."
   ]
  },
  {
   "cell_type": "markdown",
   "id": "be92808a-e067-4662-a7ae-57707d90765a",
   "metadata": {},
   "source": [
    "<a id=\"two_one\"></a>\n",
    "## Define bout and stimulus times\n",
    "\n",
    "The time between stimulus onset and action potential, and the time between two stimulus pulses are critical parameters of the data on each trial. \n",
    "\n",
    "Our first task in processing and analyzing data from this experiment is to figure out the stimulus onset times. You can then segment the data in to separate bouts if the raw recording was not one continuous successful protocol. "
   ]
  },
  {
   "cell_type": "markdown",
   "id": "5e30e1b5-5812-484f-96fa-c9a722877b89",
   "metadata": {},
   "source": [
    "### Define stimulus times"
   ]
  },
  {
   "cell_type": "code",
   "execution_count": null,
   "id": "d0256f0d-3f55-4fcb-9325-e71513f61157",
   "metadata": {
    "tags": [
     "hide-input"
    ]
   },
   "outputs": [],
   "source": [
    "#@title {display-mode: \"form\"}\n",
    "\n",
    "#@markdown Run this cell to create an interactive plot with a slider to scroll \n",
    "#@markdown through the signal\n",
    "#@markdown and set an appropriate event detection threshold  \n",
    "#@markdown (you can do so based on level crossing or peaks). \n",
    "\n",
    "slider_xrange = widgets.FloatRangeSlider(\n",
    "    min=0,\n",
    "    max=data_dur,\n",
    "    value=(0,1),\n",
    "    step= 0.05,\n",
    "    readout=True,\n",
    "    continuous_update=False,\n",
    "    description='Time Range (s)',\n",
    "    style = {'description_width': '200px'})\n",
    "slider_xrange.layout.width = '600px'\n",
    "\n",
    "# slider_yrange = widgets.FloatRangeSlider(\n",
    "#     min=np.min(stim)-0.5,\n",
    "#     max=np.max(stim)+0.5,\n",
    "#     value=[np.min(stim),np.max(stim)],\n",
    "#     step=0.05,\n",
    "#     continuous_update=False,\n",
    "#     readout=True,\n",
    "#     description='yrange',\n",
    "#     style = {'description_width': '200px'})\n",
    "# slider_yrange.layout.width = '600px'\n",
    "\n",
    "select_channel = widgets.Select(\n",
    "    options=np.arange(np.shape(data)[1]), # start with a single trial on a single bout... it will update when runs ; old: np.arange(len(trial_times)),\n",
    "    value=0,\n",
    "    #rows=10,\n",
    "    description='Channel used to detect events',\n",
    "    style = {'description_width': '200px'},\n",
    "    disabled=False\n",
    ")\n",
    "\n",
    "slider_threshold = widgets.FloatSlider(\n",
    "    min=-2,\n",
    "    max=2,\n",
    "    value=0.2,\n",
    "    step=0.001,\n",
    "    readout_format='.3f',\n",
    "    continuous_update=False,\n",
    "    readout=True,\n",
    "    description='event detection threshold',\n",
    "    style = {'description_width': '200px'})\n",
    "slider_threshold.layout.width = '600px'\n",
    "\n",
    "detect_type_radio = widgets.RadioButtons(\n",
    "    options=['peak', 'level crossing'],\n",
    "    value='peak', # Defaults to 'level crossing'\n",
    "    layout={'width': 'max-content'}, # If the items' names are long\n",
    "    description='Type of event detection',\n",
    "    style = {'description_width': '200px'},\n",
    "    disabled=False\n",
    ")\n",
    "\n",
    "radio_polarity = widgets.RadioButtons(\n",
    "    options=[1, -1],\n",
    "    value=-1,\n",
    "    description='peaks polarity',\n",
    "    disabled=False,\n",
    "    style = {'description_width': '200px'}\n",
    ")\n",
    "\n",
    "iei_text = widgets.Text(\n",
    "    value='0.005',\n",
    "    placeholder='0.005',\n",
    "    description='min IEI (seconds)',\n",
    "    style = {'description_width': '200px'},\n",
    "    disabled=False\n",
    ")\n",
    "\n",
    "def update_plot(chan_,xrange,thresh_,detect_type,polarity,iei):\n",
    "    fig, ax = plt.subplots(figsize=(10,5),num=1); #specify figure number so that it does not keep creating new ones\n",
    "    \n",
    "    signal = data[:,chan_]\n",
    "    signal = signal-np.median(signal)\n",
    "    \n",
    "    iei = float(iei)\n",
    "    \n",
    "    if iei>0.001:\n",
    "        d = iei*fs #minimum time allowed between distinct events\n",
    "        \n",
    "        if detect_type == 'peak':\n",
    "            r = find_peaks(signal*polarity,height=thresh_,distance=d)\n",
    "            trial_times = r[0]/fs\n",
    "            # print(r[1])\n",
    "            ax.scatter(trial_times,[r[1]['peak_heights']*polarity],marker='^',s=300,color='purple',zorder=3)\n",
    "            \n",
    "        if detect_type == 'level crossing':\n",
    "            # get the changes in bool value for a bool of signal greater than threshold\n",
    "            # if polarity == 1:\n",
    "            threshold_crossings = np.diff(signal*polarity > thresh_, prepend=False)\n",
    "            # get indices where threshold crossings are true\n",
    "            tcross = np.argwhere(threshold_crossings)[:,0]\n",
    "            # get a mask for only positive level crossings\n",
    "            mask_ = [signal[t]-signal[t-1] > 0 for t in tcross]\n",
    "            # if polarity == -1:\n",
    "            #     threshold_crossings = np.diff(signal*polarity < thresh_*polarity, prepend=False)\n",
    "            #     # get indices where threshold crossings are true\n",
    "            #     tcross = np.argwhere(threshold_crossings)[:,0]\n",
    "            #     # get a mask for only positive level crossings\n",
    "            #     mask_ = [signal[t]-signal[t-1] > 0 for t in tcross]\n",
    "                \n",
    "            # trial times are positive level crossings\n",
    "            trial_times = tcross[mask_]/fs\n",
    "            ax.scatter(trial_times,[thresh_*polarity]*len(trial_times),marker='^',s=300,color='purple',zorder=3)\n",
    "\n",
    "        starti = int(xrange[0]*fs)+1\n",
    "        stopi = int(xrange[1]*fs)-1\n",
    "        ax.plot(time[starti:stopi], signal[starti:stopi], color='black')\n",
    "        \n",
    "        # ax.plot(tmp,color='black')\n",
    "        ax.hlines(thresh_*polarity, time[starti],time[stopi],linestyle='--',color='green')\n",
    "        \n",
    "        # ax.set_ylim(yrange[0],yrange[1])\n",
    "        ax.set_xlim(xrange[0],xrange[1])\n",
    "        \n",
    "\n",
    "        ax.xaxis.set_minor_locator(AutoMinorLocator(5))\n",
    "\n",
    "              \n",
    "        return trial_times\n",
    "\n",
    "w_trials_ = interactive(update_plot, chan_=select_channel, \n",
    "                        xrange=slider_xrange, \n",
    "                        thresh_=slider_threshold, detect_type = detect_type_radio, \n",
    "                        polarity=radio_polarity, iei = iei_text);\n",
    "display(w_trials_)"
   ]
  },
  {
   "cell_type": "code",
   "execution_count": null,
   "id": "0ebea80c-6fc4-4ad0-900a-8c4bf314f6eb",
   "metadata": {
    "tags": [
     "hide-input"
    ]
   },
   "outputs": [],
   "source": [
    "#@title {display-mode: \"form\"}\n",
    "\n",
    "#@markdown Run this cell to finalize the list of event times \n",
    "#@markdown after settling on a channel and threshold in the interactive plot. <br> \n",
    "#@markdown This stores the event times in an array called 'event_times'. <br>\n",
    "#@markdown NOTE: You may have to use \"peaks\" method for shorter stimulus pulse durations (separately).\n",
    "trial_times = w_trials_.result\n",
    "\n"
   ]
  },
  {
   "cell_type": "markdown",
   "id": "2c61993b-bad0-4f65-853d-efa2eee9f37f",
   "metadata": {},
   "source": [
    "### Define Bouts"
   ]
  },
  {
   "cell_type": "code",
   "execution_count": null,
   "id": "5c081e0b-7544-43e8-9b7b-c8ed8ff3eece",
   "metadata": {
    "tags": [
     "hide-input"
    ]
   },
   "outputs": [],
   "source": [
    "#@title {display-mode: \"form\"}\n",
    "\n",
    "#@markdown For this experiment, the entire file should be one long bout, \n",
    "#@markdown but if there were regions that something got messed up or that you want to exclude, you can specify bouts with good data.\n",
    "#@markdown Specify the list of bout ranges as follows: [[start of bout 0, end of bout 0],[start 1, end 1],...]] <br>\n",
    "\n",
    "bouts_list = [[None,None]] #@param\n",
    "\n",
    "# bouts_list = [[5,10],[10,15],[15,20],[20,27],[27,35]] #@param #control condition\n",
    "# bouts_list = [[12,17],[17,23],[23,30],[30,35],[35,42],[42,47]] # cold condition\n",
    "# bouts_list = [[20,25],[25,30],[30,35],[35,40]] # hot condition\n",
    "\n",
    "#@markdown Then run this code cell to programatically define the list of bouts as 'bouts_list'."
   ]
  },
  {
   "cell_type": "markdown",
   "id": "d9823a59-8623-454e-b18f-5380d150d174",
   "metadata": {},
   "source": [
    "<a id=\"two_two\"></a>\n",
    "## Analyze Data"
   ]
  },
  {
   "cell_type": "markdown",
   "id": "2f7e57a7-2948-4985-a1b5-f8bd517ba915",
   "metadata": {},
   "source": [
    "### Measure the raw data\n",
    "\n",
    "Obtain necessary information from the raw signal time-locked to each trial start time (stimulus time).\n"
   ]
  },
  {
   "cell_type": "code",
   "execution_count": null,
   "id": "60f56f25-65ac-43bf-a986-56d48dab703a",
   "metadata": {
    "tags": [
     "hide-input"
    ]
   },
   "outputs": [],
   "source": [
    "#@title {display-mode:\"form\"}\n",
    "\n",
    "#@markdown Run this code cell to create an interactive plot to  \n",
    "#@markdown examine the raw signal time-locked to individual events (event_times).\n",
    "#@markdown You can overlay multple channels by selecting more than one.\n",
    "#@markdown You can overlay multiple event times by selecting more than one. \n",
    "#@markdown (To select more than one item from an option menu, press the control/command key \n",
    "#@markdown while mouse clicking or shift while using up/down arrows)\n",
    "\n",
    "slider_xrange = widgets.FloatRangeSlider(\n",
    "    min=-0.01,\n",
    "    max=0.05,\n",
    "    value=(-0.001,0.03),\n",
    "    step=0.0005,\n",
    "    continuous_update=False,\n",
    "    readout=True,\n",
    "    readout_format='.3f',\n",
    "    description='xrange (s)'\n",
    ")\n",
    "slider_xrange.layout.width = '600px'\n",
    "\n",
    "slider_yrange = widgets.FloatRangeSlider(\n",
    "    min=-5,\n",
    "    max=5, # normal range for earthworm experiments\n",
    "    value=(-0.5,1),\n",
    "    step=0.05,\n",
    "    continuous_update=False,\n",
    "    readout=True,\n",
    "    description='yrange'\n",
    ")\n",
    "slider_yrange.layout.width = '600px'\n",
    "\n",
    "ui_range = widgets.VBox([slider_xrange, slider_yrange])\n",
    "\n",
    "# trials in bout 0 to start...\n",
    "trials_t = trial_times[(trial_times>bouts_list[0][0]) & (trial_times<bouts_list[0][1])]\n",
    "\n",
    "select_channels = widgets.SelectMultiple(\n",
    "    options=np.arange(np.shape(data)[1]), # start with a single trial on a single bout... it will update when runs ,\n",
    "    value=[0],\n",
    "    #rows=10,\n",
    "    description='Channels',\n",
    "    disabled=False\n",
    ")\n",
    "\n",
    "select_bouts = widgets.Select(\n",
    "    options=np.arange(len(bouts_list)), # start with a single trial on a single bout... it will update when runs ; old: np.arange(len(trial_times)),\n",
    "    value=0,\n",
    "    #rows=10,\n",
    "    description='Bouts',\n",
    "    disabled=False\n",
    ")\n",
    "\n",
    "select_trials = widgets.SelectMultiple(\n",
    "    options=np.arange(len(trials_t)), # start with a single trial on a single bout... it will update when runs ,\n",
    "    value=[0],\n",
    "    #rows=10,\n",
    "    description='Events',\n",
    "    disabled=False\n",
    ")\n",
    "\n",
    "ui_trials = widgets.HBox([select_channels, select_trials, select_bouts])\n",
    "\n",
    "slider_threshold = widgets.FloatSlider(\n",
    "    min=0,\n",
    "    max=1,\n",
    "    value=0.25,\n",
    "    step=0.001,\n",
    "    readout_format='.3f',\n",
    "    continuous_update=False,\n",
    "    readout=True,\n",
    "    description='peak detection threshold',\n",
    "    style = {'description_width': '250px'})\n",
    "slider_threshold.layout.width = '600px'\n",
    "\n",
    "detect_chan_radio = widgets.RadioButtons(\n",
    "    options=['none'] + [v.astype(str) for v in np.arange(np.shape(data)[1])],\n",
    "    value='none', # Defaults to 'none'\n",
    "    layout={'width': 'max-content'}, # If the items' names are long\n",
    "    description='detect delay to peaks on channel: ',\n",
    "    style = {'description_width': '250px'},\n",
    "    disabled=False\n",
    ")\n",
    "slider_inwindow = widgets.FloatRangeSlider(\n",
    "    min= -0.01,\n",
    "    max= 0.1, \n",
    "    value=(0.004,0.015),\n",
    "    step=0.0001,\n",
    "    continuous_update=False,\n",
    "    readout=True,\n",
    "    description='window to detect peaks within',\n",
    "    style = {'description_width': '250px'},\n",
    "    readout_format='.4f'\n",
    ")\n",
    "slider_inwindow.layout.width = '600px'\n",
    "\n",
    "radio_polarity = widgets.RadioButtons(\n",
    "    options=[1, -1],\n",
    "    value=1,\n",
    "    description='peaks polarity',\n",
    "    disabled=False,\n",
    "    style = {'description_width': '200px'}\n",
    ")\n",
    "\n",
    "iei_text = widgets.Text(\n",
    "    value='0.001',\n",
    "    placeholder='0.001',\n",
    "    description='minimum interval (s)',\n",
    "    style = {'description_width': '200px'},\n",
    "    disabled=False\n",
    ")\n",
    "\n",
    "ui_peaks = widgets.VBox([detect_chan_radio,slider_inwindow, radio_polarity, slider_threshold, iei_text])\n",
    "\n",
    "\n",
    "trial_abs_readout = widgets.Label(\n",
    "    value=f'time of this event is (sec): {NaN}'\n",
    ")\n",
    "trial_abs_readout.layout.width = '600px'\n",
    "\n",
    "trial_readout = widgets.Label(\n",
    "    value=f'time since last event is: {NaN}'\n",
    ")\n",
    "trial_readout.layout.width = '600px'\n",
    "\n",
    "lagging_time_readout = widgets.Label(\n",
    "    value=f'lagging peak times are: {NaN}'\n",
    ")\n",
    "lagging_time_readout.layout.width = '600px'\n",
    "\n",
    "lagging_amp_readout = widgets.Label(\n",
    "    value=f'lagging peak amplitudes are: {NaN}'\n",
    ")\n",
    "lagging_amp_readout.layout.width = '600px'\n",
    "\n",
    "def update_plot(chan_list,trial_list,bout_,yrange,xrange,lagging_chan_,detect_inwin,thresh_,iei,polarity):\n",
    "    fig, ax = plt.subplots(figsize=(8,4))# ,ncols=1, nrows=1); #specify figure number so that it does not keep creating new ones\n",
    " \n",
    "    iei = float(iei)\n",
    "    \n",
    "    win_0 = int(xrange[0]*fs)\n",
    "    win_1 = int(xrange[1]*fs)\n",
    "    xtime = np.linspace(xrange[0],xrange[1],(win_1 - win_0))\n",
    "    \n",
    "    trials_t = trial_times[(trial_times>bouts_list[bout_][0]) & (trial_times<bouts_list[bout_][1])]\n",
    "    trials_init_ = np.arange(len(trials_t))\n",
    "               \n",
    "    select_trials.options = trials_init_\n",
    "\n",
    "    trial_list = [t_try for t_try in trial_list if t_try in trials_init_]\n",
    "    select_trials.value = trial_list\n",
    "\n",
    "    lagging_time_readout.value=f'lagging peak times are: {NaN}'\n",
    "    lagging_amp_readout.value=f'lagging peak amplitudes are: {NaN}'\n",
    "    trial_abs_readout.value=f'time of this event is: {NaN}'\n",
    "    trial_readout.value=f'time since last event is: {NaN}'\n",
    "    \n",
    "    channel_colors = ['purple','green','blue','orange']\n",
    "    for chan_ in chan_list:\n",
    "        this_chan = data[:,chan_]\n",
    "        for trial_ in trial_list:\n",
    "            if trial_ in trials_init_:\n",
    "                t_ = trials_t[trial_]\n",
    "\n",
    "                if ((int(fs*t_)+win_0)>0) & ((int(fs*t_)+win_1))<len(this_chan):\n",
    "                    data_sweep = this_chan[(int(fs*t_)+win_0):(int(fs*t_)+win_1)]\n",
    "\n",
    "                    ax.plot(xtime,data_sweep,color=channel_colors[chan_],linewidth=2,alpha=0.5)\n",
    "    if iei > 1/fs:\n",
    "        d = iei*fs\n",
    "        if (lagging_chan_ != 'none') & (len(trial_list)==1):\n",
    "            ax.hlines(thresh_*polarity, xrange[0],xrange[1],linestyle='--',color='green')\n",
    "            ax.vlines(detect_inwin[0],yrange[0],yrange[1],linestyle='--',color='blue')\n",
    "            ax.vlines(detect_inwin[1],yrange[0],yrange[1],linestyle='--',color='blue')\n",
    "            lagging_chan_ = int(lagging_chan_)\n",
    "            lagging_signal = data[(int(fs*t_)+win_0):(int(fs*t_)+win_1),lagging_chan_]\n",
    "            r = find_peaks(lagging_signal*polarity,height=thresh_,distance=d)\n",
    "            \n",
    "            mask = (((r[0]/fs)>detect_inwin[0]) & ((r[0]/fs)<detect_inwin[1]))\n",
    "            # lagging_peak_times = [np.round(lt/fs,5) for lt in r[0][mask]]#r[0]/fs\n",
    "            lagging_peak_times = (r[0][mask]/fs) + xrange[0]\n",
    "            \n",
    "            lagging_peak_amp = r[1]['peak_heights'][mask]*polarity\n",
    "            lagging_peak_amp = [np.round(a,2) for a in lagging_peak_amp]\n",
    "\n",
    "            \n",
    "            lagging_time_readout.value=f'lagging peak times are (ms): {[t*1000 for t in lagging_peak_times]}'\n",
    "            lagging_amp_readout.value=f'lagging peak amplitudes are (V): {lagging_peak_amp}'\n",
    "\n",
    "            if trial_list[0] == 0:\n",
    "                trial_readout.value=f'time since last event is: {NaN}'\n",
    "                trial_abs_readout.value=f'time of this event is: {NaN}'\n",
    "            if trial_list[0] > 0:\n",
    "                iti = 1000*(trials_t[trial_list[0]] - trials_t[trial_list[0]-1])\n",
    "                trial_readout.value=f'time since last event is (msec): {iti:.2f}'\n",
    "                trial_abs_readout.value=f'time of this event is (sec): {trials_t[trial_list[0]]}'\n",
    "\n",
    "            for lt_ in lagging_peak_times:\n",
    "                ax.scatter(lagging_peak_times,lagging_peak_amp,color='black',s=50,zorder=3)\n",
    "\n",
    "\n",
    "    ax.set_ylim(yrange[0],yrange[1]);\n",
    "    ax.set_xlabel('seconds')\n",
    "\n",
    "    ax.xaxis.set_minor_locator(AutoMinorLocator(10))\n",
    "#     # Turn grid on for both major and minor ticks and style minor slightly\n",
    "# #     # differently.\n",
    "    ax.grid(which='major', color='gray', linestyle='-')\n",
    "    ax.grid(which='minor', color='gray', linestyle=':')\n",
    "\n",
    "\n",
    "\n",
    "\n",
    "# def on_button_export_data(b):\n",
    "#     if len(chan_list)==1:\n",
    "#         df = pd.DataFrame()\n",
    "#         for b_, bout_ in enumerate(bouts_list):\n",
    "#             trials_t = trial_times[(trial_times>bouts_list[bout_][0]) & (trial_times<bouts_list[bout_][1])]\n",
    "#             with output:\n",
    "#                 print(\"Button clicked.\")\n",
    "#             lagging_chan_ = int(lagging_chan_)\n",
    "#             lagging_signal = data[(int(fs*t_)+win_0):(int(fs*t_)+win_1),lagging_chan_]\n",
    "#             r = find_peaks(lagging_signal*polarity,height=thresh_,distance=d)\n",
    "            \n",
    "#             mask = (((r[0]/fs)>detect_inwin[0]) & ((r[0]/fs)<detect_inwin[1]))\n",
    "#             # lagging_peak_times = [np.round(lt/fs,5) for lt in r[0][mask]]#r[0]/fs\n",
    "#             lagging_peak_times = (r[0][mask]/fs) + xrange[0]\n",
    "            \n",
    "#             lagging_peak_amp = r[1]['peak_heights'][mask]*polarity\n",
    "#             lagging_peak_amp = [np.round(a,2) for a in lagging_peak_amp]\n",
    "            \n",
    "#             df_ = pd.DataFrame({'amp':amp,'time':time,'bout',b_})\n",
    "#             df.append(df_)\n",
    "            \n",
    "        \n",
    "\n",
    "# display(w)\n",
    "w = interactive_output(update_plot, {'chan_list':select_channels,\n",
    "                                     'trial_list':select_trials, \n",
    "                                     'bout_':select_bouts,\n",
    "                                     'yrange':slider_yrange, \n",
    "                                     'xrange':slider_xrange,\n",
    "                                     'lagging_chan_':detect_chan_radio,\n",
    "                                     'detect_inwin':slider_inwindow,\n",
    "                                     'thresh_':slider_threshold,\n",
    "                                     'iei':iei_text,\n",
    "                                     'polarity':radio_polarity});\n",
    "display(trial_abs_readout,trial_readout,lagging_time_readout,lagging_amp_readout,ui_trials,ui_peaks,w,ui_range)\n"
   ]
  },
  {
   "cell_type": "code",
   "execution_count": null,
   "id": "f9d20860-59f6-41ea-924b-bc98d99cb3c3",
   "metadata": {
    "tags": [
     "hide-input"
    ]
   },
   "outputs": [],
   "source": [
    "#@title {display-mode:\"form\"}\n",
    "\n",
    "#@markdown Use the parameters you optimized using the interactive plot to automatically measure peaks\n",
    "#@markdown across all trials and bouts. The results will be saved as a .csv file. \n",
    "#@markdown All trials in all bouts are included in the analysis - remove bouts from bouts_list if you do not want them.\n",
    "\n",
    "condition = 'hot' #@param\n",
    "channel_use = 0 #@param\n",
    "polarity_use = -1 #@param\n",
    "threshold_use = 0.04 #@param\n",
    "inwindow_use = [0.0050,0.0130] #@param\n",
    "iei_use = 0.005 #@param\n",
    "\n",
    "onset_samps = int(inwindow_use[0]*fs)\n",
    "\n",
    "df = pd.DataFrame()\n",
    "\n",
    "synwav = []\n",
    "for b_, bout_ in enumerate(bouts_list):\n",
    "    trials_t = trial_times[(trial_times>bout_[0]) & (trial_times<bout_[1])]\n",
    "    \n",
    "    peak_amp = []\n",
    "    peak_time = []\n",
    "    for t_ in trials_t:\n",
    "        \n",
    "        lagging_signal = data[(int(fs*(t_+inwindow_use[0]))):(int(fs*(t_+inwindow_use[1]))),channel_use]\n",
    "\n",
    "        r = find_peaks(lagging_signal*polarity_use,height=threshold_use,distance=int(iei_use*fs))\n",
    "\n",
    "        if len(r[0])==0:\n",
    "            peak_time.append(np.NaN)\n",
    "            peak_amp.append(np.NaN)\n",
    "            \n",
    "        if len(r[0])>0:\n",
    "            \n",
    "            this_i = int(fs*(t_+inwindow_use[0])) + r[0][0]\n",
    "            peak_time.append((r[0][0]/fs)+inwindow_use[0])\n",
    "            peak_amp.append(r[1]['peak_heights'][0]*polarity_use)\n",
    "            \n",
    "            synwav.append(data[this_i-int(0.005*fs):this_i+int(0.005*fs),channel_use])\n",
    "\n",
    "    df_ = pd.DataFrame({'amp':peak_amp,'time':peak_time,'bout':b_,'n':np.arange(0,len(peak_amp)),'condition':condition})\n",
    "    df = pd.concat([df,df_])\n",
    "\n",
    "df.to_csv('evoked-emg_' + condition + '.csv')\n"
   ]
  },
  {
   "cell_type": "code",
   "execution_count": null,
   "id": "15070940-c49b-489b-988b-354d5f90fb79",
   "metadata": {
    "tags": [
     "hide-input"
    ]
   },
   "outputs": [],
   "source": [
    "#@title {display-mode:\"form\"}\n",
    "\n",
    "#@markdown Run this code cell to get a plot of the average EMG waveform (centered at the peak of each event). \n",
    "#@markdown The variable values from the last code cell will automatically be used and the plot will include 5msec before and after the peak.\n",
    "#@markdown <br> You can change the y-axis limits so that the y-scale is the same across conditions.\n",
    "\n",
    "ylim = [-0.25,0.15] #@param\n",
    "\n",
    "#@markdown Finally, specify whether you want to save the resulting figure or not to the workspace.\n",
    "save_fig = False #@param\n",
    "\n",
    "pre_post_dur = 0.005\n",
    "\n",
    "synwav = []\n",
    "for b_, bout_ in enumerate(bouts_list):\n",
    "    trials_t = trial_times[(trial_times>bout_[0]) & (trial_times<bout_[1])]\n",
    "    \n",
    "    peak_amp = []\n",
    "    peak_time = []\n",
    "    for t_ in trials_t:\n",
    "        \n",
    "        lagging_signal = data[(int(fs*(t_+inwindow_use[0]))):(int(fs*(t_+inwindow_use[1]))),channel_use]\n",
    "\n",
    "        r = find_peaks(lagging_signal*polarity_use,height=threshold_use,distance=int(iei_use*fs))\n",
    "\n",
    "        if len(r[0])==0:\n",
    "            peak_time.append(np.NaN)\n",
    "            peak_amp.append(np.NaN)\n",
    "            \n",
    "        if len(r[0])>0:\n",
    "            \n",
    "            this_i = int(fs*(t_+inwindow_use[0])) + r[0][0]\n",
    "            peak_time.append((r[0][0]/fs)+inwindow_use[0])\n",
    "            peak_amp.append(r[1]['peak_heights'][0]*polarity_use)\n",
    "            \n",
    "            synwav.append(data[this_i-int(0.005*fs):this_i+int(0.005*fs),channel_use])\n",
    "\n",
    "            \n",
    "synwav = np.asarray(synwav).T\n",
    "\n",
    "wav_u = np.mean(synwav,1)\n",
    "wav_std = np.std(synwav,1)\n",
    "\n",
    "hfig,ax = plt.subplots(figsize=(5,4))\n",
    "x = np.linspace(-pre_post_dur,pre_post_dur,np.shape(wav_u)[0])\n",
    "ax.plot(x,wav_u,color = 'black');\n",
    "ax.fill_between(x, wav_u-wav_std, wav_u+wav_std, alpha = 0.25, color = 'purple');\n",
    "ax.set_ylim(ylim[0],ylim[1]);\n",
    "ax.set_ylabel('Volts (recorded)')\n",
    "ax.set_xlabel('time (seconds)');\n",
    "\n",
    "if save_fig == True:\n",
    "    plt.savefig(condition + '_avg',format='png',facecolor='white')"
   ]
  },
  {
   "cell_type": "markdown",
   "id": "b4cb5d41-b78c-4531-8091-59e3b0991197",
   "metadata": {},
   "source": [
    "## Visualize the processed data"
   ]
  },
  {
   "cell_type": "markdown",
   "id": "c965dbab-e18c-4252-91f6-ca2b01ba2eea",
   "metadata": {},
   "source": [
    "### Plot the processed data from one condition\n",
    "\n",
    "Draw a scatter plot to show the relationship between x and y for different subsets of the data using the hue parameter to identify different bouts (or other subset groupings of the data if you want to change it). It is possible to show up to three dimensions independently by using all three semantic types, but this style of plot can be hard to interpret and is often ineffective. Using redundant semantics (i.e. both hue and style for the same variable) can be helpful for making graphics more accessible.\n",
    "\n",
    "See the tutorial for more information.\n",
    "\n",
    "The default treatment of the hue (and to a lesser extent, size) semantic, if present, depends on whether the variable is inferred to represent “numeric” or “categorical” data. In particular, numeric variables are represented with a sequential colormap by default, and the legend entries show regular “ticks” with values that may or may not exist in the data. This behavior can be controlled through various parameters, as described and illustrated below."
   ]
  },
  {
   "cell_type": "code",
   "execution_count": null,
   "id": "1397ddc3-810b-43bc-aa35-e00a47abf1c9",
   "metadata": {
    "tags": [
     "hide-input"
    ]
   },
   "outputs": [],
   "source": [
    "#@title {display-mode:\"form\"}\n",
    "\n",
    "#@markdown Specify the filepath to a csv file\n",
    "filepath = 'evoked-emg_hot.csv' #@param\n",
    "\n",
    "#@markdown Specify the header name of the column you want for your x points. \n",
    "#@markdown If more than one header is specified (separated by commas), each will be plotted overlaid in a different color for a violin plot.\n",
    "x_column = 'column header for x axis' #@param\n",
    "\n",
    "#@markdown Specify the header name of the column you want for your y points. \n",
    "#@markdown If more than one header is specified (separated by commas), each will be plotted overlaid in a different color for a scatter plot\n",
    "y_column = 'column header for y axis' #@param\n",
    "\n",
    "hue_column = 'bout' #@param\n",
    "\n",
    "#@markdown Specify the plot type ('scatter', 'box' or 'point').\n",
    "plot_type = 'scatter' #@param\n",
    "\n",
    "#@markdown Finally, specify whether you want to save the resulting figure or not to the workspace.\n",
    "save_fig = False #@param\n",
    "\n",
    "df = pd.read_csv(filepath)\n",
    "\n",
    "hfig,ax = plt.subplots(figsize=(5,4))\n",
    "\n",
    "if plot_type == 'scatter':\n",
    "    if hue_column == 'none':\n",
    "        g = sns.scatterplot(data=df,x=x_column,y=y_column,alpha=0.75);\n",
    "    else:\n",
    "        g = sns.scatterplot(data=df,x=x_column,y=y_column,hue=hue_column,style=hue_column,alpha=0.75);\n",
    "\n",
    "if plot_type == 'point':     \n",
    "    \n",
    "    g = sns.pointplot(data=df,x=x_column,y=y_column,alpha=0.75);\n",
    "\n",
    "if plot_type == 'box':     \n",
    "    if hue_column == 'none':\n",
    "        g = sns.boxplot(data=df,x=x_column,y=y_column);\n",
    "    else:\n",
    "        g = sns.boxplot(data=df,x=x_column,y=y_column,hue=hue_column);\n",
    "\n",
    "        \n",
    "g.legend(loc='center left', bbox_to_anchor=(1, 0.5), ncol=1);\n",
    "# ax.set_xlim(x_lim[0],x_lim[1])\n",
    "\n",
    "if save_fig == True:\n",
    "    plt.savefig(condition + '_' + y_column,format='png',facecolor='white')"
   ]
  },
  {
   "cell_type": "markdown",
   "id": "d1ec791f-2abb-4e87-8acd-c0e863805961",
   "metadata": {},
   "source": [
    "### Compare data across conditions \n",
    "\n",
    "Show point estimates and errors using dot marks.\n",
    "\n",
    "A point plot represents an estimate of central tendency for a numeric variable by the position of the dot and provides some indication of the uncertainty around that estimate using error bars.\n",
    "\n",
    "Point plots can be more useful than bar plots for focusing comparisons between different levels of one or more categorical variables. They are particularly adept at showing interactions: how the relationship between levels of one categorical variable changes across levels of a second categorical variable. The lines that join each point from the same hue level allow interactions to be judged by differences in slope, which is easier for the eyes than comparing the heights of several groups of points or bars.\n",
    "\n",
    "It is important to keep in mind that a point plot shows only the mean (or other estimator) value, but in many cases it may be more informative to show the distribution of values at each level of the categorical variables. In that case, other approaches such as a box or violin plot may be more appropriate.\n",
    "\n",
    "In the following code cell, you can plot any column from the csv files against the stimulus number within each bout. The \"hue value\" will be condition (so that each point in the plot shows the average across bouts for each stimulus number within a condition)."
   ]
  },
  {
   "cell_type": "code",
   "execution_count": null,
   "id": "a7735c9d-cad9-427f-9195-e625dbbf0ed1",
   "metadata": {
    "tags": [
     "hide-input"
    ]
   },
   "outputs": [],
   "source": [
    "#@title {display-mode: \"form\"}\n",
    "\n",
    "#@markdown List the full path to each csv file created using the \"adaptation analysis tool.\"\n",
    "file_list = ['evoked-emg_control.csv', 'evoked-emg_cold.csv', 'evoked-emg_hot.csv'] #@param\n",
    "# file_list = ['adaptation_2_b_.csv','adaptation_5_b_.csv','adaptation_10_b_.csv']\n",
    "\n",
    "#@markdown Then run this code cell to create a dataframe combining the data from all listed files. <br>\n",
    "#@markdown And make a \"point plot\" across conditions for the specified csv column. \n",
    "\n",
    "y_column = 'time' #@param\n",
    "\n",
    "#@markdown Finally, specify whether you want to save the resulting figure or not to the workspace.\n",
    "save_fig = False #@param\n",
    "\n",
    "df = pd.DataFrame({})\n",
    "for f in file_list:\n",
    "    df_ = pd.read_csv(f)\n",
    "    df = pd.concat([df,df_])\n",
    "\n",
    "\n",
    "hfig,ax = plt.subplots(figsize=(8,4))\n",
    "g = sns.pointplot(data=df,x='n',y=y_column,hue='condition',alpha=0.75);\n",
    "g.legend(loc='center left', bbox_to_anchor=(1, 0.5), ncol=1);\n",
    "\n",
    "if save_fig == True:\n",
    "    plt.savefig('all-conditions_' + y_column,format='png',facecolor='white')"
   ]
  },
  {
   "cell_type": "markdown",
   "id": "d451b557-6777-4492-955e-a41130ad39b9",
   "metadata": {},
   "source": [
    "<hr> \n",
    "Written by Dr. Krista Perks for courses taught at Wesleyan University."
   ]
  },
  {
   "cell_type": "code",
   "execution_count": null,
   "id": "38fc3e2e-0fda-4e5a-8b7e-e977aa87d8e4",
   "metadata": {},
   "outputs": [],
   "source": []
  },
  {
   "cell_type": "markdown",
   "id": "57a8a68c-055e-4af0-ba4d-67d0d67148f1",
   "metadata": {},
   "source": [
    "<a id=\"setup\"></a>"
   ]
  },
  {
   "cell_type": "markdown",
   "id": "a350712e-e145-4475-9588-e3f19469b5ce",
   "metadata": {},
   "source": [
    "<a id=\"one\"></a>"
   ]
  },
  {
   "cell_type": "markdown",
   "id": "86fd2b4a-b890-465f-bf33-c2057738789e",
   "metadata": {},
   "source": [
    "<a id=\"two\"></a>"
   ]
  },
  {
   "cell_type": "markdown",
   "id": "b05de192-2baf-4d46-8848-6db1e3b50bff",
   "metadata": {},
   "source": [
    "<a id=\"three\"></a>"
   ]
  },
  {
   "cell_type": "markdown",
   "id": "e6519277-fc86-44fd-a75b-f74cad0efcf1",
   "metadata": {},
   "source": [
    "<a id=\"four\"></a>"
   ]
  }
 ],
 "metadata": {
  "kernelspec": {
   "display_name": "Python 3 (ipykernel)",
   "language": "python",
   "name": "python3"
  },
  "language_info": {
   "codemirror_mode": {
    "name": "ipython",
    "version": 3
   },
   "file_extension": ".py",
   "mimetype": "text/x-python",
   "name": "python",
   "nbconvert_exporter": "python",
   "pygments_lexer": "ipython3",
   "version": "3.8.13"
  },
  "widgets": {
   "application/vnd.jupyter.widget-state+json": {
    "state": {
     "00f77dc73f4d48ffaa8c7792acc95a76": {
      "model_module": "@jupyter-widgets/base",
      "model_module_version": "1.2.0",
      "model_name": "LayoutModel",
      "state": {}
     },
     "04227157054b4b3e9ca7c517717b49c2": {
      "model_module": "@jupyter-widgets/controls",
      "model_module_version": "1.5.0",
      "model_name": "DescriptionStyleModel",
      "state": {
       "description_width": "200px"
      }
     },
     "04cbabbf0812404e81c13ccf3d4c16e1": {
      "model_module": "@jupyter-widgets/base",
      "model_module_version": "1.2.0",
      "model_name": "LayoutModel",
      "state": {
       "width": "600px"
      }
     },
     "05856cf167f54e10862f8ae7772e2fbe": {
      "model_module": "@jupyter-widgets/base",
      "model_module_version": "1.2.0",
      "model_name": "LayoutModel",
      "state": {}
     },
     "06a42331cfdc43b69ad614d888d2f74a": {
      "model_module": "@jupyter-widgets/base",
      "model_module_version": "1.2.0",
      "model_name": "LayoutModel",
      "state": {}
     },
     "070bf6c11cdd48e1b3fa7f2743d582b0": {
      "model_module": "@jupyter-widgets/controls",
      "model_module_version": "1.5.0",
      "model_name": "DescriptionStyleModel",
      "state": {
       "description_width": ""
      }
     },
     "0717ccfe07074282ae0c2b92fcd3e033": {
      "model_module": "@jupyter-widgets/base",
      "model_module_version": "1.2.0",
      "model_name": "LayoutModel",
      "state": {
       "width": "600px"
      }
     },
     "078d2fe1665340cebac3d41c5713bf61": {
      "model_module": "@jupyter-widgets/base",
      "model_module_version": "1.2.0",
      "model_name": "LayoutModel",
      "state": {}
     },
     "09250916843944c19c41717bc8a0c3b6": {
      "model_module": "@jupyter-widgets/output",
      "model_module_version": "1.0.0",
      "model_name": "OutputModel",
      "state": {
       "layout": "IPY_MODEL_30b623a4f2b84cd98d5064516e8aae36",
       "outputs": [
        {
         "data": {
          "image/png": "iVBORw0KGgoAAAANSUhEUgAABFwAAAIcCAYAAADL8bqfAAAAOXRFWHRTb2Z0d2FyZQBNYXRwbG90bGliIHZlcnNpb24zLjUuMSwgaHR0cHM6Ly9tYXRwbG90bGliLm9yZy/YYfK9AAAACXBIWXMAABYlAAAWJQFJUiTwAADfGUlEQVR4nOy9d3ibx5Xv/x0U9iqSEtWoZlnNapTkKrd4HZdE8cZpN46zyabIu8nu3bvJptz4JuvcLTdl97fNm7uWN/aNndhZO7HjyIl7l2XZFiVZlq3eCylR7BUAgfn9AbwgQIIkMIPB4PA9n+fRI70APphzhgevyOG85xVSSjAMwzAMwzAMwzAMwzDZw2M7AIZhGIZhGIZhGIZhmMkGL7gwDMMwDMMwDMMwDMNkGV5wYRiGYRiGYRiGYRiGyTK84MIwDMMwDMMwDMMwDJNleMGFYRiGYRiGYRiGYRgmy/CCC8MwDMMwDMMwDMMwTJbhBReGYRiGYRiGYRiGYZgswwsuDMMwDMMwDMMwDMMwWYYXXBiGYRiGYRiGYRiGYbIML7gwDMMwDMMwDMMwDMNkGV5wYRiGYRiGYRiGYRiGyTK84MIwDMMwDMMwDMMwDJNleMGFYRiGYRiGYRiGYRgmy/CCC8MwDMMwDMMwDMMwTJbJ2wUXIUSJEOImIcT/EkI8JoQ4LoSQsT//K0tjTBNC/KMQYr8QYkAI0S6EeE0I8UUhhMjGGAzDMAzDMAzDMAzDuA+f7QDG4WIAvzf15kKINQCeAVATe6gXQDmA9bE/nxBCfERKGTQVA8MwDMMwDMMwDMMwk5O83eESowPACwB+DODTAFqy8aZCiEoATyK62LIXwFopZTmAUgBfBRAEcAOAf87GeAzDMAzDMAzDMAzDuIt83uHympRySuIDQogfZOm9vwGgHkA/gJullMcAILab5SdCiHIAPwCwUQjxL1LK/Vkal2EYhmEYhmEYhmEYF5C3O1yklGGDb//Z2N+/dBZbRnA3opcYeQF8xmAcDMMwDMMwDMMwDMNMQvJ2wcUUQohFABpih0+neo2Usg/Aa7HD63MRF8MwDMMwDMMwDMMwkwfXLbgAuCjh33vGeZ3z3FKDsTAMwzAMwzAMwzAMMwlx44LLjIR/nx7ndc5zFUKIMoPxMAzDMAzDMAzDMAwzycjnprmmKE/4d/84r0t8rhzRni5jIoRoSmPsuQCellJyXxiGYRiGYRiGYRiGmcS4ccHFJkUNDQ23bdq06TbbgVCgtbUVAFBXV4fIYAR9z/WN+VpvjRcll5fkKjSGIL/85WIAQGlpKTZsSGd9lGHGJvH8xGSfzZvXxP/ths8r1xOTTbiemGzC9cRkE8r1tHHjRqHiCSlltmMxhhDiGIA5AL4rpfxbxff4cwD/GjuslFJ2j/G6vwDwz7HDcinluDtc0hy7qbGxsbGpafJ/85gNNm3aBADYuHEjBrsGse2fto352orZFWj8YmOuQmMIIhJOkYROe0yeknh+YrKP2z6vXE9MNuF6YrIJ1xOTTYjXk9KCixt7uJxJ+PfMcV7nPNeTjcWWRA4ePIiDBw/mzKPqJiIj43/HLcPDz1PM1YZLLV5dVxWKuXI9mXdVoZgrz7F5VxWKufL5ybyrCsVcuZ7Mu6pQzJXrybyrA7U5dnDjJUWJdya6CMDeMV7n3M3ovWwH8NJLLwEAFi5cmBOPqpvIRAsukXAkK2O6yaUWr66rCsVcuZ7Mu6pQzJXn2LyrCsVc+fxk3lWFYq5cT+ZdVSjmyvVk3tWB2hw7uHHB5QCAkwBmA7gRwKMjXyCEKAVwZezw+WwHsGHDhpx6VN1EMtnhQjFXGy61eHVdG2O6yaUWr65rY0y3uTbG5Fwnp0stXl3XxphucqnFq+vaGNNNLrV4dV0dqM2xg+sWXKSUUgjxIIDvAPhvQoi/kVIeG/GyrwIoAxAB8ItsxzB9+vScelTdREYuuHj8HkRCw7taEne4UMzVhkstXl3XxphucqnFq+vaGNNtro0xOdfJ6VKLV9e1MaabXGrx6ro2xnSTSy1eXVcHanPskNc9XIQQ1UKIWucPhuMtSXxcCFE2wrtLCCFjf+ameOsfAzgLoATA74QQa2JegRDiTwH8Tex190op92U7r56eHvT09OTMo+omMnLBxev3Jj+fsMOFYq42XGrx6rqqUMyV68m8qwrFXHmOzbuqUMyVz0/mXVUo5sr1ZN5VhWKuXE/mXR2ozbFDXi+4ANgJoDXhz+zY4/9zxON3Z/KmUspOABsAtANYCmC7EKIbQC+AnwAoAPAcgL/QziAFDz/8MB5++OGceVTdRFLtcEkkcYcLxVxtuNTi1XVVoZgr15N5VxWKufIcm3dVoZgrn5/Mu6pQzJXrybyrCsVcuZ7MuzpQm2MH111S5CClfFsIsQzAtwB8GMAsAH2INsn9GYCfSikj47yFMmvXrs2pR9VNJJMdLhRzteFSi1fXtTGmm1xq8eq6NsZ0m2tjTM51crrU4tV1bYzpJpdavLqujTHd5FKLV9fVgdocOwgpx29GymQPIURTY2NjY1NTk+1QSJB4n/bO453Ydf+u+HNl08vQ2zx8t26P34Or7rwq1yEyhBBi+N982mN0STw/MdnHbZ9Xricmm3A9MdmE64nJJsTrSUz8ktHk+yVFDAMgsx0uDMMwDMMwDMMwDGMb115SZJOHHnoIAHDbbbflxKPqJjKqh4vPM+p5KSWEECRzteFSi1fX/eEPfw4AuP3223M2pptcavHquqpQzNWGe/fdjwMAPvrRj+ZsTJuuKhRz5fOTeVcVirlyPZl3VaGYK9eTeVcHanPswAsuFqiqqsqpR9VNZOSCi/AICI9IelxGJIRXkMzVhkstXn23HwAwY0Yux3SPSy1eXdfGmG5y580rBJD551VnTJuujTHd5FKLV9e1MaabXGrx6ro2xnSTSy1eXVcHanPswD1ccgj3cMmMxGv82g604d2H3o0/N2XhFHQe60QkNNzX+MrvXAlvgXfU+zAMQP6aUSbP4HpisgnXE5NNuJ6YbML1xGQT4vXEPVyYyUuqHS4e79i3hmYYhmEYhmEYhmEYm/AlRRZ48cUXAQAf+MAHcuJRdRMZuRNLCAHhTV5kdBrnUszVhkstXl23s7MEAHDmTGaXKVDMlevJvKsKxVxtuI88sgUAsH79+owvK6KWqw4Uc+Xzk3lXFYq5cj2Zd1WhmCvXk3lXB2pz7MALLhY4duxYTj2qbhIjr3wTGHOHC8VcbbjU4tV1v/Wt22N/Z3abWYq5cj2Zd22M6Sb3U59aH/93plc+U8tVB4q58vnJvGtjTDe51OLVdW2M6SaXWry6rg7U5tiBe7jkEO7hkhmJ1/id23MO7//q/fhzdcvq0HOmB4Mdg/HHLvnvl6B4SnHO42RoIBI2RPFpj9GF+DXIeY/bPq9cT0w24XpisgnXE5NNiNcT93BhJi+pLiniHi4MwzAMwzAMwzBMvsILLhbYu3cv9u7dmzOPqpvEiN9wCs/YPVwo5mrDpRavrqsKxVy5nsy7qlDMlefYvKsKxVz5/GTeVYVirlxP5l1VKObK9WTe1YHaHDtwDxcLvPbaawCAJUuW5MSj6iYy8i5F4/VwoZirDZdavLquKhRz5Xoy76pCMVeeY/OuKhRz5fOTeVcVirlyPZl3VaGYK9eTeVcHanPswD1ccojTw+Xpp58GANTV1WXkt7a2KnlU3cRr/Jp3NmP/E/vjz9Wvqkd/Wz+6T3bHH1v9hdWobKgkmasNl1q8uq5qTwiKuXI9mXdVr0GmmKsNV6eHC7VcAa4n0y61eHVdriezLrV4dV2uJ7MutXh1XZ0eLnkwx0o9XHiHiwVUvtg6HlU3kZE7XIRn7B4uFHO14VKLV9e1MaabXGrx6ro2xnSba2NMznVyutTi1XVtjOkml1q8uq6NMd3kUotX19WB2hw7cA8XC3R0dKCjoyNnHlU3iRS3hR6rhwvFXG241OLVdVWhmCvXk3lXFYq58hybd1WhmCufn8y7qlDMlevJvKsKxVy5nsy7OlCbYwdecLHAo48+ikcffTRnHlU3kUzuUkQxVxsutXh1XVUo5sr1ZN5VhWKuPMfmXVUo5srnJ/OuKhRz5Xoy76pCMVeuJ/OuDtTm2IEvKbLApZdemlOPqptIqkuKxtrhQjFXGy61eHVdG2O6yaUWr65rY0y3uTbG5Fwnp0stXl3XxphucqnFq+vaGNNNLrV4dV0dqM2xAzfNzSFO09ympibboZAgsanSqW2ncOjpQ/HnZl4yE6G+EM7tORd/bMnHlmDa8mk5j5OhgU4TToYZiU7TN2Zi3PZ55XpisgnXE5NNuJ6YbEK8nrhpLjN5GXVJ0Tg7XBgmFffcQ/oEzzCuwg2LLAzDMAzDTH64h4sFHnjgATzwwAM586i6iYy6pGicHi4Uc7XhUotX11WFYq5cT+ZdVSjmyvVk3lWFYq5cT+ZdVSjmyvVk3lWFYq5cT+ZdHajNsQPvcLFAfX19Tj2qbhIZ3KWIYq42XGrx6ro2xnSTSy1eXdfGmG5yqcWr69oY000utXh1XRtjusmlFq+ua2NMN7nU4tV1daA2xw7cwyWHcA+XzEi8xu/4q8dx9MWj8ecarmxAJBTBqW2n4o8tuGEBZl82O+dxMjQgfs0ok2dwPTHZhOuJySZcT0w24XpisgnxeuIeLszkJdVtobmHC5MJx4/XAgCamoA1aywHwzDMuCT+XoI/rwzDMAzDUIUXXCzw7LPPAgA++MEP5sSj6iaR4pKisXq4UMzVhkstXl337//+1tjfmTXkpJgr15N5VxWKudpw164d/nemG3Gp5aoDxVz5/GTeVYVirlxP5l1VKObK9WTe1YHaHDvwgosFWlpacupRdRMZ1TTXM3pHl/MairnacKnFq+vaGNNNLrV4dV0bY7rNtTEm5zo5XWrx6ro2xnSTSy1eXdfGmG5yqcWr6+pAbY4duIdLDuEeLpmReI3fkReO4MRrJ+LPzfvAPAiPwJHnj8Qfa1jfgPl/MD/ncTI0EAlrdHzaY3Qhfg1y3uO2zyvXE5NNuJ6YbML1xGQT4vWk1MOFbwvNkCDVDpeRPVycS4oYhmEYhmEYhmEYxja84GKB3bt3Y/fu3TnzqLpJpNHDxWmaSzFXGy61eHVdVSjmyvVk3lWFYq48x+ZdVSjmyucn864qFHPlejLvqkIxV64n864O1ObYgXu4WGDbtm0AgBUrVuTEo+omkvIuRZ7UO1wo5mrDpRavrqsKxVy5nsy7qlDMlefYvKsKxVz5/GTeVYVirlxP5l1VKObK9WTe1YHaHDtwD5cc4vRwef755wEA1dXVGfkdHR1KHlU38Rq/g08dxOk3T8efu+DGC+At9GL/E/vjj9WvqsfiP1xMMlcbLrV4dV3VnhAUc+V6Mu+qXoNMMVcbrk4PF2q5AlxPpl1q8eq6XE9mXWrx6rpcT2ZdavHqujo9XPJgjpV6uPAOFwuofLF1PKpuEhncFppirjZcavHqujbGdJNLLV5d18aYbnNtjMm5Tk6XWry6ro0x3eRSi1fXtTGmm1xq8eq6OlCbYwfu4WKB1tZWtLa25syj6iaS8pKiEU1znR4uFHO14VKLV9dVhWKuXE/mXVUo5spzbN5VhWKufH4y76pCMVeuJ/OuKhRz5Xoy7+pAbY4deMHFAo8//jgef/zxnHlU3URS3aVorB0uFHO14VKLV9dVhWKuXE/mXVUo5spzbN5VhWKufH4y76pCMVeuJ/OuKhRz5Xoy7+pAbY4d+JIiC1x55ZU59ai6SaS4pGisHS4Uc7XhUotX162s7AMAlJSU5mxMN7nU4tV1bYzpJreuLgQA8Pn8ORvTpmtjTDe51OLVdW2M6SaXWry6ro0x3eRSi1fX1YHaHDtw09wc4jTNbWpqsh0KCRKbKu37zT607GqJP7folkUoqizCOw+8E3+sal4VVn1uVa7DZIig06SLYUbC9cRkE64nJptwPTHZhOuJySbE60mpaS5fUsSQIJMeLgzDMAzDMAzDMAxjG15wscB9992H++67L2ceVTeJDO5SRDFXGy61eHVdVSjmyvVk3lWFYq5cT+ZdVSjmyvVk3lWFYq5cT+ZdVSjmyvVk3tWB2hw7cA8XC8ydOzenHlU3kVRNc8fa4UIxVxsutXh1XRtjusmlFq+ua2NMN7nU4tV1bYzpJpdavLqujTHd5FKLV9e1MaabXGrx6ro6UJtjB+7hkkO4h0tmJF7j996j76H1veFbci39+FKUTi3F2z95O/5YSV0JLv7qxTmPk6HBV7/6NADgxhtvxIYNloNhyEP8GuS8Z/Pm4X+74fPK9cRkE64nJptwPTHZhHg9KfVwyfsdLkKIcgBfB/AxAPMAhAEcAPAwgLullEHF9xUAPgHgjwA0AqgFEAJwCsAWAP8updyhnQCTHUasC463w4VhUvGTn9wY+xvgdWaGyW8+8pHhf/PnlWEYhmEYquT1gosQYg6AlwHMjT3UD6AQwNrYn9uFENdJKTsyfN8iAL8GcHPCw70ACgBcGPvzeSHEt6SU/6CTQyp+//vfAwBuvvnmCV6ZHY+qm8jIS4rG6+FCMVcbLrV4dV1VKObK9WTeVYVirjzH5l1VKObK5yfzrioUc+V6Mu+qQjFXrifzrg7U5tghbxdchBBeAJsRXWw5A+BzUsrnhRAeAB8HcC+A1QB+geSFk3S4M8H5CYC/l1Keju16WQXgnwFcBeBHQohXpJRvp3wXRTo7O3PqUXUTyeQuRRRzteFSi1fXtTGmm1xq8eq6NsZ0m2tjTM51crrU4tV1bYzpJpdavLqujTHd5FKLV9fVgdocO+RtDxchxJcQXVSRAC6TUr454vlPAfhl7PAPpJQvZPDeRxFdyHlZSnltiucrAJwAUAngh1LKbyslMfp9uYdLBiRe47f7F7vRfrA9/tzy25ajYlYFXv/R6/HHfMU+rP/W+pzHydBAJKzP5elpjyEE8WuQ8x63fV65nphswvXEZBOuJyabEK8npR4u+Xxb6M/F/n5p5GJLjEcAHBnx2nSZHvs75cqHlLIbwP7YYUmG782YIMVtobmHC8MwDMMwDMMwDJOv5OWCixCiBMDlscOnU71GRrfmPBM7vD7DIZyFmjVjjF8BYFHscHuG7z0hO3bswI4dmffjVfWouomkuqRorB4uFHO14VKLV9dVhWKuXE/mXVUo5spzbN5VhWKufH4y76pCMVeuJ/OuKhRz5Xoy7+pAbY4d8rWHyxIMLwbtGed1znP1QogaKWVbmu//EwD/BuAaIcS/I3UPl0oAbyDaIyarbN8eXcNpbGzMiUfVTWRk01zhERCe0TtcpJQkc7XhUotX11WFYq5cT+ZdVSjmynNs3lWFYq58fjLvqkIxV64n864qFHPlejLv6kBtjh3ysoeLEGIDgN/GDldKKXeP8bpbAPwmdrhcSjne4kyi5wHwtwC+heGFHecuRQUAWgDcD+BvpJQDab5nOo1ZFjc0NJR8+9vRljBerzedt44TDoeVPKpua2srAKCurg79W/sRbgvHnyu+rBi+Wh96nuxJutyo7ENliMiIlXipudTi1XXvuGP4WtF77tmUkzHd5FKLV9dNPD/lakw3uaqfV50xbbpcT2ZdavHqulxPZl1q8eq6XE9mXWrx6rqq9aQzbrZy3bhxo1IPl3zd4VKe8O/+cV6X+Fz5mK8agZQyIoS4E8BeRHe7lMX+OBQjusOlBEBaCy6ZoPLF1vGoukmk6OECILpcFk5+HcVcbbjU4tV1bYzpJpdavLqujTHd5toYk3OdnC61eHVdG2O6yaUWr65rY0w3udTi1XV1oDbHDvm6w+U2DF/Ks1BKeWiM110P4NnY4eVSyjfSfP9aAI8CuAbAcwC+j+jlScUALgPwQwALARwGcJWU8oxaJqPGbWpsbGx88sknAQDTp0+fwEimublZyaPqJnax3vHTHeg+2R1/bvUXVqOyoRJbfrAFQ4ND8cfXf3s9WjtarcRLzaUWr66retcTirlyPZl3VbvsU8zVhqtzlyJquQJcT6ZdavHqulxPZl1q8eq6XE9mXWrx6ro6dynKgzmeVHcp6kn493h3CUp8rmfMV43mAUQXW14BcIOU8nUpZZeUskVK+TiA9QDOA1gA4AcZvG9abN68GZs3b86ZR9VNYowdLiPvVBQJR0jmasOlFq+u29DQioaGVmR6CSbFXLmezLuqUMzVhqv6edUZ06arCsVc+fxk3lWFYq5cT+ZdVSjmyvVk3tWB2hw75OslRYk7SmYCSNnDJfacQ3M6byyEWALgptjhP8oUW3yklOeEEA8A+BqAjwkhPpfqdapce+21OfWouomkapoLYNSdimRYkszVhkstXl33zjsfB5D5ijrFXLmezLs2xnST+/zznQCAhQszv8abWq46UMyVz0/mXRtjusmlFq+ua2NMN7nU4tV1daA2xw75eklRCaI7VjwAviml/PEYr/sJgD8F0CKlTGuPkBDiYwB+FTtcJqV8f4zX/QmA/xs7rJdSns0ghbHGbmpsbGxsakqnvy6TuOVs+z3b0dvcG39uzcY1KJ9Rjm3/sg2DHYPxxy/5i0tQXF2c81iZ/EdnCyPDjITrickmXE9MNuF6YrIJ1xOTTYjX0+S5pEhK2Y/oLZkB4MZUr4ndwvmG2OHzGbx9JOHfc8Z53bSEf/eO+SomN4xxSVGqHS4MwzAMwzAMwzAMY5u8XHCJ8bPY39cKIS5J8fwnAMyP/fuBDN53R8K//zTVC4QQpQD+KHa4W0rZl8H7T8imTZviq3u58Ki6iYx1SZHzt0MkHCGZqw2XWry6rioUc+V6Mu+qQjFXrifzrioUc+V6Mu+qQjFXrifzrioUc+V6Mu/qQG2OHfK1hwsA3A/gLwAsA/DrWB+VF4QQHgAfA3Bv7HXPSCmfSxSFEHcB+OvY4Twp5THnOSnlcSHEZgAbAGwQQjwI4C4ARxCdj3UA/gXDizn/mO3EFi9enFOPqpvIyEvfROwWFiOb5sqwJJmrDZdavLruq68Ou5nsYqSYK9eTedfGmG5yDxy4BgCwaVNmn1edMW26NsZ0k0stXl3XxphucqnFq+vaGNNNLrV4dV0dqM2xQ172cHEQQswD8DKAhthD/YjuyimKHb8D4ANSyvYR3l0YY8El9nwtgKcBrEl4uB9AAZIXof5BSvkN3TwSxuUeLhmQeI3fm//2JgbaBuLPXfxnF6OktgQ7/nMHuk8l3C76i6tRObsy57Ey+Y/ObWYZZiTEr0HOe9z2eeV6YrIJ1xOTTbiemGxCvJ4mTw8XBynlUQDLAfwNgPdiD4cQvSzoGwAuHrnYkub7ngdwKYAvAXgGwFkAfgBDiO50+TmAK7O52MJokuZtobmHC8MwDMMwDMMwDJMP5PMlRQAAKWU3gO/F/qTr3IXoZULjvWYIwE9jf3LKE088AQC45ZZbcuJRdRMZ65KikU1zI+EIyVxtuNTi1XVVoZgr15N5VxWKufIcm3dVoZgrn5/Mu6pQzJXrybyrCsVcuZ7MuzpQm2OHvF9wmYwEAoGcelTdRMZsmptihwvFXG241OLVdW2M6SaXWry6ro0x3ebaGJNznZwutXh1XRtjusmlFq+ua2NMN7nU4tV1daA2xw553cNlssE9XDIj8Rq/N/6/NxDoHi74S//yUhRVFmHPL/fg/L7z8ceXfWoZ6pbU5TxWJv9xW08IxizEr0HOe9z2eeV6YrIJ1xOTTbiemGxCvJ4mXw8XhnHI5C5FDMMwDMMwDMMwDGMbXnCxwFtvvYW33norZx5VN5GxLilK1cOFYq42XGrx6rqqUMyV68m8qwrFXHmOzbuqUMyVz0/mXVUo5sr1ZN5VhWKuXE/mXR2ozbEDL7hYYNeuXdi1a1fOPKpuEhncpYhirjZcavHquqpQzJXrybyrCsVceY7Nu6pQzJXPT+ZdVSjmyvVk3lWFYq5cT+ZdHajNsQP3cMkhTg+XLVu2AACKi4sz8gcGBpQ8qm7iNX5bfrAFQ4ND8eeu+NYV8Bf7ceDJAziz/Uz88YUfWogpF02xEi81l1q8uq5qTwiKuXI9mXdVr0GmmKsNV6eHC7VcAa4n0y61eHVdriezLrV4dV2uJ7MutXh1XZ0eLnkwx0o9XPguRRZQ+WLreFTdRDLp4UIxVxsutXh1XRtjusmlFq+ua2NMt7k2xuRcJ6dLLV5d18aYbnKpxavr2hjTTS61eHVdHajNsQMvuFjg5MmTAIDZs2fnxKPqJjHGJUWperhQzNWGSy1eXXf58uMAgDlz5uRsTDe51OLVdVWhmKsN97rr1H8bRS1XHSjmyucn864qFHPlejLvqkIxV64n864O1ObYgXu4WOCpp57CU089lTOPqpvIWE1zU+1woZirDZdavLrun/3ZM/izP3sGmzfnbkw3udTi1XVVoZirDfeTn3wQn/zkgxl/XnXGtOmqQjFXPj+Zd1WhmCvXk3lXFYq5cj2Zd3WgNscOvMPFAtdff31OPapuImNdUpRqhwvFXG241OLVdW2M6SaXWry6ro0x3eRSi1fXtTGmm1xq8eq6NsZ0k0stXl3XxphucqnFq+vqQG2OHbhpbg5xmuY2NTXZDoUEiU2VXvnfryTtcrn6e1dDeASOv3YcR184Gn+84coGzL9ufs5jZfIfnSZdDDMSricmm3A9MdmE64nJJlxPTDYhXk9KTXP5kiILhEIhhEKhnHlU3URGXlI0Vg8XGZYkc7XhUotX11WFYq5cT+ZdVSjmyvVk3lWFYq5cT+ZdVSjmyvVk3lWFYq5cT+ZdHajNsQMvuFjg/vvvx/33358zj6rrkGoX1lh3KYqEIyRzteFSi1fX3bx5DTZvXoO77srdmG5yqcWr66pCMVcb7q237satt+7O+POqM6ZNVxWKufL5ybyrCsVcuZ7Mu6pQzJXrybyrA7U5duAeLha46KKLcupRdeOMcYciIPUOF4q52nCpxavrPvnkmtjfyOiHOIq5cj2Zd22M6SZX9fOqM6ZN18aYbnKpxavr2hjTTS61eHVdG2O6yaUWr66rA7U5duAeLjmEe7hkhnON35e++CW8+jevxh8XXoGrv3s1AKB5ZzP2P7E//lz96nosvmVxbgNlSCASFur4tMfoQvwa5LzHbZ9Xricmm3A9MdmE64nJJsTriXu4MJOUke1bEr4TT7XDhWEYhmEYhmEYhmFswwsuFnjsscfw2GOP5cyj6jqM2oWVsLaYqocLxVxtuNTi1XVVoZgr15N5VxWKufIcm3dVoZgrn5/Mu6pQzJXrybyrCsVcuZ7MuzpQm2MHXnBh8h/e4cIwDMMwDMMwDMMQg3u45BDu4ZIZzjV+X/jcF7Dl/2yJP+4t9OLK/3klAKDtYBve/cW78eemLJyCFZ9ZkdtAGRK4rScEYxbi1yDnPW77vHI9MdmE64nJJlxPTDYhXk/cw4WZpPAOF4ZhGIZhGIZhGIYYvOBiga1bt2Lr1q0586i6DuP2cPGM7uFCMVcbLrV4dV1VKObK9WTeVYVirjzH5l1VKObK5yfzrioUc+V6Mu+qQjFXrifzrg7U5tiBF1wssGfPHuzZsydnHlU3zjg7XEY2zZVhSTJXGy61eHVdVSjmyvVk3lWFYq48x+ZdVSjmyucn864qFHPlejLvqkIxV64n864O1ObYgXu45BCnh8u2bdsAAH6/PyM/FAopeVRd5xq/z3/m89j64+GVRX+pH1d84woAQM+ZHjRtGu6JUza9DCu/sNJKvNRcavHquqo9ISjmyvVk3lW9BplirjZcnR4u1HIFuJ5Mu9Ti1XW5nsy61OLVdbmezLrU4tV1dXq45MEcK/Vw8alIjB4qX2wdj6obJ8MdLhRzteFSi1fXXb9+LwBgyZIlORvTTS61eHVdG2O6yf3yl5WHJJerDhRz5fOTedfGmG5yqcWr69oY000utXh1XR2ozbEDL7hY4OjRowCAefPm5cSj6jqM18NlZNPcSDhCMlcbLrV4dd3PfvY1AMDGjZktuFDMlevJvKsKxVxtuP/zf9KKV9dVhWKufH4y76pCMVeuJ/OuKhRz5Xoy7+pAbY4duIeLBZ577jk899xzOfOounEy3OFCMVcbLrV4dV1VKObK9WTeVYVirlxP5l1VKObK9WTeVYVirlxP5l1VKObK9WTe1YHaHDvwDhcL3HTTTTn1qLoOme5woZirDZdavLqujTHd5FKLV9e1MaabXGrx6ro2xnSTSy1eXdfGmG5yqcWr69oY000utXh1XR2ozbEDL7hYYPbs2Tn1qLpxMtzhQjFXGy61eHVdG2O6yaUWr65rY0w3udTi1XVtjOkml1q8uq6NMd3kUotX17UxpptcavHqujpQm2MHXnCxwMDAAACguLg4Jx5V1yHTHS4Uc7XhUotX133wwSsBANu3A7EG6cbHdJNLLV5dVxWKudpwv/CFIQCAz+fL6POqM6ZNVxWKufL5ybyrCsVcuZ7Mu6pQzJXrybyrA7U5duAeLhZ48MEH8eCDD+bMo+rGyXCHC8VcbbjU4tV1t2xZgi1bluDee3M3pptcavHquqpQzNWGe//9Ptx/vy/jz6vOmDZdVSjmyucn864qFHPlejLvqkIxV64n864O1ObYgXe4WGDVqlU59ai6DpnucKGYqw2XWry6ro0x3eRSi1fXtTGm21wbY3Kuk9OlFq+ua2NMN7nU4tV1bYzpJpdavLquDtTm2EGM+mGWMYYQoqmxsbGxqanJdigk2BTbR/6Zj34Gb//72/HHS2pLcPGfXRw/fvn7Lyftgrn6e1dDeJJ3vjBMwsYo8GmP0cU5P23cuNFyJJMTt31euZ6YbML1xGQTricmmxCvJ6UfMPmSIib/GfnN9ohSH7nLRUZc8N05wzAMwzAMwzAMk9fwgosFHnnkETzyyCM586i6DiN3YSX2cAFG93F55L/o5WrDpRavrqsKxVy5nsy7qlDMlefYvKsKxVz5/GTeVYVirlxP5l1VKObK9WTe1YHaHDtwDxcLFBYW5tSj6sZJY4dLGOHhMf2F8BSqrSVSnCeuJ7NQzJXrybxrY0y3uTbG5Fwnp0stXl3XxphucqnFq+vaGNNNLrV4dV0dqM2xA/dwySHcwyUznGv8Pr3h02i6Z3jOyurLsPZP1saPt/7jVgR7gvHjy75+GQrL7ZwImPzFbT0hGLMQvwY573Hb55XrickmXE9MNuF6YrIJ8XriHi7MJCXTHi5hF3x3zjAMwzAMwzAMw+Q1eb/gIoQoF0LcJYR4VwjRK4ToEkK8LYT4mhCiIAvvP0cI8SMhxO7Ye/cJIY4IIX4jhPhKNnIYyauvvopXX301Zx5V1yHTHi6vv/Y6uVxtuNTi1XVVoZgr15N5VxWKufIcm3dVoZgrn5/Mu6pQzJXrybyrCsVcuZ7MuzpQm2OHvF5wEULMAbAbwF8DuAjRvQ2FANYC+EcA24QQ1Rrv/2UAewF8A8ByAAUAwgDmAbgFwN/rxD8W+/btw759+3LmUXXjZLjD5cD+A+RyteFSi1fXVYVirlxP5l1VKObKc2zeVYVirnx+Mu+qQjFXrifzrioUc+V6Mu/qQG2OHfK2h4sQwgtgJ6ILIWcAfE5K+bwQwgPg4wDuBVAB4Ckp5c0K7/9FAP8ZO7wXwD9JKffGnqsCsA7ADVLKv9LNJWFM7uGSAc41fp+66VPY+dOd8ccrZlWg8UuN8ePt92xHb3Nv/HjNHWtQPr08d4EyJNiwIfq5W7NmDe66y24sDH2IX4Oc9yR+Rt3weeV6YrIJ1xOTTbiemGxCvJ6Uerjk812K/hjRxRYJ4FYp5ZsAIKWMAHhERK8r+SWAm4QQ10kpX0j3jYUQ8wH8a+zwTill0k4WKWUngOdifxjbcA8XJgs4Cy4bN66xHAnDMBPhhkUWhmEYhmEmP/l8SdHnYn+/5Cy2jOARAEdGvDZdvgGgBMB7AH6gFp46Bw8exMGDB3PmUXUdMu3hcuTQEXK52nCpxavrqkIxV64n864qFHPlejLvqkIxV64n864qFHPlejLvqkIxV64n864O1ObYIS93uAghSgBcHjt8OtVrpJRSCPEMgD8FcH0G7+0F8JnY4f2xHTM55aWXXgIALFy4MCceVTdOhjtctr6+Fb46H6lcbbjU4tV1VaGYK9eTeVcVirlyPZl3VaGYK9eTeVcVirlyPZl3VaGYK9eTeVcHanPskJcLLgCWYHj3zZ5xXuc8Vy+EqJFStqXx3isAOA0+XhFCrEd0x8vlscebAbwM4B+llOONrcyGDRty6lF1HTLd4fKBaz6AyvmVSmNRnCeuJ7NQzJXrybxrY0w3udTi1XVtjOkml1q8uq6NMd3kUotX17UxpptcavHqujpQm2OHfF1wmZHw79PjvC7xuekA0llwuTDh3zcB+D6ieyb6AYQAzAXweQCfEULcIaW8P433zIjp06fn1KPqxslwh0ttTS1qp9cqDUVxnrie0uPuu28AAGzeHP2TizHd5FKLV9e1Maab3I0bh71MPq86Y9p0bYzpJpdavLqujTHd5FKLV9e1MaabXGrx6ro6UJtjh7y8S5EQ4jYAv4gdLpRSHhrjddcDeDZ2eLmU8o003vtPAPzf2KEEcBDAlwBsiV2mtBbAJgCrAQwBuEJK+VYa75vOrYcWNzQ0lHz7298GAHi93jSUYcLhsJJH1W1tbQUAVKMaA9sG4o97a70ouawkfjywfQBDzUPx44JVBfDN8JHK1YZLLV5d9447hruh33PPppyM6SaXWry6rnN+qqury9mYbnJVP686Y9p0uZ7MutTi1XW5nsy61OLVdbmezLrU4tV1VetJZ9xs5bpx40aluxTlc9NcUyTmHAZwi5TyNRlbeZJSbgewAdEdLz4A38l2AO3t7Whvb8+ZR9WNM8EOl5FV3NXZRS5XGy61eHVdVSjmyvVk3lWFYq48x+ZdVSjmyucn864qFHPlejLvqkIxV64n864O1ObYIV93uGwA8NvY4Uop5e4xXncLgN/EDpen03NFCPFZAA/EDn8jpfzoGK+7F9GdL30AKqWU4fQzGHPspsbGxsZ7770XANDY2JiRv2PHDiWPquvcp/1j134M7/7i3fjjUy6YghW3r4gf7/vNPrTsaokfywslKhdXksrVhkstXl03sfVPJqc9irlyPZl3nfPTxo0bJ3hl9sZ0k6v6edUZ06bL9WTWpRavrsv1ZNalFq+uy/Vk1qUWr66rWk8642YxV6UdLvm64LIGwPbY4c1SyqfGeN1XAPx77LA2naa5QogPAHghdvh/pJQpd7AIIb4G4B9jh9OklOfSjX+csZsaGxsbm5rSufqIiS+4XPMxvPtQwoLLwilY8ZnhBZcDTx7Ame1n4scLP7QQM9fNzF2gDAl0foBjmJHofMPATIzbPq9cT0w24XpisgnXE5NNiNfTpLqkaC8A53bNF43zOue5ljTvUAQA7yb8e7xv4xIn1AXf7uUvmd6lSIb5y8UwDMMwDMMwDMPYJS8XXKSU/QCcBrg3pnqNiP7UfUPs8PkM3rsVwK7Y4dJxXrok9nc30rv7Udo89NBDeOihh3LmUXXjTHSXIl9yGT/z1DPkcrXhUotX11WFYq5cT+ZdVSjmynNs3lWFYq58fjLvqkIxV64n864qFHPlejLv6kBtjh3y9bbQAPAzAFcAuFYIcYmU8s0Rz38CwPzYvx9AZtwP4F8AfFgIsVhKuS/xSSHETACfjh0+JaWMjHwDHaqqqnLqUXUdJtrhMnLBpbS4FBVVFUpjUZwnriezUMyV68m8a2NMt7k2xuRcJ6dLLV5d18aYbnKpxavr2hjTTS61eHVdHajNsUNe9nABACGED9GdKMsAnAbwOSnlC0IID4CPAfhPABUAnpFS3jjCvQvAX8cO50kpj414vgDAOwAWA9iPaHPc12O3hV4D4F5Ebws9AGCtlPL9LOXEPVwywLnG76PrP4r3Hnkv/njtklpc9KnhK82Ov3YcR184Gj9uWN+A+X8wHwyTiNt6QjBmIX4Nct7jts8r1xOTTbiemGzC9cRkE+L1pNTDJW93uEgph2J3K3oZQAOA54UQ/YheBlUUe9k7AG5TeO+gEOJDAF4EsAjAawD6hBARAOWxl/UB+Ey2FlsYdTLd4RIZyuqGJIZhGIZhGIZhGIbJmLzs4eIgpTwKYDmAvwHgbHEIAdgB4BsALpZSKt0YW0p5BNGmu99DdOFGAvADOAjgbkRvM/2EVgJj8OKLL+LFF1/MmUfVjZNhD5edTTvJ5WrDpRavrqsKxVy5nsy7qlDMlefYvKsKxVz5/GTeVYVirlxP5l1VKObK9WTe1YHaHDvk7Q4XByllN6KLIt/LwLkLwF1pvK4X0cWcv1EMT4ljx47l1KPqOmS6w+Vcyzn0HOtRGoviPHE9pcdnPvMqAOCqq67K2ZhucqnFq+vaGNNN7h/90esAgCuuuCJnY9p0bYzpJpdavLqujTHd5FKLV9e1MaabXGrx6ro6UJtjh7zt4TIZ4R4umeFc43fLpbdg72N7449PXT4VSz82fIOps++exd5fj/08wwDkrxll8gyuJyabcD0x2YTrickmXE9MNiFeT0o9XPL6kiKGAbiHC8MwDMMwDMMwDEMPXnCxwN69e7F3796JX5glj6obZ6IeLt7kMj51/BS5XG241OLVdVWhmCvXk3lXFYq5cj2Zd1WhmCvXk3lXFYq5cj2Zd1WhmCvXk3lXB2pz7JD3PVwmI6+99hoAYMmSJTnxqLoOme5w2bd3H05UnSCVqw2XWry6rioUc+V6Mu+qQjFXrifzrioUc+V6Mu+qQjFXrifzrioUc+V6Mu/qQG2OHbiHSw5xerg8/fTTAIC6urqM/NbWViWPqutc47dh7Qbs/+3++OP1q+ux+JbF8eOuE13Yed/O+LGoElj6maWkcrXhUotX150zJ+rW1tYhkzZKFHPlejLvql6DTDFXG+7KlSEAgM/nz+jzqjOmTZfryaxLLV5dl+vJrEstXl2X68msSy1eXVenh0sezLFSDxfe4WIBlS+2jkfVdch0h0tpcSnPcZ6OadM9caIu9nfuxnSTSy1eXdfGmG5yd+/253xMm66NMd3kUotX17UxpptcavHqujbGdJNLLV5dVwdqc+zAPVws0NHRgY6Ojpx5VN04E/VwGbHg0tvdSy5XGy61eHVdVSjmyvVk3lWFYq48x+ZdVSjmyucn864qFHPlejLvqkIxV64n864O1ObYgRdcLPDoo4/i0UcfzZlH1XXIdIfLzu07yeVqw6UWr66rCsVcuZ7Mu6pQzJXn2LyrCsVc+fxk3lWFYq5cT+ZdVSjmyvVk3tWB2hw78CVFFrj00ktz6lF142S4w6VhVgMWXrpQaSiK88T1ZBaKuXI9mXdtjOk218aYnOvkdKnFq+vaGNNNLrV4dV0bY7rJpRavrqsDtTl24Ka5OcRpmtuUaQdAl+I0Vbp55c049NSh+OMzL56JhTcPL6iE+kN4/Uevx4/9JX5c8c0rchcoQ4LEjVF82mN00Wn6xkyM2z6vXE9MNuF6YrIJ1xOTTYjXk1LTXL6kiMl/MtzhEhmKmI2HYRiGYRiGYRiGYSaAF1ws8MADD+CBBx7ImUfVdci0h8uO7TvI5WrDpRavrqsKxVy5nsy7qlDMlefYvKsKxVz5/GTeVYVirlxP5l1VKObK9WTe1YHaHDtwDxcL1NfX59Sj6saZYIeL8IjoY7HXlZWWYdrUaUpDUZwnriezUMyV68m8a2NMt7k2xuRcJ6dLLV5d18aYbnKpxavr2hjTTS61eHVdHajNsQP3cMkh3MMlM5xr/G5cdiOOPHck/vjsy2djwQcXJL321b97FZHQ8KVEV37nSngLvLkJlCGB23pCMGYhfg1y3uO2zyvXE5NNuJ6YbML1xGQT4vXEPVyYScoEO1wA7uPCMAzDMAzDMAzD5Bd8SZEFnn32WQDABz/4wZx4VF2HiXq4AMkLLocPH0b/M/24+aM3ZzwWxXniekqPr3zlaQDAjTfemLMx3eRSi1fXVYVirjbc739/JwBg9erVORvTpqsKxVz5/GTeVYVirlxP5l1VKObK9WTe1YHaHDvwgosFWlpacupRdeNkuMOlt7cXZ5vPKg1FcZ64ntJj5coTAIANG3I3pptcavHqujbGdJM7d+67AIANGzJfcKGWqw4Uc+Xzk3nXxphucqnFq+vaGNNNLrV4dV0dqM2xA/dwySHcwyUznGv8Prjogzj20rH443OumoN5H5iX9Nq3/v0t9Lf2x4/XfWUdSqeW5iROhgbErxll8gyuJyabcD0x2YTrickmXE9MNiFeT9zDhZmkcA8XhmEYhmEYhmEYhhi84GKB3bt3Y/fu3TnzqLoOmfZwOXv2LN579z2lsSjOE9eTWSjmyvVk3lWFYq5cT+ZdVSjmyvVk3lWFYq5cT+ZdVSjmyvVk3tWB2hw7cA8XC2zbtg0AsGLFipx4VN04Ge5wOXXqFNqa2nDpDZdmPBTFeeJ6So9vfvMzAIC77gLOnMnNmG5yqcWr66pCMVcb7lVXLQAAlJRk9nnVGdOmqwrFXPn8ZN5VhWKuXE/mXVUo5sr1ZN7VgdocO3APlxzi9HB5/vnnAQDV1dUZ+R0dHUoeVde5xu8PFvwBTrx2Iv74vA/Mw5yr5iS9dvfPd6P9UDsAYGBgAIs/sRjz1ib3eTEdLzWXWry6buLGqExOexRz5Xoy76peg0wxVxuu6udVZ0ybLteTWZdavLou15NZl1q8ui7Xk1mXWry6rk4PlzyYY6UeLrzDxQIqX2wdj6obJ8MdLsXFxSgrLVMaiuI8cT2ZhWKuXE/mXRtjus21MSbnOjldavHqujbGdJNLLV5d18aYbnKpxavr6kBtjh24h4sFWltb0dramjOPquuQaQ+Xvr4+tJ1rUxqL4jxxPZmFYq5cT+ZdVSjmynNs3lWFYq58fjLvqkIxV64n864qFHPlejLv6kBtjh14wcUCjz/+OB5//PGceVTdOBnucNm3bx9eeO4FpaEozhPXk1ko5sr1ZN5VhWKuPMfmXVUo5srnJ/OuKhRz5Xoy76pCMVeuJ/OuDtTm2IEvKbLAlVdemVOPquuQ6Q6XhoYGzFgxQ2ksivPE9WQWirlyPZl3bYzpNtfGmJzr5HSpxavr2hjTTS61eHVdG2O6yaUWr66rA7U5duCmuTnEaZrb1NRkOxQSOE2VPtDwAZzadir++IIbFmD2ZbOTXnvo6UMTvoZxNzpNOBlmJDpN35iJcdvnleuJySZcT0w24XpisgnxelJqmsuXFDF5T6Y7XAAgMhQxGhPDMAzDMAzDMAzDjAcvuFjgvvvuw3333Zczj6obZ8RvN4Vn/AWXnTt34nebf6c0FMV54noyC8VcuZ7Mu6pQzJXn2LyrCsVc+fxk3lWFYq5cT+ZdVSjmyvVk3tWB2hw7cA8XC8ydOzenHlXXYdRlbxM0za2qqkJFbYXSWBTnievJLBRz5Xoy79oY022ujTE518npUotX17UxpptcavHqujbGdJNLLV5dVwdqc+zAPVxyCPdwyQznGr9rZlyDM9vPxB+/8MMXYsba5Ka4J984icPPHI4fz7p0Fi648YLcBMqQwG09IRizEL8GOe9x2+eV64nJJlxPTDbhemKyCfF6UurhwjtcmLwn0x0uAPdwYUbzne88BgC49dZbLUfCMMxEbN9uOwKGYRiGYRh9eMHFAr///e8BADfffHNOPKpunJHrLRM0zT148CBOh0/jwg9fmPFQFOeJ6yk95sw5DwBYsyZ3Y7rJpRavrqsKxVxtuGfP0opX11WFYq58fjLvqkIxV64n864qFHPlejLv6kBtjh14wcUCnZ2dOfWoug6Z7nAZHBxEpFtthwvFeeJ6MgvFXLmezLs2xnSTSy1eXdfGmG5yqcWr69oY000utXh1XRtjusmlFq+uqwO1OXbgHi45hHu4ZIZzjd9VU69Cy66W+OOL/3Ax6lfVJ722dW8r3vuv9+LHtYtrcdF/uyg3gTIkIH7NKJNncD0x2YTrickmXE9MNuF6YrIJ8XpS6uHCt4Vm8h7u4cIwDMMwDMMwDMNQgy8pssCOHTsAAI2NjTnxqLpxMuzh0tzcjC50YQVWZDwUxXniekqPO+7YGPs7s7ueUMyV68m8qwrFXG24OncpoparDhRz5fOTeVcVirlyPZl3VaGYK9eTeVcHanPswAsuFtgeu/1Cpl84VY+q65DpDpczZ87AO+BVGoviPHE9mYVirlxP5l1VKObKc2zeVYVirnx+Mu+qQjFXrifzrioUc+V6Mu/qQG2OHfK+h4sQohzA1wF8DMA8AGEABwA8DOBuKWUwi2M9BeDG2OErUsprsvXesfdvamxsbHz55ZcBAOXl5Rn5PT09Sh5V17nGb/2U9Ti351z88aUfX4qpF01NHqe5B033RHvjBAIBlE4rxfr/sT6n8VJzqcWr66r+xpxirlxP5l3Va5Ap5mrD1dnhQi1XgOvJtEstXl2X68msSy1eXZfryaxLLV5dV6eHSx7MsVIPl7ze4SKEmAPgZQBzYw/1AygEsDb253YhxHVSyo4sjPVHGF5sMYrKF1vHo+o6pLXDxTu8w6WwsBAFvgKlsSjOE9eTWSjmyvVk3rUxpttcG2NyrpPTpRavrmtjTDe51OLVdW2M6SaXWry6rg7U5tghb5vmCiG8ADYjuthyBsD1UspSACUAPgWgG8BqAL/IwlhTAfwTgE4Ae3XfbyKam5vR3NycM4+qGyfDHi49PT3obO9UGoriPHE9mYVirlxP5l1VKObKc2zeVYVirnx+Mu+qQjFXrifzrioUc+V6Mu/qQG2OHfJ2wQXAHwNYjuiP27dKKZ8HACllREr5CABnH9JNQojrNMe6G8AUAN8CcG6C12qzefNmbN68OWceVdchrR0u/uFSPnDgAPbs3qM0FsV54noyC8VcuZ7Mu6pQzJXn2LyrCsVc+fxk3lWFYq5cT+ZdVSjmyvVk3tWB2hw75PMlRZ+L/f2SlPLNFM8/AuDvAcyPvfYFlUGEELcA+ASALQDuBXCbyvtkwrXXXptTj6obJ40dLl7/cJPcuXPnwlug1jSX4jxxPZmFYq5cT+ZdG2O6zbUxJuc6OV1q8eq6NsZ0k0stXl3XxphucqnFq+vqQG2OHfKyaa4QogRAD6I7cL4ppfzxGK/7CYA/BdAipZyuME4VgPcA1AJYJaXcK4R4GcDVMNg0t6mpKZtvO2lxmipdVn4Z2va3xR+/6NMXoXZRbdJrI+EIXv2bV+PHwiNw9feuzk2gDAl0mnAyzEh0mr4xE+O2zyvXE5NNuJ6YbML1xGQT4vWk1DQ3Xy8pWoLh2Ma7NsR5rl4IUaMwzj8CmAHgB1JK471bGEXS2OEiPALCM/y4jEhEwhHTkTEMwzAMwzAMwzBMSvJ1h8sGAL+NHa6UUu4e43W3APhN7HC5lDLtxh2xvi/PA9gfGyMQe/xlKOxwEUKks21lcUNDQ4mzoldXV5fu2wMAWltblTzqbtmRMgydG4o/XnxxMXzTRl8N1/v7XsiwRF9fHwBg2semQfgzW4i0nWsuXWrx6rp33DG8kn7PPZtyMqabXGrx2nKpxWvLVf286oxJ0aUWry2XWry2XGrx2nKpxWvLpRavLZdavBTdbI25cePGSXVb6MT7L/WP87rE59K+Z1PskqV7Ed07cYez2JIrioqKcupRdR3SaZoLAPACCAM+X7SsZVhmvOBCcZ64nsxCMVeuJ/OujTHd5toYk3OdnC61eHVdG2O6yaUWr65rY0w3udTi1XV1oDbHDvm64GKavwMwD8BPpZSvZOMNpZRrJnqNEKKptra28etf/3o2hpz0ONf4XdJwCToOd8QfX/HpFZiyYMqo12/r34bBzsH48SWfvQTF1cXmA2VI0Nn5cwDA7bffjhkzSF43yuQRxK9Bzns+/OHhf7vh88r1xGQTricmm3A9MdnEjfWUrwsuPQn/LhnndYnP9Yz5qgSEEJcA+O+I3v75G5mHxuScNHq4AMm3hgaASIh7uDDDVFVFN8TNmGE5EIZhJoQ/pwzDMAzDTAbydcHlTMK/ZwJI2cMl9pxDc5rv/R+INuS9E0BICFE24nnnfsLehOcGpJThNN9/Qp544gkAwC233JITj6rrkO4lRc6tofft2wcAaAw1ZjwWxXniejILxVy5nsy7qlDMlevJvKsKxVy5nsy7qlDMlevJvKsKxVy5nsy7OlCbY4d8XXDZCyCC6MLIRQCeGuN1F8X+bpFSto3xmpHMi/19b+zPWKzH8K6Zj2K4Oa82gYBayxhVj6obJ82+zs4Ol3A4ujamssOF4jxxPZmFYq5cT+ZdG2O6yaUWr65rY0w3udTi1XVtjOkml1q8uq6NMd3kUotX19WB2hw75OVdigBACLEFwBUAXpRSXpfieQHgEID5AH4upfxsmu/bCaAyw3A+KqX8TYZOqrGbGhsbG5ua0rmhEeNc47fOvw5dx7vij6/6/CpUza0a9frdP9+N9kPt8ePln1mOmoUqdwtnJiM/+lFiDxfLwTDkceM1yLnkTMI+Vzd8XrmemGzC9cRkE64nJpsQr6dJdZciAPgZogsu1wohLpFSvjni+U8gutgCAA+k+6ZSyqrxnle9LTRjkJFrgmOUOvdwYcbjW9+6PfY3kKfrzAzDxJiZcMEwf14ZhmEYhqGKZ+KXWON+AO8h+uP1r4UQ1wGAEMIjhPgEhi8HekZK+VyiKIS4SwghY3/m5jLodHjrrbfw1ltv5cyj6jqM3IU1VtNcp4fL6dOncfr0aYRDmbfdoThPXE9moZgr15N5VxWKufIcm3dVoZgrn5/Mu6pQzJXrybyrCsVcuZ7MuzpQm2OHvF1wkVIOAdgA4ASizXGfF0L0AegD8AiACgDvALjNWpCK7Nq1C7t27cqZR9WNk+EOl5aWFrS0tCjtcKE4T1xPZqGYK9eTeVcVirnyHJt3VaGYK5+fzLuqUMyV68m8qwrFXLmezLs6UJtjh7zt4eIghKgA8FcAbkW04W0YwEEADwP4VyllMIVzF4C/jh3Ok1Iey2C8l2HokiKnh8uWLVsAAMXFxRn5AwMDSh5V17nGb61nLbpPdccfb/xSIypmVYx6/cGnDuL0m6cRCoUAAIs/vBizL5uds3ipudTi1XUTN0ZlctqjmCvXk3lX9RpkirnacFU/rzpj2nS5nsy61OLVdbmezLrU4tV1uZ7MutTi1XV1erjkwRxPuh4uAAApZTeA78X+pOvcBeAuxfGuUfEyQeWLreNRdR3SXRR0Liny+/0AgMhQ5jtcKM4T15NZKObK9WTetTGm21wbY3Kuk9OlFq+ua2NMN7nU4tV1bYzpJpdavLquDtTm2CHvF1wmIydPngQAzJ6d2e4LVY+qGyfDS4q6uqJ3NFK5pIjiPHE9mYVirlxP5l1VKObKc2zeVYVirnx+Mu+qQjFXrifzrioUc+V6Mu/qQG2OHfK2h8tk5qmnnsJTTz2VM4+q65Bp09xDhw7h0KFDSk1zKc4T15NZKObK9WTeVYVirjzH5l1VKObK5yfzrioUc+V6Mu+qQjFXrifzrg7U5tiBd7hY4Prrr8+pR9WNk+EOl/nzo3cLV9nhQnGeuJ7MQjFXrifzro0x3ebaGJNznZwutXh1XRtjusmlFq+ua2NMN7nU4tV1daA2xw553zR3MuE0zW1qarIdCgmcpkqNkUb0tvTGH1/7J2tRVl826vUtu1qw7zf74sfTVk7Dko8uMR8oQwKdJpwMMxKdpm/MxLjt88r1xGQTricmm3A9MdmEeD1Nzqa5kxHnLjpOc1fTHlXXId1FQWeHSzgcvZRIZYcLxXniejILxVy5nsy7qlDMlefYvKsKxVz5/GTeVYVirlxP5l1VKObK9WTe1YHaHDtwDxcL3H///bj//vtz5lF146R5SZHTw8W5X7pKDxeK88T1ZBaKuXI9mXdVoZgrz7F5VxWKufL5ybyrCsVcuZ7Mu6pQzJXrybyrA7U5duAdLha46KKLcupRdR3SbZrr7HCZOnUqALUdLhTniespPe65R20LI8VcuZ7MuzbGdJP7+utbAQCXX355zsa06doY000utXh1XRtjusmlFq+ua2NMN7nU4tV1daA2xw7cwyWHcA+XzHCu8VsVWoX+1v744+u+ug6ldaWjXt91sgs7f7ozflw+sxxrvrzGfKAMCYhfM8rkGVxPTDbhemKyCdcTk024nphsQryelHq48CVFTP4zYk1wottCO0SGMt/hwjAMwzAMwzAMwzDZgC8pssBjjz0GALj11ltz4lF1HTJtmrt3714AQOOUxozHojhPXE9moZgr15N5VxWKuXI9mXdVoZgr15N5VxWKuXI9mXdVoZgr15N5Vwdqc+zAO1yY/CfDprkOKk1zmcnL8eO1OH68FnxFH8PkP4cPV+Hw4Sr+vDIMwzAMQxru4ZJDuIdLZjjX+K0YWIHBjsH445f890tQPKV41OtDAyG8/sPX48e+Ih/Wf3u9+UAZEiReicanPUYX4tcg5z1u+7xyPTHZhOuJySZcT0w2IV5P3MOFcQm8w4VhGIZhGIZhGIbJc3jBxQJbt27F1q1bc+ZRdeOk+dtN4RWAAE6ePImTJ09ChiVkJLNfjVKcJ64ns1DMlevJvKsKxVx5js27qlDMlc9P5l1VKObK9WTeVYVirlxP5l0dqM2xAy+4WGDPnj3Ys2dPzjyqrsPIy97GukuREAJevxfnzp3DuXPnAGS+y4XiPHE9mYVirlxP5l1VKObKc2zeVYVirnx+Mu+qQjFXrifzrioUc+V6Mu/qQG2OHbiHSw5xerhs27YNAOD3+zPyQ6GQkkfVda7xW967HIHuQPzxS//yUhRVFqV0Xv/x6xjsjvZ78Xq9uPyvLkdBWUFO4qXmUotX11XtCUExV64n867qNcgUc7Xh6vRwoZYrwPVk2qUWr67L9WTWpRavrsv1ZNalFq+uq9PDJQ/mWKmHC98W2gIqX2wdj6rrkO4OFyDax8XrHe7lkukOF4rzxPVkFoq5cj2Zd22M6TbXxpic6+R0qcWr69oY000utXh1XRtjusmlFq+uqwO1OXbgS4oscPToURw9ejRnHlV3TMZZW/T4POjo6EBHRwcAIDIUyeitKc4T15NZKObK9WTeVYVirjzH5l1VKObK5yfzrioUc+V6Mu+qQjFXrifzrg7U5tiBF1ws8Nxzz+G5557LmUfVjZPBdnKP34MjR47gyJEjAIBIKLMFF4rzxPVkFoq5cj2Zd1WhmCvPsXlXFYq58vnJvKsKxVy5nsy7qlDMlevJvKsDtTl24EuKLHDTTTfl1KPqOmR6SdEFF1wQP870kiKK88T1ZBaKuXI9mXdtjOk218aYnOvkdKnFq+vaGNNNLrV4dV0bY7rJpRavrqsDtTl24Ka5OcRpmtvU1GQ7FBI4TZWWdS5DqD8Uf/zyb1yOgtLUjXDfefAddBzuiB+vuH0FplwwxWygDAl0mnAyzEh0mr4xE+O2zyvXE5NNuJ6YbML1xGQT4vXETXOpMDAwAAAoLi7OiUfVdch0h0tiN+lMd7hQnCeup/SorOwDAJSUlOZsTDe51OLVdVWhmKsNt74+et4f73yf7TFtuqpQzJXPT+ZdVSjmyvVk3lWFYq5cT+ZdHajNsQP3cLHAgw8+iAcffDBnHlV3TMZrmuv3YPfu3di9ezeAzHu4UJwnrqf0+NGPfoEf/egXOHMmd2O6yaUWr66rCsVcbbjf//69+P73783486ozpk1XFYq58vnJvKsKxVy5nsy7qlDMlevJvKsDtTl24B0uFli1alVOPapunAy2k3v9XtTX18ePw8HMdrhQnCeuJ7NQzJXrybxrY0w3udTi1XVtjOkml1q8uq6NMd3kUotX17UxpptcavHqujpQm2MH7uGSQ7iHS2Y41/gtaVuCcGB44WT9t9fDV5R6rfDQ04dwatup+PGCGxZg9mWzzQbKkID4NaNMnsH1xGQTricmm3A9MdmE64nJJsTrSamHC19SxOQ/I9cExyl1b4E36TjTHS4MwzAMwzAMwzAMkw34kiILPPLIIwCAT37ykznxqLpjMW7T3AIv3nvvPQDAsmXLMl5woThPXE/p8c47DQCAzZuBDRtyM6abXGrx6rqqUMzVhvutb70GAFi//sqMPq86Y9p0VaGYK5+fzLuqUMyV68m8qwrFXLmezLs6UJtjB15wsUBhYWFOPaquw6jL3iZomuv1Du9yyXTBheI8cT2lx09+cmPs78xuM0sxV64n866NMd3k/uhHV8b+zvy20NRy1YFirnx+Mu/aGNNNLrV4dV0bY7rJpRavrqsDtTl24B4uOYR7uGSGc43f4nOLERkavtvQlXdeCa/fm9Jp3tmM/U/sjx/Xr6rH4j9cbDZQhgSJG6P4tMfoQvwa5LzHbZ9Xricmm3A9MdmE64nJJsTriXu4MJOTkYuCE11SlAj3cGEYhmEYhmEYhmFswAsuFnj11Vfx6quv5syj6sbJsGnu8ePHcfz4cQCZL7hQnCeuJ7NQzJXrybyrCsVceY7Nu6pQzJXPT+ZdVSjmyvVk3lWFYq5cT+ZdHajNsQMvuFhg37592LdvX848qu5YjLvDxe/F+fPncf78eQCZL7hQnCeuJ7NQzJXrybyrCsVceY7Nu6pQzJXPT+ZdVSjmyvVk3lWFYq5cT+ZdHajNsQP3cMkh3MMlM5xr/C5svjBpl8vV37sawpN60aXnTA+aNg3Pb9n0Mqy9Y63ROBkauK0nBGMW4tcg5z1u+7xyPTHZhOuJySZcT0w2IV5P3MOFmaRkeElRItzDhWEYhmEYhmEYhrEBL7hY4ODBgzh48GDOPKoukOKW0Ji4aW5bWxva2toAZL7gQnGeuJ7MQjFXrifzrioUc+U5Nu+qQjFXPj+Zd1WhmCvXk3lXFYq5cj2Zd3WgNscOPi2bUeKll14CACxcuDAnHlUXQEa7WwDA4/fg2LFjAICampqMF1wozhPXk1ko5sr1ZN5VhWKuPMfmXVUo5srnJ/OuKhRz5Xoy76pCMVeuJ/OuDtTm2IF7uOQQp4fLk08+CQCYPn16Rn5zc7OSR9XdtGkTZERiUcui+GPCI3D1964e04mEI/jdN38HACgvL4fwCFz13avG3RWTrXipudTi1XVVe0JQzJXrybyreg0yxVxtuDo9XKjlCnA9mXapxavrcj2ZdanFq+tyPZl1qcWr6+r0cMmDOVbq4ZL3O1yEEOUAvg7gYwDmAQgDOADgYQB3SymDCu85E8AtAK4FsBrAzNhTLQC2AbhXSvmifvSpUfli63hUXRU8Xg8qqiogw9Hv0GVEQoYlhC+9zwfFeeJ6So+GhlYAQG1tXc7GdJNLLV5d18aYbnIbG5WHJJerDhRz5fOTedfGmG5yqcWr69oY000utXh1XR2ozbFDXi+4CCHmAHgZwNzYQ/0ACgGsjf25XQhxnZSyI4P3nA3gOJJXqPpjx3Njf/6bEOI+ABullFnvutrT0wMgugMjFx5VF0DGlxQBwFBkCEOBIRQWFgKI9nHx+NJrV0Rxnrie0uPOOx8HkPmKOsVcuZ7Mu6pQzNWG+/LLtOLVdVWhmCufn8y7qlDMlevJvKsKxVy5nsy7OlCbY4e8bZorhPAC2IzoAsgZANdLKUsBlAD4FIBuRHen/CLDt/Yi+mP7CwA+B2Bm7H3LAFwUGxMAvgDgf+tlkZqHH34YDz/8cM48qm4q0rk06J333sGePXvix0OBobTfn+I8cT2ZhWKuXE/mXVUo5sr1ZN5VhWKuXE/mXVUo5sr1ZN5VhWKuXE/mXR2ozbFDPu9w+WMAyxHd43CrlPJNAJBSRgA8IqI/ef8SwE2xXS4vpPm+HQDWSCl3JD4Ye9/3hBC3AHgGwPUA/kII8bdSyoHspBRl7dq1OfWouilJY4fL3PlzEegIxI/DgfQ3KVGcJ64ns1DMlevJvGtjTDe51OLVdW2M6SaXWry6ro0x3eRSi1fXtTGmm1xq8eq6OlCbY4e8bZorhHgNwHoAL0opr0vxvABwCMB8AA9KKf8oi2N/EsB/xQ4bpZQ7s/S+TY2NjY1NTU3ZeLtJz6ZNmyCHJBadG26a6y3w4srvXDmut/O+neg60RU/XvXHq1A1p8pUmAwRdJp0McxIuJ6YbML1xGQTricmm3A9MdmEeD1Nnqa5QogSAJfHDp9O9RoppRRCPAPgTxHdjZJN+hP+7c3yezOZoLAe6C1M/pINDaZ/SREzeXn11cXxf9M8xzOMe4h9PwaAP68MwzAMw9AlLxdcACzBcH+ZPeO8znmuXghRI6Vsy9L418T+DiJ6R6Ss8tBDDwEAbrvttpx4VN2UpLGu+MZbbyB4Kojly5cDyOySIorzxPWUHr/4xVWxvzP7AY5irlxP5l1VKOZqw73jjuF/Z7rgQi1XHSjmyucn864qFHPlejLvqkIxV64n864O1ObYIV8XXGYk/Pv0OK9LfG46AO0FFyHEXAB/Ejv8Lyllt+57jqSqqiqnHlUXwKgdLuk0zS2vLkff+b74cSY7XCjOE9eTWSjmyvVk3rUxpttcG2NyrpPTpRavrmtjTDe51OLVdW2M6SaXWry6rg7U5tghL3u4CCFuw/DdhxZKKQ+N8brrATwbO7xcSvmG5rjFAF4BsA7RxZuVUsrxFnwS3XQasyxuaGgoufPOOzWidA+tra2QIYnipuL4Y8IvUHZj2bhe4P0AgoeD8ePCxYUoWFhgLE6GBnfcMfxr8nvu2TTOKxlmYlpbWwEAdXV1liOZnLjt88r1xGQTricmm3A9MdmEcj1t3LhRqYdL3t4WOtcIIXwAHkJ0sSUE4LZ0F1sYgyisBwp/8mdBhvJvUZFhGIZhGIZhGIaZ3OTrDpcNAH4bO1wppdw9xutuAfCb2OFyKeV4/V7GG8+L6I6aTwEYAvBJKeXjKu81wThNjY2NjT/+8Y8BAB/4wAcy8l988UUlj6q7adMmRAIRLG4bbnbqL/Hjim9eMa73xE+eQPub7Zg3bx4AYMbaGbjwwxcaj5eaSy1eXTfxarRMTnsUc+V6Mu+qdtmnmKsNV/XzqjOmTZfryaxLLV5dl+vJrEstXl2X68msSy1eXVfnLkV5MMeT5y5FAM4k/HsmgJQLLrHnHJpVBoottvwcw4stnzax2JLIsWPHcupRdQGM3uGSRpk3tzZjoHMgfjwUSL+HC8V54noyC8VcuZ7MuzbGdJtrY0zOdXK61OLVdW2M6SaXWry6ro0x3eRSi1fX1YHaHDvk6w6XEgA9iF7y9E0p5Y/HeN1PEL0tdIuUcrrCOCN3ttwmpXxUOfCJx2tqbGxsbGpKp90Ls2nTJkQGI1jcPrzDpaCsAJf/1eXjWMD5/eex5+HhzU5TFk7Bis+sMBYnQwOd35gzzEh0fkPDTIzbPq9cT0w24XpisgnXE5NNiNfT5OnhIqXsB+A0wL0x1WtE9HY1N8QOn890jFwvtjBZIo0y9xUmb9zK5LbQDMMwDMMwDMMwDJMN8nLBJcbPYn9fK4S4JMXznwAwP/bvBzJ549hiy0OwtNiyd+9e7N27N2ceVReAUtPcIyeOxDtgA5ndFpriPHE9mYVirlxP5l1VKObKc2zeVYVirnx+Mu+qQjFXrifzrioUc+V6Mu/qQG2OHfK1hwsA3A/gLwAsA/BrIcTnpJQvCCE8AD4G4N7Y656RUj6XKAoh7gLw17HDeVLKYwnPeQE8COCTGO7Z8iuTiYzktddeAwAsWbIkJx5VNxVCTLzF5a2mt9B3oi9+u7FMerhQnCeuJ7NQzJXrybyrCsVceY7Nu6pQzJXPT+ZdVSjmyvVk3lWFYq5cT+ZdHajNsUNe9nBxEELMA/AygIbYQ/2I7sopih2/A+ADUsr2Ed5dGHvB5SoAr8QOQwCS3BTcKqXcqpZBMk4Pl6effhpA5vcf17lvOUV306ZNiPRHsLhzuIdLYWUhLvvLy8b1mk80Y8e/7UBpaSkAwFvoxZX/80rj8VJzqcWr665YcRwAMGfOHGzenJsx3eRSi1fXVb0GmWKuNtwbbggAAAoKCjP6vOqMadPlejLrUotX1+V6MutSi1fX5Xoy61KLV9fV6eGSB3M8qe5SBACQUh4VQiwH8FcAbgUwD9FFkvcBPAzgX6WUwQzfNvEyKj+AaRO8viDD958QlS+2jkfVBTDqkqJ0drjUz6qPL7YAQDgYhpQyLZfiPHE9pcef/dkzADI/wVPMlevJvGtjTDe5zzxTmPMxbbo2xnSTSy1eXdfGmG5yqcWr69oY000utXh1XR2ozbFDXi+4AICUshvA92J/0nXuAnDXGM+9DMXVqWzR0dEBAKiurs6JR9VNSRpfuc6uTgTDQRR4Y2tlMrroMrKZbioozhPXk1ko5sr1ZN5VhWKuXE/mXVUo5sr1ZN5VhWKuXE/mXVUo5sr1ZN7VgdocO+Rz09xJy6OPPopHH828R6+qR9VV5dFHH8WefXuSHku3cS7FeeJ6MgvFXLmezLuqUMyV68m8qwrFXLmezLuqUMyV68m8qwrFXLmezLs6UJtjh7zf4TIZufTSS3PqUXUBKF1SdOmll+Lw0cNJj6V7a2iK88T1ZBaKuXI9mXdtjOkml1q8uq6NMd3kUotX17UxpptcavHqujbGdJNLLV5dVwdqc+yQ101zJxtO09ympibboZBg06ZNiPRGsLh7uGlucU0xLvnzVHcJT2bHf+5A96nu+PHqL6xGZUOlkTgZGmzYEP3crVmzBnfdZTcWhj46Td+YiUn8jLrh88r1xGQTricmm3A9MdmEeD1Nvqa5DDOSdHa4ANE7EyWSya2hmcnJk0+uif3tjh/gGIYy3//+8L/588owDMMwDFW4h4sFHnjgATzwwAM586i6ADBqB1Ya6y0PPPAAtr6ZfCfvdC8pojhPXE9moZgr15N5VxWKufIcm3dVoZgrn5/Mu6pQzJXrybyrCsVcuZ7MuzpQm2MH3uFigfr6+px6VF0Ao3q4pDtme117kptu01yK88T1ZBaKuXI9mXdtjOk218aYnOvkdKnFq+vaGNNNLrV4dV0bY7rJpRavrqsDtTl24B4uOYR7uGTGpk2bEO4OY0nvkvhjpVNLse4r6yZ0Dz97GCe3nowfz79+PhquaDASJ0ODxKvR+LTH6EL8GuS8x22fV64nJptwPTHZhOuJySbE60mphwtfUsTkNyO/0U6zzEf1cElzhwvDMAzDMAzDMAzDZAO+pMgCzz77LADggx/8YE48qm4q0mma++yzz6Jnbw9qUBN/LN0eLhTnievJLBRz5Xoy76pCMVeeY/OuKhRz5fOTeVcVirlyPZl3VaGYK9eTeVcHanPswAsuFmhpacmpR9XVGTPQE0hacAkNhNJ2dcal5FKLV9e1MaabXGrx6ro2xnSba2NMznVyutTi1XVtjOkml1q8uq6NMd3kUotX19WB2hw7cA+XHMI9XDJj06ZNCHeGsaR/uIdL2fQyrL1j7YTu+f3nsefhPfHjKQunYMVnVhiJk6GB23pCMGYhfg1y3uO2zyvXE5NNuJ6YbML1xGQT4vXEPVyYScjIu0KncUkRAPiL/UnHQwPcw4VhGIZhGIZhGIbJHXxJkQV2794NAFixIrMdF6oeVTclaay37N69G4G2QNJj6TbNpThPXE9moZgr15N5VxWKufIcm3dVoZgrn5/Mu6pQzJXrybyrCsVcuZ7MuzpQm2MHXnCxwLZt2wBk/oVT9ai6qUhnh8u2bdsQGYhgMRbHH0t3wYXiPHE9pcf69XsBAEuWLJngldkb000utXh1XVUo5mrDVf286oxp01WFYq58fjLvqkIxV64n864qFHPlejLv6kBtjh24h0sOcXq4PP/88wCA6urqjPyOjg4lj6q7adMmhNvDWDI4/A13xawKNH6pccIxw6Ew9vxkuIeL8Apc9b+umnDBhuI8qbrU4tV1Va8ZpZgr15N5l+vJrEstXl2X68msSy1eXZfryaxLLV5dl+vJrEstXl1Xp4dLHsyxUg8X3uFiAZUvto5H1U1JGmVeXV0NKSWEV0CGowuKMiwRGYrA6/dO6KpCzaUWr65rY0w3udTi1XVtjOkml1q8uq6NMd3kUotX17UxpptcavHqujbGdJNLLV5dVwdqc+zACy4WaG1tBQDU1dXlxKPqAsDIHVjpXFLkjOkv9iPYG4w/PjQwNOGCC8V54noyC8VcuZ7Mu6pQzJXrybyrCsVcuZ7Mu6pQzJXrybyrCsVcuZ7MuzpQm2MHvkuRBR5//HE8/vjjOfOouilJY4eLM6avKHk9MZ0+LhTnievJLBRz5Xoy76pCMVeuJ/OuKhRz5Xoy76pCMVeuJ/OuKhRz5Xoy7+pAbY4deIeLBa688sqcelRdAEq3hXbGHNg6kPR4aCCUtqsCNZdavLrugw9G3e3bgdjlo8bHdJNLLV5d18aYbnKff/4TADL/vOqMadO1MaabXGrx6ro2xnSTSy1eXdfGmG5yqcWr6+pAbY4duGluDnGa5jY1NdkOhQSbNm3C0PkhLA0ujT9WNbcKqz6/Ki1/9y92o/1ge/z4ok9fhNpFtdkOkyFC4lodn/YYXXSavjET47bPK9cTk024nphswvXEZBPi9cRNc5lJyMhvtDMoc3+JP+k41D/xDheGySVSSnSd6MJgxyCKa4pRPqMcHi9f6ckwDMMwDMMwkwFecLHAfffdBwD4whe+kBOPqpuKdC4pcsa8auZVSY+H+iZecKE4T1xPZjEV7/l953H4ucMYaBu+9K2grAAXfvhC1C6uJTfH1OLVdVWhmCvPsXlXFYq58vnJvKsKxVy5nsy7qlDMlevJvKsDtTl24AUXC8ydOzenHlU3JWnscHHGLCgoSHo82BdM8erUrgrUXGrx6ro2xkzlRsIRHHnuCE5tOzXquWBvEHt+uQcA4G/zo2RWCQY7B1FUVaQ9rmmXYk1MhnqazK6NMTnXyelSi1fXtTGmm1xq8eq6NsZ0k0stXl1XB2pz7MA9XHII93DJjE2bNmHo3BCWDg33cKleUI2Vn12Zlt+8sxn7n9gfP562chqWfHRJ1uNkaJAPPSF6z/bi4O8Pout4V9qO8AjULa3DrMtmoWJmhcHomEwgfg1y3pMPn9dcwvXEZBOuJyabcD0x2YR4PXEPF2YSonCXIodRPVzSuKSIYUxw9t2zOP3maXSf6s7YlRGJc3vO4dyec6iaV4UlH12CwopCA1EyDMMwDMMwDJNNeMHFAr///e8BADfffHNOPKpuStJYb3HGXL9ifdLj6TTNpThPXE9m0Y23d38vpnZNTfl8YUUhFt68EDWLatBxpAP7f7sfga4AAODgwYMAgIULF8Zf33m0E+88+A7WfHkNvAVeYzGruBRrgmI9uclVhXNlNx/GtOmqQjFXrifzrioUc+V6Mu/qQG2OHXjBxQKdnZ059ai6AJR2uDhjjtzhkk4PF4rzxPVkFpUxI+EIQv0hnH7pNAaPDGLq8tELLlVzq7D0E0tRUBrtNTRlwRRc+j8uRTgYRmQogiP/cgSDBwdHef2t/dj/2/1Y8rElY34euJ7MuzbGdJtrY0zOdXK61OLVdW2M6SaXWry6ro0x3eRSi1fX1YHaHDtwD5ccwj1cMmPTpk0YahnC0shwD5eaRTVY/unlaflDgSFs+T9b4scenwdX3nllRpclMZMHkz0hZESi/XA7Wna1oLe5FwPtA2O+tqy+DDPWzUD9qvoJbwEtpUTH4Q4ce+UYuk8mX4608o9Wonp+dVbiZzKH+DXIeQ/3cGEYdbiemGzC9cRkE+L1xD1cGCYRb4EXwisgw9Hv1iNDEURCkXEvxWCYdBkKDKG3pRd95/rQ3NSM3pbeCZ05V8/B3Gvmpr3oJ4TAlAumoHJOJXb85w70ne2LP3dq2ylecEF0Uap5RzOadzSjsKIQRVVFKCgrgL/Yj4H2AfSd60PZ9DLUr6pHoDuAsmll8BXxf30MwzAMwzCMefi7Tgvs2LEDANDY2JgTj6oLRH+YSiSdH1QTxywoLUCgOxB/LtgXRHFBcVpuplBzqcWr6374w9GdZWvWrNEes/dsL3Y/uBvB3vEvU2tubgYAzFk4B8s+tQyVsyuVxvX6vbjwQxdi530748+3HWhD24E21FxYk1bMKuPmwtNxu0504YV7XkDgfADTp09Hz+melK9rO9CG468cBxDd6Ta9cTpmXTYLe4/uVY5ZFYqfHRvuxo3Rz8706dNzNqZNVxWKubrl/GTTVYVirlxP5l1VKObK9WTe1YHaHDvwgosFtm/fDiDzL5yqR9UFMKqHSzobuRLH9Jf6kxZcQv0hFFePveBCcZ64ntJjw4bogsvGjZktuGzfvh0yLFHTW4P2w+3w+r3oPtWNocGhCd2Wzhb4ZvnwsT/9WLxXSybjAsO5VsyuQPnM8qRFhf2b92PdV9bBX+wf19UZ17Sn4ga6A9j7+F50Hu3E0d1HAaT/g3lkKILTb53Gme1n8M7Zd1B4UWFOv2Gg+Nmx4a5ZsxmA2pZjarnqQDHXyX5+ygdXFYq5cj2Zd1WhmCvXk3lXB2pz7MA9XHKI08Pl5ZdfBgCUl5dn5Pf09Ch5VN1NmzYhdCaEZVgWf6xuaR2WfXLZOFbymO88+A46DnfEn1t+2/KUOwKyES81l1q8um6m14wOBYbQsqsF3e3daH23FbJ/4nNlxewK1K+qR83CGhSUF6C3t1c53lS59pzpwY7/3AEZGY6lekE1VnxmBYRHjOvqjGvSy9QNh8Jo2tSE/tZ+AEAgEF1QLSzM/FbZgUAAVfOr0Hh746hFq4lQvQaZ4mdnMtdTvrhcT2ZdavHqulxPZl1q8eq6XE9mXWrx6ro6PVzyYI65hwsVVL7YOh5VNyVplHnimCN3FUx0a2iK88T1lF0iQxGceP0ETr1xKq1dLAAw56o5mLJwyqhLhrKda/mMcsy+YjZOvHYi/ljH4Q4072jGjLUzjI1r0svEHQoMYd9v9sUXW4DhhRaPz4PaJbUYaB+A8AgUTylGJBRB+6F2ePwehPpGf/YLCwsxcHoAr//wddQtq8PiP1wMr99sjyeKn53JWk/55NoY000utXh1XRtjusmlFq+ua2NMN7nU4tV1daA2xw684GIBp69Dptemq3pUXQDRS4oyXEtMHDPTW0NTnCeup+zR+n4rDvzuQNIP5+Otis++fDbm/8H8pN0liZjIde7Vc9F5rDPprkWHnz2MqnlVKKkpMTauKS9d9/y+89j3xD4MDSQvgvX192H65dOx+pbV4/Z4klJiaHAI5/acw9EXj2JoYCjpa9v6Xis8Pg8W/+Fio3cyo/jZmYz1lG+uKhRz5Xoy76pCMVeuJ/OuKhRz5Xoy7+pAbY4dxr8nKWOEzZs3Y/PmzTnzqLqpSOcHocQx/aXJCy6pfss9lpsp1Fxq8eq6d999A+6++wZs2BA9llJCSomuE104/upx7H1sL9575L1RNXLgwAEcOHAgfly7uBYN6xuw5o41WPDBBWMutujGO5br8Xmw9ONLk+62FQ6GceipQ0bHNeWl43Yc6cB7j7w3arGluKYYp+acwvZz2yc8Nwgh4C/2Y+a6mVj3lXUon1E+6mt79p2zOLD5wDjvog/Fz44N94YbgrjhhmD885qLMW26qlDMdbKdn/LRVYVirlxP5l1VKObK9WTe1YHaHDvwDhcLXHvttTn1qLoARu9wSeMXz4ljZnpJEcV54npKj3ffnRP7G2g/3I4jzx1J61bOc+fORcX8CsxbOw8zL54JX2H6p01TuRZVFmHBBxfgwJPDiwPth9rR09yD8unlk6qe+lr7sPexvUl9awCgpLYEKz67AlPOTcl4vMLyQqz+4mr0FfShtak16TnnFtPFNcVoWN+AaSumwePN3u8mKH52bLiJn9dcjWnTtTGmm1xq8eq6NsZ0k0stXl3XxphucqnFq+vqQG2OHbhpbg5xmuY2NTXZDoUEmzZtQuhUCMs8w01yp62YhiW3Lkn7Pc7vO489v9wTP56ycApWfGZFVuNkaJC4AeKlu14efQesxNd6BGasm4G5V88ddVlaviClxK77d6HrRFf8sSkXTMGK2ydPfZ999yz2/WYfZDj5izX78tmYe+3crPRb6TjagXd/8S4iQ5ExXzP/D+ajYX1D0mM6Td+YiUn8vLrh2xSuJyabcD0x2YTrickmxOtJ6ZpzvqSIyW8UbgudSKaXFJlESomeMz048sIRvP+r93Fuzznwgqclxpl2f6kfK/9oJRbetDBvF1uA6CUyIxcB2g+1o+NIxxgGLXrP9qZcbJl7zVws+OCCrDW3rZ5XjZV/tBIe39j/HR55/gje/r9vI9ATGPM1DMMwDMMwDDOSvL+kSAhRDuDrAD4GYB6AMIADAB4GcLeUcvwuqOO/9zQA3wTwYQANAAYAvAfg/wG4Txr6aVh1ZU9nRZCiq0rimAVlyZcUBXvHLxdTuXYe78SBJw8k3V3l3J5zwK+A6Wum4+VTL0N4RU7nmGJNqLjdp7px+NnDAFaP+7qiqiLMvXYuahfXJl02lM+5Tlk4BZVzKtF1fHiXy+FnD6NJNEEIuvUkpcShpw6NWmyZtnIa5lw1x8i4jV9qxOHnDifdRj6RvrN9eOvf3sKqz69C+Qz1jvX5XE/55qrCubKbD2PadFWhmCvXk3lXFYq5cj2Zd3WgNscOeb3gIoSYA+BlAHNjD/UDKASwNvbndiHEdVLKjH+lK4RYA+AZADWxh3oBlANYH/vzCSHER3QWdMZi8eLFOfWougBG7URIp2lu4pipFlyklGO+j4lcT791GoeePjSqB4VDc1Mzan21qF1fm9VxTXmU3HN7zuH9X7+fckeLt9CLqrlVKKktQdXcKtQsrBn9IoUxc+kKIbDggwuw494d8cd6W3oxu2E2yi4oMzZuNr1UbvvBdnQe60x6bN4H5qHhyoZRn91sjVtWX4aVn12J3pZeHHnhCNoPto96fTgYxs77d2L1F8ZfvEt3TDe5ge4Agn1BlNaVjrubKBvYzjWXUMzVhkstXl3XxphucqnFq+vaGNNNLrV4dV0dqM2xQ972cBFCeAHsBLAcwBkAn5NSPi+E8AD4OIB7AVQAeEpKeXOG710JYB+AegB7AXxWStkkhCgA8CUA/wSgAMD/lVJ+JYs5cQ+XDNi0aRNCJ0JY5hvu4VK/uh6Lb8ms8Lf8YAuGBofvbnL5X10+aiHGFO2H27H7wd1pvbagvADzPjAP9avqjd6WdrITCUcQCUXQ8k4LDj19KL7Ycu33r4m/ZsdPd2L5Z5Zn1AA3n3EuUXMorCzExV+9OOlORlQYaB9A071NSXckstWbpvtUN3b8545RjxfXFGOXb5fyrrTJTKAngMGOQRSUF0CGJdoOtKHjaAfaD7UDMtofqXRqKcpnlqN8RjkqZlageEoxAj0BBLoC6DjSga6TXWhMWNTK029Tsgrxa9qZPIPrickmXE9MNiFeT0o/oOXzTxt/jOhiiwRwq5TyTQCQUkYAPCKiP5H+EsBNsV0uL2Tw3t9AdLGlH8DNUspjsfcOAvhJ7DKmHwDYKIT4Fynl/mwlxeihshBRUF6QtOAS7A3mZMElHArj4O8Ojnq8rL4Mg12Do25xG+wJYv8T+9GyqwVLP74UheWFxmOcTAR6Ajj4+4NoO9A26lKUkaz83Mqs3nnGNvOum4fWva3xvANdAbz70LtYfttyUosuUsrRt38W0aa1NqiYVYErvnUF9v56b3TBIMZA2wAGDg2gaE2RlbjyCSklelt60X++H+f3nkfr+63jvz4SfX1vSy+am5rTGiNX52yGYRiGYZhsk88LLp+L/f2Ss9gygkcA/D2A+bHXZrLg8tnY3790FltGcDeA/wWgDMBnAHwvg/eekCeeeAIAcMstt+TEy6YbGYpAeKOLHr3NvWjd24rKhsoxL8fQGRfAuM1N04kXiN4CNrF3SqAngLL61JdbZHOOT7x2AgPtA8MvEMDSjy/F1GVTAQDn95/Hnoejd1Dat28fgOi2ta7jXXjnZ+9g9RdWp9W0lXI9ZcsNB8PYdf+u5Pkeh0wWW/It11QUVxdj5sUzceqNUwBi9bQP8BX7cNGnLjI2bja8RHdl5cpRt+qevnr6mJ/XbI07nusv9mPF7Suw9/G9OPvO2fjj4a4w+l7sw57pe7DkY0vSbuJLoZ7ScQe7BtG2vw0n3ziJwY7BMd3Ec5sqTfc2Yc2X16S96JJP82SaXMUb6AlAeAQKSguUxj2/7zz6zvWhfGY5Xtr6ErwlXtzy0VvQ+n4rTr99Gn1n+1C3tA51y+pQPb8ag52D6Dndg6KqIlTMqlCKWTXXyeCqQjFXG26+xSsjEn2tfSisKIS/OPX3jW6qp8d++RgCpwNYNX8VwsEwZl82G5UNlcbHtVFPv3n8NxAekTe1aBpqn1mHvFxwEUKUALg8dvh0qtdIKaUQ4hkAfwrg+gzeexGiDXLHe+8+IcRrAG6KvXdWF1wCAbU7Xah6um7f2T4ETgaw4/wO9J3tQ2QokrIfSc2iGlQ2VGLKgikoqSuBx+vRGhfA6Lv4pLHBZeSYBeUj+rj0jN2WJ1tz3H++HydeP5H0/Mx1M+OLLQBQu6gWa/90LU68dgLv7X0PSLgrbf/5fmz7l22Y/wfzMWPNDAjP2IlTq6dsupGhCM7vO4/3f/X+mI630IsLP3wh8P3sjJmv7txr5qLzaCd6W3oRDocBAOf3nkfnsU5Uza0yNq6u57ih8yEc23ks6fGK2RVYePNCo+OmywU3XIDuk92jFvXO7zuPrT/eikv++yVpLQhQqaex3K6TXTj01CH0nOlJy3VqUYdAVwBb/2ErZl4yE/OunQdf0fjfuuTDPOWKbMQb6g/h8LOH0XagDSW1JSipLUFoIAThESibVoa+c31ofb8VMiJRPKUYBWUFOLfzHHyVPpycehL+Ej/CwTCKq4sx2DWI3uZe1CyqwZQLpuDM22dw8PfJOz1b3msBALzy7itJjzfvaEbzjtG7nmZdNgsLPrgAQohR+UopMTQ4BF+Rb9wdsIleOBRGy84WnN93HsG+ILx+L8LBMErqSjB12VTULqmNv1dPcw/OPX8OkUAEh4sPY+bFM1FUld7OtnAojMG+QQhfclxSSkBGf0juOtGF0EAI5TPKUVBakLQjcayvrfN90ch8u093o+1AG4YGhjCwYwDh9jBePvMyqudXw1/qR0ltCWasmZHyPOX0thvoju7eO1J2BCW1JYCM9sKrXlAdHy8SjiDYE4S/1B9faHZ+4A82B3Go8BAKygtQUFYAr9+LgvIClNaVjvu5DQQCCJ4L4tS2UyirL0v7/6xIOILBweiCb9eJLgx2DaJiZgXO74/utqucXYmZl8xEYUUhQv2heD4TzfFEBAKB6O6+s70QQqDjSAe6T3ejuLoYDVc2wOPzoPtUN4K9QVTOrkT/+X6Eg2FUL6iecMxQfwj95/vhLfCidFophgaHMNgxiKHBIQz0DsDjj/7CyLnzZfvBdrTsasFg5yAggLJpZSgoK4C/xI/CykLIiET/+X60bm9FyZKSpD6G4VAYfWf7UDylGJFwBIHuAEpqSuJfq85jnTjTdAb9r/YDHuDYhccwbcU0FE8pHjP+3rO96D7VjZqFNWPmGglH0H2qGwBQObsSPWd60HGkAwMdAyidWoraxbXRX74MAaGB0JiLSIl0nejCqW2nEBoIofn3zUAEONsT/SVJ2/42zL58NspnlKPtYBt6zvSgel41Gq5siC8iJ35tw73h6AJWeSGER8Q/l8G+IHpO98Dj86BqbhW6T3Uj0B3AYNcgQv0hdL7bCVEgEOgJpNylnqqHpIzIjD/rQPTnhINPHcTp356Gp8CDt8+8jZLaEnj9XgT7gvD4PPAV+VBaV4r6VfUpf4E7ODiIyEAEbQfb4r8kDvYG4S/xo6i6CBUzK1A9vxo1F9bEfw6RUkKGJQZ6ByB8Al0nutDT3IPBzkF4vB5UzK5ASW0JhBAQHoHCiugcyojE+f3nEegKINwehqdabZc5tZ95HPKyh0usoe322OHNUsqnxnjdVwD8e+ywVkrZlsZ7fwzAr2KHS6WUe8d43Y8QvfSoW0qZ3rLoxGOT6+FyZnv0m6WxGr6Ohb/Ej0UfWYTaxbXoP9+PzmOdkFIi1B+KX94TGYpEdxqI6L8H2qL/kcxYMwM1F9Zg06ZNCB4L4qKC4d/Qz1g7I/rDcwYcef4ITmwZXvyYe+1czL16bkbvkSnvPfJe0tb6gvICXPzVi8f8hmOwcxD7f7s/5S19p62YhiW3LjEWK1W6Tnbh3V+8m3S5WBICqGyoxMKbFqKsvgyJ/1/l4WkvK4QGQnjnZ+8k7RIpn1mOxi815n1foHcffhdt+4dP4R6/B2v/ZC1KakosRpVMqD+E/b/dj/P7zsM5j69ZswZANN5Zl8zC7Ctmp/XNYa6QEYm2g23oO9eHYE8Q3kIvZl48M/7NoJQSZ7afwek3TyPUH0Lt4losuGEBAIzqcXTyjZM4/MzhjMYvrCjE1IumomJWBWoW1SAcCKPnTA+6T3ej53QP2g+1Q0Yk/CV+eHweePweDLQNJPVceumvX47/u7imGMs/vTz6w+AkQEqJ/tZ+3P/P9yPSFcFV666C8IroIkAoulgV7A2iYmYFKudEd5MOtA9AeAVKakowFBiKzl3Crj0pJQY7BiG8AkWVoxcHIuEITm49ibPvnMVAx8CEl2DmA6XTSjHrklnRxZ+9rYgMRVBQWoBAdyD+f0D5jHKU1JagbHoZ6pbWIdgTjPYQOtKByFAE/hI/QgMhBHuC496x0F/qx8x1MxEOhnFy68lRz5fUlaBmYQ3KZ0bvVhYOhiEjEqG+EAa7BuEv8SPYG8S5PecQGYpEa//CGsxcNxPn953HwacOIhIa4xdXF9agqLoIwZ4gQgMhyLBE2fQyFFcXo7elF53HOjHYOYiCsgIUVRfBX+JHZCj6g3LiTt6R56dEKhsqUbu4FiW1Jehtie5U7m3pRUFpwZjzUlJXgroldRjsGkTr+62IhKK/ISooK4DwCgS6xv+BRHgFahbWoHZJLWoX1cJX5IOUEl3Hu3Buzzmc2X5mlFM1ryq+2ODxeVA8JbqTs3hKMdoOtOH8vvPobemFt8ALj88TXVBJg8o5lZi2fBqKa4rRsqsFA+0DqFlYA3+pH+f2nIMMSxSURxcshEcg0B0AZHRxYmhwCD2neyC8Av5i/4R3vhyJv8SPqRdNRfGU4ugP7Ke7EQlFUFZfhrO7z6LtQFta7+kv8aedb0q/NHrOCPYGR9Whx+dB+YzyeD8uYEQ9CaDhigbMu24eBtoHMNA2AF+RDx1HO3Ds5WNJO9N9xb7o1zocPccXTylGf1s/BtoGEBmKIB08Pg9mXzEbc6+eCxmR0Z8XOgaiiwKVRQj2RhfqEr/PTxdvoRfTV09H+YxyeHwe9J/vx9l3zyZ9lgCgpDa6UDXQlt4uagigpKYENRfWoHZxLdoOtOHsu2chIxLTG6fDW+BFx+EOdB7rhMfvwdRlU1G9oBoerwdn3z2LwY5BDHYNRj9nAqhdXIuZF89E+YxyyLDEya0ncfzV42nPobfAi6p5VSiqLILH70GgK4Du093j7k4d5c+twmDXIPrO9sUf9/g98XNBJjQ1NcE3zYev/NtX8ur7pTRR+mY6XxdcNgD4bexwpZQyZddRIcQtAH4TO1wupdyTxnv/OYB/jR1WSim7x3jdXwD459hhuZSyN9XrEl6fzirK4oaGhpI777wzjZfaJ/B+AMHDWb9JU1oUX1qMDnRAnpIoPjW8ku6f60fR8sz6JgSPBhHYM/zNgL/Bj6KV5novhLvC0d8GJFDUWAT/zPFPKjIsMfDmAMJto38j7J/rR+HSwvjlXG5AhiXC7WFAAp4SD4ZahiCDMrovLwIEjwSjN4kfgafUg5IrSwBf8m8Ffv/7WQCAsrIyXHXVvhxlkXvC7WH0v55cf4VLC1GwID97YMiIRGBPAKHjyd88pvOZsYGUEoF3A+h8vxMAUFpaOuo13hovCpcUwlttr3+OjEgMnRpCYH8AcnD0//O+GT4Iv0C4LYxIb+pvmESRgKfIg0h/JPrZmwBPsQfeOi/8s/3wVEQ9T5ln3B16MhT9bb8oSH7Nq68sRvBIELIvgkvnvDtiIKBwcSF89T6IAgHhz7/zopQS4bYwwufCiPRHonNS6UHoaAhySMJb5YUMSIROhhDpjaCvL/pNbKp6SgdvtRe+eh8ivREMtQ4lfc19M3zwz/XDU+ZB6FgoGkMo/773Y7KHbj0ZxVkbzPznNMYSqepJ+IX180g+xMBkjlNPZbVlKF5XDG8lnV6DGzdunFRNc8sT/t0/5quSnysf81XZee9xF1wyQfU/Qp3/QFVcb40XOAwEg9FFl4KCzH9gU3WHzg4B0zIeDsDoXD3FydvWIgNj/y+fjTn27E8ez1vphW/G+B81xy25tASB3QGETib/8Bk6FkL4XBiFywvhm+pL6eZ7PaXryohE+FwYg+8Mjvohb6J6En6BojVFKX8AW7duJwCgrq4uq/Hmm+ud4kW4Oozw2XB8ngLvB+Ct9sI7ZeL/1HJdT8H9QfQdjLpOvOl8ZnTHVXWFEChaUQSP8CDyXupzSbgtjP4t/ShYUICCRQVJC6Wm45VhiaEzQxjclfybq5GfnaEzY+wMS3yvQYnwYHjCz13RmiL4Z4xeHPNWeCeMeazFkjVrmyBXSHiPehE+N+Kb6ki0pgPvRxfSvVO88JR7or9ZlUBABCDKBMobyjNejNH9+kgpUTRQhMCeQNJC1lBz8nyHoP7b6UTiX5uOAoQ7Ul++NXRmKOXX28b/7bZcavHquqrkJN4Up01qc0wtXl03FeksdJiOd6wYgsEgRJGAP5L5L224nsy7cSKAKMzN/9G2vpd3yNcFF3JIKUfv2xyBEKKptra20fmCZXo7LJ3baKm6J7acwKM/fBQAcMn6SzD7stkorCyE1+9FUXURhEfg3J5zOL/vPAbaBkZtTRxvW+t4TF8zHa80v4JgbxAXTRu+pGjmxTMn7OkwMtfes73YHtkef764phiXbLwkLTcTNm3ahHBnGEtmLQFmDT++/DPLx2wqnGpcKSWOv3ocx146NvqFQ0D91HpcuOHC+BZy1Zht1NNYbjgYRqAngHN7zg3nvXy0O149TV8zHfM+MG/U9bi6MefTPKXLf/T9B/pf60fjisb4Y4WFhVj72bUTbt/M5Tx1n+7Gzpad2F4Q/XyuWbMGHp8Hq7+4GuXT01tDt/n1icyL4MY1N+LM22fG3oofKcHijyxG6dRShPpD+NlDP0OkK4LPf/nzGd95J1W8g52DaN7RjPZD7dHryPtCgBfAiI+I6rl4LHfG2hmYddmsCS/50qqnUmDjtzYiHApj76/34vy+8xnFu6x6GRbdsgh1S9JfZB0r3lRNKZ0eUoHuAIYCQ3jiwScQaY1g6ZqlwKK0h0yKOdOvTza/rh6/BxWzKiDDEiW1JQj2BeOX+XkLvJh//Xz4Cn3w+D145OePIHg8iMZFjfB4PSiqLkJ/a3/Ky2RK6kowZcEU1K+uR2ldKX7yvZ8g0hfBbV+5DVVzquL9EaSU6Dndg3AoDF+hD4Ndg3j/0feT3jNb8yQ8AjMvnomaRTXoPx+9xOH8/vMpt9g77tUfuhq9Z3szauY/Uby+Ih8i4UjKbfk6X9ud7+8EvMDll1+O0rpS+Ev8aHmnZcLLxxLHLJ9RPm6vJqcvQ6IrfALX3XodAt0ByLBEYWUhept7x770N8W4mTKeW1BeMG7fvnz43I1CIKnGPD5PvG9GKresvgwzL5mJmgtrICMSg53RPkqDXYPRz5aMXoL9wmMvQA7JzGIWQPX8amzZvwUyILFyykqEA+n35cpknoqqopcH+Yp9EB6BN7a8ARnMMF5ELy18s/VNeGu8uONP7sBg5yDOvXcO7Qfb45ciBboCCAfDKS/J0fna7ti9A5BA48rGiV+chTH9JX7s6tkFUSJww5obIDwCvmIfSmpKEAlH0NvcizNNZ0bdFTXVuMIjULesDsVTilFYXggpJVrfb0Xn0c5x3UuuuASVDZXw+Dzoa+2Dt8CLUF8I4WAYoYFQUi17C6L9shz3j3/8x6ieV51RztS+l3fgS4qydElROjg9XLZs2QIAKC4eu+lUKgYGBpQ8HVdKib1P7sXU5VNRO7c2Laf9cDv2/novQv0hhELR3+KVTy1HZUMlwsEwgr3B6PXJ/SFUza1C+cxyHH/1eNI3AtMbp+OVllcQPBLERUUJCy6XzMTCm8ZfcBmZ69DgELb8YEv8eY/PgyvvvDJlTwvdOd73633oOtQVf6xiVgVWf3H1hP0zUo3bcaQD+36zL3r98AhqFtVg6ceWwlvgVY7ZRj2NdMPBMA4/dxjNO5rT6iPg1JPfH1s0EMCC6xdg9uWzJ3RVT5j5ME8qbvuhdhz8dXKzyqkXTcXSjy81Mm6mXqg/hO33bEegK5D0dV35uZUZ/Qdsa44T6ykcDOP026dx6o1TE15/7+RaVFqExX+4GLVLoufVdHrsJMYrpcTxV47j2CvH0voB0FvmxWDH4PBnJxEBlE8vRzgUTrlwnvS5E8CiDYswvXH6xIMie/UkIxInXj+BYy8dm7Cn2MjzxLzr5qFhfUPGc+zQvKMZh589HP+h0ePzpPxGfdT5KQN2HtwJT5kH119/Pfpa+yA8AjUX1mBocAidRzsR7A1iaHAo3u8GiH6GhsKxxzIc01vgRXF9MaatmoaKugpARptUj5yjYG8QXSe6UDGrAoUVw00gnXkq8BXA4/NACIGhwBA8Xg+GBodwpinak6PmwppRi6eZ1ERfax86j3Yi0B2I9inp7kdBeQGmLZ6G4upi+IqiCzPOD1PCE23iGOwJwuP3oObCGlTNrYKn1IOOQx0YaBlA2fQyzL1mbsqmlv1t/Wg/1I7uk93R3ixSoqyhDPVr6lFSUoKhwSF0HOmI9oY52gGP1wNfsQ+hvhD8JX6UTitFQVkBhgaHUDatDIVTC3HspWPoOTq8cOEv9WPhzQtRu6g2/sP00OAQ2vZHey1JKeEv9sNX5cNgxyDa9rShv7UflQ2VaLiyARUzK+LNdgPdAYT6QqhsqET1gmr4i/0Ih8L46f0/BZD8/12gJ4COwx3oONoR731SOrUUpVNLUT2/GkODQ+jt7EVJTQmqZ0TPwZGhCM69dw79rf0I9AQQDoRRMbsCM9fNhMfnwUDHAIYGhxAOhOGt9Eb7dIz4ukbCEXQe60TnsU60vt+a1AfD4/OgrL4M0h/tVdOwrgHth9oRCUXizYm9Bd54L55gXxCRUAQF5QXwFfng9XtRMqsEpVNLMWXWFBTXFGOwczC6EzHmR8KReE8MX5EPLbta0HE42qA1FIx+ZksqS1BQXhB3elt6o32CygpQNacqXvtdJ7vQd64PA10DmH3lbMxeMzvef2qwaxDdp6KNc/vO9aG4pjh6hy0JQAAdhztwft95hMIh9J7pxeD5wfj3Pd7C6KLj9NXTMf8P5kN4RbSvoc+DwsrCaMPongDOHTiH/rZ+lNeUQ0YkCkoLULu4dtzLNuOfpd4+DLQNoKq+Kv69uAxLFFUVYaB9AKXTSiEjEh1HOiAjMt5A2+v3xv+/+9SNn8KeX+4Z1T+mqKoI3kIvKmZVYNYls1A8pRhdJ7rQerg12rzV40OgOwAhBMpnlqNqbhWKqorQd7YPncc7UTGrAhUzK5Lec2BgAIHuAE6/chrn952PnvedNEf8F+At9GL25bPjTaHTOccMDQ7FmysHugIorChEUVURRLFAxewKFBYWxueh+1Q3ZFiiYlYFTr5xEqffPB1tIl5TjAtuuABTFk4BJDAwOAAhBHzw4dQbp3Di9ROQYYnSaaWYetFUBHuC6DnTA+ER0UUKvwfBniC6z3Uj2B2ER3jii751y+pQv6oeof4Qjr9yPKlhv6/Ih7pldZh/3XwMiaFxcw2Hwug60YWuE12IhKK9rLyF0c8+CgFPgQeyT6Ksvizl3Rb7z/ej71xftHlxiR8FpdFdu6JEQEqJ8urycf9v7TnTg4GOAVQ2VKKgrAAyIvHvX/t3wA/8+T/8+ZjeWOTBzzyTqodLPjXN7ZFSVqR6TaZQbJqrylBgKPrbSBlt2ul0rE4ksVt3885m7H9if/y5+lX1ePXcqwgeDuKi4uEFl1mXzsIFN16QcTxbfrglaYX3sq9flvKbLR0iQxFs+eGWpN9Urbh9BaZcMEX5PYcCQzj64lGcfuv0qP9gCsoLsOrzq/KqqWgqZERioH0ABWUFCPYFcfqt0/FvuPrO9aVcUEqFt8CLqRdNhccX3dnjL/WjbmkdSuvS2+KXjRVqahx65lD8VtEOujWZDaSUePcX76L9UHvS48s+tSyj3Qg2SVVPUkq0H2rHgc0H0q5rIPpZrltSh6LqIpTWlaJseln8zi9CiKQ7lwDR88L+3+5H63utY7zjMEXVRVj2iWUonxH9oTcyFEFPcw+6T3VjaHAIJbXR3QfOD/EyIhEOhREOhNF+ONrQtnJ2ZfyOGJWzK602rO0+3Y3jrxxHT3MPQv2htBu+FpQVoKy+LH63koLyAsy5as6YP3SHA2GUTi3Fya0ncfTFo9lOA/4SP6SUmHLBFDRc0YCHfvsQgPHPTzIiMRQYviOPjEgIj0Dn8U6cfus0elt6UVxdjGkrp6F2US26T3Wj42gH2g+1o7c5+jsjj9+DmRfPxJyr5oxqijxZcJoGF5QVjPrs2Iqn+1S0QaWv2IequVVp30Y+8T0yaXyer//fOU2iz+8/j0gogvpV9ePe8cYk4VA4vlhog/HuQJNvJNZTaCAUbe7bE0RhRSFqFtUYP5c45z6v3xtfpOw504PIUCS66FZXkvFnSoehwBCCvUEUVxePu9gVGgghMhTJ6OeNMe9Cdqo7+n/wnEqUTi0lUTdjsWnTJkgpcccdd9gORYVJ1cNlL6JXeXoAXAQg5YJL7DkAaElnsSVG4i6Yi2Jjjffe76X5vmlz8mS06/3s2RP/Vj4bng3XV+hD/cp6nDx5Eu2D7SgVo38oTjxZpFqMSUkaZZ4q3qKqIvQODG9SGuwcTHkC1Jmn97e+j47zHaisjN7UqrCiENUL0vtN/Vjj+gp9WHjTQkxbMQ17f703aYU72BPEvt/sQ+310VtYmqonKSV6W3px5u0z6DjagUgogqGyIUxtnIrFFy8ejqc3iDPbz8Q7qwuvwGDnILqOdyW9X1dX9NiZp7HwFnhxwU0XoObCGgS6AiiuKUbzuea0Yk7F3/3dRwEA99wDZLLmSelzN9Kdf938+K2iHQ49fQirv7A65S0CdcbNxDuz/UzSYktXVxemNk5VWmyxNcepECJ6J451X1mHw88eTnmL21T1H+yJLkQmvxmiDaN9Hsy6bBZqF9fi2L5j0R10bdHL8MaMwxv97W759HJccOMFKCgrSMq1cnYlKmen/vwJj4Cv0AdfoQ/TV0d3scTd1bmb4+XLh68PT/y8VsyswPLbhq83fP9X7+PcnnPx47qldWhra0PnoU5UlA//riTYGxy1wNd+sB2rv7g6vn26t6UXu5/ejbZ321BRkfnvWRK/tkVVRZh5yUzMunRW9K4a7QMI9YdQOrV0zMseJ0J4RNIlgcIjovPrAZZ9Ytmo11fPr0b1/GrMv24+Aj0B+Ip8ST9g2j4/mXKFEKN+iM+HeMf6zKXj5uqHq1x8bZxdNbkcNxVev9cV349nw03EX+xH/cp642Mm1f/Ic58Qo3bEmBh3LJz/Iydy070DTzqf9YpZFdEdUwrxpjNuLl1AfaGR2mfWQe0m2IaRUvYDeCN2eGOq14joV+qG2OHzGbz9AQDOff7Geu9SAFcqvHdaPPXUU3jqqbHWkLLvUXBHrhCPtWU8nQ9oqjFH3hpzsDP1rdB0cn3xkRdx6NCh+HHNhTVpn1AmGrdiZgVWfX4VCiuTF4m6T3bj0a8+il99+1c48sIRDAUmboSZ7piRcASn3zqNHffuQNM9TWje0YzBjkEEe4N4+3dv43d/8zts+5dt2Pv4Xuy8fye2/sNWHHv5GFp2tuDcnnM4+87ZUYstAHDo0KGkeUqkoLwA01ZOw8V/djEu/8blmL56OgpKC1A+oxy+Qp/W1+fEiTqcOFGHHTsy8/L9szOe6/F5cOGG5Nuo95/vx5v/+ma0F0EWx03XC/YFo7eOTOBo21Hs7kt55WjWxs22Ox6+Ih8WfWQRVty+Ir5F3WG8+k8idgqMDEVw4rUT2HHvDjz3z8/hrSffGrXY4ivyYcEHF2DJrUuw6vOrcNWdV+GSP78ESz++NN4nxnYtZsqePQXYs6dgws/rkluXYPEfLsYFN16A9d9ej2WfXIZ93n04VXMKvuLxf6c02DmIN/7xDez62S68+S9voumeJmx7bBsOHjw4rjcWhw4dwvHAcaz76jpc+j8uxezLot88e/1elE0rQ/W8auXFlrFId34Ly6O91xL/T6JWEzoutXh1XVUo5sr1ZN5VhWKuXE/mXR2ozbFDvu5wAYCfAbgCwLVCiEuklG+OeP4TAObH/v1Aum8qpZRCiAcBfAfAfxNC/I2U8tiIl30VQBmiu2x+oRL8eFx//fU59Ui4I9cl5Ii/Nccc+UPPWAsuqrlKKbGgcgGC84f7N9RcOH6j3EzHLawoxNo71mLrP2xNWpCaPz/6MTjx2gmc33c+unshjVX166+/HpFQBH2tfQj2BjHQHu374Vz7PlajrMQxBzsGUzYZHA/HTaR+VT0W3rxwwu3fOrWoSt5/diZwK2ZWoObCGrQdGN4EODQYvSSl8UuNoxYFTZ6fAt0B7PrZrmhj1xjeAi9u+vpNKKhQ+0HU1hynw5QLpuDiP78YnUc7ITwCVXOrUL+7Hr2neuE770Pnsc6M3i/VZ6esvgzLPrlswm35+VCLJhAegfpVyb9tdcacVhHdGThe408ASee6VHMMRBe1ln1qGYqqihDqC6GvtQ8enwe1i2vjlznOOTYHANK+zDEbUPy62nCpxavr2hjTTS61eHVdG2O6yaUWr66rA7U5dsjLHi4AIITwAdgFYBmA0wA+J6V8QQjhAfAxAP8JoALAM1LKG0e4dwH469jhvJELKkKIKgD7EL3x8PsA/khK2SSEKADwRUSb5RYAuEdK+SdZzMk1PVwy5dx75/D+o+/Hj+uW1uH1ztcRPBTERSXDPVxmXzEbC65fkPH7n9p2CoeeHv6t8vQ107FoQ4a3kRiHnuYeNN0z/HX1+D244ptXGLmmtKe5Bzvv25nyrgYAUFJbgvpV9dE7PRT5UNlQibL6MrTtb0PLrhYEugMonVqKtoNtY3YuN4nTpVx4BIprijHnyjmYtkLxHuAZkLiukKenPWMEe4PYed/OpEvSAGD+H8xHw/qGnMQgpcQ7P3tn1CLD3GvnYu7Vc3MSQzbJRo+EyFAE7Yej/TWCfdFFz2BPEAMdA2N+vh08fg9mXToLc66ak9Nr13NFtj6vTs+IQHcg3oA1cfFxIjw+D6Y3TkfD+oakprHZJl97bjA04XpisgnXE5NNiNfTpOrhAinlUOxuRS8DaADwvBCiH9HLoJztCu8AuE3hvTtj7/00gKUAtgshemLv62wNeA7AX2glMQaqdzLQuQNCvrtj9nCR478u3TFH7nAJdKVuaKmaa9uBNoTD0W3+Xq8XUxZMyeiHoEzGLZ9ejsYvNuLoS0fRdbwLgb5AfFwgesnIkeePjPsevS29SfGmw5QLpmB64/Ror5ZdZ9B9snuU6y/xo3hKMbwFXnj8HhRPKY72i5hTibYDbfAV+VAxtyLatd7ny/gaTp1aVCXfPzvpuAVlBVhzxxq8dfdbSbfIPPL8EUSGIphz9Zz418LU+an9YPuoxZaqeVWYc+WcvJmnXJA4psfnQe2iWtQuSr4DnIxIBHoCgIzeIefs7rMIdAfgK/OhtLYU9SvqMXX51Pit4TMdVyfmXLqqJI6Z2DNiygVTMPuy2eg/34+d9+0cdacNAPHz4ozGGZi6bCoqZlWM2e9ovHFzBcWvqw2XWry6rioUc+V6Mu+qQjFXrifzrg7U5tghbxdcAEBKeVQIsRzAXwG4FcA8ACFEd6U8DOBfpZTj34Nz7Pd+WwixDMC3AHwYwCwAfYg2yf0ZgJ9KKcf/FaMi999/P4DMV/ZUPQpuuj1c0llXTDVmupcUqebatr8Nu3btAhC9n30mlxOpjFtWX4bln14OKSXu+dd7MPj2IFZdsCqjMRPjHY+qeVW48EMXJt2Z5He7fofIlAg+uOKD6DzaichQBNMbp2PG2hljdmx3GnDqrGzr1KIq+f7ZSdf1FfrQ+MVGvHX3W0m3tD328jH4in2YdcksrXHH82RE4vBzh5MeK5serWHhEbj/P/NnnkyTzpjCI+J9p+Z9YB7mfWAeZETi3v+8FxgENq6iM0/5OMcltSW45C8uQdfxrvitf32FPviKfPj5pp/DU+nBdR+9LuvjmoDi19WGSy1eXVcVirlyPZl3VaGYK9eTeVcHanPskNcLLgAgpewG8L3Yn3SduwDclcbrWgD8ZexPzrjooosmflEWPRLuiJ/RnQWXkZe8pbMjItWYqRZcUt1mUSXXQE8APWd6MHXq1PhjmS64qM6xEAIr1q1A+KIwivYXoe9cX9quE6+/xI+S2hL4S/0oqipCZUMlQn0hDHYOoqiqCPWr60f9Jt2Jd/7lqfsdjIetWrQxZr65RVVFWHjzQuz/7f6kxw8/cxjl08tR2VBp5PzUsqsF/a39ww8IYPEfLo737Mm3eTKJ8mfdI0jOU77Osa/Ql/I8vfrm1UbHzTYUv642XGrx6ro2xnSTSy1eXdfGmG5yqcWr6+pAbY4d8raHy2SEcg+Xu16+C99/5ftpvfbLjV/Gpg2bkh7buHkj7t1xb1r+5+Tn8LULvoZt/dsQOBDA8rLl+A6+gzfEGxPLAO758D3YuCZ5FXLNpjXY0Zze7Wl++99+iw2LNiQ9NuMfZ6C5d/QtXlPxYO2DuP2rtyc9Jr6f/qUzp792GjPKZ8SPz/Scwcz/b2ba/oF1ByClRKArgGBfELvO78KXgl9Ky51eNh1nvn4m6bHN+zfjI7/8SFp+4/RGNG1Mru9NTZtwx5N3pOV/+MIPY/OnNyc9lrXauyvhXHdX6q/HX1/917jrmruSHtvw8AY8eeDJtMa3XXvbv7wda2Yk71jKpPaO3nEUc+vnxo8zrT3518n/nzSdacLae9em5U7q2ksDt9feyPNe0lr4GJ/XRKjX3oae6Nw7v0Hj2rNXe3ze49rj2psYrj2uvUQyqb1KTyV+NO1H3MOFYWwTv6SI4Hpg1dwqq+MvvHlh8gNnAKT3/w/jcg48eQANn2+I33WFYRiGYRiGYRh1eMHFAo899hgA4NZbb82Jlw1379m9GXuJ4yLDPkM6O6927NyBx44/ppQrAGx9Y+uoVedMqGyoVHaZ/KO5Ob3fNqTiscceQ2dHp7KrMy6Q+ee9+1Q3fvrVn6Ly8kp88nOfVBo3ccxgX/ottgYHM7u9OMOMxWOPPYbDA4cnfuEYLgD4l2XeHE/n/1kdjh49mtPxmMmLje/3Et1cf3+79Y2tCL0XyvlnlpmcUPp+z6arA7WfoR34kqIc4lxSdOeddwKgUyy5cDuPdWLX/9sVP66cU4m3Q28jsD+A5eXL44/PvWYu5l4zV2nMQ08fwqltp+LHqW6Jm2mubQfa8O5D7wIA9u7dC2+JF1++78sZ333Hxtcn32si267qbWYp5pquKyMS7zz4DjqPdsYf27t3LzzFHnzunz83qvdRJmPKiMSu/7cLXSe6hl8kgIv/7GKU1JSM62aCLVe1+TPFXG24OreFppYrwPVk2qUWr67L9WTWpRavrsv1ZNalFq+uq3PzjDyYY6VLinjBJYdQ7uFims7jndh1/674cWVDJd4eehuBfQEsr0hYcLl2LuZePVdpjFPbTuHQ04fixzPWzsCFH75QNWQAoxdxZqybgQs/pPeejBm++tWnAQA33ngjNqhvYJp0BPuC2HX/LvSf7096vHhKMVb98SoUlhcmPT40NITf/e532L59O3p7e1FWVoa1a9fiQx/6EHy+4U2Th587jJOvn0xy01kwpYLONwzMxGxOuLTfDZ9Xricmm3A9MdmE64nJJsTriXu4MHRJ97bQme4cSaSwMvkHx7FuDZ0JXSe7ko6r51drvydjhpUrTwBwxw9vmVBQWoDGLzdi/xP70fp+a/zxgfYBbP+P7Zi+ejpmXzEbwUgQ//RP/4R77rkHp06dGvU+s2bNwh133IG//Mu/RN/RvlGLLdULqjHnqjnG82EmB/w5ZRiGYRhmMsCdES2wdetWbN26NWceBXfkQkp855XCBqyxxiyuLk46HugYSNtNRTgURm9zb/z45MmT2Hta7dpnG1+ffK+JbLuqUMw1U9dX6MPSjy/F1Ium4uTJkzh5MrpYEuoL4cSWE3juH57D1Vdeje9+97spF1sA4NSpU/jud7+L9Zeux9YHkscurCjEkluXjFpYVY03H1xVKObK5yfzrioUc+V6Mu+qQjFXrifzrioUc+V6Mu/qQG2OHXjBxQJ79uzBnj17cuZRcNPd4ZLORq6xxiyqTu5HMdg5OGqcTHLtOd2T5J/vO499R/al5Y7Extcn32si264qFHNVcYVHYPFHF6NdtOPcuXPxxweCA/jaf3wNTTvTuxRy155d+PYvvo2B4ED8fZd+fCkKSguyGq9tVxWKufL5ybyrCsVcuZ7Mu6pQzJXrybyrCsVcuZ7MuzpQm2MH7uGSQ5weLtu2bQMA+P2ZtXIPhUJKHgW3p7kHTfcM/0BXVl+GHZ4dCOwNYHnlcA+XedfNw5wrx78sYbwxX//x6wj1heLHl/6PS5Mag2aS6/FXj+Poi8N3h6hdVotFf7gob+c4H8a06apeM0oxVx03MBDAsZeOoaWpBTIs8eCrD+K+l+7L+H2+eO0XcftVt2PJrUswbcU0Y/FyPU1Ol1q8ui7Xk1mXWry6LteTWZdavLou15NZl1q8uq5OD5c8mGPu4UIFlS+2jkfBTbnDxYNRlxSl08NlvDGLpxQnLbgMtA8kLbhkkuvI/i1T5k8h9bXN95rItvvNb34GAHDXXcCZM7kZk6JbWFyIRTcvwvxr52PH/9uBzU2bJ5ZSsLlpM772P7424WILQHOebIzpJnfOnGEvk8+rzpg2XRtjusmlFq+ua2NMN7nU4tV1bYzpJpdavLquDtTm2IEvKbLA0aNHcfTo0YlfmCWPgpvNS4rGG3NUH5f25D4u6cYrpUT3ye6kxzojnXk9x/kwpk23q6sUXV2laG7O3ZiUXX+xHyerT6K1u3ViKQXnus/hYORgRmOqYMtVhWKuNtzm5uE/uRrTpqsKxVz5/zvzrioUc+V6Mu+qQjFXrifzrg7U5tiBF1ws8Nxzz+G5557LmUfBHbNpbpbHLJ4y/oJLuvH2t/ZjaHAofuwr8uG1Ha/l9Rznw5g2XVUo5pot95333lF6D4emHen1fcmHXHMFxVx5js27qlDMlf+/M++qQjFXrifzrioUc+V6Mu/qQG2OHfiSIgvcdNNNOfUouGPucFG4pGi8MUctuIy4U1G68XadSL6cqGJ2BW6+6ua03FTY+Prke01k27UxJnW3t7d3nFdOTE9PT8ZjZgrX0+R1bYzJuU5Ol1q8uq6NMd3kUotX17UxpptcavHqujpQm2MHXnCxwOzZs3PqkXBHrqOMtcEljUuKxhtz5J2KRu5wSTfekf1bKhsq83+O82BMm66NMam7ZWVlyu8DAOXl5RmPmSlcT5PXtTEm5zo5XWrx6ro2xnSTSy1eXdfGmG5yqcWr6+pAbY4d+JIiCwwMDGBgYGDiF2bJo+COtcNF5dKi8cYcucNlsGMwaYx04x25w6VydmXez3E+jGnTVYVirtly165dq/QeDun6+ZBrrqCYK8+xeVcVirny/3fmXVUo5sr1ZN5VhWKuXE/mXR2ozbEDL7hY4MEHH8SDDz6YM4+Cm24Pl3QuKRpvTH+JH95Cb/w4HAwn3bUonXiDvUEMdgwOx+QRKJ9ZnvdznA9j2nRVoZhrttwPfehDmDVrltL7zJ49GzffnN5ldvmQa66gmCvPsXlXFYq58v935l1VKObK9WTeVYVirlxP5l0dqM2xA19SZIFVq1bl1KPgZvMuReONKYRAcXUxeluGe1P0t/WjoKxgQtdh5O6Wsull8Pq9eT/H+TCmTdfGmNRdn8+HO+64A9/97nczfp877rgDPl96/8XkQ665gmKuPMfmXRtjusmlFq+ua2NMN7nU4tV1bYzpJpdavLquDtTm2EHo3A2GyQwhRFNjY2NjU1N6d+5wE8G+ILb+eGv82F/ix3tV72Hw3UGsqFkRf/yCmy7ArEvUfuPu8P6v3se5Pefixws/tBAz181M2z/4+4M4/dbp+PGsy2bhghsu0IqJMU/i5ig+7aVPX18frrnmGmzfvj1tZ926dXjppZdQWlpqMDK7bNq0CQCwceNGy5FMTtz2eeV6YrIJ1xOTTbiemGxCvJ7S+NX/aPiSIiYvSHeHSzqXFE1E6bTkHwL7zvZl5Hcc7Ug6rppbpRsSw+QtpaWl+N3vfpd2P5Z169bhd7/73aRebGEYhmEYhmGYdOAFFws88sgjeOSRR3LmUXDTvqQoC2OWTUu+80rv2eHLiyZyg71B9Lf2Dz8ggKo5VWm5OjGbcKnFq+uqQjHXbLtTp07Fyy+/jL/9278ds6dLTU0NPvWpT+Gll15CXV2d1Xhz4apCMVeeY/OuKhRz5f/vzLuqUMyV68m8qwrFXLmezLs6UJtjB+7hYoHCwsKcehTcMZvmjlx3SWODy0RjptrhIiMSwiMmdLtPdScdl88oh6/Il9a442HDpRavrvud7zwGALj11ltzNuZkcktLS3HnnXfiW9/6Fn7/+99j+/bt6OnpQXl5OdauXYuhoSF4vV6lnS35lqtJKOZqw/2Hf3gZAHDNNdfkbEybro0x3eRSi1fXtTGmm1xq8eq6NsZ0k0stXl1XB2pz7MA9XHII93AZm8hQBK/+7avxY+EV2D9tPwbfGcSKuuEeLhd++ELMWDtDaywpJV7/0esYGhiKP7buK+tQOnXiHxSPvnQUx185Hj+eefFMLLx5oVY8TG4gfs0ok2dwPTHZhOuJySZcT0w24XpisgnxeuIeLgxhRpavwXVAIQQqZlUkPdZ1smuMVyfTc6Yn6bh8RnnW4mIYhmEYhmEYhmEmD7zgYoFXX30Vr7766sQvzJJHwc3mbaHTGbNydmXSsXOp0HiulHLcBZd8n+N8GNOmqwrFXLmezLuqUMyV68m8qwrFXLmezLuqUMyV68m8qwrFXLmezLs6UJtjB15wscC+ffuwb9++nHkU3FR3H0p1uVs6dylKZ8yK2ck7XLpPdk/oBroDCPWF4scevwcltSUZjasTc7ZdavHquqpQzJXrybyrCsVcuZ7Mu6pQzJXrybyrCsVcuZ7Mu6pQzJXrybyrA7U5duAeLjmEe7iMzyv/+5WknS376/cjsDuAFVOHe7gs+sgiTG+crj1WOBjGa//ntaRLl6741hXwF/vHdFr3tuK9/3ovflzZUInVX1itHQuTGxLX6vi0x+hC/BrkvMdtn1euJyabcD0x2YTrickmxOuJe7gwxEmnj4tSmY/GW+AddXvokXcgGgn3b2EYhmEYhmEYhmHShW8LbYGDBw8CABYuzOzuNqoeFVd4BGQ4YZUlxYJLOpcUpTtmxawK9Lb0xo+7T3ajHe1juiMXZMqmJy/YUJhj22PadFWhmCvXk3lXFYq58hybd1WhmCufn8y7qlDMlevJvKsKxVy5nsy7OlCbYwdecLHASy+9BCDzL5yqR8UdtZgioXS3onTHrJhdgTPbz8SPu091481Db6Z0I+FIvM+Lw8jGuxTm2PaYNl1VKObK9WTeVYVirjzH5l1VKObK5yfzrioUc+V6Mu+qQjFXrifzrg7U5tiBe7jkEKeHy5NPPgkAmD49s14kzc3NSh4Vd8sPtmBocCh+vL92Pwb3DGJl/cr4Y4s/uhj1K+uzMmZ/Wz/e+re34sfeAi8WfG4BhEeMcrtOdGHnfTvjx4UVhbj0Ly9NWiSiMMe2x7TpqvaEoJgr15N5V/UaZIq52nB1erhQyxXgejLtUotX1+V6MutSi1fX5Xoy61KLV9fV6eGSB3Os1NyCd7hYQOWLreNRcUfdGlpxMTDdMYunFMNf4keoP3rnoXAwjApfxajeLgDQebwz6bhyTuWoHTkU5tj2mDZdG2O6yaUWr65rY0y3uTbG5Fwnp0stXl3XxphucqnFq+vaGNNNLrV4dV0dqM2xAzfNtUBPTw96enomfmGWPDJuGk1z0+nhku6YQohRt4du3tec0u081pl0XDW3SnncVNhwqcWr66pCMVeuJ/OuKhRz5Tk276pCMVc+P5l3VaGYK9eTeVcVirlyPZl3daA2xw684GKBhx9+GA8//HDOPCruyB0uKXu4pLGRK5MxK2YlL7g89V9PjXJlRI7q31I1p0pr3HxwqcWr66pCMVeuJ/OuKhRz5Tk276pCMVc+P5l3VaGYK9eTeVcVirlyPZl3daA2xw58SZEF1q5dm1OPipvO7pVsjzmy8e3MspmYt3Ze0mNdJ7sQDobjxwVlBSiuKdYaNx9cavHqujbGdJNLLV5d18aYbnNtjMm5Tk6XWry6ro0x3eRSi1fXtTGmm1xq8eq6OlCbYwdumptDnKa5TU1NtkPJS7b98zYMdg7Gj/dV7kNgXwArpw83zV368aWYetHUrI0ZDoax5QdbICPDn4PLvnYZCisK48eHnz2Mk1tPxo+nrZiGJbcuyVoMTG7QacLJMCPRafrGTIzbPq9cT0w24XpisgnXE5NNiNeT0u4AvqSIyR/SKeHsbIKJ4y3wjrqsqP1we/zfkaEIzr57Nun52sW12Q2CYRiGYRiGYRiGmXTwgosFHnroITz00EM586i4afVwyfKYAFA9vzr+73fffRe/ve+38eMz288g2BOMH3v8HlQvqEYqKMyx7TFtuj/84c/xwx/+HKdP525MN7nU4tV1VaGYqw337rsfx913P57x51VnTJuuKhRz5fOTeVcVirlyPZl3VaGYK9eTeVcHanPskNc9XIQQ0wB8E8CHATQAGADwHoD/B+A+qXg9lBDiAgAfAXAtgBUA6gEMATgN4DUAP5FSGrvup6qqKqceFXdkDxcp5agFl3T6vGQa75SFU3Ds5WMAgKKiIqADCHQH4Cvy4fhrx5NeO2PtDPgKU39sKMyx7THtuv0AgBkzcjmme1xq8eq6NsZ0kztvXvSyzkw/rzpj2nRtjOkml1q8uq6NMd3kUotX17UxpptcavHqujpQm2OHvO3hIoRYA+AZADWxh3oBFGF4kegZAB+RUgZT6OO97xUAtox4uAdAIYCC2HEEwN9JKb+nEPp4Y3MPl3F4+ydvo+9cX/x4b9leBPcHsXLmcA+XZZ9ahroldVkdV0qJ7f+xHX1nh8eec/UcFFYU4sDmA/HHvAVeXPIXl6CgtCDV2zB5DvFrRpk8g+uJySZcT0w24XpisgnXE5NNiNfT5OnhIoSoBPAkoostewGslVKWAygF8FUAQQA3APhnhbf3AwgD+A2ATwColVJWACgBcCmArYjOy3eFEF/WSoTJiJSXFOViXCEwc93MpMfObD+D468m726ZefFMXmxhGIZhGIZhGIZh0iIvF1wAfAPRy3z6AdzsXN4jpQxKKX8CwNl5slEIsSjD9z4EYImU8qNSyl9JKdti7x2WUr4J4AOIXrYEAN/WTSQVL774Il588cWceWTckWuGKXq4pHNJkUq8U5dPhbfQi6NHj+Lo0aMI9YUQ6AokvWb6mulZH9emSy1eXbezswSdnSU4c+b/b+/e4+6q6juPf34hISQkQBAEQblUFBDEkMhFBITxBq22ozNgOypgVRyrrbW1Mt6QVm2rU2cc26EDKoioVWgFJhK5daQQFJGkGBKCXMM1QLiHEJJA1vyx98mzPTnnPOestffZ53f29/16nVfOZX/3Wmvn92x4VvZeZ3htNinrrb+p2Vgex1pH9oILFnHBBYsG/nlNabPObCyPY9X5qfpsLI9jVT1Vn43lcayqp+qzKbwd45ZRXcPlvfmfPwghrOzw+T8AnwVmAe9mYgJmUiGE+yf5fL2ZfQf4MvBbZjYnhPBEv/vvx8qVK4ea85It6wqXmP5OnT6V3Q/ZnRuvv7Hj5zvusyMz5swovd06s976m5o97bT35H8O9jWzHseqeqo+W0ebTcq+611Hbn4+6J3P3saawuNYdX6qPltHm03KeutvaraONpuU9dbf1GwKb8e4ZeTWcMmvWLk1f3liCOHCLtstBI4Hrg8hvK7kPnwU+Pv85c4hhEdL2q/WcOlhyTeX8PT9T29+vWKbFWy4YwOveenEGi4H/sGB7LRvNV/LvOn5TSz51hKeWfXMb7y/9aytmfeBeWyzwzaVtCvDUbw4asROe+KQ83uQR17Tfl5VT1Im1ZOUSfUkZXJeT2OzhsuBhefLemzX+uxVFfThmPzPVcBjFexfOmi/wiX2W4piTZk6hdec9Bp2PXjXzX2Z8aIZzD1lriZbREREREREZCCjeEtR8UsgH+ixXeuz7cxsVgjhmR7b9s3MDgPekb/8ZuxXT/eyYsUKAPbff/+h5NxkO63hEiGlv3esvANeCUe8+Qiee+o5Zu0ya8tbnSpot46st/6mZmN5HKvqqfpsLI9j1TGuPhvL41h1fqo+G8vjWFVP1WdjeRyr6qn6bApvx7hlFG8p+jTwpfzltBDC8122+yBwdv5ytxDCqhLa3gn4JbAXcDswr9+JHDPr5z6h/fbYY4+ZrUuodt55sK83Xr16dVTOS/bZnz/LC4++sPn1uleuI9wbmPnczM3vzTh0BlN36T1P6GGso5D11t/U7Ic+NHHp4llnnd1jy/LabFLWW3/rynrrb13Z2J/XlDY9Zr31t66st/7WlfXW37qy3vpbV9Zbf+vKeuuvx2xZbZ566qlRt1qUcoWLmZ0CnJuwi2NDCFeX0ZdYZjYLWEA22fI0cEJZV820mzNnzlBzXrMdr3Dpo8w9jrWOrLf+pmbraLNJWW/9Tc3W0WbTsnW0qbGOZ9Zbf1OzdbTZpKy3/qZm62izSVlv/U3NpvB2jFtKucKlzAkXM/tj4Ov5+9uHEJ7uFDCzjwFfy1/OTpkcMbNtgYXA0cAa4LgQws9i99ejHS2a28PS7y7l8Tse3/z6lq1uYcPdG5i7x9zN7x30noPYcZ8da+ideNe0RTilWs4XfRt5Tft5VT1JmVRPUibVk5TJeT3Vd4UL8H3g4oR8cbLkwcLz3cmuNulk9/zPNSVMtlxKNtnyDPDbVUy2FD3xRPYt04POmMXmvGQ7fi10+/9o91HmHsY6Cllv/U3NxvI4VtVT9dlYHseqY1x9NpbHser8VH02lsexqp6qz8byOFbVU/XZFN6OcUsp31IUQtgQQngy4VFcp6X4zUQHtrfV4bPlsf0uTLa8gYnJlkWx++vXhRdeyIUXdvy260pybrJRc4aJbTY4662/qdlYHseqeqo+G8vjWHWMq8/G8jhWnZ+qz8byOFbVU/XZWB7HqnqqPpvC2zFuGcVvKboNuA94GXAcsMUI84mSo/KXV8U00nYbUWuy5dqYfQ3q8MMPH2rOS3aLr4XetOV15P18LbSHsY5C1lt/U7N1tNmkrLf+pmbraLNp2Tra1FjHM+utv6nZOtpsUtZbf1OzdbTZpKy3/qZmU3g7xi0j9y1FAGb2JeDTwLPAASGElW2ffxL4MrAp//zWAfdfy2SL1nDpbdkPl/Hoikc3v17Ocjau3MjcveZufu81J7+GOXvXs1CT+Na0NSGkWs7vQR55Tft5VT1JmVRPUibVk5TJeT1F3Y9Ryi1FFfjvwMPATOBSM5sPYGZbm9mHgS/k232j02SLmX3bzIKZbfG/aWY2E/gxE5Mtxw/ryhYRqc9ZZ53NWWed3Yhf3kS8C2HiISIiIuLVKN5SRAjhSTN7O3AZ8CrgRjNbA2wDTMs3uxL4WMTu/zNwTP58KvDPk9ymckgI4b6Idrr6zne+A8BJJ500lJyXbMe/h9DHNgltNjnrrb+p2Vgex6p6qj4by+NYVU/VZ2N5HKvqqfpsLI9jVT1Vn43lcayqp+qzKbwd45aRnHABCCH80swOAE4D3ga8FFhLtkjuecC3QgibInZdvKpnm/zRy1YRbfS06667DjXnNdtRHxdyeRxrHVlv/U3N1tFmk7Le+puaraPNJmW99Tc1W0ebTcp6629qto42m5T11t/UbB1tNinrrb+p2RTejnHLSK7hMq60hktvyy9YzupbVk+8Zjkb797I3L3nbn5v7vvmssOeOwy/c+Ke83tGZcSonqRMqicpk+pJyqR6kjI5r6eoNVxG9goXaaBOJRxxS5FIJ/fcsxMAixfD/Pk1d0ZEeir+u4R+XkVERMQrTbjU4IorrgDgLW95y1ByXrPtky1AX/OKHsdaR9Zbf1Ozf/3X78z/HGwhTo9jVT1Vn43lcax1ZF/72onng16I622sKTyOVeen6rOxPI5V9VR9NpbHsaqeqs+m8HaMWzThUoOHHnpoqDmv2TrabFLWW39Ts3W02aSst/6mZutos2nZOtrUWMcz662/qdk62mxS1lt/U7N1tNmkrLf+pmZTeDvGLVrDZYi0hktvt/zzLTyy7JHNr5eH5Wy8ayNzXz5383vzPjCP7V66XQ29E++Kd6PptCepnN+DPPKa9vOqepIyqZ6kTKonKZPzeopa22LK5JuIiIiIiIiIiMggNOFSg6VLl7J06dKh5bxmgS3XceljXtHjWOvIeutvajaWx7GqnqrPxvI4Vh3j6rOxPI5V56fqs7E8jlX1VH02lsexqp6qz6bwdoxbtIZLDa6//noADjrooKHk3GQ7TKaEthmXfr6lyMVYRyDrrb+p2Vgex6p6qj4by+NYdYyrz8byOFadn6rPxvI4VtVT9dlYHseqeqo+m8LbMW7RGi5D1FrD5aqrrgJgzpw5A+WfeOKJqJyX7C3/cguP3FxYw2XTcjbctYGD9zl483vzT53P7N1mj0R/vWe99Tc1G7smhMexqp6qz8beg+xxrHVkU9Zw8TZWUD1VnfXW39Ss6qnarLf+pmZVT9VmvfU3NZuyhssIHOOoNVx0hUsNYv6yU3Jes0DULUUex1pH1lt/U7N1tNmkrLf+pmbraLNp2Tra1FjHM+utv6nZOtpsUtZbf1OzdbTZpKy3/qZmU3g7xi1aw6UGq1evZvXq1UPLec120s8tRR7HWkfWW39Ts7E8jlX1VH02lsex6hhXn43lcaw6P1WfjeVxrKqn6rOxPI5V9VR9NoW3Y9yiCZcaXHTRRVx00UVDy3nJbjGZEnm3m4exjkLWW39Ts7E8jlX1VH02lsex6hhXn43lcaw6P1WfjeVxrKqn6rOxPI5V9VR9NoW3Y9yiW4pqcNRRRw015zULRN1S5HGsdWS99Tc1u/32awGYOXPbobXZpKy3/qZm62izSdmdd94IwNSp04bWZp3ZOtpsUtZbf1OzdbTZpKy3/qZm62izSVlv/U3NpvB2jFu0aO4QtRbNXbx4cd1dGUkrfrSCh5c+vPn18heWs+HODRz8yolFcw/5o0PY9sWD/cIsAmmLdIm0Uz1JmVRPUibVk5RJ9SRlcl5PUYvm6pYiGR2dSljzgSIiIiIiIuKQJlxqcM4553DOOecMLec121Ef84oex1pH1lt/U7OxPI5V9VR9NpbHsaqeqs/G8jhW1VP12Vgex6p6qj4by+NYVU/VZ1N4O8YtWsOlBnvttddQc16zdbTZpKy3/qZm62izSVlv/U3N1tFmk7Le+puaraPNJmW99Tc1W0ebTcp6629qto42m5T11t/UbApvx7hFa7gMkdZw6e3Wi2/loZse2vx6+QvL2XD7Bg7eb2INl0M/eigzd5pZR/fEuY985DIAjjvuON7+9po7I+45vwd55C1YMPG8CT+vqicpk+pJyqR6kjI5r6eoNVx0hYuMrk5zgVFlLgJnnnlc/idonllktP3u704818+riIiIeKU1XGqwcOFCFi5cOLSc12wsj2OtI+utv6nZWB7HqnqqPhvL41h1jKvPxvI4Vp2fqs/G8jhW1VP12Vgex6p6qj6bwtsxbtEVLjV48sknh5pzk+3jW4rMJr/ExcVYRyDrrb+p2TrabFLWW39Ts3W02bRsHW1qrOOZ9dbf1GwdbTYp662/qdk62mxS1lt/U7MpvB3jFq3hMkRaw6W3Wy+5lYf+vbCGy/PL2XDbBg5+1cQaLod97DBmzJlRR/fEueJcnU57ksr5Pcgjr2k/r6onKZPqScqkepIyOa+nqMUtdEuRiIiIiIiIiEjJNOFSgyVLlrBkyZKh5bxkO90uFNruKernliIPYx2FrLf+pmZjeRyr6qn6bCyPY9Uxrj4by+NYdX6qPhvL41hVT9VnY3kcq+qp+mwKb8e4RWu41ODGG28EYN68eUPJec3GfkuRx7HWkfXW39RsLI9jVT1Vn43lcaw6xtVnY3kcq85P1WdjeRyr6qn6bCyPY1U9VZ9N4e0Yt2gNlyFqreFy9dVXAzB79uyB8mvWrInKecn++v/+mlVLVm1+vXzjctbftp55B0wU+OEfP5xttt9mJPrrPeutv6nZ2DUhPI5V9VR9NvYeZI9jrSObsoaLt7GC6qnqrLf+pmZVT9VmvfU3Nat6qjbrrb+p2ZQ1XEbgGEet4aIrXGoQ85edkvOa7aSfW4o8jrWOrLf+pmbraLNJWW/9Tc3W0WbTsnW0qbGOZ9Zbf1OzdbTZpKy3/qZm62izSVlv/U3NpvB2jFu0hksNVq1axapVqybfsKScm2zbXErs1VcuxjoCWW/9Tc3G8jhW1VP12Vgex6pjXH02lsex6vxUfTaWx7GqnqrPxvI4VtVT9dkU3o5xiyZcarBgwQIWLFgwtJzXLLDlOi59XMjlcax1ZL31NzW7xx6r2WOP1Qx6C6bHsaqeqs/G8jjWOrKxP68pbdaZjeVxrDo/VZ+N5XGsqqfqs7E8jlX1VH02hbdj3KJbimpw7LHHDjXnNQtsMeHSzy1FHsdaR9Zbf1Ozn/nMRcDg94x6HKvqqfpsHW02KXvVVU8C8IpX7Dy0NuvM1tFmk7Le+puaraPNJmW99Tc1W0ebTcp6629qNoW3Y9yiRXOHqLVo7uLFi+vuyki67ce38eCND25+vWzDMjb8egPzXj3xT5xHfOIItp61dR3dE+dSFukSaad6kjKpnqRMqicpk+pJyuS8nqIWzdUtReJLVJmLiIiIiIiIDJcmXGpw9tlnb57dG0bOaxaIuqXI41jryHrrb2o2lsexqp6qz8byOFbVU/XZWB7HqnqqPhvL41hVT9VnY3kcq+qp+mwKb8e4RWu41GC//fYbas5NtqSrV1yMdQSy3vqbmr3mmonsIFcxehyr6qn6bB1tNil7223HAHD22YP9vKa0WWe2jjablPXW39RsHW02Keutv6nZOtpsUtZbf1OzKbwd4xat4TJEWsOlt9suvY0Hf1lYw2V9vobLQRNruLz+tNczbca0OronzhUvjtJpT1I5vwd55DXt51X1JGVSPUmZVE9SJuf1pDVcZPz1c0uRiIiIiIiISN004VKDSy65hEsuuWRoOS/ZjpMpEf+y6WGso5D11t/UbCyPY1U9VZ+N5XGsOsbVZ2N5HKvOT9VnY3kcq+qp+mwsj2NVPVWfTeHtGLdoDZcarF+/fqg5r1lgywmXPi5w8TjWOrLe+puaraPNJmW99Tc1W0ebTcvW0abGOp5Zb/1NzdbRZpOy3vqbmq2jzSZlvfU3NZvC2zFu0RouQ6Q1XHq7feHtPHDDA5tfL1u/jA0rNjBv7sQaLkd+6kimTtc8oQyuaWtCSLWc34M88pr286p6kjKpnqRMqicpk/N6Gr81XMxsFzP7qpn92szWmdnjZnatmb3fSl7Mw8ymmdmvzCzkj2+XuX+JE9oucdEaLiIiIiIiIuLByF4qYGbzgcuBF+VvPQPMBo7MHyeY2e+GEDaU1OSngINK2ldPN9xwAwCHHnroUHJusu1zKYGoW4pcjHUEst76m5qN5XGsqqfqs7E8jlXHuPpsLI9j1fmp+mwsj2NVPVWfjeVxrKqn6rMpvB3jlpG8wsXMtgd+TDbZsgJ4bQhhNrAt8BFgA/BW4Gsltfcq4DPA3cDDZeyzl5tuuombbrppaDmv2Vgex1pH1lt/U7OxPI5V9VR9NpbHseoYV5+N5XGsOj9Vn43lcayqp+qzsTyOVfVUfTaFt2PcMpJruJjZF8kmQJ4FDgghrGz7/DTgb4EX8s9/ndDWFOA64HDgOOAsYE/gvBDCKbH77dLW4nnz5s1btGgRADNmzBgov27duqicl+ztP7mdB35RWMPluWWsX7Ge+QfP3/ze0Z89milTe88TehjrKGS99Tc1G7smhMexqp6qz8beg+xxrHVkU9Zw8TZWUD1VnfXW39Ss6qnarLf+pmZVT9VmvfU3NZuyhssIHOOotS1G9Zai9+Z//qB9siX3D8BngVnAu4HTE9r6E7LJlu+FEC4fxhohMX/ZKTkv2S2OfeQtRR7GOgpZb/1NzdbRZpOy3vqbmq2jzaZl62hTYx3PrLf+pmbraLNJWW/9Tc3W0WaTst76m5pN4e0Yt4zchIuZ7Qvskb+8rNM2IYS1ZnYtcDzwZiInXMxsb+CLwOPAx2P2EeO+++4D4GUve9lQcl6zsTyOtY6st/6mZl/96nsA2HPPPYfWZpOy3vqbmo3lcax1ZN/4xvh/jfI21hQex6rzU/XZWB7HqnqqPhvL41hVT9VnU3g7xi2juIbLgYXny3ps1/rsVQltnU22LswnQgirE/YzkJ/85Cf85Cc/GVrOaxbY4gqXfq5A8jjWOrLe+pua/ehHL+ejH72cBQuG12aTst76m5qN5XGsdWRPPPF8Tjzx/IF/XlParDMby+NYdX6qPhvL41hVT9VnY3kcq+qp+mwKb8e4ZeTWcDGzPwa+nr/cPoTwdJftPsbEormzQwjPDNjO+4FvAleHEI4tvL+SiDVczGxxH5vtt8cee8z8xCc+AcD06dMH6TLr16+PynnJrl++ng13TXzp1Lrd1hHuCMycOXPze7PeNmvSSRcPYx2FrLf+pmZXr87mVHfeeeehtdmkrLf+pmZVT9VmvfU3Nat6qjbrrb+pWdVTtVlv/U3Nqp6qzXrrb2o2tp5S2i1rrKeeeurYrOEyu/D82R7bFT+bTfa10X0xs5cAfwesBz40UO9KEPOXnZLzmgWImRD0ONY6st76m5qto80mZb31NzVbR5tNynrrb2q2jjablPXW39RsHW02Keutv6nZOtpsUtZbf1OzKbwd45ZSJlzM7BTg3IRdHBtCuLqMvvTpfwM7AJ8LIdxWxg5DCPMn28bMFu+0007z3ve+9wEwbdq0gdrYuHFjVM5L9o7L7+D+n9+/+fWydctYv+165s+fOLTHfOiYUttsctZbf1Ozsauiexyr6qn6rOqp2qy3/qZmVU/VZr31NzWreqo2662/qVnVU7VZb/1NzaZ8S5G3Y9wyimu4rCk8n9l1q9/8bE3XrdqY2QnAO4BbgC8P1rVynHvuuZx77uDzU7E5L9mO31JUcZtNznrrb2p2wYL5LFgwnzPOGF6bTcp6629qNpbHsdaRfec7l/LOdy4d+Oc1pc06s7E8jlXnp+qzsTyOVfVUfTaWx7GqnqrPpvB2jFvKuqXo+8DFCfni7UAPFp7vDnRcwyX/DGBNv+u3mNnWwN/nL/8MmG5m7dcJtX7rn2pms/Lnz4YQNvXTRj8OPPDAyTcqMec1u4U+75rzONY6st76m5r98Y/n538y0C9xHseqeqo+W0ebTcrG/rymtFlnto42m5T11t/UbB1tNinrrb+p2TrabFLWW39Tsym8HeOWUVw0d1/g1vzliSGEC7tst5Dsa6GvDyG8rs997wA8EdGtg0MIN0Xk2ttfPG/evHmLF/ezvm7z3HnFndz3s/s2v162dhnrb524pcimGG84/Q11dU+cK15ANWKnPXEo5ZJYmVzTfl5VT1Im1ZOUSfUkZXJeT1GL5o7iLUW3Aa3fuo/rtIGZbQsclb+8ahidkiFov6OoCf+XLSIiIiIiImNp5CZcQvZb9vn5y983s706bPYRYBawCfjeAPt+MoRgvR7APfnm5xXevyl+RFv60Y9+xI9+9KOh5bxmt9DnnKLHsdaR9dbf1Gwsj2NVPVWfjeVxrDrG1WdjeRyrzk/VZ2N5HKvqqfpsLI9jVT1Vn03h7Ri3jNyES+6/Aw+TLYx7qZnNh2wNFjP7MPCFfLtvhBBubQ+b2bfNLJiZLpHwrO1vb4tFdUVERERERERG1Mit4dJiZocAlwE75m+tAbYBWt/JdCXw9hDC+g7ZbwMnA+RXrQzS7kpgT7IrXE6J6HqvfWsNlx7uvPJO7rtuYg2Xm9fczIbbNmxew2XK1Ckc/dmj6+qeONe0NSGkWs7vQR55Tft5VT1JmVRPUibVk5TJeT2NzRouAIQQfgkcAHwNuINsomUtcB1wKnBcp8kW8WvSr4XWBS4iIiIiIiLiRFlfC12JEMJDwMfzxyC5U4BTItvcKyY3iJ/97GcAHHHEEUPJec3G3lLkcax1ZL31NzUby+NYVU/VZ2N5HKuOcfXZWB7HqvNT9dlYHseqeqo+G8vjWFVP1WdTeDvGLSN7hcs4W7ZsGcuWLRtazms2lsex1pH11t/UbCyPY1U9VZ+N5XGsOsbVZ2N5HKvOT9VnY3kcq+qp+mwsj2NVPVWfTeHtGLeM7Bou46i1hsv1118PwLRp0yZJ/KaNGzdG5bxk7/rXu7j32ns3v775yZvZcOfEGi5bTd+Koz51VLf40PvrPeutv6nZ2DUhPI5V9VR9NvYeZI9jrSObsoaLt7GC6qnqrLf+pmZVT9VmvfU3Nat6qjbrrb+p2ZQ1XEbgGEctcDHStxSNq5i/7JSc12wdbTYp662/qdkjj1wBwP777z+0NpuU9dbf1GwdbTYp+8EPRjfpbqwpPI5V56fqs3W02aSst/6mZutos0lZb/1NzabwdoxbNOFSg7vvvhuAvffeeyg5r9nYNVw8jrWOrLf+pmbf+95rATj11MEmXDyOVfVUfTaWx7HWkf3Up3z1NzUby+NYdX6qPhvL41hVT9VnY3kcq+qp+mwKb8e4RWu41ODKK6/kyiuvHFrOS7Z9QmWL2936vIjLw1hHIeutv6nZWB7HqnqqPhvL41hVT9VnY3kcq+qp+mwsj2NVPVWfjeVxrKqn6rMpvB3jFl3hUoPjjz9+qDmv2TrabFLWW39Ts3W02aSst/6mZutos0lZb/1NzdbRZpOy3vqbmq2jzSZlvfU3NVtHm03KeutvajaFt2PcokVzh6i1aO7ixYvr7spIuvv/3c0919yz+fXSx5ayceXGzYvmTps5jdd/8vV1dU+cS1mkS6Sd6knKpHqSMqmepEyqJymT83rSorlerFu3DoAZM2YMJecmO1kJ91niLsY6Allv/U3Nnn9+9g1XN94I+bm+8jablPXW39RsLI9jrSP7h3/4PABTp04d6Oc1pc06s7E8jlXnp+qzsTyOVfVUfTaWx7GqnqrPpvB2jFu0hksNzj//fM4///yh5bxmY3kcax1Zb/1NzS5atD+LFu3PN74xvDablPXW39RsLI9jrSN77rlTOffcqQP/vKa0WWc2lsex6vxUfTaWx7GqnqrPxvI4VtVT9dkU3o5xi65wqcHcuXOHmvOajf2WIo9jrSPrrb+p2TrabFLWW39Ts3W02bRsHW1qrOOZ9dbf1GwdbTYp662/qdk62mxS1lt/U7MpvB3jFq3hMkRaw6W3lVevZOXVKze/Xrp6KRvvnVjDZevZW3PEnx9RU+/Eu+J8nU57ksr5Pcgjr2k/r6onKZPqScqkepIyOa+nqDVcdEuRiIiIiIiIiEjJNOFSgwsuuIALLrhgaDmv2dhbijyOtY6st/6mZmN5HKvqqfpsLI9j1TGuPhvL41h1fqo+G8vjWFVP1WdjeRyr6qn6bApvx7hFa7jUYPr06UPNec3W0WaTst76m5qto80mZb31NzVbR5tNy9bRpsY6nllv/U3N1tFmk7Le+puaraPNJmW99Tc1m8LbMW7RGi5DpDVcelv5bytZ+dOVm18vfXgpG++fWMNl+vbTed3HX1dT78S7pq0JIdVyfg/yyGvaz6vqScqkepIyqZ6kTM7rSWu4yHhpnwzs95YiERERERERkbppwqUG11xzDddcc83Qcl6zsTyOtY6st/6mZmN5HKvqqfpsLI9j1TGuPhvL41h1fqo+G8vjWFVP1WdjeRyr6qn6bApvx7hFtxQNkZk9NmPGjB133nlnAHbaaaeB8o8++mhUzkt2wzMbWL9m/ebX6zauI2wMzJw5E4ApW01h2xdvOzL99Z711t/U7JIlE8/nzRtOm03KeutvXVlv/a0rG/vzmtKmx6y3/taV9dbfurLe+ltX1lt/68p6629dWW/99Zgtq80lS5Z8P4Tw7kH3oQmXITKzu4HtgHuBXYCHgU0D7GJKZM5rdr/8z1uH2GaTst76m5pVPVWb9dbf1Kzqqdqst/6mZlVP1Wa99Tc1q3qqNuutv6lZ1VO1WW/9Tc3G1lNKu2WN9ZaYCRdCCHoM+QHsRvalx7sNI+c4uxhY7Ki/rrLe+qt6Gu2st/6qnkY7662/qqfRznrrr+pptLPe+qt6Gu2st/7WVU8ej3HroTVcRERERERERERKpgkXEREREREREZGSacKlHmuAv8z/HEbOazaWx7HWkfXW39RsLI9jVT1Vn43lcayqp+qzsTyOVfVUfTaWx7GqnqrPxvI4VtVT9dkU3o4xoEVzZYSZ2WKAEML8uvsi/qmepEyqJymT6knKpHqSMqmepExNrCdd4SIiIiIiIiIiUjJNuIiIiIiIiIiIlEwTLiIiIiIiIiIiJdOEi4iIiIiIiIhIybRoroiIiIiIiIhIyXSFi4iIiIiIiIhIyTThIiIiIiIiIiJSMk24iIiIiIiIiIiUTBMuIiIiIiIiIiIl04SLiIiIiIiIiEjJNOEiIiIiIiIiIlIyTbiIiIiIiIiIiJRMEy7Sk5nNNrMzzOxmM3vGzJ4ys1+a2Z+Z2daJ+97FzL5qZr82s3Vm9riZXWtm7zcz6yP/cjM7y8zuNrPnzOwRM7vczN7ZZ/vzzOy7Zna/ma03s1VmdpGZHZsyLuluHOvJzK42szDJ4/6UsUlno1hPZrarmZ1oZn9rZlea2WOFOjhygPZ1fhqycawnnZ/qNaI1tU/e/gIzuyc/v6w1s9vM7FtmNr/P9nWOGrJxrCedo+ozovX0djP7OzP7qZndaWZPm9kGM3vQzH5iZu8zs6l9tD9a56cQgh56dHwAewJ3AyF/rAWeK7xeAsyJ3Pd84NHCvtYAGwuvLwO27pH/7bw/re2fAl4ovP4WYD3yH2hr70lgU+H1GXUf/3F7jGs9AVfn2zwDPNTlsaTu4z9uj1GtJ+CMwnbtjyP7bF/nJ9VTKfWk85Nqqi33+g519DSwvvD6BeCvJmlf5yjVUyn1pHOU6qktu6xDPa1re28xsGuP9kfu/FT7X7geo/kAtgKW5oX5APCm/P0pwIlkv5AGYGHEvrcHVuX5W4D5+ftbA39UOFGf2SW/d35iDsC1wCvz92cBny/8UH2yS/51wPP5Nv8CvDR//0XAPxZ+IE+s++9hXB5jXk9X13UCb+pjxOvp88C9wMXA6WT/4R/kF2Sdn1RPZdaTzk+qqWL2mPz8chHwn4EXFfp7GHBdob4+2KV9naNUT2XWk85Rqqdi/gzgg8CrgBmF93cj+29g6x9DL++SH8nzU+1/6XqM5oOJ/6nbBBzW4fN3FYr2jQPu+4tMzKbu1eHz0/LPnwf27fD5d/PPHwS27/B56wfqaTrMzgKL8s9vAqZ1+Hxh/vlKYKu6/y7G4THm9aT/WVA9FT/fqu31XoW+9PMLss5Pqqcy60nnJ9VU8bOXAq/ose/pTPwL851dttE5SvVUZj3pHKV6GmT/f1Po20s7fD6S5yet4SLdnJz/+dMQwi86fH4BcFfbtv16b/7nD0IIKzt8/g9kVxxsBby7+IGZbQu01tT4xxDCUx3yf5v/ORt4R1v+t8gugQT4aghhY4/8nsAbug9DBjCW9SS1Gcl6AgghvDBge5vp/FSbsawnqdVI1lQI4f4Qwu3ddhxCWA98J3/5W2Y2p/i5zlG1Gct6ktqMZD316eeF57sXPxjl85MmXGQLZjYTOCJ/eVmnbUI2TXh5/vLNA+x7X2CPSfa9luzWjk77PhKYMUn+HmBFl3zxdcc82SWQa7rkZUBjXk8yZCNeT6l0fhqyMa8nqcEY1NSzhedbtX2mc9SQjXk9yZCNQT0d1doVcGfbZyN7ftKEi3SyPxO1sazHdq3PdjWzF/W57wM75Hvt+1U98sv7yB/QJf9ICGF1p2D+L4q3dsnL4Ma5norebWYr89XQnzSzG83sS2a2W4+MDG6U6ymVzk/DN871VKTz0/B4r6lj8j9XAY91aV/nqOEZ53oq0jlqONzVk5nNMrMDzewrwJ/nb38nhPBol/ZH7vykCRfppHhye6DHdsXPXlLRvrczs1kd8k+EEJ6lu1a+/US9W9vng+ZlcONcT0X75J+vBbYjW6X908AKM9OtSOUZ5XpKpfPT8I1zPRXp/DQ8bmvKzA5j4tbZb+b/0t2pfZ2jhmec66lI56jhcFFPZnZ462vBya5IuRn4C7JFc88GPtSj/ZE7P2nCRTqZXXje65fQ4mezu25V7r5nd/i8V769X6l5Gdw41xNkC769j+xe0ukhhB2BOfl7j5D9j8MPzex1k7Qh/Rnlekql89PwjXM9gc5PdXBZU2a2E/ADst8Nbge+0qN9naOGZ5zrCXSOGjYv9bQBeDh/FNdi+QbwN/n6QN3aH7nzkyZcREQShBDOCCF8O4TwYOtfb0IIT4UQvk12n+yTwDTgy/X1UkSaSOcn6Uf+r8wLyL4F62nghBDCM7V2StwapJ50jpJOQghLQgi7hhB2BbYBXgGcSXZlyzJvVz1pwkU6WVN4PrPHdsXP1nTdqtx9r+nwea98e79S8zK4ca6nnkIIdwL/O395ZP4vPpJmlOsplc5PwzfO9dSTzk+VcVVT+bf1XQocnm97fAjhV5O0r3PU8IxzPfWkc1QlXNUTQAhhUwjhjhDCR8huK9oWON/M2m91GtnzkyZcpJMHC89377rVb362qqJ9r2mbFW/l5+QrbU+Wf7Dt/QfbPh80L4Mb53rqR+sr7IzsX3skzSjXUyqdn4ZvnOupHzo/lc9NTRV+OT6a7KtafzuE8LM+2tc5anjGuZ76oXNUudzUUxdnAuvJJl3+oEv7I3d+0oSLdLIC2JQ/P7DHdq3PHgoh9Fp5vKi4anU/+27/5phivtfq0pPlX2xmO3cKmtlWwH5d8jK4ca4nGb5RrqdUOj8N3zjXk9TDRU0Vfjl+AxO/HC/qs32do4ZnnOtJhs9FPXUTQngOeDx/uU+X9kfu/KQJF9lC/m0trRnl4zptY2YGvDV/edUAu78NuG+SfW/LxPest+/7OuC5SfJ7kn3tWad88XXHPPB6JhZSGmRs0sGY11M/Ds//DMDKiLwUjHg9pdL5acjGvJ76ofNTyTzUVL7NQn7zl+Nr+2hf56ghG/N66ofOUSXyUE+9mNlsoDWZ8nTbx6N7fgoh6KHHFg/gg2Qnt03AYR0+PzH/PABvHnDfX8pza4G9Onz+yfzzF4D9Onz+vfzzB4HtO3x+Zv75GmDHDp9fl39+EzCtw+cL88/vAbaq++9iHB7jWk+ATdK3Pclm4gOwqO6/h3F5jHI9ddh+r0Jfjuxje52fVE+l1JPOT6qpLv/N2xb4t8J/144asH2do1RPpdSTzlGqp7bPpvax/78q9O34Dp+P5Pmp9r90PUbzAUwluzQrAPcDb8zfnwKcADyVf3ZZh+wZhR+GvTp8vgPwUP75cmB+/v7WwIfJ7s0LwP/p0reX5z/IAbgGeEX+/rbA6fkJJAD/rUv+9fkPegD+Bdg9f39HJn65DsDv1/33MC6Pca0n4FPAecDxwA6F92cD7yGbxAlkX2/3+rr/HsblMeL1NAXYqfA4uNDe77R9Nr1DXucn1VMp9aTzk2qqQ3Ym8FMmfjmedBK4wz50jlI9lVJPOkepntqyJ5PdlnYi8JLC+1OAg4CzC20vosOE3aien2r/S9djdB/A3mQzgK3iXAusK7y+ic5XkPT8Ycy3OQR4rLDd0/kJtfX6Cjr8MlLIv43se9Rb2z8JPF94fV6nH8RC/tS27Z9g4hfrAHyh7uM/bo9xrKe2vrXafaxwsm/t6511H/9xe4xqPfGbVyBM9jilyz50flI9JdeTzk+qqQ65kwrbrCP7xajX42Vd2tc5SvWUXE86R6me2nKntNXDWmA1E5M0rce/dupbYT8jd37SGi7SVQjhbuDVwBeYWFhoI7CE7Gu5Dg0hPN4lPtm+f0m2SOnXgDuAaWQ/WNeR/aAcF0JY3yP/Y7LZzm+SnTBmkJ2UrwJOCCGcHPKfui75s4HDgH8im0GfSfZDfQnwphDC52LGJd2NaT1dSHZ545XA3WQn8u3ITu6LyK6Q2TeE8KOYcUl3o1xPqXR+Gr4xrSedn2o0ojVV/P/+bYBdJnls1aV9naOGbEzrSeeomoxoPV2af/79vE/PAnPIJmtWAN8hWx/ojb36NornJ+vxO6mIiIiIiIiIiETQFS4iIiIiIiIiIiXThIuIiIiIiIiISMk04SIiIiIiIiIiUjJNuIiIiIiIiIiIlEwTLiIiIiIiIiIiJdOEi4iIiIiIiIhIyTThIiIiIiIiIiJSMk24iIiIiIiIiIiUTBMuIiIiIiIiIiIl04SLiIiIiIiIiEjJNOEiIiIiIiIiIlIyTbiIiIiIiIiIiJRMEy4iIiIiY87MTjGzkD9Oqbs/IiIiTaAJFxERERERERGRkmnCRURERERERESkZJpwEREREREREREpmSZcRERERERERERKpgkXEREREREREZGSacJFREREKmVmW5nZe81sgZndZ2bPmdm6/PkSMzvbzN5pZjN77OMAM/sfZnaTmT1uZuvN7AEz+79m9m4z6+v/acxsqpmdZGYXmtlKM1ub7+s+M7vUzP7UzF7cI29mdqKZ/bOZ3ZuP5UkzW5r37xWTtH9M4duCzsjf28PMvmpmt+b9edLMfmZmf2RmU/sc19vy4/tQ3qeVZvY9M3tdP/nCfn7PzC4ws7vM7Nl8Xw+Y2a/M7Pz8WM8ZZJ8iIiJNZSGEuvsgIiIiY8rMdgIWAof0sfk7QggXt+WnAl8FPkrvfyi6Afi9EMJDPfryWuAHwMsn6cfVIYRjO+R3AS4Cek1ibARODyH8bZc+HAP8NH/5l8D1wD8BO3TZ35XA20MI67vsbyvgW8DJXfKbgE8BjwDn5u+9L4Tw7bb9zAAuBH6ny36KPh5C+Fof24mIiDRaX/9qIiIiIhLpG0xMttxBNrlwG7AO2A7YFzgaOKw9aGYGXAC8I39rdZ7/d2AtsCfwLuC1wKHAv5rZISGEZzvs60jgCmBG/tad+b5XAOuB3fI+/A5gHfKzgWuAV+ZvrQLOAZYDM4E3AycA04C/MbMpIYS/nuTYzAX+Im/vLODneV9eC/xXYNt8v58BTu+yj68zMdmyATgPWEQ20XIo8H7gy8DFk/Tlr5mYbFkFfDcf2zPALGAfsommoyfZj4iIiOR0hYuIiIhUIr81ZxXZlSk3AseEENZ22XZPgBDCPYX3PgZ8LX95MXByCOHpDtkvAZ/OX345hPDf2j7fnmxi5SX5W18BPhNCeL7DvmYCR4UQLm97/x/JJkEgm9B4WwjhqbZt3gJcAmwDPA+8NoTwq7ZtjmHiCheAe4E3hRBub9vuUOA6sn8cewJ4SftVLmZ2FPBvZBM2T+b7Wdy2zb7A1cCuhbd/4wqX/CqZx4DtgXuAQ0MIj9CBme0MvCiEcGunz0VERGSC1nARERGRqvwWE/+v8f1uky2QTbS0TbZsw8Qkyq3AuzpNtuTZzwDX5i8/nGeLPsLEZMs/hRBO6zTZku/r2Q6TLTsD78tfPg2c0D7ZkmevAD6Xv5xKdvXKZN7TPtmS7+sG4If5yzlkV6u0+3Mmrsb50/bJlnw/vwY+MEkfdiabbAG4pNtkS76/1ZpsERER6Y8mXERERKQqxVt7Dhgw+1agtXjt10MIGybZ/rv5n9sBh7d99u78z03AZwfsB2S32kzPn5/Xa50Y4ExgTf789/KrR7r59xDCtT0+/3+F568qfmBm04Hj85ePMDH+LYQQLiW7wqebdd3aERERkXhaw0VERESqshx4kGx9lPfna7J8A7ghhLBpkuxRheezzOw/TrL97oXn+5PdRoOZ7cjEJMKyEMJd/XX9NxSvLrmi14YhhGfNbBHZZMisvO2bu2x+/STtPlB43v7NQK8Bts6fXx1CeGGSff0r2XHZQgjhKTO7gWycbzKzi4C/B64NIWycZL8iIiLShSZcREREpBIhhBfM7EPAv5BNDvxh/njSzH5OthbK5Z1uhQH2Kjz/yoBNFycnihMxva7y6OUlhee39bH9bUxcffISuk+4PDrJfoprtrTfJrVb4fkdffRpsm0+QjYpsx3wH/PHWjP7Bdnf01XAdX1MlImIiEhOtxSJiIhIZUIIPya7cuJisq9MhuwrkI8HvgTcaGY3m9lxbdHtibd14fl2hefPRO5vduF513VourQzu+tW2S1OsWYVnm/xrUwd9Ox3COFGsm9N+g4TtxhtC/wHsm9Iuga408zeM3BPRUREGkoTLiIiIlKpEMKvQgjvAF5ENtHyBbJv12lNwBwILDSzdxdixUmLvUIINsDjjEK2uNBucZJiEGsKz7ftY/tiO2u6bpWmeHxm9rH9pP0OIdwdQjgZ2JFsouWzwGVMTMDsBZxvZp/uvAcREREp0oSLiIiIDEUIYU0I4bIQwukhhGPIbrf5n/nHBvyPwiKzxfVLBl1wt+gBIOTPO65h0odVheev6GP74jYPRrY5meJ+9+lj+362ASCE8FwI4achhC+FEI4nW7z4NCaO4+lm9qL+uyoiItJMmnARERGRWoQQHgsh/BlwY/7Wi5mYrPi3wqbvSGjjceCW/OWBZrZ3xG5uKDx/c68NzWwGcGT+8hni142ZzK+A1jc3vWGSb0OC7IqVKCGEZ0IIXyFbiweyb2w6JHZ/IiIiTaEJFxEREanbysLz1oL+C5lYVPYkM0u5yqX1lclTyNaNGdSlTCxge7KZvbjHth9mYt2Yi/v49qAoIYT1ZMcIYBfgv3Tb1syOp5yve15ZeK4vXhAREZmEJlxERESkEmb2VjP7mJl1XQDXzPZh4qqRZ4A7AUIIa4G/zN/fmmyNl9dO0t4hZtbpG43+kYlbcP7AzL5sZh0nDMxshpm9pfheCGE1cE7+cgfgAjPbrkP2jcAX85fPA3/Xq78l+Grh+f8ys7kd+vQK4Fu9dmJmB5vZ58xslx7b7ASckL8MwNLBuysiItIs+tcJERERqcpLgK8BXzGznwK/AO4i+1adnchuSzmRiQVdvxZCaC3QSgjhH8zsEOAkYA/gBjO7jOzri+8nW/dlJ+DVwBuBl5NN2Hyy2IkQwlNm9i7gSrKvV/4k8J/M7Idkt/xsAHbN+/N24CbgiraxnJa38UrgDcAtZnYO2e1KM4E3Ae9i4h+zPh9C+NWgB2wQIYRFZnYm8EdkX4V9vZmdR/Y1zpvIvh3q/WTH92Kyr3ruZHvgr4DPm9l1wM/Ivtp6DdkCuq8mu4Jmx3z774UQ7q1gSCIiImNFEy4iIiJSldbXHm8NvDV/dBKArwOf7/DZKcDtZN+YM53sW46O79Hm/R0byCYnjgF+COxJNjnT7dt2tvi65hDCGjM7mmzi4nBgd+BzHbLPA6eHEP6mRx/L9Cdk34p0EtnxOTV/tGwim2BaTfcJl9Z4twKOzh/dXNC2fxEREelCEy4iIiJSlfPJrhZ5I9lVIQeQXfWyDdntQ3eTXY1xTgjh3zvtIIQQgC+a2beAD+T72pfsaotNZOu83Ar8HFgYQri+W2dCCL8ws1cCJwO/BxxMdoVMAB4iu03mcuCfuuQfNrMjyG6t+X2yK2J2Jlvf5T6yK2jODCHcPvmhKUe+RszJZnYh8F/JrmrZDngYuA74+xDCz83slB77uMbM9iVbWPdY4CDgpWRX7jwL3AtcD5wXQrimwuGIiIiMFcv+P0ZERERERERERMqiRXNFREREREREREqmCRcRERERERERkZJpwkVEREREREREpGSacBERERERERERKZkmXERERERERERESqYJFxERERERERGRkmnCRURERERERESkZJpwEREREREREREpmSZcRERERERERERKpgkXEREREREREZGSacJFRERERERERKRkmnARERERERERESmZJlxEREREREREREqmCRcRERERERERkZJpwkVEREREREREpGSacBERERERERERKZkmXERERERERERESqYJFxERERERERGRkmnCRURERERERESkZP8fZ6MTPoewXlAAAAAASUVORK5CYII=\n",
          "text/plain": "<Figure size 576x288 with 1 Axes>"
         },
         "metadata": {
          "image/png": {
           "height": 270,
           "width": 558
          },
          "needs_background": "light"
         },
         "output_type": "display_data"
        }
       ]
      }
     },
     "0a4128b1c2314abdb064c0ba1f15efc2": {
      "model_module": "@jupyter-widgets/base",
      "model_module_version": "1.2.0",
      "model_name": "LayoutModel",
      "state": {
       "width": "600px"
      }
     },
     "0b2b9a561e934926bde8a89649df38a1": {
      "model_module": "@jupyter-widgets/controls",
      "model_module_version": "1.5.0",
      "model_name": "DescriptionStyleModel",
      "state": {
       "description_width": ""
      }
     },
     "0be45bc1a31c41faa4427a27c41265d1": {
      "model_module": "@jupyter-widgets/controls",
      "model_module_version": "1.5.0",
      "model_name": "LabelModel",
      "state": {
       "layout": "IPY_MODEL_3b57968f2d4149adac70eb0d8791ce98",
       "style": "IPY_MODEL_2f25e172515b4ef988908dfa6b758f65",
       "value": "time since last event is: nan"
      }
     },
     "0d1d7765b1aa42b7afb34a97776d41c5": {
      "model_module": "@jupyter-widgets/controls",
      "model_module_version": "1.5.0",
      "model_name": "VBoxModel",
      "state": {
       "children": [
        "IPY_MODEL_129ebd3f0de54271992f88abf583117f",
        "IPY_MODEL_610dc1284c4c44b48c18b40e73ac585c"
       ],
       "layout": "IPY_MODEL_944fd3cc7f144677897fd748d56ca400"
      }
     },
     "0e1675fcaeda46048dc933e9f9ff52ab": {
      "model_module": "@jupyter-widgets/controls",
      "model_module_version": "1.5.0",
      "model_name": "LabelModel",
      "state": {
       "layout": "IPY_MODEL_ff779768144542af8f559d17b2b78a60",
       "style": "IPY_MODEL_21bd1a5091a144d482c6ac1c6acead85",
       "value": "lagging peak amplitudes are (V): [-0.08]"
      }
     },
     "0e2cac103caa4859add88c0661625186": {
      "model_module": "@jupyter-widgets/base",
      "model_module_version": "1.2.0",
      "model_name": "LayoutModel",
      "state": {}
     },
     "0f53fc8c270a459086eacc3154446a22": {
      "model_module": "@jupyter-widgets/controls",
      "model_module_version": "1.5.0",
      "model_name": "FloatRangeSliderModel",
      "state": {
       "_model_name": "FloatRangeSliderModel",
       "_view_name": "FloatRangeSliderView",
       "continuous_update": false,
       "description": "Time Range (s)",
       "layout": "IPY_MODEL_ac772b9d7ef74af592ef1cead6c0842b",
       "max": 43.5,
       "step": 0.05,
       "style": "IPY_MODEL_d3b65a1f5edc4abca301212d0b6f5d40",
       "value": [
        23.75,
        30.1
       ]
      }
     },
     "10a87cf04ff246baa37c08b53af4dd25": {
      "model_module": "@jupyter-widgets/controls",
      "model_module_version": "1.5.0",
      "model_name": "SelectMultipleModel",
      "state": {
       "_options_labels": [
        "0",
        "1",
        "2",
        "3",
        "4",
        "5",
        "6",
        "7",
        "8",
        "9",
        "10",
        "11",
        "12",
        "13",
        "14"
       ],
       "description": "Events",
       "index": [
        0
       ],
       "layout": "IPY_MODEL_882c302d96924a6faf2d049c9279828a",
       "rows": 5,
       "style": "IPY_MODEL_cc001e5e43624fe4b1807c262f0c50d5"
      }
     },
     "10c5b92666f049bcbf09b0096acef60e": {
      "model_module": "@jupyter-widgets/controls",
      "model_module_version": "1.5.0",
      "model_name": "SelectModel",
      "state": {
       "_options_labels": [
        "0",
        "1",
        "2",
        "3",
        "4",
        "5"
       ],
       "description": "Bouts",
       "index": 5,
       "layout": "IPY_MODEL_ae9da83ac8b94ab7a50319644777d4cb",
       "style": "IPY_MODEL_527fa2fb2f9645f2bf6aa0d98e270793"
      }
     },
     "11906e12f46b4efb9666d9bd5cd99a0b": {
      "model_module": "@jupyter-widgets/output",
      "model_module_version": "1.0.0",
      "model_name": "OutputModel",
      "state": {
       "layout": "IPY_MODEL_368533f6558144108cdc7246655503d9",
       "outputs": [
        {
         "data": {
          "image/png": "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\n",
          "text/plain": "<Figure size 576x288 with 1 Axes>"
         },
         "metadata": {
          "image/png": {
           "height": 269,
           "width": 558
          },
          "needs_background": "light"
         },
         "output_type": "display_data"
        }
       ]
      }
     },
     "129ebd3f0de54271992f88abf583117f": {
      "model_module": "@jupyter-widgets/controls",
      "model_module_version": "1.5.0",
      "model_name": "FloatRangeSliderModel",
      "state": {
       "_model_name": "FloatRangeSliderModel",
       "_view_name": "FloatRangeSliderView",
       "continuous_update": false,
       "description": "xrange (s)",
       "layout": "IPY_MODEL_6da8797c289346e2976b8d66e735637e",
       "max": 0.05,
       "min": -0.01,
       "readout_format": ".3f",
       "step": 0.0005,
       "style": "IPY_MODEL_608f8a3877b4492d82ecb9e87504a83b",
       "value": [
        -0.001,
        0.03
       ]
      }
     },
     "12e6acd4161b44979fd2dc2f56a8d7b6": {
      "model_module": "@jupyter-widgets/controls",
      "model_module_version": "1.5.0",
      "model_name": "DescriptionStyleModel",
      "state": {
       "description_width": ""
      }
     },
     "13a877fd8889474e8e3f5086dce2e2e4": {
      "model_module": "@jupyter-widgets/base",
      "model_module_version": "1.2.0",
      "model_name": "LayoutModel",
      "state": {
       "width": "600px"
      }
     },
     "1409f31391ef4e7c9c2a2a29e83510a7": {
      "model_module": "@jupyter-widgets/controls",
      "model_module_version": "1.5.0",
      "model_name": "SliderStyleModel",
      "state": {
       "description_width": ""
      }
     },
     "16b072ce821e4e37ac09bd58fcd60594": {
      "model_module": "@jupyter-widgets/controls",
      "model_module_version": "1.5.0",
      "model_name": "SliderStyleModel",
      "state": {
       "description_width": "200px"
      }
     },
     "16d1d69610ee400aa65b716cd705ea12": {
      "model_module": "@jupyter-widgets/controls",
      "model_module_version": "1.5.0",
      "model_name": "DescriptionStyleModel",
      "state": {
       "description_width": "200px"
      }
     },
     "17d9ef709fcb4640b7b3082292be0c6d": {
      "model_module": "@jupyter-widgets/controls",
      "model_module_version": "1.5.0",
      "model_name": "LabelModel",
      "state": {
       "layout": "IPY_MODEL_553e553f9421445d8e518058e39327e6",
       "style": "IPY_MODEL_36aecd75a3014f91a6988fc25bca3c36",
       "value": "time of this event is: nan"
      }
     },
     "18406c5810fa4ccfbf05a82c9445dbf9": {
      "model_module": "@jupyter-widgets/controls",
      "model_module_version": "1.5.0",
      "model_name": "FloatSliderModel",
      "state": {
       "continuous_update": false,
       "description": "peak detection threshold",
       "layout": "IPY_MODEL_0717ccfe07074282ae0c2b92fcd3e033",
       "max": 1,
       "readout_format": ".3f",
       "step": 0.001,
       "style": "IPY_MODEL_90eacab8a8894611aaedeb967d8e073a",
       "value": 0.041
      }
     },
     "184befc61c854dce8c1aad897a7c889a": {
      "model_module": "@jupyter-widgets/controls",
      "model_module_version": "1.5.0",
      "model_name": "DescriptionStyleModel",
      "state": {
       "description_width": "200px"
      }
     },
     "1945b335b37945f8a5a436b308522c78": {
      "model_module": "@jupyter-widgets/base",
      "model_module_version": "1.2.0",
      "model_name": "LayoutModel",
      "state": {}
     },
     "194d18032a2448b896727c62eb548ce9": {
      "model_module": "@jupyter-widgets/base",
      "model_module_version": "1.2.0",
      "model_name": "LayoutModel",
      "state": {}
     },
     "1b0f4a9a619647f6a835f67a1fc68e23": {
      "model_module": "@jupyter-widgets/controls",
      "model_module_version": "1.5.0",
      "model_name": "RadioButtonsModel",
      "state": {
       "_options_labels": [
        "1",
        "-1"
       ],
       "description": "peaks polarity",
       "index": 1,
       "layout": "IPY_MODEL_1c2d5f06492346bfa500a65cd04f2f1e",
       "style": "IPY_MODEL_89d24010a0d7421682ca471c5250d718"
      }
     },
     "1c2d5f06492346bfa500a65cd04f2f1e": {
      "model_module": "@jupyter-widgets/base",
      "model_module_version": "1.2.0",
      "model_name": "LayoutModel",
      "state": {}
     },
     "1d910b7db49c427cba2a8f5c445a5aec": {
      "model_module": "@jupyter-widgets/controls",
      "model_module_version": "1.5.0",
      "model_name": "DescriptionStyleModel",
      "state": {
       "description_width": "200px"
      }
     },
     "1f1938a88eca4e348da21c2d32001626": {
      "model_module": "@jupyter-widgets/controls",
      "model_module_version": "1.5.0",
      "model_name": "VBoxModel",
      "state": {
       "_dom_classes": [
        "widget-interact"
       ],
       "children": [
        "IPY_MODEL_7ee2ce58c9f9470ca39751e38a9cc5c9",
        "IPY_MODEL_c029d2a9b46f4f2a9d8004a2279b57e3",
        "IPY_MODEL_e5219a73a6cc454f9c201099f2cce4be",
        "IPY_MODEL_c9322ad4b3814ec4a8ab6e0353111ab0",
        "IPY_MODEL_70d97b7f70974b1696441318615144b7",
        "IPY_MODEL_c2c30aaa8bb4421ab4f631e9edb10edc",
        "IPY_MODEL_46ecf11a5b2d4e15999d474a16621cf7"
       ],
       "layout": "IPY_MODEL_53ec85cff6284f238031d88c0d9f797f"
      }
     },
     "21453fe989d84c9497ec982c42bfb6e6": {
      "model_module": "@jupyter-widgets/controls",
      "model_module_version": "1.5.0",
      "model_name": "DescriptionStyleModel",
      "state": {
       "description_width": "200px"
      }
     },
     "21bd1a5091a144d482c6ac1c6acead85": {
      "model_module": "@jupyter-widgets/controls",
      "model_module_version": "1.5.0",
      "model_name": "DescriptionStyleModel",
      "state": {
       "description_width": ""
      }
     },
     "2331d940d3ff4b2f8b608055cb6ea304": {
      "model_module": "@jupyter-widgets/base",
      "model_module_version": "1.2.0",
      "model_name": "LayoutModel",
      "state": {
       "width": "max-content"
      }
     },
     "23d495b1a4f744559af52929d64a8ef3": {
      "model_module": "@jupyter-widgets/base",
      "model_module_version": "1.2.0",
      "model_name": "LayoutModel",
      "state": {}
     },
     "24b6aaab72a64866a0f8c6aef950691d": {
      "model_module": "@jupyter-widgets/controls",
      "model_module_version": "1.5.0",
      "model_name": "FloatRangeSliderModel",
      "state": {
       "_model_name": "FloatRangeSliderModel",
       "_view_name": "FloatRangeSliderView",
       "continuous_update": false,
       "description": "yrange",
       "layout": "IPY_MODEL_7618fa9214dd4f19a586dd6234d6ad8b",
       "max": 5,
       "min": -5,
       "step": 0.05,
       "style": "IPY_MODEL_b3520fb65b2440b498a85b541a86dd68",
       "value": [
        -0.2,
        0.15
       ]
      }
     },
     "25290ed64cf1456c80d6699c7214d9d0": {
      "model_module": "@jupyter-widgets/base",
      "model_module_version": "1.2.0",
      "model_name": "LayoutModel",
      "state": {
       "width": "max-content"
      }
     },
     "257e8de45989430c8aab307931342f8c": {
      "model_module": "@jupyter-widgets/controls",
      "model_module_version": "1.5.0",
      "model_name": "DescriptionStyleModel",
      "state": {
       "description_width": "200px"
      }
     },
     "25ca2ce9603a472392dce6f5d9730197": {
      "model_module": "@jupyter-widgets/base",
      "model_module_version": "1.2.0",
      "model_name": "LayoutModel",
      "state": {
       "width": "max-content"
      }
     },
     "25e97021aa184b64a31a674b4ab1a7a3": {
      "model_module": "@jupyter-widgets/controls",
      "model_module_version": "1.5.0",
      "model_name": "VBoxModel",
      "state": {
       "_dom_classes": [
        "widget-interact"
       ],
       "children": [
        "IPY_MODEL_6d9c8aa5b1924b0bad01c03cec63db22",
        "IPY_MODEL_bff5d0ede4b8458191f3b104abbcc757",
        "IPY_MODEL_bd0525feaafe411fa8c696d7ef89b503",
        "IPY_MODEL_327c0a99a6ca4d6b92b6cfe42e047058",
        "IPY_MODEL_50148d9f8e2048628de55257c47ce9f1",
        "IPY_MODEL_cff0877d006f476bbdade1edc5fd6927",
        "IPY_MODEL_f990274ecdc34f558d8f448f53a257c2"
       ],
       "layout": "IPY_MODEL_0e2cac103caa4859add88c0661625186"
      }
     },
     "26c117c787814ae19dc147e5eb71ba08": {
      "model_module": "@jupyter-widgets/base",
      "model_module_version": "1.2.0",
      "model_name": "LayoutModel",
      "state": {
       "width": "600px"
      }
     },
     "26e63bba8dd948cf96847f2f503a377a": {
      "model_module": "@jupyter-widgets/base",
      "model_module_version": "1.2.0",
      "model_name": "LayoutModel",
      "state": {}
     },
     "299e8be154464056b2447aac9326f6e2": {
      "model_module": "@jupyter-widgets/controls",
      "model_module_version": "1.5.0",
      "model_name": "DescriptionStyleModel",
      "state": {
       "description_width": "200px"
      }
     },
     "2ba40fa5e23f4ca9811e5cc0573b1c93": {
      "model_module": "@jupyter-widgets/controls",
      "model_module_version": "1.5.0",
      "model_name": "LabelModel",
      "state": {
       "layout": "IPY_MODEL_62cdd769e8d946de9346c0d90c153de7",
       "style": "IPY_MODEL_eb82b0606f7f4c1cbf3b66d197e0630c",
       "value": "lagging peak amplitudes are (V): [-0.12]"
      }
     },
     "2d65348f3bc84b34b9189c1625dd4623": {
      "model_module": "@jupyter-widgets/controls",
      "model_module_version": "1.5.0",
      "model_name": "DescriptionStyleModel",
      "state": {
       "description_width": "200px"
      }
     },
     "2f25e172515b4ef988908dfa6b758f65": {
      "model_module": "@jupyter-widgets/controls",
      "model_module_version": "1.5.0",
      "model_name": "DescriptionStyleModel",
      "state": {
       "description_width": ""
      }
     },
     "3082cc24ed1e4f4288485636e3eb310f": {
      "model_module": "@jupyter-widgets/base",
      "model_module_version": "1.2.0",
      "model_name": "LayoutModel",
      "state": {}
     },
     "30b623a4f2b84cd98d5064516e8aae36": {
      "model_module": "@jupyter-widgets/base",
      "model_module_version": "1.2.0",
      "model_name": "LayoutModel",
      "state": {}
     },
     "327c0a99a6ca4d6b92b6cfe42e047058": {
      "model_module": "@jupyter-widgets/controls",
      "model_module_version": "1.5.0",
      "model_name": "RadioButtonsModel",
      "state": {
       "_options_labels": [
        "peak",
        "level crossing"
       ],
       "description": "Type of event detection",
       "index": 0,
       "layout": "IPY_MODEL_a524f845612149d1a325801db0c1c1e1",
       "style": "IPY_MODEL_2d65348f3bc84b34b9189c1625dd4623"
      }
     },
     "34def6be0826401ca3d82b4d571e4cb5": {
      "model_module": "@jupyter-widgets/controls",
      "model_module_version": "1.5.0",
      "model_name": "LabelModel",
      "state": {
       "layout": "IPY_MODEL_bbb5d122179248f4aff0903e39868558",
       "style": "IPY_MODEL_12e6acd4161b44979fd2dc2f56a8d7b6",
       "value": "lagging peak times are (ms): [7.85]"
      }
     },
     "368533f6558144108cdc7246655503d9": {
      "model_module": "@jupyter-widgets/base",
      "model_module_version": "1.2.0",
      "model_name": "LayoutModel",
      "state": {}
     },
     "36aecd75a3014f91a6988fc25bca3c36": {
      "model_module": "@jupyter-widgets/controls",
      "model_module_version": "1.5.0",
      "model_name": "DescriptionStyleModel",
      "state": {
       "description_width": ""
      }
     },
     "36f0aa7006af456cb9c9a325a8e74d0a": {
      "model_module": "@jupyter-widgets/base",
      "model_module_version": "1.2.0",
      "model_name": "LayoutModel",
      "state": {
       "width": "600px"
      }
     },
     "383298026fa64ddd99f59551e25e8d5d": {
      "model_module": "@jupyter-widgets/base",
      "model_module_version": "1.2.0",
      "model_name": "LayoutModel",
      "state": {
       "width": "600px"
      }
     },
     "391f9b980c904e2986fc23a62e1f18df": {
      "model_module": "@jupyter-widgets/controls",
      "model_module_version": "1.5.0",
      "model_name": "SelectModel",
      "state": {
       "_options_labels": [
        "0",
        "1",
        "2",
        "3"
       ],
       "description": "Bouts",
       "index": 3,
       "layout": "IPY_MODEL_d7f2d89882a6455297678c369b254a99",
       "style": "IPY_MODEL_ae6a66ce3b0b419bab3b90c96a61de2e"
      }
     },
     "3aa9e1103675422d81beac2c063f4cff": {
      "model_module": "@jupyter-widgets/controls",
      "model_module_version": "1.5.0",
      "model_name": "FloatRangeSliderModel",
      "state": {
       "_model_name": "FloatRangeSliderModel",
       "_view_name": "FloatRangeSliderView",
       "continuous_update": false,
       "description": "window to detect peaks within",
       "layout": "IPY_MODEL_9aa2809baeed4c67b2edb2535184ecf6",
       "max": 0.1,
       "min": -0.01,
       "readout_format": ".4f",
       "step": 0.0001,
       "style": "IPY_MODEL_ec3ac2f4621d413cae641c2c4e6e2d14",
       "value": [
        0.005,
        0.013
       ]
      }
     },
     "3b1ed829996b4afcb26acc23de30bd4a": {
      "model_module": "@jupyter-widgets/base",
      "model_module_version": "1.2.0",
      "model_name": "LayoutModel",
      "state": {}
     },
     "3b57968f2d4149adac70eb0d8791ce98": {
      "model_module": "@jupyter-widgets/base",
      "model_module_version": "1.2.0",
      "model_name": "LayoutModel",
      "state": {
       "width": "600px"
      }
     },
     "3c1f1f1cccb14463b25c0afd9697936b": {
      "model_module": "@jupyter-widgets/controls",
      "model_module_version": "1.5.0",
      "model_name": "SliderStyleModel",
      "state": {
       "description_width": ""
      }
     },
     "3f63f141a48542e8b93e093c5eec5c91": {
      "model_module": "@jupyter-widgets/controls",
      "model_module_version": "1.5.0",
      "model_name": "FloatSliderModel",
      "state": {
       "continuous_update": false,
       "description": "event detection threshold",
       "layout": "IPY_MODEL_04cbabbf0812404e81c13ccf3d4c16e1",
       "max": 2,
       "min": -2,
       "readout_format": ".3f",
       "step": 0.001,
       "style": "IPY_MODEL_76e68c6c729f464f8059f29e22fdc050",
       "value": 0.512
      }
     },
     "3f77e1331cb4457b9c4765cf97d8fb58": {
      "model_module": "@jupyter-widgets/controls",
      "model_module_version": "1.5.0",
      "model_name": "TextModel",
      "state": {
       "description": "min IEI (seconds)",
       "layout": "IPY_MODEL_1945b335b37945f8a5a436b308522c78",
       "placeholder": "0.005",
       "style": "IPY_MODEL_d53987bb5a764f838646de158b050d51",
       "value": "0.005"
      }
     },
     "4280a5875cb144318b9538e72a12f71c": {
      "model_module": "@jupyter-widgets/base",
      "model_module_version": "1.2.0",
      "model_name": "LayoutModel",
      "state": {}
     },
     "4378e916ae9c4b3f9a47a686e08d6f4b": {
      "model_module": "@jupyter-widgets/controls",
      "model_module_version": "1.5.0",
      "model_name": "VBoxModel",
      "state": {
       "children": [
        "IPY_MODEL_cb3323937df5471a8fff45b5048795a0",
        "IPY_MODEL_8c0b75ca0efe4f0d9e28019a671d9b3c",
        "IPY_MODEL_8fa85c250673409a94f2771fa666f671",
        "IPY_MODEL_e975a85ac6724d42aeee2f11375c242c",
        "IPY_MODEL_685be587d2d6411cba1553fd9a56a5fb"
       ],
       "layout": "IPY_MODEL_23d495b1a4f744559af52929d64a8ef3"
      }
     },
     "44ee5df77d3c4515998d4529b4342eba": {
      "model_module": "@jupyter-widgets/controls",
      "model_module_version": "1.5.0",
      "model_name": "FloatRangeSliderModel",
      "state": {
       "_model_name": "FloatRangeSliderModel",
       "_view_name": "FloatRangeSliderView",
       "continuous_update": false,
       "description": "xrange (s)",
       "layout": "IPY_MODEL_7d844f2809934bf3b11a679798a3b6c3",
       "max": 0.05,
       "min": -0.01,
       "readout_format": ".3f",
       "step": 0.0005,
       "style": "IPY_MODEL_3c1f1f1cccb14463b25c0afd9697936b",
       "value": [
        -0.001,
        0.03
       ]
      }
     },
     "46703fb9057a4395a864070a7aa44fa1": {
      "model_module": "@jupyter-widgets/controls",
      "model_module_version": "1.5.0",
      "model_name": "DescriptionStyleModel",
      "state": {
       "description_width": "200px"
      }
     },
     "46ecf11a5b2d4e15999d474a16621cf7": {
      "model_module": "@jupyter-widgets/output",
      "model_module_version": "1.0.0",
      "model_name": "OutputModel",
      "state": {
       "layout": "IPY_MODEL_05856cf167f54e10862f8ae7772e2fbe",
       "outputs": [
        {
         "data": {
          "image/png": "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\n",
          "text/plain": "<Figure size 720x360 with 1 Axes>"
         },
         "metadata": {
          "image/png": {
           "height": 341,
           "width": 701
          },
          "needs_background": "light"
         },
         "output_type": "display_data"
        }
       ]
      }
     },
     "49e8dad27e954bde9a6b45a349fe7aea": {
      "model_module": "@jupyter-widgets/controls",
      "model_module_version": "1.5.0",
      "model_name": "DescriptionStyleModel",
      "state": {
       "description_width": ""
      }
     },
     "4aff309ac87f4fc9abb798987e582775": {
      "model_module": "@jupyter-widgets/base",
      "model_module_version": "1.2.0",
      "model_name": "LayoutModel",
      "state": {}
     },
     "4c42c7ff0fd9400ba01b34ab86ef3aa7": {
      "model_module": "@jupyter-widgets/controls",
      "model_module_version": "1.5.0",
      "model_name": "RadioButtonsModel",
      "state": {
       "_options_labels": [
        "1",
        "-1"
       ],
       "description": "peaks polarity",
       "index": 1,
       "layout": "IPY_MODEL_fba7b04fbf344dfea5e83fe38ba642fe",
       "style": "IPY_MODEL_cd77c40e82994cce8d10a4faafff8de0"
      }
     },
     "4dc5a4da2fe843c8871ff71d3ffa10fe": {
      "model_module": "@jupyter-widgets/base",
      "model_module_version": "1.2.0",
      "model_name": "LayoutModel",
      "state": {
       "width": "max-content"
      }
     },
     "4e5c355cb6784b54b55dac3c1c0dc979": {
      "model_module": "@jupyter-widgets/controls",
      "model_module_version": "1.5.0",
      "model_name": "DescriptionStyleModel",
      "state": {
       "description_width": "200px"
      }
     },
     "4e81c9856e464aa2a7521c0dfc176cb1": {
      "model_module": "@jupyter-widgets/controls",
      "model_module_version": "1.5.0",
      "model_name": "FloatRangeSliderModel",
      "state": {
       "_model_name": "FloatRangeSliderModel",
       "_view_name": "FloatRangeSliderView",
       "continuous_update": false,
       "description": "Time Range (s)",
       "layout": "IPY_MODEL_919fccbf24ec4882b6763b804c3afb55",
       "max": 51.75,
       "step": 0.05,
       "style": "IPY_MODEL_c04f0e1d104a4fada9beac3eb83c1ea5",
       "value": [
        0,
        49.4
       ]
      }
     },
     "4f287ee8f60e4a9181f5d6027c42e9e2": {
      "model_module": "@jupyter-widgets/base",
      "model_module_version": "1.2.0",
      "model_name": "LayoutModel",
      "state": {}
     },
     "50148d9f8e2048628de55257c47ce9f1": {
      "model_module": "@jupyter-widgets/controls",
      "model_module_version": "1.5.0",
      "model_name": "RadioButtonsModel",
      "state": {
       "_options_labels": [
        "1",
        "-1"
       ],
       "description": "peaks polarity",
       "index": 1,
       "layout": "IPY_MODEL_4280a5875cb144318b9538e72a12f71c",
       "style": "IPY_MODEL_d02821c1f8d446d6b03cc1f37a7a43d3"
      }
     },
     "527fa2fb2f9645f2bf6aa0d98e270793": {
      "model_module": "@jupyter-widgets/controls",
      "model_module_version": "1.5.0",
      "model_name": "DescriptionStyleModel",
      "state": {
       "description_width": ""
      }
     },
     "53ec85cff6284f238031d88c0d9f797f": {
      "model_module": "@jupyter-widgets/base",
      "model_module_version": "1.2.0",
      "model_name": "LayoutModel",
      "state": {}
     },
     "547d0a573dc342539de64e3629b49fdd": {
      "model_module": "@jupyter-widgets/controls",
      "model_module_version": "1.5.0",
      "model_name": "DescriptionStyleModel",
      "state": {
       "description_width": "200px"
      }
     },
     "553e553f9421445d8e518058e39327e6": {
      "model_module": "@jupyter-widgets/base",
      "model_module_version": "1.2.0",
      "model_name": "LayoutModel",
      "state": {
       "width": "600px"
      }
     },
     "56939a8d553540218a183b3fa8afd00a": {
      "model_module": "@jupyter-widgets/controls",
      "model_module_version": "1.5.0",
      "model_name": "HBoxModel",
      "state": {
       "children": [
        "IPY_MODEL_b619caba5178465ca5414835f1daf653",
        "IPY_MODEL_d0e92793374d440fbf9e8eff19a59fcb",
        "IPY_MODEL_aa731c42e0034ca99dc62e6529ff3fee"
       ],
       "layout": "IPY_MODEL_e50447acd6d9470685153d4d7c674d9e"
      }
     },
     "56f9e82b7d674ed98298650257992307": {
      "model_module": "@jupyter-widgets/base",
      "model_module_version": "1.2.0",
      "model_name": "LayoutModel",
      "state": {
       "width": "600px"
      }
     },
     "5b39013665ef4934a3b5d09544b3027b": {
      "model_module": "@jupyter-widgets/controls",
      "model_module_version": "1.5.0",
      "model_name": "FloatSliderModel",
      "state": {
       "continuous_update": false,
       "description": "event detection threshold",
       "layout": "IPY_MODEL_f3bbffdc710e4f5895fe6c9ba796b68e",
       "max": 2,
       "min": -2,
       "readout_format": ".3f",
       "step": 0.001,
       "style": "IPY_MODEL_83823e3064254db8b9edeb53534ed95d",
       "value": 1.52
      }
     },
     "5d6fbeebda764787b258dc78d7d6029e": {
      "model_module": "@jupyter-widgets/controls",
      "model_module_version": "1.5.0",
      "model_name": "DescriptionStyleModel",
      "state": {
       "description_width": "200px"
      }
     },
     "5e6fadd432fc41039bd5105b02b6bdc1": {
      "model_module": "@jupyter-widgets/base",
      "model_module_version": "1.2.0",
      "model_name": "LayoutModel",
      "state": {}
     },
     "5f3709a3b73c43108240e06ee9cfa132": {
      "model_module": "@jupyter-widgets/controls",
      "model_module_version": "1.5.0",
      "model_name": "LabelModel",
      "state": {
       "layout": "IPY_MODEL_0a4128b1c2314abdb064c0ba1f15efc2",
       "style": "IPY_MODEL_6f59740cbfef471689cca71edd2469bf",
       "value": "lagging peak amplitudes are (V): [-0.08]"
      }
     },
     "5fdd275878ab43bdbc56cb670af92ab5": {
      "model_module": "@jupyter-widgets/base",
      "model_module_version": "1.2.0",
      "model_name": "LayoutModel",
      "state": {
       "width": "max-content"
      }
     },
     "608f8a3877b4492d82ecb9e87504a83b": {
      "model_module": "@jupyter-widgets/controls",
      "model_module_version": "1.5.0",
      "model_name": "SliderStyleModel",
      "state": {
       "description_width": ""
      }
     },
     "60a58044fbaf4451a9dccd3962508da8": {
      "model_module": "@jupyter-widgets/base",
      "model_module_version": "1.2.0",
      "model_name": "LayoutModel",
      "state": {}
     },
     "60bbd584357c48c39fd6beec30dd7ac8": {
      "model_module": "@jupyter-widgets/controls",
      "model_module_version": "1.5.0",
      "model_name": "LabelModel",
      "state": {
       "layout": "IPY_MODEL_6b86361b11284a4385340d5ef5c8f4b7",
       "style": "IPY_MODEL_0b2b9a561e934926bde8a89649df38a1",
       "value": "lagging peak times are (ms): [7.875]"
      }
     },
     "610dc1284c4c44b48c18b40e73ac585c": {
      "model_module": "@jupyter-widgets/controls",
      "model_module_version": "1.5.0",
      "model_name": "FloatRangeSliderModel",
      "state": {
       "_model_name": "FloatRangeSliderModel",
       "_view_name": "FloatRangeSliderView",
       "continuous_update": false,
       "description": "yrange",
       "layout": "IPY_MODEL_72f67217d6bd45edbfdd94452bee28bb",
       "max": 5,
       "min": -5,
       "step": 0.05,
       "style": "IPY_MODEL_1409f31391ef4e7c9c2a2a29e83510a7",
       "value": [
        -0.5,
        1
       ]
      }
     },
     "62cdd769e8d946de9346c0d90c153de7": {
      "model_module": "@jupyter-widgets/base",
      "model_module_version": "1.2.0",
      "model_name": "LayoutModel",
      "state": {
       "width": "600px"
      }
     },
     "635092a8d4a54c52bc3004280f2705f4": {
      "model_module": "@jupyter-widgets/controls",
      "model_module_version": "1.5.0",
      "model_name": "DescriptionStyleModel",
      "state": {
       "description_width": "200px"
      }
     },
     "6356785b5da64deb83c43693ab6bcf75": {
      "model_module": "@jupyter-widgets/base",
      "model_module_version": "1.2.0",
      "model_name": "LayoutModel",
      "state": {}
     },
     "6605431610b44459857f435e7fcb9abd": {
      "model_module": "@jupyter-widgets/controls",
      "model_module_version": "1.5.0",
      "model_name": "SliderStyleModel",
      "state": {
       "description_width": "250px"
      }
     },
     "67392dfe69a54167a3ecc1aa98fc8a92": {
      "model_module": "@jupyter-widgets/base",
      "model_module_version": "1.2.0",
      "model_name": "LayoutModel",
      "state": {}
     },
     "685be587d2d6411cba1553fd9a56a5fb": {
      "model_module": "@jupyter-widgets/controls",
      "model_module_version": "1.5.0",
      "model_name": "TextModel",
      "state": {
       "description": "minimum interval (s)",
       "layout": "IPY_MODEL_3b1ed829996b4afcb26acc23de30bd4a",
       "placeholder": "0.001",
       "style": "IPY_MODEL_5d6fbeebda764787b258dc78d7d6029e",
       "value": "0.005"
      }
     },
     "69502cdc645945a9bd6b959ed2804cca": {
      "model_module": "@jupyter-widgets/base",
      "model_module_version": "1.2.0",
      "model_name": "LayoutModel",
      "state": {}
     },
     "69e23d191e01470593b8e5f8f8797857": {
      "model_module": "@jupyter-widgets/controls",
      "model_module_version": "1.5.0",
      "model_name": "FloatSliderModel",
      "state": {
       "continuous_update": false,
       "description": "peak detection threshold",
       "layout": "IPY_MODEL_7e28a387e6544b48a1513c54374ac78e",
       "max": 1,
       "readout_format": ".3f",
       "step": 0.001,
       "style": "IPY_MODEL_755cdcfb66b64f0c9742c3a9f1ed7fa3",
       "value": 0.04
      }
     },
     "6b86361b11284a4385340d5ef5c8f4b7": {
      "model_module": "@jupyter-widgets/base",
      "model_module_version": "1.2.0",
      "model_name": "LayoutModel",
      "state": {
       "width": "600px"
      }
     },
     "6c7a679957a94632a02cde855376a10c": {
      "model_module": "@jupyter-widgets/controls",
      "model_module_version": "1.5.0",
      "model_name": "SelectMultipleModel",
      "state": {
       "_options_labels": [
        "0",
        "1",
        "2",
        "3",
        "4",
        "5",
        "6",
        "7",
        "8",
        "9",
        "10",
        "11",
        "12",
        "13",
        "14"
       ],
       "description": "Events",
       "index": [
        0
       ],
       "layout": "IPY_MODEL_843db2ad85d8477daa3a90597db2e7e2",
       "rows": 5,
       "style": "IPY_MODEL_c81f1266b2084c62b1bc304b2d513157"
      }
     },
     "6d9c8aa5b1924b0bad01c03cec63db22": {
      "model_module": "@jupyter-widgets/controls",
      "model_module_version": "1.5.0",
      "model_name": "SelectModel",
      "state": {
       "_options_labels": [
        "0"
       ],
       "description": "Channel used to detect events",
       "index": 0,
       "layout": "IPY_MODEL_3082cc24ed1e4f4288485636e3eb310f",
       "style": "IPY_MODEL_46703fb9057a4395a864070a7aa44fa1"
      }
     },
     "6da8797c289346e2976b8d66e735637e": {
      "model_module": "@jupyter-widgets/base",
      "model_module_version": "1.2.0",
      "model_name": "LayoutModel",
      "state": {
       "width": "600px"
      }
     },
     "6dcd0df1745b42788ec117d581f0a7b8": {
      "model_module": "@jupyter-widgets/base",
      "model_module_version": "1.2.0",
      "model_name": "LayoutModel",
      "state": {
       "width": "600px"
      }
     },
     "6e5a68b9f59b45d2bb80cd08770ee5e6": {
      "model_module": "@jupyter-widgets/base",
      "model_module_version": "1.2.0",
      "model_name": "LayoutModel",
      "state": {}
     },
     "6f59740cbfef471689cca71edd2469bf": {
      "model_module": "@jupyter-widgets/controls",
      "model_module_version": "1.5.0",
      "model_name": "DescriptionStyleModel",
      "state": {
       "description_width": ""
      }
     },
     "70821844dc5b4e69a553ebd3511c4bbc": {
      "model_module": "@jupyter-widgets/output",
      "model_module_version": "1.0.0",
      "model_name": "OutputModel",
      "state": {
       "layout": "IPY_MODEL_d226d47f24db43eb9532acf8f88852a1",
       "outputs": [
        {
         "data": {
          "image/png": "iVBORw0KGgoAAAANSUhEUgAABXwAAAKrCAYAAABC7UVCAAAAOXRFWHRTb2Z0d2FyZQBNYXRwbG90bGliIHZlcnNpb24zLjUuMSwgaHR0cHM6Ly9tYXRwbG90bGliLm9yZy/YYfK9AAAACXBIWXMAABYlAAAWJQFJUiTwAACl20lEQVR4nOzdeXwU9f3H8fc3CQECgSQcIUC4QbmVS1FQEEEErVatB3hfWKz1qNXWqsVaj5/aevWw3mItWqzWKgool1AQEJRL5Ain4T4TCJDr+/uDTJqEHJtkd2d25/X0MY/s7szOfhK+fmfn8/3Md4y1VgAAAAAAAACAyBfjdgAAAAAAAAAAgOAg4QsAAAAAAAAAUYKELwAAAAAAAABECRK+AAAAAAAAABAlSPgCAAAAAAAAQJQg4QsAAAAAAAAAUYKELwAAAAAAAABECRK+AAAAAAAAABAlSPgCAAAAAAAAQJQg4QsAAAAAAAAAUYKELwAAAAAAAABECRK+YWSMeccY847bcQAAAAAAAACITnFuB+AzJ/fp06ePpDFuBwIAAAAAAADA00xN3kSFLwAAAAAAAABECRK+AAAAAAAAABAlSPgCAAAAAAAAQJQg4QsAAAAAAAAAUYKELwAAAAAAAABECRK+AAAAAAAAABAlSPgCAAAAAAAAQJQg4QsAAAAAAAAAUYKELwAAAAAAAABECRK+AAAAAAAAABAlSPgCAAAAAAAAQJQg4QsAAAAAAAAAUYKELwAAAAAAAABECc8mfI0xCcaY840xDxpjPjDGbDbG2KLlwVrue0KJfVW2dArW7wMAAAAAAAAAoRbndgCVGCDp0xB/Rp6kfZWszw/x5wMAAAAAAABA0Hg54StJ+yUtLbE8K6lFEPc/31o7JIj7AwAAAAAAAADXeDnhO9dam1LyBWPMk24FAwAAAAAAAABe59k5fK21BW7HAAAAAAAAAACRxLMJXwAAAAAAAABA9Xh5Sodw6G6MWSmpo6QCSZmSvpT0F2vtN9XZkTFmSQCbnVz9EAEAAAAAAAAgMH6v8G0qqaukHEl1JXWRdLOkJcaY37sZGAAAAAAAAABUl18rfNdJuk/SR5I2WmvzjDHxkoZIelxSX0m/Mcbst9b+IZAdWmv7VrVNURVwnxpHDQAAAAAAAACV8GXC11r7Tjmv5Uqaboz5UsendegvaYIx5lVr7cFwxwgAAAAAAAAA1eX3KR1OYK09KumBoqcNJQ1zMRwAAAAAAAAACBgJ3/ItKPG4g2tRAAAAAAAAAEA1kPAFAAAAAAAo4dChQ8rJyXE7DACoERK+5Tu9xOONrkUBAAAAAADCavny5WrVqpVatWqldevWuR0OAFSb7xK+xhhTxfp4SY8WPT0saUbIgwIAAAAAAJ7w4x//WFlZWTpw4ICuueYat8MBgGrzdMLXGJNsjGnqLPpfvAklXzfGNCzzvgnGGFu0tCuz27OMMV8YY642xrQu8Z46xphzJH0paWDRy7+z1h4IzW8HAAAAAAC8ZsOGDcWPV61a5WIkAFAzcW4HUIVvJLUt5/VfFy2OtyRdH+A+jaRhRYuMMUd0vJK3saQ6RdsUSnrSWvtU9UMGAAAAAAAAAHd4PeEbCisk3avjVbw9JTWVlCQpR9J3kuZKetlau8KtAAEAAAAAAACgJjyd8LXWtqvh+yZImlDBur2S/lDjoAAAAAAAAIAgs9ZKkqq4/RRQJU/P4QsAAAAAAABEu+3bt6tXr146+eSTS80jDdQECV8AAAAAAADARePHj9fKlSu1du1ajR071u1wEOFI+AIAAAAAAAAumjlzZvHjr776ysVIEA1I+AKIOhMnTtTFF1+sBQsWuB0KAAAAgAjmzKkKAJHE0zdtA4Dq2rFjh6677jpJ0kcffcQXNAAAAAAA4CtU+AKIKqtXr3Y7BAAAAAAAANeQ8AUAAAAAAACAKEHCFwAAAAAAAACiBAlfAAAAAAAAAIgSJHwBAAAAVGndunUaNmyYbrzxRuXn57sdDgAAACoQ53YAAAAAALzv0ksv1YoVKyRJffv21e233+5yRAAARA9jjNshIIpQ4QsAAACgSk6yV5I+/fRTFyMBgPCx1rodAgBUGwlfAAAAAIBnZWdn69ixY26HAQBAxCDhCyCqcBkMAD/ZsGGDnn76aa1bt87tUAAgJL766iu1bNlSbdq00bZt29wOBwCAiEDCFwAAIEKNGDFC9913n4YOHcolpwCi0nnnnadDhw5p165dGj9+vNvhAAAQEUj4AgAQBOvWrdPzzz+vzMxMt0OBj2RkZEiSMjMzlZub63I0ABB8WVlZxY9Xr17tYiQAAESOOLcDAAAg0hUUFOjss8/W9u3bNWnSJH311VduhwQAAAAA8CkqfAEAqKUffvhB27dvlyQtXLjQ5WgAAAAAAH5GwheuyMnJcTsEAAAA1BBzRgMAEFzcgBzBRMIXYferX/1KjRo10p133ul2KAAAAAAAVIgBLgCRiIQvwu7//u//VFBQoBdeeEHHjh1zOxwAAAAAAAAgapDwhasKCwvdDgFRhstgAAAAohOVlgAABIaELwAAQBQgEQIAQPAdOXJEixYtcjsMAKgWEr4AAAAAAAAVOO2007Rnzx63wwCAgJHwBQAAAAAAqMSkSZPcDgE+s2vXLrdDQAQj4QsAQC0xdzQAv2EKEQAAQqtTp07KyspyOwxEKBK+AAAAAAAAgIvKFpFkZ2fr+eefdykaRDoSvnAV1SEAAAAAAAAnysnJcTsERCgSvnDVwYMHdcstt+jWW29Vdna22+EAAAAAAAAAES3O7QDgbw899JBee+01SVKjRo30zDPPuBwRIh1zqQLwK66aARDt6OcAAAgMFb5wlZPslcTcNAAAAAAAT2LAAUAkIeELAAAAAAAAAFGChC8AALXEVCIAAAAAAK8g4QsAAACgWri0GQCA4CqviITjLWqKhC8AAAAAAAAARAkSvgAAAAAAAAAQJUj4wjO4VAHBwFyqAPyK4yiAaLdjxw76OgAAAkDCFwAAAADgeYcOHdKgQYNI+sIVtDsAkYSELyJCYWGh2yEAAAAAcNn8+fM1e/Zst8MAAMDTSPjC8yZNmqQmTZpozJgxbocCAOViKhEAAMLnwIEDbocAAGFBZTlqioQvPG/MmDE6cOCAJk2apHnz5rkdDgAAgO9xAgoAAOBdJHwRUbZu3ep2CAAAAAAAAEHFVYMIJhK+CKstW7a4HQIAAAAAAIDnbdmyhatqUCMkfBE2b7zxhtq2bVvh+tp0YkePHtU333xDRwgA8C2OgQAAANHl3Xff1XXXXed2GIhAJHwRNjfeeGNI9mutVb9+/dSnTx/94he/CMlnIHKUvQzm888/V2FhoUvRAAAQnaZPn64JEya4HQZ8igEuuOHgwYNuhwCfevvttzmnRbWR8EXEmzt3rlatWiVJevbZZ12OBl4zYsQIvfXWW26HAZ956623dPToUbfDAICQeuSRR7Rt2za3wwCAsPjtb3+rBx54wO0w4FPM74vqIuGLiFLeaP6RI0dciASRJFTV5UBFrr/+ej399NNuhwEAIbd79263QwCAsHniiSfUuXNnffXVV26HAgCVIuELAEAtlTfi/vDDD7sQCQAAAEJp/fr1Ouuss9wOAwAqRcIXAAAAAAAgQHl5eW6HAACVIuELAAAAAAAAuIh5ehFMJHzhGWXn5923b59uueWWKt+XlZUVqpAAAIgY5557rr755hu3wwCAkPvDH/7ADQMB+Ep59zMCKkPCF55177336tVXX610m2eeeUaXX355mCICAMC7vvrqKw0dOtTtMOAznIDCDfPnz9eVV17pdhjwuWuvvZYbiAPwLM8mfI0xCcaY840xDxpjPjDGbDbG2KLlwSB9Rqox5g/GmDXGmCPGmH3GmLnGmJsMtfSue+ONN054rexJxS9/+ctwhYMIwf+6APzs4MGDbocAAGExd+5ct0OAz7399tv6v//7P7fDAIByeTbhK2mApE8lPSrpx5LaBHPnxpi+klZJukdSF0n5khIlDZL0qqTPjDHxwfxMVO2TTz7RZZddppkzZ7odCgAAAAAAFZo0aZLbIcAnPv/8cxUUFLgdBiKIlxO+krRf0gxJT0u6StKOYOzUGNNY0ieSmkhaLamftTZRUgNJt0vKlXSepOeC8XkIjLVWF154of71r39p2LBhbocDAAGjshwAAABAqIwcOVKPP/6422Eggng54TvXWptirT3XWnuftfZdSceCtO9fSmohKUfSKGvtEkmy1uZaa/8i6eGi7W41xpwUpM8EAAAAAATJmjVr3A4BAMLm4YcfrnojoIhnE77W2lDWql9T9PNda+2mctb/SdIhSbGSxoYwDlTT1Vdfrblz52rbtm0aM2aM2+EAAAAAcMnJJ5+syZMnux0GAITN9u3b3Q4BEcKzCd9QKarYdeYDnlreNtbaw5KcuwAMD0dcCNxZZ52lVq1aMV8SAACAy8reUBcIt8svv9ztEOBju3btoh9E0AQyTVybNm20bNmyMESDSOe7hK+kHiUer6xkO2ddtxDGAgAAAAAAItCBAwd01llnkfRF2OTn5+uKK65wOwxEgDi3A3BByxKPMyvZzlnXyBjT0Fp7qLKdGmOWBPDZJwewDQAAAAAAiADz5s3TnDlzNGTIELdDgU9kZlaWygKO82OFb2KJxzmVbFdyXWKFWwHwlEAugwEAAACAYNm/f7/bIcBHDh06pIKCUN72CtHAjxW+IWGt7VvVNkVVwH3CEA4AIIwYaADgV/n5+W6HAACA7/Tp00dLly5VbGys26HAo/xY4Ztd4nFCJduVXJdd4VYAAACATw0YMEDGGA0ZMkRbtmxxOxwAcMXLL7+sPXv2uB0GfGT58uX65z//6XYY8DA/Jny3lXjcqpLtnHXZVc3fCwAAAPjZnDlzdP3117sdBnwqO5v6HLhr6tSpatasmS6//HJt3brV7XDgEwwyoDJ+TPiuLPG4RyXbOetWhTAWAAAAICrMmjXL7RDgU61atdLOnTvdDgPQ5MmTde2117odBgD4MuG7VpIz5DayvA2MMQ0kDS56+kU4gopm+fn5ev75590OAwAAACH25ptvuh0CfCg7O1u/+MUv3A4DkCTNnj1bhYWFboeBCMR9QRBMvkv4WmutpLeLnl5pjGlXzma3S2ooqVDSO2EKLWpNnDhRd911l9thAAAAIMRuuOEGLViwwO0w4EPbt293OwSgWNeuXZWVleV2GIhy77zzjvbv3+92GPAoTyd8jTHJxpimzqL/xZtQ8nVjTMMy75tgjLFFS7tydv20pJ06fmO2KcaYvkXvizfG/FTSo0XbvWKt/T4kv5yP3H///W6HAAAAgDB5/fXX3Q4BAFy1du1aPfjgg5Vuk5WVpUWLFul4TRpQfQsXLtQVV1zhdhjwKE8nfCV9I2l3iSW96PVfl3n9T9XZqbX2gKQLJe2T1E3S18aYLEmHJP1FUrykzyXdWevfAEBYcRkMAACA/5A0g9fMnz+/wnW5ubk6+eSTddppp2nChAnhCwpR5/PPP9cNN9ygLVu2BLT9v/71L91yyy367rvvQhwZ3Ob1hG/IWGsXS+ou6TlJ6yXVkXRY0n8l3SpppLX2mGsBAgAiBgMNAAC4a9asWfrlL3/pdhhAsSVLlujSSy8tdcn95s2bdfjwYf3jH/8onobkd7/7nVshIkq8+eabuuaaaypcn5+fr8zMTN1zzz267LLL9Oqrr+rcc88NY4RwQ5zbAVTGWtuuhu+bIGlCANvtkHR30QIAAAAAiFDPPPOMrr76avXu3dvtUABJ0gcffKAPPvhAzZo1U3x8vDIzM90OCVHqyy+/1P3336/s7GwtXrxYWVlZuuCCCxQXF6fXX39de/bsKbU9855HP08nfAEAAAAACNQpp5yi559/Xj//+c9VWFiomBjfXtQKD9m9e7fbIcAHnnrqqVLP//jHP7oUCbyAox8AAACAoPnyyy919OhRt8OAj915552aPHmyWrdurb59++of//jHCdVtAABEMxK+CDnmtgTgV9xABoAfrV27ViNGjHA7DPjc5Zdfru3bt2vp0qUaO3ashg4dynEZgKeRO0EwkfAFACBEevbsqX379rkdBnzmL3/5i/Ly8twOAz43d+5cffTRRyosLHQ7FECStHLlSr366qs6fPiwjhw54nY4AACEFAlfAFGFUVF4yapVq7hjOMLu9ttv15tvvul2GIAuvvhitWzZUn/961+Vm5vrdjiAbr31VjVs2FAJCQm67rrr9Pnnn7sdEgAAIUHCFwCAWqpsoGHRokVhjAQ4bvz48W6HAEiSdu7cqfHjx+u1115zOxSglIkTJ2rEiBF6//33ddlll6l9+/aaNWuW22EBABAUcW4HAAAAACC6jR8/Xj/96U/dDgM4wU9+8pPix+eccw7z/AIAogIVvgipf/3rX9q9e7fbYQAAAAAAAAC+QMIXIbN582ZddtllbocBAIDv5Ofnc1MiAAAAwKdI+CJkvvjiC7dDAADXrVy5Un/605/cDgM+1KVLF26UBU95/fXX3Q4BAADAF0j4AgAQYnfccYc2bNjgdhjwmR9++EFvvPGG22EAxW666SZNnz7d7TAAAPCkym4EDVQXCV8AAMJg1apVbocAH8rKynI7BKCU8847j5u3AQAAhBgJXwBRpaJR0cLCwjBHAj9hNB4AAvfSSy+5HQIAAEBUI+ELwBe6dOmi7Oxst8OAj1lr3Q4BAAAAAOADJHwRMlS8wUsyMjI0YcIEt8OAj1100UV67bXX3A4DPsNAA7zqvffe07Fjx9wOAwAAICqR8AXgG2vXrnU7BPjczTff7HYI8Jn7779fH3/8sdthACe48sor9dhjj7kdBgAAQFQi4QsAABDFfvSjH7kdAlCuRx99VM8995zy8/PdDgUAACCqkPAFAADwsW3btmnMmDG6++67Sbwh7O6++269+eabpV7Lzc3VO++8o88++4xpSQAAAGqAhC8A3+CkEQBOdOutt2rSpEl67rnn1KRJE3355ZduhwSfueWWW2SMUceOHfXkk0/qtttu09VXX61Ro0ZpwYIFbocHAEBYcB8kBBMJXwAAwqh///5avXq122EAxaZMmVL8OCsrS2effbaysrJcjAh+tWHDBv3617/WG2+8UfzaT3/6UxcjAgAAiEwkfBEyjE7BDbQ7uKE67e7rr7/WxRdfHLpggHJs2rSpWtt/8803oQkEAAAAQMiR8AUAIMzWrl3rdgjwmfbt2+uGG27Q119/7XYoAAAAAEKMhC8AAC6YOHGi2yHAZ9588031799fixcvdjsUAAAAACFEwheAb3DTNnjJddddp5kzZ7odBnxo7NixxY8rqjZ//PHHNXToUA0bNkwbN24MV2jACTh2AwAAVF+c2wEAAOBXw4YN065du9SsWTO3Q4GPHDt2TJK0efNmde3atdxtpk+fXvx47Nixmj9/flhiAwAAAFB7VPgiZLh5FgBUrWfPnpo3b54KCwvdDgU+c++99wbU7hYsWBCGaAAAAPyNHAqCiYQvAN/49NNP9eijj7odBlDKzp07NXjwYN17770VblNYWEhCGEGzZcsW7d69Wx9//LHboQAAAAAIARK+AHzl4Ycf1s6dO90OA1EmGKPxzz77bKnnBw8e1OrVq/XEE08oPT1dnTp1UkZGRq0/B5Ck5s2bF0/tAHgZc/gCAABUH3P4AogqgSTe9uzZo9TU1DBEA1TPsWPHNHXqVL322mvlVl+OGTNGCxcudCEyAAAAAECkIOELAIBH1KtXr9L1ixYt0vPPP68777wzTBEBAAAAACINUzogZJhwHACC76677tJXX33ldhgAAAAAAI8i4QvAd5gPEJFuypQpbocAAGHBMRsAAKD6SPgC8J3CwkK3QwCAiLJt2za3QwAAAAAQIBK+AHynd+/eevfdd90OAwAiRvv27bVjxw63wwAAAIhaTIuJYCLhC8CXrrrqKo0bN0779u1zOxREgXB/OeMSZ4Rbbm6ufvWrX7kdBgAAAIAAkPBFyDA6Ba97+eWXNWDAAG3ZssXtUADA87Kzs90OAT7EABcAAED1kfAFEFWqO9CQkZGhLl266IcffghRRAAAAAAAAOFDwheA7x07dkzp6em644473A4FADyLSksAAAAgMpDwBYAif/rTnzRt2rRKkxo7duzQ3r17wxgVcCISbwAAAACAipDwBYASRo4cqUceeaTcdf/973+Vnp6u1q1ba82aNWGODAAA/2GACwAAoPpI+CJkuGkbIlV5Cd+cnBwNGjRI+fn5Onr0qE4++WQ9++yzLkQHAAAAAABQsTi3AwAAL5o4caKWL1+uunXr6tChQ3rhhRdO2Oaee+7Rueeeq549e7oQIbyEAS74AZWWAAAAocM5BYKJhC8AlOO6664LaLtFixaR8EXYkXgDAAAAAFSEKR0ARBVGRQEAiB4McAEAAFQfCV8AAAAAAAAAiBIkfBEyVFrCD6g8ghtod3AD7Q4AAACIDCR8AQAAAAAAACBKkPAFAAAAAAAowtWqACIdCV8AqAUucQbgF/R3cAPtDgAAoPpI+AIAUEvhrgIhAQIAAABEFyrLEUwkfBEydFYAAAAAAABAeJHwBRBVGGgAAAAAAAB+RsIXAGqBS+sB+AX9HdxAuwMAAKg+zyd8jTGJxpgJxpgVxphDxpiDxpjFxph7jDHxNdznBGOMDWDpFOzfBwCA2iIBAgAAAACoSJzbAVTGGNNW0mxJ7YpeypFUV1K/ouVqY8wwa+3+Gn5EnqR9lazPr+F+AQAAAAAAACDsPFvha4yJlfSxjid7t0kabq1tIClB0hWSsiSdKumdWnzMfGtti0qWTbX7LQBEOyotAQAAgOjCfUEARDrPJnwl3SCppyQr6RJr7ReSZK0ttNb+U9KtRdudb4wZ5lKMqAQHSQB+QX8HP2CAC26g3QEAAFSflxO+1xX9nGWtXVjO+n9K2lBmWwAAoh4JEAAAACC6UESCYPJkwtcYkyDpjKKnU8vbxh4/251W9HR4OOICgLJIvAEAAAAAAC/x6k3buup/yeiVlWznrGthjGlird1bzc/pboxZKamjpAJJmZK+lPQXa+031dmRMWZJAJudXM34AFQTo6IAAAAAAMDPPFnhK6lliceZlWxXcl1aDT6nqY4nl3Mk1ZXURdLNkpYYY35fg/0BABByVJbDDbQ7uIF2BwAAUH1erfBNLPE4p5LtSq5LrHCrE62TdJ+kjyRttNbmGWPiJQ2R9LikvpJ+Y4zZb639QyA7tNb2rWqboirgPtWIM6JRaQkAAAAAAACEl1cTviFlrX2nnNdyJU03xnyp49M69Jc0wRjzqrX2YLhjBBAZqDwCAAAAAABe4tUpHbJLPE6oZLuS67Ir3KoarLVHJT1Q9LShpGHB2C8AAEAkY4ALAOAXXK0KINJ5NeG7rcTjVpVsV3Ld9iB+/oISjzsEcb8AANQaiTcAfkF/BwAAUH1eTfiullRY9LhHJds563ZYa/eGNiQAOBEnogAAAACA2qKyHMHkyYSvtTZH/6uyHVneNub4/wnnFT39IsghnF7i8cYg79s36KwAAAAAAACA8PJkwrfIW0U/hxpjTitn/U/0v+kWJga6U1NFFtIYEy/p0aKnhyXNCHTfANzHQAMAhAZXNAAAAACRwcsJ3zckrZJkJP3LGDNMkowxMcaYn0h6pWi7adbaz0u+0RgzwRhji5Z2ZfZ7ljHmC2PM1caY1iXeU8cYc46kLyUNLHr5d9baA0H/zQAAqAUSbwD8gv4OAACg+uLcDqAi1tp8Y8yFkmZLaiPpC2NMjo4nqesVbbZM0phq7tpIGla0yBhzRMcreRtLqlO0TaGkJ621T9XmdwAQ/TgRBQAAAAAAXuLZhK8kWWs3GmN6SrpX0iWS2kvKk/SdpEmSXrDW5lZztyuK9jdQUk9JTSUlScop2u9cSS9ba1cE43cAAAAAAAAAgHDxdMJXkqy1WZIeLloCfc8ESRMqWLdX0h+CERsqx1yqAABED65oAAAAACKDl+fwBQDPIwECN9DuAAAAQofiJQCRjoQvAAAAAE9igAsA4BcMNCCYSPgCAACgSiTeAAAAgMhAwhdAVGFUFAAAAAAA+BkJX4QMiTf4ARVvcAPtDgAAAABQERK+AAAAADyJAS4AAIDqI+ELAACAKpF4AwAAACIDCV8AqAUSIHAD7Q4AAAAAUBESvgAAAAAAAEW4Hw3cQLtDMJHwRcjQWQEAAKA2uKIBAACg+kj4AogqDDQAQGiQeAMAAAAiAwlfhMSiRYt0ww03uB0GEHIkQOAG2h0AAAAAoCJxbgeA6HTaaae5HQIAAAAAAADgO1T4AgAAAPAkrmgAAACoPhK+AFALnIgC8Av6OwAAACAykPAFACDCkHgDAAAAAFSEhC8AAAAAAEARY4zbIcCHaHcIJhK+CKqtW7fq+uuvdzsMAAAQZFSWww20OwAAgOqLczsARJdrrrlGc+bMcTsM+Fi4R0U5EQUAAAAAAF5ChS+CimQvAIQeAw0AAAAAgIqQ8EXQrFq1yu0QAAAAAAAAAF8j4YugWLlypXr06OF2GEDYUWkJwC/o7+AG2h0AAED1kfB1wfjx49WvXz999dVXbodSoSNHjui5557T66+/rsLCwlLrjh49qtdee02ffvpp8Ws33XRTuEMEAN8iAQIAAAAAqAg3bQuzgwcP6q9//ask6cwzz1RBQUHA77XWqrCwULGxsbWK4cCBA0pKSqpw/csvv6xx48YVP9+0aZN+/etfKy4uTmPHjtXkyZOL1y1cuFADBgzQ4cOHaxUTAAAAAAAAgNqjwjfMSiZGy1bOVvW+AQMGKD09XQsXLjxh/cyZM/X+++8rPz+/+LWXXnpJl19+uVasWFH82p133qnk5GSNHz9eOTk5euihhzRhwgTt2bNH06dPV4cOHUoleyXp0UcfVe/evfXss8+WSvZK0mmnnaZvv/024N8DiDZUWgIAAADRxRjjdgjwIdodgokK3wjx2GOP6euvv5YkDR06VDk5OcXrFi9erGHDhkk6Pl3ESSedpPvuu0/Hjh2TJE2ePFl/+tOflJGRoRdeeEGS9Ne//lUpKSl67LHHJEmPPPJIpZ+/bt063X///eWu69evn9q2bVu7XxAAAHgaA1wAAABAZCDhGyGWLl1a/PjIkSPFjxcsWKAzzjij+Plf/vKXct//s5/97ITXnGRvbRUUFGjDhg1B2RdQW4yKwg9IvAHwC/o7AACA6mNKhwiWlZVVKtkLAAAAAAAAwN9I+EaoBQsWqGnTpm6HAfgelUcA/IL+DgAAAIgMJHwj1BlnnKG8vDy3wwAAAAAAAAAClpOToyuvvFKjRo1SZmam2+FEJRK+Ljt69KgmT56sjIwMt0MBAEQIKi0B+AX9HQAA0ef3v/+93nvvPX322We6+eab3Q4nKnHTNpfdeOONmjRpkiTpueeeU/PmzbVv3z5dd911atiwYfF2hw8fditEAJXgRBQAAAAAgMC99957xY+nTp3qYiTRi4Svy5xkryTdddddxY83bNigP/zhD5KkMWPGaN68eeEODQAAoBgDXAAAvzDGuB0CfIh2h2BiSgeP+uMf/yhJysjIKJUUBgAAAAAAAKLNnXfeqVNOOUVz5sxxO5SIR4Wvh6WlpalNmzZuhwFEFEZF4QdUWgLwC/o7AAD8YebMmXrhhRckSUOGDOE7QC2R8PWwHTt2aMeOHW6HAaASHIQAAAAAAKidpUuXuh1CVGFKhzDLy8tzOwQAAIBqY4ALAAAAiAwkfMNs7969bocAAAAAAAAAeAbFBcFFwhcAaoGDEtxAuwPgF/R3AABEl9dff10bNmxwO4yoR8IXAAAAAAAAQEht2LBBN910U7nrDh06FOZoohsJXwAAAFSJSksAgF8YY9wOAT7kh3a3aNGiCte98cYbYYwk+pHwBQAgwpB4AwAAABBN8vLy3A4hqpDwBRBVwj0qSuINAIDQ4TgLAED0qOy4zjE/uEj4AgAAoEp8CQcAAEBt8H0yfEj4AgAAAAAAAAgpEr7hQ8IXUYcOBOFEe4MbaHcAAAAAIg1TOoQPCV9Ena+++srtEAAAABAEnPwBABD5Nm/erJdeeknXXHNNwO+59tprtX///kq3KSgo0Hfffcf3hXLEuR0AEGzZ2dluhwAAQNThizQAAACqY9GiRfrrX/+qN998s9Lt9u7de8Jrb7/9tho0aKC+ffvqT3/6k+6++25dd911evHFF/XXv/5VY8aM0YwZMzR79mxJ0sUXX6xBgwapV69eys/PV//+/VWvXj01bNgwBL+Z95HwRdThhNR9x44dU926dd0OA4ha+fn5bocAIAjKO15aa2WMqfa+avo+rzt06FBYP6+yv2O0/o1RWkFBgWJjY6vcju+7lcvPz9fWrVvVvn17t0OpkXD/v37w4EE1btw4rJ+JwFhrlZubW+v/3wM5hoS73RUWFiompmYX/gfy+6xevVqnnXZaQPtr2rRpua+/9NJLxY+vv/56rVixQn/4wx8kSQ899FCpbf/973/r3//+9wn7GDp0qMaOHauxY8eqXr16AcUTDUj4Iupcf/31WrZsmQ4ePKi///3vuuiii9SnTx9J0vLly3XPPfcoPT1dQ4cOVYMGDfTDDz/onHPOUXJyslq3bh3QZxQUFOjw4cNq1KiRrLVatWqVTjrpJNWpUyeUv1q51q1bp6SkJDVr1uyEdWU7YWutCgsLVVBQoPj4+FLbFhQU6IMPPtCOHTu0a9cunXbaaWrbtq26d++umJgY5efnKyYmptwDws6dOxUXF6e5c+fqhRde0Pz58/Xss8/qpz/9qbKystSgQQPFxsbqwIEDWrlypc444wwZY2SMUW5urhYsWKAjR45oxYoVuvHGG9WkSZMKf99jx45p2rRp6tevn1q2bHnC+nAfJBlgCL6jR4/66kBcE5MmTdLrr7/udhi+kZeXV27/bq3Vtm3b1KpVKxei8o68vDx9/fXX6tevX5XHwR9++EF169Yt95gVSmX/DadPn65f/OIXMsaob9++6tChg+rVq6dDhw4pKSlJjRs3Vvv27bVp0yZ99tlnWrx4sY4ePaq2bdtq1KhRWr9+vXbs2KEf//jHiomJ0fvvv69evXrpkUce0Ztvvqn58+dr0KBBOumkk9S7d2+lpKQoKytLSUlJKiws1PTp0zV58mRNmjRJw4YN07/+9S/Fx8dr1apVuvTSS9W0aVP95je/UceOHfXtt99q5MiRWrNmjW6//Xa1b99e77zzjuLi4pSbm6vMzExNnz5dTz75pHr27KkPP/xQ69at0+LFi7VlyxYVFhaqZcuWMsZo1apVxcfk22+/XU2bNtX27dvVpEkTrVmzRk2aNNG2bdu0b98+xcXFafPmzTrrrLPUvn17TZo0Kaz/Zo6cnBzl5eVpzZo1atOmjbKzs5WWlqZNmzZp4sSJuuCCC9SnTx+9+uqrysrKUu/evSVJM2fO1KWXXqp27dpp165dKigo0L59+7R3715NmzZNl19+uVq0aKH58+crNjZWTZo00X/+8x9NmTJFKSkpGjJkiE4//XR1795dffv21R133KFJkybp3nvv1VlnnaXp06crNTVVbdq00RlnnKGGDRuqTp062rp1q373u9+pW7duuvjii7V8+XItWLBAp59+ulJTU3XKKaeoXr16Kiws1LZt27R27Vp1795dS5cu1dNPP61hw4bp3nvv1YEDB/TDDz+ob9++ysvL04wZM9S7d2/t2LFDy5cv1/bt29WvXz916dJFTZo0UUZGhubOnauBAweqbt266tGjhyRp9+7dys/P14oVK9SkSRPt3btXX3/9tRISEnT48GH95Cc/UadOnbR//37FxcVpz549Onz4sKZNm6YrrrhCrVq10t69e7VmzRr96U9/0q5du1SvXj3FxMSoQ4cOGjBggHr37q1evXpp9+7dxX3Bli1b9Prrr6tTp07q06ePJk2apAULFui5557T2WefrV27dik5OVkrV67Utm3btGzZMqWnpystLU2pqan67rvv9MEHH2j79u1hb3P9+vVTTk6ORo0apZ///Od6//33NXfuXGVlZemkk07S6NGj9be//U0zZszQz3/+c11yySVavXq1WrVqpREjRmjZsmWaMWOGvv32Wx09elTdu3fXmWeeqUGDBik+Pl779u1TSkqKJCkmJkYLFy7U3//+d1155ZVq3ry53nvvPe3Zs0f16tVTUlKSjhw5otzcXG3atEmrVq3Stm3b1KFDB61fv16pqakqKCjQaaedpttuu03du3dXUlKSPvnkE33xxRe66qqr1LJlS7Vu3Vq5ubn68ssv1adPH+3evVvbt2/Xli1btHz5cnXs2FFNmjRR8+bNlZmZqUsvvVT169cv9XfZv3+/MjMzi889EhIS1KNHD9WrV095eXnat2+fZs2apaZNmyo/P18/+9nPtGnTJo0cOVJ33HGHRo4cqcLCQi1evFh9+/ZVXFycli5dqj179mjt2rVavny5li9frp///Oe67LLL9Omnn6pOnTpKTk5WmzZttGLFCq1du1abN29W//79ddJJJ6lfv37673//qylTpmjYsGFKTExU3759lZmZqb///e86//zz1aNHDx09elR79uzRp59+qvT0dMXGxmrQoEE6duyYZsyYofz8fI0YMUL5+fmaOnWqGjZsqJycnLC2uz179mjx4sWKiYnRggULFB8fr8OHD6t79+5q1aqVBg4cKEnatm2bWrRoocOHD6tOnTrFf8eNGzdq2rRpKiwsVPPmzXXppZeqQ4cO+v7779W8eXOtWLFCqampOnbsmOrXr6/27durVatWstZq//79+vOf/6y9e/eqRYsWOuOMM9SnTx9Za7V582b16NFD1lqtWLFCbdu21fr161VQUKCMjAwNHjxYjRs3Vr169fTNN9/o008/1YABA4rPNePi4rR8+XKdffbZiomJ0aeffqqDBw/qV7/6lRo1aiTpeBXnzJkzlZCQoISEBMXGxur0009Xx44d1b17d+3cuVO//vWvFRsbq9GjR6tfv37KzMxU165dtWfPHnXq1OmEv2d2drYOHDigtWvXqmXLlurSpYtiY2NVUFCglStX6uDBg4qNjVXbtm3VsmVLzZs3TwsWLNCNN96opk2bauHChVqzZo0mT56sKVOmKDExUbfffrsuu+wytW3bVp9++qneeust3X777Tr99NMlSQ0aNFBCQkLx941169Zp586dOvPMM/Xaa6/p/vvv13XXXac//vGP2rlzp7Zv365Zs2apS5cuGjVqlPLz87V27dpwNLdib7zxhl577TV17dpVv/nNb9S+ffvi8+mCggLNnDlT3bp1K/6ue+DAAd1333367LPPdPDgQV1wwQV65513Sp2D/+c//9G9996rCy+8UH/84x+DHrOT7K2OWbNmadasWfrwww/13HPPldtmpOPf7deuXavOnTvXOBHuJYZkRfgYY5ZI6uN2HH7QrVs3bd26tXh6hyFDhig7O1tLliyp9H2///3vdfDgQX300Uc666yz1KtXL23fvl1ZWVkqLCxUt27dZK3Vgw8+qGPHjumnP/2pli5dqi+//FLNmzfXc889p9GjRysuLk5z5szRnj17NGfOHI0ePVpt2rTRwYMHlZWVpYKCArVv3167du3SmjVrtGLFCt13333q0KGDfvjhBxljNGvWLO3atUuZmZlq3769mjZtquzsbC1btkzLly/XAw88oPz8fP34xz+WJD311FMaMmSItm7dqqZNm2rmzJl64403lJCQoOuvv14ffvihFi5cKElq3ry5Hn74YTVq1EhTpkxRnz599OWXX2rKlCkn/E0SEhJ00UUX6d///reOHDmilJQUnX766RoyZIimTJmiOXPmVPnv0bJlSz3zzDMaN25c8b9Jy5YtdeGFF+qVV15RYWFh8bZ169bV448/rrVr12rfvn3Kz89X9+7d1bJlS40dO1YPPPCA/vznPys+Pl7//Oc/NXToUG3evFnPPvusmjdvrquvvlo9e/YMrKEEwZAhQ/Tyyy9r69atatasmVJSUooPiIWFhTp8+LAOHTqkFi1aFB8IrbXas2ePnnjiCR06dEhPPvmkUlJSlJOTo1dffVXz5s1T7969dfLJJ6tp06bq3r27mjZtKmutjhw5otjYWMXGxionJ0eJiYnat2+fmjRpotzcXE2ePFmHDx/W1q1bdd5552ngwIF65JFHtGvXLv3ud79T8+bNSw0EbNu2TRs3btQHH3ygxMRENWrUSKNGjVJiYqJ27NihjIwMTZ8+XQMGDNCgQYO0du1aLV68WAUFBdqyZYs2bdqk888/Xw899JAyMzOVmZmp/v37q6CgQHPnztUpp5yi/fv3KzY2Vnv37lWfPn1UUFCgBQsWqG/fvsUnE3l5efrkk0/09ttv6+OPP9bll1+u2267TV26dJEkxcfHq3HjxtqwYYPq1aun9evXa8CAAYqLi9OhQ4d07NgxzZo1S6NHj1Z8fLxeffVVHT16VEePHtXw4cN12mmnacWKFdq5c6c6d+6slJSU4i+ZhYWFeueddzRjxgzNnTtXffv21Z///OfihNS2bdtkrVWrVq303HPP6fnnn9d5552nM888U4cOHdKOHTu0bNkyffTRR2Frd047cuzcuVOvvfaaunfvLmOMhg0bJmutZs6cqZSUFA0aNKh42+XLl2vnzp069dRTtWfPHr3zzjvasGGD9u3bpxtuuEE9e/ZUQUGBWrVqpeTkZL3xxhuaN2+e7r///uJ/D+l4EiYhIeGEygDnbzF06FDFx8erf//+xQM81lrt27dPCQkJOnToUKmkX05Ojr777jv17dtXkjR37lwlJSVp5cqVGjZsmFJTUyUdH/T55JNP1KNHDzVt2lRNmjSRtVaLFi1Sfn6+Nm7cqP79+6tdu3bauHGjNmzYoPPOO08FBQWaPn26GjdurOXLl2vQoEEyxqhjx45asGCBnn76aV1++eW66aabZK2VtVY5OTl6/vnn9eijj+rUU0/VVVddpauuukqNGzfWsWPHdMcdd+itt97S9ddfr9dee02ffPKJsrOztWfPHp1++uk67bTTdOzYMW3ZskUTJ05Uw4YN1b9/f/Xp00f169fX5s2btW3bNp122mmKj4/XypUr1bVrV1lrVadOHeXn52vdunVq0aKFtm7dqmnTpmnOnDl69NFH1bdvX2VkZFT4hTVUtm/frtTUVC1evFh79+5VZmamHnjgAe3evVsjRozQ1KlTNX/+fMXExKhevXrFx8P58+frww8/1NGjR1W3bl0tX75c//nPfzRx4kQ99NBD6tmzp26//XalpqbqzTffVGxsrDZv3qw9e/Zo/fr1WrNmjVq3bq3U1FQNHjxYycnJOnr0qAoKCpSVlaV69epp7ty5GjJkiBo1aqTCwkJt2bJFzz33nN5//33t3r1bubm5atWqlfLy8rRr166w/t0Cccopp+jbb78NaNu4uDglJiZWOa+dX8TExJT6LuGG2NhYJSUllXtJqhuchEi4Eqa33nqrXn755bB8lpfFxcVV6yqc5s2be7I/kqQuXbqoVatW2rJli44eParMzEy3QzpBYmIi0/nVwtChQzVr1qwqt6tXr56OHj0a9M9v3ry59u/fr7y8vFrva8SIERo6dKhatGih5cuX69lnn63Rfnr27KlTTz1VEydOrFU8qamp2rlzpySpd+/eWrZsWfG6Cy64QJ988kmt9h9K3bp1U2pqanHbaNCggb788ktNnjxZTz755Anb/+pXv9Lvfvc7xcXF6b///a8GDx4c7pCrJSYmRosXL9app54qY0xxQVydOnV044036o033pAkXX311Ro2bJhiY2M1Z84c9e/fXyNHjtQLL7ygJUuW6Ec/+pHatm2rNWvW6Mwzz9TZZ58dyrBrVtXmnNSwhH6RtESSZWFhie4lNja2wnWpqaknvHbmmWfa8ePHV7rPJk2aBCW2Jk2a2OTkZJuYmGhPOumkoP3OTz/9tK1Tp06139e3b187aNAgV/6drrrqKjtgwIAK1/fr18/eddddxc+7dOniSpwVLR07drRpaWkBxTVy5Eh79tlnV/szGjVqVOp548aNbcuWLSvcPiEhodzX27RpY5988knbqVOnE9Y1a9bMnnnmmVXGMmrUKHv//ffbNm3alHr9jDPOsGPGjKn0vfHx8QH/zunp6TX690hKSjrhtTPOOCOk//6hbF81XW666aawfE7nzp3LfX3gwIE2IyPDtm/f3vW/BQsLCwsLCwuLX5a2bdu6HkN1l5LfF8s7T6/OMmrUKDtz5ky7efNmGwI1ykF6vsLXGJMo6ReSLpXUXlKBpLWSJkn6k7U2txb7TpV0n6QLJLWRdETSKklvSnrdBvmPQ4UvAAAAAAAAEL3Gjh2rV199Vf/3f/+nSZMm6bHHHtOll15a7rZLly7VwYMHNWTIkOIrcadNm6avvvpK48aNU4sWLWpU4evphK8xpq2k2ZLaFb2UIylWkjNb9jeShllr99dg330lTZPkTBZ6SFI9/W9e42mSflSbhHI5n0nCFwAAAAAAAPCRiy66SImJiUpISFBiYqK+++47ffbZZ8Xr33vvPaWnp+vhhx/WF198IUk6//zz9emnn0ZXwtcYE6vjCd2ekrZJus5a+4UxJkbSZZJekdRI0mfW2lHV3HdjSd9LaiFptaRrrLVLjDHxkm6W9KykeEl/tdaOD+LvRMIXAAAAAAAAQJWstTVK+Hr5tnM36Hiy10q6xFr7hSRZawuttf+UdGvRducbY4ZVc9+/1PFkb46kUdbaJUX7zrXW/kXSw0Xb3WqMOamWvwcAAAAAAAAAhIWXE77XFf2cZa1dWM76f0raUGbbQF1T9PNda+2mctb/SceneIiVNLaa+wYAAAAAAAAAV3gy4WuMSZB0RtHTqeVtU3RDtWlFT4dXY98n6fgN2irb92FJc6u7bwAAAAAAAABwkycTvpK66n+xraxkO2ddC2NMk0q2K6lHOe+vbN/dAtwvAAAAAAAAALgqzu0AKtCyxOPMSrYruS5N0t4Q7LuRMaahtfZQZTstuiFbVU4OYBsAAAAAAAAAqBGvVvgmlnicU8l2JdclVrhV+PYNAAAAAAAAAK7xaoVvxLHW9q1qm6Iq4D5hCAcAAAAAAACAD3m1wje7xOOESrYruS67wq3Ct28AAAAAAAAAcI1XE77bSjxuVcl2JddtD9G+s6uavxcAAAAAAAAAvMCrCd/VkgqLHveoZDtn3Q5rbSA3bJOkleW8v7J9rwpwvwAAAAAAAADgKk8mfK21OZIWFD0dWd42xhgj6byip19UY/drJW2tYt8NJA2uwb4BAAAAAAAAwDWeTPgWeavo51BjzGnlrP+JpA5FjycGulNrrZX0dtHTK40x7crZ7HZJDXW8yvidQPcNAAAAAAAA+NVtt92me++9V2lpaXriiSf07bffav/+/crNzdUHH3wQ8H4effTR4seDBg0KRagn6NChwwmvNWnSRGeccYa6du1a6vWf/OQnuvnmm9W5c+cK95eSkqLFixfrrrvuqlE8t9xyS43eJ0my1npykRSn49MvWEk/SBpW9HqMjid7Dxatm1rOeycUrbOS2pWzPknSjqL1qyT1LXo9XtJPJR0rWvdSkH+nJSXiYmFhYWFhYWFhYWHx0PLII4+4HkM4lri4ONdjiPSladOmrsfg9SU9Pb3W77/zzjtd/z1Yar40a9bMDhgwwEqy8fHxNi0tLayf36ZNm5Dtu0OHDq7/fb24XH755TYnJ8daa21hYaEt64MPPgh4X9Zam5mZaXNzc21hYaEdO3as7dKlywnb3XnnnXb27Nn26quvDmi/jz/+uF22bJmdM2eO/dnPfmb79Olju3btaseNG2cLCgrs3r177Zdffmk///xzO3XqVFtQUFAc/65du+z8+fNP+N0KCwvt6tWr7aeffmrz8vJsVlaWnThxos3IyCjeZuvWrfaqq64qFctTTz1lFy1aZNu1a1f8Wnx8vL377rvtSy+9ZA8cOGBrmoM0RYlITzLGtJc0W1KbopdydDzhW6/o+TJJ51hr95V53wRJvy162t5au6mcffeXNFVSStFL2UX7rVP0/HNJF1prjwXhV3E+c4mkPsHaH+BVvXv31rJly9wOAwCAajnppJN06NAh7du3T2lpabryyit1wQUXKDk5WTk5OUpKStKyZcv0yCOPaOXKlRo0aJB+9KMfyRijBQsWaOHChWrTpo169uyptWvXKjY2Vt26dVPTpk2VlZWlDz74QHl5ebr88ss1cuRIderUSe+//77eeustZWRk6NRTT9Uzzzyjr776Sr/61a909OhRNWnSRHv37lV6eroSEhK0ceNGJScna+fOnerVq5euvvpqDRw4UMYYzZw5UxMnTlRKSop69eqlY8eOac+ePTpw4ICGDRum22+/Xddcc41mzZql1NRU9ezZU+3bt1d8fLz27t2rd955R3FxcRozZox69eqlb7/9VieffLKaNm2qbt266ayzznL7n6jYbbfdprPPPlv33Xeftm7dqrp162rcuHG66aabtGDBAr3wwgsaOHCgevfureXLl6t+/fq6/vrr1a5dOy1dulTfffedvv32WyUnJ2vr1q1avXq1zjvvPD3zzDOaMmWK1q9frxtvvFGfffaZ7r77bp1zzjkaM2aMGjVqpF27dslaq/T0dBUWFmrx4sX6z3/+o1WrVqljx466+eab1aRJE82cOVOXXXaZ2rdvrxYtWignJ0cffPCB0tLStG3bNo0YMUJHjx7V888/r3r16umuu+5SZmamPvroI40dO1YtW7bUlClTtHfvXq1Zs0b16tVTfn6+br75ZsXExOihhx7SgQMH1K5dOw0fPlzNmjXT559/rr///e/avHmzOnbsqI8//liHDx/WokWL1KpVKzVo0EDDhg2TMUaFhYUaO3as5s+fr969e6tTp07Kz89Xy5YtFRcXpw4dOig3N1ennHKKkpOTtX79evXq1UvGGL366qvavHmzunbtql27dmn27NmqX7++0tPTlZ6ertTUVF199dWqU6eOVq1apQ4dOmjr1q3at2+fdu3apXXr1qlRo0Y6ePCgevXqpaNHj2rUqFFatWqVHn74YSUnJ6t9+/Y6fPiwnnnmmbC3L+f/+a5du+qqq65Su3bt9O9//1tHjhxRjx49NHLkSJ155pnKzs5WVlaWkpOT9fjjj+uxxx5Tt27d9Jvf/Eb9+/eXtVbZ2dlq2LChFi1apF69emnXrl1q1KiRVq1apf/85z9q2bKlevbsqa5du+rgwYNKT0+XJK1cuVLdunXTgQMHtG/fPm3atEnDhw9XbGysPv30Uw0dOlSnnnqqrr/+emVmZuqee+5R3759tWLFCg0cOFANGjTQK6+8os2bN6tevXrq06eP+vfvr0mTJmnOnDm6+eab1aNHD8XExCgnJ0dTpkzRiBEjFBMTo/Xr1+uHH37Q999/r9zcXOXn5+uSSy5R06ZNtXr1aiUlJemss86StVb//e9/9f3332vfvn26//77lZOTo7///e8aOXKkTjnlFL399tvav3+/TjrpJBljNGfOHF1yySXq3bu3vv/+e+Xl5alPn+OnyLt371ZycrL27t2r5s2b6/gsjtIPP/ygzz77TO+++6727NmjsWPHqkGDBvrss880aNAg9e7dW+ecc4527NihBx98UGlpabrgggs0ZcoUzZgxQ48//rjOOeccxcbGSpLWrVun5ORkfffddxo8eLAKCgo0ZcoUde3aVYcPH1Z+fr5OO628i4xD7/TTT9edd96pQ4cOKSMjQ507d9a2bds0Y8YMnX322frRj36kb775RnPnztXmzZvVuXNn3XfffZoxY4YmT56sCy64QCeffLIGDBig7Oxsvf/++zr77LNVp06d4v9/d+/erZiYGH3xxRfKy8vT2rVrddFFF6lZs2bKzs5Wenq6tmzZom7dumnNmjUaOnSodu7cKen4/xt33HGHBg8erLi4OBljlJycrJ49e0qStm/fro8++kiZmZn6xS9+oeTk5OLfLS8vT3Xq1NHBgwf1t7/9TV26dNG5556r7du3a8mSJbrooou0ZcsWPfzww2rdurW6deumQYMGKScnR3v27FF8fLzOOOMM5ebmasGCBRo8eLDq1KmjqVOnqrCwUJs2bdLGjRu1evVq3X///Ro0aJBiY2M1Y8YMPfHEE7r88st14YUXqkWLFiosLCzuhxYuXKghQ4ZozZo1GjhwoCRp8uTJuuiii7RkyRI1btxYa9euLT4Od+zYUXXqHE8bbd68WZs2bVLDhg3VuHFj7d+/X4WFhZo3b57OPvts5eTkaNasWUpJSVFqaqp++ctfasuWLRo6dKiuuuoq7d69W998842+++47jRkzRg8++GCYW1zNXXTRRXr77beVkJAgScrJyVFiYmKV7/vggw906aWXBvQZleUrCwoKdOjQITVq1Ki4rzhy5IhefvllpaSk6KyzzlLjxo21dOnS4vaamZmppKQkNWzYMKDPD5XZs2frqaee0hVXXKHrrrtOkrRr1y794Q9/UNeuXXX99deXfYupyed4OuErScaYRpLulXSJpPaSCiStkzRJ0gvW2txy3jNBVSR8i7ZrIel+SRdIai3pqI5X/L4l6TVrbWF576vF70LCF2GXlJSkpKQkDR8+XOeee64SExP1i1/8QqtXrz5h2wsvvFDjxo3TkCFDVKdOHc2YMUNXXHGFsrOzlZaWprvvvlt33HGHjhw5olmzZumll15SRkaG+vfvr4EDByo1NVWDBw9Wq1atlJOTo71792rq1KlKSkpSTk6Ohg0bppSUFN1111165ZVXJEmNGzfW4sWLdfDgQS1cuFCHDx/WU089pb17A70PY/SpV6+ejh49Wu66rl27qm/fvlq/fr2+/vprnXrqqbr//vt15513KjMzs3i7Nm3aaMuWLerYsaMGDx6stWvXav78+RV+5pVXXqlPPvlEhw4dKn6te/fuuuCCC/T1119rxowZxa8PHDhQCQkJSkhIUL169TR58uSAf7fBgwerc+fO2rVrlz755JMT1g8cOFCdOnXSkSNHVL9+fd1xxx165ZVXittLs2bNtHv37nL33bx5c+3atavUa+PGjdOHH354wuvliYmJ0dVXX62JE6ueJejMM89U7969tWDBAh05ckRJSUn66quvqnyfF/Xt21dLliw54fWmTZuqSZMmWrNmjRITE9W2bVvFx8dr48aN2r9/f7n7io2NVUpKinr37q3MzEzVq1dPeXl5WrlyZbnb18batWv1/vvv64EHHih+LTExUQ0bNtT27durvb/Ro0drxYoV2r17t44cOVJqXUxMjPr166dzzjlHKSkpevXVV7V27VrFx8frvffe07PPPqsvv/yywn137dpVbdu21dSpU0u9np6erksvvVTPPfdcwHG2adNGBw8eVN26dVWvXj1t2bKlWr9nJLvhhht08OBBffnll9qzZ0+t9tW1a1fNnj1b+/bt02effaaf/OQnSk5OVoMGDSRJ+fn5iouLq/D91lodOnQooBOb8t7rnJhUJjc3V/Hx8eVuH+g+KlJYWKiYmBNndsvPz9fhw4fVuHHjct9Xm8+sjS+//FJHjhxRZmam9u7dq9tuu634ZK2wsFDbt29Xq1atQvb5tf17u+HAgQNKTEwsTnBFsnD/7fPy8ir9/78yO3fuLJWoROQK979hZmamWrRoUW7f7Lbc3FzFxMQoNze3OLkXrVatWqW8vDydcsopIdl/VccsN/qO+vXr68iRI0pMTFR2dnal2954443as2eP2rdvryeeeEL169ev9ucFK+HrM9GZ8I0mxpgl6enpfW666SZNmDDB7XB8q1GjRrr77rslSY888oiMMRo/frxGjx6tWbNm6emnn672Pk8//XTt3r1bmZmZJyTqYmJiZK0trmKQjic5zz//fF188cVasmSJli9frqZNmyo/P1+7du1SSkqKOnfurIULF+rIkSPFFbOLFy9W586ddcMNN+j++++XJLVq1UqNGjXShg0bdOzYMfXv31+SdMopp+ixxx5Ts2bNToj30KFD+sc//qHu3bvrzDPPVF5ennbu3KnWrVufsG1WVpYyMzNPmK8mGJYtW6Y2bdqUGvmVjo/WzZo1S927d1daWpo++eQT/eY3v9Hy5cslSf/617/07rvvFicaGzRooL/97W866aSTNGbMGK1bty7osVbmpJNOUrNmzfTggw8qKSlJ//jHP9SkSRNZa3XttdeqoKBAjz/+uA4ePKhmzZrpsssu07nnnqsdO3bo6NGjyszMVGJiohYvXqzzzz9fLVu21KZNmyRJ7dq1U15enpYsWaJ+/fqVOgE5fPhwcXKioKBAOTk5qlu3ruLi4k74smit1aJFi9SyZUu1bt1ac+fO1Zw5c3TNNdeoefPmSkhIUGFhob799lulp6crIyNDp512WvGXDmuttm/frpYtW5b7Nzhw4ICSkpK0adMm3XbbbWrQoIEuvfRSDRkyRGlpaSosLFRubm6pLwVz587V7NmzdcYZZygxMVH9+/cv90uOUxHVu3dv9ezZUwUFBTp48KBSUlJkrdWKFSvUuXNn1a9fX99++602btyofv36qXHjxmrUqFFxfNLxUfh///vfatOmjX784x8rKSlJBQUFKigoUH5+vhISEnTw4EFNmzZNu3bt0vfff69f/OIXaty4sV5//XX16dNHQ4cOPSHOjRs3ljvfUzg8//zzuuOOO7Rx40alp6fr8OHDWrx4sdatW6cRI0aoXr16+uKLL9SqVSv98MMPGjBggPLz89WqVSslJiaqbt26Onr0qFauXKnJkycrKytLjz32mFJSUoo/o2Syw1qrnTt3asqUKdq0aZO2bdumcePGqVOnTqXeU9LixYv1xBNP6Mwzz1T37t115MgR7d69Wz179tSqVav06quvasyYMfr5z3+u5cuXa8OGDVqyZIlOPvlkjRkzRrNmzdI///lPTZo0SSkpKfr888/VqVMnSdJzzz2nJUuW6Le//W3xa++++67eeust3XXXXerQoYOuuOIKWWt19dVXa/DgwcrOztZZZ52lOnXqaN26dUpJSVGTJk1K/a7WWi1dulStW7c+4eTdWqt58+apS5cuSk1NlXT8/8HY2FgVFhZq7ty56tSpkzIyMjRw4MDiKpAlS5YU98tpaWm67rrr1KpVK73//vtq2bKlzjzzTK1cuVKzZs1S165dVadOHQ0dOlSxsbHatGmT2rZte0LbC/eJwYABA7Ry5Ur96le/Us+ePfXWW2/plFNO0QMPPKDevXtrzZo1GjNmjG644QbFxsaqffv2Wrt2rbp3765du3apd+/eeu6553TPPfdowIABmjVrlj788ENt2rRJt99+uw4dOqSJEyfqu+++05YtW9S2bVv16NFD48ePL1WNceTIEd1zzz2aM2eOjhw5osaNG2vgwIF66aWXJEn9+/fXtddeq6FDh+rbb7/VO++8o/bt2ys9PV233HKLUlJSSMjUgFt/M85X/C3c7Y72Bin87e7QoUPF3+vhX+Fudzt27Cj+Luv0fU7hVn5+vtq3b6/s7GzNnDlTw4YNq9FAd1n/+te/dNlllwW0Lf1xMRK+XmeMWdKnT58+S5YsUc+ePUNS8YTjzjnnHPXt21fdu3fX0KFDFRMTo3nz5unIkSPFl5dJxytZdu/erbS0tOL3fvvtt3r//fclHR+Bu+uuu5SYmKiPP/64+NKsxo0ba9euXTrppJNOSKz997//1ebNm7Vnzx517txZ559/fvG6wsJCFRYW1rhqwLkkzBijzMxMbd++XX379pUxprgSKFoVFBToP//5jxo2bKhzzz1Xxhjt27dPSUlJOnLkSPEXpBkzZujcc88Na2z0o3Aj4btnzx5t27at+BI6PygsLJS1Nioq1oLFjURIRcebgoIC7du3r9yBxrJ27dqlZs2aBT3+wsJCHTx48ISBRAQHCV+4gYQv3BDudpefn8/3GxQXi4XLgQMHKryqJ1Tef/99/eQnPwloW/rjYiR8va5kwve7777T2WefXetLEnGiFStWqEePHm6HAZeQ8IUb3Ej40u4gkQhBeJHwhRvo5+AG2h3c0LBhQx0+fDhsn7d//34lJSWF7fMkEr41VKMOyXsTxPhEt27dtHXrVr366qvF8/Dde++9+tGPfuR2aAAAAAAAAIhihYVBvW1VQEjihg8JXxfVq1dPN910k/bu3aucnBw9/fTT+uijj7R69Wp16dKl1Lbt2rVzJ8gIxJx8AAAAAAAAFXMj+epMr1nStddeG/Y4/ICErwc0aNCgVJLy5JNP1vfff69p06bplFNO0YMPPqju3bu7GCGAiqSnp7sdAgAAAAAA1eJGhe/o0aNL3Qj8lltu0R//+Mewx+EHNbtzFELOGKMRI0ZoxIgRko7/TwHAe37961+7HQJ8qHXr1m6HAAAAACCCuZHwrVOnjpYtW6YlS5bonHPOKbfiF8FBwjdCuPE/IoCq1a9f3+0Q4ENc9gQ3nHfeeW6HAABAVLLWMjUhws6tPFPTpk35XhkGTOkQIZxKXwAA4uIYr0X4NWrUyO0Q4EO9e/d2OwQAAKIShYXRjYRvhPjZz36mK6+8stRrb775prZs2aJ3331Xhw4d0vr163XxxRdXup++ffvqnnvuKX5++eWXc0M4AAAAeBIVbwD8gMQb3ODGTdsQPpQIRYg6depo0qRJeu655/Tggw8qLS1N11xzjWJiYnTFFVdIkjp27KgPP/xQc+fO1YsvvqjLLrtMvXr1UmpqqvLy8tSsWbPiL80jRozQ0qVLdcstt2j37t169NFHtW7dOhUWFmrp0qVq0aKFJk2apKFDh1YYU/PmzfXss89q7NixYfkbAAAAAAAQbWJjY90OAT6UkpLidggIIRK+ESY1NVWvvPJKpdsMHjxYgwcPrnSb8847r3jOlKZNm+of//hHqfWFhYWKiYnRo48+qoceeqjUuuuuu06//OUv1alTJ82aNasGv0VocTMjAAAAAACAiiUkJLgdAkKIKR1QrpiY403jwQcf1Pr16zVs2DBJ0n333ac333xT3bt3V926dT156Unjxo3dDgEAAAAAAAA14OSgUHNU+KJKHTt21Oeff67MzMwTqmfLzvnSvXt3rVq1KpzhAQAAAAAAIArccMMN+v3vf+92GBGPCl8ExBhT7lQJZRO+ixcv1gMPPBCusADXcTMZAAAAAACC4/e//71atmzpdhgRj4QvaqVr166lntevX18DBgxwKRoAAAAAAABEKoqqgoOEL2qlY8eO+uMf/6izzz7bkzdwAwAAAAAAQGQg4RsczOGLWrv77rt19913ux0GAAAAAAAAIhgJ3+CgwhdB17BhQ7dDAAAAAAAAQISpV6+e2yFEBRK+CLqhQ4eqR48ebocBAAAAAAAAj/vNb36jmJgYjRs3To0bN3Y7nKhAwhdBFxMToyVLluiuu+5yOxQAAAAAAAB42O9//3tlZWXppZdecjuUqEHCFyERHx+vrl27uh0GAAAAAAAAPK5BgwZuhxBVSPgCAAAAAAAAQJQg4QsAAIAqccdkAAAAIDKQ8AUAAAAAAACAKEHCFwAAAAAAAACiBAlfAAAAAAAAAIgSJHwBAAAAAAAAIEqQ8AUAAAAAAACAKEHCFwAAAAAAAACiBAlfAAAAAAAAAIgSJHwBAAAAAAAAIEqQ8AUAAAAAAACAKEHCFyFjrXU7BAAAAAAAAMBXSPgCAAAAAAAAQJQg4QsAAAAAAAAAUYKELwAAAAAAAABECRK+AAAAAAAAABAlSPgCAAAAAAAAQJQg4QsAAAAAAAAAUYKELwAAAAAAAABECRK+AAAAAAAAABAlSPgCAAAAAAAAQJQg4QsAAAAAAAAAUYKELwAAAAAAAABECRK+AAAAAAAAABAlSPgCAAAAAAAAQJQg4QsAAAAAAAAAUYKELwAAAAAAAABECRK+AAAAAAAAABAlSPgCAAAAAAAAQJQg4QsAAAAAAAAAUYKELwAAAAAAAABECRK+AAAAAAAAABAlPJ3wNcakGmP+YIxZY4w5YozZZ4yZa4y5yRhjarHfN40xNoAlLpi/DwAAAAAAAACEkmcTmsaYvpKmSWpS9NIhSYmSBhUtPzHG/Mham1uLjzkq6WAl620t9g0AAAAAAAAAYeXJCl9jTGNJn+h4sne1pH7W2kRJDSTdLilX0nmSnqvlR71nrW1RyVJQy/0DAHzAWsYHAQAAAADe4MmEr6RfSmohKUfSKGvtEkmy1uZaa/8i6eGi7W41xpzkUowAAAAAAAAA4CleTfheU/TzXWvtpnLW/0nHp3iIlTQ2XEEBAAAAAAAAgJd5LuFbVLHbpujp1PK2sdYeljS36OnwcMQFAAAAAAAAAF7nxZu29SjxeGUl262UdL6kbrX4rGHGmLU6nmDOlbRZ0gxJf7bWrqvOjowxSwLY7OTqhwgAAAAAAAAAgfFcha+kliUeZ1aynbOukTGmYQ0/q7WkDjo+V3CCjieb75S00hjz0xruEwAAAAAAAABcYbx2Z3FjzAOSHit6Wsdam1/BdrdIernoaUtr7fZqfMbPJRVI+kTSD9baAmNMgqSRkp6S1LFo059Ya9+vwa9R0ecuSeuc1mf72MBCvaXPLXr5wpdLvXbrx7fqlaWvBPT+3579W00YMqHUaxdOulCfrP0koPf/7YK/6da+t5Z6re/LfbV0+9KA3j8+abz+ctdfSr/4C0mJAb1d+puksn+qCQG+V1LmPZlqmfi/8YNt2dvU6o+tAn6//W3p/zeWbFuifq/0C+i9aQ3TtO0X20q99vGaj/Wjd38U0Pv7pPXRkltLF42/vORljftkXEDvv6DLBfr4qo9LvTZh9gQ9MueRgN4f6W1P/5C0tsxrtL2A3k/bo+2VRNuj7QWKtkfbK4W2F9D7aXu0vZJoe7S9QNH2aHul1KLtWWtlHjEBvpm251bbs7+1gf8jlRCUCl9jzPXGGFuLZUgw4giUtfYFa+2frbWbrbUFRa/lWGs/kHSapE1Fmz5jjKnRHxYAAAAAAAAAws2LUzpkl3icUMl2JddlV7hVNVlr9+p/FcZtJZ0arH0DAAAAAAAAQCgFZUoHY0y8Kk/OVuWQM3WDMeZSSc40Ct2stasr+MynJP1SUra1tlEtPru8fXfX/24YF7RpHYwxS/r06dNnyZJA7u8W+f72t7/ptttuC/vnem2aEoTXjBkzdO6554bt8958801dd911Yfs8eNOGDRvUsWPHqjcMkocffliPPBLY5UOIbuG8EOnyyy/Xe++9F7bPg/e4ceHbKaecom+++SbsnwvvCHe741wCEu0O7mjQoIFycnLC9nm0u4hRow4pLhifbK3NlZQbjH3pf4lW6fhN1MpN+Batk6RVQfpcAAAAAAAAAIhoXpzSYa2krUWPR5a3gTGmgaTBRU+/CEEMp5d4vDEE+wcAAAAAAACAoPNcwtceryl/u+jplcaYduVsdrukhpIKJb1Tnf1XdRM2Y0yypF8XPf1BEteQAQAAAAAAAIgInkv4Fnla0k4dnxd4ijGmr3R8rmBjzE8lPVq03SvW2u/LvtkY86YxxhpjypuQ5GpjzAfGmEuNMc1LvKe+MeYiSQskORMx3mutLQzi7wUAAAAAAAAAIROUOXyDzVp7wBhzoaSpkrpJ+toYky2pnqQ6RZt9LunOGuw+VtKPixYZYw5LOiopqWidJB2TdI+1ljuTAAAAAAAAAIgYnkz4SpK1drExpruk+yVdIKm1pMM6fpO2tyS9VsPq21mSfiNpoKSukppIaiwpS9J6STMl/c1ay9y9AAAAAAAAACKKZxO+kmSt3SHp7qKlOu+7XtL1FazbLOnx2sYGAAAAAAAAAF7j1Tl8AQAAAAAAAADVRMIXAAAAAAAAAKIECV8AAAAAAAAAiBIkfAEAAAAAAAAgSpDwBQAAAAAAAIAoQcIXAAAAAAAAAKIECV8AAAAAAAAAiBIkfAEAAAAAAAAgSpDwBQAAAAAAAIAoQcIXAAAAAAAAAKIECV8AAAAAAAAAiBIkfAEAAAAAAAAgSpDwBQAAAAAAAIAoQcIXAAAAAAAAAKIECV8AAAAAAAAAiBIkfAEAAAAAAAAgSpDwBQAAAAAAAIAoQcIXAAAAAAAAAKIECV8AAAAAAAAAiBIkfAEAAAAAAAAgSpDwBQAAAAAAAIAoQcIXAAAAAAAAAKIECV8AAAAAAAAAiBIkfAEAAAAAAAAgSpDwBQAAAAAAAIAoQcIXAAAAAAAAAKIECV8AAAAAAAAAiBIkfAEAAAAAAAAgSpDwBQAAAAAAAIAoQcIXAAAAAAAAAKIECV8AAAAAAAAAiBIkfAEAAAAAAAAgSpDwBQAAAAAAAIAoQcIXAAAAAAAAAKIECV8AAAAAAAAAiBIkfAEAAAAAAAAgSpDwBQAAAAAAAIAoEed2AAAQidKUpuEarmObjrkdCgAAAAAAQDEqfAGgBkZrtDqog/a9vU/WWrfDAQAAAAAAkETCFwCqJU1pGqdxaq3WkqRjGceUMT3D5agAAAAAAACOI+ELANUwWqOVprRSr82ZMIcqXwAAAAAA4AkkfAEgAGUre0v64asfqPIFAAAAAACeQMIXAAJQXmVvSVT5AgAAAAAALyDhCwBV6KRO5Vb2lkSVLwAAAAAA8AISvgBQhSEaEtB2VPkCAAAAAAC3kfAFgDLSlKZrda3SlBZQda+DKl8AAAAAAOA2Er4AUMZojVYHddAojQq4utdBlS8AAAAAAHATCV8AKKFkRW+60gOu7nVQ5QsAAAAAANxEwheAr5WcvkEKfL7eylDlCwAAAAAA3ELCF4CvlZy+wanutapdspYqXwAAAAAA4BYSvgB8q+z0DefpPEmSkan1vqnyBQAAAAAAbiDhC8CX0pSmy3RZqdeaqVmtq3sdVPkCAAAAAAA3eDLha4xJMsZcZIz5nTHmE2PMdmOMLVquDuLndDTG/M0Ys9EYc9QYs8sYM80Yc0mwPgOAN12iS1RP9YoTvM7PYFT3OqjyBQAAAAAA4RbndgAVuFjSG6H8AGPMKEmTJSUUvZQlqYmkEZJGGGNel3SzJVsDRJ1O6qRmaibpfwneYCZ6HU6Vb6fzOgV93wAAAAAAAOXxZIVvkR2SPpP0mKRLg7ljY0x7Sf/U8WTvPEknWWsbS2osaYIkK+lGSb8M5ucC8AZnrt5woMoXAAAAAACEk1cTvn+31qZZa0dZax+01n4Q5P0/KqmBpO2SLrDWrpUka+0ha+0jkv5WtN2DxpjkIH82ABeVrO4NB+byBQAAAAAA4eTJhK+1Nj9U+zbGNJDkzNH7V2vtwXI2e7LoZ6KkH4cqFgDhF87qXgdVvgAAAAAAIFw8mfANsUGS6hc9nlreBtbazZJWFz0dHo6gAIReuKt7HVT5oqbSlKZrda3SlOZ2KAAAAACACOHHhG+PEo9XVbLdyqKf3UMYC4AwcqO610GVL2pitEargzpolEa5HQoAAAAAIELEuR2AC1oW/dxvrc2pZLvMMttXyhizJIDNTg5kXwCCz63qXodT5dvpvE6uxYDI0kmd1FqtJUnpSldHdVSGqBQHAAAAAFTOjxW+iUU/K0v2llyfWOlWACKCm9W9Dqp8UR1DNKTS5wAAAAAAlCcoFb7GmOslvVGLXQy11s4ORixusdb2rWqboirgPmEIB0AJblf3OqjyRaCc6l4rKyMjK0uVL1yTpjQN13Bpv9uRAAAAAAiEHyt8s4t+JlSxnbM+u9KtAHieF6p7HVT5IhBONa+RKfWTKl+4wZlLusXSFvRfAAAAQAQIVsL3H5KSa7HMC1IcgdhW9DPZGFNZ0rdVme0BRCCvVPc6nCpfoCIlq3tLKlnlC4RDmtI0TuOK55JO2JtA/wUAAABEgKAkfK21udbaA7VY8oMRR4BWlnjcvZLtehT9XBXCWACEmJeqex1U+aIyZat7HaWqfGk+CIPRGq00pZV6jf4LAAAA8D4/TunwX0lHix6PLG8DY0xbSV2Lnn4RjqAABJ/XqnsdVPmiIhVV9zqcKl+m8UWoOW2xJCtL/wUAAABEAN8lfK21hyR9UPT0p8aYxuVsdn/Rz0OSPgxLYACCzovVvQ6q5FCeiqp7HcVz+s4xtB+EVHnzRTvtj/4LAAAA8DbPJnyNMU1LLiVWNSyz7oR5eI0xbxpjrDGmorORhyXlSEqT9LExpnPR+xoYYx6WdFvRdo9Za/cF8dcCECZere51UCWHsqqq7nVYWZlMQ/tByJRX3VsS/RcAAADgbZ5N+EraXWZx/LXM6/dVd8fW2gxJV0g6ImmwpLXGmAOSDkp6RJKRNFHS/9U8fABu8nJ1r4MqOZRUVXWvgypLBFOa0nStri01V2951b1l0f4AAAAA7/JywjekrLWfSOol6VVJmyXVl3RAx+fs/Ym19jrLmQwQkbxe3eugSg6OQKt7HcylimAZrdHqoA4apVGSqq7uddD+AAAAAO/ybMLXWmsCXCaU897rnfVVfMZ6a+0t1tp21tq61tqm1trh1tr3Q/aLAQgpa21EVPc6qJKDFHh1r4MqXwRDyeRuutLVUR0Dqu510P4QCuVVnQMAAKB6PJvwBYCa2L9of0RU9zqokkN1q3tLov2gptKUpst0WanXRmpkQNW9DtofQqFs1TkAAACqj4QvgKhhrdXGv250O4xqW/TiIrdDgIuqW91bFlWWqIlLdInqqV7xQIOVrdFgGe0PwVRe1TkAAACqj4QvgKixfup6HfnhiNthBCypXZJSe6Wq86jObocCl9SmutdBlSWqq+Q8585AQ00HHGh/CKayU4oM0RDVonsEAADwLRK+AKKCtVbT7p7mdhjV0qx7M9227Db1H9/f7VAQJmXnpqxtda+DKktUR7DnOaf9IRjKDoBZWaUrXc2zm7scGQAAQOQh4QsgKqyful571+x1O4yAUNnrXyXnpgxGda+DKksEqmR1b7DQ/hAMZQfAnJ8n7ziZAQUAAIBqIuELIOJFWnUvlb3+VHZuSqfKsrbVvQ6qLBGIYFf3Omh/qI2KBsCsrFJyUhhQAAAAqCYSvgAinlere2Prxqp5z+alFip7/avs3JTN1Cwo1b0OqixRlVBU9zpof6iNiqa3cZ4zoAAAAFA9cW4HAAC14eXq3oJjBTr3qXPVeSQJXr8rWb1mZIp/Bqu61zFnwhx1HNFRxgR3v4gOoaruddD+UBNl+8eyrGzxgEKn8zq5ECEAAEDkocIXQETzanWvY/rd06lKQoVzUwYbVZaoSCirex20P9REVTevpMoXAACg+kj4AohYXq7udez5fg8JEJ8L5s3ZAkFSBOUJdXWvg/aH6qhO/8iAAgAAQOBI+AKIWF6v7nWQAPG3qqrXgo2kCMoKR3Wvg/aH6qhu/8jxFAAAIDAkfAFEpEio7nWQAPGvcFf3OkiKoKRwVfc6aH8IRE36R46nAAAAgSHhCyAiZUzLiIjqXgcJEH8Kd3Wvg6QIHOGs7nXQ/hCImvaPHE8BAACqRsIXQMSx1mr2hNluh1EtJED8x63qXgdJEUjhr+510P5QGad/rAmOpwAAAFUj4Qsg4mRMy1Dmwky3w6i2RS8ucjsEhJFb1b0OkiJwo7rXQftDZZz+saYYUAAAAKgcCV8AEScSE6dJ7ZPUeVRnt8NAmLhd3esgKeJvblX3Omh/KCtNaRqncTWu7nUwoAAAAFA5Er4AIk7n0Z2V2itVcfXj3A4lYM26NVP/8f3dDgNh4nZ1r4OkiH+5Wd3roP2hrNEarTSlBWVfDCgAAABUjIQvgIjTf3x/nft/5yr/SL7boVQoqV2SmvdsruY9myu1VyrVvT7ilepeB0kRf3K7utdB+4NjgAbUurK3JAYUAAAAKhY55XEAUCQSbtrWrHszjflkjNthwAVeqe51OEmRTud1cjsUhIkXqnsdtD84hmlY0Pc5Z8IcdRzRUcZ4o78FAADwCip8AUQcr960zanqpaLXv7xW3eugytJfvFLd66D9YbAGq67qBn2/VPkCAACUjwpfABHFy9W9DVs01I3zb6TSyMe8Vt3roMrSP7xU3eug/WGQBoVs31T5AgAAnIgKXwARxavVvRKVRn7n1epex6IXF7kdAsLAa9W9Dqp8/StU1b0Ojr0AAAAnIuELIGJ4ubrXQVLDn6y1nq3ulaQ6CXXU6XyqK6OdF6t7HSTl/CuU1b0Ojr0AAAClkfAFEDG8XN3rIKnhT9u+3Obp6t68nDyldEpxOwyEmFerex0k5fwn1NW9Do69AAAApZHwBRAxIuWS9EiJE8FhrdXyF5ZL8mZ1r4NkW3TzcnWvg6Sc/4SjutdBHwcAAPA/3LQNQMToPLqzsn7IOuGELmdvjo7uO6rCgkIV5hXKytYq8RZTJ0YmtvL3GxnVT6mv+k3ql37dGHUe1bnGn43IkzEtQ3u+3VPrdhdq3Dgrunm9utex6MVFtEGfCFd1r4M+DgAA4H9I+AKIGP3H91f/8f3LXWet1WsDX1PmwsxaJ91a9m2pG+ffyB2/UaWS80p7Odnr4G720SkSqnuT2iWpbqO6DIj5SDirex30cQAAAMcxpQOAqBDM+X257BiBioR5pUuibUenSKjubda9mW5bdluFg3aILuGu7nXQxwEAABxHwhdAxCtZZRkszAWIqoSi3YUDbTu6eKm6t05CHTXv2fyEJbVXKpW9PuNGda+DPg6BSlOartW1SlOa26EAABB0TOkAIOKFosqSuQBRlUir7nXQtqOHtdZT1b15OXka/vRw2pbPuVXd66CPQ6BGa7Raq7VGaZQ+1acaruH6XJ+7HRYAAEFBhS+AiBbKKkuqhFCRSK3uddC2o8P6qes9U93roG3BzepeB+0QVemkTmqt1pKkdKXrEl2iDuqgURpF2wEARAUSvgAiWiirLJkLEBWJ1OpeB2078llrNe3uaW6HcQLalr+5Xd3roB2iMmlK02W6rNRrzuBZutJpOwCAqEDCF0DECkeVJVVCKCvSq3sdi15c5HYIqIWMaRnau2av22GUi37Tv7xQ3eugHaIil+gS1VM9WR1vH85PB20HABANSPgCiFjhqLKkSghlRWJ1b1K7JG6iFUW8PuhAv+lPXqnuddAOUZ6SN7o0MqV+SseTv7QdAEA04KZtACJSOBMecybMUccRHWWMqXpjRDWvJ9oq0rBFQ904/0bacJSIhEEH+k3/8VJ1r2PRi4u4eRtKqepGl07ylz4MABDpSPgCiEjhTHhwx284IiHRVh7acHRZ+OJCt0OoEm3OX5zqXitbqloy1Bq3a6y6ieVXFRtjuJIBpZSs7q0KfRgAINKR8AUQcdyosqTSA5Fa3eugDUeP5PbJbocQEKor/cOp7g1nsleSElskcvUCAlZVdW9ZHDcBAJGMOXwRUmlK07W6VmlKczsURBE3qiyZzw2RWt3roA1HB2uttn29ze0wKtS4XWPmifaZktW94Ua/hkBVp7rXQfsCAEQyEr4IGWutRmu0OqiDRmmU2+EgSrhZZcldm/1t0YuL3A6h1mjDkc/rAw+JLRJ127LbdNuy29R/fH+3w0EYuFXd66BfQyCqW93roH0BACIVCV+ETO53uWqt1pKkdKWrozq6HBGigZvJDio9/K3z6M5K7ZWq5j2bl1qS2iVJkivVbdVFG458C1/w9vy9tDF/cbO610GbQ1VqUt3roH0BACIVc/giJKy1OvTJoVKvDdEQZYgvTKg5L8yhynxu/tV/fP8TKhattXpt4Gs6sOmAa9Vt1cW8qpEtJtb7Y/X0k/7hdnWvgzaHytS0utdB+wIARCISvgiJjGkZytuYV3y3ZitbXOVL0hc15YVLmblrM0ryQptMapek+MT4gLblrvWRrbCwUBtnbXQ7jCrRT/pDyepetxO+tDlUZIAG1Li610H7AgBEIhK+CLqSVZjOCYDzkypf1JQXqnsdVHpA8k6bbNiiIXep94l5j89T3uE8t8MICP1k9PNKda+DNofynKtzg7If2heCLU1pGq7h+lyfa7u2ux0OgCjk/esCEXEqqngrWeULVJcXKikdzOcGyTttkvboD4WFhZr35Dy3wwgY7TK6eWHu3rJocyhrsAYrXoFdAVMV2heCjZubAwg1Er4Iqsoq3kpW+QLVtejFRW6HUIrX4kF4eaW618FdxKNfJFX3OmiX0ctr1b0O2hxKGqzBQd0f7QvB0kmduLk5gJAj4YugqqrijSpf1FTn0Z2V2itVcfXDOxNNnYQ6at6zeakltVcq86D6nFeqex1UHkU3a63m/2G+22FUG+0yOnmxutdBm4MjmNW9DtoXgiFNabpMl5V6bYiGMJgAIOiYwxdBE0jFG3P5oqb6j++v5A7Jeuf8d8L6uXk5eRr+9HBu1IFiXqvudTC/YPTKmJahYweOuR1GjSx6cRH9Z5TxanWvg74QUvCrex20L9TWJbpE9VTvhJubc2NA1BbzQqMsKnwRNIFWvFHli5pwM8nGJXwoyWvVvQ4qj6KTVwcYHEntkk64CoKrIaKXl6t7HfSFCEV1r4P2hdropE5qpmaSTry5OecbqKk0pelaXauLdTHzQqMUKnwRFNU5IaXKFzXhZpLN+XLPqDu8nnyjmjL6eHWAwdGwRUPdOP9Gqt18oLCw0PPVvQ6qMP0tVNW9DtoXKlJZhWWa0nS5Li/3fVaW8w3U2GiNLp4TWvrfvNDkWkCFL4KiuiekVPmiOryQZGPUHZK3k2/xifFUU0Yhr98gkmo3/5j3+DzPV/c6aJf+FcrqXgftCxUZrdEVVlheoksqbJtU+aKmSt4AsKQhGhL+YOA5JHxRazVJxpWs8gWq4oUkG1/u4YWBh5JKXkqf2itV5z55rvqP7+92WAgy54aVJadKSGqX5HZYpXCCGv1K3jjQ69W9DtqlP4W6utdB+0JZJRNvZQubSk7lUBnON1Bd5eVTKK6DgykdUGs1TcaV7Ii43AAV8VKSjUv4/M0LAw8lcSm9P/Qf379UIt9aq9cGvqYDmw64F1QZXIYa/ZwbBzo3GYoEtEv/CUd1r4P2hbLKJt5KTl94ns4LeD+cbyBQziBD2WMzU2jCQYUvaqU2yTiqfBEILyXZGHX3Ly8NPDhoj/7kpT6xJKrdopsztUikJHsdtEt/CVd1r4P2BUfJxJtUurAp0OpeB9/vECgnj1LesZkqX0geTfgaY5KMMRcZY35njPnEGLPdGGOLlquDsP83S+yvsoUK6CrU9sSTjghV8dr8lV6LB+FBkg1e4MWBBwcnqNHNmVpkZ4n/cpXrdlhVol36Rzirex20LzjKJt5KFjZVp7rXwfc7VKXsIENZFNdB8u6UDhdLeiMMn3NU0sFK1tPLViIYJ55cboCqdB7dWVk/ZAX8pefQoUPauHHjCa/37Nmz1rEYY7gplg9FQpKNS0r9wasDDw4uQ41eztQizr9tJ3XS1bo6IqZ4oF36Q7irex20L1R0Wb1T2FQTfL9DVSqr7nUwhSa8mvCVpB2SvpG0tGj5Vwg+4z1r7fUh2K8vBOvEk44IlSk7f2VVZsyYofvOve+E1+1yxm9QM15Psi16cREnBD7g5YEHByeo/hHIiaZX0C6jnxvVvQ7aFyrqD2vbPzKYgIpUNMhQFsV18OSUDpL+bq1Ns9aOstY+aK39wO2AUFowTzy53ACAl3ltGo/4xHg179lczXs2V2qvVKrOfcLrAw8OLkONflVdRupFXuvHEVxuVfc66Pf8K5T9IVOGoCLVGXRlCk1/82SFr7U23+0YULlgn3hS5QvAqwKZVmTvur0qOFpQ48+ok1BHyR2Tq9zOGKO+4/pWq+odkS8SqnsdVLtFvwEaIMm71b3xifFKapdU/JzpmKKbm9W9Dvo9/wr11Q5U+aKsQKt7HVT5+psnE77wtlCceNIRAfCqqqYVWT91vd45/51azWWZl5On4U8P52QR5YqU6l4H04xEt3Vap0ZqpLqqq2QlB30e35g6MTKxge3PyKh+Sn3Vb1L/+HMGxXzH7epeB4k5/6lu4q0mGExAWTUZZKC4zr/8nvAdZoxZK6mNpFxJmyXNkPRna+266uzIGLMkgM1Orn6I3hOqE086IgCRpuQAGHO1IRTcrO4NtPK8JKopo9/iov9u1s1KVnLQEx0t+7bUjfNvpC9ElbxQ3esgMec/4ZrLnO+HcNR0kIHiOv/ye8K3taQCSVmSGknqUbT81Bhzl7X2r24G50WhPPGkIwIQaYI5AMbJIsrjZnUvleeoSCgr2+gLESivVPc6SMz5Rziqex30iXDUZpCB4jp/8upN20JtqaSfSWonqa61NkXHE76XSsqQFC/pL8aYywLdobW2b1WLpO+D/6uEV6hPPKszqXia0nStrlWa0kIWDwBUJBQDYNz4BSV5Ye5e2iTKE455K2l3qIyXqnsd3GTLP8JV3eugT0RtbxDotNXhGk4OxUeCkvA1xlxvjLG1WIYEI45AWWtfsNb+2Vq72VpbUPRajrX2A0mnSdpUtOkzhiHaYuE48SxZ5VuV0RqtDuqgURoV0pgAoDyhGADjZBEleWHuXtokygrlXekdtDtUxWvVvQ4Sc9EvHH1gWfSJCMYgg5VVC7Ugh+Ijfq3wrZC1dq+kx4qetpV0qovheEq4TjwDqfJ1DrSSAq4IBoBgCeUAGCeLkLxR3eugTaKkcM5bSbtDebxY3esgMRf9wl3d66BP9K9gDTKUbLPkUPwhWAnff0hKrsUyL0hxBMuCEo87uBaFh4TzxDOQKt+y6wKpCAaAYAnlABgni5C8Ud3roE3CEc7KNtodKjJIg9wOoVKLXlzkdggIETeqex30if4VqkGGIRrCIEKUC0rC11qba609UIslPxhxIHTCfeJZXpWvM2fvuTq31IG2OvP+AkBthWMAjCoOeC1h4LV4EH7WWuathOsGa7Dqqq4rCbfyJLVLUvOezYuX1F6p6jyqs9thIUTcqu510Cf6T6gGGZwcCoMI0S3O7QA86vQSjze6FoVHuHFZackqX+cukqM1Wq3VWu3UrtQ25W0LAKESjgEw7siMzqM7K+uHLO1dt1f5R0I/Lh5bN1ZNujQpd50xhgQGlDEtI2x3pXfQF6KsM3SGJPcSbmU1695MYz4Z43YYCIOSiTe32h99ov+EapDB2d+cCXPUcURHceuq6OS7hK8xxthKhsWMMcmSfl309AdJ34QlMA9z67LSkpW7RqZ4zt6YcgrTqfIFEA7hHADjC5i/9R/fX8kdkvXO+e+E5fMKjhXo3KfOVeeRJHZxopJ9nxvzVtIXQjqecKuv+q4m3CQprn6ckjsmKyYmhsEwH3G7utdBn+gfoR5ksLIMIkQ5z960zRjTtORSYlXDMusSynnvm8YYa4wpL7F7tTHmA2PMpcaY5iXeU98Yc5GOz9/rZA3vtdYWBvUXizBu3jSmZOVuVXP0ltyWy1wAhEo4B8CYq83f3Dj+Tr97OsdQlMvp+5i3Em7ySsIt/0i+RjwzQrctu039x/d3NRaEh5tz95ZFn+gfoe7zSlb58v0vOnk24Stpd5nF8dcyr99Xzf3GSvqxpPcl7TTGHDLG7JGULenfkk6SdEzS7dba92rzC0QDt28a41Tulp2zt7JtOQACCAU3EnB8AfMvN46/e77fo/XT1of1M+F9blb3OugL4aWEm0Sb9BuvDDY4aH/Rj5ukIhi8nPANlVmSfiPpE0kZkvIkNZaUJWmxpP+T1NVa+xfXIvQIN6t7HSUPqmXn7K1oWw6AAELBjQQcX8D8yc3jL1W+KMvtwX+JvhDeS7jRJv3Da4MNEu3PD7hJKoLBswlfa60JcJlQznuvd9aXs26ztfZxa+2F1tpO1tpka20da22KtXaAtfZX1lrf36hN8sYX/OoqOQ8NAASLmwk4voD5j5vHX6p8UZIXBv8d9IX+5cWEm0Sb9AuvDTY4aH/Ry40+jxxKdPJswhfuW/TiIrdDqDaqfAGEgpsJOL6A+YsXEmxU+cLhpcF/+kJ/stZ6NuFGm4x+Xh1skGh/Ucu6N8hADiX6xLkdALyr8+jOyvohq1r/01trtT9jv/KP5Af8nlzlar/2n/B6vOKVrOQa3ZWSu00CCBYvJOC4I7N/eCHB5lT5dh7J3ef9zmuD/4teXMR3O5/JmJYR0rvU1xbH5+jm1cEGB+0v+rQvbO9an0cOJfqQ8EWF+o/vX+07z66ful7vnP9OwNtbWcUrXtM1XRnKUJrSNFzD9Y2+0WiNllTzAywHQADB4IUEHF/A/MELgwuO6XdPV6fzOnEM9Tln8H/vur3VGsyvrToJdZTcMbnUa8YYdR7FIISfeOGGgVXh+By9Slb30v4QDtZanZl3piR3b5JKDiV6kPBF0NTkRNXpyIZoiDKUodEardZF/8UrvlYHWA6AAGrLSwk4voBFPy8MLjio8oV0fPA/uUNytQbzgyEvJ0/Dnx7Odzifc/pELyfcJI7P0cjLU4mURfuLHhnTMtSysKWrfR45lOjCHL4ImpqeqFpZpStdgzVYrdVa0vHpHKTaH2CZhwZAbXgpAcdcbdHPa5fPz/7tbLdDgMu4YSXc5PSJXk+4cXyOPiWnEvE62l908NIVDRx/owcJXwRFbU4InA5tkAYFMaLjOAACqA2vJeC8Fg+Cq/PozkrtlarmPZurWY9miqvv7oVYObtz+MLvc9ywEm5y+sQ85bkdSpVIkEQPLyXeAsX3w8hX8ooGt3H8jR5M6YCgqO0JgZVVXdUNyeULXOYCoKaqunnlvvX7ajWvZXnzVFaE+SujX8m586s7J34oHNh4gMv6fMwLU9rwHc7f+o/vr34/7adfxvxSdVTH7XAqxWXQ0SNSphJx1Emoo07n0+4imRcHGTj+RgcSvqi1YJwQOB1bKDo4voABqKnKbl4ZjIQc81SiPF5ItDn4wu9fXpjShu9wWD91vRKV6HYYAVn04iLaaoTzYuKtKnk5eUrplOJ2GKgFLxxvy+L4Gx2Y0gG1FqwOKpSXL3CZFYBgCmZCjv4JZXnpiz+X9fmT1wYd6CP9yVqraXdPczuME9RJqKPmPZuXWlJ7pXIVThTw0vG3OugnI5eXjrdl0a4iHxW+qJVgdlChHEVlhApAMAXzhID+CWV5bS4+qtb8x0tJD/pI/1o/db32rtnrdhgn4Oqc6OTlxFtV6Ccjl5eOt2XRriIfCV/Uipc7qLK4LBVAMITihID+CSVVNXd0SStWrDjhtZ49ewYtFuaO9icGHeA2r1b3OmiT0SeSzmvLQ5uMTF473pbFOUpkI+GLGou0UVBGqAAEQyhOCOifUFJlc0eXVd4XcLucy+9QO51GddLG2RuVn1Pzm1LWRHk3smTQwZ/cqu5tkNpADZo3qHQb2mR08nriraT4xHgltUsqfk6bjFydR3fW7tW7dWDjAbdDKRfnKJGNhC9qLBJHQRmhAlAboRzoon8C4BUpHVPCnuyVuFQex7lZ3Zt3OE/jvh2nmBhudeM3Za+uca6gaaImigtz2iSmTowaNGug+k3qn7DOGKO+4/oGPDAMb+v3035aNnGZZxO+EucokYyEL2ok0qp7HYxQAaiNUA500T8B8AK3v+NxYgk35+7NPZSreU/M01m/OcuVz4d7yl5dY4xRJ3XS1bo67LG07NtSN86/kX7QByKhiI5zlMjF0CVqJBI6popwt0kANRGOJAj9EwC3uf0dzzmxhD95Ye7e/z75XxUWFroaA7zhPJ3nyufSD/qD2wOs1cE5SmQi4Ytqi6SOqTwcQAHURDiSIPRPANzkle94nFj6l5vVvQ6nyhf+1kmd1EzNXPt8+sHo5/YAa3VwjhKZSPii2iKpY6oIB1AA1RHOJAj9EwC3eOU7HieW/uSF6l4HVb7+Zq11rbrXQT8Y3bwywFodnKNEHhK+qJZI7JjKwwEUQHWEMwlC/wTADV77jseJpf94obrXQZWvv62fut7V6l4H/WD08soAa3VwjhJ5SPiiWiKxY6oIB1AAgXAjCUL/BCDcvPYdjxNL/5n929luh1DKgmcWcCz2IWutpt411e0wJNEPRrNFLy5yO4Qa4RwlspDwRcC8VvlRWxxAAQTCjSQI/ROAcPLqdzxOLP3DWquDmw+6HUYpRw8c5VjsQ+unrte+tfvcDqMY/WB06jSqk+IS4twOo9o4R4ksJHwRMK9VfgQDB1AAlXEzCUL/BCBcvPodjxNL/1g/db0O7zrsdhgn4FjsL16q7nXQD0anlI4pys/JdzuMGqFfjBwkfBEQr1Z+1BYHUACVcTMJQv8EIBy8/h0vUi97ReC8dLO2sjgW+4vXqnsdJNiii9ePu1WhX4wcJHwREK9WfgQDB1AA5fHClzH6JwCh5vZ3vKR2SWres3m5S2qvVHUe1dm12BAeGdMyPHOztvIw6OAPXqzudZBgiy5uH3eDgXOUyBB5k4Yg7LyQ9Agl5wDa6bxObocCwEO88GWM/glAKHnhO17DFg114/wbZYxxNQ64w9U2aKTYurHlvGxUP6W+6jepL2MMgw4+4dXqXsecCXPUcURH+soI54XjbjBwjhIZSPiiSl5IeoTaohcX0VkBKOalL2N8wQcQKl74jsdJo7+52gatdMWHV6jzSBK6fufl6l4HfWV08MJxN1jIoXgfUzqgStF6GZNzCSGXCwIoy0tfxriMD0AoeG1gi0tD/ccLbXD63dNpe/B8da8jWs/L/cILfV6wJLVPIocSAajwRZU6j+6srB+yqv1l6Fj2MR3cdDBEUdUelxACqIjXvlAzgg4g2Lw4sEU/5y9eaIN7vt+j9dPWU+XrY5FQ3StJ8YnxJNginBf6vGBpmNpQ/X7az+0wUAUSvqhS//H91X98/2q9x1qrV09/1dMJX04uAFQkkIGufev3Kf9IfrX3XSehjpI7Jge8PfMHAggFBrbgJi9Vuk2/e7o6ndeJIhCf8mJ1b9nvisYY9R3Xt9rn5PAWrx13a4NcSmQg4YuQyJiWoW2LtrkdRpU4uYhuaUrTcA3X5/rc7VAQYaoa6Fo/db3eOf+dGu07LydPw58eTt8DwFWBDGwdyzqmg5tDP3jPpaH+46VKN6p8/cur1b18V4xOznF3/8b9ys3OdTucWuM+I95HwhdBZ63VrN/OcjcII8XEx5Tb+Th33k1omsDJRZQbrdFqrdYapVGy1nIwQlAEoyqJL0gA3FbVwJa1Vn/u+uewxMKlof7jtUq32b+dTcLXh7xY3evgu2L0cY67i/+yWEv+tuSEAdfc7Fwd2HRAVlZG3v93p8rX+0j4Iug8Ud1rpas+uorOx8c6qZNaq7UkKV3pHIwQNMGoSuILEgCvWz91vfau2RuWz6JP9J+SFebWWu1etVty8d5pObtzKA7wGa9W9zroF6NXeQOu1lq9NvA1Hdh0ICKSvQ6umPY2Er4IKk9U9xaZPWE2o6I+NkRDSj1nlBzBEMw5B2mTALzKWqtpd08L62fSJ/pLyYTHl7//UrMecvf84cDGAyTXfMbL1b0O+kX/cApKqlvdm9QuSfGJ8SGMrGLcZ8T7SPgiqDxR3Vsk86tMvrj5lFPd6xwwrSyj5AiKYM45SJtEMDFnOYIpnNW9DvpEfyosLNS8J+e5HYYkkmt+4vXqXgf9oj+ULCipbnVvwxYNdeP8G+m3UK4YtwNA9PBSda9j9oTZld6MBNHHWltc3escMJ2fcybMoT2gxkJxR3HaJIJltEargzoUz1kO1JQb1b0O+kT/mff4POUdznM7DEn/S64h+kVCda/Da/NdI/hqU1BCv4XKkPBF0HiputfhVPnCPw4sPlBc3VsWB0TURijuKE6bRDCUN2c5UFNuVPc66BP9xVqr+X+Y73YYpZBci35eq+41MUbNezYvd0ntlcol81EuWDeDZrAU5WFKBwSFF6t7Hczl6x/WWm2ZuEVSxZfDcLkeaiIU1b0O2iRqiznLESxuVvc6aL/+kTEtQ8cOHAv751Y05yXzUfqD16p7baFV9yu666zfnOV2KHABN4NGKJHwRVB4sbrXwVy+/pExLUPZ32dXOtk9B0TURCiqex20SdQGc5YjmNys7nXQfv0hlAOpVWHOS//ywqBWeRY8s0CDHxhMm/QZbgaNUGNKB9Sam1/YAsVlDtGvOpPd0x5QHeHo42iTqAnmLEcweSkRQvuNfqEcSK0KU4f4lxcGtcpz9MBR2qQPheJm0EBJJHxRa25+YQsUHWD0q047pD2gOsLRx9EmURMZ0zKYsxxB46VECO03unmhWIRBBf/x0qBWeWiT/sLNoBEOJHxRK174whYoOsDoVZN2SHtAIMLZx9EmUR2BXNVAm0J1zP7tbLdDKIWbZ0UvLxSLMKjgPxnTMjwzqFUe2qS/cDNohAMJX9SKF76wBYoOMHrVpB3SHhCIcPZxtElUh9M2y6vuddCmEChrrQ7vPuxqDHUS6nBneh/4//buPdyuur7z+OebG+aGBHyICQcIyTlWCnFq8LS1jvPES0ByRqnVimiLDDKdEGx11Gp9dFp7sS1iR2vUjqO0FAxTL6O2Os+QIqOMivXYwEBwBCZHwMYUZriYk3gMieE7f+y1TtbZnLPPvqzLb/3W+/U8+9l77b322r+V883vt/d3fddvhVQswkGx5ggp7johJpuh6ItBE0NIkfBF3+oycGbRAcZnkDgkHtBJFX0cMYluMGc58jaxa0IHHjhQaRuOTh3Vlmu26Mq7rtS2O7dpdPtope1BMUIqFuGgWHOEFHedEJPNUMbFoAGJhC8GUJeBM4sOMD6DxCHxgE6q6OOISXSDOcuRp5AO4HOAIn6hTdURWntQjDr9nevUVvSOi0GjTIuqbgDqKaQfB7269b23asP5G2TWuSoK4csjDokHzKbKPo6YRCf9zllOTGEuIR3ATw9QDF8wXHVTUJCRsRFN7pvsKRmxZ8+epzx35pln6sQTTxyoLWbG1CEN0Snuph6d0uHHDsvddezIMXWYKSl3i5ct1qoNq6aXicn4lXkxaMZSkPBFX0L6cdArOsB45BGHxANmU2UfR0yik0HmLCemMJtv7/h21U2YYXzHOLEasdHtoz1P1zHbwaov/vkXddFFF+XVLESum7jbe9Ne7bxwZ0ktakmnsqHPa4ayLwbNwX4wpQN6Vufq3hSnOdRfnnFIPCArhD6OmMRsmLMcRVh11qr5VyrASetOmr5IGxdrA1Clqs/sYnxuBi4GjbJR4Yue1bm6N0W1U/3lGYfEA7JC6OOIScwmjznLiSlkubv2/+P+Sj57xTNX6PLbLqf6CD1ZozXaoi2ampiquimICGd2oWhVXQyaKt9mo8IXPQmh8i0vHE2tryLikHiAFFYfR0wiK685y4kpZIWQ5AB6MaYxrdd67fvP++jPkIsQvvsxPsePi0GjCiR80ZMQKt/yQgdYX0XEIfEAKaw+jphEVp5zlgMSSQ7Uz7CGNaQhSdLUvVP0Z8hFCN/9GJ/jxpQhqAoJX3QthB8GeaMDrJ8i45B4wPiO8aqbMENo7UE1mLMcRSDJgbrZrM0zlunPMKiQft8Sz/HibBpUhTl80bUQfhjkjTmT6qfIOCQeMDI2osl9kz1/4T5y5Ijuvffe6eWNGzcO3BYz4+JFkMSc5chfaEkO5hjEfNLqXpfL1IoV+jMMKqTft8RznEIYbxlnm4uEL7oWa6UZHWB9lDFgEg/NNrp9VKPbR3t+3/e//329ZcNbppf9Lio0kI+i5iynn2s2khyom7S6N032pujPMIjQft+O7xinL4xMCOMt42xzBZnwNbPTJF0k6UWSnivptOSlhyT9g6RPuPv/yOFzNkh6h6TzJa2RNCnpDkkfd/fPD7r92PRa+fbEwSd04IEDBbdqcHSA9VHGgEk8AAhJkXOW0881F0kO1Mls1b0p+jMMotPv2z179miJlmiVVj0l9k5ad5KWrFySa1s4sys+IVT3pjg41kzBJXzN7HRJD0ozRvOpZHldcnutmf2lpN9w92N9fs5WSZ+VtCx5alLSKWolf89Ptn+FM5HOtF4q39xd1z7/2lokfCU6wDooc8AkHgCEoOg5y+nnmqvf6Wv27Nkz/XjlypVat27dwG0hyYFO3H3O6t4U/Rn61en3rZnpCl2hVVr1lNhb8cwVuvy2y4k5dBRCdW+Kg2PNFFzCV9JCtZK7t0i6XtJX3H2/mS2QdLakP5H0ckmXq1Xx++5eP8DMzpL0GbWSvd+Q9EZ3v8/MVkh6m6TfS7Z/r6T3D7xHDRRS59YNOsDwlRlTxAOAEDBnOYrS7/Q12eTGyze/XFf/3dV5Ngt4ioldE3NW96boz1AEKssxKM6mQdUWVN2AWTwu6Tx3f6m7X+/u+yXJ3Z909++qNdXDzcm6bzazpX18xh9KWi7pnyX9a3e/L/mMQ+7++5I+nqz3HjNbNcjONFFIpy70giujhquKmCIeAFSprDnL6ecAhCrbD86V7E3RnyFP3VaWE3PoZGRsRKufs1qnbjx1+vb0dU+vpC0nnXUSZ9M0UHAJX3c/4O63d3jdJX0yWVwu6dm9bN/Mlkv6lWTxL9x9tjkH/jS5Xynplb1sH/Wr7k2lR2oRnipiingAUKUy5ywHgBCl/aBr/qQa/RnylK0snwsxh/mMbh/Vtju36cq7rtSVd12pbXdu04rVKyppy4rVK/S8K59XyWejOsElfLs0lXm8sMf3/ktJaVXwTbOt4O4PSvpesrilx+03Wl2re1McqQ1PlTFFPACoQtlzltPPAQhNL9W9Kfoz5IHKchSlysI4DlA0U10TvpuT+yOS7uvxvedmHn+3w3p3J/fn9Lj9RqtrdW+KjjA8DIwAmqaKOcsBICT99IP0Z8gDleUoQgiFcRygaJ7aJXzNbJ2kbcnip919ssdNrE3uH3f3qQ7rpd8w1nZYJ9uu3fPd1OP0E3UTQieWh9AmV2+yEGKKgRFAmZizHEDTDdIP0p9hEFSWoyghFMZxgKJ5apXwTS7Q9hm15u59VNK7+tjMyuS+U7I3+/rKjmthWgidWL8WL1usUzeeqtXPWc1k5gEJIaYYGAGUiTnLATTdIP0g/RkGQWU5ihBCEVOKAxTNkkvC18wuMzMf4La5i89YJOlGSaOSjkp6nbsHk1109/Pmu0m6p+p2FiWkTqwfR6eOass1W7Ttzm0a3T5adXOgsGKKgRFAGZizHEDT5dEP0p+hH1SWoyghFDGlOEDRLLWo8DWzhZI+JemXJf1U0sXu/vd9bu5gcr9snvXS1w92XAuSwurE+sVAHZaQYoqBEUAZmLMcQNPl0Q/Sn6EfVJajKKFNGRlae1CcRTlt50ZJXxzg/YfmeiGT7L1YrWTvJe7+hQE+a39yv8rMlnWYx/e0tvUxh5AqMQeRDtTDFwxX3RQovIFofMc4sQGgMCGMpbe+91ZtOH+DzLqbtxAA8pRnP0h/hl7kVVlOzGE2I2Mjmtw3OaO47LG9j+mnP/lpbp+xeNlirdqwat71zIwpLBskl4Svux+RdCSPbWUlyd6dOp7sfZ27f27Azd6deXyOpO/Msd65yf13B/y86IVUiTkoknrhmG1g7MahQ4d0//33Ty9v3Lhx4LYwMAIoWghjKQc+AVQpz36Q/gy9yLOynJhDu9HtozOmjdx7017tvHBnrp+RTlFJ/CErrwrf3M2R7P1sDpv+pqTDkp4m6WWaJeFrZmdKOjtZ/EoOnxmtECqS5rNg8QItWLhAS09eqqWnLJ1zPZJ6YWkfGLt1yy236B0vfcf0st/FNB0AwhbSWEqFEoAqFNEP0p+hG1SWo0xFfucj/tAuyIRvkuy9UdJrlG+yV+5+yMw+L+l1kq40sw+7+4G21d6Z3B+SNMj0EdELoSJpPmvPW6vLb7ucjg8AEKSQxlIqlABUoYh+kP4M3aCyHGUq8jsf8Yd2wV20LUn23qDjyd5Lek32mtl1ZuZmNldp3+9KmpK0RtKXzGwked9yM/tdSduS9d7n7o/1sx9NEFJFUidMog8ACFmIc5YDQFmKrnjjosyYS1GV5cQcZlNG/oT4Q1aIFb4vkHRJ8tglfcTMPtJh/V9x99t6+QB3nzCziyV9RtILJd1nZgckrZC0MFnteklX99TyhgmpImk+nN4AAAhVv3OWS9KePXumH5977rkDj3NMbwSgbFS8oSpUlqNMZeRPiD9khZjwzVYdL5a0ep71l/TzIe7+ZTN7jlrTN2xRq9r3R5LukPTxHC4OF7W6VPem6PgAAKHqd85ySTMSvEduP6LFixfn1SwAKFxZFW8UfqAdc6miTGXmT4g/pIKb0sHdv+bu1sPta7Ns47L09Xk+a6+7/1t3X+fuJ7j7M9x9C8ne+dWpujfF6Q0AAABAOMqseAOyyqgsB1Jl5k+IP6SCS/gifHWr7k3R8QEAAABhKLvijcIPpJhLFWWqIn9C/EEi4Ys+1LG6N0XHBwCIzRqt0aW6VA/d8VDVTQGArlHxhqpQWY4yVZE/If4gkfBFH+p89W46PgBAbMY0pvVar12/tYuDmgBqgYo3VIXKcpSpyrOjiT+Q8EXPRsZGtGRlX9fKC0KdE9YAAGQNa1hDGpIk/fDbP+SgJoBaoOINVaGyHGWq8uxo4g+Lqm4A6ie9kvjuj+/u6ojR1KNTOvzYYbna1nXp6BNHtSB73MGkhUsWSj1cUNJkWnryUi09Zen865ppZOtI9xsHgC6t0Rpt0RbdrJurbgoawt21WZtnPMeVmQGEruqKN/rI5qqqspyYa6YQrn1E/DUbCV/0ZXT76HTit197b9qrnRfulMtlsta9m177t6/V8AXDObUUAIrn7hrTmIY0pK3aKnfnixUKN7FrQkMamh5HpePVHIyjAEIVQsUbfWQzVVlZTsw1TwjXPiL+mo0pHVCJ7NGu9Edqes9cMwDqZv//3D99Wv3pOp3Tp1C42cbRFOMogFCFUvFGH9k8VVeWE3PNEkJflyL+mouELyqRHu16yjQPYq4ZAPXi7rrrw3fNeI4vViga4yiAOgqp4g3NEkJlOZojhL4uRfw1FwlflK5TVVKKZAmAupjYNaFH/tcj04k3l/PFCoViHAVQR1S8oSohxB4x1yyhXSg+tPagHMzhi9J1c7SLuWYA1MF809NwkQQUgXEUQB2FWPFGH9kMIcQeMdcsI2Mjmtw32XOS/+67757xno0bNw7cFi5c31wkfFGqXo6ukiwBELpOPyD4Yo8iMI4CqKvQKszGd4wzRjdACNW9Kcbl5uj3IvfLly/X1NTU9LLfRVU4+kfCF6Xq5egqyRIAIevmBwRf7JE3xlEAddVvxduePXumH59wwgl61rOeNXBbqHhrjhCqe1OMywDKRMIXpenn6CrJEgCh4rR6lI1xFECd9Vvxlu2/zl5/tj541wfzbBYiR2U5gKYi4YvS9HN0lWQJgBBxWj2qwDgKAEBv8qgsX7Bggc4555yB20JlOYAykfBFKQaZO4lkCYDQcFo9ysY4CgBA7/KoLD9xxYk6cNeBPJsFAIVbUHUD0AyDzJ2UJksAIAT9nlbfa2UJkMU4ilCs0Rpdqku19EdLq24KAAAA5kDCF4XL48qoJEsAhGKQ0+qBfjCOIiRjGtN6rdcZd59BTAEAAASKhC8Kl8eVUUmWAAjBoKfVkxxBPxhHEYphDWtIQ5KkFY+vIKYAAAACRcIXhcqjKilFsgRA1TitHmVjHEUo3F2btXnGc8QUAABAmEj4olB5VCWlSJYAqBKn1aMKjKMIxcSuCQ1pSK5WH+ZyYgoAACBQJHxRmDyrklIkSwBUhdPqUTbGUYQiG4smm3FPTAEAAISHhC8Kk2dVUopkCYAqcFo9qsA4ilCksZhW92YRUwAAAOEh4YtCFFGVlCJZAqBsnFaPsjGOIhSzVfe2I6YAAADCQsIXhSiiKilFsgRAmTitHlVgHEUouolFYgpFW6M1ulSXatVPVlXdFDRIGnenHju16qYAQM9I+CJ3RVYlpUiWACgLp9WjbIyjCEUvsUhMoUhjGtN6rdemhzcRZyhNGncvPvxi4g5A7ZDwRe6KrEpKkSwBUAZOq0cVGEcRil5ikZhCUYY1rCENSZKe8ZNnEGcoRTbu1h5bS9wBqB0SvshVGVVJKZIlAIrGafUoG+MoQtFPLBJTyJu7a7M2z3iOOEPRiDsAMSDhi1yVUZWUIlkCoEicVo8qMI4iFP3EIjGFvE3smtCQhuRqjZUuJ85QOOIOQAxI+CI3ZVYlpUiWACgKp9WjbIyjCMUgsUhMIS/ZODTZjHviDEUh7gDEgoQvclNmVVKKZAmAInBaParAOIpQDBKLxBTyksZhWmWZRZyhKMQdgFiQ8EUuqqhKSpEsAZA3TqtH2RhHEYo8YpGYwqBmq7JsR5whb8QdgJiQ8EUuqqhKSpEsAZAnTqtHFRhHEYo8YpGYwqC6iUPiDHkj7gDEhIQvBlZlVVKKZAmAvHBaPcrGOIpQ5BmLxBT61UscEmfIC3EHIDYkfDGwKquSUiRLAOSB0+pRBcZRhCLPWCSm0K9e4pA4Q16IOwCxIeGLgYRQlZQiWQJgUJxWj7IxjiIURcQiMYVe9ROHxBkGRdwBiBEJXwwkhKqkFMkSAIMIIfHGj4fmYRxFKIqIRWIKveonDokzDIq4Q0jWaI0u1aVaozVVNwU1R8IXAxnfMV51E2YIrT2oBoMk+hFC4o0fD80T2rgVWntQjiIPeHEgC90aJA6JM/SLuENQXBrTmNZrvbZqK/GFgSyqugGot5GxEU3umwyiIzIzjWwdqboZqJi7a0xjGtLQ9CBpZlU3C4ELobo3det7b9WG8zcQtw3BOIoQFHnAKz2QNXzBcCHbRzwGiUPiDP0i7hCSs548S0MakiSdrtOJLwyEhC8GMrp9VKPbR6tuBjDtR9/5EYMkehZCdW+KHw/NwjiKqpVxwIsDWZhPHnFInKFXxB1C4u56wdEXzHiO+MIgmNIBQDTcXT+4/gcznuNUK3QjtNPYQ2sPgHiVccCL6WownzzikDhDr4g7hGRi14TWPrlWrtZvV5cTXxgIFb4AojGxa0IH7zkol8tkMwZJqiXRCafVA2iiMqezoUoJc8kzDokzdIu4Q0iy8WiyGffEF/pFwhdAFBgkMQhOqwfQRGVOZ8MBWMwlzzgkztAt4g4hSeMxLVzKIr7QL6Z0ABCFTl/aOBUGAICZqrhYJdMsoV0RcUicYT7EHUIyW+FSO+IL/SDhC6D2uvnSxiAJAMBxVVyskgOwaFdEHBJnmA9xh5B0E4/EF/pBwhdA7TFIAgDQvSqqe1McgEWqyDgkzjAX4g4h6SUeiS/0ioQvgFpjkAQAoDdVVPemOACLVJFxSJxhLsQdQtJLPBJf6BUJXwC1xiAJAED3qqzuTXEAFmXEIXGGdsQdQtJPPBJf6AUJXwC1xSAJAEBvqqzuTXEAFmXEIXGGdsQdQtJPPBJf6AUJXwC1xSAJAED3QqjuTXEAtrnKjEPiDCniDiEZJB6JL3SLhC+AWmKQBACgNyFU96Y4ANtcZcYhcYYUcYeQDBKPxBe6RcIXQC0xSAIA0JvxHeNVN2GG0NqD4lVRZc6BfhB3CEke8Uh8oRuLqm4AAPQqr0Fyw/kbZGb5NAoAgMCNjI1oct9kED8SzUwjW0eqbgZKVkWVeXqgf/iC4VI/F+Eg7hCSPOKR+EI3SPgCqB0GSQAAeje6fVSj20erbgYaqso5pDnQ31zEHUKSZzwSX5hPkFM6mNlpZrbdzD5rZnvN7CfJ7X4z+y9m9uIBt3+dmXkXNxLiQGDyHiRDqHICAACIXZVzSDOdV3MRdwhJnvFIfGE+wSV8zex0Sf8k6aOSXi1pg6QnJbmkdZJeK+kWM7vWzBYO+HGHJT3c4UYmCAgMgyQAAEC9VFllmeJAf/MQdwhJEfFIfKGT4BK+khZKMkm3SHqDpNPcfbmkFZLOlfSlZL3LJf3BgJ/1aXd/ZofbsQG3DyBHDJIAAAD1U2WVZYoD/c1D3CEkRcQj8YVOQkz4Pi7pPHd/qbtf7+77Jcndn3T370q6SNLNybpvNrOlVTUUQLkYJAEAAOolhCrLFAf6m4O4Q0iKjEfiC3MJLuHr7gfc/fYOr7ukTyaLyyU9u5SGAagUgyQAAED9hFBlmeJAf3MQdwhJkfFIfGEuwSV8uzSVeTzoPL4AaoBBEgAAoH7Gd4xX3YQZQmsPihHa3zm09qA8ZVSbU8CE2SyqugF92pzcH5F03wDbeYmZ3SfpjGRbD6o1d/BH3f3/9LIhM9vdxWpUIwN9KGuQ3HD+BplZoZ8DAADQJCNjI5rcNxlEMsLMNLJ1pOpmoATEHUJRRrV5WsA0fMFwoZ+DerEQOsBemNk6SXerNZ3DDe5+aR/buE6tC8JJ0jFJk5JO1PFq4SOS3uLuf9HDNrtK+G7atGnZ7t3drAogtfemvdp54c7CP+f1N72eQRIAAAAAMDB317XPv7aU6UWGfnFIl992OQVMcerrj1qrKR2SC7R9Rq1k76OS3tXnpm6X9CZJ6ySd4O4nq5XwfZWkCUlLJH3MzF7d7Qbd/bz5bpLu6bO9QGOVecEFToUBAAAAAOShzLmkmaYQ7XJJ+JrZZWbmA9w2d/EZiyTdKGlU0lFJr3P3vv7nuPuH3f2j7v6gux9Lnpty989L+gVJDySrfsA4PAJUikESAAAAAFAnZRYupShgQlYtKnzNbKGkT0n6ZUk/lXSxu/99EZ/l7o9Kel+yeKak5xbxOQDmxyAJAAAAAKibMguXUhQwISuvhO+NklYNcPvGXBvOJHsvVivZe4m7fyGnds/lW5nH6wv+LABzYJAEAAAAANRJFYVLKQqYkFqUx0bc/YhaFzrLVZLs3anjyd7Xufvn8v4cAOGpepDccP4GJrwHAAAAAPSkisKlVFrAxMXIEeyUDnMkez9b0sf/Yubx/SV9JoCMEAZJAAAAAAC6VWXhUooqX0iBJnyTZO+NKiDZO99F2MxslaR3JYv7JN2Rx+cC6B6DJAAAAACgbqosXEpRwAQpwIRvkuy9QdJrdHzO3p6SvWZ2nZm5mc2Wrfk1M/u8mb3KzE7NvGepmV2k1vy9G5Kn3+7uT/a3JwD6xSAJAAAAAKiTEAqXUhQwIbiEr6QXSLokeeySPmJmD3W4/VKP218o6ZWSPifpYTM7ZGaPSDoo6YuSfkbSE5KucvdP57JHALrGIAkAAAAAqJsQCpdSFDAhxIRvtk2LJa2e57akx+1/VdK7JX1Z0oSko5KeLmlS0nckXS3pbHf/WP+7AKBfDJIAAAAAgLoZ3zFedRNmCK09KNeiqhvQzt2/JqnjPLtdbOMySZfN8dqDkv54kO0DKE5og9L4jnGucAoAAAAA6GhkbEST+yaDOEvUzDSydaTqZqBCwSV8ATQbgyQAAAAAoG5Gt49qdPto1c0AJEkWQlKlKcxs96ZNmzbt3r276qYAAAAAAAAACFtfsyCEOIcvAAAAAAAAAKAPJHwBAAAAAAAAIBIkfAEAAAAAAAAgEiR8AQAAAAAAACASJHwBAAAAAAAAIBIkfAEAAAAAAAAgEiR8AQAAAAAAACAS5u5Vt6ExzOzRpUuXnnz22WdX3RQAAAAAAAAAAbv99ttvdPfX9/o+Er4lMrMnJC2UdGfVbcnRAkmrJT0s6cmK25KH2PZHim+fYtsfSXp2cn9Ppa3IT4x/o9j2Kbb9keLbp9j6BSm+v1Fs+yPFt0+x7Y9E31AHse2PFN8+xbY/Unx9Q4x/o9j2Kbb9kcLdp3tI+AbOzHZLkrufV3Vb8mJmayX9UNJp7r6/6vYMKrb9keLbp9j2R4qvb4j0bxTVPsW2P1J8+xRbvyBF+TeKan+k+PYptv2R6BvqILb9keLbp9j2R4qvb4j0bxTVPsW2P1J8+8QcvgAAAAAAAAAQCRK+AAAAAAAAABAJEr4Y1EFJv5/cxyC2/ZHi26fY9idGMf6NYtun2PZHinOfYhPb3yi2/ZHi26fY9idWsf2dYtsfKb59im1/YhTj3yi2fYptf6TI9ok5fEsU27w6APJB3wCgHf0CgNnQNwCYDX0DgHZU+AIAAAAAAABAJEj4AgAAAAAAAEAkSPgCAAAAAAAAQCRI+AIAAAAAAABAJLhoGwAAAAAAAABEggpfAAAAAAAAAIgECV8AAAAAAAAAiAQJXwAAAAAAAACIBAlfAAAAAAAAAIgECV8AAAAAAAAAiAQJXwAAAAAAAACIBAlfAAAAAAAAAIgECV8AAAAAAAAAiAQJ3xKY2Uoze6+Z7TGzQ2Z2wMy+Y2ZvNbMlVbcPQL7MbJmZXWhm7zGzz5vZg2bmye09XW5jtZn9mZnda2Y/MbPHzOzrZvZGM7Oi9wFAvszsFDP7N2b2KTP732b2YzN7wsz2mdkXzeyVXWyDfgGIjJltMrPfM7O/M7N7zOxRMzua3H/TzN5tZifPsw36BqABzOw/ZX5TPDDPuvQLQMOZu1fdhqiZ2ZmSviZpXfLUlKSFkk5Ilu+Q9BJ3f7z0xgEohJltlvTVOV7+D+7+R/O8/zxJuySdkjx1SNLTJC1KlndJeoW7Hxm4sQBKYWZHdfz/sCQdlnRM0vLMc/9d0qvdfWqW99MvABEys49Iuirz1GFJRyWtzDz3iKSL3P22Wd5P3wA0gJn9K7XyCmmy9kF3XzfHuvQLAKjwLZKZLZT0JbWSvfslbXH35ZKWSbpY0qSk50raWVUbARTmcUm3SLpG0iWSHurmTWb2dElfVusL2vckPc/dV6qVFLpK0hFJF0j6UP5NBlCgRZLGJW2XtMHdl7r7CknrJf1Vss6Fkj7R/kb6BSBq45J+W9LzJa1K+oYT1Ur4XqZWsvcZkr6Q9AXT6BuAZjCzpZI+Kemnkv5xnnXpFwBIosK3UGZ2hVo/3FzS8939222vXyzpb5LFl7r7LSU3EUABzGyhux9re+4BSWdqngpfM/sjSe9W62yAc9z9gbbX3ynpT9WqDDzH3e/Nt/UAimBmL3L3uSr/ZWafkHRFsnimu/8g8xr9AtBQZnaBpJuSxV93909lXqNvABrAzN6v1oGhP5G0VtIbNEeFL/0CgBQVvsV6Q3L/1fZkb+Izkr7fti6AmmtP9vbo15P7v2n/gpb4iFqnZS2U9PoBPgdAiTolexPZyt7z2l6jXwCa61uZx6e1vUbfAEQumZ7hrZImJP1BF2+hXwAgiYRvYcxsmaRfShZvmm0db5VX70oWt5TRLgDhMrOfkXRGsjhXv/FjSV9PFuk3gHhk5+1dmD6gXwAa74WZx3vTB/QNQPzMbLGka9X6XvDv3P3wPOvTLwCYRsK3OGfr+L/v3R3WS197ppmd0mE9APE7N/O4m37jZwtsC4Bybc483pN5TL8ANIyZnWBm68zsTZJuSJ6+T61rg6ToG4D4/Y6kfyHp+i6nf6RfADBt0fyroE9rM49/2GG97GtrJD1aTHMA1ECv/caJZrbC3Q8V2CYABUsusPKuZPHrbfPp0S8ADWFmhyWdMMtLt0r6NXc/knmOvgGImJmdrdZcvI9IeluXb6NfADCNCt/irMw8nppzrZmvrZxzLQBNQL8BNIyZLZB0vVo/0p6Q9Jttq9AvAM3xkKSHJf0489xXJb3T3fe1rUvfAEQq+W5wrVoHgN7m7o90+Vb6BQDTSPgCAABU588lvSJ5vN3d76yyMQCq4+7r3P2Z7r5C0mpJb5f0c5L+wcz+uNLGASjTb0p6vqSvuPv1VTcGQD2R8C3OwczjZR3Wy752cM61ADQB/QbQIGb2AUlvShZ/y93/cpbV6BeABnL3/+vufybpZZKelPQuM3tFZhX6BiBCZrZO0vskHZa0rce30y8AmEbCtzj7M49P67Be9rV/LqgtAOqh137jIHNuAfVkZu/X8Tn5/r2775hjVfoFoMHcfVzSN5LFKzIv0TcAcfqgpOWSPiDpYTNbkb3p+HWYLPP84uQ5+gUA00j4Fud7ah2Nl2ZeLbNd+tpD7s4F24Bmy15Nt5t+47sFtgVAQczsGkm/nSy+1d0/1GF1+gUA6QWWhjPP0TcAcToruX+PWtW37bfXJ6+fkXnuquQ5+gUA00j4FsTdpyR9K1l82WzrmJlJuiBZ/EoZ7QIQtPsk/VPyeK5+Y7mkFyaL9BtAzSTTOLw9WXybu39wnrfQLwBYn9xPZp6jbwDQjn4BwDQSvsX66+T+RWb2C7O8/qs6/gWOydiBhnN3l3RDsvjaZA6vdldJWqHWGQQ7S2oagBwkyd50Goe3uvt/nO899AtAvMxsYVIA0mmdl0j6+WTx1vR5+gYgTu7+c+5uc910PMfwYOb5DyXvpV8AMI2Eb7H+Sq3TJEzSf02+sMnMFpjZr0r6RLLeLne/uaI2AiiAma0ys2ekNx3vb5dln0/m4sq6RtLDal1M4b+Z2XnJ9paY2ZWS/jBZ7xPufk8Z+wJgcGZ2tWbO2TtfZW8W/QIQp9Ml3WlmV5nZSDb5a2anm9nvSPpbtX5LPKbW3J5Z9A0A2tEvAJAkWesgEIpiZmdJ+ppac+xI0pRaiZ+nJct3Snqxuz9WfusAFMXMHpB0Zher/rW7X9b23lFJN0k6OXnqoFp9RnpBhpslvdzdn8ilsQAKZWZnSHowWXxS0v+b5y1vdvdPt22DfgGITFJ9d3/mqaOSDkhaqtZFm1L3S3qVu98xyzboG4AGMbPrJL1BrQrfdXOsQ78AgArforn7/ZI2qnUkLZ0U/aik29W6YMvPk+wFkOXu35F0jqQPSdqr1pezH0v6pqTfkPQyvqABtbKg7fHqeW5L2zdAvwBEab+k10j6mKTdah0MOlGtfuIHkr4k6Y2Sfna2ZK9E3wDgqegXAEhU+AIAAAAAAABANKjwBQAAAAAAAIBIkPAFAAAAAAAAgEiQ8AUAAAAAAACASJDwBQAAAAAAAIBIkPAFAAAAAAAAgEiQ8AUAAAAAAACASJDwBQAAAAAAAIBIkPAFAAAAAAAAgEiQ8AUAAAAAAACASJDwBQAAAAAAAIBIkPAFAAAAAAAAgEiQ8AUAAAAAAACASJDwBQAAAAAAAIBIkPAFAAAAAAAAgEiQ8AUAAAAAAACASJDwBQAAAAAAAIBIkPAFAAAAAAAAgEj8f07Y5FaCpbiwAAAAAElFTkSuQmCC\n",
          "text/plain": "<Figure size 720x360 with 1 Axes>"
         },
         "metadata": {
          "image/png": {
           "height": 341,
           "width": 702
          },
          "needs_background": "light"
         },
         "output_type": "display_data"
        }
       ]
      }
     },
     "709c083eed2d451392061c7b3def6227": {
      "model_module": "@jupyter-widgets/base",
      "model_module_version": "1.2.0",
      "model_name": "LayoutModel",
      "state": {
       "width": "600px"
      }
     },
     "70d97b7f70974b1696441318615144b7": {
      "model_module": "@jupyter-widgets/controls",
      "model_module_version": "1.5.0",
      "model_name": "RadioButtonsModel",
      "state": {
       "_options_labels": [
        "1",
        "-1"
       ],
       "description": "peaks polarity",
       "index": 1,
       "layout": "IPY_MODEL_06a42331cfdc43b69ad614d888d2f74a",
       "style": "IPY_MODEL_821b3f9f3021432cb36cb29aff6d8a18"
      }
     },
     "7210e4606e4a47e9b02493431db35061": {
      "model_module": "@jupyter-widgets/controls",
      "model_module_version": "1.5.0",
      "model_name": "SliderStyleModel",
      "state": {
       "description_width": ""
      }
     },
     "728607017bba4c419377ac95af5c63bb": {
      "model_module": "@jupyter-widgets/base",
      "model_module_version": "1.2.0",
      "model_name": "LayoutModel",
      "state": {}
     },
     "72f67217d6bd45edbfdd94452bee28bb": {
      "model_module": "@jupyter-widgets/base",
      "model_module_version": "1.2.0",
      "model_name": "LayoutModel",
      "state": {
       "width": "600px"
      }
     },
     "73ba0597301f48019e9964d4d25ad351": {
      "model_module": "@jupyter-widgets/controls",
      "model_module_version": "1.5.0",
      "model_name": "DescriptionStyleModel",
      "state": {
       "description_width": "200px"
      }
     },
     "750f1be92ffe4e6e84595322287367e1": {
      "model_module": "@jupyter-widgets/controls",
      "model_module_version": "1.5.0",
      "model_name": "TextModel",
      "state": {
       "description": "minimum interval (s)",
       "layout": "IPY_MODEL_e50d4a24a94643d19ade7fd39bef096b",
       "placeholder": "0.001",
       "style": "IPY_MODEL_73ba0597301f48019e9964d4d25ad351",
       "value": "0.005"
      }
     },
     "753fb969130b465aba7ae1a90f4aa37f": {
      "model_module": "@jupyter-widgets/base",
      "model_module_version": "1.2.0",
      "model_name": "LayoutModel",
      "state": {
       "width": "max-content"
      }
     },
     "755cdcfb66b64f0c9742c3a9f1ed7fa3": {
      "model_module": "@jupyter-widgets/controls",
      "model_module_version": "1.5.0",
      "model_name": "SliderStyleModel",
      "state": {
       "description_width": "250px"
      }
     },
     "7618fa9214dd4f19a586dd6234d6ad8b": {
      "model_module": "@jupyter-widgets/base",
      "model_module_version": "1.2.0",
      "model_name": "LayoutModel",
      "state": {
       "width": "600px"
      }
     },
     "76e68c6c729f464f8059f29e22fdc050": {
      "model_module": "@jupyter-widgets/controls",
      "model_module_version": "1.5.0",
      "model_name": "SliderStyleModel",
      "state": {
       "description_width": "200px"
      }
     },
     "77b2e60dfbc34b44b7eb8953b749486d": {
      "model_module": "@jupyter-widgets/controls",
      "model_module_version": "1.5.0",
      "model_name": "SliderStyleModel",
      "state": {
       "description_width": "250px"
      }
     },
     "78e332113bd649699df76b32cecac848": {
      "model_module": "@jupyter-widgets/controls",
      "model_module_version": "1.5.0",
      "model_name": "RadioButtonsModel",
      "state": {
       "_options_labels": [
        "none",
        "0"
       ],
       "description": "detect delay to peaks on channel: ",
       "index": 1,
       "layout": "IPY_MODEL_5fdd275878ab43bdbc56cb670af92ab5",
       "style": "IPY_MODEL_ef5e3d27d25b4424a12ea319a762b80f"
      }
     },
     "7966ff02886c4fc097f19bcf03b9c4a6": {
      "model_module": "@jupyter-widgets/base",
      "model_module_version": "1.2.0",
      "model_name": "LayoutModel",
      "state": {
       "width": "600px"
      }
     },
     "7b5b300f937e4ff085367af53bdf66d5": {
      "model_module": "@jupyter-widgets/base",
      "model_module_version": "1.2.0",
      "model_name": "LayoutModel",
      "state": {}
     },
     "7bd857ecd8604a1cbb98206aa495a3a8": {
      "model_module": "@jupyter-widgets/base",
      "model_module_version": "1.2.0",
      "model_name": "LayoutModel",
      "state": {}
     },
     "7c0530b0c9ac42d29d3399fc2dd414ba": {
      "model_module": "@jupyter-widgets/controls",
      "model_module_version": "1.5.0",
      "model_name": "VBoxModel",
      "state": {
       "children": [
        "IPY_MODEL_44ee5df77d3c4515998d4529b4342eba",
        "IPY_MODEL_24b6aaab72a64866a0f8c6aef950691d"
       ],
       "layout": "IPY_MODEL_cd56292df5454621b4e092447e075007"
      }
     },
     "7d844f2809934bf3b11a679798a3b6c3": {
      "model_module": "@jupyter-widgets/base",
      "model_module_version": "1.2.0",
      "model_name": "LayoutModel",
      "state": {
       "width": "600px"
      }
     },
     "7e28a387e6544b48a1513c54374ac78e": {
      "model_module": "@jupyter-widgets/base",
      "model_module_version": "1.2.0",
      "model_name": "LayoutModel",
      "state": {
       "width": "600px"
      }
     },
     "7ee2ce58c9f9470ca39751e38a9cc5c9": {
      "model_module": "@jupyter-widgets/controls",
      "model_module_version": "1.5.0",
      "model_name": "SelectModel",
      "state": {
       "_options_labels": [
        "0"
       ],
       "description": "Channel used to detect events",
       "index": 0,
       "layout": "IPY_MODEL_5e6fadd432fc41039bd5105b02b6bdc1",
       "style": "IPY_MODEL_16d1d69610ee400aa65b716cd705ea12"
      }
     },
     "81dc20a731f24b9b9bfdeb6d7e810177": {
      "model_module": "@jupyter-widgets/base",
      "model_module_version": "1.2.0",
      "model_name": "LayoutModel",
      "state": {
       "width": "600px"
      }
     },
     "821b3f9f3021432cb36cb29aff6d8a18": {
      "model_module": "@jupyter-widgets/controls",
      "model_module_version": "1.5.0",
      "model_name": "DescriptionStyleModel",
      "state": {
       "description_width": "200px"
      }
     },
     "829385b61dc1480f8a56b2c0292189d5": {
      "model_module": "@jupyter-widgets/controls",
      "model_module_version": "1.5.0",
      "model_name": "VBoxModel",
      "state": {
       "children": [
        "IPY_MODEL_78e332113bd649699df76b32cecac848",
        "IPY_MODEL_3aa9e1103675422d81beac2c063f4cff",
        "IPY_MODEL_87540f25317549a38ba28034dcd51a0d",
        "IPY_MODEL_69e23d191e01470593b8e5f8f8797857",
        "IPY_MODEL_750f1be92ffe4e6e84595322287367e1"
       ],
       "layout": "IPY_MODEL_078d2fe1665340cebac3d41c5713bf61"
      }
     },
     "82b69a8660f34b2293a245f4aff081ab": {
      "model_module": "@jupyter-widgets/controls",
      "model_module_version": "1.5.0",
      "model_name": "LabelModel",
      "state": {
       "layout": "IPY_MODEL_a40d847c5bf341369833915bedfe4d18",
       "style": "IPY_MODEL_9c91fdf7bd564f3c8b996eba349a2ab4",
       "value": "time since last event is: nan"
      }
     },
     "83823e3064254db8b9edeb53534ed95d": {
      "model_module": "@jupyter-widgets/controls",
      "model_module_version": "1.5.0",
      "model_name": "SliderStyleModel",
      "state": {
       "description_width": "200px"
      }
     },
     "843db2ad85d8477daa3a90597db2e7e2": {
      "model_module": "@jupyter-widgets/base",
      "model_module_version": "1.2.0",
      "model_name": "LayoutModel",
      "state": {}
     },
     "853d9567ae4544a3b52fb30cf68b0750": {
      "model_module": "@jupyter-widgets/controls",
      "model_module_version": "1.5.0",
      "model_name": "DescriptionStyleModel",
      "state": {
       "description_width": "200px"
      }
     },
     "87540f25317549a38ba28034dcd51a0d": {
      "model_module": "@jupyter-widgets/controls",
      "model_module_version": "1.5.0",
      "model_name": "RadioButtonsModel",
      "state": {
       "_options_labels": [
        "1",
        "-1"
       ],
       "description": "peaks polarity",
       "index": 1,
       "layout": "IPY_MODEL_26e63bba8dd948cf96847f2f503a377a",
       "style": "IPY_MODEL_184befc61c854dce8c1aad897a7c889a"
      }
     },
     "882c302d96924a6faf2d049c9279828a": {
      "model_module": "@jupyter-widgets/base",
      "model_module_version": "1.2.0",
      "model_name": "LayoutModel",
      "state": {}
     },
     "89d24010a0d7421682ca471c5250d718": {
      "model_module": "@jupyter-widgets/controls",
      "model_module_version": "1.5.0",
      "model_name": "DescriptionStyleModel",
      "state": {
       "description_width": "200px"
      }
     },
     "8c0b75ca0efe4f0d9e28019a671d9b3c": {
      "model_module": "@jupyter-widgets/controls",
      "model_module_version": "1.5.0",
      "model_name": "FloatRangeSliderModel",
      "state": {
       "_model_name": "FloatRangeSliderModel",
       "_view_name": "FloatRangeSliderView",
       "continuous_update": false,
       "description": "window to detect peaks within",
       "layout": "IPY_MODEL_26c117c787814ae19dc147e5eb71ba08",
       "max": 0.1,
       "min": -0.01,
       "readout_format": ".4f",
       "step": 0.0005,
       "style": "IPY_MODEL_6605431610b44459857f435e7fcb9abd",
       "value": [
        0.005,
        0.011
       ]
      }
     },
     "8fa85c250673409a94f2771fa666f671": {
      "model_module": "@jupyter-widgets/controls",
      "model_module_version": "1.5.0",
      "model_name": "RadioButtonsModel",
      "state": {
       "_options_labels": [
        "1",
        "-1"
       ],
       "description": "peaks polarity",
       "index": 1,
       "layout": "IPY_MODEL_728607017bba4c419377ac95af5c63bb",
       "style": "IPY_MODEL_635092a8d4a54c52bc3004280f2705f4"
      }
     },
     "90b345f643a445aaabb372dbbb6eeab6": {
      "model_module": "@jupyter-widgets/controls",
      "model_module_version": "1.5.0",
      "model_name": "LabelModel",
      "state": {
       "layout": "IPY_MODEL_f6e24b9f036a446cb6d3d1d4a28c1901",
       "style": "IPY_MODEL_dee8f38e0cca4852a3bdb2412d26c1f1",
       "value": "lagging peak times are (ms): [10.849999999999998]"
      }
     },
     "90eacab8a8894611aaedeb967d8e073a": {
      "model_module": "@jupyter-widgets/controls",
      "model_module_version": "1.5.0",
      "model_name": "SliderStyleModel",
      "state": {
       "description_width": "250px"
      }
     },
     "919fccbf24ec4882b6763b804c3afb55": {
      "model_module": "@jupyter-widgets/base",
      "model_module_version": "1.2.0",
      "model_name": "LayoutModel",
      "state": {
       "width": "600px"
      }
     },
     "944fd3cc7f144677897fd748d56ca400": {
      "model_module": "@jupyter-widgets/base",
      "model_module_version": "1.2.0",
      "model_name": "LayoutModel",
      "state": {}
     },
     "972d1b3fc6ea4b3886f8d760b123ebc5": {
      "model_module": "@jupyter-widgets/controls",
      "model_module_version": "1.5.0",
      "model_name": "VBoxModel",
      "state": {
       "children": [
        "IPY_MODEL_df5f9ec9bfc7442d9d6fa5fed8b270d7",
        "IPY_MODEL_b24c1c536de24138a3358bf8e6434445",
        "IPY_MODEL_e1b24d196fba4c248af2d10e32a4b73d",
        "IPY_MODEL_18406c5810fa4ccfbf05a82c9445dbf9",
        "IPY_MODEL_e8b2bf0faf1449079450a61270029a90"
       ],
       "layout": "IPY_MODEL_dc183b32e9b84ef1b2cd4f2183f2ba65"
      }
     },
     "9aa2809baeed4c67b2edb2535184ecf6": {
      "model_module": "@jupyter-widgets/base",
      "model_module_version": "1.2.0",
      "model_name": "LayoutModel",
      "state": {
       "width": "600px"
      }
     },
     "9c91fdf7bd564f3c8b996eba349a2ab4": {
      "model_module": "@jupyter-widgets/controls",
      "model_module_version": "1.5.0",
      "model_name": "DescriptionStyleModel",
      "state": {
       "description_width": ""
      }
     },
     "9ed877cb22634d9bb9a9d5198b4e3a9f": {
      "model_module": "@jupyter-widgets/controls",
      "model_module_version": "1.5.0",
      "model_name": "FloatRangeSliderModel",
      "state": {
       "_model_name": "FloatRangeSliderModel",
       "_view_name": "FloatRangeSliderView",
       "continuous_update": false,
       "description": "xrange (s)",
       "layout": "IPY_MODEL_13a877fd8889474e8e3f5086dce2e2e4",
       "max": 0.05,
       "min": -0.01,
       "readout_format": ".3f",
       "step": 0.0005,
       "style": "IPY_MODEL_bce996216eab4fc38ad38e60d1391f7e",
       "value": [
        -0.001,
        0.03
       ]
      }
     },
     "a130b7839fc74090b9f833f8a9ba12b6": {
      "model_module": "@jupyter-widgets/controls",
      "model_module_version": "1.5.0",
      "model_name": "DescriptionStyleModel",
      "state": {
       "description_width": ""
      }
     },
     "a40d847c5bf341369833915bedfe4d18": {
      "model_module": "@jupyter-widgets/base",
      "model_module_version": "1.2.0",
      "model_name": "LayoutModel",
      "state": {
       "width": "600px"
      }
     },
     "a524f845612149d1a325801db0c1c1e1": {
      "model_module": "@jupyter-widgets/base",
      "model_module_version": "1.2.0",
      "model_name": "LayoutModel",
      "state": {
       "width": "max-content"
      }
     },
     "aa4f5aa1f50e4a0cb8caea75356b5853": {
      "model_module": "@jupyter-widgets/base",
      "model_module_version": "1.2.0",
      "model_name": "LayoutModel",
      "state": {
       "width": "600px"
      }
     },
     "aa731c42e0034ca99dc62e6529ff3fee": {
      "model_module": "@jupyter-widgets/controls",
      "model_module_version": "1.5.0",
      "model_name": "SelectModel",
      "state": {
       "_options_labels": [
        "0",
        "1",
        "2",
        "3",
        "4"
       ],
       "description": "Bouts",
       "index": 4,
       "layout": "IPY_MODEL_4f287ee8f60e4a9181f5d6027c42e9e2",
       "style": "IPY_MODEL_d253c92bd6fb4f5f9c96a7372e21e8b0"
      }
     },
     "ac772b9d7ef74af592ef1cead6c0842b": {
      "model_module": "@jupyter-widgets/base",
      "model_module_version": "1.2.0",
      "model_name": "LayoutModel",
      "state": {
       "width": "600px"
      }
     },
     "adfcbff416164c69856d52d03a0d3a5b": {
      "model_module": "@jupyter-widgets/controls",
      "model_module_version": "1.5.0",
      "model_name": "RadioButtonsModel",
      "state": {
       "_options_labels": [
        "peak",
        "level crossing"
       ],
       "description": "Type of event detection",
       "index": 0,
       "layout": "IPY_MODEL_25ca2ce9603a472392dce6f5d9730197",
       "style": "IPY_MODEL_21453fe989d84c9497ec982c42bfb6e6"
      }
     },
     "ae6a66ce3b0b419bab3b90c96a61de2e": {
      "model_module": "@jupyter-widgets/controls",
      "model_module_version": "1.5.0",
      "model_name": "DescriptionStyleModel",
      "state": {
       "description_width": ""
      }
     },
     "ae9da83ac8b94ab7a50319644777d4cb": {
      "model_module": "@jupyter-widgets/base",
      "model_module_version": "1.2.0",
      "model_name": "LayoutModel",
      "state": {}
     },
     "b24c1c536de24138a3358bf8e6434445": {
      "model_module": "@jupyter-widgets/controls",
      "model_module_version": "1.5.0",
      "model_name": "FloatRangeSliderModel",
      "state": {
       "_model_name": "FloatRangeSliderModel",
       "_view_name": "FloatRangeSliderView",
       "continuous_update": false,
       "description": "window to detect peaks within",
       "layout": "IPY_MODEL_aa4f5aa1f50e4a0cb8caea75356b5853",
       "max": 0.1,
       "min": -0.01,
       "readout_format": ".4f",
       "step": 0.0001,
       "style": "IPY_MODEL_77b2e60dfbc34b44b7eb8953b749486d",
       "value": [
        0.005,
        0.013
       ]
      }
     },
     "b3520fb65b2440b498a85b541a86dd68": {
      "model_module": "@jupyter-widgets/controls",
      "model_module_version": "1.5.0",
      "model_name": "SliderStyleModel",
      "state": {
       "description_width": ""
      }
     },
     "b3b4ebb9b6374e72a2a94975c21411d8": {
      "model_module": "@jupyter-widgets/controls",
      "model_module_version": "1.5.0",
      "model_name": "HBoxModel",
      "state": {
       "children": [
        "IPY_MODEL_d52ebff7254f4ee7b3b739e436dfedd6",
        "IPY_MODEL_10a87cf04ff246baa37c08b53af4dd25",
        "IPY_MODEL_10c5b92666f049bcbf09b0096acef60e"
       ],
       "layout": "IPY_MODEL_c508941ce9444c6f8f7e4e90530d57ab"
      }
     },
     "b5335974ed0f4284baa34e2dd4b54c4f": {
      "model_module": "@jupyter-widgets/output",
      "model_module_version": "1.0.0",
      "model_name": "OutputModel",
      "state": {
       "layout": "IPY_MODEL_60a58044fbaf4451a9dccd3962508da8",
       "outputs": [
        {
         "data": {
          "image/png": "iVBORw0KGgoAAAANSUhEUgAABFwAAAIcCAYAAADL8bqfAAAAOXRFWHRTb2Z0d2FyZQBNYXRwbG90bGliIHZlcnNpb24zLjUuMSwgaHR0cHM6Ly9tYXRwbG90bGliLm9yZy/YYfK9AAAACXBIWXMAABYlAAAWJQFJUiTwAADfZ0lEQVR4nOz9d3hc13Wvj3/2FPROgCQIEgQpVrGDpERJVHVkFYtWLHdZjuJGJXZuclNcbhTH8k1uvol9/UturuNEUCLZki35SrZkm+qSJYpqtERQ7L1XFIIA0YHBzP79MXMGbQDM7H327Fk4630ePuTMnHf2WhtrDoGNs9cRUkowDMMwDMMwDMMwDMMw7uGzHQDDMAzDMAzDMAzDMMxkgxdcGIZhGIZhGIZhGIZhXIYXXBiGYRiGYRiGYRiGYVyGF1wYhmEYhmEYhmEYhmFchhdcGIZhGIZhGIZhGIZhXIYXXBiGYRiGYRiGYRiGYVyGF1wYhmEYhmEYhmEYhmFchhdcGIZhGIZhGIZhGIZhXIYXXBiGYRiGYRiGYRiGYVyGF1wYhmEYhmEYhmEYhmFchhdcGIZhGIZhGIZhGIZhXIYXXBiGYRiGYRiGYRiGYVyGF1wYhmEYhmEYhmEYhmFchhdcGIZhGIZhGIZhGIZhXCZjF1yEEHlCiNuEEH8jhHhaCHFSCCFjf/7GpTGmCSF+IIQ4KIToEUJcFEK8KYT4khBCuDEGwzAMwzAMwzAMwzDeI2A7gHG4AsDzpt5cCLEawEsApsSe6gRQCGB97M8nhRAflVL2m4qBYRiGYRiGYRiGYZjJScZe4RKjFcBvAXwfwGcBNLjxpkKIYgDPIrrYsh/AGillIYB8AF8D0A/gFgD/4sZ4DMMwDMMwDMMwDMN4i0y+wuVNKWXZ0CeEEP/o0nt/HcB0AN0AbpdSngCA2NUsPxJCFAL4RwAbhRD/R0p50KVxGYZhGIZhGIZhGIbxABl7hYuUMmzw7T8f+/vnzmLLCH6I6BYjP4DPGYyDYRiGYRiGYRiGYZhJSMYuuJhCCLEQQHXs4YuJjpFSdgF4M/bw5nTExTAMwzAMwzAMwzDM5MFzCy4Alg75955xjnNeu9xgLAzDMAzDMAzDMAzDTEK8uOAyY8i/z45znPNakRCiwGA8DMMwDMMwDMMwDMNMMjK5aa4pCof8u3uc44a+VohoT5cxEULUJzF2DYAXpZTcF4ZhGIZhGIZhGIZhJjFeXHCxSU51dfXddXV1d9sOhALNzc0AgIqKCnS+0gnZK+Ov5f9ePro3d0MODD5XcGsBRFCkPU6GBj//+SIAQH5+PjZsSGZ9lGHGZuj5iXGfTZtWx//thc8r1xPjJlxPjJtwPTFuQrmeNm7cqPSDphcXXDqG/DsPQPsYx+WN4SRESrl6omOEEPXl5eW1GzdunOhQBkBdXR0AYOPGjXin/R30d/bHX7vqi1fh/d73MdAzEH/umi9cg2BeMO1xMjS4777Bfw/9YY5hVBh6fmLcx2ufV64nxk24nhg34Xpi3MSL9eTFHi7nhvy7apzjnNc6pJTjbidKlcOHD+Pw4cNp86i6Q5EROeyx8AkIn0h4DMVcbbjU4tV1VaGYK9eTeVcVirnyHJt3VaGYK5+fzLuqUMyV68m8qwrFXLmezLs6UJtjBy9e4TL0zkRLAewf4zjnbkZ73Q7g9ddfBwDMnz8/LR5VdyhSjlhwEWMvuFDM1YZLLV5dVxWKuXI9mXdVoZgrz7F5VxWKufL5ybyrCsVcuZ7Mu6pQzJXrybyrA7U5dvDigsshAKcBzAJwK4CnRh4ghMgHcG3s4atuB7Bhw4a0elTdoaRyhQvFXG241OLVdW2M6SWXWry6ro0xvebaGJNznZwutXh1XRtjesmlFq+ua2NML7nU4tV1daA2xw6eW3CRUkohxGMA/hrAZ4QQfyelPDHisK8BKAAQAfAzt2OorKxMq0fVHYYc8VhgzAUXirnacKnFq+vaGNNLLrV4dV0bY3rNtTEm5zo5XWrx6ro2xvSSSy1eXdfGmF5yqcWr6+pAbY4dMrqHixCiVAhR7vzBYLx5Q58XQhSM8B4QQsjYn5oEb/19AI2INsZ9TgixOuZlCSH+GMDfxY57SEp5wO28Ojo60NExYR9e1zyq7lBSucKFYq42XGrx6rqqUMyV68m8qwrFXHmOzbuqUMyVz0/mXVUo5sr1ZN5VhWKuXE/mXR2ozbFDRi+4APgAQPOQP7Niz/+PEc//MJU3lVK2AdgA4CKAywFsE0K0A+gE8CMAWQBeAfBn2hkk4IknnsATTzyRNo+qO5RUerhQzNWGSy1eXVcVirlyPZl3VaGYK8+xeVcVirny+cm8qwrFXLmezLuqUMyV68m8qwO1OXbw3JYiBynl+0KIJQC+CeAOADMBdCHaJPcnAP5LShkxMfaaNWvS6lF1h5LUFS6xRRmKudpwqcWr69oY00sutXh1XRtjes21MSbnOjldavHqujbG9JJLLV5d18aYXnKpxavr6kBtjh3EyCsHGHMIIepra2tr6+vrbYdCAuc+7V/5ylfwxnffGPba9d+5HvV19eg8P3jH7tX3rUZhZWFaY2ToIIasz/Fpj9HFOT9t3LjRciSTE699XrmeGDfhemLchOuJcRPi9SQmPmQ0mb6liGESN8wdZ0sRwzAMwzAMwzAMw9jGs1uKbPL4448DAO6+++60eFRdh0T9W4Cx71JEMVcbLrV4dd1/+qefAgDuueeetI3pJZdavLquKhRzteH+8IfPAAA+9rGPpW1Mm64qFHPl85N5VxWKuXI9mXdVoZgr15N5Vwdqc+zACy4WKCkpSatH1Y2T4AoXYOwFF4q52nCpxavvdgMAZsxI55jecanFq+vaGNNL7pw52QBS/7zqjGnTtTGml1xq8eq6Nsb0kkstXl3XxphecqnFq+vqQG2OHbiHSxrhHi6p4ezx+9IXvoQ3/9eb8ed9AR+u+5vrsOMnO9B2vC3+/Ip7V6B0Tmm6w2SIQHzPKJNhcD0xbsL1xLgJ1xPjJlxPjJsQryfu4cJMUlK8woVhGIZhGIZhGIZhbMNbiizw2muvAQBuuummtHhUXYcxe7iIxAsuFHO14VKLV9dta8sDAJw7l9o2BYq5cj2Zd1WhmKsN98kn3wIArF+/PuVtRdRy1YFirnx+Mu+qQjFXrifzrioUc+V6Mu/qQG2OHXjBxQInTpxIq0fVjZPiFS4Uc7XhUotX1/3mN++J/Z3abWYp5sr1ZN61MaaX3E9/en3836nufKaWqw4Uc+Xzk3nXxphecqnFq+vaGNNLLrV4dV0dqM2xA/dwSSPcwyU1nD1+X/j8F/D2P70dfz6QE8D6b63Hnp/vwYUDF+LPL/n0ElQsrkh7nAwNhl4Qxac9Rhfie5AzHq99XrmeGDfhemLchOuJcRPi9cQ9XJhJyohvtp0rW7iHC8MwDMMwDMMwDJOp8IKLBfbv34/9+/enzaPqOoy6CmuCLUUUc7XhUotX11WFYq5cT+ZdVSjmynNs3lWFYq58fjLvqkIxV64n864qFHPlejLv6kBtjh24h4sF3nwzeovjxYsXp8Wj6sYZud4ixr/ChWKuNlxq8eq6qlDMlevJvKsKxVx5js27qlDMlc9P5l1VKObK9WTeVYVirlxP5l0dqM2xA/dwSSNOD5cXX3wRAFBRkVq/kebmZiWPquvs8bv3s/fi3R+8G38+qzALV//l1TjwqwNo2NEQf37hnQtRuaqSZK42XGrx6rqqPSEo5sr1ZN5V3YNMMVcbrk4PF2q5AlxPpl1q8eq6XE9mXWrx6rpcT2ZdavHqujo9XDJgjpV6uPAVLhZQ+WLreFTdOCle4UIxVxsutXh1XRtjesmlFq+ua2NMr7k2xuRcJ6dLLV5d18aYXnKpxavr2hjTSy61eHVdHajNsQP3cLFAa2srWltb0+ZRdR1S7eFCMVcbLrV4dV1VKObK9WTeVYVirjzH5l1VKObK5yfzrioUc+V6Mu+qQjFXrifzrg7U5tiBF1ws8NRTT+Gpp55Km0fVjZPkFS7OcRRzteFSi1fXVYVirlxP5l1VKObKc2zeVYVirnx+Mu+qQjFXrifzrioUc+V6Mu/qQG2OHXhLkQXWrVuXVo+q65DqFS4Uc7XhUotX17UxppdcavHqujbG9JprY0zOdXK61OLVdW2M6SWXWry6ro0xveRSi1fX1YHaHDtw09w04jTNra+vtx0KCZymSp//xOfxu3/9Xfz53LJcXPmnV+Loy0dx+p3T8ecv+/BlmHX1rLTHydBApwknw4xEp+kbMzFe+7xyPTFuwvXEuAnXE+MmxOuJm+Yyk5NUr3BhmEQ8+CDpEzzDeAovLLIwDMMwDDP54R4uFnj00Ufx6KOPps2j6sZJ8S5FFHO14VKLV9dVhWKuXE/mXVUo5sr1ZN5VhWKuXE/mXVUo5sr1ZN5VhWKuXE/mXR2ozbEDX+FigenTp6fVo+o6pHqFC8VcbbjU4tV1bYzpJZdavLqujTG95FKLV9e1MaaXXGrx6ro2xvSSSy1eXdfGmF5yqcWr6+pAbY4duIdLGuEeLqnh7PH73O9/Du//6P348/lT87H2q2tx4o0TOPH6ifjzs6+bjTk3zUl3mAwRiO8ZZTIMrifGTbieGDfhemLchOuJcRPi9cQ9XJjJyajeLNzDhVHg5MlyAEB9PbB6teVgGIYZl6G/l+DPK8MwDMMwVOEFFwu8/PLLAIAPf/jDafGoug4jr8KaqIcLxVxtuNTi1XX/4R/uiv2dWkNOirlyPZl3VaGYqw13zZrBf6d6IS61XHWgmCufn8y7qlDMlevJvKsKxVy5nsy7OlCbYwdecLFAQ0NDWj2qbpyR32xPcIULxVxtuNTi1XVtjOkll1q8uq6NMb3m2hiTc52cLrV4dV0bY3rJpRavrmtjTC+51OLVdXWgNscO3MMljXAPl9Rw9vh95iOfwfaHtsefL5xRiNUbV+PM787gyAtH4s9XXVGF+bfPT3ucDA3EkPU5Pu0xuhDfg5zxeO3zyvXEuAnXE+MmXE+MmxCvJ6UeLnxbaCbzSfEKF4ZhGIZhGIZhGIaxDS+4WGDXrl3YtWtX2jyqrkOqPVwo5mrDpRavrqsKxVy5nsy7qlDMlefYvKsKxVz5/GTeVYVirlxP5l1VKObK9WTe1YHaHDtwDxcLbN26FQCwfPnytHhU3TgpXuFCMVcbLrV4dV1VKObK9WTeVYVirjzH5l1VKObK5yfzrioUc+V6Mu+qQjFXrifzrg7U5tiBe7ikEaeHy6uvvgoAKC0tTclvbW1V8qi6zh6/T93yKex4ZEf8+eLqYqz64io07GzAgWcOxJ+ftnwaFt+1mGSuNlxq8eq6qj0hKObK9WTeVd2DTDFXG65ODxdquQJcT6ZdavHqulxPZl1q8eq6XE9mXWrx6ro6PVwyYI6VerjwFS4WUPli63hU3TgpXuFCMVcbLrV4dV0bY3rJpRavrmtjTK+5NsbkXCenSy1eXdfGmF5yqcWr69oY00sutXh1XR2ozbED93CxQHNzM5qbm9PmUXUdku7hEjuOYq42XGrx6rqqUMyV68m8qwrFXHmOzbuqUMyVz0/mXVUo5sr1ZN5VhWKuXE/mXR2ozbEDL7hY4JlnnsEzzzyTNo+qGyfFK1wo5mrDpRavrqsKxVy5nsy7qlDMlefYvKsKxVz5/GTeVYVirlxP5l1VKObK9WTe1YHaHDvwliILXHvttWn1qLoOqd6liGKuNlxq8eq6xcVdAIC8vPy0jekll1q8uq6NMb3kVlSEAACBQDBtY9p0bYzpJZdavLqujTG95FKLV9e1MaaXXGrx6ro6UJtjB26am0acprn19fW2QyGB01TpEzd9Art+Ong7rtLLSrHi8yvQcrgFu3+2O/582fwyLP9certlM3TQadLFMCPhemLchOuJcROuJ8ZNuJ4YNyFeT0pNc3lLEZPxpHqFC8MwDMMwDMMwDMPYhhdcLPDwww/j4YcfTptH1Y0zVg8XkXjBhWKuNlxq8eq6qlDMlevJvKsKxVy5nsy7qlDMlevJvKsKxVy5nsy7qlDMlevJvKsDtTl24B4uFqipqUmrR9V1SPUKF4q52nCpxavr2hjTSy61eHVdG2N6yaUWr65rY0wvudTi1XVtjOkll1q8uq6NMb3kUotX19WB2hw7cA+XNMI9XFLD2eN313V3Yc/P98Sfn7JwCpZ9dhkunbqEDx7+IP580awi1H6pNu1xMjT42tdeBADceuut2LDBcjAMeYjvQc54Nm0a/LcXPq9cT4ybcD0xbsL1xLgJ8XpS6uGS8Ve4CCEKAfwlgI8DmAMgDOAQgCcA/FBK2a/4vgLAJwH8AYBaAOUAQgDOAHgLwL9JKbdrJ8BoM+oKFx/3cGFS50c/ujX2N8DrzAyT2Xz0o4P/5s8rwzAMwzBUyegFFyHEbACbAdTEnuoGkA1gTezPPUKID0kpW1N83xwAvwRw+5CnOwFkAVgQ+/OHQohvSin/t04OiXj++ecBALfffvsER7rjUXXjjPhme6ItRRRzteFSi1fXVYVirlxP5l1VKObKc2zeVYVirnx+Mu+qQjFXrifzrioUc+V6Mu/qQG2OHTJ2wUUI4QewCdHFlnMA7pVSviqE8AH4BICHAKwC8DMMXzhJhvuHOD8C8A9SyrOxq15WAvgXANcB+J4Q4g0p5ft62Qynra0trR5V12HUtjenae4YCy4Uc7XhUotX17UxppdcavHqujbG9JprY0zOdXK61OLVdW2M6SWXWry6ro0xveRSi1fX1YHaHDtkbA8XIcSXEV1UkQCuklL+bsTrnwbw89jD35NS/jaF9z6O6ELOZinljQleLwJwCkAxgH+SUn5LKYnR78s9XFLA2eP3+1f/Pvb9Yl/8+alLp+LyT1yOrqYuvP+jwbWwvIo8XPG1K9IeJ0ODoTe1ytDTHkMI4nuQMx6vfV65nhg34Xpi3ITriXET4vWk1MMlk28LfW/s79dHLrbEeBLAsRHHJktl7O+EKx9SynYAB2MP81J8b8ZlUr3ChWEYhmEYhmEYhmFsk5ELLkKIPABXxx6+mOgYGf0p/KXYw5tTHMJZqFk9xvhFABbGHm5L8b0nZPv27di+PfV+vKoeVTdOij1cKOZqw6UWr66rCsVcuZ7Mu6pQzJXn2LyrCsVc+fxk3lWFYq5cT+ZdVSjmyvVk3tWB2hw7ZGoPl8UYXAzaM85xzmvThRBTpJQtSb7/jwD8XwA3CCH+DYl7uBQDeBfRHjGusm1bdA2ntja1WxirelRdh1SvcKGYqw2XWry6rioUc+V6Mu+qQjFXnmPzrioUc+Xzk3lXFYq5cj2Zd1WhmCvXk3lXB2pz7JCRPVyEEBsA/Cb2cIWUctcYx90J4Fexh8uklOMtzgz1fAD+HsA3Mbiw49ylKAtAA4BHAPydlLInyfdMpjHLourq6rxvfSvaEsbv9yfz1nHC4bCSR9Vtbm4GAJT0lqB3R2/8+eCsIHJW5iDSE0HXq13x50WOQMHNBSRzteFSi1fXve++wb2iDz5Yl5YxveRSi1fXdc5PFRUVaRvTS67q51VnTJsu15NZl1q8ui7Xk1mXWry6LteTWZdavLquaj3pjOtWrhs3blTq4ZKpV7gUDvl39zjHDX2tcMyjRiCljAgh7gewH9GrXQpifxxyEb3CJQ9AUgsuqaDyxdbxqLpxxloTHFnyEf0xveRSi1fXtTGml1xq8eq6Nsb0mmtjTM51crrU4tV1bYzpJZdavLqujTG95FKLV9fVgdocO2TqFS53Y3Arz3wp5ZExjrsZwMuxh1dLKd9N8v3LATwF4AYArwD4LqLbk3IBXAXgnwDMB3AUwHVSynNqmYwat762trb22WefBQBUVlZOYAzn/PnzSh5V1+livWHNBhz8zcH485W1lVj40YUIdYfw9vfejj8fyA1g/TfXk8zVhkstXl1X9a4nFHPlejLvqnbZp5irDVfnLkXUcgW4nky71OLVdbmezLrU4tV1uZ7MutTi1XV17lKUAXM8qe5S1DHk3+PdJWjoax1jHjWaRxFdbHkDwC1SyrellJeklA1SymcArAdwAcBlAP4xhfdNik2bNmHTpk1p86i6Dqn2cKGYqw2XWry6bnV1M6qrm5HqFkyKuXI9mXdVoZirDVf186ozpk1XFYq58vnJvKsKxVy5nsy7qlDMlevJvKsDtTl2yNQtRUOvKKkCkLCHS+w1h/PJvLEQYjGA22IPfyATXOIjpWwSQjwK4C8AfFwIcW+i41S58cYb0+pRdeOkeJciirnacKnFq+vef/8zAFJfUaeYK9eTedfGmF5yX321DQAwf37qe7yp5aoDxVz5/GTetTGml1xq8eq6Nsb0kkstXl1XB2pz7JCpW4ryEL1ixQfgG1LK749x3I8A/DGABillUtcICSE+DuAXsYdLpJT7xjjujwD8e+zhdCllYwopjDV2fW1tbW19fTL9dRnnkrOPrPoIDj93OP78jLUzsOAjCxAJR7Dl77bEnxc+gev/9vq0x8nQQOcSRoYZCdcT4yZcT4ybcD0xbsL1xLgJ8XqaPFuKpJTdiN6SGQBuTXRM7BbOt8QevprC20eG/Hv2OMdNG/LvzhTen3EZ58oVh/GucMnEBUSGYRiGYRiGYRjGe2TkgkuMn8T+vlEIcWWC1z8JYG7s34+m8L7bh/z7jxMdIITIB/AHsYe7pJRdiY5Tpa6uLr66lw6Pqhtn5BqK08NFiISLLhRzteFSi1fXVYVirlxP5l1VKObK9WTeVYVirlxP5l1VKObK9WTeVYVirlxP5l0dqM2xQ6b2cAGARwD8GYAlAH4Z66PyWyGED8DHATwUO+4lKeUrQ0UhxAMAvhN7OEdKecJ5TUp5UgixCcAGABuEEI8BeADAMUTnYy2A/4PBxZwfuJ3YokWL0upRdR1GXrUihty+QvjEsCtgZESSzNWGSy1eXXfLlkE3lasYKebK9WTetTGml9xDh24AANTVpfZ51RnTpmtjTC+51OLVdW2M6SWXWry6ro0xveRSi1fX1YHaHDtkZA8XByHEHACbAVTHnupG9KqcnNjjnQBuklJeHOE9gDEWXGKvlwN4EcDqIU93A8jC8EWo/y2l/LpuHkPG5R4uKeCsJt629DYcfflo/PmZV83EvFvmAQDe/Ic3Ee4Px19b/z/WI5CdyeuIjC10bjPLMCMhvgc54/Ha55XriXETrifGTbieGDchXk+Tp4eLg5TyOIBlAP4OwN7Y0yFEtwV9HcAVIxdbknzfCwDWAfgygJcANAIIAhhA9EqXnwK41s3FFkadca9w8Y/YUhT2wHfmDMMwDMMwDMMwTMaT8ZcCSCnbAfxt7E+yzgOIbhMa75gBAP8V+5NWfv3rXwMA7rzzzrR4VN04Y/RwARI3zqWYqw2XWry6rioUc+V6Mu+qQjFXnmPzrioUc+Xzk3lXFYq5cj2Zd1WhmCvXk3lXB2pz7JDxCy6Tkb6+vrR6VF2HiXq4DDs2IknmasOlFq+ua2NML7nU4tV1bYzpNdfGmJzr5HSpxavr2hjTSy61eHVdG2N6yaUWr66rA7U5dsjoHi6TDe7hkhrOHr9bFt2C468djz9ffW015n4o2tN4679sRW9bb/y1K//sSuSW5qY3UIYEXusJwZiF+B7kjMdrn1euJ8ZNuJ4YN+F6YtyEeD1Nvh4uDAOkfoULwzAMwzAMwzAMw9iGF1ws8N577+G9995Lm0fVjZNiDxeKudpwqcWr66pCMVeuJ/OuKhRz5Tk276pCMVc+P5l3VaGYK9eTeVcVirlyPZl3daA2xw684GKBHTt2YMeOHWnzqLoOqd6liGKuNlxq8eq6qlDMlevJvKsKxVx5js27qlDMlc9P5l1VKObK9WTeVYVirlxP5l0dqM2xA/dwSSNOD5e33noLAJCbm1qvkZ6eHiWPquvs8bt53s04ueVk/PmaG2tQc30NAGDbg9vQeb4z/trqjasRKA1YiZeaSy1eXVe1JwTFXLmezLuqe5Ap5mrD1enhQi1XgOvJtEstXl2X68msSy1eXZfryaxLLV5dV6eHSwbMsVIPF75LkQVUvtg6HlXXIdUeLhRzteFSi1fXtTGml1xq8eq6Nsb0mmtjTM51crrU4tV1bYzpJZdavLqujTG95FKLV9fVgdocO/CCiwVOnz4NAJg1a1ZaPKpunHF6uPj8w3fFRcIRkrnacKnFq+suWxa9Smr27NlpG9NLLrV4dV1VKOZqw/3Qh9R/G0UtVx0o5srnJ/OuKhRz5Xoy76pCMVeuJ/OuDtTm2IF7uFjghRdewAsvvJA2j6rrkOoVLhRzteFSi1fX/ZM/eQl/8icvYdOm9I3pJZdavLquKhRzteF+6lOP4VOfeizlz6vOmDZdVSjmyucn864qFHPlejLvqkIxV64n864O1ObYga9wscDNN9+cVo+qGyfFuxRRzNWGSy1eXdfGmF5yqcWr69oY00sutXh1XRtjesmlFq+ua2NML7nU4tV1bYzpJZdavLquDtTm2IGb5qYRp2lufX297VBI4DRVumn2TTjz7pn485d9+DLMujp6Wdeun+3CxcMX468tu3sZpiyYkt5AGRLoNOlimJFwPTFuwvXEuAnXE+MmXE+MmxCvJ6WmubylyAKhUAihUChtHlU3zog1waFXtSS6woVirjZcavHquqpQzJXrybyrCsVcuZ7Mu6pQzJXrybyrCsVcuZ7Mu6pQzJXrybyrA7U5duAFFws88sgjeOSRR9LmUXUdRl2FNcGWIoq52nCpxavrbtq0Gps2rcYDD6RvTC+51OLVdVWhmKsN9667duGuu3al/HnVGdOmqwrFXPn8ZN5VhWKuXE/mXVUo5sr1ZN7VgdocO3APFwssXbo0rR5VN87I9ZYhTXMT3aWIYq42XGrx6rrPPrs69jdS+iGOYq5cT+ZdG2N6yVX9vOqMadO1MaaXXGrx6ro2xvSSSy1eXdfGmF5yqcWr6+pAbY4duIdLGuEeLqnh7PG7oeoGnHv/XPz5+R+Zj6q1VQCA/U/vR+Ouxvhriz62CNNXTE9voAwJhqzTgU97jC7E9yBnPF77vHI9MW7C9cS4CdcT4ybE64l7uDCTlHGucEm0pYhhGIZhGIZhGIZhbMMLLhZ4+umn8fTTT6fNo+o6jNvDxT9iwSUsSeZqw6UWr66rCsVcuZ7Mu6pQzJXn2LyrCsVc+fxk3lWFYq5cT+ZdVSjmyvVk3tWB2hw78IILk/nwFS4MwzAMwzAMwzAMMbiHSxrhHi6p4ezxu27adWj4oCH+/MI7F6JyVSUA4MiLR3Bm65n4a5fdchlmXTUrvYEyJPBaTwjGLMT3IGc8Xvu8cj0xbsL1xLgJ1xPjJsTriXu4MJMUvsKFYRiGYRiGYRiGIQYvuFjgnXfewTvvvJM2j6rrMG4PlwQLLhRzteFSi1fXVYVirlxP5l1VKObKc2zeVYVirnx+Mu+qQjFXrifzrioUc+V6Mu/qQG2OHXjBxQJ79uzBnj170uZRdeOMd4VLgqa5FHO14VKLV9dVhWKuXE/mXVUo5spzbN5VhWKufH4y76pCMVeuJ/OuKhRz5Xoy7+pAbY4duIdLGnF6uGzduhUAEAwGU/JDoZCSR9V19vitn7IeTbub4s8v/vhiTFs2DQBw4o0TOPH6ifhrs6+bjZnXzrQSLzWXWry6rmpPCIq5cj2Zd1X3IFPM1Yar08OFWq4A15Npl1q8ui7Xk1mXWry6LteTWZdavLquTg+XDJhjpR4uARWJ0UPli63jUXXjpNjDhWKuNlxq8eq669fvBwAsXrw4bWN6yaUWr65rY0wvuV/5ivKQ5HLVgWKufH4y79oY00sutXh1XRtjesmlFq+uqwO1OXbgBRcLHD9+HAAwZ86ctHhUXYdRjXCHrLH4/MN3xUXCEZK52nCpxavrfv7zbwIANm5MbcGFYq5cT+ZdVSjmasP9H/+DVry6rioUc+Xzk3lXFYq5cj2Zd1WhmCvXk3lXB2pz7MA9XCzwyiuv4JVXXkmbR9V1GLntbaIrXCjmasOlFq+uqwrFXLmezLuqUMyV68m8qwrFXLmezLuqUMyV68m8qwrFXLmezLs6UJtjB77CxQK33XZbWj2qbpyR+/cnuEsRxVxtuNTi1XVtjOkll1q8uq6NMb3kUotX17UxppdcavHqujbG9JJLLV5d18aYXnKpxavr6kBtjh24aW4acZrm1tfX2w6FBE5TpasKr0LLwZb480s/sxTli8oBAOfqz+HQpkPx1yprK7HwowvTGyhDAp0mXQwzEq4nxk24nhg34Xpi3ITriXET4vXETXOp0NPTAwDIzc1Ni0fVjZPiFS4Uc7XhUotX133ssWsBANu2AbFzvfExveRSi1fXVYVirjbcL35xAAAQCARS+rzqjGnTVYVirnx+Mu+qQjFXrifzrioUc+V6Mu/qQG2OHbiHiwUee+wxPPbYY2nzqLoOqfZwoZirDZdavLruW28txltvLcZDD6VvTC+51OLVdVWhmKsN95FHAnjkkUDKn1edMW26qlDMlc9P5l1VKObK9WTeVYVirlxP5l0dqM2xA1/hYoGVK1em1aPqxhnnCpdEdymimKsNl1q8uq6NMb3kUotX17UxptdcG2NyrpPTpRavrmtjTC+51OLVdW2M6SWXWry6rg7U5tiBe7ikEe7hkhrOHr8rc69E69HW+PPL71mOsnllAIDmfc3Y++Te+Gvli8ux9NNL0xsoQ4IhF0aBT3uMLsT3IGc8Xvu8cj0xbsL1xLgJ1xPjJsTrSamHC28pYjKfFHu4MAzDMAzDMAzDMIxteMHFAk8++SSefPLJtHlUXYdxe7j4Ryy4hCXJXG241OLVdVWhmCvXk3lXFYq58hybd1WhmCufn8y7qlDMlevJvKsKxVy5nsy7OlCbYwfu4WKB7OzstHpU3TgpXuFCMVcbLrV4dV0bY3rJpRavrmtjTK+5NsbkXCenSy1eXdfGmF5yqcWr69oY00sutXh1XR2ozbED93BJI9zDJTWcPX5rg2tx6eSl+PMr/3AlSmpKAACtx1ux8yc746+V1JRg5R+uTGeYDBG81hOCMQvxPcgZj9c+r1xPjJtwPTFuwvXEuAnxeuIeLswkJcW7FDEMwzAMwzAMwzCMbTJ+wUUIUSiEeEAIsVsI0SmEuCSEeF8I8RdCiCwX3n+2EOJ7QohdsffuEkIcE0L8SgjxVTdyGMmWLVuwZcuWtHlU3bEY1sMlwZYiirnacKnFq+uqQjFXrifzrioUc+U5Nu+qQjFXPj+Zd1WhmCvXk3lXFYq5cj2Zd3WgNscOGb3gIoSYDWAXgO8AWIrotQ3ZANYA+AGArUKIUo33/wqA/QC+DmAZgCwAYQBzANwJ4B904h+LAwcO4MCBA2nzqLoO4217S7TgQjFXGy61eHVdVSjmyvVk3lWFYq48x+ZdVSjmyucn864qFHPlejLvqkIxV64n864O1ObYIWN7uAgh/AA+QHQh5ByAe6WUrwohfAA+AeAhAEUAXpBS3q7w/l8C8J+xhw8B+Gcp5f7YayUA1gK4RUr5V7q5DBmTe7ikgLPHb41vDdrPtMefX/WlVSieVQwA6GzsxLZ/3xZ/LX9qPtZ+dW16A2VIsGFD9HO3evVqPPCA3VgY+hDfg5zxDP2MeuHzyvXEuAnXE+MmXE+MmxCvJ6UeLpl8l6IvILrYIgHcJaX8HQBIKSMAnhTRfSU/B3CbEOJDUsrfJvvGQoi5AP419vB+KeWwK1mklG0AXon9YSwz7m2hE1zhwjCJcBZcNm5cbTkShmEmwguLLAzDMAzDTH4yeUvRvbG/X3cWW0bwJIBjI45Nlq8DyAOwF8A/qoWnzuHDh3H48OG0eVTdOCk2zaWYqw2XWry6rioUc+V6Mu+qQjFXrifzrioUc+V6Mu+qQjFXrifzrioUc+V6Mu/qQG2OHTLyChchRB6Aq2MPX0x0jJRSCiFeAvDHAG5O4b39AD4Xe/hI7IqZtPL6668DAObPn58Wj6o7FhNd4UIxVxsutXh1XVUo5sr1ZN5VhWKuXE/mXVUo5sr1ZN5VhWKuXE/mXVUo5sr1ZN7VgdocO2TkgguAxRi8+mbPOMc5r00XQkyRUrYk8d7LARTG/v2GEGI9ole8XB17/jyAzQB+IKUcb2xlNmzYkFaPquuQatNcirnacKnFq+vaGNNLLrV4dV0bY3rJpRavrmtjTC+51OLVdW2M6SWXWry6ro0xveRSi1fX1YHaHDtk6oLLjCH/PjvOcUNfqwSQzILLgiH/vg3AdxHdpNINIASgBsAfAvicEOI+KeUjSbxnSlRWVqbVo+rGGWdLkfCPWHAJS5K52nCpxavr/vCHtwAANm2K/knHmF5yqcWr69oY00vuxo2DXiqfV50xbbo2xvSSSy1eXdfGmF5yqcWr69oY00sutXh1XR2ozbFDRt6lSAhxN4CfxR7Ol1IeGeO4mwG8HHt4tZTy3STe+48A/HvsoQRwGMCXAbwV26a0BkAdgFUABgBcI6V8L4n3TebWQ4uqq6vzvvWtbwEA/H5/Esog4XBYyaPqNjc3AwDy9uUh0j648yvvujz4i6PvJ/slOl/qjL8mggK5N+daiZeaSy1eXfe++wa7oT/4YF1axvSSSy1eXdc5P1VUVKRtTC+5qp9XnTFtulxPZl1q8eq6XE9mXWrx6rpcT2ZdavHquqr1pDOuW7lu3LhR6S5Fmdw01xRDcw4DuFNK+aaMrTxJKbcB2IDoFS8BAH/tdgAXL17ExYsX0+ZRdcdEjPFvAIjQzNWGSy1eXVcVirlyPZl3VaGYK8+xeVcVirny+cm8qwrFXLmezLuqUMyV68m8qwO1OXbI1CtcNgD4TezhCinlrjGOuxPAr2IPlyXTc0UI8XkAj8Ye/kpK+bExjnsI0StfugAUSynDyWcw5tj1tbW1tQ899BAAoLa2NiV/+/btSh5V17lP+6qBVehq6oo/v/ara5E/NR8AEBmIYMvfb4m/JvwChR8ptBIvNZdavLrukF7LSOW0RzFXrifzrnN+2rhx4wRHujeml1zVz6vOmDZdriezLrV4dV2uJ7MutXh1Xa4nsy61eHVd1XrSGdfFXJWucMnUBZfVALbFHt4upXxhjOO+CuDfYg/Lk2maK4S4CcBvYw//PyllwitYhBB/AeAHsYfTpJRNycY/ztj1tbW1tfX1yew+YpwP5MrQSnQ3d8efH7rgIiMSb/zPNwYlAdzwnRvSGSZDBJ0f4BhmJDrfMDAT47XPK9cT4yZcT4ybcD0xbkK8nibVlqL9AJymHUvHOc55rSHJOxQBwO4h/x7v27ihE+qBb/cymHGa5o4qezn+XY0YhmEYhmEYhmEYJh1k5IKLlLIbgNMA99ZExwghBIBbYg9fTeG9mwHsiD28fJxDF8f+bkdydz9KmscffxyPP/542jyqrsPIBRQx5FefQohRdyp6/Kf0crXhUotX11WFYq5cT+ZdVSjmynNs3lWFYq58fjLvqkIxV64n864qFHPlejLv6kBtjh0y9bbQAPATANcAuFEIcaWU8ncjXv8kgLmxfz+K1HgEwP8BcIcQYpGU8sDQF4UQVQA+G3v4gpQyMvINdCgpKUmrR9UdkxFXtQifgAwPLsoUFxXDF1RbS6Q4T1xPZqGYK9eTedfGmF5zbYzJuU5Ol1q8uq6NMb3kUotX17UxppdcavHqujpQm2OHjOzhAgBCiACiV6IsAXAWwL1Syt8KIXwAPg7gPwEUAXhJSnnrCPcBAN+JPZwjpTwx4vUsADsBLAJwENHmuG/Hbgu9GsBDiN4WugfAGinlPpdy4h4uKeDs8VvRuwI9F3viz1/x365A3pS8+OM3/783Ee4b7Gm8/lvrEcjJ5LVExgZe6wnBmIX4HuSMx2ufV64nxk24nhg34Xpi3IR4PSn1cMnYn0qllAOxuxVtBlAN4FUhRDei26ByYoftBHC3wnv3CyE+AuA1AAsBvAmgSwgRAVAYO6wLwOfcWmxh1BlvSxEA+Pw+hDG44BIJu3pBEsMwDMMwDMMwDMOkTEb2cHGQUh4HsAzA3wHYG3s6BGA7gK8DuEJKqXRjbCnlMUSb7v4togs3EkAQwGEAP0T0NtO/1kpgDF577TW89tprafOounHGa5qL6JaioWx+fTO5XG241OLVdVWhmCvXk3lXFYq58hybd1WhmCufn8y7qlDMlevJvKsKxVy5nsy7OlCbY4eMvcLFQUrZjuiiyN+m4DwA4IEkjutEdDHn7xTDU+LEiRNp9ai6YzHyCpeRCy6nTpyCL09tLZHiPHE9JcfnPrcFAHDdddelbUwvudTi1XVtjOkl9w/+4G0AwDXXXJO2MW26Nsb0kkstXl3XxphecqnFq+vaGNNLLrV4dV0dqM2xQ8b2cJmMcA+X1HD2+C3rWoa+S33x59f9+TrkFOfEH2/9P1vR29obf3zln16J3LLc9AXKkID4nlEmw+B6YtyE64lxE64nxk24nhg3IV5PSj1cMnpLEcMAGL2laAQjr3CREV5EZBiGYRiGYRiGYezCCy4W2L9/P/bv3582j6rrMFHT3JELLgcPHCSXqw2XWry6rioUc+V6Mu+qQjFXrifzrioUc+V6Mu+qQjFXrifzrioUc+V6Mu/qQG2OHTK+h8tk5M033wQALF68OC0eVTfOBE1zff7h64Zb390Kf7GfVK42XGrx6rqqUMyV68m8qwrFXLmezLuqUMyV68m8qwrFXLmezLuqUMyV68m8qwO1OXbgHi5pxOnh8uKLLwIAKioqUvKbm5uVPKqus8dvaftS9Hf2x5+/+q+uRlZBVvxxfV09Os51xB/Pvms2CioLSOVqw6UWr647e3bULS+vQCptlCjmyvVk3lXdg0wxVxvuihUhAEAgEEzp86ozpk2X68msSy1eXZfryaxLLV5dl+vJrEstXl1Xp4dLBsyxUg8XvsLFAipfbB2Pqusw0aLgyC1FZaVlKK4oVhqL4jxxPSXHqVMVsb/TN6aXXGrx6ro2xvSSu2tXMO1j2nRtjOkll1q8uq6NMb3kUotX17UxppdcavHqujpQm2MH7uFigdbWVrS2tqbNo+rGmWBLkfAPf6LtYhu5XG241OLVdVWhmCvXk3lXFYq58hybd1WhmCufn8y7qlDMlevJvKsKxVy5nsy7OlCbYwdecLHAU089haeeeiptHlXXIdWmuc89+xy5XG241OLVdVWhmCvXk3lXFYq58hybd1WhmCufn8y7qlDMlevJvKsKxVy5nsy7OlCbYwfeUmSBdevWpdWj6o7JyCtcRiy4rFy+EgWzC5TemuI8cT2ZhWKuXE/mXRtjes21MSbnOjldavHqujbG9JJLLV5d18aYXnKpxavr6kBtjh24aW4acZrm1qfaAdCjOE2VLr94OQZ6B+LPr//WegRyBtcKdz++Gy2HWuKPl352KcoXlqcvUIYEQy+M4tMeo4tO0zdmYrz2eeV6YtyE64lxE64nxk2I15NS01zeUsRkPKk2zZURD3x3zjAMwzAMwzAMw2Q0vOBigUcffRSPPvpo2jyqbpwUm+b++plfk8vVhkstXl1XFYq5cj2Zd1WhmCvPsXlXFYq58vnJvKsKxVy5nsy7qlDMlevJvKsDtTl24B4uFpg+fXpaPaquQ6pNc6eUTUH+9HylsSjOE9eTWSjmyvVk3rUxptdcG2NyrpPTpRavrmtjTC+51OLVdW2M6SWXWry6rg7U5tiBe7ikEe7hkhrOHr9FzYsQCUXiz197/7XwB/3xx/uf2Y/GnY3xx4t+fxGmr7RzImAyF6/1hGDMQnwPcsbjtc8r1xPjJlxPjJtwPTFuQryeuIcLM0mZ4Jttn394GUfCkTGOZBiGYRiGYRiGYZj0wFuKLPDyyy8DAD784Q+nxaPqOqS6pWjrO1tR0FJAKlcbLrV4dd2vfvVFAMCtt96atjG95FKLV9dVhWKuNtzvfvcDAMCqVavSNqZNVxWKufL5ybyrCsVcuZ7Mu6pQzJXrybyrA7U5duAFFws0NDSk1aPqxkmxae6F5gvoLO5UGoriPHE9JceKFacAABs2pG9ML7nU4tV1bYzpJbemZjcAYMOG1BdcqOWqA8Vc+fxk3rUxppdcavHqujbG9JJLLV5dVwdqc+zAPVzSCPdwSQ1nj9+C8wuGLbpc/7fXD7uq5ejLR3H6ndPxx3Nvnovqa6rTFidDA+J7RpkMg+uJcROuJ8ZNuJ4YN+F6YtyEeD1xDxfGI0xwhYsM8yIiwzAMwzAMwzAMYxdecLHArl27sGvXrrR5VN04KTbNPXLoCLlcbbjU4tV1VaGYK9eTeVcVirlyPZl3VaGYK9eTeVcVirlyPZl3VaGYK9eTeVcHanPswD1cLLB161YAwPLly9PiUXWB0Q1zgYmb5u7buw/ZkWxSudpwqcWr637jG58DADzwAHDuXHrG9JJLLV5dVxWKudpwr7vuMgBAXl5qn1edMW26qlDMlc9P5l1VKObK9WTeVYVirlxP5l0dqM2xA/dwSSNOD5dXX30VAFBaWpqS39raquRRdevq6iAjEgsbFg4+KYAbvnPDsONOvX0Kx145Fn9csqwEs2+aTSpXGy61eHXdoet0qZz2KObK9WTeVd2DTDFXG67q51VnTJsu15NZl1q8ui7Xk1mXWry6LteTWZdavLquTg+XDJhjpR4ufIWLBVS+2DoeVTcRI69uAUZvKcrPy+c5ztAxbbo2xvSSSy1eXdfGmF5zbYzJuU5Ol1q8uq6NMb3kUotX17UxppdcavHqujpQm2MH7uFigebmZjQ3N6fNo+omy8imuW0X28jlasOlFq+uqwrFXLmezLuqUMyV59i8qwrFXPn8ZN5VhWKuXE/mXVUo5sr1ZN7VgdocO/CCiwWeeeYZPPPMM2nzqLoARjfMTXAh18grXN59+11yudpwqcWr66pCMVeuJ/OuKhRz5Tk276pCMVc+P5l3VaGYK9eTeVcVirlyPZl3daA2xw68pcgC1157bVo9qm4iEm0pGnmFy+LFizHz2plK709xnriezEIxV64n866NMb3m2hiTc52cLrV4dV0bY3rJpRavrmtjTC+51OLVdXWgNscO3DQ3jThNc+vr622HQoK6ujrIAYmFTYNNc31BH667/7phxzXubsT+X+6PP566dCou/8TlaYuToYFOE06GGYlO0zdmYrz2eeV6YtyE64lxE64nxk2I15NS01zeUsSQIpmmuZFwJF3hMAzDMAzDMAzDMExCeMHFAg8//DAefvjhtHlUXQCje7gkYOSWotd/+zq5XG241OLVdVWhmCvXk3lXFYq58hybd1WhmCufn8y7qlDMlevJvKsKxVy5nsy7OlCbYwfu4WKBmpqatHpU3YQk0TS3fEo5ptVMU3p7ivPE9WQWirlyPZl3bYzpNdfGmJzr5HSpxavr2hjTSy61eHVdG2N6yaUWr66rA7U5duAeLmmEe7ikRl1dHWS/xMILgz1cAjkBrP/W+mHHtR5vxc6f7Iw/Lqkpwco/XJmuMBkieK0nBGMW4nuQMx6vfV65nhg34Xpi3ITriXET4vWk1MOFr3BhaJGgzIVv+JMy4oHvzpmU+eu/fhoAcNddd1mOhGGYidi2zXYEDMMwDMMw+nAPFws8//zzeP7559PmUXWTZeSWol07dpHL1YZLLV5dd/bsC5g9+wJWr07fmF5yqcWr66pCMVcbbmPj82hsfD7lz6vOmDZdVSjmyucn864qFHPlejLvqkIxV64n864O1ObYga9wsUBbW1taPaouAIzc8pboLkUjm+Z2dXYh2BZUGo/iPHE9mYVirlxP5l0bY3rJpRavrmtjTC+51OLVdW2M6SWXWry6ro0xveRSi1fX1YHaHDtwD5c0wj1cUqOurg6R3ggWXVwUfy6YH8Q1X79m2HFdTV14/0fvxx/nVeThiq9dkbY4GRoQ3zPKZBhcT4ybcD0xbsL1xLgJ1xPjJsTrSamHC28pYkiRzBUuMsyLiAzDMAzDMAzDMIxdeEuRBbZv3w4AqK2tTYtH1U1IEreFPnXyFILbg6RyteFSi1fXve++jbG/U7vrCcVcuZ7Mu6pQzNWGq3OXImq56kAxVz4/mXdVoZgr15N5VxWKuXI9mXd1oDbHDrzgYoFtsdsvpPqFU/WougCAJL7RHnmXotOnTqN1WyupXG241OLVdVWhmCvXk3lXFYq58hybd1WhmCufn8y7qlDMlevJvKsKxVy5nsy7OlCbY4eM7+EihCgE8JcAPg5gDoAwgEMAngDwQyllv4tjvQDg1tjDN6SUN7j13rH3r6+tra3dvHkzAKCwsDAlv6OjQ8mj6tbV1SHSE8Gi1sEeLtlF2bjqL64adlx/Vz/e+f478ccRfwRr//taUrnacKnFq+uq/sacYq5cT+Zd1T3IFHO14epc4UItV4DrybRLLV5dl+vJrEstXl2X68msSy1eXVenh0sGzLFSD5eMvsJFCDEbwGYANbGnugFkA1gT+3OPEOJDUspWF8b6AwwuthhF5Yut41F1AYy+wiWJLUXBQJDnOEPHtOnaGNNLLrV4dV0bY3rNtTEm5zo5XWrx6ro2xvSSSy1eXdfGmF5yqcWr6+pAbY4dMrZprhDCD2AToost5wDcLKXMB5AH4NMA2gGsAvAzF8aaCuCfAbQB2K/7fhNx/vx5nD9/Pm0eVTcRyTTNbW9rJ5erDZdavLquKhRz5Xoy76pCMVeeY/OuKhRz5fOTeVcVirlyPZl3VaGYK9eTeVcHanPskLELLgC+AGAZotc43CWlfBUApJQRKeWTAJzrkG4TQnxIc6wfAigD8E0ATZrvNSGbNm3Cpk2b0uZRdQEk1cNl5BUuB/YdIJerDZdavLquKhRz5Xoy76pCMVeeY/OuKhRz5fOTeVcVirlyPZl3VaGYK9eTeVcHanPskMlbiu6N/f26lPJ3CV5/EsA/AJgbO/a3KoMIIe4E8EkAbwF4CMDdKu+TCjfeeGNaPapuQhLtnBvxXE1NDZZdv0zp7SnOE9eTWSjmyvVk3rUxptdcG2NyrpPTpRavrmtjTC+51OLVdW2M6SWXWry6rg7U5tghI5vmCiHyAHQgegXON6SU3x/juB8B+GMADVLKSoVxSgDsBVAOYKWUcr8QYjOA62GwaW59fb2bbztpqaurQ6QzgkXtg01zc8tyceWfXjnq2Df+7g3I8GAtX/c318EXyOQLuJh0o9OEk2FGotP0jZkYr31euZ4YN+F6YtyE64lxE+L1pNQ0N1N/Il2Mwdj2jHOc89p0IcQUhXF+AGAGgH+UUhrv3cK4wBhlPnJbUSQcSUMwDMMwDMMwDMMwDJOYTL3CZQOA38QerpBS7hrjuDsB/Cr2cJmUcrzFmZHuhwC8CuBgbIy+2POboXCFixAimctWFlVXV+c5K3oVFRXJvj0AoLm5Wcmj7MouidzdufHnfAU+5N+YP+rYzhc7IUPRWu7q6oLvWh+mVk1Ne7yUXGrx6rr33Te4kv7gg3VpGdNLLrV4bbnU4rXlqn5edcak6FKL15ZLLV5bLrV4bbnU4rXlUovXlkstXoquW2Nu3LhxUt0Weuj9l7rHOW7oa0nfsym2ZekhRFuy3ucstqSLnJyctHpU3ZQYcoFLIBBAVlaW0ttQnCeuJ7NQzJXrybxrY0yvuTbG5Fwnp0stXl3XxphecqnFq+vaGNNLLrV4dV0dqM2xQ6YuuJjmfwGYA+C/pJRvuPGGUsrVEx0jhKgvLy+v/cu//Es3hpz01NXVIZwdxuLVi+PP5VXk4YqNV4w69t2ud9F3aXDdbN3X1iGnxM7JgMlM2tp+CgC45557MGMGyX2jTAZBfA9yxnPHHYP/9sLnleuJcROuJ8ZNuJ4YN/FiPWXqgkvHkH/njXPc0Nc6xjxqCEKIKwH8KaK3f/566qExNhEi8ZVc3MOFmYiSkugFcTNmWA6EYZgJ4c8pwzAMwzCTgUxtmntuyL+rxjlu6Gvnk3zv/0A07/sBhIQQBUP/APDHjvMPed4/5rsp8Otf/xq//vWv0+ZRdRMyxs454R984cCBA3j+2eeV3p7iPHE9mYVirlxP5l1VKObK9WTeVYVirlxP5l1VKObK9WTeVYVirlxP5l0dqM2xQ6Ze4bIfQATRhZGlAF4Y47ilsb8bpJQtSb73nNjfD8X+jMV6DF418zEMNufVpq9PrWWMqkfVBRDtspMEQ28BHQ6H0dfDc5yJY9p0bYzpJZdavLqujTG95FKLV9e1MaaXXGrx6ro2xvSSSy1eXdfGmF5yqcWr6+pAbY4dMvIuRQAghHgLwDUAXpNSfijB6wLAEQBzAfxUSvn5JN+3DUBxiuF8TEr5qxSdRGPX19bW1tbXJ3NDI6aurg7hS2Es7hrs4VIwvQBr/mjNqGO3/9d2tJ9ujz9e9cVVKK5O9cvMTGa+972hPVwsB8OQx4t7kNPJuSHXuXrh88r1xLgJ1xPjJlxPjJsQr6dJdZciAPgJogsuNwohrpRS/m7E659EdLEFAB5N9k2llCXjva56W2jGECPXA8coc+7hwkzEN795T+xvIEPXmRmGiVE1ZMMwf14ZhmEYhqFKpvZwAYBHAOxF9EfsXwohPgQAQgifEOKTGNwO9JKU8pWhohDiASGEjP2pSWfQyfDee+/hvffeS5tH1QUwasFlzKa5Q7YUnT17FjvqdygNR3GeuJ7MQjFXrifzrioUc+U5Nu+qQjFXPj+Zd1WhmCvXk3lXFYq5cj2Zd3WgNscOGbvgIqUcALABwClEm+O+KoToAtAF4EkARQB2ArjbWpCK7NixAzt27EibR9VNyFhXuAxZcGloaMC+vfuU3p7iPHE9mYVirlxP5l1VKObKc2zeVYVirnx+Mu+qQjFXrifzrioUc+V6Mu/qQG2OHTK2h4uDEKIIwF8BuAvRhrdhAIcBPAHgX6WU/QmcBwB8J/ZwjpTyRArjbYahLUVOD5e33noLAJCbm5uS39PTo+RRdevq6hBuDWNxz2APl8KqQqz+yupRx+59ai+a9zYDAEKhEBZ+bCGq11SnNV5qLrV4dd2hF0elctqjmCvXk3lXdQ8yxVxtuKqfV50xbbpcT2ZdavHqulxPZl1q8eq6XE9mXWrx6ro6PVwyYI4nXQ8XAICUsh3A38b+JOs8AOABxfFuUPFSQeWLreNRdQEobSkKBoPICmQpDUdxnriezEIxV64n866NMb3m2hiTc52cLrV4dV0bY3rJpRavrmtjTC+51OLVdXWgNscOGbulaDJz+vRpnD59Om0eVTchSWwpunTpEs6fOa/09hTnievJLBRz5Xoy76pCMVeeY/OuKhRz5fOTeVcVirlyPZl3VaGYK9eTeVcHanPswAsuFnjhhRfwwgsvpM2j6iZizCtchtyl6MiRI3j7rbeV3p/iPHE9mYVirlxP5l1VKObKc2zeVYVirnx+Mu+qQjFXrifzrioUc+V6Mu/qQG2OHTJ+S9Fk5Oabb06rR9UFgGR7DA29wmXu3LmYsXqG0ngU54nrySwUc+V6Mu/aGNNrro0xOdfJ6VKLV9e1MaaXXGrx6ro2xvSSSy1eXVcHanPskPFNcycTTtPc+vp626GQoK6uDgMXBnB5/+Xx54pnF2PVF1aNOvb4a8dxcsvJ+OOaG2tQc31NOsJkiKDThJNhRqLT9I2ZGK99XrmeGDfhemLchOuJcRPi9aTUNJe3FFkgFAohFAqlzaPqJmKsLUXCP/h8OBxGf++om1clBcV54noyC8VcuZ7Mu6pQzJXn2LyrCsVc+fxk3lWFYq5cT+ZdVSjmyvVk3tWB2hw78IKLBR555BE88sgjafOougBG3aUomaa5O3bswEsvvKQ0HMV54noyC8VcuZ7Mu6pQzJXn2LyrCsVc+fxk3lWFYq5cT+ZdVSjmyvVk3tWB2hw7cA8XCyxdujStHlU3EcncFnrq1Kkomlmk9P4U54nrKTkefFDtEkaKuXI9mXdtjOkl9+233wEAXH311Wkb06ZrY0wvudTi1XVtjOkll1q8uq6NMb3kUotX19WB2hw7cA+XNMI9XFKjrq4OA80DuDw02MOldG4pVvzBilHHnqs/h0ObDsUfV9ZWYuFHF6YlToYGxPeMMhkG1xPjJlxPjJtwPTFuwvXEuAnxeuIeLswkJNktRf7hpRwJR8zEwzAMwzAMwzAMwzBJwAsuFnj66afx9NNPp82j6gIYteCSzJai/fv3Y+vbW5WGozhPXE9moZgr15N5VxWKuXI9mXdVoZgr15N5VxWKuXI9mXdVoZgr15N5Vwdqc+zACy4MLZJomgsAMsxb5ZjhnDxZjpMny8E7+hgm8zl6tARHj5bw55VhGIZhGNJwD5c0wj1cUqOurg4DjQO4PDzYw6VsfhmWf275qGNbDrdg9892Dx43rwzL7xl9HONdhl4cxac9Rhfie5AzHq99XrmeGDfhemLchOuJcRPi9cQ9XJhJiMKWIgCIDHAPF4ZhGIZhGIZhGMYevOBigXfeeQfvvPNO2jyqbkKS2FJ0+vRpHDpwKPGBE0BxnriezEIxV64n864qFHPlOTbvqkIxVz4/mXdVoZgr15N5VxWKuXI9mXd1oDbHDrzgYoE9e/Zgz549afOougAwcsvbmFe4DLlLUVNTE86eOas0HsV54noyC8VcuZ7Mu6pQzJXn2LyrCsVc+fxk3lWFYq5cT+ZdVSjmyvVk3tWB2hw7cA+XNOL0cNm6NXoHnWAwmJIfCoWUPKpuXV0dQudDWCKXxJ8rX1yOpZ9eOurYrqYuvP+j9wEA4XAYeRV5uOpPr0prvNRcavHquqo9ISjmyvVk3lXdg0wxVxuuTg8XarkCXE+mXWrx6rpcT2ZdavHqulxPZl1q8eq6Oj1cMmCOlXq4BFQkRg+VL7aOR9UFMKqHy1gM3VLk9/shpNLngeQ8cT2ZhWKuXE/mXRtjes21MSbnOjldavHqujbG9JJLLV5d18aYXnKpxavr6kBtjh14wcUCx48fBwDMmTMnLR5VNxFjbSkS/sHnW1tbkRXKUnp/ivPE9WQWirlyPZl3VaGYK8+xeVcVirny+cm8qwrFXLmezLuqUMyV68m8qwO1OXbgHi4WeOWVV/DKK6+kzaPqAhh9hUsSTXOPHTuGgwcOKg1HcZ64nsxCMVeuJ/OuKhRz5Tk276pCMVc+P5l3VaGYK9eTeVcVirlyPZl3daA2xw58hYsFbrvttrR6VN1EJHNb6Hnz5sGf5Vd6f4rzxPVkFoq5cj2Zd22M6TXXxpic6+R0qcWr69oY00sutXh1XRtjesmlFq+uqwO1OXbgprlpxGmaW19fbzsUEtTV1SF0NoQlYrBp7tRlU3H5xy8fdWwkHMGWv9sSfyz8Atd/+/q0xMnQQKcJJ8OMRKfpGzMxXvu8cj0xbsL1xLgJ1xPjJsTriZvmUqGnpwcAkJubmxaPqgsguqUoidIWvsGDQqEQEIreUnqsK2LGguI8cT0lR3FxFwAgLy8/bWN6yaUWr66rCsVcbbjTp0dXWVI9h+uMadNVhWKufH4y76pCMVeuJ/OuKhRz5Xoy7+pAbY4duIeLBR577DE89thjafOougBG9XAZs2muEPFtRbt27cKuXbsQGYikPBzFeeJ6So7vfe9n+N73foZz59I3ppdcavHquqpQzNWG+93vPoTvfvehlD+vOmPadFWhmCufn8y7qlDMlevJvKsKxVy5nsy7OlCbYwe+wsUCK1euTKtH1U3IOL/s9AV8iAxEMH36dABAZCACfzC1Xi4U54nrySwUc+V6Mu/aGNNLLrV4dV0bY3rJpRavrmtjTC+51OLVdW2M6SWXWry6rg7U5tiBe7ikEe7hkhp1dXUInQ5hiX+wh8v0ldOx6PcXJTz+7e+/jVBXKP746r+6GlkFareHZiYfxPeMMhkG1xPjJlxPjJtwPTFuwvXEuAnxelLq4cJbipjMJoX1wKF3KgKgtKWIYRiGYRiGYRiGYdyAtxRZ4MknnwQAfOpTn0qLR9VNyARbigBg7969AIArBq5I+e0pzhPXU3Ls3FkNANi0CdiwIT1jesmlFq+uqwrFXG243/zmmwCA9euvTenzqjOmTVcVirny+cm8qwrFXLmezLuqUMyV68m8qwO1OXbgBRcLZGdnp9Wj6gJIumkuAPj80QUXvz/atyUSTv0KF4rzxPWUHD/60a2xv1O7zSzFXLmezLs2xvSS+73vXRv7O/XbQlPLVQeKufL5ybxrY0wvudTi1XVtjOkll1q8uq4O1ObYgXu4pBHu4ZIadXV1CJ0MYUlwsIdL5epKLNywMOHx9XX16DjXEX9c+5VaFFUVGY+TocHQtTo+7TG6EN+DnPF47fPK9cS4CdcT4yZcT4ybEK8n7uHCTD5GLgiOe4UL93BhGIZhGIZhGIZhMgTeUmSBLVu2AACuu+66tHhU3VQR/uhizMmTJwEAK8IrUn4PivPE9WQWirlyPZl3VaGYK8+xeVcVirny+cm8qwrFXLmezLuqUMyV68m8qwO1OXbgK1wscODAARw4cCBtHlUXwOi7FCXRNPfChQu4cOGC0hUuFOeJ68ksFHPlejLvqkIxV55j864qFHPl85N5VxWKuXI9mXdVoZgr15N5Vwdqc+zAPVzSCPdwSY26ujr0H+/H0uyl8eeqrqjC/NvnJzx+z//bgwv7L8QfL/nUElRcXmE8ToYGXusJwZiF+B7kjMdrn1euJ8ZNuJ4YN+F6YtyEeD1xDxfGA4x3hYt/RA8XhbsUMQzDMAzDMAzDMIwbcA8XCxw+fBgAMH9+4is13PaougBGbykaB2dLUUtLCwC1prkU54nrySwUc+V6Mu+qQjFXnmPzrioUc+Xzk3lXFYq5cj2Zd1WhmCvXk3lXB2pz7MALLhZ4/fXXAaT+hVP1qLoARi24JHOXohMnTgAA1g2sS3k4ivPE9WQWirlyPZl3VaGYK8+xeVcVirny+cm8qwrFXLmezLuqUMyV68m8qwO1OXbgHi5pxOnh8uyzzwIAKisrU/LPnz+v5FF16+rq0H+0H0tzB3u4zLxqJubdMi/h8UdePIIzW8+go6MDALDqk6swc93MtMVLzaUWr66r2hOCYq5cT+Zd1T3IFHO14er0cKGWK8D1ZNqlFq+uy/Vk1qUWr67L9WTWpRavrqvTwyUD5liph0vGX+EihCgE8JcAPg5gDoAwgEMAngDwQyllv8J7VgG4E8CNAFYBqIq91ABgK4CHpJSv6UefGJUvto5H1U3EeFe4OLeFLiwsBKC2pYjiPHE9JUd1dTMAoLw8tUbKFHPlejLv2hjTS25trfKQ5HLVgWKufH4y79oY00sutXh1XRtjesmlFq+uqwO1OXbI6AUXIcRsAJsB1MSe6gaQDWBN7M89QogPSSlbU3jPWQBOYvgKVXfscU3sz2eEEA8D2CilDGslkQDnCgxnYcC0R9UFoHRb6L6+PgBqCy4U54nrKTnuv/8ZAKmvqFPMlevJvKsKxVxtuJs304pX11WFYq58fjLvqkIxV64n864qFHPlejLv6kBtjh0y9i5FQgg/gE2ILoCcA3CzlDIfQB6ATwNoR/TqlJ+l+NZ+RH9s/y2AewFUxd63AMDS2JgA8EUA/1Mvi8Q88cQTeOKJJ9LmUXVTxVlw2bNnD/bs2aN0lyKK88T1ZBaKuXI9mXdVoZgr15N5VxWKuXI9mXdVoZgr15N5VxWKuXI9mXd1oDbHDpl8hcsXACxD9BqHu6SUvwMAKWUEwJMiurfk5wBui13l8tsk37cVwGop5fahT8bed68Q4k4ALwG4GcCfCSH+XkrZ405KUdasWZNWj6oLILWmubHbQs+YMQOA2hUuFOeJ68ksFHPlejLv2hjTSy61eHVdG2N6yaUWr65rY0wvudTi1XVtjOkll1q8uq4O1ObYIWOb5goh3gSwHsBrUsoPJXhdADgCYC6Ax6SUf+Di2J8C8P9iD2ullB+49L71tbW1tfX19W683aSnrq4OfYf6sKxgWfy56murMfdDcxMef/a9szj8/OH44xlrZ2DBRxYYj5OhgU6TLoYZCdcT4yZcT4ybcD0xbsL1xLgJ8XqaPE1zhRB5AK6OPXwx0TFSSimEeAnAHyN6NYqbdA/5t9/l92Y0SOa20A4qV7gwk5ctWxbF/03zHM8w3iH2/RgA/rwyDMMwDEOXjFxwAbAYg/1l9oxznPPadCHEFClli0vj3xD7ux/ROyK5yuOPPw4AuPvuu9PiUXVTxVlw2b17NwBg6rKpKb8HxXniekqOn/3sutjfqf0ARzFXrifzrioUc7Xh3nff4L9TXXChlqsOFHPl85N5VxWKuXI9mXdVoZgr15N5Vwdqc+yQqQsuM4b8++w4xw19rRKA9oKLEKIGwB/FHv4/KWW77nuOpKSkJK0eVRdAancpCkYXXHJycgAAkVDqV7hQnCeuJ7NQzJXrybxrY0yvuTbG5Fwnp0stXl3XxphecqnFq+vaGNNLLrV4dV0dqM2xQ0b2cBFC3I3Buw/Nl1IeGeO4mwG8HHt4tZTyXc1xcwG8AWAtoos3K6SU4y34DHWTacyyqLq6Ou/+++/XiNI7NDc3I3IsgrymvPhzWQuykL0wO+HxA00D6PndYH9jf4UfeevyEh7LeI/77hv8NfmDD9aNcyTDTExzczMAoKKiwnIkkxOvfV65nhg34Xpi3ITriXETyvW0ceNGpR4uGXtb6HQjhAgAeBzRxZYQgLuTXWxhMoSR3XbCVqJgGIZhGIZhGIZhmIy9wmUDgN/EHq6QUu4a47g7Afwq9nCZlHK8fi/jjedH9IqaTwMYAPApKeUzKu81wTj1tbW1td///vcBADfddFNK/muvvabkUXXr6urQd6APy4oG71JUc2MNaq6vSXh8x7kO1NfV4/jx4wCAZVcvw5r7UruVF8V5UnWpxavrDu23nMppj2KuXE/mXdUu+xRzteGqfl51xrTpcj2ZdanFq+tyPZl1qcWr63I9mXWpxavr6tylKAPmePLcpQjAuSH/rgKQcMEl9prDeZWBYostP8XgYstnTSy2DOXEiRNp9ai6qeL0cGlrawOg1sOF4jxxPZmFYq5cT+ZdG2N6zbUxJuc6OV1q8eq6Nsb0kkstXl3XxphecqnFq+vqQG2OHTL1Cpc8AB2Ibnn6hpTy+2Mc9yNEbwvdIKWsVBhn5JUtd0spn1IOfOLx6mtra2vr65Np98LU1dWhb38flhUPXuEy56Y5mH3d7ITH97b1Yuu/bI0/zi7OxlV/fpXxOBka6PzGnGFGovMbGmZivPZ55Xpi3ITriXETrifGTYjX0+Tp4SKl7AbgNMC9NdExQggB4JbYw1dTHSPdiy2MSyRxlyIHlStcGIZhGIZhGIZhGMYNMnLBJcZPYn/fKIS4MsHrnwQwN/bvR1N549hiy+OwtNiyf/9+7N+/P20eVTdV/MFo19zm5mY0NzcjHEq9ay7FeeJ6MgvFXLmezLuqUMyV59i8qwrFXPn8ZN5VhWKuXE/mXVUo5sr1ZN7VgdocO2RqDxcAeATAnwFYAuCXQoh7pZS/FUL4AHwcwEOx416SUr4yVBRCPADgO7GHc6SUJ4a85gfwGIBPYbBnyy9MJjKSN998EwCwePHitHhUXQDAiEvJhRj7EhdfILp+eOrUKQBAxdQKSCnHdUZCcZ64nsxCMVeuJ/OuKhRz5Tk276pCMVc+P5l3VaGYK9eTeVcVirlyPZl3daA2xw4Z2cPFQQgxB8BmANWxp7oRvSonJ/Z4J4CbpJQXR3gPYOwFl+sAvBF7GAIwzE3AXVLKd9QyGI7Tw+XFF18EkPr9x3XuW07RraurQ9++PiwrGezhMvfmuai+pnpMZ8vfb0HHpQ4AQH5+Pq77m+viCzGm46XmUotX112+/CQAYPbs2di0KT1jesmlFq+uq7oHmWKuNtxbbukDAGRlZaf0edUZ06bL9WTWpRavrsv1ZNalFq+uy/Vk1qUWr66r08MlA+Z4Ut2lCAAgpTwuhFgG4K8A3AVgDqKLJPsAPAHgX6WU/Sm+7dCfvoMApk1wfFaK7z8hKl9sHY+qq4Iv6EN+fn78cTgUTmnBheI8cT0lx5/8yUsAUj/BU8yV68m8a2NML7kvvZSd9jFtujbG9JJLLV5d18aYXnKpxavr2hjTSy61eHVdHajNsUNGL7gAgJSyHcDfxv4k6zwA4IExXtsMxdUpt2htbQUAlJaWpsWj6gJIaUsREN1W1NPTAwDIzc2NNs7NTX44ivPE9WQWirlyPZl3VaGYK9eTeVcVirlyPZl3VaGYK9eTeVcVirlyPZl3daA2xw6Z3DR30vLUU0/hqadS79Gr6lF1VfAH/di3bx/27dsHACk3zqU4T1xPZqGYK9eTeVcVirlyPZl3VaGYK9eTeVcVirlyPZl3VaGYK9eTeVcHanPskPFXuExG1q1bl1aPqgsAo3oMTXBtki/ow8yZM+OPU701NMV54noyC8VcuZ7MuzbG9JJLLV5d18aYXnKpxavr2hjTSy61eHVdG2N6yaUWr66rA7U5dsjoprmTDadpbn19ve1QSFBXV4fePb1YXrY8/ty8W+dh5rqZYzrb/3M72s+0xx+v+tIqFM8qNhonQ4MNG6Kfu9WrV+OBB+zGwtBHp+kbMzFDP6Ne+LxyPTFuwvXEuAnXE+MmxOtp8jXNZZhU8QWH75JL9QoXZvLy7LOrY3974wc4hqHMd787+G/+vDIMwzAMQxXu4WKBRx99FI8++mjaPKougFFNcydaV/QH/di5cyd27twJIPUeLhTnievJLBRz5Xoy76pCMVeeY/OuKhRz5fOTeVcVirlyPZl3VaGYK9eTeVcHanPswFe4WGD69Olp9ai6KviCPhQUFMQfp3qFC8V54noyC8VcuZ7MuzbG9JprY0zOdXK61OLVdW2M6SWXWry6ro0xveRSi1fX1YHaHDtwD5c0wj1cUqOurg69u3uxfMpgD5f5t89H1RVVYzoHfnUADTsa4o8X3rkQlasqjcbJ0GDoHcX5tMfoQnwPcsbjtc8r1xPjJlxPjJtwPTFuQryelHq48JYiJrNJcUsR93BhGIZhGIZhGIZhMgFecLHAyy+/jJdffjltHlVXBX/Qj6NHj+Lo0aMAUu/hQnGeuJ7MQjFXrifzrioUc+U5Nu+qQjFXPj+Zd1WhmCvXk3lXFYq5cj2Zd3WgNscO3MPFAg0NDRMf5KJH1QUw6goXIca/xMUX9KGzszP+ONUrXCjOE9eTWSjmyvVk3rUxptdcG2NyrpPTpRavrmtjTC+51OLVdW2M6SWXWry6rg7U5tiBe7ikEe7hkhp1dXXo3dmL5RWDPVwW3LEAM9bMGNM59dYpHHv1WPxx9fpqzP29uUbjZGjgtZ4QjFmI70HOeLz2eeV6YtyE64lxE64nxk2I1xP3cGE8QIo9XFLdUsQwDMMwDMMwDMMwbsALLhbYtWsXdu3alTaPqgsg9S1FAR8aGxvR2NgIIPUtRRTnievJLBRz5Xoy76pCMVeeY/OuKhRz5fOTeVcVirlyPZl3VaGYK9eTeVcHanPswD1cLLB161YAwPLlyyc40h2PqquCP+jHmTNnAADTpk1L+QoXivPE9ZQc69fvBwAsXrw4bWN6yaUWr66rCsVcbbiqn1edMW26qlDMlc9P5l1VKObK9WTeVYVirlxP5l0dqM2xA/dwSSNOD5dXX30VAFBaWpqS39raquRRdevq6tC7oxfLpw4W+MI7F6JyVeWYTvP+Zmz78TYAQG5uLsoXlWPpZ5amJV5qLrV4dV3VPaMUc+V6Mu9yPZl1qcWr63I9mXWpxavrcj2ZdanFq+tyPZl1qcWr6+r0cMmAOVbq4cJXuFhA5Yut41F1EzHRliJ/0I/c3Nz441SvcKE4T1xPZqGYK9eTedfGmF5yqcWr69oY00sutXh1XRtjesmlFq+ua2NML7nU4tV1daA2xw7cw8UCzc3NaG5uTptH1QUwqofLRPiCPnR1daGrqwtA6j1cKM4T15NZKObK9WTeVYVirlxP5l1VKObK9WTeVYVirlxP5l1VKObK9WTe1YHaHDvwgosFnnnmGTzzzDNp86i6ADBqy9sEF3L5g34cOHAABw4cAJD6FS4U54nrySwUc+V6Mu+qQjFXrifzrioUc+V6Mu+qQjFXrifzrioUc+V6Mu/qQG2OHXhLkQWuvfbatHpUXRV8QR+qq6vjj1O9woXiPHE9Jcdjj0XdbduA2PZR42N6yaUWr65rY0wvua+++kkAqX9edca06doY00sutXh1XRtjesmlFq+ua2NML7nU4tV1daA2xw7cNDeNOE1z6+vrbYdCgrq6OvRs78GK6Svizy2+azGmLZ82ptPb1out/7I1/ji7OBtX/flVRuNkaDC0/Q+f9hhddJq+MRPjtc8r1xPjJlxPjJtwPTFuQryelJrm8pYiJrMZ+Y32BGXuCw4v6VSvcGEYhmEYhmEYhmEYN+AFFws8/PDDePjhh9PmUXVV8Af9+OCDD/DBBx8ASL2HC8V54noyC8VcuZ7Mu6pQzJXn2LyrCsVc+fxk3lWFYq5cT+ZdVSjmyvVk3tWB2hw7cA8XC9TU1KTVo+omYqLbQvsCPpSUlMQfR0IRSCkn9BwozhPXk1ko5sr1ZN61MabXXBtjcq6T06UWr65rY0wvudTi1XVtjOkll1q8uq4O1ObYgXu4pBHu4ZIadXV16KnvwYrKwR4ul3/ickxdOnVcb8vfb0FkYHAr0bX3Xwt/0G8sToYGXusJwZiF+B7kjGGgdwADfQPILsoGJNDf1Y9gbhD+IdtDvfB55Xpi3ITriXETrifGTYjXk1IPF77ChclsUuzhAkT7uAxdcIkMRHjBhWEYJkOQUuLc++dw/oPz6GzoBCQQyAlARiTC/WEIvwBwffz4nY/txEDvAPKn5mPuh+YiqyDLXvAMwzAMwzApwAsuFnj++ecBALfffntaPKougFELLslsDTp05BDC3WHMnz8fABDuCyOYG0xqOIrzxPVkFoq5cj2Zd1WhmKubbsf5Dux/ej+6m7uHHTfQOxD/twwPP/G3Hm2Numc70Ly3GVMWTEHVlVUomlmU8P+ETMk1HVDMlc9P5l1VKObK9WTeVYVirlxP5l0dqM2xAy+4WKCtrS2tHlVXld5QL8K9g81yw/3JN86lOE9cT2ahmGsm1pPTS0lGZPTfPoH2M+24dPISTj17CsIvsLNlJwAgmBdE5apK9LX3obOhE2XzylB6WWnCH665nui47WfbsfPRnQj3pdbMfCjh/jCa9jShaU8TACCrIAu5U3KRU5KD/Kn5mLpkakbkmi4o5pqJ56fJ5toY00sutXh1XRtjesmlFq+uqwO1OXbgHi5phHu4pEZdXR163u/BiqrBHi5LPr0EFYsrxvXqH6pHx9mO+ONVX1qF4lnFxuJMlVBPCIGcQNKNfBl34B4udpBS4szWMzj11qn4VQwjr2BIlmnLp2H+R+YjkG3/dwXE9yCnlXB/GMdfO45z284N2+6ZEAFAAjd+94b4U69/Z3PSYwm/wGUfvgwzr5ypEqo1uJ4YN+F6YtyE64lxE+L1xD1cmMlPMosUI38Y0/ltqpv0d/Vj/9P745fHF84oRMXlFZixdkZG/ADJMG4w0DcAGZEIZAfQsKMBx18/jv6Oflfeu3FXIxp3NQICKJhWgOprqzF1yfhNtBl79FzsweEXDuPi4YsJXy+bV4a5vzcXuVNy0X2hG76AD3nleei52AN8d/C4ebfOQ+OuRnSc60j4PkORYYkjLxzBkReOoHRuKaavnI6KJRXw+X0TugzDMAzDMG7DP+VZYPv27QCA2tratHhUXQCjm+Ymwalzp9B5vhOVlZUAoj8AJoupXC8evYhDmw6ht603/lzHuQ50nOvAma1nIJdK5E7NTescU6wJHfeOO6JXlq1evTptY3rBlVKicWcj3v3Fu+ht7o1/7lLh/PnzAJC8K4HOhk7se2ofXvu/ryFvVh6WrF2CqcumorCyMOlxtc9PClD5uuq44VAYZ987ixOvn8DZ02cBjP7azr5uNmpurIkvog/9uuVNycPGjYM1MXPdTMxcNxOdjZ048+4ZtJ9pR/eF4T1ghuLUEwC0HmvF/qf3Y9qKabjsw5chK3/8hrtW/79TgEpN2HapxavrqkIxV64n864qFHPlejLv6kBtjh14wcUC27ZtA5D6F07Vo+omJIkLuY6fOo7QuVD8G/xUeriYyPX0u6dx9KWjY3r9nf3Y/h/bkbMmJ61zTLEmdNwNG6ILLhs3prbgQjFX066MSDTsbMC598/Frzo4tvMYgBQWTYbQ2NUIX6EP665bh/MfnE/pipizZ88CZ4GiUBFOv3MaM9bOwPzb5yd1NZzr56ckyOSvqxtu054mHHruEAZ6ogvd586dAzBYF8InsPDOhZi+Yvq477N69SYAwy85LphWgEW/vwhSSnSe70RvWy/8WX70dfShp6UHp989DRmWo8YEgMadjWg73oYln16CoqoiV3J101WFQk1kgkstXl1XFYq5cj2Zd1WhmCvXk3lXB2pz7MA9XNKI08Nl8+bNAIDCwuR/EwsAHR0dSh5Vt66uDj3v9WDFzMEeLks/uxTlC8vH9Xb9chfObzuP7OxsANHL0WeuS24/v9u5Xjp9CR/81wcTun19fQCAFZ9ZMeEPIsmMa9Kj6qruGaWYqym352IPjr9+HC0HW0YtZDo17HzuRlI0swhzbpqD3Cm5uHTyEtpOtCGvIg9Va6vQ1dM1asye1h5AAjmlObh08hIO/uZg/LmJxr3slssw66pZWrlOBNfTaM5/cB4Hf3Nw2Ndo6NcnpyQHK7+wEjnFOUbivXDgAvY/sx/d7d3xMRNRsaQCFYsrUHpZ6ag72PH5aXK61OLVdbmezLrU4tV1uZ7MutTi1XV1erhkwBxzDxcqqHyxdTyqLgCl20IXlhbiYvZgz4BUthS5mauUEkdfHn1ly/SV0zFjzQyc/+A8ztdHL313fjA4/NxhFM8qRm5ZrvGYKdaEdj2leczJ4DbuasT57efRdqJtXG+sH27L5pVh7s1zkT81P/75zVmeg2nLp40bb27p4GegpKYEV/7plfHHl05FF2C6L3QnHPfoS0eRVZCFacumjXptKFxP7rjOue7Mu2dGvZaTm4PpK6dj6tKpKKwqTLpflUq85YvKse6/r0Pr0VaEekLobOiMn2OH0ry3Gc17mwEANTfWYPZ1swe3NvH5aVK61OLVdW2M6SWXWry6ro0xveRSi1fX1YHaHDvwgosFUu5XoOlRdROSxLpiW0cbOjo64h+QVJrmuplrV2MX2k+3DztmyaeWoOLy6F2WimYWIW9KHo6+fHTY6ume/7cHtV+qhT/LbzRmijXhej0ZHpO6e/y14zi55WRSXjgvjFk3zkLlzEoIIdBxrgP5U/NRWFU44UJpqvEWVxdjzR+vQeOuRpzYcQL+bD+6Dw3v6bH/6f0IZAcwZcEU18Z1g0z4urrtNu5sHL3YIoCZV85E1vwsBPOCKK0sTUu8wdwgwlPC8MGHhWsXYv7t83HslWM4s3X0YhAAnHj9BACg5voarXF1XVUytSYyzaUWr66rCsVcuZ7Mu6pQzJXrybyrA7U5duC2/RbYtGkTNm3alDaPqgtEf3OaKm//7m0cOnQo/jiVK1zczLVxd+Ow10svK40vtjjMunoW5t02D4cOHYrH3NXYhcPPHzYeM8Wa0HF/+MNb8MMf3oING9I3JiVXRiQ6znfgl//3l/jF936B7f+1fcLFlmkrpmHlH67E2q+uxZGiI9j8wWYUVhaiYHoBKmsrUTSzKKmr0lTi9fl9qFxVid2h3djRuQPzb58/IiFg9+O70bS3ydVxdaFUExO5kYEITr19KrqNaAjCL7D000sx79Z5ePG3LyqNe8st/bjllv6UP68j4/X5fZh36zxc/snLIXyJa/HE6yfi52ub/9+le0wvudTi1XVVoZgr15N5VxWKuXI9mXd1oDbHDnyFiwVuvPHGtHpU3UQk88PbFVddgdMdp+OPU7nCxa1cpZRo2j38B72xerNUXVGFlTevRNvhtvhzDTsaMHPdTBRML0hpXNV4veDu3j079nf6xqTghvvDOPv+WZx59wz6O/tR2RFdwR95dZZDTkkOKmsrMWPtjGH9L2760E1piXcst2p+FfxZfhz8zUHIyOBC7b5f7EN/Rz+qrqga9QO32+enZKBQExO5Ukqc334eJ984ib72vmGvCZ/A8s8tR+ncUq1xVT+vY405dclUlF1Whp2P7UTH2dG3lz7wqwMQPpFR/9+ZHtNLLrV4dV0bY3rJpRavrmtjTC+51OLVdXWgNscO3DQ3jThNc+vr622HQoK6ujp0b+3GyuqV8eeW37McZfPKxvUuHLyAPU/siT8um1+G5Z9bbirMhLSdaMOOH++IP/YFfbjm69eMuU0o3B9G/UP16G4evi2i6ooq1NxQg2BeMKHHJM/QtTqvn/aklLhw4AIu7L+Ai0cvItQVmtApmF6A2dfNRvmi8jGvFMgETm45ieOvHR/1fMmcEiy7exn8weS26k2ETtM3ykTCERz89UE07mpM+Pr82+ej6ooq7XFMfl67L3Sj/Uw7Dm46CBke/uYz181EzQ01COSk9/dRXq0nxgxcT4ybcD0xbkK8nrhpLjMJGfmNdhJlPrIpYyq3hXaLkduJyheVj9uTxZ/lx+zrZmP/L/cPe/7se2dx4cAFLNiwAFPmj92LgmEmoudiD86+fxad5zsnbIA7lNwpuZh/2/wJFzozheprqyGljPfmcGg73oZTb57CnJvm2AlsEiAjEnuf3IuWgy2jXvNn+7H4Y4tRvmj8u8hlAnnlecgrz4PwCex/evg598zWMziz9QwKqwox75Z5KK4uthQlwzAMwzCTgYxfcBFCFAL4SwAfBzAHQBjAIQBPAPihlLJf472nAfgGgDsAVAPoAbAXwI8BPCwNXf6jurKnsyJI0U1EMluKnnjqCXTXd2P16tUAUttS5EauX/7il+N3wHCY6G4pdXV1kBGJK2uuHPXDcF97H3b/bDeqrqjCvNvmjZoDriezUMx1aC36Aj407GzAoU2HEBmITOjuOL4DIkfgxmtvRMWSCkxfMT2pK1ps5+q4QgjUXF+DrIIsHH7+8LArGE6+eRLF1cXxxSOup+RdGZG4vvL6UYstvoAPM9bMQPX6amQVZLk6rirJjjlt+TREBiI49NyheJ04V6Cuxmp88PAHmLJgCqrXV0f7EU3wOcjkXL3uUotX11WFYq5cT+ZdVSjmyvVk3tWB2hw7ZPSCixBiNoDNAGpiT3UDyAawJvbnHiHEh6SUrQrvvRrASwCcywY6ARQCWB/780khxEd1FnTGYtGiRWn1qLqqLFi8AGf2Dd6RIpWmuW7k2ryvGQO9g2MG84IovWz8O3Q47rJ1y3DijRNo2NEwapvH2ffOIqc0B7OumuVKzBRrwkY9Ucs11BNC5UAlOg52YMvfb0nK8QV9KJ1biukrp8PXHO2lvvy61LbhZdo8zVg9AyWzS1D/UP3goqsEDj13CFf8yRXw+X1cT0kyf/Z8NL3ehIaGhmHP55blYvk9y8e9jX2mz3FlbSV8QV/0ShcJlJcPv0Kn5VALWg61ILcsFws2LEDpnLHP5Zmeq5ddavHqujbG9JJLLV5d18aYXnKpxavr6kBtjh0ytoeLEMIP4AMAywCcA3CvlPJVIYQPwCcAPASgCMALUsrbU3zvYgAHAEwHsB/A56WU9UKILABfBvDPALIA/LuU8qsu5sQ9XFKgrq4O3e90Y2XNyvhzK+5dMe43vADQ39WPd77/TvxxMC+Ia75xjakwhyGlxLb/2Iauxq74c1VXVI2+g8oERMIRnHj9BE69fWrUtqryxeVYuGEh93VJES/0cGk/247dP9uNUPfEPVkAIKc0BwvuWICS2SXwBSbnTetaDrVg9xO7h32O5nxoDmZfO1vrfYnvQU6acCiM7Q9tR1dT17DnswqzsHrjamQXZhsZN92f16Y9TTj4m4MTbkHNq8hDzfU1mLp0qqvje6WeMoX2M+24eOQiWg61oONcB3wBH0ovK8Xsa2ejaGaR7fC04Xpi3ITriXET4vU06Xq4fAHRxRYJ4C4p5e8AQEoZAfCkiO6r+DmA22JXufw2hff+OqKLLd0AbpdSnoi9dz+AH8W2Mf0jgI1CiP8jpTw45jsxGcfIXimpXOGiS/eF7mGLLRDRJoyp4vP7MPf35mLKginY9dNdw34IuLA/2uy0ZE4J8ivykV2UjRlrZ4zqXcNMbjobO9HZ0InuC91oOdQyvO7GoXBGIXJKc1A4oxBVV1S51kQ2U5myYApmrJ6Bc9vOxZ87/tvjCGQHXGnuOpmRUuLYK8dGLbbklOZg2WeXGVtsscHUpVMxdelU9Hf14+QbJ9G4q3HYlYoO3c3d2PeLfTix+QRqbqhBxeUVGd1E2suE+8No3teMjnMdaDncgpySHPS29SLcHx51BWlkIIKWgy1oOdiC3Cm5yCnOgT/Lj5zSHBRXF2PK/CmTdlGaYRiGMUsm/4R2b+zv153FlhE8CeAfAMyNHZvKgsvnY3//3FlsGcEPAfwNgAIAnwPwtym894T8+te/BgDceeedafGougBGXd2RTA+XTc9tQuOhRixcsDD6FmGJyEAkqW+WdHPt3NeJKgz+EFd2Wdm4l9tPNG5xdTEu/+Tl2PvkXkRCw/tvtB1vQ9vxNhw4cAC+oA83f+FmZBdlo/VYKzrOdyAyEEFWfhamrZiGacunIZgXHDZ/FGtCu54UsJlruCeM2265Lfq1F9GvefvZdvS09KD9TOLbNgPAgQMHAAy5DFJEa3H29bNRPGv8JqCT8fw0+7rZaNrTNOwH6MPPH8ZLj76EkmtLcNen70p5XFUyeZ5GcubdMzj73tlh9VQ8uxhLP7006SvsqH1mX3j1BQDAHX9xB05sPoGmPU2jbn0NRBfX9/1iHyour8Dln7wcQghyuVJzQz0h/Pyffo5ITwQ3fvRGlNSUoGB6Afo7+9G8rxmh7hCKq4uRU5yDi0cu4tTbp+ILK6POiePQ09KDnpae+ONXH3kVAHDtXddi6tKpyJ2Si3BfGKGeEC4evoiBvgFMXToV5QtHN4zm/+8mp0stXl1XlUzNdaB3AJ0NnQjmB5Fbmou2k20I5ARQOKMQv/nNb8Z028+04+jLR9HT2oPCykJU1lZCSgl/lh9FVUV47qXnlGJ2K1cp5bg/J4V6Qui52IOc4hwE84Pj5prsuB/96EchIxI+f+KfsaSUaDveBikliqqKtO8ASO0z65CRCy5CiDwAV8cevpjoGCmlFEK8BOCPAdycwnsvRLRB7njv3SWEeBPAbbH3dnXBpa9v9DdvJj0dt+VwCzrPdsJf7EdvWy86zncgKz8rqQaCANDb04uBtgE07GiAP9uPKQumjPpQhrpD6GzsRHF1Mfo7+wEJZBeP8ZvTJH6R2N/fj7AYfln4QN8AsgKjGzqORHeOO090ApWDz01ZmNydhcYbd8r8KVj1xVXY88SehN/4h8NhhMNhnNxyctRr/R396GzoxNGXjiK7OBvlC8sxfdV0FEwvsFJPNl0bY6bqhnpCGOgZQDgURtOrTehv6MfvDiRabx6fcDiMQFkAiz++GDIiUTavDFn5E9e/Ssy6Xjrc7KJsLPnUEuz62a5hTXR7GnvQ92wfem/tRU5xjnIMqZDJ8zSU1uOtOPrKUQDRegKi5+Vldy9L6Wo6qp9Zf5Yfl334Msy9eS4adjTgzNYzCa8ia97XjG3/vg3L7l5GNtdMciPhCDobOnHp1CV0nO1AX0cfLp28FH+9fW90ofnYK8dSGtOpYRUct3lfM5r3NSc8pml3E2aum4nLbrls2A88I3MNh8Lw+X1Jff/k5XqSEYnetl70tPYgrzwPOcU50ecu9WKgZwCBnAB8AR+yi7LHHDccCk94BWcqMUcGIhjoHUAwP5i2eYqEo2N2NXVF7zC4uw3+Yj+6mruQW5Yb/346Eo5Er9yKbSfube1Fz8UeCL+INsuXQOe5TvgL/RP+UK5LZCCCntYeBHIC6O3pHVbrvW29uHT6EtpOtKG3rRcz1sxAxeKKhO+TzDwN9A3AH/Sj/Uw7mvY2ofVYK7Lys9BxqQP+Ij8unb6ES6cu4eKRi8ivyMfs62ej4YMGnHjjxKhfYgLRqzcbDzVCCIEj2UdQPLsYoa7oIkX7mXZcOjV4LmrpiPb3Gsq5I+cQKAngeOFxZBVkofSyUuSW5UIIge6Wbhx75RguHr0IIQSKZhZh7u/NRVZhFroudCF8KYzulm5AAsInkFOak/DrFOoJof1MO7qbu9G8rxnn3jgHX54P2xq2obu5G2XzyrDgjgWjmti3HmvF3qf2YqBn8BdPDecbULi6MP44HArjzLtn0LS3CaGuEPxZfpQvKsfs62dD+ARkWMYXTLpbu9F7pBfvHn4X/Z39yC7ORuncUgTzggjmBeHP8qPvUt+o1gjFs4sROhlCoEptCYLa96gOGdnDJdbQdlvs4e1SyhfGOO6rAP4t9rBcSjn6XpWjnY8D+EXs4eVSyv1jHPc9RLcetUspXbkvJMUeLr/719+h52LPqOcDuQGUzi1FVn5WfCElqyALva29KJpZBH+WH20n23DwNweH/aZI+ARyp+SidG4pKhZXoO1kG05uOTnshyAAKJtXhnc730XPuz1YOWdl/PmVX1iJktklE8a99V+2oretN/74yj+7ErmlE19pokN/Zz/e+cE7w04sV/3FVcgucuey+/7Ofhz77TE0fNAw8cETIHwCvqAPvoAPRTOLUDC9ALOumqW98pzJZFoPFykl2s+0o+NcBxp2NKDzfKdr7102vwxLPrlk3FuRe5GLRy5iz8/3jLpbU05JDpZ/fjnypuQl/V7E9yCPiYxInH7nNI799tiwc5k/249VX1iFgukFaYkj0z6vANCwswEHnjkw5utFs4ow+9rZKKkpSfmzN1nraShSSvS09CCQGxi2ABzqCaGrsQtntp7BhQMX0haPL+BDVmEWett6kTclD8Iv0N3cDRlRL7jCGYUomVOCoqoiZBdn4+Lhi/AFfIgMRNC4qxE9F3vgC/pQvqgc82+fj2CumV5slOppoHcAFw5cQF97H/xZflw4eAFtx9uGHySiX6+RPyT7s/zILctFf2c/Si+LNn4HgJNbTqLtRBuyCrJQdlkZ8qflI7swG+H+MLovdKO/sx/+bD+mLp2K4lnFED6BSDgCn9+Hgd4B+LP88YWCgd4BNO9rxonNJ9DX3hd9z/llKF9UjqKZRaOuHgaiP7i2nWhD5/lOBHIDKKoqQjgURlFVES4evYj2M+0QQkD4Rdz3BaP5OQsloa4QLhy8MGr7m0MwL4iSmhL0d/VHFwKSLNvsomzMWDMDM9fNRHdLN3wBH/LKo//3hbpCCIfCaNzViO7mboR6QpBhiTfefgO+Ih/u+Mgd8fcomVMSX0zoae1Bw44GdF/oRuvR1vjVpL6ADyVzoj3iLh65mHCRAxjem/DCwQs4X38egdwAAjkB9LX3IdwfRrg/On8z183EpVOXcOKNE8N+vshUckpykFWYhfbTY1+VnIi88jxUXVGFacunIZATwEDfAE69eQqn3jqV0vsUVBZARmR0a/A4NZJdnI2+S2MvLDjnsbyKPAgh0NU8/vuNR319PUSWwCf+4hOoWltF7XtVpdXKTF1w2QDgN7GHK6SUu8Y47k4Av4o9XCal3JPEe/83AP8ae1gspUz4CRBC/BmAf4k9LJRSjvvTkBAimVWURdXV1Xn3339/EofaR4YkOl9M/YdAERAQWQKR7olvQTsePYt6II9I5A0M/hCUd00e/GUTfzC73uhCpH1w/Lzr8uAvNvuBDp0KoXfn4CKPv9iPvOuS/wEuWWRYInQqhIGGAYQvqP/WbiS+Ih9yanPgLyR14kua55+P9tIpKCjAddeN/UOTKWREYuD8AAYaBhC5FEGkS+/z4RCYHgB8gK/Ah8D0AHwFPgg/95QYi9C5EHrre0c97yvyIW99XtJz19wc/U13RUXi385RJNIbQW99L8IXR59Xcq/MRWBq+hZkt2wZ3Pph4/M6FqFzIYSOhBC+NM651wf4C/0QeQIiWyB7UTZEcPy6moz1BAByQCJ0IoTwxTAiHZH49wUiW0AEhGvnwWQQfoGc1TnRc2Qw+n3KqHhDEgMXBoB+AD4g3BJG6HRyTchTDwjIqc1BcIb7iy626sn5fy7SFYG/yI9ITwQDZweAAJC9MBsyJBE6GYLsk/EfWxKdbyjhy/XBX+4H/IAvzwcIoP9IfzTHSUJXV/Tqvvz8/GHPiywBX64P4Y4wkL6PsreIfX839Gca6gytp/wb8+EroNMfa+PGjZOqaW7hkH93j3Pc0NcKxzzKnfd27dfPY524THmqbrg9+p9gf3/0zthZWcltSZADEnJAKrnDULwhd1dXF/rD/QgMKW8nnmRcQHGOz3Yh3B+O5+qfnvzCRSrjCr9A1pwsZM2JjtN5sRPhU2EEe4LRS/4iEpHOCALlAQw0DkCGEuc+8msTaY+ge3O07H25PvjKfAhMCyAwNTDqh4V016Ib7tq1HwBI/RvQicaM9EYQOhpCuD0M2R2rfQlAAqHsEES2QDAURKQjtf8sh359RI6A7Jfxb2gCVQEEZwThr/AnXCCwMcdUaiI4IwgRFOjZ2jNsjiPtEYSOh5A1T+FclQKZOk8yItHzu56E39SFp4fRl9837Jzq1rhjsXp1vZKnM2YybnBGEMEZQYRbw+jZ1gPZO3h+HVpP4UthIHb1eehECL5CH4I1QQRnj/5tuA5u5yojMvoDsAT8Jf4xF4q6urog+yTysvIgwzL6f02fhOyWCLeEISGBMX6O7u/vB/rVvi9w5ji7IDt6Towh/AIiXwyr38D0AIJzgvCX+dHV1gVkAYGC8WtYBAWClYMLIMFZQQxcNoDI+QiyurMQ6YxAhmQ01zH+b00Ub8JcJdBb34uBhgHkrMgZdi6PdEXQeboTokCgoKrA6BaQoYysiUhvtH9YpDWCgQvRXxbIAQlfng/+iuj3OL4CH8LNYXSf70akNTLm17W7eexvuXW+V7ThDvu/oyeCyOnk/3+nlut4yH457p3dKOaarCuCAjIk4SvyRc8JPdKVehpFBOMutmT6PI1HoCqQ8mILte9RHTJ1wYUcUsrVEx0jhKgvLy+vdb5gqV7qqXOJqIrbca4Dp+efxku/fAmRzghWr14dvcRSYNQWoLFwtk9dec2V0bsFpbDgvxd7EWoNYeXclfHnVn1u1YRNP+vq6uDL92HFohXx55Z9fBmmLJi4n4rOHP/za/8Mf5Yfq1dHSyHZ7U+649bV1QFliV0pJboauyD8Ap3nO3Gu/lx8P7zztXHiHYtgdxCrvrAqfsmplBJ1/1YH2S/x5S9+GZGBCPzZ/qS/IUx3Hau6fe19uHjkIp76r6cAAVx/y/XwBXzwB/3oON+BrqYuhLqjl9uiFNE/I6ivrwe6gFWrV6Ucb/0H9ciam4Wv/e+vwef3QcroNzb+rInn2sYcU/m6OkQGIvi/f/R/MdA4EP8MBPOCWHv32lF7n90cN1Pn6dy2czjUcGjYc4HcAGZfOxvP734eQgiupxH0d/bj0HOHcGF/dBtMUufU88MfVq+vRsmcEjzx2BPwl/rxlS9/JaW7Hqnk2tfeh/Yz7Xjy8SchQxIfvfujaD/djtbjrcMv0W+ObtkI5kcX84UQ6GvvQ3ZRNt587U0AwKLVsSuRCmJ/pgCYNf74ycyTL+hD9TXVyCvPi2/DKZpZhMd//jh8hT7c90f3IRwKo/VoK4RPxLdx9XX0ob+zHwXThy9SaNdE4XBXRqJbQgM5Afiz/TjywpGE26GS/n+2I4iy+WXobe1Fb1sv+tr7UH846q6btw6Xf+JyBPOC6Gvvw9n3z0b/X/cJFEwvwJQFU5A/NX/YjQFU833w3x5EuCWM3//w76PlUAsadzUOft9WFvszkn4AxUD9kXoga+JcE5HsPGWKazNekSOwevnqhN+HZxdlxxfu8qbkIaswC+H+MPou9WHzc5shB6T1ecouykYgNzDhnRVTGdMX8KGkpgR97X3oauqKu1dcfQUAINw3fFGobF4ZFv3+IgRyAujv6kdWQRZkWKJ5fzOeeuQpRDojuGrVVei71Ie8irx4M24pJbLyszBl4RT4g9F+OE4fnd62XvznP/0nEAZuu/k2dDZ0ou1E27CvUyAngOkrpyPUE0Jfex/6O/oR6glh65at8Vz9Wf5xF7GGUnVlFV7Z/gpkSOKuO++K3mntUMuY2yJzy3Jx2S2XwZ/lx4nNJ/Da06+NnmMBTF85HTOvnInT75yOngMSUF9fD1+xD3f+4Z2oWFKBvvY+NO1uwqXTl0ZtTapYUoEFdyxAb2svmvY24df/9mvIsMRX/v4r8Z8tkoXa9xQOvKXIpS1FyeD0cHnrrbcAALm5qfUU6enpUfLccMP9YQRkANnF2YgMRNC0pwldjV3wBXxo2tuE3tbRl+gD0csr52+Yj8rFlQj3h9FzsQedDZ1o3N2I9jPtCOYGMW35NFRcXoG9T+0d9s3eXuxF6GgIKy9bGX+u9su1KJpZNGG8B54+gEuHB5tbLf74YkxbNi2pXIHU5ynUHcLm/7UZABAMRr85Xf+t9UnvS0zn1zYSjqDlUAsa9jVgoHdg2DyNReGMQtTcUIOGHQ24ePQiejujX+9gMPqbwJySHARyAsiflo8p86fAn+1Hd3M3SueWIn9a/rBvfG3UcV9HH/7zH/8TIkfgi3/6RVw6Ff0PoWx+GQqmRXtShLpDiIQj6O/ox7FXj6H1WGv0+VBoWK6pkKxbWFWImutr4M+O7kfvudgD5ALZhdlWPu8qrs3zk6rb3tKO+n+rh4gM1mfZvDIsv2f5hK7qf8CZOE+djZ3Y/tD2Yb1tCmcUYtnnliErP4vraQL6u/rRvLcZzUea0XKgBX5f6tsynR8Qrr7paiz55JIJ/59LJV4pJTobOtF3qQ+tx1pxrv5cdGtqGs5tqbj50/IRyA6g+tpqTJmf+BckmVxPvW29uHTqEloOtUR/0IpIIAhkFWahYEoBCqYVoLi6GMd+e2x0j5IEjJynQG5gWMPLoQhfrB9IbrRh5VvvRL/PvPqKq+EL+FA2rwzV66vjfdqklBjoGYCMyPgCc/O+Zux9ei9CPSErNRHMC6KspgxZBVkomV2CsvllaNjRgJZDLSiYVoCyeWUom1eGSDjaBLZxVyO6W7oR8UWiDT7hx6VTlzDQN4D8qfnIKshCf0c/ZEQitywXrcdbIcMSxdXF6L7QjchABJ0tnYgMRCaMOX9qPkpqSlCxpAKRgQhOvH0C7afagcRfjmE4Vx4PzbWwqhAV86I/pPZe6kVvay/6O/shfAJl88qQU5qDjnMdyC3LxayrZiGvIg8+vy9ei76QD427G+MLAmXzyibsU9jT04OB3gGcfeMsGnaM3wswd0oupq+YDn+2H5DAM794BpGOCFbPXT1mDQJAXkW078iUBVOQXZSN5qPN6GrqQnZ2NgLZAeSU5KBwRmF8TtrPtuP026cTLlaGQiEEc4PILcrF9JXTMdA7gIadDQh1heAL+jBt2TTMumYWsouyhzWi7mzsxMVTF5E7JRflc8qjC8UdfTj26jH0d/ajfFE5ZqyeMebCtpvninB/GB3nOiAjEoHcAPLK8xI2cu7ujjbLzcnJgc/vQ9uJNpyrP4fmvc3Dakf4BaYsmILpK6ZjysIp0f45I8Z0br7QvK8ZfR19KJhWAH+2H/kV+fH+K0Pj7W7uRl9zH/Km5CGQE/05b2hvqa6mLrQeiy5sF80qQiQUiTZjDkSQXTT296hSSnQ3dyOYFxz1S6wHf/ggBi4M4GsPfE17jk17CdxJ1cMlk5rmdkgpk/vOZ+KxyTXNTYbIQAQth1uQVZCFwhmF6Djbgf7OfgRyAiiuLk7qdswAsPfJvcPuAKC64AIAB39zEOe3D/4qccEdCzBjzYzkk0qRi0cuYtdPB9cFCyoLsOa+NcbGc5NIOIKzvzuL0++cjt4lymVyy3JRfW01pq+cPu6VGT2tPRBCIKfEnbvFSClx8fBFnH3vLC4euaj1WyU3KV9cjsraSgghEMgNILcs11jjRGZiTr55Esd/e3zYc2v+aM2EzWEpNaUcj0g4gg/+6wN0nOuIP+cL+HDFf7sibXdumkyEukM4+95ZXDh4IaVG2CPPT6WXRRvL50+L/uDoC/iQlZ8V/yFBSon+jv7odo+BCCIDEZx84ySa9jRFr0rJC6J0bilkRKLlUEv87iU2EH4Rv21y0czobUFDPSG0nx6868eMNTOQP1X9cm1qXDp9Cft+sW/cJpU6jPn/nYByo8tUSdSEU/gEsouzo1cGBf3RH9DXVo36xUy6CPWE4g1iI+EIpsyfgkBuINpIuTwP/Z390R9Ux/gtfE9rD5r2NEXvXpQbRMvhFnQ1daFgegGq11ej7LLBBaKupi40729G4YxClC8qH5XvQG/0DoXZhe7caGE82k624dKpSyibV4ZgXhDdF7qRV56HYF4Q4b5w9Kq2Ca4Q67nYg4ObDqKzoRM5JTmYeeVMTFsxTenr2NnYiZZDLQj3hVE0qwilc0sTLkxIKRHqCiGQGxjzNsSTiUg4gvbT7Qj1hBDIDqBgegGCefS/XyT+/dOk6uGyH9FuBT4ASwEkXHCJvQYADckstsQYehXM0thY47333iTfN2lOnz4NAJg1a4Lrbl3yTLu+gG/Ybd2Kqwe3/OiMC2D0NwZJlPnp06dxsf3isOeSvTxPNd7Oxk5cuhT9xrG4uBiFM5JtKaQ3ro471Jt19SxUXVmFpj1N8UsgWw61xDvNj2RorhPRc7EHB399EEdeOIKqK6rQiU70tfXB3xb9oSB/aj7aTrbFO7hXXF6BRb+/KOHVQePl2tnQicMvHEZ3czcG+gZGXW77z2/eAwDIq89D3cbkFz2TzbVoVhHm3TIPgdxA/O4C546dQ7AwiIqKCuSW5aJicUXS/1lm6uc9k8Z0wxXV0dsztp8ZvNjx0LOHsOLeFRPeUlSFTJonGZE49OyhYYstADD/I/OHLbbYiHnZssH94an+jsL2HNfcUIOaG2oQ6o6eB3pbe3Hh4AV0X+hOejtu69FWtB5tHfacP9uP6vXVKJpZhMPPHUb3he6E5yfnjh5Df+mQiFTO4xO5RTOLUDKnBJFQJH5FRXZxNoQvetXF0PN5fI6XzsLUpVNTGneynJ+KZxVjzX1rcOKNE2jc2Zjw/1qdr8+YTFB+Y40ZyAnE70rT2dAZve1wa0/0FrZ+AeETuNR6CSXzS7DwmoWoWFIBIaK3JB7oG0BWftaou/8MxdbXp+FCAzADWHDlAuUxZ187O/589frqUcc6CwOFMwpROKMQp0+fxpkzZ0bFG8gJTHinSLfmqWR2ybAt70PP98n+v5dblouV965MeszxKJhWEL/aeDxXCJHUlt9M+7yrej5/dKuUiTFtujpQ+z/AISMXXKSU3UKIdwFcA+BWAN8feYyILqHeEnv4agpvfwjAaUR3Gd8K4KkE750P4FqF906KF16Irh+lurKn6lF1E5HMyvkLL7yAvoN9WFa4LP7cQF8S131CPd6upi4cOXIEQPQ3Sqn+ps7GHI/0fH4fpq+YjukrordV7O/qx45HdqD7wuhGd0NzTZZwfxin3jo16jdvLYeGr5U272tG875mTFk4Jf7b0NzSXBTOKBwz156LPdj2H9swHmcvxbaUTbyDKk7hjELsvrQbIiiwZN0SdDV1RbdOTc1HVmEWsguz0XOxB1kFWfFvMAEAU6ILj7+t+y3QCWy8m87nzovnp4+t/xj2Pjm4tt5+ph17n9yLpZ9Z6vpv0Wzn6rihnhD2/r+9aDvRNuy4iiUVqFxVaWzcZNmzR70RX6bMcTAvGJ/LOTfNQWQggnAojPP159G0pwmdDZ0omF4Q/cE1CcJ94VFXY6mci4e6IiiweuXqeG+2aSumoXxhOaYsnIJQVyh+e1oAaDvRhtZjrQh1h7DzvZ3wF/lx9aeuRl553qhL1ceDz09RgnlBzL9tPuZ+aC4adzWis7ETkVAEuWW5mL5qOn78sx+jb28flovlwxZKnO0evmB060FXYxd62xJv606VkfVUvrg8/guQZHqHncd5XLv02vhzvoAPWYHoZ3m8xYRM/Ppk2pg2XVUo5sr1ZN7VgdocO2TkgkuMnyC64HKjEOJKKeXvRrz+SQBzY/9+NNk3lVJKIcRjAP4awGeEEH8npTwx4rCvIdr+LQLgZyrBj8fNN9+cVo+Mm+D/cqlw7evNN9+M5inN6N49uFAw1pUaiVwVuhq7MHfu3PjjVBdcbHx9JvKy8rOw6kur4pep93f2I68iD/Nvn49Z98yC8AnUzK5BuC+Mhp0NOPveWfS29sIX9EV7QYzxpRs6T+PRcrAFLQcHF2OEX2BOzhwE8gLY98t9KF9YjrL5ZTjy4hE0fDD+fuSR+II+yIgc87fN/mw/5v7eXFStrULZ8WiXwDlz5qQ0BkDkc+eSSy3eoW757HIUzy6ON5QGgIuHL+Lw84excMNC5fcfb0ybbmQggp2P7hy15SWnJAcLPjL6N722YrYxpknXF/DBF/Chen31qN+E73twH0InQ8guykZfe/LbTJI9nzo4WzimLZ+G2eejv5kf69yWXRTd2pCVH/2BOX9qPqquqAIAlNxYAgComJP6bYf5/DQcf5Y/4ZbnD9/yYeAWoLqqOnr3wXAEwicQyAnEFz9mXRX9jauztSXUHUJuWS52Ne1C+FIYJXNK0NvWi3BfOKltZXPnzkXVdVWYXzsf2UXZyJuSfEPLTJ5jt11q8eq6Nsb0kkstXl1XB2pz7JCRPVwAQAgRALADwBIAZwHcK6X8rRDCB+DjAP4TQBGAl6SUt45wHwDwndjDOSMXVIQQJQAOAJgGYB+AP5BS1gshsgB8CdFmuVkAHpRS/pGLOU3KHi5usfepvWjeO6SHi9yL/iP9WDV/8A4vq+9bjcLKibfrnP/gPA7++mD88bQV07D4Y4vdDThGJBzBW//fW8MaTl7zjWsmxT5LByklQt3Rpnap7M/tudiDHT/ZYWyfejI4W32KZw32/gkPRCCEwKVTl9C4O9qBvbCyENNWTIte0SCSu5qKmTyEekLY8eMdo+6csPQzS1G+qHzU8ZT3IJ/YfAInNp8Y9lxWYRZW/MEK5FdkRh+NoR+/DP02xVWcevrKV76CrsauaA+Yhk5cPHxx2P8tE1E0qwgzr5yJgb4BdJ7vRHdLNwqmF6CkpgTF1cXcL8ojjDw/Ob0vfEFfvJFlTkkOulu6EeqO3jFloGcA+dPyk767IuMdKP9/x2QexOtpUvVwgZRyIHa3os0AqgG8KoToRrSvi7PZcCeAuxXeuy323i8CuBzANiFER+x9ne9GXgHwZ1pJjIFqJ/dMu6OAaVeVUCg0qrLH66o+ykVq8XY1dUUvFQ9H+8TklealvNhiY45T8YQQ8d9ypuLmluVi5R+uxNGXjkZvgdfZj96O3uitpP1++IK+aJfz0lyUzS/DyS0n45evJ8KZY79/7D3Gwfwgqq+pRqg7eieA8oXlo/aMO9tESmpKJtwfS/Gzk+n1lIluMDeIFZ9fgQ8e/iB6l6gYe36+B1MWTsGCOxa40szQdq6h9hBOvnly2GvFs4tx+ScuHzM/kv8HKI5pO1chorf6dZo2O1c1nNt2DoefOxw/zhf04bKbL0Ph7MJos/NQ9Hw2UQ8It+Kl5lKLV9cdydDeF0NvPDBygTUUCkXvDkMoV64n864qFHPlejLv6kBtjh0ydsEFAKSUx4UQywD8FYC7AMwBEEL0qpQnAPyrlFLptipSyveFEEsAfBPAHQBmAuhCtEnuTwD8l5Qy+V8rpcAjjzwCIPWVPVWPipvMFQXJHPPII49goGUAl+Py+HOhnuTu0KCSa8fZaMPJHTt2AABu+dwt4xzt3ri6brrGzC3NxdLPLI0/fvA/HoQMSdz3J/eN+npOXTIVjbsa0bi7EVkFWcgtzcWl05fiWx+cOR6rX0FlbSXm3Tov6dtxJwOFz04muNTiTeRmFWRh4UcXYsePdww7ruVgC3Ze3IlVX1ylfYWAzVyllLgy58phW+myCrKw7LPLxv1B3VbMqmRKPbmBszhctbYKM9bMQG9bL7qbu1E0swjBvKDWbwopzpOXz0/pgGKuXE/mXVUo5sr1ZN7VgdocO2T0ggsASCnbAfxt7E+yzgMAHkjiuAYAfx77kzaWLl068UEuelRdAEp3KVq6dCn6W/uB9wefS/YKF5V4289G724ydWr0bguFVandoUh1XF3X1td12fJoM+NEi2dZBVmYdXX0rklDGegdwLlt59DU0wQZlhB+MeyHxmBeEJd/8nKUzilVjmssKH52vFRPbrslNSW47JbLcPSlo8Oe727uxrZ/34Z5t83DlAVTXB0zXe6l/ZfQdrxt2POX3XLZhFdFWP0/IM1jZnKuQgjkluYitzTXlTG95FKLV9e1MaaXXGrx6ro2xvSSSy1eXVcHanPskLE9XCYjlHu4PLD5AXz3je8mdexXar+Cug11w57buGkjHtr+UFL+vfJe/CH+MNrD5XA/Vi1Yhb/GX+Nd8W5S/oN3PIh7F9yLd38wePx9vvtwSB5Kyv/NZ36DDQs3DHtuxg9m4Hzn+LfYdHjt9tdw49obhz0nvpv8lr+zf3EWMwoHG+id6ziHqv9fVdK+/M7wz3T9uXqseWhNUm5lQSXO/eW5Yc9tOrgJH/35R5PyaytrUT/ilst19XW479n7kvLvWHAHNn1207DnXKu9B4bMywOJvx7fuf47eOCGB4Y9t+GJDXj20LNJjf/gHQ9i4+rhK+Cr61Zj+/ntSfm6tbftK9uwesbwq3+49tRqr+1EG77+1Nfxn93/mZSve97j2htee8PWY8f4vA6Feu1t6IjOvfMbtHT+n8u1x+e9oXDtce0lA9ce195QUqm9Yl8xvjfte57q4eLu/S4Zxm0U1wNHXfafxnXFvIrku/ozDJOZlNSUoLK2cuIDGYZhGIZhGGYMMn5L0WTk6aefBgDcddddafHccPc37k/ZGzou0thTafsH2/Grk79CebAckVC0DY+UMuk1yXfefWfUqnMqBLL4YzWZOH8+ud82JOLpp59GW2ubsqszLmDnXKHiAUBvb6+SZxKnf0YyhPvDBiNhUuHpp5/G0Z6jEx84hgsAwSWp/6el89nR4fjx42kdj5m82Pp+z9b/We+8+w5Ce0Np/8wykxOvfb+n6upA7WdoB95SlEacLUX3338/ADrFki533y/3oWl3U/zx3khsS9HCwdtCr/3a2glvW+qMWXmiEn3tg7cjXvff1yGnJGcsLeV4AeD0O6dx9OXoN/b79+9HTk0OvvBPX0jK1RnXDZdCTbjpqt5mlmKuXE/uulJKtBxsQcPOBlzYfwEA4GwNdRo4+wI+VK+vRvX6avgCYy/UpCvXcH8Ye5/ci4tHLgKInp8AYPHixbj8k5dj6pKpRsZ1y9W5LXSm11MiVJvfUsyVz0/mXa4nsy61eHVdriezLrV4dV2dZu8ZMMdKW4p4wSWNUO7hkg4SLrgc6seqRYMLLlf8yRXIK09uy862/9iGzobO+OPVG1ejcEbqDW3HY//T+9G4qzH+eN6t8zBz3UxXx2Dc4WtfexEAcOutt2KD+gVMjMdp2tuEQ88ewu/e+h2A0XfM8gV98Gf5Ee4PY9bVs1BzQ01Sd1cbysDAAJ577jls27YNnZ2dKCgowJo1a/CRj3wEgcDEV9C1nWjDrp/uQmRg+I32sgqyUPvl2gkXnjOBTUO29nvh86rzDSjDjITriXETrifGTYjXk9KCC+99YCYtgdzh5Z3sraFTobOxc9jjgukFro/BuMOKFacAeOOHN8YcU5dMRfnCcuxo2YHQqdHnlEgoEt/KePKNkzhffx7LPrcMhZUTL/Z2dXXhn//5n/Hggw/izJkzo16fOXMm7rvvPvz5n/858vNHX+nX29aLo68cRfPe5lGvCZ/A8nuWk1hsAfhzyjAMwzDM5ICb5lrgnXfewTvvvJM2j4qb1G+BkzjEGXNk49xQ98QLLqnEGwlH0N3cHX98+vRp7D6+OylXZ1y3XAo14aarCsVcuZ7Mur6AD1nzspB3Qx4W3rkQwfyxmxb0d/bjg//6AGd+dwYDvQNjjtnU1IQbbrgB3/72txMutgDAmTNn8O1vfxs33HADmpoGrwaUUqJxdyO2/svWxIstfoHuym7sOrYr5VwBrqd0uKpQzJXrybyrCsVcuZ7Mu6pQzJXrybyrA7U5duAFFwvs2bMHe/bsSZtH1U10Z6FkFmWcMUf+EJTMgksq8XY3d0NGBoNsbm/G/sNqzeZszDHFmtCqJ0Uo5sr1ZN4FoleNVK6qxJX/7UpUXVEF4Ut8fooMRHDkhSN4+/tvY9tPt2H39t2IhCMY6BsAEL2y5SMf+Qi2bduW1Ljbtm3DTVfdhM3f34w3/ucbeON/voH9v0x87imdW4qr/uIqnJanSc0xxZrg81PmutTi1XVVoZgr15N5VxWKuXI9mXd1oDbHDtzDJY04PVy2bt0KAAgGU2vlHgqFlDwq7sh+KHvDsR4uiwd7uFz5p1cityw3qTHPvn0WJzafiD8/+7rZmHPTHNfibdjZgAPPHIg/LplbgiWfXZLRc2x7TJuu6p5RirlyPZl3E9XTQO8Aei724OKRizj19imE+0bfuSgcDsMX8MHv9yMyEEFWQRZ+/NqP8dALD6Ucw5du/BLuue6ehK8F84KYuW4mZl09C76Aj9wcU4tX1+Xzk1mXWry6LteTWZdavLou15NZl1q8uq5OD5cMmGPu4UIFlS+2jkfGTVTCI9cDkyhzZ8yRV7j0d/Un7SZDV2PXsMdFVUWkvrYkasJF9xvf+BwA4IEHgHPn0jOml1xq8eq6iQjkBFA4oxCFMwox+7rZaNjZgEPPHor3dAEAv98PSMQb2va09+BXb/9KabxN9Zvw2fWfhd/nH/Z8SU0JVvzBimFX3FCb49mzB71UPq86Y9p0bYzpJZdavLqujTG95FKLV9e1MaaXXGrx6ro6UJtjB15wscDx48cBAHPmjH+1hVseVVcVZ8yC/OENbENdE28pSiXekQ1z20JtOH78OJk5plgTOu6lS/mxv9M3ppdcavHquskwfcV0lM4pxdn3zqJpbxN6W3vR2toKACgtLQUAvHvoXTS3j+67kgxN7U3Yengrrll4DSCAoplFKF9YjpnrZo7a3kRtjs+fT3ko7TFtuqpQzJXPT+ZdVSjmyvVk3lWFYq5cT+ZdHajNsQP3cLHAK6+8gldeeSVtHlUXAOSIS1yS6eHijBnMS/0Kl1TiHXrLaQB4b997pOaYYk3o1lO6x/SSSy1eXTdZsouyMff35uKKP7kCc26ag+OnjuPYsWPx1w+dO6T1/hcKL2DVl1bhmq9fg9ov1aJ6fTV8gdH/tU/mOXZzTM51crrU4tV1VaGYK9eTeVcVirlyPZl3daA2xw58hYsFbrvttrR6VN2EJLGlyBkzmDOiaW4SV7gkG29/Z/+w9/MFfLj947eP2TTTrXHddCnWhOv1ZHhML7nU4tV1U8Xn92H2dbPx8eqPo7elF1Uzq5BdmI1fNv0SeFPjjfOB4lnFEx7mhTl2Y0zOdXK61OLVdW2M6SWXWry6ro0xveRSi1fX1YHaHDvwgosFZs2alVaPipvw6hWFns7OmCPvSpTMFS7JxjtyO1H+1HxUz65OMkL1cd10KdSEm66NMb3kUotX11Vlds1soGbwccmUEq33KywsTOo4L80x58puJoxp07UxppdcavHqujbG9JJLLV5dVwdqc+zACy4W6OnpAQDk5o5/tx23PKqu6m2hnTFzcnMgfCJ+6+ZwXxiRgUjCy+1TjXfkdqL8afnk5phavLquKhRz5Xoy76oycsw1a9ZovV+yvpfnmIKrCsVc+fxk3lWFYq5cT+ZdVSjmyvVk3tWB2hw7cA8XCzz22GN47LHH0uZRdVVxxhRCIKsga9hrfe19SbkTMfIORQXTC8jNMbV4dV1VKObK9WTeVWXkmB/5yEcwc+ZMpfeaNWsWbr/9dqVxU4H6HFNwVaGYK5+fzLuqUMyV68m8qwrFXLmezLs6UJtjB77CxQIrV65Mq0fVBaB0W+ihY2YXZw9bZOlt60Vu2dgrlMnGO3JLUcG0AnJzTC1eXdfGmF5yqcWr67o1ZiAQwH333Ydvf/vbKb/Xfffdh0Aguf/GvTzHFFwbY3rJpRavrmtjTC+51OLVdW2M6SWXWry6rg7U5thBSKnQJINRQghRX1tbW1tfX287lIzkwK8PoOGDhvjjvQN70be/D7XLauPPXf1XV4+6amU89v1yH5p2N8UfL/zoQlTWVmrFGRmI4M1/eDO+VQkArvnmNQjm2rknPZMcQ3ej8WmP0aWurg4AsHHjRu336urqwg033IBt27Yl7axduxavv/468vPztcfPRLz2eXWznhiG64lxE64nxk2I15PS3VF4SxEzqckpyRn2uPdSr/Z7djV3DVtsySnJ4cUWhmGUyc/Px3PPPZd0P5a1a9fiueeem7SLLQzDMAzDMJMFXnCxwJNPPoknn3wybR5VNyFJrCsOHTOneMSCS9v4Cy7JxJuoYW6yrs64brvU4tV1VaGYK9eTeVeVscacOnUqNm/ejL//+78fs6fLlClT8OlPfxqvv/46KioqXBk3k11VOFd2M2FMm64qFHPlejLvqkIxV64n864O1ObYgXu4WCA7OzutHhU3mTsQpTrmqCtcJlhwSSbeRA1zk3V1xnXbpRavrvvXf/00AOCuu+5K25hecqnFq+uaGDM/Px/3338/vvnNb+L555/Htm3b0NHRgcLCQqxZswYDAwPw+/1KV7ZQm+P//b83AwBuuOGGtI1p07UxppdcavHqujbG9JJLLV5d18aYXnKpxavr6kBtjh24h0sa4R4u43PwNwdxfvv5+OO9oVgPl+WDPVyu+cY1COYlv32n+0I33vvhe/HHOSU5WPff12nFuePHO9B2oi3+eMmnl6BicWq/bWbSD/E9o0yGwfXEuAnXE+MmXE+Mm3A9MW5CvJ64hwvjAVIs8+zi4auSfe19w/qvpIqUctSWIucKF4ZhGIZhGIZhGIZx4AUXC2zZsgVbtmxJm0fVVWXomP6gH8H8wStiZEQOu030eG4i+i71YaB3IP7Yn+2Pb1uiNsfU4tV1VaGYK9eTeVcVirlyPZl3VaGYK9eTeVcVirlyPZl3VaGYK9eTeVcHanPswAsuFjhw4AAOHDiQNo+Mm+jqlREXoyTT52XkmKncqWiieDsbR1zdMq0gHhOJObY8pk1XFYq5cj2Zd1WhmCvXk3lXFYq5cj2Zd1WhmCvXk3lXFYq5cj2Zd3WgNscO3MMljXAPl/E5uOkgztcP9nDZ078H/fv7UbtisIfL+v+xHoHs1Ho9731qL5r3NscfL/rYIkxfMV0pxhNvnMCJ10/EH1ddUYX5t89Xei8mvQxdq+PTHqML8T3IGY/XPq9cT4ybcD0xbsL1xLgJ8XriHi7MJMSFb7RTvTX0eIx1S2iGYRiGYRiGYRiGGQovuFjg8OHDOHz4cNo8qi4AyBErLslsKRo5Zk7p8AWX7gvdSbsjGa9hLrU5phavrqsKxVy5nsy7qlDMlefYvKsKxVz5/GTeVYVirlxP5l1VKObK9WTe1YHaHDuktjeDcYXXX38dADB/fmpbUVQ9Km4yiykqY+ZPHX4VSldTV9LuUAb6BtDbOuTqGDH8vSnMse0xbbqqUMyV68m8qwrFXHmOzbuqUMyVz0/mXVUo5sr1ZN5VhWKuXE/mXR2ozbEDL7hYYMOGDWn1qLoARm8pSmJNZuSYIxdcui90IxKOwOcffYHXePF2NQ5fqMkrz4M/6E/KnQgbLrV4dV0bY3rJpRavrmtjTK+5NsbkXCenSy1eXdfGmF5yqcWr69oY00sutXh1XR2ozbEDL7hYoLKyMq0eVTcRyVwFM3LMYG4QWYVZ6O/oBwDIsERPS8+ohZhE7lBGbSeaVjDsMbU5phavrmtjTC+51OLVdW2M6TXXxpic6+R0qcWr69oY00sutXh1XRtjesmlFq+uqwO1OXbgHi4W6OjoQEdHR9o8Mq47O4oSjjlycWSsbUXjxTte/5aJ3Imw4VKLV9dVhWKuXE/mXVUo5spzbN5VhWKufH4y76pCMVeuJ/OuKhRz5Xoy7+pAbY4deMHFAk888QSeeOKJtHlUXUgobSlKNGayfVzGi7f9TPuwxyMXXKjNMbV4dV1VKObK9WTeVYVirjzH5l1VKObK5yfzrioUc+V6Mu+qQjFXrifzrg7U5tiBtxRZYM2aNWn1qLpujpnsgstY8Q70DqCreYgjgKKZRUm5yWDDpRavrmtjTC+51OLVdW2M6TXXxpic6+R0qcWr69oY00sutXh1XRtjesmlFq+uqwO1OXYQUo68hIAxhRCivra2tra+vt52KBnJoecO4dz75+KP9/TtQd+ePqxevTr+3PV/ez2EL/W9Rx3nOlBfNzjvOaU5WPdn65L2Lx69iF2P7Yo/zp+aj7VfXZtyHIw9hrb/4dMeo0tdXR0AYOPGjZYjmZx47fPK9cS4CdcT4yZcT4ybEK8npQYYvKWIyRiSui20Yp+XvIq8YW5vay8GegeS9ttPD99OVDSraIwjGYZhGIZhGIZhGIa3FFnh8ccfBwDcfffdafGouqokGtMf9CO/In/YVqJLpy9hyvwpE7rOsUMpnlWc1Lg6MZt2qcWr6/7TP/0UAHDPPfekbUwvudTi1XVVoZirDfeHP3wGAPCxj30sbWPadFWhmCufn8y7qlDMlevJvKsKxVy5nsy7OlCbY4eMXnARQkwD8A0AdwCoBtADYC+AHwN4WCruhxJCzAPwUQA3AlgOYDqAAQBnAbwJ4EdSSmP7fkpKStLqUXUTkcxVMGONWVxdPHzB5dToBZdErozIUQ1zE13hQm2OqcWr73YDAGbMSOeY3nGpxavr2hjTS+6cOdkAUv+86oxp07UxppdcavHqujbG9JJLLV5d18aYXnKpxavr6kBtjh0ytoeLEGI1gJcAOD8RdwLIweAi0UsAPiql7E/xfa8B8NaIpzsAZAPIij2OAPhfUsq/VQh9vLG5h8s4HH7+MM6+dzb+eE/vHvTtHd7D5YYHblB+/8Zdjdj/9P7446KZRaj9cu2EXmdDJ7b9x7b442BeEFd//erktkAxGQPxPaNMhsH1xLgJ1xPjJlxPjJtwPTFuQryeJk8PFyFEMYBnEV1s2Q9gjZSyEEA+gK8B6AdwC4B/UXj7IIAwgF8B+CSAcillEYA8AOsAvIPovHxbCPEVrUSY1BhZwgq3hB6PkpqSYY/bz7Sjr6NvQq/1eOuwx8XVxbzYwjAMwzAMwzAMw4xLRi64APg6ott8ugHc7mzvkVL2Syl/BMC58mSjEGJhiu99BMBiKeXHpJS/kFK2xN47LP//7d173FxVfe/xzy8XIAkhRBKuSqBeuHsJVxEUihdoa1s5BXsOVbBWrNUee7FatSqt2lZP7fFoDz1gBYFqbTgKnEjkpiCEi0hCuCO3JNyChEsgJCEJZJ0/9p48O5OZeWbW2nv2/Ga+79drXpl5Zn/3Wms/v9mQlb3XhPBz4NfJblsC+OvUgbTy05/+lJ/+9Kd9y3nNNut2kqNdm9vusC3T95i+xc+euvepcbOrlq3a4nXzxM147Xajjqy3/qZmV62ayqpVU3n88fG3LavNUcp6629qNpbHsdaRnTdvIfPmLez585rSZp3ZWB7HqvNT9dlYHseqeqo+G8vjWFVP1WdTeDvGDYO6hsv78j+/H0JY1uL9fwH+BtgeOIWxCZhxhRAeHef99WZ2PvAV4NfMbGYI4dlOmV4tW7asrzmv2a2ucCmhzdn7zWb1Y6s3v37qnqfY49A92mbDpsBzy7dcMHfHvXfsud3x1JH11t/U7Kc+9Qf5n719zazHsaqeqs/W0eYoZd/73qM2P+/1zmdvY03hcaw6P1WfraPNUcp6629qto42Rynrrb+p2RTejnHDwK3hkl+xcm/+8uQQwoVttlsAnADcFEJ4c8l9+Bjwzfzl7BDCU52272G/WsOlgwcue4BHbxqbD7tz7Z2sv2dsDRebaLztc29LamPt02u5+Zs3b35tE4wjP3Ekk6dObrn96sdXs+jssd+X1m/xq/grG7DTnjjk/B7kgTdqn1fVk5RJ9SRlUj1JmZzX09Cs4XJg4fmdHbZrvLd/BX04Jv9zBfB0BfuXbjT9T3YZkxxTd5rKtJ2njTWxKfDknU+23b75dqIZc7R+i4iIiIiIiIxvECdcil8C+Vjbrcbe28HMti+rcTM7HHhP/vLfYr96upN77rmHe+65Z/wNS8p5zcYe+vHa3PnAnbd4veLWFW2zK+9eucW27dZv6abdTurIeutvajaWx7GqnqrPxvI4Vh3j6rOxPI5V56fqs7E8jlX1VH02lsexqp6qz6bwdowbBvGWos8AX85fTg4hvNRmuw8BZ+cvdw8hrGi1XY9tzwJ+AewF3A/MDSG80GW2m/uE9t1zzz2nNi6hmj17dk/9W7lyZVTOS/bFO19k49KNm1+v22Udmx7axLRp+RUpE2H6b0xvk+6+zU3rNrHmqjVb/Gzq0VOZuOPELbKbXtjEmqu33G7acdOYMLX1PKWHY1x3m3VmP/zhsUsXzzrr7A5bltfmKGW99beurLf+1pWN/bymtOkx662/dWW99beurLf+1pX11t+6st76W1fWW389Zstq8/TTT4+6zaGURXPN7DTg3IRdHBtCuKaMvsTKr5KZTzbZ8jxwUreTLb2aOXNmX3NesmXdqjNemxOmTGDi7Im8vPLlzT978dYXmXr01C2yGx/euEVu4k4T2062dNNuJ3VkvfU3NVtHm6OU9dbf1GwdbY5ato42NdbhzHrrb2q2jjZHKeutv6nZOtocpay3/qZmU3g7xg2lXOFS5oSLmf0p8I385zNCCM+3afPjwNfzl9NTJkfMbBqwAHgrsBo4PoRwQ+z+OrSjRXM7eODyB3j0xrFFc+9YfQcb7tuwedHcidtM5OjPHF1KW0/e9SR3X3j3Fj/b7eDd2Ofd2beMb3ppEzf+841sXDs26bLve/Zl1zfsWkr70n+jtginVMv5om8Db9Q+r6onKZPqScqkepIyOa+n+q5wAb4HXJyQL06WPF54vgfZ1SatNL7Ld3UJky2Xkk22vAD8RhWTLUXPPpt9y3SvM2axOa/ZrXRZ4t20OXu/2czYcwbPPTz2lc8rFq1g+9dtz9Sdp7Lh0Q1bTLZMmjKJ2ft3vgzN2zH21t/UbCyPY1U9VZ+N5XGsOsbVZ2N5HKvOT9VnY3kcq+qp+mwsj2NVPVWfTeHtGDeUsmhuCGFDCGFVwqO4Tkvxm4kObG6rxXt3xfa7MNnyNsYmWxbG7q9bF154IRde2PLbrivJecludUtR5L9qdtOmTTAOOuUgps6ausXPf/CNHzBv3rwtrrQB2PUNuzJx8sTkdgcp662/qdlYHseqeqo+G8vjWHWMq8/G8jhWnZ+qz8byOFbVU/XZWB7HqnqqPpvC2zFuKOsKlzLdBzwCvAo4HthqhPlESePekqtiGmm6jagx2XJdzL56dcQRR/Q15zUb+7XQ3bY5adtJ7P3re3PXvLE5u1027QK3weqdV2+x7W4H71Zau4OS9dbf1GwdbY5S1lt/U7N1tDlq2Tra1FiHM+utv6nZOtocpay3/qZm62hzlLLe+puaTeHtGDcM3LcUAZjZl4HPAGuBA0IIy5re/yTwFWBT/v69Pe6/lskWreHS2YNXPMgjNzyy+fUdz93BhgfG1nCZtN0kjvrro0ptM2wK/PybP+fFZ19su83s/WdzwMkHlNqu9N+orQkh1XJ+D/LAG7XPq+pJyqR6kjKpnqRMzuspag2XUm4pqsD/AH4FTAUuNbODAcxsGzP7CPDFfLtvtZpsMbPvmFkws63+N83MpgI/Ymyy5YR+XdkiPWr+7ZXzJUZb7nKC8ep3vrrt+xMmT+j4vvhx1llnc9ZZZ4/EX95EvAth7CEiIiLi1SDeUkQIYZWZvRu4DNgfuMXMVgPbAZPzza4EPh6x+98DjsmfTwL+7zi3qhwaQnik0wa9Ov/88wF4//vf35ecm+w4Eyrd3lLUa39n7TuLOW+dw/Jrl3PbbbcB8IY3vAGAOW+dw3Y7bldJu3VnvfU3NRvL41hVT9VnY3kcq+qp+mwsj2NVPVWfjeVxrKqn6rOxPI5V9VR9NoW3Y9wwkBMuACGEX5jZAcCngN8CXgmsIVsk9zzg2yGETRG7Ll7Vs13+6KTzSqkRdt017quFY3Nes/1q08zY+9f3ZueDduap859iwzMbmPnqmez0up3Y47A9xt9BZLt1Z731NzVbR5ujlPXW39RsHW2OUtZbf1OzdbQ5Sllv/U3N1tHmKGW99Tc1W0ebo5T11t/UbApvx7hhINdwGVZaw6WzB698kEeuL6zh8uwdbHhobA2XydMm85a/ektd3RPnnN8zKgNG9SRlUj1JmVRPUibVk5TJeT1FLXAxsFe4iGgyUMq0fPksABYtgnwOT0QGVPHfJfR5FREREa804VKDK664AoB3vvOdfcl5yY63Rku3a7h4GOsgZL31NzX7939/Yv5nbwtxehyr6qn6bCyPY60je8ghY897nXv3NtYUHseq81P12Vgex6p6qj4by+NYVU/VZ1N4O8YNmnCpwRNPPNHXnNds7LcUeRxrHVlv/U3N1tHmKGW99Tc1W0ebo5ato02NdTiz3vqbmq2jzVHKeutvaraONkcp662/qdkU3o5xg9Zw6SOt4dLZQ1c9xMMLH978+vanb2fjso2b13DZZvo2HPmXR9bVPXGueIGUTnuSyvk9yANv1D6vqicpk+pJyqR6kjI5r6eoNVwmjL+JSJ80l3DT/2R3e0uRiIiIiIiISN004VKD22+/ndtvv71vOa/Z2FuKPI61jqy3/qZmY3kcq+qp+mwsj2PVMa4+G8vjWHV+qj4by+NYVU/VZ2N5HKvqqfpsCm/HuEFruNTgpptuAuD1r399X3Jes7E8jrWOrLf+pmZjeRyr6qn6bCyPY9Uxrj4by+NYdX6qPhvL41hVT9VnY3kcq+qp+mwKb8e4QWu49FFjDZerrroKgJkzZ/aUf/bZZ6NyXrIP/eQhHr6usIbLytvZ+PDYGi7b7bgdR/zZEQPTX+9Zb/1NzcauCeFxrKqn6rOx9yB7HGsd2ZQ1XLyNFVRPVWe99Tc1q3qqNuutv6lZ1VO1WW/9Tc2mrOEyAMc4an0LXeFSg5hfdkrOS3arNVoi5wI9jHUQst76m5qto81Rynrrb2q2jjZHLVtHmxrrcGa99Tc1W0ebo5T11t/UbB1tjlLWW39Tsym8HeMGreFSg5UrV7Jy5cq+5bxmt9LlnKLHsdaR9dbf1Gwsj2NVPVWfjeVxrDrG1WdjeRyrzk/VZ2N5HKvqqfpsLI9jVT1Vn03h7Rg3aMKlBhdddBEXXXRR33Jes7HfUuRxrHVkvfU3NRvL41hVT9VnY3kcq45x9dlYHseq81P12Vgex6p6qj4by+NYVU/VZ1N4O8YNuqWoBkcffXRfc16zsesLeRxrHVlv/U3NzpixBoCpU6f1rc1Rynrrb2q2jjZHKTt79kYAJk2a3Lc268zW0eYoZb31NzVbR5ujlPXW39RsHW2OUtZbf1OzKbwd4wYtmttHjUVzFy1aVHdXBtLSq5ey/GfLN7++7YnbeOmxlzYvmjtlpykc/qeH19U9cS5lkS6RZqonKZPqScqkepIyqZ6kTM7rKWrRXN1SJCIiIiIiIiJSMk241OCcc87hnHPO6VvOazZ2DRePY60j662/qdlYHseqeqo+G8vjWFVP1WdjeRyr6qn6bCyPY1U9VZ+N5XGsqqfqsym8HeMGreFSg7322quvOS/Zcb8WusuLuDyMdRCy3vqbmq2jzVHKeutvaraONkcp662/qdk62hylrLf+pmbraHOUst76m5qto81Rynrrb2o2hbdj3KA1XPpIa7h0tuyaZSy7Ztnm17c9fhsvrRhbw2Xq7Kkc9tHDauqdePfRj14GwPHHH8+7311zZ8Q95/cgD7z588eej8LnVfUkZVI9SZlUT1Im5/UUtYaLrnCRwRV5S5FIK2eeeXz+J2ieWWSw/fZvjz3X51VERES80houNViwYAELFizoW85rNpbHsdaR9dbf1Gwsj2NVPVWfjeVxrDrG1WdjeRyrzk/VZ2N5HKvqqfpsLI9jVT1Vn03h7Rg36AqXGqxataqvOTfZ5gtYItdwcTHWAch6629qto42Rynrrb+p2TraHLVsHW1qrMOZ9dbf1GwdbY5S1lt/U7N1tDlKWW/9Tc2m8HaMG7SGSx9pDZfOlv1sGcuuXrb59W2P3sZLvxpbw2X7XbfnkD8+pKbeiXfFO9J02pNUzu9BHnij9nlVPUmZVE9SJtWTlMl5PUWtb6FbimRwjcD/ZIuIiIiIiMhw0oRLDRYvXszixYv7lvOa3UqXc4oex1pH1lt/U7OxPI5V9VR9NpbHseoYV5+N5XGsOj9Vn43lcayqp+qzsTyOVfVUfTaFt2PcoDVcanDLLbcAMHfu3L7kvGSbv4Wo+Xa3br+lyMNYByHrrb+p2Vgex6p6qj4by+NYdYyrz8byOFadn6rPxvI4VtVT9dlYHseqeqo+m8LbMW7QGi591FjD5ZprrgFg+vTpPeVXr14dlfOSXX7tcpb+dOnm10uWL+Hlp17evIbL9N2nc/DpBw9Mf71nvfU3NRu7JoTHsaqeqs/G3oPscax1ZFPWcPE2VlA9VZ311t/UrOqp2qy3/qZmVU/VZr31NzWbsobLABzjqDVcdIVLDWJ+2Sk5r9mtdFniHsdaR9Zbf1OzdbQ5Sllv/U3N1tHmqGXraFNjHc6st/6mZutoc5Sy3vqbmq2jzVHKeutvajaFt2PcoDVcarBixQpWrFjRt5ybbNScYWKbI5z11t/UbCyPY1U9VZ+N5XGsOsbVZ2N5HKvOT9VnY3kcq+qp+mwsj2NVPVWfTeHtGDdowqUG8+fPZ/78+X3Lec02f0tRt2u4eBxrHVlv/U3N7rnnSvbccyW93oLpcayqp+qzsTyOtY5s7Oc1pc06s7E8jlXnp+qzsTyOVfVUfTaWx7GqnqrPpvB2jBt0S1ENjj322L7mvGa3+lroLq+A8TjWOrLe+pua/exnLwJ6v2fU41hVT9Vn62hzlLJXXbUKgNe+dnbf2qwzW0ebo5T11t/UbB1tjlLWW39Ts3W0OUpZb/1NzabwdowbtGhuHzUWzV20aFHdXRlIy69bztKfFBbNXbqEl58ZWzR3h1ftwNwP9nc1bBkeKYt0iTRTPUmZVE9SJtWTlEn1JGVyXk9RC2DoliIZGFvdMhR5S5GIiIiIiIhI3TThUoOzzz578+xeP3Jes7E8jrWOrLf+pmZjeRyr6qn6bCyPY1U9VZ+N5XGsqqfqs7E8jlX1VH02lsexqp6qz6bwdowbtIZLDfbdd9++5rxmt9LlBS4ex1pH1lt/U7PXXjuW7eUqRo9jVT1Vn62jzVHK3nffMQCcfXZvn9eUNuvM1tHmKGW99Tc1W0ebo5T11t/UbB1tjlLWW39Tsym8HeMGreHSR1rDpbOHFz7MQ1c9tPn1kgeX8PKqsTVcZsyZwZs+8Ka6uifOFe9I02lPUjm/B3ngjdrnVfUkZVI9SZlUT1Im5/WkNVzEueYS1houIiIiIiIi4pQmXGpwySWXcMkll/Qt5zUbtvpe6OrbHKWst/6mZmN5HKvqqfpsLI9j1TGuPhvL41h1fqo+G8vjWFVP1WdjeRyr6qn6bApvx7hBa7jUYP369X3Nec1upcsLXDyOtY6st/6mZutoc5Sy3vqbmq2jzVHL1tGmxjqcWW/9Tc3W0eYoZb31NzVbR5ujlPXW39RsCm/HuEFruPSR1nDp7JEbHuHBKx7c/PrW+29l0/ObNq/hsuPeO/LGU99YU+/Eu1FbE0Kq5fwe5IE3ap9X1ZOUSfUkZVI9SZmc19PwreFiZruY2dfM7Jdmts7MnjGz68zsg1bygh5mNtnMbjOzkD++U+b+JZ3WcBEREREREREvBvaWIjM7GLgc2Cn/0QvAdOCo/HGSmf12CGFDSU1+Gnh9Sfvq6OabbwbgsMMO60vOazZyCReXY60j662/qdlYHseqeqo+G8vjWHWMq8/G8jhWnZ+qz8byOFbVU/XZWB7HqnqqPpvC2zFuGMgrXMxsBvAjssmWe4BDQgjTgWnAR4ENwLuAr5fU3v7AZ4GlwK/K2GcnS5YsYcmSJX3Lec1upcsLXDyOtY6st/6mZmN5HKvqqfpsLI9j1TGuPhvL41h1fqo+G8vjWFVP1WdjeRyr6qn6bApvx7hhINdwMbMvkU2ArAUOCCEsa3r/U8A/Ai/n7/8yoa0JwPXAEcDxwFnAHOC8EMJpsftt09aiuXPnzl24cCEAU6ZM6Sm/bt26qJyX7CM3PsKDlxfWcPnlrWx6YWwNl5mvnskb3veGgemv96y3/qZmY9eE8DhW1VP12dh7kD2OtY5syhou3sYKqqeqs976m5pVPVWb9dbf1Kzqqdqst/6mZlPWcBmAYxy1vsWg3lL0vvzP7zdPtuT+BfgbYHvgFODzCW39d7LJlu+GEC7vxzohMb/slJzXbLNufzcex1pH1lt/U7N1tDlKWW/9Tc3W0eaoZetoU2Mdzqy3/qZm62hzlLLe+puaraPNUcp6629qNoW3Y9wwcBMuZrYPsGf+8rJW24QQ1pjZdcAJwDuInHAxs72BLwHPAH8es48YjzzyCACvetWr+pLzmo1dw8XjWOvIeutvavagg5YDMGfOnL61OUpZb/1NzcbyONY6sscdF/+vUd7GmsLjWHV+qj4by+NYVU/VZ2N5HKvqqfpsCm/HuGEQ13A5sPD8zg7bNd7bP6Gts8nWhflECGFlwn568uMf/5gf//jHfct5zW6ly4uPPI61jqy3/qZmP/axy/nYxy5n/vz+tTlKWW/9Tc3G8jjWOrInn3wBJ598Qc+f15Q268zG8jhWnZ+qz8byOFbVU/XZWB7HqnqqPpvC2zFuGLg1XMzsT4Fv5C9nhBCeb7PdxxlbNHd6COGFHtv5IPBvwDUhhGMLP19GxBouZraoi8323XPPPad+4hOfAGDbbbftpcusX78+Kuclu+GhDay/a/3m12vDWsLawLRp0wCYtPMkphw+/r92ehjrIGS99Tc1u3JlNqc6e/bsvrU5Sllv/U3Nqp6qzXrrb2pW9VRt1lt/U7Oqp2qz3vqbmlU9VZv11t/UbGw9pbRb1lhPP/30oVnDZXrh+doO2xXfm072tdFdMbPdgH8C1gMf7ql3JYj5ZafkvGa3uqWoyxL3ONY6st76m5qto81Rynrrb2q2jjZHKeutv6nZOtocpay3/qZm62hzlLLe+puaraPNUcp6629qNoW3Y9xQyoSLmZ0GnJuwi2NDCNeU0Zcu/W9gR+BzIYT7ythhCOHg8bYxs0WzZs2a+4EPfACAyZMn99TGxo0bo3Jeso/e9CgPbPfA5te33n0rmyaMfUvRTq/biYP+20ED01/vWW/9Tc3Grorucayqp+qzqqdqs976m5pVPVWb9dbf1Kzqqdqst/6mZlVP1Wa99Tc1m/ItRd6OccMgruGyuvB8aoftiu+tbrtVEzM7CXgPcDfwld66Vo5zzz2Xc8/tfX4qNucm23QFS2i+xKXLK1xcjHUAst76m5qdP/9g5s8/mDPO6F+bo5T11t/UbCyPY60je+KJt3Piibf3/HlNabPObCyPY9X5qfpsLI9jVT1Vn43lcayqp+qzKbwd44aybin6HnBxQr54O9Djhed7AC3XcMnfA1jd7fotZrYN8M385V8A25pZ83VCjb/WTzKz7fPna0MIm7ppoxsHHnjg+BuVmPOaraPNUcp6629q9kc/Ojj/k57+EudxrKqn6rN1tDlK2djPa0qbdWbraHOUst76m5qto81Rynrrb2q2jjZHKeutv6nZFN6OccMgLpq7D3Bv/vLkEMKFbbZbQPa10DeFEN7c5b53BJ6N6NabQghLInLN7S+aO3fu3EWLullfd/Q8+vNHeeDHY7cULb5rMeHFsPmWoln7zuLA36/nAy7+WeEKqQE77YlDKZfEyvhG7fOqepIyqZ6kTKonKZPzeopaNHcQbym6D3gkf358qw3MbBpwdP7yqn50SkRERERERESkWwM34RKyS24uyF/+vpnt1WKzjwLbA5uA7/aw71UhBOv0AJbnm59X+PmS+BFt7Yc//CE//OEP+5bzkjXbahGXpg3Kb3OUs976m5qN5XGsqqfqs7E8jlXHuPpsLI9j1fmp+mwsj2NVPVWfjeVxrKqn6rMpvB3jhoGbcMn9D+BXZAvjXmpmB0O2BouZfQT4Yr7dt0II9zaHzew7ZhbMbAQuRBYRERERERGRQTNwa7g0mNmhwGXAK/IfrQa2AxrfyXQl8O4QwvoW2e8ApwLkV6300u4yYA7ZFS6nRXS90761hksHj938GPcvuH/z68V3LCZsGFvDZfb+szng5APq6p44N2prQki1nN+DPPBG7fOqepIyqZ6kTKonKZPzehqaNVwACCH8AjgA+DrwANlEyxrgeuB04PhWky3iWFQJi4iIiIiIiAyesr4WuhIhhCeAP88fveROA06LbHOvmFwvbrjhBgCOPPLIvuS8ZmPXcPE41jqy3vqbmo3lcayqp+qzsTyOVce4+mwsj2PV+an6bCyPY1U9VZ+N5XGsqqfqsym8HeOGgb3CZZjdeeed3HnnnX3Lec3G8jjWOrLe+puajeVxrKqn6rOxPI5Vx7j6bCyPY9X5qfpsLI9jVT1Vn43lcayqp+qzKbwd44aBXcNlGDXWcLnpppsAmDx58jiJLW3cuDEq5yX72C8e4/5LC2u43L6YsHFsDZedD9yZ/X9v/4Hpr/est/6mZmPXhPA4VtVT9dnYe5A9jrWObMoaLt7GCqqnqrPe+puaVT1Vm/XW39Ss6qnarLf+pmZT1nAZgGMctQDGQN9SNKxiftkpOS/Zcb8WuoI2Rznrrb+p2aOOugeA/fbbr29tjlLWW39Ts3W0OUrZD30oukl3Y03hcaw6P1WfraPNUcp6629qto42Rynrrb+p2RTejnGDJlxqsHTpUgD23nvvvuS8ZmPXcPE41jqy3vqbmn3f+64D4PTTe5tw8ThW1VP12Vgex1pH9tOf9tXf1Gwsj2PV+an6bCyPY1U9VZ+N5XGsqqfqsym8HeMGreFSgyuvvJIrr7yybzmv2RB5iYvHsdaR9dbf1Gwsj2NVPVWfjeVxrKqn6rOxPI5V9VR9NpbHsaqeqs/G8jhW1VP12RTejnGDrnCpwQknnNDXnNdss61uOaqgzVHKeutvaraONkcp662/qdk62hylrLf+pmbraHOUst76m5qto81Rynrrb2q2jjZHKeutv6nZFN6OcYMWze2jxqK5ixYtqrsrA+nxRY9z3/z7Nr9edOsi2MTmRXN3ef0u7Hdib7eDiDSkLNIl0kz1JGVSPUmZVE9SJtWTlMl5PWnRXC/WrVsHwJQpU/qS85rdSpcl7nGsdWS99Tc1e8EFRwNwyy2Qn+srb3OUst76m5qN5XGsdWT/8A9fAmDSpEk9fV5T2qwzG8vjWHV+qj4by+NYVU/VZ2N5HKvqqfpsCm/HuEFruNTgggsu4IILLuhbzms29luKPI61jqy3/qZmFy7cj4UL9+Nb3+pfm6OU9dbf1Gwsj2OtI3vuuZM499xJPX9eU9qsMxvL41h1fqo+G8vjWFVP1WdjeRyr6qn6bApvx7hBV7jU4I1vfGNfc16y430tdLdruHgY6yBkvfU3NVtHm6OU9dbf1GwdbY5ato42NdbhzHrrb2q2jjZHKeutv6nZOtocpay3/qZmU3g7xg1aw6WPtIZLZysWr+CX/++Xm183jlNjDZdd37gr+/7uvrX0TfwrztfptCepnN+DPPBG7fOqepIyqZ6kTKonKZPzeopaw0W3FIkfUSUuIiIiIiIi0n+acKnBvHnzmDdvXt9yXrOxPI61jqy3/qZmY3kcq+qp+mwsj2PVMa4+G8vjWHV+qj4by+NYVU/VZ2N5HKvqqfpsCm/HuEFruNRg22237WvOTXacK1i6XcPFxVgHIOutv6nZOtocpay3/qZm62hz1LJ1tKmxDmfWW39Ts3W0OUpZb/1NzdbR5ihlvfU3NZvC2zFu0BoufaQ1XDpbcesKfnlJ+zVcdpu7G/v89j619E38G7U1IaRazu9BHnij9nlVPUmZVE9SJtWTlMl5PWkNFxlyWsNFREREREREnNCESw2uvfZarr322r7lvGZjeRxrHVlv/U3NxvI4VtVT9dlYHseqY1x9NpbHser8VH02lsexqp6qz8byOFbVU/XZFN6OcYNuKeojM3t6ypQpr5g9ezYAs2bN6in/1FNPReW8ZDeu28iLq17c/Hrt2rUATJ06FYBtpm7DtjPGv4/Ow1gHIeutv6nZxYvHns+d2582Rynrrb91Zb31t65s7Oc1pU2PWW/9rSvrrb91Zb31t66st/7WlfXW37qy3vrrMVtWm4sXL/5eCOGUXvehCZc+MrOlwA7Aw8AuwK+ATT3sYkJkzmt23/zPe/vY5ihlvfU3Nat6qjbrrb+pWdVTtVlv/U3Nqp6qzXrrb2pW9VRt1lt/U7Oqp2qz3vqbmo2tp5R2yxrr3TETLoQQ9OjzA9gdCMDu/cg5zi4CFjnqr6ust/6qngY7662/qqfBznrrr+ppsLPe+qt6Guyst/6qngY7662/ddWTx2PceGgNFxERERERERGRkmnCRURERERERESkZJpwqcdq4G/zP/uR85qN5XGsdWS99Tc1G8vjWFVP1WdjeRyr6qn6bCyPY1U9VZ+N5XGsqqfqs7E8jlX1VH02hbdjDGjRXBlgZrYIIIRwcN19Ef9UT1Im1ZOUSfUkZVI9SZlUT1KmUawnXeEiIiIiIiIiIlIyTbiIiIiIiIiIiJRMEy4iIiIiIiIiIiXThIuIiIiIiIiISMm0aK6IiIiIiIiISMl0hYuIiIiIiIiISMk04SIiIiIiIiIiUjJNuIiIiIiIiIiIlEwTLiIiIiIiIiIiJdOEi4iIiIiIiIhIyTThIiIiIiIiIiJSMk24iIiIiIiIiIiUTBMu0pGZTTezM8zsDjN7wcyeM7NfmNlfmNk2ifvexcy+Zma/NLN1ZvaMmV1nZh80M+si/2ozO8vMlprZi2b2pJldbmYndtn+XDP7dzN71MzWm9kKM7vIzI5NGZe0N4z1ZGbXmFkY5/FoytiktUGsJzPb1cxONrN/NLMrzezpQh0c1UP7Oj/12TDWk85P9RrQmnpN3v58M1uen1/WmNl9ZvZtMzu4y/Z1juqzYawnnaPqM6D19G4z+yczu9rMHjSz581sg5k9bmY/NrMPmNmkLtofrPNTCEEPPVo+gDnAUiDkjzXAi4XXi4GZkfs+GHiqsK/VwMbC68uAbTrkfyPvT2P754CXC6+/DViH/B81tbcK2FR4fUbdx3/YHsNaT8A1+TYvAE+0eSyu+/gP22NQ6wk4o7Bd8+OoLtvX+Un1VEo96fykmmrKvaVFHT0PrC+8fhn4u3Ha1zlK9VRKPekcpXpqyt7Zop7WNf1sEbBrh/YH7vxU+y9cj8F8ABOB2/PCfAx4e/7zCcDJZH8hDcCCiH3PAFbk+buBg/OfbwP8SeFEfWab/N75iTkA1wGvy3++PfCFwofqk23ybwZeyrf5AfDK/Oc7Af9a+ECeXPfvYVgeQ15P19R1Ah/Vx4DX0xeAh4GLgc+T/Ye/l78g6/ykeiqznnR+Uk0Vs8fk55eLgN8Ddir093Dg+kJ9fahN+zpHqZ7KrCedo1RPxfwZwIeA/YEphZ/vTvbfwMY/hl7eJj+Q56faf+l6DOaDsf+p2wQc3uL99xaK9rge9/0lxmZT92rx/qfy918C9mnx/r/n7z8OzGjxfuMD9TwtZmeBhfn7S4DJLd5fkL+/DJhY9+9iGB5DXk/6nwXVU/H9iU2v9yr0pZu/IOv8pHoqs550flJNFd97JfDaDvvelrF/YX6wzTY6R6meyqwnnaNUT73s/x8KfXtli/cH8vykNVyknVPzP68OIfy8xfvzgIeatu3W+/I/vx9CWNbi/X8hu+JgInBK8Q0zmwY01tT41xDCcy3y/5j/OR14T1P+18gugQT4WghhY4f8HOBt7YchPRjKepLaDGQ9AYQQXu6xvc10fqrNUNaT1GogayqE8GgI4f52Ow4hrAfOz1/+mpnNLL6vc1RthrKepDYDWU9durHwfI/iG4N8ftKEi2zFzKYCR+YvL2u1TcimCS/PX76jh33vA+w5zr7XkN3a0WrfRwFTxskvB+5pky++bpknuwRydZu89GjI60n6bMDrKZXOT3025PUkNRiCmlpbeD6x6T2do/psyOtJ+mwI6unoxq6AB5veG9jzkyZcpJX9GKuNOzts13hvVzPbqct9H9gi32nf+3fI39VF/oA2+SdDCCtbBfN/Uby3TV56N8z1VHSKmS3LV0NfZWa3mNmXzWz3Dhnp3SDXUyqdn/pvmOupSOen/vFeU8fkf64Anm7Tvs5R/TPM9VSkc1R/uKsnM9vezA40s68Cf5n/+PwQwlNt2h+485MmXKSV4sntsQ7bFd/braJ972Bm27fIPxtCWEt7jXzziXr3pvd7zUvvhrmeil6Tv78G2IFslfbPAPeYmW5FKs8g11MqnZ/6b5jrqUjnp/5xW1Nmdjhjt87+W/4v3a3a1zmqf4a5nop0juoPF/VkZkc0vhac7IqUO4C/Ils092zgwx3aH7jzkyZcpJXpheed/hJafG96263K3ff0Fu93yjf3KzUvvRvmeoJswbcPkN1Lum0I4RXAzPxnT5L9j8N/mtmbx2lDujPI9ZRK56f+G+Z6Ap2f6uCypsxsFvB9sr8b3A98tUP7Okf1zzDXE+gc1W9e6mkD8Kv8UVyL5VvAP+TrA7Vrf+DOT5pwERFJEEI4I4TwnRDC441/vQkhPBdC+A7ZfbKrgMnAV+rrpYiMIp2fpBv5vzLPJ/sWrOeBk0IIL9TaKXGrl3rSOUpaCSEsDiHsGkLYFdgOeC1wJtmVLXd6u+pJEy7SyurC86kdtiu+t7rtVuXue3WL9zvlm/uVmpfeDXM9dRRCeBD43/nLo/J/8ZE0g1xPqXR+6r9hrqeOdH6qjKuayr+t71LgiHzbE0IIt43Tvs5R/TPM9dSRzlGVcFVPACGETSGEB0IIHyW7rWgacIGZNd/qNLDnJ024SCuPF57v0XarLd9bUdG+VzfNijfyM/OVtsfLP97088eb3u81L70b5nrqRuMr7IzsX3skzSDXUyqdn/pvmOupGzo/lc9NTRX+cvxWsq9q/Y0Qwg1dtK9zVP8Mcz11Q+eocrmppzbOBNaTTbr81zbtD9z5SRMu0so9wKb8+YEdtmu890QIodPK40XFVau72XfzN8cU851Wlx4vv7OZzW4VNLOJwL5t8tK7Ya4n6b9BrqdUOj/13zDXk9TDRU0V/nL8Nsb+crywy/Z1juqfYa4n6T8X9dROCOFF4Jn85WvatD9w5ydNuMhW8m9racwoH99qGzMz4F35y6t62P19wCPj7HsaY9+z3rzv64EXx8nPIfvas1b54uuWeeAtjC2k1MvYpIUhr6duHJH/GYBlEXkpGPB6SqXzU58NeT11Q+enknmoqXybBWz5l+Prumhf56g+G/J66obOUSXyUE+dmNl0oDGZ8nzT24N7fgoh6KHHVg/gQ2Qnt03A4S3ePzl/PwDv6HHfX85za4C9Wrz/yfz9l4F9W7z/3fz9x4EZLd4/M39/NfCKFu9fn7+/BJjc4v0F+fvLgYl1/y6G4TGs9QTYOH2bQzYTH4CFdf8ehuUxyPXUYvu9Cn05qovtdX5SPZVSTzo/qaba/DdvGvCzwn/Xju6xfZ2jVE+l1JPOUaqnpvcmdbH/vyv07YQW7w/k+an2X7oeg/kAJpFdmhWAR4Hj8p9PAE4Cnsvfu6xF9ozCh2GvFu/vCDyRv38XcHD+822Aj5DdmxeA/9Omb6/OP8gBuBZ4bf7zacDn8xNIAP66Tf4t+Qc9AD8A9sh//grG/nIdgN+v+/cwLI9hrSfg08B5wAnAjoWfTwf+gGwSJ5B9vd1b6v49DMtjwOtpAjCr8HhTob3fbHpv2xZ5nZ9UT6XUk85PqqkW2anA1Yz95XjcSeAW+9A5SvVUSj3pHKV6asqeSnZb2snAboWfTwBeD5xdaHshLSbsBvX8VPsvXY/BfQB7k80ANopzDbCu8HoJra8g6fhhzLc5FHi6sN3z+Qm18foKWvxlpJD/LbLvUW9svwp4qfD6vFYfxEL+9Kbtn2XsL9YB+GLdx3/YHsNYT019a7T7dOFk39jXiXUf/2F7DGo9seUVCOM9TmuzD52fVE/J9aTzk2qqRe79hW3Wkf3FqNPjVW3a1zlK9ZRcTzpHqZ6acqc11cMaYCVjkzSNx09a9a2wn4E7P2kNF2krhLAUOAj4ImMLC20EFpN9LddhIYRn2sTH2/cvyBYp/TrwADCZ7IN1PdkH5fgQwvoO+R+RzXb+G9kJYwrZSfkq4KQQwqkh/9S1yZ8NHA78B9kM+lSyD/UlwNtDCJ+LGZe0N6T1dCHZ5Y1XAkvJTuQ7kJ3cF5JdIbNPCOGHMeOS9ga5nlLp/NR/Q1pPOj/VaEBrqvj//dsBu4zzmNimfZ2j+mxI60nnqJoMaD1dmr//vbxPa4GZZJM19wDnk60PdFynvg3i+ck6/J1UREREREREREQi6AoXEREREREREZGSacJFRERERERERKRkmnARERERERERESmZJlxEREREREREREqmCRcRERERERERkZJpwkVEREREREREpGSacBERERERERERKZkmXERERERERERESqYJFxERERERERGRkmnCRURERERERESkZJpwEREREREREREpmSZcRERERERERERKpgkXERERkSFnZqeZWcgfp9XdHxERkVGgCRcRERERERERkZJpwkVEREREREREpGSacBERERERERERKZkmXERERERERERESqYJFxERERERERGRkmnCRURERCplZhPN7H1mNt/MHjGzF81sXf58sZmdbWYnmtnUDvs4wMz+2cyWmNkzZrbezB4zs/9nZqeYWVf/T2Nmk8zs/WZ2oZktM7M1+b4eMbNLzezPzGznDnkzs5PN7P+a2cP5WFaZ2e15/147TvvHFL4t6Iz8Z3ua2dfM7N68P6vM7AYz+xMzm9TluH4rP75P5H1aZmbfNbM3d5Mv7Od3zGyemT1kZmvzfT1mZreZ2QX5sZ7Zyz5FRERGlYUQ6u6DiIiIDCkzmwUsAA7tYvP3hBAubspPAr4GfIzO/1B0M/A7IYQnOvTlEOD7wKvH6cc1IYRjW+R3AS4COk1ibAQ+H0L4xzZ9OAa4On/5t8BNwH8AO7bZ35XAu0MI69vsbyLwbeDUNvlNwKeBJ4Fz8599IITwnab9TAEuBH6zzX6K/jyE8PUuthMRERlpXf2riYiIiEikbzE22fIA2eTCfcA6YAdgH+CtwOHNQTMzYB7wnvxHK/P8rcAaYA7wXuAQ4DDgJ2Z2aAhhbYt9HQVcAUzJf/Rgvu97gPXA7nkffhOwFvnpwLXA6/IfrQDOAe4CpgLvAE4CJgP/YGYTQgh/P86xeSPwV3l7ZwE35n05BPhjYFq+388Cn2+zj28wNtmyATgPWEg20XIY8EHgK8DF4/Tl7xmbbFkB/Hs+theA7YHXkE00vXWc/YiIiEhOV7iIiIhIJfJbc1aQXZlyC3BMCGFNm23nAIQQlhd+9nHg6/nLi4FTQwjPt8h+GfhM/vIrIYS/bnp/BtnEym75j74KfDaE8FKLfU0Fjg4hXN70838lmwSBbELjt0IIzzVt807gEmA74CXgkBDCbU3bHMPYFS4ADwNvDyHc37TdYcD1ZP849iywW/NVLmZ2NPAzsgmbVfl+FjVtsw9wDbBr4cdbXOGSXyXzNDADWA4cFkJ4khbMbDawUwjh3lbvi4iIyBit4SIiIiJV+TXG/l/je+0mWyCbaGmabNmOsUmUe4H3tppsybOfBa7LX34kzxZ9lLHJlv8IIXyq1WRLvq+1LSZbZgMfyF8+D5zUPNmSZ68APpe/nER29cp4/qB5siXf183Af+YvZ5JdrdLsLxm7GufPmidb8v38Evijcfowm2yyBeCSdpMt+f5WarJFRESkO5pwERERkaoUb+05oMfsu4DG4rXfCCFsGGf7f8//3AE4oum9U/I/NwF/02M/ILvVZtv8+Xmd1okBzgRW589/J796pJ1bQwjXdXj/p4Xn+xffMLNtgRPyl08yNv6thBAuJbvCp5117doRERGReFrDRURERKpyF/A42fooH8zXZPkWcHMIYdM42aMLz7c3s98dZ/s9Cs/3I7uNBjN7BWOTCHeGEB7qrutbKF5dckWnDUMIa81sIdlkyPZ523e02fymcdp9rPC8+ZuB3gBskz+/JoTw8jj7+gnZcdlKCOE5M7uZbJxvN7OLgG8C14UQNo6zXxEREWlDEy4iIiJSiRDCy2b2YeAHZJMDf5g/VpnZjWRroVze6lYYYK/C86/22HRxcqI4EdPpKo9Odis8v6+L7e9j7OqT3Wg/4fLUOPsprtnSfJvU7oXnD3TRp/G2+SjZpMwOwO/mjzVm9nOy39NVwPVdTJSJiIhITrcUiYiISGVCCD8iu3LiYrKvTIbsK5BPAL4M3GJmd5jZ8U3RGcTbpvB8h8LzFyL3N73wvO06NG3amd52q+wWp1jbF55v9a1MLXTsdwjhFrJvTTqfsVuMpgG/TvYNSdcCD5rZH/TcUxERkRGlCRcRERGpVAjhthDCe4CdyCZavkj27TqNCZgDgQVmdkohVpy02CuEYD08zihkiwvtFicperG68HxaF9sX21nddqs0xeMztYvtx+13CGFpCOFU4BVkEy1/A1zG2ATMXsAFZvaZ1nsQERGRIk24iIiISF+EEFaHEC4LIXw+hHAM2e02/zN/24B/LiwyW1y/pNcFd4seA0L+vOUaJl1YUXj+2i62L27zeGSb4ynu9zVdbN/NNgCEEF4MIVwdQvhyCOEEssWLP8XYcfy8me3UfVdFRERGkyZcREREpBYhhKdDCH8B3JL/aGfGJit+Vtj0PQltPAPcnb880Mz2jtjNzYXn7+i0oZlNAY7KX75A/Lox47kNaHxz09vG+TYkyK5YiRJCeCGE8FWytXgg+8amQ2P3JyIiMio04SIiIiJ1W1Z43ljQfwFji8q+38xSrnJpfGXyBLJ1Y3p1KWML2J5qZjt32PYjjK0bc3EX3x4UJYSwnuwYAewC/Ld225rZCZTzdc/LCs/1xQsiIiLj0ISLiIiIVMLM3mVmHzeztgvgmtlrGLtq5AXgQYAQwhrgb/Ofb0O2xssh47R3qJm1+kajf2XsFpz/amZfMbOWEwZmNsXM3ln8WQhhJXBO/nJHYJ6Z7dAiexzwpfzlS8A/depvCb5WeP6/zOyNLfr0WuDbnXZiZm8ys8+Z2S4dtpkFnJS/DMDtvXdXRERktOhfJ0RERKQquwFfB75qZlcDPwceIvtWnVlkt6WczNiCrl8PITQWaCWE8C9mdijwfmBP4GYzu4zs64sfJVv3ZRZwEHAc8GqyCZtPFjsRQnjOzN4LXEn29cqfBP6Lmf0n2S0/G4Bd8/68G1gCXNE0lk/lbbwOeBtwt5mdQ3a70lTg7cB7GfvHrC+EEG7r9YD1IoSw0MzOBP6E7KuwbzKz88i+xnkT2bdDfZDs+F5M9lXPrcwA/g74gpldD9xA9tXWq8kW0D2I7AqaV+TbfzeE8HAFQxIRERkqmnARERGRqjS+9ngb4F35o5UAfAP4Qov3TgPuJ/vGnG3JvuXohA5tPtqygWxy4hjgP4E5ZJMz7b5tZ6uvaw4hrDazt5JNXBwB7AF8rkX2JeDzIYR/6NDHMv13sm9Fej/Z8Tk9fzRsIptgWkn7CZfGeCcCb80f7cxr2r+IiIi0oQkXERERqcoFZFeLHEd2VcgBZFe9bEd2+9BSsqsxzgkh3NpqByGEAHzJzL4N/FG+r33IrrbYRLbOy73AjcCCEMJN7ToTQvi5mb0OOBX4HeBNZFfIBOAJsttkLgf+o03+V2Z2JNmtNb9PdkXMbLL1XR4hu4LmzBDC/eMfmnLka8ScamYXAn9MdlXLDsCvgOuBb4YQbjSz0zrs41oz24dsYd1jgdcDryS7cmct8DBwE3BeCOHaCocjIiIyVCz7/xgRERERERERESmLFs0VERERERERESmZJlxEREREREREREqmCRcRERERERERkZJpwkVEREREREREpGSacBERERERERERKZkmXERERERERERESqYJFxERERERERGRkmnCRURERERERESkZJpwEREREREREREpmSZcRERERERERERKpgkXEREREREREZGSacJFRERERERERKRkmnARERERERERESmZJlxEREREREREREqmCRcRERERERERkZJpwkVEREREREREpGSacBERERERERERKZkmXERERERERERESqYJFxERERERERGRkv1/Jk2EI8oAoDcAAAAASUVORK5CYII=\n",
          "text/plain": "<Figure size 576x288 with 1 Axes>"
         },
         "metadata": {
          "image/png": {
           "height": 270,
           "width": 558
          },
          "needs_background": "light"
         },
         "output_type": "display_data"
        }
       ]
      }
     },
     "b569335ae274420189d44ab65d7f1502": {
      "model_module": "@jupyter-widgets/controls",
      "model_module_version": "1.5.0",
      "model_name": "SliderStyleModel",
      "state": {
       "description_width": "200px"
      }
     },
     "b619caba5178465ca5414835f1daf653": {
      "model_module": "@jupyter-widgets/controls",
      "model_module_version": "1.5.0",
      "model_name": "SelectMultipleModel",
      "state": {
       "_options_labels": [
        "0"
       ],
       "description": "Channels",
       "index": [
        0
       ],
       "layout": "IPY_MODEL_69502cdc645945a9bd6b959ed2804cca",
       "rows": 5,
       "style": "IPY_MODEL_c46f36bfbbda494ab03ab4d21d2ba271"
      }
     },
     "b7f0ed0140124eb0a01b1fdda48088be": {
      "model_module": "@jupyter-widgets/controls",
      "model_module_version": "1.5.0",
      "model_name": "DescriptionStyleModel",
      "state": {
       "description_width": "250px"
      }
     },
     "b9f55aee71404ac9876fc20d5a26e221": {
      "model_module": "@jupyter-widgets/controls",
      "model_module_version": "1.5.0",
      "model_name": "HBoxModel",
      "state": {
       "children": [
        "IPY_MODEL_fb66fadfc6a24c1bb19b5946f03011c8",
        "IPY_MODEL_6c7a679957a94632a02cde855376a10c",
        "IPY_MODEL_391f9b980c904e2986fc23a62e1f18df"
       ],
       "layout": "IPY_MODEL_194d18032a2448b896727c62eb548ce9"
      }
     },
     "ba27790cd6324ed9b65aa0c71a864fca": {
      "model_module": "@jupyter-widgets/output",
      "model_module_version": "1.0.0",
      "model_name": "OutputModel",
      "state": {
       "layout": "IPY_MODEL_7bd857ecd8604a1cbb98206aa495a3a8",
       "outputs": [
        {
         "data": {
          "image/png": "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\n",
          "text/plain": "<Figure size 720x360 with 1 Axes>"
         },
         "metadata": {
          "image/png": {
           "height": 341,
           "width": 701
          },
          "needs_background": "light"
         },
         "output_type": "display_data"
        }
       ]
      }
     },
     "bbb5d122179248f4aff0903e39868558": {
      "model_module": "@jupyter-widgets/base",
      "model_module_version": "1.2.0",
      "model_name": "LayoutModel",
      "state": {
       "width": "600px"
      }
     },
     "bcd8d0389c144d56b29f36cb39132c33": {
      "model_module": "@jupyter-widgets/base",
      "model_module_version": "1.2.0",
      "model_name": "LayoutModel",
      "state": {}
     },
     "bce996216eab4fc38ad38e60d1391f7e": {
      "model_module": "@jupyter-widgets/controls",
      "model_module_version": "1.5.0",
      "model_name": "SliderStyleModel",
      "state": {
       "description_width": ""
      }
     },
     "bd0525feaafe411fa8c696d7ef89b503": {
      "model_module": "@jupyter-widgets/controls",
      "model_module_version": "1.5.0",
      "model_name": "FloatSliderModel",
      "state": {
       "continuous_update": false,
       "description": "event detection threshold",
       "layout": "IPY_MODEL_81dc20a731f24b9b9bfdeb6d7e810177",
       "max": 2,
       "min": -2,
       "readout_format": ".3f",
       "step": 0.001,
       "style": "IPY_MODEL_16b072ce821e4e37ac09bd58fcd60594",
       "value": 0.931
      }
     },
     "bff5d0ede4b8458191f3b104abbcc757": {
      "model_module": "@jupyter-widgets/controls",
      "model_module_version": "1.5.0",
      "model_name": "FloatRangeSliderModel",
      "state": {
       "_model_name": "FloatRangeSliderModel",
       "_view_name": "FloatRangeSliderView",
       "continuous_update": false,
       "description": "Time Range (s)",
       "layout": "IPY_MODEL_383298026fa64ddd99f59551e25e8d5d",
       "max": 43.5,
       "step": 0.05,
       "style": "IPY_MODEL_e86d8bfc5d7f41cfa50c73b187c21ba6",
       "value": [
        0,
        43.5
       ]
      }
     },
     "c029d2a9b46f4f2a9d8004a2279b57e3": {
      "model_module": "@jupyter-widgets/controls",
      "model_module_version": "1.5.0",
      "model_name": "FloatRangeSliderModel",
      "state": {
       "_model_name": "FloatRangeSliderModel",
       "_view_name": "FloatRangeSliderView",
       "continuous_update": false,
       "description": "Time Range (s)",
       "layout": "IPY_MODEL_6dcd0df1745b42788ec117d581f0a7b8",
       "max": 35,
       "step": 0.05,
       "style": "IPY_MODEL_de3d049079e6421d866b2a6486472d45",
       "value": [
        0,
        35
       ]
      }
     },
     "c04f0e1d104a4fada9beac3eb83c1ea5": {
      "model_module": "@jupyter-widgets/controls",
      "model_module_version": "1.5.0",
      "model_name": "SliderStyleModel",
      "state": {
       "description_width": "200px"
      }
     },
     "c232126f28cf43f79ef8c48d5df3a102": {
      "model_module": "@jupyter-widgets/controls",
      "model_module_version": "1.5.0",
      "model_name": "TextModel",
      "state": {
       "description": "min IEI (seconds)",
       "layout": "IPY_MODEL_00f77dc73f4d48ffaa8c7792acc95a76",
       "placeholder": "0.005",
       "style": "IPY_MODEL_d073d1acedb245648d9b70d5d04e31f0",
       "value": "0.005"
      }
     },
     "c2c30aaa8bb4421ab4f631e9edb10edc": {
      "model_module": "@jupyter-widgets/controls",
      "model_module_version": "1.5.0",
      "model_name": "TextModel",
      "state": {
       "description": "min IEI (seconds)",
       "layout": "IPY_MODEL_bcd8d0389c144d56b29f36cb39132c33",
       "placeholder": "0.005",
       "style": "IPY_MODEL_547d0a573dc342539de64e3629b49fdd",
       "value": "0.005"
      }
     },
     "c45dbbf8565540a78a0cabe8df22b6df": {
      "model_module": "@jupyter-widgets/controls",
      "model_module_version": "1.5.0",
      "model_name": "LabelModel",
      "state": {
       "layout": "IPY_MODEL_709c083eed2d451392061c7b3def6227",
       "style": "IPY_MODEL_49e8dad27e954bde9a6b45a349fe7aea",
       "value": "time of this event is: nan"
      }
     },
     "c46f36bfbbda494ab03ab4d21d2ba271": {
      "model_module": "@jupyter-widgets/controls",
      "model_module_version": "1.5.0",
      "model_name": "DescriptionStyleModel",
      "state": {
       "description_width": ""
      }
     },
     "c4a94767f75840a997d41854f5c86e05": {
      "model_module": "@jupyter-widgets/controls",
      "model_module_version": "1.5.0",
      "model_name": "DescriptionStyleModel",
      "state": {
       "description_width": "200px"
      }
     },
     "c508941ce9444c6f8f7e4e90530d57ab": {
      "model_module": "@jupyter-widgets/base",
      "model_module_version": "1.2.0",
      "model_name": "LayoutModel",
      "state": {}
     },
     "c52e9964dca842efaa706ecc2fc1a356": {
      "model_module": "@jupyter-widgets/controls",
      "model_module_version": "1.5.0",
      "model_name": "DescriptionStyleModel",
      "state": {
       "description_width": ""
      }
     },
     "c549fea82b3149e7b1d5f4676a78dfc5": {
      "model_module": "@jupyter-widgets/controls",
      "model_module_version": "1.5.0",
      "model_name": "DescriptionStyleModel",
      "state": {
       "description_width": ""
      }
     },
     "c81f1266b2084c62b1bc304b2d513157": {
      "model_module": "@jupyter-widgets/controls",
      "model_module_version": "1.5.0",
      "model_name": "DescriptionStyleModel",
      "state": {
       "description_width": ""
      }
     },
     "c9322ad4b3814ec4a8ab6e0353111ab0": {
      "model_module": "@jupyter-widgets/controls",
      "model_module_version": "1.5.0",
      "model_name": "RadioButtonsModel",
      "state": {
       "_options_labels": [
        "peak",
        "level crossing"
       ],
       "description": "Type of event detection",
       "index": 0,
       "layout": "IPY_MODEL_25290ed64cf1456c80d6699c7214d9d0",
       "style": "IPY_MODEL_c4a94767f75840a997d41854f5c86e05"
      }
     },
     "cacfcac3a32e4197b03a1154059f7354": {
      "model_module": "@jupyter-widgets/controls",
      "model_module_version": "1.5.0",
      "model_name": "DescriptionStyleModel",
      "state": {
       "description_width": ""
      }
     },
     "cb3323937df5471a8fff45b5048795a0": {
      "model_module": "@jupyter-widgets/controls",
      "model_module_version": "1.5.0",
      "model_name": "RadioButtonsModel",
      "state": {
       "_options_labels": [
        "none",
        "0"
       ],
       "description": "detect delay to peaks on channel: ",
       "index": 1,
       "layout": "IPY_MODEL_4dc5a4da2fe843c8871ff71d3ffa10fe",
       "style": "IPY_MODEL_ed9907d2ef7d4148b27e12c1c22d0641"
      }
     },
     "cc001e5e43624fe4b1807c262f0c50d5": {
      "model_module": "@jupyter-widgets/controls",
      "model_module_version": "1.5.0",
      "model_name": "DescriptionStyleModel",
      "state": {
       "description_width": ""
      }
     },
     "cd56292df5454621b4e092447e075007": {
      "model_module": "@jupyter-widgets/base",
      "model_module_version": "1.2.0",
      "model_name": "LayoutModel",
      "state": {}
     },
     "cd77c40e82994cce8d10a4faafff8de0": {
      "model_module": "@jupyter-widgets/controls",
      "model_module_version": "1.5.0",
      "model_name": "DescriptionStyleModel",
      "state": {
       "description_width": "200px"
      }
     },
     "cde7078d851f452ea46174080ecd5852": {
      "model_module": "@jupyter-widgets/controls",
      "model_module_version": "1.5.0",
      "model_name": "SelectModel",
      "state": {
       "_options_labels": [
        "0"
       ],
       "description": "Channel used to detect events",
       "index": 0,
       "layout": "IPY_MODEL_4aff309ac87f4fc9abb798987e582775",
       "style": "IPY_MODEL_853d9567ae4544a3b52fb30cf68b0750"
      }
     },
     "cf0a09efaeba42c0bf8646041c4ab394": {
      "model_module": "@jupyter-widgets/controls",
      "model_module_version": "1.5.0",
      "model_name": "LabelModel",
      "state": {
       "layout": "IPY_MODEL_df03b4e4f24e499ba984362a940e454c",
       "style": "IPY_MODEL_070bf6c11cdd48e1b3fa7f2743d582b0",
       "value": "time since last event is: nan"
      }
     },
     "cff0877d006f476bbdade1edc5fd6927": {
      "model_module": "@jupyter-widgets/controls",
      "model_module_version": "1.5.0",
      "model_name": "TextModel",
      "state": {
       "description": "min IEI (seconds)",
       "layout": "IPY_MODEL_f260a3e8f8f84c08bd64f26d6e28a18e",
       "placeholder": "0.005",
       "style": "IPY_MODEL_1d910b7db49c427cba2a8f5c445a5aec",
       "value": "0.005"
      }
     },
     "d0232ff0323d4369a7239ea27a15a49e": {
      "model_module": "@jupyter-widgets/controls",
      "model_module_version": "1.5.0",
      "model_name": "SliderStyleModel",
      "state": {
       "description_width": "250px"
      }
     },
     "d02821c1f8d446d6b03cc1f37a7a43d3": {
      "model_module": "@jupyter-widgets/controls",
      "model_module_version": "1.5.0",
      "model_name": "DescriptionStyleModel",
      "state": {
       "description_width": "200px"
      }
     },
     "d073d1acedb245648d9b70d5d04e31f0": {
      "model_module": "@jupyter-widgets/controls",
      "model_module_version": "1.5.0",
      "model_name": "DescriptionStyleModel",
      "state": {
       "description_width": "200px"
      }
     },
     "d0e92793374d440fbf9e8eff19a59fcb": {
      "model_module": "@jupyter-widgets/controls",
      "model_module_version": "1.5.0",
      "model_name": "SelectMultipleModel",
      "state": {
       "_options_labels": [
        "0",
        "1",
        "2",
        "3",
        "4",
        "5",
        "6",
        "7",
        "8",
        "9",
        "10",
        "11",
        "12",
        "13",
        "14"
       ],
       "description": "Events",
       "index": [
        0
       ],
       "layout": "IPY_MODEL_e19b3330f4e44a4e8855b28b8112cb83",
       "rows": 5,
       "style": "IPY_MODEL_c52e9964dca842efaa706ecc2fc1a356"
      }
     },
     "d226d47f24db43eb9532acf8f88852a1": {
      "model_module": "@jupyter-widgets/base",
      "model_module_version": "1.2.0",
      "model_name": "LayoutModel",
      "state": {}
     },
     "d253c92bd6fb4f5f9c96a7372e21e8b0": {
      "model_module": "@jupyter-widgets/controls",
      "model_module_version": "1.5.0",
      "model_name": "DescriptionStyleModel",
      "state": {
       "description_width": ""
      }
     },
     "d36adad2238f4ed0adb4c10b3c910e34": {
      "model_module": "@jupyter-widgets/base",
      "model_module_version": "1.2.0",
      "model_name": "LayoutModel",
      "state": {}
     },
     "d3b65a1f5edc4abca301212d0b6f5d40": {
      "model_module": "@jupyter-widgets/controls",
      "model_module_version": "1.5.0",
      "model_name": "SliderStyleModel",
      "state": {
       "description_width": "200px"
      }
     },
     "d52ebff7254f4ee7b3b739e436dfedd6": {
      "model_module": "@jupyter-widgets/controls",
      "model_module_version": "1.5.0",
      "model_name": "SelectMultipleModel",
      "state": {
       "_options_labels": [
        "0"
       ],
       "description": "Channels",
       "index": [
        0
       ],
       "layout": "IPY_MODEL_6356785b5da64deb83c43693ab6bcf75",
       "rows": 5,
       "style": "IPY_MODEL_c549fea82b3149e7b1d5f4676a78dfc5"
      }
     },
     "d53987bb5a764f838646de158b050d51": {
      "model_module": "@jupyter-widgets/controls",
      "model_module_version": "1.5.0",
      "model_name": "DescriptionStyleModel",
      "state": {
       "description_width": "200px"
      }
     },
     "d7f2d89882a6455297678c369b254a99": {
      "model_module": "@jupyter-widgets/base",
      "model_module_version": "1.2.0",
      "model_name": "LayoutModel",
      "state": {}
     },
     "dc183b32e9b84ef1b2cd4f2183f2ba65": {
      "model_module": "@jupyter-widgets/base",
      "model_module_version": "1.2.0",
      "model_name": "LayoutModel",
      "state": {}
     },
     "dcd8906c62cb41a49ca114b57db83da5": {
      "model_module": "@jupyter-widgets/controls",
      "model_module_version": "1.5.0",
      "model_name": "VBoxModel",
      "state": {
       "children": [
        "IPY_MODEL_9ed877cb22634d9bb9a9d5198b4e3a9f",
        "IPY_MODEL_e41c4bcc8a1e41d0843d1c68ce772ae4"
       ],
       "layout": "IPY_MODEL_f2ea3625172b4dfc8215124539a85f62"
      }
     },
     "de1cf0cf1c3649fcb892e2ba8fb583d3": {
      "model_module": "@jupyter-widgets/controls",
      "model_module_version": "1.5.0",
      "model_name": "SelectModel",
      "state": {
       "_options_labels": [
        "0"
       ],
       "description": "Channel used to detect events",
       "index": 0,
       "layout": "IPY_MODEL_7b5b300f937e4ff085367af53bdf66d5",
       "style": "IPY_MODEL_4e5c355cb6784b54b55dac3c1c0dc979"
      }
     },
     "de3d049079e6421d866b2a6486472d45": {
      "model_module": "@jupyter-widgets/controls",
      "model_module_version": "1.5.0",
      "model_name": "SliderStyleModel",
      "state": {
       "description_width": "200px"
      }
     },
     "dee8f38e0cca4852a3bdb2412d26c1f1": {
      "model_module": "@jupyter-widgets/controls",
      "model_module_version": "1.5.0",
      "model_name": "DescriptionStyleModel",
      "state": {
       "description_width": ""
      }
     },
     "df03b4e4f24e499ba984362a940e454c": {
      "model_module": "@jupyter-widgets/base",
      "model_module_version": "1.2.0",
      "model_name": "LayoutModel",
      "state": {
       "width": "600px"
      }
     },
     "df5f9ec9bfc7442d9d6fa5fed8b270d7": {
      "model_module": "@jupyter-widgets/controls",
      "model_module_version": "1.5.0",
      "model_name": "RadioButtonsModel",
      "state": {
       "_options_labels": [
        "none",
        "0"
       ],
       "description": "detect delay to peaks on channel: ",
       "index": 1,
       "layout": "IPY_MODEL_753fb969130b465aba7ae1a90f4aa37f",
       "style": "IPY_MODEL_b7f0ed0140124eb0a01b1fdda48088be"
      }
     },
     "e19b3330f4e44a4e8855b28b8112cb83": {
      "model_module": "@jupyter-widgets/base",
      "model_module_version": "1.2.0",
      "model_name": "LayoutModel",
      "state": {}
     },
     "e1b24d196fba4c248af2d10e32a4b73d": {
      "model_module": "@jupyter-widgets/controls",
      "model_module_version": "1.5.0",
      "model_name": "RadioButtonsModel",
      "state": {
       "_options_labels": [
        "1",
        "-1"
       ],
       "description": "peaks polarity",
       "index": 1,
       "layout": "IPY_MODEL_d36adad2238f4ed0adb4c10b3c910e34",
       "style": "IPY_MODEL_04227157054b4b3e9ca7c517717b49c2"
      }
     },
     "e3d9740ff92b484ab366bc55407cf13e": {
      "model_module": "@jupyter-widgets/base",
      "model_module_version": "1.2.0",
      "model_name": "LayoutModel",
      "state": {
       "width": "600px"
      }
     },
     "e41c4bcc8a1e41d0843d1c68ce772ae4": {
      "model_module": "@jupyter-widgets/controls",
      "model_module_version": "1.5.0",
      "model_name": "FloatRangeSliderModel",
      "state": {
       "_model_name": "FloatRangeSliderModel",
       "_view_name": "FloatRangeSliderView",
       "continuous_update": false,
       "description": "yrange",
       "layout": "IPY_MODEL_e3d9740ff92b484ab366bc55407cf13e",
       "max": 5,
       "min": -5,
       "step": 0.05,
       "style": "IPY_MODEL_7210e4606e4a47e9b02493431db35061",
       "value": [
        -0.5,
        1
       ]
      }
     },
     "e50447acd6d9470685153d4d7c674d9e": {
      "model_module": "@jupyter-widgets/base",
      "model_module_version": "1.2.0",
      "model_name": "LayoutModel",
      "state": {}
     },
     "e50d4a24a94643d19ade7fd39bef096b": {
      "model_module": "@jupyter-widgets/base",
      "model_module_version": "1.2.0",
      "model_name": "LayoutModel",
      "state": {}
     },
     "e5219a73a6cc454f9c201099f2cce4be": {
      "model_module": "@jupyter-widgets/controls",
      "model_module_version": "1.5.0",
      "model_name": "FloatSliderModel",
      "state": {
       "continuous_update": false,
       "description": "event detection threshold",
       "layout": "IPY_MODEL_56f9e82b7d674ed98298650257992307",
       "max": 2,
       "min": -2,
       "readout_format": ".3f",
       "step": 0.001,
       "style": "IPY_MODEL_b569335ae274420189d44ab65d7f1502",
       "value": 0.546
      }
     },
     "e86d8bfc5d7f41cfa50c73b187c21ba6": {
      "model_module": "@jupyter-widgets/controls",
      "model_module_version": "1.5.0",
      "model_name": "SliderStyleModel",
      "state": {
       "description_width": "200px"
      }
     },
     "e8b2bf0faf1449079450a61270029a90": {
      "model_module": "@jupyter-widgets/controls",
      "model_module_version": "1.5.0",
      "model_name": "TextModel",
      "state": {
       "description": "minimum interval (s)",
       "layout": "IPY_MODEL_efc2d63f18ec4012ba8317f55b3eed47",
       "placeholder": "0.001",
       "style": "IPY_MODEL_299e8be154464056b2447aac9326f6e2",
       "value": "0.001"
      }
     },
     "e975a85ac6724d42aeee2f11375c242c": {
      "model_module": "@jupyter-widgets/controls",
      "model_module_version": "1.5.0",
      "model_name": "FloatSliderModel",
      "state": {
       "continuous_update": false,
       "description": "peak detection threshold",
       "layout": "IPY_MODEL_36f0aa7006af456cb9c9a325a8e74d0a",
       "max": 1,
       "readout_format": ".3f",
       "step": 0.001,
       "style": "IPY_MODEL_d0232ff0323d4369a7239ea27a15a49e",
       "value": 0.041
      }
     },
     "e98b847bfbaf4424ba1972edf4227daf": {
      "model_module": "@jupyter-widgets/controls",
      "model_module_version": "1.5.0",
      "model_name": "VBoxModel",
      "state": {
       "_dom_classes": [
        "widget-interact"
       ],
       "children": [
        "IPY_MODEL_cde7078d851f452ea46174080ecd5852",
        "IPY_MODEL_4e81c9856e464aa2a7521c0dfc176cb1",
        "IPY_MODEL_3f63f141a48542e8b93e093c5eec5c91",
        "IPY_MODEL_adfcbff416164c69856d52d03a0d3a5b",
        "IPY_MODEL_4c42c7ff0fd9400ba01b34ab86ef3aa7",
        "IPY_MODEL_c232126f28cf43f79ef8c48d5df3a102",
        "IPY_MODEL_70821844dc5b4e69a553ebd3511c4bbc"
       ],
       "layout": "IPY_MODEL_ed02b0e2a998436aa455f6acd40ec741"
      }
     },
     "e9c91231394a45a6af89b8b0c1fd1dc8": {
      "model_module": "@jupyter-widgets/base",
      "model_module_version": "1.2.0",
      "model_name": "LayoutModel",
      "state": {}
     },
     "ea92208df7334a71a9ac169ba54b8adc": {
      "model_module": "@jupyter-widgets/controls",
      "model_module_version": "1.5.0",
      "model_name": "RadioButtonsModel",
      "state": {
       "_options_labels": [
        "peak",
        "level crossing"
       ],
       "description": "Type of event detection",
       "index": 1,
       "layout": "IPY_MODEL_2331d940d3ff4b2f8b608055cb6ea304",
       "style": "IPY_MODEL_257e8de45989430c8aab307931342f8c"
      }
     },
     "eaf5e07351b8432dbba64ad3ea0c02b2": {
      "model_module": "@jupyter-widgets/controls",
      "model_module_version": "1.5.0",
      "model_name": "LabelModel",
      "state": {
       "layout": "IPY_MODEL_7966ff02886c4fc097f19bcf03b9c4a6",
       "style": "IPY_MODEL_cacfcac3a32e4197b03a1154059f7354",
       "value": "time of this event is: nan"
      }
     },
     "eb82b0606f7f4c1cbf3b66d197e0630c": {
      "model_module": "@jupyter-widgets/controls",
      "model_module_version": "1.5.0",
      "model_name": "DescriptionStyleModel",
      "state": {
       "description_width": ""
      }
     },
     "ec3ac2f4621d413cae641c2c4e6e2d14": {
      "model_module": "@jupyter-widgets/controls",
      "model_module_version": "1.5.0",
      "model_name": "SliderStyleModel",
      "state": {
       "description_width": "250px"
      }
     },
     "ed02b0e2a998436aa455f6acd40ec741": {
      "model_module": "@jupyter-widgets/base",
      "model_module_version": "1.2.0",
      "model_name": "LayoutModel",
      "state": {}
     },
     "ed9907d2ef7d4148b27e12c1c22d0641": {
      "model_module": "@jupyter-widgets/controls",
      "model_module_version": "1.5.0",
      "model_name": "DescriptionStyleModel",
      "state": {
       "description_width": "250px"
      }
     },
     "ef5e3d27d25b4424a12ea319a762b80f": {
      "model_module": "@jupyter-widgets/controls",
      "model_module_version": "1.5.0",
      "model_name": "DescriptionStyleModel",
      "state": {
       "description_width": "250px"
      }
     },
     "efc2d63f18ec4012ba8317f55b3eed47": {
      "model_module": "@jupyter-widgets/base",
      "model_module_version": "1.2.0",
      "model_name": "LayoutModel",
      "state": {}
     },
     "f260a3e8f8f84c08bd64f26d6e28a18e": {
      "model_module": "@jupyter-widgets/base",
      "model_module_version": "1.2.0",
      "model_name": "LayoutModel",
      "state": {}
     },
     "f2ea3625172b4dfc8215124539a85f62": {
      "model_module": "@jupyter-widgets/base",
      "model_module_version": "1.2.0",
      "model_name": "LayoutModel",
      "state": {}
     },
     "f3bbffdc710e4f5895fe6c9ba796b68e": {
      "model_module": "@jupyter-widgets/base",
      "model_module_version": "1.2.0",
      "model_name": "LayoutModel",
      "state": {
       "width": "600px"
      }
     },
     "f6a94e3b83514e4f9597f1cf730b7e6a": {
      "model_module": "@jupyter-widgets/controls",
      "model_module_version": "1.5.0",
      "model_name": "VBoxModel",
      "state": {
       "_dom_classes": [
        "widget-interact"
       ],
       "children": [
        "IPY_MODEL_de1cf0cf1c3649fcb892e2ba8fb583d3",
        "IPY_MODEL_0f53fc8c270a459086eacc3154446a22",
        "IPY_MODEL_5b39013665ef4934a3b5d09544b3027b",
        "IPY_MODEL_ea92208df7334a71a9ac169ba54b8adc",
        "IPY_MODEL_1b0f4a9a619647f6a835f67a1fc68e23",
        "IPY_MODEL_3f77e1331cb4457b9c4765cf97d8fb58",
        "IPY_MODEL_ba27790cd6324ed9b65aa0c71a864fca"
       ],
       "layout": "IPY_MODEL_67392dfe69a54167a3ecc1aa98fc8a92"
      }
     },
     "f6e24b9f036a446cb6d3d1d4a28c1901": {
      "model_module": "@jupyter-widgets/base",
      "model_module_version": "1.2.0",
      "model_name": "LayoutModel",
      "state": {
       "width": "600px"
      }
     },
     "f990274ecdc34f558d8f448f53a257c2": {
      "model_module": "@jupyter-widgets/output",
      "model_module_version": "1.0.0",
      "model_name": "OutputModel",
      "state": {
       "layout": "IPY_MODEL_6e5a68b9f59b45d2bb80cd08770ee5e6",
       "outputs": [
        {
         "data": {
          "image/png": "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\n",
          "text/plain": "<Figure size 720x360 with 1 Axes>"
         },
         "metadata": {
          "image/png": {
           "height": 341,
           "width": 702
          },
          "needs_background": "light"
         },
         "output_type": "display_data"
        }
       ]
      }
     },
     "fb66fadfc6a24c1bb19b5946f03011c8": {
      "model_module": "@jupyter-widgets/controls",
      "model_module_version": "1.5.0",
      "model_name": "SelectMultipleModel",
      "state": {
       "_options_labels": [
        "0"
       ],
       "description": "Channels",
       "index": [
        0
       ],
       "layout": "IPY_MODEL_e9c91231394a45a6af89b8b0c1fd1dc8",
       "rows": 5,
       "style": "IPY_MODEL_a130b7839fc74090b9f833f8a9ba12b6"
      }
     },
     "fba7b04fbf344dfea5e83fe38ba642fe": {
      "model_module": "@jupyter-widgets/base",
      "model_module_version": "1.2.0",
      "model_name": "LayoutModel",
      "state": {}
     },
     "ff779768144542af8f559d17b2b78a60": {
      "model_module": "@jupyter-widgets/base",
      "model_module_version": "1.2.0",
      "model_name": "LayoutModel",
      "state": {
       "width": "600px"
      }
     }
    },
    "version_major": 2,
    "version_minor": 0
   }
  }
 },
 "nbformat": 4,
 "nbformat_minor": 5
}
