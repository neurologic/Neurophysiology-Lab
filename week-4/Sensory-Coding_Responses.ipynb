{
 "cells": [
  {
   "cell_type": "markdown",
   "id": "2bcea47c-bd58-4eac-b259-f43405e8982d",
   "metadata": {},
   "source": [
    "# Responses"
   ]
  },
  {
   "cell_type": "markdown",
   "id": "513c0ad9-f856-46a3-9a79-9bb0ca01811c",
   "metadata": {},
   "source": [
    "Your Name:"
   ]
  },
  {
   "cell_type": "markdown",
   "id": "21af1be8-9543-45b6-bb5a-7ef95cf59bca",
   "metadata": {},
   "source": [
    "<div><font color = green>\n",
    "\n",
    "</font></div>"
   ]
  },
  {
   "cell_type": "markdown",
   "id": "25ae9ecd-f683-44f3-b750-ea4f8f080ffb",
   "metadata": {},
   "source": [
    "(<a href=\"../Sensory-Coding.ipynb#one\" target=\"_blank\" rel=\"noopener noreferrer\">Link to Sensory-Coding: Part I (non-colab link)</a>)"
   ]
  },
  {
   "cell_type": "markdown",
   "id": "a61fd6b5-7246-4f67-b9b6-5d8ea6339ef9",
   "metadata": {},
   "source": [
    "<div><font color = green>\n",
    "    Important: for all values, make sure to account for the amplifier gain (ie. report voltages measured at the electrode, not voltages recorded in Bonsai).\n",
    "</font></div>"
   ]
  },
  {
   "cell_type": "markdown",
   "id": "b67cfff4-c046-4bdf-98db-bfb0e1b14546",
   "metadata": {},
   "source": [
    "..."
   ]
  },
  {
   "cell_type": "markdown",
   "id": "cb1c50f0-fb6d-4062-8410-ff27980c2c8d",
   "metadata": {},
   "source": [
    "<div><font color = green>\n",
    "    Can you identify individual spikes in the signal? During baseline? During Stimulation?\n",
    "</font></div>"
   ]
  },
  {
   "cell_type": "markdown",
   "id": "cbf03f2d-0ceb-4c3d-8afd-412b9ee0085e",
   "metadata": {},
   "source": [
    "..."
   ]
  },
  {
   "cell_type": "markdown",
   "id": "0733cc91-814f-45fe-9d91-71d8105c745e",
   "metadata": {},
   "source": [
    "<div><font color = green>\n",
    "\n",
    "Are there any spontaneous spiking neurons in your signal? Approximately how many?\n",
    "</font></div>"
   ]
  },
  {
   "cell_type": "markdown",
   "id": "8659b7d4-bb68-46d1-babb-c01649d8e597",
   "metadata": {},
   "source": [
    "..."
   ]
  },
  {
   "cell_type": "markdown",
   "id": "302867bd-6c16-4ba0-8ca3-2192918dcd80",
   "metadata": {},
   "source": [
    "<div><font color = green>\n",
    "\n",
    "Approximately how many different neurons can you identify being represented in the measured voltage signal?\n",
    "</font></div>"
   ]
  },
  {
   "cell_type": "markdown",
   "id": "5445b44b-8172-4959-bcbc-48c198b7bc16",
   "metadata": {},
   "source": [
    "..."
   ]
  },
  {
   "cell_type": "markdown",
   "id": "3fc6e07b-bb7b-47a7-a9b4-98b2033e3344",
   "metadata": {},
   "source": [
    "<div><font color = green>\n",
    "\n",
    "What is the approximate noise threshold that you chose for event detection?\n",
    "</font></div>"
   ]
  },
  {
   "cell_type": "markdown",
   "id": "60e8b956-a7f8-46b9-95f6-a8b7ab3ba9fe",
   "metadata": {},
   "source": [
    "..."
   ]
  },
  {
   "cell_type": "markdown",
   "id": "3d3fbe5e-ad42-407b-b4db-e72430d88369",
   "metadata": {},
   "source": [
    "<div><font color = green>\n",
    "\n",
    "What is the standard deviation (SD) of the signal? During baseline? During stimulation? Don't forget to include units on your measurement.\n",
    "</font></div>"
   ]
  },
  {
   "cell_type": "markdown",
   "id": "a2ba6c7f-025f-49fc-8438-9c169f54f5a6",
   "metadata": {},
   "source": [
    "..."
   ]
  },
  {
   "cell_type": "markdown",
   "id": "4bb5274a-ebd0-48aa-a958-8e86484201da",
   "metadata": {},
   "source": [
    "<div><font color = green>\n",
    "\n",
    "How would the standard deviation (SD) serve as a decent automated metric for choosing a spike detection threshold? Note: A common threshold is 2SD.\n",
    "</font></div>"
   ]
  },
  {
   "cell_type": "markdown",
   "id": "5881b8cf-9839-4dac-9d81-5a1938af6d85",
   "metadata": {},
   "source": [
    "..."
   ]
  },
  {
   "cell_type": "markdown",
   "id": "66c01a85-4324-4605-9033-bf03e10c431a",
   "metadata": {},
   "source": [
    "<div><font color = green>\n",
    "\n",
    "Describe the response to sensory stimulation (compared to baseline) in terms of both: neuron identity and neuron spike rate. Use approximate values based on the scatter plot of instantaneous spike rate to describe spike rates. \n",
    "</font></div>"
   ]
  },
  {
   "cell_type": "markdown",
   "id": "55303b16-bbf7-4c95-ae73-2f65fe4ece65",
   "metadata": {},
   "source": [
    "..."
   ]
  }
 ],
 "metadata": {
  "kernelspec": {
   "display_name": "Python 3 (ipykernel)",
   "language": "python",
   "name": "python3"
  },
  "language_info": {
   "codemirror_mode": {
    "name": "ipython",
    "version": 3
   },
   "file_extension": ".py",
   "mimetype": "text/x-python",
   "name": "python",
   "nbconvert_exporter": "python",
   "pygments_lexer": "ipython3",
   "version": "3.8.13"
  },
  "widgets": {
   "application/vnd.jupyter.widget-state+json": {
    "state": {},
    "version_major": 2,
    "version_minor": 0
   }
  }
 },
 "nbformat": 4,
 "nbformat_minor": 5
}
