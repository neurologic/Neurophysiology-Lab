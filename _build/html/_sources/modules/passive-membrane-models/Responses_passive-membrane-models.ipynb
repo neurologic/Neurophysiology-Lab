{
 "cells": [
  {
   "cell_type": "markdown",
   "id": "283324ce-014f-4618-87e4-e2dd10662c4f",
   "metadata": {},
   "source": [
    "# Responses\n",
    "\n",
    "<a href=\"https://colab.research.google.com/github/neurologic/Neurophysiology-Lab/blob/main/modules/passive-membrane-models/Responses_passive-membrane-models.ipynb\" target=\"_blank\"><img alt=\"Open In Colab\" src=\"https://colab.research.google.com/assets/colab-badge.svg\"/></a>   \n",
    "\n",
    "Markdown cells awaiting your responses to the following questions contain ```...```\n",
    "\n",
    "Edit these cells by replacing ```...``` with your responses. \n",
    "\n",
    "---"
   ]
  },
  {
   "cell_type": "markdown",
   "id": "c5b00833-8268-4a29-a442-e85b51a19f84",
   "metadata": {},
   "source": [
    "***NAME***: ..."
   ]
  },
  {
   "cell_type": "markdown",
   "id": "560e69c4-db40-4416-bbef-c53c8cb387a7",
   "metadata": {},
   "source": [
    "***Prompt 1:** What is the biological equivalent of the resistors in the neuron membrane model from **Part I**?*"
   ]
  },
  {
   "cell_type": "markdown",
   "id": "7da8cd6d-3fe3-4590-8222-818ff3cba53b",
   "metadata": {},
   "source": [
    "..."
   ]
  },
  {
   "cell_type": "markdown",
   "id": "f63c39dc-8c6c-41bf-afa4-e230e1a97ef6",
   "metadata": {},
   "source": [
    "***Prompt 2:** What is the biological equivalent of each set of resistors (Rinside, Routside, Rmembrane) in the neuron membrane model from **Part II and III**?*"
   ]
  },
  {
   "cell_type": "markdown",
   "id": "f672dbb8-aa92-4ee9-a59d-835f17d324a5",
   "metadata": {},
   "source": [
    "..."
   ]
  },
  {
   "cell_type": "markdown",
   "id": "72f928ad-a571-40af-b08d-04618152423d",
   "metadata": {},
   "source": [
    "***Prompt 3:** What is the biological equivalent of the battery (the voltage applied across the membrane) in the neuron membrane model from **Part II and III**?*"
   ]
  },
  {
   "cell_type": "markdown",
   "id": "6ba28ec6-b4a7-41c5-9a7b-7f3a825cd6d2",
   "metadata": {},
   "source": [
    "..."
   ]
  },
  {
   "cell_type": "markdown",
   "id": "b01d99cf-b8b2-4e17-a87a-55d8a7de55fb",
   "metadata": {},
   "source": [
    "***Prompt 4:** When a set of ion channels (selective for Potassium, for example) opens, what happens to the resistance of the membrane?*"
   ]
  },
  {
   "cell_type": "markdown",
   "id": "abd7dce2-1649-4f04-894b-37c25b303a84",
   "metadata": {},
   "source": [
    "..."
   ]
  },
  {
   "cell_type": "markdown",
   "id": "c7064c1b-a0ec-483a-a2b5-153edc7bae3a",
   "metadata": {},
   "source": [
    "***Prompt 5:** In neurophysiology we often talk about ion channel conductance ($g$) rather than resistance ($R$), where $R = 1/g$. How did the balance between the two conductances in the neuron membrane model from **Part I** effect the voltage across the cell membrane?*"
   ]
  },
  {
   "cell_type": "markdown",
   "id": "51bc0b65-effa-4b8f-9f1c-2063188f7b77",
   "metadata": {},
   "source": [
    "..."
   ]
  },
  {
   "cell_type": "markdown",
   "id": "42131bda-39ae-44ea-ae6e-d50e1f779816",
   "metadata": {},
   "source": [
    "***Prompt 6:** What part of the action potential were you simulating in **Part II and III** of the lab (modeling intracellular versus extracellular recordings). And which active ion conductance did this most closely simulate?*"
   ]
  },
  {
   "cell_type": "markdown",
   "id": "4654ed8f-b96a-451d-bca2-0d6b0085ffa2",
   "metadata": {},
   "source": [
    "..."
   ]
  },
  {
   "cell_type": "markdown",
   "id": "db8818a4-88b3-41c5-8185-e741b526207c",
   "metadata": {},
   "source": [
    "***Prompt 7:** In **Part II and III**, what was the scaling factor between the measured peak amplitude in intracellular versus extracellular recording configuration (extracellular amplitude divided by intracellular amplitude)?*"
   ]
  },
  {
   "cell_type": "markdown",
   "id": "960bf456-feb2-4c3e-94d6-fce05f501a20",
   "metadata": {},
   "source": [
    "..."
   ]
  },
  {
   "cell_type": "markdown",
   "id": "c2b809f4-eaad-4bc4-873d-cad288bbf386",
   "metadata": {},
   "source": [
    "***Prompt 8:** The *space constant* is the distance it takes for voltage to change by 63% from its original value. Approximate the space constant (in arbitrary \"node\" units) of the model membrane using the intracellular measurements of membrane potential (**Part I**) as the battery source travelled down the \"axon\".  \n",
    "First, calculate the space constant first by starting at Node \\#5 (the middle node).  \n",
    "Then, calculate it by starting at Node \\#7.*"
   ]
  },
  {
   "cell_type": "markdown",
   "id": "109cfe4d-010b-492c-ba99-3dbb62f30904",
   "metadata": {},
   "source": [
    "..."
   ]
  },
  {
   "cell_type": "markdown",
   "id": "789bd9cc-2df3-478e-bc21-7e105beaec87",
   "metadata": {},
   "source": [
    "***Prompt 9:** The space constant can also be calculated using the following equation:*\n",
    "\n",
    "$$\n",
    "\\lambda = \\sqrt{\\frac{ R_{m} }{ R_{i} + R_{o} }}\n",
    "$$\n",
    "\n",
    "*What value do you get from calculating this way?*"
   ]
  },
  {
   "cell_type": "markdown",
   "id": "1ae30483-b618-4831-8057-19bc6a0fba8b",
   "metadata": {},
   "source": [
    "..."
   ]
  },
  {
   "cell_type": "markdown",
   "id": "3da7445e-eee2-41c3-938b-eeef11e9d581",
   "metadata": {},
   "source": [
    "***Prompt 10:** Note that $R_{o}$ is usually so small compared to the other resistances that it can be ignored when estimating neuron space constants. Why do you think it is so much smaller? In other words, what makes $R_{i}$ large compared to $R_{o}$? And what makes $R_{m}$ large compared to $R_{o}$?)*"
   ]
  },
  {
   "cell_type": "markdown",
   "id": "59bd31d8-4879-4989-b3ca-31ecc0f9011c",
   "metadata": {},
   "source": [
    "..."
   ]
  },
  {
   "cell_type": "markdown",
   "id": "d86e6375-e127-4e82-91d2-ebed2d5ed771",
   "metadata": {},
   "source": [
    "***Prompt 11:** What caused the change in polarity in your membrane potential measurement in **Part III** (and why did the polarity not change in **Part II**)? If you did not observe a polarity change or if you observed a polarity change in both configurations, make note of that.*"
   ]
  },
  {
   "cell_type": "markdown",
   "id": "be098868-6fc2-45f7-8236-7614cb79ce55",
   "metadata": {},
   "source": [
    "..."
   ]
  },
  {
   "cell_type": "markdown",
   "id": "907bc41e-a0ca-4280-9011-d94664b9f7ed",
   "metadata": {},
   "source": [
    "***Prompt 12:** Think back to your other neuroscience courses. Draw a typical neuron's action potential and describe what physiological events across the cell membrane cause the following components of the waveform shape:*\n",
    "- *baseline (resting) voltage*\n",
    "- *polarity*\n",
    "- *change in polarity*\n",
    "- *amplitude* \n",
    "    \n",
    "```{hint} \n",
    "Insert an image from your google drive in a markdown cell by doing the following... \n",
    "\n",
    "Get the \"Anyone can view\" share link from google drive. \n",
    "With a  share link in the following format: https://drive.google.com/file/d/ID-of-image-/view?usp=sharing,\n",
    "all you need is the *ID-of-image* from the URL share link. \n",
    "\n",
    "Enter editing mode on the Markdown cell below.\n",
    "\n",
    "In the template URL provided, replace \"1WoAa-oMOkAj9r9lyls4nLSLyIeuTu4Ae\" with the ID from the link you see in your google drive's \"share link\" screen for your image.\n",
    "\n",
    "Then \"run\" the markdown cell (or double click it). Your image will replace the one provided.\n",
    "\n",
    "```"
   ]
  },
  {
   "cell_type": "markdown",
   "id": "876a9047-2ff2-4dd6-9398-5f62e4367868",
   "metadata": {},
   "source": [
    "...\n",
    "\n",
    "<img src='https://drive.google.com/uc?id=1WoAa-oMOkAj9r9lyls4nLSLyIeuTu4Ae' width=\"300\" >"
   ]
  },
  {
   "cell_type": "markdown",
   "id": "fac42f4e-11bb-448a-8cad-d951ad03c7f1",
   "metadata": {},
   "source": [
    "***Prompt 13:** What was different between the membrane potential response to (the same) applied current **with** verusus **without** a capacitor in the circuit? What was the same between the membrane potential response to (the same) applied current **with** verusus **without** a capacitor in the circuit?"
   ]
  },
  {
   "cell_type": "markdown",
   "id": "552755cf-3edb-4627-aef9-a67c10f48a09",
   "metadata": {},
   "source": [
    "..."
   ]
  },
  {
   "cell_type": "markdown",
   "id": "b86afd1a-6b94-429d-b011-c14b43d3889b",
   "metadata": {},
   "source": [
    "***Prompt 14:** Would you expect small neurons to have higher or lower membrane resistance than large neurons? Why?*"
   ]
  },
  {
   "cell_type": "markdown",
   "id": "e2c19d73-7b43-44e0-ab67-e1e961f5ce24",
   "metadata": {},
   "source": [
    "..."
   ]
  },
  {
   "cell_type": "markdown",
   "id": "427b077c-b8d3-4724-ae1b-c7919bec8d2f",
   "metadata": {},
   "source": [
    "***Prompt 15:** One of the most used equations in neurophysiology is $V=IR$, where $V$ is voltage, $R$ is resistance, and $I$ is current. Use your experiences from this lab to describe a key experiment that would enable you to test your prediction in Prompt 13 by calculating the membrane resistance of a neurons with known sizes.*"
   ]
  },
  {
   "cell_type": "markdown",
   "id": "cfc5af06-c3d6-49ee-8302-437cd725cfe8",
   "metadata": {},
   "source": [
    "..."
   ]
  },
  {
   "cell_type": "markdown",
   "id": "d19fa91f-f39a-41dc-90c4-549bbf425129",
   "metadata": {},
   "source": [
    "***Prompt 16:** Would you expect small neurons to have higher or lower capacitance than large neurons? Why?*"
   ]
  },
  {
   "cell_type": "markdown",
   "id": "4eedeade-545b-407d-b84f-cf35de4d2483",
   "metadata": {},
   "source": [
    "..."
   ]
  },
  {
   "cell_type": "markdown",
   "id": "da903e18-5b5a-4ec9-a659-574f5b6a93e4",
   "metadata": {},
   "source": [
    "***Prompt 17:** Another well-loved neurophysiology equation is $\\tau=RC$, where $R$ is resistance and $C$ is capacitance, and $\\tau$ is the time constant of the membrane. Analagous to the *space constant*, the *time constant* is the time it takes for the membrane potential to change by 63% of its original value in response to an applied current across the membrane. Use the tools you learned in this lab to describe a key experiment that would enable you to test your prediction in Prompt 15 by calculating the membrane capacitance of neurons with known sizes.*"
   ]
  },
  {
   "cell_type": "markdown",
   "id": "8cf82b2b-f56d-49b8-9877-4c0e0c4b686b",
   "metadata": {},
   "source": [
    "..."
   ]
  },
  {
   "cell_type": "code",
   "execution_count": null,
   "id": "249ec29f-1c11-4332-9b2e-d28a3559f62e",
   "metadata": {},
   "outputs": [],
   "source": []
  }
 ],
 "metadata": {
  "kernelspec": {
   "display_name": "Python 3",
   "language": "python",
   "name": "python3"
  },
  "language_info": {
   "codemirror_mode": {
    "name": "ipython",
    "version": 3
   },
   "file_extension": ".py",
   "mimetype": "text/x-python",
   "name": "python",
   "nbconvert_exporter": "python",
   "pygments_lexer": "ipython3",
   "version": "3.9.12"
  },
  "widgets": {
   "application/vnd.jupyter.widget-state+json": {
    "state": {},
    "version_major": 2,
    "version_minor": 0
   }
  }
 },
 "nbformat": 4,
 "nbformat_minor": 5
}
