{
 "cells": [
  {
   "cell_type": "markdown",
   "metadata": {},
   "source": [
    "# Basis Set Tutorial"
   ]
  },
  {
   "cell_type": "markdown",
   "metadata": {
    "id": "P7b-VwcyRkbv"
   },
   "source": [
    "We have talked a lot about \"basis sets\" this semester, and it seems like a concept that many are still struggling to build intuition for and visualize. This concept is particularly important for understanding what the cerebellum is doing for adaptive motor control (and whatever other adaptive control functions it is involved in). This notebook providees tools to examine how signals of a basis set can be combined in different proportions to produce a variety of output signals. "
   ]
  },
  {
   "cell_type": "code",
   "execution_count": null,
   "metadata": {
    "cellView": "form",
    "id": "_rdZWOYuJsPd",
    "tags": [
     "hide-input"
    ]
   },
   "outputs": [],
   "source": [
    "#@markdown TASK: run this code cell to import packages { display-mode: \"form\" }\n",
    "import numpy as np\n",
    "import pandas as pd\n",
    "import matplotlib.pyplot as plt\n",
    "from datetime import datetime,timezone,timedelta\n",
    "\n",
    "import ipywidgets as widgets  # interactive display\n",
    "plt.style.use(\"https://raw.githubusercontent.com/NeuromatchAcademy/course-content/master/nma.mplstyle\")\n",
    "my_layout = widgets.Layout()"
   ]
  },
  {
   "cell_type": "code",
   "execution_count": null,
   "metadata": {
    "cellView": "form",
    "colab": {
     "base_uri": "https://localhost:8080/",
     "height": 575
    },
    "id": "Ez4LBxwuKEq9",
    "outputId": "d83df27d-09ee-460d-b61e-062f2d45ad1d",
    "tags": [
     "hide-input"
    ]
   },
   "outputs": [],
   "source": [
    "#@markdown TASK: set the frequency for two signals in your basis set { display-mode: \"form\" }\n",
    "frequency1 = 5 #@param\n",
    "frequency2 = 10 #@param\n",
    "\n",
    "#@markdown TASK: Run this code cell to plot the two signals\n",
    "\n",
    "# sampling rate\n",
    "sr = 500.0\n",
    "# sampling interval\n",
    "ts = 1.0/sr\n",
    "t = np.arange(0,1,ts)\n",
    "\n",
    "# frequency of the signal\n",
    " \n",
    "y1 = np.sin(2*np.pi*frequency1*t)\n",
    "y2 = np.sin(2*np.pi*frequency2*t)\n",
    "\n",
    "plt.figure(figsize = (8, 8))\n",
    "plt.subplot(211)\n",
    "plt.plot(t, y1, 'purple')\n",
    "plt.ylabel('Amplitude')\n",
    "\n",
    "plt.subplot(212)\n",
    "plt.plot(t, y2, 'green')\n",
    "plt.ylabel('Amplitude')\n",
    "\n",
    "plt.xlabel('Time (s)')\n",
    "plt.show()\n"
   ]
  },
  {
   "cell_type": "markdown",
   "metadata": {
    "id": "VQ5IrXuKLgM2"
   },
   "source": [
    "You can think about these two signals as parallel fiber inputs to a post-synaptic cell. The membrane potential response of the post-synaptic cell will change based on the synaptic weight from each input. The set of inputs to the postsynaptic cell is a \"basis set\" (a set of signals that can be combinned in different proportions to create many different signals).\n",
    "\n",
    "\\begin{align}\n",
    "response = {baseline\\ spike\\ rate} + {(w_1 * y1)} + {(w_2 * y2)}\n",
    "\\end{align}"
   ]
  },
  {
   "cell_type": "code",
   "execution_count": null,
   "metadata": {
    "cellView": "form",
    "colab": {
     "base_uri": "https://localhost:8080/",
     "height": 575
    },
    "id": "iXFFqxrPKLRD",
    "outputId": "0cc1bedc-7006-4e10-b601-6657664dc2d5",
    "tags": [
     "hide-input"
    ]
   },
   "outputs": [],
   "source": [
    "#@markdown TASK: set the synaptic weight for each input { display-mode: \"form\" }\n",
    "\n",
    "w1 =  2#@param\n",
    "w2 =  3#@param\n",
    "\n",
    "#@markdown You can also change the baseline spike rate of the post-synaptic cell\n",
    "baseline_rate = 5 #@param\n",
    "\n",
    "#@markdown TASK: run this code cell to plot the response \n",
    "#@markdown of the purkinje cell to these inputs\n",
    "\n",
    "response = baseline_rate + w1*y1 + w2*y2\n",
    "\n",
    "plt.figure(figsize = (8, 8))\n",
    "plt.subplot(211)\n",
    "plt.plot(t, w1*y1, 'purple')\n",
    "plt.plot(t, w2*y2, 'green')\n",
    "plt.ylabel('Input Amplitude')\n",
    "\n",
    "plt.subplot(212)\n",
    "plt.plot(t, response, 'k')\n",
    "plt.ylabel('Response Amplitude')\n",
    "\n",
    "plt.xlabel('Time (s)')\n",
    "plt.show()"
   ]
  },
  {
   "cell_type": "code",
   "execution_count": null,
   "metadata": {
    "cellView": "form",
    "colab": {
     "base_uri": "https://localhost:8080/",
     "height": 784,
     "referenced_widgets": [
      "f92d162574224368aadc335235824070",
      "e91192de1177448ea2d099e1206103e9",
      "4054c598e4414d0492539e6d47dfd88f",
      "a62222afb8a44aeb85e2987a5ce74b30",
      "bdb334c94dda4122b015b8dfe5f32d8e",
      "a47dbb9a71cd4f1bbece9d5268f60989",
      "eaa5c9dce2f848289ea47be66903784f",
      "c1adafc7a0284b50860c0c60fbe704d2",
      "43c1702fc4d545cc9f1f6e1fe6cb0ea2",
      "510d2531735246558b1bd57bfd58a0ff",
      "a879afe581d5486494bc3a7656961e73",
      "7533e7a660cc49428acb8bb1ce8f3d4f",
      "8458ca8e05874212ba91c5a29bf8e999",
      "ae197f9bd8634b9fb6d6f058aa1e7090",
      "1e2a21892abd42c1aa651f992841ced0",
      "a069aecbb1dc45c7944d8db59d9cad31",
      "e9e6434aa65a4bd1873d0ac95a9f27f8"
     ]
    },
    "id": "RE79CkzOOdFz",
    "outputId": "c248999c-4f12-4230-b115-d32889cab122",
    "tags": [
     "hide-input"
    ]
   },
   "outputs": [],
   "source": [
    "#@markdown TASK: run this code cell and then slide the widgets { display-mode: \"form\" }\n",
    "#@markdown to set the synaptic weight on each of 5 different basis set signals\n",
    "#@markdown > The plots of each input and the net response of the postsynaptic cell will update accordingly\n",
    "my_layout.width = '450px'\n",
    "\n",
    "\n",
    "@widgets.interact(\n",
    "    w1=widgets.FloatSlider(0., min=0., max=10., step=1.,\n",
    "                               layout=my_layout),\n",
    "    w2=widgets.FloatSlider(0., min=0., max=10., step=1.,\n",
    "                               layout=my_layout),\n",
    "    w3=widgets.FloatSlider(0., min=0., max=10., step=1.,\n",
    "                               layout=my_layout),\n",
    "    w4=widgets.FloatSlider(0., min=0., max=10., step=1.,\n",
    "                               layout=my_layout),  \n",
    "    w5=widgets.FloatSlider(0., min=0., max=10., step=1.,\n",
    "                               layout=my_layout),  \n",
    "    baseline_rate=widgets.FloatSlider(0., min=0., max=10., step=1.,\n",
    "                               layout=my_layout)\n",
    "                  )\n",
    "\n",
    "def basis_set_combine(w1,w2,w3,w4,w5,baseline_rate):\n",
    "    \n",
    "    y1 = np.sin(2*np.pi*2*t)\n",
    "    y2 = np.sin(2*np.pi*4*t)\n",
    "    y3 = np.sin(2*np.pi*6*t)\n",
    "    y4 = np.sin(2*np.pi*8*t)\n",
    "    y5 = np.sin(2*np.pi*10*t)\n",
    "\n",
    "    response = baseline_rate + w1*y1 + w2*y2 + w3*y3 + w4*y4 + w5*y5\n",
    "\n",
    "    plt.figure(figsize = (8, 8))\n",
    "    plt.subplot(211)\n",
    "    plt.plot(t, w1*y1, 'purple')\n",
    "    plt.plot(t, w2*y2, 'green')\n",
    "    plt.plot(t, w3*y3, 'orange')\n",
    "    plt.plot(t, w4*y4, 'brown')\n",
    "    plt.plot(t, w5*y5, 'blue')\n",
    "    plt.ylabel('Input Amplitude')\n",
    "\n",
    "    plt.subplot(212)\n",
    "    plt.plot(t, response, 'k')\n",
    "    plt.ylabel('Response Amplitude')\n",
    "\n",
    "    plt.xlabel('Time (s)')\n",
    "    plt.show() \n",
    "print('Interactive demo initiated at ' + str(datetime.now(timezone(-timedelta(hours=5)))))"
   ]
  },
  {
   "cell_type": "markdown",
   "metadata": {
    "tags": []
   },
   "source": [
    "<hr>\n",
    "\n",
    "Written by Dr. Krista Perks for courses taught at Wesleyan University"
   ]
  },
  {
   "cell_type": "code",
   "execution_count": null,
   "metadata": {},
   "outputs": [],
   "source": []
  }
 ],
 "metadata": {
  "colab": {
   "collapsed_sections": [],
   "name": "BasisSets.ipynb",
   "provenance": [],
   "toc_visible": true
  },
  "kernelspec": {
   "display_name": "Python 3",
   "language": "python",
   "name": "python3"
  },
  "language_info": {
   "codemirror_mode": {
    "name": "ipython",
    "version": 3
   },
   "file_extension": ".py",
   "mimetype": "text/x-python",
   "name": "python",
   "nbconvert_exporter": "python",
   "pygments_lexer": "ipython3",
   "version": "3.9.12"
  },
  "widgets": {
   "application/vnd.jupyter.widget-state+json": {
    "state": {},
    "version_major": 2,
    "version_minor": 0
   }
  }
 },
 "nbformat": 4,
 "nbformat_minor": 4
}
