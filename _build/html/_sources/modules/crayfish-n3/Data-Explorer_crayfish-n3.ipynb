{
 "cells": [
  {
   "cell_type": "markdown",
   "id": "32647951-7dcf-4553-b42a-5d8508d95cf9",
   "metadata": {},
   "source": [
    "<a href=\"https://colab.research.google.com/github/neurologic/Neurophysiology-Lab/blob/main/week-6/Motor-Nerve.ipynb\" target=\"_blank\" rel=\"noopener noreferrer\"><img alt=\"Open In Colab\" src=\"https://colab.research.google.com/assets/colab-badge.svg\"/></a>   "
   ]
  },
  {
   "cell_type": "markdown",
   "id": "38b445ff-7cf7-442e-bb25-83afe6d5a3fb",
   "metadata": {},
   "source": [
    "<a id=\"intro\"></a>\n",
    "# Motor Neuron Coding\n",
    "\n",
    "The superficial flexor muscle of the crayfish is innervated by a small number of motor neurons. Because each motor neuron has a different axon diameter, you can tell them apart in your recording. \n"
   ]
  },
  {
   "cell_type": "markdown",
   "id": "f07451ff-cf56-4763-b4ac-bd099ba1f145",
   "metadata": {},
   "source": [
    "<a id=\"toc\"></a>\n",
    "# Table of Contents\n",
    "\n",
    "- [Introduction](#intro)\n",
    "- [Setup](#setup)\n",
    "- [Part I. Process Data](#one)\n",
    "- [Part II. Motor Neuron Activity](#two)\n"
   ]
  },
  {
   "cell_type": "markdown",
   "id": "488d476b-9387-43d7-b4bf-0528d9f4950a",
   "metadata": {},
   "source": [
    "<a id=\"setup\"></a>\n",
    "# Setup\n",
    "\n",
    "[toc](#toc)"
   ]
  },
  {
   "cell_type": "markdown",
   "id": "b94f344a-8c2a-4080-b972-8e7a30c91e66",
   "metadata": {},
   "source": [
    "Import and define functions"
   ]
  },
  {
   "cell_type": "code",
   "execution_count": null,
   "id": "be70dacf-b862-4afa-8fc0-dce8c363fdf9",
   "metadata": {
    "tags": [
     "hide-input"
    ]
   },
   "outputs": [],
   "source": [
    "#@title {display-mode: \"form\"}\n",
    "\n",
    "#@markdown Run this code cell to import packages and define functions \n",
    "from pathlib import Path\n",
    "import random\n",
    "import numpy as np\n",
    "import pandas as pd\n",
    "import plotly.express as px\n",
    "import plotly.graph_objects as go\n",
    "from plotly.subplots import make_subplots\n",
    "from scipy import ndimage\n",
    "from scipy.signal import hilbert,medfilt,resample, find_peaks\n",
    "import seaborn as sns\n",
    "import matplotlib.pyplot as plt\n",
    "from sklearn.decomposition import PCA\n",
    "from sklearn.cluster import KMeans\n",
    "from datetime import datetime,timezone,timedelta\n",
    "pal = sns.color_palette(n_colors=15)\n",
    "pal = pal.as_hex()\n",
    "\n",
    "from ipywidgets import interactive, HBox, VBox, widgets, interact\n",
    "\n",
    "print('Task completed at ' + str(datetime.now(timezone(-timedelta(hours=5)))))"
   ]
  },
  {
   "cell_type": "markdown",
   "id": "f91a09e1-c305-4809-8302-c1fad4140efa",
   "metadata": {},
   "source": [
    "Mount Google Drive"
   ]
  },
  {
   "cell_type": "code",
   "execution_count": null,
   "id": "2b3a4500-470b-44e3-8572-a0d55f3bc1cb",
   "metadata": {
    "tags": [
     "hide-input"
    ]
   },
   "outputs": [],
   "source": [
    "#@title {display-mode: \"form\"}\n",
    "\n",
    "#@markdown Run this cell to mount your Google Drive.\n",
    "\n",
    "from google.colab import drive\n",
    "drive.mount('/content/drive')\n",
    "\n",
    "print('Task completed at ' + str(datetime.now(timezone(-timedelta(hours=5)))))"
   ]
  },
  {
   "cell_type": "markdown",
   "id": "61aa1776-ad44-4487-ad14-9dfe050de305",
   "metadata": {},
   "source": [
    "Import data digitized with *Nidaq USB6211* and recorded using *Bonsai-rx* as a *.bin* file"
   ]
  },
  {
   "cell_type": "code",
   "execution_count": null,
   "id": "b4e462b0-3e79-4f68-ac93-4a5ed2a83696",
   "metadata": {
    "tags": [
     "hide-input"
    ]
   },
   "outputs": [],
   "source": [
    "#@title {display-mode: \"form\"}\n",
    "\n",
    "#@markdown Specify the file path \n",
    "#@markdown to your recorded data on Drive (find the filepath in the colab file manager:\n",
    "\n",
    "filepath = \"full filepath goes here\"  #@param \n",
    "filepath = \"/Users/kperks/mnt/OneDrive - wesleyan.edu/Teaching/Neurophysiology_FA21/Data/CrayfishNerve3/20211010_KP_SampleRate_SpikeRate/MotorNerve_30k2021-10-10T11_37_21.bin\"\n",
    "#@markdown Specify the sampling rate and number of channels recorded.\n",
    "\n",
    "sampling_rate = None #@param\n",
    "number_channels = None #@param\n",
    "\n",
    "sampling_rate = 30000 #@param\n",
    "number_channels = 2 #@param\n",
    "\n",
    "downsample = False #@param\n",
    "newfs = 2500 #@param\n",
    "\n",
    "#@markdown After you have filled out all form fields, \n",
    "#@markdown run this code cell to load the data. \n",
    "\n",
    "filepath = Path(filepath)\n",
    "\n",
    "# No need to edit below this line\n",
    "#################################\n",
    "data = np.fromfile(Path(filepath), dtype = np.float64)\n",
    "data = data.reshape(-1,number_channels)\n",
    "data = data-data[0,:] # only do this offset adjustment for motor nerve recordings\n",
    "\n",
    "dur = np.shape(data)[0]/sampling_rate\n",
    "print('duration of recording was %0.2f seconds' %dur)\n",
    "\n",
    "fs = sampling_rate\n",
    "if downsample:\n",
    "    # newfs = 2500 #downsample data\n",
    "    chunksize = int(sampling_rate/newfs)\n",
    "    if number_channels>1:\n",
    "        data = data[0::chunksize,:]\n",
    "    if number_channels==1:\n",
    "        data = data[0::chunksize]\n",
    "    fs = int(np.shape(data)[0]/dur)\n",
    "\n",
    "time = np.linspace(0,dur,np.shape(data)[0])\n",
    "\n",
    "if len(np.shape(data))>1:\n",
    "    channel = 1\n",
    "    channel_signal = data[:,channel]\n",
    "if len(np.shape(data))==1:\n",
    "    channel_signal = data\n",
    "\n",
    "print('Now be a bit patient while it plots.')\n",
    "\n",
    "f = go.FigureWidget(make_subplots(rows=1, cols=1, shared_xaxes= True)) #,layout=go.Layout(height=500, width=800))\n",
    "f.add_trace(go.Scatter(x = time[0:fs], y = channel_signal[0:fs],\n",
    "                             opacity=1),row=1,col=1)\n",
    "\n",
    "f.update_layout(height=600, width=800,\n",
    "                showlegend=False,\n",
    "               xaxis_title=\"time(seconds)\", \n",
    "                  yaxis_title='voltage')\n",
    "\n",
    "slider = widgets.FloatRangeSlider(\n",
    "    min=0,\n",
    "    max=dur,\n",
    "    value=(0,1),\n",
    "    step= 1,\n",
    "    readout=False,\n",
    "    description='Time')\n",
    "slider.layout.width = '600px'\n",
    "\n",
    "# our function that will modify the xaxis range\n",
    "def response(x):\n",
    "    with f.batch_update():\n",
    "        starti = int(x[0]*fs)\n",
    "        stopi = int(x[1]*fs)\n",
    "        f.data[0].x = time[starti:stopi]\n",
    "        f.data[0].y = channel_signal[starti:stopi]\n",
    "\n",
    "vb = VBox((f, interactive(response, x=slider)))\n",
    "vb.layout.align_items = 'center'\n",
    "vb\n"
   ]
  },
  {
   "cell_type": "markdown",
   "id": "cf2c33d6-76cb-44ed-83f0-c084999c58de",
   "metadata": {},
   "source": [
    "<a id=\"one\"></a>\n",
    "\n",
    "# Part I. Process Data\n",
    "\n",
    "[toc](#toc)\n",
    "\n",
    "Decide what portion of the raw data you want to analyze (maybe your data file contains multiple conditions, maybe there was some bad noise during part of your recording, or the nerve was lost before the end of the recording, or you accidentally forgot to stop the recording, etc...). \n",
    "\n",
    "If you want to analyze spiking activity (calculating rate, for example), you could look through your raw data and write down each time you see a spike. \n",
    "\n",
    "There are lots of computational tools for automating this process. Computers can also help you extract patterns from large amounts of data (for example different \"classes\" of spike waveform). In neuroscience research, the process of clustering spiking events based on their amplitude and waveform is termed the \"spike sorting.\"\n",
    "\n",
    "For this dataset, you will proocess the data using the following sequence of steps:\n",
    "\n",
    "1. [Select Data](#select-data)\n",
    "2. [Detect Peaks](#detect-spikes)\n",
    "3. [Cluster Events](#cluster-events)\n",
    "\n",
    "    a. [Kmeans](#kmeans)\n",
    "    \n",
    "    b. [Visualize](#display-clusters)\n",
    "    \n",
    "    c. [Merge Clusters](#merge-clusters)\n",
    "    \n",
    "    d. [Check putative unit identity in raw data](#raw-cluster-scatter)\n",
    " "
   ]
  },
  {
   "cell_type": "markdown",
   "id": "935703c0-6ce7-4143-b7ee-3a79e7912ecb",
   "metadata": {},
   "source": [
    "<a id='select-data'></a>\n",
    "\n",
    "## 1. Select Data\n",
    "\n",
    "Specify the timerange for the data you want to analyze."
   ]
  },
  {
   "cell_type": "code",
   "execution_count": null,
   "id": "a38a3203-9937-413c-8537-adebc5e20256",
   "metadata": {
    "cellView": "form",
    "id": "iE2MylaxTGpL",
    "tags": [
     "hide-input"
    ]
   },
   "outputs": [],
   "source": [
    "#@title { display-mode: \"form\" }\n",
    "\n",
    "#@markdown Type in the start and stop time (in seconds) \n",
    "#@markdown that specifies the section of your recording you want to focus on for analysis.\n",
    "start_time =   None #@param {type: \"number\"}\n",
    "stop_time = None  #@param {type: \"number\"}\n",
    "\n",
    "# start_time =   0 #@param {type: \"number\"}\n",
    "# stop_time = 153  #@param {type: \"number\"}"
   ]
  },
  {
   "cell_type": "markdown",
   "id": "f7fbb279-c986-469a-bc5e-a80ea99bcd00",
   "metadata": {},
   "source": [
    "<a id='detect-spikes'></a>\n",
    "\n",
    "## 2. Detect Peaks\n",
    "Detect peaks in the signal\n",
    "\n",
    "First, in the code cell below, write a simple script that:\n",
    "- calculates the standard deviation of voltage in the raw signal using the ```np.std()``` module to store the result as a variable called \"<b>SD</b>\". \n",
    "- uses the ```print()``` function to print the value stored in the variable ```SD``` as an output of the code cell. \n",
    "- calculates the value equal to 5 times the standard deviation and stores the result as a variable called \"<b>threshold</b>\". \n",
    "- uses the ```print()``` function to print the value stored in the variable ```threshold``` as an output of the code cell. "
   ]
  },
  {
   "cell_type": "code",
   "execution_count": null,
   "id": "f63069a5-35e4-417b-ae3a-2a0247cd89d2",
   "metadata": {},
   "outputs": [],
   "source": [
    "..."
   ]
  },
  {
   "cell_type": "markdown",
   "id": "a27c71d7-4604-4aa5-a872-df5e4c904b6f",
   "metadata": {},
   "source": [
    "Then use the result to determine a spike detection threshold used by the ```find peaks``` algorithm in the following code cell"
   ]
  },
  {
   "cell_type": "code",
   "execution_count": null,
   "id": "92373268-8c30-4586-9ab9-0a0afe26b410",
   "metadata": {},
   "outputs": [],
   "source": [
    "np.shape([0]*sum(inwin_inds))\n",
    "inwin_inds"
   ]
  },
  {
   "cell_type": "code",
   "execution_count": null,
   "id": "759ce2fe-cb7b-45c6-9d7f-27f50cff6e80",
   "metadata": {
    "cellView": "form",
    "id": "iE2MylaxTGpL",
    "tags": [
     "hide-input"
    ]
   },
   "outputs": [],
   "source": [
    "#@title { display-mode: \"form\" }\n",
    "\n",
    "#@markdown Type in the threshold amplitude for event detection determined by your SD calculations.\n",
    "spike_detection_threshold = None  #@param {type: \"number\"}\n",
    "# spike_detection_threshold = 0.1  #@param {type: \"number\"}\n",
    "\n",
    "#@markdown Then from the dropdown, select a polarity (whether peaks are up or down)\n",
    "peaks = \"select peak direction\"  #@param ['select peak direction','up', 'down']\n",
    "# peaks = \"up\"  #@param ['select peak direction','up', 'down']\n",
    "\n",
    "#@markdown Finally, run this cell to set these values and plot a histogram of peak amplitudes.\n",
    "\n",
    "\n",
    "if peaks=='up': polarity = 1\n",
    "if peaks=='down': polarity=-1\n",
    "\n",
    "min_isi = 0.001 #seconds\n",
    "\n",
    "peaks,props = find_peaks(polarity * channel_signal,height=spike_detection_threshold, \n",
    "                         prominence = spike_detection_threshold, distance=int(min_isi*fs))\n",
    "peaks_t = peaks/fs\n",
    "inwin_inds = ((peaks_t>start_time) & (peaks_t<stop_time))\n",
    "df_props = pd.DataFrame({\n",
    "        'height': props['peak_heights'][inwin_inds],\n",
    "        'spikeT' : peaks_t[inwin_inds],\n",
    "        'spikeInd' : peaks[inwin_inds],\n",
    "        'cluster' : [0]*sum(inwin_inds)\n",
    "            })\n",
    "\n",
    "bins = np.linspace(0,np.abs(np.max(polarity*channel_signal)),200)\n",
    "n,_ = np.histogram(df_props['height'],bins = bins) # calculate the histogram\n",
    "hfig,ax = plt.subplots(1)\n",
    "ax.step(bins[1:],n,color='black')\n",
    "ax.set_ylabel('count',fontsize=14)\n",
    "ax.set_xlabel('amplitude',fontsize=14)\n",
    "plt.xticks(fontsize=14)\n",
    "plt.yticks(fontsize=14)\n",
    "\n",
    "windur = 0.003\n",
    "winsamp = int(windur*fs)\n",
    "spkarray = []\n",
    "for i in df_props['spikeInd'].values:\n",
    "    spkarray.append(channel_signal[i-winsamp : i+winsamp+1])\n",
    "\n",
    "df = pd.DataFrame(np.asarray(spkarray).T)\n",
    "df_norm =(df - df.mean()) / df.std() # normalize for pca\n",
    "\n",
    "n_components=5 #df.shape[0] \n",
    "pca = PCA(n_components=n_components)\n",
    "pca.fit(df_norm)\n",
    "df_pca = pd.DataFrame(pca.transform(df), columns=['PC%i' % i for i in range(n_components)], index=df.index)\n",
    "print('You detected %i events above threshold.' %len(df.columns))\n",
    "\n",
    "loadings = pd.DataFrame(pca.components_.T, columns=df_pca.columns, index=df.columns)\n",
    "df_data = loadings.join(df_props['height'])\n",
    "\n",
    "hfig,ax = plt.subplots(1)\n",
    "ax.set_xlabel('event time (sec)',fontsize=14)\n",
    "ax.set_ylabel('amplitude (volts)',fontsize=14)\n",
    "plt.xticks(fontsize=14)\n",
    "plt.yticks(fontsize=14)\n",
    "ax.set_ylim(0,np.abs(np.max(polarity*channel_signal)))\n",
    "ax.scatter(df_props['spikeT'],df_props['height'],color='black')\n",
    "\n",
    "print('Tasks completed at ' + str(datetime.now(timezone(-timedelta(hours=5)))))"
   ]
  },
  {
   "cell_type": "markdown",
   "id": "a8707048-f3a1-47a3-b3c3-63018d7cbce2",
   "metadata": {
    "tags": []
   },
   "source": [
    "<a id = \"cluster-events\"></a>\n",
    "\n",
    "## 3. Cluster\n",
    "Cluster events if needed. \n",
    "\n",
    "The histogram plot produced in the last step can give you a sense for how many distinct neurons might be in your recording. The scatter plot of peak amplitude across time can give you a sense for how stable the recording was. If you had good recording stability, you can cluster spike events categorically to analyze the activity of individual neurons independently. \n",
    "\n",
    "If your recording is not stable, or is too noisy, then you may not be able to distinguish cell types. In this case, skip this clustering step. You will only have one cluster and its identity will be '0'. \n",
    "\n",
    "Clustering steps:\n",
    "- [Kmeans](#kmeans)\n",
    "- [Visualize](#display-clusters)\n",
    "- [Merge Clusters](#merge-clusters)\n",
    "- [Check event categorization against raw data](#raw-cluster-scatter)\n",
    " "
   ]
  },
  {
   "cell_type": "markdown",
   "id": "c62d6e81-675a-41e6-837b-007b6fc39ec2",
   "metadata": {
    "tags": []
   },
   "source": [
    "<a id='kmeans'></a>\n",
    "\n",
    "### Kmeans\n",
    "\n",
    "We can cluster events based on peak height and waveform shape using [\"Kmeans\"](https://scikit-learn.org/stable/modules/generated/sklearn.cluster.KMeans.html) clustering. \n",
    "This will provide us with \"putative single units\" for further analysis."
   ]
  },
  {
   "cell_type": "code",
   "execution_count": null,
   "id": "50ae2026-bf2a-45de-932d-6f3919db3156",
   "metadata": {
    "cellView": "form",
    "id": "4e574ce9-d314-4a20-918b-f2496260c9a8",
    "tags": [
     "hide-input"
    ]
   },
   "outputs": [],
   "source": [
    "#@title { display-mode: \"form\" }\n",
    "\n",
    "#@markdown Choose the number of clusters you want to split the event-based data into and type that number below. <br>\n",
    "#@markdown >Note: It can sometimes help to \"over-split\" the events into more clusters \n",
    "#@markdown than you think will be necessary. You can try both strategies and assess the results.\n",
    "number_of_clusters = None #@param\n",
    "# number_of_clusters = 1\n",
    "#@markdown Then run this cell to run the Kmeans algorithm. \n",
    "\n",
    "# No need to edit below this line\n",
    "#################################\n",
    "\n",
    "kmeans = KMeans(n_clusters=number_of_clusters).fit(df_data)\n",
    "# df_props['peaks_t'] = peaks_t\n",
    "df_props['cluster'] = kmeans.labels_"
   ]
  },
  {
   "cell_type": "markdown",
   "id": "bef083a2-9ce5-4a54-8b4e-460ace0ef46d",
   "metadata": {},
   "source": [
    "<a id = \"display-clusters\"></a>\n",
    "\n",
    "### Visualize \n",
    "\n",
    "Now that the events are clustered, you can visualize the mean spike waveform associated with each cluster (putative motor neuron)."
   ]
  },
  {
   "cell_type": "code",
   "execution_count": null,
   "id": "7c687c41-02bc-425c-a66b-fa109cab2680",
   "metadata": {
    "cellView": "form",
    "id": "4e574ce9-d314-4a20-918b-f2496260c9a8",
    "tags": [
     "hide-input"
    ]
   },
   "outputs": [],
   "source": [
    "#@title {display-mode:'form'}\n",
    "\n",
    "#@markdown Run this cell to display the mean (and std) waveform for each cluster.\n",
    "\n",
    "#@markdown Specify the time before and after each event peak to plot.\n",
    "windur = 0.003 #@param\n",
    "\n",
    "winsamps = int(windur * fs)\n",
    "x = np.linspace(-windur,windur,winsamps*2)*1000\n",
    "hfig,ax = plt.subplots(1,figsize=(8,6))\n",
    "ax.set_ylabel('Volts recorded',fontsize=14)\n",
    "ax.set_xlabel('milliseconds',fontsize=14)\n",
    "plt.xticks(fontsize=14)\n",
    "plt.yticks(fontsize=14)\n",
    "\n",
    "for k in np.unique(df_props['cluster']):\n",
    "    spkt = df_props.loc[df_props['cluster']==k]['spikeT'].values #['peaks_t'].values\n",
    "    spkt = spkt[(spkt>windur) & (spkt<(len(channel_signal)/fs)-windur)]\n",
    "    print(str(len(spkt)) + \" spikes in cluster number \" + str(k))\n",
    "    spkwav = np.asarray([channel_signal[(int(t*fs)-winsamps):(int(t*fs)+winsamps)] for t in spkt])\n",
    "    wav_u = np.mean(spkwav,0)\n",
    "    wav_std = np.std(spkwav,0)\n",
    "    ax.plot(x,wav_u,linewidth = 3,label='cluster '+ str(k),color=pal[k])\n",
    "    ax.fill_between(x, wav_u-wav_std, wav_u+wav_std, alpha = 0.25,color=pal[k])\n",
    "plt.legend(bbox_to_anchor=[1.25,1],fontsize=14);\n",
    "\n",
    "print('Tasks completed at ' + str(datetime.now(timezone(-timedelta(hours=5)))))"
   ]
  },
  {
   "cell_type": "markdown",
   "id": "498fd2f1-d1ac-416c-ac8d-8eccb7d4435c",
   "metadata": {
    "id": "9iyWsThmXdI_"
   },
   "source": [
    "<a id='merge-clusters'></a>\n",
    "\n",
    "### Merge Clusters\n",
    "You can skip this step if unecessary. \n",
    "If there are multiple spike clusters you want to merge into a single cell class, *edit and run* the cell below.\n",
    "\n",
    "> **merge_cluster_list** = a list of the clusters (identified by numbers associated with the colors specified in the legend above).\n",
    "  - **For example**, the folowing list would merge clusters 0 and 2 together and 1, 4, and 3 together: <br>\n",
    "     **merge_cluster_list = [[0,2],[1,4,3]]**\n",
    "  - For each merge group, the first cluster number listed will be the re-asigned cluster number for that group (for example, in this case you would end up with a cluster number 0 and a cluster number 1). \n",
    "  "
   ]
  },
  {
   "cell_type": "code",
   "execution_count": null,
   "id": "87ac1f0b-d69c-4848-9392-4aae80abc0f1",
   "metadata": {
    "cellView": "form",
    "id": "EDJgd8DAXRba",
    "tags": [
     "hide-input"
    ]
   },
   "outputs": [],
   "source": [
    "#@title { display-mode: \"form\" }\n",
    "\n",
    "#@markdown ONLY USE THIS CODE CELL IF YOU WANT TO MERGE CLUSTERS. \n",
    "#@markdown OTHERWISE, MOVE ON. \n",
    "#@markdown <br> Below, create your list (of sublists) of clusters to merge.\n",
    "#@markdown >Just leave out from the list any clusters that you want unmerged.\n",
    "merge_cluster_list = [[0,3,4],[1,2]] #@param\n",
    "#@markdown Then, run this cell to merge clusters as specified.\n",
    "\n",
    "for k_group in merge_cluster_list:\n",
    "    for k in k_group:\n",
    "        df_props.loc[df_props['cluster']==k,'cluster'] = k_group[0]\n",
    "print('you now have the following clusters: ' + str(np.unique(df_props['cluster'])))\n",
    "\n",
    "print('Tasks completed at ' + str(datetime.now(timezone(-timedelta(hours=5)))))\n"
   ]
  },
  {
   "cell_type": "markdown",
   "id": "f6031a23-3446-4722-9b64-2d1b06850a9c",
   "metadata": {},
   "source": [
    "After merging, return to the [display clusters](#display-clusters) code cell to plot the mean waveform of each new cluster (and determine if you need to [merge more](#merge-clusters))."
   ]
  },
  {
   "cell_type": "markdown",
   "id": "8e6b4b72-3ca2-4c0a-b281-b2196ef0b046",
   "metadata": {},
   "source": [
    "<a id=\"raw-cluster-scatter\"></a>\n",
    "\n",
    "### Check event categorization against raw data.\n",
    "\n",
    "Once you are happy with the clustering results based on the waveform shapes, check back with the raw data. "
   ]
  },
  {
   "cell_type": "code",
   "execution_count": null,
   "id": "e343d98b-7f77-4706-8104-259f6729ba14",
   "metadata": {
    "tags": [
     "hide-input"
    ]
   },
   "outputs": [],
   "source": [
    "#@title {display-mode:\"form\"}\n",
    "\n",
    "#@markdown Run this cell to overlay spike times by cluster identity on the raw signal\n",
    "\n",
    "f = go.FigureWidget()\n",
    "f.add_trace(go.Scatter(x = time[0:fs], y = channel_signal[0:fs],\n",
    "                             name='pre synaptic',opacity=1,line_color='black'))\n",
    "for k in np.unique(df_props['cluster']):\n",
    "    start = 0 \n",
    "    stop = 1\n",
    "    inwin_inds = np.asarray([(df_props['spikeT'].values>start) & (df_props['spikeT'].values<stop)]).T\n",
    "    df_ = df_props[inwin_inds]\n",
    "    df_ = df_[df_['cluster']==k]\n",
    "    \n",
    "    f.add_trace(go.Scatter(x = df_['spikeT'], y = polarity*df_['height'],\n",
    "                             line_color=pal[k],name=str(k) + ' times',mode='markers'))\n",
    "    \n",
    "f.update_layout(height=600, width=800,\n",
    "               xaxis_title=\"time(seconds)\", \n",
    "                  yaxis_title='amplitude (volts)')\n",
    "\n",
    "\n",
    "slider = widgets.FloatRangeSlider(\n",
    "    min=0,\n",
    "    max=dur,\n",
    "    value=(0,1),\n",
    "    step= 1,\n",
    "    readout=False,\n",
    "    description='Time')\n",
    "slider.layout.width = '800px'\n",
    "\n",
    "# our function that will modify the xaxis range\n",
    "def response(x):\n",
    "    with f.batch_update():\n",
    "        starti = int(x[0]*fs)\n",
    "        stopi = int(x[1]*fs)\n",
    "        f.data[0].x = time[starti:stopi]\n",
    "        f.data[0].y = channel_signal[starti:stopi]\n",
    "        for i,k in enumerate(np.unique(df_props['cluster'])):\n",
    "            inwin_inds = np.asarray([(df_props['spikeT'].values>x[0]) & (df_props['spikeT'].values<x[1])]).T\n",
    "            df_ = df_props[inwin_inds]\n",
    "            df_ = df_[df_['cluster']==k]\n",
    "            f.data[1+i].x = df_['spikeT']\n",
    "            f.data[1+i].y = polarity*df_['height']\n",
    "\n",
    "vb = VBox((f, interactive(response, x=slider)))\n",
    "vb.layout.align_items = 'center'\n",
    "vb\n"
   ]
  },
  {
   "cell_type": "markdown",
   "id": "b8b5f807-2049-4bb7-bc25-834ae1f221e4",
   "metadata": {},
   "source": [
    "If you think that two different spike waveforms are being lumped together, try going back to the [Kmeans clustering algorithm](#kmeans) and increasing the cluster number constraint on the Kmeans algorithm - then [merge](#merge-clusters) as needed. "
   ]
  },
  {
   "cell_type": "markdown",
   "id": "dd727a14-c83f-4bc1-91d7-59cb24049341",
   "metadata": {},
   "source": [
    "<a id=\"two\"></a>\n",
    "# Part II. Motor Neuron activity\n",
    "\n",
    "[toc](#toc)\n",
    "\n",
    "How do different motor neuron types differ in their activity? How do different sensory conditions effect motor neuron activity? You can explore the answers to these questions using your data and simple analysis of spike rate and spike rate distribution. "
   ]
  },
  {
   "cell_type": "code",
   "execution_count": null,
   "id": "af7768be-1a3a-4e19-95ba-2713707c4c99",
   "metadata": {
    "tags": [
     "hide-input"
    ]
   },
   "outputs": [],
   "source": [
    "#@title {display-mode:\"form\"}]\n",
    "\n",
    "#@markdown Run this code cell to plot a normalized histogram of inter-spike-interval (ISI; the time between spikes) for each cluster overlaid\n",
    "#@markdown Within each cluster, the histogram is normalized by the total number of spikes. \n",
    "\n",
    "f = go.FigureWidget()\n",
    "\n",
    "for k in np.unique(df_props['cluster']):\n",
    "    spkt = df_props.loc[df_props['cluster']==k]['spikeT'].values * 1000\n",
    "    n,bins = np.histogram(np.diff(spkt),100)\n",
    "    f.add_trace(go.Scatter(x = bins[1:], y = n/sum(n), opacity = 0.5, name = 'cluster ' + str(k)))\n",
    "    \n",
    "f.update_layout(height=600, width=800,\n",
    "               xaxis_title=\"ISI (milliseconds)\", \n",
    "                  yaxis_title='proportion')"
   ]
  },
  {
   "cell_type": "code",
   "execution_count": null,
   "id": "c3646f36-0243-42fe-85dd-270415da26ef",
   "metadata": {
    "tags": [
     "hide-input"
    ]
   },
   "outputs": [],
   "source": [
    "#@title {display-mode:\"form\"}\n",
    "\n",
    "#@markdown Run this code cell to plot: 1) a histogram of inter-spike-interval (ISI; the time between spikes)\n",
    "#@markdown and 2) a scatter of ISI across time for individual clusters.\n",
    "\n",
    "#@markdown <br> Once you run this code cell a first time, you will be able to select different clusters from the dropdown menu to change the plot data accordingly.\n",
    "\n",
    "\n",
    "k = df_props['cluster'][0] #seed it to start\n",
    "\n",
    "f = go.FigureWidget(make_subplots(rows=2,cols=1))\n",
    "\n",
    "bins = np.arange(0,202,2)\n",
    "spkt = df_props.loc[df_props['cluster']==k]['spikeT'].values * 1000\n",
    "n,_ = np.histogram(np.diff(spkt),bins)\n",
    "\n",
    "f.add_trace(go.Scatter(x = bins[1:], y = n/sum(n), line_color = 'black'),row=1,col=1)\n",
    "\n",
    "isi = np.diff(spkt)\n",
    "f.add_trace(go.Scatter(x = spkt[1:], y = isi, line_color = 'black', mode='markers'),row=1,col=1)\n",
    "\n",
    "    \n",
    "f.update_layout(height=600, width=800,\n",
    "                showlegend=False,\n",
    "                xaxis_title=\"isi (milliseconds)\",\n",
    "               xaxis2_title=\"time (milliseconds)\", \n",
    "                  yaxis_title='proportion',yaxis2_title='isi (milliseconds)')\n",
    "\n",
    "cluster_select = widgets.Dropdown(\n",
    "    options=np.unique(df_props['cluster']),\n",
    "    value=k,\n",
    "    description='Cluster ID:',\n",
    "    disabled=False,\n",
    "    )\n",
    "\n",
    "\n",
    "# our function that will modify the xaxis range\n",
    "def response(k):\n",
    "    with f.batch_update():\n",
    "        spkt = df_props.loc[df_props['cluster']==k]['spikeT'].values * 1000\n",
    "        n,_ = np.histogram(np.diff(spkt),bins)\n",
    "        isi = np.diff(spkt)\n",
    "\n",
    "        f.data[0].x = bins[1:]\n",
    "        f.data[0].y = n/sum(n)\n",
    "        \n",
    "        f.data[1].x = spkt[1:]\n",
    "        f.data[1].y = isi\n",
    "\n",
    "\n",
    "vb = VBox((f, interactive(response, k=cluster_select)))\n",
    "vb.layout.align_items = 'center'\n",
    "vb"
   ]
  },
  {
   "cell_type": "markdown",
   "id": "d451b557-6777-4492-955e-a41130ad39b9",
   "metadata": {},
   "source": [
    "<hr> \n",
    "Written by Dr. Krista Perks for courses taught at Wesleyan University."
   ]
  },
  {
   "cell_type": "code",
   "execution_count": null,
   "id": "5c707588-d5f6-4142-8289-da7ba6a97dbc",
   "metadata": {},
   "outputs": [],
   "source": []
  },
  {
   "cell_type": "markdown",
   "id": "57a8a68c-055e-4af0-ba4d-67d0d67148f1",
   "metadata": {},
   "source": [
    "<a id=\"setup\"></a>"
   ]
  },
  {
   "cell_type": "markdown",
   "id": "a350712e-e145-4475-9588-e3f19469b5ce",
   "metadata": {},
   "source": [
    "<a id=\"one\"></a>"
   ]
  },
  {
   "cell_type": "markdown",
   "id": "86fd2b4a-b890-465f-bf33-c2057738789e",
   "metadata": {},
   "source": [
    "<a id=\"two\"></a>"
   ]
  },
  {
   "cell_type": "markdown",
   "id": "b05de192-2baf-4d46-8848-6db1e3b50bff",
   "metadata": {},
   "source": [
    "<a id=\"three\"></a>"
   ]
  },
  {
   "cell_type": "markdown",
   "id": "e6519277-fc86-44fd-a75b-f74cad0efcf1",
   "metadata": {},
   "source": [
    "<a id=\"four\"></a>"
   ]
  }
 ],
 "metadata": {
  "kernelspec": {
   "display_name": "Python 3 (ipykernel)",
   "language": "python",
   "name": "python3"
  },
  "language_info": {
   "codemirror_mode": {
    "name": "ipython",
    "version": 3
   },
   "file_extension": ".py",
   "mimetype": "text/x-python",
   "name": "python",
   "nbconvert_exporter": "python",
   "pygments_lexer": "ipython3",
   "version": "3.8.13"
  },
  "widgets": {
   "application/vnd.jupyter.widget-state+json": {
    "state": {},
    "version_major": 2,
    "version_minor": 0
   }
  }
 },
 "nbformat": 4,
 "nbformat_minor": 5
}
