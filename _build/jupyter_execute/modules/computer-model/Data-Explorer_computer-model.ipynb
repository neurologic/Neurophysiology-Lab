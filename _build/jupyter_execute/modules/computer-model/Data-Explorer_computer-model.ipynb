{
 "cells": [
  {
   "cell_type": "markdown",
   "id": "32647951-7dcf-4553-b42a-5d8508d95cf9",
   "metadata": {},
   "source": [
    "<a href=\"https://colab.research.google.com/github/neurologic/Neurophysiology-Lab/blob/main/ERG/Sensory-Coding-ERG.ipynb\" target=\"_blank\" rel=\"noopener noreferrer\"><img alt=\"Open In Colab\" src=\"https://colab.research.google.com/assets/colab-badge.svg\"/></a>   "
   ]
  },
  {
   "cell_type": "markdown",
   "id": "63776114-bd58-4811-bc3b-57c50f91686e",
   "metadata": {},
   "source": [
    "# Data Explorer"
   ]
  },
  {
   "cell_type": "markdown",
   "id": "f07451ff-cf56-4763-b4ac-bd099ba1f145",
   "metadata": {},
   "source": [
    "<a id=\"toc\"></a>\n",
    "# Table of Contents\n",
    "\n",
    "- [Introduction](#intro)\n",
    "- [Setup](#setup)\n",
    "- [Import Data](#one)\n"
   ]
  },
  {
   "cell_type": "markdown",
   "id": "38b445ff-7cf7-442e-bb25-83afe6d5a3fb",
   "metadata": {},
   "source": [
    "<a id=\"intro\"></a>\n",
    "# Computer Models\n",
    "\n",
    "Modelling passive and active properties of neurons based on electric circuit models from Week 1."
   ]
  },
  {
   "cell_type": "markdown",
   "id": "488d476b-9387-43d7-b4bf-0528d9f4950a",
   "metadata": {},
   "source": [
    "<a id=\"setup\"></a>\n",
    "# Setup\n",
    "\n",
    "[toc](#toc)"
   ]
  },
  {
   "cell_type": "markdown",
   "id": "b94f344a-8c2a-4080-b972-8e7a30c91e66",
   "metadata": {},
   "source": [
    "Import and define functions"
   ]
  },
  {
   "cell_type": "code",
   "execution_count": 1,
   "id": "be70dacf-b862-4afa-8fc0-dce8c363fdf9",
   "metadata": {
    "tags": [
     "hide-input"
    ]
   },
   "outputs": [
    {
     "name": "stdout",
     "output_type": "stream",
     "text": [
      "Task completed at 2022-08-12 09:23:59.758273-05:00\n"
     ]
    }
   ],
   "source": [
    "#@title {display-mode: \"form\"}\n",
    "\n",
    "#@markdown Run this code cell to import packages and define functions \n",
    "from pathlib import Path\n",
    "import numpy as np\n",
    "import plotly.express as px\n",
    "import plotly.graph_objects as go\n",
    "from plotly.subplots import make_subplots\n",
    "import seaborn as sns\n",
    "import matplotlib.pyplot as plt\n",
    "from datetime import datetime,timezone,timedelta\n",
    "pal = sns.color_palette(n_colors=15)\n",
    "pal = pal.as_hex()\n",
    "\n",
    "from ipywidgets import interactive, HBox, VBox, widgets, interact\n",
    "\n",
    "def monoExp(x, m, t, b):\n",
    "    return m * np.exp(-x / t) + b\n",
    "\n",
    "print('Task completed at ' + str(datetime.now(timezone(-timedelta(hours=5)))))"
   ]
  },
  {
   "cell_type": "code",
   "execution_count": 2,
   "id": "53496906-db2d-44a4-b709-b86d422bfc2f",
   "metadata": {},
   "outputs": [
    {
     "ename": "ModuleNotFoundError",
     "evalue": "No module named 'brian2'",
     "output_type": "error",
     "traceback": [
      "\u001b[0;31m---------------------------------------------------------------------------\u001b[0m",
      "\u001b[0;31mModuleNotFoundError\u001b[0m                       Traceback (most recent call last)",
      "Input \u001b[0;32mIn [2]\u001b[0m, in \u001b[0;36m<cell line: 1>\u001b[0;34m()\u001b[0m\n\u001b[0;32m----> 1\u001b[0m \u001b[38;5;28;01mfrom\u001b[39;00m \u001b[38;5;21;01mbrian2\u001b[39;00m \u001b[38;5;28;01mimport\u001b[39;00m \u001b[38;5;241m*\u001b[39m\n",
      "\u001b[0;31mModuleNotFoundError\u001b[0m: No module named 'brian2'"
     ]
    }
   ],
   "source": [
    "from brian2 import *"
   ]
  },
  {
   "cell_type": "code",
   "execution_count": null,
   "id": "63a4e064-973a-4200-9c00-3549a5f76810",
   "metadata": {},
   "outputs": [],
   "source": [
    "from neuron import h\n",
    "from neuron.units import ms, mV, µm"
   ]
  },
  {
   "cell_type": "markdown",
   "id": "cf6cceef-da14-4789-9e26-55e4fd7581f3",
   "metadata": {},
   "source": [
    "<a id=\"one\"></a>\n",
    "# Steady State\n",
    "\n",
    "[toc](#toc)"
   ]
  },
  {
   "cell_type": "code",
   "execution_count": null,
   "id": "a7152a58-2458-4b02-a680-e40e8b706c95",
   "metadata": {
    "tags": [
     "hide-input"
    ]
   },
   "outputs": [],
   "source": [
    "# define the function\n",
    "\n",
    "def get_V(Rk,Rna,Ek,Ena):\n",
    "    Gk = 1/Rk\n",
    "    Gna = 1/Rna\n",
    "    \n",
    "    V = ((Rna*Ek)+(Rk*Ena))/(Rna+Rk) # Resistance-based\n",
    "    \n",
    "    V = ((Gk*Ek)+(Gna*Ena))/(Gk+Gna) # Conductance-based\n",
    "    \n",
    "    return V"
   ]
  },
  {
   "cell_type": "code",
   "execution_count": null,
   "id": "750c7f4c-8ba4-4f19-bc98-94dadf357f20",
   "metadata": {},
   "outputs": [],
   "source": [
    "V = get_V(100,100,-90,130)\n",
    "print(V)"
   ]
  },
  {
   "cell_type": "code",
   "execution_count": null,
   "id": "5885bd70-c7a2-4c23-b057-f87f26821e2d",
   "metadata": {},
   "outputs": [],
   "source": [
    "import ipywidgets as widgets"
   ]
  },
  {
   "cell_type": "markdown",
   "id": "c3d860b6-7623-4982-980f-20c33e4757d2",
   "metadata": {},
   "source": [
    "<a id=\"two\"></a>\n",
    "# Dynamics\n",
    "\n",
    "[toc](#toc)"
   ]
  },
  {
   "cell_type": "code",
   "execution_count": null,
   "id": "7c80de8d-8eff-4e3a-80c9-e644888ceff9",
   "metadata": {},
   "outputs": [],
   "source": [
    "def simulate_V(V, R, C, Iapp, duration, dt):\n",
    "    '''\n",
    "    The simulation starts at time = 0 with the voltage given by the input to the function (V)\n",
    "    \n",
    "    R = the resistance of the membrane in Ohm\n",
    "    \n",
    "    C = the capacitance of the membrane in Farads\n",
    "    \n",
    "    Iapp = the current (microAmps) applied to the system throughout the simulation\n",
    "    \n",
    "    duration = the total time (seconds) that the current is applied to the system (in this case also the duration of the simulation)\n",
    "    \n",
    "    dt = the time step (seconds) for analysing the simulation (how much time elapses between each analysis of dV)\n",
    "    '''\n",
    "    \n",
    "    timesteps = int(duration/dt)\n",
    "    \n",
    "    V_record = [0]\n",
    "    for i in range(timesteps): # for each time step, iterate through the simulation\n",
    "        dV = dt*((Iapp - V/R)/C) # how much does the voltage change by on this time step?\n",
    "        V = (V+dV) # add the change in voltage to the current voltage\n",
    "        V_record.append(V)\n",
    "    \n",
    "    return V_record\n"
   ]
  },
  {
   "cell_type": "code",
   "execution_count": null,
   "id": "32d5468b-af48-435b-879b-61a8a8638f69",
   "metadata": {},
   "outputs": [],
   "source": [
    "# define the initial conditions\n",
    "\n",
    "V = 0 # Volts\n",
    "R = 100000000 # MegaOhm\n",
    "tau = 0.01 # seconds\n",
    "C = tau/(R)# 0.01 # F\n",
    "\n",
    "Iapp = 0.0000000001 # Amps\n",
    "duration = 0.1\n",
    "dt = 0.001\n",
    "\n",
    "V_record = simulate_V(V, R, C, Iapp, duration, dt)\n",
    "\n",
    "plt.plot(np.linspace(0,duration,int(duration/dt)+1),V_record);\n",
    "plt.xlabel('seconds');\n",
    "plt.ylabel('Volts');\n",
    "\n",
    "print(f'Capacitance = {C} Farads')"
   ]
  },
  {
   "cell_type": "markdown",
   "id": "20c41efa-2ecc-4084-91b4-f153c5518b2e",
   "metadata": {},
   "source": [
    "Note that $ 1mV = 100pA * 10MOhm $. Why would you want to think in terms of these units?"
   ]
  },
  {
   "cell_type": "code",
   "execution_count": null,
   "id": "0c841e4e-e683-403e-9940-71cda5a4ef2a",
   "metadata": {},
   "outputs": [],
   "source": [
    "\n",
    "\n",
    "# define the simulation conditions\n",
    "\n",
    "total_duration = 2 #seconds\n",
    "dt = 0.01 #seconds\n",
    "\n",
    "# set up the simulation items\n",
    "time = np.linspace(0,total_duration,int(total_duration/dt))\n",
    "stimulus = np.zeros((int(total_duration/dt)))\n",
    "stimulus[int(delay/dt):int((delay+duration)/dt)]=amplitude\n",
    "V_record = np.zeros((int(total_duration/dt)))\n",
    "\n",
    "\n",
    "# use the simulation function to get V_record\n",
    "\n",
    "V_record = simulate_V(V,R,C)\n",
    "\n",
    "# write the \"for\" loop\n",
    "\n",
    "\n",
    "plt.plot(time,V_record/1000);\n",
    "plt.ylabel='millivolt'\n",
    "plt.xlabel='seconds'\n"
   ]
  },
  {
   "cell_type": "code",
   "execution_count": null,
   "id": "08257489-8eaa-45d8-8f58-123e0a55b160",
   "metadata": {},
   "outputs": [],
   "source": [
    "C"
   ]
  },
  {
   "cell_type": "code",
   "execution_count": null,
   "id": "ee9d02b2-8b2e-4cfa-b553-db87b118b385",
   "metadata": {
    "tags": [
     "hide-input"
    ]
   },
   "outputs": [],
   "source": [
    "#@title {display-mode: \"form\"}\n",
    "\n",
    "#@markdown Run this code cell to genrate an interactive widget using the model you just created.\n",
    "\n",
    "# Create a figure widget using plotly\n",
    "f = go.FigureWidget(layout=go.Layout(height=500, width=700))\n",
    "\n",
    "# define the initial conditions\n",
    "R = 100*1e6 # Ohm (in terms of megaohms)\n",
    "tau = 10*1e-3 # seconds (in terms of milliseconds)\n",
    "C = tau/R # Farads \n",
    "\n",
    "# set up the applied current\n",
    "delay = 0.5 #seconds\n",
    "duration = 1 #seconds\n",
    "# amplitude = 100*1e-12 #Amps (in terms of picoamps)\n",
    "\n",
    "# print(R,tau,C,amplitude)\n",
    "\n",
    "# define the simulation conditions\n",
    "total_duration = 2 #seconds\n",
    "dt = 0.001 #seconds\n",
    "\n",
    "# set up the vectors for time and simulation results\n",
    "time = np.linspace(0,total_duration,int(total_duration/dt))-delay\n",
    "V_record = np.zeros((int(total_duration/dt))) # assumes voltage starts at zero\n",
    "\n",
    "# add simulation vectors to the figure widget\n",
    "f.add_trace(go.Scatter(x = time, y = V_record,\n",
    "                             name='simulation',opacity=1))\n",
    "\n",
    "# Create sliders for the figure widget inputs\n",
    "E_slider = widgets.FloatSlider(\n",
    "    min=-100,\n",
    "    max=100,\n",
    "    value=0,\n",
    "    step= 10,\n",
    "    readout=True,\n",
    "    description='eq. Voltage (millivolts)')\n",
    "E_slider.layout.width = '600px'\n",
    "\n",
    "R_slider = widgets.FloatSlider(\n",
    "    min=0,\n",
    "    max=1000,\n",
    "    value=100,\n",
    "    step= 10,\n",
    "    readout=True,\n",
    "    description='R (MOhm)')\n",
    "R_slider.layout.width = '600px'\n",
    "\n",
    "tau_slider = widgets.FloatSlider(\n",
    "    min=1,\n",
    "    max=100,\n",
    "    value=10,\n",
    "    step= 1,\n",
    "    readout=True,\n",
    "    description='tau (msec)')\n",
    "tau_slider.layout.width = '600px'\n",
    "\n",
    "amplitude_slider = widgets.FloatSlider(\n",
    "    min=0,\n",
    "    max=500,\n",
    "    value=100,\n",
    "    step= 1,\n",
    "    readout=True,\n",
    "    description='I (pA)')\n",
    "amplitude_slider.layout.width = '600px'\n",
    "\n",
    "def apply_current(E,R,tau,amplitude):# set up the simulation items\n",
    "    E = E*1e-3 # convert from millivolts to volts\n",
    "    V = E # start the simulation at equilibrium\n",
    "    R = R*1e6 # convert from MegaOhm to Ohm\n",
    "    tau = tau*1e-3 # convert from milliseconds to seconds\n",
    "    amplitude = amplitude*1e-12 # Convert from picoAmps to Amps\n",
    "    C = tau/R\n",
    "    \n",
    "    # print(R,tau,C,amplitude)   \n",
    "    \n",
    "    time = np.linspace(0,total_duration,int(total_duration/dt))-delay\n",
    "    stimulus = np.zeros((int(total_duration/dt)))\n",
    "    stimulus[int(delay/dt):int((delay+duration)/dt)]=amplitude\n",
    "    V_record = np.zeros((int(total_duration/dt)))\n",
    "\n",
    "    # write the \"for\" loop\n",
    "\n",
    "    for i,current in enumerate(stimulus):\n",
    "        dV = dt*((current - (V-E)/R)/C)\n",
    "        V = (V+dV) \n",
    "        V_record[i]=V\n",
    "\n",
    "    f.data[0].x = time\n",
    "    f.data[0].y = V_record*1e3 # convert from Volts to milliVolts\n",
    "\n",
    "vb = VBox((f, interactive(apply_current,\n",
    "                          E=E_slider,\n",
    "                          R=R_slider, \n",
    "                          tau=tau_slider,\n",
    "                          amplitude=amplitude_slider)))\n",
    "vb.layout.align_items = 'center'\n",
    "vb"
   ]
  },
  {
   "cell_type": "markdown",
   "id": "f103b7d5-fb8e-4882-89ec-0e6bded455a7",
   "metadata": {},
   "source": [
    "<a id=\"three\"></a>\n",
    "# Spiking\n",
    "\n",
    "[toc](#toc)"
   ]
  },
  {
   "cell_type": "code",
   "execution_count": null,
   "id": "2eaf0a67-c7c3-4105-8791-8400771d5faf",
   "metadata": {},
   "outputs": [],
   "source": [
    "soma = h.Section(name=\"soma\")"
   ]
  },
  {
   "cell_type": "code",
   "execution_count": null,
   "id": "1a763eae-21e8-4d2e-8a76-855fd2548db7",
   "metadata": {},
   "outputs": [],
   "source": [
    "soma.psection()"
   ]
  },
  {
   "cell_type": "code",
   "execution_count": null,
   "id": "dcd5cc06-6d75-46f5-8617-64834bedb6dc",
   "metadata": {},
   "outputs": [],
   "source": [
    "soma.L = 20\n",
    "soma.diam = 20"
   ]
  },
  {
   "cell_type": "code",
   "execution_count": null,
   "id": "817d7a61-b0f0-4c5e-93b3-a0ed21ae990d",
   "metadata": {},
   "outputs": [],
   "source": [
    "soma.insert('hh')"
   ]
  },
  {
   "cell_type": "code",
   "execution_count": null,
   "id": "5fcd1da7-9b83-4351-a670-ae0ef76e80ef",
   "metadata": {},
   "outputs": [],
   "source": [
    "iclamp = h.IClamp(soma(0.5))"
   ]
  },
  {
   "cell_type": "code",
   "execution_count": null,
   "id": "65d6f4df-7a97-4acf-941e-2b965fe7a441",
   "metadata": {},
   "outputs": [],
   "source": [
    "print([item for item in dir(iclamp) if not item.startswith(\"__\")])"
   ]
  },
  {
   "cell_type": "code",
   "execution_count": null,
   "id": "40abbdc3-1881-4ef9-8267-b1fb8ee8c4c9",
   "metadata": {},
   "outputs": [],
   "source": [
    "iclamp.delay = 2\n",
    "iclamp.dur = 0.2\n",
    "iclamp.amp = 0.9"
   ]
  },
  {
   "cell_type": "code",
   "execution_count": null,
   "id": "a798aa6c-7f74-4905-8189-5e7b08b6bc16",
   "metadata": {},
   "outputs": [],
   "source": [
    "soma.psection()"
   ]
  },
  {
   "cell_type": "code",
   "execution_count": null,
   "id": "cb0fbaad-f448-408b-8954-93599cf19b00",
   "metadata": {},
   "outputs": [],
   "source": [
    "v = h.Vector().record(soma(0.5)._ref_v)  # Membrane potential vector\n",
    "t = h.Vector().record(h._ref_t)  # Time stamp vector"
   ]
  },
  {
   "cell_type": "code",
   "execution_count": null,
   "id": "0203c45a-2686-4581-9344-f460552be024",
   "metadata": {},
   "outputs": [],
   "source": [
    "h.load_file(\"stdrun.hoc\")"
   ]
  },
  {
   "cell_type": "code",
   "execution_count": null,
   "id": "7162e64d-730d-4572-a763-f05658d23a85",
   "metadata": {},
   "outputs": [],
   "source": [
    "h.finitialize(-65 * mV)"
   ]
  },
  {
   "cell_type": "code",
   "execution_count": null,
   "id": "6c929ce5-52d3-48c7-8650-5574fb27c9b6",
   "metadata": {},
   "outputs": [],
   "source": [
    "h.continuerun(40 * ms)"
   ]
  },
  {
   "cell_type": "code",
   "execution_count": null,
   "id": "bee2b5c4-5099-4f54-be37-e4e4684478fb",
   "metadata": {},
   "outputs": [],
   "source": [
    "f = go.Figure()\n",
    "f.add_trace(go.Scatter(x = t, y = v,\n",
    "                             name='simulation results',opacity=1,line_color='black'))\n",
    "f.update_layout(height=600, width=800,\n",
    "               xaxis_title=\"time(seconds)\", \n",
    "                  yaxis_title='amplitude (volts)')\n",
    "\n"
   ]
  },
  {
   "cell_type": "code",
   "execution_count": null,
   "id": "e2fa2ef4-6463-4478-a68e-aa67b7622659",
   "metadata": {},
   "outputs": [],
   "source": [
    "class BallAndStick:\n",
    "    def __init__(self, gid):\n",
    "        self._gid = gid\n",
    "        self._setup_morphology()\n",
    "        self._setup_biophysics()\n",
    "\n",
    "    def _setup_morphology(self):\n",
    "        self.soma = h.Section(name=\"soma\", cell=self)\n",
    "        self.dend = h.Section(name=\"dend\", cell=self)\n",
    "        self.dend.connect(self.soma)\n",
    "        self.all = self.soma.wholetree()\n",
    "        self.soma.L = self.soma.diam = 12.6157 * µm\n",
    "        self.dend.L = 200 * µm\n",
    "        self.dend.diam = 1 * µm\n",
    "\n",
    "    def _setup_biophysics(self):\n",
    "        for sec in self.all:\n",
    "            sec.Ra = 100  # Axial resistance in Ohm * cm\n",
    "            sec.cm = 1  # Membrane capacitance in micro Farads / cm^2\n",
    "        self.soma.insert(\"hh\")\n",
    "        for seg in self.soma:\n",
    "            seg.hh.gnabar = 0.12  # Sodium conductance in S/cm2\n",
    "            seg.hh.gkbar = 0.036  # Potassium conductance in S/cm2\n",
    "            seg.hh.gl = 0.0003  # Leak conductance in S/cm2\n",
    "            seg.hh.el = -54.3 * mV  # Reversal potential\n",
    "        # Insert passive current in the dendrite                       # <-- NEW\n",
    "        self.dend.insert(\"pas\")  # <-- NEW\n",
    "        for seg in self.dend:  # <-- NEW\n",
    "            seg.pas.g = 0.001  # Passive conductance in S/cm2        # <-- NEW\n",
    "            seg.pas.e = -65 * mV  # Leak reversal potential             # <-- NEW\n",
    "\n",
    "    def __repr__(self):\n",
    "        return \"BallAndStick[{}]\".format(self._gid)\n"
   ]
  },
  {
   "cell_type": "code",
   "execution_count": null,
   "id": "99db6bae-c5b1-46d9-bb88-5ef54de00194",
   "metadata": {},
   "outputs": [],
   "source": [
    "my_cell = BallAndStick(0)"
   ]
  },
  {
   "cell_type": "code",
   "execution_count": null,
   "id": "3377c742-8467-45ae-b27e-a46e14674b36",
   "metadata": {},
   "outputs": [],
   "source": [
    "for sec in h.allsec():\n",
    "    print(\"%s: %s\" % (sec, \", \".join(sec.psection()[\"density_mechs\"].keys())))"
   ]
  },
  {
   "cell_type": "code",
   "execution_count": null,
   "id": "17465ffd-abe8-4ec8-a31b-7fb35fbbf4c7",
   "metadata": {},
   "outputs": [],
   "source": [
    "h.topology()"
   ]
  },
  {
   "cell_type": "code",
   "execution_count": null,
   "id": "f0086926-c99e-436e-acbd-1ee0ccb14658",
   "metadata": {},
   "outputs": [],
   "source": [
    "my_cell.soma.wholetree()"
   ]
  },
  {
   "cell_type": "code",
   "execution_count": null,
   "id": "0fe73397-f578-43e0-b321-2c913e96397e",
   "metadata": {},
   "outputs": [],
   "source": [
    "\n",
    "h.PlotShape(False).plot(plt)"
   ]
  },
  {
   "cell_type": "markdown",
   "id": "d451b557-6777-4492-955e-a41130ad39b9",
   "metadata": {},
   "source": [
    "<hr> \n",
    "Written by Dr. Krista Perks for courses taught at Wesleyan University."
   ]
  },
  {
   "cell_type": "code",
   "execution_count": null,
   "id": "5c707588-d5f6-4142-8289-da7ba6a97dbc",
   "metadata": {},
   "outputs": [],
   "source": []
  },
  {
   "cell_type": "markdown",
   "id": "57a8a68c-055e-4af0-ba4d-67d0d67148f1",
   "metadata": {},
   "source": [
    "<a id=\"setup\"></a>"
   ]
  },
  {
   "cell_type": "markdown",
   "id": "a350712e-e145-4475-9588-e3f19469b5ce",
   "metadata": {},
   "source": [
    "<a id=\"one\"></a>"
   ]
  },
  {
   "cell_type": "markdown",
   "id": "86fd2b4a-b890-465f-bf33-c2057738789e",
   "metadata": {},
   "source": [
    "<a id=\"two\"></a>"
   ]
  },
  {
   "cell_type": "markdown",
   "id": "b05de192-2baf-4d46-8848-6db1e3b50bff",
   "metadata": {},
   "source": [
    "<a id=\"three\"></a>"
   ]
  },
  {
   "cell_type": "markdown",
   "id": "e6519277-fc86-44fd-a75b-f74cad0efcf1",
   "metadata": {},
   "source": [
    "<a id=\"four\"></a>"
   ]
  }
 ],
 "metadata": {
  "kernelspec": {
   "display_name": "Python 3 (ipykernel)",
   "language": "python",
   "name": "python3"
  },
  "language_info": {
   "codemirror_mode": {
    "name": "ipython",
    "version": 3
   },
   "file_extension": ".py",
   "mimetype": "text/x-python",
   "name": "python",
   "nbconvert_exporter": "python",
   "pygments_lexer": "ipython3",
   "version": "3.8.13"
  },
  "widgets": {
   "application/vnd.jupyter.widget-state+json": {
    "state": {},
    "version_major": 2,
    "version_minor": 0
   }
  }
 },
 "nbformat": 4,
 "nbformat_minor": 5
}