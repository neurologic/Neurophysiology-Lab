{
 "cells": [
  {
   "cell_type": "markdown",
   "id": "8aa951c9-231f-4a9f-8a5a-061bbac43f1f",
   "metadata": {},
   "source": [
    "<a href=\"https://colab.research.google.com/github/neurologic/Neurophysiology-Lab/blob/main/modules/crayfish-superficial-flexor/Data-Explorer_crayfish-superficial-flexor.ipynb\" target=\"_blank\" rel=\"noopener noreferrer\"><img alt=\"Open In Colab\" src=\"https://colab.research.google.com/assets/colab-badge.svg\"/></a>   "
   ]
  },
  {
   "cell_type": "markdown",
   "id": "27d32207-9885-42a1-b582-ea799bf5bea9",
   "metadata": {},
   "source": [
    "# Data Explorer"
   ]
  },
  {
   "cell_type": "markdown",
   "id": "da475684-ba21-4ab4-a120-bdadcf67fabc",
   "metadata": {},
   "source": [
    "<a id=\"toc\"></a>\n",
    "# Table of Contents\n",
    "\n",
    "- [Introduction](#intro)\n",
    "- [Setup](#setup)\n",
    "- [Part I. Process Data](#one)\n",
    "- [Part II. Motor Neuron Activity](#two)\n"
   ]
  },
  {
   "cell_type": "markdown",
   "id": "30740b0e-c862-4590-a279-20708433c56d",
   "metadata": {},
   "source": [
    "<a id=\"intro\"></a>\n",
    "# Intracellular Recording\n",
    "\n",
    "Resting membrane potential measurement.\n"
   ]
  },
  {
   "cell_type": "markdown",
   "id": "592f9278-6ff5-43f9-8f77-a44d7ca38242",
   "metadata": {},
   "source": [
    "<a id=\"setup\"></a>\n",
    "# Setup\n",
    "\n",
    "[toc](#toc)"
   ]
  },
  {
   "cell_type": "markdown",
   "id": "d0d41bd3-a1a9-48a4-9977-39a1da9e3b30",
   "metadata": {},
   "source": [
    "Import and define functions"
   ]
  },
  {
   "cell_type": "code",
   "execution_count": null,
   "id": "1f0bdf22-e065-4e88-9a97-a83900aef58e",
   "metadata": {
    "tags": []
   },
   "outputs": [],
   "source": [
    "# In Python, anything with a \"#\" in front of it is code annotation,\n",
    "# and is not read by the computer.\n",
    "# You can run a cell (this box) by pressing ctrl-enter or shift-enter.\n",
    "# You can also run a cell by clicking the play button in the menu bar \n",
    "# at the top of the page (single right arrow, not double).\n",
    "# Click in this cell and then press shift and enter simultaneously.\n",
    "# This print function below allows us to generate a message.\n",
    "print('Nice work!')\n",
    "\n",
    "# No need to edit anything in this code cell\n",
    "#################################\n",
    "\n",
    "import matplotlib.pyplot as plt\n",
    "import numpy as np\n",
    "import pandas as pd\n",
    "from scipy import ndimage\n",
    "from scipy.signal import find_peaks\n",
    "from copy import deepcopy\n",
    "import math\n",
    "from sklearn.decomposition import PCA\n",
    "from sklearn.cluster import KMeans\n",
    "from pathlib import Path\n",
    "import matplotlib.pyplot as plt\n",
    "import csv\n",
    "from scipy.signal import hilbert,medfilt,resample\n",
    "from sklearn.decomposition import PCA\n",
    "import scipy\n",
    "import seaborn as sns\n",
    "colors = ['cyan','gray','red','green','blue','purple','orange']\n",
    "merge_cluster_list = [[]]\n",
    "%matplotlib widget"
   ]
  },
  {
   "cell_type": "markdown",
   "id": "fc233025-753c-4424-b8db-ebfc76eea7a3",
   "metadata": {},
   "source": [
    "<a id=\"two\"></a>\n",
    "## Part II. Import raw data ('.bin' file)\n",
    "### Edit the code cell below with the appropriate information, then play/execute the cell\n",
    "- **filepath** is the path to your \".bin\" data file that has simultaneous recording of muscle and nerve. \n",
    "  - filepath needs to be in quotation marks.\n",
    "  - ***if you are on a windows operating system computer, you need an \"r\" before the first quote of the filepath***\n",
    "- **number_channels** = the number of inputs to the analog to digital converter were recorded.\n",
    "- **nerve_channel** and **muscle_channel** which analog input channel was the nerve amplifier hooked up to? This is \"nerve_channel\" and the same logic applies to \"muscle_channel\"\n",
    "- **sampling_rate** is the sampling rate that you recorded data at\n",
    "\n",
    "### You will also get a plot of your raw data from both channels (nerve in blue and muscle in green).\n",
    "- You can interact with the plot by zooming in and panning. <br>\n",
    "- You can make the plot bigger or smaller by dragging its bottom right corner (gray triangle). Note that when it gets smaller the axis labels might disappear.\n",
    "- You can save the current plot view at any time by hitting the \"save\" icon - it will save to your Downloads folder. <br>\n",
    "\n",
    "<div class=\"alert alert-success\"><b>Task:</b> Run the cell below after editing the variables to match your data parameters.</div>"
   ]
  },
  {
   "cell_type": "code",
   "execution_count": null,
   "id": "3589d5a2-de83-4f48-b6a7-2b427fd0f98b",
   "metadata": {},
   "outputs": [],
   "source": [
    "filepath = \"/Users/kperks/OneDrive - wesleyan.edu/Teaching/Neurophysiology/Data/CrayfishNerve3/nerve_Muscle_TelsonStim2021-07-16T14_34_57.bin\"\n",
    "number_channels = 2\n",
    "nerve_channel = 1\n",
    "muscle_channel = 0\n",
    "sampling_rate = 30000\n",
    "\n",
    "\n",
    "# No need to edit below this line\n",
    "#################################\n",
    "filepath = Path(filepath)\n",
    "y_data = np.fromfile(Path(filepath), dtype = np.float64)\n",
    "y_data = y_data.reshape(-1,number_channels)\n",
    "nerve = y_data[:,nerve_channel] - np.median(y_data[:,nerve_channel],0)\n",
    "time = np.linspace(0,np.shape(y_data)[0]/sampling_rate,np.shape(y_data)[0])\n",
    "muscle = y_data[:,muscle_channel]\n",
    "hfig,ax = plt.subplots(1)\n",
    "ax.plot(time, nerve, color = 'blue')\n",
    "ax.plot(time, muscle, color = 'green')\n",
    "ax.set_ylabel('Volts (recorded)')\n",
    "ax.set_xlabel('seconds')"
   ]
  },
  {
   "cell_type": "markdown",
   "id": "b147e83f-9950-4981-b43b-ddda2e47b61e",
   "metadata": {
    "tags": []
   },
   "source": [
    "<a id=\"three\"></a>\n",
    "## Part III. Detect spiking events in the raw signal from the motor nerve.\n",
    "> If you ever need to restore your \"df\" dataframe, start here again and re-run the next two cells below (for example if you merge clusters you did not mean to. \n",
    "### Edit the code cell below with the appropriate information, then play/execute the cell\n",
    "- **spike_detection_threshold** is the Voltage value that peaks need to cross to be counted/detected as spikes. </br> \n",
    "- **polarity** controls whether you are detecting spikes based on the positive peaks (polarity = 1) or negative peaks (polarity = -1) </br> \n",
    "    - what this does is multiply the nerve voltage trace by the value of polarity before detecting peaks based on spike threshold.\n",
    "\n",
    "### You will also get a plot of the histogram (distribution) of peak heights for all peaks (putative spikes) detected (peaks larger than the threshold you set).\n",
    "\n",
    "<div class=\"alert alert-success\"><b>Task:</b> Run the cell below after editing the variables as needed based on your raw data signal.</div>"
   ]
  },
  {
   "cell_type": "code",
   "execution_count": null,
   "id": "cbbaeb75-9f25-4b8d-bf23-1f14b638b904",
   "metadata": {},
   "outputs": [],
   "source": [
    "spike_detection_threshold = 0.04\n",
    "polarity = -1\n",
    "\n",
    "\n",
    "\n",
    "# No need to edit below this line\n",
    "#################################\n",
    "peaks,props = find_peaks(polarity * nerve,height=spike_detection_threshold, \n",
    "                         prominence = spike_detection_threshold, distance=(0.001*sampling_rate))\n",
    "peaks_t = peaks/sampling_rate\n",
    "df = pd.DataFrame({\n",
    "        'height': props['peak_heights'],\n",
    "        'r_prom' : -nerve[peaks]+nerve[props['right_bases']],\n",
    "        'l_prom' : -nerve[peaks]+nerve[props['left_bases']]\n",
    "        # 'widths' : props['widths']/fs\n",
    "            })\n",
    "n,bins = np.histogram(df['height'],bins = 100) # calculate the histogram\n",
    "bins = bins[1:]\n",
    "hfig,ax = plt.subplots(1)\n",
    "ax.step(bins,n)\n",
    "ax.set_ylabel('count')\n",
    "ax.set_xlabel('Volts')"
   ]
  },
  {
   "cell_type": "markdown",
   "id": "e74a12f5-04e3-4270-b721-ddd319b47468",
   "metadata": {},
   "source": [
    "<a id=\"four\"></a>\n",
    "## Part IV. Cluster peaks by waveform shape into putative neuron classes.\n",
    "\n",
    "### Edit the code cell below with the appropriate information, then play/execute the cell\n",
    "- **number_of_clusters** is the number of clusters you want the algorithm to make. Look at both your raw data and the histogram to decide what number you think this should be. *You will be able to combine clusters later, so it is better to over-estimate here*. (k cannot be larger than 7)</br> \n",
    "\n",
    "<div class=\"alert alert-success\"><b>Task:</b> Run the cell below after editing the variables as needed to control the clustering analyisis.</div>"
   ]
  },
  {
   "cell_type": "code",
   "execution_count": null,
   "id": "4febc0ed-1b40-45f4-a41b-a59d76b2560a",
   "metadata": {},
   "outputs": [],
   "source": [
    "number_of_clusters = 4\n",
    "\n",
    "\n",
    "# No need to edit below this line\n",
    "#################################\n",
    "df_normalized=(df - df.mean()) / df.std() #normalize data in dataframe for PCA\n",
    "pca = PCA(n_components=df.shape[1])\n",
    "pca.fit(df_normalized)\n",
    "X_pca=pca.transform(df_normalized)\n",
    "kmeans = KMeans(n_clusters=number_of_clusters).fit(X_pca[:,0:2])\n",
    "df['peaks_t'] = peaks_t\n",
    "df['cluster'] = kmeans.labels_\n"
   ]
  },
  {
   "cell_type": "markdown",
   "id": "f730a45c-c205-47fe-99d8-5d8fb80396c5",
   "metadata": {},
   "source": [
    "<a id=\"five\"></a>\n",
    "## Part V. Plot the results of clustering to determine how many neurons you recorded.\n",
    "\n",
    "### You will get a plot of the raw voltage trace recorded from the nerve. \n",
    "- This plot incorporates your \"polarity\" to show you what happens when this value changes (with respect to the peak finding algorithm). \n",
    "- The overlaid scatter plot shows the height of each peak at the time of the peak. \n",
    "  - The scatter is colored according to which cluster the spike was assigned.\n",
    "  \n",
    "### You will get a plot of the mean spike waveform associated with each cluster. \n",
    "- you can change **windur** to change the amount of time before and after each spike to plot.\n",
    "  \n",
    "### With these two plots, you can determine how many distinguishable (unique) neurons you think there actually are in your recording. \n",
    "\n",
    "<div class=\"alert alert-success\"><b>Task:</b> Run the cell below to plot the clustering results.</div>"
   ]
  },
  {
   "cell_type": "code",
   "execution_count": null,
   "id": "28abcb7f-7a41-47fc-b123-95d2cb20bd79",
   "metadata": {},
   "outputs": [],
   "source": [
    "windur = 0.002\n",
    "\n",
    "\n",
    "# No need to edit below this line\n",
    "#################################\n",
    "hfig,ax = plt.subplots(1)\n",
    "ax.plot(time, polarity * nerve, color = 'blue')\n",
    "ax.plot(time, muscle, color = 'green')\n",
    "for i,k in enumerate(np.unique(df['cluster'])):\n",
    "    df_ = df[df['cluster']==k]\n",
    "    ax.scatter(df_['peaks_t'],df_['height'],color = colors[i],zorder = 3)\n",
    "ax.set_ylabel('Voltage recorded (V)')\n",
    "ax.set_xlabel('seconds')\n",
    "winsamps = int(windur * sampling_rate)\n",
    "x = np.linspace(-windur,windur,winsamps*2)*1000\n",
    "hfig,ax = plt.subplots(1)\n",
    "ax.set_ylabel('Volts recorded')\n",
    "ax.set_xlabel('milliseconds')\n",
    "for k in np.unique(df['cluster']):\n",
    "    spkt = df.loc[df['cluster']==k]['peaks_t'].values\n",
    "    spkt = spkt[(spkt>windur) & (spkt<(len((muscle)/sampling_rate)-windur))]\n",
    "    print(str(len(spkt)) + \" spikes in cluster number \" + str(k))\n",
    "    spkwav = np.asarray([nerve[(int(t*sampling_rate)-winsamps):(int(t*sampling_rate)+winsamps)] for t in spkt])\n",
    "    wav_u = np.mean(spkwav,0)\n",
    "    wav_std = np.std(spkwav,0)\n",
    "    ax.plot(x,wav_u,linewidth = 3,color = colors[k])"
   ]
  },
  {
   "cell_type": "markdown",
   "id": "ba9def9e-604e-41b7-9ada-b8bf79491743",
   "metadata": {},
   "source": [
    "## If there are multiple spike clusters you want to merge into a single cell class, *edit and run* the cell below.\n",
    "\n",
    "- **merge_cluster_list** = a list of the clusters (identified by numbers associated with the following colors).\n",
    "> cyan = 0,\n",
    "> gray = 1,\n",
    "> red = 2,\n",
    "> green = 3,\n",
    "> blue = 4,\n",
    "> purple = 5,\n",
    "> orange = 6\n",
    "  - **For example**, the folowing list would merge clusters 0 and 2 together and 1 and 3 together: <br>\n",
    "     **merge_cluster_list = [[0,2],[1,3]]**\n",
    "  - For each merge group, the first cluster number listed will be the re-asigned cluster number for that group (for example, in this case you would end up with a cluster number 0 and a cluster number 1). \n",
    "  \n",
    "## After running the cell below, go back up and re-plot the mean waveform for your new clusters. "
   ]
  },
  {
   "cell_type": "code",
   "execution_count": null,
   "id": "7a63d9b2-46b6-45a0-af04-42c8a2859109",
   "metadata": {},
   "outputs": [],
   "source": [
    "merge_cluster_list = [[1,2]]\n",
    "\n",
    "\n",
    "\n",
    "# No need to edit below this line\n",
    "#################################\n",
    "for k_group in merge_cluster_list:\n",
    "    for k in k_group:\n",
    "        df.loc[df['cluster']==k,'cluster'] = k_group[0]\n",
    "print('you now have the following clusters: ' + str(np.unique(df['cluster'])))"
   ]
  },
  {
   "cell_type": "markdown",
   "id": "81e9dc00-e30f-4175-86a0-cd31405fa564",
   "metadata": {},
   "source": [
    "<a id=\"six\"></a>\n",
    "## Part VI. Analyze the post-synaptic activity associated with pre-synaptic spikes.\n",
    "### With the following plots, you can determine which neurons have a synapse close enough to your electrode to detect the psp. \n",
    "- The mean and standard deviation are also plotted in addition to every spike-triggered membrane potential overlaid.\n",
    "\n",
    "<div class=\"alert alert-success\"><b>Task:</b> Run the cell below to plot the mean post-synaptic potentials triggered by spikes from each cluster overlaid.</div> \n",
    "You can edit the value of windur in the first line of the code cell to change the amount of time after the spike that is plotted. \n"
   ]
  },
  {
   "cell_type": "code",
   "execution_count": null,
   "id": "54199a92-c200-4a29-8230-06768d09b8d5",
   "metadata": {},
   "outputs": [],
   "source": [
    "windur = 0.1\n",
    "\n",
    "\n",
    "\n",
    "# No need to edit below this line\n",
    "#################################\n",
    "winsamps = int(windur * sampling_rate)\n",
    "x = np.linspace(0,windur,winsamps)*1000\n",
    "hfig,ax = plt.subplots(1)\n",
    "ax.set_ylabel('Volts recorded')\n",
    "ax.set_xlabel('milliseconds')\n",
    "for k in np.unique(df['cluster']):\n",
    "    spkt = df.loc[df['cluster']==k]['peaks_t'].values\n",
    "    spkt = spkt[(spkt<((len(muscle)/sampling_rate)-windur))]\n",
    "    synwav = np.asarray([muscle[(int(t*sampling_rate)):(int(t*sampling_rate)+winsamps)] for t in spkt])\n",
    "    wav_u = np.mean(synwav,0)\n",
    "    wav_std = np.std(synwav,0)\n",
    "    ax.plot(x,wav_u,linewidth = 3,color = colors[k])\n",
    "#     ax.fill_between(x, wav_u-wav_std, wav_u+wav_std, alpha = 0.25, color = colors[k])"
   ]
  },
  {
   "cell_type": "markdown",
   "id": "18b1abbb-4d58-4e29-bddd-2e9203eb10e8",
   "metadata": {},
   "source": [
    "### Edit the code cell below with the appropriate information, then play/execute the cell.\n",
    "- **k** is the cluster number (according to the following colors list) </br> \n",
    "> cyan = 0,\n",
    "> gray = 1,\n",
    "> red = 2,\n",
    "> green = 3,\n",
    "> blue = 4,\n",
    "> purple = 5,\n",
    "> orange = 6\n",
    "\n",
    "\n",
    "<div class=\"alert alert-success\"><b>Task:</b> Run the cell below to plot the post-synaptic potentials triggered by spikes from cluster *k*.</div>"
   ]
  },
  {
   "cell_type": "code",
   "execution_count": null,
   "id": "79caae35-4462-454c-9e1c-303c71650666",
   "metadata": {},
   "outputs": [],
   "source": [
    "k = 0\n",
    "\n",
    "\n",
    "\n",
    "# No need to edit below this line\n",
    "#################################\n",
    "windur = 0.1\n",
    "winsamps = int(windur * sampling_rate)\n",
    "x = np.linspace(0,windur,winsamps)*1000\n",
    "# colors = ['brown','black','red','green','blue','purple','orange']\n",
    "hfig,ax = plt.subplots(1)\n",
    "ax.set_ylabel('Volts recorded')\n",
    "ax.set_xlabel('milliseconds')\n",
    "\n",
    "spkt = df.loc[df['cluster']==k]['peaks_t'].values\n",
    "spkt = spkt[(spkt<((len(muscle)/sampling_rate)-windur))]\n",
    "synwav = np.asarray([muscle[(int(t*sampling_rate)):(int(t*sampling_rate)+winsamps)] - muscle[int(t*sampling_rate)] for t in spkt])\n",
    "wav_u = np.mean(synwav,0)\n",
    "wav_std = np.std(synwav,0)\n",
    "ax.plot(x,synwav.T,linewidth = 0.5, alpha = 0.5,color = colors[k]);\n",
    "ax.plot(x,wav_u,linewidth = 3,color = 'black')\n",
    "ax.fill_between(x, wav_u-wav_std, wav_u+wav_std, alpha = 0.25, color = 'black',zorder=3);"
   ]
  },
  {
   "cell_type": "markdown",
   "id": "308281e7-42b3-48d9-a24e-cd3f0d2c715d",
   "metadata": {},
   "source": [
    "### Edit the code cell below with the appropriate information, depending on which spike cluster you want to use to plot the average spike waveform and the average spike-triggered post-synaptic potential. Then play/execute the cell.\n",
    "- **k** is the cluster number (according to the following colors list) </br> \n",
    "> cyan = 0,\n",
    "> gray = 1,\n",
    "> red = 2,\n",
    "> green = 3,\n",
    "> blue = 4,\n",
    "> purple = 5,\n",
    "> orange = 6\n",
    "- **offset** is the amount of time plotted before the spike time.\n",
    "- **windur** is the amount of time plotted after the spike time. \n",
    "\n",
    "### With this plot, you can determine the average delay between the spike and the post-synaptic resposne for each neuron. \n",
    "\n",
    "<div class=\"alert alert-success\"><b>Task:</b> Run the cell below to plot the average pre- and post-synaptic potentials triggered by spikes from cluster *k*.</div>"
   ]
  },
  {
   "cell_type": "code",
   "execution_count": null,
   "id": "19fbc069-a08e-4744-a12c-4997395940b9",
   "metadata": {},
   "outputs": [],
   "source": [
    "k = 0\n",
    "\n",
    "# Optional parameters to change: offset (time before spike to plot) and windur (time after spike to plot)\n",
    "offset = 0.002\n",
    "windur = 0.1\n",
    "\n",
    "\n",
    "\n",
    "# No need to edit below this line\n",
    "#################################\n",
    "winsamps = int(windur * sampling_rate)\n",
    "hfig,ax = plt.subplots(1)\n",
    "ax.set_ylabel('Volts recorded')\n",
    "ax.set_xlabel('milliseconds')\n",
    "x = np.linspace(-offset,windur,(winsamps + int(offset*sampling_rate)))*1000\n",
    "spkt = df.loc[df['cluster']==k]['peaks_t'].values\n",
    "spkt = spkt[(spkt>offset)&(spkt<((len(muscle)/sampling_rate)-windur))]\n",
    "spkwav = np.asarray([nerve[(int(t*sampling_rate)-int(offset*sampling_rate)):(int(t*sampling_rate)+winsamps)] for t in spkt if (int(t*sampling_rate)+winsamps < len(muscle))])\n",
    "synwav = np.asarray([muscle[(int(t*sampling_rate)-int(offset*sampling_rate)):(int(t*sampling_rate)+winsamps)] for t in spkt if (int(t*sampling_rate)+winsamps < len(muscle))])\n",
    "spk_u = np.mean(spkwav,0)\n",
    "spk_std = np.std(spkwav,0)\n",
    "syn_u = np.mean(synwav,0)\n",
    "syn_std = np.std(synwav,0)\n",
    "ax.plot(x,spk_u,linewidth = 1,color = colors[k])\n",
    "ax.plot(x,syn_u,linewidth = 1,color = colors[k])"
   ]
  },
  {
   "cell_type": "markdown",
   "id": "ede1da3f-849a-4398-8727-bf9c7847b7e4",
   "metadata": {},
   "source": [
    "<div class=\"alert alert-success\"><b>Task:</b> Celebrate your new analysis skills by running the cell below.</div>"
   ]
  },
  {
   "cell_type": "code",
   "execution_count": null,
   "id": "c33ce5ff-636d-434c-a877-206a8d2c3685",
   "metadata": {
    "tags": []
   },
   "outputs": [],
   "source": [
    "from IPython.display import HTML\n",
    "HTML('<img src=\"https://media.giphy.com/media/l0MYt5jPR6QX5pnqM/giphy.gif\">')"
   ]
  },
  {
   "cell_type": "markdown",
   "id": "9c691f0c-f1a7-49ee-a2b8-fd212c5b39f3",
   "metadata": {},
   "source": [
    "<a id=\"six\"></a>\n",
    "## Take Home: Answer the following questions in a separate document to turn in.\n",
    "> *When asked to report amplitudes of events (spikes or PSPs), correct for the amplifier gain (1000x for the extracellular amplifier and 10x for the intracellular amplifier).*\n",
    "\n",
    "### Figure 1. *Synaptic connections between pre- and post-synaptic cells*\n",
    "Only compare intracellular recordings using the same motor nerve. \n",
    "- How many motor neurons did you record spikes from?\n",
    "- Which of these neurons evoked synaptic potentials that you recorded intracellularly from the muscle cell?\n",
    "  - Make note of different intracellular recording locations as needed.\n",
    "- We know that all of the 6 motor neurons in Nerve 3 synapse on the superficial flexor muscle. Were your results for each intracellular recording location consistent with this? If not, how do you explain the inconsistency? Did you see responses to different motor neurons at different intracellular recording locations?\n",
    "\n",
    "### Figure 2. *Synaptic **dynamics** - the timecourse of synaptic connectivity*\n",
    "Only compare intracellular recordings using the same motor nerve. \n",
    "- How many motor neurons did you record spikes from? *only do this if it is different than in Figure 1, otherwise refer to Figure 1)*\n",
    "- For each panel of the figure (each PSP), annotate the following:\n",
    "  - the delay between the pre-synaptic spike time and the psp\n",
    "  - the psp rise time (the time from the onset of the psp to the peak of the psp)\n",
    "  - the psp amplitude \n",
    "- Make it clear which panels are from the same intracellular recording and which are from different.\n",
    "\n",
    "### Figure 3. *Stereotypy of Pre to Post synaptic transformations - Does synaptic summation effect post-synaptic potential amplitude?*\n",
    "Because you will *\"normalize\"* your data, you can combine data using different motor nerves. \n",
    "- Use recordings with distinct PSPs associated with a distinct neuron (identified by waveform amplitude).\n",
    "- Quantitative procedure for each intracellular recording:<br>\n",
    "  - Measure the amplitude of 5 solitary PSPs associated with that pre-synaptic neuron. \n",
    "  - Find examples of synaptic summation. Measure the amplitude of the second PSP (from PSP onset, not from resting membrane potential). Measure the latency between the onset of the first PSP and the onset of the second PSP. If there are more than two PSPs in a row, compare sequentially.\n",
    "- Analysis: \n",
    "  - Within each intracellular recording, divide all amplitudes by the mean solitary PSP amplitude. This enables you to plot data from different recordings together.\n",
    "- Visualization: \n",
    "  - Use a program such as google sheets or excell to make a plot of PSP amplitude versus latency (the solitary PSPs will have a latency of 100ms). \n",
    "\n",
    "### Figure 4. *Pre to post-synaptic transformations* \n",
    "In any of your recordings *from the same motor nerve recordings*, did you see PSPs in repsponse to different neurons? (If not, then you won't have a figure - instead you will just answer the second bullet point.\n",
    "- Did either psp onset slope correlate with spike amplitude?\n",
    "  - To answer this question (are they correlated) use a spreadsheet program to make a scatter plot of psp onset slope (rise time / amplitude) against spike amplitude. \n",
    "- Use what you have learned in your neuroscience courses (and what we have learned this semester in lab) to name two reasons why:\n",
    "  - the PSP amplitude could be different in response to different pre-synaptic neurons\n",
    "  - the PSP amplitude could be different at different intracellular recording locations (different muscle cells or different locations along the same muscle cell)\n"
   ]
  }
 ],
 "metadata": {
  "kernelspec": {
   "display_name": "Python 3 (ipykernel)",
   "language": "python",
   "name": "python3"
  },
  "language_info": {
   "codemirror_mode": {
    "name": "ipython",
    "version": 3
   },
   "file_extension": ".py",
   "mimetype": "text/x-python",
   "name": "python",
   "nbconvert_exporter": "python",
   "pygments_lexer": "ipython3",
   "version": "3.8.13"
  },
  "widgets": {
   "application/vnd.jupyter.widget-state+json": {
    "state": {},
    "version_major": 2,
    "version_minor": 0
   }
  }
 },
 "nbformat": 4,
 "nbformat_minor": 5
}