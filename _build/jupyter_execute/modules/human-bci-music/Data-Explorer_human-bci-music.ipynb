{
 "cells": [
  {
   "cell_type": "markdown",
   "id": "32647951-7dcf-4553-b42a-5d8508d95cf9",
   "metadata": {},
   "source": [
    "<a href=\"https://colab.research.google.com/github/neurologic/Neurophysiology-Lab/blob/main/<'folder'/'notebookname'>.ipynb\" target=\"_blank\" rel=\"noopener noreferrer\"><img alt=\"Open In Colab\" src=\"https://colab.research.google.com/assets/colab-badge.svg\"/></a>   "
   ]
  },
  {
   "cell_type": "markdown",
   "id": "38b445ff-7cf7-442e-bb25-83afe6d5a3fb",
   "metadata": {},
   "source": [
    "<a id=\"intro\"></a>\n",
    "# BCIs and Ghost Music\n",
    "\n",
    "\n",
    "http://hplgit.github.io/primer.html/doc/pub/diffeq/._diffeq-solarized002.html\n",
    "\n",
    "\n",
    "maybe: https://web.mit.edu/music21/doc/index.html ? (see example implementation here https://www.datacamp.com/tutorial/using-tensorflow-to-compose-music)\n",
    "\n",
    "\n",
    "\n",
    "<!-- <figure align=\"center\">\n",
    "<img src='https://github.com/neurologic/Neurophysiology-Lab/blob/main/images/example-eods_Kramer.jpeg?raw=True' width=\"300\" alt='eod e-field' align=\"center\"/>\n",
    "<figcaption align = \"center\"><b>Electric organ discharge waveform</b> and sex, in three snoutfish species of southern Africa. All electric organ discharges represented as voltage over time, recorded in the field immediately after capture. Same time bar for all. (a) Sexual dimorphism in Marcusenius altisambesi with two distinct waveforms. (b) Sex difference of only a statistical nature in Petrocephalus catostoma (Upper Zambezi form) with, in most males, a stronger second positive phase than in females, such as shown here. (c) Petrocephalus wesselsi (Sabie River, South Africa) with no difference between the sexes. P. wesselsi was recognized as distinct from P. catostoma only recently.\n",
    "</figcaption>\n",
    "</figure> -->\n",
    "\n",
    "<a href=\"https://colab.research.google.com/github/neurologic/Neurophysiology-Lab/blob/main/<'folder'/'notebookname'>.ipynb\" target=\"_blank\" rel=\"noopener noreferrer\">Link to Other Notebooks (colab link)</a>   \n"
   ]
  },
  {
   "cell_type": "markdown",
   "id": "f07451ff-cf56-4763-b4ac-bd099ba1f145",
   "metadata": {},
   "source": [
    "<a id=\"toc\"></a>\n",
    "# Table of Contents\n",
    "\n",
    "- [Introduction](#intro)\n",
    "- [Setup](#setup)\n",
    "- [Part I. ](#one)\n",
    "- Time series analyses:\n",
    "    - [Part II. ](#two)\n",
    "    - [Part III. ](#three)\n",
    "    - [Part IV. ](#four)\n",
    "- [Part V. ](#five)"
   ]
  },
  {
   "cell_type": "markdown",
   "id": "488d476b-9387-43d7-b4bf-0528d9f4950a",
   "metadata": {},
   "source": [
    "<a id=\"setup\"></a>\n",
    "# Setup"
   ]
  },
  {
   "cell_type": "code",
   "execution_count": null,
   "id": "b61a4ce1-08a4-415a-a013-91a8d2216831",
   "metadata": {
    "tags": [
     "hide-input"
    ]
   },
   "outputs": [],
   "source": [
    "#@title {display-mode: \"form\"}"
   ]
  },
  {
   "cell_type": "markdown",
   "id": "b94f344a-8c2a-4080-b972-8e7a30c91e66",
   "metadata": {},
   "source": [
    "Import and define functions"
   ]
  },
  {
   "cell_type": "code",
   "execution_count": 19,
   "id": "be70dacf-b862-4afa-8fc0-dce8c363fdf9",
   "metadata": {
    "tags": [
     "hide-input"
    ]
   },
   "outputs": [
    {
     "name": "stdout",
     "output_type": "stream",
     "text": [
      "Task completed at 2022-05-06 17:14:10.009142-05:00\n"
     ]
    }
   ],
   "source": [
    "#@title {display-mode: \"form\"}\n",
    "\n",
    "#@markdown Run this code cell to import packages and define functions \n",
    "import numpy as np\n",
    "import pandas as pd\n",
    "import plotly.express as px\n",
    "import plotly.graph_objects as go\n",
    "from plotly.subplots import make_subplots\n",
    "from scipy import ndimage\n",
    "from scipy.signal import hilbert,medfilt,resample, find_peaks\n",
    "import seaborn as sns\n",
    "from datetime import datetime,timezone,timedelta\n",
    "\n",
    "import matplotlib.pyplot as plt\n",
    "pal = sns.color_palette(n_colors=15)\n",
    "pal = pal.as_hex()\n",
    "\n",
    "\n",
    "from scipy.io.wavfile import write\n",
    "\n",
    "# Defining the creation of a note\n",
    "def note(frequency, length, amplitude=1, sample_rate=44100):\n",
    "    time_points = np.linspace(0, length, int(length*sample_rate))\n",
    "    data = np.sin(2*np.pi*frequency*time_points)\n",
    "    data = amplitude*data\n",
    "    # add ramp to onset and offset of note to avoid clicks\n",
    "    return data\n",
    "\n",
    "\n",
    "print('Task completed at ' + str(datetime.now(timezone(-timedelta(hours=5)))))"
   ]
  },
  {
   "cell_type": "markdown",
   "id": "f91a09e1-c305-4809-8302-c1fad4140efa",
   "metadata": {},
   "source": [
    "Mount Google Drive"
   ]
  },
  {
   "cell_type": "code",
   "execution_count": null,
   "id": "2b3a4500-470b-44e3-8572-a0d55f3bc1cb",
   "metadata": {
    "tags": [
     "hide-input"
    ]
   },
   "outputs": [],
   "source": [
    "#@title {display-mode: \"form\"}\n",
    "\n",
    "#@markdown Run this cell to mount your Google Drive.\n",
    "\n",
    "from google.colab import drive\n",
    "drive.mount('/content/drive')\n",
    "\n",
    "print('Task completed at ' + str(datetime.now(timezone(-timedelta(hours=5)))))"
   ]
  },
  {
   "cell_type": "markdown",
   "id": "61aa1776-ad44-4487-ad14-9dfe050de305",
   "metadata": {},
   "source": [
    "Import data digitized with *Nidaq USB6211* and recorded using *Bonsai-rx* as a *.bin* file"
   ]
  },
  {
   "cell_type": "code",
   "execution_count": null,
   "id": "f43c1bcd-a86d-43a8-bfcb-3362a0c20893",
   "metadata": {
    "tags": [
     "hide-input"
    ]
   },
   "outputs": [],
   "source": [
    "#@title {display-mode: \"form\"}\n",
    "\n",
    "#@markdown Specify the file path \n",
    "#@markdown to your recorded data on Drive (find the filepath in the colab file manager:\n",
    "\n",
    "filepath = \"full filepath goes here\"  #@param \n",
    "\n",
    "#@markdown Specify the sampling rate and number of channels recorded.\n",
    "\n",
    "sampling_rate = NaN #@param\n",
    "number_channels = NaN #@param\n",
    "\n",
    "downsample = False #@param\n",
    "\n",
    "#@markdown After you have filled out all form fields, \n",
    "#@markdown run this code cell to load the data. \n",
    "\n",
    "filepath = Path(filepath)\n",
    "\n",
    "# No need to edit below this line\n",
    "#################################\n",
    "data = np.fromfile(Path(filepath), dtype = np.float64)\n",
    "data = data.reshape(-1,number_channels)\n",
    "dur = np.shape(data)[0]/sampling_rate\n",
    "print('duration of recording was %0.2f seconds' %dur)\n",
    "\n",
    "fs = 1/sampling_rate\n",
    "if downsample:\n",
    "    newfs = 2500 #downsample emg data\n",
    "    chunksize = int(sampling_rate/newfs)\n",
    "    data = data[0::chunksize,:]\n",
    "    fs = np.shape(data)[0]/dur\n",
    "\n",
    "time = np.linspace(0,np.shape(data)[0]/fs,np.shape(data)[0])\n",
    "\n",
    "\n",
    "print('Data upload completed at ' + str(datetime.now(timezone(-timedelta(hours=5)))))\n",
    "\n",
    "print('Now be a bit patient while it plots.')\n",
    "fig = go.Figure()\n",
    "fig.add_trace(go.Scatter(x = time, y = data,line_color='black',name='emg0'))\n",
    "fig.update_layout(xaxis_title=\"time(seconds)\", yaxis_title='amplitude',width=800, height=500)"
   ]
  },
  {
   "cell_type": "markdown",
   "id": "b7b40cda-55dd-4604-afb7-89e5d0731983",
   "metadata": {},
   "source": [
    "<a id=\"one\"></a>\n",
    "# Part I.\n",
    "\n",
    "[toc](#toc)"
   ]
  },
  {
   "cell_type": "markdown",
   "id": "5a9a41d4-2bb6-4a37-8af8-98a446246b07",
   "metadata": {},
   "source": [
    "How do we generate a melody mathematically in a computer program? With the note function we can generate a note with a certain amplitude, frequency, and duration. The note is represented as an array. Putting sound arrays for different notes after each other will make up a melody. If we have several sound arrays data1, data2, data3, …, we can make a new array consisting of the elements in the first array followed by the elements of the next array followed by the elements in the next array and so forth:\n",
    "\n",
    "data = numpy.concatenate((data1, data2, data3, ...))\n",
    "The frequency of a note that is h half tones up from a base frequency f is given by f2h/12. With the tone A at 440 Hz, we can define notes and the corresponding frequencies as"
   ]
  },
  {
   "cell_type": "code",
   "execution_count": 21,
   "id": "8426347f-e3d9-4837-a275-9bf9f5ba9a49",
   "metadata": {},
   "outputs": [],
   "source": [
    "sample_rate=44100\n",
    "base_freq = 440.0\n",
    "notes = ['A', 'A#', 'B', 'C', 'C#', 'D', 'D#', 'E',\n",
    "         'F', 'F#', 'G', 'G#']\n",
    "notes2freq = {notes[i]: base_freq*2**(i/12.0)\n",
    "              for i in range(len(notes))}"
   ]
  },
  {
   "cell_type": "markdown",
   "id": "27d1fb06-23c6-4127-bf9b-f9859a1b7b1b",
   "metadata": {},
   "source": [
    "With the notes to frequency mapping a melody can be made as a series of notes with specified duration:"
   ]
  },
  {
   "cell_type": "code",
   "execution_count": 57,
   "id": "56c295e4-e3a4-4d4d-b797-cabeb28195a3",
   "metadata": {},
   "outputs": [],
   "source": [
    "l = .2  # basic duration unit\n",
    "tones = [('E', 3*l), ('D', l), ('C#', 2*l), ('B', 2*l), ('A', 2*l),\n",
    "         ('B', 2*l), ('C#', 2*l), ('D', 2*l), ('E', 3*l),\n",
    "         ('F#', l), ('E', 2*l), ('D', 2*l), ('C#', 4*l)]\n",
    "\n",
    "samples = []\n",
    "for tone, duration in tones :\n",
    "    s = note(notes2freq[tone], duration)\n",
    "    samples.append(s)\n",
    "\n",
    "data = np.concatenate(samples)\n",
    "data *= 15 # The max amplitude from the resource I used is WAY too loud... 2**15-1 # max_amplitude = 2**15 - 1\n",
    "# scitools.sound.write(data, \"melody.wav\")"
   ]
  },
  {
   "cell_type": "code",
   "execution_count": 59,
   "id": "15c56655-ced0-4bda-b2d6-fe81b90d62ee",
   "metadata": {},
   "outputs": [],
   "source": [
    "write('test.wav', sample_rate, data)"
   ]
  },
  {
   "cell_type": "markdown",
   "id": "8a987b28-1aea-4207-a653-9efa81176b5b",
   "metadata": {},
   "source": [
    "Pick a set of notes to associate with each PC. For example, for 2 PCS: E and D. "
   ]
  },
  {
   "cell_type": "code",
   "execution_count": 78,
   "id": "4e526871-0309-477b-9256-5482ab5327ce",
   "metadata": {},
   "outputs": [],
   "source": [
    "l = 1  # basic duration unit should equal the frequency with which you query the activity in EMG space\n",
    "tones = [('E', l), ('D', l)]"
   ]
  },
  {
   "cell_type": "markdown",
   "id": "f96551a4-89c0-4b47-9bf9-98ded497393a",
   "metadata": {},
   "source": [
    "Calculate the PCA space and rename each PC by its tone\n",
    "> Can either determine PC:note association by most dominant to least, or can select from a list which PC should be associated with each note"
   ]
  },
  {
   "cell_type": "code",
   "execution_count": null,
   "id": "2e49928d-71a1-4fba-bb63-1977f6695f26",
   "metadata": {},
   "outputs": [],
   "source": [
    "# PCA analysis of EMG data\n",
    "\n",
    "# rename certain PCs to notes"
   ]
  },
  {
   "cell_type": "markdown",
   "id": "720990de-8496-4963-b3a3-7d442072503d",
   "metadata": {},
   "source": [
    "Create music from the PC space"
   ]
  },
  {
   "cell_type": "code",
   "execution_count": 78,
   "id": "f7ccfff6-52e8-435c-aa26-9975a2aa87c8",
   "metadata": {},
   "outputs": [],
   "source": [
    "# For each time step, multiply each note by the PC amplitude\n",
    "# Might need to adjust the scaling so that the differences are more clear?\n",
    "\n",
    "\n",
    "# filter the PC dataframe for columns in \"tones\" list\n",
    "\n",
    "# bin PC dataframe by time chunks (or rolling average?)\n",
    "# for each time chunk, get a wav sum of all tones weighted by their PC amplitude\n",
    "\n",
    "wav = []\n",
    "for t in num_timebins:\n",
    "    samples = []\n",
    "    for tone, duration in tones :\n",
    "\n",
    "        # get the amplitude\n",
    "        s = note(notes2freq[tone], duration, amplitude)\n",
    "        samples.append(s)\n",
    "\n",
    "    samples = np.asarray(samples)\n",
    "    wav.append(samples)\n",
    "    \n",
    "wav = np.concatenate(wav) # concatenate all of the time bins together to produce result. \n",
    "\n",
    "# normalize wav to max amplitude\n",
    "wav = np.sum(wav,0)/np.max(np.sum(wav,0))\n",
    "\n",
    "# then multiply by scaling factor to make audible for wave write\n",
    "audio_scaling = 1\n",
    "wav *= audio_scaling\n"
   ]
  },
  {
   "cell_type": "code",
   "execution_count": 84,
   "id": "80226330-03ae-426c-9d62-7d9d97b83599",
   "metadata": {},
   "outputs": [
    {
     "data": {
      "text/plain": [
       "[<matplotlib.lines.Line2D at 0x7fab6998ca90>]"
      ]
     },
     "execution_count": 84,
     "metadata": {},
     "output_type": "execute_result"
    },
    {
     "data": {
      "image/png": "[encoded data removed]",
      "text/plain": [
       "<Figure size 432x288 with 1 Axes>"
      ]
     },
     "metadata": {
      "filenames": {
       "image/png": "/Users/kperks/Documents/Teaching/Neurophysiology-Lab/_build/jupyter_execute/modules/human-bci-music/Data-Explorer_human-bci-music_23_1.png"
      },
      "needs_background": "light"
     },
     "output_type": "display_data"
    }
   ],
   "source": [
    "# plot data to look at it before making wav. \n",
    "# make sure it is within reasonable audio range (for mac mini... -1 to 1 is fine!)\n",
    "plt.plot(data)"
   ]
  },
  {
   "cell_type": "raw",
   "id": "b35420d2-aa48-4740-a79f-059a6bbff4de",
   "metadata": {},
   "source": [
    "Write the data to a wav file to listen to the composition"
   ]
  },
  {
   "cell_type": "markdown",
   "id": "cf6f98de-6245-4acb-9033-bab2be14330a",
   "metadata": {},
   "source": [
    "write('test.wav', sample_rate, data)"
   ]
  },
  {
   "cell_type": "markdown",
   "id": "4b2e712e-7fa5-4204-b3f5-dc066782bc1c",
   "metadata": {
    "tags": []
   },
   "source": [
    "<font color = 'green'><b>Figure out how to smoothly vary from one note to the next without amplitude modulation so that can have higher temporal resolution</b></font>"
   ]
  },
  {
   "cell_type": "markdown",
   "id": "dd727a14-c83f-4bc1-91d7-59cb24049341",
   "metadata": {},
   "source": [
    "<a id=\"two\"></a>\n",
    "# Part II.\n",
    "\n",
    "[toc](#toc)"
   ]
  },
  {
   "cell_type": "markdown",
   "id": "c224f763-fc10-4dc7-8a2f-8b6be3ce0dba",
   "metadata": {},
   "source": [
    "<a id=\"three\"></a>\n",
    "# Part III.\n",
    "\n",
    "[toc](#toc)"
   ]
  },
  {
   "cell_type": "markdown",
   "id": "a48353ef-4d84-45a6-91eb-49669622071b",
   "metadata": {},
   "source": [
    "<a id=\"four\"></a>\n",
    "# Part IV.\n",
    "\n",
    "[toc](#toc)"
   ]
  },
  {
   "cell_type": "markdown",
   "id": "ee9a8d05-efee-4523-85b9-0976a1de3dbf",
   "metadata": {},
   "source": [
    "<a id=\"five\"></a>\n",
    "# Part V.\n",
    "\n",
    "[toc](#toc)"
   ]
  },
  {
   "cell_type": "markdown",
   "id": "d451b557-6777-4492-955e-a41130ad39b9",
   "metadata": {},
   "source": [
    "<hr> \n",
    "Written by Dr. Krista Perks for courses taught at Wesleyan University."
   ]
  },
  {
   "cell_type": "code",
   "execution_count": null,
   "id": "5c707588-d5f6-4142-8289-da7ba6a97dbc",
   "metadata": {},
   "outputs": [],
   "source": []
  },
  {
   "cell_type": "markdown",
   "id": "57a8a68c-055e-4af0-ba4d-67d0d67148f1",
   "metadata": {},
   "source": [
    "<a id=\"setup\"></a>"
   ]
  },
  {
   "cell_type": "markdown",
   "id": "a350712e-e145-4475-9588-e3f19469b5ce",
   "metadata": {},
   "source": [
    "<a id=\"one\"></a>"
   ]
  },
  {
   "cell_type": "markdown",
   "id": "86fd2b4a-b890-465f-bf33-c2057738789e",
   "metadata": {},
   "source": [
    "<a id=\"two\"></a>"
   ]
  },
  {
   "cell_type": "markdown",
   "id": "b05de192-2baf-4d46-8848-6db1e3b50bff",
   "metadata": {},
   "source": [
    "<a id=\"three\"></a>"
   ]
  },
  {
   "cell_type": "markdown",
   "id": "e6519277-fc86-44fd-a75b-f74cad0efcf1",
   "metadata": {},
   "source": [
    "<a id=\"four\"></a>"
   ]
  }
 ],
 "metadata": {
  "kernelspec": {
   "display_name": "Python 3 (ipykernel)",
   "language": "python",
   "name": "python3"
  },
  "language_info": {
   "codemirror_mode": {
    "name": "ipython",
    "version": 3
   },
   "file_extension": ".py",
   "mimetype": "text/x-python",
   "name": "python",
   "nbconvert_exporter": "python",
   "pygments_lexer": "ipython3",
   "version": "3.8.13"
  },
  "widgets": {
   "application/vnd.jupyter.widget-state+json": {
    "state": {},
    "version_major": 2,
    "version_minor": 0
   }
  }
 },
 "nbformat": 4,
 "nbformat_minor": 5
}