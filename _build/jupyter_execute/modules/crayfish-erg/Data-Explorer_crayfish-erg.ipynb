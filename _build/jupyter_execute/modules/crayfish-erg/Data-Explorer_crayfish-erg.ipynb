{
 "cells": [
  {
   "cell_type": "markdown",
   "id": "32647951-7dcf-4553-b42a-5d8508d95cf9",
   "metadata": {},
   "source": [
    "<a href=\"https://colab.research.google.com/github/neurologic/Neurophysiology-Lab/blob/main/modules/crayfish-erg/Data-Explorer_crayfish-erg.ipynb\" target=\"_blank\" rel=\"noopener noreferrer\"><img alt=\"Open In Colab\" src=\"https://colab.research.google.com/assets/colab-badge.svg\"/></a>   "
   ]
  },
  {
   "cell_type": "markdown",
   "id": "8f701b03-52cb-4215-979a-1ccaa3839703",
   "metadata": {},
   "source": [
    "# Data Explorer"
   ]
  },
  {
   "cell_type": "markdown",
   "id": "f07451ff-cf56-4763-b4ac-bd099ba1f145",
   "metadata": {},
   "source": [
    "<a id=\"toc\"></a>\n",
    "# Table of Contents\n",
    "\n",
    "- [Introduction](#intro)\n",
    "- [Setup](#setup)\n",
    "- [Part I. Process Data](#one)\n",
    "- [Part II. Analyze Processed Data](#two)\n"
   ]
  },
  {
   "cell_type": "markdown",
   "id": "38b445ff-7cf7-442e-bb25-83afe6d5a3fb",
   "metadata": {},
   "source": [
    "<a id=\"intro\"></a>\n",
    "# ElectroRetinoGram and Sensory Coding\n",
    "\n",
    "Local field potential"
   ]
  },
  {
   "cell_type": "markdown",
   "id": "488d476b-9387-43d7-b4bf-0528d9f4950a",
   "metadata": {},
   "source": [
    "<a id=\"setup\"></a>\n",
    "# Setup\n",
    "\n",
    "[toc](#toc)"
   ]
  },
  {
   "cell_type": "markdown",
   "id": "b94f344a-8c2a-4080-b972-8e7a30c91e66",
   "metadata": {},
   "source": [
    "Import and define functions"
   ]
  },
  {
   "cell_type": "code",
   "execution_count": null,
   "id": "be70dacf-b862-4afa-8fc0-dce8c363fdf9",
   "metadata": {
    "tags": [
     "hide-input"
    ]
   },
   "outputs": [],
   "source": [
    "#@title {display-mode: \"form\"}\n",
    "\n",
    "#@markdown Run this code cell to import packages and define functions \n",
    "from pathlib import Path\n",
    "import random\n",
    "import numpy as np\n",
    "import pandas as pd\n",
    "import plotly.express as px\n",
    "import plotly.graph_objects as go\n",
    "from plotly.subplots import make_subplots\n",
    "from scipy import ndimage, optimize, signal\n",
    "from scipy.signal import hilbert,medfilt,resample, find_peaks,butter\n",
    "import seaborn as sns\n",
    "import matplotlib.pyplot as plt\n",
    "from sklearn.decomposition import PCA\n",
    "from sklearn.cluster import KMeans\n",
    "from datetime import datetime,timezone,timedelta\n",
    "pal = sns.color_palette(n_colors=15)\n",
    "pal = pal.as_hex()\n",
    "\n",
    "from ipywidgets import interactive, HBox, VBox, widgets, interact\n",
    "\n",
    "def monoExp(x, m, t, b):\n",
    "    return m * np.exp(-x / t) + b\n",
    "\n",
    "print('Task completed at ' + str(datetime.now(timezone(-timedelta(hours=5)))))"
   ]
  },
  {
   "cell_type": "markdown",
   "id": "f91a09e1-c305-4809-8302-c1fad4140efa",
   "metadata": {},
   "source": [
    "Mount Google Drive"
   ]
  },
  {
   "cell_type": "code",
   "execution_count": null,
   "id": "2b3a4500-470b-44e3-8572-a0d55f3bc1cb",
   "metadata": {
    "tags": [
     "hide-input"
    ]
   },
   "outputs": [],
   "source": [
    "#@title {display-mode: \"form\"}\n",
    "\n",
    "#@markdown Run this cell to mount your Google Drive.\n",
    "\n",
    "from google.colab import drive\n",
    "drive.mount('/content/drive')\n",
    "\n",
    "print('Task completed at ' + str(datetime.now(timezone(-timedelta(hours=5)))))"
   ]
  },
  {
   "cell_type": "markdown",
   "id": "61aa1776-ad44-4487-ad14-9dfe050de305",
   "metadata": {},
   "source": [
    "Import data digitized with *Nidaq USB6211* and recorded using *Bonsai-rx* as a *.bin* file"
   ]
  },
  {
   "cell_type": "code",
   "execution_count": null,
   "id": "a7152a58-2458-4b02-a680-e40e8b706c95",
   "metadata": {
    "tags": [
     "hide-input"
    ]
   },
   "outputs": [],
   "source": [
    "#@title {display-mode: \"form\"}\n",
    "\n",
    "#@markdown Specify the file path \n",
    "#@markdown to your recorded data on Drive (find the filepath in the colab file manager:\n",
    "\n",
    "filepath = \"full filepath goes here\"  #@param \n",
    "filepath = \"/Users/kperks/mnt/OneDrive - wesleyan.edu/Teaching/Neurophysiology_FA22/data/20220620/eye2022-06-20T14_32_23.bin\"\n",
    "\n",
    "#@markdown Specify the sampling rate and number of channels recorded.\n",
    "sampling_rate = None #@param\n",
    "number_channels = None #@param\n",
    "retina_channel = 0 #@param\n",
    "stimulus_channel = 1 #@param\n",
    "\n",
    "sampling_rate = 30000 #@param\n",
    "number_channels = 2 #@param\n",
    "\n",
    "downsample = False #@param\n",
    "newfs = 10000 #@param\n",
    "\n",
    "#@markdown After you have filled out all form fields, \n",
    "#@markdown run this code cell to load the data. \n",
    "\n",
    "filepath = Path(filepath)\n",
    "\n",
    "# No need to edit below this line\n",
    "#################################\n",
    "data = np.fromfile(Path(filepath), dtype = np.float64)\n",
    "data = data.reshape(-1,number_channels)\n",
    "data = data-data[0,:] # only do this offset adjustment for motor nerve recordings\n",
    "\n",
    "dur = np.shape(data)[0]/sampling_rate\n",
    "print('duration of recording was %0.2f seconds' %dur)\n",
    "\n",
    "fs = sampling_rate\n",
    "if downsample:\n",
    "    # newfs = 2500 #downsample data\n",
    "    chunksize = int(sampling_rate/newfs)\n",
    "    if number_channels>1:\n",
    "        data = data[0::chunksize,:]\n",
    "    if number_channels==1:\n",
    "        data = data[0::chunksize]\n",
    "    fs = int(np.shape(data)[0]/dur)\n",
    "\n",
    "time = np.linspace(0,dur,np.shape(data)[0])\n",
    "\n",
    "sos = butter(4, 500, 'lp', fs=fs, output='sos')\n",
    "\n",
    "\n",
    "if len(np.shape(data))>1:\n",
    "    retina_signal = data[:,retina_channel]\n",
    "    # retina_signal = medfilt(retina_signal,51)\n",
    "    retina_signal = signal.sosfilt(sos, retina_signal)\n",
    "    stimulus_signal = data[:,stimulus_channel]\n",
    "if len(np.shape(data))==1:\n",
    "    signal = data\n",
    "\n",
    "print('Now be a bit patient while it plots.')\n",
    "\n",
    "f = go.FigureWidget(make_subplots(rows=2, cols=1, row_width=[3, 1], \n",
    "                                  vertical_spacing=0, shared_xaxes= True)) #,layout=go.Layout(height=500, width=800))\n",
    "f.add_trace(go.Scatter(x = time[0:fs], y = retina_signal[0:fs],\n",
    "                             opacity=1),row=2,col=1)\n",
    "f.add_trace(go.Scatter(x = time[0:fs], y = stimulus_signal[0:fs],\n",
    "                             opacity=1),row=1,col=1)\n",
    "\n",
    "f.update_layout(height=600, width=1000,\n",
    "                showlegend=False,\n",
    "               xaxis2_title=\"time(seconds)\", \n",
    "                  yaxis1_title='photoresistor voltage',\n",
    "               yaxis2_title='retina voltage')\n",
    "\n",
    "slider = widgets.FloatRangeSlider(\n",
    "    min=0,\n",
    "    max=dur,\n",
    "    value=(0,1),\n",
    "    step= 1,\n",
    "    readout=False,\n",
    "    description='Time')\n",
    "slider.layout.width = '600px'\n",
    "\n",
    "# our function that will modify the xaxis range\n",
    "def response(x):\n",
    "    with f.batch_update():\n",
    "        starti = int(x[0]*fs)\n",
    "        stopi = int(x[1]*fs)\n",
    "        f.data[0].x = time[starti:stopi]\n",
    "        f.data[0].y = retina_signal[starti:stopi]\n",
    "        f.data[1].x = time[starti:stopi]\n",
    "        f.data[1].y = stimulus_signal[starti:stopi]\n",
    "\n",
    "vb = VBox((f, interactive(response, x=slider)))\n",
    "vb.layout.align_items = 'center'\n",
    "vb"
   ]
  },
  {
   "cell_type": "markdown",
   "id": "b7b40cda-55dd-4604-afb7-89e5d0731983",
   "metadata": {},
   "source": [
    "<a id=\"one\"></a>\n",
    "\n",
    "# Part I. Process Data\n",
    "\n",
    "[toc](#toc)\n",
    "\n",
    "\n",
    "This section provides tools to visualize the retinal response across trials overlaid.\n",
    "\n",
    "From the initial data plot, you should be able to determine 'trial' times for a trial-based exploration."
   ]
  },
  {
   "cell_type": "code",
   "execution_count": null,
   "id": "7d4fbec2-3484-483d-91b1-7df4af5c738d",
   "metadata": {
    "tags": [
     "hide-input"
    ]
   },
   "outputs": [],
   "source": [
    "#@title {display-mode:\"form\"}\n",
    "\n",
    "#@markdown Determine the start time for each *trial*.  \n",
    "#@markdown What defines the start of a trial will depend on your question.  \n",
    "#@markdown Enter the trial times as a list below.\n",
    "\n",
    "trials_list = [51.72, 61.65, 71.256, 83.063] #@param\n",
    "\n",
    "# # different amplitudes\n",
    "# trials = [6.345,13.836,21.63,32.635,40.319]\n",
    "# trials = [51.72, 61.65, 71.256, 80.063]\n",
    "# trials = [94.692,103.73,111.665,120.871,129.286]\n",
    "\n",
    "# # offset response\n",
    "# trials = [99.832,110,118.327,126.86]\n",
    "\n",
    "#@markdown How much time before and after the trial time do you want to visualize?\n",
    "window = 10\n",
    "\n",
    "#@markdown Run this code cell to plot the result (for the cluster you selected in the first code cell of this section)\n",
    "\n",
    "f = go.FigureWidget(make_subplots(rows=1,cols=1))\n",
    "\n",
    "for i,t in enumerate(trials_list):\n",
    "    ti = np.argmin(np.abs(spkt-t))\n",
    "    sweep = spkt[(spkt>spkt[ti]-10) & (spkt<spkt[ti]+10)]-spkt[ti]\n",
    "    sweep_rate = 1/np.diff(sweep)\n",
    "    f.add_trace(go.Scatter(x = sweep[1:], y = sweep_rate,name = 'trial ' + str(i)),row=1,col=1)\n",
    "\n",
    "\n",
    "f.update_layout(height=500, width=800,\n",
    "                showlegend=False,\n",
    "                xaxis_title=\"time (seconds)\",\n",
    "                  yaxis_title='rate')"
   ]
  },
  {
   "cell_type": "markdown",
   "id": "d451b557-6777-4492-955e-a41130ad39b9",
   "metadata": {},
   "source": [
    "<hr> \n",
    "Written by Dr. Krista Perks for courses taught at Wesleyan University."
   ]
  },
  {
   "cell_type": "code",
   "execution_count": null,
   "id": "5c707588-d5f6-4142-8289-da7ba6a97dbc",
   "metadata": {},
   "outputs": [],
   "source": []
  },
  {
   "cell_type": "markdown",
   "id": "57a8a68c-055e-4af0-ba4d-67d0d67148f1",
   "metadata": {},
   "source": [
    "<a id=\"setup\"></a>"
   ]
  },
  {
   "cell_type": "markdown",
   "id": "a350712e-e145-4475-9588-e3f19469b5ce",
   "metadata": {},
   "source": [
    "<a id=\"one\"></a>"
   ]
  },
  {
   "cell_type": "markdown",
   "id": "86fd2b4a-b890-465f-bf33-c2057738789e",
   "metadata": {},
   "source": [
    "<a id=\"two\"></a>"
   ]
  },
  {
   "cell_type": "markdown",
   "id": "b05de192-2baf-4d46-8848-6db1e3b50bff",
   "metadata": {},
   "source": [
    "<a id=\"three\"></a>"
   ]
  },
  {
   "cell_type": "markdown",
   "id": "e6519277-fc86-44fd-a75b-f74cad0efcf1",
   "metadata": {},
   "source": [
    "<a id=\"four\"></a>"
   ]
  }
 ],
 "metadata": {
  "kernelspec": {
   "display_name": "Python 3 (ipykernel)",
   "language": "python",
   "name": "python3"
  },
  "language_info": {
   "codemirror_mode": {
    "name": "ipython",
    "version": 3
   },
   "file_extension": ".py",
   "mimetype": "text/x-python",
   "name": "python",
   "nbconvert_exporter": "python",
   "pygments_lexer": "ipython3",
   "version": "3.8.13"
  },
  "widgets": {
   "application/vnd.jupyter.widget-state+json": {
    "state": {},
    "version_major": 2,
    "version_minor": 0
   }
  }
 },
 "nbformat": 4,
 "nbformat_minor": 5
}