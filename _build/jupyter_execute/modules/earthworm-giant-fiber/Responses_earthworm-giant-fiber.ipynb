{
 "cells": [
  {
   "cell_type": "markdown",
   "id": "2bcea47c-bd58-4eac-b259-f43405e8982d",
   "metadata": {},
   "source": [
    "# Responses"
   ]
  },
  {
   "cell_type": "markdown",
   "id": "513c0ad9-f856-46a3-9a79-9bb0ca01811c",
   "metadata": {},
   "source": [
    "***Your Name:***"
   ]
  },
  {
   "cell_type": "markdown",
   "id": "167c013a-0073-40f8-9172-8a37465644bf",
   "metadata": {},
   "source": [
    "..."
   ]
  },
  {
   "cell_type": "markdown",
   "id": "ecec8794-af1a-4ca4-873a-872c8d3d5926",
   "metadata": {},
   "source": [
    "***Prompt 1: Describe in words what you observed as you increased the stimulus amplitude in regular (single-pulse) mode. Compose a figure that highlights each observation (either in the same or different panels of the figure).***"
   ]
  },
  {
   "cell_type": "markdown",
   "id": "3f3570a0-bdf8-4a7e-96ac-035c91e9b3d1",
   "metadata": {},
   "source": [
    "...\n",
    "<img src='https://drive.google.com/uc?id=1WoAa-oMOkAj9r9lyls4nLSLyIeuTu4Ae' width=\"300\" >"
   ]
  },
  {
   "cell_type": "markdown",
   "id": "21af1be8-9543-45b6-bb5a-7ef95cf59bca",
   "metadata": {},
   "source": [
    "***Prompt 2: Which stimulating electrode (anode/- or cathode/+) do you think the is the one that evokes an action potential in the LG/MG axon? Why?***"
   ]
  },
  {
   "cell_type": "markdown",
   "id": "912a6eb2-6f29-4465-83c4-64d211cf0018",
   "metadata": {},
   "source": [
    "..."
   ]
  },
  {
   "cell_type": "markdown",
   "id": "9394deb9-5baa-4e3b-af4a-42e14cc10af8",
   "metadata": {},
   "source": [
    "***Prompt 2: Measure the conduction velocity of the Medial and Lateral Giant Axons. The conduction velocity is the distance between the stimulating electrodes and the recording electrode divided by the time it took the action potential to travel that distance.***"
   ]
  },
  {
   "cell_type": "markdown",
   "id": "e717a221-ef38-46b0-8644-fd82bdc471fb",
   "metadata": {},
   "source": [
    "..."
   ]
  },
  {
   "cell_type": "markdown",
   "id": "c2d20023-10bb-4b4b-873e-ed0c9e0fd05d",
   "metadata": {},
   "source": [
    "***Prompt 3: Describe in words what you observed as you decreased the delay between stimuli in paired-pulse mode. Compose a figure that highlights each observation (either in the same or different panels of the figure).***"
   ]
  },
  {
   "cell_type": "markdown",
   "id": "0d514732-c0ac-4f70-9e90-ce4275a28422",
   "metadata": {},
   "source": [
    "...\n",
    "<img src='https://drive.google.com/uc?id=1WoAa-oMOkAj9r9lyls4nLSLyIeuTu4Ae' width=\"300\" >"
   ]
  },
  {
   "cell_type": "markdown",
   "id": "33171c18-c758-4ff4-9545-8efa194fd153",
   "metadata": {},
   "source": [
    "***Prompt 4: Explain why the action potential amplitude differs between the Medial and Lateral Giant Axons. Does this explanation depend on the anatomy, the stimulating configuration, the recording configuration, etc?***"
   ]
  },
  {
   "cell_type": "markdown",
   "id": "c1f5eac1-1d51-485f-b54a-b3ee64607f5f",
   "metadata": {},
   "source": [
    "..."
   ]
  },
  {
   "cell_type": "markdown",
   "id": "22056d2d-56f1-40ff-9986-0aa14f9728b5",
   "metadata": {},
   "source": [
    "***Prompt 5: Were you able to evoke a response from neurons in the nerve cord by using mechanical stimulation? If so, what did you notice? Can you tell if you evoked an action potential(s) from the Medial or Lateral Giants or both? Did the response differ based on where you stimulated? What else do you notice? Compare the response to mechanical stimulation to the response to electrical stimulation. Include a figure to highlight your observations.***"
   ]
  },
  {
   "cell_type": "markdown",
   "id": "b27ed5e5-39df-4a0d-adbb-2cafbdbf5bcd",
   "metadata": {},
   "source": [
    "...\n",
    "<img src='https://drive.google.com/uc?id=1WoAa-oMOkAj9r9lyls4nLSLyIeuTu4Ae' width=\"300\" >"
   ]
  },
  {
   "cell_type": "code",
   "execution_count": null,
   "id": "c6f6a8c4-3e73-410e-a93c-6747537515b6",
   "metadata": {},
   "outputs": [],
   "source": []
  }
 ],
 "metadata": {
  "kernelspec": {
   "display_name": "Python 3 (ipykernel)",
   "language": "python",
   "name": "python3"
  },
  "language_info": {
   "codemirror_mode": {
    "name": "ipython",
    "version": 3
   },
   "file_extension": ".py",
   "mimetype": "text/x-python",
   "name": "python",
   "nbconvert_exporter": "python",
   "pygments_lexer": "ipython3",
   "version": "3.8.13"
  },
  "widgets": {
   "application/vnd.jupyter.widget-state+json": {
    "state": {},
    "version_major": 2,
    "version_minor": 0
   }
  }
 },
 "nbformat": 4,
 "nbformat_minor": 5
}