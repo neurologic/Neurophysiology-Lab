{
 "cells": [
  {
   "cell_type": "markdown",
   "id": "32647951-7dcf-4553-b42a-5d8508d95cf9",
   "metadata": {},
   "source": [
    "# Data Explorer\n",
    "\n",
    "<a href=\"https://colab.research.google.com/github/neurologic/Neurophysiology-Lab/blob/main/modules/earthworm-giant-fiber/Data-Explorer_earthworm-giant-fiber.ipynb\" target=\"_blank\" rel=\"noopener noreferrer\"><img alt=\"Open In Colab\" src=\"https://colab.research.google.com/assets/colab-badge.svg\"/></a>   "
   ]
  },
  {
   "cell_type": "markdown",
   "id": "f07451ff-cf56-4763-b4ac-bd099ba1f145",
   "metadata": {},
   "source": [
    "<a id=\"toc\"></a>\n",
    "# Table of Contents\n",
    "\n",
    "- [Introduction](#intro)\n",
    "- [Setup](#setup)\n",
    "- [Event Detection](#one)\n",
    "- [Trial-Based Analysis](#two)\n"
   ]
  },
  {
   "cell_type": "markdown",
   "id": "38b445ff-7cf7-442e-bb25-83afe6d5a3fb",
   "metadata": {},
   "source": [
    "<a id=\"intro\"></a>\n",
    "# Giant Fiber Physiology\n",
    "\n",
    "How do structure and function and physiology relate to each other? The earthworm giant fiber system is great for investigating these questions for many reasons including: large distinct action potentials, robust stimulus-response relationship, ease of dissection, and interesting anatomical properties that lead to some fun anatomical-physiological relationships.\n",
    "\n",
    "You will use a trial-based exploration of your data to examine parameters of action potential generation and propogation. "
   ]
  },
  {
   "cell_type": "markdown",
   "id": "488d476b-9387-43d7-b4bf-0528d9f4950a",
   "metadata": {},
   "source": [
    "<a id=\"setup\"></a>\n",
    "# Setup\n",
    "\n",
    "[toc](#toc)"
   ]
  },
  {
   "cell_type": "markdown",
   "id": "ac5e6fe8-5ee8-4a44-a353-785ed3d50412",
   "metadata": {},
   "source": [
    "Import and define functions"
   ]
  },
  {
   "cell_type": "code",
   "execution_count": null,
   "id": "b907ad44-4d78-45f0-8775-8cdaf6584ceb",
   "metadata": {
    "tags": [
     "hide-input"
    ]
   },
   "outputs": [],
   "source": [
    "#@title {display-mode: \"form\" }\n",
    "\n",
    "#@markdown Run this code cell to import packages and define functions \n",
    "import numpy as np\n",
    "import pandas as pd\n",
    "import plotly.express as px\n",
    "import plotly.graph_objects as go\n",
    "from plotly.subplots import make_subplots\n",
    "from scipy import ndimage\n",
    "from scipy.signal import hilbert,medfilt,resample, find_peaks, unit_impulse\n",
    "import seaborn as sns\n",
    "from datetime import datetime,timezone,timedelta\n",
    "pal = sns.color_palette(n_colors=15)\n",
    "pal = pal.as_hex()\n",
    "import matplotlib.pyplot as plt\n",
    "import random\n",
    "\n",
    "from pathlib import Path\n",
    "\n",
    "from matplotlib.ticker import (AutoMinorLocator, MultipleLocator)\n",
    "from ipywidgets import widgets, interact\n",
    "%config InlineBackend.figure_format = 'retina'\n",
    "plt.style.use(\"https://raw.githubusercontent.com/NeuromatchAcademy/course-content/master/nma.mplstyle\")\n",
    "\n",
    "print('Task completed at ' + str(datetime.now(timezone(-timedelta(hours=5)))))"
   ]
  },
  {
   "cell_type": "markdown",
   "id": "85f5b456-2a84-416a-8f1d-f480c7a10ad5",
   "metadata": {},
   "source": [
    "Mount Google Drive"
   ]
  },
  {
   "cell_type": "code",
   "execution_count": null,
   "id": "d84a46ac-5cf3-4765-94fd-07e19f0881d2",
   "metadata": {
    "tags": [
     "hide-input"
    ]
   },
   "outputs": [],
   "source": [
    "#@title {display-mode: \"form\" }\n",
    "\n",
    "#@markdown Run this cell to mount your Google Drive.\n",
    "\n",
    "from google.colab import drive\n",
    "drive.mount('/content/drive')\n",
    "\n",
    "print('Task completed at ' + str(datetime.now(timezone(-timedelta(hours=5)))))"
   ]
  },
  {
   "cell_type": "markdown",
   "id": "dfd155f9-cf42-4d7d-98a7-3f2432cf2e5e",
   "metadata": {},
   "source": [
    "## Import data \n",
    "\n",
    "Import data digitized with *Nidaq USB6211* and recorded using *Bonsai-rx* as a *.bin* file\n",
    "\n",
    "If you would like sample this Data Explorer, but do not have data, you can download an example from [here](https://drive.google.com/file/d/1xVtqfthDE6ilAcjiF7pJ_qrIkDPpwZbo/view?usp=sharing) and then upload the file to Google Colab (or access the file through Drive after uploading it to your Drive). If you are using this example file, the sample rate was 30000 on two channels (channel 0 was the nerve signal and channel 1 was the stimulus monitor). At the beginning and end of the recording, I delivered single stimulus pulses with a Grass SD9 stimulator. In the middle of the recording, I used a glass rod to touch the head and the body about 25% from the head. The recording was taken with the photographed preparation in the lab manual. "
   ]
  },
  {
   "cell_type": "code",
   "execution_count": null,
   "id": "6fc27eac-7157-4510-9239-466ca324c58d",
   "metadata": {
    "tags": [
     "hide-input"
    ]
   },
   "outputs": [],
   "source": [
    "#@title {display-mode: \"form\" }\n",
    "\n",
    "#@markdown Specify the file path \n",
    "#@markdown to your recorded data on Drive (find the filepath in the colab file manager:\n",
    "\n",
    "filepath = \"full filepath goes here\"  #@param \n",
    "filepath = '/Users/kperks/mnt/OneDrive - wesleyan.edu/Teaching/Neurophysiology_FA22/data/earthworm-giant-fiber/stim-threshold-second_touch_0.bin'  #@param \n",
    "\n",
    "#@markdown Specify the sampling rate and number of channels recorded.\n",
    "\n",
    "sampling_rate = 30000 #@param\n",
    "number_channels = 2 #@param\n",
    "\n",
    "downsample = False #@param\n",
    "newfs = 10000 #@param\n",
    "\n",
    "#@markdown After you have filled out all form fields, \n",
    "#@markdown run this code cell to load the data. \n",
    "\n",
    "filepath = Path(filepath)\n",
    "\n",
    "# No need to edit below this line\n",
    "#################################\n",
    "data = np.fromfile(Path(filepath), dtype = np.float64)\n",
    "data = data.reshape(-1,number_channels)\n",
    "data_dur = np.shape(data)[0]/sampling_rate\n",
    "print('duration of recording was %0.2f seconds' %data_dur)\n",
    "\n",
    "fs = sampling_rate\n",
    "if downsample:\n",
    "    # newfs = 10000 #downsample emg data\n",
    "    chunksize = int(sampling_rate/newfs)\n",
    "    data = data[0::chunksize,:]\n",
    "    fs = int(np.shape(data)[0]/data_dur)\n",
    "\n",
    "time = np.linspace(0,data_dur,np.shape(data)[0])\n",
    "\n",
    "print('Data upload completed at ' + str(datetime.now(timezone(-timedelta(hours=5)))))"
   ]
  },
  {
   "cell_type": "code",
   "execution_count": null,
   "id": "cb4451d0-cff7-484e-bf5d-3e65c425b147",
   "metadata": {
    "tags": [
     "hide-input"
    ]
   },
   "outputs": [],
   "source": [
    "#@title {display-mode: \"form\"}\n",
    "\n",
    "#@markdown Run this code cell to plot imported data. <br> \n",
    "#@markdown Use the range slider to scroll through the data in time.\n",
    "#@markdown Use the channel slider to choose which channel to plot\n",
    "#@markdown Be patient with the range refresh... the more data you are plotting the slower it will be. \n",
    "\n",
    "slider_xrange = widgets.FloatRangeSlider(\n",
    "    min=0,\n",
    "    max=data_dur,\n",
    "    value=(0,1),\n",
    "    step= 1,\n",
    "    readout=True,\n",
    "    continuous_update=False,\n",
    "    description='Time Range (s)')\n",
    "slider_xrange.layout.width = '600px'\n",
    "\n",
    "slider_chan = widgets.IntSlider(\n",
    "    min=0,\n",
    "    max=number_channels-1,\n",
    "    value=0,\n",
    "    step= 1,\n",
    "    continuous_update=False,\n",
    "    description='channel')\n",
    "slider_chan.layout.width = '300px'\n",
    "\n",
    "# a function that will modify the xaxis range\n",
    "def update_plot(x,chan):\n",
    "    fig, ax = plt.subplots(figsize=(10,5),num=1); #specify figure number so that it does not keep creating new ones\n",
    "    starti = int(x[0]*fs)\n",
    "    stopi = int(x[1]*fs)\n",
    "    ax.plot(time[starti:stopi], data[starti:stopi,chan])\n",
    "\n",
    "w = interact(update_plot, x=slider_xrange, chan=slider_chan);"
   ]
  },
  {
   "cell_type": "markdown",
   "id": "69eef312-a1ec-4dc6-ba47-a45be1f91e58",
   "metadata": {},
   "source": [
    "For a more extensive ***RAW*** Data Explorer than the one provided in the above figure, use the [DataExplorer.py](https://raw.githubusercontent.com/neurologic/Neurophysiology-Lab/main/howto/Data-Explorer.py) application found in the [howto section](https://neurologic.github.io/Neurophysiology-Lab/howto/Dash-Data-Explorer.html) of the course website."
   ]
  },
  {
   "cell_type": "markdown",
   "id": "42e80e86-96cc-4ed1-b01c-a5d466fb39d0",
   "metadata": {},
   "source": [
    "<a id=\"one\"></a>\n",
    "# Part I. Event Detection\n",
    "\n",
    "Python has built-in algorithms for detecting \"peaks\" in a signal. However, it will detect *all* peaks. Therefore, the function takes in arguments that specify parameters for minimum height that can count as a peak and a minimum acceptible interval between independent peaks. \n",
    "\n",
    "First, we will detect all the peaks on the stimulus monitor channel. This will give the time of each *stimulus-triggered trial*. Later, you can come back and detect all peaks on the nerve recording channel if you want to explore a trial-based view of the data triggered off of peaks from that channel. "
   ]
  },
  {
   "cell_type": "code",
   "execution_count": null,
   "id": "fc6a559a-929b-4225-a889-473e4b2e837a",
   "metadata": {
    "tags": [
     "hide-input"
    ]
   },
   "outputs": [],
   "source": [
    "#@title {display-mode: \"form\"}\n",
    "\n",
    "#@markdown Fill in this form. Decide on the peak detection threshold. \n",
    "#@markdown Choose which channel you want to use for event detection\n",
    "\n",
    "channel = None #@param\n",
    "detection_threshold = None #@param\n",
    "\n",
    "#@markdown Then, run the code cell to detect peaks (events) and plot the signal\n",
    "#@markdown overlaid with a scatter of trial times detected using your threshold. \n",
    "\n",
    "d = 0.0003*fs #minimum time allowed between distinct events\n",
    "r = find_peaks(data[:,channel],height=detection_threshold,distance=d)\n",
    "\n",
    "trial_times = r[0]/fs\n",
    "event_amp = r[1]['peak_heights']\n",
    "    \n",
    "slider = widgets.FloatRangeSlider(\n",
    "    min=0,\n",
    "    max=data_dur,\n",
    "    value=(0,1),\n",
    "    step= 0.5,\n",
    "    readout=False,\n",
    "    continuous_update=False,\n",
    "    description='Time Range (s)')\n",
    "slider.layout.width = '800px'\n",
    "\n",
    "# a function that will modify the xaxis range\n",
    "def update_plot(x):\n",
    "    fig, ax = plt.subplots(figsize=(10,5),num=1); #specify figure number so that it does not keep creating new ones\n",
    "    starti = int(x[0]*fs)\n",
    "    stopi = int(x[1]*fs)\n",
    "    ax.plot(time[starti:stopi], data[starti:stopi,channel])\n",
    "    ax.scatter(trial_times[(trial_times>x[0]) & (trial_times<x[1])],\n",
    "               [np.median(data[:,channel])] * len(trial_times[(trial_times>x[0]) & (trial_times<x[1])]),\n",
    "              zorder=3,color='black',s=50)\n",
    "\n",
    "w = interact(update_plot, x=slider);"
   ]
  },
  {
   "cell_type": "markdown",
   "id": "7e6b281e-213b-49de-8359-88707c336ff1",
   "metadata": {},
   "source": [
    "Once you know the times of each peak (each event), we can look at the signal triggered off of those events. To do this, we plot the signal at the event time and some duration before and after that peak. \n",
    "\n",
    "> Note: If you do not think you are detecting enough of the events or if you think you are detecting too much noise, modify your detection threshold and go through the detection steps in Part I again."
   ]
  },
  {
   "cell_type": "markdown",
   "id": "91cae9e4-12f6-4913-bf58-44f9c1c33c40",
   "metadata": {},
   "source": [
    "<a id=\"two\"></a>\n",
    "# Part II. Trial-Based Analysis"
   ]
  },
  {
   "cell_type": "code",
   "execution_count": null,
   "id": "645486f2-b003-47e9-a8df-7c42546629c4",
   "metadata": {
    "tags": [
     "hide-input"
    ]
   },
   "outputs": [],
   "source": [
    "#@title {display-mode: \"form\"}\n",
    "\n",
    "#@markdown Run this cell to create an interactive plot with a slider to scroll \n",
    "#@markdown through data on each channel for individual trials.\n",
    "#@markdown The stimulus amplitude will be printed for each trial. \n",
    "\n",
    "slider_xrange = widgets.FloatSlider(\n",
    "    min=2,\n",
    "    max=40,\n",
    "    value=10,\n",
    "    step=0.5,\n",
    "    continuous_update=False,\n",
    "    readout=False,\n",
    "    description='xrange (ms)'\n",
    ")\n",
    "slider_xrange.layout.width = '600px'\n",
    "\n",
    "slider_yrange = widgets.FloatRangeSlider(\n",
    "    min=np.min(np.min(data)),\n",
    "    max=np.max(np.max(data)),\n",
    "    value=[np.min(np.min(data)),np.max(np.max(data))],\n",
    "    step=0.01,\n",
    "    continuous_update=False,\n",
    "    readout=False,\n",
    "    description='yrange'\n",
    ")\n",
    "slider_yrange.layout.width = '600px'\n",
    "\n",
    "slider_trial = widgets.IntSlider(\n",
    "    min=0,\n",
    "    max=len(trial_times)-1,\n",
    "    value=0,\n",
    "    step= 1,\n",
    "    continuous_update=False,\n",
    "    readout=False,\n",
    "    description='trial')\n",
    "slider_trial.layout.width = '600px'\n",
    "\n",
    "slider_chan = widgets.IntSlider(\n",
    "    min=0,\n",
    "    max=number_channels-1,\n",
    "    value=0,\n",
    "    step= 1,\n",
    "    continuous_update=False,\n",
    "    readout=False,\n",
    "    description='channel')\n",
    "slider_chan.layout.width = '300px'\n",
    "\n",
    "label_eventamp = widgets.Label(\n",
    "    value='stimulus amplitude'\n",
    ")\n",
    "label_eventamp.layout.width = '300px'\n",
    "display(label_eventamp)\n",
    "\n",
    "# a function that will modify the xaxis range\n",
    "def update_plot(trial_,chan,xrange,yrange):\n",
    "    fig, ax = plt.subplots(figsize=(10,5),num=1); #specify figure number so that it does not keep creating new ones\n",
    "    \n",
    "    offset_ = 1\n",
    "    win_0 = int(offset_/1000*fs)\n",
    "    win_1 = int(xrange/1000*fs)\n",
    "\n",
    "    events = np.asarray([data[(int(fs*t)-win_0):(int(fs*t)+win_1),chan] for t in trial_times \n",
    "          if (((int(fs*t)-win_0)>0) & ((int(fs*t)+win_1)<np.shape(data)[0]))]).T\n",
    "    xtime = np.linspace(-offset_,xrange,(win_0 + win_1))\n",
    "\n",
    "    ax.plot(xtime,events[:,trial_],color='black',linewidth=3)\n",
    "    ax.set_ylim(yrange[0],yrange[1]);\n",
    "    ax.set_xlabel('milliseconds')\n",
    "    \n",
    "    # Change major ticks to show every 20.\n",
    "    ax.xaxis.set_major_locator(MultipleLocator(5))\n",
    "    # ax.yaxis.set_major_locator(MultipleLocator(20))\n",
    "\n",
    "    # Change minor ticks to show every 5. (20/4 = 5)\n",
    "    ax.xaxis.set_minor_locator(AutoMinorLocator(10))\n",
    "    ax.yaxis.set_minor_locator(AutoMinorLocator(2))\n",
    "\n",
    "    # Turn grid on for both major and minor ticks and style minor slightly\n",
    "    # differently.\n",
    "    ax.grid(which='major', color='gray', linestyle='-')\n",
    "    ax.grid(which='minor', color='gray', linestyle=':')\n",
    "\n",
    "    # print(f'stimulus monitor peak = {event_amp[trial_]}')\n",
    "    label_eventamp.value = 'peak amplitude = ' + str(np.round(event_amp[trial_],4)) + ' Volts'\n",
    "\n",
    "w = interact(update_plot, trial_=slider_trial, chan=slider_chan, xrange=slider_xrange, yrange=slider_yrange);"
   ]
  },
  {
   "cell_type": "code",
   "execution_count": null,
   "id": "312d03f8-318a-40ce-b002-20ab7b3e3dd5",
   "metadata": {},
   "outputs": [],
   "source": []
  },
  {
   "cell_type": "markdown",
   "id": "d451b557-6777-4492-955e-a41130ad39b9",
   "metadata": {},
   "source": [
    "<hr> \n",
    "Written by Dr. Krista Perks for courses taught at Wesleyan University."
   ]
  },
  {
   "cell_type": "code",
   "execution_count": null,
   "id": "5c707588-d5f6-4142-8289-da7ba6a97dbc",
   "metadata": {},
   "outputs": [],
   "source": []
  },
  {
   "cell_type": "markdown",
   "id": "57a8a68c-055e-4af0-ba4d-67d0d67148f1",
   "metadata": {},
   "source": [
    "<a id=\"setup\"></a>"
   ]
  },
  {
   "cell_type": "markdown",
   "id": "a350712e-e145-4475-9588-e3f19469b5ce",
   "metadata": {},
   "source": [
    "<a id=\"one\"></a>"
   ]
  },
  {
   "cell_type": "markdown",
   "id": "86fd2b4a-b890-465f-bf33-c2057738789e",
   "metadata": {},
   "source": [
    "<a id=\"two\"></a>"
   ]
  },
  {
   "cell_type": "markdown",
   "id": "b05de192-2baf-4d46-8848-6db1e3b50bff",
   "metadata": {},
   "source": [
    "<a id=\"three\"></a>"
   ]
  },
  {
   "cell_type": "markdown",
   "id": "e6519277-fc86-44fd-a75b-f74cad0efcf1",
   "metadata": {},
   "source": [
    "<a id=\"four\"></a>"
   ]
  }
 ],
 "metadata": {
  "kernelspec": {
   "display_name": "Python 3 (ipykernel)",
   "language": "python",
   "name": "python3"
  },
  "language_info": {
   "codemirror_mode": {
    "name": "ipython",
    "version": 3
   },
   "file_extension": ".py",
   "mimetype": "text/x-python",
   "name": "python",
   "nbconvert_exporter": "python",
   "pygments_lexer": "ipython3",
   "version": "3.8.13"
  },
  "widgets": {
   "application/vnd.jupyter.widget-state+json": {
    "state": {},
    "version_major": 2,
    "version_minor": 0
   }
  }
 },
 "nbformat": 4,
 "nbformat_minor": 5
}