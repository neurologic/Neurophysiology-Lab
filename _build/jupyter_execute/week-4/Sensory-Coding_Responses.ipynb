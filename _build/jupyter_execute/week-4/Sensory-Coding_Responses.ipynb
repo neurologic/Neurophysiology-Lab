{
 "cells": [
  {
   "cell_type": "markdown",
   "id": "2bcea47c-bd58-4eac-b259-f43405e8982d",
   "metadata": {},
   "source": [
    "# Responses"
   ]
  },
  {
   "cell_type": "markdown",
   "id": "513c0ad9-f856-46a3-9a79-9bb0ca01811c",
   "metadata": {},
   "source": [
    "Your Name:"
   ]
  },
  {
   "cell_type": "markdown",
   "id": "21af1be8-9543-45b6-bb5a-7ef95cf59bca",
   "metadata": {},
   "source": [
    "<div><font color = green>\n",
    "\n",
    "</font></div>"
   ]
  },
  {
   "cell_type": "markdown",
   "id": "25ae9ecd-f683-44f3-b750-ea4f8f080ffb",
   "metadata": {},
   "source": [
    "(<a href=\"../Sensory-Coding.ipynb#one\" target=\"_blank\" rel=\"noopener noreferrer\">Link to Sensory-Coding: Part I (non-colab link)</a>)"
   ]
  },
  {
   "cell_type": "markdown",
   "id": "a61fd6b5-7246-4f67-b9b6-5d8ea6339ef9",
   "metadata": {},
   "source": [
    "<div><font color = green>\n",
    "    Important: for all values, make sure to account for the amplifier gain (ie. report voltages measured at the electrode, not voltages recorded in Bonsai).\n",
    "</font></div>"
   ]
  },
  {
   "cell_type": "markdown",
   "id": "b67cfff4-c046-4bdf-98db-bfb0e1b14546",
   "metadata": {},
   "source": [
    "..."
   ]
  },
  {
   "cell_type": "markdown",
   "id": "cb1c50f0-fb6d-4062-8410-ff27980c2c8d",
   "metadata": {},
   "source": [
    "<div><font color = green>\n",
    "    Can you identify individual spikes in the signal or do they all blur together? During baseline? During Stimulation?\n",
    "</font></div>"
   ]
  },
  {
   "cell_type": "markdown",
   "id": "cbf03f2d-0ceb-4c3d-8afd-412b9ee0085e",
   "metadata": {},
   "source": [
    "..."
   ]
  },
  {
   "cell_type": "markdown",
   "id": "33470121-8084-4cf6-8f9b-321799ed70d0",
   "metadata": {},
   "source": [
    "<div><font color = green> \n",
    "    Are you measuring spiking activity coming from motor neurons (neurons that tell muscles to contract) or to sensory neurons (neurons that send information from the periphery into the brain)? Why?\n",
    "    </font></div>"
   ]
  },
  {
   "cell_type": "markdown",
   "id": "5445b44b-8172-4959-bcbc-48c198b7bc16",
   "metadata": {},
   "source": [
    "..."
   ]
  },
  {
   "cell_type": "markdown",
   "id": "0733cc91-814f-45fe-9d91-71d8105c745e",
   "metadata": {},
   "source": [
    "<div><font color = green>\n",
    "Are there any spontaneously spiking neurons in your signal? Approximately how many? Create a figure that shows both spontaneous activity and stimulus-induced activity in the raw voltage signal (what information do you need to include in your plot to show this?). Annotate the approximate \"noise floor\" in the signal.\n",
    "</font></div>"
   ]
  },
  {
   "cell_type": "markdown",
   "id": "8659b7d4-bb68-46d1-babb-c01649d8e597",
   "metadata": {},
   "source": [
    "...\n",
    "\n",
    "After answering the questions above, insert your figure by replacing the \"id\" in the link below with your google drive share link id\n",
    "<img src='https://drive.google.com/uc?id=1WoAa-oMOkAj9r9lyls4nLSLyIeuTu4Ae' width=\"300\" >"
   ]
  },
  {
   "cell_type": "markdown",
   "id": "302867bd-6c16-4ba0-8ca3-2192918dcd80",
   "metadata": {},
   "source": [
    "<div><font color = green>\n",
    "Approximately how many different neurons can you identify being represented in the measured voltage signal? How can you tell? \n",
    "</font></div>"
   ]
  },
  {
   "cell_type": "markdown",
   "id": "c8d835d3-ecfc-410b-8f37-1344bb2e74cf",
   "metadata": {},
   "source": [
    "..."
   ]
  },
  {
   "cell_type": "markdown",
   "id": "5bd16177-e372-4f93-b78d-475bd5a75ba2",
   "metadata": {},
   "source": [
    "<div><font color = green>\n",
    "    Why doesn't touching each spine give an action potential of the same height? \n",
    "    </font></div>"
   ]
  },
  {
   "cell_type": "markdown",
   "id": "55714939-338b-4ea6-9f5a-b32bb6ea6582",
   "metadata": {},
   "source": [
    "..."
   ]
  },
  {
   "cell_type": "markdown",
   "id": "0812ea71-49fd-44da-b2ce-c7ef75a1baae",
   "metadata": {},
   "source": [
    "<div><font color = green>\n",
    "    What is the approximate range of amplitude of action potentials recorded in your experiments?\n",
    "    </font></div>"
   ]
  },
  {
   "cell_type": "markdown",
   "id": "c520fee0-c7c4-458f-ba49-34cab09d55f2",
   "metadata": {},
   "source": [
    "..."
   ]
  },
  {
   "cell_type": "markdown",
   "id": "3fc6e07b-bb7b-47a7-a9b4-98b2033e3344",
   "metadata": {},
   "source": [
    "<div><font color = green>\n",
    "\n",
    "What is the approximate noise threshold that you chose for event detection?\n",
    "</font></div>"
   ]
  },
  {
   "cell_type": "markdown",
   "id": "60e8b956-a7f8-46b9-95f6-a8b7ab3ba9fe",
   "metadata": {},
   "source": [
    "..."
   ]
  },
  {
   "cell_type": "markdown",
   "id": "3d3fbe5e-ad42-407b-b4db-e72430d88369",
   "metadata": {},
   "source": [
    "<div><font color = green>\n",
    "\n",
    "What is the standard deviation (SD) of the signal? During baseline? During stimulation? Don't forget to include units on your measurement.\n",
    "</font></div>"
   ]
  },
  {
   "cell_type": "markdown",
   "id": "a2ba6c7f-025f-49fc-8438-9c169f54f5a6",
   "metadata": {},
   "source": [
    "..."
   ]
  },
  {
   "cell_type": "markdown",
   "id": "4bb5274a-ebd0-48aa-a958-8e86484201da",
   "metadata": {},
   "source": [
    "<div><font color = green>\n",
    "\n",
    "How many standard deviation (SD) multiples would have provided an automated metric for choosing a spike detection threshold? Note: A common threshold is 2*SD.\n",
    "</font></div>"
   ]
  },
  {
   "cell_type": "markdown",
   "id": "5881b8cf-9839-4dac-9d81-5a1938af6d85",
   "metadata": {},
   "source": [
    "..."
   ]
  },
  {
   "cell_type": "markdown",
   "id": "66c01a85-4324-4605-9033-bf03e10c431a",
   "metadata": {},
   "source": [
    "<div><font color = green>\n",
    "\n",
    "Concisely describe the response to sensory stimulation (compared to baseline) in terms of both: neuron identity and neuron spike rate. Use approximate values based on the scatter plot of instantaneous spike rate to describe. \n",
    "</font></div>"
   ]
  },
  {
   "cell_type": "markdown",
   "id": "55303b16-bbf7-4c95-ae73-2f65fe4ece65",
   "metadata": {},
   "source": [
    "..."
   ]
  },
  {
   "cell_type": "markdown",
   "id": "c449aeca-721a-44d5-b30e-3a08c6cd0d52",
   "metadata": {},
   "source": [
    "<div><font color = green>\n",
    "    Do different spines of the leg have different <i>adaptation rates</i>? Create a figure that shows this by using the plots of trial-averaged (binned) spike rate for each spine (across 10 trials). Note whether the spiking responses were comparable in terms of number of neurons recorded in response to the depression of each spine. In the figure, include a panel for each barb that shows a portion of the raw voltage signal that enables me to see similarities/differences in the number of stimulus-evoked and spontaneously active neurons. \n",
    " </font></div>"
   ]
  },
  {
   "cell_type": "markdown",
   "id": "1bb95054-518f-4e9d-8cbd-2f2ba2d9f8f4",
   "metadata": {},
   "source": [
    "...\n",
    "\n",
    "After answering the questions above, insert your figure by replacing the \"id\" in the link below with your google drive share link id\n",
    "<img src='https://drive.google.com/uc?id=1WoAa-oMOkAj9r9lyls4nLSLyIeuTu4Ae' width=\"300\" >"
   ]
  },
  {
   "cell_type": "markdown",
   "id": "abbb0815-a0c0-4eab-82f7-34ad23d12756",
   "metadata": {},
   "source": [
    "<div><font color = green>\n",
    "Would you expect to see differences in spontaneous activity for the two different spines? Why or why not?\n",
    "    </font></div>"
   ]
  },
  {
   "cell_type": "markdown",
   "id": "1f47e16a-a69f-4a3c-be36-150a209a278a",
   "metadata": {},
   "source": [
    "..."
   ]
  },
  {
   "cell_type": "code",
   "execution_count": null,
   "id": "7dec3c74-788e-4d27-8f88-9b9b29b0a774",
   "metadata": {},
   "outputs": [],
   "source": []
  }
 ],
 "metadata": {
  "kernelspec": {
   "display_name": "Python 3",
   "language": "python",
   "name": "python3"
  },
  "language_info": {
   "codemirror_mode": {
    "name": "ipython",
    "version": 3
   },
   "file_extension": ".py",
   "mimetype": "text/x-python",
   "name": "python",
   "nbconvert_exporter": "python",
   "pygments_lexer": "ipython3",
   "version": "3.9.12"
  },
  "widgets": {
   "application/vnd.jupyter.widget-state+json": {
    "state": {},
    "version_major": 2,
    "version_minor": 0
   }
  }
 },
 "nbformat": 4,
 "nbformat_minor": 5
}