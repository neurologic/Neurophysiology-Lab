{
 "cells": [
  {
   "cell_type": "markdown",
   "id": "32647951-7dcf-4553-b42a-5d8508d95cf9",
   "metadata": {},
   "source": [
    "<a href=\"https://colab.research.google.com/github/neurologic/Neurophysiology-Lab/blob/main/<'folder'/'notebookname'>.ipynb\" target=\"_blank\"><img alt=\"Open In Colab\" src=\"https://colab.research.google.com/assets/colab-badge.svg\"/></a>   "
   ]
  },
  {
   "cell_type": "markdown",
   "id": "38b445ff-7cf7-442e-bb25-83afe6d5a3fb",
   "metadata": {},
   "source": [
    "<a id=\"intro\"></a>\n",
    "# Template\n",
    "\n",
    "<!-- <figure align=\"center\">\n",
    "<img src='https://github.com/neurologic/Neurophysiology-Lab/blob/main/images/example-eods_Kramer.jpeg?raw=True' width=\"300\" alt='eod e-field' align=\"center\"/>\n",
    "<figcaption align = \"center\"><b>Electric organ discharge waveform</b> and sex, in three snoutfish species of southern Africa. All electric organ discharges represented as voltage over time, recorded in the field immediately after capture. Same time bar for all. (a) Sexual dimorphism in Marcusenius altisambesi with two distinct waveforms. (b) Sex difference of only a statistical nature in Petrocephalus catostoma (Upper Zambezi form) with, in most males, a stronger second positive phase than in females, such as shown here. (c) Petrocephalus wesselsi (Sabie River, South Africa) with no difference between the sexes. P. wesselsi was recognized as distinct from P. catostoma only recently.\n",
    "</figcaption>\n",
    "</figure> -->\n",
    "\n"
   ]
  },
  {
   "cell_type": "markdown",
   "id": "9f47bef1-0aad-43bf-a08c-6e5127e4b935",
   "metadata": {},
   "source": [
    "# Setup\n",
    "[toc](#toc)\n"
   ]
  },
  {
   "cell_type": "markdown",
   "id": "f07451ff-cf56-4763-b4ac-bd099ba1f145",
   "metadata": {},
   "source": [
    "<a id=\"toc\"></a>\n",
    "# Table of Contents\n",
    "\n",
    "- [Introduction](#intro)\n",
    "- [Setup](#setup)\n",
    "- [Part I. ](#one)\n",
    "- Time series analyses:\n",
    "    - [Part II. ](#two)\n",
    "    - [Part III. ](#three)\n",
    "    - [Part IV. ](#four)\n",
    "- [Part V. ](#five)"
   ]
  },
  {
   "cell_type": "markdown",
   "id": "488d476b-9387-43d7-b4bf-0528d9f4950a",
   "metadata": {},
   "source": [
    "<a id=\"setup\"></a>\n",
    "# Setup"
   ]
  },
  {
   "cell_type": "code",
   "execution_count": null,
   "id": "b61a4ce1-08a4-415a-a013-91a8d2216831",
   "metadata": {
    "tags": [
     "hide-input"
    ]
   },
   "outputs": [],
   "source": [
    "#@markdown { display-mode: \"form\" }"
   ]
  },
  {
   "cell_type": "markdown",
   "id": "b94f344a-8c2a-4080-b972-8e7a30c91e66",
   "metadata": {},
   "source": [
    "Import and define functions"
   ]
  },
  {
   "cell_type": "code",
   "execution_count": null,
   "id": "be70dacf-b862-4afa-8fc0-dce8c363fdf9",
   "metadata": {
    "tags": [
     "hide-input"
    ]
   },
   "outputs": [],
   "source": [
    "#@markdown Run this code cell to import packages and define functions { display-mode: \"form\" }\n",
    "import numpy as np\n",
    "import pandas as pd\n",
    "import plotly.express as px\n",
    "import plotly.graph_objects as go\n",
    "from plotly.subplots import make_subplots\n",
    "from scipy import ndimage\n",
    "from scipy.signal import hilbert,medfilt,resample, find_peaks\n",
    "import seaborn as sns\n",
    "from datetime import datetime,timezone,timedelta\n",
    "pal = sns.color_palette(n_colors=15)\n",
    "pal = pal.as_hex()\n",
    "\n",
    "print('Task completed at ' + str(datetime.now(timezone(-timedelta(hours=5)))))"
   ]
  },
  {
   "cell_type": "markdown",
   "id": "f91a09e1-c305-4809-8302-c1fad4140efa",
   "metadata": {},
   "source": [
    "Mount Google Drive"
   ]
  },
  {
   "cell_type": "code",
   "execution_count": null,
   "id": "2b3a4500-470b-44e3-8572-a0d55f3bc1cb",
   "metadata": {
    "tags": [
     "hide-input"
    ]
   },
   "outputs": [],
   "source": [
    "#@markdown Run this cell to mount your Google Drive. { display-mode: \"form\" }\n",
    "\n",
    "from google.colab import drive\n",
    "drive.mount('/content/drive')\n",
    "\n",
    "print('Task completed at ' + str(datetime.now(timezone(-timedelta(hours=5)))))"
   ]
  },
  {
   "cell_type": "markdown",
   "id": "61aa1776-ad44-4487-ad14-9dfe050de305",
   "metadata": {},
   "source": [
    "Import data digitized with *Nidaq USB6211* and recorded using *Bonsai-rx* as a *.bin* file"
   ]
  },
  {
   "cell_type": "code",
   "execution_count": null,
   "id": "f43c1bcd-a86d-43a8-bfcb-3362a0c20893",
   "metadata": {
    "tags": [
     "hide-input"
    ]
   },
   "outputs": [],
   "source": [
    "#@markdown Specify the file path { display-mode: \"form\" }\n",
    "#@markdown to your recorded data on Drive (find the filepath in the colab file manager:\n",
    "\n",
    "filepath = \"full filepath goes here\"  #@param \n",
    "\n",
    "#@markdown Specify the sampling rate and number of channels recorded.\n",
    "\n",
    "sampling_rate = NaN #@param\n",
    "number_channels = NaN #@param\n",
    "\n",
    "downsample = False #@param\n",
    "\n",
    "#@markdown After you have filled out all form fields, \n",
    "#@markdown run this code cell to load the data. \n",
    "\n",
    "filepath = Path(filepath)\n",
    "\n",
    "# No need to edit below this line\n",
    "#################################\n",
    "data = np.fromfile(Path(filepath), dtype = np.float64)\n",
    "data = data.reshape(-1,number_channels)\n",
    "dur = np.shape(data)[0]/sampling_rate\n",
    "print('duration of recording was %0.2f seconds' %dur)\n",
    "\n",
    "fs = 1/sampling_rate\n",
    "if downsample:\n",
    "    newfs = 2500 #downsample emg data\n",
    "    chunksize = int(sampling_rate/newfs)\n",
    "    data = data[0::chunksize,:]\n",
    "    fs = np.shape(data)[0]/dur\n",
    "\n",
    "time = np.linspace(0,np.shape(data)[0]/newfs,np.shape(data)[0])\n",
    "\n",
    "\n",
    "print('Data upload completed at ' + str(datetime.now(timezone(-timedelta(hours=5)))))\n",
    "\n",
    "print('Now be a bit patient while it plots.')\n",
    "fig = go.Figure()\n",
    "fig.add_trace(go.Scatter(x = time, y = data,line_color='black',name='emg0'))\n",
    "fig.update_layout(xaxis_title=\"time(seconds)\", yaxis_title='amplitude',width=800, height=500)"
   ]
  },
  {
   "cell_type": "markdown",
   "id": "b7b40cda-55dd-4604-afb7-89e5d0731983",
   "metadata": {},
   "source": [
    "<a id=\"one\"></a>\n",
    "# Part I."
   ]
  },
  {
   "cell_type": "markdown",
   "id": "dd727a14-c83f-4bc1-91d7-59cb24049341",
   "metadata": {},
   "source": [
    "<a id=\"two\"></a>\n",
    "# Part II."
   ]
  },
  {
   "cell_type": "markdown",
   "id": "c224f763-fc10-4dc7-8a2f-8b6be3ce0dba",
   "metadata": {},
   "source": [
    "<a id=\"three\"></a>\n",
    "# Part III."
   ]
  },
  {
   "cell_type": "markdown",
   "id": "a48353ef-4d84-45a6-91eb-49669622071b",
   "metadata": {},
   "source": [
    "<a id=\"four\"></a>\n",
    "# Part IV."
   ]
  },
  {
   "cell_type": "markdown",
   "id": "ee9a8d05-efee-4523-85b9-0976a1de3dbf",
   "metadata": {},
   "source": [
    "<a id=\"five\"></a>\n",
    "# Part V."
   ]
  },
  {
   "cell_type": "markdown",
   "id": "d451b557-6777-4492-955e-a41130ad39b9",
   "metadata": {},
   "source": [
    "<hr> \n",
    "Written by Dr. Krista Perks for courses taught at Wesleyan University."
   ]
  },
  {
   "cell_type": "code",
   "execution_count": null,
   "id": "5c707588-d5f6-4142-8289-da7ba6a97dbc",
   "metadata": {},
   "outputs": [],
   "source": []
  },
  {
   "cell_type": "markdown",
   "id": "57a8a68c-055e-4af0-ba4d-67d0d67148f1",
   "metadata": {},
   "source": [
    "<a id=\"setup\"></a>"
   ]
  },
  {
   "cell_type": "markdown",
   "id": "a350712e-e145-4475-9588-e3f19469b5ce",
   "metadata": {},
   "source": [
    "<a id=\"one\"></a>"
   ]
  },
  {
   "cell_type": "markdown",
   "id": "86fd2b4a-b890-465f-bf33-c2057738789e",
   "metadata": {},
   "source": [
    "<a id=\"two\"></a>"
   ]
  },
  {
   "cell_type": "markdown",
   "id": "b05de192-2baf-4d46-8848-6db1e3b50bff",
   "metadata": {},
   "source": [
    "<a id=\"three\"></a>"
   ]
  },
  {
   "cell_type": "markdown",
   "id": "e6519277-fc86-44fd-a75b-f74cad0efcf1",
   "metadata": {},
   "source": [
    "<a id=\"four\"></a>"
   ]
  }
 ],
 "metadata": {
  "kernelspec": {
   "display_name": "Python 3",
   "language": "python",
   "name": "python3"
  },
  "language_info": {
   "codemirror_mode": {
    "name": "ipython",
    "version": 3
   },
   "file_extension": ".py",
   "mimetype": "text/x-python",
   "name": "python",
   "nbconvert_exporter": "python",
   "pygments_lexer": "ipython3",
   "version": "3.9.12"
  }
 },
 "nbformat": 4,
 "nbformat_minor": 5
}