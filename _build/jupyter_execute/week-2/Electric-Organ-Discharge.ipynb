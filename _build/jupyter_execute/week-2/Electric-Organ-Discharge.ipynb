{
 "cells": [
  {
   "cell_type": "markdown",
   "id": "a752aef5-41be-40e5-bc41-4b3db9045e2e",
   "metadata": {},
   "source": [
    "<a id=\"intro\"></a>\n",
    "# Electric Organ Discharge\n",
    "\n"
   ]
  },
  {
   "cell_type": "markdown",
   "id": "87af53e9-6465-420e-89b9-68f2d9417a38",
   "metadata": {},
   "source": [
    "<a id=\"toc\"></a>\n",
    "# Table of Contents\n",
    "\n",
    "- [Introduction](#intro)"
   ]
  },
  {
   "cell_type": "code",
   "execution_count": null,
   "id": "5b074fc7-52ae-47d8-9538-f5bb90661847",
   "metadata": {},
   "outputs": [],
   "source": []
  }
 ],
 "metadata": {
  "kernelspec": {
   "display_name": "Python 3",
   "language": "python",
   "name": "python3"
  },
  "language_info": {
   "codemirror_mode": {
    "name": "ipython",
    "version": 3
   },
   "file_extension": ".py",
   "mimetype": "text/x-python",
   "name": "python",
   "nbconvert_exporter": "python",
   "pygments_lexer": "ipython3",
   "version": "3.9.12"
  }
 },
 "nbformat": 4,
 "nbformat_minor": 5
}