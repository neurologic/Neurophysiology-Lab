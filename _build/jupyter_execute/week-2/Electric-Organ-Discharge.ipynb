{
 "cells": [
  {
   "cell_type": "markdown",
   "id": "f96219d6-bc26-45a8-87c3-197974a0a323",
   "metadata": {},
   "source": [
    "<a href=\"https://colab.research.google.com/github/neurologic/Neurophysiology-Lab/blob/main/week-2/Electric-Organ-Discharge.ipynb\" target=\"_blank\"><img alt=\"Open In Colab\" src=\"https://colab.research.google.com/assets/colab-badge.svg\"/></a>   "
   ]
  },
  {
   "cell_type": "markdown",
   "id": "a752aef5-41be-40e5-bc41-4b3db9045e2e",
   "metadata": {},
   "source": [
    "<a id=\"intro\"></a>\n",
    "# Electric Organ Discharge\n",
    "\n",
    "<img src='https://github.com/neurologic/Neurophysiology-Lab/blob/main/images/weakly-electric-fish-efield-current_Kramer.jpeg?raw=True' width=\"300\" align=\"center\" alt='eod e-field'/>\n",
    "\n",
    "<figure align=\"center\">\n",
    "<img src='https://github.com/neurologic/Neurophysiology-Lab/blob/main/images/example-eods_Kramer.jpeg?raw=True' width=\"300\" alt='eod e-field' align=\"center\"/>\n",
    "<figcaption align = \"center\"><b>Electric organ discharge waveform</b> and sex, in three snoutfish species of southern Africa. All electric organ discharges represented as voltage over time, recorded in the field immediately after capture. Same time bar for all. (a) Sexual dimorphism in Marcusenius altisambesi with two distinct waveforms. (b) Sex difference of only a statistical nature in Petrocephalus catostoma (Upper Zambezi form) with, in most males, a stronger second positive phase than in females, such as shown here. (c) Petrocephalus wesselsi (Sabie River, South Africa) with no difference between the sexes. P. wesselsi was recognized as distinct from P. catostoma only recently.\n",
    "</figcaption>\n",
    "</figure>\n",
    "\n",
    "<img src='https://github.com/neurologic/Neurophysiology-Lab/blob/main/images/weakly-electric-fish-Efields-locate-communicate.jpeg?raw=True' width=\"300\" alt='eod e-field'/>"
   ]
  },
  {
   "cell_type": "markdown",
   "id": "87af53e9-6465-420e-89b9-68f2d9417a38",
   "metadata": {},
   "source": [
    "<a id=\"toc\"></a>\n",
    "# Table of Contents\n",
    "\n",
    "- [Introduction](#intro)\n",
    "- [Setup](#setup)\n",
    "- [Part I. Event detection](#one)\n",
    "- Time series analyses:\n",
    "    - [Part II. Rate](#two)\n",
    "    - [Part III. ISI](#three)\n",
    "    - [Part IV. Filtered](#four)\n",
    "- [Part V. Sampling Rate](#five)"
   ]
  },
  {
   "cell_type": "markdown",
   "id": "69f4d981-e7af-4b05-8b24-7cf18797a788",
   "metadata": {},
   "source": [
    "<a id=\"setup\"></a>\n",
    "# Setup"
   ]
  },
  {
   "cell_type": "code",
   "execution_count": null,
   "id": "88c1805c-e67e-4624-aa25-2682cf83b2de",
   "metadata": {
    "tags": [
     "hide-input"
    ]
   },
   "outputs": [],
   "source": [
    "#@markdown { display-mode: \"form\" }"
   ]
  },
  {
   "cell_type": "markdown",
   "id": "59f1d22f-f621-45d9-9500-c4c0e1c473c8",
   "metadata": {},
   "source": [
    "Import and define functions"
   ]
  },
  {
   "cell_type": "code",
   "execution_count": null,
   "id": "f901b914-647b-4bae-8274-bcdf21f3f80e",
   "metadata": {
    "tags": [
     "hide-input"
    ]
   },
   "outputs": [],
   "source": [
    "#@markdown Run this code cell to import packages and define functions { display-mode: \"form\" }\n",
    "import numpy as np\n",
    "import pandas as pd\n",
    "import plotly.express as px\n",
    "import plotly.graph_objects as go\n",
    "from plotly.subplots import make_subplots\n",
    "from scipy import ndimage\n",
    "from scipy.signal import hilbert,medfilt,resample, find_peaks\n",
    "import seaborn as sns\n",
    "from datetime import datetime,timezone,timedelta\n",
    "pal = sns.color_palette(n_colors=15)\n",
    "pal = pal.as_hex()\n",
    "\n",
    "print('Task completed at ' + str(datetime.now(timezone(-timedelta(hours=5)))))"
   ]
  },
  {
   "cell_type": "markdown",
   "id": "95163987-2803-4ede-b7fe-ee41c9275398",
   "metadata": {},
   "source": [
    "Mount Google Drive"
   ]
  },
  {
   "cell_type": "code",
   "execution_count": null,
   "id": "b4449f83-e500-4eef-a49b-991af6c1b6f3",
   "metadata": {
    "tags": [
     "hide-input"
    ]
   },
   "outputs": [],
   "source": [
    "#@markdown Run this cell to mount your Google Drive. { display-mode: \"form\" }\n",
    "\n",
    "from google.colab import drive\n",
    "drive.mount('/content/drive')\n",
    "\n",
    "print('Task completed at ' + str(datetime.now(timezone(-timedelta(hours=5)))))"
   ]
  },
  {
   "cell_type": "markdown",
   "id": "2addcf90-10b1-4d8f-87d3-5a33e92193c0",
   "metadata": {},
   "source": [
    "Import data digitized with *Nidaq USB6211* and recorded using *Bonsai-rx* as a *.bin* file"
   ]
  },
  {
   "cell_type": "code",
   "execution_count": null,
   "id": "1cd87e42-0e18-4697-bf25-9767281de40e",
   "metadata": {
    "tags": [
     "hide-input"
    ]
   },
   "outputs": [],
   "source": [
    "#@markdown Specify the file path { display-mode: \"form\" }\n",
    "#@markdown to your recorded data on Drive (find the filepath in the colab file manager:\n",
    "\n",
    "filepath = \"full filepath goes here\"  #@param \n",
    "\n",
    "#@markdown Specify the sampling rate and number of channels recorded.\n",
    "\n",
    "sampling_rate = NaN #@param\n",
    "number_channels = NaN #@param\n",
    "\n",
    "downsample = False #@param\n",
    "\n",
    "#@markdown After you have filled out all form fields, \n",
    "#@markdown run this code cell to load the data. \n",
    "\n",
    "filepath = Path(filepath)\n",
    "\n",
    "# No need to edit below this line\n",
    "#################################\n",
    "data = np.fromfile(Path(filepath), dtype = np.float64)\n",
    "data = data.reshape(-1,number_channels)\n",
    "dur = np.shape(data)[0]/sampling_rate\n",
    "print('duration of recording was %0.2f seconds' %dur)\n",
    "\n",
    "fs = 1/sampling_rate\n",
    "if downsample:\n",
    "    newfs = 2500 #downsample emg data\n",
    "    chunksize = int(sampling_rate/newfs)\n",
    "    data = data[0::chunksize,:]\n",
    "    fs = np.shape(data)[0]/dur\n",
    "\n",
    "time = np.linspace(0,np.shape(data)[0]/newfs,np.shape(data)[0])\n",
    "\n",
    "\n",
    "print('Data upload completed at ' + str(datetime.now(timezone(-timedelta(hours=5)))))\n",
    "\n",
    "print('Now be a bit patient while it plots.')\n",
    "fig = go.Figure()\n",
    "fig.add_trace(go.Scatter(x = time, y = data,line_color='black',name='emg0'))\n",
    "fig.update_layout(xaxis_title=\"time(seconds)\", yaxis_title='amplitude',width=800, height=500)"
   ]
  },
  {
   "cell_type": "markdown",
   "id": "355f1983-4a4e-4275-8bf3-cc8c9b8a25bb",
   "metadata": {},
   "source": [
    "<a id=\"one\"></a>\n",
    "# Part I. Event Detection\n",
    "\n",
    "Python has built-in algorithms for detecting \"peaks\" in a signal. However, it will detect *all* peaks. Therefore, the function takes in arguments that specify parameters for minimum height that can count as a peak and a minimum acceptible interval between independent peaks. "
   ]
  },
  {
   "cell_type": "code",
   "execution_count": null,
   "id": "3c3597a3-06ed-4ab7-a896-53349af114fe",
   "metadata": {},
   "outputs": [],
   "source": [
    "..."
   ]
  },
  {
   "cell_type": "markdown",
   "id": "48488038-904d-4424-9353-7e72cf2d844c",
   "metadata": {},
   "source": [
    "Once you know the times of each peak (each event), we can look at the waveforms of those events. To do this, we plot the peak of the signal at the event time and some duration before and after that peak.  "
   ]
  },
  {
   "cell_type": "code",
   "execution_count": null,
   "id": "e04e3171-fb7e-4392-ab12-537c894acad7",
   "metadata": {},
   "outputs": [],
   "source": [
    "..."
   ]
  },
  {
   "cell_type": "markdown",
   "id": "f6eca342-a90b-4593-92f8-cc1b339cceb3",
   "metadata": {},
   "source": [
    "There are a fundamental set of processing techniques we use to quantify event time series (such as spike from a neuron or EODs from a fish): rate, isi, filtered/smoothed."
   ]
  },
  {
   "cell_type": "markdown",
   "id": "e137a4e6-cf60-4d5c-a307-4d2d71af464e",
   "metadata": {},
   "source": [
    "<a id=\"two\"></a>\n",
    "# Part II. Rate"
   ]
  },
  {
   "cell_type": "markdown",
   "id": "bbd0ace1-b503-4e90-86b7-58fa7a16cc63",
   "metadata": {},
   "source": [
    "## Average rate\n",
    "\n",
    "How would you calculate the average event rate?\n",
    "\n",
    "<div class=\"alert-info\">\n",
    "<b>Tip:</b>\n",
    "    <li> <b>len(variable)</b> : len() is a function used to get the number of elements in an array called *variable*</li>\n",
    "    <li> the time of the first and last event are simply the event times</li>\n",
    "    <li> <code class=\"lang-python\">+ - * / </code> are the symbols for addition, subtraction, multiplication, and division</li>\n",
    "    <li><b>eod_times</b> is a variable that contains the list of EOD times</li>\n",
    "</div>\n",
    "\n",
    "In the code cell below, write code that would calculate the average EOD rate in your recording"
   ]
  },
  {
   "cell_type": "code",
   "execution_count": null,
   "id": "8c9f8888-c8a5-4812-abf7-e8d9fd2b899f",
   "metadata": {},
   "outputs": [],
   "source": [
    "..."
   ]
  },
  {
   "cell_type": "markdown",
   "id": "65f836b8-6325-4920-b8c8-c9366daffbf5",
   "metadata": {},
   "source": [
    "## Subsampling (*bootstrapping*) the average rate\n",
    "\n",
    "In order to do statistics and compare EOD rates between different conditions or groups (for example, among different species of fish), we need more than just one estimate of the EOD rate. \n",
    "\n",
    "*bootstrapping* is an analytic technique used to *subsample* your data. In this case, we will calculate a set of EOD rate averages. Then we can get the mean and standard deviation of the average EOD rate. A *subsample* of the data is a smaller continuous section of the data. \n",
    "\n",
    "You can control the number of subsampled sets and the duration of each set. \n",
    "The script (hidden) in the code cell below randomly selects samples of the specified duration from throughout the total recording. It repeats this random selection process ***n*** times. \n",
    "\n",
    "Once you specify the bootstrapping parameters in the form below, run the code cell. You will see a plot of the average rate of each subsample (each black point in the scatterplot), the average value across the set of subsamples (green star symbol), and the standard deviation (green bar)."
   ]
  },
  {
   "cell_type": "markdown",
   "id": "c4b35954-0be0-486a-8171-8962c8ebe969",
   "metadata": {},
   "source": [
    "<a id=\"three\"></a>\n",
    "# Part III. ISI\n",
    "\n",
    "The time between events is called the *inter-event interval\". Since events in neurons are called *spikes* the metric is called an *inter-SPIKE interval* (***ISI***). In electric fish, the metric is also called the IPI (inter-*pulse* interval), which refers to each EOD event as a pulse. \n",
    "\n",
    "How would you calculate the ISI from your recording?\n",
    "\n",
    "<div class=\"alert-info\">\n",
    "<b>Tip:</b> \n",
    "    <li> <b>np.diff(variable)</b> : *diff()* is <a href=\"https://numpy.org/doc/stable/reference/generated/numpy.diff.html\">a numpy module</a> that calculates the numerical difference between each element in a list named <i>variable</i> and returns the result as a list</li>\n",
    "    <li><b>eod_times</b> is a variable that contains the list of EOD times</li>\n",
    "</div>\n",
    "\n",
    "In the code cell below, write a script that performs this calculation. \n",
    "Store the result as a variable called ```isi```\n"
   ]
  },
  {
   "cell_type": "code",
   "execution_count": null,
   "id": "79b2d19a-5f07-4c70-b5be-bebd0eebd7c0",
   "metadata": {},
   "outputs": [],
   "source": [
    "..."
   ]
  },
  {
   "cell_type": "code",
   "execution_count": null,
   "id": "dce9d126-ae1e-414d-ad00-1648f7cdf49b",
   "metadata": {
    "tags": [
     "hide-input"
    ]
   },
   "outputs": [],
   "source": [
    "#@markdown Run this code cell to calculate the average isi and plot the isi over time. { display-mode: \"form\" }\n",
    "\n",
    "print(f'Average isi is {np.mean(isi):0.2f}.')\n",
    "\n",
    "# plot the isi at each EOD time.\n",
    "fig = go.Figure()\n",
    "fig.add_trace(go.Scatter(x=eod_times[1:], y=isi, mode='markers',name='isi',marker_size=1,line_color='black'))\n",
    "\n",
    "fig.update_layout(scene = dict(\n",
    "        xaxis = dict(title = 'EOD times'),\n",
    "        yaxis = dict(title = 'isi'),\n",
    "    width=600, height = 600)\n",
    "    \n",
    "fig.show()"
   ]
  },
  {
   "cell_type": "markdown",
   "id": "4eced66b-5ed9-4f9e-8845-7efe56868d7e",
   "metadata": {},
   "source": [
    "<a id=\"four\"></a>\n",
    "# Part IV. Filtered\n",
    "\n",
    "By *convolving* a waveform with a time series, each event is transformed into a waveform. When all of these event waveforms are added together, you get a continuous signal instead of a discrete time series. This transformation is sometimes called \"smoothing\" and is required before some calculations can be made (such as correlation analysis). "
   ]
  },
  {
   "cell_type": "code",
   "execution_count": null,
   "id": "568ee6e7-e1cb-4f34-8856-1b46b978cc9b",
   "metadata": {},
   "outputs": [],
   "source": [
    "..."
   ]
  },
  {
   "cell_type": "markdown",
   "id": "69c15882-3a4c-4e1e-bc6a-bf79dfe7238a",
   "metadata": {},
   "source": [
    "<a id=\"five\"></a>\n",
    "# Part V. Sampling Rate\n",
    "\n",
    "In terms of electrophysiology data acquisition, sampling rate is the rate at which analog signals in the world are digitized and sent to the computer. The sampling rate that you choose impacts the size of data files as well as the resolution of the digitized signal. "
   ]
  },
  {
   "cell_type": "code",
   "execution_count": null,
   "id": "5b074fc7-52ae-47d8-9538-f5bb90661847",
   "metadata": {},
   "outputs": [],
   "source": [
    "..."
   ]
  },
  {
   "cell_type": "markdown",
   "id": "7bf20276-7522-4ae5-bf16-a730a37a7059",
   "metadata": {},
   "source": [
    "<hr> \n",
    "Written by Dr. Krista Perks for courses taught at Wesleyan University."
   ]
  },
  {
   "cell_type": "code",
   "execution_count": null,
   "id": "8c4b8e92-3c25-4e16-ac07-e450b7fd60d8",
   "metadata": {},
   "outputs": [],
   "source": []
  }
 ],
 "metadata": {
  "kernelspec": {
   "display_name": "Python 3",
   "language": "python",
   "name": "python3"
  },
  "language_info": {
   "codemirror_mode": {
    "name": "ipython",
    "version": 3
   },
   "file_extension": ".py",
   "mimetype": "text/x-python",
   "name": "python",
   "nbconvert_exporter": "python",
   "pygments_lexer": "ipython3",
   "version": "3.9.12"
  },
  "widgets": {
   "application/vnd.jupyter.widget-state+json": {
    "state": {},
    "version_major": 2,
    "version_minor": 0
   }
  }
 },
 "nbformat": 4,
 "nbformat_minor": 5
}