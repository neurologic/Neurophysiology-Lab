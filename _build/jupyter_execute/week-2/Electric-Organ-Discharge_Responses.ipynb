{
 "cells": [
  {
   "cell_type": "markdown",
   "id": "0a9c8b35-24ab-417d-845c-1e9401344717",
   "metadata": {},
   "source": [
    "# Responses"
   ]
  },
  {
   "cell_type": "code",
   "execution_count": null,
   "id": "e62cbdab-05ba-4473-b359-bc4c2712f2c8",
   "metadata": {},
   "outputs": [],
   "source": []
  }
 ],
 "metadata": {
  "kernelspec": {
   "display_name": "Python 3",
   "language": "python",
   "name": "python3"
  },
  "language_info": {
   "codemirror_mode": {
    "name": "ipython",
    "version": 3
   },
   "file_extension": ".py",
   "mimetype": "text/x-python",
   "name": "python",
   "nbconvert_exporter": "python",
   "pygments_lexer": "ipython3",
   "version": "3.9.12"
  }
 },
 "nbformat": 4,
 "nbformat_minor": 5
}