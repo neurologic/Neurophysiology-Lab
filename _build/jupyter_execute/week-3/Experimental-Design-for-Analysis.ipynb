{
 "cells": [
  {
   "cell_type": "markdown",
   "id": "32647951-7dcf-4553-b42a-5d8508d95cf9",
   "metadata": {},
   "source": [
    "<a href=\"https://colab.research.google.com/github/neurologic/Neurophysiology-Lab/blob/main/week-2/Experimental-Design-for-Analysis.ipynb\" target=\"_blank\" rel=\"noopener noreferrer\"><img alt=\"Open In Colab\" src=\"https://colab.research.google.com/assets/colab-badge.svg\"/></a>   "
   ]
  },
  {
   "cell_type": "markdown",
   "id": "38b445ff-7cf7-442e-bb25-83afe6d5a3fb",
   "metadata": {},
   "source": [
    "<a id=\"intro\"></a>\n",
    "# Experimental Design for Analysis\n",
    "\n",
    "As you found in week 2 (<a href='https://colab.research.google.com/github/neurologic/Neurophysiology-Lab/blob/main/week-2/Electric-Organ-Discharge.ipynb' target=\"_blank\" rel=\"noopener noreferrer\">Dynamic Electrical Signals</a>), weakly electric fish vary their EOD rate over time. Is this variation random or is there non-random structure in it? If there is non-random structure, do the fish change their EOD rate in response to something in the environment or just spontaneously? How can you determine if a stimulus evokes a response? This notebook provides a tutorial on ways to approach this kind of analysis. We will not inclusively cover all possible approaches, but rather focus on basic principles of trial-based experimental design and the estimation of results under <i>null</i> hypotheses. After you complete your work, think about other questions that you are interested in and what kinds of experimental design considerations you would need to implement to analyze the data. "
   ]
  },
  {
   "cell_type": "markdown",
   "id": "9f47bef1-0aad-43bf-a08c-6e5127e4b935",
   "metadata": {},
   "source": [
    "# Setup\n",
    "[toc](#toc)\n"
   ]
  },
  {
   "cell_type": "markdown",
   "id": "f07451ff-cf56-4763-b4ac-bd099ba1f145",
   "metadata": {},
   "source": [
    "<a id=\"toc\"></a>\n",
    "# Table of Contents\n",
    "\n",
    "- [Introduction](#intro)\n",
    "- [Setup](#setup)\n",
    "- [Part I. Random or Non-Random?](#one)\n",
    "- [Part II. What's in a trial?](#two)\n",
    "- [Part III. Is it *real*?](#three)\n",
    "- [Part IV. Can you hear me now?](#four)\n",
    "- [Part V. ](#five)"
   ]
  },
  {
   "cell_type": "markdown",
   "id": "488d476b-9387-43d7-b4bf-0528d9f4950a",
   "metadata": {},
   "source": [
    "<a id=\"setup\"></a>\n",
    "# Setup"
   ]
  },
  {
   "cell_type": "markdown",
   "id": "b94f344a-8c2a-4080-b972-8e7a30c91e66",
   "metadata": {},
   "source": [
    "Import and define functions"
   ]
  },
  {
   "cell_type": "code",
   "execution_count": null,
   "id": "be70dacf-b862-4afa-8fc0-dce8c363fdf9",
   "metadata": {
    "tags": [
     "hide-input"
    ]
   },
   "outputs": [],
   "source": [
    "#@title { display-mode: \"form\" }\n",
    "\n",
    "#@markdown Run this code cell to import packages and define functions \n",
    "import numpy as np\n",
    "import pandas as pd\n",
    "import plotly.express as px\n",
    "import plotly.graph_objects as go\n",
    "from plotly.subplots import make_subplots\n",
    "from scipy import ndimage\n",
    "from scipy.signal import hilbert,medfilt,resample, find_peaks\n",
    "import seaborn as sns\n",
    "from datetime import datetime,timezone,timedelta\n",
    "pal = sns.color_palette(n_colors=15)\n",
    "pal = pal.as_hex()\n",
    "\n",
    "print('Task completed at ' + str(datetime.now(timezone(-timedelta(hours=5)))))"
   ]
  },
  {
   "cell_type": "markdown",
   "id": "f91a09e1-c305-4809-8302-c1fad4140efa",
   "metadata": {},
   "source": [
    "Mount Google Drive"
   ]
  },
  {
   "cell_type": "code",
   "execution_count": null,
   "id": "2b3a4500-470b-44e3-8572-a0d55f3bc1cb",
   "metadata": {
    "tags": [
     "hide-input"
    ]
   },
   "outputs": [],
   "source": [
    "#@title { display-mode: \"form\" }\n",
    "\n",
    "#@markdown Run this cell to mount your Google Drive. \n",
    "\n",
    "from google.colab import drive\n",
    "drive.mount('/content/drive')\n",
    "\n",
    "print('Task completed at ' + str(datetime.now(timezone(-timedelta(hours=5)))))"
   ]
  },
  {
   "cell_type": "markdown",
   "id": "61aa1776-ad44-4487-ad14-9dfe050de305",
   "metadata": {},
   "source": [
    "Import data digitized with *Nidaq USB6211* and recorded using *Bonsai-rx* as a *.bin* file"
   ]
  },
  {
   "cell_type": "code",
   "execution_count": null,
   "id": "f43c1bcd-a86d-43a8-bfcb-3362a0c20893",
   "metadata": {
    "tags": [
     "hide-input"
    ]
   },
   "outputs": [],
   "source": [
    "#@title { display-mode: \"form\" }\n",
    "\n",
    "#@markdown Specify the file path \n",
    "#@markdown to your recorded data on Drive (find the filepath in the colab file manager:\n",
    "\n",
    "filepath = \"full filepath goes here\"  #@param \n",
    "\n",
    "#@markdown Specify the sampling rate and number of channels recorded.\n",
    "\n",
    "sampling_rate = NaN #@param\n",
    "number_channels = NaN #@param\n",
    "\n",
    "downsample = False #@param\n",
    "\n",
    "#@markdown After you have filled out all form fields, \n",
    "#@markdown run this code cell to load the data. \n",
    "\n",
    "filepath = Path(filepath)\n",
    "\n",
    "# No need to edit below this line\n",
    "#################################\n",
    "data = np.fromfile(Path(filepath), dtype = np.float64)\n",
    "data = data.reshape(-1,number_channels)\n",
    "dur = np.shape(data)[0]/sampling_rate\n",
    "print('duration of recording was %0.2f seconds' %dur)\n",
    "\n",
    "fs = 1/sampling_rate\n",
    "if downsample:\n",
    "    newfs = 2500 #downsample emg data\n",
    "    chunksize = int(sampling_rate/newfs)\n",
    "    data = data[0::chunksize,:]\n",
    "    fs = np.shape(data)[0]/dur\n",
    "\n",
    "time = np.linspace(0,np.shape(data)[0]/newfs,np.shape(data)[0])\n",
    "\n",
    "\n",
    "print('Data upload completed at ' + str(datetime.now(timezone(-timedelta(hours=5)))))\n",
    "\n",
    "print('Now be a bit patient while it plots.')\n",
    "fig = go.Figure()\n",
    "fig.add_trace(go.Scatter(x = time, y = data,line_color='black',name='emg0'))\n",
    "fig.update_layout(xaxis_title=\"time(seconds)\", yaxis_title='amplitude',width=800, height=500)"
   ]
  },
  {
   "cell_type": "markdown",
   "id": "b7b40cda-55dd-4604-afb7-89e5d0731983",
   "metadata": {},
   "source": [
    "<a id=\"one\"></a>\n",
    "# Part I. Random or Non-Random?\n",
    "\n",
    "[toc](#toc)\n",
    "\n",
    "We know that the EOD rate is variable (you measured this variability in week 2 [Dynamic Electrical Signals](../week-2/Electric-Organ-Discharge.ipynb)). Variability can be random or non-random. Are events distributed randomly in time or is there some <i>structure</i> to how events are generated?"
   ]
  },
  {
   "cell_type": "code",
   "execution_count": null,
   "id": "34297775-0ee0-4bc7-88f6-c08bc9cbf51c",
   "metadata": {},
   "outputs": [],
   "source": [
    "..."
   ]
  },
  {
   "cell_type": "markdown",
   "id": "dd727a14-c83f-4bc1-91d7-59cb24049341",
   "metadata": {},
   "source": [
    "<a id=\"two\"></a>\n",
    "# Part II. What's in a trial?\n",
    "\n",
    "[toc](#toc)\n",
    "\n",
    "A trial is generally defined as a portion of data (or behavior... or whatever...) that is defined by occuring at or starting at a particular moment in time and having a defined duration. A set of trials is often referred to as a *bout* if they happen contiguously. \n",
    "\n",
    "Practically, how do we define a trial? We need some temporal marker of the thing that we are analyzing a response to. In this case, is the fish responding to the EOD pulse of other fish? In that case, trials would be defined by the EOD times of other fish. Is the fish responding to the lights in the room turning on? In that case, trials would be defined by a transition in light switch state. Is the fish responding to our voice? ... we would need a microphone ...etc.\n",
    "\n",
    "Trials don't have to be externally-imposed or experimentally-controlled. If we could track the position of the fish over time, then we could ask if the fish responded to being in a specific location in the tank. \n",
    "\n",
    "In this experiment, you presented an experimentally controlled stimulus to the fish (the dipole electric field). You recorded a copy of that stimulus command on channel 0 of your ADC. Therefore, we can use that channel to define trial start times. \n",
    "\n",
    "First, we need to determine when the stimulus occurred\n",
    "\n",
    "Then, we need to determine the amplitude of the stimulus each time it was presented. \n",
    "\n",
    "We will end up with a table of of times corresponding to trials (rows) across stimulus amplitude (columns)."
   ]
  },
  {
   "cell_type": "code",
   "execution_count": null,
   "id": "68661b3e-efbc-46f4-a370-3dff9115471f",
   "metadata": {},
   "outputs": [],
   "source": [
    "..."
   ]
  },
  {
   "cell_type": "markdown",
   "id": "c224f763-fc10-4dc7-8a2f-8b6be3ce0dba",
   "metadata": {},
   "source": [
    "<a id=\"three\"></a>\n",
    "# Part III. Is it <i>real</i>?\n",
    "\n",
    "[toc](#toc)\n",
    "\n",
    "How can you tell if the response to a stimulus is 'real' or if the fish's EOD pattern resembled a response just by chance? We need to compare the trial-averaged response (and distribution of trial-averaged responses) to a <i>null</i> response distribution (this is the <i>null hypothesis</i>). \n",
    "\n",
    "One way that we can do this is by randomly marking \"trials\" for each stimulus condition distributed randomly throughout the recording time period. \n",
    "\n",
    "For simplicity, let's average all trials together for this first analysis. "
   ]
  },
  {
   "cell_type": "code",
   "execution_count": null,
   "id": "65deb726-ab8e-473b-953b-c21d77f457ac",
   "metadata": {},
   "outputs": [],
   "source": [
    "..."
   ]
  },
  {
   "cell_type": "markdown",
   "id": "a48353ef-4d84-45a6-91eb-49669622071b",
   "metadata": {},
   "source": [
    "<a id=\"four\"></a>\n",
    "# Part IV. Can you hear me now?\n",
    "\n",
    "[toc](#toc)\n",
    "\n",
    "How strong does a stimulus need to be for the fish to detect it and respond to it? When a stimulus can be varied along a single parameter, we can test the response/detection threshold of an animal to that stimulus. The response/detection threshold is defined as the value of the stimulus parameter (for example amplitude or frequency) that the animal can detect or that it responds to. "
   ]
  },
  {
   "cell_type": "code",
   "execution_count": null,
   "id": "bbfd258d-9c36-43b0-931b-aa0186d8d3c5",
   "metadata": {},
   "outputs": [],
   "source": [
    "..."
   ]
  },
  {
   "cell_type": "markdown",
   "id": "4097ae99-ca35-4ceb-9e80-cf30616195f5",
   "metadata": {},
   "source": [
    "To determine if a difference in response across stimulus amplitude is \"real\" we can do a \"trial shuffle.\" Shuffling trials means that we use the SIU-determined stimulus times to segment the data, but randomly shuffle the identity of the stimulus amplitude on each trial. "
   ]
  },
  {
   "cell_type": "code",
   "execution_count": null,
   "id": "b334682a-ad16-40a0-9302-406ac67fe9f9",
   "metadata": {},
   "outputs": [],
   "source": [
    "..."
   ]
  },
  {
   "cell_type": "markdown",
   "id": "d451b557-6777-4492-955e-a41130ad39b9",
   "metadata": {},
   "source": [
    "<hr> \n",
    "Written by Dr. Krista Perks for courses taught at Wesleyan University."
   ]
  },
  {
   "cell_type": "code",
   "execution_count": null,
   "id": "8fa098ee-d66d-448c-b36e-9d2ed4bddab7",
   "metadata": {},
   "outputs": [],
   "source": []
  },
  {
   "cell_type": "markdown",
   "id": "57a8a68c-055e-4af0-ba4d-67d0d67148f1",
   "metadata": {},
   "source": [
    "<a id=\"setup\"></a>"
   ]
  },
  {
   "cell_type": "markdown",
   "id": "a350712e-e145-4475-9588-e3f19469b5ce",
   "metadata": {},
   "source": [
    "<a id=\"one\"></a>"
   ]
  },
  {
   "cell_type": "markdown",
   "id": "86fd2b4a-b890-465f-bf33-c2057738789e",
   "metadata": {},
   "source": [
    "<a id=\"two\"></a>"
   ]
  },
  {
   "cell_type": "markdown",
   "id": "b05de192-2baf-4d46-8848-6db1e3b50bff",
   "metadata": {},
   "source": [
    "<a id=\"three\"></a>"
   ]
  },
  {
   "cell_type": "markdown",
   "id": "e6519277-fc86-44fd-a75b-f74cad0efcf1",
   "metadata": {},
   "source": [
    "<a id=\"four\"></a>"
   ]
  }
 ],
 "metadata": {
  "kernelspec": {
   "display_name": "Python 3",
   "language": "python",
   "name": "python3"
  },
  "language_info": {
   "codemirror_mode": {
    "name": "ipython",
    "version": 3
   },
   "file_extension": ".py",
   "mimetype": "text/x-python",
   "name": "python",
   "nbconvert_exporter": "python",
   "pygments_lexer": "ipython3",
   "version": "3.9.12"
  }
 },
 "nbformat": 4,
 "nbformat_minor": 5
}