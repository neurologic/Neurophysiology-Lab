{
 "cells": [
  {
   "cell_type": "markdown",
   "id": "2bcea47c-bd58-4eac-b259-f43405e8982d",
   "metadata": {},
   "source": [
    "# Responses"
   ]
  },
  {
   "cell_type": "markdown",
   "id": "513c0ad9-f856-46a3-9a79-9bb0ca01811c",
   "metadata": {},
   "source": [
    "Your Name:"
   ]
  },
  {
   "cell_type": "markdown",
   "id": "21af1be8-9543-45b6-bb5a-7ef95cf59bca",
   "metadata": {},
   "source": [
    "<div><font color = green>\n",
    "How did you measure variability of EOD timing in week 2 <a href='../week-2/Electric-Organ-Discharge.ipynb' target=\"_blank\" rel=\"noopener noreferrer\">Dynamic Electrical Signals</a>?\n",
    "</font></div>"
   ]
  },
  {
   "cell_type": "markdown",
   "id": "e739303e-1c6c-4f0b-87ac-9a9063411595",
   "metadata": {},
   "source": [
    "..."
   ]
  },
  {
   "cell_type": "markdown",
   "id": "9de3887d-36e8-4de7-9bce-4cf94ebf26b9",
   "metadata": {},
   "source": [
    "<div><font color = green>\n",
    "    What is the difference between a <i>detection</i> threshold and a <i>response</i> threshold (from the perspective of the fish)? Which were you able to measure? Why? What would you need to do (experimentally) to measure the other?\n",
    "</font></div>"
   ]
  },
  {
   "cell_type": "markdown",
   "id": "f82558d7-663c-46aa-83bb-4eb739874156",
   "metadata": {},
   "source": [
    "..."
   ]
  },
  {
   "cell_type": "markdown",
   "id": "84d4162f-52bd-4c11-ba64-fa5ca397fb4d",
   "metadata": {},
   "source": [
    "<div><font color = green>\n",
    "\n",
    "</font></div>"
   ]
  },
  {
   "cell_type": "markdown",
   "id": "884dbb8d-3e52-47ff-8ff6-8c594862a554",
   "metadata": {},
   "source": [
    "<div><font color = green>\n",
    "What was the voltage measured directly from the SIU at the response threshold for the fish? What was the value of the stimulus on the tank electrodes? Why are these different?\n",
    "</font></div>"
   ]
  },
  {
   "cell_type": "markdown",
   "id": "c3b8bf0f-713e-4272-8e0e-1e250edf0c89",
   "metadata": {},
   "source": [
    "..."
   ]
  },
  {
   "cell_type": "markdown",
   "id": "91d9a145-e2fa-4b68-8e83-8814208e3f8c",
   "metadata": {},
   "source": [
    "<div><font color = green>\n",
    "What do you predict might happen if you used a stimulus at response threshold, but changed the duration of the stimulus (how long the dipole was on each time the stimulus was presented)?\n",
    "</font></div>"
   ]
  },
  {
   "cell_type": "markdown",
   "id": "9292a5aa-bb57-4a38-88f5-5c264ca7d705",
   "metadata": {},
   "source": [
    "<div><font color = green>\n",
    "\n",
    "</font></div>"
   ]
  },
  {
   "cell_type": "markdown",
   "id": "093dfb3d-41f8-44b7-808b-09ed19aa3bb1",
   "metadata": {},
   "source": [
    "..."
   ]
  },
  {
   "cell_type": "markdown",
   "id": "106579c6-b097-4d65-89bc-ea0a72765b44",
   "metadata": {},
   "source": [
    "<div><font color = green>\n",
    "\n",
    "</font></div>"
   ]
  },
  {
   "cell_type": "markdown",
   "id": "d7d65441-f786-46de-850d-bb5da46c3268",
   "metadata": {},
   "source": [
    "<div><font color = green>\n",
    "\n",
    "</font></div>"
   ]
  },
  {
   "cell_type": "markdown",
   "id": "384235db-589b-40bb-97cb-8e9160967b33",
   "metadata": {},
   "source": [
    "..."
   ]
  },
  {
   "cell_type": "markdown",
   "id": "c75df6c1-c404-4179-a307-29515b3f5c2f",
   "metadata": {},
   "source": [
    "<div><font color = green>\n",
    "\n",
    "</font></div>"
   ]
  },
  {
   "cell_type": "markdown",
   "id": "dfb50399-2064-4bee-8357-bafc498c0f34",
   "metadata": {},
   "source": [
    "<div><font color = green>\n",
    "\n",
    "</font></div>"
   ]
  },
  {
   "cell_type": "markdown",
   "id": "db9f2f34-17a9-4795-bb12-946f5e74798f",
   "metadata": {},
   "source": [
    "..."
   ]
  },
  {
   "cell_type": "markdown",
   "id": "25ae9ecd-f683-44f3-b750-ea4f8f080ffb",
   "metadata": {},
   "source": [
    "(<a href=\"../Experimental-Design-for-Analysis.ipynb#one\" target=\"_blank\" rel=\"noopener noreferrer\">Notebook associated with these response</a>)"
   ]
  },
  {
   "cell_type": "code",
   "execution_count": null,
   "id": "9a4dccdf-8cd8-41a3-94c6-58c7b58e8c66",
   "metadata": {},
   "outputs": [],
   "source": []
  }
 ],
 "metadata": {
  "kernelspec": {
   "display_name": "Python 3",
   "language": "python",
   "name": "python3"
  },
  "language_info": {
   "codemirror_mode": {
    "name": "ipython",
    "version": 3
   },
   "file_extension": ".py",
   "mimetype": "text/x-python",
   "name": "python",
   "nbconvert_exporter": "python",
   "pygments_lexer": "ipython3",
   "version": "3.9.12"
  }
 },
 "nbformat": 4,
 "nbformat_minor": 5
}