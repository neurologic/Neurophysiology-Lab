{
 "cells": [
  {
   "cell_type": "markdown",
   "id": "a8b6c737-3e0f-4859-912c-498b996086d4",
   "metadata": {},
   "source": [
    "<a id=\"intro\"></a>\n",
    "# Data Explorer *general*\n",
    "\n",
    "This notebook contains analysis tools that you have used throughout the semester. The format is meant to generalize across modules so you can mix and match what you have learned.\n",
    "\n",
    "Click this <a href=\"https://colab.research.google.com/github/neurologic/Neurophysiology-Lab/blob/main/howto/Data-Explorer_general.ipynb\" target=\"_blank\"><img alt=\"Open In Colab\" src=\"https://colab.research.google.com/assets/colab-badge.svg\"/></a> button to open this notebook on Colab. \n",
    "  "
   ]
  },
  {
   "cell_type": "markdown",
   "id": "bea57d33-74bd-4cbf-9888-ba6df8061360",
   "metadata": {},
   "source": [
    "<a id=\"toc\"></a>\n",
    "# Table of Contents\n",
    "\n",
    "- [Setup](#setup)\n",
    "- [Import Data](#one)\n",
    "- [Interactive Raw Data Plotting](#raw-data-plot)\n"
   ]
  },
  {
   "cell_type": "markdown",
   "id": "245485e6-341c-4772-978f-1de3986b0ad0",
   "metadata": {},
   "source": [
    "<a id=\"setup\"></a>\n",
    "# Setup\n",
    "[toc](#toc)\n",
    "\n",
    "Import general packages.  \n",
    "Mount Google Drive."
   ]
  },
  {
   "cell_type": "markdown",
   "id": "a3a5b069-0280-48dd-b144-7620fc2986ac",
   "metadata": {},
   "source": [
    "<a id=\"import\"></a>\n",
    "# Import Data\n",
    "[toc](#toc)\n",
    "\n",
    "filename, sample rate, number of channels."
   ]
  },
  {
   "cell_type": "code",
   "execution_count": null,
   "id": "4d778aeb-3f2c-439a-8669-592cd4db8eab",
   "metadata": {
    "tags": [
     "hide-input"
    ]
   },
   "outputs": [],
   "source": [
    "#@title { display-mode: \"form\" }\n",
    "\n",
    "#@markdown Fill out form completely. \n",
    "filepath = \"full filepath\" #@param"
   ]
  },
  {
   "cell_type": "markdown",
   "id": "ccb9af85-8c9f-4387-97b1-b1d83393adee",
   "metadata": {},
   "source": [
    "<a id=\"raw-data-plot\"></a>\n",
    "# Interactive Raw Data Plotting\n",
    "[toc](#toc)\n",
    "\n",
    "Visually examining your data is a critical step in interpreting it. "
   ]
  },
  {
   "cell_type": "code",
   "execution_count": null,
   "id": "148ac9f1-f2a9-47ce-a179-0e453dd79567",
   "metadata": {
    "tags": [
     "hide-input"
    ]
   },
   "outputs": [],
   "source": [
    "#@title { display-mode: \"form\" }\n",
    "\n",
    "#@markdown Run this code cell to generate an interactive plot.\n"
   ]
  },
  {
   "cell_type": "markdown",
   "id": "edf6605b-7b71-40e2-8bb4-4ad300d535b0",
   "metadata": {},
   "source": [
    "<hr> \n",
    "Written by Dr. Krista Perks for courses taught at Wesleyan University."
   ]
  },
  {
   "cell_type": "code",
   "execution_count": null,
   "id": "5d476f15-eaee-41d2-b948-7461a9d2822b",
   "metadata": {},
   "outputs": [],
   "source": []
  }
 ],
 "metadata": {
  "kernelspec": {
   "display_name": "Python 3 (ipykernel)",
   "language": "python",
   "name": "python3"
  },
  "language_info": {
   "codemirror_mode": {
    "name": "ipython",
    "version": 3
   },
   "file_extension": ".py",
   "mimetype": "text/x-python",
   "name": "python",
   "nbconvert_exporter": "python",
   "pygments_lexer": "ipython3",
   "version": "3.8.13"
  },
  "widgets": {
   "application/vnd.jupyter.widget-state+json": {
    "state": {},
    "version_major": 2,
    "version_minor": 0
   }
  }
 },
 "nbformat": 4,
 "nbformat_minor": 5
}