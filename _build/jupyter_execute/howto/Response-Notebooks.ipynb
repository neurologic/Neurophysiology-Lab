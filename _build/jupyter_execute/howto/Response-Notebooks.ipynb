{
 "cells": [
  {
   "cell_type": "markdown",
   "id": "be5f366b-fc92-4733-975f-4e62bd3ec983",
   "metadata": {},
   "source": [
    "# Response Notebooks\n",
    "\n",
    "Response notebooks contain markdown cells for questions followed by markdown cells responses. The *response* markdown cells have elipses in them as a place holder. Replace the elipses with your reponse to the question. Double click on the markdown cell with elipses to write your response. Note that this can only be done once you open the response notebook in Colab. \n",
    "\n",
    "<hr>"
   ]
  },
  {
   "cell_type": "markdown",
   "id": "e4319ab0-d8c2-4480-988f-d94d37d30029",
   "metadata": {},
   "source": [
    "What baffles you the most about neurophysiology (how neurons do what they do to orchestrate our life)?"
   ]
  },
  {
   "cell_type": "markdown",
   "id": "3b7eb9c9-2efe-412d-8d02-bb5755333dcc",
   "metadata": {},
   "source": [
    "..."
   ]
  },
  {
   "cell_type": "code",
   "execution_count": null,
   "id": "8ab414b2-cc60-4661-bd57-244c0dfd83d5",
   "metadata": {},
   "outputs": [],
   "source": []
  }
 ],
 "metadata": {
  "kernelspec": {
   "display_name": "Python 3",
   "language": "python",
   "name": "python3"
  },
  "language_info": {
   "codemirror_mode": {
    "name": "ipython",
    "version": 3
   },
   "file_extension": ".py",
   "mimetype": "text/x-python",
   "name": "python",
   "nbconvert_exporter": "python",
   "pygments_lexer": "ipython3",
   "version": "3.9.12"
  }
 },
 "nbformat": 4,
 "nbformat_minor": 5
}