{
 "cells": [
  {
   "cell_type": "markdown",
   "id": "a8b6c737-3e0f-4859-912c-498b996086d4",
   "metadata": {},
   "source": [
    "<a id=\"intro\"></a>\n",
    "# Executable Notebooks (Data Explorers)\n",
    "\n",
    "Welcome to the executable IPython notebook environment! We will be using the IPython notebooks for our lab class in neurophysiology. The IPython notebook is a very convenient way to interact with data using python. \n",
    "\n",
    "*Executable* notebooks are ones that contain python scripts and functions that enable you to interact with and process the data you collect in lab. Some executable notebooks in this course (like this one) are tutorials that do not depend on collected data.\n",
    "\n",
    "You will be interacting with these notebooks using Google's Colaboratory server. Use the **Open in Colab** buttons to open the notebook in Colab.\n",
    "\n",
    "Click this <a href=\"https://colab.research.google.com/github/neurologic/Neurophysiology-Lab/blob/main/howto/Executable-Notebooks.ipynb\" target=\"_blank\"><img alt=\"Open In Colab\" src=\"https://colab.research.google.com/assets/colab-badge.svg\"/></a> button to open this notebook on Colab. \n",
    "  "
   ]
  },
  {
   "cell_type": "markdown",
   "id": "bea57d33-74bd-4cbf-9888-ba6df8061360",
   "metadata": {},
   "source": [
    "<a id=\"toc\"></a>\n",
    "# Table of Contents\n",
    "\n",
    "- [Introduction](#intro)\n",
    "- [Setup](#setup)\n",
    "- [Form Fields](#one)\n",
    "- [Hidden Executable Scripts](#two)\n",
    "- [Code Cell Tasks](#three)\n",
    "- [Interactive Plots](#four)\n"
   ]
  },
  {
   "cell_type": "markdown",
   "id": "245485e6-341c-4772-978f-1de3986b0ad0",
   "metadata": {},
   "source": [
    "<a id=\"setup\"></a>\n",
    "# Setup\n",
    "[toc](#toc)\n",
    "\n",
    "Throughout this course, most (probably all!) *executable* notebooks contain a section of ***setup*** cells. These cells will import the required Python packages (e.g., Pandas, NumPy); set global or environment variables, and load in helper functions for things like plotting. \n",
    "\n",
    "Be sure to run all of the cells in the setup section. Feel free to expand them and have a look at what you are loading in, but you should be able to fulfill the learning objectives of every tutorial without having to look at these cells.\n",
    "\n",
    "If you start building your own projects on this code base, you should look at them in more detail."
   ]
  },
  {
   "cell_type": "markdown",
   "id": "a3a5b069-0280-48dd-b144-7620fc2986ac",
   "metadata": {},
   "source": [
    "<a id=\"one\"></a>\n",
    "# Form Fields\n",
    "[toc](#toc)\n",
    "\n",
    "Some code cells contain forms with editable fields. <br>\n",
    "For example, the following code cell asks for your name. However, the form field will only be formatted correctly when you open it in Colab.<br>\n",
    "After filling in the form fields, running the code cell assigns each entries as a value to each variable (In this case, your name would be stored in the variable called *name*)"
   ]
  },
  {
   "cell_type": "code",
   "execution_count": null,
   "id": "ea05ffa7-c2b9-4fe6-b30f-48673ff2b294",
   "metadata": {},
   "outputs": [],
   "source": [
    "#@markdown This is a form field. \n",
    "name = \"insert your name between the quotation marks\" #@param"
   ]
  },
  {
   "cell_type": "markdown",
   "id": "a36494d3-f8fb-454b-a43e-894a9c453b24",
   "metadata": {},
   "source": [
    "Often, form fields will be hidden in the html version of the notebook on the course website. <br>\n",
    "For example, on the course website, you can only see the contents of the following form field if you click the \"*click to show*\" button.<br>"
   ]
  },
  {
   "cell_type": "code",
   "execution_count": null,
   "id": "4d778aeb-3f2c-439a-8669-592cd4db8eab",
   "metadata": {
    "tags": [
     "hide-input"
    ]
   },
   "outputs": [],
   "source": [
    "#@title { display-mode: \"form\" }\n",
    "\n",
    "#@markdown This is a form field. \n",
    "name = \"insert your name between the quotation marks\" #@param"
   ]
  },
  {
   "cell_type": "markdown",
   "id": "c9e43f34-03cb-45fc-93cc-21be3aaadfd4",
   "metadata": {},
   "source": [
    "<a id=\"two\"></a>\n",
    "# Hidden Executable Scripts\n",
    "[toc](#toc)\n",
    "\n",
    "You will gain some basic computer coding skills by completing the assignments in this course. You will be asked to learn the most basic coding tasks. However, this course is not designed to teach you full literacy in data science computer programming. Instead, I have done most of the computer programming for you so that you can focus more on the interpretation of data, visualization of data, and foundational concepts in neurophysiology. \n",
    "\n",
    "All of the executable notebooks you will work with contain extensive code to transform, process, and analyze your data. However, you will not see much of these scripts because they are contained in code cells formatted to \"hide\" its contents.\n",
    "\n",
    "Instead, you will see instructions to \"run this code cell\" to perform specific tasks that I have coded for you.\n",
    "\n",
    "For example, when you open this notebook in Colab, you would be able to run the following code cell, and it would print out the result of ```2 * 3```. In the html version of the notebook, you can see the contents of the following code cell by clicking the \"*click to show*\" button. "
   ]
  },
  {
   "cell_type": "code",
   "execution_count": null,
   "id": "cdc35528-a0d0-48af-9fa6-8423b3a1674a",
   "metadata": {
    "tags": [
     "hide-input"
    ]
   },
   "outputs": [],
   "source": [
    "#@title { display-mode: \"form\" }\n",
    "\n",
    "#@markdown Run this code cell to calculate the result of 2 * 3. \n",
    "\n",
    "result = 2*3\n",
    "print(result)"
   ]
  },
  {
   "cell_type": "markdown",
   "id": "2a0d7a39-2578-490a-96d3-113e6b4548b5",
   "metadata": {},
   "source": [
    "<a id=\"three\"></a>\n",
    "# Code Cell Tasks\n",
    "[toc](#toc)\n",
    "\n",
    "As described in [Hidden Executable Scripts](#two), some code cells contain scripts that are used to process your data and make calculations for results. You don't need to look at the actual python scripts (but can if you want to by double clicking on the code cell). Instead, you are given tasks that say \"run this code cell\" or \"enter information in this form field\". Follow these instructions and run the code cells as required. "
   ]
  },
  {
   "cell_type": "markdown",
   "id": "ccb9af85-8c9f-4387-97b1-b1d83393adee",
   "metadata": {},
   "source": [
    "<a id=\"four\"></a>\n",
    "# Interactive Plots\n",
    "[toc](#toc)\n",
    "\n",
    "Visually examining your data is a critical step in interpreting it. The executable notebooks in this course use [plotly](https://plotly.com/python/) to produce plots with \"zoom, pan, and save\" buttons as well as pop-up information when the mouse hovers over the data. If you have this notebook open in Colab, you can execute the code cell below to try it out."
   ]
  },
  {
   "cell_type": "code",
   "execution_count": null,
   "id": "148ac9f1-f2a9-47ce-a179-0e453dd79567",
   "metadata": {
    "tags": [
     "hide-input"
    ]
   },
   "outputs": [],
   "source": [
    "#@title { display-mode: \"form\" }\n",
    "\n",
    "#@markdown Run this code cell to generate an example interactive plot.\n",
    "\n",
    "import plotly.express as px\n",
    "df = px.data.iris()\n",
    "fig = px.scatter(df, x=\"sepal_width\", y=\"sepal_length\", color=\"species\",\n",
    "                 size='petal_length', hover_data=['petal_width'])\n",
    "fig.show()"
   ]
  },
  {
   "cell_type": "markdown",
   "id": "edf6605b-7b71-40e2-8bb4-4ad300d535b0",
   "metadata": {},
   "source": [
    "<hr> \n",
    "Written by Dr. Krista Perks for courses taught at Wesleyan University."
   ]
  },
  {
   "cell_type": "code",
   "execution_count": null,
   "id": "5d476f15-eaee-41d2-b948-7461a9d2822b",
   "metadata": {},
   "outputs": [],
   "source": []
  }
 ],
 "metadata": {
  "kernelspec": {
   "display_name": "Python 3 (ipykernel)",
   "language": "python",
   "name": "python3"
  },
  "language_info": {
   "codemirror_mode": {
    "name": "ipython",
    "version": 3
   },
   "file_extension": ".py",
   "mimetype": "text/x-python",
   "name": "python",
   "nbconvert_exporter": "python",
   "pygments_lexer": "ipython3",
   "version": "3.8.13"
  },
  "widgets": {
   "application/vnd.jupyter.widget-state+json": {
    "state": {},
    "version_major": 2,
    "version_minor": 0
   }
  }
 },
 "nbformat": 4,
 "nbformat_minor": 5
}