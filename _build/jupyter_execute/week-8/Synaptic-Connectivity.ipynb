{
 "cells": [
  {
   "cell_type": "markdown",
   "id": "32647951-7dcf-4553-b42a-5d8508d95cf9",
   "metadata": {},
   "source": [
    "<a href=\"https://colab.research.google.com/github/neurologic/Neurophysiology-Lab/blob/main/<'folder'/'notebookname'>.ipynb\" target=\"_blank\" rel=\"noopener noreferrer\"><img alt=\"Open In Colab\" src=\"https://colab.research.google.com/assets/colab-badge.svg\"/></a>   "
   ]
  },
  {
   "cell_type": "markdown",
   "id": "38b445ff-7cf7-442e-bb25-83afe6d5a3fb",
   "metadata": {},
   "source": [
    "<a id=\"intro\"></a>\n",
    "# Synaptic Connectivity\n",
    "\n",
    "Arthropod muscle innervation is different from vertebrate muscle innervation in several interesting ways:\n",
    "<ul>\n",
    "    <li>Arthropod muscles are innervated by relatively few excitatory motor neurons (sometimes only one).</li>\n",
    "    <li>Arthropod motor neurons innervate each muscle fiber at multiple points (multiterminal innervation).</li>\n",
    "    <li>More than one motor neuron may innervate one muscle fiber (polyneuronal innervation).</li>\n",
    "    <li>Inhibitory motor neurons may innervate muscle fibers (and sometimes the terminals of the excitatory motor nerve endings).\n",
    "    <li>The tonic superficial flexor does not have “all-or-none” propagated action potentials, but instead has graded electrical responses dependent upon the level of the excitation and inhibition. The degree of depolarization determines the amount of Ca2+ that enters the cell through voltage-gated channels; the amount of Ca2+ entry in turn determines the strength of muscle contraction. Note: unlike the superficial flexor, fast phasic crayfish muscles may fire Ca2+-based action potentials.</li>\n",
    "    </ul>\n",
    "\n",
    "<img src='https://github.com/neurologic/Neurophysiology-Lab/blob/main/images/fig.A.3-Comparison_with_Skeletal_Muscle.png?raw=True' width=\"600\" alt='arthoropod versus vertebrate muscle innervation' align=\"center\"/>\n",
    "\n",
    "Therefore, arthropod skeletal muscle integration (innervation and summation) is actually more analagous to cortical dendritic integration in vertebrates. As in human brains, glutamate is an excitatory transmitter and GABA is an inhibitory transmitter. The multiterminal, polyneuronal, and inhibitory innervation of crustacean muscle, the use of glutamate and GABA as transmitters, and the extensive synaptic plasticity make the crayfish neuromuscular junction a good simplified model for the complex mix of synaptic interactions that occur in our own brains.\n",
    "\n",
    "<img src='https://github.com/neurologic/Neurophysiology-Lab/blob/main/images/fig.A.4-Comparison_with_Brain_Synapses.png?raw=True' width=\"600\" alt='arthoropod versus vertebrate muscle innervation' align=\"center\"/>\n",
    "\n",
    "\n",
    "<!-- <figure align=\"center\">\n",
    "<img src='https://github.com/neurologic/Neurophysiology-Lab/blob/main/images/fig.A.3-Comparison_with_Skeletal_Muscle.png?raw=True' width=\"300\" alt='arthoropod versus vertebrate muscle innervation' align=\"center\"/>\n",
    "<figcaption align = \"center\"><b>Electric organ discharge waveform</b> and sex, in three snoutfish species of southern Africa. All electric organ discharges represented as voltage over time, recorded in the field immediately after capture. Same time bar for all. (a) Sexual dimorphism in Marcusenius altisambesi with two distinct waveforms. (b) Sex difference of only a statistical nature in Petrocephalus catostoma (Upper Zambezi form) with, in most males, a stronger second positive phase than in females, such as shown here. (c) Petrocephalus wesselsi (Sabie River, South Africa) with no difference between the sexes. P. wesselsi was recognized as distinct from P. catostoma only recently.\n",
    "</figcaption>\n",
    "</figure> -->\n",
    "\n",
    "<!-- <a href=\"https://colab.research.google.com/github/neurologic/Neurophysiology-Lab/blob/main/<'folder'/'notebookname'>.ipynb\" target=\"_blank\" rel=\"noopener noreferrer\">Link to Other Notebooks (colab link)</a>    -->\n"
   ]
  },
  {
   "cell_type": "markdown",
   "id": "f07451ff-cf56-4763-b4ac-bd099ba1f145",
   "metadata": {},
   "source": [
    "<a id=\"toc\"></a>\n",
    "# Table of Contents\n",
    "\n",
    "- [Introduction](#intro)\n",
    "- [Setup](#setup)\n",
    "- [Part I. ](#one)\n",
    "- Time series analyses:\n",
    "    - [Part II. ](#two)\n",
    "    - [Part III. ](#three)\n",
    "    - [Part IV. ](#four)\n",
    "- [Part V. ](#five)"
   ]
  },
  {
   "cell_type": "markdown",
   "id": "488d476b-9387-43d7-b4bf-0528d9f4950a",
   "metadata": {},
   "source": [
    "<a id=\"setup\"></a>\n",
    "# Setup"
   ]
  },
  {
   "cell_type": "code",
   "execution_count": null,
   "id": "b61a4ce1-08a4-415a-a013-91a8d2216831",
   "metadata": {
    "tags": [
     "hide-input"
    ]
   },
   "outputs": [],
   "source": [
    "#@title {display-mode: \"form\"}"
   ]
  },
  {
   "cell_type": "markdown",
   "id": "b94f344a-8c2a-4080-b972-8e7a30c91e66",
   "metadata": {},
   "source": [
    "Import and define functions"
   ]
  },
  {
   "cell_type": "code",
   "execution_count": null,
   "id": "be70dacf-b862-4afa-8fc0-dce8c363fdf9",
   "metadata": {
    "tags": [
     "hide-input"
    ]
   },
   "outputs": [],
   "source": [
    "#@title {display-mode: \"form\"}\n",
    "\n",
    "#@markdown Run this code cell to import packages and define functions \n",
    "from pathlib import Path\n",
    "import random\n",
    "import numpy as np\n",
    "import pandas as pd\n",
    "import plotly.express as px\n",
    "import plotly.graph_objects as go\n",
    "from plotly.subplots import make_subplots\n",
    "from scipy import ndimage\n",
    "from scipy.signal import hilbert,medfilt,resample, find_peaks\n",
    "import seaborn as sns\n",
    "import matplotlib.pyplot as plt\n",
    "from sklearn.decomposition import PCA\n",
    "from sklearn.cluster import KMeans\n",
    "from datetime import datetime,timezone,timedelta\n",
    "pal = sns.color_palette(n_colors=15)\n",
    "pal = pal.as_hex()\n",
    "\n",
    "from ipywidgets import interactive, HBox, VBox, widgets, interact\n",
    "\n",
    "print('Task completed at ' + str(datetime.now(timezone(-timedelta(hours=5)))))"
   ]
  },
  {
   "cell_type": "markdown",
   "id": "f91a09e1-c305-4809-8302-c1fad4140efa",
   "metadata": {},
   "source": [
    "Mount Google Drive"
   ]
  },
  {
   "cell_type": "code",
   "execution_count": null,
   "id": "2b3a4500-470b-44e3-8572-a0d55f3bc1cb",
   "metadata": {
    "tags": [
     "hide-input"
    ]
   },
   "outputs": [],
   "source": [
    "#@title {display-mode: \"form\"}\n",
    "\n",
    "#@markdown Run this cell to mount your Google Drive.\n",
    "\n",
    "from google.colab import drive\n",
    "drive.mount('/content/drive')\n",
    "\n",
    "print('Task completed at ' + str(datetime.now(timezone(-timedelta(hours=5)))))"
   ]
  },
  {
   "cell_type": "markdown",
   "id": "61aa1776-ad44-4487-ad14-9dfe050de305",
   "metadata": {},
   "source": [
    "Import data digitized with *Nidaq USB6211* and recorded using *Bonsai-rx* as a *.bin* file"
   ]
  },
  {
   "cell_type": "code",
   "execution_count": null,
   "id": "b4e462b0-3e79-4f68-ac93-4a5ed2a83696",
   "metadata": {
    "tags": [
     "hide-input"
    ]
   },
   "outputs": [],
   "source": [
    "#@title {display-mode: \"form\"}\n",
    "\n",
    "#@markdown Specify the file path \n",
    "#@markdown to your recorded data on Drive (find the filepath in the colab file manager:\n",
    "\n",
    "filepath = \"full filepath goes here\"  #@param \n",
    "filepath = '/Users/kperks/mnt/OneDrive - wesleyan.edu/Teaching/Neurophysiology_FA21/Data/CrayfishNerve3/nerve_Muscle_TelsonStim2021-07-16T14_34_57.bin'\n",
    "\n",
    "#@markdown Specify the sampling rate and number of channels recorded.\n",
    "\n",
    "# sampling_rate = NaN #@param\n",
    "# number_channels = NaN #@param\n",
    "\n",
    "sampling_rate = 30000\n",
    "number_channels = 2\n",
    "muscle_channel = 0\n",
    "nerve_channel = 1\n",
    "\n",
    "downsample = False #@param\n",
    "\n",
    "#@markdown After you have filled out all form fields, \n",
    "#@markdown run this code cell to load the data. \n",
    "\n",
    "filepath = Path(filepath)\n",
    "\n",
    "# No need to edit below this line\n",
    "#################################\n",
    "data = np.fromfile(Path(filepath), dtype = np.float64)\n",
    "if number_channels>1:\n",
    "    data = data.reshape(-1,number_channels)\n",
    "dur = np.shape(data)[0]/sampling_rate\n",
    "print('duration of recording was %0.2f seconds' %dur)\n",
    "\n",
    "fs = sampling_rate\n",
    "if downsample:\n",
    "    newfs = 2500 #downsample emg data\n",
    "    chunksize = int(sampling_rate/newfs)\n",
    "    if number_channels>1:\n",
    "        data = data[0::chunksize,:]\n",
    "    if number_channels==1:\n",
    "        data = data[0::chunksize]\n",
    "    fs = int(np.shape(data)[0]/dur)\n",
    "\n",
    "time = np.linspace(0,dur,np.shape(data)[0])\n",
    "pre = data[:,nerve_channel]\n",
    "post = data[:,muscle_channel]\n",
    "\n",
    "print('Now be a bit patient while it plots.')\n",
    "\n",
    "f = go.FigureWidget(make_subplots(rows=2, cols=1, shared_xaxes= True)) #,layout=go.Layout(height=500, width=800))\n",
    "f.add_trace(go.Scatter(x = time[0:fs], y = pre[0:fs],\n",
    "                             name='pre synaptic',opacity=1),row=1,col=1)\n",
    "f.add_trace(go.Scatter(x = time[0:fs], y = post[0:fs],\n",
    "                             name='post synaptic',opacity=1),row=2,col=1)\n",
    "f.update_layout(height=600, width=800,\n",
    "               xaxis2_title=\"time(seconds)\", \n",
    "                  yaxis_title='amplitude (volts)', yaxis2_title='amplitude (volts)')\n",
    "\n",
    "slider = widgets.FloatRangeSlider(\n",
    "    min=0,\n",
    "    max=dur,\n",
    "    value=(0,1),\n",
    "    step= 1,\n",
    "    readout=False,\n",
    "    description='Time')\n",
    "slider.layout.width = '800px'\n",
    "\n",
    "# our function that will modify the xaxis range\n",
    "def response(x):\n",
    "    with f.batch_update():\n",
    "        starti = int(x[0]*fs)\n",
    "        stopi = int(x[1]*fs)\n",
    "        f.data[0].x = time[starti:stopi]\n",
    "        f.data[0].y = pre[starti:stopi]\n",
    "        f.data[1].x = time[starti:stopi]\n",
    "        f.data[1].y = post[starti:stopi]\n",
    "\n",
    "vb = VBox((f, interactive(response, x=slider)))\n",
    "vb.layout.align_items = 'center'\n",
    "vb\n",
    "\n",
    "# print('Now be a bit patient while it plots.')\n",
    "# fig = go.Figure()\n",
    "# fig.add_trace(go.Scatter(x = time, y = data,line_color='black',name='channel 1'))\n",
    "# fig.update_layout(xaxis_title=\"time(seconds)\", yaxis_title='amplitude',width=800, height=500)\n",
    "# fig.show()"
   ]
  },
  {
   "cell_type": "markdown",
   "id": "b7b40cda-55dd-4604-afb7-89e5d0731983",
   "metadata": {},
   "source": [
    "<a id=\"one\"></a>\n",
    "# Part I. Process Data\n",
    "\n",
    "[toc](#toc)"
   ]
  },
  {
   "cell_type": "code",
   "execution_count": null,
   "id": "142b84be-c0ba-43ae-a16b-03fcdf54dca1",
   "metadata": {
    "cellView": "form",
    "id": "iE2MylaxTGpL",
    "tags": [
     "hide-input"
    ]
   },
   "outputs": [],
   "source": [
    "#@title { display-mode: \"form\" }\n",
    "\n",
    "#@markdown <b>TASK: </b> Type in the start and stop time (in seconds) \n",
    "#@markdown that you want to focus on in the recording.\n",
    "# start_time =   None#@param {type: \"number\"}\n",
    "# stop_time = None  #@param {type: \"number\"}\n",
    "# #@markdown <b>TASK: </b> Type in an appropriate event threshold amplitude for detection.\n",
    "# threshold = None  #@param {type: \"number\"}\n",
    "# #@markdown <b>TASK: </b> Then from the dropdown, select a polarity (whether peaks are up or down)\n",
    "# peaks = \"up\"  #@param ['select peak direction','up', 'down']\n",
    "# #@markdown <b>TASK: </b> Finally, RUN this cell to set these values.\n",
    "\n",
    "start_time =   0 #@param {type: \"number\"}\n",
    "stop_time = 20  #@param {type: \"number\"}\n",
    "#@markdown <b>TASK: </b> Type in an appropriate event threshold amplitude for detection.\n",
    "threshold = 0.1  #@param {type: \"number\"}\n",
    "#@markdown <b>TASK: </b> Then from the dropdown, select a polarity (whether peaks are up or down)\n",
    "peaks = \"down\"  #@param ['select peak direction','up', 'down']\n",
    "#@markdown <b>TASK: </b> Finally, RUN this cell to set these values.\n",
    "\n",
    "spike_detection_threshold = threshold\n",
    "\n",
    "if peaks=='up': polarity = 1\n",
    "if peaks=='down': polarity=-1\n",
    "\n",
    "#@markdown After the values are set, the emg signal will be processed to detect events (peaks).\n",
    "#@markdown \"PCA\" (principle component analysis) will be applied to determine  \n",
    "#@markdown the fundamental waveform shapes across all events.\n",
    "#@markdown <br> You will see a histogram of event peak amplitudes \n",
    "#@markdown as well as a plot of waveform PCs (principle components).\n",
    "min_isi = 0.001 #seconds\n",
    "\n",
    "# samples_inwin = samples[int(start_time/sample_rate):int(stop_time/sample_rate)]\n",
    "peaks,props = find_peaks(polarity * pre,height=spike_detection_threshold, \n",
    "                         prominence = spike_detection_threshold, distance=int(min_isi*fs))\n",
    "peaks_t = peaks/fs\n",
    "inwin_inds = ((peaks_t>start_time) & (peaks_t<stop_time))\n",
    "df_props = pd.DataFrame({\n",
    "        'height': props['peak_heights'][inwin_inds],\n",
    "        'spikeT' : peaks_t[inwin_inds],\n",
    "        'spikeInd' : peaks[inwin_inds]\n",
    "        # 'widths' : props['widths']/fs\n",
    "            })\n",
    "n,bins = np.histogram(df_props['height'],bins = 100) # calculate the histogram\n",
    "bins = bins[1:]\n",
    "hfig,ax = plt.subplots(1)\n",
    "ax.step(bins,n)\n",
    "ax.set_ylabel('count')\n",
    "ax.set_xlabel('amplitude')\n",
    "\n",
    "windur = 0.001\n",
    "winsamp = int(windur*fs)\n",
    "spkarray = []\n",
    "for i in df_props['spikeInd'].values:\n",
    "    spkarray.append(pre[i-winsamp : i+winsamp+1])\n",
    "\n",
    "df = pd.DataFrame(np.asarray(spkarray).T)\n",
    "df_norm =(df - df.mean()) / df.std() # normalize for pca\n",
    "\n",
    "n_components=5 #df.shape[0] \n",
    "pca = PCA(n_components=n_components)\n",
    "pca.fit(df_norm)\n",
    "df_pca = pd.DataFrame(pca.transform(df), columns=['PC%i' % i for i in range(n_components)], index=df.index)\n",
    "print('You detected %i events above threshold.' %len(df.columns))\n",
    "#print(You have transformed this dataset into %i principle components.' %(len(df.columns),n_components))\n",
    "\n",
    "loadings = pd.DataFrame(pca.components_.T, columns=df_pca.columns, index=df.columns)\n",
    "df_data = loadings.join(df_props['height'])\n",
    "\n",
    "hfig,ax = plt.subplots(1)\n",
    "ax.set_xlabel('seconds')\n",
    "ax.set_ylabel('amplitude (a.u.)')\n",
    "ax.set_yticklabels([])\n",
    "for c in df_pca.columns[0:5]:\n",
    "    ax.plot(df_pca[c],label = c,alpha = 0.75)\n",
    "plt.legend(bbox_to_anchor=(1, 1));\n",
    "\n",
    "print('Tasks completed at ' + str(datetime.now(timezone(-timedelta(hours=5)))))\n"
   ]
  },
  {
   "cell_type": "code",
   "execution_count": null,
   "id": "37caa8d9-c38a-4b4e-981a-6091e27f61d1",
   "metadata": {
    "cellView": "form",
    "id": "4e574ce9-d314-4a20-918b-f2496260c9a8",
    "tags": [
     "hide-input"
    ]
   },
   "outputs": [],
   "source": [
    "#@title Cluster Detected Events { display-mode: \"form\" }\n",
    "\n",
    "#@markdown Let's start by clustering the events into putative motor units. { display-mode: \"form\" }\n",
    "#@markdown Choose the number of clusters you want to split the data into and type that number below. <br>\n",
    "#@markdown >Note: It can sometimes help to \"over-split\" the events into more clusters \n",
    "#@markdown than you think will be necessary. You can try both strategies and assess the results.\n",
    "number_of_clusters = None #@param {type: \"number\"}\n",
    "#@markdown RUN this cell to cluster events categorically based on waveform shape (in PC space) and amplitude. \n",
    "#@markdown <br>As a result, you will see a plot of the mean waveform from each cluster (with standard deviation shaded)\n",
    "\n",
    "number_of_clusters = 7 #@param {type: \"number\"}\n",
    "\n",
    "# No need to edit below this line\n",
    "#################################\n",
    "\n",
    "kmeans = KMeans(n_clusters=number_of_clusters).fit(df_data)\n",
    "# df_props['peaks_t'] = peaks_t\n",
    "df_props['cluster'] = kmeans.labels_\n",
    "\n",
    "winsamps = int(windur * fs)\n",
    "x = np.linspace(-windur,windur,winsamps*2)*1000\n",
    "hfig,ax = plt.subplots(1,figsize=(10,8))\n",
    "ax.set_ylabel('Volts recorded')\n",
    "ax.set_xlabel('milliseconds')\n",
    "\n",
    "# fig = go.Figure()\n",
    "\n",
    "for k in np.unique(df_props['cluster']):\n",
    "    spkt = df_props.loc[df_props['cluster']==k]['spikeT'].values #['peaks_t'].values\n",
    "    spkt = spkt[(spkt>windur) & (spkt<(len((pre)/fs)-windur))]\n",
    "    print(str(len(spkt)) + \" spikes in cluster number \" + str(k))\n",
    "    spkwav = np.asarray([pre[(int(t*fs)-winsamps):(int(t*fs)+winsamps)] for t in spkt])\n",
    "    wav_u = np.mean(spkwav,0)\n",
    "    wav_std = np.std(spkwav,0)\n",
    "    # fig.add_trace(go.Scatter(x = x, y = wav_u,line_color=pal[k],name='cluster ' + str(k)),\n",
    "    #          row=1,col=1)\n",
    "    ax.plot(x,wav_u,linewidth = 3,label='cluster '+ str(k),color=pal[k])\n",
    "    ax.fill_between(x, wav_u-wav_std, wav_u+wav_std, alpha = 0.25,color=pal[k])\n",
    "# fig.update_layout(xaxis_title=\"time(seconds)\", yaxis_title='amplitude',width=500, height=500)\n",
    "plt.legend(bbox_to_anchor=[1.25,1]);\n",
    "\n",
    "print('Tasks completed at ' + str(datetime.now(timezone(-timedelta(hours=5)))))\n"
   ]
  },
  {
   "cell_type": "markdown",
   "id": "0a37aa64-ee1b-4248-8901-982f326e0cb0",
   "metadata": {
    "id": "9iyWsThmXdI_"
   },
   "source": [
    "If there are multiple spike clusters you want to merge into a single cell class, *edit and run* the cell below.\n",
    "\n",
    "> **merge_cluster_list** = a list of the clusters (identified by numbers associated with the colors specified in the legend above).\n",
    "  - **For example**, the folowing list would merge clusters 0 and 2 together and 1, 4, and 3 together: <br>\n",
    "     **merge_cluster_list = [[0,2],[1,4,3]]**\n",
    "  - For each merge group, the first cluster number listed will be the re-asigned cluster number for that group (for example, in this case you would end up with a cluster number 0 and a cluster number 1). \n",
    "  "
   ]
  },
  {
   "cell_type": "code",
   "execution_count": null,
   "id": "e7ae4811-90b0-4c5d-8f7b-39d48fb2590b",
   "metadata": {
    "cellView": "form",
    "id": "EDJgd8DAXRba",
    "tags": [
     "hide-input"
    ]
   },
   "outputs": [],
   "source": [
    "#@title { display-mode: \"form\" }\n",
    "\n",
    "#@markdown ONLY DO THIS TASK IF YOU WANT TO MERGE CLUSTERS. { display-mode: \"form\" }\n",
    "#@markdown OTHERWISE, MOVE ON. \n",
    "#@markdown <br> Below, create your list (of sublists) of clusters to merge.\n",
    "#@markdown >Just leave out from the list any clusters that you want unmerged.\n",
    "merge_cluster_list = [[0,3,4],[1,2]] #@param\n",
    "#@markdown Then, RUN the cell to merge clusters as specified.\n",
    "\n",
    "for k_group in merge_cluster_list:\n",
    "    for k in k_group:\n",
    "        df_props.loc[df_props['cluster']==k,'cluster'] = k_group[0]\n",
    "print('you now have the following clusters: ' + str(np.unique(df_props['cluster'])))\n",
    "\n",
    "print('Tasks completed at ' + str(datetime.now(timezone(-timedelta(hours=5)))))\n"
   ]
  },
  {
   "cell_type": "code",
   "execution_count": null,
   "id": "4991766f-18f0-4f83-82a1-6d1ae2bc852c",
   "metadata": {
    "cellView": "form",
    "id": "JAux50jqXs8a",
    "tags": [
     "hide-input"
    ]
   },
   "outputs": [],
   "source": [
    "#@title { display-mode: \"form\" }\n",
    "\n",
    "#@markdown Now, RUN this cell to plot the average waveform for your new clusters. { display-mode: \"form\" }\n",
    "##@markdown And to plot a color-coded scatter of each detected and categorized emg event.\n",
    "winsamps = int(windur * fs)\n",
    "x = np.linspace(-windur,windur,winsamps*2)*1000\n",
    "hfig,ax = plt.subplots(1,figsize=(8,6))\n",
    "ax.set_ylabel('amplitude')\n",
    "ax.set_xlabel('milliseconds')\n",
    "\n",
    "# fig = go.Figure()\n",
    "\n",
    "for k in np.unique(df_props['cluster']):\n",
    "    spkt = df_props.loc[df_props['cluster']==k]['spikeT'].values\n",
    "    spkt = spkt[(spkt>windur) & (spkt<(len((pre)/fs)-windur))]\n",
    "    print(str(len(spkt)) + \" spikes in cluster number \" + str(k))\n",
    "    spkwav = np.asarray([pre[(int(t*fs)-winsamps):(int(t*fs)+winsamps)] for t in spkt])\n",
    "    wav_u = np.mean(spkwav,0)\n",
    "    wav_std = np.std(spkwav,0)\n",
    "    # fig.add_trace(go.Scatter(x = x, y = wav_u,line_color=pal[k],name='cluster ' + str(k)),\n",
    "    #          row=1,col=1)\n",
    "    ax.plot(x,wav_u,linewidth = 3,label='cluster '+ str(k),color=pal[k])\n",
    "    ax.fill_between(x, wav_u-wav_std, wav_u+wav_std, alpha = 0.25,color=pal[k])\n",
    "# fig.update_layout(xaxis_title=\"time(seconds)\", yaxis_title='amplitude',width=500, height=500)\n",
    "plt.legend(bbox_to_anchor=[1.25,1]);\n",
    "\n",
    "# fig = go.Figure()\n",
    "# fig.add_trace(go.Scatter(x = xtime, y = samples,line_color='black',name='emg0'))\n",
    "# for i,k in enumerate(np.unique(df_props['cluster'])):\n",
    "#     df_ = df_props[df_props['cluster']==k]\n",
    "#     fig.add_trace(go.Scatter(x = df_['peaks_t'], y = polarity*df_['height'],line_color=pal[k],name=str(k),mode='markers'))\n",
    "# fig.update_layout(xaxis_title=\"time(seconds)\", yaxis_title='amplitude',width=800, height=400)\n",
    "\n",
    "print('Tasks completed at ' + str(datetime.now(timezone(-timedelta(hours=5)))))\n"
   ]
  },
  {
   "cell_type": "code",
   "execution_count": null,
   "id": "c68ccb8b-9d2b-4c66-8939-59c0b6f51df1",
   "metadata": {},
   "outputs": [],
   "source": [
    "#@title Overlay cluster identity on Raw signal {display-mode:\"form\"}\n",
    "\n",
    "\n",
    "f = go.FigureWidget()\n",
    "f.add_trace(go.Scatter(x = time[0:fs], y = pre[0:fs],\n",
    "                             name='pre synaptic',opacity=1,line_color='black'))\n",
    "for k in np.unique(df_props['cluster']):\n",
    "    start = 0 \n",
    "    stop = 1\n",
    "    inwin_inds = np.asarray([(df_props['spikeT'].values>start) & (df_props['spikeT'].values<stop)]).T\n",
    "    df_ = df_props[inwin_inds]\n",
    "    df_ = df_[df_['cluster']==k]\n",
    "    \n",
    "    f.add_trace(go.Scatter(x = df_['spikeT'], y = polarity*df_['height'],\n",
    "                             line_color=pal[k],name=str(k) + ' times',mode='markers'))\n",
    "    \n",
    "f.update_layout(height=600, width=800,\n",
    "               xaxis_title=\"time(seconds)\", \n",
    "                  yaxis_title='amplitude (volts)')\n",
    "\n",
    "\n",
    "slider = widgets.FloatRangeSlider(\n",
    "    min=0,\n",
    "    max=dur,\n",
    "    value=(0,1),\n",
    "    step= 1,\n",
    "    readout=False,\n",
    "    description='Time')\n",
    "slider.layout.width = '800px'\n",
    "\n",
    "# our function that will modify the xaxis range\n",
    "def response(x):\n",
    "    with f.batch_update():\n",
    "        starti = int(x[0]*fs)\n",
    "        stopi = int(x[1]*fs)\n",
    "        f.data[0].x = time[starti:stopi]\n",
    "        f.data[0].y = pre[starti:stopi]\n",
    "        for i,k in enumerate(np.unique(df_props['cluster'])):\n",
    "            inwin_inds = np.asarray([(df_props['spikeT'].values>x[0]) & (df_props['spikeT'].values<x[1])]).T\n",
    "            df_ = df_props[inwin_inds]\n",
    "            df_ = df_[df_['cluster']==k]\n",
    "            f.data[1+i].x = df_['spikeT']\n",
    "            f.data[1+i].y = polarity*df_['height']\n",
    "\n",
    "vb = VBox((f, interactive(response, x=slider)))\n",
    "vb.layout.align_items = 'center'\n",
    "vb\n"
   ]
  },
  {
   "cell_type": "markdown",
   "id": "dd727a14-c83f-4bc1-91d7-59cb24049341",
   "metadata": {},
   "source": [
    "<a id=\"two\"></a>\n",
    "# Part II.\n",
    "\n",
    "[toc](#toc)"
   ]
  },
  {
   "cell_type": "code",
   "execution_count": null,
   "id": "e2fb9c5b-5f47-4bfc-b088-7d1af2eddb22",
   "metadata": {},
   "outputs": [],
   "source": [
    "#@title {display-mode:\"form\"}\n",
    "\n",
    "windur = 0.1 #@param\n",
    "\n",
    "# No need to edit below this line\n",
    "#################################\n",
    "winsamps = int(windur * fs)\n",
    "x = np.linspace(0,windur,winsamps)*1000 #transform time to milliseconds\n",
    "hfig,ax = plt.subplots(1)\n",
    "ax.set_ylabel('amplitude (volts)')\n",
    "ax.set_xlabel('milliseconds')\n",
    "for k in np.unique(df_props['cluster']):\n",
    "    spkt = df_props.loc[df_props['cluster']==k]['spikeT'].values\n",
    "    spkt = spkt[(spkt<((len(post)/fs)-windur))]\n",
    "    synwav = np.asarray([post[(int(t*sampling_rate)):(int(t*sampling_rate)+winsamps)] for t in spkt])\n",
    "    wav_u = np.mean(synwav,0)\n",
    "    wav_std = np.std(synwav,0)\n",
    "    ax.plot(x,wav_u,linewidth = 3,color = pal[k])\n",
    "    # ax.fill_between(x, wav_u-wav_std, wav_u+wav_std, alpha = 0.25, color = pal[k])"
   ]
  },
  {
   "cell_type": "code",
   "execution_count": null,
   "id": "e8815ce9-b00a-4237-90ce-03096e0fa5ff",
   "metadata": {},
   "outputs": [],
   "source": [
    "windur = 0.1 #@param\n",
    "\n",
    "winoffset = 0.002 # in milliseconds\n",
    "winsamps = int(windur * fs)\n",
    "xtime = ((np.linspace(0,windur,winsamps))- winoffset)*1000 #subtract pre-spike offset\n",
    "\n",
    "k = df_props['cluster'][0] #seed it to start\n",
    "\n",
    "f = go.FigureWidget(make_subplots(rows=2,cols=1,shared_xaxes=True))\n",
    "\n",
    "spkt = df_props.loc[df_props['cluster']==k]['spikeT'].values\n",
    "spkt = spkt[(spkt>winoffset) & (spkt<(len(post)/fs)-windur)] - winoffset\n",
    "\n",
    "spkt_ = spkt[random.sample(range(0,len(spkt)),np.min([10,len(spkt)]))]\n",
    "    \n",
    "spkwav = np.asarray([pre[(int(t*fs)):(int(t*fs)+winsamps)] - pre[int(t*fs)] for t in spkt_]).T\n",
    "spk_u = np.mean(spkwav,1)\n",
    "spk_std = np.std(spkwav,1)\n",
    "\n",
    "for i in spkwav.T:\n",
    "    f.add_trace(go.Scatter(x = xtime, y = i, opacity = 0.5,line_color = pal[k]),row=1,col=1);\n",
    "f.add_trace(go.Scatter(x=xtime,y = spk_u,line_color = 'black'),row=1,col=1)\n",
    "\n",
    "synwav = np.asarray([post[(int(t*fs)):(int(t*fs)+winsamps)] - post[int(t*fs)] for t in spkt_]).T\n",
    "syn_u = np.mean(synwav,1)\n",
    "syn_std = np.std(synwav,1)\n",
    "for i in synwav.T:\n",
    "    f.add_trace(go.Scatter(x = xtime, y = i, opacity = 0.5,line_color = pal[k]),row=2,col=1);\n",
    "f.add_trace(go.Scatter(x=xtime,y = syn_u,line_color = 'black'),row=2,col=1)\n",
    "\n",
    "    \n",
    "f.update_layout(height=600, width=800,\n",
    "               xaxis2_title=\"time(milliseconds)\", \n",
    "                  yaxis_title='amplitude (volts)',yaxis2_title='amplitude (volts)')\n",
    "\n",
    "cluster_select = widgets.Dropdown(b\n",
    "    options=np.unique(df_props['cluster']),\n",
    "    value=k,\n",
    "    description='Cluster ID:',\n",
    "    disabled=False,\n",
    "    )\n",
    "\n",
    "\n",
    "# our function that will modify the xaxis range\n",
    "def response(k):\n",
    "    with f.batch_update():\n",
    "        spkt = df_props.loc[df_props['cluster']==k]['spikeT'].values\n",
    "        spkt = spkt[(spkt>winoffset) & (spkt<(len(post)/fs)-windur)] - winoffset\n",
    "        \n",
    "        spkt_ = spkt[random.sample(range(0,len(spkt)),np.min([10,len(spkt)]))]\n",
    "    \n",
    "        spkwav = np.asarray([pre[(int(t*fs)):(int(t*fs)+winsamps)] - pre[int(t*fs)] for t in spkt_]).T\n",
    "        spk_u = np.mean(spkwav,1)\n",
    "        spk_std = np.std(spkwav,1)\n",
    "\n",
    "        synwav = np.asarray([post[(int(t*fs)):(int(t*fs)+winsamps)] - post[int(t*fs)] for t in spkt_]).T\n",
    "        syn_u = np.mean(synwav,1)\n",
    "        syn_std = np.std(synwav,1)\n",
    "\n",
    "        trace_ = 0\n",
    "\n",
    "        for i in spkwav.T:\n",
    "            f.data[trace_].y = i\n",
    "            trace_+=1\n",
    "        f.data[trace_].y = spk_u\n",
    "        trace_+=1\n",
    "\n",
    "        for i in synwav.T:\n",
    "            f.data[trace_].y = i\n",
    "            trace_+=1\n",
    "        f.data[trace_].y = syn_u\n",
    "        trace_+=1\n",
    "\n",
    "\n",
    "vb = VBox((f, interactive(response, k=cluster_select)))\n",
    "vb.layout.align_items = 'center'\n",
    "vb"
   ]
  },
  {
   "cell_type": "markdown",
   "id": "dab050ce-1e4c-48a2-8e02-4cf1d76dea42",
   "metadata": {},
   "source": [
    "plot individual events"
   ]
  },
  {
   "cell_type": "code",
   "execution_count": null,
   "id": "d686d1b0-3723-41ae-8aa7-8647e83fe65f",
   "metadata": {},
   "outputs": [],
   "source": [
    "\n",
    "windur = 0.1 #@param\n",
    "\n",
    "winoffset = 2 # in milliseconds\n",
    "winsamps = int(windur * fs)\n",
    "xtime = ((np.linspace(0,windur,winsamps))*1000)- winoffset #subtract pre-spike offset\n",
    "\n",
    "k = df_props['cluster'][0] #seed it to start\n",
    "\n",
    "f = go.FigureWidget(make_subplots(rows=2,cols=1,shared_xaxes=True))\n",
    "\n",
    "spkt = df_props.loc[df_props['cluster']==k]['spikeT'].values\n",
    "spkt = spkt[(spkt>winoffset) & (spkt<(len(post)/fs)-windur)] - winoffset/1000\n",
    "\n",
    "spkt_ = spkt[0]\n",
    "    \n",
    "spkwav = pre[(int(spkt_*fs)):(int(spkt_*fs)+winsamps)] - pre[int(spkt_*fs)]\n",
    "f.add_trace(go.Scatter(x=xtime,y = spkwav,line_color = 'black'),row=1,col=1)\n",
    "\n",
    "synwav = post[(int(spkt_*fs)):(int(spkt_*fs)+winsamps)] - post[int(spkt_*fs)]\n",
    "f.add_trace(go.Scatter(x=xtime,y = synwav,line_color = 'black'),row=2,col=1)\n",
    "\n",
    "f.update_layout(height=600, width=800,\n",
    "                xaxis2_title=\"time(milliseconds)\", \n",
    "                yaxis_title='amplitude (volts)',yaxis2_title='amplitude (volts)')\n",
    "\n",
    "cluster_select = widgets.Dropdown(\n",
    "    options=np.unique(df_props['cluster']),\n",
    "    value=k,\n",
    "    description='Cluster ID:',\n",
    "    disabled=False,\n",
    ")\n",
    "\n",
    "event_select = widgets.IntSlider(\n",
    "    value=0,\n",
    "    min=0,\n",
    "    max=len(spkt),\n",
    "    step=1,\n",
    "    description='Test:',\n",
    "    disabled=False,\n",
    "    continuous_update=False,\n",
    "    orientation='horizontal',\n",
    "    readout=True,\n",
    "    readout_format='d'\n",
    ")\n",
    "\n",
    "# our function that will modify the xaxis range\n",
    "def response(k,t):\n",
    "    with f.batch_update():\n",
    "        spkt = df_props.loc[df_props['cluster']==k]['spikeT'].values\n",
    "        spkt = spkt[(spkt>winoffset) & (spkt<(len(post)/fs)-windur)] - winoffset/1000\n",
    "        \n",
    "        event_select.max=len(spkt)-1\n",
    "\n",
    "        spkt_ = spkt[event_select.value] # shoulod be able to use \"t\"\n",
    "        spkwav = pre[(int(spkt_*fs)):(int(spkt_*fs)+winsamps)] - pre[int(spkt_*fs)]\n",
    "        synwav = post[(int(spkt_*fs)):(int(spkt_*fs)+winsamps)] - post[int(spkt_*fs)]\n",
    "        \n",
    "        f.data[0].y = spkwav\n",
    "        f.data[1].y = synwav\n",
    "        \n",
    "        f.update_layout(yaxis1_range=[np.min(pre),np.max(pre)])\n",
    "\n",
    "\n",
    "vb = VBox((f, interactive(response, k=cluster_select, t=event_select)))\n",
    "vb.layout.align_items = 'center'\n",
    "vb\n",
    "\n"
   ]
  },
  {
   "cell_type": "markdown",
   "id": "c224f763-fc10-4dc7-8a2f-8b6be3ce0dba",
   "metadata": {},
   "source": [
    "<a id=\"three\"></a>\n",
    "# Part III.\n",
    "\n",
    "[toc](#toc)"
   ]
  },
  {
   "cell_type": "markdown",
   "id": "a48353ef-4d84-45a6-91eb-49669622071b",
   "metadata": {},
   "source": [
    "<a id=\"four\"></a>\n",
    "# Part IV.\n",
    "\n",
    "[toc](#toc)"
   ]
  },
  {
   "cell_type": "markdown",
   "id": "ee9a8d05-efee-4523-85b9-0976a1de3dbf",
   "metadata": {},
   "source": [
    "<a id=\"five\"></a>\n",
    "# Part V.\n",
    "\n",
    "[toc](#toc)"
   ]
  },
  {
   "cell_type": "markdown",
   "id": "d451b557-6777-4492-955e-a41130ad39b9",
   "metadata": {},
   "source": [
    "<hr> \n",
    "Written by Dr. Krista Perks for courses taught at Wesleyan University."
   ]
  },
  {
   "cell_type": "code",
   "execution_count": null,
   "id": "5c707588-d5f6-4142-8289-da7ba6a97dbc",
   "metadata": {},
   "outputs": [],
   "source": []
  },
  {
   "cell_type": "markdown",
   "id": "57a8a68c-055e-4af0-ba4d-67d0d67148f1",
   "metadata": {},
   "source": [
    "<a id=\"setup\"></a>"
   ]
  },
  {
   "cell_type": "markdown",
   "id": "a350712e-e145-4475-9588-e3f19469b5ce",
   "metadata": {},
   "source": [
    "<a id=\"one\"></a>"
   ]
  },
  {
   "cell_type": "markdown",
   "id": "86fd2b4a-b890-465f-bf33-c2057738789e",
   "metadata": {},
   "source": [
    "<a id=\"two\"></a>"
   ]
  },
  {
   "cell_type": "markdown",
   "id": "b05de192-2baf-4d46-8848-6db1e3b50bff",
   "metadata": {},
   "source": [
    "<a id=\"three\"></a>"
   ]
  },
  {
   "cell_type": "markdown",
   "id": "e6519277-fc86-44fd-a75b-f74cad0efcf1",
   "metadata": {},
   "source": [
    "<a id=\"four\"></a>"
   ]
  }
 ],
 "metadata": {
  "kernelspec": {
   "display_name": "Python 3 (ipykernel)",
   "language": "python",
   "name": "python3"
  },
  "language_info": {
   "codemirror_mode": {
    "name": "ipython",
    "version": 3
   },
   "file_extension": ".py",
   "mimetype": "text/x-python",
   "name": "python",
   "nbconvert_exporter": "python",
   "pygments_lexer": "ipython3",
   "version": "3.8.13"
  },
  "widgets": {
   "application/vnd.jupyter.widget-state+json": {
    "state": {},
    "version_major": 2,
    "version_minor": 0
   }
  }
 },
 "nbformat": 4,
 "nbformat_minor": 5
}