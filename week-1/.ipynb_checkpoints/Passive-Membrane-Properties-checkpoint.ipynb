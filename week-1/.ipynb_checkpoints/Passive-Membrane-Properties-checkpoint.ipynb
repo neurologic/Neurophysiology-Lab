{
 "cells": [
  {
   "cell_type": "markdown",
   "id": "a62510f5",
   "metadata": {},
   "source": [
    "<a href=\"https://colab.research.google.com/github/neurologic/Neurophysiology-Lab/blob/main/week-1/Passive-Membrane-Properties.ipynb\" target=\"_blank\"><img alt=\"Open In Colab\" src=\"https://colab.research.google.com/assets/colab-badge.svg\"/></a>   "
   ]
  },
  {
   "cell_type": "markdown",
   "id": "193a6fb5",
   "metadata": {},
   "source": [
    "<a id=\"intro\"></a>\n",
    "# Passive Membrane Properties\n",
    "\n",
    "[Table of Contents](#toc)\n",
    "\n",
    "Today you will use electrical circuit models of a passive cell membrane to introduce yourself to some of the basic components of your essential electrophysiology toolkit. You will interrogate some of the passive properties of neural membranes and compare the difference between membrane potential \"spikes\" recorded intracellularly and membrane potentials recorded extracellularly. \n",
    "\n",
    "Upon completion of the materials assigned in this module, you will be able to:\n",
    "- Describe passive properties of neural membranes that critically affect neural processing. \n",
    "- Use a voltage meter.\n",
    "- Understand how basic circuit components relate to fundamental physiological properties of neurons (Resistance, Capacitance, Serial, Parallel, Voltage, Current).\n",
    "- Store, manage, and visualize data on the computer.\n",
    "- Create figures that summarize your data and analysis - enabling you to discuss your results.\n",
    "\n",
    "A small set of electrical components can be used to describe many of the basic electrophysiological properties of neurons.\n",
    "<!-- ![electrical components](../images/Electrical_Components.png) -->\n",
    "<img src='../images/Electrical_Components.png' width=\"300\" alt='electrical components'>\n",
    "\n",
    "Resistors are electrical components that resist the flow of current through a circuit. The amount of current flowing through a resistor can be expressed by Ohm’s Law: I = V/R, where I represents the current, V represents the voltage, and R represents the resistance. Similarly, V = IR determines the voltage in response to a current across a resistor. \n",
    "\n",
    "In an electrical circuit, a capacitor possesses two conducting regions with a separation of non-conducting material in between. When one conducting region accumulates a charge (due to current flow from an external voltage source), an electric field is created, which pushes the charge off of the subsequent conducting region of the capacitor. This phenomenon only lasts a short amount of time, producing a brief current which is expressed as: I = C dV/dt, where I represents the current, C represents the capacitance, and dV/dt represents the rate of voltage change with time.\n",
    "\n",
    "The first model membrane circuit you will be working with contains 3 different resistances for each patch of \"memrbane\". These are arranged both in serial and parallel across the \"membrane\".  \n",
    "<img src='../images/Passive-Membrane-Resistance-Circuit.png' width=\"500\" alt='model membrane resistance'>\n",
    "- Rinside = 1 kOhm\n",
    "- Routside = 100 Ohm\n",
    "- Rmembrane = 10 kOhm\n",
    "\n",
    "The second model membrane circuit you will be working with is a complete model of a patch of cell membrane. Since the lipid bilayer is an electrical insulator between two conducting areas (extra- and intracellular fluids), it acts as a capacitor, while ion channels act as resistors. Membrane capacitance is parallel to membrane resistance (though a circuit in series would be equivalent for this lab). \n",
    "<img src='../images/Passive-Membrane-Resistance-Capacitance-Circuit.png' width=\"400\" alt='model membrane RC'>\n",
    "\n",
    "Current flows across the membrane capacitance only when voltage across the membrane changes. Wen one side of a membrane becomes more positive (for example when an excitatory synaptic input is \"activated\"), positive ions are repelled from and negative ions are attracted to the other side of the membrane. This redistribution of charges takes time, after which the membrane reaches a steady state and no current flows. When the voltage across the membrane returns to its initial value (for example, when synaptic ion channels close), charges separated by the membrane flow again, discharging the membrane capacitance. \n"
   ]
  },
  {
   "cell_type": "markdown",
   "id": "1e8a349e",
   "metadata": {},
   "source": [
    "<a id=\"toc\"></a>\n",
    "# Table of Contents\n",
    "\n",
    "- [Introduction](#intro)\n",
    "- [Part I. Intracellular Recording of Membrane Potential](#one)\n",
    "- [Part II. Extracellular Recording of Membrane Potential](#two)\n",
    "- [Part III. Intracellular Recording of Membrane Potential (with capacitance)](#three)"
   ]
  },
  {
   "cell_type": "markdown",
   "id": "bf216e77",
   "metadata": {},
   "source": [
    "<a id=\"initialize\"></a>\n",
    "# Initialize Notebook"
   ]
  },
  {
   "cell_type": "code",
   "execution_count": null,
   "id": "adfb11bf",
   "metadata": {
    "tags": [
     "hide-input"
    ]
   },
   "outputs": [],
   "source": [
    "#@title Run this cell to initialize packages and functions { display-mode: \"form\" }\n",
    "\n",
    "import numpy as np\n",
    "import matplotlib.pyplot as plt"
   ]
  },
  {
   "cell_type": "markdown",
   "id": "12c5fe6d",
   "metadata": {},
   "source": [
    "<a id=\"one\"></a>\n",
    "# Part I. Intracellular Recording of Membrane Potential\n",
    "\n",
    "[TOC](#toc)\n",
    "\n",
    "Use the model cell resistance-based axon and a voltmeter to complete the following:\n",
    "- At the middle of the axon (node 5), place one electrode on the ‘inside’ of the membrane and one on the ‘outside’.\n",
    "- Set up a voltage across the membrane by attaching the voltage source across the cell membrane at the end of the axon (node 0). \n",
    "- Move the voltage source along the axon one node at a time until you reach node 10. \n",
    "> Record the voltage in the dictionary below by replacing the ```...``` with the value recorded at the corresponding node.\n"
   ]
  },
  {
   "cell_type": "code",
   "execution_count": null,
   "id": "68856cf7",
   "metadata": {},
   "outputs": [],
   "source": [
    "voltage_intracellular = {\n",
    "    '0' : ...,\n",
    "    '1' : ...,\n",
    "    '2' : ...,\n",
    "    '3' : ...,\n",
    "    '4' : ...,\n",
    "    '5' : ...,\n",
    "    '6' : ...,\n",
    "    '7' : ...,\n",
    "    '8' : ...,\n",
    "    '9' : ...,\n",
    "    '10' : ...\n",
    "}"
   ]
  },
  {
   "cell_type": "markdown",
   "id": "5ef0f912",
   "metadata": {},
   "source": [
    "Run the following code cell to plot your data"
   ]
  },
  {
   "cell_type": "code",
   "execution_count": null,
   "id": "692a3dc3",
   "metadata": {},
   "outputs": [],
   "source": [
    "#@markdown Run to plot data.\n",
    "\n",
    "nodes = list(map(int, list(voltage_intracellular.keys())))\n",
    "voltage = list(voltage_intracellular.values())\n",
    "\n",
    "plt.figure()\n",
    "plt.plot(nodes,voltage)"
   ]
  },
  {
   "cell_type": "markdown",
   "id": "1b6bd914-02a7-42e8-b0b5-f8727c31dfc7",
   "metadata": {},
   "source": [
    "<a id=\"two\"></a>\n",
    "# Part II. Extracellular Recording of Membrane Potential\n",
    "\n",
    "[TOC](#toc)\n",
    "\n",
    "Use the model cell resistance-based axon and a voltmeter to complete the following:\n",
    "- At the middle of the axon, place *both* electrodes on the ‘outside’ of the membrane, with one empty node between them (one electrode at node 4 and one at node 6).\n",
    "- Set up a voltage across the membrane by attaching the voltage source across the cell membrane at the end of the axon (node 0). \n",
    "- Move the voltage source along the axon one node at a time until you reach node 10. \n",
    "> Record the voltage in the dictionary below by replacing the ```...``` with the value recorded at the corresponding node.\n"
   ]
  },
  {
   "cell_type": "code",
   "execution_count": null,
   "id": "b916f74c-95c5-4284-bcb1-cd55563f1900",
   "metadata": {},
   "outputs": [],
   "source": [
    "voltage_extracellular = {\n",
    "    '0' : ...,\n",
    "    '1' : ...,\n",
    "    '2' : ...,\n",
    "    '3' : ...,\n",
    "    '4' : ...,\n",
    "    '5' : ...,\n",
    "    '6' : ...,\n",
    "    '7' : ...,\n",
    "    '8' : ...,\n",
    "    '9' : ...,\n",
    "    '10' : ...\n",
    "}"
   ]
  },
  {
   "cell_type": "markdown",
   "id": "777acaa2-c242-48ab-93a2-34d779a59c85",
   "metadata": {},
   "source": [
    "Run the following code cell to plot your data"
   ]
  },
  {
   "cell_type": "code",
   "execution_count": null,
   "id": "4cb6ed26-9e13-4c7a-ae16-232377a26e65",
   "metadata": {},
   "outputs": [],
   "source": [
    "#@markdown Run to plot data.\n",
    "\n",
    "nodes = list(map(int, list(voltage_extracellular.keys())))\n",
    "voltage = list(voltage_extracellular.values())\n",
    "\n",
    "plt.figure()\n",
    "plt.plot(nodes,voltage)"
   ]
  },
  {
   "cell_type": "markdown",
   "id": "93483fcf-3b08-4775-b462-13da16dea70d",
   "metadata": {},
   "source": [
    "<a id=\"three\"></a>\n",
    "# Part III. Intracellular Recording of Membrane Potential (with capacitance).\n",
    "\n",
    "[TOC](#toc)\n",
    "\n",
    "\"Stimulus Isolating Units\" are used to inject current into a circuit (for example, across a neuron's membrane). You can control the amplitude, duration, and frequency of the stimulus pulses. In this case, you will be using a \"square wave\" current (an instantaneous increase in current that is constant for some duration before instantaneously decreasing to 0). \n",
    "\n",
    "Use the model cell RC circuit and a voltmeter to complete the following:\n",
    "- Instead of recording measured voltages by hand, you will use the analog to digital converter to send the measurements to the computer for recording. \n",
    "> The electrodes are connected to a device called a NiUSB-6211 (National Instruments) and it has \"analog to digital\" (ADC) conversion circuitry inside. \n",
    "- Place one recording/measureing electrode on the ‘inside’ of the membrane and one recording/measureing electrode on the ‘outside’.\n",
    "- Set up the stimulus electrodes so that you can \"inject\" current into the model membrane (one stimulating electrode on the outside and one on the inside).\n",
    "> Note that a copy of the stimulus command is also being sent to the NiUSB ADC\n",
    "- Open the script in Desktop/BIOL247_FA22/Week1/Data called \"Nidaq_2Channel.bonsai\"\n",
    "- \"Disable\" the \"Matrix Writer\" node. \n",
    "- Hit play and double click on the \"Analog Input\" and \"Stimulus\" nodes. Make sure that you see a signal. You can apply a voltage across the recording electrodes with the battery to check that you are seeing what you think you should. \n",
    "- Turn on the stimulus and see what you notice. \n",
    "- \"Enable\" the \"Matrix Writer\" node to collect the data. \n",
    "- Upload the data file to the Colab session with the file manager and follow the rest of the steps below."
   ]
  },
  {
   "cell_type": "code",
   "execution_count": null,
   "id": "a15f2adc-8e89-44a7-a57a-8e871f594c3d",
   "metadata": {},
   "outputs": [],
   "source": []
  }
 ],
 "metadata": {
  "celltoolbar": "Tags",
  "kernelspec": {
   "display_name": "Python 3",
   "language": "python",
   "name": "python3"
  },
  "language_info": {
   "codemirror_mode": {
    "name": "ipython",
    "version": 3
   },
   "file_extension": ".py",
   "mimetype": "text/x-python",
   "name": "python",
   "nbconvert_exporter": "python",
   "pygments_lexer": "ipython3",
   "version": "3.9.12"
  }
 },
 "nbformat": 4,
 "nbformat_minor": 5
}
