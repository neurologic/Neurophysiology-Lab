{
 "cells": [
  {
   "cell_type": "markdown",
   "id": "104cdade",
   "metadata": {},
   "source": [
    "<a href=\"https://colab.research.google.com/github/neurologic/Neurophysiology-Lab/blob/main/week-1/Passive-Membrane-Properties.ipynb\" target=\"_blank\"><img alt=\"Open In Colab\" src=\"https://colab.research.google.com/assets/colab-badge.svg\"/></a>   "
   ]
  },
  {
   "cell_type": "markdown",
   "id": "dc3bc08b",
   "metadata": {},
   "source": [
    "<a id=\"intro\"></a>\n",
    "# Introduction\n",
    "\n",
    "Today you will use electrical circuit models of a passive cell membrane to introduce yourself to some of the basic components of your essential electrophysiology toolkit. You will interrogate some of the passive properties of neural membranes and compare the difference between membrane potentials recorded intracellularly and membrane potentials recorded extracellularly. \n",
    "\n",
    "Upon completion of the materials assigned in this module, you will be able to:\n",
    "- Describe passive properties of neural membranes that critically affect neural processing. \n",
    "- Use a voltage meter.\n",
    "- Understand how basic circuit components relate to fundamental physiological properties of neurons (Resistance, Capacitance, Serial, Parallel, Voltage, Current).\n",
    "- Store, manage, and visualize data on the computer.\n",
    "- Create figures that summarize your data and analysis - enabling you to discuss your results.\n"
   ]
  },
  {
   "cell_type": "markdown",
   "id": "f51b03e4",
   "metadata": {},
   "source": [
    "<a id=\"toc\"></a>\n",
    "# Table of Contents\n",
    "\n"
   ]
  },
  {
   "cell_type": "markdown",
   "id": "360a88cb",
   "metadata": {},
   "source": [
    "<a id=\"initialize\"></a>\n",
    "# Initialize Notebook"
   ]
  },
  {
   "cell_type": "code",
   "execution_count": 14,
   "id": "e3b37972",
   "metadata": {
    "tags": [
     "{",
     "\"tags\":",
     "[",
     "\"hide-input\"",
     "]",
     "}"
    ]
   },
   "outputs": [],
   "source": [
    "import numpy as np\n",
    "import matplotlib.pyplot as plt"
   ]
  },
  {
   "cell_type": "markdown",
   "id": "c93b0839",
   "metadata": {},
   "source": [
    "<a id=\"one\"></a>\n",
    "# Part I. Intracellular Recording of Membrane Potential\n",
    "\n",
    "Use the model cell axon and a voltmeter to complete the following:\n",
    "- At one end of the axon, place one electrode on the ‘inside’ of the membrane and one on the ‘outside’.\n",
    "- Set up a voltage across the membrane by attaching the voltage source across the cell membrane at one location along the axon. \n",
    "> For each node placement, record the voltage measured with the recording electrodes and the distance of the voltage source from the recording electrodes (in number of nodes; - to the left, + to the right).\n",
    "- Move the voltage source to a different location along the axon. \n",
    "> Record the voltage in the dictionary below by replacing the ```...``` with the value recorded at the corresponding node\n"
   ]
  },
  {
   "cell_type": "code",
   "execution_count": 1,
   "id": "bc46237f",
   "metadata": {},
   "outputs": [],
   "source": [
    "voltage_intracellular = {\n",
    "    '-5' : ...,\n",
    "    '-4' : ...,\n",
    "    '-3' : ...,\n",
    "    '-2' : ...,\n",
    "    '-1' : ...,\n",
    "    '0' : ...,\n",
    "    '1' : ...,\n",
    "    '2' : ...,\n",
    "    '3' : ...,\n",
    "    '4' : ...,\n",
    "    '5' : ...\n",
    "}\n"
   ]
  },
  {
   "cell_type": "code",
   "execution_count": 2,
   "id": "91659f2a",
   "metadata": {},
   "outputs": [],
   "source": [
    "voltage_intracellular = {\n",
    "    '-5' : 1,\n",
    "    '-4' : 2,\n",
    "    '-3' : 3,\n",
    "    '-2' : 4,\n",
    "    '-1' : 5,\n",
    "    '0' : 6,\n",
    "    '1' : 5,\n",
    "    '2' : 4,\n",
    "    '3' : 3,\n",
    "    '4' : 2,\n",
    "    '5' : 1\n",
    "}"
   ]
  },
  {
   "cell_type": "markdown",
   "id": "38fba0eb",
   "metadata": {},
   "source": [
    "Run the following code cell to plot your data"
   ]
  },
  {
   "cell_type": "code",
   "execution_count": 9,
   "id": "d99877c7",
   "metadata": {},
   "outputs": [],
   "source": [
    "\n",
    "nodes = list(map(int, list(voltage_intracellular.keys())))\n",
    "voltage = list(voltage_intracellular.values())"
   ]
  },
  {
   "cell_type": "code",
   "execution_count": 11,
   "id": "b1fbe0c6",
   "metadata": {},
   "outputs": [
    {
     "data": {
      "text/plain": [
       "[<matplotlib.lines.Line2D at 0x7fec90eba190>]"
      ]
     },
     "execution_count": 11,
     "metadata": {},
     "output_type": "execute_result"
    },
    {
     "data": {
      "image/png": "[encoded data removed]",
      "text/plain": [
       "<Figure size 432x288 with 1 Axes>"
      ]
     },
     "metadata": {
      "needs_background": "light"
     },
     "output_type": "display_data"
    }
   ],
   "source": [
    "plt.figure()\n",
    "plt.plot(nodes,voltage)"
   ]
  }
 ],
 "metadata": {
  "celltoolbar": "Tags",
  "kernelspec": {
   "display_name": "Python 3 (ipykernel)",
   "language": "python",
   "name": "python3"
  },
  "language_info": {
   "codemirror_mode": {
    "name": "ipython",
    "version": 3
   },
   "file_extension": ".py",
   "mimetype": "text/x-python",
   "name": "python",
   "nbconvert_exporter": "python",
   "pygments_lexer": "ipython3",
   "version": "3.8.13"
  }
 },
 "nbformat": 4,
 "nbformat_minor": 5
}
