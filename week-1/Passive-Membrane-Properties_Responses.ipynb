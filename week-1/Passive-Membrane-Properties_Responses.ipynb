{
 "cells": [
  {
   "cell_type": "markdown",
   "id": "a0b35a86-681a-45ea-ae2b-c1f07a125bd1",
   "metadata": {},
   "source": [
    "<a href=\"https://colab.research.google.com/github/neurologic/Neurophysiology-Lab/blob/main/week-1/Passive-Membrane-Properties_Responses.ipynb\" target=\"_blank\"><img alt=\"Open In Colab\" src=\"https://colab.research.google.com/assets/colab-badge.svg\"/></a>   "
   ]
  },
  {
   "cell_type": "markdown",
   "id": "31aa5dd4-2870-496e-bfcc-ef60a4f49cd4",
   "metadata": {},
   "source": [
    "# Responses\n",
    "\n",
    "Markdown cells awaiting your responses to the following questions contain ```...```\n",
    "\n",
    "Edit these cells by replacing ```...``` with your responses. \n",
    "\n",
    "---"
   ]
  },
  {
   "cell_type": "markdown",
   "id": "355ea6c8-83a7-4eb3-b504-388aaa5e03a3",
   "metadata": {},
   "source": [
    "In the absence of any passive or voltage-gated ion channels in the neuron membrane, what would determine the voltage across the membrane?"
   ]
  },
  {
   "cell_type": "markdown",
   "id": "c3805e92-8205-4ba7-be00-f8b71a0257c1",
   "metadata": {},
   "source": [
    "..."
   ]
  },
  {
   "cell_type": "markdown",
   "id": "077bcb2b-324c-43d2-b2c6-ac92e111d1d2",
   "metadata": {},
   "source": [
    "Draw what you think the equivalent electrical circuit of a neuron's membrane would look like in this scenario."
   ]
  },
  {
   "cell_type": "markdown",
   "id": "583e2353-aea1-4363-a87e-8674dd03dfae",
   "metadata": {},
   "source": [
    "```{hint} \n",
    "Insert an image from your google drive in this markdown cell by doing the following... \n",
    "\n",
    "Get the \"Anyone can view\" share link from google drive. \n",
    "With a  share link in the following format: https://drive.google.com/file/d/ID-of-image-/view?usp=sharing,\n",
    "all you need is the *ID-of-image* from the URL share link. \n",
    "\n",
    "Enter editing mode on this Markdown cell if needed.\n",
    "\n",
    "In the following URL, replace *1WoAa-oMOkAj9r9lyls4nLSLyIeuTu4Ae* with the just the ID from the link you see in google drive's \"share link\" screen.\n",
    "\n",
    "Then \"run\" this markdown cell (or double click it). Your image will replace the one below.\n",
    "\n",
    "```\n",
    "\n",
    "<img src='https://drive.google.com/uc?id=1WoAa-oMOkAj9r9lyls4nLSLyIeuTu4Ae' width=\"300\" >"
   ]
  },
  {
   "cell_type": "markdown",
   "id": "560e69c4-db40-4416-bbef-c53c8cb387a7",
   "metadata": {},
   "source": [
    "What electrical circuit component that you used in this lab best describes ion channels in the cell membrane?"
   ]
  },
  {
   "cell_type": "markdown",
   "id": "7da8cd6d-3fe3-4590-8222-818ff3cba53b",
   "metadata": {},
   "source": [
    "..."
   ]
  },
  {
   "cell_type": "markdown",
   "id": "b01d99cf-b8b2-4e17-a87a-55d8a7de55fb",
   "metadata": {},
   "source": [
    "When a set of ion channels (selective for Potassium, for example) opens, what happens to the resistance of the membrane?"
   ]
  },
  {
   "cell_type": "markdown",
   "id": "9c05dcec-15ea-474b-9d11-c3731f9876e5",
   "metadata": {},
   "source": [
    "..."
   ]
  },
  {
   "cell_type": "markdown",
   "id": "d7a45f53-42f5-4c4d-ae45-6a0b16d10177",
   "metadata": {},
   "source": [
    "When a set of ion channels (selective for Potassium, for example) opens, what happens to the conductance of the membrane?"
   ]
  },
  {
   "cell_type": "markdown",
   "id": "abd7dce2-1649-4f04-894b-37c25b303a84",
   "metadata": {},
   "source": [
    "..."
   ]
  },
  {
   "cell_type": "markdown",
   "id": "012555d0-391b-4692-973c-5aeefd0235dc",
   "metadata": {},
   "source": [
    "When you attach a voltage source across the model membrane, are you \"injecting a current\" or are you \"injecting a voltage\"?"
   ]
  },
  {
   "cell_type": "markdown",
   "id": "69ad8264-ade5-47d0-88ef-98d815223a37",
   "metadata": {},
   "source": [
    "..."
   ]
  },
  {
   "cell_type": "markdown",
   "id": "72f928ad-a571-40af-b08d-04618152423d",
   "metadata": {},
   "source": [
    "What is the biological equivalent of the battery in the passive membrane electrical circuit model?"
   ]
  },
  {
   "cell_type": "markdown",
   "id": "6ba28ec6-b4a7-41c5-9a7b-7f3a825cd6d2",
   "metadata": {},
   "source": [
    "..."
   ]
  },
  {
   "cell_type": "markdown",
   "id": "42131bda-39ae-44ea-ae6e-d50e1f779816",
   "metadata": {},
   "source": [
    "What part of the action potential were you simulating in the first part of the lab (modeling intracellular versus extracellular recordings). And which ion conductance did this most closely simulate?"
   ]
  },
  {
   "cell_type": "markdown",
   "id": "4654ed8f-b96a-451d-bca2-0d6b0085ffa2",
   "metadata": {},
   "source": [
    "..."
   ]
  },
  {
   "cell_type": "markdown",
   "id": "b86afd1a-6b94-429d-b011-c14b43d3889b",
   "metadata": {},
   "source": [
    "Would you expect small neurons to have higher or lower membrane resistance than large neurons?"
   ]
  },
  {
   "cell_type": "markdown",
   "id": "e2c19d73-7b43-44e0-ab67-e1e961f5ce24",
   "metadata": {},
   "source": [
    "..."
   ]
  },
  {
   "cell_type": "markdown",
   "id": "d19fa91f-f39a-41dc-90c4-549bbf425129",
   "metadata": {},
   "source": [
    "Would you expect small neurons to have higher or lower capacitance than large neurons?"
   ]
  },
  {
   "cell_type": "markdown",
   "id": "4eedeade-545b-407d-b84f-cf35de4d2483",
   "metadata": {},
   "source": [
    "..."
   ]
  }
 ],
 "metadata": {
  "kernelspec": {
   "display_name": "Python 3 (ipykernel)",
   "language": "python",
   "name": "python3"
  },
  "language_info": {
   "codemirror_mode": {
    "name": "ipython",
    "version": 3
   },
   "file_extension": ".py",
   "mimetype": "text/x-python",
   "name": "python",
   "nbconvert_exporter": "python",
   "pygments_lexer": "ipython3",
   "version": "3.8.13"
  }
 },
 "nbformat": 4,
 "nbformat_minor": 5
}
