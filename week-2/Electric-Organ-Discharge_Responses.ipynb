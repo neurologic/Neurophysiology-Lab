{
 "cells": [
  {
   "cell_type": "markdown",
   "id": "0a9c8b35-24ab-417d-845c-1e9401344717",
   "metadata": {},
   "source": [
    "# Responses"
   ]
  },
  {
   "cell_type": "markdown",
   "id": "7b4b611a-75be-4672-8d29-f40e4b00639f",
   "metadata": {},
   "source": [
    "For each species, what was the approximate duration of the EOD?"
   ]
  },
  {
   "cell_type": "markdown",
   "id": "46504f4e-4ba9-42a7-a4ec-35af2b1645fc",
   "metadata": {},
   "source": [
    "..."
   ]
  },
  {
   "cell_type": "markdown",
   "id": "6bd1698f-d923-4ef4-acfc-869f3f7338bd",
   "metadata": {},
   "source": [
    "Report the results of the bootstrapped average EOD rate analysis, comparing across all species tested. Include a figure with the scatter boxplot overlay of the analysis for each species. In the legend specify the parameters you used for the analysis (and the total duration of data for each species used in the analysis). "
   ]
  },
  {
   "cell_type": "markdown",
   "id": "fbb98fa2-452d-470c-bea9-11f982b2539f",
   "metadata": {},
   "source": [
    "..."
   ]
  },
  {
   "cell_type": "markdown",
   "id": "bd208292-4b72-4d06-bf1c-c9c370cb5b84",
   "metadata": {},
   "source": [
    "How do isi and rate relate?"
   ]
  },
  {
   "cell_type": "markdown",
   "id": "fb32a0ee-7ca8-43b4-9350-b545ea844685",
   "metadata": {},
   "source": [
    "..."
   ]
  },
  {
   "cell_type": "markdown",
   "id": "d2b5847e-1810-4d42-96b8-7c1cc285e5cd",
   "metadata": {},
   "source": [
    "How did the average EOD rate (total average) that you wrote a script to calculate compare to the boostrapped average?"
   ]
  },
  {
   "cell_type": "markdown",
   "id": "b8672345-2f6d-4c9a-88ea-682d6db274b8",
   "metadata": {},
   "source": [
    "..."
   ]
  },
  {
   "cell_type": "markdown",
   "id": "b9004dc9-2ee1-44f6-b2e3-58973f28f973",
   "metadata": {},
   "source": []
  },
  {
   "cell_type": "markdown",
   "id": "1a627583-145c-486d-95ac-af7bf26b26d2",
   "metadata": {},
   "source": [
    "..."
   ]
  },
  {
   "cell_type": "markdown",
   "id": "3fe4f79e-70d0-402b-8095-e07b2b249c78",
   "metadata": {},
   "source": []
  },
  {
   "cell_type": "markdown",
   "id": "955bc444-373b-4b5c-b216-632676dee5f7",
   "metadata": {},
   "source": [
    "..."
   ]
  },
  {
   "cell_type": "code",
   "execution_count": null,
   "id": "e62cbdab-05ba-4473-b359-bc4c2712f2c8",
   "metadata": {},
   "outputs": [],
   "source": []
  }
 ],
 "metadata": {
  "kernelspec": {
   "display_name": "Python 3 (ipykernel)",
   "language": "python",
   "name": "python3"
  },
  "language_info": {
   "codemirror_mode": {
    "name": "ipython",
    "version": 3
   },
   "file_extension": ".py",
   "mimetype": "text/x-python",
   "name": "python",
   "nbconvert_exporter": "python",
   "pygments_lexer": "ipython3",
   "version": "3.8.13"
  },
  "widgets": {
   "application/vnd.jupyter.widget-state+json": {
    "state": {},
    "version_major": 2,
    "version_minor": 0
   }
  }
 },
 "nbformat": 4,
 "nbformat_minor": 5
}
