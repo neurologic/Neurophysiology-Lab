{
 "cells": [
  {
   "cell_type": "markdown",
   "id": "a752aef5-41be-40e5-bc41-4b3db9045e2e",
   "metadata": {},
   "source": [
    "<a id=\"intro\"></a>\n",
    "# Electric Organ Discharge\n",
    "\n",
    "Event detection and sorting\n",
    "Time series analysis\n",
    "- rate\n",
    "- isi\n",
    "- smoothed probability\n",
    "\n",
    "<img src='https://github.com/neurologic/Neurophysiology-Lab/blob/main/images/weakly-electric-fish-efield-current_Kramer.jpeg?raw=True' width=\"300\" alt='eod e-field'/>\n",
    "\n",
    "<img src='https://github.com/neurologic/Neurophysiology-Lab/blob/main/images/example-eods_Kramer.jpeg?raw=True' width=\"300\" alt='eod e-field'/>\n",
    "<figcaption align = \"center\"><b>Electric organ discharge waveform and sex, in three snoutfish species of southern Africa. All electric organ discharges represented as voltage over time, recorded in the field immediately after capture. Same time bar for all. (a) Sexual dimorphism in Marcusenius altisambesi with two distinct waveforms. (b) Sex difference of only a statistical nature in Petrocephalus catostoma (Upper Zambezi form) with, in most males, a stronger second positive phase than in females, such as shown here. (c) Petrocephalus wesselsi (Sabie River, South Africa) with no difference between the sexes. P. wesselsi was recognized as distinct from P. catostoma only recently.\n",
    "\n",
    "Fig.1 - 4K Mountains Wallpaper</b></figcaption>\n",
    "</figure>\n",
    "\n",
    "<img src='https://github.com/neurologic/Neurophysiology-Lab/blob/main/images/weakly-electric-fish-Efields-locate-communicate.jpeg?raw=True' width=\"300\" alt='eod e-field'/>"
   ]
  },
  {
   "cell_type": "markdown",
   "id": "87af53e9-6465-420e-89b9-68f2d9417a38",
   "metadata": {},
   "source": [
    "<a id=\"toc\"></a>\n",
    "# Table of Contents\n",
    "\n",
    "- [Introduction](#intro)"
   ]
  },
  {
   "cell_type": "code",
   "execution_count": null,
   "id": "5b074fc7-52ae-47d8-9538-f5bb90661847",
   "metadata": {},
   "outputs": [],
   "source": []
  }
 ],
 "metadata": {
  "kernelspec": {
   "display_name": "Python 3",
   "language": "python",
   "name": "python3"
  },
  "language_info": {
   "codemirror_mode": {
    "name": "ipython",
    "version": 3
   },
   "file_extension": ".py",
   "mimetype": "text/x-python",
   "name": "python",
   "nbconvert_exporter": "python",
   "pygments_lexer": "ipython3",
   "version": "3.9.12"
  },
  "widgets": {
   "application/vnd.jupyter.widget-state+json": {
    "state": {},
    "version_major": 2,
    "version_minor": 0
   }
  }
 },
 "nbformat": 4,
 "nbformat_minor": 5
}
