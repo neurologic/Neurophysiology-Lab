{
 "cells": [
  {
   "cell_type": "markdown",
   "id": "be5f366b-fc92-4733-975f-4e62bd3ec983",
   "metadata": {},
   "source": [
    "# Response Notebooks\n",
    "\n",
    "Response notebooks contain markdown cells for questions followed by markdown cells responses. The *response* markdown cells have elipses in them as a place holder. Replace the elipses with your reponse to the question. Double click on the markdown cell with elipses to write your response. Note that this can only be done once you open the response notebook in Colab. \n",
    "\n",
    "Click this <a href=\"https://colab.research.google.com/github/neurologic/Neurophysiology-Lab/blob/main/howto/Response-Notebooks.ipynb\" target=\"_blank\"><img alt=\"Open In Colab\" src=\"https://colab.research.google.com/assets/colab-badge.svg\"/></a> button to open this notebook on Colab. \n",
    "  "
   ]
  },
  {
   "cell_type": "markdown",
   "id": "0a01cc77-eee4-4998-a316-42b293964af2",
   "metadata": {},
   "source": [
    "## Example Response Prompt"
   ]
  },
  {
   "cell_type": "markdown",
   "id": "e4319ab0-d8c2-4480-988f-d94d37d30029",
   "metadata": {},
   "source": [
    "What baffles you the most about neurophysiology (how neurons do what they do to orchestrate our life)?"
   ]
  },
  {
   "cell_type": "markdown",
   "id": "3b7eb9c9-2efe-412d-8d02-bb5755333dcc",
   "metadata": {},
   "source": [
    "..."
   ]
  },
  {
   "cell_type": "markdown",
   "id": "7a975dd9-75ea-494b-b38b-cff3c562df2e",
   "metadata": {},
   "source": [
    "## Saving your work\n",
    "\n",
    "Your work is not saved when working in Colab on your web browser. If you close the tab, your work will be lost. \n",
    "\n",
    "***Before doing any work in the Response notebooks***, save a copy of the notebook in your Google Drive. Then, to return to your work at any time, you would open the notebook directly from your Google Drive (rather from the course website). "
   ]
  },
  {
   "cell_type": "markdown",
   "id": "904d46a2-c390-40be-9f2f-9050cdc92ca3",
   "metadata": {},
   "source": [
    "## Handing in your work\n",
    "\n",
    "In the **File** menu, select **Print**. Then \"Save as PDF\".\n",
    "\n",
    "[Upload the PDF to Gradescope](https://youtu.be/nksyA0s-Geo)."
   ]
  },
  {
   "cell_type": "code",
   "execution_count": null,
   "id": "785a3c28-850b-4875-8acc-3f094697ee67",
   "metadata": {},
   "outputs": [],
   "source": []
  }
 ],
 "metadata": {
  "kernelspec": {
   "display_name": "Python 3 (ipykernel)",
   "language": "python",
   "name": "python3"
  },
  "language_info": {
   "codemirror_mode": {
    "name": "ipython",
    "version": 3
   },
   "file_extension": ".py",
   "mimetype": "text/x-python",
   "name": "python",
   "nbconvert_exporter": "python",
   "pygments_lexer": "ipython3",
   "version": "3.8.13"
  },
  "widgets": {
   "application/vnd.jupyter.widget-state+json": {
    "state": {},
    "version_major": 2,
    "version_minor": 0
   }
  }
 },
 "nbformat": 4,
 "nbformat_minor": 5
}
