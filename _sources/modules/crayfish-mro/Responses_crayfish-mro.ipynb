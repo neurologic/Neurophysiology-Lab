{
 "cells": [
  {
   "cell_type": "markdown",
   "id": "2bcea47c-bd58-4eac-b259-f43405e8982d",
   "metadata": {},
   "source": [
    "# Responses\n",
    "\n",
    "<a href=\"https://colab.research.google.com/github/neurologic/Neurophysiology-Lab/blob/main/modules/crayfish-mro/Responses_crayfish-mro.ipynb\" target=\"_blank\"><img alt=\"Open In Colab\" src=\"https://colab.research.google.com/assets/colab-badge.svg\"/></a>   \n",
    "\n",
    "## Using the Data Explorer this week\n",
    "\n",
    "Read the prompts for this week before diving into the Colab Data Explorer for the week. There are lots of instructions in the Data Explorer that lead you through ***way more*** steps than you need to do for this week. The Prompts specify in what way you should be utilizing specific tools in the Data Explorer and to what extent. \n",
    "\n",
    "## The experimental setup\n",
    "\n",
    "The following videos were taken after the example data was recorded. They will give you more intuition for what you would have experienced during lab on Monday if it had worked well. Watch these videos before analyzing the example data.\n",
    "- Visualization of the tail curl with accompanying audio signal from the simulataneously measured Nerve 2 voltage.\n",
    "    - [View from above](https://drive.google.com/file/d/1C_r8oqC3bg1D4GtCpM_-_4kLVz2wiRFN/view?usp=share_link)\n",
    "    - [View from the side](https://drive.google.com/file/d/1qLIFPVwEeLE0TjvC-zzlBzs2EuJe0EYl/view?usp=share_link)\n",
    "- [Visualization of the raw signal from Nerve 2 with accompanying audio signal from the Nerve 2 voltage.](https://drive.google.com/file/d/1m000d2LM9ScgvhHKjuKEEZ2_Y11sCIRH/view?usp=sharing) The movement of the mouse across the computer screen is controlling the servo motor horn position (and therefore the amount of tail curl / MRO stretch).\n",
    "\n",
    "## Raw data\n",
    "\n",
    "Use [this raw data file](https://drive.google.com/file/d/1mB2hO60z0HTRsh-IsMOvaCz8YvHGPWoO/view?usp=sharing) (.bin) of the progressive step protocol. \n",
    "\n",
    "The sample rate was 30000 on two channels (channel 0 was the MRO signal and channel 1 was the stimulus monitor). The stimulus is a PWM signal to a servo motor to bend the tail. The recording was taken with the photographed preparation in the lab manual and the videos provided in the last section."
   ]
  },
  {
   "cell_type": "markdown",
   "id": "513c0ad9-f856-46a3-9a79-9bb0ca01811c",
   "metadata": {},
   "source": [
    "***Your Name:***"
   ]
  },
  {
   "cell_type": "markdown",
   "id": "971246d4-c92c-47c9-9958-5d1eefb589de",
   "metadata": {},
   "source": [
    "## Prompt 1\n",
    "(*10 points*)\n",
    "\n",
    "**Create Figure 1** with the following panels: \n",
    "- **A**) Example MRO receptor neuron action potential from the raw data (zoomed in and with an appropriate aspect ratio to interpret the waveform shape). Use the ***Dash Data Explorer*** to visualize and capture an image.\n",
    "    > This panel should help the reader better interpret your raw data in Panel B.\n",
    "- **B**) Example processed stimulus signal and associated MRO raw data with the time of spiking events overlaid on the raw data as a scatter (created using the ***Part I: Figure plotting tool 1 (MRO spike detection)***). Include about 1 sec before stretch onset and the first 2 sec of the stretch. Select a condition with a low enough spike rate to discern separation between spikes given this time range. \n",
    "    > This panel should convince a reader that the rest of your results accurately reflect the spiking activity of the MRO receptor neuron. \n",
    "- **C**) Example processed stimulus signal and associated MRO receptor neuron spike rate response on one trial in each of two conditions (created using the ***Part II: Analysis tool 1 (fitting an exponential model)*** *without* the exponential fit tool engaged). Include about 1 sec before stretch onset and about 3 sec after stretch offset. On the plot, annotate the **peak rate** and **steady state rate** for each condition (from the \"fit\" data that you obtained using the exponential fit tool in ***Part II: Analysis tool 1 (fitting an exponential model***). \n",
    "    > This panel should give a reader their own intuition for distinct qualitative features of the spike response to a sustained change in MRO stretch. Your annotation shows that you have correctly associated specific fit/model parameters from the bi-exponential equation to these qualitative features of the MRO receptor neuron response.\n",
    "    \n",
    "**Write a caption** to the figure that includes:  \n",
    "- A description for each figure including all information needed to assess your reported results in each panel.\n",
    "    > For example, in Figure 1A, you would include that the spike times (red) were determined by detecting peaks that were greater than the lower threshold (green), but lower than the upper threshold (orange).\n",
    "- A qualitative description of how MRO receptor neurons respond to MRO stretch (using the two conditions you have highlighted in panel C to scaffold your description). "
   ]
  },
  {
   "cell_type": "markdown",
   "id": "3587a936-c5ac-4bf7-b927-6ccb93134b61",
   "metadata": {},
   "source": [
    "...\n",
    "\n",
    "Insert your figure to accompany the text by replacing the \"id\" in the link below with the share link id from your photo. Control the size of the inserted image by changing the \"width\" value in the code.\n",
    "\n",
    "<img src='https://drive.google.com/uc?id=1WoAa-oMOkAj9r9lyls4nLSLyIeuTu4Ae' width=\"300\" >"
   ]
  },
  {
   "cell_type": "markdown",
   "id": "f29f8d65-6c8a-45d3-b71d-47c5b2491e4c",
   "metadata": {},
   "source": [
    "## Prompt 2\n",
    "(*6 points*)\n",
    "\n",
    "The MRO receptor neuron response on each trial was quantified by fitting a bi-exponential function to the MRO receptor neuron spike rate during the sustained stretch. \n",
    "\n",
    "<img src='https://drive.google.com/uc?id=1hzE2gLA9Gv1a9CW30ugMwJnHW7QQwZxs' width=\"700\" >\n",
    "\n",
    "\n",
    "**Figure 2**: ***Response Parameters Across Conditions.***  \n",
    "The tested conditions are reported in terms of the average PWM voltage command to the servo motor, which determined how much the tail was curled (and therefore how much the MRO was stretched).  \n",
    "**A**) A scatter plot of the peak (orange) and steady state (blue) MRO receptor neuron spike rates across conditions.  \n",
    "**B**) A scatter plot of the time constant (tau) of the first (blue) and second (orange) exponential functions of the bi-exponential fit to the MRO receptor neuron response.\n",
    "\n",
    "***Given Figure 2, answer/do the following***:\n",
    "1. Which exponential fit parameters seem to vary as a function of stretch and which do not seem to?\n",
    "2. Based on the results and your observation in \\#1, describe your conclusion about how the MRO receptor neuron encodes MRO stretch.\n",
    "3. Make a hypothesis about what mechanism could explain the spike rate decay over time. Provide some reasoning for your hypothesis.\n",
    "    > No need to do explicit research on this (if you do want to search literature, \"spike-frequency adaptation\" is a common term). Think about what causes the graded membrane potential changes in mechanoreceptor neurons in the first place, and then what effects the spike rate of neurons (driven by graded membrane potential changes). Think about what changes to a neuron's physiology could change its spike rate. Etc... For example, one mechanism could be a slow potassium conductance that is activated by more depolarized potentials. Can you think of others?\n",
    "4. Think about the challenge/paradox that spike rate decay poses to post-synaptic (\"downstream\") brain regions that need to decode information about stretch from the MRO receptor neuron response.\n",
    "5. There is a lot of research interested in figuring out the utility of \"spike rate/frequency adaptation\". Do a search for \"spike rate adaptation\" or \"spike frequency adaptation\" and find one paper that reports a useful reason for its existence in sensory processing. Report the citation of that paper (APA style is fine). \n",
    "    > You should be able to determine if it is an appropriate paper from the title and the abstract. You don't have to read it fully or fully understand their arguments... just enough to tell if the work is proposing a useful function for adaptation or not. "
   ]
  },
  {
   "cell_type": "markdown",
   "id": "2dbbcf77-3e25-4b49-ac1f-0e3471c61f60",
   "metadata": {},
   "source": [
    "..."
   ]
  }
 ],
 "metadata": {
  "kernelspec": {
   "display_name": "Python 3 (ipykernel)",
   "language": "python",
   "name": "python3"
  },
  "language_info": {
   "codemirror_mode": {
    "name": "ipython",
    "version": 3
   },
   "file_extension": ".py",
   "mimetype": "text/x-python",
   "name": "python",
   "nbconvert_exporter": "python",
   "pygments_lexer": "ipython3",
   "version": "3.8.13"
  },
  "widgets": {
   "application/vnd.jupyter.widget-state+json": {
    "state": {},
    "version_major": 2,
    "version_minor": 0
   }
  }
 },
 "nbformat": 4,
 "nbformat_minor": 5
}
